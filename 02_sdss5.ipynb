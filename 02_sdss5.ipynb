{
 "cells": [
  {
   "cell_type": "code",
   "execution_count": 1,
   "id": "f8e37f8c-248e-478e-881d-f566162b6368",
   "metadata": {},
   "outputs": [
    {
     "name": "stdout",
     "output_type": "stream",
     "text": [
      "using local paths\n",
      "star and exposure catalogs not found! check paths and run make_catalogs() if you want to use sdss functionality. otherwise ignore.\n",
      "Loading pixel_info ...\n",
      "Loading samples ...\n",
      "Loading best_fit ...\n",
      "Replacing NaNs in reliable distance estimates ...\n",
      "Sorting pixel_info ...\n",
      "Extracting hp_idx_sorted and data_idx at each nside ...\n",
      "  nside = 64\n",
      "  nside = 128\n",
      "  nside = 256\n",
      "  nside = 512\n",
      "  nside = 1024\n",
      "t = 58.606 s\n",
      "  pix_info:   1.297 s\n",
      "   samples:  26.412 s\n",
      "      best:  18.298 s\n",
      "       nan:   5.538 s\n",
      "      sort:   6.501 s\n",
      "       idx:   0.560 s\n"
     ]
    },
    {
     "name": "stderr",
     "output_type": "stream",
     "text": [
      "2022-07-14 14:27:02.081126: W tensorflow/stream_executor/platform/default/dso_loader.cc:64] Could not load dynamic library 'libcudart.so.11.0'; dlerror: libcudart.so.11.0: cannot open shared object file: No such file or directory\n",
      "2022-07-14 14:27:02.081211: I tensorflow/stream_executor/cuda/cudart_stub.cc:29] Ignore above cudart dlerror if you do not have a GPU set up on your machine.\n"
     ]
    },
    {
     "name": "stdout",
     "output_type": "stream",
     "text": [
      "Please install galpy if you want to use the gaia module. otherwise, ignore this.\n"
     ]
    }
   ],
   "source": [
    "from sklearn.cluster import KMeans\n",
    "import numpy as np\n",
    "import scipy as sp\n",
    "import sys\n",
    "sys.path.append('../corv/src')\n",
    "sys.path.append('../wdtools')\n",
    "\n",
    "import matplotlib.pyplot as plt\n",
    "import matplotlib.colors as colors\n",
    "from astropy.io import fits\n",
    "from astropy.table import Table\n",
    "from tqdm import tqdm\n",
    "import pandas as pd\n",
    "import corv\n",
    "\n",
    "### Query\n",
    "from astroquery.sdss import SDSS\n",
    "from astroquery.gaia import Gaia\n",
    "from astropy import constants as c\n",
    "import data_selector as ds\n",
    "import photoradius as pr\n",
    "\n",
    "import wdtools\n",
    "import corv\n"
   ]
  },
  {
   "cell_type": "code",
   "execution_count": 2,
   "id": "d77aadd7-61d5-4ecf-aa3f-779dcd988596",
   "metadata": {},
   "outputs": [
    {
     "name": "stdout",
     "output_type": "stream",
     "text": [
      "2000\n"
     ]
    }
   ],
   "source": [
    "d1 = pd.read_csv('data/wd_spectra.csv')\n",
    "d1 = Table.from_pandas(d1)\n",
    "\n",
    "catalog = Table.read('data/00_raw.I put together a python file that'll be eaiser to use. give me a few ill send itfits')\n",
    "print(len(catalog))"
   ]
  },
  {
   "cell_type": "code",
   "execution_count": 3,
   "id": "a5274229-486d-4132-84fc-b8e318e8765d",
   "metadata": {},
   "outputs": [],
   "source": [
    "spAll = Table.read('~/Downloads/spAll-master.fits')"
   ]
  },
  {
   "cell_type": "code",
   "execution_count": 1,
   "id": "7f9070f8-8608-4c4a-af63-660958a6e7d9",
   "metadata": {},
   "outputs": [
    {
     "ename": "NameError",
     "evalue": "name 'spAll' is not defined",
     "output_type": "error",
     "traceback": [
      "\u001b[0;31m---------------------------------------------------------------------------\u001b[0m",
      "\u001b[0;31mNameError\u001b[0m                                 Traceback (most recent call last)",
      "Input \u001b[0;32mIn [1]\u001b[0m, in \u001b[0;36m<cell line: 6>\u001b[0;34m()\u001b[0m\n\u001b[1;32m      3\u001b[0m \u001b[38;5;28;01mfrom\u001b[39;00m \u001b[38;5;21;01mastropy\u001b[39;00m\u001b[38;5;21;01m.\u001b[39;00m\u001b[38;5;21;01mtable\u001b[39;00m \u001b[38;5;28;01mimport\u001b[39;00m Table, join_skycoord\n\u001b[1;32m      4\u001b[0m \u001b[38;5;28;01mfrom\u001b[39;00m \u001b[38;5;21;01mastropy\u001b[39;00m \u001b[38;5;28;01mimport\u001b[39;00m table\n\u001b[0;32m----> 6\u001b[0m spAll \u001b[38;5;241m=\u001b[39m \u001b[43mspAll\u001b[49m[spAll[\u001b[38;5;124m'\u001b[39m\u001b[38;5;124mDECCAT\u001b[39m\u001b[38;5;124m'\u001b[39m] \u001b[38;5;241m<\u001b[39m \u001b[38;5;241m90\u001b[39m]\n\u001b[1;32m      7\u001b[0m spAll \u001b[38;5;241m=\u001b[39m spAll[spAll[\u001b[38;5;124m'\u001b[39m\u001b[38;5;124mDECCAT\u001b[39m\u001b[38;5;124m'\u001b[39m] \u001b[38;5;241m>\u001b[39m \u001b[38;5;241m-\u001b[39m\u001b[38;5;241m90\u001b[39m]\n\u001b[1;32m      9\u001b[0m catalog[\u001b[38;5;124m'\u001b[39m\u001b[38;5;124mwd_pos\u001b[39m\u001b[38;5;124m'\u001b[39m] \u001b[38;5;241m=\u001b[39m SkyCoord(catalog[\u001b[38;5;124m'\u001b[39m\u001b[38;5;124mwd_ra\u001b[39m\u001b[38;5;124m'\u001b[39m], catalog[\u001b[38;5;124m'\u001b[39m\u001b[38;5;124mwd_dec\u001b[39m\u001b[38;5;124m'\u001b[39m], unit\u001b[38;5;241m=\u001b[39m\u001b[38;5;124m'\u001b[39m\u001b[38;5;124mdeg\u001b[39m\u001b[38;5;124m'\u001b[39m)\n",
      "\u001b[0;31mNameError\u001b[0m: name 'spAll' is not defined"
     ]
    }
   ],
   "source": [
    "from astropy.coordinates import SkyCoord\n",
    "import astropy.units as u\n",
    "from astropy.table import Table, join_skycoord\n",
    "from astropy import table\n",
    "\n",
    "spAll = spAll[spAll['DECCAT'] < 90]\n",
    "spAll = spAll[spAll['DECCAT'] > -90]\n",
    "\n",
    "catalog['wd_pos'] = SkyCoord(catalog['wd_ra'], catalog['wd_dec'], unit='deg')\n",
    "spAll['wd_pos'] = SkyCoord(spAll['RACAT'], spAll['DECCAT'], unit='deg')\n",
    "\n",
    "join_func = table.join_skycoord(5 * u.arcsecond)\n",
    "sdss5_catalog = table.join(catalog, spAll, join_funcs={'wd_pos': join_skycoord(5 * u.arcsec)})"
   ]
  },
  {
   "cell_type": "code",
   "execution_count": null,
   "id": "7d44f59f-0655-4bc2-b6ed-2ad9e9405366",
   "metadata": {},
   "outputs": [],
   "source": [
    "print(sdss5_catalog[['wd_pos_id', 'wd_pos_1', 'wd_pos_2']])"
   ]
  },
  {
   "cell_type": "code",
   "execution_count": null,
   "id": "e442c96b-70fa-4817-ba9f-324083e4c0df",
   "metadata": {},
   "outputs": [],
   "source": [
    "from astropy.table import unique, Table\n",
    "\n",
    "def flux_to_mag(flux):\n",
    "    return 22.5 - 2.5 * np.log10(flux)\n",
    "\n",
    "#sdss5_catalog = sdss5_catalog[sdss5_catalog['CLASS'] == b\"STAR\"]\n",
    "\n",
    "keep = []\n",
    "\n",
    "for i in range(len(sdss5_catalog['CLASS'])):\n",
    "    if (sdss5_catalog['CLASS'][i] == sdss5_catalog['CLASS'][-1]) and ('WD' in sdss5_catalog['SUBCLASS'][i]):\n",
    "        keep.append(1)\n",
    "    else:\n",
    "        keep.append(0)\n",
    "        \n",
    "sdss5_catalog['KEEP'] = keep        \n",
    "sdss5_catalog = sdss5_catalog[sdss5_catalog['KEEP'] == 1]\n",
    "\n",
    "sdss5_catalog['UGRIZ'] = (flux_to_mag(sdss5_catalog['SPECTROFLUX']))\n",
    "sdss5_catalog['e_UGRIZ'] = (1 / sdss5_catalog['SPECTROFLUX_IVAR']) / sdss5_catalog['SPECTROFLUX']\n",
    "\n",
    "sdss5_catalog[['wd_pos_id','SPECOBJID','wd_l', 'wd_b', 'ms_parallax','UGRIZ', 'e_UGRIZ']].pprint(max_lines=-1, max_width=-1)\n",
    "sdss5_catalog = unique(sdss5_catalog, keys=['wd_pos_id'])\n",
    "sdss5_catalog[['wd_pos_id','SPECOBJID','wd_l', 'wd_b','UGRIZ', 'ms_parallax', 'e_UGRIZ']].pprint(max_lines=-1, max_width=-1)"
   ]
  },
  {
   "cell_type": "code",
   "execution_count": null,
   "id": "894f7a0a-4f88-4492-abc8-664b488b856c",
   "metadata": {},
   "outputs": [],
   "source": [
    "result = pr.find_radius(sdss5_catalog['wd_l'][0:1], sdss5_catalog['wd_b'][0:1], sdss5_catalog['ms_parallax'][0:1], sdss5_catalog['UGRIZ'][0:1], sdss5_catalog['e_UGRIZ'][0:1], make_plot = True)"
   ]
  },
  {
   "cell_type": "code",
   "execution_count": null,
   "id": "5acf3e52-ce94-43d5-a809-7ef38b5a7a56",
   "metadata": {},
   "outputs": [],
   "source": []
  }
 ],
 "metadata": {
  "kernelspec": {
   "display_name": "Python 3 (ipykernel)",
   "language": "python",
   "name": "python3"
  },
  "language_info": {
   "codemirror_mode": {
    "name": "ipython",
    "version": 3
   },
   "file_extension": ".py",
   "mimetype": "text/x-python",
   "name": "python",
   "nbconvert_exporter": "python",
   "pygments_lexer": "ipython3",
   "version": "3.8.3"
  }
 },
 "nbformat": 4,
 "nbformat_minor": 5
}
