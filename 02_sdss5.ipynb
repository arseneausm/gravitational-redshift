{
 "cells": [
  {
   "cell_type": "code",
   "execution_count": null,
   "id": "f8e37f8c-248e-478e-881d-f566162b6368",
   "metadata": {},
   "outputs": [
    {
     "name": "stdout",
     "output_type": "stream",
     "text": [
      "using local paths\n",
      "star and exposure catalogs not found! check paths and run make_catalogs() if you want to use sdss functionality. otherwise ignore.\n",
      "Loading pixel_info ...\n",
      "Loading samples ...\n"
     ]
    }
   ],
   "source": [
    "from sklearn.cluster import KMeans\n",
    "import numpy as np\n",
    "import scipy as sp\n",
    "import sys\n",
    "sys.path.append('../corv/src')\n",
    "sys.path.append('../wdtools')\n",
    "\n",
    "import matplotlib.pyplot as plt\n",
    "import matplotlib.colors as colors\n",
    "from astropy.io import fits\n",
    "from astropy.table import Table\n",
    "from tqdm import tqdm\n",
    "import pandas as pd\n",
    "import corv\n",
    "\n",
    "### Query\n",
    "from astroquery.sdss import SDSS\n",
    "from astroquery.gaia import Gaia\n",
    "from astropy import constants as c\n",
    "import data_selector as ds\n",
    "import photoradius as pr\n",
    "\n",
    "import wdtools\n",
    "import corv\n"
   ]
  },
  {
   "cell_type": "code",
   "execution_count": null,
   "id": "d77aadd7-61d5-4ecf-aa3f-779dcd988596",
   "metadata": {},
   "outputs": [],
   "source": [
    "d1 = pd.read_csv('data/wd_spectra.csv')\n",
    "d1 = Table.from_pandas(d1)\n",
    "\n",
    "catalog = Table.read('data/00_raw.fits')\n",
    "print(len(catalog))"
   ]
  },
  {
   "cell_type": "code",
   "execution_count": null,
   "id": "a5274229-486d-4132-84fc-b8e318e8765d",
   "metadata": {},
   "outputs": [],
   "source": [
    "spAll = Table.read('~/Downloads/spAll-master.fits')"
   ]
  },
  {
   "cell_type": "code",
   "execution_count": null,
   "id": "7f9070f8-8608-4c4a-af63-660958a6e7d9",
   "metadata": {},
   "outputs": [],
   "source": [
    "from astropy.coordinates import SkyCoord\n",
    "import astropy.units as u\n",
    "from astropy.table import Table, join_skycoord\n",
    "from astropy import table\n",
    "\n",
    "spAll = spAll[spAll['DECCAT'] < 90]\n",
    "spAll = spAll[spAll['DECCAT'] > -90]\n",
    "\n",
    "catalog['wd_pos'] = SkyCoord(catalog['wd_ra'], catalog['wd_dec'], unit='deg')\n",
    "spAll['wd_pos'] = SkyCoord(spAll['RACAT'], spAll['DECCAT'], unit='deg')\n",
    "\n",
    "join_func = table.join_skycoord(5 * u.arcsecond)\n",
    "sdss5_catalog = table.join(catalog, spAll, join_funcs={'wd_pos': join_skycoord(5 * u.arcsec)})"
   ]
  },
  {
   "cell_type": "code",
   "execution_count": null,
   "id": "7d44f59f-0655-4bc2-b6ed-2ad9e9405366",
   "metadata": {},
   "outputs": [],
   "source": [
    "print(sdss5_catalog[['wd_pos_id', 'wd_pos_1', 'wd_pos_2']])"
   ]
  },
  {
   "cell_type": "code",
   "execution_count": null,
   "id": "e442c96b-70fa-4817-ba9f-324083e4c0df",
   "metadata": {},
   "outputs": [],
   "source": [
    "from astropy.table import unique, Table\n",
    "\n",
    "def flux_to_mag(flux):\n",
    "    return 22.5 - 2.5 * np.log10(flux)\n",
    "\n",
    "#sdss5_catalog = sdss5_catalog[sdss5_catalog['CLASS'] == b\"STAR\"]\n",
    "\n",
    "keep = []\n",
    "\n",
    "for i in range(len(sdss5_catalog['CLASS'])):\n",
    "    if (sdss5_catalog['CLASS'][i] == sdss5_catalog['CLASS'][-1]) and ('WD' in sdss5_catalog['SUBCLASS'][i]):\n",
    "        keep.append(1)\n",
    "    else:\n",
    "        keep.append(0)\n",
    "        \n",
    "sdss5_catalog['KEEP'] = keep        \n",
    "sdss5_catalog = sdss5_catalog[sdss5_catalog['KEEP'] == 1]\n",
    "\n",
    "sdss5_catalog['UGRIZ'] = (flux_to_mag(sdss5_catalog['SPECTROFLUX']))\n",
    "sdss5_catalog['e_UGRIZ'] = (1 / sdss5_catalog['SPECTROFLUX_IVAR']) / sdss5_catalog['SPECTROFLUX']\n",
    "\n",
    "sdss5_catalog[['wd_pos_id','SPECOBJID','wd_l', 'wd_b', 'ms_parallax','UGRIZ', 'e_UGRIZ']].pprint(max_lines=-1, max_width=-1)\n",
    "sdss5_catalog = unique(sdss5_catalog, keys=['wd_pos_id'])\n",
    "sdss5_catalog[['wd_pos_id','SPECOBJID','wd_l', 'wd_b','UGRIZ', 'ms_parallax', 'e_UGRIZ']].pprint(max_lines=-1, max_width=-1)"
   ]
  },
  {
   "cell_type": "code",
   "execution_count": null,
   "id": "894f7a0a-4f88-4492-abc8-664b488b856c",
   "metadata": {},
   "outputs": [],
   "source": [
    "result = pr.find_radius(sdss5_catalog['wd_l'][0:1], sdss5_catalog['wd_b'][0:1], sdss5_catalog['ms_parallax'][0:1], sdss5_catalog['UGRIZ'][0:1], sdss5_catalog['e_UGRIZ'][0:1], make_plot = True)"
   ]
  },
  {
   "cell_type": "code",
   "execution_count": null,
   "id": "5acf3e52-ce94-43d5-a809-7ef38b5a7a56",
   "metadata": {},
   "outputs": [],
   "source": []
  }
 ],
 "metadata": {
  "kernelspec": {
   "display_name": "Python 3 (ipykernel)",
   "language": "python",
   "name": "python3"
  },
  "language_info": {
   "codemirror_mode": {
    "name": "ipython",
    "version": 3
   },
   "file_extension": ".py",
   "mimetype": "text/x-python",
   "name": "python",
   "nbconvert_exporter": "python",
   "pygments_lexer": "ipython3",
   "version": "3.8.3"
  }
 },
 "nbformat": 4,
 "nbformat_minor": 5
}
