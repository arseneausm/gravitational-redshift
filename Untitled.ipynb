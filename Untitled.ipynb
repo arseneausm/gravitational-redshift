{
 "cells": [
  {
   "cell_type": "code",
   "execution_count": 1,
   "metadata": {},
   "outputs": [],
   "source": [
    "# Install a pip package in the current Jupyter kernel\n",
    "import sys\n",
    "import os\n",
    "sys.path.append('../')\n",
    "sys.path.append('../corv/src')\n",
    "\n",
    "\n",
    "### General\n",
    "import numpy as np\n",
    "import matplotlib.pyplot as plt\n",
    "import matplotlib.colors as colors\n",
    "\n",
    "import astropy\n",
    "from astropy.coordinates import SkyCoord\n",
    "from astropy.io import fits\n",
    "import astropy.units as u\n",
    "from astropy.table import Table, Column, MaskedColumn, join\n",
    "\n",
    "from tqdm import tqdm\n",
    "import pandas as pd\n",
    "from scipy.optimize import curve_fit\n",
    "import scipy.stats as stats\n",
    "\n",
    "### Tools\n",
    "import WD_models\n",
    "from bisect import bisect_left\n",
    "import lmfit\n",
    "import glob\n",
    "\n",
    "from astroquery.sdss import SDSS\n",
    "from astroquery.gaia import Gaia\n",
    "\n",
    "#corv.sdss.make_catalogs()"
   ]
  },
  {
   "cell_type": "code",
   "execution_count": 2,
   "metadata": {},
   "outputs": [],
   "source": [
    "c = 2.998e10\n",
    "k = 1.38e-16\n",
    "h = 6.626e-27\n",
    "halpha = 6564.61\n",
    "hbeta = 4862.68\n",
    "hgamma = 4341.68\n",
    "hdelta = 4102.89\n",
    "speed_light = 299792458 #m/s\n",
    "radius_sun = 6.957e8\n",
    "mass_sun = 1.9884e30\n",
    "newton_G = 6.674e-11\n",
    "pc_to_m = 3.086775e16"
   ]
  },
  {
   "cell_type": "code",
   "execution_count": 3,
   "metadata": {},
   "outputs": [],
   "source": [
    "#from astroquery.sdss import SDSS\n",
    "\n",
    "#plate = 1739.0\n",
    "#mjd = 53050.0\n",
    "#fiber = 12.0\n",
    "#\n",
    "#sp = SDSS.get_spectra(plate = plate, mjd = mjd, fiberID = fiber)\n",
    "#\n",
    "#wl = 10**sp[0][1].data['LOGLAM']\n",
    "#fl = sp[0][1].data['FLUX']\n",
    "#ivar = sp[0][1].data['IVAR']"
   ]
  },
  {
   "cell_type": "code",
   "execution_count": 4,
   "metadata": {},
   "outputs": [],
   "source": [
    "#sys.path.append('../wdtools')\n",
    "#import wdtools\n",
    "#\n",
    "#lp = wdtools.LineProfiles(lines = ['alpha', 'beta', 'gamma', 'delta'])\n",
    "#results = lp.labels_from_spectrum(wl, fl, make_plot = True)"
   ]
  },
  {
   "cell_type": "code",
   "execution_count": 5,
   "metadata": {},
   "outputs": [],
   "source": [
    "#print('Teff = %i ± %i Kelvin' % (results[0], results[1]))\n",
    "#print('logg = %.2f ± %.2f log[cm/s^2]' % (results[2], results[3]))\n",
    "#\n",
    "#"
   ]
  },
  {
   "cell_type": "code",
   "execution_count": 6,
   "metadata": {},
   "outputs": [],
   "source": [
    "#sigmaG_0 = 0.0027553202\n",
    "#sigmaGBP_0 = 0.0027901700\n",
    "#sigmaGRP_0 = 0.0037793818\n",
    "#\n",
    "#dist = 1000 / 7.753535323624114\n",
    "#\n",
    "#obs_flux = np.array([2391.350158827254, 1708.1115796179904, 977.983869839747])\n",
    "#e_obs_flux = np.array([2.618347, 12.014357, 9.946958])\n",
    "#\n",
    "#obs_mag = np.array([17.240759, 17.257252, 17.272066])\n",
    "#e_obs_mag = np.array([np.sqrt((-2.5/np.log(10)*e_obs_flux[0]/obs_flux[0])**2 + sigmaG_0**2), \n",
    "#                               np.sqrt((-2.5/np.log(10)*e_obs_flux[1]/obs_flux[1])**2 + sigmaGBP_0**2), \n",
    "#                               np.sqrt((-2.5/np.log(10)*e_obs_flux[2]/obs_flux[2])**2 + sigmaGRP_0**2)])"
   ]
  },
  {
   "cell_type": "code",
   "execution_count": null,
   "metadata": {},
   "outputs": [],
   "source": []
  },
  {
   "cell_type": "code",
   "execution_count": 7,
   "metadata": {},
   "outputs": [
    {
     "name": "stdout",
     "output_type": "stream",
     "text": [
      "initialized with atm_type = H and bands = ['Su', 'Sg', 'Sr']\n",
      "initialized with atm_type = H and bands = ['G', 'bp', 'rp']\n"
     ]
    }
   ],
   "source": [
    "font_model = WD_models.load_model('f', 'f', 'f', 'H', HR_bands = ['bp-rp', 'G'])\n",
    "\n",
    "g_acc = (10**font_model['logg'])/100\n",
    "rsun = np.sqrt(font_model['mass_array'] * mass_sun * newton_G / g_acc) / radius_sun\n",
    "logg_teff_to_rsun = WD_models.interp_xy_z_func(x = font_model['logg'], y = 10**font_model['logteff'],\n",
    "                                            z = rsun, interp_type = 'linear')\n",
    "\n",
    "fitsed_sdss = WD_models.FitSED(to_flux = False, atm_type = 'H', bands = ['Su', 'Sg', 'Sr'])#, 'Si', 'Sz'])\n",
    "fitsed_gaia = WD_models.FitSED(to_flux = False, atm_type = 'H', bands = ['G', 'bp', 'rp'])#, 'Si', 'Sz'])"
   ]
  },
  {
   "cell_type": "code",
   "execution_count": 8,
   "metadata": {},
   "outputs": [],
   "source": [
    "def mag_to_flux(mag):\n",
    "    return 10 ** ((mag + 48.6)/ -2.5) \n",
    "\n",
    "def flux_to_mag(flux):\n",
    "    return -2.5 * np.log10(flux) - 48.60\n",
    "    \n",
    "def get_model_flux_gaia(params):\n",
    "    teff, logg, radius, distance = params['teff'], params['logg'], params['radius'], params['distance']\n",
    "    \n",
    "    model_mag = fitsed_gaia.model_sed(teff, logg, plx = 100)\n",
    "    model_flux = mag_to_flux(model_mag)\n",
    "    \n",
    "    rsun = logg_teff_to_rsun(logg, teff)\n",
    "    corr_radius = rsun * radius_sun\n",
    "    corr_distance = 10 * pc_to_m\n",
    "    \n",
    "    corr_model_flux = model_flux / (4 * np.pi * (corr_radius / corr_distance)**2)\n",
    "    \n",
    "    radius = radius * radius_sun # Rsun to meter\n",
    "    distance = distance * pc_to_m # Parsec to meter\n",
    "     \n",
    "    flux = corr_model_flux * ( 4 * np.pi * (radius / distance)**2 )\n",
    "    \n",
    "    return flux_to_mag(flux)\n",
    "    \n",
    "\n",
    "def residual_gaia(params, obs_flux = None, e_obs_flux = None):\n",
    "    model_flux = (get_model_flux_gaia(params))\n",
    "\n",
    "    chisquare = ((model_flux - obs_flux) / e_obs_flux)**2\n",
    "    \n",
    "    #chisquare[np.isnan(chisquare)] = 1e8\n",
    "    return chisquare"
   ]
  },
  {
   "cell_type": "code",
   "execution_count": 9,
   "metadata": {},
   "outputs": [],
   "source": [
    "def get_parameters_gaia(obs_mag, e_obs_mag, id_ = None, floor_error = 0.02, make_plot = False, vary_logg = False, p0 = [10000, 8, 0.01, 100]):    \n",
    "    e_obs_mag = np.sqrt(e_obs_mag**2 + floor_error**2)\n",
    "    \n",
    "    params = lmfit.Parameters()\n",
    "\n",
    "    params.add('teff', value = p0[0], min = 3500, max = 55000, vary = False)\n",
    "    params.add('logg', value = p0[1], min=7.5, max=9, vary=True)\n",
    "    params.add('radius', value = p0[2], min = 0.0001, max = 0.05, vary = False)\n",
    "    params.add('distance', value = p0[3], min = 1, max = 2000, vary = False)\n",
    "        \n",
    "    #result = lmfit.minimize(residual, params, kws = dict(obs_flux = obs_flux, e_obs_flux = e_obs_flux), method = 'emcee', steps = 5000, burn = 500, thin = 20, is_weighted = False, progress = False)\n",
    "    result = lmfit.minimize(residual_gaia, params, kws = dict(obs_flux = obs_mag, e_obs_flux = e_obs_mag), method = 'leastsq')\n",
    "    \n",
    "    #result.params.pretty_print()\n",
    "        \n",
    "    return result"
   ]
  },
  {
   "cell_type": "code",
   "execution_count": 10,
   "metadata": {},
   "outputs": [
    {
     "name": "stdout",
     "output_type": "stream",
     "text": [
      "Parameters([('teff', <Parameter 'teff', value=15500, bounds=[-inf:inf]>), ('logg', <Parameter 'logg', value=8, bounds=[-inf:inf]>), ('radius', <Parameter 'radius', value=0.01455, bounds=[-inf:inf]>), ('distance', <Parameter 'distance', value=55, bounds=[-inf:inf]>)])\n"
     ]
    }
   ],
   "source": [
    "teff = 15500\n",
    "logg = 8\n",
    "radius = 0.01455\n",
    "distance = 55\n",
    "\n",
    "params = lmfit.Parameters()\n",
    "    \n",
    "params.add('teff', value = teff)\n",
    "params.add('logg', value = logg)\n",
    "params.add('radius', value = radius)\n",
    "params.add('distance', value = distance)\n",
    "\n",
    "print(params)\n",
    "\n",
    "#obs_mag = get_model_flux_gaia(params)\n",
    "\n",
    "obs_mag = np.array([14.657778, 14.602667, 14.799134])\n",
    "e_obs_mag = np.array([0.00283389, 0.00306622, 0.00405291])"
   ]
  },
  {
   "cell_type": "code",
   "execution_count": 11,
   "metadata": {},
   "outputs": [
    {
     "data": {
      "text/plain": [
       "15500"
      ]
     },
     "execution_count": 11,
     "metadata": {},
     "output_type": "execute_result"
    }
   ],
   "source": [
    "teff"
   ]
  },
  {
   "cell_type": "code",
   "execution_count": 12,
   "metadata": {},
   "outputs": [],
   "source": [
    "param_new = get_parameters_gaia(obs_mag, e_obs_mag, p0 = [teff, logg, radius, distance]).params"
   ]
  },
  {
   "cell_type": "code",
   "execution_count": 13,
   "metadata": {},
   "outputs": [
    {
     "data": {
      "text/html": [
       "<table><tr><th> name </th><th> value </th><th> standard error </th><th> relative error </th><th> initial value </th><th> min </th><th> max </th><th> vary </th></tr><tr><td> teff </td><td>  15500.0000 </td><td>  0.00000000 </td><td> (0.00%) </td><td> 15500 </td><td>  3500.00000 </td><td>  55000.0000 </td><td> False </td></tr><tr><td> logg </td><td>  8.00000000 </td><td>  0.08514436 </td><td> (1.06%) </td><td> 8 </td><td>  7.50000000 </td><td>  9.00000000 </td><td> True </td></tr><tr><td> radius </td><td>  0.01455000 </td><td>  0.00000000 </td><td> (0.00%) </td><td> 0.01455 </td><td>  1.0000e-04 </td><td>  0.05000000 </td><td> False </td></tr><tr><td> distance </td><td>  55.0000000 </td><td>  0.00000000 </td><td> (0.00%) </td><td> 55 </td><td>  1.00000000 </td><td>  2000.00000 </td><td> False </td></tr></table>"
      ],
      "text/plain": [
       "Parameters([('teff', <Parameter 'teff', value=15500 (fixed), bounds=[3500:55000]>), ('logg', <Parameter 'logg', value=8.0 +/- 0.0851, bounds=[7.5:9]>), ('radius', <Parameter 'radius', value=0.01455 (fixed), bounds=[0.0001:0.05]>), ('distance', <Parameter 'distance', value=55 (fixed), bounds=[1:2000]>)])"
      ]
     },
     "execution_count": 13,
     "metadata": {},
     "output_type": "execute_result"
    }
   ],
   "source": [
    "param_new"
   ]
  },
  {
   "cell_type": "code",
   "execution_count": 14,
   "metadata": {},
   "outputs": [
    {
     "data": {
      "text/plain": [
       "<matplotlib.legend.Legend at 0x15552b161e50>"
      ]
     },
     "execution_count": 14,
     "metadata": {},
     "output_type": "execute_result"
    },
    {
     "data": {
      "image/png": "[encoded data removed]",
      "text/plain": [
       "<Figure size 576x504 with 1 Axes>"
      ]
     },
     "metadata": {
      "needs_background": "light"
     },
     "output_type": "display_data"
    }
   ],
   "source": [
    "bands = ['G', 'bp', 'rp']#, 'i', 'z']\n",
    "    \n",
    "fig = plt.figure(figsize = (8,7))\n",
    "plt.errorbar(bands, obs_mag,#, catalog['i'][i] + 0.015, catalog['z'][i] + 0.030],\n",
    "             yerr = e_obs_mag,#, catalog['i_err'][i], catalog['z_err'][i]],\n",
    "             linestyle = 'none', marker = 'None', color = 'k', capsize = 5, label = 'Observed SED')\n",
    "plt.plot(bands, get_model_flux_gaia(param_new), 'bo', markersize = 10, label = 'Model SED')\n",
    "\n",
    "plt.text(0.15, 0.25, r'$Teff = ${} $K$'.format(param_new['teff'].value), transform = plt.gca().transAxes, fontsize=20)\n",
    "plt.text(0.15, 0.20, r'$logg = ${} '.format(param_new['logg'].value), transform = plt.gca().transAxes, fontsize=20)\n",
    "plt.text(0.15, 0.30, r'$radius = ${:2.3f} $R_\\odot$'.format(param_new['radius'].value), transform = plt.gca().transAxes, fontsize=20)\n",
    "plt.text(0.15, 0.15, r'$dist = ${} $pc$'.format(param_new['distance'].value), transform = plt.gca().transAxes, fontsize=20)\n",
    "\n",
    "plt.xlabel('Band')\n",
    "plt.ylabel('Apparent Flux)')\n",
    "plt.gca().invert_yaxis()\n",
    "plt.legend() "
   ]
  },
  {
   "cell_type": "code",
   "execution_count": 37,
   "metadata": {},
   "outputs": [],
   "source": [
    "redchi = ((get_model_flux_gaia(param_new) - obs_mag)**2 / (e_obs_mag)**2)"
   ]
  },
  {
   "cell_type": "code",
   "execution_count": 38,
   "metadata": {},
   "outputs": [
    {
     "data": {
      "text/plain": [
       "array([14.69261599, 14.60161599, 14.79961599])"
      ]
     },
     "execution_count": 38,
     "metadata": {},
     "output_type": "execute_result"
    }
   ],
   "source": [
    "get_model_flux_gaia(param_new) "
   ]
  },
  {
   "cell_type": "code",
   "execution_count": 39,
   "metadata": {},
   "outputs": [
    {
     "data": {
      "text/plain": [
       "array([14.657778, 14.602667, 14.799134])"
      ]
     },
     "execution_count": 39,
     "metadata": {},
     "output_type": "execute_result"
    }
   ],
   "source": [
    "obs_mag"
   ]
  },
  {
   "cell_type": "code",
   "execution_count": 41,
   "metadata": {},
   "outputs": [
    {
     "name": "stdout",
     "output_type": "stream",
     "text": [
      "12.29869921503225\n"
     ]
    }
   ],
   "source": [
    "print(np.sqrt(sum(redchi)))"
   ]
  },
  {
   "cell_type": "code",
   "execution_count": 16,
   "metadata": {},
   "outputs": [],
   "source": [
    "#radius = np.linspace(0.0002, 0.049, 1000)\n",
    "#chi2 = []\n",
    "#paramsets = []\n",
    "#\n",
    "#for i in range(len(radius)):\n",
    "#    params = lmfit.Parameters()\n",
    "#    \n",
    "#    params.add('teff', value = teff)\n",
    "#    params.add('logg', value = logg)\n",
    "#    params.add('radius', value = radius[i])\n",
    "#    params.add('distance', value = distance)\n",
    "#        \n",
    "#    model_mag = get_model_flux_gaia(params)\n",
    "#        \n",
    "#    chi2.append(sum(((model_mag - obs_mag) / e_obs_mag)**2) / (len(model_mag) - 1))\n",
    "#    paramsets.append(params)"
   ]
  },
  {
   "cell_type": "code",
   "execution_count": 17,
   "metadata": {},
   "outputs": [],
   "source": [
    "#chi2[np.argmin(chi2)]"
   ]
  },
  {
   "cell_type": "code",
   "execution_count": 18,
   "metadata": {},
   "outputs": [],
   "source": [
    "#plt.figure(figsize=(8,7))\n",
    "#\n",
    "#plt.plot(radius, chi2)\n",
    "#\n",
    "#plt.xlabel(r'Radius $[R_\\odot]$', fontsize = 18)\n",
    "#plt.ylabel(r'$\\chi^2$', fontsize = 18)"
   ]
  },
  {
   "cell_type": "code",
   "execution_count": null,
   "metadata": {},
   "outputs": [],
   "source": []
  },
  {
   "cell_type": "code",
   "execution_count": null,
   "metadata": {},
   "outputs": [],
   "source": []
  }
 ],
 "metadata": {
  "kernelspec": {
   "display_name": "Python 3 (ipykernel)",
   "language": "python",
   "name": "python3"
  },
  "language_info": {
   "codemirror_mode": {
    "name": "ipython",
    "version": 3
   },
   "file_extension": ".py",
   "mimetype": "text/x-python",
   "name": "python",
   "nbconvert_exporter": "python",
   "pygments_lexer": "ipython3",
   "version": "3.9.13"
  }
 },
 "nbformat": 4,
 "nbformat_minor": 4
}
