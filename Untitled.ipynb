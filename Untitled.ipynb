{
 "cells": [
  {
   "cell_type": "code",
   "execution_count": 1,
   "id": "a2e4c012-6792-4b75-b762-d0eca5185aa1",
   "metadata": {},
   "outputs": [],
   "source": [
    "import numpy as np\n",
    "from astropy.table import Table, Column, MaskedColumn, join"
   ]
  },
  {
   "cell_type": "code",
   "execution_count": null,
   "id": "e5ceae01-7eb9-4177-8f9f-e0cedce7cfad",
   "metadata": {},
   "outputs": [],
   "source": [
    "catalog1 = Table.read('~/Downloads/wd_catalog.fits')\n",
    "catalog2 = Table.read('data/02_photometry.fits')"
   ]
  },
  {
   "cell_type": "code",
   "execution_count": null,
   "id": "81e04812-927e-433a-a302-48fd6d2feab3",
   "metadata": {},
   "outputs": [],
   "source": [
    "print('vedant average u: {:.2f} mag | my average u: {:.2f} mag '.format(np.mean(catalog1['u']), np.mean(catalog2['u'])))\n",
    "print('vedant average g: {:.2f} mag | my average g: {:.2f} mag '.format(np.mean(catalog1['g']), np.mean(catalog2['g'])))\n",
    "print('vedant average r: {:.2f} mag | my average r: {:.2f} mag '.format(np.mean(catalog1['r']), np.mean(catalog2['r'])))\n",
    "print('vedant average i: {:.2f} mag | my average i: {:.2f} mag '.format(np.mean(catalog1['i']), np.mean(catalog2['i'])))\n",
    "print('vedant average z: {:.2f} mag | my average z: {:.2f} mag '.format(np.mean(catalog1['z']), np.mean(catalog2['z'])))"
   ]
  },
  {
   "cell_type": "code",
   "execution_count": null,
   "id": "09e0fcdf-a164-4397-9dec-b623081026ce",
   "metadata": {},
   "outputs": [],
   "source": []
  },
  {
   "cell_type": "code",
   "execution_count": null,
   "id": "da15a2f3-d863-4586-be93-ad075fbf3528",
   "metadata": {},
   "outputs": [],
   "source": []
  }
 ],
 "metadata": {
  "kernelspec": {
   "display_name": "Python 3 (ipykernel)",
   "language": "python",
   "name": "python3"
  },
  "language_info": {
   "codemirror_mode": {
    "name": "ipython",
    "version": 3
   },
   "file_extension": ".py",
   "mimetype": "text/x-python",
   "name": "python",
   "nbconvert_exporter": "python",
   "pygments_lexer": "ipython3",
   "version": "3.8.3"
  }
 },
 "nbformat": 4,
 "nbformat_minor": 5
}
