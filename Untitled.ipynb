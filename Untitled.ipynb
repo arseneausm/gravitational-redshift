{
 "cells": [
  {
   "cell_type": "code",
   "execution_count": 1,
   "id": "8939927b-2f01-4283-ad37-ba5eb7273743",
   "metadata": {},
   "outputs": [],
   "source": [
    "# Install a pip package in the current Jupyter kernel\n",
    "import sys\n",
    "\n",
    "### General\n",
    "import numpy as np\n",
    "import matplotlib.pyplot as plt\n",
    "import matplotlib.colors as colors\n",
    "from astropy.io import fits\n",
    "from tqdm import tqdm\n",
    "import pandas as pd\n",
    "\n",
    "### Query\n",
    "from astroquery.sdss import SDSS\n",
    "from astroquery.gaia import Gaia"
   ]
  },
  {
   "cell_type": "code",
   "execution_count": null,
   "id": "989f2a04-7ad4-4641-982e-fe74740b44ef",
   "metadata": {},
   "outputs": [],
   "source": [
    "query1 = \"select s.bestObjID, s.specObjID, s.plate, s.mjd, s.fiberID \\\n",
    "    from SpecObj as s \\\n",
    "    where s.plate > 265\\\n",
    "    and s.plate < 3400\\\n",
    "    and s.class = \\'STAR\\'\"\n",
    "query2 = \"select s.bestObjID, s.specObjID, s.plate, s.mjd, s.fiberID \\\n",
    "    from SpecObj as s \\\n",
    "    where s.plate > 3400\\\n",
    "    and s.plate < 9004\\\n",
    "    and s.class = \\'STAR\\'\"\n",
    "            \n",
    "white_dwarf1= SDSS.query_sql(query1)\n",
    "white_dwarf2= SDSS.query_sql(query2)"
   ]
  }
 ],
 "metadata": {
  "kernelspec": {
   "display_name": "Python 3 (ipykernel)",
   "language": "python",
   "name": "python3"
  },
  "language_info": {
   "codemirror_mode": {
    "name": "ipython",
    "version": 3
   },
   "file_extension": ".py",
   "mimetype": "text/x-python",
   "name": "python",
   "nbconvert_exporter": "python",
   "pygments_lexer": "ipython3",
   "version": "3.9.7"
  }
 },
 "nbformat": 4,
 "nbformat_minor": 5
}
