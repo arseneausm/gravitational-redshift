{
 "cells": [
  {
   "cell_type": "code",
   "execution_count": 1,
   "id": "7083fe1a-938c-4fa5-916d-8395405b8504",
   "metadata": {},
   "outputs": [],
   "source": [
    "# Install a pip package in the current Jupyter kernel\n",
    "import sys\n",
    "\n",
    "### General\n",
    "import numpy as np\n",
    "import matplotlib.pyplot as plt\n",
    "import matplotlib.colors as colors\n",
    "from astropy.io import fits\n",
    "from astropy.table import Table, vstack\n",
    "from tqdm import tqdm\n",
    "import pandas as pd\n",
    "\n",
    "### Query\n",
    "from astroquery.sdss import SDSS\n",
    "from astroquery.gaia import Gaia"
   ]
  },
  {
   "cell_type": "code",
   "execution_count": 2,
   "id": "106fa20b-090f-4498-9b2b-a5801303579e",
   "metadata": {},
   "outputs": [],
   "source": [
    "hdul = fits.open('../external-dat/binaries/all_columns_catalog.fits')\n",
    "\n",
    "df = pd.DataFrame(hdul[1].data)"
   ]
  },
  {
   "cell_type": "code",
   "execution_count": 3,
   "id": "79e573ff-4e53-4b48-ac7a-76c40f4ae0e3",
   "metadata": {},
   "outputs": [],
   "source": [
    "from astropy.table import join\n",
    "\n",
    "catalog = df[ df['binary_type'] == 'WDMS']\n",
    "catalog.reset_index(inplace=True, drop=True)"
   ]
  },
  {
   "cell_type": "code",
   "execution_count": 4,
   "id": "93090720-003c-4d9d-8e17-5bd21a575f0b",
   "metadata": {},
   "outputs": [],
   "source": [
    "ADQL_CODE1 = \"SELECT \\\n",
    "    sdss.original_ext_source_id as bestobjid,\\\n",
    "    gaia_source.source_id\\\n",
    "    FROM gaiaedr3.gaia_source \\\n",
    "    JOIN gaiaedr3.sdssdr13_best_neighbour as sdss\\\n",
    "    ON gaia_source.source_id = sdss.source_id      \\\n",
    "    WHERE gaia_source.source_id IN {}\\\n",
    "\".format(tuple(catalog['source_id1']))\n",
    "ADQL_CODE2 = \"SELECT \\\n",
    "    sdss.original_ext_source_id as bestobjid,\\\n",
    "    gaia_source.source_id\\\n",
    "    FROM gaiaedr3.gaia_source \\\n",
    "    JOIN gaiaedr3.sdssdr13_best_neighbour as sdss\\\n",
    "    ON gaia_source.source_id = sdss.source_id      \\\n",
    "    WHERE gaia_source.source_id IN {}\\\n",
    "\".format(tuple(catalog['source_id2']))"
   ]
  },
  {
   "cell_type": "code",
   "execution_count": 5,
   "id": "6639702d-b1cd-4fac-8c69-e99b52aa766e",
   "metadata": {},
   "outputs": [
    {
     "name": "stdout",
     "output_type": "stream",
     "text": [
      "INFO: Query finished. [astroquery.utils.tap.core]\n",
      "INFO: Query finished. [astroquery.utils.tap.core]\n"
     ]
    }
   ],
   "source": [
    "job1 = Gaia.launch_job_async(ADQL_CODE1,dump_to_file=False)\n",
    "job2 = Gaia.launch_job_async(ADQL_CODE2,dump_to_file=False)\n",
    "\n",
    "d1 = job1.get_results()\n",
    "d2 = job2.get_results()"
   ]
  },
  {
   "cell_type": "code",
   "execution_count": 6,
   "id": "a244675d-3d12-4f44-849e-d1218278ef22",
   "metadata": {},
   "outputs": [
    {
     "name": "stdout",
     "output_type": "stream",
     "text": [
      "     bestobjid         source_id    \n",
      "------------------- ----------------\n",
      "1237678439166378089  974274676969216\n",
      "1237678619047624731 1243758105176192\n",
      "1237678619584561212 1350719970564224\n",
      "1237678621710286999 1727337062828928\n",
      "1237673328681681074 2469988447985792\n",
      "1237678622245912818 4719932835786752\n",
      "1237670014587109532 5474610129189376\n",
      "1237678623856263295 5815871050683904\n",
      "1237678623855870056 5862011883935744\n",
      "1237667227152744751 5870056358125440\n",
      "6391\n"
     ]
    }
   ],
   "source": [
    "print(d1[:10])\n",
    "print(len(d2))"
   ]
  },
  {
   "cell_type": "code",
   "execution_count": 7,
   "id": "b956f109-020b-4ab3-8c3b-1c75f207fc75",
   "metadata": {},
   "outputs": [
    {
     "name": "stderr",
     "output_type": "stream",
     "text": [
      "100%|██████████████████████████████████████████████████████████████████████████| 22563/22563 [00:15<00:00, 1425.31it/s]\n"
     ]
    }
   ],
   "source": [
    "drops = []\n",
    "bestobjid1 = []\n",
    "bestobjid2 = []\n",
    "\n",
    "for i in tqdm (range(len(catalog))):\n",
    "    notfound = False\n",
    "    a = np.where(d1['source_id'] == catalog['source_id1'][i])\n",
    "    b = np.where(d2['source_id'] == catalog['source_id2'][i])\n",
    "    \n",
    "    try:\n",
    "        j = a[0][0]\n",
    "        k = b[0][0]\n",
    "    except:\n",
    "        notfound = True\n",
    "        \n",
    "    if not notfound: \n",
    "        try:\n",
    "            bestobjid1.append(d1['bestobjid'][j])\n",
    "            bestobjid2.append(d2['bestobjid'][k])\n",
    "        except:\n",
    "            notfound = True\n",
    "    if notfound:\n",
    "        drops.append(i)    "
   ]
  },
  {
   "cell_type": "code",
   "execution_count": 8,
   "id": "e763f41c-9555-4bfc-aad2-5ec7481606eb",
   "metadata": {},
   "outputs": [],
   "source": [
    "catalog = catalog.drop(drops)\n",
    "catalog['bestobjid1'] = bestobjid1\n",
    "catalog['bestobjid2'] = bestobjid2\n",
    "catalog.reset_index(inplace=True, drop=True)\n",
    "tcatalog1 = catalog"
   ]
  },
  {
   "cell_type": "code",
   "execution_count": 9,
   "id": "08c0c7ae-667c-4884-b0ed-7802b9cdbc36",
   "metadata": {},
   "outputs": [],
   "source": [
    "SDSS_CODE1 = \"\"\"select sp.bestObjID, sp.specObjID, sp.plate, sp.fiberID, sp.mjd, sp.subclass, ph.u, ph.g, ph.r, ph.i, ph.z\n",
    "    from dbo.SpecObjAll as sp\n",
    "    join dbo.PhotoObjAll as ph \n",
    "    on sp.bestObjID = ph.objID\n",
    "    where sp.bestObjID > 1237648702985666868\n",
    "    and sp.bestObjID < 1237660529738105365\n",
    "    and sp.class = 'STAR'\"\"\"\n",
    "SDSS_CODE2 = \"\"\"select sp.bestObjID, sp.specObjID, sp.plate, sp.fiberID, sp.mjd, sp.subclass, ph.u, ph.g, ph.r, ph.i, ph.z\n",
    "    from dbo.SpecObjAll as sp\n",
    "    join dbo.PhotoObjAll as ph \n",
    "    on ph.objID = sp.bestObjID\n",
    "    where sp.bestObjID > 1237660529738105365\n",
    "    and sp.bestObjID < 1237670529738105366\n",
    "    and sp.class = 'STAR'\"\"\"\n",
    "SDSS_CODE3 = \"\"\"select sp.bestObjID, sp.specObjID, sp.plate, sp.fiberID, sp.mjd, sp.subclass, ph.u, ph.g, ph.r, ph.i, ph.z\n",
    "    from dbo.SpecObjAll as sp\n",
    "    join dbo.PhotoObjAll as ph \n",
    "    on ph.objID = sp.bestObjID\n",
    "    where sp.bestObjID > 1237670529738105366\n",
    "    and sp.bestObjID < 1237680529738105576\n",
    "    and sp.class = 'STAR'\"\"\""
   ]
  },
  {
   "cell_type": "code",
   "execution_count": 10,
   "id": "d139835e-27dc-48f8-9baf-252547595f2e",
   "metadata": {},
   "outputs": [
    {
     "name": "stderr",
     "output_type": "stream",
     "text": [
      "C:\\Users\\arsen\\anaconda3\\lib\\site-packages\\astroquery\\sdss\\core.py:874: VisibleDeprecationWarning: Reading unicode strings without specifying the encoding argument is deprecated. Set the encoding, use None for the system default.\n",
      "  arr = np.atleast_1d(np.genfromtxt(io.BytesIO(response.content),\n"
     ]
    },
    {
     "name": "stdout",
     "output_type": "stream",
     "text": [
      "   subclass   \n",
      "--------------\n",
      "            B6\n",
      " A4p (G_37-26)\n",
      "            F5\n",
      "            F9\n",
      "            A0\n",
      "            F9\n",
      "            CV\n",
      "M5III (221615)\n",
      "            K1\n",
      "            F9\n"
     ]
    }
   ],
   "source": [
    "convert1= SDSS.query_sql(SDSS_CODE1)\n",
    "convert2= SDSS.query_sql(SDSS_CODE2)\n",
    "convert3= SDSS.query_sql(SDSS_CODE3)\n",
    "\n",
    "print(convert1['subclass'][:10])"
   ]
  },
  {
   "cell_type": "code",
   "execution_count": 11,
   "id": "4c353955-6bb4-4204-a5e1-a83c234189a8",
   "metadata": {},
   "outputs": [
    {
     "name": "stdout",
     "output_type": "stream",
     "text": [
      "   subclass   \n",
      "--------------\n",
      "            B6\n",
      " A4p (G_37-26)\n",
      "            F5\n",
      "            F9\n",
      "            A0\n",
      "            F9\n",
      "            CV\n",
      "M5III (221615)\n",
      "            K1\n",
      "            F9\n",
      "           ...\n",
      "F3/F5V (30743)\n",
      "   F2V (33256)\n",
      "F3/F5V (30743)\n",
      "   K0V (10780)\n",
      "F3/F5V (30743)\n",
      "    G0 (63791)\n",
      "M5III (221615)\n",
      " M3III (44478)\n",
      " K5Ve (118100)\n",
      "F3/F5V (30743)\n",
      "     CalciumWD\n",
      "Length = 993190 rows\n"
     ]
    }
   ],
   "source": [
    "twide_convert = vstack([convert1, convert2, convert3])\n",
    "wide_convert = twide_convert\n",
    "print(wide_convert['subclass'])"
   ]
  },
  {
   "cell_type": "code",
   "execution_count": 12,
   "id": "d33730d6-aa81-4f33-8739-6e543009366c",
   "metadata": {},
   "outputs": [
    {
     "name": "stderr",
     "output_type": "stream",
     "text": [
      "100%|█████████████████████████████████████████████████████████████████████████████| 6291/6291 [00:14<00:00, 444.62it/s]\n",
      "  0%|                                                                                          | 0/175 [00:00<?, ?it/s]C:\\Users\\arsen\\anaconda3\\lib\\site-packages\\astroquery\\sdss\\core.py:874: VisibleDeprecationWarning: Reading unicode strings without specifying the encoding argument is deprecated. Set the encoding, use None for the system default.\n",
      "  arr = np.atleast_1d(np.genfromtxt(io.BytesIO(response.content),\n",
      "100%|███████████████████████████████████████████████████████████████████████████████| 175/175 [00:00<00:00, 519.12it/s]\n"
     ]
    }
   ],
   "source": [
    "def search(bestObjID):\n",
    "    sourceobjid = []\n",
    "    plate = []\n",
    "    mjd = []\n",
    "    fiberid = []\n",
    "    sclass = []\n",
    "    u = []\n",
    "    g = []\n",
    "    r = []\n",
    "    i = []\n",
    "    z = []\n",
    "    \n",
    "    url = []\n",
    "    \n",
    "    drops = []\n",
    "    \n",
    "    for i in tqdm(range(len(bestObjID))):\n",
    "        notfound = False\n",
    "        j = np.where(( bestObjID[i] == wide_convert['bestObjID'] ))\n",
    "        \n",
    "        try:\n",
    "            k = j[0][0]\n",
    "        except:\n",
    "            notfound = True\n",
    "            \n",
    "        if not notfound: \n",
    "            try:\n",
    "                sourceobjid.append(wide_convert['specObjID'][k])\n",
    "                plate.append(wide_convert['plate'][k])\n",
    "                mjd.append(wide_convert['mjd'][k])\n",
    "                fiberid.append(wide_convert['fiberID'][k])\n",
    "                try:\n",
    "                    sclass.append(wide_convert['subclass'][k])\n",
    "                except:\n",
    "                    pass\n",
    "                #u.append(wide_convert['u'][k])\n",
    "                #g.append(wide_convert['g'][k])\n",
    "                #r.append(wide_convert['r'][k])\n",
    "                #i.append(wide_convert['i'][k])\n",
    "                #z.append(wide_convert['z'][k])\n",
    "            except:\n",
    "                notfound = True\n",
    "        if notfound:\n",
    "            drops.append(i)  \n",
    "            \n",
    "    for i in tqdm(range(len(sourceobjid))):\n",
    "        xid = SDSS.get_spectra_async(plate=plate[i], fiberID=fiberid[i], mjd=mjd[i])\n",
    "        url.append(str(xid[0]).split(' ')[4])\n",
    "    \n",
    "    \n",
    "    return drops, sourceobjid, plate, mjd, fiberid, url, u, g, r,i,z, sclass\n",
    "\n",
    "drops1, sourceobjid1, plate1, mjd1, fiberID1, url1 ,u1,g1,r1,i1,z1, subclass1= search( catalog['bestobjid1'] )\n"
   ]
  },
  {
   "cell_type": "code",
   "execution_count": 13,
   "id": "8571d050-28f2-4455-8be3-6a246c5bc8ff",
   "metadata": {},
   "outputs": [
    {
     "name": "stdout",
     "output_type": "stream",
     "text": [
      "[]\n",
      "[]\n"
     ]
    }
   ],
   "source": [
    "print(u1)\n",
    "print(z1)"
   ]
  },
  {
   "cell_type": "code",
   "execution_count": 14,
   "id": "088d0029-13a6-471a-8495-5312b9512dc4",
   "metadata": {},
   "outputs": [
    {
     "name": "stdout",
     "output_type": "stream",
     "text": [
      "6291\n",
      "16272\n"
     ]
    }
   ],
   "source": [
    "print(len(catalog))\n",
    "print(len(drops))\n",
    "\n",
    "catalog = catalog.drop(drops1)\n",
    "\n",
    "catalog['specobjid1'] = sourceobjid1\n",
    "catalog['plate1'] = plate1\n",
    "catalog['mjd1'] = mjd1\n",
    "catalog['fiberID1'] = fiberID1\n",
    "catalog['url1'] = url1\n",
    "catalog['subclass1'] = subclass1\n",
    "#catalog['u1'] = u1\n",
    "#catalog['g1'] = g1\n",
    "#catalog['r1'] = r1\n",
    "#catalog['i1'] = i1\n",
    "#catalog['z1'] = z1\n",
    "\n",
    "'''\n",
    "\n",
    "catalog['specbjid2'] = sourceobjid2\n",
    "catalog['plate2'] = plate2\n",
    "catalog['mjd2'] = mjd2\n",
    "catalog['fiberID2'] = fiberID2\n",
    "catalog['url2'] = url2\n",
    "'''\n",
    "catalog.reset_index(inplace=True, drop=True)"
   ]
  },
  {
   "cell_type": "code",
   "execution_count": 15,
   "id": "440dffdb-7948-4d84-9056-fa58a10d6810",
   "metadata": {},
   "outputs": [
    {
     "name": "stdout",
     "output_type": "stream",
     "text": [
      "175\n"
     ]
    },
    {
     "name": "stderr",
     "output_type": "stream",
     "text": [
      "100%|███████████████████████████████████████████████████████████████████████████████| 175/175 [00:00<00:00, 448.11it/s]\n",
      "100%|█████████████████████████████████████████████████████████████████████████████████| 14/14 [00:00<00:00, 804.66it/s]\n"
     ]
    }
   ],
   "source": [
    "print(len(catalog))\n",
    "\n",
    "drops2, sourceobjid2, plate2, mjd2, fiberID2, url2, u2,g2,r2,i2,z2, subclass2 = search( catalog['bestobjid2'] )"
   ]
  },
  {
   "cell_type": "code",
   "execution_count": 16,
   "id": "15530b91-91e2-4cf1-99e5-21ab02531d93",
   "metadata": {},
   "outputs": [],
   "source": [
    "catalog = catalog.drop(drops2)\n",
    "\n",
    "catalog['specobjid2'] = sourceobjid2\n",
    "catalog['plate2'] = plate2\n",
    "catalog['mjd2'] = mjd2\n",
    "catalog['fiberID2'] = fiberID2\n",
    "catalog['url2'] = url2\n",
    "catalog['subclass2'] = subclass2\n",
    "#catalog['u2'] = u2\n",
    "#catalog['g2'] = g2\n",
    "#catalog['r2'] = r2\n",
    "#catalog['i2'] = i2\n",
    "#catalog['z2'] = z2\n",
    "\n",
    "catalog.reset_index(inplace=True, drop=True)"
   ]
  },
  {
   "cell_type": "code",
   "execution_count": 17,
   "id": "6d528994-3315-4179-a5fd-1573a40bcfa5",
   "metadata": {},
   "outputs": [
    {
     "name": "stdout",
     "output_type": "stream",
     "text": [
      "           solution_id1         solution_id2           source_id1  \\\n",
      "0   1636042515805110273  1636042515805110273   743097619303531904   \n",
      "1   1636042515805110273  1636042515805110273   617887567299257600   \n",
      "2   1636042515805110273  1636042515805110273  3846979117283617152   \n",
      "3   1636042515805110273  1636042515805110273  2534148150521389440   \n",
      "4   1636042515805110273  1636042515805110273  2534260777448123520   \n",
      "5   1636042515805110273  1636042515805110273  1261421999231535616   \n",
      "6   1636042515805110273  1636042515805110273  2688215052700206976   \n",
      "7   1636042515805110273  1636042515805110273  4030722598505336192   \n",
      "8   1636042515805110273  1636042515805110273  3245310308566177536   \n",
      "9   1636042515805110273  1636042515805110273  3264871552432918528   \n",
      "10  1636042515805110273  1636042515805110273  3928724924885805568   \n",
      "11  1636042515805110273  1636042515805110273   676167219784728576   \n",
      "12  1636042515805110273  1636042515805110273  3671977861604162048   \n",
      "13  1636042515805110273  1636042515805110273   921520658247153280   \n",
      "\n",
      "             source_id2  random_index1  random_index2  ref_epoch1  ref_epoch2  \\\n",
      "0    743097619303531776     1736632811      659310583      2016.0      2016.0   \n",
      "1    617887567299258752      155663293     1267487950      2016.0      2016.0   \n",
      "2   3846983485264812672      578974278      668193676      2016.0      2016.0   \n",
      "3   2534148146225857792      641648983      442348886      2016.0      2016.0   \n",
      "4   2534260777448123392     1220045538      989452066      2016.0      2016.0   \n",
      "5   1261422308468580480      618418666     1627437184      2016.0      2016.0   \n",
      "6   2688215048406240640      776524340     1204786778      2016.0      2016.0   \n",
      "7   4030722594210006784      324617370     1670649030      2016.0      2016.0   \n",
      "8   3245310308567156864     1353740750      955932754      2016.0      2016.0   \n",
      "9   3264871552432918784      742787936       26093434      2016.0      2016.0   \n",
      "10  3928724512568932992     1566887955     1346577692      2016.0      2016.0   \n",
      "11   676167215489980800     1027955054     1420735215      2016.0      2016.0   \n",
      "12  3671977891669036416     1006597507     1086737974      2016.0      2016.0   \n",
      "13   921518807117547904      249805182      528928061      2016.0      2016.0   \n",
      "\n",
      "           ra1         ra2  ...   mjd1  fiberID1  \\\n",
      "0   149.087276  149.087709  ...  56282        66   \n",
      "1   144.538649  144.538120  ...  54092       447   \n",
      "2   147.106408  147.340195  ...  55645       657   \n",
      "3    20.450497   20.447757  ...  52202        31   \n",
      "4    21.114439   21.108928  ...  55501       573   \n",
      "5   224.355161  224.357726  ...  54510       288   \n",
      "6   323.108471  323.107999  ...  53299       419   \n",
      "7   177.213235  177.210536  ...  53446       331   \n",
      "8    59.637267   59.637700  ...  53741       520   \n",
      "9    53.040207   53.038552  ...  52178       419   \n",
      "10  190.323826  190.304078  ...  53472       356   \n",
      "11  125.639739  125.641288  ...  53317        41   \n",
      "12  208.740817  208.727278  ...  52375       627   \n",
      "13  120.964228  120.847286  ...  52202       367   \n",
      "\n",
      "                                                 url1       subclass1  \\\n",
      "0   https://data.sdss.org/sas/dr14/sdss/spectro/re...        WDhotter   \n",
      "1   https://data.sdss.org/sas/dr14/sdss/spectro/re...              M4   \n",
      "2   https://data.sdss.org/sas/dr14/sdss/spectro/re...              CV   \n",
      "3   https://data.sdss.org/sas/dr14/sdss/spectro/re...              OB   \n",
      "4   https://data.sdss.org/sas/dr14/sdss/spectro/re...  M5III (221615)   \n",
      "5   https://data.sdss.org/sas/dr14/sdss/spectro/re...        CarbonWD   \n",
      "6   https://data.sdss.org/sas/dr14/sdss/spectro/re...              K7   \n",
      "7   https://data.sdss.org/sas/dr14/sdss/spectro/re...              M3   \n",
      "8   https://data.sdss.org/sas/dr14/sdss/spectro/re...              M5   \n",
      "9   https://data.sdss.org/sas/dr14/sdss/spectro/re...              M4   \n",
      "10  https://data.sdss.org/sas/dr14/sdss/spectro/re...              M4   \n",
      "11  https://data.sdss.org/sas/dr14/sdss/spectro/re...              M3   \n",
      "12  https://data.sdss.org/sas/dr14/sdss/spectro/re...              M7   \n",
      "13  https://data.sdss.org/sas/dr14/sdss/spectro/re...              M5   \n",
      "\n",
      "      specobjid2  plate2   mjd2  fiberID2  \\\n",
      "0   2.640320e+18    2345  53757       309   \n",
      "1   5.984249e+18    5315  55978       330   \n",
      "2   5.340335e+18    4743  55645       696   \n",
      "3   4.760370e+18    4228  55484       238   \n",
      "4   1.214965e+18    1079  52621       431   \n",
      "5   6.648442e+18    5905  56065        10   \n",
      "6   4.722238e+18    4194  55450       776   \n",
      "7   5.195127e+18    4614  55604       816   \n",
      "8   2.331882e+18    2071  53741       520   \n",
      "9   2.307095e+18    2049  53350       458   \n",
      "10  1.819464e+18    1616  53169        36   \n",
      "11  2.169737e+18    1927  53321       464   \n",
      "12  5.476412e+18    4864  55680       128   \n",
      "13  6.137043e+17     545  52202       323   \n",
      "\n",
      "                                                 url2       subclass2  \n",
      "0   https://data.sdss.org/sas/dr14/sdss/spectro/re...              M5  \n",
      "1   https://data.sdss.org/sas/dr14/sdss/spectro/re...        WDhotter  \n",
      "2   https://data.sdss.org/sas/dr14/sdss/spectro/re...  M6III (148783)  \n",
      "3   https://data.sdss.org/sas/dr14/sdss/spectro/re...  M5III (221615)  \n",
      "4   https://data.sdss.org/sas/dr14/sdss/spectro/re...              WD  \n",
      "5   https://data.sdss.org/sas/dr14/sdss/spectro/re...  M6III (148783)  \n",
      "6   https://data.sdss.org/sas/dr14/sdss/spectro/re...        WDhotter  \n",
      "7   https://data.sdss.org/sas/dr14/sdss/spectro/re...              CV  \n",
      "8   https://data.sdss.org/sas/dr14/sdss/spectro/re...              M5  \n",
      "9   https://data.sdss.org/sas/dr14/sdss/spectro/re...              WD  \n",
      "10  https://data.sdss.org/sas/dr14/sdss/spectro/re...              OB  \n",
      "11  https://data.sdss.org/sas/dr14/sdss/spectro/re...              WD  \n",
      "12  https://data.sdss.org/sas/dr14/sdss/spectro/re...        WDcooler  \n",
      "13  https://data.sdss.org/sas/dr14/sdss/spectro/re...              WD  \n",
      "\n",
      "[14 rows x 231 columns]\n"
     ]
    }
   ],
   "source": [
    "print(catalog)"
   ]
  },
  {
   "cell_type": "code",
   "execution_count": 18,
   "id": "66748c76-bd60-4b7f-9598-c23375a5dbd2",
   "metadata": {},
   "outputs": [],
   "source": [
    "catalog.to_csv('data/catalog_sdss4.csv')"
   ]
  },
  {
   "cell_type": "code",
   "execution_count": null,
   "id": "55c754b6-bac1-455b-a8eb-8a935057e684",
   "metadata": {},
   "outputs": [],
   "source": []
  }
 ],
 "metadata": {
  "kernelspec": {
   "display_name": "Python 3 (ipykernel)",
   "language": "python",
   "name": "python3"
  },
  "language_info": {
   "codemirror_mode": {
    "name": "ipython",
    "version": 3
   },
   "file_extension": ".py",
   "mimetype": "text/x-python",
   "name": "python",
   "nbconvert_exporter": "python",
   "pygments_lexer": "ipython3",
   "version": "3.9.7"
  }
 },
 "nbformat": 4,
 "nbformat_minor": 5
}
