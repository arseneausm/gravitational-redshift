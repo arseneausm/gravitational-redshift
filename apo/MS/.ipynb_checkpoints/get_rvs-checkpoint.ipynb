{
 "cells": [
  {
   "cell_type": "code",
   "execution_count": 10,
   "id": "3dd6ea1f-ae4b-4560-9a59-cabd4f7f673a",
   "metadata": {
    "tags": []
   },
   "outputs": [],
   "source": [
    "import glob\n",
    "import sys\n",
    "sys.path.append('../../../msrv-xc')\n",
    "import msrvxc\n",
    "\n",
    "import numpy as np\n",
    "import pickle\n",
    "\n",
    "from astropy.io import fits\n",
    "from astropy.table import Table\n",
    "\n",
    "from astropy.coordinates import SkyCoord\n",
    "import astropy.units as u"
   ]
  },
  {
   "cell_type": "code",
   "execution_count": 3,
   "id": "78ad3612-5071-4553-a2d5-5b1b1e292be5",
   "metadata": {
    "tags": []
   },
   "outputs": [],
   "source": [
    "with open('../../../msrv-xc/grids/interp_bosz.pkl', 'rb') as f:\n",
    "    interp_bosz = pickle.load(f)\n",
    "    \n",
    "with open('../../../msrv-xc/grids/interp_bosz_norm.pkl', 'rb') as f:\n",
    "    interp_bosz_norm = pickle.load(f)\n",
    "    \n",
    "wvl = np.load('../../../msrv-xc/grids/wavl.npy')"
   ]
  },
  {
   "cell_type": "code",
   "execution_count": 4,
   "id": "704211c4-96f4-48e5-8419-42a80d9dfe46",
   "metadata": {
    "tags": []
   },
   "outputs": [],
   "source": [
    "def continuum_normalize(wl, fl, ivar = None, avg_size = 150, ret_cont = False):\n",
    "    \n",
    "    fl_norm = np.zeros(np.size(fl))\n",
    "    fl_cont = np.zeros(np.size(fl))\n",
    "    \n",
    "    ivar_yes = 0\n",
    "    if ivar is not None:\n",
    "        ivar_yes = 1\n",
    "        ivar_norm = np.zeros(np.size(fl))\n",
    "        \n",
    "    for i in range(np.size(wl)):\n",
    "        wl_clip = ((wl[i]-avg_size/2)<wl) * (wl<(wl[i]+avg_size/2))\n",
    "        fl_cont[i] = np.median(fl[wl_clip])\n",
    "        if ivar_yes:\n",
    "            ivar_norm[i] = ivar[i]*np.median(fl[wl_clip])**2\n",
    "    \n",
    "    fl_norm = fl/fl_cont\n",
    "    \n",
    "    if ret_cont:\n",
    "        if ivar_yes:\n",
    "            return wl, fl_norm, ivar_norm, fl_cont\n",
    "        else:\n",
    "            return wl, fl_norm, fl_cont\n",
    "    else:\n",
    "        if ivar_yes:\n",
    "            return wl, fl_norm, ivar_norm\n",
    "        else:\n",
    "            return wl, fl_norm"
   ]
  },
  {
   "cell_type": "code",
   "execution_count": 5,
   "id": "4c66e8ee-553e-4736-916b-f6f2e3aa8e52",
   "metadata": {
    "tags": []
   },
   "outputs": [],
   "source": [
    "files = glob.glob('./*.fits')"
   ]
  },
  {
   "cell_type": "code",
   "execution_count": 8,
   "id": "b38b4aff-ff2e-47b0-b0f5-1ea81af089a6",
   "metadata": {
    "tags": []
   },
   "outputs": [
    {
     "name": "stderr",
     "output_type": "stream",
     "text": [
      "100%|██████████████████████████████████████████████████████████████████████████████████████████████████████████████████████████████████████████████████████████████████████| 10/10 [01:03<00:00,  6.31s/it]\n"
     ]
    }
   ],
   "source": [
    "from tqdm import tqdm\n",
    "\n",
    "names = []\n",
    "locs = []\n",
    "rvs = []\n",
    "e_rvs = []\n",
    "\n",
    "for file in tqdm(files):\n",
    "    f = fits.open(file)\n",
    "    \n",
    "    name = f[0].header['OBJNAME']\n",
    "    loc = SkyCoord(f[0].header['RA'], f[0].header['DEC'], unit=(u.hour, u.degree))\n",
    "    \n",
    "    ms_wl = f[0].header['CRVAL1'] + f[0].header['CD1_1'] * np.arange(f[0].data.shape[2])\n",
    "    ms_fl = f[0].data[0,0,:]\n",
    "    ms_ivar = f[0].data[3,0,:]**-2\n",
    "    \n",
    "    wl, fl, ivar = continuum_normalize(ms_wl, ms_fl, ms_ivar)\n",
    "    res, rv, e_rv, rvgrid, cc = msrvxc.fit.fit_rv(interp_bosz_norm, wvl, wl, fl, ivar, plot = False)\n",
    "\n",
    "    names.append(name)\n",
    "    locs.append(loc)\n",
    "    rvs.append(rv)\n",
    "    e_rvs.append(e_rv)"
   ]
  },
  {
   "cell_type": "code",
   "execution_count": 11,
   "id": "726d565c-54b7-40f2-8482-9b4c01a01323",
   "metadata": {
    "tags": []
   },
   "outputs": [],
   "source": [
    "t = Table([names, locs, rvs, e_rvs], names=('name', 'ms_loc', 'ms_rv', 'ms_e_rv'))"
   ]
  },
  {
   "cell_type": "code",
   "execution_count": 32,
   "id": "9a82cd0c-f20a-4432-bfbb-c80d57f23762",
   "metadata": {
    "tags": []
   },
   "outputs": [
    {
     "name": "stderr",
     "output_type": "stream",
     "text": [
      "100%|███████████████████████████████████████████████████████████████████████████████████████████████████████████████████████████████████████████████████████████████████████| 5/5 [00:00<00:00, 383.66it/s]\n"
     ]
    }
   ],
   "source": [
    "names = list(set(t['name']))\n",
    "ms_locs = []\n",
    "rvs = []\n",
    "e_rvs = []\n",
    "\n",
    "for name in tqdm(names):\n",
    "    ms_locs.append(t[t['name'] == name]['ms_loc'][0])\n",
    "    rv = 0\n",
    "    e_rv = 0\n",
    "    count = 0\n",
    "    \n",
    "    for i in range(len(t[t['name'] == name])):\n",
    "        if t[t['name'] == name]['ms_e_rv'][i] < 9999:\n",
    "            count += 1\n",
    "            rv += t[t['name'] == name]['ms_rv'][i]\n",
    "            e_rv += t[t['name'] == name]['ms_e_rv'][i]**2\n",
    "            \n",
    "    rv = rv / count\n",
    "    \"\"\"\n",
    "    \n",
    "    IS THIS CORRECT? I DON'T KNOW!\n",
    "    VVV\n",
    "    \n",
    "    \"\"\"\n",
    "    e_rv = np.sqrt(e_rv) / np.sqrt(count)\n",
    "    \n",
    "    rvs.append(rv)\n",
    "    e_rvs.append(e_rv)"
   ]
  },
  {
   "cell_type": "code",
   "execution_count": 33,
   "id": "ca3a3468-512c-4e87-8853-f5b035869945",
   "metadata": {
    "tags": []
   },
   "outputs": [
    {
     "data": {
      "text/plain": [
       "[<SkyCoord (ICRS): (ra, dec) in deg\n",
       "     (200.82491667, 17.99453333)>,\n",
       " <SkyCoord (ICRS): (ra, dec) in deg\n",
       "     (128.47104167, 29.25026111)>,\n",
       " <SkyCoord (ICRS): (ra, dec) in deg\n",
       "     (102.59945833, 37.91056667)>,\n",
       " <SkyCoord (ICRS): (ra, dec) in deg\n",
       "     (51.29441667, -1.18743889)>,\n",
       " <SkyCoord (ICRS): (ra, dec) in deg\n",
       "     (292.87941667, 21.16358611)>]"
      ]
     },
     "execution_count": 33,
     "metadata": {},
     "output_type": "execute_result"
    }
   ],
   "source": [
    "ms_locs"
   ]
  },
  {
   "cell_type": "code",
   "execution_count": 34,
   "id": "21d70d68-c70a-4d87-ba49-710cc3d67a1d",
   "metadata": {
    "tags": []
   },
   "outputs": [],
   "source": [
    "t2 = Table([names, ms_locs, rvs, e_rvs], names=('name', 'ms_loc', 'ms_rv', 'ms_e_rv'))"
   ]
  },
  {
   "cell_type": "code",
   "execution_count": 12,
   "id": "32a910dd-f2c4-4a86-ab52-c302f84f3f38",
   "metadata": {
    "tags": []
   },
   "outputs": [],
   "source": [
    "t2.write('ms_rvs.fits', overwrite = True)"
   ]
  },
  {
   "cell_type": "code",
   "execution_count": 35,
   "id": "4ce3b77a-503b-4c55-afb9-b33ff57679dd",
   "metadata": {
    "tags": []
   },
   "outputs": [
    {
     "data": {
      "text/html": [
       "<div><i>Table length=5</i>\n",
       "<table id=\"table139830383450912\" class=\"table-striped table-bordered table-condensed\">\n",
       "<thead><tr><th>name</th><th>ms_loc</th><th>ms_rv</th><th>ms_e_rv</th></tr></thead>\n",
       "<thead><tr><th></th><th>deg,deg</th><th></th><th></th></tr></thead>\n",
       "<thead><tr><th>str11</th><th>SkyCoord</th><th>float64</th><th>float64</th></tr></thead>\n",
       "<tr><td>WD1323+1759</td><td>200.82491666666664,17.994533333333333</td><td>-780.1161718274557</td><td>87.86655364813166</td></tr>\n",
       "<tr><td>WD0833+2915</td><td>128.47104166666665,29.25026111111111</td><td>-82.46178345224156</td><td>99.13201425372127</td></tr>\n",
       "<tr><td>WD0650+3754</td><td>102.59945833333332,37.91056666666667</td><td>-80.16460280724789</td><td>100.00499987500625</td></tr>\n",
       "<tr><td>WD0325-0111</td><td>51.294416666666656,-1.187438888888889</td><td>-41.86858469631204</td><td>100.00499987500625</td></tr>\n",
       "<tr><td>WD1931+2109</td><td>292.87941666666666,21.16358611111111</td><td>612.3459731416441</td><td>100.00499987500625</td></tr>\n",
       "</table></div>"
      ],
      "text/plain": [
       "<Table length=5>\n",
       "    name                    ms_loc                      ms_rv             ms_e_rv      \n",
       "                           deg,deg                                                     \n",
       "   str11                   SkyCoord                    float64            float64      \n",
       "----------- ------------------------------------- ------------------ ------------------\n",
       "WD1323+1759 200.82491666666664,17.994533333333333 -780.1161718274557  87.86655364813166\n",
       "WD0833+2915  128.47104166666665,29.25026111111111 -82.46178345224156  99.13201425372127\n",
       "WD0650+3754  102.59945833333332,37.91056666666667 -80.16460280724789 100.00499987500625\n",
       "WD0325-0111 51.294416666666656,-1.187438888888889 -41.86858469631204 100.00499987500625\n",
       "WD1931+2109  292.87941666666666,21.16358611111111  612.3459731416441 100.00499987500625"
      ]
     },
     "execution_count": 35,
     "metadata": {},
     "output_type": "execute_result"
    }
   ],
   "source": [
    "t2"
   ]
  },
  {
   "cell_type": "code",
   "execution_count": null,
   "id": "3b254b82-46f2-48a7-b388-7b8e6ea464fb",
   "metadata": {},
   "outputs": [],
   "source": []
  }
 ],
 "metadata": {
  "kernelspec": {
   "display_name": "Python 3 (ipykernel)",
   "language": "python",
   "name": "python3"
  },
  "language_info": {
   "codemirror_mode": {
    "name": "ipython",
    "version": 3
   },
   "file_extension": ".py",
   "mimetype": "text/x-python",
   "name": "python",
   "nbconvert_exporter": "python",
   "pygments_lexer": "ipython3",
   "version": "3.9.13"
  }
 },
 "nbformat": 4,
 "nbformat_minor": 5
}
