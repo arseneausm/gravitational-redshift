{
 "cells": [
  {
   "cell_type": "code",
   "execution_count": 3,
   "metadata": {
    "tags": []
   },
   "outputs": [],
   "source": [
    "import glob\n",
    "import sys\n",
    "#sys.path.append('../../../msrv-xc')\n",
    "#import msrvxc\n",
    "\n",
    "import numpy as np\n",
    "import pickle\n",
    "\n",
    "from astropy.io import fits\n",
    "from astropy.table import Table\n",
    "\n",
    "from astropy.coordinates import SkyCoord\n",
    "import astropy.units as u"
   ]
  },
  {
   "cell_type": "code",
   "execution_count": 2,
   "metadata": {
    "tags": []
   },
   "outputs": [
    {
     "ename": "FileNotFoundError",
     "evalue": "[Errno 2] No such file or directory: '../../../msrv-xc/grids/interp_bosz.pkl'",
     "output_type": "error",
     "traceback": [
      "\u001b[0;31m---------------------------------------------------------------------------\u001b[0m",
      "\u001b[0;31mFileNotFoundError\u001b[0m                         Traceback (most recent call last)",
      "\u001b[0;32m<ipython-input-2-b690231b4e69>\u001b[0m in \u001b[0;36m<module>\u001b[0;34m\u001b[0m\n\u001b[0;32m----> 1\u001b[0;31m \u001b[0;32mwith\u001b[0m \u001b[0mopen\u001b[0m\u001b[0;34m(\u001b[0m\u001b[0;34m'../../../msrv-xc/grids/interp_bosz.pkl'\u001b[0m\u001b[0;34m,\u001b[0m \u001b[0;34m'rb'\u001b[0m\u001b[0;34m)\u001b[0m \u001b[0;32mas\u001b[0m \u001b[0mf\u001b[0m\u001b[0;34m:\u001b[0m\u001b[0;34m\u001b[0m\u001b[0;34m\u001b[0m\u001b[0m\n\u001b[0m\u001b[1;32m      2\u001b[0m     \u001b[0minterp_bosz\u001b[0m \u001b[0;34m=\u001b[0m \u001b[0mpickle\u001b[0m\u001b[0;34m.\u001b[0m\u001b[0mload\u001b[0m\u001b[0;34m(\u001b[0m\u001b[0mf\u001b[0m\u001b[0;34m)\u001b[0m\u001b[0;34m\u001b[0m\u001b[0;34m\u001b[0m\u001b[0m\n\u001b[1;32m      3\u001b[0m \u001b[0;34m\u001b[0m\u001b[0m\n\u001b[1;32m      4\u001b[0m \u001b[0;32mwith\u001b[0m \u001b[0mopen\u001b[0m\u001b[0;34m(\u001b[0m\u001b[0;34m'../../../msrv-xc/grids/interp_bosz_norm.pkl'\u001b[0m\u001b[0;34m,\u001b[0m \u001b[0;34m'rb'\u001b[0m\u001b[0;34m)\u001b[0m \u001b[0;32mas\u001b[0m \u001b[0mf\u001b[0m\u001b[0;34m:\u001b[0m\u001b[0;34m\u001b[0m\u001b[0;34m\u001b[0m\u001b[0m\n\u001b[1;32m      5\u001b[0m     \u001b[0minterp_bosz_norm\u001b[0m \u001b[0;34m=\u001b[0m \u001b[0mpickle\u001b[0m\u001b[0;34m.\u001b[0m\u001b[0mload\u001b[0m\u001b[0;34m(\u001b[0m\u001b[0mf\u001b[0m\u001b[0;34m)\u001b[0m\u001b[0;34m\u001b[0m\u001b[0;34m\u001b[0m\u001b[0m\n",
      "\u001b[0;31mFileNotFoundError\u001b[0m: [Errno 2] No such file or directory: '../../../msrv-xc/grids/interp_bosz.pkl'"
     ]
    }
   ],
   "source": [
    "with open('../../../msrv-xc/grids/interp_bosz.pkl', 'rb') as f:\n",
    "    interp_bosz = pickle.load(f)\n",
    "    \n",
    "with open('../../../msrv-xc/grids/interp_bosz_norm.pkl', 'rb') as f:\n",
    "    interp_bosz_norm = pickle.load(f)\n",
    "    \n",
    "wvl = np.load('../../../msrv-xc/grids/wavl.npy')"
   ]
  },
  {
   "cell_type": "code",
   "execution_count": 4,
   "metadata": {
    "tags": []
   },
   "outputs": [],
   "source": [
    "def continuum_normalize(wl, fl, ivar = None, avg_size = 150, ret_cont = False):\n",
    "    \n",
    "    fl_norm = np.zeros(np.size(fl))\n",
    "    fl_cont = np.zeros(np.size(fl))\n",
    "    \n",
    "    ivar_yes = 0\n",
    "    if ivar is not None:\n",
    "        ivar_yes = 1\n",
    "        ivar_norm = np.zeros(np.size(fl))\n",
    "        \n",
    "    for i in range(np.size(wl)):\n",
    "        wl_clip = ((wl[i]-avg_size/2)<wl) * (wl<(wl[i]+avg_size/2))\n",
    "        fl_cont[i] = np.median(fl[wl_clip])\n",
    "        if ivar_yes:\n",
    "            ivar_norm[i] = ivar[i]*np.median(fl[wl_clip])**2\n",
    "    \n",
    "    fl_norm = fl/fl_cont\n",
    "    \n",
    "    if ret_cont:\n",
    "        if ivar_yes:\n",
    "            return wl, fl_norm, ivar_norm, fl_cont\n",
    "        else:\n",
    "            return wl, fl_norm, fl_cont\n",
    "    else:\n",
    "        if ivar_yes:\n",
    "            return wl, fl_norm, ivar_norm\n",
    "        else:\n",
    "            return wl, fl_norm"
   ]
  },
  {
   "cell_type": "code",
   "execution_count": 5,
   "metadata": {
    "tags": []
   },
   "outputs": [],
   "source": [
    "files = glob.glob('./*.fits')"
   ]
  },
  {
   "cell_type": "code",
   "execution_count": 6,
   "metadata": {
    "tags": []
   },
   "outputs": [
    {
     "name": "stderr",
     "output_type": "stream",
     "text": [
      "  0%|          | 0/11 [00:00<?, ?it/s]"
     ]
    },
    {
     "name": "stdout",
     "output_type": "stream",
     "text": [
      "[<astropy.io.fits.hdu.image.PrimaryHDU object at 0x1555380c2700>]\n"
     ]
    },
    {
     "name": "stderr",
     "output_type": "stream",
     "text": [
      "\n"
     ]
    },
    {
     "ename": "NameError",
     "evalue": "name 'msrvxc' is not defined",
     "output_type": "error",
     "traceback": [
      "\u001b[0;31m---------------------------------------------------------------------------\u001b[0m",
      "\u001b[0;31mNameError\u001b[0m                                 Traceback (most recent call last)",
      "\u001b[0;32m<ipython-input-6-62a791ae6898>\u001b[0m in \u001b[0;36m<module>\u001b[0;34m\u001b[0m\n\u001b[1;32m     20\u001b[0m \u001b[0;34m\u001b[0m\u001b[0m\n\u001b[1;32m     21\u001b[0m     \u001b[0mwl\u001b[0m\u001b[0;34m,\u001b[0m \u001b[0mfl\u001b[0m\u001b[0;34m,\u001b[0m \u001b[0mivar\u001b[0m \u001b[0;34m=\u001b[0m \u001b[0mcontinuum_normalize\u001b[0m\u001b[0;34m(\u001b[0m\u001b[0mms_wl\u001b[0m\u001b[0;34m,\u001b[0m \u001b[0mms_fl\u001b[0m\u001b[0;34m,\u001b[0m \u001b[0mms_ivar\u001b[0m\u001b[0;34m)\u001b[0m\u001b[0;34m\u001b[0m\u001b[0;34m\u001b[0m\u001b[0m\n\u001b[0;32m---> 22\u001b[0;31m     \u001b[0mres\u001b[0m\u001b[0;34m,\u001b[0m \u001b[0mrv\u001b[0m\u001b[0;34m,\u001b[0m \u001b[0me_rv\u001b[0m\u001b[0;34m,\u001b[0m \u001b[0mrvgrid\u001b[0m\u001b[0;34m,\u001b[0m \u001b[0mcc\u001b[0m \u001b[0;34m=\u001b[0m \u001b[0mmsrvxc\u001b[0m\u001b[0;34m.\u001b[0m\u001b[0mfit\u001b[0m\u001b[0;34m.\u001b[0m\u001b[0mfit_rv\u001b[0m\u001b[0;34m(\u001b[0m\u001b[0minterp_bosz_norm\u001b[0m\u001b[0;34m,\u001b[0m \u001b[0mwvl\u001b[0m\u001b[0;34m,\u001b[0m \u001b[0mwl\u001b[0m\u001b[0;34m,\u001b[0m \u001b[0mfl\u001b[0m\u001b[0;34m,\u001b[0m \u001b[0mivar\u001b[0m\u001b[0;34m,\u001b[0m \u001b[0mplot\u001b[0m \u001b[0;34m=\u001b[0m \u001b[0;32mFalse\u001b[0m\u001b[0;34m)\u001b[0m\u001b[0;34m\u001b[0m\u001b[0;34m\u001b[0m\u001b[0m\n\u001b[0m\u001b[1;32m     23\u001b[0m \u001b[0;34m\u001b[0m\u001b[0m\n\u001b[1;32m     24\u001b[0m     \u001b[0mnames\u001b[0m\u001b[0;34m.\u001b[0m\u001b[0mappend\u001b[0m\u001b[0;34m(\u001b[0m\u001b[0mname\u001b[0m\u001b[0;34m)\u001b[0m\u001b[0;34m\u001b[0m\u001b[0;34m\u001b[0m\u001b[0m\n",
      "\u001b[0;31mNameError\u001b[0m: name 'msrvxc' is not defined"
     ]
    }
   ],
   "source": [
    "from tqdm import tqdm\n",
    "\n",
    "names = []\n",
    "ras = []\n",
    "decs = []\n",
    "rvs = []\n",
    "e_rvs = []\n",
    "\n",
    "for file in tqdm(files):\n",
    "    f = fits.open(file)\n",
    "    print(f)\n",
    "    \n",
    "    name = f[0].header['OBJNAME']\n",
    "    ra = f[0].header['RA']\n",
    "    dec = f[0].header['DEC']\n",
    "    \n",
    "    ms_wl = f[0].header['CRVAL1'] + f[0].header['CD1_1'] * np.arange(f[0].data.shape[2])\n",
    "    ms_fl = f[0].data[0,0,:]\n",
    "    ms_ivar = f[0].data[3,0,:]**-2\n",
    "    \n",
    "    wl, fl, ivar = continuum_normalize(ms_wl, ms_fl, ms_ivar)\n",
    "    res, rv, e_rv, rvgrid, cc = msrvxc.fit.fit_rv(interp_bosz_norm, wvl, wl, fl, ivar, plot = False)\n",
    "\n",
    "    names.append(name)\n",
    "    ras.append(ra)\n",
    "    decs.append(decs)\n",
    "    rvs.append(rv)\n",
    "    e_rvs.append(e_rv)"
   ]
  },
  {
   "cell_type": "code",
   "execution_count": null,
   "metadata": {
    "tags": []
   },
   "outputs": [],
   "source": [
    "t = Table([names, ras, decs, rvs, e_rvs], names=('name', 'ms_ra', 'ms_dec', 'ms_rv', 'ms_e_rv'))"
   ]
  },
  {
   "cell_type": "code",
   "execution_count": null,
   "metadata": {
    "tags": []
   },
   "outputs": [],
   "source": [
    "names = list(set(t['name']))\n",
    "ms_ras = []\n",
    "ms_decs = []\n",
    "rvs = []\n",
    "e_rvs = []\n",
    "\n",
    "for name in tqdm(names):\n",
    "    ms_ras.append(t[t['name'] == name]['ms_ra'][0]\n",
    "    ms_decs.append(t[t['name'] == name]['ms_dec'][0]\n",
    "    \n",
    "    rv = 0\n",
    "    e_rv = 0\n",
    "    count = 0\n",
    "    \n",
    "    for i in range(len(t[t['name'] == name])):\n",
    "        if t[t['name'] == name]['ms_e_rv'][i] < 9999:\n",
    "            count += 1\n",
    "            rv += t[t['name'] == name]['ms_rv'][i]\n",
    "            e_rv += t[t['name'] == name]['ms_e_rv'][i]**2\n",
    "            \n",
    "    rv = rv / count\n",
    "    \"\"\"\n",
    "    \n",
    "    IS THIS CORRECT? I DON'T KNOW!\n",
    "    VVV\n",
    "    \n",
    "    \"\"\"\n",
    "    e_rv = np.sqrt(e_rv) / np.sqrt(count)\n",
    "    \n",
    "    rvs.append(rv)\n",
    "    e_rvs.append(e_rv)"
   ]
  },
  {
   "cell_type": "code",
   "execution_count": null,
   "metadata": {
    "tags": []
   },
   "outputs": [],
   "source": [
    "ms_locs"
   ]
  },
  {
   "cell_type": "code",
   "execution_count": null,
   "metadata": {
    "tags": []
   },
   "outputs": [],
   "source": [
    "t2 = Table([names, ras, decs, rvs, e_rvs], names=('name', 'ms_ra', 'ms_dec', 'ms_rv', 'ms_e_rv'))"
   ]
  },
  {
   "cell_type": "code",
   "execution_count": 12,
   "metadata": {
    "tags": []
   },
   "outputs": [],
   "source": [
    "t2.write('ms_rvs.fits', overwrite = True)"
   ]
  },
  {
   "cell_type": "code",
   "execution_count": 35,
   "metadata": {
    "tags": []
   },
   "outputs": [
    {
     "data": {
      "text/html": [
       "<div><i>Table length=5</i>\n",
       "<table id=\"table139830383450912\" class=\"table-striped table-bordered table-condensed\">\n",
       "<thead><tr><th>name</th><th>ms_loc</th><th>ms_rv</th><th>ms_e_rv</th></tr></thead>\n",
       "<thead><tr><th></th><th>deg,deg</th><th></th><th></th></tr></thead>\n",
       "<thead><tr><th>str11</th><th>SkyCoord</th><th>float64</th><th>float64</th></tr></thead>\n",
       "<tr><td>WD1323+1759</td><td>200.82491666666664,17.994533333333333</td><td>-780.1161718274557</td><td>87.86655364813166</td></tr>\n",
       "<tr><td>WD0833+2915</td><td>128.47104166666665,29.25026111111111</td><td>-82.46178345224156</td><td>99.13201425372127</td></tr>\n",
       "<tr><td>WD0650+3754</td><td>102.59945833333332,37.91056666666667</td><td>-80.16460280724789</td><td>100.00499987500625</td></tr>\n",
       "<tr><td>WD0325-0111</td><td>51.294416666666656,-1.187438888888889</td><td>-41.86858469631204</td><td>100.00499987500625</td></tr>\n",
       "<tr><td>WD1931+2109</td><td>292.87941666666666,21.16358611111111</td><td>612.3459731416441</td><td>100.00499987500625</td></tr>\n",
       "</table></div>"
      ],
      "text/plain": [
       "<Table length=5>\n",
       "    name                    ms_loc                      ms_rv             ms_e_rv      \n",
       "                           deg,deg                                                     \n",
       "   str11                   SkyCoord                    float64            float64      \n",
       "----------- ------------------------------------- ------------------ ------------------\n",
       "WD1323+1759 200.82491666666664,17.994533333333333 -780.1161718274557  87.86655364813166\n",
       "WD0833+2915  128.47104166666665,29.25026111111111 -82.46178345224156  99.13201425372127\n",
       "WD0650+3754  102.59945833333332,37.91056666666667 -80.16460280724789 100.00499987500625\n",
       "WD0325-0111 51.294416666666656,-1.187438888888889 -41.86858469631204 100.00499987500625\n",
       "WD1931+2109  292.87941666666666,21.16358611111111  612.3459731416441 100.00499987500625"
      ]
     },
     "execution_count": 35,
     "metadata": {},
     "output_type": "execute_result"
    }
   ],
   "source": [
    "t2"
   ]
  },
  {
   "cell_type": "code",
   "execution_count": null,
   "metadata": {},
   "outputs": [],
   "source": []
  }
 ],
 "metadata": {
  "kernelspec": {
   "display_name": "Python 3",
   "language": "python",
   "name": "python3"
  },
  "language_info": {
   "codemirror_mode": {
    "name": "ipython",
    "version": 3
   },
   "file_extension": ".py",
   "mimetype": "text/x-python",
   "name": "python",
   "nbconvert_exporter": "python",
   "pygments_lexer": "ipython3",
   "version": "3.8.3"
  }
 },
 "nbformat": 4,
 "nbformat_minor": 5
}
