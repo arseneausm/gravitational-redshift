{
 "cells": [
  {
   "cell_type": "code",
   "execution_count": 10,
   "id": "3dd6ea1f-ae4b-4560-9a59-cabd4f7f673a",
   "metadata": {
    "tags": []
   },
   "outputs": [],
   "source": [
    "import glob\n",
    "import sys\n",
    "sys.path.append('../../../msrv-xc')\n",
    "import msrvxc\n",
    "\n",
    "import numpy as np\n",
    "import pickle\n",
    "\n",
    "from astropy.io import fits\n",
    "from astropy.table import Table\n",
    "\n",
    "from astropy.coordinates import SkyCoord\n",
    "import astropy.units as u"
   ]
  },
  {
   "cell_type": "code",
   "execution_count": 3,
   "id": "78ad3612-5071-4553-a2d5-5b1b1e292be5",
   "metadata": {
    "tags": []
   },
   "outputs": [],
   "source": [
    "with open('../../../msrv-xc/grids/interp_bosz.pkl', 'rb') as f:\n",
    "    interp_bosz = pickle.load(f)\n",
    "    \n",
    "with open('../../../msrv-xc/grids/interp_bosz_norm.pkl', 'rb') as f:\n",
    "    interp_bosz_norm = pickle.load(f)\n",
    "    \n",
    "wvl = np.load('../../../msrv-xc/grids/wavl.npy')"
   ]
  },
  {
   "cell_type": "code",
   "execution_count": 4,
   "id": "704211c4-96f4-48e5-8419-42a80d9dfe46",
   "metadata": {
    "tags": []
   },
   "outputs": [],
   "source": [
    "def continuum_normalize(wl, fl, ivar = None, avg_size = 150, ret_cont = False):\n",
    "    \n",
    "    fl_norm = np.zeros(np.size(fl))\n",
    "    fl_cont = np.zeros(np.size(fl))\n",
    "    \n",
    "    ivar_yes = 0\n",
    "    if ivar is not None:\n",
    "        ivar_yes = 1\n",
    "        ivar_norm = np.zeros(np.size(fl))\n",
    "        \n",
    "    for i in range(np.size(wl)):\n",
    "        wl_clip = ((wl[i]-avg_size/2)<wl) * (wl<(wl[i]+avg_size/2))\n",
    "        fl_cont[i] = np.median(fl[wl_clip])\n",
    "        if ivar_yes:\n",
    "            ivar_norm[i] = ivar[i]*np.median(fl[wl_clip])**2\n",
    "    \n",
    "    fl_norm = fl/fl_cont\n",
    "    \n",
    "    if ret_cont:\n",
    "        if ivar_yes:\n",
    "            return wl, fl_norm, ivar_norm, fl_cont\n",
    "        else:\n",
    "            return wl, fl_norm, fl_cont\n",
    "    else:\n",
    "        if ivar_yes:\n",
    "            return wl, fl_norm, ivar_norm\n",
    "        else:\n",
    "            return wl, fl_norm"
   ]
  },
  {
   "cell_type": "code",
   "execution_count": 5,
   "id": "4c66e8ee-553e-4736-916b-f6f2e3aa8e52",
   "metadata": {
    "tags": []
   },
   "outputs": [],
   "source": [
    "files = glob.glob('./*.fits')"
   ]
  },
  {
   "cell_type": "code",
   "execution_count": 36,
   "id": "b38b4aff-ff2e-47b0-b0f5-1ea81af089a6",
   "metadata": {
    "tags": []
   },
   "outputs": [
    {
     "name": "stderr",
     "output_type": "stream",
     "text": [
      " 90%|██████████████████████████████████████████████████████████████████████████████████████████████████████████████████████████████████████████████████████▎                | 9/10 [00:56<00:06,  6.44s/it]/tmp/ipykernel_9408/1332543120.py:18: RuntimeWarning: divide by zero encountered in power\n",
      "  ms_ivar = f[0].data[3,0,:]**-2\n",
      " 90%|██████████████████████████████████████████████████████████████████████████████████████████████████████████████████████████████████████████████████████▎                | 9/10 [00:56<00:06,  6.33s/it]\n"
     ]
    },
    {
     "ename": "ValueError",
     "evalue": "NaN values detected in your input data or the output of your objective/model function - fitting algorithms cannot handle this! Please read https://lmfit.github.io/lmfit-py/faq.html#i-get-errors-from-nan-in-my-fit-what-can-i-do for more information.",
     "output_type": "error",
     "traceback": [
      "\u001b[0;31m---------------------------------------------------------------------------\u001b[0m",
      "\u001b[0;31mValueError\u001b[0m                                Traceback (most recent call last)",
      "Cell \u001b[0;32mIn[36], line 21\u001b[0m\n\u001b[1;32m     18\u001b[0m ms_ivar \u001b[38;5;241m=\u001b[39m f[\u001b[38;5;241m0\u001b[39m]\u001b[38;5;241m.\u001b[39mdata[\u001b[38;5;241m3\u001b[39m,\u001b[38;5;241m0\u001b[39m,:]\u001b[38;5;241m*\u001b[39m\u001b[38;5;241m*\u001b[39m\u001b[38;5;241m-\u001b[39m\u001b[38;5;241m2\u001b[39m\n\u001b[1;32m     20\u001b[0m wl, fl, ivar \u001b[38;5;241m=\u001b[39m continuum_normalize(ms_wl, ms_fl, ms_ivar)\n\u001b[0;32m---> 21\u001b[0m res, rv, e_rv, rvgrid, cc \u001b[38;5;241m=\u001b[39m \u001b[43mmsrvxc\u001b[49m\u001b[38;5;241;43m.\u001b[39;49m\u001b[43mfit\u001b[49m\u001b[38;5;241;43m.\u001b[39;49m\u001b[43mfit_rv\u001b[49m\u001b[43m(\u001b[49m\u001b[43minterp_bosz_norm\u001b[49m\u001b[43m,\u001b[49m\u001b[43m \u001b[49m\u001b[43mwvl\u001b[49m\u001b[43m,\u001b[49m\u001b[43m \u001b[49m\u001b[43mwl\u001b[49m\u001b[43m,\u001b[49m\u001b[43m \u001b[49m\u001b[43mfl\u001b[49m\u001b[43m,\u001b[49m\u001b[43m \u001b[49m\u001b[43mivar\u001b[49m\u001b[43m,\u001b[49m\u001b[43m \u001b[49m\u001b[43mplot\u001b[49m\u001b[43m \u001b[49m\u001b[38;5;241;43m=\u001b[39;49m\u001b[43m \u001b[49m\u001b[38;5;28;43;01mFalse\u001b[39;49;00m\u001b[43m)\u001b[49m\n\u001b[1;32m     23\u001b[0m names\u001b[38;5;241m.\u001b[39mappend(name)\n\u001b[1;32m     24\u001b[0m ras\u001b[38;5;241m.\u001b[39mappend(ra)\n",
      "File \u001b[0;32m~/research/white-dwarfs/gravitational-redshift/apo/MS/../../../msrv-xc/msrvxc/fit.py:124\u001b[0m, in \u001b[0;36mfit_rv\u001b[0;34m(interpolator, interp_wvl, wl, fl, ivar, plot, full_interpolator, p0)\u001b[0m\n\u001b[1;32m    121\u001b[0m params\u001b[38;5;241m.\u001b[39madd(\u001b[38;5;124m'\u001b[39m\u001b[38;5;124mz\u001b[39m\u001b[38;5;124m'\u001b[39m, value \u001b[38;5;241m=\u001b[39m p0[\u001b[38;5;241m2\u001b[39m], \u001b[38;5;28mmin\u001b[39m \u001b[38;5;241m=\u001b[39m \u001b[38;5;241m-\u001b[39m\u001b[38;5;241m2.5\u001b[39m, \u001b[38;5;28mmax\u001b[39m \u001b[38;5;241m=\u001b[39m \u001b[38;5;241m0.5\u001b[39m, vary \u001b[38;5;241m=\u001b[39m \u001b[38;5;28;01mTrue\u001b[39;00m)\n\u001b[1;32m    122\u001b[0m params\u001b[38;5;241m.\u001b[39madd(\u001b[38;5;124m'\u001b[39m\u001b[38;5;124mRV\u001b[39m\u001b[38;5;124m'\u001b[39m, value \u001b[38;5;241m=\u001b[39m p0[\u001b[38;5;241m3\u001b[39m], \u001b[38;5;28mmin\u001b[39m \u001b[38;5;241m=\u001b[39m \u001b[38;5;241m-\u001b[39m\u001b[38;5;241m1500\u001b[39m, \u001b[38;5;28mmax\u001b[39m \u001b[38;5;241m=\u001b[39m \u001b[38;5;241m1500\u001b[39m, vary \u001b[38;5;241m=\u001b[39m \u001b[38;5;28;01mTrue\u001b[39;00m)\n\u001b[0;32m--> 124\u001b[0m init \u001b[38;5;241m=\u001b[39m \u001b[43mlmfit\u001b[49m\u001b[38;5;241;43m.\u001b[39;49m\u001b[43mminimize\u001b[49m\u001b[43m(\u001b[49m\u001b[43mchisqr\u001b[49m\u001b[43m,\u001b[49m\u001b[43m \u001b[49m\u001b[43mparams\u001b[49m\u001b[43m,\u001b[49m\u001b[43m \u001b[49m\u001b[43mkws\u001b[49m\u001b[43m \u001b[49m\u001b[38;5;241;43m=\u001b[39;49m\u001b[43m \u001b[49m\u001b[38;5;28;43mdict\u001b[39;49m\u001b[43m(\u001b[49m\u001b[43minterpolator\u001b[49m\u001b[43m \u001b[49m\u001b[38;5;241;43m=\u001b[39;49m\u001b[43m \u001b[49m\u001b[43minterpolator\u001b[49m\u001b[43m,\u001b[49m\u001b[43m \u001b[49m\u001b[43minterp_wvl\u001b[49m\u001b[43m \u001b[49m\u001b[38;5;241;43m=\u001b[39;49m\u001b[43m \u001b[49m\u001b[43minterp_wvl\u001b[49m\u001b[43m,\u001b[49m\u001b[43m \u001b[49m\u001b[43mwl\u001b[49m\u001b[43m \u001b[49m\u001b[38;5;241;43m=\u001b[39;49m\u001b[43m \u001b[49m\u001b[43mwl\u001b[49m\u001b[43m,\u001b[49m\u001b[43m \u001b[49m\u001b[43mfl\u001b[49m\u001b[43m \u001b[49m\u001b[38;5;241;43m=\u001b[39;49m\u001b[43m \u001b[49m\u001b[43mfl\u001b[49m\u001b[43m,\u001b[49m\u001b[43m \u001b[49m\u001b[43mivar\u001b[49m\u001b[43m \u001b[49m\u001b[38;5;241;43m=\u001b[39;49m\u001b[43m \u001b[49m\u001b[43mivar\u001b[49m\u001b[43m)\u001b[49m\u001b[43m,\u001b[49m\u001b[43m \u001b[49m\u001b[43mmethod\u001b[49m\u001b[43m \u001b[49m\u001b[38;5;241;43m=\u001b[39;49m\u001b[43m \u001b[49m\u001b[38;5;124;43m'\u001b[39;49m\u001b[38;5;124;43mleastsq\u001b[39;49m\u001b[38;5;124;43m'\u001b[39;49m\u001b[43m)\u001b[49m\n\u001b[1;32m    126\u001b[0m rv, e_rv, rvgrid, cc \u001b[38;5;241m=\u001b[39m xcorr_rv(init\u001b[38;5;241m.\u001b[39mparams, interpolator, interp_wvl, wl, fl, ivar, plot)\n\u001b[1;32m    128\u001b[0m \u001b[38;5;66;03m#print(init.params)\u001b[39;00m\n\u001b[1;32m    129\u001b[0m \n\u001b[1;32m    130\u001b[0m \u001b[38;5;66;03m#param_grid = []\u001b[39;00m\n\u001b[0;32m   (...)\u001b[0m\n\u001b[1;32m    156\u001b[0m \u001b[38;5;66;03m#\u001b[39;00m\n\u001b[1;32m    157\u001b[0m \u001b[38;5;66;03m#print(init.params)\u001b[39;00m\n",
      "File \u001b[0;32m~/anaconda3/lib/python3.9/site-packages/lmfit/minimizer.py:2600\u001b[0m, in \u001b[0;36mminimize\u001b[0;34m(fcn, params, method, args, kws, iter_cb, scale_covar, nan_policy, reduce_fcn, calc_covar, max_nfev, **fit_kws)\u001b[0m\n\u001b[1;32m   2460\u001b[0m \u001b[38;5;250m\u001b[39m\u001b[38;5;124;03m\"\"\"Perform the minimization of the objective function.\u001b[39;00m\n\u001b[1;32m   2461\u001b[0m \n\u001b[1;32m   2462\u001b[0m \u001b[38;5;124;03mThe minimize function takes an objective function to be minimized,\u001b[39;00m\n\u001b[0;32m   (...)\u001b[0m\n\u001b[1;32m   2594\u001b[0m \n\u001b[1;32m   2595\u001b[0m \u001b[38;5;124;03m\"\"\"\u001b[39;00m\n\u001b[1;32m   2596\u001b[0m fitter \u001b[38;5;241m=\u001b[39m Minimizer(fcn, params, fcn_args\u001b[38;5;241m=\u001b[39margs, fcn_kws\u001b[38;5;241m=\u001b[39mkws,\n\u001b[1;32m   2597\u001b[0m                    iter_cb\u001b[38;5;241m=\u001b[39miter_cb, scale_covar\u001b[38;5;241m=\u001b[39mscale_covar,\n\u001b[1;32m   2598\u001b[0m                    nan_policy\u001b[38;5;241m=\u001b[39mnan_policy, reduce_fcn\u001b[38;5;241m=\u001b[39mreduce_fcn,\n\u001b[1;32m   2599\u001b[0m                    calc_covar\u001b[38;5;241m=\u001b[39mcalc_covar, max_nfev\u001b[38;5;241m=\u001b[39mmax_nfev, \u001b[38;5;241m*\u001b[39m\u001b[38;5;241m*\u001b[39mfit_kws)\n\u001b[0;32m-> 2600\u001b[0m \u001b[38;5;28;01mreturn\u001b[39;00m \u001b[43mfitter\u001b[49m\u001b[38;5;241;43m.\u001b[39;49m\u001b[43mminimize\u001b[49m\u001b[43m(\u001b[49m\u001b[43mmethod\u001b[49m\u001b[38;5;241;43m=\u001b[39;49m\u001b[43mmethod\u001b[49m\u001b[43m)\u001b[49m\n",
      "File \u001b[0;32m~/anaconda3/lib/python3.9/site-packages/lmfit/minimizer.py:2369\u001b[0m, in \u001b[0;36mMinimizer.minimize\u001b[0;34m(self, method, params, **kws)\u001b[0m\n\u001b[1;32m   2366\u001b[0m         \u001b[38;5;28;01mif\u001b[39;00m (key\u001b[38;5;241m.\u001b[39mlower()\u001b[38;5;241m.\u001b[39mstartswith(user_method) \u001b[38;5;129;01mor\u001b[39;00m\n\u001b[1;32m   2367\u001b[0m                 val\u001b[38;5;241m.\u001b[39mlower()\u001b[38;5;241m.\u001b[39mstartswith(user_method)):\n\u001b[1;32m   2368\u001b[0m             kwargs[\u001b[38;5;124m'\u001b[39m\u001b[38;5;124mmethod\u001b[39m\u001b[38;5;124m'\u001b[39m] \u001b[38;5;241m=\u001b[39m val\n\u001b[0;32m-> 2369\u001b[0m \u001b[38;5;28;01mreturn\u001b[39;00m \u001b[43mfunction\u001b[49m\u001b[43m(\u001b[49m\u001b[38;5;241;43m*\u001b[39;49m\u001b[38;5;241;43m*\u001b[39;49m\u001b[43mkwargs\u001b[49m\u001b[43m)\u001b[49m\n",
      "File \u001b[0;32m~/anaconda3/lib/python3.9/site-packages/lmfit/minimizer.py:1693\u001b[0m, in \u001b[0;36mMinimizer.leastsq\u001b[0;34m(self, params, max_nfev, **kws)\u001b[0m\n\u001b[1;32m   1691\u001b[0m result\u001b[38;5;241m.\u001b[39mcall_kws \u001b[38;5;241m=\u001b[39m lskws\n\u001b[1;32m   1692\u001b[0m \u001b[38;5;28;01mtry\u001b[39;00m:\n\u001b[0;32m-> 1693\u001b[0m     lsout \u001b[38;5;241m=\u001b[39m \u001b[43mscipy_leastsq\u001b[49m\u001b[43m(\u001b[49m\u001b[38;5;28;43mself\u001b[39;49m\u001b[38;5;241;43m.\u001b[39;49m\u001b[43m__residual\u001b[49m\u001b[43m,\u001b[49m\u001b[43m \u001b[49m\u001b[43mvariables\u001b[49m\u001b[43m,\u001b[49m\u001b[43m \u001b[49m\u001b[38;5;241;43m*\u001b[39;49m\u001b[38;5;241;43m*\u001b[39;49m\u001b[43mlskws\u001b[49m\u001b[43m)\u001b[49m\n\u001b[1;32m   1694\u001b[0m \u001b[38;5;28;01mexcept\u001b[39;00m AbortFitException:\n\u001b[1;32m   1695\u001b[0m     \u001b[38;5;28;01mpass\u001b[39;00m\n",
      "File \u001b[0;32m~/anaconda3/lib/python3.9/site-packages/scipy/optimize/minpack.py:410\u001b[0m, in \u001b[0;36mleastsq\u001b[0;34m(func, x0, args, Dfun, full_output, col_deriv, ftol, xtol, gtol, maxfev, epsfcn, factor, diag)\u001b[0m\n\u001b[1;32m    408\u001b[0m \u001b[38;5;28;01mif\u001b[39;00m \u001b[38;5;129;01mnot\u001b[39;00m \u001b[38;5;28misinstance\u001b[39m(args, \u001b[38;5;28mtuple\u001b[39m):\n\u001b[1;32m    409\u001b[0m     args \u001b[38;5;241m=\u001b[39m (args,)\n\u001b[0;32m--> 410\u001b[0m shape, dtype \u001b[38;5;241m=\u001b[39m \u001b[43m_check_func\u001b[49m\u001b[43m(\u001b[49m\u001b[38;5;124;43m'\u001b[39;49m\u001b[38;5;124;43mleastsq\u001b[39;49m\u001b[38;5;124;43m'\u001b[39;49m\u001b[43m,\u001b[49m\u001b[43m \u001b[49m\u001b[38;5;124;43m'\u001b[39;49m\u001b[38;5;124;43mfunc\u001b[39;49m\u001b[38;5;124;43m'\u001b[39;49m\u001b[43m,\u001b[49m\u001b[43m \u001b[49m\u001b[43mfunc\u001b[49m\u001b[43m,\u001b[49m\u001b[43m \u001b[49m\u001b[43mx0\u001b[49m\u001b[43m,\u001b[49m\u001b[43m \u001b[49m\u001b[43margs\u001b[49m\u001b[43m,\u001b[49m\u001b[43m \u001b[49m\u001b[43mn\u001b[49m\u001b[43m)\u001b[49m\n\u001b[1;32m    411\u001b[0m m \u001b[38;5;241m=\u001b[39m shape[\u001b[38;5;241m0\u001b[39m]\n\u001b[1;32m    413\u001b[0m \u001b[38;5;28;01mif\u001b[39;00m n \u001b[38;5;241m>\u001b[39m m:\n",
      "File \u001b[0;32m~/anaconda3/lib/python3.9/site-packages/scipy/optimize/minpack.py:24\u001b[0m, in \u001b[0;36m_check_func\u001b[0;34m(checker, argname, thefunc, x0, args, numinputs, output_shape)\u001b[0m\n\u001b[1;32m     22\u001b[0m \u001b[38;5;28;01mdef\u001b[39;00m \u001b[38;5;21m_check_func\u001b[39m(checker, argname, thefunc, x0, args, numinputs,\n\u001b[1;32m     23\u001b[0m                 output_shape\u001b[38;5;241m=\u001b[39m\u001b[38;5;28;01mNone\u001b[39;00m):\n\u001b[0;32m---> 24\u001b[0m     res \u001b[38;5;241m=\u001b[39m atleast_1d(\u001b[43mthefunc\u001b[49m\u001b[43m(\u001b[49m\u001b[38;5;241;43m*\u001b[39;49m\u001b[43m(\u001b[49m\u001b[43m(\u001b[49m\u001b[43mx0\u001b[49m\u001b[43m[\u001b[49m\u001b[43m:\u001b[49m\u001b[43mnuminputs\u001b[49m\u001b[43m]\u001b[49m\u001b[43m,\u001b[49m\u001b[43m)\u001b[49m\u001b[43m \u001b[49m\u001b[38;5;241;43m+\u001b[39;49m\u001b[43m \u001b[49m\u001b[43margs\u001b[49m\u001b[43m)\u001b[49m\u001b[43m)\u001b[49m)\n\u001b[1;32m     25\u001b[0m     \u001b[38;5;28;01mif\u001b[39;00m (output_shape \u001b[38;5;129;01mis\u001b[39;00m \u001b[38;5;129;01mnot\u001b[39;00m \u001b[38;5;28;01mNone\u001b[39;00m) \u001b[38;5;129;01mand\u001b[39;00m (shape(res) \u001b[38;5;241m!=\u001b[39m output_shape):\n\u001b[1;32m     26\u001b[0m         \u001b[38;5;28;01mif\u001b[39;00m (output_shape[\u001b[38;5;241m0\u001b[39m] \u001b[38;5;241m!=\u001b[39m \u001b[38;5;241m1\u001b[39m):\n",
      "File \u001b[0;32m~/anaconda3/lib/python3.9/site-packages/lmfit/minimizer.py:600\u001b[0m, in \u001b[0;36mMinimizer.__residual\u001b[0;34m(self, fvars, apply_bounds_transformation)\u001b[0m\n\u001b[1;32m    598\u001b[0m     \u001b[38;5;28;01mraise\u001b[39;00m AbortFitException(\u001b[38;5;124m\"\u001b[39m\u001b[38;5;124mfit aborted by user.\u001b[39m\u001b[38;5;124m\"\u001b[39m)\n\u001b[1;32m    599\u001b[0m \u001b[38;5;28;01melse\u001b[39;00m:\n\u001b[0;32m--> 600\u001b[0m     \u001b[38;5;28;01mreturn\u001b[39;00m \u001b[43m_nan_policy\u001b[49m\u001b[43m(\u001b[49m\u001b[43mnp\u001b[49m\u001b[38;5;241;43m.\u001b[39;49m\u001b[43masarray\u001b[49m\u001b[43m(\u001b[49m\u001b[43mout\u001b[49m\u001b[43m)\u001b[49m\u001b[38;5;241;43m.\u001b[39;49m\u001b[43mravel\u001b[49m\u001b[43m(\u001b[49m\u001b[43m)\u001b[49m\u001b[43m,\u001b[49m\n\u001b[1;32m    601\u001b[0m \u001b[43m                       \u001b[49m\u001b[43mnan_policy\u001b[49m\u001b[38;5;241;43m=\u001b[39;49m\u001b[38;5;28;43mself\u001b[39;49m\u001b[38;5;241;43m.\u001b[39;49m\u001b[43mnan_policy\u001b[49m\u001b[43m)\u001b[49m\n",
      "File \u001b[0;32m~/anaconda3/lib/python3.9/site-packages/lmfit/minimizer.py:2453\u001b[0m, in \u001b[0;36m_nan_policy\u001b[0;34m(arr, nan_policy, handle_inf)\u001b[0m\n\u001b[1;32m   2448\u001b[0m     \u001b[38;5;28;01mif\u001b[39;00m contains_nan:\n\u001b[1;32m   2449\u001b[0m         msg \u001b[38;5;241m=\u001b[39m (\u001b[38;5;124m'\u001b[39m\u001b[38;5;124mNaN values detected in your input data or the output of \u001b[39m\u001b[38;5;124m'\u001b[39m\n\u001b[1;32m   2450\u001b[0m                \u001b[38;5;124m'\u001b[39m\u001b[38;5;124myour objective/model function - fitting algorithms cannot \u001b[39m\u001b[38;5;124m'\u001b[39m\n\u001b[1;32m   2451\u001b[0m                \u001b[38;5;124m'\u001b[39m\u001b[38;5;124mhandle this! Please read https://lmfit.github.io/lmfit-py/faq.html#i-get-errors-from-nan-in-my-fit-what-can-i-do \u001b[39m\u001b[38;5;124m'\u001b[39m\n\u001b[1;32m   2452\u001b[0m                \u001b[38;5;124m'\u001b[39m\u001b[38;5;124mfor more information.\u001b[39m\u001b[38;5;124m'\u001b[39m)\n\u001b[0;32m-> 2453\u001b[0m         \u001b[38;5;28;01mraise\u001b[39;00m \u001b[38;5;167;01mValueError\u001b[39;00m(msg)\n\u001b[1;32m   2454\u001b[0m \u001b[38;5;28;01mreturn\u001b[39;00m arr\n",
      "\u001b[0;31mValueError\u001b[0m: NaN values detected in your input data or the output of your objective/model function - fitting algorithms cannot handle this! Please read https://lmfit.github.io/lmfit-py/faq.html#i-get-errors-from-nan-in-my-fit-what-can-i-do for more information."
     ]
    }
   ],
   "source": [
    "from tqdm import tqdm\n",
    "\n",
    "names = []\n",
    "ras = []\n",
    "decs = []\n",
    "rvs = []\n",
    "e_rvs = []\n",
    "\n",
    "for file in tqdm(files):\n",
    "    f = fits.open(file)\n",
    "    \n",
    "    name = f[0].header['OBJNAME']\n",
    "    ra = f[0].header['RA']\n",
    "    dec = f[0].header['DEC']\n",
    "    \n",
    "    ms_wl = f[0].header['CRVAL1'] + f[0].header['CD1_1'] * np.arange(f[0].data.shape[2])\n",
    "    ms_fl = f[0].data[0,0,:]\n",
    "    ms_ivar = f[0].data[3,0,:]**-2\n",
    "    \n",
    "    wl, fl, ivar = continuum_normalize(ms_wl, ms_fl, ms_ivar)\n",
    "    res, rv, e_rv, rvgrid, cc = msrvxc.fit.fit_rv(interp_bosz_norm, wvl, wl, fl, ivar, plot = False)\n",
    "\n",
    "    names.append(name)\n",
    "    ras.append(ra)\n",
    "    decs.append(decs)\n",
    "    rvs.append(rv)\n",
    "    e_rvs.append(e_rv)"
   ]
  },
  {
   "cell_type": "code",
   "execution_count": null,
   "id": "726d565c-54b7-40f2-8482-9b4c01a01323",
   "metadata": {
    "tags": []
   },
   "outputs": [],
   "source": [
    "t = Table([names, ras, decs, rvs, e_rvs], names=('name', 'ms_ra', 'ms_dec', 'ms_rv', 'ms_e_rv'))"
   ]
  },
  {
   "cell_type": "code",
   "execution_count": null,
   "id": "9a82cd0c-f20a-4432-bfbb-c80d57f23762",
   "metadata": {
    "tags": []
   },
   "outputs": [],
   "source": [
    "names = list(set(t['name']))\n",
    "ms_ras = []\n",
    "ms_decs = []\n",
    "rvs = []\n",
    "e_rvs = []\n",
    "\n",
    "for name in tqdm(names):\n",
    "    ms_ras.append(t[t['name'] == name]['ms_ra'][0]\n",
    "    ms_decs.append(t[t['name'] == name]['ms_dec'][0]\n",
    "    \n",
    "    rv = 0\n",
    "    e_rv = 0\n",
    "    count = 0\n",
    "    \n",
    "    for i in range(len(t[t['name'] == name])):\n",
    "        if t[t['name'] == name]['ms_e_rv'][i] < 9999:\n",
    "            count += 1\n",
    "            rv += t[t['name'] == name]['ms_rv'][i]\n",
    "            e_rv += t[t['name'] == name]['ms_e_rv'][i]**2\n",
    "            \n",
    "    rv = rv / count\n",
    "    \"\"\"\n",
    "    \n",
    "    IS THIS CORRECT? I DON'T KNOW!\n",
    "    VVV\n",
    "    \n",
    "    \"\"\"\n",
    "    e_rv = np.sqrt(e_rv) / np.sqrt(count)\n",
    "    \n",
    "    rvs.append(rv)\n",
    "    e_rvs.append(e_rv)"
   ]
  },
  {
   "cell_type": "code",
   "execution_count": null,
   "id": "ca3a3468-512c-4e87-8853-f5b035869945",
   "metadata": {
    "tags": []
   },
   "outputs": [],
   "source": [
    "ms_locs"
   ]
  },
  {
   "cell_type": "code",
   "execution_count": null,
   "id": "21d70d68-c70a-4d87-ba49-710cc3d67a1d",
   "metadata": {
    "tags": []
   },
   "outputs": [],
   "source": [
    "t2 = Table([names, ras, decs, rvs, e_rvs], names=('name', 'ms_ra', 'ms_dec', 'ms_rv', 'ms_e_rv'))"
   ]
  },
  {
   "cell_type": "code",
   "execution_count": 12,
   "id": "32a910dd-f2c4-4a86-ab52-c302f84f3f38",
   "metadata": {
    "tags": []
   },
   "outputs": [],
   "source": [
    "t2.write('ms_rvs.fits', overwrite = True)"
   ]
  },
  {
   "cell_type": "code",
   "execution_count": 35,
   "id": "4ce3b77a-503b-4c55-afb9-b33ff57679dd",
   "metadata": {
    "tags": []
   },
   "outputs": [
    {
     "data": {
      "text/html": [
       "<div><i>Table length=5</i>\n",
       "<table id=\"table139830383450912\" class=\"table-striped table-bordered table-condensed\">\n",
       "<thead><tr><th>name</th><th>ms_loc</th><th>ms_rv</th><th>ms_e_rv</th></tr></thead>\n",
       "<thead><tr><th></th><th>deg,deg</th><th></th><th></th></tr></thead>\n",
       "<thead><tr><th>str11</th><th>SkyCoord</th><th>float64</th><th>float64</th></tr></thead>\n",
       "<tr><td>WD1323+1759</td><td>200.82491666666664,17.994533333333333</td><td>-780.1161718274557</td><td>87.86655364813166</td></tr>\n",
       "<tr><td>WD0833+2915</td><td>128.47104166666665,29.25026111111111</td><td>-82.46178345224156</td><td>99.13201425372127</td></tr>\n",
       "<tr><td>WD0650+3754</td><td>102.59945833333332,37.91056666666667</td><td>-80.16460280724789</td><td>100.00499987500625</td></tr>\n",
       "<tr><td>WD0325-0111</td><td>51.294416666666656,-1.187438888888889</td><td>-41.86858469631204</td><td>100.00499987500625</td></tr>\n",
       "<tr><td>WD1931+2109</td><td>292.87941666666666,21.16358611111111</td><td>612.3459731416441</td><td>100.00499987500625</td></tr>\n",
       "</table></div>"
      ],
      "text/plain": [
       "<Table length=5>\n",
       "    name                    ms_loc                      ms_rv             ms_e_rv      \n",
       "                           deg,deg                                                     \n",
       "   str11                   SkyCoord                    float64            float64      \n",
       "----------- ------------------------------------- ------------------ ------------------\n",
       "WD1323+1759 200.82491666666664,17.994533333333333 -780.1161718274557  87.86655364813166\n",
       "WD0833+2915  128.47104166666665,29.25026111111111 -82.46178345224156  99.13201425372127\n",
       "WD0650+3754  102.59945833333332,37.91056666666667 -80.16460280724789 100.00499987500625\n",
       "WD0325-0111 51.294416666666656,-1.187438888888889 -41.86858469631204 100.00499987500625\n",
       "WD1931+2109  292.87941666666666,21.16358611111111  612.3459731416441 100.00499987500625"
      ]
     },
     "execution_count": 35,
     "metadata": {},
     "output_type": "execute_result"
    }
   ],
   "source": [
    "t2"
   ]
  },
  {
   "cell_type": "code",
   "execution_count": null,
   "id": "3b254b82-46f2-48a7-b388-7b8e6ea464fb",
   "metadata": {},
   "outputs": [],
   "source": []
  }
 ],
 "metadata": {
  "kernelspec": {
   "display_name": "Python 3 (ipykernel)",
   "language": "python",
   "name": "python3"
  },
  "language_info": {
   "codemirror_mode": {
    "name": "ipython",
    "version": 3
   },
   "file_extension": ".py",
   "mimetype": "text/x-python",
   "name": "python",
   "nbconvert_exporter": "python",
   "pygments_lexer": "ipython3",
   "version": "3.9.13"
  }
 },
 "nbformat": 4,
 "nbformat_minor": 5
}
