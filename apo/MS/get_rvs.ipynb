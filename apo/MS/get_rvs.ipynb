{
 "cells": [
  {
   "cell_type": "code",
   "execution_count": 38,
   "id": "3dd6ea1f-ae4b-4560-9a59-cabd4f7f673a",
   "metadata": {
    "tags": []
   },
   "outputs": [],
   "source": [
    "import glob\n",
    "import sys\n",
    "sys.path.append('../../../msrv-xc')\n",
    "import msrvxc\n",
    "\n",
    "import numpy as np\n",
    "import pickle\n",
    "\n",
    "from astropy.io import fits\n",
    "from astropy.table import table\n",
    "\n",
    "from astropy.coordinates import SkyCoord\n",
    "import astropy.units as u"
   ]
  },
  {
   "cell_type": "code",
   "execution_count": 37,
   "id": "78ad3612-5071-4553-a2d5-5b1b1e292be5",
   "metadata": {
    "tags": []
   },
   "outputs": [
    {
     "ename": "NameError",
     "evalue": "name 'pickle' is not defined",
     "output_type": "error",
     "traceback": [
      "\u001b[0;31m---------------------------------------------------------------------------\u001b[0m",
      "\u001b[0;31mNameError\u001b[0m                                 Traceback (most recent call last)",
      "Cell \u001b[0;32mIn[37], line 2\u001b[0m\n\u001b[1;32m      1\u001b[0m \u001b[38;5;28;01mwith\u001b[39;00m \u001b[38;5;28mopen\u001b[39m(\u001b[38;5;124m'\u001b[39m\u001b[38;5;124m../../../msrv-xc/grids/interp_bosz.pkl\u001b[39m\u001b[38;5;124m'\u001b[39m, \u001b[38;5;124m'\u001b[39m\u001b[38;5;124mrb\u001b[39m\u001b[38;5;124m'\u001b[39m) \u001b[38;5;28;01mas\u001b[39;00m f:\n\u001b[0;32m----> 2\u001b[0m     interp_bosz \u001b[38;5;241m=\u001b[39m \u001b[43mpickle\u001b[49m\u001b[38;5;241m.\u001b[39mload(f)\n\u001b[1;32m      4\u001b[0m \u001b[38;5;28;01mwith\u001b[39;00m \u001b[38;5;28mopen\u001b[39m(\u001b[38;5;124m'\u001b[39m\u001b[38;5;124m../../../msrv-xc/grids/interp_bosz_norm.pkl\u001b[39m\u001b[38;5;124m'\u001b[39m, \u001b[38;5;124m'\u001b[39m\u001b[38;5;124mrb\u001b[39m\u001b[38;5;124m'\u001b[39m) \u001b[38;5;28;01mas\u001b[39;00m f:\n\u001b[1;32m      5\u001b[0m     interp_bosz_norm \u001b[38;5;241m=\u001b[39m pickle\u001b[38;5;241m.\u001b[39mload(f)\n",
      "\u001b[0;31mNameError\u001b[0m: name 'pickle' is not defined"
     ]
    }
   ],
   "source": [
    "with open('../../../msrv-xc/grids/interp_bosz.pkl', 'rb') as f:\n",
    "    interp_bosz = pickle.load(f)\n",
    "    \n",
    "with open('../../../msrv-xc/grids/interp_bosz_norm.pkl', 'rb') as f:\n",
    "    interp_bosz_norm = pickle.load(f)\n",
    "    \n",
    "wvl = np.load('../../../msrv-xc/grids/wavl.npy')"
   ]
  },
  {
   "cell_type": "code",
   "execution_count": 36,
   "id": "704211c4-96f4-48e5-8419-42a80d9dfe46",
   "metadata": {
    "tags": []
   },
   "outputs": [],
   "source": [
    "def continuum_normalize(wl, fl, ivar = None, avg_size = 150, ret_cont = False):\n",
    "    \n",
    "    fl_norm = np.zeros(np.size(fl))\n",
    "    fl_cont = np.zeros(np.size(fl))\n",
    "    \n",
    "    ivar_yes = 0\n",
    "    if ivar is not None:\n",
    "        ivar_yes = 1\n",
    "        ivar_norm = np.zeros(np.size(fl))\n",
    "        \n",
    "    for i in range(np.size(wl)):\n",
    "        wl_clip = ((wl[i]-avg_size/2)<wl) * (wl<(wl[i]+avg_size/2))\n",
    "        fl_cont[i] = np.median(fl[wl_clip])\n",
    "        if ivar_yes:\n",
    "            ivar_norm[i] = ivar[i]*np.median(fl[wl_clip])**2\n",
    "    \n",
    "    fl_norm = fl/fl_cont\n",
    "    \n",
    "    if ret_cont:\n",
    "        if ivar_yes:\n",
    "            return wl, fl_norm, ivar_norm, fl_cont\n",
    "        else:\n",
    "            return wl, fl_norm, fl_cont\n",
    "    else:\n",
    "        if ivar_yes:\n",
    "            return wl, fl_norm, ivar_norm\n",
    "        else:\n",
    "            return wl, fl_norm"
   ]
  },
  {
   "cell_type": "code",
   "execution_count": 32,
   "id": "4c66e8ee-553e-4736-916b-f6f2e3aa8e52",
   "metadata": {
    "tags": []
   },
   "outputs": [],
   "source": [
    "files = glob.glob('./*.fits')"
   ]
  },
  {
   "cell_type": "code",
   "execution_count": 33,
   "id": "b38b4aff-ff2e-47b0-b0f5-1ea81af089a6",
   "metadata": {
    "tags": []
   },
   "outputs": [],
   "source": [
    "f = fits.open(files[0])"
   ]
  },
  {
   "cell_type": "code",
   "execution_count": 34,
   "id": "726d565c-54b7-40f2-8482-9b4c01a01323",
   "metadata": {
    "tags": []
   },
   "outputs": [],
   "source": [
    "loc = SkyCoord(f[0].header['RA'], f[0].header['DEC'], unit=(u.hour, u.degree))"
   ]
  },
  {
   "cell_type": "code",
   "execution_count": 35,
   "id": "32a910dd-f2c4-4a86-ab52-c302f84f3f38",
   "metadata": {
    "tags": []
   },
   "outputs": [],
   "source": [
    "ms_wl = f[0].header['CRVAL1'] + f[0].header['CD1_1'] * np.arange(f[0].data.shape[2])\n",
    "ms_fl = f[0].data[0,0,:]"
   ]
  },
  {
   "cell_type": "code",
   "execution_count": null,
   "id": "9c028280-e7b7-464b-8b43-11b45c81c487",
   "metadata": {},
   "outputs": [],
   "source": []
  }
 ],
 "metadata": {
  "kernelspec": {
   "display_name": "Python 3 (ipykernel)",
   "language": "python",
   "name": "python3"
  },
  "language_info": {
   "codemirror_mode": {
    "name": "ipython",
    "version": 3
   },
   "file_extension": ".py",
   "mimetype": "text/x-python",
   "name": "python",
   "nbconvert_exporter": "python",
   "pygments_lexer": "ipython3",
   "version": "3.9.13"
  }
 },
 "nbformat": 4,
 "nbformat_minor": 5
}
