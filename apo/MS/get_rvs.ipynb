{
 "cells": [
  {
   "cell_type": "code",
   "execution_count": 14,
   "id": "6fbafaa4",
   "metadata": {
    "tags": []
   },
   "outputs": [],
   "source": [
    "import glob\n",
    "import sys\n",
    "#sys.path.append('../../../msrv-xc')\n",
    "#import msrvxc\n",
    "\n",
    "import numpy as np\n",
    "import pickle\n",
    "\n",
    "from astropy.io import fits\n",
    "from astropy.table import Table\n",
    "\n",
    "from astropy.coordinates import SkyCoord\n",
    "import astropy.units as u"
   ]
  },
  {
   "cell_type": "code",
   "execution_count": 15,
   "id": "884679df",
   "metadata": {
    "tags": []
   },
   "outputs": [],
   "source": [
    "#with open('../../../msrv-xc/grids/interp_bosz.pkl', 'rb') as f:\n",
    "#    interp_bosz = pickle.load(f)\n",
    "#    \n",
    "#with open('../../../msrv-xc/grids/interp_bosz_norm.pkl', 'rb') as f:\n",
    "#    interp_bosz_norm = pickle.load(f)\n",
    "#    \n",
    "#wvl = np.load('../../../msrv-xc/grids/wavl.npy')"
   ]
  },
  {
   "cell_type": "code",
   "execution_count": 16,
   "id": "4489ae6c",
   "metadata": {
    "tags": []
   },
   "outputs": [],
   "source": [
    "def continuum_normalize(wl, fl, ivar = None, avg_size = 150, ret_cont = False):\n",
    "    \n",
    "    fl_norm = np.zeros(np.size(fl))\n",
    "    fl_cont = np.zeros(np.size(fl))\n",
    "    \n",
    "    ivar_yes = 0\n",
    "    if ivar is not None:\n",
    "        ivar_yes = 1\n",
    "        ivar_norm = np.zeros(np.size(fl))\n",
    "        \n",
    "    for i in range(np.size(wl)):\n",
    "        wl_clip = ((wl[i]-avg_size/2)<wl) * (wl<(wl[i]+avg_size/2))\n",
    "        fl_cont[i] = np.median(fl[wl_clip])\n",
    "        if ivar_yes:\n",
    "            ivar_norm[i] = ivar[i]*np.median(fl[wl_clip])**2\n",
    "    \n",
    "    fl_norm = fl/fl_cont\n",
    "    \n",
    "    if ret_cont:\n",
    "        if ivar_yes:\n",
    "            return wl, fl_norm, ivar_norm, fl_cont\n",
    "        else:\n",
    "            return wl, fl_norm, fl_cont\n",
    "    else:\n",
    "        if ivar_yes:\n",
    "            return wl, fl_norm, ivar_norm\n",
    "        else:\n",
    "            return wl, fl_norm"
   ]
  },
  {
   "cell_type": "code",
   "execution_count": 17,
   "id": "9d26faf7",
   "metadata": {
    "tags": []
   },
   "outputs": [],
   "source": [
    "files = glob.glob('./*.fits')"
   ]
  },
  {
   "cell_type": "code",
   "execution_count": 18,
   "id": "920effc4-ad0d-4010-ba3e-dd99b9a6d3fb",
   "metadata": {
    "tags": []
   },
   "outputs": [
    {
     "data": {
      "text/plain": [
       "['./CDAFB_WD0833p2915.0044r.0001.fits',\n",
       " './CDAFB_WD0833p2915.0043r.0001.fits',\n",
       " './ms_rvs.fits',\n",
       " './CDAFB_WD0650p3754.0033r.0001.fits',\n",
       " './CDAFB_WD0650p3754.0031r.0001.fits',\n",
       " './CDAFB_WD1323p1759.0049r.0001.fits',\n",
       " './CDAFB_WD0325m0111.0021r.0001.fits',\n",
       " './CDAFB_WD0325m0111.0022r.0001.fits',\n",
       " './CDAFB_WD1323p1759.0048r.0001.fits',\n",
       " './CDAFB_WD0650p3754.0032r.0001.fits',\n",
       " './CDAFB_WD1931p2109.0030r.0001.fits']"
      ]
     },
     "execution_count": 18,
     "metadata": {},
     "output_type": "execute_result"
    }
   ],
   "source": [
    "files"
   ]
  },
  {
   "cell_type": "code",
   "execution_count": 22,
   "id": "4534409e-8daf-464e-8d7a-c44abb2ac358",
   "metadata": {
    "tags": []
   },
   "outputs": [
    {
     "data": {
      "text/plain": [
       "SIMPLE  =                    T / Fits standard                                  \n",
       "BITPIX  =                  -32 / Bits per pixel                                 \n",
       "NAXIS   =                    3 / Number of axes                                 \n",
       "NAXIS1  =                 2034 / Axis length                                    \n",
       "NAXIS2  =                    1 / Axis length                                    \n",
       "NAXIS3  =                    4 / Axis length                                    \n",
       "EXTEND  =                    F / File may contain extensions                    \n",
       "ORIGIN  = 'NOAO-IRAF FITS Image Kernel July 2003' / FITS file originator        \n",
       "DATE    = '2020-02-18T18:29:50' / Date FITS file was generated                  \n",
       "IRAF-TLM= '2020-02-18T18:29:50' / Time of last modification                     \n",
       "OBSERVAT= 'APO'                / Per the IRAF observatory list.                 \n",
       "TELESCOP= '3.5m'                                                                \n",
       "INSTRUME= 'DIS'                / Instrument name                                \n",
       "LATITUDE= +3.2780361000000E+01 / Latitude of telescope base                     \n",
       "LONGITUD= -1.0582041700000E+02 / Longitude of telescope base                    \n",
       "TIMESYS = 'TAI'                / Time system for DATE-OBS                       \n",
       "UTC-TAI = -37.0                / UTC = TAI + UTC_TAI(seconds)                   \n",
       "UT1-TAI = -37.20               / UT1 = TAI + UT1_TAI(seconds)                   \n",
       "LST     = '08:26:05.644'       / Local Apperent Sidereal time                   \n",
       "OBJNAME = 'WD0650+3754'        / Object name, per TCC ObjName                   \n",
       "RADECSYS= 'FK5'                / Coordinate system, per TCC ObjSys              \n",
       "EQUINOX = +2.0000000000000E+03 / Equinox, per TCC ObjSys                        \n",
       "OBJANGLE= +7.6000000000000E+00 / Angle from inst x,y to sky                     \n",
       "RA      = '6:50:23.87'         / RA hours, extrapolated from TCC ObjNetPos      \n",
       "DEC     = '37:54:38.04'        / Dec degrees, extrapolated from TCC ObjNetPos   \n",
       "ARCOFFX = +0.0000000000000E+00 / TCC arc offset X                               \n",
       "ARCOFFY = +0.0000000000000E+00 / TCC arc offset Y                               \n",
       "CALOFFX = +0.0000000000000E+00 / TCC calibration offset X                       \n",
       "CALOFFY = +0.0000000000000E+00 / TCC calibration offset Y                       \n",
       "BOREOFFX= +0.0000000000000E+00 / TCC boresight offset X                         \n",
       "BOREOFFY= +0.0000000000000E+00 / TCC boresight offset Y                         \n",
       "AIRPRESS= +7.2441000000000E+04 / Air pressure, Pascals                          \n",
       "HUMIDITY= +3.7000000000000E-01 / Humidity, fraction                             \n",
       "TELAZ   = -1.1152156800000E+02 / TCC AxePos azimuth                             \n",
       "TELALT  = +7.0186213000000E+01 / TCC AxePos altitude                            \n",
       "TELROT  = -1.0958279300000E+02 / TCC AxePos rotator                             \n",
       "TELFOCUS= +5.0900000000000E+02 / TCC SecFocus                                   \n",
       "ZD      = +1.9813787000000E+01 / Zenith distance                                \n",
       "AIRMASS =             1.068266 / 1/cos(ZD)                                      \n",
       "FILENAME= 'WD0650p3754.0033r.fits'/ original filename                           \n",
       "CTYPE1  = 'LINEAR  '           / WCS projection                                 \n",
       "CTYPE2  = 'LINEAR  '           / WCS projection                                 \n",
       "CRPIX1  =                   1. / WCS reference pixel                            \n",
       "CRVAL1  =                5916. / WCS reference sky pos.                         \n",
       "CD1_1   =                 0.58 / WCS (1/InstScaleX)*cos(InstAng)                \n",
       "CD2_2   =                   1. / WCS (1/InstScaleY)*cos(InstAng)                \n",
       "IMAGETYP= 'object'                                                              \n",
       "DATE-OBS= '2020-02-17T05:43:17.089'/ TAI time at the start of the exposure      \n",
       "EXPTIME = +3.0000000000000E+02 / actual exposure time (needs refinement)        \n",
       "MASKPOS =                    1                                                  \n",
       "SLITMASK= '1.5 Slit'                                                            \n",
       "FILPOS  =                    0                                                  \n",
       "FILTER  = 'Empty'                                                               \n",
       "TURRPOS = 'GRATINGS1'                                                           \n",
       "DETECTOR= 'red'                                                                 \n",
       "DARKTIME= +3.0072590994835E+02 / Dark time, not including readout.              \n",
       "CCDTEMP = +1.7940000000000E+02 / CCD temperature (deg K)                        \n",
       "CCDHEAT = +0.0000000000000E+00 / CCD heater level (percent)                     \n",
       "GRATING = 'R1200'              / Grating name                                   \n",
       "PIXSCAL2= +4.1400000000000E-01 / spatial coordinate pixel scale (arcsec/pixel)  \n",
       "DISPDW  = +5.6000000000000E-01 / Approximate dispersion, (A/pix)                \n",
       "DISPWC  = +6.5000000000000E+03 / Approximate center wavelength, (A)             \n",
       "LINESMM = +1.2000000000000E+03 / Grating lines/mm                               \n",
       "BLAZEANG= +9.9990000000000E+01 / Grating blaze angle                            \n",
       "CCDBIN1 =                    1 / Bin factor along CCD rows                      \n",
       "CCDBIN2 =                    1 / Bin factor along CCD columns                   \n",
       "CCDSUM  = '1 1'                / Binning factors, alternate FITS card.          \n",
       "GAIN    = +1.8800000000000E+00 / CCD gain (e-/ADU)                              \n",
       "RDNOISE = +4.6000000000000E+00 / CCD read noise (e-/pix)                        \n",
       "DETSIZE = '[1:2048,1:1028]'    / Detector size, unbinned pixels.                \n",
       "WCSDIM  =                    3                                                  \n",
       "LTM1_1  =                   1.                                                  \n",
       "LTM2_2  =                   1.                                                  \n",
       "WAT0_001= 'system=equispec'                                                     \n",
       "WAT1_001= 'wtype=linear label=Wavelength units=angstroms'                       \n",
       "WAT2_001= 'wtype=linear'                                                        \n",
       "TRIM    = 'Feb 18 12:41 Trim data section is [5:2042,280:950]'                  \n",
       "FIXPIX  = 'Feb 18 12:41 Bad pixel file is badpix_DISr.txt'                      \n",
       "OVERSCAN= 'Feb 18 12:41 Overscan section is [2051:2096,2:1027] with mean=117.73'\n",
       "ZEROCOR = 'Feb 18 12:41 Zero level correction image is 0_R_ZERO'                \n",
       "CCDSEC  = '[5:2042,280:950]'                                                    \n",
       "CCDPROC = 'Feb 18 12:42 CCD processing done'                                    \n",
       "FLATCOR = 'Feb 18 12:42 Flat field image is 2_R_FLAT_n.fits with scale=1.'      \n",
       "BANDID1 = 'spectrum: background fit, weights variance, clean yes'               \n",
       "BANDID2 = 'spectrum: background fit, weights none, clean no'                    \n",
       "BANDID3 = 'background: background fit'                                          \n",
       "BANDID4 = 'sigma - background fit, weights variance, clean yes'                 \n",
       "APNUM1  = '1 1 367.04 377.04'                                                   \n",
       "CTYPE3  = 'LINEAR  '                                                            \n",
       "CD3_3   =                   1.                                                  \n",
       "LTM3_3  =                   1.                                                  \n",
       "WAT3_001= 'wtype=linear'                                                        \n",
       "JD      =     2458896.74012835                                                  \n",
       "HJD     =     2458896.74385104                                                  \n",
       "LJD     =             2458896.                                                  \n",
       "DC-FLAG =                    0                                                  \n",
       "DCLOG1  = 'REFSPEC1 = comp30r.0001'                                             \n",
       "UTMIDDLE= '2020-02-17T05:45:47.09'                                              \n",
       "EX-FLAG =                    0                                                  \n",
       "CA-FLAG =                    0                                                  \n",
       "BUNIT   = 'erg/cm2/s/A'                                                         \n",
       "                                                                                \n",
       "                                                                                \n",
       "                                                                                \n",
       "                                                                                \n",
       "                                                                                \n",
       "                                                                                "
      ]
     },
     "execution_count": 22,
     "metadata": {},
     "output_type": "execute_result"
    }
   ],
   "source": [
    "fits.open(files[3])[0].header"
   ]
  },
  {
   "cell_type": "code",
   "execution_count": 7,
   "id": "1705f466",
   "metadata": {
    "tags": []
   },
   "outputs": [
    {
     "name": "stderr",
     "output_type": "stream",
     "text": [
      "  0%|                                                                                            | 0/11 [00:00<?, ?it/s]"
     ]
    },
    {
     "name": "stdout",
     "output_type": "stream",
     "text": [
      "SIMPLE  =                    T / Fits standard                                  BITPIX  =                  -32 / Bits per pixel                                 NAXIS   =                    3 / Number of axes                                 NAXIS1  =                 2034 / Axis length                                    NAXIS2  =                    1 / Axis length                                    NAXIS3  =                    4 / Axis length                                    EXTEND  =                    F / File may contain extensions                    ORIGIN  = 'NOAO-IRAF FITS Image Kernel July 2003' / FITS file originator        DATE    = '2020-02-18T18:29:50' / Date FITS file was generated                  IRAF-TLM= '2020-02-18T18:29:50' / Time of last modification                     OBSERVAT= 'APO'                / Per the IRAF observatory list.                 TELESCOP= '3.5m'                                                                INSTRUME= 'DIS'                / Instrument name                                LATITUDE= +3.2780361000000E+01 / Latitude of telescope base                     LONGITUD= -1.0582041700000E+02 / Longitude of telescope base                    TIMESYS = 'TAI'                / Time system for DATE-OBS                       UTC-TAI = -37.0                / UTC = TAI + UTC_TAI(seconds)                   UT1-TAI = -37.20               / UT1 = TAI + UT1_TAI(seconds)                   LST     = '09:56:13.720'       / Local Apperent Sidereal time                   OBJNAME = 'WD0833+2915'        / Object name, per TCC ObjName                   RADECSYS= 'FK5'                / Coordinate system, per TCC ObjSys              EQUINOX = +2.0000000000000E+03 / Equinox, per TCC ObjSys                        OBJANGLE= +6.0060000000000E+01 / Angle from inst x,y to sky                     RA      = '8:33:53.05'         / RA hours, extrapolated from TCC ObjNetPos      DEC     = '29:15:00.94'        / Dec degrees, extrapolated from TCC ObjNetPos   ARCOFFX = +0.0000000000000E+00 / TCC arc offset X                               ARCOFFY = +0.0000000000000E+00 / TCC arc offset Y                               CALOFFX = +0.0000000000000E+00 / TCC calibration offset X                       CALOFFY = +0.0000000000000E+00 / TCC calibration offset Y                       BOREOFFX= +0.0000000000000E+00 / TCC boresight offset X                         BOREOFFY= +0.0000000000000E+00 / TCC boresight offset Y                         AIRPRESS= +7.2394000000000E+04 / Air pressure, Pascals                          HUMIDITY= +4.0000000000000E-01 / Humidity, fraction                             TELAZ   = -8.3662142000000E+01 / TCC AxePos azimuth                             TELALT  = +7.2312805000000E+01 / TCC AxePos altitude                            TELROT  = -3.0421800000000E+01 / TCC AxePos rotator                             TELFOCUS= +5.0900000000000E+02 / TCC SecFocus                                   ZD      = +1.7687195000000E+01 / Zenith distance                                AIRMASS =             1.054348 / 1/cos(ZD)                                      FILENAME= 'WD0833p2915.0044r.fits'/ original filename                           CTYPE1  = 'LINEAR  '           / WCS projection                                 CTYPE2  = 'LINEAR  '           / WCS projection                                 CRPIX1  =                   1. / WCS reference pixel                            CRVAL1  =                5916. / WCS reference sky pos.                         CD1_1   =                 0.58 / WCS (1/InstScaleX)*cos(InstAng)                CD2_2   =                   1. / WCS (1/InstScaleY)*cos(InstAng)                IMAGETYP= 'object'                                                              DATE-OBS= '2020-02-17T07:13:10.398'/ TAI time at the start of the exposure      EXPTIME = +3.0000000000000E+02 / actual exposure time (needs refinement)        MASKPOS =                    1                                                  SLITMASK= '1.5 Slit'                                                            FILPOS  =                    0                                                  FILTER  = 'Empty'                                                               TURRPOS = 'GRATINGS1'                                                           DETECTOR= 'red'                                                                 DARKTIME= +3.0072711992264E+02 / Dark time, not including readout.              CCDTEMP = +1.7930000000000E+02 / CCD temperature (deg K)                        CCDHEAT = +0.0000000000000E+00 / CCD heater level (percent)                     GRATING = 'R1200'              / Grating name                                   PIXSCAL2= +4.1400000000000E-01 / spatial coordinate pixel scale (arcsec/pixel)  DISPDW  = +5.6000000000000E-01 / Approximate dispersion, (A/pix)                DISPWC  = +6.5000000000000E+03 / Approximate center wavelength, (A)             LINESMM = +1.2000000000000E+03 / Grating lines/mm                               BLAZEANG= +9.9990000000000E+01 / Grating blaze angle                            CCDBIN1 =                    1 / Bin factor along CCD rows                      CCDBIN2 =                    1 / Bin factor along CCD columns                   CCDSUM  = '1 1'                / Binning factors, alternate FITS card.          GAIN    = +1.8800000000000E+00 / CCD gain (e-/ADU)                              RDNOISE = +4.6000000000000E+00 / CCD read noise (e-/pix)                        DETSIZE = '[1:2048,1:1028]'    / Detector size, unbinned pixels.                WCSDIM  =                    3                                                  LTM1_1  =                   1.                                                  LTM2_2  =                   1.                                                  WAT0_001= 'system=equispec'                                                     WAT1_001= 'wtype=linear label=Wavelength units=angstroms'                       WAT2_001= 'wtype=linear'                                                        TRIM    = 'Feb 18 12:41 Trim data section is [5:2042,280:950]'                  FIXPIX  = 'Feb 18 12:41 Bad pixel file is badpix_DISr.txt'                      OVERSCAN= 'Feb 18 12:41 Overscan section is [2051:2096,2:1027] with mean=122.22'ZEROCOR = 'Feb 18 12:41 Zero level correction image is 0_R_ZERO'                CCDSEC  = '[5:2042,280:950]'                                                    CCDPROC = 'Feb 18 12:42 CCD processing done'                                    FLATCOR = 'Feb 18 12:42 Flat field image is 2_R_FLAT_n.fits with scale=1.'      BANDID1 = 'spectrum: background fit, weights variance, clean yes'               BANDID2 = 'spectrum: background fit, weights none, clean no'                    BANDID3 = 'background: background fit'                                          BANDID4 = 'sigma - background fit, weights variance, clean yes'                 APNUM1  = '1 1 376.10 383.70'                                                   CTYPE3  = 'LINEAR  '                                                            CD3_3   =                   1.                                                  LTM3_3  =                   1.                                                  WAT3_001= 'wtype=linear'                                                        JD      =     2458896.80255094                                                  HJD     =     2458896.80766347                                                  LJD     =             2458896.                                                  DC-FLAG =                    0                                                  DCLOG1  = 'REFSPEC1 = comp42r.0001'                                             UTMIDDLE= '2020-02-17T07:15:40.40'                                              EX-FLAG =                    0                                                  CA-FLAG =                    0                                                  BUNIT   = 'erg/cm2/s/A'                                                                                                                                                                                                                                                                                                                                                                                                                                                                                                                                                         END                                                                             \n",
      "[<astropy.io.fits.hdu.image.PrimaryHDU object at 0x7fd61c744940>]\n"
     ]
    },
    {
     "name": "stderr",
     "output_type": "stream",
     "text": [
      "  0%|                                                                                            | 0/11 [00:00<?, ?it/s]\n"
     ]
    },
    {
     "ename": "NameError",
     "evalue": "name 'msrvxc' is not defined",
     "output_type": "error",
     "traceback": [
      "\u001b[0;31m---------------------------------------------------------------------------\u001b[0m",
      "\u001b[0;31mNameError\u001b[0m                                 Traceback (most recent call last)",
      "Cell \u001b[0;32mIn[7], line 24\u001b[0m\n\u001b[1;32m     21\u001b[0m ms_ivar \u001b[38;5;241m=\u001b[39m f[\u001b[38;5;241m0\u001b[39m]\u001b[38;5;241m.\u001b[39mdata[\u001b[38;5;241m3\u001b[39m,\u001b[38;5;241m0\u001b[39m,:]\u001b[38;5;241m*\u001b[39m\u001b[38;5;241m*\u001b[39m\u001b[38;5;241m-\u001b[39m\u001b[38;5;241m2\u001b[39m\n\u001b[1;32m     23\u001b[0m wl, fl, ivar \u001b[38;5;241m=\u001b[39m continuum_normalize(ms_wl, ms_fl, ms_ivar)\n\u001b[0;32m---> 24\u001b[0m res, rv, e_rv, rvgrid, cc \u001b[38;5;241m=\u001b[39m \u001b[43mmsrvxc\u001b[49m\u001b[38;5;241m.\u001b[39mfit\u001b[38;5;241m.\u001b[39mfit_rv(interp_bosz_norm, wvl, wl, fl, ivar, plot \u001b[38;5;241m=\u001b[39m \u001b[38;5;28;01mFalse\u001b[39;00m)\n\u001b[1;32m     26\u001b[0m names\u001b[38;5;241m.\u001b[39mappend(name)\n\u001b[1;32m     27\u001b[0m ras\u001b[38;5;241m.\u001b[39mappend(ra)\n",
      "\u001b[0;31mNameError\u001b[0m: name 'msrvxc' is not defined"
     ]
    }
   ],
   "source": [
    "from tqdm import tqdm\n",
    "\n",
    "names = []\n",
    "ras = []\n",
    "decs = []\n",
    "rvs = []\n",
    "e_rvs = []\n",
    "\n",
    "for file in tqdm(files):\n",
    "    f = fits.open(file)\n",
    "    \n",
    "    print(f[0].header)\n",
    "    print(f)\n",
    "    \n",
    "    name = f[0].header['OBJNAME']\n",
    "    ra = f[0].header['RA']\n",
    "    dec = f[0].header['DEC']\n",
    "    \n",
    "    ms_wl = f[0].header['CRVAL1'] + f[0].header['CD1_1'] * np.arange(f[0].data.shape[2])\n",
    "    ms_fl = f[0].data[0,0,:]\n",
    "    ms_ivar = f[0].data[3,0,:]**-2\n",
    "    \n",
    "    wl, fl, ivar = continuum_normalize(ms_wl, ms_fl, ms_ivar)\n",
    "    res, rv, e_rv, rvgrid, cc = msrvxc.fit.fit_rv(interp_bosz_norm, wvl, wl, fl, ivar, plot = False)\n",
    "\n",
    "    names.append(name)\n",
    "    ras.append(ra)\n",
    "    decs.append(decs)\n",
    "    rvs.append(rv)\n",
    "    e_rvs.append(e_rv)"
   ]
  },
  {
   "cell_type": "code",
   "execution_count": null,
   "id": "ed97315c",
   "metadata": {
    "tags": []
   },
   "outputs": [],
   "source": [
    "t = Table([names, ras, decs, rvs, e_rvs], names=('name', 'ms_ra', 'ms_dec', 'ms_rv', 'ms_e_rv'))"
   ]
  },
  {
   "cell_type": "code",
   "execution_count": null,
   "id": "df9f929e",
   "metadata": {
    "tags": []
   },
   "outputs": [],
   "source": [
    "names = list(set(t['name']))\n",
    "ms_ras = []\n",
    "ms_decs = []\n",
    "rvs = []\n",
    "e_rvs = []\n",
    "\n",
    "for name in tqdm(names):\n",
    "    ms_ras.append(t[t['name'] == name]['ms_ra'][0]\n",
    "    ms_decs.append(t[t['name'] == name]['ms_dec'][0]\n",
    "    \n",
    "    rv = 0\n",
    "    e_rv = 0\n",
    "    count = 0\n",
    "    \n",
    "    for i in range(len(t[t['name'] == name])):\n",
    "        if t[t['name'] == name]['ms_e_rv'][i] < 9999:\n",
    "            count += 1\n",
    "            rv += t[t['name'] == name]['ms_rv'][i]\n",
    "            e_rv += t[t['name'] == name]['ms_e_rv'][i]**2\n",
    "            \n",
    "    rv = rv / count\n",
    "    \"\"\"\n",
    "    \n",
    "    IS THIS CORRECT? I DON'T KNOW!\n",
    "    VVV\n",
    "    \n",
    "    \"\"\"\n",
    "    e_rv = np.sqrt(e_rv) / np.sqrt(count)\n",
    "    \n",
    "    rvs.append(rv)\n",
    "    e_rvs.append(e_rv)"
   ]
  },
  {
   "cell_type": "code",
   "execution_count": null,
   "id": "951d8b0a",
   "metadata": {
    "tags": []
   },
   "outputs": [],
   "source": [
    "ms_locs"
   ]
  },
  {
   "cell_type": "code",
   "execution_count": null,
   "id": "810d7bb3",
   "metadata": {
    "tags": []
   },
   "outputs": [],
   "source": [
    "t2 = Table([names, ras, decs, rvs, e_rvs], names=('name', 'ms_ra', 'ms_dec', 'ms_rv', 'ms_e_rv'))"
   ]
  },
  {
   "cell_type": "code",
   "execution_count": 12,
   "id": "905c461e",
   "metadata": {
    "tags": []
   },
   "outputs": [],
   "source": [
    "t2.write('ms_rvs.fits', overwrite = True)"
   ]
  },
  {
   "cell_type": "code",
   "execution_count": 35,
   "id": "cebdff10",
   "metadata": {
    "tags": []
   },
   "outputs": [
    {
     "data": {
      "text/html": [
       "<div><i>Table length=5</i>\n",
       "<table id=\"table139830383450912\" class=\"table-striped table-bordered table-condensed\">\n",
       "<thead><tr><th>name</th><th>ms_loc</th><th>ms_rv</th><th>ms_e_rv</th></tr></thead>\n",
       "<thead><tr><th></th><th>deg,deg</th><th></th><th></th></tr></thead>\n",
       "<thead><tr><th>str11</th><th>SkyCoord</th><th>float64</th><th>float64</th></tr></thead>\n",
       "<tr><td>WD1323+1759</td><td>200.82491666666664,17.994533333333333</td><td>-780.1161718274557</td><td>87.86655364813166</td></tr>\n",
       "<tr><td>WD0833+2915</td><td>128.47104166666665,29.25026111111111</td><td>-82.46178345224156</td><td>99.13201425372127</td></tr>\n",
       "<tr><td>WD0650+3754</td><td>102.59945833333332,37.91056666666667</td><td>-80.16460280724789</td><td>100.00499987500625</td></tr>\n",
       "<tr><td>WD0325-0111</td><td>51.294416666666656,-1.187438888888889</td><td>-41.86858469631204</td><td>100.00499987500625</td></tr>\n",
       "<tr><td>WD1931+2109</td><td>292.87941666666666,21.16358611111111</td><td>612.3459731416441</td><td>100.00499987500625</td></tr>\n",
       "</table></div>"
      ],
      "text/plain": [
       "<Table length=5>\n",
       "    name                    ms_loc                      ms_rv             ms_e_rv      \n",
       "                           deg,deg                                                     \n",
       "   str11                   SkyCoord                    float64            float64      \n",
       "----------- ------------------------------------- ------------------ ------------------\n",
       "WD1323+1759 200.82491666666664,17.994533333333333 -780.1161718274557  87.86655364813166\n",
       "WD0833+2915  128.47104166666665,29.25026111111111 -82.46178345224156  99.13201425372127\n",
       "WD0650+3754  102.59945833333332,37.91056666666667 -80.16460280724789 100.00499987500625\n",
       "WD0325-0111 51.294416666666656,-1.187438888888889 -41.86858469631204 100.00499987500625\n",
       "WD1931+2109  292.87941666666666,21.16358611111111  612.3459731416441 100.00499987500625"
      ]
     },
     "execution_count": 35,
     "metadata": {},
     "output_type": "execute_result"
    }
   ],
   "source": [
    "t2"
   ]
  },
  {
   "cell_type": "code",
   "execution_count": null,
   "id": "ddf1af04",
   "metadata": {},
   "outputs": [],
   "source": []
  }
 ],
 "metadata": {
  "kernelspec": {
   "display_name": "Python 3 (ipykernel)",
   "language": "python",
   "name": "python3"
  },
  "language_info": {
   "codemirror_mode": {
    "name": "ipython",
    "version": 3
   },
   "file_extension": ".py",
   "mimetype": "text/x-python",
   "name": "python",
   "nbconvert_exporter": "python",
   "pygments_lexer": "ipython3",
   "version": "3.9.13"
  }
 },
 "nbformat": 4,
 "nbformat_minor": 5
}
