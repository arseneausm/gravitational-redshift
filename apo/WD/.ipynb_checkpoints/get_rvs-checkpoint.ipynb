{
 "cells": [
  {
   "cell_type": "code",
   "execution_count": 1,
   "id": "2188a60c-7ea6-4672-8de1-610585a861b8",
   "metadata": {
    "tags": []
   },
   "outputs": [
    {
     "name": "stdout",
     "output_type": "stream",
     "text": [
      "/Users/vedantchandra/0_research/01_sdss5/006_build_corv/data/comm_cat/\n",
      "star and exposure catalogs not found! check paths and run make_catalogs() if you want to use sdss functionality. otherwise ignore.\n"
     ]
    }
   ],
   "source": [
    "import glob\n",
    "import numpy as np\n",
    "import sys\n",
    "sys.path.append('../../corv/src')\n",
    "\n",
    "import matplotlib.pyplot as plt\n",
    "from tqdm import tqdm\n",
    "\n",
    "from astropy.io import fits\n",
    "from astropy.table import Table\n",
    "\n",
    "from astropy.coordinates import SkyCoord\n",
    "import astropy.units as u\n",
    "\n",
    "import corv"
   ]
  },
  {
   "cell_type": "code",
   "execution_count": 2,
   "id": "9a442361-7193-4f82-a888-1d5ca3dae6b9",
   "metadata": {},
   "outputs": [
    {
     "data": {
      "text/plain": [
       "'\\n\\nTODO:\\n    - write the actual proper fitting function with koester instead of balmer\\n    - make a list of good and bad plots\\n\\n'"
      ]
     },
     "execution_count": 2,
     "metadata": {},
     "output_type": "execute_result"
    }
   ],
   "source": [
    "\"\"\"\n",
    "\n",
    "TODO:\n",
    "    - write the actual proper fitting function with koester instead of balmer\n",
    "    - make a list of good and bad plots\n",
    "\n",
    "\"\"\""
   ]
  },
  {
   "cell_type": "code",
   "execution_count": 3,
   "id": "af026ac4-f11f-4c53-8468-a483bb293ad5",
   "metadata": {
    "tags": []
   },
   "outputs": [],
   "source": [
    "files = glob.glob('CDAFB*')"
   ]
  },
  {
   "cell_type": "code",
   "execution_count": null,
   "id": "807e87dd-5206-4bc9-bab6-8d7fb99191de",
   "metadata": {
    "tags": []
   },
   "outputs": [
    {
     "name": "stderr",
     "output_type": "stream",
     "text": [
      "  0%|                                                                                            | 0/18 [00:00<?, ?it/s]"
     ]
    },
    {
     "name": "stdout",
     "output_type": "stream",
     "text": [
      "CDAFB_WD1931p2109.0031b.0001.fits\n"
     ]
    }
   ],
   "source": [
    "names = []\n",
    "ras = []\n",
    "decs = []\n",
    "rvs = []\n",
    "e_rvs = []\n",
    "redchis = []\n",
    "\n",
    "for file in tqdm(files):\n",
    "    print(file)\n",
    "    \n",
    "    try:\n",
    "        f = fits.open(file)\n",
    "        \n",
    "        name = f[0].header['OBJNAME']\n",
    "        ra = f[0].header['RA']\n",
    "        dec = f[0].header['DEC']\n",
    "        \n",
    "        wd_wl = f[0].header['CRVAL1'] + f[0].header['CD1_1'] * np.arange(f[0].data.shape[2])\n",
    "        wd_fl = f[0].data[0,0,:]\n",
    "                \n",
    "        if f[0].header['DETECTOR'] == 'blue':\n",
    "            corvmodel = corv.models.make_koester_model(names = ['b','g','d'])\n",
    "            param_res, rv_res, rv_init = corv.fit.fit_corv(wd_wl, wd_fl, np.ones(len(wd_wl)), corvmodel)\n",
    "            corv.utils.lineplot(wd_wl, wd_fl, np.ones(len(wd_wl)), corvmodel, rv_res.params, gap = 0.3, printparams= False,\n",
    "                         figsize = (6, 5))\n",
    "            \n",
    "            rv = rv_res.params['RV'].value\n",
    "            e_rv = rv_res.params['RV'].stderr\n",
    "            redchi = rv_res.redchi\n",
    "        elif f[0].header['DETECTOR'] == 'red':\n",
    "            corvmodel = corv.models.make_koester_model(names = ['a'])\n",
    "            param_res, rv_res, rv_init = corv.fit.fit_corv(wd_wl, wd_fl, np.ones(len(wd_wl)), corvmodel)\n",
    "            corv.utils.lineplot(wd_wl, wd_fl, np.ones(len(wd_wl)), corvmodel, rv_res.params, gap = 0.3, printparams= False,\n",
    "                         figsize = (6, 5))\n",
    "            \n",
    "            rv = rv_res.params['RV'].value\n",
    "            e_rv = rv_res.params['RV'].stderr\n",
    "            redchi = rv_res.redchi\n",
    "            \n",
    "        names.append(name)\n",
    "        ras.append(ra)\n",
    "        decs.append(dec)\n",
    "        rvs.append(rv)\n",
    "        e_rvs.append(e_rv)\n",
    "        redchis.append(redchi)\n",
    "    except:\n",
    "        new_files = glob.glob(file+'/*')\n",
    "        \n",
    "        f1 = fits.open(new_files[0])\n",
    "        f2 = fits.open(new_files[1])\n",
    "        \n",
    "        name = f1[0].header['OBJNAME']\n",
    "        ra = f1[0].header['RA']\n",
    "        dec = f1[0].header['DEC']\n",
    "        \n",
    "        wd_wl1 = f1[0].header['CRVAL1'] + f1[0].header['CD1_1'] * np.arange(f1[0].data.shape[2])\n",
    "        wd_fl1 = f1[0].data[0,0,:]\n",
    "        \n",
    "        wd_wl2 = f2[0].header['CRVAL1'] + f2[0].header['CD1_1'] * np.arange(f2[0].data.shape[2])\n",
    "        wd_fl2 = f2[0].data[0,0,:]\n",
    "        \n",
    "        wd_wl = np.concatenate((wd_wl2, wd_wl1))\n",
    "        wd_fl = np.concatenate((wd_fl2, wd_fl1))\n",
    "        \n",
    "        try:\n",
    "            corvmodel = corv.models.make_koester_model(names = ['a','b','g'])\n",
    "            param_res, rv_res, rv_init = corv.fit.fit_corv(wd_wl, wd_fl, np.ones(len(wd_wl)), corvmodel)\n",
    "            corv.utils.lineplot(wd_wl, wd_fl, np.ones(len(wd_wl)), corvmodel, rv_res.params, printparams= False, gap = 0.3, figsize = (6, 5))\n",
    "            \n",
    "            rv = rv_res.params['RV'].value\n",
    "            e_rv = rv_res.params['RV'].stderr\n",
    "            redchi = rv_res.redchi\n",
    "        except:\n",
    "            rv = 999999\n",
    "            e_rv = 99999\n",
    "            redchi = 99999\n",
    "        \n",
    "        names.append(name)\n",
    "        ras.append(ra)\n",
    "        decs.append(dec)\n",
    "        rvs.append(rv)\n",
    "        e_rvs.append(e_rv)\n",
    "        redchis.append(redchi)"
   ]
  },
  {
   "cell_type": "code",
   "execution_count": null,
   "id": "70befe9c-23e3-4dd4-9105-d5881258849c",
   "metadata": {
    "tags": []
   },
   "outputs": [],
   "source": [
    "decs[0]"
   ]
  },
  {
   "cell_type": "code",
   "execution_count": null,
   "id": "cc780f1f-334c-4565-8d6e-65d851e787ab",
   "metadata": {
    "tags": []
   },
   "outputs": [],
   "source": [
    "t = Table([names, ras, decs, rvs, e_rvs, redchis], names=('name', 'wd_ra', 'wd_dec', 'wd_rv', 'wd_e_rv', 'redchi'))"
   ]
  },
  {
   "cell_type": "code",
   "execution_count": null,
   "id": "b618a2d9-9a75-4eb1-b01e-d6c8c019bfef",
   "metadata": {
    "tags": []
   },
   "outputs": [],
   "source": [
    "t"
   ]
  },
  {
   "cell_type": "code",
   "execution_count": null,
   "id": "e87b4420-ba95-42f3-92f4-e5ae918bde7b",
   "metadata": {
    "tags": []
   },
   "outputs": [],
   "source": [
    "names = list(set(t['name']))\n",
    "wd_ras = []\n",
    "wd_decs = []\n",
    "rvs = []\n",
    "e_rvs = []\n",
    "\n",
    "for name in tqdm(names):\n",
    "    wd_ras.append(t[t['name'] == name]['wd_ra'][0]\n",
    "    wd_decs.append(t[t['name'] == name]['wd_dec'][0]\n",
    "    rv = 0\n",
    "    e_rv = 0\n",
    "    count = 0\n",
    "    \n",
    "    for i in range(len(t[t['name'] == name])):\n",
    "        if t[t['name'] == name]['wd_e_rv'][i] < 9999:\n",
    "            count += 1\n",
    "            rv += t[t['name'] == name]['wd_rv'][i]\n",
    "            e_rv += t[t['name'] == name]['wd_e_rv'][i]**2\n",
    "            \n",
    "    rv = rv / count\n",
    "    e_rv = np.sqrt(e_rv)\n",
    "    \n",
    "    rvs.append(rv)\n",
    "    e_rvs.append(e_rv)"
   ]
  },
  {
   "cell_type": "code",
   "execution_count": null,
   "id": "734f4bca-ddb9-4459-80d6-228a792774da",
   "metadata": {
    "tags": []
   },
   "outputs": [],
   "source": [
    "t2 = Table([names, wd_locs, rvs, e_rvs], names=('name', 'wd_loc', 'wd_rv', 'wd_e_rv'))"
   ]
  },
  {
   "cell_type": "code",
   "execution_count": null,
   "id": "a48f1705-3b09-4de6-8872-16e80b9440c3",
   "metadata": {
    "tags": []
   },
   "outputs": [],
   "source": [
    "t2.write('wd_rvs.fits', overwrite=True)"
   ]
  },
  {
   "cell_type": "code",
   "execution_count": null,
   "id": "62f38781-8386-45f3-96a3-a93936b275dc",
   "metadata": {
    "tags": []
   },
   "outputs": [],
   "source": [
    "t2"
   ]
  },
  {
   "cell_type": "code",
   "execution_count": null,
   "id": "3ac2e638-7dfd-4c62-8a32-893fd7d242a5",
   "metadata": {},
   "outputs": [],
   "source": []
  }
 ],
 "metadata": {
  "kernelspec": {
   "display_name": "Python 3 (ipykernel)",
   "language": "python",
   "name": "python3"
  },
  "language_info": {
   "codemirror_mode": {
    "name": "ipython",
    "version": 3
   },
   "file_extension": ".py",
   "mimetype": "text/x-python",
   "name": "python",
   "nbconvert_exporter": "python",
   "pygments_lexer": "ipython3",
   "version": "3.9.13"
  }
 },
 "nbformat": 4,
 "nbformat_minor": 5
}
