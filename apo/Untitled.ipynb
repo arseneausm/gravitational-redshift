{
 "cells": [
  {
   "cell_type": "code",
   "execution_count": 1,
   "id": "2d710697-71a4-4abf-828a-fdd04fb1008f",
   "metadata": {
    "tags": []
   },
   "outputs": [],
   "source": [
    "import numpy as np\n",
    "import sys\n",
    "\n",
    "import matplotlib.pyplot as plt\n",
    "from astropy.io import fits\n",
    "from tqdm import tqdm\n",
    "\n",
    "from astropy.table import Table, vstack, join\n",
    "from astropy import units as u\n",
    "from astropy.coordinates import SkyCoord"
   ]
  },
  {
   "cell_type": "code",
   "execution_count": 2,
   "id": "d3f68c84-6d80-44f5-88bc-bd55dc7b9e08",
   "metadata": {
    "tags": []
   },
   "outputs": [],
   "source": [
    "wds = Table.read('WD/wd_rvs.fits')\n",
    "mss = Table.read('MS/ms_rvs.fits')"
   ]
  },
  {
   "cell_type": "code",
   "execution_count": 4,
   "id": "6049c055-18d8-45fe-ac44-7f7015531383",
   "metadata": {
    "tags": []
   },
   "outputs": [
    {
     "ename": "NotImplementedError",
     "evalue": "join requires masking column 'wd_loc' but column type SkyCoord does not support masking",
     "output_type": "error",
     "traceback": [
      "\u001b[0;31m---------------------------------------------------------------------------\u001b[0m",
      "\u001b[0;31mAttributeError\u001b[0m                            Traceback (most recent call last)",
      "File \u001b[0;32m~/anaconda3/lib/python3.9/site-packages/astropy/table/operations.py:1243\u001b[0m, in \u001b[0;36m_join\u001b[0;34m(left, right, keys, join_type, uniq_col_name, table_names, col_name_map, metadata_conflicts, join_funcs, keys_left, keys_right)\u001b[0m\n\u001b[1;32m   1242\u001b[0m \u001b[38;5;28;01mtry\u001b[39;00m:\n\u001b[0;32m-> 1243\u001b[0m     col[array_mask] \u001b[38;5;241m=\u001b[39m \u001b[43mcol\u001b[49m\u001b[38;5;241;43m.\u001b[39;49m\u001b[43minfo\u001b[49m\u001b[38;5;241;43m.\u001b[39;49m\u001b[43mmask_val\u001b[49m\n\u001b[1;32m   1244\u001b[0m \u001b[38;5;28;01mexcept\u001b[39;00m \u001b[38;5;167;01mException\u001b[39;00m \u001b[38;5;28;01mas\u001b[39;00m err:  \u001b[38;5;66;03m# Not clear how different classes will fail here\u001b[39;00m\n",
      "\u001b[0;31mAttributeError\u001b[0m: 'SkyCoordInfo' object has no attribute 'mask_val'",
      "\nThe above exception was the direct cause of the following exception:\n",
      "\u001b[0;31mNotImplementedError\u001b[0m                       Traceback (most recent call last)",
      "Cell \u001b[0;32mIn[4], line 1\u001b[0m\n\u001b[0;32m----> 1\u001b[0m catalog \u001b[38;5;241m=\u001b[39m \u001b[43mjoin\u001b[49m\u001b[43m(\u001b[49m\u001b[43mwds\u001b[49m\u001b[43m,\u001b[49m\u001b[43m \u001b[49m\u001b[43mmss\u001b[49m\u001b[43m,\u001b[49m\u001b[43m \u001b[49m\u001b[43mkeys\u001b[49m\u001b[43m \u001b[49m\u001b[38;5;241;43m=\u001b[39;49m\u001b[43m \u001b[49m\u001b[38;5;124;43m'\u001b[39;49m\u001b[38;5;124;43mname\u001b[39;49m\u001b[38;5;124;43m'\u001b[39;49m\u001b[43m,\u001b[49m\u001b[43m \u001b[49m\u001b[43mjoin_type\u001b[49m\u001b[43m \u001b[49m\u001b[38;5;241;43m=\u001b[39;49m\u001b[43m \u001b[49m\u001b[38;5;124;43m'\u001b[39;49m\u001b[38;5;124;43mouter\u001b[39;49m\u001b[38;5;124;43m'\u001b[39;49m\u001b[43m)\u001b[49m\n",
      "File \u001b[0;32m~/anaconda3/lib/python3.9/site-packages/astropy/table/operations.py:392\u001b[0m, in \u001b[0;36mjoin\u001b[0;34m(left, right, keys, join_type, keys_left, keys_right, uniq_col_name, table_names, metadata_conflicts, join_funcs)\u001b[0m\n\u001b[1;32m    389\u001b[0m     right \u001b[38;5;241m=\u001b[39m Table(right)\n\u001b[1;32m    391\u001b[0m col_name_map \u001b[38;5;241m=\u001b[39m OrderedDict()\n\u001b[0;32m--> 392\u001b[0m out \u001b[38;5;241m=\u001b[39m \u001b[43m_join\u001b[49m\u001b[43m(\u001b[49m\u001b[43mleft\u001b[49m\u001b[43m,\u001b[49m\u001b[43m \u001b[49m\u001b[43mright\u001b[49m\u001b[43m,\u001b[49m\u001b[43m \u001b[49m\u001b[43mkeys\u001b[49m\u001b[43m,\u001b[49m\u001b[43m \u001b[49m\u001b[43mjoin_type\u001b[49m\u001b[43m,\u001b[49m\n\u001b[1;32m    393\u001b[0m \u001b[43m            \u001b[49m\u001b[43muniq_col_name\u001b[49m\u001b[43m,\u001b[49m\u001b[43m \u001b[49m\u001b[43mtable_names\u001b[49m\u001b[43m,\u001b[49m\u001b[43m \u001b[49m\u001b[43mcol_name_map\u001b[49m\u001b[43m,\u001b[49m\u001b[43m \u001b[49m\u001b[43mmetadata_conflicts\u001b[49m\u001b[43m,\u001b[49m\n\u001b[1;32m    394\u001b[0m \u001b[43m            \u001b[49m\u001b[43mjoin_funcs\u001b[49m\u001b[43m,\u001b[49m\n\u001b[1;32m    395\u001b[0m \u001b[43m            \u001b[49m\u001b[43mkeys_left\u001b[49m\u001b[38;5;241;43m=\u001b[39;49m\u001b[43mkeys_left\u001b[49m\u001b[43m,\u001b[49m\u001b[43m \u001b[49m\u001b[43mkeys_right\u001b[49m\u001b[38;5;241;43m=\u001b[39;49m\u001b[43mkeys_right\u001b[49m\u001b[43m)\u001b[49m\n\u001b[1;32m    397\u001b[0m \u001b[38;5;66;03m# Merge the column and table meta data. Table subclasses might override\u001b[39;00m\n\u001b[1;32m    398\u001b[0m \u001b[38;5;66;03m# these methods for custom merge behavior.\u001b[39;00m\n\u001b[1;32m    399\u001b[0m _merge_table_meta(out, [left, right], metadata_conflicts\u001b[38;5;241m=\u001b[39mmetadata_conflicts)\n",
      "File \u001b[0;32m~/anaconda3/lib/python3.9/site-packages/astropy/table/operations.py:1245\u001b[0m, in \u001b[0;36m_join\u001b[0;34m(left, right, keys, join_type, uniq_col_name, table_names, col_name_map, metadata_conflicts, join_funcs, keys_left, keys_right)\u001b[0m\n\u001b[1;32m   1243\u001b[0m         col[array_mask] \u001b[38;5;241m=\u001b[39m col\u001b[38;5;241m.\u001b[39minfo\u001b[38;5;241m.\u001b[39mmask_val\n\u001b[1;32m   1244\u001b[0m     \u001b[38;5;28;01mexcept\u001b[39;00m \u001b[38;5;167;01mException\u001b[39;00m \u001b[38;5;28;01mas\u001b[39;00m err:  \u001b[38;5;66;03m# Not clear how different classes will fail here\u001b[39;00m\n\u001b[0;32m-> 1245\u001b[0m         \u001b[38;5;28;01mraise\u001b[39;00m \u001b[38;5;167;01mNotImplementedError\u001b[39;00m(\n\u001b[1;32m   1246\u001b[0m             \u001b[38;5;124m\"\u001b[39m\u001b[38;5;124mjoin requires masking column \u001b[39m\u001b[38;5;124m'\u001b[39m\u001b[38;5;132;01m{}\u001b[39;00m\u001b[38;5;124m'\u001b[39m\u001b[38;5;124m but column\u001b[39m\u001b[38;5;124m\"\u001b[39m\n\u001b[1;32m   1247\u001b[0m             \u001b[38;5;124m\"\u001b[39m\u001b[38;5;124m type \u001b[39m\u001b[38;5;132;01m{}\u001b[39;00m\u001b[38;5;124m does not support masking\u001b[39m\u001b[38;5;124m\"\u001b[39m\n\u001b[1;32m   1248\u001b[0m             \u001b[38;5;241m.\u001b[39mformat(out_name, col\u001b[38;5;241m.\u001b[39m\u001b[38;5;18m__class__\u001b[39m\u001b[38;5;241m.\u001b[39m\u001b[38;5;18m__name__\u001b[39m)) \u001b[38;5;28;01mfrom\u001b[39;00m \u001b[38;5;21;01merr\u001b[39;00m\n\u001b[1;32m   1250\u001b[0m \u001b[38;5;66;03m# Set the output table column to the new joined column\u001b[39;00m\n\u001b[1;32m   1251\u001b[0m out[out_name] \u001b[38;5;241m=\u001b[39m col\n",
      "\u001b[0;31mNotImplementedError\u001b[0m: join requires masking column 'wd_loc' but column type SkyCoord does not support masking"
     ]
    }
   ],
   "source": [
    "catalog = join(wds, mss, keys = 'name', join_type = 'outer')"
   ]
  },
  {
   "cell_type": "code",
   "execution_count": null,
   "id": "514c6f3b-611c-47b3-a394-3e6e3ed6dd1c",
   "metadata": {},
   "outputs": [],
   "source": []
  }
 ],
 "metadata": {
  "kernelspec": {
   "display_name": "Python 3 (ipykernel)",
   "language": "python",
   "name": "python3"
  },
  "language_info": {
   "codemirror_mode": {
    "name": "ipython",
    "version": 3
   },
   "file_extension": ".py",
   "mimetype": "text/x-python",
   "name": "python",
   "nbconvert_exporter": "python",
   "pygments_lexer": "ipython3",
   "version": "3.9.13"
  }
 },
 "nbformat": 4,
 "nbformat_minor": 5
}
