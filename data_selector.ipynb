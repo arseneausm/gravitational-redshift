{
 "cells": [
  {
   "cell_type": "code",
   "execution_count": 1,
   "id": "7083fe1a-938c-4fa5-916d-8395405b8504",
   "metadata": {},
   "outputs": [],
   "source": [
    "# Install a pip package in the current Jupyter kernel\n",
    "import sys\n",
    "\n",
    "### General\n",
    "import numpy as np\n",
    "import matplotlib.pyplot as plt\n",
    "import matplotlib.colors as colors\n",
    "from astropy.io import fits\n",
    "from astropy.table import Table, vstack\n",
    "from tqdm import tqdm\n",
    "import pandas as pd\n",
    "\n",
    "### Query\n",
    "from astroquery.sdss import SDSS\n",
    "from astroquery.gaia import Gaia"
   ]
  },
  {
   "cell_type": "code",
   "execution_count": 2,
   "id": "106fa20b-090f-4498-9b2b-a5801303579e",
   "metadata": {},
   "outputs": [],
   "source": [
    "hdul = fits.open('../external-dat/binaries/all_columns_catalog.fits')\n",
    "\n",
    "df = pd.DataFrame(hdul[1].data)"
   ]
  },
  {
   "cell_type": "code",
   "execution_count": 3,
   "id": "79e573ff-4e53-4b48-ac7a-76c40f4ae0e3",
   "metadata": {},
   "outputs": [],
   "source": [
    "from astropy.table import join\n",
    "\n",
    "catalog = df[ df['binary_type'] == 'WDMS']\n",
    "catalog.reset_index(inplace=True, drop=True)"
   ]
  },
  {
   "cell_type": "code",
   "execution_count": 4,
   "id": "93090720-003c-4d9d-8e17-5bd21a575f0b",
   "metadata": {},
   "outputs": [],
   "source": [
    "ADQL_CODE1 = \"SELECT \\\n",
    "    sdss.original_ext_source_id as bestobjid,\\\n",
    "    gaia_source.source_id\\\n",
    "    FROM gaiaedr3.gaia_source \\\n",
    "    JOIN gaiaedr3.sdssdr13_best_neighbour as sdss\\\n",
    "    ON gaia_source.source_id = sdss.source_id      \\\n",
    "    WHERE gaia_source.source_id IN {}\\\n",
    "\".format(tuple(catalog['source_id1']))\n",
    "ADQL_CODE2 = \"SELECT \\\n",
    "    sdss.original_ext_source_id as bestobjid,\\\n",
    "    gaia_source.source_id\\\n",
    "    FROM gaiaedr3.gaia_source \\\n",
    "    JOIN gaiaedr3.sdssdr13_best_neighbour as sdss\\\n",
    "    ON gaia_source.source_id = sdss.source_id      \\\n",
    "    WHERE gaia_source.source_id IN {}\\\n",
    "\".format(tuple(catalog['source_id2']))"
   ]
  },
  {
   "cell_type": "code",
   "execution_count": 5,
   "id": "6639702d-b1cd-4fac-8c69-e99b52aa766e",
   "metadata": {},
   "outputs": [
    {
     "name": "stdout",
     "output_type": "stream",
     "text": [
      "INFO: Query finished. [astroquery.utils.tap.core]\n",
      "INFO: Query finished. [astroquery.utils.tap.core]\n"
     ]
    }
   ],
   "source": [
    "job1 = Gaia.launch_job_async(ADQL_CODE1,dump_to_file=False)\n",
    "job2 = Gaia.launch_job_async(ADQL_CODE2,dump_to_file=False)\n",
    "\n",
    "d1 = job1.get_results()\n",
    "d2 = job2.get_results()"
   ]
  },
  {
   "cell_type": "code",
   "execution_count": 6,
   "id": "a244675d-3d12-4f44-849e-d1218278ef22",
   "metadata": {},
   "outputs": [
    {
     "name": "stdout",
     "output_type": "stream",
     "text": [
      "     bestobjid         source_id    \n",
      "------------------- ----------------\n",
      "1237678439166378089  974274676969216\n",
      "1237678619047624731 1243758105176192\n",
      "1237678619584561212 1350719970564224\n",
      "1237678621710286999 1727337062828928\n",
      "1237673328681681074 2469988447985792\n",
      "1237678622245912818 4719932835786752\n",
      "1237670014587109532 5474610129189376\n",
      "1237678623856263295 5815871050683904\n",
      "1237678623855870056 5862011883935744\n",
      "1237667227152744751 5870056358125440\n",
      "6391\n"
     ]
    }
   ],
   "source": [
    "print(d1[:10])\n",
    "print(len(d2))"
   ]
  },
  {
   "cell_type": "code",
   "execution_count": 7,
   "id": "b956f109-020b-4ab3-8c3b-1c75f207fc75",
   "metadata": {},
   "outputs": [
    {
     "name": "stderr",
     "output_type": "stream",
     "text": [
      "100%|██████████████████████████████████████████████████████████████████████████| 22563/22563 [00:04<00:00, 4871.71it/s]\n"
     ]
    }
   ],
   "source": [
    "drops = []\n",
    "bestobjid1 = []\n",
    "bestobjid2 = []\n",
    "\n",
    "for i in tqdm (range(len(catalog))):\n",
    "    notfound = False\n",
    "    a = np.where(d1['source_id'] == catalog['source_id1'][i])\n",
    "    b = np.where(d2['source_id'] == catalog['source_id2'][i])\n",
    "    \n",
    "    try:\n",
    "        j = a[0][0]\n",
    "        k = b[0][0]\n",
    "    except:\n",
    "        notfound = True\n",
    "        \n",
    "    if not notfound: \n",
    "        try:\n",
    "            bestobjid1.append(d1['bestobjid'][j])\n",
    "            bestobjid2.append(d2['bestobjid'][k])\n",
    "        except:\n",
    "            notfound = True\n",
    "    if notfound:\n",
    "        drops.append(i)    "
   ]
  },
  {
   "cell_type": "code",
   "execution_count": 8,
   "id": "e763f41c-9555-4bfc-aad2-5ec7481606eb",
   "metadata": {},
   "outputs": [],
   "source": [
    "catalog = catalog.drop(drops)\n",
    "catalog['bestobjid1'] = bestobjid1\n",
    "catalog['bestobjid2'] = bestobjid2\n",
    "catalog.reset_index(inplace=True, drop=True)\n",
    "tcatalog1 = catalog"
   ]
  },
  {
   "cell_type": "code",
   "execution_count": 9,
   "id": "08c0c7ae-667c-4884-b0ed-7802b9cdbc36",
   "metadata": {},
   "outputs": [],
   "source": [
    "SDSS_CODE1 = \"\"\"select bestObjID, specObjID, plate, fiberID, mjd \n",
    "    from dbo.SpecObjAll\n",
    "    where bestObjID > 1237648702985666868\n",
    "    and bestObjID < 1237660529738105365\n",
    "    and class = 'STAR'\"\"\"\n",
    "SDSS_CODE2 = \"\"\"select bestObjID, specObjID, plate, fiberID, mjd \n",
    "    from dbo.SpecObjAll\n",
    "    where bestObjID > 1237660529738105365\n",
    "    and bestObjID < 1237670529738105366\n",
    "    and class = 'STAR'\"\"\"\n",
    "SDSS_CODE3 = \"\"\"select bestObjID, specObjID, plate, fiberID, mjd \n",
    "    from dbo.SpecObjAll\n",
    "    where bestObjID > 1237670529738105366\n",
    "    and bestObjID < 1237680529738105576\n",
    "    and class = 'STAR'\"\"\""
   ]
  },
  {
   "cell_type": "code",
   "execution_count": 10,
   "id": "d139835e-27dc-48f8-9baf-252547595f2e",
   "metadata": {},
   "outputs": [],
   "source": [
    "convert1= SDSS.query_sql(SDSS_CODE1)\n",
    "convert2= SDSS.query_sql(SDSS_CODE2)\n",
    "convert3= SDSS.query_sql(SDSS_CODE3)"
   ]
  },
  {
   "cell_type": "code",
   "execution_count": 11,
   "id": "4c353955-6bb4-4204-a5e1-a83c234189a8",
   "metadata": {},
   "outputs": [],
   "source": [
    "twide_convert = vstack([convert1, convert2, convert3])\n",
    "wide_convert = twide_convert"
   ]
  },
  {
   "cell_type": "code",
   "execution_count": 12,
   "id": "d33730d6-aa81-4f33-8739-6e543009366c",
   "metadata": {},
   "outputs": [
    {
     "name": "stderr",
     "output_type": "stream",
     "text": [
      "100%|████████████████████████████████████████████████████████████████████████████| 6291/6291 [00:05<00:00, 1056.90it/s]\n",
      "  0%|                                                                                          | 0/175 [00:00<?, ?it/s]C:\\Users\\arsen\\anaconda3\\lib\\site-packages\\astroquery\\sdss\\core.py:874: VisibleDeprecationWarning: Reading unicode strings without specifying the encoding argument is deprecated. Set the encoding, use None for the system default.\n",
      "  arr = np.atleast_1d(np.genfromtxt(io.BytesIO(response.content),\n",
      "100%|███████████████████████████████████████████████████████████████████████████████| 175/175 [00:00<00:00, 383.90it/s]\n"
     ]
    }
   ],
   "source": [
    "def search(bestObjID):\n",
    "    sourceobjid = []\n",
    "    plate = []\n",
    "    mjd = []\n",
    "    fiberid = []\n",
    "    \n",
    "    url = []\n",
    "    \n",
    "    drops = []\n",
    "    \n",
    "    for i in tqdm(range(len(bestObjID))):\n",
    "        notfound = False\n",
    "        j = np.where(( bestObjID[i] == wide_convert['bestObjID'] ))\n",
    "        \n",
    "        try:\n",
    "            k = j[0][0]\n",
    "        except:\n",
    "            notfound = True\n",
    "            \n",
    "        if not notfound: \n",
    "            try:\n",
    "                sourceobjid.append(wide_convert['specObjID'][k])\n",
    "                plate.append(wide_convert['plate'][k])\n",
    "                mjd.append(wide_convert['mjd'][k])\n",
    "                fiberid.append(wide_convert['fiberID'][k])\n",
    "            except:\n",
    "                notfound = True\n",
    "        if notfound:\n",
    "            drops.append(i)  \n",
    "            \n",
    "    for i in tqdm(range(len(sourceobjid))):\n",
    "        xid = SDSS.get_spectra_async(plate=plate[i], fiberID=fiberid[i], mjd=mjd[i])\n",
    "        url.append(str(xid[0]).split(' ')[4])\n",
    "    \n",
    "    \n",
    "    return drops, sourceobjid, plate, mjd, fiberid, url\n",
    "\n",
    "drops1, sourceobjid1, plate1, mjd1, fiberID1, url1 = search( catalog['bestobjid1'] )\n"
   ]
  },
  {
   "cell_type": "code",
   "execution_count": 13,
   "id": "088d0029-13a6-471a-8495-5312b9512dc4",
   "metadata": {},
   "outputs": [],
   "source": [
    "catalog = catalog.drop(drops1)\n",
    "\n",
    "catalog['specbjid1'] = sourceobjid1\n",
    "catalog['plate1'] = plate1\n",
    "catalog['mjd1'] = mjd1\n",
    "catalog['fiberID1'] = fiberID1\n",
    "catalog['url1'] = url1\n",
    "\n",
    "'''\n",
    "\n",
    "catalog['specbjid2'] = sourceobjid2\n",
    "catalog['plate2'] = plate2\n",
    "catalog['mjd2'] = mjd2\n",
    "catalog['fiberID2'] = fiberID2\n",
    "catalog['url2'] = url2\n",
    "'''\n",
    "catalog.reset_index(inplace=True, drop=True)"
   ]
  },
  {
   "cell_type": "code",
   "execution_count": 15,
   "id": "440dffdb-7948-4d84-9056-fa58a10d6810",
   "metadata": {},
   "outputs": [
    {
     "name": "stderr",
     "output_type": "stream",
     "text": [
      "100%|███████████████████████████████████████████████████████████████████████████████| 175/175 [00:00<00:00, 794.00it/s]\n",
      "100%|████████████████████████████████████████████████████████████████████████████████| 14/14 [00:00<00:00, 1268.58it/s]\n"
     ]
    }
   ],
   "source": [
    "drops2, sourceobjid2, plate2, mjd2, fiberID2, url2 = search( catalog['bestobjid2'] )"
   ]
  },
  {
   "cell_type": "code",
   "execution_count": 16,
   "id": "15530b91-91e2-4cf1-99e5-21ab02531d93",
   "metadata": {},
   "outputs": [],
   "source": [
    "catalog = catalog.drop(drops2)\n",
    "\n",
    "catalog['specbjid2'] = sourceobjid2\n",
    "catalog['plate2'] = plate2\n",
    "catalog['mjd2'] = mjd2\n",
    "catalog['fiberID2'] = fiberID2\n",
    "catalog['url2'] = url2\n",
    "\n",
    "catalog.reset_index(inplace=True, drop=True)"
   ]
  },
  {
   "cell_type": "code",
   "execution_count": 17,
   "id": "6d528994-3315-4179-a5fd-1573a40bcfa5",
   "metadata": {},
   "outputs": [
    {
     "name": "stdout",
     "output_type": "stream",
     "text": [
      "           solution_id1         solution_id2           source_id1  \\\n",
      "0   1636042515805110273  1636042515805110273   743097619303531904   \n",
      "1   1636042515805110273  1636042515805110273   617887567299257600   \n",
      "2   1636042515805110273  1636042515805110273  3846979117283617152   \n",
      "3   1636042515805110273  1636042515805110273  2534148150521389440   \n",
      "4   1636042515805110273  1636042515805110273  2534260777448123520   \n",
      "5   1636042515805110273  1636042515805110273  1261421999231535616   \n",
      "6   1636042515805110273  1636042515805110273  2688215052700206976   \n",
      "7   1636042515805110273  1636042515805110273  4030722598505336192   \n",
      "8   1636042515805110273  1636042515805110273  3245310308566177536   \n",
      "9   1636042515805110273  1636042515805110273  3264871552432918528   \n",
      "10  1636042515805110273  1636042515805110273  3928724924885805568   \n",
      "11  1636042515805110273  1636042515805110273   676167219784728576   \n",
      "12  1636042515805110273  1636042515805110273  3671977861604162048   \n",
      "13  1636042515805110273  1636042515805110273   921520658247153280   \n",
      "\n",
      "             source_id2  random_index1  random_index2  ref_epoch1  ref_epoch2  \\\n",
      "0    743097619303531776     1736632811      659310583      2016.0      2016.0   \n",
      "1    617887567299258752      155663293     1267487950      2016.0      2016.0   \n",
      "2   3846983485264812672      578974278      668193676      2016.0      2016.0   \n",
      "3   2534148146225857792      641648983      442348886      2016.0      2016.0   \n",
      "4   2534260777448123392     1220045538      989452066      2016.0      2016.0   \n",
      "5   1261422308468580480      618418666     1627437184      2016.0      2016.0   \n",
      "6   2688215048406240640      776524340     1204786778      2016.0      2016.0   \n",
      "7   4030722594210006784      324617370     1670649030      2016.0      2016.0   \n",
      "8   3245310308567156864     1353740750      955932754      2016.0      2016.0   \n",
      "9   3264871552432918784      742787936       26093434      2016.0      2016.0   \n",
      "10  3928724512568932992     1566887955     1346577692      2016.0      2016.0   \n",
      "11   676167215489980800     1027955054     1420735215      2016.0      2016.0   \n",
      "12  3671977891669036416     1006597507     1086737974      2016.0      2016.0   \n",
      "13   921518807117547904      249805182      528928061      2016.0      2016.0   \n",
      "\n",
      "           ra1         ra2  ...     specbjid1  plate1   mjd1  fiberID1  \\\n",
      "0   149.087276  149.087709  ...  2.637020e+18    2342  53742       591   \n",
      "1   144.538649  144.538120  ...  2.904945e+18    2580  54092       447   \n",
      "2   147.106408  147.340195  ...  5.405900e+17     480  51989       575   \n",
      "3    20.450497   20.447757  ...  7.836800e+17     696  52209       195   \n",
      "4    21.114439   21.108928  ...  4.761588e+18    4229  55501       573   \n",
      "5   224.355161  224.357726  ...  2.420764e+18    2150  54510       288   \n",
      "6   323.108471  323.107999  ...  2.208005e+18    1961  53299       419   \n",
      "7   177.213235  177.210536  ...  2.241758e+18    1991  53446       331   \n",
      "8    59.637267   59.637700  ...  2.331882e+18    2071  53741       520   \n",
      "9    53.040207   53.038552  ...  8.028818e+17     713  52178       419   \n",
      "10  190.323826  190.304078  ...  1.907372e+18    1694  53472       356   \n",
      "11  125.639739  125.641288  ...  2.168495e+18    1926  53317        41   \n",
      "12  208.740817  208.727278  ...  9.628168e+17     855  52375       627   \n",
      "13  120.964228  120.847286  ...  6.137164e+17     545  52202       367   \n",
      "\n",
      "                                                 url1     specbjid2  plate2  \\\n",
      "0   https://data.sdss.org/sas/dr14/sdss/spectro/re...  2.640320e+18    2345   \n",
      "1   https://data.sdss.org/sas/dr14/sdss/spectro/re...  5.984249e+18    5315   \n",
      "2   https://data.sdss.org/sas/dr14/sdss/spectro/re...  5.340335e+18    4743   \n",
      "3   https://data.sdss.org/sas/dr14/sdss/spectro/re...  4.760370e+18    4228   \n",
      "4   https://data.sdss.org/sas/dr14/sdss/spectro/re...  1.214965e+18    1079   \n",
      "5   https://data.sdss.org/sas/dr14/sdss/spectro/re...  6.648442e+18    5905   \n",
      "6   https://data.sdss.org/sas/dr14/sdss/spectro/re...  4.722238e+18    4194   \n",
      "7   https://data.sdss.org/sas/dr14/sdss/spectro/re...  5.195127e+18    4614   \n",
      "8   https://data.sdss.org/sas/dr14/sdss/spectro/re...  2.331882e+18    2071   \n",
      "9   https://data.sdss.org/sas/dr14/sdss/spectro/re...  1.196934e+18    1063   \n",
      "10  https://data.sdss.org/sas/dr14/sdss/spectro/re...  1.819464e+18    1616   \n",
      "11  https://data.sdss.org/sas/dr14/sdss/spectro/re...  2.169737e+18    1927   \n",
      "12  https://data.sdss.org/sas/dr14/sdss/spectro/re...  5.476412e+18    4864   \n",
      "13  https://data.sdss.org/sas/dr14/sdss/spectro/re...  6.137043e+17     545   \n",
      "\n",
      "     mjd2  fiberID2                                               url2  \n",
      "0   53757       309  https://data.sdss.org/sas/dr14/sdss/spectro/re...  \n",
      "1   55978       330  https://data.sdss.org/sas/dr14/sdss/spectro/re...  \n",
      "2   55645       696  https://data.sdss.org/sas/dr14/sdss/spectro/re...  \n",
      "3   55484       238  https://data.sdss.org/sas/dr14/sdss/spectro/re...  \n",
      "4   52621       431  https://data.sdss.org/sas/dr14/sdss/spectro/re...  \n",
      "5   56065        10  https://data.sdss.org/sas/dr14/sdss/spectro/re...  \n",
      "6   55450       776  https://data.sdss.org/sas/dr14/sdss/spectro/re...  \n",
      "7   55604       816  https://data.sdss.org/sas/dr14/sdss/spectro/re...  \n",
      "8   53741       520  https://data.sdss.org/sas/dr14/sdss/spectro/re...  \n",
      "9   52591       373  https://data.sdss.org/sas/dr14/sdss/spectro/re...  \n",
      "10  53169        36  https://data.sdss.org/sas/dr14/sdss/spectro/re...  \n",
      "11  53321       464  https://data.sdss.org/sas/dr14/sdss/spectro/re...  \n",
      "12  55680       128  https://data.sdss.org/sas/dr14/sdss/spectro/re...  \n",
      "13  52202       323  https://data.sdss.org/sas/dr14/sdss/spectro/re...  \n",
      "\n",
      "[14 rows x 229 columns]\n"
     ]
    }
   ],
   "source": [
    "print(catalog)"
   ]
  },
  {
   "cell_type": "code",
   "execution_count": 18,
   "id": "66748c76-bd60-4b7f-9598-c23375a5dbd2",
   "metadata": {},
   "outputs": [],
   "source": [
    "catalog.to_csv('data/catalog.csv')"
   ]
  },
  {
   "cell_type": "code",
   "execution_count": null,
   "id": "55c754b6-bac1-455b-a8eb-8a935057e684",
   "metadata": {},
   "outputs": [],
   "source": []
  }
 ],
 "metadata": {
  "kernelspec": {
   "display_name": "Python 3 (ipykernel)",
   "language": "python",
   "name": "python3"
  },
  "language_info": {
   "codemirror_mode": {
    "name": "ipython",
    "version": 3
   },
   "file_extension": ".py",
   "mimetype": "text/x-python",
   "name": "python",
   "nbconvert_exporter": "python",
   "pygments_lexer": "ipython3",
   "version": "3.9.7"
  }
 },
 "nbformat": 4,
 "nbformat_minor": 5
}
