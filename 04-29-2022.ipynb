{
 "cells": [
  {
   "cell_type": "code",
   "execution_count": 1,
   "metadata": {},
   "outputs": [
    {
     "name": "stdout",
     "output_type": "stream",
     "text": [
      "Requirement already satisfied: sdss in c:\\users\\arsen\\anaconda3\\lib\\site-packages (0.2.4)\n",
      "Requirement already satisfied: matplotlib in c:\\users\\arsen\\anaconda3\\lib\\site-packages (from sdss) (3.2.2)\n",
      "Requirement already satisfied: requests in c:\\users\\arsen\\anaconda3\\lib\\site-packages (from sdss) (2.24.0)\n",
      "Requirement already satisfied: numpy in c:\\users\\arsen\\anaconda3\\lib\\site-packages (from sdss) (1.18.5)\n",
      "Requirement already satisfied: Pillow in c:\\users\\arsen\\anaconda3\\lib\\site-packages (from sdss) (7.2.0)\n",
      "Requirement already satisfied: pandas in c:\\users\\arsen\\anaconda3\\lib\\site-packages (from sdss) (1.0.5)\n",
      "Requirement already satisfied: python-dateutil>=2.1 in c:\\users\\arsen\\anaconda3\\lib\\site-packages (from matplotlib->sdss) (2.8.1)\n",
      "Requirement already satisfied: kiwisolver>=1.0.1 in c:\\users\\arsen\\anaconda3\\lib\\site-packages (from matplotlib->sdss) (1.2.0)\n",
      "Requirement already satisfied: pyparsing!=2.0.4,!=2.1.2,!=2.1.6,>=2.0.1 in c:\\users\\arsen\\anaconda3\\lib\\site-packages (from matplotlib->sdss) (2.4.7)\n",
      "Requirement already satisfied: cycler>=0.10 in c:\\users\\arsen\\anaconda3\\lib\\site-packages (from matplotlib->sdss) (0.10.0)\n",
      "Requirement already satisfied: six in c:\\users\\arsen\\anaconda3\\lib\\site-packages (from cycler>=0.10->matplotlib->sdss) (1.15.0)\n",
      "Requirement already satisfied: pytz>=2017.2 in c:\\users\\arsen\\anaconda3\\lib\\site-packages (from pandas->sdss) (2020.1)\n",
      "Requirement already satisfied: certifi>=2017.4.17 in c:\\users\\arsen\\anaconda3\\lib\\site-packages (from requests->sdss) (2020.6.20)\n",
      "Requirement already satisfied: chardet<4,>=3.0.2 in c:\\users\\arsen\\anaconda3\\lib\\site-packages (from requests->sdss) (3.0.4)\n",
      "Requirement already satisfied: urllib3!=1.25.0,!=1.25.1,<1.26,>=1.21.1 in c:\\users\\arsen\\anaconda3\\lib\\site-packages (from requests->sdss) (1.25.9)\n",
      "Requirement already satisfied: idna<3,>=2.5 in c:\\users\\arsen\\anaconda3\\lib\\site-packages (from requests->sdss) (2.10)\n"
     ]
    },
    {
     "name": "stderr",
     "output_type": "stream",
     "text": [
      "WARNING: You are using pip version 21.1.2; however, version 22.0.4 is available.\n",
      "You should consider upgrading via the 'C:\\Users\\arsen\\anaconda3\\python.exe -m pip install --upgrade pip' command.\n"
     ]
    }
   ],
   "source": [
    "### General\n",
    "import numpy as np\n",
    "import matplotlib.pyplot as plt\n",
    "import matplotlib.colors as colors\n",
    "from scipy.optimize import curve_fit\n",
    "from tqdm import tqdm\n",
    "import pandas as pd\n",
    "\n",
    "### Query\n",
    "from astroquery.sdss import SDSS\n",
    "from astropy import coordinates as coords\n",
    "\n",
    "# Install a pip package in the current Jupyter kernel\n",
    "import sys\n",
    "!{sys.executable} -m pip install sdss"
   ]
  },
  {
   "cell_type": "code",
   "execution_count": 5,
   "metadata": {},
   "outputs": [
    {
     "name": "stdout",
     "output_type": "stream",
     "text": [
      "0         266\n",
      "1         266\n",
      "2         266\n",
      "3         266\n",
      "4         266\n",
      "         ... \n",
      "37401    8958\n",
      "37402    8958\n",
      "37403    9003\n",
      "37404    9003\n",
      "37405    1000\n",
      "Name: plate, Length: 37406, dtype: int64\n"
     ]
    }
   ],
   "source": [
    "df = pd.read_csv(\"data/sdssdr14-wd-catalog/Table2.csv\")\n",
    "\n",
    "ps = []\n",
    "ms = []\n",
    "fs = []\n",
    "\n",
    "for i in range(len(df['P-M-F'])):\n",
    "    tpmf = df['P-M-F'][i].split('-')\n",
    "        \n",
    "    ps.append(int(tpmf[0]))\n",
    "    ms.append(int(tpmf[1]))\n",
    "    fs.append(int(tpmf[2]))\n",
    "        \n",
    "df['plate'] = ps\n",
    "df['mjd'] = ms\n",
    "df['fiber'] = fs\n",
    "\n",
    "print(df['plate'])"
   ]
  },
  {
   "cell_type": "code",
   "execution_count": 24,
   "metadata": {},
   "outputs": [],
   "source": [
    "from astropy.coordinates import SkyCoord\n",
    "from astropy import units as u\n",
    "\n",
    "xid = SDSS.get_spectra_async(plate=df['plate'][i], fiberID=df['fiber'][i], mjd=df['mjd'][i])\n",
    "url = str(xid[0]).split(' ')[4]"
   ]
  },
  {
   "cell_type": "code",
   "execution_count": 25,
   "metadata": {},
   "outputs": [],
   "source": [
    "from astropy.io import fits\n",
    "hdulist = fits.open(url)"
   ]
  },
  {
   "cell_type": "code",
   "execution_count": 28,
   "metadata": {},
   "outputs": [
    {
     "data": {
      "text/plain": [
       "SIMPLE  =                    T / conforms to FITS standard                      \n",
       "BITPIX  =                    8 / array data type                                \n",
       "NAXIS   =                    0 / number of array dimensions                     \n",
       "EXTEND  =                    T                                                  \n",
       "TELESCOP= 'SDSS 2.5-M'         / Sloan Digital Sky Survey                       \n",
       "FLAVOR  = 'science '           / exposure type, SDSS spectro style              \n",
       "BOSSVER = '2       '           / ICC version                                    \n",
       "MJD     =                56419 / APO fMJD day at start of exposure              \n",
       "MJDLIST = '56419   '           /                                                \n",
       "NAME    = '6806-56417-01'      / The name of the currently loaded plate         \n",
       "PLATEID =                 6806 / The currently loaded plate                     \n",
       "TILEID  =                15469 /Cartridge used in this plugging                 \n",
       "CARTID  =                   15 /Cartridge used in this plugging                 \n",
       "MAPID   =                    1 / The mapping version of the loaded plate        \n",
       "RA      =            221.47992 / RA of telescope boresight (deg)                \n",
       "DEC     =            58.966585 / Dec of telescope boresight (deg)               \n",
       "EQUINOX =              2000.00 /                                                \n",
       "RADECSYS= 'FK5     '           /                                                \n",
       "RADEG   =             221.4886 / RA of telescope pointing(deg)                  \n",
       "DECDEG  =              58.9646 / Dec of telescope pointing (deg)                \n",
       "BOREOFFX=                  0.0 / TCC Boresight offset, deg                      \n",
       "BOREOFFY=                  0.0 / TCC Boresight offset, deg                      \n",
       "GUIDOFFY=                  0.0 / TCC GuideOff, deg                              \n",
       "PRESSURE=              21.4840 / pressure                                       \n",
       "WINDD   =              280.400 / windd                                          \n",
       "WINDS   =        10.3000002543 / winds                                          \n",
       "GUSTD   =                305.0 / gustd                                          \n",
       "GUSTS   =              17.6000 / gusts                                          \n",
       "AIRTEMP =              7.76667 / airTempPT                                      \n",
       "DEWPOINT=             -3.83333 / dpTempPT                                       \n",
       "HUMIDITY=              41.2667 / humidity                                       \n",
       "DUSTA   =              24423.7 / dusta                                          \n",
       "DUSTB   =              840.333 / dustb                                          \n",
       "WINDD25M=                 12.3 / windd25m                                       \n",
       "WINDS25M=    8.800000000000001 / winds25m                                       \n",
       "SLITID2 =                   15 / Normalized slithead ID. sp1&2 should match.    \n",
       "BESTEXP =               161316 /                                                \n",
       "EXPTIME =              2702.55 / Minimum of exposure times for all cameras      \n",
       "SPCOADD = 'Sat May 28 18:34:40 2016' / SPCOADD finished                         \n",
       "SHOPETIM=                 0.75 / open shutter transit time, s                   \n",
       "SHCLOTIM=   0.5600000000000001 / close shutter transit time, s                  \n",
       "LN2TEMP =               90.625                                                  \n",
       "CCDTEMP =   -99.60899999999999                                                  \n",
       "IONPUMP =                 -6.6                                                  \n",
       "VERSIDL = '7.1.1   '           / Version of IDL                                 \n",
       "VERSUTIL= 'v5_5_17 '           / Version of idlutils                            \n",
       "VERSREAD= 'v5_10_0 '           / Version of idlspec2d for pre-processing raw dat\n",
       "VERS2D  = 'v5_10_0 '           / Version of idlspec2d for 2D reduction          \n",
       "VERSCOMB= 'v5_10_0 '           / Version of idlspec2d for combining multiple spe\n",
       "VERSLOG = 'trunk 23370'        / Version of SPECLOG product                     \n",
       "VERSFLAT= 'v1_25   '           / Version of SPECFLAT product                    \n",
       "RDNOISE0=              2.59813 /CCD read noise amp 0 [electrons]                \n",
       "BADPIXEL= 'badpixels-56149-b1.fits.gz' /                                        \n",
       "RUN2D   = 'v5_10_0 '           / Spectro-2D reduction name                      \n",
       "REDDEN01=            0.0461000 / Median extinction in u-band                    \n",
       "REDDEN02=            0.0340000 / Median extinction in g-band                    \n",
       "REDDEN03=            0.0246000 / Median extinction in r-band                    \n",
       "REDDEN04=            0.0187000 / Median extinction in i-band                    \n",
       "REDDEN05=            0.0132000 / Median extinction in z-band                    \n",
       "PLUGFILE= 'plPlugMapM-6806-56417-01.par' /                                      \n",
       "HELIO_RV=        8.82769950300 / Heliocentric correction (added to velocities)  \n",
       "VACUUM  =                    T / Wavelengths are in vacuum                      \n",
       "SFLATTEN=                    T / Superflat has been applied                     \n",
       "PSFSKY  =                    3 / Order of PSF skysubtraction                    \n",
       "SKYCHI2 =       0.995113024810 / Mean chi^2 of sky-subtraction                  \n",
       "SCHI2MIN=       0.795686585429 /                                                \n",
       "SCHI2MAX=        1.16936876768 /                                                \n",
       "PREJECT =             0.200000 / Profile area rejection threshold               \n",
       "SPEC1_G =              12.8259 / (S/N)^2 for spec  1 at mag 21.20               \n",
       "SN2EXT1G=              12.8259 / Extinction corrected (S/N)^2                   \n",
       "SPEC1_R =              35.8160 / (S/N)^2 for spec  1 at mag 20.20               \n",
       "SN2EXT1R=              35.8160 / Extinction corrected (S/N)^2                   \n",
       "SPEC1_I =              27.0322 / (S/N)^2 for spec  1 at mag 20.20               \n",
       "SN2EXT1I=              27.0322 / Extinction corrected (S/N)^2                   \n",
       "SPEC2_G =              13.6829 / (S/N)^2 for spec  2 at mag 21.20               \n",
       "SN2EXT2G=              13.6829 / Extinction corrected (S/N)^2                   \n",
       "SPEC2_R =              37.5764 / (S/N)^2 for spec  2 at mag 20.20               \n",
       "SN2EXT2R=              37.5764 / Extinction corrected (S/N)^2                   \n",
       "SPEC2_I =              28.4271 / (S/N)^2 for spec  2 at mag 20.20               \n",
       "SN2EXT2I=              28.4271 / Extinction corrected (S/N)^2                   \n",
       "NSTD    =                   20 / Number of (good) std stars                     \n",
       "GOFFSTD =          -0.00598526 / Spectrophoto offset for std stars in G-band    \n",
       "GRMSSTD =            0.0886935 / Spectrophoto RMS for std stars in G-band       \n",
       "ROFFSTD =           -0.0160751 / Spectrophoto offset for std stars in R-band    \n",
       "RRMSSTD =            0.0838778 / Spectrophoto RMS for std stars in R-band       \n",
       "IOFFSTD =           -0.0249786 / Spectrophoto offset for std stars in I-band    \n",
       "IRMSSTD =            0.0888522 / Spectrophoto RMS for std stars in I-band       \n",
       "GROFFSTD=            0.0265951 / Spectrophoto offset for std stars in (GR)      \n",
       "GRRMSSTD=            0.0952633 / Spectrophoto RMS for std stars in (GR)         \n",
       "RIOFFSTD=           0.00234318 / Spectrophoto offset for std stars in (RI)      \n",
       "RIRMSSTD=            0.0424616 / Spectrophoto RMS for std stars in (RI)         \n",
       "LOWREJ  =                    4 / Extraction: low rejection                      \n",
       "HIGHREJ =                    4 / Extraction: high rejection                     \n",
       "SCATPOLY=                    0 / Extraction: Order of scattered light polynomial\n",
       "PROFTYPE=                    1 / Extraction profile: 1=Gaussian                 \n",
       "NFITPOLY=                    1 / Extraction: Number of parameters in each profil\n",
       "XCHI2   =              0.00000 / Extraction: Mean chi^2                         \n",
       "NWORDER =                    2 / Linear-log10 coefficients                      \n",
       "WFITTYPE= 'LOG-LINEAR'         / Linear-log10 dispersion                        \n",
       "COEFF0  =               3.5578 / Central wavelength (log10) of first pixel      \n",
       "COEFF1  =    0.000100000000000 / Log10 dispersion per pixel                     \n",
       "FBADPIX =            0.0344436 / Fraction of bad pixels                         \n",
       "FBADPIX1=            0.0418531 / Fraction of bad pixels on spectro-1            \n",
       "FBADPIX2=            0.0270044 / Fraction of bad pixels on spectro-2            \n",
       "WAT0_001= 'system=linear'      /                                                \n",
       "WAT1_001= 'wtype=linear label=Wavelength units=Angstroms' /                     \n",
       "DC-FLAG =                    1 / Log-linear flag                                \n",
       "BUNIT   = '1E-17 erg/cm^2/s/Ang' /                                              \n",
       "PLUG_RA =            220.10925 / RA of object [deg]                             \n",
       "PLUG_DEC=            58.952759 / dec of object [deg]                            \n",
       "THING_ID=            523243816 / Unique object identifier                       \n",
       "FIBERID =                  614 / Fiber number (1-1000)                          \n",
       "NEXP    =                    6 / Number of individual exposures                 \n",
       "EXPID01 = 'b2-00161316-00161315-00161314'                                       \n",
       "EXPID02 = 'b2-00161317-00161315-00161314'                                       \n",
       "EXPID03 = 'b2-00161318-00161315-00161314'                                       \n",
       "EXPID04 = 'r2-00161316-00161315-00161314'                                       \n",
       "EXPID05 = 'r2-00161317-00161315-00161314'                                       \n",
       "EXPID06 = 'r2-00161318-00161315-00161314'                                       "
      ]
     },
     "execution_count": 28,
     "metadata": {},
     "output_type": "execute_result"
    }
   ],
   "source": [
    "hdu = hdulist[0]\n",
    "hdu.header"
   ]
  },
  {
   "cell_type": "code",
   "execution_count": null,
   "metadata": {},
   "outputs": [],
   "source": []
  }
 ],
 "metadata": {
  "kernelspec": {
   "display_name": "Python 3",
   "language": "python",
   "name": "python3"
  },
  "language_info": {
   "codemirror_mode": {
    "name": "ipython",
    "version": 3
   },
   "file_extension": ".py",
   "mimetype": "text/x-python",
   "name": "python",
   "nbconvert_exporter": "python",
   "pygments_lexer": "ipython3",
   "version": "3.8.3"
  }
 },
 "nbformat": 4,
 "nbformat_minor": 4
}
