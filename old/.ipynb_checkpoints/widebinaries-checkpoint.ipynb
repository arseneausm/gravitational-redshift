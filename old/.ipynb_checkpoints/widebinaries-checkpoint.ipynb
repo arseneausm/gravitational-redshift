{
 "cells": [
  {
   "cell_type": "markdown",
   "id": "325a11f8-bbf3-4511-91c9-4fe9b3c7d491",
   "metadata": {},
   "source": [
    "# Wide Binaries Selection Script\n",
    "---\n",
    "\n",
    "This script's purpose is to select white dwarves in wide binaries using information from Gaia and SDSS. It's a work in process.\n",
    "\n",
    "## 01 - SDSS Metadata"
   ]
  },
  {
   "cell_type": "code",
   "execution_count": 1,
   "id": "e341fe17-dae9-4df3-8725-2366b162b642",
   "metadata": {},
   "outputs": [],
   "source": [
    "# Install a pip package in the current Jupyter kernel\n",
    "import sys\n",
    "\n",
    "### General\n",
    "import numpy as np\n",
    "import matplotlib.pyplot as plt\n",
    "import matplotlib.colors as colors\n",
    "from astropy.io import fits\n",
    "from tqdm import tqdm\n",
    "import pandas as pd\n",
    "\n",
    "### Query\n",
    "from astroquery.sdss import SDSS\n",
    "from astroquery.gaia import Gaia"
   ]
  },
  {
   "cell_type": "markdown",
   "id": "fec20d53-0e5f-440f-9269-6770179973af",
   "metadata": {},
   "source": [
    "First, read in the data table from [Kepler et. al, 2019](https://arxiv.org/pdf/1904.01626.pdf) and extract the plate, mjd, and fiberID that will be used to identify the spectra."
   ]
  },
  {
   "cell_type": "code",
   "execution_count": 2,
   "id": "6f0fd775-46dd-4057-b1d5-6144df4f7e86",
   "metadata": {},
   "outputs": [
    {
     "name": "stderr",
     "output_type": "stream",
     "text": [
      "C:\\Users\\arsen\\anaconda3\\lib\\site-packages\\IPython\\core\\interactiveshell.py:3444: DtypeWarning: Columns (6,7,8,9,10,11,12,13,14,15,16) have mixed types.Specify dtype option on import or set low_memory=False.\n",
      "  exec(code_obj, self.user_global_ns, self.user_ns)\n"
     ]
    }
   ],
   "source": [
    "df = pd.read_csv(\"data/sdssdr14-wd-catalog/Table2.csv\")\n",
    "\n",
    "ps = []\n",
    "ms = []\n",
    "fs = []\n",
    "\n",
    "for i in range(len(df['P-M-F'])):\n",
    "    tpmf = df['P-M-F'][i].split('-')\n",
    "        \n",
    "    ps.append(int(tpmf[0]))\n",
    "    ms.append(int(tpmf[1]))\n",
    "    fs.append(int(tpmf[2]))\n",
    "        \n",
    "df['plate'] = ps\n",
    "df['mjd'] = ms\n",
    "df['fiber'] = fs"
   ]
  },
  {
   "cell_type": "markdown",
   "id": "2095f3eb-c8ee-4cea-9838-1257bcc4d56b",
   "metadata": {},
   "source": [
    "Now, get the spectra from the above information."
   ]
  },
  {
   "cell_type": "code",
   "execution_count": 3,
   "id": "8d3bc77c-cbc7-4880-b7b4-9efa45b0d801",
   "metadata": {},
   "outputs": [
    {
     "name": "stderr",
     "output_type": "stream",
     "text": [
      "  1%|▊                                                                            | 382/37406 [00:01<02:44, 225.44it/s]WARNING: NoResultsWarning: Query returned no results. [astroquery.sdss.core]\n",
      " 57%|██████████████████████████████████████████▉                                | 21426/37406 [01:33<01:08, 233.84it/s]C:\\Users\\arsen\\anaconda3\\lib\\site-packages\\astroquery\\sdss\\core.py:874: VisibleDeprecationWarning: Reading unicode strings without specifying the encoding argument is deprecated. Set the encoding, use None for the system default.\n",
      "  arr = np.atleast_1d(np.genfromtxt(io.BytesIO(response.content),\n",
      "100%|███████████████████████████████████████████████████████████████████████████| 37406/37406 [02:46<00:00, 224.58it/s]\n"
     ]
    },
    {
     "data": {
      "text/plain": [
       "\"\\nfrom numpy import asarray\\nfrom numpy import save\\n\\nif dothing:\\n    xids2 = np.array(xids)\\n    xids2.tofile('data/wd-spectra.txt', sep = ',')\\n    \\nprint(len(xids))\\n\""
      ]
     },
     "execution_count": 3,
     "metadata": {},
     "output_type": "execute_result"
    }
   ],
   "source": [
    "def get_spectra(df):\n",
    "    xids = []\n",
    "    \n",
    "    for i in tqdm (range(len(df['SNg']))):\n",
    "        try:\n",
    "            xid = SDSS.get_spectra_async(plate=df['plate'][i], fiberID=df['fiber'][i], mjd=df['mjd'][i])\n",
    "            xids.append(xid)\n",
    "        except:\n",
    "            pass\n",
    "    return xids\n",
    "    \n",
    "xids = get_spectra(df)\n",
    "\n",
    "'''\n",
    "from numpy import asarray\n",
    "from numpy import save\n",
    "\n",
    "if dothing:\n",
    "    xids2 = np.array(xids)\n",
    "    xids2.tofile('data/wd-spectra.txt', sep = ',')\n",
    "    \n",
    "print(len(xids))\n",
    "'''"
   ]
  },
  {
   "cell_type": "markdown",
   "id": "059abc72-60b9-431a-bdff-244b2ca92338",
   "metadata": {},
   "source": [
    "We query the other information we'll need to cross-match with Gaia. Namely bestObjID. This step can be optimized, but I'm not sure how else to do it for now. Because there are too many datapoints (~900000) returned by the query I want to do, I'm splitting it into two and then stacking the tables."
   ]
  },
  {
   "cell_type": "code",
   "execution_count": 4,
   "id": "2fdc1f6f-a15c-437d-a722-aca3488ae433",
   "metadata": {},
   "outputs": [],
   "source": [
    "query1 = \"select s.bestObjID, s.specObjID, s.plate, s.mjd, s.fiberID \\\n",
    "    from SpecObj as s \\\n",
    "    where s.plate > 265\\\n",
    "    and s.plate < 3400\\\n",
    "    and s.class = \\'STAR\\'\"\n",
    "query2 = \"select s.bestObjID, s.specObjID, s.plate, s.mjd, s.fiberID \\\n",
    "    from SpecObj as s \\\n",
    "    where s.plate > 3400\\\n",
    "    and s.plate < 9004\\\n",
    "    and s.class = \\'STAR\\'\"\n",
    "            \n",
    "white_dwarf1= SDSS.query_sql(query1)\n",
    "white_dwarf2= SDSS.query_sql(query2)"
   ]
  },
  {
   "cell_type": "code",
   "execution_count": 5,
   "id": "f892c43c-fc8d-4ed1-9b9f-6512c4498ed3",
   "metadata": {},
   "outputs": [],
   "source": [
    "from astropy.table import Table, vstack\n",
    "\n",
    "twhite_dwarf = vstack([white_dwarf1, white_dwarf2])\n",
    "white_dwarf = twhite_dwarf"
   ]
  },
  {
   "cell_type": "markdown",
   "id": "e4976fed-04ef-455e-a933-64808c1a5369",
   "metadata": {},
   "source": [
    "Now we can join the `(plate, mjd, fiberID)` tuple to the associated bestObjID. We do this by manually searching the returned dataset. This is basically a `join` command in SQL but I'm not sure how to do it in SQL."
   ]
  },
  {
   "cell_type": "code",
   "execution_count": 6,
   "id": "a2a3c920-9a5e-4e8d-8113-55e899641298",
   "metadata": {},
   "outputs": [],
   "source": [
    "id_tuple = np.array([df['plate'], df['mjd'], df['fiber']]).T\n",
    "white_dwarf = twhite_dwarf.to_pandas()\n",
    "\n",
    "i = np.where((id_tuple[:,2] == 360) & (id_tuple[:,0] == 54414))"
   ]
  },
  {
   "cell_type": "code",
   "execution_count": 7,
   "id": "99d1ea7a-8031-4720-aaec-073c42614218",
   "metadata": {},
   "outputs": [
    {
     "name": "stderr",
     "output_type": "stream",
     "text": [
      "100%|████████████████████████████████████████████████████████████████████████| 887342/887342 [01:30<00:00, 9753.04it/s]\n"
     ]
    }
   ],
   "source": [
    "def search(plate, fiber, mjd):\n",
    "    urls = []\n",
    "    drops = []\n",
    "    \n",
    "    for i in tqdm(range(len(plate))):\n",
    "        notfound = False\n",
    "        j = np.where((id_tuple[:,0] == plate[i]) & (id_tuple[:,1] == mjd[i]) & (id_tuple[:,2] == fiber[i]))\n",
    "        \n",
    "        try:\n",
    "            k = j[0][0]\n",
    "        except:\n",
    "            notfound = True\n",
    "            \n",
    "        if not notfound: \n",
    "            try:\n",
    "                urls.append(str(xids[k][0]).split(' ')[4])\n",
    "            except:\n",
    "                notfound = True\n",
    "        if notfound:\n",
    "            drops.append(i)\n",
    "            \n",
    "    return drops, urls\n",
    "\n",
    "drops, urls = search(white_dwarf['plate'], white_dwarf['fiberID'], white_dwarf['mjd'])"
   ]
  },
  {
   "cell_type": "code",
   "execution_count": 8,
   "id": "c30eb55e-c3e3-44c4-a5c8-c38d24b5517d",
   "metadata": {},
   "outputs": [
    {
     "name": "stdout",
     "output_type": "stream",
     "text": [
      "855752\n",
      "849936\n",
      "31590\n",
      "             bestObjID     specObjID  plate    mjd  fiberID  \\\n",
      "0  1237664087534732151  3.038948e+18   2699  54414      525   \n",
      "1  1237664087534797369  3.038930e+18   2699  54414      459   \n",
      "2  1237664087534928362  3.038958e+18   2699  54414      561   \n",
      "3  1237664089146064917  1.415271e+18   1257  52944       53   \n",
      "4  1237664089146064948  1.415269e+18   1257  52944       47   \n",
      "5  1237664089146065069  1.415257e+18   1257  52944        1   \n",
      "6  1237664089682149405  1.415322e+18   1257  52944      240   \n",
      "7  1237664089682149414  1.415318e+18   1257  52944      223   \n",
      "8  1237664089682149435  1.415319e+18   1257  52944      228   \n",
      "9  1237664089682346088  1.415308e+18   1257  52944      190   \n",
      "\n",
      "                                                 url  \n",
      "0  https://data.sdss.org/sas/dr14/sdss/spectro/re...  \n",
      "1  https://data.sdss.org/sas/dr14/sdss/spectro/re...  \n",
      "2  https://data.sdss.org/sas/dr14/sdss/spectro/re...  \n",
      "3  https://data.sdss.org/sas/dr14/sdss/spectro/re...  \n",
      "4  https://data.sdss.org/sas/dr14/sdss/spectro/re...  \n",
      "5  https://data.sdss.org/sas/dr14/sdss/spectro/re...  \n",
      "6  https://data.sdss.org/sas/dr14/sdss/spectro/re...  \n",
      "7  https://data.sdss.org/sas/dr14/sdss/spectro/re...  \n",
      "8  https://data.sdss.org/sas/dr14/sdss/spectro/re...  \n",
      "9  https://data.sdss.org/sas/dr14/sdss/spectro/re...  \n"
     ]
    }
   ],
   "source": [
    "print(len(drops))\n",
    "print(len(white_dwarf) - len(df))\n",
    "\n",
    "white_dwarf = white_dwarf.drop(drops)\n",
    "\n",
    "print(len(white_dwarf))\n",
    "\n",
    "white_dwarf['url'] = urls\n",
    "white_dwarf.reset_index(inplace=True, drop=True)\n",
    "print(white_dwarf[:10])"
   ]
  },
  {
   "cell_type": "markdown",
   "id": "bba75699-9db2-4fb6-9055-d82b32a88515",
   "metadata": {},
   "source": [
    "Finally, we save the data. `'data/white_dwarves.csv'` contains all the info needed to work with most of the white dwarves from Kepler. The actual number in this file is less than what's listed in Kepler. I think that's because some of the dwarves in question might not have spectra associated with it, but I'm not totally sure."
   ]
  },
  {
   "cell_type": "code",
   "execution_count": 9,
   "id": "bb270e41-e303-422d-b633-03dce68d527f",
   "metadata": {},
   "outputs": [],
   "source": [
    "white_dwarf.to_csv('data/white_dwarves.csv')"
   ]
  },
  {
   "cell_type": "markdown",
   "id": "e8668a2a-69a7-49b9-9feb-c087b078237e",
   "metadata": {},
   "source": [
    "## 02 - SDSS Metadata to Gaia Metadata\n",
    "\n",
    "Now we can start working with the Gaia data. To start, we read in the wide dwarves catalog from [El-Badry et. al, 2021](https://ui.adsabs.harvard.edu/abs/2021MNRAS.506.2269E/abstract). "
   ]
  },
  {
   "cell_type": "code",
   "execution_count": 10,
   "id": "ef20b876-8b74-444c-a828-c8afadd223e0",
   "metadata": {},
   "outputs": [],
   "source": [
    "hdul = fits.open('../external-dat/binaries/all_columns_catalog.fits')"
   ]
  },
  {
   "cell_type": "code",
   "execution_count": 11,
   "id": "b3ae3d37-e334-41d1-a252-51963c76f434",
   "metadata": {},
   "outputs": [
    {
     "data": {
      "text/plain": [
       "array([4282339095720590720, 4089437344115586432, 4282722790916299648, ...,\n",
       "       6056106923357411840, 6056106992113048960, 6056109088057213312],\n",
       "      dtype=int64)"
      ]
     },
     "execution_count": 11,
     "metadata": {},
     "output_type": "execute_result"
    }
   ],
   "source": [
    "hdul[1].data['source_id1']\n",
    "hdul[1].data['source_id2']"
   ]
  },
  {
   "cell_type": "code",
   "execution_count": 12,
   "id": "bb17e4e2-79a7-47d5-b99d-5aa2edb4f325",
   "metadata": {},
   "outputs": [
    {
     "name": "stdout",
     "output_type": "stream",
     "text": [
      "1237664087534797369\n"
     ]
    }
   ],
   "source": [
    "white_dwarf = pd.read_csv('data/white_dwarves.csv')\n",
    "bestobjid = tuple(white_dwarf['bestObjID'])\n",
    "print(bestobjid[1])"
   ]
  },
  {
   "cell_type": "markdown",
   "id": "5d8e911d-10f8-41a4-8309-63e2fb238976",
   "metadata": {},
   "source": [
    "Now we query Gaia to get the Gaia `source_id`'s associated with the `bestObjID`'s that we got from above and tack this onto the white dwarves dataframe in a new column."
   ]
  },
  {
   "cell_type": "code",
   "execution_count": 13,
   "id": "735fd035-d849-4b4d-9974-1985a54cc42b",
   "metadata": {},
   "outputs": [],
   "source": [
    "ADQL_CODE = \"SELECT \\\n",
    "    sdss.original_ext_source_id as bestobjid,\\\n",
    "    gaia_source.source_id\\\n",
    "    FROM gaiaedr3.gaia_source \\\n",
    "    JOIN gaiaedr3.sdssdr13_best_neighbour as sdss\\\n",
    "    ON gaia_source.source_id = sdss.source_id      \\\n",
    "    WHERE sdss.original_ext_source_id IN {}\\\n",
    "\".format(bestobjid)"
   ]
  },
  {
   "cell_type": "code",
   "execution_count": 14,
   "id": "8a49d35d-d567-449e-8124-307e81665f65",
   "metadata": {},
   "outputs": [
    {
     "name": "stdout",
     "output_type": "stream",
     "text": [
      "INFO: Query finished. [astroquery.utils.tap.core]\n",
      "     bestobjid           source_id     \n",
      "------------------- -------------------\n",
      "1237645943973609500     313189015283712\n",
      "1237645943973675103     298895364329216\n",
      "1237646586638631914 3219069845094872960\n",
      "1237646587712570275 3219421310859198080\n",
      "1237646792773403258 3113487561710626560\n",
      "1237646793309750322 3119769483955377408\n",
      "1237646793310209040 3125530924886250752\n",
      "1237646793310405381 3125541022348840448\n",
      "1237646793310537053 3113532126290835072\n",
      "1237646794374906022 3234158477521752704\n"
     ]
    }
   ],
   "source": [
    "job = Gaia.launch_job_async(ADQL_CODE,dump_to_file=False)\n",
    "conversion = job.get_results()\n",
    "\n",
    "print(conversion[:10])"
   ]
  },
  {
   "cell_type": "code",
   "execution_count": 15,
   "id": "99bf973b-c983-4647-a262-0902fb18684a",
   "metadata": {},
   "outputs": [
    {
     "name": "stdout",
     "output_type": "stream",
     "text": [
      "31590\n",
      "31273\n"
     ]
    }
   ],
   "source": [
    "white_dwarf_test = white_dwarf\n",
    "print(len(white_dwarf))\n",
    "print(len(conversion))"
   ]
  },
  {
   "cell_type": "code",
   "execution_count": 16,
   "id": "f79d8c66-4197-4091-8747-cc9a42fda487",
   "metadata": {},
   "outputs": [],
   "source": [
    "source_ids = []\n",
    "drops = []\n",
    "\n",
    "for i in range(len(white_dwarf_test)):\n",
    "    notfound = False\n",
    "    j = np.where(white_dwarf_test['bestObjID'][i] == conversion['bestobjid'])\n",
    "    \n",
    "    try:\n",
    "        k = j[0][0]\n",
    "    except:\n",
    "        notfound = True\n",
    "        \n",
    "    if not notfound: \n",
    "        try:\n",
    "            source_ids.append( conversion['source_id'][k] )\n",
    "        except:\n",
    "            notfound = True\n",
    "    if notfound:\n",
    "        drops.append(i)"
   ]
  },
  {
   "cell_type": "code",
   "execution_count": 17,
   "id": "0b7e0f33-e894-4e1a-acfa-22672d742cc5",
   "metadata": {},
   "outputs": [
    {
     "name": "stdout",
     "output_type": "stream",
     "text": [
      "   Unnamed: 0            bestObjID     specObjID  plate    mjd  fiberID  \\\n",
      "0           0  1237664087534732151  3.038948e+18   2699  54414      525   \n",
      "1           1  1237664087534797369  3.038930e+18   2699  54414      459   \n",
      "2           2  1237664087534928362  3.038958e+18   2699  54414      561   \n",
      "3           3  1237664089146064917  1.415271e+18   1257  52944       53   \n",
      "4           4  1237664089146064948  1.415269e+18   1257  52944       47   \n",
      "5           5  1237664089146065069  1.415257e+18   1257  52944        1   \n",
      "6           6  1237664089682149405  1.415322e+18   1257  52944      240   \n",
      "7           7  1237664089682149414  1.415318e+18   1257  52944      223   \n",
      "8           8  1237664089682149435  1.415319e+18   1257  52944      228   \n",
      "9           9  1237664089682346088  1.415308e+18   1257  52944      190   \n",
      "\n",
      "                                                 url            source_id  \n",
      "0  https://data.sdss.org/sas/dr14/sdss/spectro/re...  3413138973156922368  \n",
      "1  https://data.sdss.org/sas/dr14/sdss/spectro/re...  3413157974092347904  \n",
      "2  https://data.sdss.org/sas/dr14/sdss/spectro/re...  3413523974024651136  \n",
      "3  https://data.sdss.org/sas/dr14/sdss/spectro/re...   147186746823557504  \n",
      "4  https://data.sdss.org/sas/dr14/sdss/spectro/re...   147190010998698496  \n",
      "5  https://data.sdss.org/sas/dr14/sdss/spectro/re...   147137612397807744  \n",
      "6  https://data.sdss.org/sas/dr14/sdss/spectro/re...   147282984154715776  \n",
      "7  https://data.sdss.org/sas/dr14/sdss/spectro/re...   147282301255599872  \n",
      "8  https://data.sdss.org/sas/dr14/sdss/spectro/re...   147282610493243392  \n",
      "9  https://data.sdss.org/sas/dr14/sdss/spectro/re...   147265705502022528  \n"
     ]
    }
   ],
   "source": [
    "white_dwarf = white_dwarf.drop(drops)\n",
    "white_dwarf['source_id'] = source_ids\n",
    "white_dwarf.reset_index(inplace=True, drop=True)\n",
    "\n",
    "print(white_dwarf[:10])"
   ]
  },
  {
   "cell_type": "markdown",
   "id": "ebde50a4-ca9d-4fdd-b7e8-a201f4da0cb1",
   "metadata": {},
   "source": [
    "## 03 - Wide Binary Search\n",
    "\n",
    "Finally, we search along `source_id` and log which recorded object in the dataset is the white dwarf. *TODO: add more info on the main sequence object*"
   ]
  },
  {
   "cell_type": "code",
   "execution_count": 18,
   "id": "07ebbb9e-4534-49ba-ae51-5f962288ef9b",
   "metadata": {},
   "outputs": [
    {
     "name": "stderr",
     "output_type": "stream",
     "text": [
      "100%|████████████████████████████████████████████████████████████████████████████| 31230/31230 [48:19<00:00, 10.77it/s]\n"
     ]
    }
   ],
   "source": [
    "wide_binary = []\n",
    "not_wide_binary = []\n",
    "\n",
    "for i in tqdm(range(len(white_dwarf))):\n",
    "    if white_dwarf['source_id'][i] in hdul[1].data['source_id1']:\n",
    "        wide_binary.append( (i, 1) )\n",
    "    elif white_dwarf['source_id'][i] in hdul[1].data['source_id2']:\n",
    "        wide_binary.append( (i, 2) )\n",
    "    else:\n",
    "        not_wide_binary.append( i )"
   ]
  },
  {
   "cell_type": "code",
   "execution_count": 19,
   "id": "f35f930d-4377-400e-b21e-3498d6354430",
   "metadata": {},
   "outputs": [
    {
     "name": "stdout",
     "output_type": "stream",
     "text": [
      "   Unnamed: 0            bestObjID     specObjID  plate    mjd  fiberID  \\\n",
      "0          75  1237664091830812971  3.280978e+18   2914  54533      383   \n",
      "1         155  1237672005834114035  3.176330e+18   2821  54393      605   \n",
      "2         159  1237658608219062381  1.075246e+18    955  52409       41   \n",
      "3         207  1237662336250544181  1.575136e+18   1399  53172        6   \n",
      "4         294  1237661125071732829  1.782346e+18   1583  52941      167   \n",
      "5         299  1237661125074944335  1.784700e+18   1585  52962      542   \n",
      "6         356  1237661871325053068  1.621408e+18   1440  53084      408   \n",
      "7         395  1237662193452712021  1.632565e+18   1450  53120       38   \n",
      "8         451  1237661871347204180  1.562909e+18   1388  53119      583   \n",
      "9         511  1237665126927237227  2.372332e+18   2107  53786      221   \n",
      "\n",
      "                                                 url            source_id  \\\n",
      "0  https://data.sdss.org/sas/dr14/sdss/spectro/re...   697212800055168896   \n",
      "1  https://data.sdss.org/sas/dr14/sdss/spectro/re...  2052736600737294336   \n",
      "2  https://data.sdss.org/sas/dr14/sdss/spectro/re...  1581112431006331136   \n",
      "3  https://data.sdss.org/sas/dr14/sdss/spectro/re...  1388262828842232960   \n",
      "4  https://data.sdss.org/sas/dr14/sdss/spectro/re...   673438365068121600   \n",
      "5  https://data.sdss.org/sas/dr14/sdss/spectro/re...   679160601536162816   \n",
      "6  https://data.sdss.org/sas/dr14/sdss/spectro/re...   783773326123820928   \n",
      "7  https://data.sdss.org/sas/dr14/sdss/spectro/re...  1536455899387245312   \n",
      "8  https://data.sdss.org/sas/dr14/sdss/spectro/re...  1274417200175476608   \n",
      "9  https://data.sdss.org/sas/dr14/sdss/spectro/re...   757911884925087104   \n",
      "\n",
      "   object_num  \n",
      "0           2  \n",
      "1           2  \n",
      "2           2  \n",
      "3           1  \n",
      "4           2  \n",
      "5           2  \n",
      "6           1  \n",
      "7           2  \n",
      "8           2  \n",
      "9           1  \n"
     ]
    }
   ],
   "source": [
    "wide_binaries = white_dwarf.drop(not_wide_binary)\n",
    "wide_binaries['object_num'] = np.array(wide_binary).T[1]\n",
    "wide_binaries.reset_index(inplace=True, drop=True)\n",
    "\n",
    "twide_binaries = wide_binaries\n",
    "\n",
    "print(wide_binaries[:10])"
   ]
  },
  {
   "cell_type": "code",
   "execution_count": 20,
   "id": "dd111c56-0d89-40c6-921a-60c1b5dc3bf4",
   "metadata": {},
   "outputs": [
    {
     "name": "stderr",
     "output_type": "stream",
     "text": [
      "100%|████████████████████████████████████████████████████████████████████████████████| 851/851 [00:33<00:00, 25.41it/s]\n"
     ]
    }
   ],
   "source": [
    "ms_source = []\n",
    "\n",
    "for i in tqdm (range(len(wide_binaries))):\n",
    "    if wide_binaries['object_num'][i] == 1:\n",
    "        j = np.where(hdul[1].data['source_id1'] == wide_binaries['source_id'][i])[0][0]\n",
    "        ms_source.append(hdul[1].data['source_id2'][j])\n",
    "    else:\n",
    "        j = np.where(hdul[1].data['source_id2'] == wide_binaries['source_id'][i])[0][0]\n",
    "        ms_source.append(hdul[1].data['source_id2'][j])"
   ]
  },
  {
   "cell_type": "code",
   "execution_count": 21,
   "id": "fb0abc83-0bd4-498f-ac24-43bdf4836e50",
   "metadata": {},
   "outputs": [],
   "source": [
    "wide_binaries['mainseq_source'] = ms_source"
   ]
  },
  {
   "cell_type": "code",
   "execution_count": 22,
   "id": "741b4acf-49d8-481e-83d8-80ecd4679300",
   "metadata": {},
   "outputs": [],
   "source": [
    "ADQL_CODE = \"SELECT \\\n",
    "    sdss.original_ext_source_id as bestobjid,\\\n",
    "    gaia_source.source_id\\\n",
    "    FROM gaiaedr3.gaia_source \\\n",
    "    JOIN gaiaedr3.sdssdr13_best_neighbour as sdss\\\n",
    "    ON gaia_source.source_id = sdss.source_id      \\\n",
    "    WHERE gaia_source.source_id IN {}\\\n",
    "\".format(tuple(ms_source))"
   ]
  },
  {
   "cell_type": "code",
   "execution_count": 23,
   "id": "54a31a8c-00f8-49fd-b2ea-6c9b9c66c57f",
   "metadata": {},
   "outputs": [
    {
     "name": "stdout",
     "output_type": "stream",
     "text": [
      "INFO: Query finished. [astroquery.utils.tap.core]\n",
      "851\n",
      "827\n"
     ]
    }
   ],
   "source": [
    "job = Gaia.launch_job_async(ADQL_CODE,dump_to_file=False)\n",
    "d = job.get_results()\n",
    "\n",
    "print(len(wide_binaries))\n",
    "print(len(d))"
   ]
  },
  {
   "cell_type": "code",
   "execution_count": 24,
   "id": "02555d44-9574-4d4b-b3c2-9c770481f6ce",
   "metadata": {},
   "outputs": [
    {
     "name": "stderr",
     "output_type": "stream",
     "text": [
      "100%|██████████████████████████████████████████████████████████████████████████████| 851/851 [00:00<00:00, 5681.13it/s]\n"
     ]
    }
   ],
   "source": [
    "ms_bestobjid = []\n",
    "drops = []\n",
    "\n",
    "for i in tqdm (range(len(wide_binaries))):\n",
    "    notfound = False\n",
    "    j = np.where(d['source_id'] == wide_binaries['mainseq_source'][i])\n",
    "    \n",
    "    try:\n",
    "        k = j[0][0]\n",
    "    except:\n",
    "        notfound = True\n",
    "        \n",
    "    if not notfound: \n",
    "        try:\n",
    "            ms_bestobjid.append(d['bestobjid'][j][0])\n",
    "        except:\n",
    "            notfound = True\n",
    "    if notfound:\n",
    "        drops.append(i)    "
   ]
  },
  {
   "cell_type": "code",
   "execution_count": 25,
   "id": "fce6e532-9921-43c3-b3cd-ab7bf6aafc32",
   "metadata": {},
   "outputs": [
    {
     "name": "stdout",
     "output_type": "stream",
     "text": [
      "   Unnamed: 0            bestObjID     specObjID  plate    mjd  fiberID  \\\n",
      "0          75  1237664091830812971  3.280978e+18   2914  54533      383   \n",
      "1         155  1237672005834114035  3.176330e+18   2821  54393      605   \n",
      "2         159  1237658608219062381  1.075246e+18    955  52409       41   \n",
      "3         207  1237662336250544181  1.575136e+18   1399  53172        6   \n",
      "4         294  1237661125071732829  1.782346e+18   1583  52941      167   \n",
      "5         299  1237661125074944335  1.784700e+18   1585  52962      542   \n",
      "6         356  1237661871325053068  1.621408e+18   1440  53084      408   \n",
      "7         395  1237662193452712021  1.632565e+18   1450  53120       38   \n",
      "8         451  1237661871347204180  1.562909e+18   1388  53119      583   \n",
      "9         511  1237665126927237227  2.372332e+18   2107  53786      221   \n",
      "\n",
      "                                                 url            source_id  \\\n",
      "0  https://data.sdss.org/sas/dr14/sdss/spectro/re...   697212800055168896   \n",
      "1  https://data.sdss.org/sas/dr14/sdss/spectro/re...  2052736600737294336   \n",
      "2  https://data.sdss.org/sas/dr14/sdss/spectro/re...  1581112431006331136   \n",
      "3  https://data.sdss.org/sas/dr14/sdss/spectro/re...  1388262828842232960   \n",
      "4  https://data.sdss.org/sas/dr14/sdss/spectro/re...   673438365068121600   \n",
      "5  https://data.sdss.org/sas/dr14/sdss/spectro/re...   679160601536162816   \n",
      "6  https://data.sdss.org/sas/dr14/sdss/spectro/re...   783773326123820928   \n",
      "7  https://data.sdss.org/sas/dr14/sdss/spectro/re...  1536455899387245312   \n",
      "8  https://data.sdss.org/sas/dr14/sdss/spectro/re...  1274417200175476608   \n",
      "9  https://data.sdss.org/sas/dr14/sdss/spectro/re...   757911884925087104   \n",
      "\n",
      "   object_num       mainseq_source    mainseq_bestobjid  \n",
      "0           2   697212800055168896  1237664091830812971  \n",
      "1           2  2052736600737294336  1237672005834114035  \n",
      "2           2  1581112431006331136  1237658608219062381  \n",
      "3           1  1388262867497946368  1237662336250544345  \n",
      "4           2   673438365068121600  1237661125071732829  \n",
      "5           2   679160601536162816  1237661125074944335  \n",
      "6           1   783770852222652800  1237661871325118630  \n",
      "7           2  1536455899387245312  1237662193452712021  \n",
      "8           2  1274417200175476608  1237661871347204180  \n",
      "9           1   757911988004305280  1237665126927237234  \n"
     ]
    }
   ],
   "source": [
    "wide_binaries = wide_binaries.drop(drops)\n",
    "wide_binaries['mainseq_bestobjid'] = ms_bestobjid\n",
    "wide_binaries.reset_index(inplace=True, drop=True)\n",
    "twide_binaries = wide_binaries\n",
    "\n",
    "print(wide_binaries[:10])"
   ]
  },
  {
   "cell_type": "code",
   "execution_count": 26,
   "id": "49bc7e63-7321-4465-8286-7d07356060e6",
   "metadata": {},
   "outputs": [],
   "source": [
    "SDSS_CODE1 = \"\"\"select bestObjID, specObjID, plate, fiberID, mjd \n",
    "    from dbo.SpecObjAll\n",
    "    where bestObjID > 1237648702985666733\n",
    "    and bestObjID < 1237660529738105365\n",
    "    and class = 'STAR'\"\"\"\n",
    "SDSS_CODE2 = \"\"\"select bestObjID, specObjID, plate, fiberID, mjd \n",
    "    from dbo.SpecObjAll\n",
    "    where bestObjID > 1237660529738105365\n",
    "    and bestObjID < 1237670529738105366\n",
    "    and class = 'STAR'\"\"\"\n",
    "SDSS_CODE3 = \"\"\"select bestObjID, specObjID, plate, fiberID, mjd \n",
    "    from dbo.SpecObjAll\n",
    "    where bestObjID > 1237670529738105366\n",
    "    and bestObjID < 1237680529738105365\n",
    "    and class = 'STAR'\"\"\""
   ]
  },
  {
   "cell_type": "code",
   "execution_count": 27,
   "id": "09f22fe8-fe12-46a0-b619-b595491bb75d",
   "metadata": {},
   "outputs": [],
   "source": [
    "import sdss\n",
    "\n",
    "convert1= SDSS.query_sql(SDSS_CODE1)\n",
    "convert2= SDSS.query_sql(SDSS_CODE2)\n",
    "convert3= SDSS.query_sql(SDSS_CODE3)"
   ]
  },
  {
   "cell_type": "code",
   "execution_count": 28,
   "id": "f96ed2d2-3d99-4cd9-bb17-59bdcedcaf15",
   "metadata": {},
   "outputs": [
    {
     "name": "stdout",
     "output_type": "stream",
     "text": [
      "314977\n",
      "480510\n",
      "197703\n"
     ]
    }
   ],
   "source": [
    "print(len(convert1))\n",
    "print(len(convert2))\n",
    "print(len(convert3))"
   ]
  },
  {
   "cell_type": "code",
   "execution_count": 29,
   "id": "7ea85d04-f10c-4d4b-bbd4-53c427bf46dd",
   "metadata": {},
   "outputs": [
    {
     "name": "stdout",
     "output_type": "stream",
     "text": [
      "     bestObjID            specObjID        plate fiberID  mjd \n",
      "------------------- ---------------------- ----- ------- -----\n",
      "1237648702985666734 4.5229417755773256e+18  4017     734 55329\n",
      "1237648702985732625  4.522953870205231e+18  4017     778 55329\n",
      "1237648702985798284  4.522960467274998e+18  4017     802 55329\n",
      "1237648702985863176  3.501933818691195e+17   311     140 51665\n",
      "1237648702985928999 3.5018183699702784e+17   311      98 51665\n",
      "1237648702986059806 1.0393068094179512e+18   923     368 52404\n",
      "1237648702986060928  4.519463475592798e+18  4014     368 55630\n",
      "1237648702986125333 4.5194527553544274e+18  4014     329 55630\n",
      "1237648702986125397 1.0393183542900429e+18   923     410 52404\n",
      "1237648702986125619  4.523004447740109e+18  4017     962 55329\n",
      "                ...                    ...   ...     ...   ...\n",
      "1237680529737909205  7.089901493994627e+18  6297     399 56218\n",
      "1237680529737909863  7.089900394482999e+18  6297     395 56218\n",
      "1237680529737909895  7.089889674244628e+18  6297     356 56218\n",
      "1237680529737910406  8.617811457910743e+18  7654     631 57330\n",
      "1237680529737974064  7.089889124488815e+18  6297     354 56218\n",
      "1237680529737975099  7.089890773756256e+18  6297     360 56218\n",
      "1237680529738039992  7.089879228884165e+18  6297     318 56218\n",
      "1237680529738040026  7.089994402727174e+18  6297     737 56218\n",
      "1237680529738040160  7.089868783523701e+18  6297     280 56218\n",
      "1237680529738041125  7.089868508645794e+18  6297     279 56218\n",
      "1237680529738105127  8.617842244236321e+18  7654     743 57330\n",
      "Length = 993190 rows\n"
     ]
    }
   ],
   "source": [
    "twide_convert = vstack([convert1, convert2, convert3])\n",
    "wide_convert = twide_convert\n",
    "print(wide_convert)"
   ]
  },
  {
   "cell_type": "code",
   "execution_count": 30,
   "id": "d19ccc90-07e4-443c-9b55-6c9a004fbdba",
   "metadata": {},
   "outputs": [
    {
     "name": "stdout",
     "output_type": "stream",
     "text": [
      "   Unnamed: 0            bestObjID     specObjID  plate    mjd  fiberID  \\\n",
      "0          75  1237664091830812971  3.280978e+18   2914  54533      383   \n",
      "1         155  1237672005834114035  3.176330e+18   2821  54393      605   \n",
      "2         159  1237658608219062381  1.075246e+18    955  52409       41   \n",
      "3         207  1237662336250544181  1.575136e+18   1399  53172        6   \n",
      "4         294  1237661125071732829  1.782346e+18   1583  52941      167   \n",
      "5         299  1237661125074944335  1.784700e+18   1585  52962      542   \n",
      "6         356  1237661871325053068  1.621408e+18   1440  53084      408   \n",
      "7         395  1237662193452712021  1.632565e+18   1450  53120       38   \n",
      "8         451  1237661871347204180  1.562909e+18   1388  53119      583   \n",
      "9         511  1237665126927237227  2.372332e+18   2107  53786      221   \n",
      "\n",
      "                                                 url            source_id  \\\n",
      "0  https://data.sdss.org/sas/dr14/sdss/spectro/re...   697212800055168896   \n",
      "1  https://data.sdss.org/sas/dr14/sdss/spectro/re...  2052736600737294336   \n",
      "2  https://data.sdss.org/sas/dr14/sdss/spectro/re...  1581112431006331136   \n",
      "3  https://data.sdss.org/sas/dr14/sdss/spectro/re...  1388262828842232960   \n",
      "4  https://data.sdss.org/sas/dr14/sdss/spectro/re...   673438365068121600   \n",
      "5  https://data.sdss.org/sas/dr14/sdss/spectro/re...   679160601536162816   \n",
      "6  https://data.sdss.org/sas/dr14/sdss/spectro/re...   783773326123820928   \n",
      "7  https://data.sdss.org/sas/dr14/sdss/spectro/re...  1536455899387245312   \n",
      "8  https://data.sdss.org/sas/dr14/sdss/spectro/re...  1274417200175476608   \n",
      "9  https://data.sdss.org/sas/dr14/sdss/spectro/re...   757911884925087104   \n",
      "\n",
      "   object_num       mainseq_source    mainseq_bestobjid  \n",
      "0           2   697212800055168896  1237664091830812971  \n",
      "1           2  2052736600737294336  1237672005834114035  \n",
      "2           2  1581112431006331136  1237658608219062381  \n",
      "3           1  1388262867497946368  1237662336250544345  \n",
      "4           2   673438365068121600  1237661125071732829  \n",
      "5           2   679160601536162816  1237661125074944335  \n",
      "6           1   783770852222652800  1237661871325118630  \n",
      "7           2  1536455899387245312  1237662193452712021  \n",
      "8           2  1274417200175476608  1237661871347204180  \n",
      "9           1   757911988004305280  1237665126927237234  \n"
     ]
    }
   ],
   "source": [
    "#\n",
    "#  Reset from here\n",
    "#\n",
    "\n",
    "wide_binaries = twide_binaries\n",
    "print(wide_binaries[:10])"
   ]
  },
  {
   "cell_type": "code",
   "execution_count": 31,
   "id": "367861da-6816-4bf0-8e8d-dbea5924668b",
   "metadata": {},
   "outputs": [
    {
     "name": "stderr",
     "output_type": "stream",
     "text": [
      "100%|██████████████████████████████████████████████████████████████████████████████| 838/838 [00:00<00:00, 1008.48it/s]\n"
     ]
    }
   ],
   "source": [
    "def search(bestObjID):\n",
    "    sourceobjid = []\n",
    "    plate = []\n",
    "    mjd = []\n",
    "    fiberid = []\n",
    "    \n",
    "    url = []\n",
    "    \n",
    "    drops = []\n",
    "    \n",
    "    for i in tqdm(range(len(bestObjID))):\n",
    "        notfound = False\n",
    "        j = np.where(( bestObjID[i] == wide_convert['bestObjID'] ))\n",
    "        \n",
    "        try:\n",
    "            k = j[0][0]\n",
    "        except:\n",
    "            notfound = True\n",
    "            \n",
    "        if not notfound: \n",
    "            try:\n",
    "                sourceobjid.append(wide_convert['specObjID'][k])\n",
    "                plate.append(wide_convert['plate'][k])\n",
    "                mjd.append(wide_convert['mjd'][k])\n",
    "                fiberid.append(wide_convert['fiberID'][k])\n",
    "            except:\n",
    "                notfound = True\n",
    "        if notfound:\n",
    "            drops.append(i)  \n",
    "            \n",
    "    for i in tqdm(range(len(sourceobjid))):\n",
    "        xid = SDSS.get_spectra_async(plate=df['plate'][i], fiberID=df['fiber'][i], mjd=df['mjd'][i])\n",
    "        url.append(str(xid[0]).split(' ')[4])\n",
    "    \n",
    "    \n",
    "    return drops, sourceobjid, plate, mjd, fiberid, url\n",
    "\n",
    "drops, sourceobjid, plate, mjd, fiberID, url = search( wide_binaries['mainseq_bestobjid'] )"
   ]
  },
  {
   "cell_type": "code",
   "execution_count": 32,
   "id": "4bdba64d-fbf1-4320-a410-052ed1637c41",
   "metadata": {},
   "outputs": [
    {
     "name": "stdout",
     "output_type": "stream",
     "text": [
      "189\n",
      "649\n",
      "   Unnamed: 0            bestObjID     specObjID  plate    mjd  fiberID  \\\n",
      "0          75  1237664091830812971  3.280978e+18   2914  54533      383   \n",
      "1         155  1237672005834114035  3.176330e+18   2821  54393      605   \n",
      "2         159  1237658608219062381  1.075246e+18    955  52409       41   \n",
      "3         294  1237661125071732829  1.782346e+18   1583  52941      167   \n",
      "4         299  1237661125074944335  1.784700e+18   1585  52962      542   \n",
      "5         395  1237662193452712021  1.632565e+18   1450  53120       38   \n",
      "6         451  1237661871347204180  1.562909e+18   1388  53119      583   \n",
      "7         511  1237665126927237227  2.372332e+18   2107  53786      221   \n",
      "8         512  1237665126927237234  2.372323e+18   2107  53786      189   \n",
      "9         726  1237651753476423712  5.855543e+17    520  52288      314   \n",
      "\n",
      "                                                 url            source_id  \\\n",
      "0  https://data.sdss.org/sas/dr14/sdss/spectro/re...   697212800055168896   \n",
      "1  https://data.sdss.org/sas/dr14/sdss/spectro/re...  2052736600737294336   \n",
      "2  https://data.sdss.org/sas/dr14/sdss/spectro/re...  1581112431006331136   \n",
      "3  https://data.sdss.org/sas/dr14/sdss/spectro/re...   673438365068121600   \n",
      "4  https://data.sdss.org/sas/dr14/sdss/spectro/re...   679160601536162816   \n",
      "5  https://data.sdss.org/sas/dr14/sdss/spectro/re...  1536455899387245312   \n",
      "6  https://data.sdss.org/sas/dr14/sdss/spectro/re...  1274417200175476608   \n",
      "7  https://data.sdss.org/sas/dr14/sdss/spectro/re...   757911884925087104   \n",
      "8  https://data.sdss.org/sas/dr14/sdss/spectro/re...   757911988004305280   \n",
      "9  https://data.sdss.org/sas/dr14/sdss/spectro/re...  3700595572296253440   \n",
      "\n",
      "   object_num       mainseq_source    mainseq_bestobjid  mainseq_sourceobjid  \\\n",
      "0           2   697212800055168896  1237664091830812971         3.280978e+18   \n",
      "1           2  2052736600737294336  1237672005834114035         3.176330e+18   \n",
      "2           2  1581112431006331136  1237658608219062381         1.075246e+18   \n",
      "3           2   673438365068121600  1237661125071732829         1.782346e+18   \n",
      "4           2   679160601536162816  1237661125074944335         1.784700e+18   \n",
      "5           2  1536455899387245312  1237662193452712021         1.632565e+18   \n",
      "6           2  1274417200175476608  1237661871347204180         1.562909e+18   \n",
      "7           1   757911988004305280  1237665126927237234         2.372323e+18   \n",
      "8           2   757911988004305280  1237665126927237234         2.372323e+18   \n",
      "9           2  3700595572296253440  1237651753476423712         5.855543e+17   \n",
      "\n",
      "   mainseq_plate  mainseq_mjd  mainseq_fiberID  \n",
      "0           2914        54533              383  \n",
      "1           2821        54393              605  \n",
      "2            955        52409               41  \n",
      "3           1583        52941              167  \n",
      "4           1585        52962              542  \n",
      "5           1450        53120               38  \n",
      "6           1388        53119              583  \n",
      "7           2107        53786              189  \n",
      "8           2107        53786              189  \n",
      "9            520        52288              314  \n"
     ]
    }
   ],
   "source": [
    "print(len(drops))\n",
    "\n",
    "wide_binaries = wide_binaries.drop(drops)\n",
    "\n",
    "print(len(wide_binaries))\n",
    "\n",
    "wide_binaries['mainseq_sourceobjid'] = sourceobjid\n",
    "wide_binaries['mainseq_plate'] = plate\n",
    "wide_binaries['mainseq_mjd'] = mjd\n",
    "wide_binaries['mainseq_fiberID'] = fiberID\n",
    "#wide_binaries['mainseq_url'] = url\n",
    "\n",
    "wide_binaries.reset_index(inplace=True, drop=True)\n",
    "print(wide_binaries[:10])"
   ]
  },
  {
   "cell_type": "code",
   "execution_count": 39,
   "id": "9670f2a9-0a92-4611-8277-f814106ce875",
   "metadata": {},
   "outputs": [],
   "source": [
    "wide_binaries = pd.read_csv('data/wide_binaries.csv')"
   ]
  },
  {
   "cell_type": "code",
   "execution_count": 43,
   "id": "8cef9de6-6b0a-40a3-96a5-47ec70e76d6e",
   "metadata": {},
   "outputs": [
    {
     "name": "stderr",
     "output_type": "stream",
     "text": [
      "100%|██████████████████████████████████████████████████████████████████████████████| 649/649 [00:00<00:00, 1291.27it/s]"
     ]
    },
    {
     "name": "stdout",
     "output_type": "stream",
     "text": [
      "649\n",
      "649\n"
     ]
    },
    {
     "name": "stderr",
     "output_type": "stream",
     "text": [
      "\n"
     ]
    }
   ],
   "source": [
    "xids = []\n",
    "drop = []\n",
    "\n",
    "for i in tqdm (range(len(wide_binaries))):\n",
    "    try:\n",
    "        xid = SDSS.get_spectra_async(plate=wide_binaries['mainseq_plate'][i], fiberID=wide_binaries['mainseq_fiberID'][i], mjd=wide_binaries['mainseq_mjd'][i])\n",
    "        xids.append(str(xid).split(' ')[4])\n",
    "    except:\n",
    "        drop.append(i)\n",
    "    \n",
    "print(len(wide_binaries))\n",
    "print(len(xids))"
   ]
  },
  {
   "cell_type": "code",
   "execution_count": 44,
   "id": "9af04777-5b9a-4310-a641-e77281f11f25",
   "metadata": {},
   "outputs": [],
   "source": [
    "wide_binaries['mainseq_url'] = xids"
   ]
  },
  {
   "cell_type": "code",
   "execution_count": 45,
   "id": "bce5443f-5e61-4f21-b2bb-daf45a1979a6",
   "metadata": {},
   "outputs": [],
   "source": [
    "wide_binaries.to_csv('data/wide_binaries.csv')"
   ]
  },
  {
   "cell_type": "code",
   "execution_count": null,
   "id": "1a178010-66f3-4fbc-9383-1dda6d441543",
   "metadata": {},
   "outputs": [],
   "source": []
  },
  {
   "cell_type": "code",
   "execution_count": null,
   "id": "7165b442-8ad9-46f1-a36f-b7ed95e5c8b2",
   "metadata": {},
   "outputs": [],
   "source": []
  }
 ],
 "metadata": {
  "kernelspec": {
   "display_name": "Python 3 (ipykernel)",
   "language": "python",
   "name": "python3"
  },
  "language_info": {
   "codemirror_mode": {
    "name": "ipython",
    "version": 3
   },
   "file_extension": ".py",
   "mimetype": "text/x-python",
   "name": "python",
   "nbconvert_exporter": "python",
   "pygments_lexer": "ipython3",
   "version": "3.9.7"
  }
 },
 "nbformat": 4,
 "nbformat_minor": 5
}
