{
 "cells": [
  {
   "cell_type": "code",
   "execution_count": 1,
   "metadata": {},
   "outputs": [],
   "source": [
    "# Install a pip package in the current Jupyter kernel\n",
    "import sys\n",
    "\n",
    "\n",
    "### General\n",
    "import numpy as np\n",
    "import matplotlib.pyplot as plt\n",
    "import matplotlib.colors as colors\n",
    "#from scipy.optimize import curve_fit\n",
    "from tqdm import tqdm\n",
    "import pandas as pd\n",
    "\n",
    "### Query\n",
    "from astroquery.sdss import SDSS"
   ]
  },
  {
   "cell_type": "markdown",
   "metadata": {},
   "source": [
    "# 01 - Data Processing"
   ]
  },
  {
   "cell_type": "code",
   "execution_count": 2,
   "metadata": {},
   "outputs": [
    {
     "name": "stderr",
     "output_type": "stream",
     "text": [
      "C:\\Users\\arsen\\anaconda3\\lib\\site-packages\\IPython\\core\\interactiveshell.py:3444: DtypeWarning: Columns (6,7,8,9,10,11,12,13,14,15,16) have mixed types.Specify dtype option on import or set low_memory=False.\n",
      "  exec(code_obj, self.user_global_ns, self.user_ns)\n"
     ]
    }
   ],
   "source": [
    "df = pd.read_csv(\"data/sdssdr14-wd-catalog/Table2.csv\")\n",
    "\n",
    "ps = []\n",
    "ms = []\n",
    "fs = []\n",
    "\n",
    "for i in range(len(df['P-M-F'])):\n",
    "    tpmf = df['P-M-F'][i].split('-')\n",
    "        \n",
    "    ps.append(int(tpmf[0]))\n",
    "    ms.append(int(tpmf[1]))\n",
    "    fs.append(int(tpmf[2]))\n",
    "        \n",
    "df['plate'] = ps\n",
    "df['mjd'] = ms\n",
    "df['fiber'] = fs"
   ]
  },
  {
   "cell_type": "code",
   "execution_count": 3,
   "metadata": {},
   "outputs": [
    {
     "name": "stdout",
     "output_type": "stream",
     "text": [
      "<class 'numpy.int64'>\n"
     ]
    }
   ],
   "source": [
    "print(type(df['SNg'][2]))"
   ]
  },
  {
   "cell_type": "code",
   "execution_count": 4,
   "metadata": {},
   "outputs": [
    {
     "name": "stderr",
     "output_type": "stream",
     "text": [
      "  1%|▌                                                                           | 248/37406 [00:00<00:29, 1250.08it/s]WARNING: NoResultsWarning: Query returned no results. [astroquery.sdss.core]\n",
      " 57%|██████████████████████████████████████████▏                               | 21322/37406 [00:15<00:11, 1404.97it/s]C:\\Users\\arsen\\anaconda3\\lib\\site-packages\\astroquery\\sdss\\core.py:874: VisibleDeprecationWarning: Reading unicode strings without specifying the encoding argument is deprecated. Set the encoding, use None for the system default.\n",
      "  arr = np.atleast_1d(np.genfromtxt(io.BytesIO(response.content),\n",
      "100%|██████████████████████████████████████████████████████████████████████████| 37406/37406 [00:28<00:00, 1314.25it/s]"
     ]
    },
    {
     "name": "stdout",
     "output_type": "stream",
     "text": [
      "[Downloaded object from URL https://data.sdss.org/sas/dr14/sdss/spectro/redux/26/spectra/1000/spec-1000-52643-0512.fits with ID 3024688088352]\n",
      "37406\n"
     ]
    },
    {
     "name": "stderr",
     "output_type": "stream",
     "text": [
      "\n",
      "C:\\Users\\arsen\\AppData\\Local\\Temp/ipykernel_900/682111842.py:31: VisibleDeprecationWarning: Creating an ndarray from ragged nested sequences (which is a list-or-tuple of lists-or-tuples-or ndarrays with different lengths or shapes) is deprecated. If you meant to do this, you must specify 'dtype=object' when creating the ndarray.\n",
      "  xids2 = np.array(xids)\n"
     ]
    }
   ],
   "source": [
    "from astropy.coordinates import SkyCoord\n",
    "from astropy import units as u\n",
    "\n",
    "q = df['SNg'].tolist().index(max(df['SNg']))\n",
    "\n",
    "dothing = True\n",
    "\n",
    "if dothing:\n",
    "    xids = []\n",
    "    \n",
    "    for i in tqdm (range(len(df['SNg']))):\n",
    "        try:\n",
    "            xid = SDSS.get_spectra_async(plate=df['plate'][i], fiberID=df['fiber'][i], mjd=df['mjd'][i])\n",
    "            xids.append(xid)\n",
    "        except:\n",
    "            pass\n",
    "else:\n",
    "    xid = SDSS.get_spectra_async(plate=df['plate'][i], fiberID=df['fiber'][i], mjd=df['mjd'][i])\n",
    "    xids = None\n",
    "    \n",
    "print(xid)\n",
    "    \n",
    "#url = str(xid[0]).split(' ')\n",
    "#print(url)\n",
    "#print((str(xids[0]).split(' ')[4]).split('-'))\n",
    "\n",
    "from numpy import asarray\n",
    "from numpy import save\n",
    "\n",
    "if dothing:\n",
    "    xids2 = np.array(xids)\n",
    "    xids2.tofile('data/wd-spectra.txt', sep = ',')\n",
    "    \n",
    "print(len(xids))"
   ]
  },
  {
   "cell_type": "code",
   "execution_count": 5,
   "metadata": {},
   "outputs": [
    {
     "name": "stdout",
     "output_type": "stream",
     "text": [
      "                 P-M-F               RA-DEC  SNg       u     su       g  \\\n",
      "0      0266-51602-0314  094107.47-001949.70   12  19.369  0.023  18.965   \n",
      "1      0266-51630-0015  094739.30-003840.13   20  19.405  0.029  18.104   \n",
      "2      0266-51630-0026  094901.28-001909.61   40  16.951  0.010  16.511   \n",
      "3      0266-51630-0031  094804.30-000738.16   15  18.688  0.023  18.278   \n",
      "4      0266-51630-0037  094917.06-000023.67   11  19.271  0.024  18.796   \n",
      "...                ...                  ...  ...     ...    ...     ...   \n",
      "37401  8958-57514-0708  103122.68+255738.03   38  18.129  0.018  17.242   \n",
      "37402  8958-57514-0794  103255.79+261139.66   38  18.245  0.018  17.391   \n",
      "37403  9003-57488-0602  102914.09+254714.37   39  18.358  0.020  17.523   \n",
      "37404  9003-57488-0700  103012.64+250954.63   42  18.026  0.018  17.156   \n",
      "37405  1000-52643-0512  104217.62+064907.37   12  19.414  0.032  18.507   \n",
      "\n",
      "          sg       r     sr       i  ...       z     sz    ebv    ppm      l  \\\n",
      "0      0.014  19.063  0.012  19.231  ...  19.356  0.058  0.053   20.9  235.9   \n",
      "1      0.018  18.097  0.022  18.128  ...  18.216  0.034  0.078   17.4  237.4   \n",
      "2      0.014  16.642   0.01  16.813  ...  17.012  0.019  0.066  109.9  237.3   \n",
      "3      0.017  18.342  0.011   18.47  ...  18.611  0.035  0.088   48.2  236.9   \n",
      "4      0.018  18.934  0.016  19.108  ...  19.294  0.055  0.067   47.4    237   \n",
      "...      ...     ...    ...     ...  ...     ...    ...    ...    ...    ...   \n",
      "37401   0.02  17.033  0.014  16.923  ...  16.943  0.023  0.018   12.9  207.0   \n",
      "37402  0.021  17.144  0.011  17.033  ...   17.02  0.021  0.013   19.3  206.6   \n",
      "37403  0.022   17.24  0.026  17.138  ...  17.172  0.022  0.016   13.1  207.1   \n",
      "37404  0.019  16.837  0.021  16.731  ...  16.713  0.018  0.013   16.5  208.4   \n",
      "37405  0.021  18.259  0.022  18.211  ...  18.206  0.026   0.03   12.0  240.5   \n",
      "\n",
      "          b     ty plate    mjd  fiber  \n",
      "0      36.7     DA   266  51602    314  \n",
      "1      37.9    sdA   266  51630     15  \n",
      "2      38.3     DA   266  51630     26  \n",
      "3      38.2     DA   266  51630     31  \n",
      "4      38.6     DA   266  51630     37  \n",
      "...     ...    ...   ...    ...    ...  \n",
      "37401  58.8  sdA/F  8958  57514    708  \n",
      "37402  59.1  sdA/F  8958  57514    794  \n",
      "37403  58.3  sdA/F  9003  57488    602  \n",
      "37404  58.3  sdA/F  9003  57488    700  \n",
      "37405  53.2  sdA/F  1000  52643    512  \n",
      "\n",
      "[37406 rows x 21 columns]\n"
     ]
    }
   ],
   "source": [
    "print(df)"
   ]
  },
  {
   "cell_type": "code",
   "execution_count": 6,
   "metadata": {},
   "outputs": [
    {
     "name": "stdout",
     "output_type": "stream",
     "text": [
      "0.0\n",
      "137.0\n"
     ]
    }
   ],
   "source": [
    "print(min(df['g']))\n",
    "print(max(df['g']))"
   ]
  },
  {
   "cell_type": "code",
   "execution_count": 36,
   "metadata": {},
   "outputs": [],
   "source": [
    "query1 = \"select s.bestObjID, s.specObjID, s.plate, s.mjd, s.fiberID \\\n",
    "    from SpecObj as s \\\n",
    "    where s.plate > 265\\\n",
    "    and s.plate < 3400\\\n",
    "    and s.class = \\'STAR\\'\"\n",
    "query2 = \"select s.bestObjID, s.specObjID, s.plate, s.mjd, s.fiberID \\\n",
    "    from SpecObj as s \\\n",
    "    where s.plate > 3400\\\n",
    "    and s.plate < 9004\\\n",
    "    and s.class = \\'STAR\\'\"\n",
    "            \n",
    "white_dwarf1= SDSS.query_sql(query1)\n",
    "white_dwarf2= SDSS.query_sql(query2)\n"
   ]
  },
  {
   "cell_type": "code",
   "execution_count": 37,
   "metadata": {},
   "outputs": [
    {
     "name": "stdout",
     "output_type": "stream",
     "text": [
      "887342\n"
     ]
    }
   ],
   "source": [
    "from astropy.table import Table, vstack\n",
    "\n",
    "twhite_dwarf = vstack([white_dwarf1, white_dwarf2])\n",
    "white_dwarf = twhite_dwarf\n",
    "print(len(twhite_dwarf))"
   ]
  },
  {
   "cell_type": "code",
   "execution_count": 38,
   "metadata": {},
   "outputs": [
    {
     "name": "stdout",
     "output_type": "stream",
     "text": [
      "True\n",
      "<class 'pandas.core.frame.DataFrame'>\n"
     ]
    }
   ],
   "source": [
    "id_tuple = np.array([df['plate'], df['mjd'], df['fiber']]).T\n",
    "print([2699,54414,525] in id_tuple)\n",
    "white_dwarf = twhite_dwarf.to_pandas()\n",
    "\n",
    "print(type(white_dwarf))\n",
    "i = np.where((id_tuple[:,2] == 360) & (id_tuple[:,0] == 54414))"
   ]
  },
  {
   "cell_type": "code",
   "execution_count": 39,
   "metadata": {},
   "outputs": [
    {
     "name": "stderr",
     "output_type": "stream",
     "text": [
      "100%|███████████████████████████████████████████████████████████████████████| 887342/887342 [01:28<00:00, 10041.21it/s]\n"
     ]
    }
   ],
   "source": [
    "def search(plate, fiber, mjd):\n",
    "    urls = []\n",
    "    drops = []\n",
    "    \n",
    "    for i in tqdm(range(len(plate))):\n",
    "        notfound = False\n",
    "        j = np.where((id_tuple[:,0] == plate[i]) & (id_tuple[:,1] == mjd[i]) & (id_tuple[:,2] == fiber[i]))\n",
    "        \n",
    "        try:\n",
    "            k = j[0][0]\n",
    "        except:\n",
    "            notfound = True\n",
    "            \n",
    "        if not notfound: \n",
    "            try:\n",
    "                urls.append(str(xids[k][0]).split(' ')[4])\n",
    "            except:\n",
    "                notfound = True\n",
    "        if notfound:\n",
    "            drops.append(i)\n",
    "            \n",
    "    return drops, urls\n",
    "\n",
    "drops, urls = search(white_dwarf['plate'], white_dwarf['fiberID'], white_dwarf['mjd'])\n"
   ]
  },
  {
   "cell_type": "code",
   "execution_count": 40,
   "metadata": {},
   "outputs": [
    {
     "name": "stdout",
     "output_type": "stream",
     "text": [
      "855752\n",
      "849936\n",
      "31590\n",
      "             bestObjID     specObjID  plate    mjd  fiberID  \\\n",
      "0  1237664087534732151  3.038948e+18   2699  54414      525   \n",
      "1  1237664087534797369  3.038930e+18   2699  54414      459   \n",
      "2  1237664087534928362  3.038958e+18   2699  54414      561   \n",
      "3  1237664089146064917  1.415271e+18   1257  52944       53   \n",
      "4  1237664089146064948  1.415269e+18   1257  52944       47   \n",
      "5  1237664089146065069  1.415257e+18   1257  52944        1   \n",
      "6  1237664089682149405  1.415322e+18   1257  52944      240   \n",
      "7  1237664089682149414  1.415318e+18   1257  52944      223   \n",
      "8  1237664089682149435  1.415319e+18   1257  52944      228   \n",
      "9  1237664089682346088  1.415308e+18   1257  52944      190   \n",
      "\n",
      "                                                 url  \n",
      "0  https://data.sdss.org/sas/dr14/sdss/spectro/re...  \n",
      "1  https://data.sdss.org/sas/dr14/sdss/spectro/re...  \n",
      "2  https://data.sdss.org/sas/dr14/sdss/spectro/re...  \n",
      "3  https://data.sdss.org/sas/dr14/sdss/spectro/re...  \n",
      "4  https://data.sdss.org/sas/dr14/sdss/spectro/re...  \n",
      "5  https://data.sdss.org/sas/dr14/sdss/spectro/re...  \n",
      "6  https://data.sdss.org/sas/dr14/sdss/spectro/re...  \n",
      "7  https://data.sdss.org/sas/dr14/sdss/spectro/re...  \n",
      "8  https://data.sdss.org/sas/dr14/sdss/spectro/re...  \n",
      "9  https://data.sdss.org/sas/dr14/sdss/spectro/re...  \n"
     ]
    }
   ],
   "source": [
    "print(len(drops))\n",
    "print(len(white_dwarf) - len(df))\n",
    "\n",
    "white_dwarf = white_dwarf.drop(drops)\n",
    "\n",
    "print(len(white_dwarf))\n",
    "\n",
    "white_dwarf['url'] = urls\n",
    "white_dwarf.reset_index(inplace=True, drop=True)\n",
    "print(white_dwarf[:10])"
   ]
  },
  {
   "cell_type": "code",
   "execution_count": 41,
   "metadata": {},
   "outputs": [],
   "source": [
    "white_dwarf.to_csv('data/white_dwarves.csv')"
   ]
  },
  {
   "cell_type": "code",
   "execution_count": null,
   "metadata": {},
   "outputs": [],
   "source": []
  },
  {
   "cell_type": "markdown",
   "metadata": {},
   "source": [
    "## 02 -- Spectra\n",
    "---\n",
    "No more data after here"
   ]
  },
  {
   "cell_type": "code",
   "execution_count": null,
   "metadata": {},
   "outputs": [],
   "source": [
    "from astropy.io import fits\n",
    "\n",
    "url = white_dwarf['fits'][q]\n",
    "\n",
    "star = fits.open(url)\n",
    "\n",
    "star[0].header['SPEC_ID']"
   ]
  },
  {
   "cell_type": "code",
   "execution_count": null,
   "metadata": {},
   "outputs": [],
   "source": [
    "import sdss\n",
    "\n",
    "specObjID = tuple(white_dwarf['objectID'])\n",
    "print(type(specObjID[0]))\n",
    "\n",
    "sql = \"SELECT * \\\n",
    "    FROM SpecObj AS s \\\n",
    "    WHERE s.specObjID IN {} \\\n",
    "    \".format(specObjID[:100])\n",
    "\n",
    "df2 = SDSS.query_sql(sql)\n",
    "print(df2)"
   ]
  },
  {
   "cell_type": "code",
   "execution_count": null,
   "metadata": {},
   "outputs": [],
   "source": [
    "##### https://www.sdss.org/dr17/spectro/spectro_basics/\n",
    "# https://data.sdss.org/datamodel/files/SPECTRO_REDUX/RUN2D/PLATE4/spCFrame.html\n",
    "\n",
    "header = star[1].header\n",
    "data = star[1].data\n",
    "\n",
    "wavelength = 10**data['loglam']\n",
    "flux = data['flux']\n",
    "ivar = data['ivar']\n",
    "\n",
    "plt.figure(figsize=(20,8))\n",
    "\n",
    "plt.plot(wavelength, flux)\n",
    "plt.grid()\n",
    "plt.ylabel(r'Flux [$10^{-17}$ ergs/s/cm2/A]')\n",
    "plt.xlabel(r'Wavelength [A]')\n",
    "plt.title('White Dwarf Light Curve')\n",
    "ax = plt.gca()\n",
    "\n",
    "plt.show()"
   ]
  },
  {
   "cell_type": "code",
   "execution_count": null,
   "metadata": {},
   "outputs": [],
   "source": [
    "from lmfit.models import GaussianModel, ConstantModel\n",
    "\n",
    "balmer_lines = [6562.79, 4861.35, 4340.47, 4101.73, 3970.07, 3889.06, 3835.40]\n",
    "c = 299792458 #m/s\n",
    "\n",
    "# n between 1 & 7\n",
    "n = 7\n",
    "\n",
    "lambda_obs = []\n",
    "dlambda_obs = []\n",
    "\n",
    "for i in range(n):\n",
    "    line = balmer_lines[i]\n",
    "    print(str(i) + ': ' + str(line))\n",
    "    \n",
    "    ha = np.where(np.logical_and([wavelength > line - 0.1 * line], [wavelength < line + 0.1 * line]))[1]\n",
    "    \n",
    "    x = wavelength[ha]\n",
    "    y = flux[ha]\n",
    "    \n",
    "    model = (ConstantModel(prefix='offset_') +\n",
    "             GaussianModel(prefix='p_'))\n",
    "    \n",
    "    params = model.make_params(offset_c=max(wavelength[ha]), p_amplitude=(min(wavelength[ha])-max(wavelength[ha])), _sigma=100, p_center=line)\n",
    "    init = model.eval(params, x=x)\n",
    "    result = model.fit(y, params, x=x)\n",
    "    \n",
    "    lambda_obs.append(result.params['p_center'].value)\n",
    "    dlambda_obs.append(result.params['p_center'].stderr)\n",
    "\n",
    "v_app = 0\n",
    "dv_app = 0\n",
    "    \n",
    "for i in range(n):\n",
    "    v_app += (c * ((lambda_obs[i] - balmer_lines[i]) / balmer_lines[i]) * 1e-3) / n\n",
    "    dv_app = np.abs(v_app * 1e3) * np.sqrt(np.sum((np.array(dlambda_obs) / np.array(lambda_obs))**2) ) / n\n",
    "    \n",
    "print(str(v_app) + '+/-' + str(dv_app))\n",
    "\n",
    "plt.figure(figsize=(15,6))\n",
    "\n",
    "plt.plot(wavelength[ha], flux[ha], label='Spectrum Data')\n",
    "plt.plot(wavelength[ha], result.best_fit, c='black', label='Gaussian Fit')\n",
    "plt.xlim((line - 0.1 * line, line + 0.1 * line))\n",
    "#plt.ylim((150,400))\n",
    "plt.grid()\n",
    "plt.ylabel(r'Flux [$10^{-17}$ ergs/s/cm2/A]')\n",
    "plt.xlabel(r'Wavelength [A]')\n",
    "plt.title(r'White Dwarf $H\\alpha$ Absorbtion Line')\n",
    "ax = plt.gca()\n",
    "\n",
    "plt.legend()\n",
    "plt.show()"
   ]
  },
  {
   "cell_type": "code",
   "execution_count": null,
   "metadata": {},
   "outputs": [],
   "source": [
    "\n",
    "'''\n",
    "lambda_obs = result.params['p_center'].value\n",
    "dlambda_obs = result.params['p_center'].stderr\n",
    "\n",
    "v_app = c * ((lambda_obs - h_alpha) / h_alpha) * 1e-3\n",
    "dv_app = np.abs(v_app * 1e3) * np.sqrt((dlambda_obs / lambda_obs)**2 )\n",
    "\n",
    "print('Observed speed by redshift: %.2f +/- %.2f km/s' % (v_app, dv_app))\n",
    "'''"
   ]
  },
  {
   "cell_type": "code",
   "execution_count": null,
   "metadata": {},
   "outputs": [],
   "source": [
    "from astropy.io import fits\n",
    "import matplotlib.pyplot as plt\n",
    "import numpy as np\n",
    "#!{sys.executable} -m pip install tensorflow\n",
    "\n",
    "\n",
    "import sys\n",
    "sys.path.append('../wdtools') # Your path should contain the parent GitHub repository"
   ]
  },
  {
   "cell_type": "code",
   "execution_count": null,
   "metadata": {},
   "outputs": [],
   "source": [
    "import wdtools\n",
    "\n",
    "gfp = wdtools.GFP(resolution = 2, specclass = 'DA')\n",
    "\n",
    "labels, e_labels, redchi = gfp.fit_spectrum(wavelength, flux, ivar,\n",
    "                                mcmc = True, nwalkers = 25, burn = 50, ndraws = 50,\n",
    "                                plot_init = True, make_plot = True, plot_corner = True, savename = 'example',\n",
    "                                verbose = True,\n",
    "                                lines = ['beta', 'gamma', 'delta', 'eps', 'h8'])"
   ]
  },
  {
   "cell_type": "code",
   "execution_count": null,
   "metadata": {},
   "outputs": [],
   "source": [
    "sp = wdtools.SpecTools()\n",
    "\n",
    "h_alpha = 6562.79\n",
    "\n",
    "rv, e_rv = sp.get_line_rv(wavelength, flux, ivar, centroid = h_alpha,\n",
    "                          distance = 100, edge = 15,\n",
    "                          nmodel = 2, plot = True)"
   ]
  },
  {
   "cell_type": "code",
   "execution_count": null,
   "metadata": {},
   "outputs": [],
   "source": [
    "print('Observed speed by redshift (WDTools): %.2f +/- %.2f km/s' % (rv, e_rv))\n",
    "print('Observed speed by redshift (Gaussian): %.2f +/- %.2f km/s' % (v_app, dv_app))"
   ]
  },
  {
   "cell_type": "code",
   "execution_count": null,
   "metadata": {},
   "outputs": [],
   "source": [
    "print('Teff = %i ± %i Kelvin' % (labels[0], e_labels[0]))\n",
    "print('logg = %.2f ± %.2f log[cm/s^2]' % (labels[1], e_labels[1]))\n",
    "print('RV = %.1f ± %.1f km/s' % (labels[2], e_labels[2]))\n",
    "print('reduced chi^2 = %.2f' % (redchi))"
   ]
  },
  {
   "cell_type": "code",
   "execution_count": null,
   "metadata": {},
   "outputs": [],
   "source": []
  },
  {
   "cell_type": "code",
   "execution_count": null,
   "metadata": {},
   "outputs": [],
   "source": []
  },
  {
   "cell_type": "code",
   "execution_count": null,
   "metadata": {},
   "outputs": [],
   "source": []
  }
 ],
 "metadata": {
  "kernelspec": {
   "display_name": "Python 3",
   "language": "python",
   "name": "python3"
  },
  "language_info": {
   "codemirror_mode": {
    "name": "ipython",
    "version": 3
   },
   "file_extension": ".py",
   "mimetype": "text/x-python",
   "name": "python",
   "nbconvert_exporter": "python",
   "pygments_lexer": "ipython3",
   "version": "3.8.3"
  }
 },
 "nbformat": 4,
 "nbformat_minor": 4
}
