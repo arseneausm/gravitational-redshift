{
 "cells": [
  {
   "cell_type": "code",
   "execution_count": 1,
   "id": "72ebe40f-b453-4f6d-a338-ff7d3393044e",
   "metadata": {
    "tags": []
   },
   "outputs": [],
   "source": [
    "#from sklearn.cluster import KMeans\n",
    "import numpy as np\n",
    "import scipy as sp\n",
    "import sys\n",
    "sys.path.append('../msrv-xc/')\n",
    "sys.path.append('../wdtools')\n",
    "\n",
    "import matplotlib.pyplot as plt\n",
    "import matplotlib.colors as colors\n",
    "from astropy.io import fits\n",
    "from astropy.table import Table\n",
    "from tqdm import tqdm\n",
    "\n",
    "### Query\n",
    "from astroquery.sdss import SDSS\n",
    "from astroquery.gaia import Gaia\n",
    "from astropy import constants as c\n",
    "\n",
    "#import wdtools\n",
    "import msrvxc\n",
    "import pickle"
   ]
  },
  {
   "cell_type": "code",
   "execution_count": 2,
   "id": "63be81af-ce7b-499e-90a6-60141e967436",
   "metadata": {
    "tags": []
   },
   "outputs": [],
   "source": [
    "with open('../msrv-xc/grids/interp_bosz.pkl', 'rb') as f:\n",
    "    interp_bosz = pickle.load(f)\n",
    "    \n",
    "with open('../msrv-xc/grids/interp_bosz_norm.pkl', 'rb') as f:\n",
    "    interp_bosz_norm = pickle.load(f)\n",
    "    \n",
    "wvl = np.load('../msrv-xc/grids/wavl.npy')"
   ]
  },
  {
   "cell_type": "code",
   "execution_count": 3,
   "id": "ad72a18a-0b34-4096-b0db-de6cf15d5939",
   "metadata": {
    "tags": []
   },
   "outputs": [],
   "source": [
    "from astropy.table import Table, vstack\n",
    "\n",
    "ms_sdss4_wd_sdss4 = Table.read('data/ms_sdss4_wd_sdss4.fits')\n",
    "ms_gaia_wd_sdss4 = Table.read('data/ms_gaia_wd_sdss4.fits')\n",
    "#ms_sdss5_wd_sdss4 = Table.read('sdss5/ms_sdss5_wd_sdss4.fits')\n",
    "#\n",
    "#ms_gaia_wd_sdss5 = Table.read('sdss5/ms_gaia_wd_sdss5.fits')\n",
    "#ms_sdss5_wd_sdss5 = Table.read('sdss5/ms_sdss5_wd_sdss5.fits')\n",
    "\n",
    "def strip(catalog):  \n",
    "    drop_cols = []\n",
    "    keep_cols = ['ms_source_id', 'ms_plate', 'ms_mjd', 'ms_fiberid', 'radial_velocity', 'radial_velocity_error']\n",
    "        \n",
    "    for key in catalog.keys():\n",
    "        if key not in keep_cols:\n",
    "            drop_cols.append(key)\n",
    "            \n",
    "    catalog.remove_columns(drop_cols)\n",
    "    \n",
    "    return catalog\n",
    "\n",
    "ms_sdss4_wd_sdss4 = strip(ms_sdss4_wd_sdss4)\n",
    "ms_gaia_wd_sdss4  = strip(ms_gaia_wd_sdss4 )\n",
    "#ms_sdss5_wd_sdss4 = strip(ms_sdss5_wd_sdss4)\n",
    "#ms_gaia_wd_sdss5  = strip(ms_gaia_wd_sdss5 )\n",
    "#ms_sdss5_wd_sdss5 = strip(ms_sdss5_wd_sdss5)\n",
    "\n",
    "catalog = vstack([ms_sdss4_wd_sdss4, ms_gaia_wd_sdss4])#, ms_sdss5_wd_sdss4, ms_gaia_wd_sdss5, ms_sdss5_wd_sdss5])"
   ]
  },
  {
   "cell_type": "code",
   "execution_count": 4,
   "id": "77ac3ae8-af3f-4aa6-973b-d60d0d0ec1a5",
   "metadata": {
    "tags": []
   },
   "outputs": [
    {
     "name": "stdout",
     "output_type": "stream",
     "text": [
      "19\n"
     ]
    }
   ],
   "source": [
    "print(len(catalog[catalog['radial_velocity'].mask]))"
   ]
  },
  {
   "cell_type": "code",
   "execution_count": 5,
   "id": "332edec1-a62c-418b-a0c3-2cf38d79f4d2",
   "metadata": {
    "tags": []
   },
   "outputs": [
    {
     "data": {
      "text/html": [
       "<div><i>Table length=173</i>\n",
       "<table id=\"table139799046281968\" class=\"table-striped table-bordered table-condensed\">\n",
       "<thead><tr><th>radial_velocity</th><th>radial_velocity_error</th></tr></thead>\n",
       "<thead><tr><th>km / s</th><th>km / s</th></tr></thead>\n",
       "<thead><tr><th>float32</th><th>float32</th></tr></thead>\n",
       "<tr><td>--</td><td>--</td></tr>\n",
       "<tr><td>--</td><td>--</td></tr>\n",
       "<tr><td>--</td><td>--</td></tr>\n",
       "<tr><td>--</td><td>--</td></tr>\n",
       "<tr><td>--</td><td>--</td></tr>\n",
       "<tr><td>--</td><td>--</td></tr>\n",
       "<tr><td>--</td><td>--</td></tr>\n",
       "<tr><td>--</td><td>--</td></tr>\n",
       "<tr><td>9.298745</td><td>5.629353</td></tr>\n",
       "<tr><td>...</td><td>...</td></tr>\n",
       "<tr><td>-27.482237</td><td>0.38583347</td></tr>\n",
       "<tr><td>-27.310343</td><td>1.0401118</td></tr>\n",
       "<tr><td>-1.313813</td><td>0.30435446</td></tr>\n",
       "<tr><td>-22.557394</td><td>1.7487677</td></tr>\n",
       "<tr><td>-36.919918</td><td>0.7939884</td></tr>\n",
       "<tr><td>-54.84268</td><td>0.9555217</td></tr>\n",
       "<tr><td>29.616283</td><td>0.22279081</td></tr>\n",
       "<tr><td>38.9895</td><td>0.65678334</td></tr>\n",
       "<tr><td>-3.1402183</td><td>0.2936383</td></tr>\n",
       "</table></div>"
      ],
      "text/plain": [
       "<Table length=173>\n",
       "radial_velocity radial_velocity_error\n",
       "     km / s             km / s       \n",
       "    float32            float32       \n",
       "--------------- ---------------------\n",
       "             --                    --\n",
       "             --                    --\n",
       "             --                    --\n",
       "             --                    --\n",
       "             --                    --\n",
       "             --                    --\n",
       "             --                    --\n",
       "             --                    --\n",
       "       9.298745              5.629353\n",
       "            ...                   ...\n",
       "     -27.482237            0.38583347\n",
       "     -27.310343             1.0401118\n",
       "      -1.313813            0.30435446\n",
       "     -22.557394             1.7487677\n",
       "     -36.919918             0.7939884\n",
       "      -54.84268             0.9555217\n",
       "      29.616283            0.22279081\n",
       "        38.9895            0.65678334\n",
       "     -3.1402183             0.2936383"
      ]
     },
     "execution_count": 5,
     "metadata": {},
     "output_type": "execute_result"
    }
   ],
   "source": [
    "catalog[['radial_velocity', 'radial_velocity_error']]"
   ]
  },
  {
   "cell_type": "code",
   "execution_count": 6,
   "id": "9394dc8d-3cf1-478d-963c-3ff79794ba4f",
   "metadata": {
    "tags": []
   },
   "outputs": [],
   "source": [
    "def continuum_normalize(wl, fl, ivar = None, avg_size = 150, ret_cont = False):\n",
    "    \n",
    "    fl_norm = np.zeros(np.size(fl))\n",
    "    fl_cont = np.zeros(np.size(fl))\n",
    "    \n",
    "    ivar_yes = 0\n",
    "    if ivar is not None:\n",
    "        ivar_yes = 1\n",
    "        ivar_norm = np.zeros(np.size(fl))\n",
    "        \n",
    "    for i in range(np.size(wl)):\n",
    "        wl_clip = ((wl[i]-avg_size/2)<wl) * (wl<(wl[i]+avg_size/2))\n",
    "        fl_cont[i] = np.median(fl[wl_clip])\n",
    "        if ivar_yes:\n",
    "            ivar_norm[i] = ivar[i]*np.median(fl[wl_clip])**2\n",
    "    \n",
    "    fl_norm = fl/fl_cont\n",
    "    \n",
    "    if ret_cont:\n",
    "        if ivar_yes:\n",
    "            return wl, fl_norm, ivar_norm, fl_cont\n",
    "        else:\n",
    "            return wl, fl_norm, fl_cont\n",
    "    else:\n",
    "        if ivar_yes:\n",
    "            return wl, fl_norm, ivar_norm\n",
    "        else:\n",
    "            return wl, fl_norm"
   ]
  },
  {
   "cell_type": "code",
   "execution_count": 7,
   "id": "ff06acc2-1abc-4d8a-a25b-aa423a1a4812",
   "metadata": {
    "tags": []
   },
   "outputs": [
    {
     "name": "stderr",
     "output_type": "stream",
     "text": [
      "  2%|█▉                                                                                 | 4/173 [00:40<28:44, 10.20s/it]/home/arseneau/anaconda3/lib/python3.9/site-packages/astroquery/sdss/core.py:874: VisibleDeprecationWarning: Reading unicode strings without specifying the encoding argument is deprecated. Set the encoding, use None for the system default.\n",
      "  arr = np.atleast_1d(np.genfromtxt(io.BytesIO(response.content),\n",
      "100%|█████████████████████████████████████████████████████████████████████████████████| 173/173 [03:34<00:00,  1.24s/it]\n"
     ]
    }
   ],
   "source": [
    "drops = []\n",
    "\n",
    "for i in tqdm(range(len(catalog))):\n",
    "    if catalog['radial_velocity'].mask[i]:\n",
    "        #try:\n",
    "        spec = SDSS.get_spectra(plate=catalog['ms_plate'][i], fiberID=catalog['ms_fiberid'][i], mjd=catalog['ms_mjd'][i])[0]\n",
    "    \n",
    "        wl = (10**spec[1].data['loglam'])\n",
    "        fl = (spec[1].data['flux'])\n",
    "        ivar = (spec[1].data['ivar'])\n",
    "        \n",
    "        wl, fl, ivar = continuum_normalize(wl, fl, ivar)\n",
    "        \n",
    "        mask = (4500 < wl)*(wl < 5500)\n",
    "        \n",
    "        res, rv, e_rv, rvgrid, cc = msrvxc.fit.fit_rv(interp_bosz_norm, wvl, wl, fl, ivar, plot = False)\n",
    "        \n",
    "        catalog['radial_velocity'][i] = rv\n",
    "        catalog['radial_velocity_error'][i] = e_rv\n",
    "        #except:\n",
    "        #    print('err')\n",
    "        #    drops.append(i)\n",
    "            \n",
    "catalog.remove_rows(drops)"
   ]
  },
  {
   "cell_type": "code",
   "execution_count": 8,
   "id": "dc2933c2-bbbc-4cc0-87ee-d50c1895b3b4",
   "metadata": {
    "tags": []
   },
   "outputs": [
    {
     "data": {
      "text/html": [
       "<div><i>Table length=173</i>\n",
       "<table id=\"table139799045695280\" class=\"table-striped table-bordered table-condensed\">\n",
       "<thead><tr><th>radial_velocity</th><th>radial_velocity_error</th></tr></thead>\n",
       "<thead><tr><th>km / s</th><th>km / s</th></tr></thead>\n",
       "<thead><tr><th>float32</th><th>float32</th></tr></thead>\n",
       "<tr><td>200.39432</td><td>3.4003677</td></tr>\n",
       "<tr><td>87.07357</td><td>7.071068</td></tr>\n",
       "<tr><td>51.984837</td><td>14.783859</td></tr>\n",
       "<tr><td>101.99453</td><td>30.766256</td></tr>\n",
       "<tr><td>80.701256</td><td>7.566373</td></tr>\n",
       "<tr><td>-2.6788187</td><td>2.6925824</td></tr>\n",
       "<tr><td>25.877562</td><td>5.0990195</td></tr>\n",
       "<tr><td>27.10566</td><td>10.547511</td></tr>\n",
       "<tr><td>9.298745</td><td>5.629353</td></tr>\n",
       "<tr><td>...</td><td>...</td></tr>\n",
       "<tr><td>-27.482237</td><td>0.38583347</td></tr>\n",
       "<tr><td>-27.310343</td><td>1.0401118</td></tr>\n",
       "<tr><td>-1.313813</td><td>0.30435446</td></tr>\n",
       "<tr><td>-22.557394</td><td>1.7487677</td></tr>\n",
       "<tr><td>-36.919918</td><td>0.7939884</td></tr>\n",
       "<tr><td>-54.84268</td><td>0.9555217</td></tr>\n",
       "<tr><td>29.616283</td><td>0.22279081</td></tr>\n",
       "<tr><td>38.9895</td><td>0.65678334</td></tr>\n",
       "<tr><td>-3.1402183</td><td>0.2936383</td></tr>\n",
       "</table></div>"
      ],
      "text/plain": [
       "<Table length=173>\n",
       "radial_velocity radial_velocity_error\n",
       "     km / s             km / s       \n",
       "    float32            float32       \n",
       "--------------- ---------------------\n",
       "      200.39432             3.4003677\n",
       "       87.07357              7.071068\n",
       "      51.984837             14.783859\n",
       "      101.99453             30.766256\n",
       "      80.701256              7.566373\n",
       "     -2.6788187             2.6925824\n",
       "      25.877562             5.0990195\n",
       "       27.10566             10.547511\n",
       "       9.298745              5.629353\n",
       "            ...                   ...\n",
       "     -27.482237            0.38583347\n",
       "     -27.310343             1.0401118\n",
       "      -1.313813            0.30435446\n",
       "     -22.557394             1.7487677\n",
       "     -36.919918             0.7939884\n",
       "      -54.84268             0.9555217\n",
       "      29.616283            0.22279081\n",
       "        38.9895            0.65678334\n",
       "     -3.1402183             0.2936383"
      ]
     },
     "execution_count": 8,
     "metadata": {},
     "output_type": "execute_result"
    }
   ],
   "source": [
    "catalog[['radial_velocity', 'radial_velocity_error']]"
   ]
  },
  {
   "cell_type": "code",
   "execution_count": 9,
   "id": "35adc05e-60b2-4101-94d4-15c0c77b2377",
   "metadata": {
    "tags": []
   },
   "outputs": [],
   "source": [
    "catalog.write('data/04_ms_rv.fits', overwrite = True)"
   ]
  },
  {
   "cell_type": "code",
   "execution_count": null,
   "id": "be208efe-f87c-4e89-ad40-62d99d635fd7",
   "metadata": {},
   "outputs": [],
   "source": []
  }
 ],
 "metadata": {
  "kernelspec": {
   "display_name": "Python 3 (ipykernel)",
   "language": "python",
   "name": "python3"
  },
  "language_info": {
   "codemirror_mode": {
    "name": "ipython",
    "version": 3
   },
   "file_extension": ".py",
   "mimetype": "text/x-python",
   "name": "python",
   "nbconvert_exporter": "python",
   "pygments_lexer": "ipython3",
   "version": "3.9.13"
  }
 },
 "nbformat": 4,
 "nbformat_minor": 5
}
