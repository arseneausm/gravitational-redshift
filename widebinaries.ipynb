{
 "cells": [
  {
   "cell_type": "markdown",
   "id": "325a11f8-bbf3-4511-91c9-4fe9b3c7d491",
   "metadata": {},
   "source": [
    "# Wide Binaries Selection Script\n",
    "---\n",
    "\n",
    "This script's purpose is to select white dwarves in wide binaries using information from Gaia and SDSS. It's a work in process.\n",
    "\n",
    "## 01 - SDSS Metadata"
   ]
  },
  {
   "cell_type": "code",
   "execution_count": 1,
   "id": "e341fe17-dae9-4df3-8725-2366b162b642",
   "metadata": {},
   "outputs": [],
   "source": [
    "# Install a pip package in the current Jupyter kernel\n",
    "import sys\n",
    "\n",
    "### General\n",
    "import numpy as np\n",
    "import matplotlib.pyplot as plt\n",
    "import matplotlib.colors as colors\n",
    "from astropy.io import fits\n",
    "from tqdm import tqdm\n",
    "import pandas as pd\n",
    "\n",
    "### Query\n",
    "from astroquery.sdss import SDSS\n",
    "from astroquery.gaia import Gaia"
   ]
  },
  {
   "cell_type": "markdown",
   "id": "fec20d53-0e5f-440f-9269-6770179973af",
   "metadata": {},
   "source": [
    "First, read in the data table from [Kepler et. al, 2019](https://arxiv.org/pdf/1904.01626.pdf) and extract the plate, mjd, and fiberID that will be used to identify the spectra."
   ]
  },
  {
   "cell_type": "code",
   "execution_count": 2,
   "id": "6f0fd775-46dd-4057-b1d5-6144df4f7e86",
   "metadata": {},
   "outputs": [
    {
     "name": "stderr",
     "output_type": "stream",
     "text": [
      "C:\\Users\\arsen\\anaconda3\\lib\\site-packages\\IPython\\core\\interactiveshell.py:3444: DtypeWarning: Columns (6,7,8,9,10,11,12,13,14,15,16) have mixed types.Specify dtype option on import or set low_memory=False.\n",
      "  exec(code_obj, self.user_global_ns, self.user_ns)\n"
     ]
    }
   ],
   "source": [
    "df = pd.read_csv(\"data/sdssdr14-wd-catalog/Table2.csv\")\n",
    "\n",
    "ps = []\n",
    "ms = []\n",
    "fs = []\n",
    "\n",
    "for i in range(len(df['P-M-F'])):\n",
    "    tpmf = df['P-M-F'][i].split('-')\n",
    "        \n",
    "    ps.append(int(tpmf[0]))\n",
    "    ms.append(int(tpmf[1]))\n",
    "    fs.append(int(tpmf[2]))\n",
    "        \n",
    "df['plate'] = ps\n",
    "df['mjd'] = ms\n",
    "df['fiber'] = fs"
   ]
  },
  {
   "cell_type": "markdown",
   "id": "2095f3eb-c8ee-4cea-9838-1257bcc4d56b",
   "metadata": {},
   "source": [
    "Now, get the spectra from the above information."
   ]
  },
  {
   "cell_type": "code",
   "execution_count": 3,
   "id": "8d3bc77c-cbc7-4880-b7b4-9efa45b0d801",
   "metadata": {},
   "outputs": [
    {
     "name": "stderr",
     "output_type": "stream",
     "text": [
      "  1%|▊                                                                             | 378/37406 [00:03<07:22, 83.64it/s]WARNING: NoResultsWarning: Query returned no results. [astroquery.sdss.core]\n",
      " 57%|███████████████████████████████████████████▌                                | 21433/37406 [04:25<03:17, 80.69it/s]C:\\Users\\arsen\\anaconda3\\lib\\site-packages\\astroquery\\sdss\\core.py:874: VisibleDeprecationWarning: Reading unicode strings without specifying the encoding argument is deprecated. Set the encoding, use None for the system default.\n",
      "  arr = np.atleast_1d(np.genfromtxt(io.BytesIO(response.content),\n",
      "100%|████████████████████████████████████████████████████████████████████████████| 37406/37406 [06:24<00:00, 97.23it/s]\n"
     ]
    },
    {
     "data": {
      "text/plain": [
       "\"\\nfrom numpy import asarray\\nfrom numpy import save\\n\\nif dothing:\\n    xids2 = np.array(xids)\\n    xids2.tofile('data/wd-spectra.txt', sep = ',')\\n    \\nprint(len(xids))\\n\""
      ]
     },
     "execution_count": 3,
     "metadata": {},
     "output_type": "execute_result"
    }
   ],
   "source": [
    "def get_spectra(df):\n",
    "    xids = []\n",
    "    \n",
    "    for i in tqdm (range(len(df['SNg']))):\n",
    "        try:\n",
    "            xid = SDSS.get_spectra_async(plate=df['plate'][i], fiberID=df['fiber'][i], mjd=df['mjd'][i])\n",
    "            xids.append(xid)\n",
    "        except:\n",
    "            pass\n",
    "    return xids\n",
    "    \n",
    "xids = get_spectra(df)\n",
    "\n",
    "'''\n",
    "from numpy import asarray\n",
    "from numpy import save\n",
    "\n",
    "if dothing:\n",
    "    xids2 = np.array(xids)\n",
    "    xids2.tofile('data/wd-spectra.txt', sep = ',')\n",
    "    \n",
    "print(len(xids))\n",
    "'''"
   ]
  },
  {
   "cell_type": "markdown",
   "id": "059abc72-60b9-431a-bdff-244b2ca92338",
   "metadata": {},
   "source": [
    "We query the other information we'll need to cross-match with Gaia. Namely bestObjID. This step can be optimized, but I'm not sure how else to do it for now. Because there are too many datapoints (~900000) returned by the query I want to do, I'm splitting it into two and then stacking the tables."
   ]
  },
  {
   "cell_type": "code",
   "execution_count": 4,
   "id": "2fdc1f6f-a15c-437d-a722-aca3488ae433",
   "metadata": {},
   "outputs": [],
   "source": [
    "query1 = \"select s.bestObjID, s.specObjID, s.plate, s.mjd, s.fiberID \\\n",
    "    from SpecObj as s \\\n",
    "    where s.plate > 265\\\n",
    "    and s.plate < 3400\\\n",
    "    and s.class = \\'STAR\\'\"\n",
    "query2 = \"select s.bestObjID, s.specObjID, s.plate, s.mjd, s.fiberID \\\n",
    "    from SpecObj as s \\\n",
    "    where s.plate > 3400\\\n",
    "    and s.plate < 9004\\\n",
    "    and s.class = \\'STAR\\'\"\n",
    "            \n",
    "white_dwarf1= SDSS.query_sql(query1)\n",
    "white_dwarf2= SDSS.query_sql(query2)"
   ]
  },
  {
   "cell_type": "code",
   "execution_count": 5,
   "id": "f892c43c-fc8d-4ed1-9b9f-6512c4498ed3",
   "metadata": {},
   "outputs": [],
   "source": [
    "from astropy.table import Table, vstack\n",
    "\n",
    "twhite_dwarf = vstack([white_dwarf1, white_dwarf2])\n",
    "white_dwarf = twhite_dwarf"
   ]
  },
  {
   "cell_type": "markdown",
   "id": "e4976fed-04ef-455e-a933-64808c1a5369",
   "metadata": {},
   "source": [
    "Now we can join the `(plate, mjd, fiberID)` tuple to the associated bestObjID. We do this by manually searching the returned dataset. This is basically a `join` command in SQL but I'm not sure how to do it in SQL."
   ]
  },
  {
   "cell_type": "code",
   "execution_count": 6,
   "id": "a2a3c920-9a5e-4e8d-8113-55e899641298",
   "metadata": {},
   "outputs": [],
   "source": [
    "id_tuple = np.array([df['plate'], df['mjd'], df['fiber']]).T\n",
    "white_dwarf = twhite_dwarf.to_pandas()\n",
    "\n",
    "i = np.where((id_tuple[:,2] == 360) & (id_tuple[:,0] == 54414))"
   ]
  },
  {
   "cell_type": "code",
   "execution_count": 7,
   "id": "99d1ea7a-8031-4720-aaec-073c42614218",
   "metadata": {},
   "outputs": [
    {
     "name": "stderr",
     "output_type": "stream",
     "text": [
      "100%|████████████████████████████████████████████████████████████████████████| 887342/887342 [03:13<00:00, 4579.93it/s]\n"
     ]
    }
   ],
   "source": [
    "def search(plate, fiber, mjd):\n",
    "    urls = []\n",
    "    drops = []\n",
    "    \n",
    "    for i in tqdm(range(len(plate))):\n",
    "        notfound = False\n",
    "        j = np.where((id_tuple[:,0] == plate[i]) & (id_tuple[:,1] == mjd[i]) & (id_tuple[:,2] == fiber[i]))\n",
    "        \n",
    "        try:\n",
    "            k = j[0][0]\n",
    "        except:\n",
    "            notfound = True\n",
    "            \n",
    "        if not notfound: \n",
    "            try:\n",
    "                urls.append(str(xids[k][0]).split(' ')[4])\n",
    "            except:\n",
    "                notfound = True\n",
    "        if notfound:\n",
    "            drops.append(i)\n",
    "            \n",
    "    return drops, urls\n",
    "\n",
    "drops, urls = search(white_dwarf['plate'], white_dwarf['fiberID'], white_dwarf['mjd'])"
   ]
  },
  {
   "cell_type": "code",
   "execution_count": 8,
   "id": "c30eb55e-c3e3-44c4-a5c8-c38d24b5517d",
   "metadata": {},
   "outputs": [
    {
     "name": "stdout",
     "output_type": "stream",
     "text": [
      "855752\n",
      "849936\n",
      "31590\n",
      "             bestObjID     specObjID  plate    mjd  fiberID  \\\n",
      "0  1237664087534732151  3.038948e+18   2699  54414      525   \n",
      "1  1237664087534797369  3.038930e+18   2699  54414      459   \n",
      "2  1237664087534928362  3.038958e+18   2699  54414      561   \n",
      "3  1237664089146064917  1.415271e+18   1257  52944       53   \n",
      "4  1237664089146064948  1.415269e+18   1257  52944       47   \n",
      "5  1237664089146065069  1.415257e+18   1257  52944        1   \n",
      "6  1237664089682149405  1.415322e+18   1257  52944      240   \n",
      "7  1237664089682149414  1.415318e+18   1257  52944      223   \n",
      "8  1237664089682149435  1.415319e+18   1257  52944      228   \n",
      "9  1237664089682346088  1.415308e+18   1257  52944      190   \n",
      "\n",
      "                                                 url  \n",
      "0  https://data.sdss.org/sas/dr14/sdss/spectro/re...  \n",
      "1  https://data.sdss.org/sas/dr14/sdss/spectro/re...  \n",
      "2  https://data.sdss.org/sas/dr14/sdss/spectro/re...  \n",
      "3  https://data.sdss.org/sas/dr14/sdss/spectro/re...  \n",
      "4  https://data.sdss.org/sas/dr14/sdss/spectro/re...  \n",
      "5  https://data.sdss.org/sas/dr14/sdss/spectro/re...  \n",
      "6  https://data.sdss.org/sas/dr14/sdss/spectro/re...  \n",
      "7  https://data.sdss.org/sas/dr14/sdss/spectro/re...  \n",
      "8  https://data.sdss.org/sas/dr14/sdss/spectro/re...  \n",
      "9  https://data.sdss.org/sas/dr14/sdss/spectro/re...  \n"
     ]
    }
   ],
   "source": [
    "print(len(drops))\n",
    "print(len(white_dwarf) - len(df))\n",
    "\n",
    "white_dwarf = white_dwarf.drop(drops)\n",
    "\n",
    "print(len(white_dwarf))\n",
    "\n",
    "white_dwarf['url'] = urls\n",
    "white_dwarf.reset_index(inplace=True, drop=True)\n",
    "print(white_dwarf[:10])"
   ]
  },
  {
   "cell_type": "markdown",
   "id": "bba75699-9db2-4fb6-9055-d82b32a88515",
   "metadata": {},
   "source": [
    "Finally, we save the data. `'data/white_dwarves.csv'` contains all the info needed to work with most of the white dwarves from Kepler. The actual number in this file is less than what's listed in Kepler. I think that's because some of the dwarves in question might not have spectra associated with it, but I'm not totally sure."
   ]
  },
  {
   "cell_type": "code",
   "execution_count": 9,
   "id": "bb270e41-e303-422d-b633-03dce68d527f",
   "metadata": {},
   "outputs": [],
   "source": [
    "white_dwarf.to_csv('data/white_dwarves.csv')"
   ]
  },
  {
   "cell_type": "markdown",
   "id": "e8668a2a-69a7-49b9-9feb-c087b078237e",
   "metadata": {},
   "source": [
    "## 02 - SDSS Metadata to Gaia Metadata\n",
    "\n",
    "Now we can start working with the Gaia data. To start, we read in the wide dwarves catalog from [El-Badry et. al, 2021](https://ui.adsabs.harvard.edu/abs/2021MNRAS.506.2269E/abstract). "
   ]
  },
  {
   "cell_type": "code",
   "execution_count": 10,
   "id": "ef20b876-8b74-444c-a828-c8afadd223e0",
   "metadata": {},
   "outputs": [],
   "source": [
    "hdul = fits.open('../external-dat/binaries/all_columns_catalog.fits')"
   ]
  },
  {
   "cell_type": "code",
   "execution_count": 11,
   "id": "b3ae3d37-e334-41d1-a252-51963c76f434",
   "metadata": {},
   "outputs": [
    {
     "data": {
      "text/plain": [
       "array([4282339095720590720, 4089437344115586432, 4282722790916299648, ...,\n",
       "       6056106923357411840, 6056106992113048960, 6056109088057213312],\n",
       "      dtype=int64)"
      ]
     },
     "execution_count": 11,
     "metadata": {},
     "output_type": "execute_result"
    }
   ],
   "source": [
    "hdul[1].data['source_id1']\n",
    "hdul[1].data['source_id2']"
   ]
  },
  {
   "cell_type": "code",
   "execution_count": 12,
   "id": "bb17e4e2-79a7-47d5-b99d-5aa2edb4f325",
   "metadata": {},
   "outputs": [
    {
     "name": "stdout",
     "output_type": "stream",
     "text": [
      "1237664087534797369\n"
     ]
    }
   ],
   "source": [
    "white_dwarf = pd.read_csv('data/white_dwarves.csv')\n",
    "bestobjid = tuple(white_dwarf['bestObjID'])\n",
    "print(bestobjid[1])"
   ]
  },
  {
   "cell_type": "markdown",
   "id": "5d8e911d-10f8-41a4-8309-63e2fb238976",
   "metadata": {},
   "source": [
    "Now we query Gaia to get the Gaia `source_id`'s associated with the `bestObjID`'s that we got from above and tack this onto the white dwarves dataframe in a new column."
   ]
  },
  {
   "cell_type": "code",
   "execution_count": 13,
   "id": "735fd035-d849-4b4d-9974-1985a54cc42b",
   "metadata": {},
   "outputs": [],
   "source": [
    "ADQL_CODE = \"SELECT \\\n",
    "    sdss.original_ext_source_id as bestobjid,\\\n",
    "    gaia_source.source_id\\\n",
    "    FROM gaiaedr3.gaia_source \\\n",
    "    JOIN gaiaedr3.sdssdr13_best_neighbour as sdss\\\n",
    "    ON gaia_source.source_id = sdss.source_id      \\\n",
    "    WHERE sdss.original_ext_source_id IN {}\\\n",
    "\".format(bestobjid)"
   ]
  },
  {
   "cell_type": "code",
   "execution_count": 14,
   "id": "8a49d35d-d567-449e-8124-307e81665f65",
   "metadata": {},
   "outputs": [
    {
     "name": "stdout",
     "output_type": "stream",
     "text": [
      "INFO: Query finished. [astroquery.utils.tap.core]\n",
      "     bestobjid           source_id     \n",
      "------------------- -------------------\n",
      "1237645943973609500     313189015283712\n",
      "1237645943973675103     298895364329216\n",
      "1237646586638631914 3219069845094872960\n",
      "1237646587712570275 3219421310859198080\n",
      "1237646792773403258 3113487561710626560\n",
      "1237646793309750322 3119769483955377408\n",
      "1237646793310209040 3125530924886250752\n",
      "1237646793310405381 3125541022348840448\n",
      "1237646793310537053 3113532126290835072\n",
      "1237646794374906022 3234158477521752704\n"
     ]
    }
   ],
   "source": [
    "job = Gaia.launch_job_async(ADQL_CODE,dump_to_file=False)\n",
    "conversion = job.get_results()\n",
    "\n",
    "print(conversion[:10])"
   ]
  },
  {
   "cell_type": "code",
   "execution_count": 15,
   "id": "99bf973b-c983-4647-a262-0902fb18684a",
   "metadata": {},
   "outputs": [
    {
     "name": "stdout",
     "output_type": "stream",
     "text": [
      "31590\n",
      "31273\n"
     ]
    }
   ],
   "source": [
    "white_dwarf_test = white_dwarf\n",
    "print(len(white_dwarf))\n",
    "print(len(conversion))"
   ]
  },
  {
   "cell_type": "code",
   "execution_count": 16,
   "id": "f79d8c66-4197-4091-8747-cc9a42fda487",
   "metadata": {},
   "outputs": [],
   "source": [
    "source_ids = []\n",
    "drops = []\n",
    "\n",
    "for i in range(len(white_dwarf_test)):\n",
    "    notfound = False\n",
    "    j = np.where(white_dwarf_test['bestObjID'][i] == conversion['bestobjid'])\n",
    "    \n",
    "    try:\n",
    "        k = j[0][0]\n",
    "    except:\n",
    "        notfound = True\n",
    "        \n",
    "    if not notfound: \n",
    "        try:\n",
    "            source_ids.append( conversion['source_id'][k] )\n",
    "        except:\n",
    "            notfound = True\n",
    "    if notfound:\n",
    "        drops.append(i)"
   ]
  },
  {
   "cell_type": "code",
   "execution_count": 17,
   "id": "0b7e0f33-e894-4e1a-acfa-22672d742cc5",
   "metadata": {},
   "outputs": [
    {
     "name": "stdout",
     "output_type": "stream",
     "text": [
      "   Unnamed: 0            bestObjID     specObjID  plate    mjd  fiberID  \\\n",
      "0           0  1237664087534732151  3.038948e+18   2699  54414      525   \n",
      "1           1  1237664087534797369  3.038930e+18   2699  54414      459   \n",
      "2           2  1237664087534928362  3.038958e+18   2699  54414      561   \n",
      "3           3  1237664089146064917  1.415271e+18   1257  52944       53   \n",
      "4           4  1237664089146064948  1.415269e+18   1257  52944       47   \n",
      "5           5  1237664089146065069  1.415257e+18   1257  52944        1   \n",
      "6           6  1237664089682149405  1.415322e+18   1257  52944      240   \n",
      "7           7  1237664089682149414  1.415318e+18   1257  52944      223   \n",
      "8           8  1237664089682149435  1.415319e+18   1257  52944      228   \n",
      "9           9  1237664089682346088  1.415308e+18   1257  52944      190   \n",
      "\n",
      "                                                 url            source_id  \n",
      "0  https://data.sdss.org/sas/dr14/sdss/spectro/re...  3413138973156922368  \n",
      "1  https://data.sdss.org/sas/dr14/sdss/spectro/re...  3413157974092347904  \n",
      "2  https://data.sdss.org/sas/dr14/sdss/spectro/re...  3413523974024651136  \n",
      "3  https://data.sdss.org/sas/dr14/sdss/spectro/re...   147186746823557504  \n",
      "4  https://data.sdss.org/sas/dr14/sdss/spectro/re...   147190010998698496  \n",
      "5  https://data.sdss.org/sas/dr14/sdss/spectro/re...   147137612397807744  \n",
      "6  https://data.sdss.org/sas/dr14/sdss/spectro/re...   147282984154715776  \n",
      "7  https://data.sdss.org/sas/dr14/sdss/spectro/re...   147282301255599872  \n",
      "8  https://data.sdss.org/sas/dr14/sdss/spectro/re...   147282610493243392  \n",
      "9  https://data.sdss.org/sas/dr14/sdss/spectro/re...   147265705502022528  \n"
     ]
    }
   ],
   "source": [
    "white_dwarf = white_dwarf.drop(drops)\n",
    "white_dwarf['source_id'] = source_ids\n",
    "white_dwarf.reset_index(inplace=True, drop=True)\n",
    "\n",
    "print(white_dwarf[:10])"
   ]
  },
  {
   "cell_type": "markdown",
   "id": "ebde50a4-ca9d-4fdd-b7e8-a201f4da0cb1",
   "metadata": {},
   "source": [
    "## 03 - Wide Binary Search\n",
    "\n",
    "Finally, we search along `source_id` and log which recorded object in the dataset is the white dwarf. *TODO: add more info on the main sequence object*"
   ]
  },
  {
   "cell_type": "code",
   "execution_count": 18,
   "id": "07ebbb9e-4534-49ba-ae51-5f962288ef9b",
   "metadata": {},
   "outputs": [
    {
     "name": "stderr",
     "output_type": "stream",
     "text": [
      "100%|████████████████████████████████████████████████████████████████████████████| 31230/31230 [50:27<00:00, 10.32it/s]\n"
     ]
    }
   ],
   "source": [
    "wide_binary = []\n",
    "not_wide_binary = []\n",
    "\n",
    "for i in tqdm(range(len(white_dwarf))):\n",
    "    if white_dwarf['source_id'][i] in hdul[1].data['source_id1']:\n",
    "        wide_binary.append( (i, 1) )\n",
    "    elif white_dwarf['source_id'][i] in hdul[1].data['source_id2']:\n",
    "        wide_binary.append( (i, 2) )\n",
    "    else:\n",
    "        not_wide_binary.append( i )"
   ]
  },
  {
   "cell_type": "code",
   "execution_count": 21,
   "id": "f35f930d-4377-400e-b21e-3498d6354430",
   "metadata": {},
   "outputs": [
    {
     "name": "stdout",
     "output_type": "stream",
     "text": [
      "   Unnamed: 0            bestObjID     specObjID  plate    mjd  fiberID  \\\n",
      "0          75  1237664091830812971  3.280978e+18   2914  54533      383   \n",
      "1         155  1237672005834114035  3.176330e+18   2821  54393      605   \n",
      "2         159  1237658608219062381  1.075246e+18    955  52409       41   \n",
      "3         207  1237662336250544181  1.575136e+18   1399  53172        6   \n",
      "4         294  1237661125071732829  1.782346e+18   1583  52941      167   \n",
      "5         299  1237661125074944335  1.784700e+18   1585  52962      542   \n",
      "6         356  1237661871325053068  1.621408e+18   1440  53084      408   \n",
      "7         395  1237662193452712021  1.632565e+18   1450  53120       38   \n",
      "8         451  1237661871347204180  1.562909e+18   1388  53119      583   \n",
      "9         511  1237665126927237227  2.372332e+18   2107  53786      221   \n",
      "\n",
      "                                                 url            source_id  \\\n",
      "0  https://data.sdss.org/sas/dr14/sdss/spectro/re...   697212800055168896   \n",
      "1  https://data.sdss.org/sas/dr14/sdss/spectro/re...  2052736600737294336   \n",
      "2  https://data.sdss.org/sas/dr14/sdss/spectro/re...  1581112431006331136   \n",
      "3  https://data.sdss.org/sas/dr14/sdss/spectro/re...  1388262828842232960   \n",
      "4  https://data.sdss.org/sas/dr14/sdss/spectro/re...   673438365068121600   \n",
      "5  https://data.sdss.org/sas/dr14/sdss/spectro/re...   679160601536162816   \n",
      "6  https://data.sdss.org/sas/dr14/sdss/spectro/re...   783773326123820928   \n",
      "7  https://data.sdss.org/sas/dr14/sdss/spectro/re...  1536455899387245312   \n",
      "8  https://data.sdss.org/sas/dr14/sdss/spectro/re...  1274417200175476608   \n",
      "9  https://data.sdss.org/sas/dr14/sdss/spectro/re...   757911884925087104   \n",
      "\n",
      "   object_num  \n",
      "0           2  \n",
      "1           2  \n",
      "2           2  \n",
      "3           1  \n",
      "4           2  \n",
      "5           2  \n",
      "6           1  \n",
      "7           2  \n",
      "8           2  \n",
      "9           1  \n"
     ]
    }
   ],
   "source": [
    "wide_binaries = white_dwarf.drop(not_wide_binary)\n",
    "wide_binaries['object_num'] = np.array(wide_binary).T[1]\n",
    "wide_binaries.reset_index(inplace=True, drop=True)\n",
    "\n",
    "twide_binaries1 = wide_binaries\n",
    "\n",
    "print(wide_binaries[:10])"
   ]
  },
  {
   "cell_type": "code",
   "execution_count": 23,
   "id": "dd111c56-0d89-40c6-921a-60c1b5dc3bf4",
   "metadata": {},
   "outputs": [
    {
     "name": "stderr",
     "output_type": "stream",
     "text": [
      "100%|████████████████████████████████████████████████████████████████████████████████| 851/851 [00:34<00:00, 24.96it/s]\n"
     ]
    }
   ],
   "source": [
    "wide_binaries = twide_binaries1\n",
    "ms_source = []\n",
    "\n",
    "for i in tqdm (range(len(wide_binaries))):\n",
    "    if wide_binaries['object_num'][i] == 1:\n",
    "        j = np.where(hdul[1].data['source_id1'] == wide_binaries['source_id'][i])[0][0]\n",
    "        ms_source.append(hdul[1].data['source_id2'][j])\n",
    "    else:\n",
    "        j = np.where(hdul[1].data['source_id2'] == wide_binaries['source_id'][i])[0][0]\n",
    "        ms_source.append(hdul[1].data['source_id1'][j])\n",
    "        \n",
    "#wide_binaries = twide_binaries2"
   ]
  },
  {
   "cell_type": "code",
   "execution_count": 26,
   "id": "fb0abc83-0bd4-498f-ac24-43bdf4836e50",
   "metadata": {},
   "outputs": [
    {
     "name": "stdout",
     "output_type": "stream",
     "text": [
      "   Unnamed: 0            bestObjID     specObjID  plate    mjd  fiberID  \\\n",
      "0          75  1237664091830812971  3.280978e+18   2914  54533      383   \n",
      "1         155  1237672005834114035  3.176330e+18   2821  54393      605   \n",
      "2         159  1237658608219062381  1.075246e+18    955  52409       41   \n",
      "3         207  1237662336250544181  1.575136e+18   1399  53172        6   \n",
      "4         294  1237661125071732829  1.782346e+18   1583  52941      167   \n",
      "5         299  1237661125074944335  1.784700e+18   1585  52962      542   \n",
      "6         356  1237661871325053068  1.621408e+18   1440  53084      408   \n",
      "7         395  1237662193452712021  1.632565e+18   1450  53120       38   \n",
      "8         451  1237661871347204180  1.562909e+18   1388  53119      583   \n",
      "9         511  1237665126927237227  2.372332e+18   2107  53786      221   \n",
      "\n",
      "                                                 url            source_id  \\\n",
      "0  https://data.sdss.org/sas/dr14/sdss/spectro/re...   697212800055168896   \n",
      "1  https://data.sdss.org/sas/dr14/sdss/spectro/re...  2052736600737294336   \n",
      "2  https://data.sdss.org/sas/dr14/sdss/spectro/re...  1581112431006331136   \n",
      "3  https://data.sdss.org/sas/dr14/sdss/spectro/re...  1388262828842232960   \n",
      "4  https://data.sdss.org/sas/dr14/sdss/spectro/re...   673438365068121600   \n",
      "5  https://data.sdss.org/sas/dr14/sdss/spectro/re...   679160601536162816   \n",
      "6  https://data.sdss.org/sas/dr14/sdss/spectro/re...   783773326123820928   \n",
      "7  https://data.sdss.org/sas/dr14/sdss/spectro/re...  1536455899387245312   \n",
      "8  https://data.sdss.org/sas/dr14/sdss/spectro/re...  1274417200175476608   \n",
      "9  https://data.sdss.org/sas/dr14/sdss/spectro/re...   757911884925087104   \n",
      "\n",
      "   object_num       mainseq_source      mainseq_sourc0e  \n",
      "0           2   697212795758224768   697212795758224768  \n",
      "1           2  2052736600733320448  2052736600733320448  \n",
      "2           2  1581112499725407232  1581112499725407232  \n",
      "3           1  1388262867497946368  1388262867497946368  \n",
      "4           2   673438369365994496   673438369365994496  \n",
      "5           2   679350202869273728   679350202869273728  \n",
      "6           1   783770852222652800   783770852222652800  \n",
      "7           2  1536458068346064512  1536458068346064512  \n",
      "8           2  1274417234535214464  1274417234535214464  \n",
      "9           1   757911988004305280   757911988004305280  \n"
     ]
    }
   ],
   "source": [
    "wide_binaries['mainseq_sourc0e'] = ms_source\n",
    "\n",
    "print(wide_binaries[:10])"
   ]
  },
  {
   "cell_type": "code",
   "execution_count": 27,
   "id": "741b4acf-49d8-481e-83d8-80ecd4679300",
   "metadata": {},
   "outputs": [],
   "source": [
    "ADQL_CODE = \"SELECT \\\n",
    "    sdss.original_ext_source_id as bestobjid,\\\n",
    "    gaia_source.source_id\\\n",
    "    FROM gaiaedr3.gaia_source \\\n",
    "    JOIN gaiaedr3.sdssdr13_best_neighbour as sdss\\\n",
    "    ON gaia_source.source_id = sdss.source_id      \\\n",
    "    WHERE gaia_source.source_id IN {}\\\n",
    "\".format(tuple(ms_source))"
   ]
  },
  {
   "cell_type": "code",
   "execution_count": 28,
   "id": "54a31a8c-00f8-49fd-b2ea-6c9b9c66c57f",
   "metadata": {},
   "outputs": [
    {
     "name": "stdout",
     "output_type": "stream",
     "text": [
      "INFO: Query finished. [astroquery.utils.tap.core]\n",
      "851\n",
      "     bestobjid           source_id     \n",
      "------------------- -------------------\n",
      "1237670016735838345    7030178564427008\n",
      "1237653652920991870   78023239188201216\n",
      "1237679460828905657   95187985791901440\n",
      "1237666276352983081  104000541424155520\n",
      "1237670458578370766  127904645766742912\n",
      "1237670960554246879  136780586525373184\n",
      "1237670962167152981  143563473757148672\n",
      "1237660761073779312  148308244388792576\n",
      "1237661120240615745  235840678609579904\n",
      "1237680070713409692  290411536638937472\n",
      "                ...                 ...\n",
      "1237661388159582340 4574942916808430336\n",
      "1237649961381658756 5168317765719259648\n",
      "1237652901307220080 5169712118261363968\n",
      "1237649964066078921 5169997858141425920\n",
      "1237679438279802966 5177858850883734144\n",
      "1237652934033801258 6898489884295412352\n",
      "1237652935644611057 6898870693275487232\n",
      "1237666183476543554 6899127089938464512\n",
      "1237652933493785651 6907030890620245632\n",
      "1237652935103283225 6908406487039810432\n",
      "1237652935107019325 6910806102448648576\n",
      "Length = 832 rows\n"
     ]
    }
   ],
   "source": [
    "job = Gaia.launch_job_async(ADQL_CODE,dump_to_file=False)\n",
    "d = job.get_results()\n",
    "\n",
    "print(len(wide_binaries))\n",
    "print(d)"
   ]
  },
  {
   "cell_type": "code",
   "execution_count": 29,
   "id": "02555d44-9574-4d4b-b3c2-9c770481f6ce",
   "metadata": {},
   "outputs": [
    {
     "name": "stderr",
     "output_type": "stream",
     "text": [
      "100%|██████████████████████████████████████████████████████████████████████████████| 851/851 [00:00<00:00, 4865.91it/s]\n"
     ]
    }
   ],
   "source": [
    "ms_bestobjid = []\n",
    "drops = []\n",
    "\n",
    "for i in tqdm (range(len(wide_binaries))):\n",
    "    notfound = False\n",
    "    j = np.where(d['source_id'] == wide_binaries['mainseq_source'][i])\n",
    "    \n",
    "    try:\n",
    "        k = j[0][0]\n",
    "    except:\n",
    "        notfound = True\n",
    "        \n",
    "    if not notfound: \n",
    "        try:\n",
    "            ms_bestobjid.append(d['bestobjid'][j][0])\n",
    "        except:\n",
    "            notfound = True\n",
    "    if notfound:\n",
    "        drops.append(i)    "
   ]
  },
  {
   "cell_type": "code",
   "execution_count": 30,
   "id": "fce6e532-9921-43c3-b3cd-ab7bf6aafc32",
   "metadata": {},
   "outputs": [
    {
     "name": "stdout",
     "output_type": "stream",
     "text": [
      "   Unnamed: 0            bestObjID     specObjID  plate    mjd  fiberID  \\\n",
      "0          75  1237664091830812971  3.280978e+18   2914  54533      383   \n",
      "1         155  1237672005834114035  3.176330e+18   2821  54393      605   \n",
      "2         159  1237658608219062381  1.075246e+18    955  52409       41   \n",
      "3         207  1237662336250544181  1.575136e+18   1399  53172        6   \n",
      "4         294  1237661125071732829  1.782346e+18   1583  52941      167   \n",
      "5         299  1237661125074944335  1.784700e+18   1585  52962      542   \n",
      "6         356  1237661871325053068  1.621408e+18   1440  53084      408   \n",
      "7         395  1237662193452712021  1.632565e+18   1450  53120       38   \n",
      "8         451  1237661871347204180  1.562909e+18   1388  53119      583   \n",
      "9         511  1237665126927237227  2.372332e+18   2107  53786      221   \n",
      "\n",
      "                                                 url            source_id  \\\n",
      "0  https://data.sdss.org/sas/dr14/sdss/spectro/re...   697212800055168896   \n",
      "1  https://data.sdss.org/sas/dr14/sdss/spectro/re...  2052736600737294336   \n",
      "2  https://data.sdss.org/sas/dr14/sdss/spectro/re...  1581112431006331136   \n",
      "3  https://data.sdss.org/sas/dr14/sdss/spectro/re...  1388262828842232960   \n",
      "4  https://data.sdss.org/sas/dr14/sdss/spectro/re...   673438365068121600   \n",
      "5  https://data.sdss.org/sas/dr14/sdss/spectro/re...   679160601536162816   \n",
      "6  https://data.sdss.org/sas/dr14/sdss/spectro/re...   783773326123820928   \n",
      "7  https://data.sdss.org/sas/dr14/sdss/spectro/re...  1536455899387245312   \n",
      "8  https://data.sdss.org/sas/dr14/sdss/spectro/re...  1274417200175476608   \n",
      "9  https://data.sdss.org/sas/dr14/sdss/spectro/re...   757911884925087104   \n",
      "\n",
      "   object_num       mainseq_source      mainseq_sourc0e    mainseq_bestobjid  \n",
      "0           2   697212795758224768   697212795758224768  1237664091830812970  \n",
      "1           2  2052736600733320448  2052736600733320448  1237672005834114033  \n",
      "2           2  1581112499725407232  1581112499725407232  1237658608219062466  \n",
      "3           1  1388262867497946368  1388262867497946368  1237662336250544345  \n",
      "4           2   673438369365994496   673438369365994496  1237661125071733004  \n",
      "5           2   679350202869273728   679350202869273728  1237661086956847143  \n",
      "6           1   783770852222652800   783770852222652800  1237661871325118630  \n",
      "7           2  1536458068346064512  1536458068346064512  1237662193452777609  \n",
      "8           2  1274417234535214464  1274417234535214464  1237661871347204179  \n",
      "9           1   757911988004305280   757911988004305280  1237665126927237234  \n"
     ]
    }
   ],
   "source": [
    "wide_binaries = wide_binaries.drop(drops)\n",
    "wide_binaries['mainseq_bestobjid'] = ms_bestobjid\n",
    "wide_binaries.reset_index(inplace=True, drop=True)\n",
    "twide_binaries2 = wide_binaries\n",
    "\n",
    "print(wide_binaries[:10])"
   ]
  },
  {
   "cell_type": "code",
   "execution_count": 32,
   "id": "8c35cd80-cf81-42fb-8c84-fa0d6282d2f7",
   "metadata": {},
   "outputs": [
    {
     "name": "stdout",
     "output_type": "stream",
     "text": [
      "1237648702985666869\n",
      "1237680529738105575\n"
     ]
    }
   ],
   "source": [
    "print(min(wide_binaries['mainseq_bestobjid']))\n",
    "print(max(wide_binaries['mainseq_bestobjid']))"
   ]
  },
  {
   "cell_type": "code",
   "execution_count": 33,
   "id": "49bc7e63-7321-4465-8286-7d07356060e6",
   "metadata": {},
   "outputs": [],
   "source": [
    "SDSS_CODE1 = \"\"\"select bestObjID, specObjID, plate, fiberID, mjd \n",
    "    from dbo.SpecObjAll\n",
    "    where bestObjID > 1237648702985666868\n",
    "    and bestObjID < 1237660529738105365\n",
    "    and class = 'STAR'\"\"\"\n",
    "SDSS_CODE2 = \"\"\"select bestObjID, specObjID, plate, fiberID, mjd \n",
    "    from dbo.SpecObjAll\n",
    "    where bestObjID > 1237660529738105365\n",
    "    and bestObjID < 1237670529738105366\n",
    "    and class = 'STAR'\"\"\"\n",
    "SDSS_CODE3 = \"\"\"select bestObjID, specObjID, plate, fiberID, mjd \n",
    "    from dbo.SpecObjAll\n",
    "    where bestObjID > 1237670529738105366\n",
    "    and bestObjID < 1237680529738105576\n",
    "    and class = 'STAR'\"\"\""
   ]
  },
  {
   "cell_type": "code",
   "execution_count": 34,
   "id": "09f22fe8-fe12-46a0-b619-b595491bb75d",
   "metadata": {},
   "outputs": [],
   "source": [
    "import sdss\n",
    "\n",
    "convert1= SDSS.query_sql(SDSS_CODE1)\n",
    "convert2= SDSS.query_sql(SDSS_CODE2)\n",
    "convert3= SDSS.query_sql(SDSS_CODE3)"
   ]
  },
  {
   "cell_type": "code",
   "execution_count": 35,
   "id": "f96ed2d2-3d99-4cd9-bb17-59bdcedcaf15",
   "metadata": {},
   "outputs": [
    {
     "name": "stdout",
     "output_type": "stream",
     "text": [
      "314976\n",
      "480510\n",
      "197704\n"
     ]
    }
   ],
   "source": [
    "print(len(convert1))\n",
    "print(len(convert2))\n",
    "print(len(convert3))"
   ]
  },
  {
   "cell_type": "code",
   "execution_count": 36,
   "id": "7ea85d04-f10c-4d4b-bbd4-53c427bf46dd",
   "metadata": {},
   "outputs": [
    {
     "name": "stdout",
     "output_type": "stream",
     "text": [
      "     bestObjID            specObjID        plate fiberID  mjd \n",
      "------------------- ---------------------- ----- ------- -----\n",
      "1237648702985732625  4.522953870205231e+18  4017     778 55329\n",
      "1237648702985798284  4.522960467274998e+18  4017     802 55329\n",
      "1237648702985863176  3.501933818691195e+17   311     140 51665\n",
      "1237648702985928999 3.5018183699702784e+17   311      98 51665\n",
      "1237648702986059806 1.0393068094179512e+18   923     368 52404\n",
      "1237648702986060928  4.519463475592798e+18  4014     368 55630\n",
      "1237648702986125333 4.5194527553544274e+18  4014     329 55630\n",
      "1237648702986125397 1.0393183542900429e+18   923     410 52404\n",
      "1237648702986125619  4.523004447740109e+18  4017     962 55329\n",
      "1237648702986256396  3.513629877658194e+17   312     299 51689\n",
      "                ...                    ...   ...     ...   ...\n",
      "1237680529737909863  7.089900394482999e+18  6297     395 56218\n",
      "1237680529737909895  7.089889674244628e+18  6297     356 56218\n",
      "1237680529737910406  8.617811457910743e+18  7654     631 57330\n",
      "1237680529737974064  7.089889124488815e+18  6297     354 56218\n",
      "1237680529737975099  7.089890773756256e+18  6297     360 56218\n",
      "1237680529738039992  7.089879228884165e+18  6297     318 56218\n",
      "1237680529738040026  7.089994402727174e+18  6297     737 56218\n",
      "1237680529738040160  7.089868783523701e+18  6297     280 56218\n",
      "1237680529738041125  7.089868508645794e+18  6297     279 56218\n",
      "1237680529738105127  8.617842244236321e+18  7654     743 57330\n",
      "1237680529738105365  7.089993578093453e+18  6297     734 56218\n",
      "Length = 993190 rows\n"
     ]
    }
   ],
   "source": [
    "twide_convert = vstack([convert1, convert2, convert3])\n",
    "wide_convert = twide_convert\n",
    "print(wide_convert)"
   ]
  },
  {
   "cell_type": "code",
   "execution_count": 50,
   "id": "d19ccc90-07e4-443c-9b55-6c9a004fbdba",
   "metadata": {},
   "outputs": [
    {
     "name": "stdout",
     "output_type": "stream",
     "text": [
      "   Unnamed: 0            bestObjID     specObjID  plate    mjd  fiberID  \\\n",
      "0          75  1237664091830812971  3.280978e+18   2914  54533      383   \n",
      "1         155  1237672005834114035  3.176330e+18   2821  54393      605   \n",
      "2         159  1237658608219062381  1.075246e+18    955  52409       41   \n",
      "3         207  1237662336250544181  1.575136e+18   1399  53172        6   \n",
      "4         294  1237661125071732829  1.782346e+18   1583  52941      167   \n",
      "5         299  1237661125074944335  1.784700e+18   1585  52962      542   \n",
      "6         356  1237661871325053068  1.621408e+18   1440  53084      408   \n",
      "7         395  1237662193452712021  1.632565e+18   1450  53120       38   \n",
      "8         451  1237661871347204180  1.562909e+18   1388  53119      583   \n",
      "9         511  1237665126927237227  2.372332e+18   2107  53786      221   \n",
      "\n",
      "                                                 url            source_id  \\\n",
      "0  https://data.sdss.org/sas/dr14/sdss/spectro/re...   697212800055168896   \n",
      "1  https://data.sdss.org/sas/dr14/sdss/spectro/re...  2052736600737294336   \n",
      "2  https://data.sdss.org/sas/dr14/sdss/spectro/re...  1581112431006331136   \n",
      "3  https://data.sdss.org/sas/dr14/sdss/spectro/re...  1388262828842232960   \n",
      "4  https://data.sdss.org/sas/dr14/sdss/spectro/re...   673438365068121600   \n",
      "5  https://data.sdss.org/sas/dr14/sdss/spectro/re...   679160601536162816   \n",
      "6  https://data.sdss.org/sas/dr14/sdss/spectro/re...   783773326123820928   \n",
      "7  https://data.sdss.org/sas/dr14/sdss/spectro/re...  1536455899387245312   \n",
      "8  https://data.sdss.org/sas/dr14/sdss/spectro/re...  1274417200175476608   \n",
      "9  https://data.sdss.org/sas/dr14/sdss/spectro/re...   757911884925087104   \n",
      "\n",
      "   object_num       mainseq_source      mainseq_sourc0e    mainseq_bestobjid  \n",
      "0           2   697212795758224768   697212795758224768  1237664091830812970  \n",
      "1           2  2052736600733320448  2052736600733320448  1237672005834114033  \n",
      "2           2  1581112499725407232  1581112499725407232  1237658608219062466  \n",
      "3           1  1388262867497946368  1388262867497946368  1237662336250544345  \n",
      "4           2   673438369365994496   673438369365994496  1237661125071733004  \n",
      "5           2   679350202869273728   679350202869273728  1237661086956847143  \n",
      "6           1   783770852222652800   783770852222652800  1237661871325118630  \n",
      "7           2  1536458068346064512  1536458068346064512  1237662193452777609  \n",
      "8           2  1274417234535214464  1274417234535214464  1237661871347204179  \n",
      "9           1   757911988004305280   757911988004305280  1237665126927237234  \n"
     ]
    }
   ],
   "source": [
    "#\n",
    "#  Reset from here\n",
    "#\n",
    "\n",
    "wide_binaries = twide_binaries2\n",
    "print(wide_binaries[:10])"
   ]
  },
  {
   "cell_type": "code",
   "execution_count": 51,
   "id": "367861da-6816-4bf0-8e8d-dbea5924668b",
   "metadata": {},
   "outputs": [
    {
     "name": "stderr",
     "output_type": "stream",
     "text": [
      "100%|███████████████████████████████████████████████████████████████████████████████| 832/832 [00:02<00:00, 328.03it/s]\n",
      "  0%|                                                                                           | 0/49 [00:00<?, ?it/s]C:\\Users\\arsen\\anaconda3\\lib\\site-packages\\astroquery\\sdss\\core.py:874: VisibleDeprecationWarning: Reading unicode strings without specifying the encoding argument is deprecated. Set the encoding, use None for the system default.\n",
      "  arr = np.atleast_1d(np.genfromtxt(io.BytesIO(response.content),\n",
      "100%|█████████████████████████████████████████████████████████████████████████████████| 49/49 [00:00<00:00, 257.88it/s]\n"
     ]
    }
   ],
   "source": [
    "def search(bestObjID):\n",
    "    sourceobjid = []\n",
    "    plate = []\n",
    "    mjd = []\n",
    "    fiberid = []\n",
    "    \n",
    "    url = []\n",
    "    \n",
    "    drops = []\n",
    "    \n",
    "    for i in tqdm(range(len(bestObjID))):\n",
    "        notfound = False\n",
    "        j = np.where(( bestObjID[i] == wide_convert['bestObjID'] ))\n",
    "        \n",
    "        try:\n",
    "            k = j[0][0]\n",
    "        except:\n",
    "            notfound = True\n",
    "            \n",
    "        if not notfound: \n",
    "            try:\n",
    "                sourceobjid.append(wide_convert['specObjID'][k])\n",
    "                plate.append(wide_convert['plate'][k])\n",
    "                mjd.append(wide_convert['mjd'][k])\n",
    "                fiberid.append(wide_convert['fiberID'][k])\n",
    "            except:\n",
    "                notfound = True\n",
    "        if notfound:\n",
    "            drops.append(i)  \n",
    "            \n",
    "    for i in tqdm(range(len(sourceobjid))):\n",
    "        xid = SDSS.get_spectra_async(plate=plate[i], fiberID=fiberid[i], mjd=mjd[i])\n",
    "        url.append(str(xid[0]).split(' ')[4])\n",
    "    \n",
    "    \n",
    "    return drops, sourceobjid, plate, mjd, fiberid, url\n",
    "\n",
    "drops, sourceobjid, plate, mjd, fiberID, url = search( wide_binaries['mainseq_bestobjid'] )"
   ]
  },
  {
   "cell_type": "code",
   "execution_count": 52,
   "id": "4bdba64d-fbf1-4320-a410-052ed1637c41",
   "metadata": {},
   "outputs": [
    {
     "name": "stdout",
     "output_type": "stream",
     "text": [
      "49\n",
      "49\n",
      "   Unnamed: 0            bestObjID     specObjID  plate    mjd  fiberID  \\\n",
      "0         511  1237665126927237227  2.372332e+18   2107  53786      221   \n",
      "1         512  1237665126927237234  2.372323e+18   2107  53786      189   \n",
      "2        4341  1237658800959520914  1.139488e+18   1012  52649      282   \n",
      "3        4860  1237663783656882228  4.312502e+17    383  51818      111   \n",
      "4        5210  1237661949719937087  1.819464e+18   1616  53169       36   \n",
      "5        7811  1237668331488739458  3.091785e+18   2746  54232      231   \n",
      "6        8297  1237657611260133456  3.575915e+18   3176  54832      206   \n",
      "7        8751  1237658918533070860  1.169982e+18   1039  52707      624   \n",
      "8        8752  1237658918533070872  1.171035e+18   1040  52722      361   \n",
      "9        9402  1237664836462575849  2.169737e+18   1927  53321      464   \n",
      "\n",
      "                                                 url            source_id  \\\n",
      "0  https://data.sdss.org/sas/dr14/sdss/spectro/re...   757911884925087104   \n",
      "1  https://data.sdss.org/sas/dr14/sdss/spectro/re...   757911988004305280   \n",
      "2  https://data.sdss.org/sas/dr14/sdss/spectro/re...   842498482680906496   \n",
      "3  https://data.sdss.org/sas/dr14/sdss/spectro/re...  2644149993913188352   \n",
      "4  https://data.sdss.org/sas/dr14/sdss/spectro/re...  3928724512568932992   \n",
      "5  https://data.sdss.org/sas/dr14/sdss/spectro/re...  1228760220348642304   \n",
      "6  https://data.sdss.org/sas/dr14/sdss/spectro/re...   848877784721878784   \n",
      "7  https://data.sdss.org/sas/dr14/sdss/spectro/re...  1564527878649314944   \n",
      "8  https://data.sdss.org/sas/dr14/sdss/spectro/re...  1564527844289256448   \n",
      "9  https://data.sdss.org/sas/dr14/sdss/spectro/re...   676167215489980800   \n",
      "\n",
      "   object_num       mainseq_source      mainseq_sourc0e    mainseq_bestobjid  \\\n",
      "0           1   757911988004305280   757911988004305280  1237665126927237234   \n",
      "1           2   757911884925087104   757911884925087104  1237665126927237227   \n",
      "2           1   842504358196167680   842504358196167680  1237658800959520916   \n",
      "3           1  2644149993913188224  2644149993913188224  1237663783656882229   \n",
      "4           2  3928724924885805568  3928724924885805568  1237661817096175776   \n",
      "5           1  1228760220349062400  1228760220349062400  1237668331488739458   \n",
      "6           1   848877784721009024   848877784721009024  1237657611260133456   \n",
      "7           2  1564527844289256448  1564527844289256448  1237658918533070872   \n",
      "8           1  1564527878649314944  1564527878649314944  1237658918533070860   \n",
      "9           2   676167219784728576   676167219784728576  1237664836462575848   \n",
      "\n",
      "   mainseq_sourceobjid  mainseq_plate  mainseq_mjd  mainseq_fiberID  \\\n",
      "0         2.372323e+18           2107        53786              189   \n",
      "1         2.372332e+18           2107        53786              221   \n",
      "2         1.138290e+18           1011        52652               20   \n",
      "3         7.656296e+17            680        52200               64   \n",
      "4         1.907372e+18           1694        53472              356   \n",
      "5         3.091785e+18           2746        54232              231   \n",
      "6         1.017986e+18            904        52381              629   \n",
      "7         1.171035e+18           1040        52722              361   \n",
      "8         1.169982e+18           1039        52707              624   \n",
      "9         2.168495e+18           1926        53317               41   \n",
      "\n",
      "                                         mainseq_url  \n",
      "0  https://data.sdss.org/sas/dr14/sdss/spectro/re...  \n",
      "1  https://data.sdss.org/sas/dr14/sdss/spectro/re...  \n",
      "2  https://data.sdss.org/sas/dr14/sdss/spectro/re...  \n",
      "3  https://data.sdss.org/sas/dr14/sdss/spectro/re...  \n",
      "4  https://data.sdss.org/sas/dr14/sdss/spectro/re...  \n",
      "5  https://data.sdss.org/sas/dr14/sdss/spectro/re...  \n",
      "6  https://data.sdss.org/sas/dr14/sdss/spectro/re...  \n",
      "7  https://data.sdss.org/sas/dr14/sdss/spectro/re...  \n",
      "8  https://data.sdss.org/sas/dr14/sdss/spectro/re...  \n",
      "9  https://data.sdss.org/sas/dr14/sdss/spectro/re...  \n"
     ]
    }
   ],
   "source": [
    "print(len(url))\n",
    "\n",
    "wide_binaries = wide_binaries.drop(drops)\n",
    "\n",
    "print(len(wide_binaries))\n",
    "\n",
    "wide_binaries['mainseq_sourceobjid'] = sourceobjid\n",
    "wide_binaries['mainseq_plate'] = plate\n",
    "wide_binaries['mainseq_mjd'] = mjd\n",
    "wide_binaries['mainseq_fiberID'] = fiberID\n",
    "wide_binaries['mainseq_url'] = url\n",
    "\n",
    "wide_binaries.reset_index(inplace=True, drop=True)\n",
    "print(wide_binaries[:10])"
   ]
  },
  {
   "cell_type": "code",
   "execution_count": 53,
   "id": "9670f2a9-0a92-4611-8277-f814106ce875",
   "metadata": {},
   "outputs": [],
   "source": [
    "#wide_binaries = pd.read_csv('data/wide_binaries.csv')"
   ]
  },
  {
   "cell_type": "code",
   "execution_count": 54,
   "id": "8cef9de6-6b0a-40a3-96a5-47ec70e76d6e",
   "metadata": {},
   "outputs": [
    {
     "name": "stderr",
     "output_type": "stream",
     "text": [
      "  0%|                                                                                           | 0/49 [00:00<?, ?it/s]C:\\Users\\arsen\\anaconda3\\lib\\site-packages\\astroquery\\sdss\\core.py:874: VisibleDeprecationWarning: Reading unicode strings without specifying the encoding argument is deprecated. Set the encoding, use None for the system default.\n",
      "  arr = np.atleast_1d(np.genfromtxt(io.BytesIO(response.content),\n",
      "100%|█████████████████████████████████████████████████████████████████████████████████| 49/49 [00:00<00:00, 533.76it/s]"
     ]
    },
    {
     "name": "stdout",
     "output_type": "stream",
     "text": [
      "49\n",
      "49\n"
     ]
    },
    {
     "name": "stderr",
     "output_type": "stream",
     "text": [
      "\n"
     ]
    }
   ],
   "source": [
    "xids = []\n",
    "drop = []\n",
    "\n",
    "for i in tqdm (range(len(wide_binaries))):\n",
    "    try:\n",
    "        xid = SDSS.get_spectra_async(plate=wide_binaries['mainseq_plate'][i], fiberID=wide_binaries['mainseq_fiberID'][i], mjd=wide_binaries['mainseq_mjd'][i])\n",
    "        xids.append(str(xid).split(' ')[4])\n",
    "    except:\n",
    "        drop.append(i)\n",
    "    \n",
    "print(len(wide_binaries))\n",
    "print(len(xids))"
   ]
  },
  {
   "cell_type": "code",
   "execution_count": 55,
   "id": "9af04777-5b9a-4310-a641-e77281f11f25",
   "metadata": {},
   "outputs": [],
   "source": [
    "wide_binaries['mainseq_url'] = xids"
   ]
  },
  {
   "cell_type": "code",
   "execution_count": 56,
   "id": "ccf42a49-a449-4eb1-994a-cf57e2d27343",
   "metadata": {},
   "outputs": [
    {
     "name": "stderr",
     "output_type": "stream",
     "text": [
      "100%|████████████████████████████████████████████████████████████████████████████████| 49/49 [00:00<00:00, 2764.68it/s]\n"
     ]
    }
   ],
   "source": [
    "drops = []\n",
    "\n",
    "for i in tqdm(range(len(wide_binaries))):\n",
    "    found = True\n",
    "    j = np.where(wide_binaries['specObjID'][i] == wide_binaries['mainseq_sourceobjid'])\n",
    "    \n",
    "    try:\n",
    "        k = j[0][0]\n",
    "    except:\n",
    "        notfound = False\n",
    "        \n",
    "    if found:\n",
    "        drops.append(k)\n",
    "    "
   ]
  },
  {
   "cell_type": "code",
   "execution_count": null,
   "id": "c4b1fe51-0f82-4beb-b4aa-2ef31ab4d32c",
   "metadata": {},
   "outputs": [],
   "source": []
  },
  {
   "cell_type": "code",
   "execution_count": 57,
   "id": "2ddbd5f4-1bba-4f3b-a696-a4535ff2c6e3",
   "metadata": {},
   "outputs": [],
   "source": [
    "wide_binaries = wide_binaries.drop(drops)\n",
    "wide_binaries.reset_index(inplace=True, drop=True)\n"
   ]
  },
  {
   "cell_type": "code",
   "execution_count": 58,
   "id": "70919785-3c79-4821-965b-551187f80b89",
   "metadata": {},
   "outputs": [
    {
     "name": "stdout",
     "output_type": "stream",
     "text": [
      "    Unnamed: 0            bestObjID     specObjID  plate    mjd  fiberID  \\\n",
      "0          511  1237665126927237227  2.372332e+18   2107  53786      221   \n",
      "1         4341  1237658800959520914  1.139488e+18   1012  52649      282   \n",
      "2         4860  1237663783656882228  4.312502e+17    383  51818      111   \n",
      "3         5210  1237661949719937087  1.819464e+18   1616  53169       36   \n",
      "4         8297  1237657611260133456  3.575915e+18   3176  54832      206   \n",
      "5         9402  1237664836462575849  2.169737e+18   1927  53321      464   \n",
      "6        10114  1237657191447330936  7.781569e+17    691  52199      582   \n",
      "7        11717  1237661967967125574  1.632721e+18   1450  53120      606   \n",
      "8        12793  1237661966353498127  1.626962e+18   1445  53062      133   \n",
      "9        13743  1237657609107341402  8.523090e+17    757  52238       10   \n",
      "10       15220  1237661852015198226  1.516734e+18   1347  52823      535   \n",
      "11       16522  1237665567684755609  2.420764e+18   2150  54510      288   \n",
      "12       17391  1237663543674864099  2.148381e+18   1908  53239      597   \n",
      "13       18426  1237667112799567878  6.523482e+18   5794  56282       66   \n",
      "14       19122  1237663233380057210  7.333239e+18   6513  56543      918   \n",
      "15       19123  1237663233380057211  8.631177e+18   7666  57339      101   \n",
      "16       19362  1237651754532798703  5.340324e+18   4743  55645      657   \n",
      "17       21124  1237658800959520916  7.542564e+18   6699  56411      582   \n",
      "18       22562  1237669702658097380  5.111643e+18   4540  55863      209   \n",
      "19       22871  1237665227839439023  5.195127e+18   4614  55604      816   \n",
      "20       22981  1237661068187336755  6.064341e+18   5386  56008      888   \n",
      "21       23073  1237671129131057196  6.069903e+18   5391  56000      642   \n",
      "22       23405  1237671125375516687  5.984249e+18   5315  55978      330   \n",
      "23       24007  1237654881271152796  5.476412e+18   4864  55680      128   \n",
      "24       24284  1237663458852798650  4.722238e+18   4194  55450      776   \n",
      "25       24796  1237660024522604607  4.776191e+18   4242  55476      448   \n",
      "26       25108  1237655107301539906  9.213241e+18   8183  57375        7   \n",
      "27       25347  1237651067892531387  7.685478e+18   6826  56449      310   \n",
      "28       25533  1237660614510313502  6.041824e+18   5366  55958      892   \n",
      "29       25688  1237657065256124561  4.923574e+18   4373  55811       48   \n",
      "30       26916  1237663787414454614  6.690190e+18   5942  56210      336   \n",
      "31       27384  1237662683606024262  4.338151e+18   3853  55268      212   \n",
      "32       27385  1237662683606024312  4.338151e+18   3853  55268      214   \n",
      "\n",
      "                                                  url            source_id  \\\n",
      "0   https://data.sdss.org/sas/dr14/sdss/spectro/re...   757911884925087104   \n",
      "1   https://data.sdss.org/sas/dr14/sdss/spectro/re...   842498482680906496   \n",
      "2   https://data.sdss.org/sas/dr14/sdss/spectro/re...  2644149993913188352   \n",
      "3   https://data.sdss.org/sas/dr14/sdss/spectro/re...  3928724512568932992   \n",
      "4   https://data.sdss.org/sas/dr14/sdss/spectro/re...   848877784721878784   \n",
      "5   https://data.sdss.org/sas/dr14/sdss/spectro/re...   676167215489980800   \n",
      "6   https://data.sdss.org/sas/dr14/sdss/spectro/re...  2537054602135189120   \n",
      "7   https://data.sdss.org/sas/dr14/sdss/spectro/re...  1538128771968706560   \n",
      "8   https://data.sdss.org/sas/dr14/sdss/spectro/re...   769201880773377920   \n",
      "9   https://data.sdss.org/sas/dr14/sdss/spectro/re...   906922545445227648   \n",
      "10  https://data.sdss.org/sas/dr14/sdss/spectro/re...  1498271406743008640   \n",
      "11  https://data.sdss.org/sas/dr14/sdss/spectro/re...  1261421999231535616   \n",
      "12  https://data.sdss.org/sas/dr14/sdss/spectro/re...  4228388602763827584   \n",
      "13  https://data.sdss.org/sas/dr14/sdss/spectro/re...   743097619303531904   \n",
      "14  https://data.sdss.org/sas/dr14/sdss/spectro/re...  2853079051689775232   \n",
      "15  https://data.sdss.org/sas/dr14/sdss/spectro/re...  2853079051690361088   \n",
      "16  https://data.sdss.org/sas/dr14/sdss/spectro/re...  3846979117283617152   \n",
      "17  https://data.sdss.org/sas/dr14/sdss/spectro/re...   842504358196167680   \n",
      "18  https://data.sdss.org/sas/dr14/sdss/spectro/re...  2749530521214502144   \n",
      "19  https://data.sdss.org/sas/dr14/sdss/spectro/re...  4030722594210006784   \n",
      "20  https://data.sdss.org/sas/dr14/sdss/spectro/re...  3920275276810355200   \n",
      "21  https://data.sdss.org/sas/dr14/sdss/spectro/re...  3906688955223470080   \n",
      "22  https://data.sdss.org/sas/dr14/sdss/spectro/re...   617887567299258752   \n",
      "23  https://data.sdss.org/sas/dr14/sdss/spectro/re...  3671977891669036416   \n",
      "24  https://data.sdss.org/sas/dr14/sdss/spectro/re...  2688215048406240640   \n",
      "25  https://data.sdss.org/sas/dr14/sdss/spectro/re...  2497494654805378816   \n",
      "26  https://data.sdss.org/sas/dr14/sdss/spectro/re...   858066162875941376   \n",
      "27  https://data.sdss.org/sas/dr14/sdss/spectro/re...  1678050873667756032   \n",
      "28  https://data.sdss.org/sas/dr14/sdss/spectro/re...  3915162208438907392   \n",
      "29  https://data.sdss.org/sas/dr14/sdss/spectro/re...  2531607037415360896   \n",
      "30  https://data.sdss.org/sas/dr14/sdss/spectro/re...   973376310967990272   \n",
      "31  https://data.sdss.org/sas/dr14/sdss/spectro/re...  1459032658542428416   \n",
      "32  https://data.sdss.org/sas/dr14/sdss/spectro/re...  1459033345737195008   \n",
      "\n",
      "    object_num       mainseq_source      mainseq_sourc0e    mainseq_bestobjid  \\\n",
      "0            1   757911988004305280   757911988004305280  1237665126927237234   \n",
      "1            1   842504358196167680   842504358196167680  1237658800959520916   \n",
      "2            1  2644149993913188224  2644149993913188224  1237663783656882229   \n",
      "3            2  3928724924885805568  3928724924885805568  1237661817096175776   \n",
      "4            1   848877784721009024   848877784721009024  1237657611260133456   \n",
      "5            2   676167219784728576   676167219784728576  1237664836462575848   \n",
      "6            2  2537056083899046784  2537056083899046784  1237657191447330942   \n",
      "7            1  1538128771968879616  1538128771968879616  1237661967967125575   \n",
      "8            2   769201876477782144   769201876477782144  1237661966353498127   \n",
      "9            1   906922549740583808   906922549740583808  1237657609107341403   \n",
      "10           2  1498271376679465600  1498271376679465600  1237661852015198225   \n",
      "11           1  1261422308468580480  1261422308468580480  1237665548356813088   \n",
      "12           1  4228388774562523264  4228388774562523264  1237663543674864270   \n",
      "13           1   743097619303531776   743097619303531776  1237667112799568095   \n",
      "14           1  2853079051690361088  2853079051690361088  1237663233380057211   \n",
      "15           2  2853079051689775232  2853079051689775232  1237663233380057210   \n",
      "16           1  3846983485264812672  3846983485264812672  1237651754532930221   \n",
      "17           2   842498482680906496   842498482680906496  1237658800959520914   \n",
      "18           1  2749533025179314816  2749533025179314816  1237669702658097368   \n",
      "19           2  4030722598505336192  4030722598505336192  1237665227839438918   \n",
      "20           2  3920275276810355072  3920275276810355072  1237661068187336754   \n",
      "21           1  3906688955223834368  3906688955223834368  1237671129131057197   \n",
      "22           2   617887567299257600   617887567299257600  1237671125375516686   \n",
      "23           2  3671977861604162048  3671977861604162048  1237654881271152921   \n",
      "24           2  2688215052700206976  2688215052700206976  1237663458852798648   \n",
      "25           2  2497494654803989760  2497494654803989760  1237660024522604606   \n",
      "26           1   858066162877217920   858066162877217920  1237655107301539906   \n",
      "27           1  1678050701869897088  1678050701869897088  1237651067892531387   \n",
      "28           2  3915162204144490368  3915162204144490368  1237660614510313501   \n",
      "29           2  2531607041711068416  2531607041711068416  1237657065256124562   \n",
      "30           2   973376306673081472   973376306673081472  1237663787414454614   \n",
      "31           1  1459033345737195008  1459033345737195008  1237662683606024312   \n",
      "32           2  1459032658542428416  1459032658542428416  1237662683606024262   \n",
      "\n",
      "    mainseq_sourceobjid  mainseq_plate  mainseq_mjd  mainseq_fiberID  \\\n",
      "0          2.372323e+18           2107        53786              189   \n",
      "1          1.138290e+18           1011        52652               20   \n",
      "2          7.656296e+17            680        52200               64   \n",
      "3          1.907372e+18           1694        53472              356   \n",
      "4          1.017986e+18            904        52381              629   \n",
      "5          2.168495e+18           1926        53317               41   \n",
      "6          1.271260e+18           1129        52641              434   \n",
      "7          7.472632e+18           6637        56370              126   \n",
      "8          2.218113e+18           1970        53386              327   \n",
      "9          1.004398e+18            892        52378              346   \n",
      "10         6.820704e+18           6058        56090               10   \n",
      "11         6.648442e+18           5905        56065               10   \n",
      "12         1.105761e+18            982        52466              464   \n",
      "13         2.640320e+18           2345        53757              309   \n",
      "14         3.177408e+18           2822        54389              432   \n",
      "15         7.742915e+18           6877        56544              367   \n",
      "16         5.340335e+18           4743        55645              696   \n",
      "17         1.139488e+18           1012        52649              282   \n",
      "18         2.620089e+18           2327        53710              436   \n",
      "19         2.241758e+18           1991        53446              331   \n",
      "20         1.984987e+18           1763        53463               91   \n",
      "21         6.066351e+18           5388        55983                8   \n",
      "22         2.904945e+18           2580        54092              447   \n",
      "23         9.628168e+17            855        52375              627   \n",
      "24         2.208005e+18           1961        53299              419   \n",
      "25         1.702444e+18           1512        53035              304   \n",
      "26         3.243796e+18           2881        54502              285   \n",
      "27         6.779570e+17            602        52072              601   \n",
      "28         2.694418e+18           2393        54156              509   \n",
      "29         4.901161e+18           4353        55532              432   \n",
      "30         4.120882e+18           3660        55209              322   \n",
      "31         4.342737e+18           3857        55272              512   \n",
      "32         4.338151e+18           3853        55268              212   \n",
      "\n",
      "                                          mainseq_url  \n",
      "0   https://data.sdss.org/sas/dr14/sdss/spectro/re...  \n",
      "1   https://data.sdss.org/sas/dr14/sdss/spectro/re...  \n",
      "2   https://data.sdss.org/sas/dr14/sdss/spectro/re...  \n",
      "3   https://data.sdss.org/sas/dr14/sdss/spectro/re...  \n",
      "4   https://data.sdss.org/sas/dr14/sdss/spectro/re...  \n",
      "5   https://data.sdss.org/sas/dr14/sdss/spectro/re...  \n",
      "6   https://data.sdss.org/sas/dr14/sdss/spectro/re...  \n",
      "7   https://data.sdss.org/sas/dr14/sdss/spectro/re...  \n",
      "8   https://data.sdss.org/sas/dr14/sdss/spectro/re...  \n",
      "9   https://data.sdss.org/sas/dr14/sdss/spectro/re...  \n",
      "10  https://data.sdss.org/sas/dr14/sdss/spectro/re...  \n",
      "11  https://data.sdss.org/sas/dr14/sdss/spectro/re...  \n",
      "12  https://data.sdss.org/sas/dr14/sdss/spectro/re...  \n",
      "13  https://data.sdss.org/sas/dr14/sdss/spectro/re...  \n",
      "14  https://data.sdss.org/sas/dr14/sdss/spectro/re...  \n",
      "15  https://data.sdss.org/sas/dr14/sdss/spectro/re...  \n",
      "16  https://data.sdss.org/sas/dr14/sdss/spectro/re...  \n",
      "17  https://data.sdss.org/sas/dr14/sdss/spectro/re...  \n",
      "18  https://data.sdss.org/sas/dr14/sdss/spectro/re...  \n",
      "19  https://data.sdss.org/sas/dr14/sdss/spectro/re...  \n",
      "20  https://data.sdss.org/sas/dr14/sdss/spectro/re...  \n",
      "21  https://data.sdss.org/sas/dr14/sdss/spectro/re...  \n",
      "22  https://data.sdss.org/sas/dr14/sdss/spectro/re...  \n",
      "23  https://data.sdss.org/sas/dr14/sdss/spectro/re...  \n",
      "24  https://data.sdss.org/sas/dr14/sdss/spectro/re...  \n",
      "25  https://data.sdss.org/sas/dr14/sdss/spectro/re...  \n",
      "26  https://data.sdss.org/sas/dr14/sdss/spectro/re...  \n",
      "27  https://data.sdss.org/sas/dr14/sdss/spectro/re...  \n",
      "28  https://data.sdss.org/sas/dr14/sdss/spectro/re...  \n",
      "29  https://data.sdss.org/sas/dr14/sdss/spectro/re...  \n",
      "30  https://data.sdss.org/sas/dr14/sdss/spectro/re...  \n",
      "31  https://data.sdss.org/sas/dr14/sdss/spectro/re...  \n",
      "32  https://data.sdss.org/sas/dr14/sdss/spectro/re...  \n"
     ]
    }
   ],
   "source": [
    "print(wide_binaries)"
   ]
  },
  {
   "cell_type": "code",
   "execution_count": 59,
   "id": "bce5443f-5e61-4f21-b2bb-daf45a1979a6",
   "metadata": {},
   "outputs": [],
   "source": [
    "wide_binaries.to_csv('data/wide_binaries.csv')"
   ]
  },
  {
   "cell_type": "code",
   "execution_count": null,
   "id": "1a178010-66f3-4fbc-9383-1dda6d441543",
   "metadata": {},
   "outputs": [],
   "source": []
  },
  {
   "cell_type": "code",
   "execution_count": null,
   "id": "7165b442-8ad9-46f1-a36f-b7ed95e5c8b2",
   "metadata": {},
   "outputs": [],
   "source": []
  }
 ],
 "metadata": {
  "kernelspec": {
   "display_name": "Python 3 (ipykernel)",
   "language": "python",
   "name": "python3"
  },
  "language_info": {
   "codemirror_mode": {
    "name": "ipython",
    "version": 3
   },
   "file_extension": ".py",
   "mimetype": "text/x-python",
   "name": "python",
   "nbconvert_exporter": "python",
   "pygments_lexer": "ipython3",
   "version": "3.9.7"
  }
 },
 "nbformat": 4,
 "nbformat_minor": 5
}
