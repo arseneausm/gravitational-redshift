{
 "cells": [
  {
   "cell_type": "code",
   "execution_count": 1,
   "metadata": {},
   "outputs": [
    {
     "name": "stdout",
     "output_type": "stream",
     "text": [
      "using local paths\n",
      "star and exposure catalogs not found! check paths and run make_catalogs() if you want to use sdss functionality. otherwise ignore.\n"
     ]
    },
    {
     "name": "stderr",
     "output_type": "stream",
     "text": [
      "2022-07-28 17:59:54.329458: W tensorflow/stream_executor/platform/default/dso_loader.cc:64] Could not load dynamic library 'libcudart.so.11.0'; dlerror: libcudart.so.11.0: cannot open shared object file: No such file or directory\n",
      "2022-07-28 17:59:54.329480: I tensorflow/stream_executor/cuda/cudart_stub.cc:29] Ignore above cudart dlerror if you do not have a GPU set up on your machine.\n"
     ]
    },
    {
     "name": "stdout",
     "output_type": "stream",
     "text": [
      "Please install galpy if you want to use the gaia module. otherwise, ignore this.\n"
     ]
    }
   ],
   "source": [
    "from sklearn.cluster import KMeans\n",
    "import numpy as np\n",
    "import scipy as sp\n",
    "import sys\n",
    "sys.path.append('../corv/src')\n",
    "sys.path.append('../wdtools')\n",
    "\n",
    "import matplotlib.pyplot as plt\n",
    "import matplotlib.colors as colors\n",
    "from astropy.io import fits\n",
    "from astropy.table import Table\n",
    "from tqdm import tqdm\n",
    "import pandas as pd\n",
    "import corv\n",
    "\n",
    "### Query\n",
    "from astroquery.sdss import SDSS\n",
    "from astroquery.gaia import Gaia\n",
    "from astropy import constants as c\n",
    "import data_selector as ds\n",
    "\n",
    "import wdtools\n",
    "import corv\n"
   ]
  },
  {
   "cell_type": "code",
   "execution_count": 2,
   "metadata": {},
   "outputs": [
    {
     "name": "stdout",
     "output_type": "stream",
     "text": [
      "22318\n"
     ]
    }
   ],
   "source": [
    "#d1 = pd.read_csv('data/wd_spectra.csv')\n",
    "#d1 = Table.from_pandas(d1)\n",
    "\n",
    "catalog = Table.read('data/00_MANUAL_MS.fits')\n",
    "print(len(catalog))"
   ]
  },
  {
   "cell_type": "code",
   "execution_count": 3,
   "metadata": {},
   "outputs": [],
   "source": [
    "#spAll = Table.read('~/Downloads/spAll-master.fits')"
   ]
  },
  {
   "cell_type": "code",
   "execution_count": 4,
   "metadata": {},
   "outputs": [
    {
     "data": {
      "text/plain": [
       "\"\\nfrom astropy.coordinates import SkyCoord\\nimport astropy.units as u\\nfrom astropy.table import Table, join_skycoord\\nfrom astropy import table\\n\\nprint(spAll.keys())\\n\\nprint(spAll[['RACAT', 'DECCAT']])\\n\\nspAll = spAll[spAll['DECCAT'] < 90]\\nspAll = spAll[spAll['DECCAT'] > -90]\\n\\ncatalog['wd_pos'] = SkyCoord(catalog['wd_ra'], catalog['wd_dec'], unit='deg')\\nspAll['wd_pos'] = SkyCoord(spAll['RACAT'], spAll['DECCAT'], unit='deg')\\n\\njoin_func = table.join_skycoord(5 * u.arcsecond)\\nsdss5_catalog = table.join(catalog, spAll, join_funcs={'wd_pos': join_skycoord(5 * u.arcsec)})\\n\""
      ]
     },
     "execution_count": 4,
     "metadata": {},
     "output_type": "execute_result"
    }
   ],
   "source": [
    "'''\n",
    "from astropy.coordinates import SkyCoord\n",
    "import astropy.units as u\n",
    "from astropy.table import Table, join_skycoord\n",
    "from astropy import table\n",
    "\n",
    "print(spAll.keys())\n",
    "\n",
    "print(spAll[['RACAT', 'DECCAT']])\n",
    "\n",
    "spAll = spAll[spAll['DECCAT'] < 90]\n",
    "spAll = spAll[spAll['DECCAT'] > -90]\n",
    "\n",
    "catalog['wd_pos'] = SkyCoord(catalog['wd_ra'], catalog['wd_dec'], unit='deg')\n",
    "spAll['wd_pos'] = SkyCoord(spAll['RACAT'], spAll['DECCAT'], unit='deg')\n",
    "\n",
    "join_func = table.join_skycoord(5 * u.arcsecond)\n",
    "sdss5_catalog = table.join(catalog, spAll, join_funcs={'wd_pos': join_skycoord(5 * u.arcsec)})\n",
    "'''"
   ]
  },
  {
   "cell_type": "markdown",
   "metadata": {},
   "source": [
    "# GET MS STAR SPECTRA"
   ]
  },
  {
   "cell_type": "code",
   "execution_count": 5,
   "metadata": {},
   "outputs": [
    {
     "name": "stderr",
     "output_type": "stream",
     "text": [
      "100%|█████████████████████████████████████████████████████████████████████████| 223/223 [03:47<00:00,  1.02s/it]\n"
     ]
    }
   ],
   "source": [
    "from astropy.table import Table, vstack, hstack\n",
    "\n",
    "stardats = []\n",
    "iters = len(catalog) // 100\n",
    "\n",
    "for i in tqdm(range(iters)):\n",
    "    ADQL_CODE1 = \"SELECT \\\n",
    "        sdss.original_ext_source_id as bestobjid, gaia_source.source_id\\\n",
    "        FROM gaiaedr3.gaia_source \\\n",
    "        JOIN gaiaedr3.sdssdr13_best_neighbour as sdss\\\n",
    "        ON gaia_source.source_id = sdss.source_id      \\\n",
    "        WHERE gaia_source.source_id IN {}\\\n",
    "    \".format(tuple(catalog['ms_source_id'][100*i:100*i+100]))\n",
    "    \n",
    "    job1 = Gaia.launch_job(ADQL_CODE1,dump_to_file=False)\n",
    "    d1 = job1.get_results()\n",
    "    \n",
    "    stardats.append(d1)\n",
    "d1 = vstack(stardats)\n"
   ]
  },
  {
   "cell_type": "code",
   "execution_count": 6,
   "metadata": {},
   "outputs": [
    {
     "name": "stderr",
     "output_type": "stream",
     "text": [
      "100%|███████████████████████████████████████████████████████████████████| 22318/22318 [00:02<00:00, 7760.86it/s]\n"
     ]
    }
   ],
   "source": [
    "drops = []\n",
    "bestobjid1 = []\n",
    "\n",
    "for i in tqdm (range(len(catalog))):\n",
    "    notfound = False\n",
    "    a = np.where(d1['source_id'] == catalog['ms_source_id'][i])\n",
    "    \n",
    "    try:\n",
    "        j = a[0][0]\n",
    "    except:\n",
    "        notfound = True\n",
    "        \n",
    "    if not notfound: \n",
    "        try:\n",
    "            bestobjid1.append(d1['bestobjid'][j])\n",
    "        except:\n",
    "            notfound = True\n",
    "    if notfound:\n",
    "        drops.append(i)    \n",
    "        \n",
    "catalog.remove_rows(drops)\n",
    "catalog['ms_bestobjid'] = bestobjid1"
   ]
  },
  {
   "cell_type": "code",
   "execution_count": 7,
   "metadata": {},
   "outputs": [
    {
     "name": "stdout",
     "output_type": "stream",
     "text": [
      "    ms_bestobjid   \n",
      "-------------------\n",
      "1237666227511361910\n",
      "1237666229122957712\n",
      "1237666210332411647\n",
      "1237649745022157264\n",
      "1237658188928779132\n",
      "1237667138566815852\n",
      "1237666464256033355\n",
      "1237667136955416660\n",
      "1237667138567406889\n",
      "1237666464793363110\n",
      "1237666465330299039\n",
      "                ...\n",
      "1237651497370255752\n",
      "1237663530257481761\n",
      "1237651273496330297\n",
      "1237651496834171161\n",
      "1237663788492259646\n",
      "1237651497369403451\n",
      "1237663546900283548\n",
      "1237663787955978272\n",
      "1237663916801327241\n",
      "1237663531330765130\n",
      "1237663916264653725\n",
      "Length = 6869 rows\n"
     ]
    }
   ],
   "source": [
    "print(catalog['ms_bestobjid'])"
   ]
  },
  {
   "cell_type": "code",
   "execution_count": 8,
   "metadata": {},
   "outputs": [
    {
     "name": "stderr",
     "output_type": "stream",
     "text": [
      "  0%|                                                                                    | 0/68 [00:00<?, ?it/s]/home/arseneausm/anaconda3/lib/python3.8/site-packages/astroquery/sdss/core.py:874: VisibleDeprecationWarning: Reading unicode strings without specifying the encoding argument is deprecated. Set the encoding, use None for the system default.\n",
      "  arr = np.atleast_1d(np.genfromtxt(io.BytesIO(response.content),\n",
      "100%|██████████████████████████████████████████████████████████████████████████| 68/68 [00:00<00:00, 914.04it/s]\n"
     ]
    }
   ],
   "source": [
    "stardats2 = []\n",
    "iters = len(catalog) // 100\n",
    "\n",
    "for i in tqdm(range(iters)):\n",
    "    SDSS_QUERY = \"\"\"select bestObjID, plate, mjd, fiberID, subClass\n",
    "        from dbo.SpecObjAll\n",
    "        where bestObjID in {}\"\"\".format(tuple(catalog['ms_bestobjid'][100*i:100*i+100]))\n",
    "    \n",
    "    dat = SDSS.query_sql(SDSS_QUERY)\n",
    "    if dat is not None:\n",
    "        stardats2.append(dat)\n",
    "spec = vstack(stardats2)"
   ]
  },
  {
   "cell_type": "code",
   "execution_count": 9,
   "metadata": {},
   "outputs": [
    {
     "name": "stdout",
     "output_type": "stream",
     "text": [
      "     bestObjID      plate  mjd  fiberID    subClass   \n",
      "------------------- ----- ----- ------- --------------\n",
      "1237667112799568095  2345 53757     309             M5\n",
      "1237667255616405856  2356 53786     338             M6\n",
      "1237671125375516686  2580 54092     447             M4\n",
      "1237663278463713420  1488 52965     538             M4\n",
      "1237663783670513813  1078 52643     291             M2\n",
      "1237651754532930221   480 51989     609             M8\n",
      "1237651754532930221  4743 55645     696 M6III (148783)\n",
      "1237667210511646904  2290 53727     163             M2\n",
      "1237666339190669360  4228 55484     238 M5III (221615)\n",
      "1237663784206664016  4229 55501     573 M5III (221615)\n",
      "1237663784740061261  1131 52902     544             M2\n",
      "                ...   ...   ...     ...            ...\n",
      "1237655498667393899   915 52443     200             M9\n",
      "1237655498667393899  4038 55363     480         Ldwarf\n",
      "1237655498667393899  4041 55361      20         Ldwarf\n",
      "1237654391640818073   545 52202     367             M5\n",
      "1237654653634282116  3801 55509     481 M6III (148783)\n",
      "1237654881271152921   855 52375     627             M7\n",
      "1237648722311839804  2926 54625     337             K7\n",
      "1237648722311839804  7456 56727     550  K5Ve (118100)\n",
      "1237665329323442228  2094 53851     110             M5\n",
      "1237651226781221865   352 51694     283             M7\n",
      "1237651226781221865   352 51789     295             M7\n",
      "Length = 56 rows\n"
     ]
    }
   ],
   "source": [
    "print(spec)\n"
   ]
  },
  {
   "cell_type": "code",
   "execution_count": 10,
   "metadata": {},
   "outputs": [
    {
     "name": "stderr",
     "output_type": "stream",
     "text": [
      "100%|████████████████████████████████████████████████████████████████████| 6869/6869 [00:00<00:00, 39358.04it/s]\n"
     ]
    }
   ],
   "source": [
    "\n",
    "drops = []\n",
    "plate = []\n",
    "mjd = []\n",
    "fiber = []\n",
    "types = []\n",
    "\n",
    "for i in tqdm (range(len(catalog))):\n",
    "    notfound = False\n",
    "    a = np.where(spec['bestObjID'] == catalog['ms_bestobjid'][i])\n",
    "    \n",
    "    try:\n",
    "        j = a[0][0]\n",
    "    except:\n",
    "        notfound = True\n",
    "        \n",
    "    if not notfound: \n",
    "        try:\n",
    "            \n",
    "            plate.append(spec['plate'][j])\n",
    "            mjd.append(spec['mjd'][j])\n",
    "            fiber.append(spec['fiberID'][j])\n",
    "            types.append(spec['subClass'][j])\n",
    "            \n",
    "            \n",
    "        except:\n",
    "            notfound = True\n",
    "    if notfound:\n",
    "        drops.append(i)    \n",
    "        \n",
    "catalog.remove_rows(drops)\n",
    "catalog['ms_plate'] = plate\n",
    "catalog['ms_mjd'] = mjd\n",
    "catalog['ms_fiber'] = fiber\n",
    "catalog['ms_subClass'] = types\n"
   ]
  },
  {
   "cell_type": "code",
   "execution_count": 11,
   "metadata": {},
   "outputs": [
    {
     "name": "stdout",
     "output_type": "stream",
     "text": [
      "50\n"
     ]
    }
   ],
   "source": [
    "print(len(catalog))"
   ]
  },
  {
   "cell_type": "markdown",
   "metadata": {},
   "source": [
    "# GET WD STAR SPECTRA"
   ]
  },
  {
   "cell_type": "code",
   "execution_count": 12,
   "metadata": {},
   "outputs": [
    {
     "name": "stderr",
     "output_type": "stream",
     "text": [
      "0it [00:00, ?it/s]"
     ]
    },
    {
     "name": "stdout",
     "output_type": "stream",
     "text": [
      "6869\n"
     ]
    },
    {
     "name": "stderr",
     "output_type": "stream",
     "text": [
      "\n"
     ]
    }
   ],
   "source": [
    "stardats = []\n",
    "iters = len(catalog) // 100\n",
    "\n",
    "for i in tqdm(range(iters)):\n",
    "    ADQL_CODE1 = \"SELECT \\\n",
    "        sdss.original_ext_source_id as bestobjid,\\\n",
    "        gaia_source.source_id\\\n",
    "        FROM gaiaedr3.gaia_source \\\n",
    "        JOIN gaiaedr3.sdssdr13_best_neighbour as sdss\\\n",
    "        ON gaia_source.source_id = sdss.source_id      \\\n",
    "        WHERE gaia_source.source_id IN {}\\\n",
    "    \".format(tuple(catalog['wd_source_id'][100*i:100*i+100]))\n",
    "    \n",
    "    job1 = Gaia.launch_job(ADQL_CODE1,dump_to_file=False)\n",
    "    d2 = job1.get_results()\n",
    "    stardats.append(d2)\n",
    "#d1 = vstack(stardats)\n",
    "\n",
    "print(len(d1))"
   ]
  },
  {
   "cell_type": "code",
   "execution_count": 13,
   "metadata": {},
   "outputs": [
    {
     "name": "stdout",
     "output_type": "stream",
     "text": [
      "50\n"
     ]
    }
   ],
   "source": [
    "print(len(catalog))"
   ]
  },
  {
   "cell_type": "code",
   "execution_count": 14,
   "metadata": {},
   "outputs": [
    {
     "name": "stderr",
     "output_type": "stream",
     "text": [
      "100%|█████████████████████████████████████████████████████████████████████████| 50/50 [00:00<00:00, 6782.07it/s]\n"
     ]
    }
   ],
   "source": [
    "drops = []\n",
    "bestobjid1 = []\n",
    "\n",
    "for i in tqdm (range(len(catalog))):\n",
    "    notfound = False\n",
    "    a = np.where(d1['source_id'] == catalog['wd_source_id'][i])\n",
    "    \n",
    "    try:\n",
    "        j = a[0][0]\n",
    "    except:\n",
    "        notfound = True\n",
    "        \n",
    "    if not notfound: \n",
    "        try:\n",
    "            bestobjid1.append(d1['bestobjid'][j])\n",
    "        except:\n",
    "            notfound = True\n",
    "    if notfound:\n",
    "        drops.append(i)    \n",
    "        \n",
    "catalog.remove_rows(drops)\n",
    "catalog['wd_bestobjid'] = bestobjid1"
   ]
  },
  {
   "cell_type": "code",
   "execution_count": 15,
   "metadata": {},
   "outputs": [
    {
     "name": "stderr",
     "output_type": "stream",
     "text": [
      "0it [00:00, ?it/s]\n"
     ]
    },
    {
     "ename": "ValueError",
     "evalue": "no values provided to stack.",
     "output_type": "error",
     "traceback": [
      "\u001b[0;31m---------------------------------------------------------------------------\u001b[0m",
      "\u001b[0;31mValueError\u001b[0m                                Traceback (most recent call last)",
      "Input \u001b[0;32mIn [15]\u001b[0m, in \u001b[0;36m<cell line: 12>\u001b[0;34m()\u001b[0m\n\u001b[1;32m      7\u001b[0m     SDSS_QUERY \u001b[38;5;241m=\u001b[39m \u001b[38;5;124m\"\"\"\u001b[39m\u001b[38;5;124mselect bestObjID, plate, mjd, fiberID, subClass\u001b[39m\n\u001b[1;32m      8\u001b[0m \u001b[38;5;124m        from dbo.SpecObjAll\u001b[39m\n\u001b[1;32m      9\u001b[0m \u001b[38;5;124m        where bestObjID in \u001b[39m\u001b[38;5;132;01m{}\u001b[39;00m\u001b[38;5;124m\"\"\"\u001b[39m\u001b[38;5;241m.\u001b[39mformat(\u001b[38;5;28mtuple\u001b[39m(catalog[\u001b[38;5;124m'\u001b[39m\u001b[38;5;124mwd_bestobjid\u001b[39m\u001b[38;5;124m'\u001b[39m][\u001b[38;5;241m100\u001b[39m\u001b[38;5;241m*\u001b[39mi:\u001b[38;5;241m100\u001b[39m\u001b[38;5;241m*\u001b[39mi\u001b[38;5;241m+\u001b[39m\u001b[38;5;241m100\u001b[39m]))\n\u001b[1;32m     11\u001b[0m     stardats\u001b[38;5;241m.\u001b[39mappend(SDSS\u001b[38;5;241m.\u001b[39mquery_sql(SDSS_QUERY))\n\u001b[0;32m---> 12\u001b[0m spec \u001b[38;5;241m=\u001b[39m \u001b[43mvstack\u001b[49m\u001b[43m(\u001b[49m\u001b[43mstardats\u001b[49m\u001b[43m)\u001b[49m\n",
      "File \u001b[0;32m~/anaconda3/lib/python3.8/site-packages/astropy/table/operations.py:646\u001b[0m, in \u001b[0;36mvstack\u001b[0;34m(tables, join_type, metadata_conflicts)\u001b[0m\n\u001b[1;32m    592\u001b[0m \u001b[38;5;124;03m\"\"\"\u001b[39;00m\n\u001b[1;32m    593\u001b[0m \u001b[38;5;124;03mStack tables vertically (along rows)\u001b[39;00m\n\u001b[1;32m    594\u001b[0m \n\u001b[0;32m   (...)\u001b[0m\n\u001b[1;32m    642\u001b[0m \u001b[38;5;124;03m    6   8\u001b[39;00m\n\u001b[1;32m    643\u001b[0m \u001b[38;5;124;03m\"\"\"\u001b[39;00m\n\u001b[1;32m    644\u001b[0m _check_join_type(join_type, \u001b[38;5;124m'\u001b[39m\u001b[38;5;124mvstack\u001b[39m\u001b[38;5;124m'\u001b[39m)\n\u001b[0;32m--> 646\u001b[0m tables \u001b[38;5;241m=\u001b[39m \u001b[43m_get_list_of_tables\u001b[49m\u001b[43m(\u001b[49m\u001b[43mtables\u001b[49m\u001b[43m)\u001b[49m  \u001b[38;5;66;03m# validates input\u001b[39;00m\n\u001b[1;32m    647\u001b[0m \u001b[38;5;28;01mif\u001b[39;00m \u001b[38;5;28mlen\u001b[39m(tables) \u001b[38;5;241m==\u001b[39m \u001b[38;5;241m1\u001b[39m:\n\u001b[1;32m    648\u001b[0m     \u001b[38;5;28;01mreturn\u001b[39;00m tables[\u001b[38;5;241m0\u001b[39m]  \u001b[38;5;66;03m# no point in stacking a single table\u001b[39;00m\n",
      "File \u001b[0;32m~/anaconda3/lib/python3.8/site-packages/astropy/table/operations.py:53\u001b[0m, in \u001b[0;36m_get_list_of_tables\u001b[0;34m(tables)\u001b[0m\n\u001b[1;32m     51\u001b[0m \u001b[38;5;66;03m# Make sure there is something to stack\u001b[39;00m\n\u001b[1;32m     52\u001b[0m \u001b[38;5;28;01mif\u001b[39;00m \u001b[38;5;28mlen\u001b[39m(tables) \u001b[38;5;241m==\u001b[39m \u001b[38;5;241m0\u001b[39m:\n\u001b[0;32m---> 53\u001b[0m     \u001b[38;5;28;01mraise\u001b[39;00m \u001b[38;5;167;01mValueError\u001b[39;00m(\u001b[38;5;124m'\u001b[39m\u001b[38;5;124mno values provided to stack.\u001b[39m\u001b[38;5;124m'\u001b[39m)\n\u001b[1;32m     55\u001b[0m \u001b[38;5;66;03m# Convert inputs (Table, Row, or anything column-like) to Tables.\u001b[39;00m\n\u001b[1;32m     56\u001b[0m \u001b[38;5;66;03m# Special case that Quantity converts to a QTable.\u001b[39;00m\n\u001b[1;32m     57\u001b[0m \u001b[38;5;28;01mfor\u001b[39;00m ii, val \u001b[38;5;129;01min\u001b[39;00m \u001b[38;5;28menumerate\u001b[39m(tables):\n",
      "\u001b[0;31mValueError\u001b[0m: no values provided to stack."
     ]
    }
   ],
   "source": [
    "from astropy.table import Table, vstack, hstack\n",
    "\n",
    "stardats = []\n",
    "iters = len(catalog) // 100\n",
    "\n",
    "for i in tqdm(range(iters)):\n",
    "    SDSS_QUERY = \"\"\"select bestObjID, plate, mjd, fiberID, subClass\n",
    "        from dbo.SpecObjAll\n",
    "        where bestObjID in {}\"\"\".format(tuple(catalog['wd_bestobjid'][100*i:100*i+100]))\n",
    "    \n",
    "    stardats.append(SDSS.query_sql(SDSS_QUERY))\n",
    "spec = vstack(stardats)\n"
   ]
  },
  {
   "cell_type": "code",
   "execution_count": null,
   "metadata": {},
   "outputs": [],
   "source": [
    "drops = []\n",
    "plate = []\n",
    "mjd = []\n",
    "fiber = []\n",
    "types = []\n",
    "\n",
    "for i in tqdm (range(len(catalog))):\n",
    "    notfound = False\n",
    "    a = np.where(spec['bestObjID'] == catalog['wd_bestobjid'][i])\n",
    "    \n",
    "    try:\n",
    "        j = a[0][0]\n",
    "    except:\n",
    "        notfound = True\n",
    "        \n",
    "    if not notfound: \n",
    "        try:\n",
    "            \n",
    "            plate.append(spec['plate'][j])\n",
    "            mjd.append(spec['mjd'][j])\n",
    "            fiber.append(spec['fiberID'][j])\n",
    "            types.append(spec['subClass'][j])\n",
    "            \n",
    "            \n",
    "        except:\n",
    "            notfound = True\n",
    "    if notfound:\n",
    "        drops.append(i)    \n",
    "        \n",
    "catalog.remove_rows(drops)\n",
    "catalog['wd_plate'] = plate\n",
    "catalog['wd_mjd'] = mjd\n",
    "catalog['wd_fiber'] = fiber\n",
    "catalog['wd_subClass'] = types"
   ]
  },
  {
   "cell_type": "code",
   "execution_count": null,
   "metadata": {},
   "outputs": [],
   "source": [
    "print(len(catalog))"
   ]
  },
  {
   "cell_type": "code",
   "execution_count": null,
   "metadata": {},
   "outputs": [],
   "source": []
  },
  {
   "cell_type": "code",
   "execution_count": null,
   "metadata": {},
   "outputs": [],
   "source": [
    "spec = []\n",
    "wl = []\n",
    "fl = []\n",
    "ivar = []\n",
    "drops = []\n",
    "worked = []\n",
    "\n",
    "for i in tqdm(range(len(catalog))):\n",
    "    try:\n",
    "        spec = SDSS.get_spectra_async(plate=plate[i], fiberID=fiber[i], mjd=mjd[i])[0].get_fits()\n",
    "        \n",
    "        #print(spec[4].header)\n",
    "        \n",
    "        wl.append(10**spec[1].data['loglam'])\n",
    "        fl.append(spec[1].data['flux'])\n",
    "        ivar.append(spec[1].data['ivar'])\n",
    "        worked.append(i)\n",
    "    except:\n",
    "        drops.append(i)\n",
    "        \n",
    "print(len(wl))\n",
    "print(len(fl))\n",
    "print(len(ivar))\n",
    "        \n",
    "catalog.remove_rows(drops)\n",
    "catalog['wd_wl'] = wl\n",
    "catalog['wd_fl'] = fl\n",
    "catalog['wd_ivar'] = ivar"
   ]
  },
  {
   "cell_type": "code",
   "execution_count": null,
   "metadata": {},
   "outputs": [],
   "source": [
    "print(catalog['subClass'])\n",
    "\n",
    "print(len(catalog))"
   ]
  },
  {
   "cell_type": "code",
   "execution_count": null,
   "metadata": {},
   "outputs": [],
   "source": [
    "def pseudonormalize(fl, win = 50):\n",
    "    cont_fl = np.repeat(np.nan, len(fl))\n",
    "    \n",
    "    for i in range(len(fl)):\n",
    "        if (i - (win / 2)) < 0:\n",
    "            fl_win = fl[0:(i + (win // 2))]\n",
    "        else:\n",
    "            fl_win = fl[(i - (win // 2)) : (i + (win // 2))]\n",
    "        \n",
    "        cont_fl[i] = np.percentile(fl_win, 90)\n",
    "        \n",
    "    return fl / cont_fl\n",
    "'''\n",
    "def spec_split(bands, wl, fl, window_size = 100):\n",
    "    spec_split = {}\n",
    "    \n",
    "    for i in range(len(bands)):\n",
    "        spec_split[bands.keys()[i]] = np.array([ [wl[\n",
    "'''"
   ]
  },
  {
   "cell_type": "code",
   "execution_count": null,
   "metadata": {},
   "outputs": [],
   "source": []
  }
 ],
 "metadata": {
  "kernelspec": {
   "display_name": "Python 3 (ipykernel)",
   "language": "python",
   "name": "python3"
  },
  "language_info": {
   "codemirror_mode": {
    "name": "ipython",
    "version": 3
   },
   "file_extension": ".py",
   "mimetype": "text/x-python",
   "name": "python",
   "nbconvert_exporter": "python",
   "pygments_lexer": "ipython3",
   "version": "3.8.3"
  }
 },
 "nbformat": 4,
 "nbformat_minor": 4
}
