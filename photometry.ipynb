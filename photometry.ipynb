{
 "cells": [
  {
   "cell_type": "code",
   "execution_count": 1,
   "metadata": {},
   "outputs": [
    {
     "name": "stdout",
     "output_type": "stream",
     "text": [
      "Please install galpy if you want to use the gaia module. otherwise, ignore this.\n",
      "could not find pickled WD models\n",
      "using local paths\n",
      "star and exposure catalogs not found! check paths and run make_catalogs() if you want to use sdss functionality. otherwise ignore.\n"
     ]
    }
   ],
   "source": [
    "# Install a pip package in the current Jupyter kernel\n",
    "import sys\n",
    "sys.path.append('../')\n",
    "sys.path.append('../wdtools')\n",
    "sys.path.append('../corv/src')\n",
    "\n",
    "### General\n",
    "import numpy as np\n",
    "import matplotlib.pyplot as plt\n",
    "import matplotlib.colors as colors\n",
    "from astropy.io import fits\n",
    "from tqdm import tqdm\n",
    "import pandas as pd\n",
    "\n",
    "### Tools\n",
    "from astropy.io import fits\n",
    "import wdtools\n",
    "import data_selector as ds\n",
    "import corv\n",
    "import WD_models\n",
    "\n",
    "#corv.sdss.make_catalogs()"
   ]
  },
  {
   "cell_type": "code",
   "execution_count": 1,
   "metadata": {},
   "outputs": [],
   "source": [
    "#ds.select_sdss4()"
   ]
  },
  {
   "cell_type": "code",
   "execution_count": null,
   "metadata": {
    "tags": []
   },
   "outputs": [],
   "source": [
    "###### lines = [6562.79, 4861.35, 4340.47, 4101.73, 3970.07, 3889.06, 3835.40, 5893]\n",
    "\n",
    "catalog = ds.get_catalog('data/catalog_sdss4.csv')\n",
    "\n",
    "wd_pos = [1,2,1,1,2,1,2,2,2,2,2,2,2]\n",
    "ms_pos = [2,1,2,2,1,2,1,1,1,1,1,1,1]\n",
    "\n",
    "catalog = catalog.drop(8)\n",
    "catalog.reset_index(inplace=True, drop=True)\n",
    "\n",
    "#ds.plot_binary_spectra(catalog, lines, 'sdss4')"
   ]
  },
  {
   "cell_type": "code",
   "execution_count": null,
   "metadata": {},
   "outputs": [],
   "source": [
    "from __future__ import print_function\n",
    "from astropy.coordinates import SkyCoord\n",
    "import astropy.units as u\n",
    "from dustmaps.sfd import SFDQuery\n",
    "\n",
    "coords = SkyCoord('12h30m25.3s', '15d15m58.1s', frame='icrs')\n",
    "sfd = SFDQuery()\n",
    "ebv = sfd(coords)\n",
    "\n",
    "coords = SkyCoord('12h30m25.3s', '15d15m58.1s', frame='icrs')\n",
    "print('E(B-V) = {:.3f} mag'.format(ebv))"
   ]
  },
  {
   "cell_type": "code",
   "execution_count": null,
   "metadata": {},
   "outputs": [],
   "source": [
    "l = [catalog['l{}'.format(wd_pos[i])][i] for i in range(len(wd_pos))]\n",
    "b = [catalog['b{}'.format(wd_pos[i])][i] for i in range(len(wd_pos))]\n",
    "\n",
    "coords = [SkyCoord(frame=\"galactic\", l=l[i]*u.deg, b=b[i]*u.deg) for i in range(len(l))]\n",
    "catalog['wd_coords'] = coords"
   ]
  },
  {
   "cell_type": "code",
   "execution_count": null,
   "metadata": {
    "tags": []
   },
   "outputs": [],
   "source": [
    "catalog['E(B-V)'] = [sfd(catalog['wd_coords'][i]) for i in range(len(catalog))]"
   ]
  },
  {
   "cell_type": "code",
   "execution_count": null,
   "metadata": {
    "tags": []
   },
   "outputs": [],
   "source": [
    "model = WD_models.load_model('be', 'be', 'o', 'H',\n",
    "                             HR_bands=('Su-Sg', 'Su'),)\n",
    "\n",
    "catalog['wd_u-g'] = [catalog['u{}'.format(wd_pos[i])][i] - catalog['g{}'.format(wd_pos[i])][i] for i in range(len(wd_pos))]\n",
    "catalog['wd_umag'] = [catalog['u{}'.format(wd_pos[i])][i] for i in range(len(wd_pos))]\n",
    "\n",
    "age_cool = model['HR_to_age_cool'](catalog['u-g'], catalog['u'])\n",
    "\n",
    "print('bp3_rp3: ', catalog['u-g'], '\\nM_G3: ', catalog['u'])\n",
    "print('cooling ages:', age_cool, 'Gyr')"
   ]
  },
  {
   "cell_type": "code",
   "execution_count": null,
   "metadata": {},
   "outputs": [],
   "source": []
  },
  {
   "cell_type": "code",
   "execution_count": null,
   "metadata": {},
   "outputs": [],
   "source": []
  },
  {
   "cell_type": "code",
   "execution_count": null,
   "metadata": {
    "tags": []
   },
   "outputs": [],
   "source": []
  },
  {
   "cell_type": "code",
   "execution_count": null,
   "metadata": {},
   "outputs": [],
   "source": []
  },
  {
   "cell_type": "code",
   "execution_count": null,
   "metadata": {},
   "outputs": [],
   "source": []
  },
  {
   "cell_type": "code",
   "execution_count": null,
   "metadata": {},
   "outputs": [],
   "source": []
  }
 ],
 "metadata": {
  "kernelspec": {
   "display_name": "Python 3",
   "language": "python",
   "name": "python3"
  },
  "language_info": {
   "codemirror_mode": {
    "name": "ipython",
    "version": 3
   },
   "file_extension": ".py",
   "mimetype": "text/x-python",
   "name": "python",
   "nbconvert_exporter": "python",
   "pygments_lexer": "ipython3",
   "version": "3.8.3"
  }
 },
 "nbformat": 4,
 "nbformat_minor": 5
}
