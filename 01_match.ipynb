{
 "cells": [
  {
   "cell_type": "code",
   "execution_count": 1,
   "id": "f7970d5e-2282-4605-9141-2ca74e10fb0e",
   "metadata": {
    "tags": []
   },
   "outputs": [],
   "source": [
    "import sys\n",
    "sys.path.append('../')\n",
    "sys.path.append('../WD_models')\n",
    "\n",
    "### General\n",
    "import numpy as np\n",
    "import matplotlib.pyplot as plt\n",
    "import matplotlib.colors as colors\n",
    "\n",
    "from astropy.io import fits\n",
    "from astropy.table import Table, Column, MaskedColumn, join, unique\n",
    "from astropy.table import vstack\n",
    "\n",
    "from tqdm import tqdm\n",
    "import pandas as pd\n",
    "import WD_models"
   ]
  },
  {
   "cell_type": "code",
   "execution_count": 2,
   "id": "0b161c02-a86d-43dc-821f-d64068963136",
   "metadata": {},
   "outputs": [],
   "source": [
    "from astropy.table import Table, join_skycoord\n",
    "from astropy.coordinates import SkyCoord\n",
    "from astropy import table\n",
    "import astropy.units as u\n",
    "\n",
    "wd_c1 = Table.read('sdss5/spAll-v6_1_0.fits')\n"
   ]
  },
  {
   "cell_type": "code",
   "execution_count": 3,
   "id": "e3adbd02-23c9-4e5d-b7f0-355187652b3e",
   "metadata": {
    "tags": []
   },
   "outputs": [
    {
     "data": {
      "text/html": [
       "<i>Row index=2657432</i>\n",
       "<table id=\"table139751678013248\">\n",
       "<thead><tr><th>PROGRAMNAME</th><th>SURVEY</th><th>FIELDQUALITY</th><th>FIELDSN2</th><th>EXP_DISP_MED</th><th>FIBERID_LIST</th><th>LAMBDA_EFF</th><th>BLUEFIBER</th><th>ZOFFSET</th><th>XFOCAL</th><th>YFOCAL</th><th>CALIBFLUX</th><th>CALIBFLUX_IVAR</th><th>GAIA_BP</th><th>GAIA_RP</th><th>GAIA_G</th><th>CADENCE</th><th>FIRSTCARTON</th><th>CARTON_TO_TARGET_PK</th><th>RACAT</th><th>DECCAT</th><th>COORD_EPOCH</th><th>PMRA</th><th>PMDEC</th><th>PARALLAX</th><th>CATALOGID</th><th>CATALOGID_V0</th><th>CATALOGID_V0P5</th><th>GAIA_ID_DR2</th><th>FIBER2MAG</th><th>PSFMAG</th><th>CATDB_MAG</th><th>OPTICAL_PROV</th><th>OBS</th><th>FIELD</th><th>DESIGNS</th><th>CONFIGS</th><th>NEXP</th><th>EXPTIME</th><th>AIRMASS</th><th>SEEING20</th><th>SEEING50</th><th>SEEING80</th><th>ASSIGNED</th><th>ON_TARGET</th><th>VALID</th><th>HEALPIX</th><th>HEALPIXGRP</th><th>HEALPIX_PATH</th><th>MJD_FINAL</th><th>MJD_LIST</th><th>TAI_LIST</th><th>FIELDSNR2G_LIST</th><th>FIELDSNR2R_LIST</th><th>FIELDSNR2I_LIST</th><th>RA_LIST</th><th>DEC_LIST</th><th>DELTA_RA_LIST</th><th>DELTA_DEC_LIST</th><th>MOON_DIST</th><th>MOON_PHASE</th><th>EBV</th><th>EBV_TYPE</th><th>WISE_MAG</th><th>TWOMASS_MAG</th><th>GUVCAT_MAG</th><th>FIBER_OFFSET</th><th>SPEC_FILE</th><th>XCSAO_RV</th><th>XCSAO_ERV</th><th>XCSAO_RXC</th><th>XCSAO_TEFF</th><th>XCSAO_ETEFF</th><th>XCSAO_LOGG</th><th>XCSAO_ELOGG</th><th>XCSAO_FEH</th><th>XCSAO_EFEH</th><th>SDSSV_BOSS_TARGET0</th><th>MJD</th><th>TARGET_INDEX</th><th>RUN2D</th><th>RUN1D</th><th>OBJTYPE</th><th>FIBER_RA</th><th>FIBER_DEC</th><th>PLUG_RA</th><th>PLUG_DEC</th><th>CLASS</th><th>SUBCLASS</th><th>Z</th><th>Z_ERR</th><th>RCHI2</th><th>DOF</th><th>RCHI2DIFF</th><th>TFILE</th><th>TCOLUMN</th><th>NPOLY</th><th>THETA</th><th>VDISP</th><th>VDISP_ERR</th><th>VDISPZ</th><th>VDISPZ_ERR</th><th>VDISPCHI2</th><th>VDISPNPIX</th><th>VDISPDOF</th><th>WAVEMIN</th><th>WAVEMAX</th><th>WCOVERAGE</th><th>ZWARNING</th><th>SN_MEDIAN</th><th>SN_MEDIAN_ALL</th><th>CHI68P</th><th>FRACNSIGMA</th><th>FRACNSIGHI</th><th>FRACNSIGLO</th><th>SPECTROFLUX</th><th>SPECTROFLUX_IVAR</th><th>SPECTROSYNFLUX</th><th>SPECTROSYNFLUX_IVAR</th><th>SPECTROSKYFLUX</th><th>ANYANDMASK</th><th>ANYORMASK</th><th>SPEC1_G</th><th>SPEC1_R</th><th>SPEC1_I</th><th>SPEC2_G</th><th>SPEC2_R</th><th>SPEC2_I</th><th>Z_NOQSO</th><th>Z_ERR_NOQSO</th><th>ZNUM_NOQSO</th><th>ZWARNING_NOQSO</th><th>CLASS_NOQSO</th><th>SUBCLASS_NOQSO</th><th>RCHI2DIFF_NOQSO</th><th>SPECOBJID</th></tr></thead>\n",
       "<thead><tr><th>bytes13</th><th>bytes13</th><th>bytes4</th><th>float32</th><th>float64</th><th>bytes111</th><th>float32</th><th>int32</th><th>float32</th><th>bytes251</th><th>bytes251</th><th>float32[5]</th><th>float32[5]</th><th>float32</th><th>float32</th><th>float32</th><th>bytes13</th><th>bytes48</th><th>bytes22</th><th>float64</th><th>float64</th><th>float32</th><th>float32</th><th>float32</th><th>float32</th><th>int64</th><th>int64</th><th>int64</th><th>int64</th><th>float32[5]</th><th>float32[5]</th><th>float32[5]</th><th>bytes26</th><th>bytes3</th><th>int32</th><th>bytes125</th><th>bytes167</th><th>int16</th><th>int16</th><th>float32</th><th>float32</th><th>float32</th><th>float32</th><th>bytes55</th><th>bytes55</th><th>bytes55</th><th>int32</th><th>int16</th><th>bytes76</th><th>float64</th><th>bytes167</th><th>bytes307</th><th>bytes139</th><th>bytes147</th><th>bytes152</th><th>bytes307</th><th>bytes279</th><th>bytes111</th><th>bytes111</th><th>bytes139</th><th>bytes139</th><th>float32</th><th>bytes11</th><th>float32[4]</th><th>float32[3]</th><th>float32[2]</th><th>float32</th><th>bytes42</th><th>float32</th><th>float32</th><th>float32</th><th>float32</th><th>float32</th><th>float32</th><th>float32</th><th>float32</th><th>float32</th><th>int64</th><th>int32</th><th>int32</th><th>bytes6</th><th>bytes6</th><th>bytes16</th><th>float64</th><th>float64</th><th>float64</th><th>float64</th><th>bytes6</th><th>bytes21</th><th>float32</th><th>float32</th><th>float32</th><th>int32</th><th>float32</th><th>bytes24</th><th>int32[10]</th><th>int32</th><th>float32[10]</th><th>float32</th><th>float32</th><th>float32</th><th>float32</th><th>float32</th><th>float32</th><th>int32</th><th>float32</th><th>float32</th><th>float32</th><th>int32</th><th>float32[5]</th><th>float32</th><th>float32</th><th>float32[10]</th><th>float32[10]</th><th>float32[10]</th><th>float32[5]</th><th>float32[5]</th><th>float32[5]</th><th>float32[5]</th><th>float32[5]</th><th>int32</th><th>int32</th><th>float32</th><th>float32</th><th>float32</th><th>float32</th><th>float32</th><th>float32</th><th>float32</th><th>float32</th><th>int32</th><th>int32</th><th>bytes6</th><th>bytes21</th><th>float32</th><th>int64</th></tr></thead>\n",
       "<tr><td></td><td></td><td>good</td><td>12.7535515</td><td>-1.0</td><td>217 217 217 217</td><td>--</td><td>0</td><td>0.0</td><td>146.460 146.460 146.460 146.460</td><td>-18.021 -18.021 -18.021 -18.021</td><td>0.0 .. 0.0</td><td>0.0 .. 0.0</td><td>--</td><td>--</td><td>--</td><td></td><td></td><td>-999</td><td>--</td><td>--</td><td>--</td><td>--</td><td>--</td><td>--</td><td>0</td><td>0</td><td>0</td><td>-1</td><td>-- .. --</td><td>-- .. --</td><td>-- .. --</td><td></td><td>APO</td><td>112361</td><td>109813 109813 109814 109814</td><td>8066 8066 8067 8067</td><td>4</td><td>3600</td><td>1.3337468</td><td>1.198143</td><td>1.2871485</td><td>1.474061</td><td>0 0 0 0</td><td>0 0 0 0</td><td>1 1 1 1</td><td>0</td><td>0</td><td></td><td>59940.08030879989</td><td>59940 59940 59940 59940</td><td>5178821386 5178822370 5178823429 5178824412</td><td>1.22 1.66 1.36 1.46</td><td>5.01 6.22 4.96 5.52</td><td>3.96 5.16 4.13 4.79</td><td>36.444091 36.444091 36.444091 36.444091</td><td>-5.097355 -5.097355 -5.097355 -5.097355</td><td>0.0 0.0 0.0 0.0</td><td>0.0 0.0 0.0 0.0</td><td>65.7 65.6 65.4 65.3</td><td>0.19 0.19 0.19 0.19</td><td>0.02895467</td><td>SFD</td><td>-- .. --</td><td>-- .. --</td><td>-- .. --</td><td>0.0</td><td>spec-112361-59940-u022546.6-050550.5.fits</td><td>193.11948</td><td>17.499353</td><td>1.7182446</td><td>4809.273</td><td>1307.1389</td><td>2.9295957</td><td>1.4529663</td><td>-0.8741909</td><td>1.0371716</td><td>0</td><td>59940</td><td>508</td><td>v6_1_0</td><td>v6_1_0</td><td></td><td>36.444091</td><td>-5.0973553</td><td>0.0</td><td>0.0</td><td>QSO</td><td></td><td>1.3844838</td><td>0.002286237</td><td>0.7959811</td><td>4539</td><td>0.0007853508</td><td>spEigenQSO-58596.fits</td><td>0 .. 9</td><td>0</td><td>-7.480469e-06 .. 0.00059424044</td><td>0.0</td><td>0.0</td><td>0.0</td><td>0.0</td><td>0.0</td><td>0.0</td><td>0</td><td>3601.6372</td><td>10327.613</td><td>0.4549</td><td>132</td><td>0.86009896 .. 0.57791674</td><td>0.60251874</td><td>0.87159383</td><td>0.25148383 .. 0.0</td><td>0.13343592 .. 0.0</td><td>0.11804792 .. 0.0</td><td>-1.191027 .. 0.5548161</td><td>0.35832885 .. 1.1126714</td><td>-1.0531044 .. 0.2856037</td><td>1.8749425 .. 1.9623202</td><td>17.942547 .. 132.30573</td><td>83886081</td><td>256835585</td><td>12.7535515</td><td>48.22551</td><td>41.64344</td><td>0.0</td><td>0.0</td><td>0.0</td><td>0.5927959</td><td>0.00024895364</td><td>6</td><td>132</td><td>GALAXY</td><td></td><td>8.773804e-05</td><td>-2619829278470189056</td></tr>\n",
       "</table>"
      ],
      "text/plain": [
       "<Row index=2657432>\n",
       " PROGRAMNAME      SURVEY    FIELDQUALITY  FIELDSN2  EXP_DISP_MED                                                   FIBERID_LIST                                                  LAMBDA_EFF BLUEFIBER ZOFFSET                                                                                                                            XFOCAL                                                                                                                                                                                                                                                      YFOCAL                                                                                                                           CALIBFLUX  CALIBFLUX_IVAR GAIA_BP GAIA_RP  GAIA_G    CADENCE                      FIRSTCARTON                     CARTON_TO_TARGET_PK    RACAT   DECCAT COORD_EPOCH   PMRA   PMDEC  PARALLAX CATALOGID CATALOGID_V0 CATALOGID_V0P5 GAIA_ID_DR2 FIBER2MAG    PSFMAG   CATDB_MAG         OPTICAL_PROV         OBS   FIELD                                                             DESIGNS                                                                                                                                            CONFIGS                                                                                  NEXP EXPTIME  AIRMASS  SEEING20  SEEING50 SEEING80                         ASSIGNED                                               ON_TARGET                                                 VALID                          HEALPIX HEALPIXGRP                                 HEALPIX_PATH                                     MJD_FINAL                                                                                     MJD_LIST                                                                                                                                                                                                                                      TAI_LIST                                                                                                                                                                                                                    FIELDSNR2G_LIST                                                                                                                                 FIELDSNR2R_LIST                                                                                                                                       FIELDSNR2I_LIST                                                                                                                                                                                                                            RA_LIST                                                                                                                                                                                                                                                                                               DEC_LIST                                                                                                                                                                                         DELTA_RA_LIST                                                                                                   DELTA_DEC_LIST                                                                                                                  MOON_DIST                                                                                                                                   MOON_PHASE                                                                    EBV       EBV_TYPE   WISE_MAG  TWOMASS_MAG GUVCAT_MAG FIBER_OFFSET                 SPEC_FILE                   XCSAO_RV XCSAO_ERV XCSAO_RXC XCSAO_TEFF XCSAO_ETEFF XCSAO_LOGG XCSAO_ELOGG XCSAO_FEH  XCSAO_EFEH SDSSV_BOSS_TARGET0  MJD  TARGET_INDEX RUN2D  RUN1D      OBJTYPE       FIBER_RA FIBER_DEC  PLUG_RA PLUG_DEC CLASS         SUBCLASS           Z        Z_ERR      RCHI2    DOF   RCHI2DIFF            TFILE            TCOLUMN  NPOLY             THETA               VDISP  VDISP_ERR  VDISPZ VDISPZ_ERR VDISPCHI2 VDISPNPIX VDISPDOF  WAVEMIN   WAVEMAX  WCOVERAGE ZWARNING        SN_MEDIAN         SN_MEDIAN_ALL   CHI68P       FRACNSIGMA        FRACNSIGHI        FRACNSIGLO         SPECTROFLUX           SPECTROFLUX_IVAR         SPECTROSYNFLUX      SPECTROSYNFLUX_IVAR       SPECTROSKYFLUX     ANYANDMASK ANYORMASK  SPEC1_G   SPEC1_R  SPEC1_I  SPEC2_G SPEC2_R SPEC2_I  Z_NOQSO   Z_ERR_NOQSO  ZNUM_NOQSO ZWARNING_NOQSO CLASS_NOQSO     SUBCLASS_NOQSO    RCHI2DIFF_NOQSO      SPECOBJID      \n",
       "   bytes13       bytes13       bytes4     float32     float64                                                        bytes111                                                     float32     int32   float32                                                                                                                           bytes251                                                                                                                                                                                                                                                    bytes251                                                                                                                          float32[5]   float32[5]   float32 float32 float32    bytes13                        bytes48                             bytes22         float64 float64   float32   float32 float32 float32    int64      int64         int64         int64    float32[5] float32[5] float32[5]          bytes26           bytes3 int32                                                             bytes125                                                                                                                                           bytes167                                                                                int16  int16   float32  float32   float32  float32                          bytes55                                                 bytes55                                                 bytes55                          int32    int16                                      bytes76                                         float64                                                                                      bytes167                                                                                                                                                                                                                                      bytes307                                                                                                                                                                                                                        bytes139                                                                                                                                        bytes147                                                                                                                                              bytes152                                                                                                                                                                                                                               bytes307                                                                                                                                                                                                                                                                                              bytes279                                                                                                                                                                                            bytes111                                                                                                        bytes111                                                                                                                      bytes139                                                                                                                                    bytes139                                                                   float32     bytes11   float32[4]  float32[3] float32[2]   float32                     bytes42                    float32   float32   float32   float32     float32    float32     float32    float32    float32         int64        int32    int32     bytes6 bytes6     bytes16       float64   float64   float64 float64  bytes6        bytes21         float32    float32    float32  int32   float32            bytes24          int32[10] int32          float32[10]           float32  float32  float32  float32    float32   float32   int32    float32   float32   float32   int32          float32[5]           float32     float32      float32[10]       float32[10]       float32[10]          float32[5]              float32[5]              float32[5]             float32[5]             float32[5]         int32      int32    float32   float32  float32  float32 float32 float32  float32     float32      int32        int32         bytes6          bytes21            float32            int64        \n",
       "------------- ------------- ------------ ---------- ------------ --------------------------------------------------------------------------------------------------------------- ---------- --------- ------- ----------------------------------------------------------------------------------------------------------------------------------------------------------------------------------------------------------------------------------------------------------- ----------------------------------------------------------------------------------------------------------------------------------------------------------------------------------------------------------------------------------------------------------- ---------- -------------- ------- ------- ------- ------------- ------------------------------------------------ ---------------------- ------- ------- ----------- ------- ------- -------- --------- ------------ -------------- ----------- ---------- ---------- ---------- -------------------------- ------ ------ ----------------------------------------------------------------------------------------------------------------------------- ----------------------------------------------------------------------------------------------------------------------------------------------------------------------- ----- ------- --------- -------- --------- -------- ------------------------------------------------------- ------------------------------------------------------- ------------------------------------------------------- ------- ---------- ---------------------------------------------------------------------------- ----------------- ----------------------------------------------------------------------------------------------------------------------------------------------------------------------- ------------------------------------------------------------------------------------------------------------------------------------------------------------------------------------------------------------------------------------------------------------------------------------------------------------------- ------------------------------------------------------------------------------------------------------------------------------------------- --------------------------------------------------------------------------------------------------------------------------------------------------- -------------------------------------------------------------------------------------------------------------------------------------------------------- ------------------------------------------------------------------------------------------------------------------------------------------------------------------------------------------------------------------------------------------------------------------------------------------------------------------- --------------------------------------------------------------------------------------------------------------------------------------------------------------------------------------------------------------------------------------------------------------------------------------- --------------------------------------------------------------------------------------------------------------- --------------------------------------------------------------------------------------------------------------- ------------------------------------------------------------------------------------------------------------------------------------------- ------------------------------------------------------------------------------------------------------------------------------------------- ---------- ----------- ---------- ----------- ---------- ------------ ------------------------------------------ --------- --------- --------- ---------- ----------- ---------- ----------- ---------- ---------- ------------------ ----- ------------ ------ ------ ---------------- --------- ---------- ------- -------- ------ --------------------- --------- ----------- --------- ----- ------------ ------------------------ --------- ----- ------------------------------ ------- --------- ------- ---------- --------- --------- -------- --------- --------- --------- -------- ------------------------ ------------- ---------- ----------------- ----------------- ----------------- ---------------------- ----------------------- ----------------------- ---------------------- ---------------------- ---------- --------- ---------- -------- -------- ------- ------- ------- --------- ------------- ---------- -------------- ----------- --------------------- --------------- --------------------\n",
       "                                    good 12.7535515         -1.0 217 217 217 217                                                                                                         --         0     0.0 146.460 146.460 146.460 146.460                                                                                                                                                                                                                             -18.021 -18.021 -18.021 -18.021                                                                                                                                                                                                                             0.0 .. 0.0     0.0 .. 0.0      --      --      --                                                                                  -999      --      --          --      --      --       --         0            0              0          -1   -- .. --   -- .. --   -- .. --                               APO 112361 109813 109813 109814 109814                                                                                                   8066 8066 8067 8067                                                                                                                                                         4    3600 1.3337468 1.198143 1.2871485 1.474061 0 0 0 0                                                 0 0 0 0                                                 1 1 1 1                                                       0          0                                                                              59940.08030879989 59940 59940 59940 59940                                                                                                                                                 5178821386 5178822370 5178823429 5178824412                                                                                                                                                                                                                                                                         1.22 1.66 1.36 1.46                                                                                                                         5.01 6.22 4.96 5.52                                                                                                                                 3.96 5.16 4.13 4.79                                                                                                                                      36.444091 36.444091 36.444091 36.444091                                                                                                                                                                                                                                                                             -5.097355 -5.097355 -5.097355 -5.097355                                                                                                                                                                                                                                                 0.0 0.0 0.0 0.0                                                                                                 0.0 0.0 0.0 0.0                                                                                                 65.7 65.6 65.4 65.3                                                                                                                         0.19 0.19 0.19 0.19                                                                                                                         0.02895467 SFD           -- .. --    -- .. --   -- .. --          0.0 spec-112361-59940-u022546.6-050550.5.fits  193.11948 17.499353 1.7182446   4809.273   1307.1389  2.9295957   1.4529663 -0.8741909  1.0371716                  0 59940          508 v6_1_0 v6_1_0                  36.444091 -5.0973553     0.0      0.0 QSO                          1.3844838 0.002286237 0.7959811  4539 0.0007853508 spEigenQSO-58596.fits       0 .. 9     0 -7.480469e-06 .. 0.00059424044     0.0       0.0     0.0        0.0       0.0       0.0        0 3601.6372 10327.613    0.4549      132 0.86009896 .. 0.57791674    0.60251874 0.87159383 0.25148383 .. 0.0 0.13343592 .. 0.0 0.11804792 .. 0.0 -1.191027 .. 0.5548161 0.35832885 .. 1.1126714 -1.0531044 .. 0.2856037 1.8749425 .. 1.9623202 17.942547 .. 132.30573   83886081 256835585 12.7535515 48.22551 41.64344     0.0     0.0     0.0 0.5927959 0.00024895364          6            132      GALAXY                          8.773804e-05 -2619829278470189056"
      ]
     },
     "execution_count": 3,
     "metadata": {},
     "output_type": "execute_result"
    }
   ],
   "source": [
    "wd_c1[-2]"
   ]
  },
  {
   "cell_type": "code",
   "execution_count": 4,
   "id": "f4856273-ae55-40ec-8d87-d6f95471bc0d",
   "metadata": {
    "tags": []
   },
   "outputs": [],
   "source": [
    "def strip(catalog):  \n",
    "    drop_cols = []\n",
    "    keep_cols = ['CATALOGID', 'FIBER_RA', 'FIBER_DEC', 'MJD', 'FIELD', 'FIELDSN2' 'SPEC_FILE']\n",
    "        \n",
    "    for key in catalog.keys():\n",
    "        if key not in keep_cols:\n",
    "            drop_cols.append(key)\n",
    "            \n",
    "    catalog.remove_columns(drop_cols)\n",
    "    \n",
    "    return catalog\n",
    "\n",
    "wd_c1 = strip(wd_c1)\n",
    "ms_c1 = wd_c1.copy()"
   ]
  },
  {
   "cell_type": "code",
   "execution_count": 5,
   "id": "8d94dd21-83b8-49e4-adc1-f3889af4e2a8",
   "metadata": {
    "tags": []
   },
   "outputs": [
    {
     "name": "stdout",
     "output_type": "stream",
     "text": [
      "['CATALOGID', 'FIELD', 'MJD', 'FIBER_RA', 'FIBER_DEC']\n"
     ]
    }
   ],
   "source": [
    "print(wd_c1.keys())"
   ]
  },
  {
   "cell_type": "code",
   "execution_count": 6,
   "id": "9153b6f6-700e-426c-9e77-3c66c3268e29",
   "metadata": {
    "tags": []
   },
   "outputs": [
    {
     "name": "stdout",
     "output_type": "stream",
     "text": [
      "['CATALOGID', 'FIELD', 'MJD', 'FIBER_RA', 'FIBER_DEC']\n"
     ]
    }
   ],
   "source": [
    "print(ms_c1.keys())"
   ]
  },
  {
   "cell_type": "code",
   "execution_count": 7,
   "id": "69a3290e-f286-4aee-a822-517cc3ea64e1",
   "metadata": {
    "tags": []
   },
   "outputs": [
    {
     "name": "stderr",
     "output_type": "stream",
     "text": [
      "WARNING: UnitsWarning: 'log(cm.s**-2)' did not parse as fits unit: 'log' is not a recognized function If this is meant to be a custom unit, define it with 'u.def_unit'. To have it recognized inside a file reader or other code, enable it with 'u.add_enabled_units'. For details, see https://docs.astropy.org/en/latest/units/combining_and_defining.html [astropy.units.core]\n"
     ]
    }
   ],
   "source": [
    "catalog = Table.read('data/elbadry.fits.gz')\n",
    "\n",
    "catalog = catalog[catalog['binary_type'] == b'WDMS']"
   ]
  },
  {
   "cell_type": "code",
   "execution_count": null,
   "id": "05193752-2e1a-4329-b955-010624d06fa9",
   "metadata": {},
   "outputs": [],
   "source": [
    "def wd_sep(bp_rp):\n",
    "    return 3.25*bp_rp + 9.625\n",
    "\n",
    "wd_obj = []\n",
    "ms_obj = []\n",
    "drop = []\n",
    "\n",
    "for i in tqdm (range(len(catalog))):\n",
    "    mg1 = wd_sep(catalog['bp_rp1'][i])\n",
    "    mg2 = wd_sep(catalog['bp_rp2'][i])\n",
    "    \n",
    "    M1 = catalog['phot_g_mean_mag1'][i] + 5 * (np.log10(catalog['parallax1'][i] / 100))\n",
    "    M2 = catalog['phot_g_mean_mag2'][i] + 5 * (np.log10(catalog['parallax2'][i] / 100))\n",
    "    \n",
    "    if M1 > mg1 and M2 < mg2:\n",
    "        wd_obj.append(1)\n",
    "        ms_obj.append(2)\n",
    "    elif M2 > mg2 and M1 < mg1:\n",
    "        wd_obj.append(2)\n",
    "        ms_obj.append(1)\n",
    "    else:\n",
    "        drop.append(i)\n",
    "               \n",
    "catalog.remove_rows(drop)\n",
    "catalog['wd_obj'] = wd_obj\n",
    "catalog['ms_obj'] = ms_obj"
   ]
  },
  {
   "cell_type": "code",
   "execution_count": null,
   "id": "935baf72-3af2-4a7b-b289-4252125abcd6",
   "metadata": {},
   "outputs": [],
   "source": [
    "def separate(catalog, column, ms_obj, wd_obj, newname = ''):      \n",
    "    mstemp_arr = [ catalog[str(column) + str(ms_obj[i])][i] for i in range(len(ms_obj)) ]\n",
    "    wdtemp_arr = [ catalog[str(column) + str(wd_obj[i])][i] for i in range(len(wd_obj)) ]\n",
    "    \n",
    "    catalog['ms_' + str(column)] = mstemp_arr\n",
    "    catalog['wd_' + str(column)] = wdtemp_arr\n",
    "    return catalog\n",
    "\n",
    "### ---\n",
    "\n",
    "convert_cols = ['source_id', 'parallax', 'parallax_over_error', 'phot_g_mean_mag', 'phot_g_mean_flux',\n",
    "                'phot_g_mean_flux_error', 'phot_bp_mean_mag', 'phot_bp_mean_flux', 'phot_bp_mean_flux_error',\n",
    "                'phot_rp_mean_mag', 'phot_rp_mean_flux', 'phot_rp_mean_flux_error', 'bp_rp', 'ra', 'ra_error', 'dec', 'dec_error', 'l', 'b']\n",
    "\n",
    "for col in convert_cols:\n",
    "    catalog = separate(catalog, col, ms_obj, wd_obj)\n",
    "    \n",
    "catalog['wd_m_g'] = catalog['wd_phot_g_mean_mag'] + 5 * np.log10(catalog['wd_parallax'] / 100)\n",
    "catalog['ms_m_g'] = catalog['ms_phot_g_mean_mag'] + 5 * np.log10(catalog['ms_parallax'] / 100)"
   ]
  },
  {
   "cell_type": "code",
   "execution_count": null,
   "id": "ecb6e4fc-3a32-457e-9c4a-51a29bfd2c38",
   "metadata": {
    "tags": []
   },
   "outputs": [],
   "source": [
    "from astropy.table import unique, Table\n",
    "\n",
    "wd_c1['wd_pos'] = SkyCoord(wd_c1['FIBER_RA'], wd_c1['FIBER_DEC'], unit='deg')\n",
    "ms_c1['ms_pos'] = SkyCoord(ms_c1['FIBER_RA'], ms_c1['FIBER_DEC'], unit='deg')\n",
    "\n",
    "catalog['wd_pos'] = SkyCoord(catalog['wd_ra'], catalog['wd_dec'], unit='deg')\n",
    "catalog['ms_pos'] = SkyCoord(catalog['ms_ra'], catalog['ms_dec'], unit='deg')"
   ]
  },
  {
   "cell_type": "code",
   "execution_count": null,
   "id": "cccb40e4-5b11-4369-8303-b9e1bc0c496e",
   "metadata": {
    "tags": []
   },
   "outputs": [],
   "source": [
    "wd_c1[['wd_pos']]"
   ]
  },
  {
   "cell_type": "code",
   "execution_count": null,
   "id": "531dba41-435a-473b-a902-17444e08227c",
   "metadata": {
    "tags": []
   },
   "outputs": [],
   "source": [
    "# Join WDs in SDSS-5\n",
    "wd_catalog = unique(join(catalog, wd_c1, join_funcs={'wd_pos': join_skycoord(1 * u.arcsecond)}), keys = 'wd_pos_id')\n",
    "for key in wd_c1.keys():\n",
    "    if key != 'wd_pos':\n",
    "        wd_catalog.rename_column(key, 'wd_' + key)\n",
    "\n",
    "# Join MS in SDSS-5\n",
    "ms_catalog = unique(join(catalog, ms_c1, join_funcs={'ms_pos': join_skycoord(1 * u.arcsecond)}), keys = 'ms_pos_id')\n",
    "for key in ms_c1.keys():\n",
    "    if key != 'ms_pos':\n",
    "        ms_catalog.rename_column(key, 'ms_' + key)\n",
    "\n",
    "for key in catalog.keys():\n",
    "    if key != 'ms_source_id':\n",
    "        try:\n",
    "            ms_catalog.remove_column(key)\n",
    "        except:\n",
    "            ms_catalog.remove_column(key + '_1')\n",
    "            ms_catalog.rename_column(key + '_2', key)\n",
    "ms_sdss5_wd_sdss5 = join(wd_catalog, ms_catalog, keys = 'ms_source_id')"
   ]
  },
  {
   "cell_type": "code",
   "execution_count": null,
   "id": "4f8915d9-ef4a-4a0c-895c-32310b383d10",
   "metadata": {
    "tags": []
   },
   "outputs": [],
   "source": [
    "ms_sdss5_wd_sdss5"
   ]
  },
  {
   "cell_type": "code",
   "execution_count": null,
   "id": "20da9b47-5990-4041-a890-d45878133cdd",
   "metadata": {
    "tags": []
   },
   "outputs": [],
   "source": [
    "from astropy.table import Table, vstack, hstack\n",
    "\n",
    "from astroquery.sdss import SDSS\n",
    "from astroquery.gaia import Gaia\n",
    "from astropy import constants as c\n",
    "\n",
    "# Fetch targets with MS RVs in Gaia\n",
    "\n",
    "ADQL_CODE1 = \"\"\"SELECT sdss.original_ext_source_id as ms_bestobjid, gaia.source_id as ms_source_id, gaia.radial_velocity, gaia.radial_velocity_error\n",
    "    FROM gaiadr3.gaia_source as gaia\n",
    "    JOIN gaiaedr3.sdssdr13_best_neighbour as sdss\n",
    "    ON gaia.source_id = sdss.source_id      \n",
    "    WHERE gaia.source_id in {} AND\n",
    "    radial_velocity IS NOT null AND\n",
    "    radial_velocity_error < 2\"\"\".format(tuple(wd_catalog['ms_source_id']))\n",
    "d1 = (Gaia.launch_job(ADQL_CODE1,dump_to_file=False).get_results())\n",
    "ms_gaia_wd_sdss5 = join(wd_catalog, d1, keys = 'ms_source_id')\n",
    "    \n",
    "# Fetch targets with MS spectra in SDSS-4\n",
    "\n",
    "ADQL_CODE1 = \"\"\"SELECT sdss.original_ext_source_id as ms_bestobjid, gaia.source_id as ms_source_id, gaia.radial_velocity, gaia.radial_velocity_error\n",
    "    FROM gaiadr3.gaia_source as gaia\n",
    "    JOIN gaiaedr3.sdssdr13_best_neighbour as sdss\n",
    "    ON gaia.source_id = sdss.source_id      \n",
    "    WHERE gaia.source_id in {}\"\"\".format(tuple(wd_catalog['ms_source_id']))\n",
    "gd2 = Gaia.launch_job(ADQL_CODE1,dump_to_file=False).get_results() \n",
    "\n",
    "stardats = []\n",
    "iters = len(gd2) // 100\n",
    "\n",
    "for i in tqdm(range(iters)):\n",
    "    SDSS_QUERY = \"\"\"select sp.bestObjID as ms_bestobjid, sp.plate as ms_plate, sp.mjd as ms_mjd, sp.fiberID as ms_fiberid\n",
    "        from dbo.SpecObjAll as sp\n",
    "        where sp.bestObjID in {}\"\"\".format(tuple(gd2['ms_bestobjid'][100*i:100*i+100]))\n",
    "    \n",
    "    f = SDSS.query_sql(SDSS_QUERY)\n",
    "    if f is not None:\n",
    "        stardats.append(SDSS.query_sql(SDSS_QUERY))\n",
    "\n",
    "d2 = vstack(stardats)\n",
    "\n",
    "for key in d2.keys():\n",
    "    d2.rename_column(key, 'ms_' + key)\n",
    "\n",
    "d2 = join(d2, gd2, keys = 'ms_bestobjid')\n",
    "ms_sdss4_wd_sdss5 = join(wd_catalog, d2, keys = 'ms_source_id')\n",
    "#except:\n",
    "#    print('No objects with MS spectra in SDSS-4 and WD spectra in SDSS-5')\n",
    "#    ms_sdss4_wd_sdss5 = [0]\n",
    "#ms_in_sdss4 = unique(d2, keys = 'wd_bestobjid')"
   ]
  },
  {
   "cell_type": "code",
   "execution_count": null,
   "id": "a77bd49f-d7f2-446d-b436-076a5f96cd6a",
   "metadata": {
    "tags": []
   },
   "outputs": [],
   "source": [
    "ms_sdss5_wd_sdss4 = Table.read('sdss5/temp_ms_sdss5_wd_sdss4.fits')\n",
    "ms_sdss5_wd_sdss4['ms_pos'] = SkyCoord(ms_sdss5_wd_sdss4['ms_ra'], ms_sdss5_wd_sdss4['ms_dec'], unit='deg')\n",
    "\n",
    "ms_sdss5_wd_sdss4 = unique(join(ms_sdss5_wd_sdss4, ms_c1, join_funcs={'ms_pos': join_skycoord(1 * u.arcsecond)}), keys = 'ms_pos_id')\n",
    "for key in ms_c1.keys():\n",
    "    if key != 'ms_pos':\n",
    "        ms_sdss5_wd_sdss4.rename_column(key, 'ms_' + key)"
   ]
  },
  {
   "cell_type": "code",
   "execution_count": null,
   "id": "b6e5e721-0aa7-4f27-a138-0ec51cb46e20",
   "metadata": {
    "tags": []
   },
   "outputs": [],
   "source": [
    "ms_gaia_wd_sdss5"
   ]
  },
  {
   "cell_type": "code",
   "execution_count": null,
   "id": "e377f7c5-1095-4dd8-b4b1-f8b1888aa074",
   "metadata": {
    "tags": []
   },
   "outputs": [],
   "source": [
    "# MS Gaia, WD SDSS-V\n",
    "\n",
    "ms_gaia_wd_sdss5['wd_filepath'] =  ms_gaia_wd_sdss5['wd_SPEC_FILE']\n",
    "ms_gaia_wd_sdss5['wd_plate'] = ms_gaia_wd_sdss5['wd_FIELD']\n",
    "ms_gaia_wd_sdss5['wd_mjd'] = ms_gaia_wd_sdss5['wd_MJD']\n",
    "ms_gaia_wd_sdss5['wd_fiberid'] = ms_gaia_wd_sdss5['wd_CATALOGID']\n",
    "\n",
    "ms_gaia_wd_sdss5['uses_sdss5'] = np.ones(len(ms_gaia_wd_sdss5))\n",
    "ms_gaia_wd_sdss5['wd_rv_from'] = ['sdss5' for i in range(len(ms_gaia_wd_sdss5))]\n",
    "ms_gaia_wd_sdss5['ms_rv_from'] = ['gaia' for i in range(len(ms_gaia_wd_sdss5))]\n",
    "\n",
    "# MS SDSS-IV, WD SDSS-V\n",
    "\n",
    "ms_sdss4_wd_sdss5['wd_filepath'] =  ms_sdss4_wd_sdss5['wd_SPEC_FILE']\n",
    "ms_sdss4_wd_sdss5['wd_plate'] = ms_sdss4_wd_sdss5['wd_FIELD']\n",
    "ms_sdss4_wd_sdss5['wd_mjd'] = ms_sdss4_wd_sdss5['wd_MJD']\n",
    "ms_sdss4_wd_sdss5['wd_fiberid'] = ms_sdss4_wd_sdss5['wd_CATALOGID']\n",
    "\n",
    "ms_sdss4_wd_sdss5['uses_sdss5'] = np.ones(len(ms_sdss4_wd_sdss5))\n",
    "ms_sdss4_wd_sdss5['wd_rv_from'] = ['sdss5' for i in range(len(ms_sdss4_wd_sdss5))]\n",
    "ms_sdss4_wd_sdss5['ms_rv_from'] = ['sdss4' for i in range(len(ms_sdss4_wd_sdss5))]\n",
    "\n",
    "# MS SDSS-V, WD SDSS-V\n",
    "\n",
    "ms_sdss5_wd_sdss5['ms_filepath'] =  ms_sdss5_wd_sdss5['ms_SPEC_FILE']\n",
    "ms_sdss5_wd_sdss5['ms_plate'] = ms_sdss5_wd_sdss5['ms_FIELD']\n",
    "ms_sdss5_wd_sdss5['ms_mjd'] = ms_sdss5_wd_sdss5['ms_MJD']\n",
    "ms_sdss5_wd_sdss5['ms_fiberid'] = ms_sdss5_wd_sdss5['wd_CATALOGID']\n",
    "\n",
    "ms_sdss5_wd_sdss5['wd_filepath'] =  ms_sdss5_wd_sdss5['wd_SPEC_FILE']\n",
    "ms_sdss5_wd_sdss5['wd_plate'] = ms_sdss5_wd_sdss5['wd_FIELD']\n",
    "ms_sdss5_wd_sdss5['wd_mjd'] = ms_sdss5_wd_sdss5['wd_MJD']\n",
    "ms_sdss5_wd_sdss5['wd_fiberid'] = ms_sdss5_wd_sdss5['wd_CATALOGID']\n",
    "\n",
    "ms_sdss5_wd_sdss5['uses_sdss5'] = np.ones(len(ms_sdss5_wd_sdss5))\n",
    "ms_sdss5_wd_sdss5['wd_rv_from'] = ['sdss5' for i in range(len(ms_sdss5_wd_sdss5))]\n",
    "ms_sdss5_wd_sdss5['ms_rv_from'] = ['sdss5' for i in range(len(ms_sdss5_wd_sdss5))]\n",
    "\n",
    "# MS SDSS-V, WD SDSS-IV\n",
    "\n",
    "ms_sdss5_wd_sdss4['ms_filepath'] =  ms_sdss5_wd_sdss4['ms_SPEC_FILE']\n",
    "ms_sdss5_wd_sdss4['ms_plate'] = ms_sdss5_wd_sdss4['ms_FIELD']\n",
    "ms_sdss5_wd_sdss4['ms_mjd'] = ms_sdss5_wd_sdss4['ms_MJD']\n",
    "ms_sdss5_wd_sdss4['ms_fiberid'] = ms_sdss5_wd_sdss4['ms_CATALOGID']\n",
    "\n",
    "ms_sdss5_wd_sdss4['uses_sdss5'] = np.ones(len(ms_sdss5_wd_sdss4))\n",
    "ms_sdss5_wd_sdss4['wd_rv_from'] = ['sdss4' for i in range(len(ms_sdss5_wd_sdss4))]\n",
    "ms_sdss5_wd_sdss4['ms_rv_from'] = ['sdss5' for i in range(len(ms_sdss5_wd_sdss4))]\n",
    "\n",
    "# Write Catalogs\n",
    "\n",
    "ms_gaia_wd_sdss5.write('sdss5/ms_gaia_wd_sdss5.fits', overwrite = True)\n",
    "ms_sdss4_wd_sdss5.write('sdss5/ms_sdss4_wd_sdss5.fits', overwrite = True)\n",
    "ms_sdss5_wd_sdss5.write('sdss5/ms_sdss5_wd_sdss5.fits', overwrite = True)\n",
    "ms_sdss5_wd_sdss4.write('sdss5/ms_sdss5_wd_sdss4.fits', overwrite = True)"
   ]
  },
  {
   "cell_type": "code",
   "execution_count": null,
   "id": "f8197c87-454c-459b-aa80-da73da1a1728",
   "metadata": {
    "tags": []
   },
   "outputs": [],
   "source": [
    "print(len(ms_gaia_wd_sdss5))\n",
    "print(len(unique(ms_gaia_wd_sdss5, keys = 'wd_source_id')))\n",
    "\n",
    "print(len(ms_sdss4_wd_sdss5))\n",
    "print(len(unique(ms_sdss4_wd_sdss5, keys = 'wd_source_id')))\n",
    "\n",
    "print(len(ms_sdss5_wd_sdss5))\n",
    "print(len(unique(ms_sdss5_wd_sdss5, keys = 'wd_source_id')))\n",
    "\n",
    "print(len(ms_sdss5_wd_sdss4))\n",
    "print(len(unique(ms_sdss5_wd_sdss4, keys = 'wd_source_id')))"
   ]
  },
  {
   "cell_type": "code",
   "execution_count": null,
   "id": "93dc9324-ccc9-49e0-8448-3d4e0dfcf72d",
   "metadata": {
    "tags": []
   },
   "outputs": [],
   "source": [
    "ms_gaia_wd_sdss5"
   ]
  },
  {
   "cell_type": "code",
   "execution_count": null,
   "id": "63cd48c3-7349-4a70-a731-39eb696a9e31",
   "metadata": {},
   "outputs": [],
   "source": []
  }
 ],
 "metadata": {
  "kernelspec": {
   "display_name": "Python 3 (ipykernel)",
   "language": "python",
   "name": "python3"
  },
  "language_info": {
   "codemirror_mode": {
    "name": "ipython",
    "version": 3
   },
   "file_extension": ".py",
   "mimetype": "text/x-python",
   "name": "python",
   "nbconvert_exporter": "python",
   "pygments_lexer": "ipython3",
   "version": "3.9.13"
  }
 },
 "nbformat": 4,
 "nbformat_minor": 5
}
