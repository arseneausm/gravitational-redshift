{
 "cells": [
  {
   "cell_type": "code",
   "execution_count": 1,
   "id": "f7970d5e-2282-4605-9141-2ca74e10fb0e",
   "metadata": {
    "tags": []
   },
   "outputs": [],
   "source": [
    "import sys\n",
    "sys.path.append('../')\n",
    "sys.path.append('../WD_models')\n",
    "\n",
    "### General\n",
    "import numpy as np\n",
    "import matplotlib.pyplot as plt\n",
    "import matplotlib.colors as colors\n",
    "\n",
    "from astropy.io import fits\n",
    "from astropy.table import Table, Column, MaskedColumn, join, unique\n",
    "from astropy.table import vstack\n",
    "\n",
    "from tqdm import tqdm\n",
    "import pandas as pd\n",
    "import WD_models"
   ]
  },
  {
   "cell_type": "code",
   "execution_count": 2,
   "id": "0b161c02-a86d-43dc-821f-d64068963136",
   "metadata": {},
   "outputs": [
    {
     "name": "stderr",
     "output_type": "stream",
     "text": [
      "WARNING: UnitsWarning: 'log(cm.s**-2)' did not parse as fits unit: 'log' is not a recognized function If this is meant to be a custom unit, define it with 'u.def_unit'. To have it recognized inside a file reader or other code, enable it with 'u.add_enabled_units'. For details, see https://docs.astropy.org/en/latest/units/combining_and_defining.html [astropy.units.core]\n"
     ]
    }
   ],
   "source": [
    "from astropy.table import Table, join_skycoord\n",
    "from astropy.coordinates import SkyCoord\n",
    "from astropy import table\n",
    "import astropy.units as u\n",
    "\n",
    "wd_c1 = Table.read('sdss5/spAll-v6_0_4.fits')\n",
    "ms_c1 = Table.read('sdss5/spAll-v6_0_4.fits')\n",
    "catalog = Table.read('data/elbadry.fits.gz')\n",
    "\n",
    "catalog = catalog[catalog['binary_type'] == b'WDMS']"
   ]
  },
  {
   "cell_type": "code",
   "execution_count": 3,
   "id": "05193752-2e1a-4329-b955-010624d06fa9",
   "metadata": {},
   "outputs": [
    {
     "name": "stderr",
     "output_type": "stream",
     "text": [
      "100%|██████████████████████████████████████████████████████████████████████████| 22563/22563 [00:00<00:00, 53516.15it/s]\n"
     ]
    }
   ],
   "source": [
    "def wd_sep(bp_rp):\n",
    "    return 3.25*bp_rp + 9.625\n",
    "\n",
    "wd_obj = []\n",
    "ms_obj = []\n",
    "drop = []\n",
    "\n",
    "for i in tqdm (range(len(catalog))):\n",
    "    mg1 = wd_sep(catalog['bp_rp1'][i])\n",
    "    mg2 = wd_sep(catalog['bp_rp2'][i])\n",
    "    \n",
    "    M1 = catalog['phot_g_mean_mag1'][i] + 5 * (np.log10(catalog['parallax1'][i] / 100))\n",
    "    M2 = catalog['phot_g_mean_mag2'][i] + 5 * (np.log10(catalog['parallax2'][i] / 100))\n",
    "    \n",
    "    if M1 > mg1 and M2 < mg2:\n",
    "        wd_obj.append(1)\n",
    "        ms_obj.append(2)\n",
    "    elif M2 > mg2 and M1 < mg1:\n",
    "        wd_obj.append(2)\n",
    "        ms_obj.append(1)\n",
    "    else:\n",
    "        drop.append(i)\n",
    "               \n",
    "catalog.remove_rows(drop)\n",
    "catalog['wd_obj'] = wd_obj\n",
    "catalog['ms_obj'] = ms_obj"
   ]
  },
  {
   "cell_type": "code",
   "execution_count": 4,
   "id": "935baf72-3af2-4a7b-b289-4252125abcd6",
   "metadata": {},
   "outputs": [],
   "source": [
    "def separate(catalog, column, ms_obj, wd_obj, newname = ''):      \n",
    "    mstemp_arr = [ catalog[str(column) + str(ms_obj[i])][i] for i in range(len(ms_obj)) ]\n",
    "    wdtemp_arr = [ catalog[str(column) + str(wd_obj[i])][i] for i in range(len(wd_obj)) ]\n",
    "    \n",
    "    catalog['ms_' + str(column)] = mstemp_arr\n",
    "    catalog['wd_' + str(column)] = wdtemp_arr\n",
    "    return catalog\n",
    "\n",
    "### ---\n",
    "\n",
    "convert_cols = ['source_id', 'parallax', 'parallax_over_error', 'phot_g_mean_mag', 'phot_g_mean_flux',\n",
    "                'phot_g_mean_flux_error', 'phot_bp_mean_mag', 'phot_bp_mean_flux', 'phot_bp_mean_flux_error',\n",
    "                'phot_rp_mean_mag', 'phot_rp_mean_flux', 'phot_rp_mean_flux_error', 'bp_rp', 'ra', 'ra_error', 'dec', 'dec_error', 'l', 'b']\n",
    "\n",
    "for col in convert_cols:\n",
    "    catalog = separate(catalog, col, ms_obj, wd_obj)\n",
    "    \n",
    "catalog['wd_m_g'] = catalog['wd_phot_g_mean_mag'] + 5 * np.log10(catalog['wd_parallax'] / 100)\n",
    "catalog['ms_m_g'] = catalog['ms_phot_g_mean_mag'] + 5 * np.log10(catalog['ms_parallax'] / 100)"
   ]
  },
  {
   "cell_type": "code",
   "execution_count": 5,
   "id": "ecb6e4fc-3a32-457e-9c4a-51a29bfd2c38",
   "metadata": {
    "tags": []
   },
   "outputs": [],
   "source": [
    "from astropy.table import unique, Table\n",
    "\n",
    "wd_c1['wd_pos'] = SkyCoord(wd_c1['PLUG_RA'], wd_c1['PLUG_DEC'], unit='deg')\n",
    "ms_c1['ms_pos'] = SkyCoord(ms_c1['PLUG_RA'], ms_c1['PLUG_DEC'], unit='deg')\n",
    "\n",
    "catalog['wd_pos'] = SkyCoord(catalog['wd_ra'], catalog['wd_dec'], unit='deg')\n",
    "catalog['ms_pos'] = SkyCoord(catalog['ms_ra'], catalog['ms_dec'], unit='deg')\n",
    "\n",
    "# Join WDs in SDSS-5\n",
    "join_func = table.join_skycoord(5 * u.arcsecond)\n",
    "wd_catalog = unique(join(catalog, wd_c1, join_funcs={'wd_pos': join_skycoord(2 * u.arcsecond)}), keys = 'wd_pos_id')\n",
    "for key in wd_c1.keys():\n",
    "    if key != 'wd_pos':\n",
    "        wd_catalog.rename_column(key, 'wd_' + key)\n",
    "\n",
    "# Join MS in SDSS-5\n",
    "#ms_catalog = unique(join(catalog, ms_c1, join_funcs={'ms_pos': join_skycoord(2 * u.arcsecond)}), keys = 'ms_pos_id')\n",
    "#for key in ms_c1.keys():\n",
    "#    if key != 'ms_pos':\n",
    "#        ms_catalog.rename_column(key, 'ms_' + key)\n",
    "#\n",
    "#for key in catalog.keys():\n",
    "#    if key != 'ms_source_id':\n",
    "#        try:\n",
    "#            ms_catalog.remove_column(key)\n",
    "#        except:\n",
    "#            ms_catalog.remove_column(key + '_1')\n",
    "#            ms_catalog.rename_column(key + '_2', key)\n",
    "#ms_sdss5_wd_sdss5 = join(wd_catalog, ms_catalog, keys = 'ms_source_id')"
   ]
  },
  {
   "cell_type": "code",
   "execution_count": 6,
   "id": "20da9b47-5990-4041-a890-d45878133cdd",
   "metadata": {
    "tags": []
   },
   "outputs": [
    {
     "name": "stdout",
     "output_type": "stream",
     "text": [
      "No objects with MS spectra in SDSS-4 and WD spectra in SDSS-5\n"
     ]
    }
   ],
   "source": [
    "from astropy.table import Table, vstack, hstack\n",
    "\n",
    "from astroquery.sdss import SDSS\n",
    "from astroquery.gaia import Gaia\n",
    "from astropy import constants as c\n",
    "\n",
    "# Fetch targets with MS RVs in Gaia\n",
    "\n",
    "ADQL_CODE1 = \"\"\"SELECT sdss.original_ext_source_id as ms_bestobjid, gaia.source_id as ms_source_id, gaia.radial_velocity, gaia.radial_velocity_error\n",
    "    FROM gaiadr3.gaia_source as gaia\n",
    "    JOIN gaiaedr3.sdssdr13_best_neighbour as sdss\n",
    "    ON gaia.source_id = sdss.source_id      \n",
    "    WHERE gaia.source_id in {} AND\n",
    "    radial_velocity IS NOT null AND\n",
    "    radial_velocity_error < 2\"\"\".format(tuple(wd_catalog['ms_source_id']))\n",
    "d1 = (Gaia.launch_job(ADQL_CODE1,dump_to_file=False).get_results())\n",
    "ms_gaia_wd_sdss5 = join(wd_catalog, d1, keys = 'ms_source_id')\n",
    "    \n",
    "# Fetch targets with MS spectra in SDSS-4\n",
    "\n",
    "ADQL_CODE1 = \"\"\"SELECT sdss.original_ext_source_id as ms_bestobjid, gaia.source_id as ms_source_id, gaia.radial_velocity, gaia.radial_velocity_error\n",
    "    FROM gaiadr3.gaia_source as gaia\n",
    "    JOIN gaiaedr3.sdssdr13_best_neighbour as sdss\n",
    "    ON gaia.source_id = sdss.source_id      \n",
    "    WHERE gaia.source_id in {}\"\"\".format(tuple(wd_catalog['ms_source_id']))\n",
    "gd2 = Gaia.launch_job(ADQL_CODE1,dump_to_file=False).get_results()\n",
    "\n",
    "SDSS_QUERY = \"\"\"select sp.bestObjID as ms_bestobjid, sp.plate as ms_plate, sp.mjd as ms_mjd, sp.fiberID as ms_fiberid\n",
    "        from dbo.SpecObjAll as sp\n",
    "        where sp.bestObjID in {}\"\"\".format(tuple(gd2['ms_bestobjid']))\n",
    "d2 = SDSS.query_sql(SDSS_QUERY)   \n",
    "try:\n",
    "    d2 = join(d2, gd2, keys = 'ms_bestobjid')\n",
    "    ms_sdss4_wd_sdss5 = join(wd_catalog, d2, keys = 'ms_source_id')\n",
    "except:\n",
    "    print('No objects with MS spectra in SDSS-4 and WD spectra in SDSS-5')\n",
    "    ms_sdss4_wd_sdss5 = [0]\n",
    "#ms_in_sdss4 = unique(d2, keys = 'wd_bestobjid')"
   ]
  },
  {
   "cell_type": "code",
   "execution_count": 7,
   "id": "a77bd49f-d7f2-446d-b436-076a5f96cd6a",
   "metadata": {
    "tags": []
   },
   "outputs": [],
   "source": [
    "#ms_sdss5_wd_sdss4 = Table.read('sdss5/temp_ms_sdss5_wd_sdss4.fits')\n",
    "#ms_sdss5_wd_sdss4['ms_pos'] = SkyCoord(ms_sdss5_wd_sdss4['ms_ra'], ms_sdss5_wd_sdss4['ms_dec'], unit='deg')\n",
    "#\n",
    "#ms_sdss5_wd_sdss4 = unique(join(ms_sdss5_wd_sdss4, ms_c1, join_funcs={'ms_pos': join_skycoord(2 * u.arcsecond)}), keys = 'ms_pos_id')\n",
    "#for key in ms_c1.keys():\n",
    "#    if key != 'ms_pos':\n",
    "#        ms_sdss5_wd_sdss4.rename_column(key, 'ms_' + key)"
   ]
  },
  {
   "cell_type": "code",
   "execution_count": 8,
   "id": "59ccf0ba-5ea8-48bf-ba81-c1f0c8ffa97d",
   "metadata": {},
   "outputs": [],
   "source": [
    "#ms_sdss5_wd_sdss4['ms_PLATE']"
   ]
  },
  {
   "cell_type": "code",
   "execution_count": 9,
   "id": "e377f7c5-1095-4dd8-b4b1-f8b1888aa074",
   "metadata": {
    "tags": []
   },
   "outputs": [
    {
     "name": "stderr",
     "output_type": "stream",
     "text": [
      "WARNING: UnitsWarning: 'log(cm.s**-2)' did not parse as fits unit: 'log' is not a recognized function If this is meant to be a custom unit, define it with 'u.def_unit'. To have it recognized inside a file reader or other code, enable it with 'u.add_enabled_units'. For details, see https://docs.astropy.org/en/latest/units/combining_and_defining.html [astropy.units.core]\n"
     ]
    }
   ],
   "source": [
    "ms_gaia_wd_sdss5['wd_plate'] = ms_gaia_wd_sdss5['wd_PLATE']\n",
    "ms_gaia_wd_sdss5['wd_mjd'] = ms_gaia_wd_sdss5['wd_FIBERID']\n",
    "ms_gaia_wd_sdss5['wd_fiberid'] = ms_gaia_wd_sdss5['wd_MJD']\n",
    "\n",
    "ms_gaia_wd_sdss5['wd_uses_sdss5'] = np.ones(len(ms_gaia_wd_sdss5))\n",
    "ms_gaia_wd_sdss5['ms_uses_sdss5'] = np.zeros(len(ms_gaia_wd_sdss5))\n",
    "\n",
    "#ms_sdss4_wd_sdss5['wd_uses_sdss5'] = np.zeros(len(ms_sdss4_wd_sdss5))\n",
    "#ms_sdss4_wd_sdss5['ms_uses_sdss5'] = np.ones(len(ms_sdss4_wd_sdss5))\n",
    "\n",
    "#ms_sdss5_wd_sdss5['ms_plate'] = ms_sdss5_wd_sdss5['ms_PLATE']\n",
    "#ms_sdss5_wd_sdss5['ms_mjd'] = ms_sdss5_wd_sdss5['ms_FIBERID']\n",
    "#ms_sdss5_wd_sdss5['ms_fiberid'] = ms_sdss5_wd_sdss5['ms_MJD']\n",
    "#\n",
    "#ms_sdss5_wd_sdss5['wd_plate'] = ms_sdss5_wd_sdss5['wd_PLATE']\n",
    "#ms_sdss5_wd_sdss5['wd_mjd'] = ms_sdss5_wd_sdss5['wd_FIBERID']\n",
    "#ms_sdss5_wd_sdss5['wd_fiberid'] = ms_sdss5_wd_sdss5['wd_MJD']\n",
    "#\n",
    "#ms_sdss5_wd_sdss5['wd_uses_sdss5'] = np.ones(len(ms_sdss5_wd_sdss5))\n",
    "#ms_sdss5_wd_sdss5['ms_uses_sdss5'] = np.ones(len(ms_sdss5_wd_sdss5))\n",
    "\n",
    "#ms_sdss5_wd_sdss4['ms_plate'] = ms_sdss5_wd_sdss4['ms_PLATE']\n",
    "#ms_sdss5_wd_sdss4['ms_mjd'] = ms_sdss5_wd_sdss4['ms_FIBERID']\n",
    "#ms_sdss5_wd_sdss4['ms_fiberid'] = ms_sdss5_wd_sdss4['ms_MJD']\n",
    "#\n",
    "#ms_sdss5_wd_sdss4['wd_uses_sdss5'] = np.zeros(len(ms_sdss5_wd_sdss4))\n",
    "#ms_sdss5_wd_sdss4['ms_uses_sdss5'] = np.ones(len(ms_sdss5_wd_sdss4))\n",
    "\n",
    "ms_gaia_wd_sdss5.write('sdss5/ms_gaia_wd_sdss5.fits', overwrite = True)\n",
    "#ms_sdss4_wd_sdss5.write('sdss5/ms_sdss4_wd_sdss5.fits', overwrite = True) Commented cuz we don't have any\n",
    "#ms_sdss5_wd_sdss5.write('sdss5/ms_sdss5_wd_sdss5.fits', overwrite = True)\n",
    "#ms_sdss5_wd_sdss4.write('sdss5/ms_sdss5_wd_sdss4.fits', overwrite = True)"
   ]
  },
  {
   "cell_type": "code",
   "execution_count": 10,
   "id": "f8197c87-454c-459b-aa80-da73da1a1728",
   "metadata": {
    "tags": []
   },
   "outputs": [],
   "source": [
    "reference = Table.read('data/01_data.fits')"
   ]
  },
  {
   "cell_type": "code",
   "execution_count": 11,
   "id": "93dc9324-ccc9-49e0-8448-3d4e0dfcf72d",
   "metadata": {
    "tags": []
   },
   "outputs": [
    {
     "data": {
      "text/html": [
       "<div><i>Table length=3</i>\n",
       "<table id=\"table140616017794000\" class=\"table-striped table-bordered table-condensed\">\n",
       "<thead><tr><th>wd_mjd</th><th>wd_plate</th><th>wd_fiberid</th><th>wd_CATALOGID</th></tr></thead>\n",
       "<thead><tr><th>int32</th><th>int16</th><th>int32</th><th>int64</th></tr></thead>\n",
       "<tr><td>45</td><td>15143</td><td>59205</td><td>4544964384</td></tr>\n",
       "<tr><td>423</td><td>15155</td><td>59256</td><td>4592515003</td></tr>\n",
       "<tr><td>298</td><td>15269</td><td>59280</td><td>4592938937</td></tr>\n",
       "</table></div>"
      ],
      "text/plain": [
       "<Table length=3>\n",
       "wd_mjd wd_plate wd_fiberid wd_CATALOGID\n",
       "int32   int16     int32       int64    \n",
       "------ -------- ---------- ------------\n",
       "    45    15143      59205   4544964384\n",
       "   423    15155      59256   4592515003\n",
       "   298    15269      59280   4592938937"
      ]
     },
     "execution_count": 11,
     "metadata": {},
     "output_type": "execute_result"
    }
   ],
   "source": [
    "ms_gaia_wd_sdss5[['wd_mjd', 'wd_plate', 'wd_fiberid', 'wd_CATALOGID']]"
   ]
  },
  {
   "cell_type": "code",
   "execution_count": null,
   "id": "63cd48c3-7349-4a70-a731-39eb696a9e31",
   "metadata": {},
   "outputs": [],
   "source": []
  }
 ],
 "metadata": {
  "kernelspec": {
   "display_name": "Python 3 (ipykernel)",
   "language": "python",
   "name": "python3"
  },
  "language_info": {
   "codemirror_mode": {
    "name": "ipython",
    "version": 3
   },
   "file_extension": ".py",
   "mimetype": "text/x-python",
   "name": "python",
   "nbconvert_exporter": "python",
   "pygments_lexer": "ipython3",
   "version": "3.9.13"
  }
 },
 "nbformat": 4,
 "nbformat_minor": 5
}
