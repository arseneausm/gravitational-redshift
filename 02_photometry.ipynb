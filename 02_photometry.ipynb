{
 "cells": [
  {
   "cell_type": "code",
   "execution_count": 1,
   "id": "95c92e98",
   "metadata": {},
   "outputs": [
    {
     "name": "stderr",
     "output_type": "stream",
     "text": [
      "2022-07-04 09:59:20.675498: W tensorflow/stream_executor/platform/default/dso_loader.cc:64] Could not load dynamic library 'libcudart.so.11.0'; dlerror: libcudart.so.11.0: cannot open shared object file: No such file or directory\n",
      "2022-07-04 09:59:20.675518: I tensorflow/stream_executor/cuda/cudart_stub.cc:29] Ignore above cudart dlerror if you do not have a GPU set up on your machine.\n"
     ]
    },
    {
     "name": "stdout",
     "output_type": "stream",
     "text": [
      "Please install galpy if you want to use the gaia module. otherwise, ignore this.\n",
      "could not find pickled WD models\n",
      "using local paths\n",
      "star and exposure catalogs not found! check paths and run make_catalogs() if you want to use sdss functionality. otherwise ignore.\n"
     ]
    }
   ],
   "source": [
    "# Install a pip package in the current Jupyter kernel\n",
    "import sys\n",
    "import os\n",
    "sys.path.append('../')\n",
    "sys.path.append('../wdtools')\n",
    "sys.path.append('../corv/src')\n",
    "\n",
    "### General\n",
    "import numpy as np\n",
    "import matplotlib.pyplot as plt\n",
    "import matplotlib.colors as colors\n",
    "\n",
    "import astropy\n",
    "from astropy.coordinates import SkyCoord\n",
    "from astropy.io import fits\n",
    "import astropy.units as u\n",
    "from astropy.table import Table, Column, MaskedColumn, join\n",
    "\n",
    "from tqdm import tqdm\n",
    "import pandas as pd\n",
    "from scipy.optimize import curve_fit\n",
    "import scipy.stats as stats\n",
    "\n",
    "### Tools\n",
    "import wdtools\n",
    "import data_selector as ds\n",
    "import corv\n",
    "import WD_models\n",
    "from bisect import bisect_left\n",
    "import lmfit\n",
    "import glob\n",
    "\n",
    "from astroquery.sdss import SDSS\n",
    "from astroquery.gaia import Gaia\n",
    "\n",
    "#corv.sdss.make_catalogs()"
   ]
  },
  {
   "cell_type": "code",
   "execution_count": 2,
   "id": "af4ee624",
   "metadata": {
    "tags": []
   },
   "outputs": [],
   "source": [
    "catalog = Table.read('data/01_catalog.fits')"
   ]
  },
  {
   "cell_type": "markdown",
   "id": "8b5b85e9-e10e-4432-8b62-79037aa3f5f9",
   "metadata": {},
   "source": [
    "(PAPER TO UPDATE THIS LATER)[https://iopscience.iop.org/article/10.1088/0004-637X/737/2/103#apj398709t6]"
   ]
  },
  {
   "cell_type": "code",
   "execution_count": null,
   "id": "de386a14",
   "metadata": {},
   "outputs": [
    {
     "name": "stdout",
     "output_type": "stream",
     "text": [
      "Loading pixel_info ...\n",
      "Loading samples ...\n",
      "Loading best_fit ...\n"
     ]
    }
   ],
   "source": [
    "from __future__ import print_function\n",
    "from astropy.coordinates import SkyCoord\n",
    "import astropy.units as u\n",
    "from dustmaps.bayestar import BayestarQuery\n",
    "\n",
    "coords = SkyCoord('12h30m25.3s', '15d15m58.1s', distance = 200 * u.kpc, frame='icrs')\n",
    "bsq = BayestarQuery()\n",
    "ebv = bsq.query(coords)\n",
    "\n",
    "coords = SkyCoord('12h30m25.3s', '15d15m58.1s', distance = 200 * u.kpc, frame='icrs')\n",
    "#print('E(B-V) = {:.3f} mag'.format(ebv))\n",
    "print(ebv)"
   ]
  },
  {
   "cell_type": "code",
   "execution_count": null,
   "id": "839165cc",
   "metadata": {},
   "outputs": [],
   "source": [
    "coords = [SkyCoord(frame=\"galactic\", l=catalog['wd_l'][i]*u.deg, b=catalog['wd_b'][i]*u.deg, distance = (1/catalog['wd_parallax'][i]) * u.kpc) for i in range(len(catalog))]\n",
    "catalog['wd_coords'] = coords"
   ]
  },
  {
   "cell_type": "code",
   "execution_count": null,
   "id": "ec91d86a",
   "metadata": {
    "tags": []
   },
   "outputs": [],
   "source": [
    "catalog['E(B-V)'] = [bsq.query(catalog['wd_coords'][i]) for i in range(len(catalog))]"
   ]
  },
  {
   "cell_type": "code",
   "execution_count": null,
   "id": "9627b63f-bf79-4e1a-8418-a841dc2dd75c",
   "metadata": {},
   "outputs": [],
   "source": [
    "ADQL_CODE1 = \"SELECT \\\n",
    "        sdss.original_ext_source_id as bestobjid,\\\n",
    "        gaia_source.source_id\\\n",
    "        FROM gaiaedr3.gaia_source \\\n",
    "        JOIN gaiaedr3.sdssdr13_best_neighbour as sdss\\\n",
    "        ON gaia_source.source_id = sdss.source_id      \\\n",
    "        WHERE gaia_source.source_id IN {}\\\n",
    "    \".format(tuple(catalog['source_id1']))\n",
    "\n",
    "job1 = Gaia.launch_job(ADQL_CODE1,dump_to_file=False)\n",
    "d1 = job1.get_results()"
   ]
  },
  {
   "cell_type": "code",
   "execution_count": null,
   "id": "ebb770a2-02f1-428b-8cd1-2eae09bbe1ed",
   "metadata": {},
   "outputs": [],
   "source": [
    "drops = []\n",
    "bestobjid1 = []\n",
    "\n",
    "for i in tqdm (range(len(catalog))):\n",
    "    notfound = False\n",
    "    a = np.where(d1['source_id'] == catalog['source_id1'][i])\n",
    "    \n",
    "    try:\n",
    "        j = a[0][0]\n",
    "    except:\n",
    "        notfound = True\n",
    "        \n",
    "    if not notfound: \n",
    "        try:\n",
    "            bestobjid1.append(d1['bestobjid'][j])\n",
    "        except:\n",
    "            notfound = True\n",
    "    if notfound:\n",
    "        drops.append(i)    \n",
    "        \n",
    "catalog.remove_rows(drops)\n",
    "catalog['wd_bestobjid'] = bestobjid1"
   ]
  },
  {
   "cell_type": "code",
   "execution_count": null,
   "id": "63f75f20",
   "metadata": {},
   "outputs": [],
   "source": [
    "SDSS_QUERY = \"\"\"select ObjID, u, err_u, g, err_g, r, err_r, i, err_i, z, err_z\n",
    "    from dbo.PhotoObjAll\n",
    "    where ObjID in {}\"\"\".format(tuple(catalog['wd_bestobjid']))\n",
    "\n",
    "phot = SDSS.query_sql(SDSS_QUERY)"
   ]
  },
  {
   "cell_type": "code",
   "execution_count": null,
   "id": "21bcb553",
   "metadata": {},
   "outputs": [],
   "source": [
    "drops = []\n",
    "Su = []\n",
    "Sg = []\n",
    "Sr = []\n",
    "Si = []\n",
    "Sz = []\n",
    "\n",
    "e_Su = []\n",
    "e_Sg = []\n",
    "e_Sr = []\n",
    "e_Si = []\n",
    "e_Sz = []\n",
    "\n",
    "for i in tqdm (range(len(catalog))):\n",
    "    notfound = False\n",
    "    a = np.where(phot['ObjID'] == catalog['wd_bestobjid'][i])\n",
    "    \n",
    "    try:\n",
    "        j = a[0][0]\n",
    "    except:\n",
    "        notfound = True\n",
    "        \n",
    "    if not notfound: \n",
    "        Su.append(phot['u'][j])\n",
    "        Sg.append(phot['g'][j])\n",
    "        Sr.append(phot['r'][j])\n",
    "        Si.append(phot['i'][j])\n",
    "        Sz.append(phot['z'][j])\n",
    "        \n",
    "        e_Su.append(phot['err_u'][j])\n",
    "        e_Sg.append(phot['err_g'][j])\n",
    "        e_Sr.append(phot['err_r'][j])\n",
    "        e_Si.append(phot['err_i'][j])\n",
    "        e_Sz.append(phot['err_z'][j])\n",
    "    else:\n",
    "        drops.append(i)    \n",
    "        \n",
    "catalog.remove_rows(drops)\n",
    "catalog['u'] = Su# + 5 * np.log10(catalog['wd_parallax'] / 100)\n",
    "catalog['g'] = Sg# + 5 * np.log10(catalog['wd_parallax'] / 100)\n",
    "catalog['r'] = Sr# + 5 * np.log10(catalog['wd_parallax'] / 100)\n",
    "catalog['i'] = Si# + 5 * np.log10(catalog['wd_parallax'] / 100)\n",
    "catalog['z'] = Sz# + 5 * np.log10(catalog['wd_parallax'] / 100)\n",
    "catalog['su'] = e_Su\n",
    "catalog['sg'] = e_Sg\n",
    "catalog['sr'] = e_Sr\n",
    "catalog['si'] = e_Si\n",
    "catalog['sz'] = e_Sz\n",
    "#catalog.reset_index(inplace=True, drop=True)"
   ]
  },
  {
   "cell_type": "code",
   "execution_count": null,
   "id": "46cae322-958d-4f1d-8c2f-45d2b0d367d5",
   "metadata": {},
   "outputs": [],
   "source": [
    "catalog['A_u'] = np.repeat(np.nan, len(catalog))\n",
    "catalog['A_g'] = np.repeat(np.nan, len(catalog))\n",
    "catalog['A_r'] = np.repeat(np.nan, len(catalog))\n",
    "catalog['A_i'] = np.repeat(np.nan, len(catalog))\n",
    "catalog['A_z'] = np.repeat(np.nan, len(catalog))\n",
    "\n",
    "for obj in tqdm(catalog):\n",
    "    obj['A_u'] = sfd(obj['wd_pos_1']) * 4.239\n",
    "    obj['A_g'] = sfd(obj['wd_pos_1']) * 3.303\n",
    "    obj['A_r'] = sfd(obj['wd_pos_1']) * 2.285\n",
    "    obj['A_i'] = sfd(obj['wd_pos_1']) * 1.698\n",
    "    obj['A_z'] = sfd(obj['wd_pos_1']) * 1.263"
   ]
  },
  {
   "cell_type": "code",
   "execution_count": null,
   "id": "c8b07cf7",
   "metadata": {},
   "outputs": [],
   "source": [
    "c = 2.998e10\n",
    "k = 1.38e-16\n",
    "h = 6.626e-27\n",
    "halpha = 6564.61\n",
    "hbeta = 4862.68\n",
    "hgamma = 4341.68\n",
    "hdelta = 4102.89\n",
    "speed_light = 299792458 #m/s\n",
    "radius_sun = 6.957e8\n",
    "mass_sun = 1.9884e30\n",
    "newton_G = 6.674e-11\n",
    "pc_to_m = 3.086775e16"
   ]
  },
  {
   "cell_type": "code",
   "execution_count": null,
   "id": "e92967eb",
   "metadata": {},
   "outputs": [],
   "source": [
    "def flux_to_mag(flux):\n",
    "    return 22.5 - 2.5 * np.log10(flux)\n",
    "def mag_to_flux(mag):\n",
    "    flux = 10 ** ((mag + 48.6) / -2.5)\n",
    "    #flux = 10**fitsed.mag_to_flux(mag)\n",
    "    return flux\n",
    "\n",
    "bands = ['Su', 'Sg', 'Sr', 'Si', 'Sz']\n",
    "\n",
    "fitsed = WD_models.FitSED(atm_type = 'H', bands = bands)\n",
    "\n",
    "observed_sed = np.array([catalog['u'], catalog['g'], catalog['r'], catalog['i'], catalog['z']]).T\n",
    "e_observed_sed = np.array([catalog['su'], catalog['sg'], catalog['sr'], catalog['si'], catalog['sz']]).T"
   ]
  },
  {
   "cell_type": "code",
   "execution_count": null,
   "id": "c9d56f0c",
   "metadata": {},
   "outputs": [],
   "source": [
    "i=98\n",
    "\n",
    "plt.scatter(bands, observed_sed[i])\n",
    "plt.gca().invert_yaxis()\n",
    "plt.ylabel('$Mag$')\n",
    "plt.xlabel('Passband')"
   ]
  },
  {
   "cell_type": "code",
   "execution_count": null,
   "id": "9fbb14b5",
   "metadata": {},
   "outputs": [],
   "source": [
    "font_model = WD_models.load_model('f', 'f', 'f', 'H', HR_bands = ['Su-Sg', 'Su'])\n",
    "\n",
    "g_acc = (10**font_model['logg'])/100\n",
    "rsun = np.sqrt(font_model['mass_array'] * mass_sun * newton_G / g_acc) / radius_sun\n",
    "logg_teff_to_rsun = WD_models.interp_xy_z_func(x = font_model['logg'], y = 10**font_model['logteff'],\\\n",
    "                                            z = rsun, interp_type = 'linear')\n",
    "\n",
    "#table = Table.read('wd_catalog.fits')\n",
    "#table['distance'] = 1000 / table['parallax']\n",
    "\n",
    "fitsed = WD_models.FitSED(to_flux = False, atm_type = 'H', bands = ['Su', 'Sg', 'Sr', 'Si', 'Sz'])"
   ]
  },
  {
   "cell_type": "code",
   "execution_count": null,
   "id": "6aad1ba4",
   "metadata": {},
   "outputs": [],
   "source": [
    "print(type(fitsed))"
   ]
  },
  {
   "cell_type": "code",
   "execution_count": null,
   "id": "55317b4e-16c2-4bc0-8e3b-5aa0d32ed20c",
   "metadata": {},
   "outputs": [],
   "source": []
  },
  {
   "cell_type": "code",
   "execution_count": null,
   "id": "4c6fbd29-368d-4cd4-85b9-9d82779b9c92",
   "metadata": {},
   "outputs": [],
   "source": []
  },
  {
   "cell_type": "code",
   "execution_count": null,
   "id": "12fcfb82-48cd-47b2-8ec8-2159f331b5f6",
   "metadata": {},
   "outputs": [],
   "source": []
  },
  {
   "cell_type": "code",
   "execution_count": null,
   "id": "74e33532-7be2-48a4-a7a1-7b6ff762939a",
   "metadata": {},
   "outputs": [],
   "source": [
    "plt.figure(figsize=(10,10))\n",
    "plt.grid()\n",
    "plt.hist(catalog['radius'], bins = 20, histtype='step', color='black')\n",
    "ymin, ymax = plt.ylim()\n",
    "plt.vlines(np.mean(catalog['radius']), ymin, ymax, linestyles='dashed')\n",
    "plt.title('Radius', fontsize=20)\n",
    "plt.xlabel(r'$R_{0}$', fontsize=18)\n",
    "plt.savefig('plots/radius.png')"
   ]
  },
  {
   "cell_type": "code",
   "execution_count": null,
   "id": "7c305fca-cff5-45d2-b22c-604ee11ee0f1",
   "metadata": {},
   "outputs": [],
   "source": [
    "print(np.nanmean(catalog['e_radius']))"
   ]
  },
  {
   "cell_type": "code",
   "execution_count": null,
   "id": "1db5a6ec-f6c5-4646-ab3f-1130812e793b",
   "metadata": {},
   "outputs": [],
   "source": [
    "plt.figure(figsize=(10,10))\n",
    "plt.scatter(catalog['radius'], catalog['g_redshift'], color='black')\n",
    "plt.xlabel(r'Radius $[R_{0}]$')\n",
    "plt.ylabel(r'Gravitational Redshift $[km/s]$')\n",
    "plt.grid()\n",
    "plt.legend()\n",
    "plt.savefig('plots/r-vs-gr.png')"
   ]
  },
  {
   "cell_type": "code",
   "execution_count": null,
   "id": "2a72af70-0124-4fd0-b000-c028904685b3",
   "metadata": {},
   "outputs": [],
   "source": [
    "catalog.write('data/02_photometry.fits', overwrite=True)"
   ]
  }
 ],
 "metadata": {
  "kernelspec": {
   "display_name": "Python 3 (ipykernel)",
   "language": "python",
   "name": "python3"
  },
  "language_info": {
   "codemirror_mode": {
    "name": "ipython",
    "version": 3
   },
   "file_extension": ".py",
   "mimetype": "text/x-python",
   "name": "python",
   "nbconvert_exporter": "python",
   "pygments_lexer": "ipython3",
   "version": "3.8.3"
  }
 },
 "nbformat": 4,
 "nbformat_minor": 5
}
