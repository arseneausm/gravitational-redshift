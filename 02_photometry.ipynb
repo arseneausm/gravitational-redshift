{
 "cells": [
  {
   "cell_type": "code",
   "execution_count": 1,
   "id": "95c92e98",
   "metadata": {},
   "outputs": [
    {
     "name": "stderr",
     "output_type": "stream",
     "text": [
      "2022-07-08 18:04:26.780052: W tensorflow/stream_executor/platform/default/dso_loader.cc:64] Could not load dynamic library 'libcudart.so.11.0'; dlerror: libcudart.so.11.0: cannot open shared object file: No such file or directory\n",
      "2022-07-08 18:04:26.780077: I tensorflow/stream_executor/cuda/cudart_stub.cc:29] Ignore above cudart dlerror if you do not have a GPU set up on your machine.\n"
     ]
    },
    {
     "name": "stdout",
     "output_type": "stream",
     "text": [
      "Please install galpy if you want to use the gaia module. otherwise, ignore this.\n",
      "could not find pickled WD models\n",
      "using local paths\n",
      "star and exposure catalogs not found! check paths and run make_catalogs() if you want to use sdss functionality. otherwise ignore.\n"
     ]
    }
   ],
   "source": [
    "# Install a pip package in the current Jupyter kernel\n",
    "import sys\n",
    "import os\n",
    "sys.path.append('../')\n",
    "sys.path.append('../wdtools')\n",
    "sys.path.append('../WD_models')\n",
    "sys.path.append('../corv/src')\n",
    "\n",
    "### General\n",
    "import numpy as np\n",
    "import matplotlib.pyplot as plt\n",
    "import matplotlib.colors as colors\n",
    "\n",
    "import astropy\n",
    "from astropy.coordinates import SkyCoord\n",
    "from astropy.io import fits\n",
    "import astropy.units as u\n",
    "from astropy.table import Table, Column, MaskedColumn, join\n",
    "\n",
    "from tqdm import tqdm\n",
    "import pandas as pd\n",
    "from scipy.optimize import curve_fit\n",
    "import scipy.stats as stats\n",
    "\n",
    "### Tools\n",
    "import wdtools\n",
    "import WD_models\n",
    "import data_selector as ds\n",
    "import corv\n",
    "import WD_models\n",
    "from bisect import bisect_left\n",
    "import lmfit\n",
    "import glob\n",
    "\n",
    "from astroquery.sdss import SDSS\n",
    "from astroquery.gaia import Gaia\n",
    "\n",
    "#corv.sdss.make_catalogs()"
   ]
  },
  {
   "cell_type": "code",
   "execution_count": 2,
   "id": "04526f82-fa1f-4f9b-ab49-ccdbed67c0a4",
   "metadata": {},
   "outputs": [],
   "source": [
    "c = 2.998e10\n",
    "k = 1.38e-16\n",
    "h = 6.626e-27\n",
    "halpha = 6564.61\n",
    "hbeta = 4862.68\n",
    "hgamma = 4341.68\n",
    "hdelta = 4102.89\n",
    "speed_light = 299792458 #m/s\n",
    "radius_sun = 6.957e8\n",
    "mass_sun = 1.9884e30\n",
    "newton_G = 6.674e-11\n",
    "pc_to_m = 3.086775e16"
   ]
  },
  {
   "cell_type": "code",
   "execution_count": 3,
   "id": "af4ee624",
   "metadata": {
    "tags": []
   },
   "outputs": [],
   "source": [
    "catalog = Table.read('data/01_catalog.fits')"
   ]
  },
  {
   "cell_type": "markdown",
   "id": "8b5b85e9-e10e-4432-8b62-79037aa3f5f9",
   "metadata": {},
   "source": [
    "(PAPER TO UPDATE THIS LATER)[https://iopscience.iop.org/article/10.1088/0004-637X/737/2/103#apj398709t6]"
   ]
  },
  {
   "cell_type": "code",
   "execution_count": 4,
   "id": "de386a14",
   "metadata": {},
   "outputs": [
    {
     "name": "stdout",
     "output_type": "stream",
     "text": [
      "Loading pixel_info ...\n",
      "Loading samples ...\n",
      "Loading best_fit ...\n",
      "Replacing NaNs in reliable distance estimates ...\n",
      "Sorting pixel_info ...\n",
      "Extracting hp_idx_sorted and data_idx at each nside ...\n",
      "  nside = 64\n",
      "  nside = 128\n",
      "  nside = 256\n",
      "  nside = 512\n",
      "  nside = 1024\n",
      "t = 29.365 s\n",
      "  pix_info:   1.005 s\n",
      "   samples:  17.594 s\n",
      "      best:   5.168 s\n",
      "       nan:   0.023 s\n",
      "      sort:   5.367 s\n",
      "       idx:   0.208 s\n",
      "E(B-V) = 0.050 mag\n"
     ]
    }
   ],
   "source": [
    "from __future__ import print_function\n",
    "from astropy.coordinates import SkyCoord\n",
    "import astropy.units as u\n",
    "from dustmaps.bayestar import BayestarQuery\n",
    "\n",
    "coords = SkyCoord('12h30m25.3s', '15d15m58.1s', distance = 200 * u.kpc, frame='icrs')\n",
    "bsq = BayestarQuery()\n",
    "ebv = bsq.query(coords)\n",
    "\n",
    "coords = SkyCoord('12h30m25.3s', '15d15m58.1s', distance = 200 * u.kpc, frame='icrs')\n",
    "print('E(B-V) = {:.3f} mag'.format(ebv))\n",
    "#print(ebv)"
   ]
  },
  {
   "cell_type": "code",
   "execution_count": 5,
   "id": "839165cc",
   "metadata": {},
   "outputs": [],
   "source": [
    "coords = [SkyCoord(frame=\"galactic\", l=catalog['wd_l'][i]*u.deg, b=catalog['wd_b'][i]*u.deg, distance = (1/catalog['wd_parallax'][i]) * u.kpc) for i in range(len(catalog))]\n",
    "catalog['wd_coords'] = coords"
   ]
  },
  {
   "cell_type": "code",
   "execution_count": 6,
   "id": "ec91d86a",
   "metadata": {
    "tags": []
   },
   "outputs": [],
   "source": [
    "catalog['E(B-V)'] = [bsq.query(catalog['wd_coords'][i]) for i in range(len(catalog))]"
   ]
  },
  {
   "cell_type": "code",
   "execution_count": 7,
   "id": "442e110a-e454-4f2b-b539-656fb91679ed",
   "metadata": {},
   "outputs": [
    {
     "name": "stdout",
     "output_type": "stream",
     "text": [
      "    wd_source_id   \n",
      "-------------------\n",
      "2854365720811907328\n",
      " 754878504143019136\n",
      " 611167150367477888\n",
      "2641865135735601024\n",
      "2641865135735601024\n",
      "3843636017819635968\n",
      "2500203890109764608\n",
      "2497895053130247040\n",
      "2497895053130247040\n",
      "1351832950597627648\n",
      " 662468090881350016\n",
      "                ...\n",
      " 724012189094256512\n",
      " 727912981472823680\n",
      " 861577625059010176\n",
      "1778836056545324160\n",
      "3671229300344425472\n",
      " 908364559240386944\n",
      " 908364559240386944\n",
      "1411226507145210624\n",
      " 833452873535333760\n",
      "   7027562929324416\n",
      "1155156090196297984\n",
      "Length = 101 rows\n"
     ]
    }
   ],
   "source": [
    "print(catalog['wd_source_id'])"
   ]
  },
  {
   "cell_type": "code",
   "execution_count": 8,
   "id": "9627b63f-bf79-4e1a-8418-a841dc2dd75c",
   "metadata": {},
   "outputs": [],
   "source": [
    "ADQL_CODE1 = \"SELECT \\\n",
    "        sdss.original_ext_source_id as bestobjid,\\\n",
    "        gaia_source.source_id\\\n",
    "        FROM gaiaedr3.gaia_source \\\n",
    "        JOIN gaiaedr3.sdssdr13_best_neighbour as sdss\\\n",
    "        ON gaia_source.source_id = sdss.source_id      \\\n",
    "        WHERE gaia_source.source_id IN {}\\\n",
    "    \".format(tuple(catalog['wd_source_id']))\n",
    "\n",
    "job1 = Gaia.launch_job(ADQL_CODE1,dump_to_file=False)\n",
    "d1 = job1.get_results()"
   ]
  },
  {
   "cell_type": "code",
   "execution_count": 9,
   "id": "34c8fb5b-44e3-4bb3-9381-f121cc7f696a",
   "metadata": {},
   "outputs": [
    {
     "name": "stdout",
     "output_type": "stream",
     "text": [
      "     bestobjid           source_id     \n",
      "------------------- -------------------\n",
      "1237670016735772722    7027562929324416\n",
      "1237658492800663588  587767202170593536\n",
      "1237667538001068086  611167150367477888\n",
      "1237667429019418713  635639045092641280\n",
      "1237667293728145532  637998910577030912\n",
      "1237667254002122820  642837135401004672\n",
      "1237667113872982045  647300160472509184\n",
      "1237667783346094312  649472245695986816\n",
      "1237667108500603237  662468090881350016\n",
      "1237664094508482659  679488530879123456\n",
      "1237664879410872345  692130376274309376\n",
      "                ...                 ...\n",
      "1237661950262902855 3738774533021184256\n",
      "1237674649384189970 3803142859993965952\n",
      "1237648721223745571 3804750586512019840\n",
      "1237655126077538388 3814038096808045696\n",
      "1237674461487431869 3843636017819635968\n",
      "1237658422487875628 3897577164925150080\n",
      "1237662526304878633 3932749274881864320\n",
      "1237668297127690257 3975115240311668096\n",
      "1237664818748325918 4032775038821332608\n",
      "1237668569321504963 4406733207018066944\n",
      "1237668336325755103 4463132278006820224\n",
      "Length = 82 rows\n"
     ]
    }
   ],
   "source": [
    "print(d1)"
   ]
  },
  {
   "cell_type": "code",
   "execution_count": 10,
   "id": "ebb770a2-02f1-428b-8cd1-2eae09bbe1ed",
   "metadata": {},
   "outputs": [
    {
     "name": "stderr",
     "output_type": "stream",
     "text": [
      "100%|███████████████████████████████████████████████████████████████████████| 101/101 [00:00<00:00, 3848.09it/s]\n"
     ]
    }
   ],
   "source": [
    "drops = []\n",
    "bestobjid1 = []\n",
    "\n",
    "for i in tqdm (range(len(catalog))):\n",
    "    notfound = False\n",
    "    a = np.where(d1['source_id'] == catalog['wd_source_id'][i])\n",
    "    \n",
    "    try:\n",
    "        j = a[0][0]\n",
    "    except:\n",
    "        notfound = True\n",
    "        \n",
    "    if not notfound: \n",
    "        try:\n",
    "            bestobjid1.append(d1['bestobjid'][j])\n",
    "        except:\n",
    "            notfound = True\n",
    "    if notfound:\n",
    "        drops.append(i)    \n",
    "        \n",
    "catalog.remove_rows(drops)\n",
    "catalog['wd_bestobjid'] = bestobjid1"
   ]
  },
  {
   "cell_type": "code",
   "execution_count": 11,
   "id": "cacd8e2f-b6d9-4378-866f-be1ee6a95310",
   "metadata": {},
   "outputs": [
    {
     "name": "stdout",
     "output_type": "stream",
     "text": [
      "    wd_bestobjid   \n",
      "-------------------\n",
      "1237663305844981770\n",
      "1237661136887349316\n",
      "1237667538001068086\n",
      "1237657190367035488\n",
      "1237657190367035488\n",
      "1237674461487431869\n",
      "1237657070090321961\n",
      "1237657070092353571\n",
      "1237657070092353571\n",
      "1237654953744334980\n",
      "1237667108500603237\n",
      "                ...\n",
      "1237667550341496885\n",
      "1237667551953420367\n",
      "1237667209982312473\n",
      "1237653617472176153\n",
      "1237666433114177925\n",
      "1237657595150729272\n",
      "1237657595150729272\n",
      "1237654953739026732\n",
      "1237658204502818846\n",
      "1237670016735772722\n",
      "1237651823250112558\n",
      "Length = 89 rows\n"
     ]
    }
   ],
   "source": [
    "print(catalog['wd_bestobjid'])"
   ]
  },
  {
   "cell_type": "code",
   "execution_count": 12,
   "id": "63f75f20",
   "metadata": {},
   "outputs": [],
   "source": [
    "SDSS_QUERY = \"\"\"select ObjID, psfMag_u, psfMagErr_u, psfMag_g, psfMagErr_g, psfMag_r, psfMagErr_r, psfMag_i, psfMagErr_i, psfMag_z, psfMagErr_z\n",
    "    from dbo.PhotoObjAll\n",
    "    where ObjID in {}\"\"\".format(tuple(catalog['wd_bestobjid']))\n",
    "\n",
    "phot = SDSS.query_sql(SDSS_QUERY)"
   ]
  },
  {
   "cell_type": "code",
   "execution_count": 13,
   "id": "21bcb553",
   "metadata": {},
   "outputs": [
    {
     "name": "stderr",
     "output_type": "stream",
     "text": [
      "100%|████████████████████████████████████████████████████████████████████████| 89/89 [00:00<00:00, 29647.61it/s]\n"
     ]
    }
   ],
   "source": [
    "drops = []\n",
    "Su = []\n",
    "Sg = []\n",
    "Sr = []\n",
    "Si = []\n",
    "Sz = []\n",
    "\n",
    "fu = []\n",
    "fg = []\n",
    "fr = []\n",
    "fi = []\n",
    "fz = []\n",
    "\n",
    "e_Su = []\n",
    "e_Sg = []\n",
    "e_Sr = []\n",
    "e_Si = []\n",
    "e_Sz = []\n",
    "\n",
    "for i in tqdm (range(len(catalog))):\n",
    "    notfound = False\n",
    "    a = np.where(phot['ObjID'] == catalog['wd_bestobjid'][i])\n",
    "    \n",
    "    try:\n",
    "        j = a[0][0]\n",
    "    except:\n",
    "        notfound = True\n",
    "        \n",
    "    if not notfound: \n",
    "        Su.append(phot['psfMag_u'][j])\n",
    "        Sg.append(phot['psfMag_g'][j])\n",
    "        Sr.append(phot['psfMag_r'][j])\n",
    "        Si.append(phot['psfMag_i'][j])\n",
    "        Sz.append(phot['psfMag_z'][j])\n",
    "        \n",
    "        e_Su.append(phot['psfMagErr_u'][j])\n",
    "        e_Sg.append(phot['psfMagErr_g'][j])\n",
    "        e_Sr.append(phot['psfMagErr_r'][j])\n",
    "        e_Si.append(phot['psfMagErr_i'][j])\n",
    "        e_Sz.append(phot['psfMagErr_z'][j])\n",
    "    else:\n",
    "        drops.append(i)    \n",
    "        \n",
    "catalog.remove_rows(drops)\n",
    "catalog['u'] = Su# + 5 * np.log10(catalog['wd_parallax'] / 100)\n",
    "catalog['g'] = Sg# + 5 * np.log10(catalog['wd_parallax'] / 100)\n",
    "catalog['r'] = Sr# + 5 * np.log10(catalog['wd_parallax'] / 100)\n",
    "catalog['i'] = Si# + 5 * np.log10(catalog['wd_parallax'] / 100)\n",
    "catalog['z'] = Sz# + 5 * np.log10(catalog['wd_parallax'] / 100)\n",
    "\n",
    "catalog['err_u'] = e_Su\n",
    "catalog['err_g'] = e_Sg\n",
    "catalog['err_r'] = e_Sr\n",
    "catalog['err_i'] = e_Si\n",
    "catalog['err_z'] = e_Sz\n",
    "#catalog.reset_index(inplace=True, drop=True)"
   ]
  },
  {
   "cell_type": "code",
   "execution_count": 14,
   "id": "46cae322-958d-4f1d-8c2f-45d2b0d367d5",
   "metadata": {},
   "outputs": [
    {
     "name": "stderr",
     "output_type": "stream",
     "text": [
      "100%|█████████████████████████████████████████████████████████████████████████| 89/89 [00:00<00:00, 4382.09it/s]\n"
     ]
    }
   ],
   "source": [
    "catalog['A_u'] = np.repeat(np.nan, len(catalog))\n",
    "catalog['A_g'] = np.repeat(np.nan, len(catalog))\n",
    "catalog['A_r'] = np.repeat(np.nan, len(catalog))\n",
    "catalog['A_i'] = np.repeat(np.nan, len(catalog))\n",
    "catalog['A_z'] = np.repeat(np.nan, len(catalog))\n",
    "\n",
    "for obj in tqdm(catalog):\n",
    "    obj['A_u'] = obj['E(B-V)'] * 3.518\n",
    "    obj['A_g'] = obj['E(B-V)'] * 2.617\n",
    "    obj['A_r'] = obj['E(B-V)'] * 1.971\n",
    "    obj['A_i'] = obj['E(B-V)'] * 1.549\n",
    "    obj['A_z'] = obj['E(B-V)'] * 1.263\n",
    "    \n",
    "catalog['dered_u'] = catalog['u'] - catalog['A_u']\n",
    "catalog['dered_g'] = catalog['g'] - catalog['A_g']\n",
    "catalog['dered_r'] = catalog['r'] - catalog['A_r']\n",
    "catalog['dered_i'] = catalog['i'] - catalog['A_i']\n",
    "catalog['dered_z'] = catalog['z'] - catalog['A_z']\n",
    "\n",
    "catalog['r_est'] = 1000 / catalog['wd_parallax']"
   ]
  },
  {
   "cell_type": "code",
   "execution_count": 15,
   "id": "c8b07cf7",
   "metadata": {},
   "outputs": [
    {
     "name": "stdout",
     "output_type": "stream",
     "text": [
      "initialized with atm_type = H and bands = ['Su', 'Sg', 'Sr', 'Si', 'Sz']\n"
     ]
    }
   ],
   "source": [
    "font_model = WD_models.load_model('f', 'f', 'f', 'H', HR_bands = ['Su-Sg', 'Su'])\n",
    "\n",
    "g_acc = (10**font_model['logg'])/100\n",
    "rsun = np.sqrt(font_model['mass_array'] * mass_sun * newton_G / g_acc) / radius_sun\n",
    "logg_teff_to_rsun = WD_models.interp_xy_z_func(x = font_model['logg'], y = 10**font_model['logteff'],\n",
    "                                            z = rsun, interp_type = 'linear')\n",
    "\n",
    "fitsed = WD_models.FitSED(to_flux = False, atm_type = 'H', bands = ['Su', 'Sg', 'Sr', 'Si', 'Sz'])"
   ]
  },
  {
   "cell_type": "code",
   "execution_count": 16,
   "id": "bfe54d4a-da5d-43c3-883c-30196eaeef69",
   "metadata": {},
   "outputs": [],
   "source": [
    "def mag_to_flux(mag):\n",
    "    return 10 ** ((mag + 48.6)/ -2.5) \n",
    "    \n",
    "def get_model_flux(params):\n",
    "    \n",
    "    teff, logg, radius, distance = params['teff'], params['logg'], params['radius'], params['distance']\n",
    "    \n",
    "    model_mag = fitsed.model_sed(teff, logg, plx = 100)\n",
    "    model_flux = mag_to_flux(model_mag)\n",
    "    \n",
    "    rsun = logg_teff_to_rsun(logg, teff)\n",
    "    corr_radius = rsun * radius_sun\n",
    "    corr_distance = 10 * pc_to_m\n",
    "    \n",
    "    corr_model_flux = model_flux / (4 * np.pi * (corr_radius / corr_distance)**2)\n",
    "    \n",
    "    radius = radius * radius_sun # Rsun to meter\n",
    "    distance = distance * pc_to_m # Parsec to meter\n",
    "     \n",
    "    flux = corr_model_flux * ( 4 * np.pi * (radius / distance)**2 )\n",
    "    \n",
    "    return flux\n",
    "    \n",
    "\n",
    "def residual(params, obs_flux = None, e_obs_flux = None):\n",
    "    model_flux = get_model_flux(params)\n",
    "\n",
    "    chisquare = ((model_flux - obs_flux) / e_obs_flux)**2\n",
    "    #chisquare[np.isnan(chisquare)] = 1e8\n",
    "    return chisquare"
   ]
  },
  {
   "cell_type": "code",
   "execution_count": 37,
   "id": "4b97d218-c841-4a3d-bc9e-a9ae04e9ae9f",
   "metadata": {},
   "outputs": [],
   "source": [
    "def get_parameters(obs_mag, e_obs_mag, floor_error = 0.02, make_plot = False, vary_logg = False, p0 = [10000, 8, 0.01, 100]):      \n",
    "    #obs_flux = mag_to_flux(obs_mag)\n",
    "    obs_flux = obs_mag\n",
    "    \n",
    "    #e_obs_mag = np.sqrt(e_obs_mag**2 + floor_error**2)\n",
    "    e_obs_flux = e_obs_mag# * obs_flux\n",
    "    \n",
    "    params = lmfit.Parameters()\n",
    "\n",
    "    params.add('teff', value = p0[0], min = 3500, max = 55000, vary = True)\n",
    "    params.add('logg', value = p0[1], min=7.5, max=9, vary=vary_logg)\n",
    "    params.add('radius', value = p0[2], min = 0.0001, max = 0.03, vary = True)\n",
    "    params.add('distance', value = p0[3], min = 1, max = 2000, vary = False)\n",
    "        \n",
    "    #result = lmfit.minimize(residual, params, kws = dict(obs_flux = obs_flux, e_obs_flux = e_obs_flux), method = 'emcee', steps = 5000, burn = 500, thin = 20, is_weighted = False, progress = False)\n",
    "    result = lmfit.minimize(residual, params, kws = dict(obs_flux = obs_flux, e_obs_flux = e_obs_flux), method = 'leastsq')\n",
    "    \n",
    "    if make_plot:\n",
    "        bands = ['u', 'g', 'r', 'i', 'z']\n",
    "        \n",
    "        plt.figure(figsize = (8,7))\n",
    "        plt.errorbar(bands, obs_flux, yerr = e_obs_flux, linestyle = 'none', marker = 'None', color = 'k',\n",
    "                    capsize = 5, label = 'Observed SED')\n",
    "        plt.plot(bands, get_model_flux(result.params), 'bo', markersize = 10, label = 'Model SED')\n",
    "        plt.xlabel('Band')\n",
    "        plt.ylabel('Apparent Flux)')\n",
    "        #plt.gca().invert_yaxis()\n",
    "        plt.legend()    \n",
    "    \n",
    "    return result"
   ]
  },
  {
   "cell_type": "code",
   "execution_count": 38,
   "id": "f1af707e-bcbc-4543-b0db-109ec5197e35",
   "metadata": {},
   "outputs": [
    {
     "name": "stdout",
     "output_type": "stream",
     "text": [
      "4.5980863326611507e-29\n"
     ]
    },
    {
     "data": {
      "image/png": "[encoded data removed]",
      "text/plain": [
       "<Figure size 576x504 with 1 Axes>"
      ]
     },
     "metadata": {
      "needs_background": "light"
     },
     "output_type": "display_data"
    }
   ],
   "source": [
    "obs_mag = np.array([catalog['dered_u'][0] - 0.040, catalog['dered_g'][0], catalog['dered_r'][0], catalog['dered_i'][0] + 0.015, catalog['dered_z'][0] + 0.030])\n",
    "e_obs_mag = np.array([catalog['err_u'][0], catalog['err_g'][0], catalog['err_r'][0], catalog['err_i'][0], catalog['err_z'][0]])\n",
    "\n",
    "def linear(x, A, B):\n",
    "    return A*x+B\n",
    "\n",
    "\n",
    "\n",
    "\n",
    "ref_params = lmfit.Parameters()\n",
    "ref_params.add('teff', value = 10000)\n",
    "ref_params.add('logg', value = 8)\n",
    "ref_params.add('radius', value = 0.01)\n",
    "ref_params.add('distance', value = 200)\n",
    "\n",
    "ref_flux = get_model_flux(ref_params)\n",
    "\n",
    "\n",
    "\n",
    "\n",
    "\n",
    "n_logg = 100\n",
    "logg_grid = np.linspace(7.5, 9, num = n_logg)\n",
    "\n",
    "teff = 10000 #K\n",
    "\n",
    "flux_values = []\n",
    "fitted_flux_values = []\n",
    "\n",
    "for logg in logg_grid:\n",
    "    params = lmfit.Parameters()\n",
    "    params.add('teff', value = teff)\n",
    "    params.add('logg', value = logg)\n",
    "    params.add('radius', value = 0.01)\n",
    "    params.add('distance', value = 200)\n",
    "        \n",
    "    flux_values.append(get_model_flux(params))\n",
    "    \n",
    "flux_values = np.array(flux_values).T\n",
    "    \n",
    "bands = []\n",
    "band_list = ['u', 'g', 'r', 'i', 'z']\n",
    "for i in range(len(logg_grid)):\n",
    "    bands.append(band_list)\n",
    "\n",
    "bands = np.array(bands).T\n",
    "\n",
    "\n",
    "popt0, pcov0 = curve_fit(linear, logg_grid, flux_values[0])\n",
    "popt1, pcov1 = curve_fit(linear, logg_grid, flux_values[1])\n",
    "popt2, pcov2 = curve_fit(linear, logg_grid, flux_values[2])\n",
    "popt3, pcov3 = curve_fit(linear, logg_grid, flux_values[3])\n",
    "popt4, pcov4 = curve_fit(linear, logg_grid, flux_values[4])\n",
    "\n",
    "print(popt0[0])\n",
    "        \n",
    "plt.figure(figsize = (8,7))\n",
    "#for i in range(len(bands)):\n",
    "    #plt.plot(bands[i], flux_values[i], 'bo', markersize = 10)\n",
    "plt.plot(logg_grid, flux_values[0], label = 'u', c = 'm')\n",
    "plt.plot(logg_grid, linear(logg_grid, popt0[0], popt0[1]), linestyle='dashed', c = 'm')\n",
    "\n",
    "plt.plot(logg_grid, flux_values[1], label = 'g', c = 'g')\n",
    "plt.plot(logg_grid, linear(logg_grid, popt1[0], popt1[1]), linestyle='dashed', c = 'g')\n",
    "\n",
    "plt.plot(logg_grid, flux_values[2], label = 'r', c = 'r')\n",
    "plt.plot(logg_grid, linear(logg_grid, popt2[0], popt2[1]), linestyle='dashed', c = 'r')\n",
    "\n",
    "plt.plot(logg_grid, flux_values[3], label = 'i', c = 'c')\n",
    "plt.plot(logg_grid, linear(logg_grid, popt3[0], popt3[1]), linestyle='dashed', c = 'c')\n",
    "\n",
    "plt.plot(logg_grid, flux_values[4], label = 'z', c = 'k')\n",
    "plt.plot(logg_grid, linear(logg_grid, popt4[0], popt4[1]), linestyle='dashed', c = 'k')\n",
    "\n",
    "plt.xlabel('logg')\n",
    "plt.ylabel('Apparent Flux')\n",
    "plt.grid()\n",
    "plt.legend(loc = 1)\n",
    "plt.savefig('/home/arseneausm/Documents/arseneausm.github.io/notes/figures/variation_sdss_ugriz.jpeg')"
   ]
  },
  {
   "cell_type": "code",
   "execution_count": null,
   "id": "09464db7-1992-4839-b059-5be457159a80",
   "metadata": {},
   "outputs": [],
   "source": []
  },
  {
   "cell_type": "code",
   "execution_count": 39,
   "id": "9d322d41-e728-4599-8af6-c552abee0171",
   "metadata": {},
   "outputs": [
    {
     "name": "stderr",
     "output_type": "stream",
     "text": [
      "No artists with labels found to put in legend.  Note that artists whose label start with an underscore are ignored when legend() is called with no argument.\n"
     ]
    },
    {
     "data": {
      "image/png": "[encoded data removed]",
      "text/plain": [
       "<Figure size 576x504 with 1 Axes>"
      ]
     },
     "metadata": {
      "needs_background": "light"
     },
     "output_type": "display_data"
    }
   ],
   "source": [
    "plt.figure(figsize = (8,7))\n",
    "#for i in range(len(bands)):\n",
    "    #plt.plot(bands[i], flux_values[i], 'bo', markersize = 10)\n",
    "plt.errorbar(band_list, [np.mean(flux_values[i]) for i in range(len(flux_values))], yerr=[np.std(flux_values[i]) for i in range(len(flux_values))], fmt = 'o')\n",
    "plt.xlabel('Band')\n",
    "plt.ylabel('Apparent Flux')\n",
    "plt.text(0.15, 0.26, r'$T_{eff} = 10000$ $K$', transform = plt.gca().transAxes, fontsize=20)\n",
    "plt.text(0.15, 0.20, r'$R = 0.01$ $R_{0}$', transform = plt.gca().transAxes, fontsize=20)\n",
    "plt.text(0.15, 0.14, r'Max $logg = 7.5$', transform = plt.gca().transAxes, fontsize=20)\n",
    "plt.text(0.15, 0.08, r'Min $logg = 9.0$', transform = plt.gca().transAxes, fontsize=20)\n",
    "#plt.gca().invert_yaxis()\n",
    "plt.legend()   \n",
    "plt.savefig('/home/arseneausm/Documents/arseneausm.github.io/notes/figures/errbar_variation_sdss_ugriz.jpeg')"
   ]
  },
  {
   "cell_type": "code",
   "execution_count": 40,
   "id": "d55f086f-86c0-41c9-9f85-455f54801f0a",
   "metadata": {},
   "outputs": [
    {
     "data": {
      "image/png": "[encoded data removed]",
      "text/plain": [
       "<Figure size 576x504 with 1 Axes>"
      ]
     },
     "metadata": {
      "needs_background": "light"
     },
     "output_type": "display_data"
    }
   ],
   "source": [
    "pct_diff = [( max(flux_values[i]) - min(flux_values[i]) ) / ref_flux[i] for i in range(len(flux_values))]\n",
    "\n",
    "plt.figure(figsize = (8,7))\n",
    "#for i in range(len(bands)):\n",
    "    #plt.plot(bands[i], flux_values[i], 'bo', markersize = 10)\n",
    "plt.scatter(band_list, pct_diff, label = r'(max flux value - min flux value) / (logg = 8 flux value)')\n",
    "plt.xlabel('Band')\n",
    "plt.ylabel('Percent Difference')\n",
    "plt.text(0.05, 0.26, r'$T_{eff} = 10000$ $K$', transform = plt.gca().transAxes, fontsize=20)\n",
    "plt.text(0.05, 0.20, r'$R = 0.01$ $R_{0}$', transform = plt.gca().transAxes, fontsize=20)\n",
    "plt.text(0.05, 0.14, r'Max $logg = 7.5$', transform = plt.gca().transAxes, fontsize=20)\n",
    "plt.text(0.05, 0.08, r'Min $logg = 9.0$', transform = plt.gca().transAxes, fontsize=20)\n",
    "#plt.gca().invert_yaxis()\n",
    "plt.legend()   \n",
    "plt.savefig('/home/arseneausm/Documents/arseneausm.github.io/notes/figures/pctchange_sdss_urgiz.jpeg')"
   ]
  },
  {
   "cell_type": "code",
   "execution_count": 46,
   "id": "e10a7181-14a5-4667-b8cc-2e233b99937f",
   "metadata": {},
   "outputs": [],
   "source": [
    "teff_10k = lmfit.Parameters()\n",
    "teff_10k.add('teff', value = 10000)\n",
    "teff_10k.add('logg', value = 8)\n",
    "teff_10k.add('radius', value = 0.01)\n",
    "teff_10k.add('distance', value = 200)\n",
    "\n",
    "teff_3k = lmfit.Parameters()\n",
    "teff_3k.add('teff', value = 3500)\n",
    "teff_3k.add('logg', value = 8)\n",
    "teff_3k.add('radius', value = 0.01)\n",
    "teff_3k.add('distance', value = 200)\n",
    "\n",
    "teff_50k = lmfit.Parameters()\n",
    "teff_50k.add('teff', value = 50000)\n",
    "teff_50k.add('logg', value = 8)\n",
    "teff_50k.add('radius', value = 0.01)\n",
    "teff_50k.add('distance', value = 200)\n",
    "\n",
    "flux_3k = get_model_flux(teff_3k)\n",
    "flux_10k = get_model_flux(teff_10k)\n",
    "flux_50k = get_model_flux(teff_50k)\n",
    "\n",
    "results_10k = []\n",
    "results_3k = []\n",
    "results_50k = []\n",
    "\n",
    "for logg in logg_grid:\n",
    "    results_3k.append(get_parameters(flux_3k, np.array([0.03,0.03,0.03,0.03,0.03]), p0 = [10000, logg, 0.01, 200]))\n",
    "    results_10k.append(get_parameters(flux_10k, np.array([0.03,0.03,0.03,0.03,0.03]), p0 = [10000, logg, 0.01, 200]))\n",
    "    results_50k.append(get_parameters(flux_50k, np.array([0.03,0.03,0.03,0.03,0.03]), p0 = [10000, logg, 0.01, 200]))"
   ]
  },
  {
   "cell_type": "code",
   "execution_count": 47,
   "id": "70bebd90-6465-452b-8543-dd1870594b0b",
   "metadata": {},
   "outputs": [
    {
     "data": {
      "image/png": "[encoded data removed]",
      "text/plain": [
       "<Figure size 576x504 with 1 Axes>"
      ]
     },
     "metadata": {
      "needs_background": "light"
     },
     "output_type": "display_data"
    }
   ],
   "source": [
    "plt.figure(figsize = (8,7))\n",
    "#for i in range(len(bands)):\n",
    "    #plt.plot(bands[i], flux_values[i], 'bo', markersize = 10)\n",
    "plt.plot(logg_grid, [result.params['radius'].value for result in results_3k], label = 'Teff = 3500K')\n",
    "plt.plot(logg_grid, [result.params['radius'].value for result in results_10k], label = 'Teff = 10000K')\n",
    "plt.plot(logg_grid, [result.params['radius'].value for result in results_50k], label = 'Teff = 50000K')\n",
    "\n",
    "#plt.plot(logg_grid, [result.params['teff'].value for result in results], label = 'teff', c = 'r')\n",
    "#plt.plot(logg_grid, linear(logg_grid, popt0[0], popt0[1]), linestyle='dashed', c = 'm')\n",
    "\n",
    "plt.xlabel('logg')\n",
    "plt.ylabel('Radius')\n",
    "plt.grid()\n",
    "plt.legend(loc = 1)\n",
    "plt.savefig('/home/arseneausm/Documents/arseneausm.github.io/notes/figures/variation_sdss_ugriz.jpeg')"
   ]
  },
  {
   "cell_type": "markdown",
   "id": "60e7fa2a-0a34-4e5a-bba4-612a93a03e40",
   "metadata": {},
   "source": [
    "7/7 Meeting\n",
    "---\n",
    "\n",
    "Generate mock wd's at the same temp and radius but with different logg\n",
    "\n",
    "If we are completely agnostic about the wd eq of state, then there's no relationship between radius and logg. We should see that phot is insensitive to logg to ~1%\n",
    "-> if we find anything other than that, then we've got an issue and we need to find something else\n",
    "\n",
    "If we do find sensitivity:\n",
    "-> DON'T use a simple blackbody\n",
    "-> If there is some sensitivity, it's because the absorbtion lines may be broader. This is kind of an atmospheric model issue if it's at the 1%\n",
    "-> Do the fit at logg=7, logg=9 and add in quad\n",
    "\n",
    "Take a 10000K wd at 0.01  rad and look at the variations on account of logg\n",
    "\n",
    "If we want to use Sihao's code, we want to understand what is being assumed and what is not being assumed\n",
    "\n"
   ]
  },
  {
   "cell_type": "code",
   "execution_count": 23,
   "id": "430b5af5-f785-4b04-af1e-64215aa61e0a",
   "metadata": {},
   "outputs": [],
   "source": [
    "results = []\n",
    "logg_vary = []\n",
    "\n",
    "for i in range(len(catalog)):\n",
    "    obs_mag = np.array([catalog['dered_u'][i] - 0.040, catalog['dered_g'][i], catalog['dered_r'][i], catalog['dered_i'][i] + 0.015, catalog['dered_z'][i] + 0.030])\n",
    "    e_obs_mag = np.array([catalog['err_u'][i], catalog['err_g'][i], catalog['err_r'][i], catalog['err_i'][i], catalog['err_z'][i]])\n",
    "    \n",
    "    results.append(get_parameters(obs_mag, e_obs_mag))\n",
    "    logg_vary.append(get_parameters(obs_mag, e_obs_mag, vary_logg = True))"
   ]
  },
  {
   "cell_type": "code",
   "execution_count": 24,
   "id": "c157c101-72bb-4c07-848a-f7c5779b6fe9",
   "metadata": {},
   "outputs": [
    {
     "ename": "ValueError",
     "evalue": "unsupported format character 'w' (0x77) at index 34",
     "output_type": "error",
     "traceback": [
      "\u001b[0;31m---------------------------------------------------------------------------\u001b[0m",
      "\u001b[0;31mValueError\u001b[0m                                Traceback (most recent call last)",
      "Input \u001b[0;32mIn [24]\u001b[0m, in \u001b[0;36m<cell line: 33>\u001b[0;34m()\u001b[0m\n\u001b[1;32m     31\u001b[0m \u001b[38;5;66;03m#axes[0].set_title('Gravitational Redshift', fontsize=20)\u001b[39;00m\n\u001b[1;32m     32\u001b[0m axes[\u001b[38;5;241m0\u001b[39m]\u001b[38;5;241m.\u001b[39mset_xlabel(\u001b[38;5;124mr\u001b[39m\u001b[38;5;124m'\u001b[39m\u001b[38;5;124mReduced Chisqr (Without Vary logg, Mean: \u001b[39m\u001b[38;5;132;01m%4.2f\u001b[39;00m\u001b[38;5;124m)\u001b[39m\u001b[38;5;124m'\u001b[39m \u001b[38;5;241m%\u001b[39m np\u001b[38;5;241m.\u001b[39mmean(rnovary), fontsize\u001b[38;5;241m=\u001b[39m\u001b[38;5;241m18\u001b[39m)\n\u001b[0;32m---> 33\u001b[0m axes[\u001b[38;5;241m1\u001b[39m]\u001b[38;5;241m.\u001b[39mset_xlabel(\u001b[38;5;124;43mr\u001b[39;49m\u001b[38;5;124;43m'\u001b[39;49m\u001b[38;5;124;43mReduced Chisqr (Vary logg, Mean: \u001b[39;49m\u001b[38;5;124;43m%\u001b[39;49m\u001b[38;5;124;43mwd_phot_bp_mean_mag4.2f)\u001b[39;49m\u001b[38;5;124;43m'\u001b[39;49m\u001b[43m \u001b[49m\u001b[38;5;241;43m%\u001b[39;49m\u001b[43m \u001b[49m\u001b[43mnp\u001b[49m\u001b[38;5;241;43m.\u001b[39;49m\u001b[43mmean\u001b[49m\u001b[43m(\u001b[49m\u001b[43mrvary\u001b[49m\u001b[43m)\u001b[49m, fontsize\u001b[38;5;241m=\u001b[39m\u001b[38;5;241m18\u001b[39m)\n\u001b[1;32m     35\u001b[0m fig\u001b[38;5;241m.\u001b[39msavefig(\u001b[38;5;124m'\u001b[39m\u001b[38;5;124m/home/arseneausm/Documents/arseneausm.github.io/notes/figures/redchi_comparison_ugriz.jpeg\u001b[39m\u001b[38;5;124m'\u001b[39m)\n\u001b[1;32m     38\u001b[0m \u001b[38;5;28mprint\u001b[39m(np\u001b[38;5;241m.\u001b[39mmean(novary))\n",
      "\u001b[0;31mValueError\u001b[0m: unsupported format character 'w' (0x77) at index 34"
     ]
    },
    {
     "data": {
      "image/png": "[encoded data removed]",
      "text/plain": [
       "<Figure size 1080x648 with 2 Axes>"
      ]
     },
     "metadata": {
      "needs_background": "light"
     },
     "output_type": "display_data"
    },
    {
     "data": {
      "image/png": "[encoded data removed]",
      "text/plain": [
       "<Figure size 1080x648 with 2 Axes>"
      ]
     },
     "metadata": {
      "needs_background": "light"
     },
     "output_type": "display_data"
    }
   ],
   "source": [
    "novary = np.array([result.chisqr for result in results])\n",
    "vary = np.array([logg_varys.chisqr for logg_varys in logg_vary])\n",
    "\n",
    "fig, axes = plt.subplots(nrows=1, ncols=2, figsize=(15, 9))\n",
    "#axes.grid()\n",
    "axes[0].hist(novary, bins = 20, alpha=0.5, color='black', label='No Vary Logg')\n",
    "axes[1].hist(vary, bins = 20, alpha=0.5, color='red', label='Vary Logg')\n",
    "ymin, ymax = axes[0].get_ylim()\n",
    "axes[0].vlines(np.mean(novary), ymin, ymax, linestyles='dashed', color = 'black')\n",
    "axes[1].vlines(np.mean(vary), ymin, ymax, linestyles='dashed', color='red')\n",
    "\n",
    "#axes[0].set_title('Gravitational Redshift', fontsize=20)\n",
    "axes[0].set_xlabel(r'Chisqr (Without Vary logg, Mean: %4.2f)' % np.mean(novary), fontsize=18)\n",
    "axes[1].set_xlabel(r'Chisqr (Vary logg, Mean: %4.2f)' % np.mean(vary), fontsize=18)\n",
    "\n",
    "axes[0].text(0.05, 0.26, r'Mean: $4.2f' % np.mean(novary), transform = plt.gca().transAxes, fontsize=20)\n",
    "axes[1].text(0.05, 0.26, r'Mean: $4.2f' % np.mean(vary), transform = plt.gca().transAxes, fontsize=20)\n",
    "fig.savefig('/home/arseneausm/Documents/arseneausm.github.io/notes/figures/chisqr_comparison_ugriz.jpeg')\n",
    "\n",
    "rnovary = np.array([result.redchi for result in results])\n",
    "rvary = np.array([logg_varys.redchi for logg_varys in logg_vary])\n",
    "\n",
    "fig, axes = plt.subplots(nrows=1, ncols=2, figsize=(15, 9))\n",
    "#axes.grid()\n",
    "axes[0].hist(rnovary, bins = 20, alpha=0.5, color='black', label='No Vary Logg')\n",
    "axes[1].hist(rvary, bins = 20, alpha=0.5, color='red', label='Vary Logg')\n",
    "ymin, ymax = axes[0].get_ylim()\n",
    "axes[0].vlines(np.mean(rnovary), ymin, ymax, linestyles='dashed', color = 'black')\n",
    "axes[1].vlines(np.mean(rvary), ymin, ymax, linestyles='dashed', color='red')\n",
    "\n",
    "#axes[0].set_title('Gravitational Redshift', fontsize=20)\n",
    "axes[0].set_xlabel(r'Reduced Chisqr (Without Vary logg, Mean: %4.2f)' % np.mean(rnovary), fontsize=18)\n",
    "axes[1].set_xlabel(r'Reduced Chisqr (Vary logg, Mean: %wd_phot_bp_mean_mag4.2f)' % np.mean(rvary), fontsize=18)\n",
    "\n",
    "fig.savefig('/home/arseneausm/Documents/arseneausm.github.io/notes/figures/redchi_comparison_ugriz.jpeg')\n",
    "\n",
    "\n",
    "print(np.mean(novary))\n",
    "print(np.mean(vary))\n",
    "\n",
    "print(np.mean(rnovary))\n",
    "print(np.mean(rvary))"
   ]
  },
  {
   "cell_type": "code",
   "execution_count": null,
   "id": "977dfdfd-f05a-4dec-ac79-cf684bbcb19b",
   "metadata": {},
   "outputs": [],
   "source": [
    "catalog['radius'] = [result.params['radius'].value for result in results]\n",
    "catalog['e_radius'] = [result.params['radius'].stderr for result in results]\n",
    "catalog['teff'] = [result.params['teff'].value for result in results]\n",
    "catalog['e_teff'] = [result.params['teff'].stderr for result in results]\n",
    "catalog['chisqr'] = [result.redchi for result in results]"
   ]
  },
  {
   "cell_type": "code",
   "execution_count": null,
   "id": "d951c72f-3cd4-4cba-a1fb-557267c58fc8",
   "metadata": {},
   "outputs": [],
   "source": [
    "model = WD_models.load_model('f', 'f', 'f', 'H')\n",
    "font_model = model\n",
    "\n",
    "def rv_from_radius(radarray, teffarray, lowmass = 'f', midmass = 'f', highmass = 'f'):\n",
    "    \n",
    "    if lowmass is not 'f' or highmass is not 'f' or midmass is not 'f':\n",
    "        font_model = WD_models.load_model(lowmass, midmass, highmass, 'H')\n",
    "    else:\n",
    "        font_model = model\n",
    "\n",
    "    #     font_model = WD_models.load_model(lowmass, midmass, highmass, 'H')\n",
    "\n",
    "\n",
    "    g_acc = (10**font_model['logg'])/100\n",
    "    rsun = np.sqrt(font_model['mass_array'] * mass_sun * newton_G / g_acc) / radius_sun\n",
    "    \n",
    "    rsun_teff_to_m = WD_models.interp_xy_z_func(x = rsun, y = 10**font_model['logteff'],\\\n",
    "                                                z = font_model['mass_array'], interp_type = 'linear')\n",
    "    \n",
    "    mass = rsun_teff_to_m(radarray, teffarray) * mass_sun\n",
    "    radius = radarray * radius_sun\n",
    "    rv = newton_G * mass / (speed_light * radius)\n",
    "\n",
    "    return rv*1e-3"
   ]
  },
  {
   "cell_type": "code",
   "execution_count": null,
   "id": "478e0109-e844-426a-8fcd-8ff1b5f1b31d",
   "metadata": {},
   "outputs": [],
   "source": [
    "fontaine_model = WD_models.load_model('f', 'f', 'f', 'H')"
   ]
  },
  {
   "cell_type": "code",
   "execution_count": null,
   "id": "684fc704-d60e-4e9d-bef4-7d0d27f54657",
   "metadata": {},
   "outputs": [],
   "source": []
  },
  {
   "cell_type": "code",
   "execution_count": null,
   "id": "1246083c-0356-4f5d-ab3e-1e909a8a85c4",
   "metadata": {
    "tags": []
   },
   "outputs": [],
   "source": [
    "#tcatalog = catalog\n",
    "#catalog = tcatalog\n",
    "print(len(catalog))\n",
    "catalog = catalog[catalog['chisqr'] < 2.5]\n",
    "print(len(catalog))\n",
    "catalog = catalog[catalog['wd_parallax_over_error'] > 10]\n",
    "#tcatalog = tcatalog[tcatalog['teff'] < 13000]\n",
    "#tcatalog = tcatalog[tcatalog['teff'] > 7000]\n",
    "#tcatalog = tcatalog[tcatalog['e_radius'] < 0.02]\n",
    "\n",
    "\n",
    "plt.figure(figsize=(10,8))\n",
    "\n",
    "rsuns = np.linspace(0.006,0.025, 1000)\n",
    "theoretical_rvs = rv_from_radius(rsuns, 7000, 'f', 'f', 'f')\n",
    "plt.plot(rsuns, theoretical_rvs, 'red', linestyle = '-', label = '3,000 K Model', linewidth = 1)\n",
    "\n",
    "theoretical_rvs = rv_from_radius(rsuns, 10000, 'f', 'f', 'f')\n",
    "#plt.plot(rsuns, theoretical_rvs, 'b-', label = '10,000 K Model', linewidth = 1)\n",
    "\n",
    "theoretical_rvs = rv_from_radius(rsuns, 13000, 'f', 'f', 'f')\n",
    "plt.plot(rsuns, theoretical_rvs, 'black', label = '55,000 K Model', linewidth = 1)\n",
    "\n",
    "plt.errorbar(catalog['radius'], catalog['g_redshift'], xerr=catalog['e_radius'], yerr=catalog['eg_redshift'], fmt='o')\n",
    "plt.grid()\n",
    "plt.xlabel(r'Radius $[R_{0}]$')\n",
    "plt.ylabel(r'Gravitational Redshift $[km/s]$')\n",
    "plt.xlim(0.006, 0.025)\n",
    "plt.ylim(0, 120)\n",
    "plt.legend()\n",
    "plt.savefig('plots/photometry/gredshift_vs_radius.jpg')"
   ]
  },
  {
   "cell_type": "code",
   "execution_count": null,
   "id": "74922d04-7bac-44e3-973f-9c9521a5ed1a",
   "metadata": {},
   "outputs": [],
   "source": [
    "plt.figure(figsize=(10,10))\n",
    "\n",
    "plt.errorbar(catalog['radius'], catalog['teff'], xerr=catalog['e_radius'], yerr=catalog['e_teff'], fmt='o')\n",
    "plt.grid()\n",
    "plt.xlabel(r'Radius $[R_{0}]$')\n",
    "plt.ylabel(r'$T_{eff}$')"
   ]
  },
  {
   "cell_type": "code",
   "execution_count": null,
   "id": "18b512e9-37c3-4ef3-ac3e-261bd67a7cbd",
   "metadata": {},
   "outputs": [],
   "source": [
    "plt.figure(figsize=(10,10))\n",
    "plt.grid()\n",
    "plt.hist(catalog['radius'], bins = 20, histtype='step', color='black')\n",
    "ymin, ymax = plt.ylim()\n",
    "plt.vlines(np.mean(catalog['radius']), ymin, ymax, linestyles='dashed')\n",
    "plt.xlabel(r'Photometric Radius $[R_{0}]$', fontsize=18)\n",
    "plt.savefig('plots/photometry/radius.png')"
   ]
  },
  {
   "cell_type": "code",
   "execution_count": null,
   "id": "d1a98329-af84-418e-8152-7fd0bc2ca6bd",
   "metadata": {},
   "outputs": [],
   "source": [
    "plt.figure(figsize=(10,10))\n",
    "plt.grid()\n",
    "plt.hist(catalog['teff'], bins = 20, histtype='step', color='black')\n",
    "ymin, ymax = plt.ylim()\n",
    "plt.vlines(np.mean(catalog['teff']), ymin, ymax, linestyles='dashed')\n",
    "plt.xlabel(r'$ T_{eff}$', fontsize=18)\n",
    "plt.savefig('plots/photometry/teff.png')"
   ]
  },
  {
   "cell_type": "code",
   "execution_count": null,
   "id": "4d6b44a2-2dc9-4d08-b13c-6ae54c5adbe1",
   "metadata": {},
   "outputs": [],
   "source": [
    "plt.figure(figsize=(10,10))\n",
    "plt.grid()\n",
    "plt.hist(catalog['wd_parallax_over_error'], bins = 20, histtype='step', color='black')\n",
    "ymin, ymax = plt.ylim()\n",
    "plt.vlines(np.mean(catalog['wd_parallax_over_error']), ymin, ymax, linestyles='dashed')\n",
    "plt.xlabel(r'Parallax Over Error', fontsize=18)\n",
    "plt.savefig('plots/photometry/parallax_over_error.png')"
   ]
  },
  {
   "cell_type": "code",
   "execution_count": null,
   "id": "2a72af70-0124-4fd0-b000-c028904685b3",
   "metadata": {},
   "outputs": [],
   "source": [
    "catalog.write('data/02_photometry.fits', overwrite=True)"
   ]
  },
  {
   "cell_type": "code",
   "execution_count": null,
   "id": "03317de6-981f-41f6-90d3-77bdf498b111",
   "metadata": {},
   "outputs": [],
   "source": []
  }
 ],
 "metadata": {
  "kernelspec": {
   "display_name": "Python 3 (ipykernel)",
   "language": "python",
   "name": "python3"
  },
  "language_info": {
   "codemirror_mode": {
    "name": "ipython",
    "version": 3
   },
   "file_extension": ".py",
   "mimetype": "text/x-python",
   "name": "python",
   "nbconvert_exporter": "python",
   "pygments_lexer": "ipython3",
   "version": "3.8.3"
  }
 },
 "nbformat": 4,
 "nbformat_minor": 5
}
