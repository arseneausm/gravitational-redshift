{
 "cells": [
  {
   "cell_type": "code",
   "execution_count": 1,
   "id": "d3da54ce",
   "metadata": {
    "tags": []
   },
   "outputs": [],
   "source": [
    "# Install a pip package in the current Jupyter kernel\n",
    "import sys\n",
    "import os\n",
    "sys.path.append('../')\n",
    "sys.path.append('../corv/src')\n",
    "\n",
    "\n",
    "### General\n",
    "import numpy as np\n",
    "import matplotlib.pyplot as plt\n",
    "import matplotlib.colors as colors\n",
    "\n",
    "import astropy\n",
    "from astropy.coordinates import SkyCoord\n",
    "from astropy.io import fits\n",
    "import astropy.units as u\n",
    "from astropy.table import Table, Column, MaskedColumn, join\n",
    "\n",
    "from tqdm import tqdm\n",
    "import pandas as pd\n",
    "from scipy.optimize import curve_fit\n",
    "import scipy.stats as stats\n",
    "\n",
    "### Tools\n",
    "import WD_models\n",
    "from bisect import bisect_left\n",
    "import lmfit\n",
    "import glob\n",
    "\n",
    "from astroquery.sdss import SDSS\n",
    "from astroquery.gaia import Gaia\n",
    "\n",
    "#corv.sdss.make_catalogs()"
   ]
  },
  {
   "cell_type": "code",
   "execution_count": 2,
   "id": "e2f01c7c",
   "metadata": {
    "tags": []
   },
   "outputs": [],
   "source": [
    "c = 2.998e10\n",
    "k = 1.38e-16\n",
    "h = 6.626e-27\n",
    "halpha = 6564.61\n",
    "hbeta = 4862.68\n",
    "hgamma = 4341.68\n",
    "hdelta = 4102.89\n",
    "speed_light = 299792458 #m/s\n",
    "radius_sun = 6.957e8\n",
    "mass_sun = 1.9884e30\n",
    "newton_G = 6.674e-11\n",
    "pc_to_m = 3.086775e16"
   ]
  },
  {
   "cell_type": "code",
   "execution_count": 3,
   "id": "e8000d2e",
   "metadata": {
    "tags": []
   },
   "outputs": [],
   "source": [
    "from __future__ import print_function\n",
    "from astropy.coordinates import SkyCoord\n",
    "import astropy.units as u\n",
    "#from dustmaps.bayestar import BayestarQuery\n",
    "\n",
    "#coords = SkyCoord('12h30m25.3s', '15d15m58.1s', distance = 200 * u.kpc, frame='icrs')\n",
    "#bsq = BayestarQuery()\n",
    "#ebv = bsq.query(coords)\n",
    "#\n",
    "#coords = SkyCoord('12h30m25.3s', '15d15m58.1s', distance = 200 * u.kpc, frame='icrs')\n",
    "#print('E(B-V) = {:.3f} mag'.format(ebv))\n",
    "##print(ebv)"
   ]
  },
  {
   "cell_type": "code",
   "execution_count": 4,
   "id": "884d80fc",
   "metadata": {
    "tags": []
   },
   "outputs": [
    {
     "name": "stdout",
     "output_type": "stream",
     "text": [
      "01_apo_match.ipynb     02_photometry.ipynb  \u001b[0m\u001b[01;34mapo\u001b[0m/             \u001b[01;34mspectra\u001b[0m/\n",
      "01_falcon_match.ipynb  03_wd_spectra.ipynb  credentials.txt  stefan.mplstyle\n",
      "01_sdss4_match.ipynb   04_ms_spectra.ipynb  \u001b[01;34mdata\u001b[0m/            Untitled.ipynb\n",
      "01_sdss5_match.ipynb   05_relation.ipynb    \u001b[01;34msdss5\u001b[0m/\n"
     ]
    }
   ],
   "source": [
    "ls"
   ]
  },
  {
   "cell_type": "code",
   "execution_count": 5,
   "id": "5b1c55a2",
   "metadata": {
    "tags": []
   },
   "outputs": [
    {
     "name": "stderr",
     "output_type": "stream",
     "text": [
      "WARNING: UnitsWarning: 'log(cm.s**-2)' did not parse as fits unit: 'log' is not a recognized function If this is meant to be a custom unit, define it with 'u.def_unit'. To have it recognized inside a file reader or other code, enable it with 'u.add_enabled_units'. For details, see https://docs.astropy.org/en/latest/units/combining_and_defining.html [astropy.units.core]\n"
     ]
    }
   ],
   "source": [
    "from astropy.table import Table, vstack, unique\n",
    "\n",
    "ms_sdss4_wd_sdss4 = Table.read('data/ms_sdss4_wd_sdss4.fits')\n",
    "ms_gaia_wd_sdss4 = Table.read('data/ms_gaia_wd_sdss4.fits')\n",
    "ms_sdss5_wd_sdss4 = Table.read('sdss5/ms_sdss5_wd_sdss4.fits')\n",
    "\n",
    "ms_gaia_wd_sdss5 = Table.read('sdss5/ms_gaia_wd_sdss5.fits')\n",
    "ms_sdss4_wd_sdss5 = Table.read('sdss5/ms_sdss4_wd_sdss5.fits')\n",
    "ms_sdss5_wd_sdss5 = Table.read('sdss5/ms_sdss5_wd_sdss5.fits')\n",
    "\n",
    "ms_gaia_wd_falcon = Table.read('data/ms_gaia_wd_falcon.fits')\n",
    "gemini = Table.read('data/gemini.fits')\n",
    "\n",
    "\n",
    "def strip(catalog):  \n",
    "    drop_cols = []\n",
    "    keep_cols = ['wd_source_id', 'ms_source_id', 'wd_l', 'wd_b', 'ms_parallax', 'ms_parallax_over_error', 'wd_ra', 'wd_dec', \n",
    "                 'wd_bp_rp', 'wd_phot_g_mean_mag', 'wd_phot_bp_mean_mag', 'wd_phot_rp_mean_mag', 'wd_phot_g_mean_flux', 'wd_phot_bp_mean_flux', 'wd_phot_rp_mean_flux',\n",
    "                 'wd_phot_g_mean_flux_error', 'wd_phot_bp_mean_flux_error', 'wd_phot_rp_mean_flux_error', 'uses_sdss5']\n",
    "        \n",
    "    for key in catalog.keys():\n",
    "        if key not in keep_cols:\n",
    "            drop_cols.append(key)\n",
    "            \n",
    "    catalog.remove_columns(drop_cols)\n",
    "    \n",
    "    return catalog\n",
    "\n",
    "ms_gaia_wd_sdss4  = strip(ms_gaia_wd_sdss4 )\n",
    "ms_sdss4_wd_sdss4 = strip(ms_sdss4_wd_sdss4)\n",
    "ms_sdss5_wd_sdss4 = strip(ms_sdss5_wd_sdss4)\n",
    "\n",
    "ms_gaia_wd_sdss5  = strip(ms_gaia_wd_sdss5 )\n",
    "ms_sdss4_wd_sdss5 = strip(ms_sdss4_wd_sdss5)\n",
    "ms_sdss5_wd_sdss5 = strip(ms_sdss5_wd_sdss5)\n",
    "\n",
    "ms_gaia_wd_falcon = strip(ms_gaia_wd_falcon)\n",
    "gemini = strip(gemini)\n",
    "\n",
    "catalog = unique(vstack([ms_sdss4_wd_sdss4, ms_gaia_wd_sdss4, ms_sdss4_wd_sdss5, ms_sdss5_wd_sdss4, ms_gaia_wd_sdss5, ms_sdss5_wd_sdss5, ms_gaia_wd_falcon, gemini]), keys = 'wd_source_id')"
   ]
  },
  {
   "cell_type": "code",
   "execution_count": 6,
   "id": "2b4df744",
   "metadata": {
    "tags": []
   },
   "outputs": [
    {
     "name": "stdout",
     "output_type": "stream",
     "text": [
      "613\n"
     ]
    }
   ],
   "source": [
    "print(len(catalog))"
   ]
  },
  {
   "cell_type": "code",
   "execution_count": 7,
   "id": "37adf684-0bd3-41b6-b6ca-40a062935f30",
   "metadata": {
    "tags": []
   },
   "outputs": [
    {
     "name": "stderr",
     "output_type": "stream",
     "text": [
      "100%|█████████████████████████████████████████████████████████████████████████████████████| 7/7 [00:05<00:00,  1.24it/s]\n"
     ]
    }
   ],
   "source": [
    "from astropy.table import Table, vstack, hstack\n",
    "\n",
    "only_rvs = True\n",
    "\n",
    "stardats = []\n",
    "iters = (len(catalog)+100) // 100\n",
    "\n",
    "# MS Gaia Sources\n",
    "\n",
    "for i in tqdm(range(iters)):\n",
    "        ADQL_CODE1 = \"\"\"SELECT dist.source_id, dist.r_med_geo\n",
    "        FROM gaiadr3.gaia_source as gaia\n",
    "        JOIN external.gaiaedr3_distance as dist\n",
    "        ON gaia.source_id = dist.source_id      \n",
    "        WHERE gaia.source_id in {}\"\"\".format(tuple(catalog['ms_source_id'][100*i:100*i+100]))\n",
    "        stardats.append(Gaia.launch_job(ADQL_CODE1,dump_to_file=False).get_results())\n",
    "        \n",
    "gaia_d1 = vstack(stardats)"
   ]
  },
  {
   "cell_type": "code",
   "execution_count": 8,
   "id": "0d476dc0-0203-4265-9ae3-16eceafc9018",
   "metadata": {
    "tags": []
   },
   "outputs": [
    {
     "name": "stderr",
     "output_type": "stream",
     "text": [
      "100%|█████████████████████████████████████████████████████████████████████████████████| 613/613 [00:08<00:00, 70.49it/s]\n"
     ]
    }
   ],
   "source": [
    "catalog['r_est'] = -999*np.ones(len(catalog))\n",
    "catalog['uses_bjd'] = [True for i in range(len(catalog))]\n",
    "\n",
    "for i in tqdm(range(len(catalog))):\n",
    "    for j in range(len(gaia_d1)):\n",
    "        if catalog['ms_source_id'][i] == gaia_d1['source_id'][j]:\n",
    "            catalog['r_est'][i] = gaia_d1['r_med_geo'][j]\n",
    "            \n",
    "    if catalog['r_est'][i] < 0:\n",
    "        catalog['r_est'][i] = 1000 / catalog['ms_parallax'][i]\n",
    "        \n",
    "        catalog['uses_bjd'][i] = False"
   ]
  },
  {
   "cell_type": "code",
   "execution_count": 9,
   "id": "e90b7386-d4c2-4053-bca4-66ea0696e944",
   "metadata": {
    "tags": []
   },
   "outputs": [],
   "source": [
    "catalog.remove_column('ms_source_id')"
   ]
  },
  {
   "cell_type": "code",
   "execution_count": 10,
   "id": "06505215",
   "metadata": {
    "tags": []
   },
   "outputs": [],
   "source": [
    "coords = [SkyCoord(frame=\"galactic\", l=catalog['wd_l'][i]*u.deg, b=catalog['wd_b'][i]*u.deg, distance = catalog['r_est'][i] * u.pc) for i in range(len(catalog))]\n",
    "catalog['wd_coords'] = coords"
   ]
  },
  {
   "cell_type": "code",
   "execution_count": 11,
   "id": "1db918c4",
   "metadata": {
    "tags": []
   },
   "outputs": [
    {
     "data": {
      "text/html": [
       "<i>Row index=394</i>\n",
       "<table id=\"table139962454690592\">\n",
       "<thead><tr><th>wd_source_id</th><th>ms_parallax</th><th>ms_parallax_over_error</th><th>wd_phot_g_mean_mag</th><th>wd_phot_g_mean_flux</th><th>wd_phot_g_mean_flux_error</th><th>wd_phot_bp_mean_mag</th><th>wd_phot_bp_mean_flux</th><th>wd_phot_bp_mean_flux_error</th><th>wd_phot_rp_mean_mag</th><th>wd_phot_rp_mean_flux</th><th>wd_phot_rp_mean_flux_error</th><th>wd_bp_rp</th><th>wd_ra</th><th>wd_dec</th><th>wd_l</th><th>wd_b</th><th>uses_sdss5</th><th>r_est</th><th>uses_bjd</th><th>wd_coords</th></tr></thead>\n",
       "<thead><tr><th></th><th></th><th></th><th></th><th></th><th></th><th></th><th></th><th></th><th></th><th></th><th></th><th></th><th></th><th></th><th></th><th></th><th></th><th></th><th></th><th>deg,deg,pc</th></tr></thead>\n",
       "<thead><tr><th>int64</th><th>float64</th><th>float32</th><th>float32</th><th>float64</th><th>float32</th><th>float32</th><th>float64</th><th>float32</th><th>float32</th><th>float64</th><th>float32</th><th>float32</th><th>float64</th><th>float64</th><th>float64</th><th>float64</th><th>float64</th><th>float64</th><th>bool</th><th>SkyCoord</th></tr></thead>\n",
       "<tr><td>2682808784091201664</td><td>8.276981261762439</td><td>517.5143</td><td>19.528942</td><td>290.6495288106169</td><td>1.2219176</td><td>19.827038</td><td>160.17748118751027</td><td>11.918251</td><td>19.008102</td><td>197.65945206629456</td><td>14.12292</td><td>0.8189354</td><td>332.2340621093803</td><td>2.138531068538412</td><td>63.15569520988561</td><td>-41.14748729146058</td><td>1.0</td><td>120.24686431884766</td><td>True</td><td>63.15569520988561,-41.14748729146058,120.24686431884766</td></tr>\n",
       "</table>"
      ],
      "text/plain": [
       "<Row index=394>\n",
       "    wd_source_id       ms_parallax    ms_parallax_over_error wd_phot_g_mean_mag wd_phot_g_mean_flux wd_phot_g_mean_flux_error wd_phot_bp_mean_mag wd_phot_bp_mean_flux wd_phot_bp_mean_flux_error wd_phot_rp_mean_mag wd_phot_rp_mean_flux wd_phot_rp_mean_flux_error  wd_bp_rp       wd_ra             wd_dec             wd_l              wd_b        uses_sdss5       r_est        uses_bjd                        wd_coords                       \n",
       "                                                                                                                                                                                                                                                                                                                                                                                                                       deg,deg,pc                      \n",
       "       int64             float64             float32              float32             float64                float32                float32             float64                 float32                 float32             float64                 float32            float32       float64           float64           float64           float64        float64        float64         bool                           SkyCoord                       \n",
       "------------------- ----------------- ---------------------- ------------------ ------------------- ------------------------- ------------------- -------------------- -------------------------- ------------------- -------------------- -------------------------- --------- ----------------- ----------------- ----------------- ------------------ ---------- ------------------ -------- -------------------------------------------------------\n",
       "2682808784091201664 8.276981261762439               517.5143          19.528942   290.6495288106169                 1.2219176           19.827038   160.17748118751027                  11.918251           19.008102   197.65945206629456                   14.12292 0.8189354 332.2340621093803 2.138531068538412 63.15569520988561 -41.14748729146058        1.0 120.24686431884766     True 63.15569520988561,-41.14748729146058,120.24686431884766"
      ]
     },
     "execution_count": 11,
     "metadata": {},
     "output_type": "execute_result"
    }
   ],
   "source": [
    "catalog[394]"
   ]
  },
  {
   "cell_type": "code",
   "execution_count": null,
   "id": "b9ed3033",
   "metadata": {},
   "outputs": [],
   "source": []
  },
  {
   "cell_type": "code",
   "execution_count": null,
   "id": "44fdef1b",
   "metadata": {},
   "outputs": [],
   "source": []
  },
  {
   "cell_type": "code",
   "execution_count": 12,
   "id": "b5b871ee",
   "metadata": {
    "tags": []
   },
   "outputs": [],
   "source": [
    "#ebv = []\n",
    "#flag1 = []\n",
    "#flag2 = []\n",
    "#\n",
    "#for i in tqdm(range(len(catalog))):\n",
    "#    bsq_res = bsq.query(catalog['wd_coords'][i], return_flags = True)\n",
    "#        \n",
    "#    ebv.append(bsq_res[0])\n",
    "#    flag1.append(bsq_res[1][0])\n",
    "#    flag2.append(bsq_res[1][1])\n",
    "#    \n",
    "#catalog['E(B-V)'] = ebv\n",
    "#catalog['converged'] = flag1\n",
    "#catalog['reliable_dist'] = flag2"
   ]
  },
  {
   "cell_type": "code",
   "execution_count": null,
   "id": "862708cd-f66f-4928-bb6c-1fe58b750b82",
   "metadata": {
    "tags": []
   },
   "outputs": [],
   "source": []
  },
  {
   "cell_type": "code",
   "execution_count": 13,
   "id": "5ba0e469-6050-4141-9541-330b5905a469",
   "metadata": {
    "tags": []
   },
   "outputs": [
    {
     "data": {
      "text/html": [
       "<div><i>Table length=613</i>\n",
       "<table id=\"table139962458430240\" class=\"table-striped table-bordered table-condensed\">\n",
       "<thead><tr><th>source_id</th><th>r_med_geo</th></tr></thead>\n",
       "<thead><tr><th></th><th>pc</th></tr></thead>\n",
       "<thead><tr><th>int64</th><th>float32</th></tr></thead>\n",
       "<tr><td>78630547564037504</td><td>201.1547</td></tr>\n",
       "<tr><td>90243761175084672</td><td>202.17758</td></tr>\n",
       "<tr><td>91690164426524288</td><td>88.40844</td></tr>\n",
       "<tr><td>235840678609579904</td><td>344.55997</td></tr>\n",
       "<tr><td>290678443086494848</td><td>61.052753</td></tr>\n",
       "<tr><td>299817274499164416</td><td>250.11562</td></tr>\n",
       "<tr><td>300721519733864192</td><td>181.56036</td></tr>\n",
       "<tr><td>361278462663417088</td><td>199.96817</td></tr>\n",
       "<tr><td>520790043347308416</td><td>61.408215</td></tr>\n",
       "<tr><td>...</td><td>...</td></tr>\n",
       "<tr><td>6886973358987025280</td><td>185.84839</td></tr>\n",
       "<tr><td>6898255177217733504</td><td>230.87221</td></tr>\n",
       "<tr><td>6898705805186335488</td><td>203.77133</td></tr>\n",
       "<tr><td>6899127089938464512</td><td>456.9748</td></tr>\n",
       "<tr><td>6899213710839008256</td><td>366.97772</td></tr>\n",
       "<tr><td>6908406487039810432</td><td>146.27457</td></tr>\n",
       "<tr><td>6910806102448648576</td><td>155.75574</td></tr>\n",
       "<tr><td>6915121788667377920</td><td>236.2197</td></tr>\n",
       "<tr><td>6915495141584244480</td><td>278.80005</td></tr>\n",
       "</table></div>"
      ],
      "text/plain": [
       "<Table length=613>\n",
       "     source_id      r_med_geo\n",
       "                        pc   \n",
       "       int64         float32 \n",
       "------------------- ---------\n",
       "  78630547564037504  201.1547\n",
       "  90243761175084672 202.17758\n",
       "  91690164426524288  88.40844\n",
       " 235840678609579904 344.55997\n",
       " 290678443086494848 61.052753\n",
       " 299817274499164416 250.11562\n",
       " 300721519733864192 181.56036\n",
       " 361278462663417088 199.96817\n",
       " 520790043347308416 61.408215\n",
       "                ...       ...\n",
       "6886973358987025280 185.84839\n",
       "6898255177217733504 230.87221\n",
       "6898705805186335488 203.77133\n",
       "6899127089938464512  456.9748\n",
       "6899213710839008256 366.97772\n",
       "6908406487039810432 146.27457\n",
       "6910806102448648576 155.75574\n",
       "6915121788667377920  236.2197\n",
       "6915495141584244480 278.80005"
      ]
     },
     "execution_count": 13,
     "metadata": {},
     "output_type": "execute_result"
    }
   ],
   "source": [
    "gaia_d1"
   ]
  },
  {
   "cell_type": "code",
   "execution_count": null,
   "id": "71ccd967-a4aa-496a-b47c-80e131b18690",
   "metadata": {},
   "outputs": [],
   "source": []
  },
  {
   "cell_type": "code",
   "execution_count": 14,
   "id": "c5868812",
   "metadata": {},
   "outputs": [],
   "source": [
    "#catalog['A_g'] = np.repeat(np.nan, len(catalog))\n",
    "#catalog['A_bp'] = np.repeat(np.nan, len(catalog))\n",
    "#catalog['A_rp'] = np.repeat(np.nan, len(catalog))\n",
    "#\n",
    "#for obj in tqdm(catalog):\n",
    "#    obj['A_g'] = obj['E(B-V)'] * 3.518\n",
    "#    obj['A_bp'] = obj['E(B-V)'] * 2.617\n",
    "#    obj['A_rp'] = obj['E(B-V)'] * 1.971\n",
    "#    \n",
    "#catalog['dered_g'] = catalog['u'] - catalog['A_u']\n",
    "#catalog['dered_bp'] = catalog['g'] - catalog['A_g']\n",
    "#catalog['dered_rp'] = catalog['r'] - catalog['A_r']\n",
    "#\n",
    "#catalog['r_est'] = 1000 / catalog['ms_parallax']"
   ]
  },
  {
   "cell_type": "code",
   "execution_count": 15,
   "id": "e335527e",
   "metadata": {
    "tags": []
   },
   "outputs": [
    {
     "name": "stdout",
     "output_type": "stream",
     "text": [
      "initialized with atm_type = H and bands = ['bp', 'rp']\n"
     ]
    }
   ],
   "source": [
    "font_model = WD_models.load_model('f', 'f', 'f', 'H', HR_bands = ['bp-rp', 'G'])\n",
    "\n",
    "g_acc = (10**font_model['logg'])/100\n",
    "rsun = np.sqrt(font_model['mass_array'] * mass_sun * newton_G / g_acc) / radius_sun\n",
    "logg_teff_to_rsun = WD_models.interp_xy_z_func(x = font_model['logg'], y = 10**font_model['logteff'],\n",
    "                                            z = rsun, interp_type = 'linear')\n",
    "\n",
    "#fitsed_sdss = WD_models.FitSED(to_flux = False, atm_type = 'H', bands = ['Su', 'Sg', 'Sr'])#, 'Si', 'Sz'])\n",
    "fitsed_gaia = WD_models.FitSED(to_flux = False, atm_type = 'H', bands = ['bp', 'rp'])#, 'Si', 'Sz'])"
   ]
  },
  {
   "cell_type": "code",
   "execution_count": 16,
   "id": "3235ece8",
   "metadata": {
    "tags": []
   },
   "outputs": [],
   "source": [
    "def mag_to_flux(mag):\n",
    "    return 10 ** ((mag )/ -2.5) \n",
    "\n",
    "def flux_to_mag(flux):\n",
    "    return -2.5 * np.log10(flux)\n",
    "    \n",
    "def get_model_flux_gaia(params):\n",
    "    \n",
    "    teff, logg, radius, distance = params['teff'], params['logg'], params['radius'], params['distance']\n",
    "    \n",
    "    model_mag = fitsed_gaia.model_sed(teff, logg, plx = 100)\n",
    "    model_flux = mag_to_flux(model_mag)\n",
    "    \n",
    "    rsun = logg_teff_to_rsun(logg, teff)\n",
    "    corr_radius = rsun * radius_sun\n",
    "    corr_distance = 10 * pc_to_m\n",
    "    \n",
    "    corr_model_flux = model_flux / (4 * np.pi * (corr_radius / corr_distance)**2)\n",
    "    \n",
    "    radius = radius * radius_sun # Rsun to meter\n",
    "    distance = distance * pc_to_m # Parsec to meter\n",
    "     \n",
    "    flux = corr_model_flux * ( 4 * np.pi * (radius / distance)**2 )\n",
    "    \n",
    "    return flux_to_mag(flux)\n",
    "    \n",
    "\n",
    "def residual_gaia(params, obs_flux = None, e_obs_flux = None):\n",
    "    model_flux = (get_model_flux_gaia(params))\n",
    "\n",
    "    chisquare = ((model_flux - obs_flux) / e_obs_flux)**2\n",
    "    \n",
    "    #chisquare[np.isnan(chisquare)] = 1e8\n",
    "    return chisquare"
   ]
  },
  {
   "cell_type": "code",
   "execution_count": 17,
   "id": "12987e48",
   "metadata": {
    "tags": []
   },
   "outputs": [],
   "source": [
    "def get_parameters_gaia(obs_mag, e_obs_mag, id_ = None, floor_error = 0.02, make_plot = False, vary_logg = False, p0 = [10000, 8, 0.01, 100]):         \n",
    "    e_obs_mag = np.sqrt(e_obs_mag**2 + floor_error**2)\n",
    "    \n",
    "    params = lmfit.Parameters()\n",
    "\n",
    "    params.add('teff', value = p0[0], min = 3500, max = 55000, vary = True)\n",
    "    params.add('logg', value = p0[1], min=7.5, max=9, vary=vary_logg)\n",
    "    params.add('radius', value = p0[2], min = 0.0001, max = 0.05, vary = True)\n",
    "    params.add('distance', value = p0[3], min = 1, max = 2000, vary = False)\n",
    "        \n",
    "    #result = lmfit.minimize(residual, params, kws = dict(obs_flux = obs_flux, e_obs_flux = e_obs_flux), method = 'emcee', steps = 5000, burn = 500, thin = 20, is_weighted = False, progress = False)\n",
    "    result = lmfit.minimize(residual_gaia, params, kws = dict(obs_flux = obs_mag, e_obs_flux = e_obs_mag), method = 'nedler')\n",
    "    \n",
    "    #result.params.pretty_print()\n",
    "        \n",
    "    return result"
   ]
  },
  {
   "cell_type": "code",
   "execution_count": null,
   "id": "a24c967f-5d3a-4d52-8431-d2cada5fc187",
   "metadata": {},
   "outputs": [],
   "source": []
  },
  {
   "cell_type": "code",
   "execution_count": 18,
   "id": "10590970",
   "metadata": {
    "tags": []
   },
   "outputs": [
    {
     "name": "stderr",
     "output_type": "stream",
     "text": [
      "100%|█████████████████████████████████████████████████████████████████████████████████| 613/613 [00:32<00:00, 18.93it/s]\n"
     ]
    }
   ],
   "source": [
    "gaia_results = []\n",
    "gaia_results7 = []\n",
    "gaia_results9 = []\n",
    "\n",
    "sigmaG_0 = 0.0027553202\n",
    "sigmaGBP_0 = 0.0027901700\n",
    "sigmaGRP_0 = 0.0037793818\n",
    "\n",
    "e_results = []\n",
    "\n",
    "logg_vary = []\n",
    "\n",
    "id_ = []\n",
    "\n",
    "for i in tqdm(range(len(catalog))):\n",
    "    id_.append(i)\n",
    "    \n",
    "    #obs_mag = np.array([catalog['wd_phot_g_mean_mag'][i], catalog['wd_phot_bp_mean_mag'][i], catalog['wd_phot_rp_mean_mag'][i]])\n",
    "    obs_mag_gaia = np.array([catalog['wd_phot_bp_mean_mag'][i], catalog['wd_phot_rp_mean_mag'][i]])\n",
    "    \n",
    "    #e_obs_mag = np.array([np.sqrt((-2.5/np.log(10)*catalog['wd_phot_g_mean_flux_error'][i]/catalog['wd_phot_g_mean_flux'][i])**2 + sigmaG_0**2), \n",
    "    #                               np.sqrt((-2.5/np.log(10)*catalog['wd_phot_bp_mean_flux_error'][i]/catalog['wd_phot_bp_mean_flux'][i])**2 + sigmaGBP_0**2), \n",
    "    #                               np.sqrt((-2.5/np.log(10)*catalog['wd_phot_rp_mean_flux_error'][i]/catalog['wd_phot_rp_mean_flux'][i])**2 + sigmaGRP_0**2)])\n",
    "    e_obs_mag_gaia = np.array([np.sqrt((-2.5/np.log(10)*catalog['wd_phot_bp_mean_flux_error'][i]/catalog['wd_phot_bp_mean_flux'][i])**2 + sigmaGBP_0**2), \n",
    "                                   np.sqrt((-2.5/np.log(10)*catalog['wd_phot_rp_mean_flux_error'][i]/catalog['wd_phot_rp_mean_flux'][i])**2 + sigmaGRP_0**2)])\n",
    "        \n",
    "    #obs_mag = np.array([catalog['u'][i] - 0.040, catalog['g'][i], catalog['r'][i]])\n",
    "    #e_obs_mag = np.array([catalog['u_err'][i], catalog['g_err'][i], catalog['r_err'][i]])\n",
    "    \n",
    "    gaia_logg7 = get_parameters_gaia(obs_mag_gaia, e_obs_mag_gaia, vary_logg=False, p0 = [10000, 7, 0.003, catalog['r_est'][i]] )\n",
    "    gaia_logg8 = get_parameters_gaia(obs_mag_gaia, e_obs_mag_gaia, vary_logg=False, p0 = [10000, 8, 0.003, catalog['r_est'][i]])\n",
    "    gaia_logg9 = get_parameters_gaia(obs_mag_gaia, e_obs_mag_gaia, vary_logg=False, p0 = [10000, 9, 0.003, catalog['r_est'][i]] )\n",
    "    \n",
    "    #vary_logg = get_parameters_gaia(obs_mag_gaia, e_obs_mag_gaia, vary_logg=True, p0 = [10000, 8, 0.003, catalog['r_est'][i]])\n",
    "    \n",
    "    #sdss_logg7 = get_parameters_sdss(obs_mag, e_obs_mag, vary_logg=False, p0 = [10000, 7, 0.003, catalog['r_est'][i]] )\n",
    "    #sdss_logg8 = get_parameters_sdss(obs_mag, e_obs_mag, vary_logg=False, p0 = [10000, 8, 0.003, catalog['r_est'][i]])\n",
    "    #sdss_logg9 = get_parameters_sdss(obs_mag, e_obs_mag, vary_logg=False, p0 = [10000, 9, 0.003, catalog['r_est'][i]] )\n",
    "    \n",
    "    #plots.append(plot)\n",
    "        \n",
    "    gaia_results.append(gaia_logg8)\n",
    "    gaia_results7.append(gaia_logg7)\n",
    "    gaia_results9.append(gaia_logg9)\n",
    "    \n",
    "    #logg_vary.append(vary_logg.params['radius'].value)\n",
    "    \n",
    "    #sdss_results.append(sdss_logg8)\n",
    "    #sdss_results7.append(sdss_logg7)\n",
    "    #sdss_results9.append(sdss_logg9)\n",
    "    \n",
    "catalog['wd_catalog_id_phot'] = id_\n",
    "results = gaia_results"
   ]
  },
  {
   "cell_type": "code",
   "execution_count": 19,
   "id": "d6870f01",
   "metadata": {},
   "outputs": [
    {
     "data": {
      "text/plain": [
       "array([0.00533168, 0.08083404, 0.0776687 ])"
      ]
     },
     "execution_count": 19,
     "metadata": {},
     "output_type": "execute_result"
    }
   ],
   "source": [
    "i = 394\n",
    "\n",
    "np.array([np.sqrt((-2.5/np.log(10)*catalog['wd_phot_g_mean_flux_error'][i]/catalog['wd_phot_g_mean_flux'][i])**2 + sigmaG_0**2), \n",
    "                               np.sqrt((-2.5/np.log(10)*catalog['wd_phot_bp_mean_flux_error'][i]/catalog['wd_phot_bp_mean_flux'][i])**2 + sigmaGBP_0**2), \n",
    "                               np.sqrt((-2.5/np.log(10)*catalog['wd_phot_rp_mean_flux_error'][i]/catalog['wd_phot_rp_mean_flux'][i])**2 + sigmaGRP_0**2)])\n"
   ]
  },
  {
   "cell_type": "code",
   "execution_count": 21,
   "id": "b7024427",
   "metadata": {
    "tags": []
   },
   "outputs": [],
   "source": [
    "\n",
    "\n",
    "for i in range(len(gaia_results)):\n",
    "    if gaia_results[i].params['radius'].stderr is None:\n",
    "        gaia_results[i].params['radius'].stderr = 0\n",
    "\n"
   ]
  },
  {
   "cell_type": "code",
   "execution_count": 22,
   "id": "cfb99310",
   "metadata": {},
   "outputs": [],
   "source": [
    "#catalog['raw_radius_result'] = [result for result in sdss_results]\n",
    "#catalog['radius'] = [result.params['radius'].value for result in sdss_results]\n",
    "#catalog['phot_teff'] = [result.params['teff'].value for result in sdss_results]\n",
    "#catalog['e_phot_teff'] = [result.params['teff'].stderr for result in sdss_results]\n",
    "#catalog['redchi'] = [result.redchi for result in sdss_results]\n",
    "#catalog['e_radius'] = [np.sqrt(sdss_results[i].params['radius'].stderr**2 + np.abs(sdss_results7[i].params['radius'].value - sdss_results9[i].params['radius'].value)**2 ) for i in range(len(sdss_results))]\n",
    "#catalog['error_from_model'] = [np.abs(sdss_results7[i].params['radius'].value - sdss_results9[i].params['radius'].value) for i in range(len(sdss_results))]\n",
    "\n",
    "catalog['raw_radius_result'] = [result for result in gaia_results]\n",
    "catalog['radius'] = [result.params['radius'].value for result in gaia_results]\n",
    "catalog['phot_teff'] = [result.params['teff'].value for result in gaia_results]\n",
    "catalog['e_phot_teff'] = [result.params['teff'].stderr for result in gaia_results]\n",
    "catalog['redchi'] = [result.redchi for result in gaia_results]\n",
    "catalog['e_radius'] = [np.sqrt(gaia_results[i].params['radius'].stderr**2 + np.abs(gaia_results7[i].params['radius'].value - gaia_results9[i].params['radius'].value)**2 ) for i in range(len(gaia_results))]\n",
    "catalog['error_from_model'] = [np.abs(gaia_results7[i].params['radius'].value - gaia_results9[i].params['radius'].value) for i in range(len(gaia_results))]\n",
    "\n",
    "#logg_pctdiff = (logg_vary - catalog['radius']) / catalog['radius']"
   ]
  },
  {
   "cell_type": "code",
   "execution_count": 23,
   "id": "02c709ab-4d76-444e-886b-e050d7c034a5",
   "metadata": {
    "tags": []
   },
   "outputs": [],
   "source": [
    "#print(np.median(logg_pctdiff))\n",
    "#plt.hist(logg_pctdiff)\n",
    "#plt.xlabel(r'% difference between $R_\\odot$ when $\\log g=8$ and $\\log g$ varies')"
   ]
  },
  {
   "cell_type": "code",
   "execution_count": 24,
   "id": "9fff5e0e",
   "metadata": {
    "tags": []
   },
   "outputs": [
    {
     "name": "stdout",
     "output_type": "stream",
     "text": [
      "613\n",
      "613\n"
     ]
    }
   ],
   "source": [
    "from astropy.table import Table, Column, MaskedColumn, join, unique\n",
    "\n",
    "\n",
    "print(len(catalog))\n",
    "print(len(unique(catalog, keys = 'wd_source_id')))"
   ]
  },
  {
   "cell_type": "code",
   "execution_count": 25,
   "id": "66aca352",
   "metadata": {},
   "outputs": [
    {
     "name": "stdout",
     "output_type": "stream",
     "text": [
      "0.03679545899420171\n"
     ]
    },
    {
     "data": {
      "image/png": "[encoded data removed]",
      "text/plain": [
       "<Figure size 640x480 with 1 Axes>"
      ]
     },
     "metadata": {},
     "output_type": "display_data"
    }
   ],
   "source": [
    "e_obs_mags = []\n",
    "\n",
    "for p in range(len(catalog)):\n",
    "    #obs_mag = np.array([catalog['wd_phot_g_mean_mag'][p], catalog['wd_phot_bp_mean_mag'][p], catalog['wd_phot_rp_mean_mag'][p]])\n",
    "    obs_mag = np.array([catalog['wd_phot_bp_mean_mag'][p], catalog['wd_phot_rp_mean_mag'][p]])\n",
    "    \n",
    "    #e_obs_mag = np.array([np.sqrt((-2.5/np.log(10)*catalog['wd_phot_g_mean_flux_error'][p]/catalog['wd_phot_g_mean_flux'][p])**2 + sigmaG_0**2), \n",
    "    #                               np.sqrt((-2.5/np.log(10)*catalog['wd_phot_bp_mean_flux_error'][p]/catalog['wd_phot_bp_mean_flux'][p])**2 + sigmaGBP_0**2), \n",
    "    #                               np.sqrt((-2.5/np.log(10)*catalog['wd_phot_rp_mean_flux_error'][p]/catalog['wd_phot_rp_mean_flux'][p])**2 + sigmaGRP_0**2)])\n",
    "    e_obs_mag = np.array([np.sqrt((-2.5/np.log(10)*catalog['wd_phot_bp_mean_flux_error'][p]/catalog['wd_phot_bp_mean_flux'][p])**2 + sigmaGBP_0**2), \n",
    "                                   np.sqrt((-2.5/np.log(10)*catalog['wd_phot_rp_mean_flux_error'][p]/catalog['wd_phot_rp_mean_flux'][p])**2 + sigmaGRP_0**2)])\n",
    "    \n",
    "    e_obs_mags.append(e_obs_mag)\n",
    "\n",
    "plt.hist(e_obs_mags)\n",
    "print(np.median(e_obs_mags))"
   ]
  },
  {
   "cell_type": "code",
   "execution_count": 26,
   "id": "17c9f82b",
   "metadata": {
    "tags": []
   },
   "outputs": [
    {
     "name": "stderr",
     "output_type": "stream",
     "text": [
      "100%|█████████████████████████████████████████████████████████████████████████████████| 613/613 [01:15<00:00,  8.15it/s]\n"
     ]
    }
   ],
   "source": [
    "for i in tqdm(range(len(catalog))):\n",
    "    bands = ['bp', 'rp']#, 'i', 'z']\n",
    "    \n",
    "    fig = plt.figure(figsize = (8,7))\n",
    "    plt.errorbar(bands, np.array([catalog['wd_phot_bp_mean_mag'][i], catalog['wd_phot_rp_mean_mag'][i]]),#, catalog['i'][i] + 0.015, catalog['z'][i] + 0.030],\n",
    "                 yerr = np.array([np.sqrt((-2.5/np.log(10)*catalog['wd_phot_bp_mean_flux_error'][i]/catalog['wd_phot_bp_mean_flux'][i])**2 + sigmaGBP_0**2), \n",
    "                               np.sqrt((-2.5/np.log(10)*catalog['wd_phot_rp_mean_flux_error'][i]/catalog['wd_phot_rp_mean_flux'][i])**2 + sigmaGRP_0**2)]),#, catalog['i_err'][i], catalog['z_err'][i]],\n",
    "                 linestyle = 'none', marker = 'None', color = 'k', capsize = 5, label = 'Observed SED')\n",
    "    plt.plot(bands, get_model_flux_gaia(results[i].params), 'bo', markersize = 10, label = 'Model SED')\n",
    "    plt.title('SED {}'.format(catalog['wd_catalog_id_phot'][i]))\n",
    "    plt.text(0.15, 0.26, r'$Teff = ${} $K$'.format(results[i].params['teff'].value), transform = plt.gca().transAxes, fontsize=20)\n",
    "    plt.text(0.15, 0.20, r'$logg = ${} '.format(results[i].params['logg'].value), transform = plt.gca().transAxes, fontsize=20)\n",
    "    plt.text(0.15, 0.15, r'$dist = ${} $pc$'.format(results[i].params['distance'].value), transform = plt.gca().transAxes, fontsize=20)\n",
    "    plt.text(0.15, 0.36, r'$bp-rp = ${}'.format(catalog['wd_bp_rp'][i]), transform = plt.gca().transAxes, fontsize=20)\n",
    "    plt.xlabel('Band')\n",
    "    plt.ylabel('Apparent Flux)')\n",
    "    plt.gca().invert_yaxis()\n",
    "    plt.legend() \n",
    "    plt.savefig('spectra/leastsq/phot_fit/{}.png'.format(catalog['wd_catalog_id_phot'][i]))\n",
    "    plt.close()"
   ]
  },
  {
   "cell_type": "code",
   "execution_count": 27,
   "id": "b3e3459e",
   "metadata": {},
   "outputs": [
    {
     "data": {
      "text/plain": [
       "<matplotlib.legend.Legend at 0x7f4b4424f1c0>"
      ]
     },
     "execution_count": 27,
     "metadata": {},
     "output_type": "execute_result"
    },
    {
     "data": {
      "image/png": "[encoded data removed]",
      "text/plain": [
       "<Figure size 1000x1000 with 1 Axes>"
      ]
     },
     "metadata": {},
     "output_type": "display_data"
    }
   ],
   "source": [
    "plt.figure(figsize=(10,10))\n",
    "plt.hist(catalog['radius'], bins = 20, color='black', label = 'All Sample')\n",
    "plt.hist(catalog['radius'][catalog['uses_sdss5'] == 1], bins = 20, color='blue', label = 'SDSS-V')\n",
    "ymin, ymax = plt.ylim()\n",
    "#plt.vlines(np.mean(catalog['phot_teff']), ymin, ymax, linestyles='dashed')\n",
    "plt.xlabel(r'Photometric Radius $[R_0]$', fontsize=18)\n",
    "plt.legend()"
   ]
  },
  {
   "cell_type": "code",
   "execution_count": 28,
   "id": "800e700f",
   "metadata": {},
   "outputs": [
    {
     "name": "stdout",
     "output_type": "stream",
     "text": [
      "       radius       \n",
      "--------------------\n",
      "0.018287360766838383\n"
     ]
    }
   ],
   "source": [
    "print(catalog[catalog['wd_catalog_id_phot'] == 221]['radius'])"
   ]
  },
  {
   "cell_type": "code",
   "execution_count": 29,
   "id": "316d5959",
   "metadata": {
    "tags": []
   },
   "outputs": [
    {
     "data": {
      "text/plain": [
       "<matplotlib.legend.Legend at 0x7f4b3563b730>"
      ]
     },
     "execution_count": 29,
     "metadata": {},
     "output_type": "execute_result"
    },
    {
     "data": {
      "image/png": "[encoded data removed]",
      "text/plain": [
       "<Figure size 1000x1000 with 1 Axes>"
      ]
     },
     "metadata": {},
     "output_type": "display_data"
    }
   ],
   "source": [
    "plt.figure(figsize=(10,10))\n",
    "plt.hist(catalog['ms_parallax_over_error'], bins = 20, label = 'All Sample')\n",
    "ymin, ymax = plt.ylim()\n",
    "#plt.vlines(np.mean(catalog['phot_teff']), ymin, ymax, linestyles='dashed')\n",
    "plt.xlabel(r'Parallax Over Error', fontsize=18)\n",
    "plt.legend()"
   ]
  },
  {
   "cell_type": "code",
   "execution_count": 30,
   "id": "dd4310f1",
   "metadata": {},
   "outputs": [
    {
     "name": "stdout",
     "output_type": "stream",
     "text": [
      "wd_source_id\n",
      "<class 'astropy.table.column.MaskedColumn'>\n",
      "ms_parallax\n",
      "<class 'astropy.table.column.Column'>\n",
      "ms_parallax_over_error\n",
      "<class 'astropy.table.column.Column'>\n",
      "wd_phot_g_mean_mag\n",
      "<class 'astropy.table.column.Column'>\n",
      "wd_phot_g_mean_flux\n",
      "<class 'astropy.table.column.Column'>\n",
      "wd_phot_g_mean_flux_error\n",
      "<class 'astropy.table.column.Column'>\n",
      "wd_phot_bp_mean_mag\n",
      "<class 'astropy.table.column.Column'>\n",
      "wd_phot_bp_mean_flux\n",
      "<class 'astropy.table.column.Column'>\n",
      "wd_phot_bp_mean_flux_error\n",
      "<class 'astropy.table.column.Column'>\n",
      "wd_phot_rp_mean_mag\n",
      "<class 'astropy.table.column.Column'>\n",
      "wd_phot_rp_mean_flux\n",
      "<class 'astropy.table.column.Column'>\n",
      "wd_phot_rp_mean_flux_error\n",
      "<class 'astropy.table.column.Column'>\n",
      "wd_bp_rp\n",
      "<class 'astropy.table.column.Column'>\n",
      "wd_ra\n",
      "<class 'astropy.table.column.Column'>\n",
      "wd_dec\n",
      "<class 'astropy.table.column.Column'>\n",
      "wd_l\n",
      "<class 'astropy.table.column.Column'>\n",
      "wd_b\n",
      "<class 'astropy.table.column.Column'>\n",
      "uses_sdss5\n",
      "<class 'astropy.table.column.MaskedColumn'>\n",
      "r_est\n",
      "<class 'astropy.table.column.Column'>\n",
      "uses_bjd\n",
      "<class 'astropy.table.column.Column'>\n",
      "wd_coords\n",
      "<class 'astropy.coordinates.sky_coordinate.SkyCoord'>\n",
      "wd_catalog_id_phot\n",
      "<class 'astropy.table.column.Column'>\n",
      "raw_radius_result\n",
      "<class 'astropy.table.column.Column'>\n",
      "radius\n",
      "<class 'astropy.table.column.Column'>\n",
      "phot_teff\n",
      "<class 'astropy.table.column.Column'>\n",
      "e_phot_teff\n",
      "<class 'astropy.table.column.Column'>\n",
      "redchi\n",
      "<class 'astropy.table.column.Column'>\n",
      "e_radius\n",
      "<class 'astropy.table.column.Column'>\n",
      "error_from_model\n",
      "<class 'astropy.table.column.Column'>\n"
     ]
    }
   ],
   "source": [
    "for key in catalog.keys():\n",
    "    print(key)\n",
    "    print(type(catalog[key]))"
   ]
  },
  {
   "cell_type": "code",
   "execution_count": 31,
   "id": "59444c0e",
   "metadata": {},
   "outputs": [
    {
     "name": "stdout",
     "output_type": "stream",
     "text": [
      "    wd_source_id   \n",
      "-------------------\n",
      "  78630783787018624\n",
      "  90244375354955392\n",
      "  91690164426711040\n",
      " 235840781689958016\n",
      " 290678477446232960\n",
      " 299817270203790464\n",
      " 300721515441972608\n",
      " 361278458368372992\n",
      " 520790043346964608\n",
      " 545940164944375296\n",
      "                ...\n",
      "6431084300169300224\n",
      "6886973535081311872\n",
      "6898255177217741952\n",
      "6898705800892401280\n",
      "6899127085644261632\n",
      "6899212229075129344\n",
      "6908407066861225728\n",
      "6910805342238827648\n",
      "6915121784373453184\n",
      "6915495141583341824\n",
      "Length = 613 rows\n"
     ]
    }
   ],
   "source": [
    "print(catalog['wd_source_id'])"
   ]
  },
  {
   "cell_type": "code",
   "execution_count": 32,
   "id": "16c2ce52-ba55-40d2-a050-6f458aeb3fc4",
   "metadata": {
    "tags": []
   },
   "outputs": [
    {
     "data": {
      "text/html": [
       "&lt;MaskedColumn name=&apos;wd_source_id&apos; dtype=&apos;int64&apos; length=2&gt;\n",
       "<table>\n",
       "<tr><td>3053811568108421504</td></tr>\n",
       "<tr><td>3630648387747801088</td></tr>\n",
       "</table>"
      ],
      "text/plain": [
       "<MaskedColumn name='wd_source_id' dtype='int64' length=2>\n",
       "3053811568108421504\n",
       "3630648387747801088"
      ]
     },
     "execution_count": 32,
     "metadata": {},
     "output_type": "execute_result"
    }
   ],
   "source": [
    "gemini['wd_source_id']"
   ]
  },
  {
   "cell_type": "code",
   "execution_count": 33,
   "id": "98b5ea96-5858-413f-82fd-08b3ec41582a",
   "metadata": {},
   "outputs": [
    {
     "data": {
      "image/png": "[encoded data removed]",
      "text/plain": [
       "<Figure size 640x480 with 1 Axes>"
      ]
     },
     "metadata": {},
     "output_type": "display_data"
    }
   ],
   "source": [
    "plt.scatter(catalog['wd_bp_rp'], catalog['wd_phot_g_mean_mag'] + 5 * np.log10(catalog['ms_parallax'] / 100), alpha = 0.3) \n",
    "plt.scatter(gemini['wd_bp_rp'], \n",
    "            gemini['wd_phot_g_mean_mag'] + 5 * np.log10(gemini['ms_parallax'] / 100), color = 'orange') \n",
    "plt.gca().invert_yaxis()\n"
   ]
  },
  {
   "cell_type": "code",
   "execution_count": 34,
   "id": "f2835da6-006b-4ba4-b3ae-03475303d004",
   "metadata": {
    "tags": []
   },
   "outputs": [
    {
     "data": {
      "text/html": [
       "<div><i>Table length=1</i>\n",
       "<table id=\"table139960994541040\" class=\"table-striped table-bordered table-condensed\">\n",
       "<thead><tr><th>wd_source_id</th><th>ms_parallax</th><th>ms_parallax_over_error</th><th>wd_phot_g_mean_mag</th><th>wd_phot_g_mean_flux</th><th>wd_phot_g_mean_flux_error</th><th>wd_phot_bp_mean_mag</th><th>wd_phot_bp_mean_flux</th><th>wd_phot_bp_mean_flux_error</th><th>wd_phot_rp_mean_mag</th><th>wd_phot_rp_mean_flux</th><th>wd_phot_rp_mean_flux_error</th><th>wd_bp_rp</th><th>wd_ra</th><th>wd_dec</th><th>wd_l</th><th>wd_b</th><th>uses_sdss5</th><th>r_est</th><th>uses_bjd</th><th>wd_coords</th><th>wd_catalog_id_phot</th><th>raw_radius_result</th><th>radius</th><th>phot_teff</th><th>e_phot_teff</th><th>redchi</th><th>e_radius</th><th>error_from_model</th></tr></thead>\n",
       "<thead><tr><th></th><th></th><th></th><th></th><th></th><th></th><th></th><th></th><th></th><th></th><th></th><th></th><th></th><th></th><th></th><th></th><th></th><th></th><th></th><th></th><th>deg,deg,pc</th><th></th><th></th><th></th><th></th><th></th><th></th><th></th><th></th></tr></thead>\n",
       "<thead><tr><th>int64</th><th>float64</th><th>float32</th><th>float32</th><th>float64</th><th>float32</th><th>float32</th><th>float64</th><th>float32</th><th>float32</th><th>float64</th><th>float32</th><th>float32</th><th>float64</th><th>float64</th><th>float64</th><th>float64</th><th>float64</th><th>float64</th><th>bool</th><th>SkyCoord</th><th>int64</th><th>object</th><th>float64</th><th>float64</th><th>object</th><th>float64</th><th>float64</th><th>float64</th></tr></thead>\n",
       "<tr><td>3053811568108421504</td><td>8.814823841102658</td><td>562.90454</td><td>18.264591</td><td>931.34487877912</td><td>1.6410568</td><td>16.315458</td><td>4066.6181639998103</td><td>504.16125</td><td>16.205353</td><td>2612.2637151541453</td><td>226.58652</td><td>0.110105515</td><td>111.21333342851565</td><td>-8.435096265944722</td><td>224.26130255913728</td><td>3.4981603272489012</td><td>--</td><td>113.09884643554688</td><td>True</td><td>224.26130255913728,3.4981603272489012,113.09884643554688</td><td>427</td><td>&lt;lmfit.minimizer.MinimizerResult object at 0x7f4b62f3de50&gt;</td><td>0.021462508904008318</td><td>10019.716484278106</td><td>None</td><td>1.6499252472177877e-14</td><td>0.000611190810648251</td><td>0.000611190810648251</td></tr>\n",
       "</table></div>"
      ],
      "text/plain": [
       "<Table length=1>\n",
       "    wd_source_id       ms_parallax    ms_parallax_over_error ...       e_radius         error_from_model  \n",
       "                                                             ...                                          \n",
       "       int64             float64             float32         ...       float64              float64       \n",
       "------------------- ----------------- ---------------------- ... -------------------- --------------------\n",
       "3053811568108421504 8.814823841102658              562.90454 ... 0.000611190810648251 0.000611190810648251"
      ]
     },
     "execution_count": 34,
     "metadata": {},
     "output_type": "execute_result"
    }
   ],
   "source": [
    "catalog[catalog['wd_source_id'] == 3053811568108421504]"
   ]
  },
  {
   "cell_type": "code",
   "execution_count": 35,
   "id": "651fa1eb-596d-48a2-bcf1-31c5cf8e4886",
   "metadata": {
    "tags": []
   },
   "outputs": [
    {
     "data": {
      "text/html": [
       "<div><i>Table length=1</i>\n",
       "<table id=\"table139960994541136\" class=\"table-striped table-bordered table-condensed\">\n",
       "<thead><tr><th>wd_source_id</th><th>ms_parallax</th><th>ms_parallax_over_error</th><th>wd_phot_g_mean_mag</th><th>wd_phot_g_mean_flux</th><th>wd_phot_g_mean_flux_error</th><th>wd_phot_bp_mean_mag</th><th>wd_phot_bp_mean_flux</th><th>wd_phot_bp_mean_flux_error</th><th>wd_phot_rp_mean_mag</th><th>wd_phot_rp_mean_flux</th><th>wd_phot_rp_mean_flux_error</th><th>wd_bp_rp</th><th>wd_ra</th><th>wd_dec</th><th>wd_l</th><th>wd_b</th><th>uses_sdss5</th><th>r_est</th><th>uses_bjd</th><th>wd_coords</th><th>wd_catalog_id_phot</th><th>raw_radius_result</th><th>radius</th><th>phot_teff</th><th>e_phot_teff</th><th>redchi</th><th>e_radius</th><th>error_from_model</th></tr></thead>\n",
       "<thead><tr><th></th><th></th><th></th><th></th><th></th><th></th><th></th><th></th><th></th><th></th><th></th><th></th><th></th><th></th><th></th><th></th><th></th><th></th><th></th><th></th><th>deg,deg,pc</th><th></th><th></th><th></th><th></th><th></th><th></th><th></th><th></th></tr></thead>\n",
       "<thead><tr><th>int64</th><th>float64</th><th>float32</th><th>float32</th><th>float64</th><th>float32</th><th>float32</th><th>float64</th><th>float32</th><th>float32</th><th>float64</th><th>float32</th><th>float32</th><th>float64</th><th>float64</th><th>float64</th><th>float64</th><th>float64</th><th>float64</th><th>bool</th><th>SkyCoord</th><th>int64</th><th>object</th><th>float64</th><th>float64</th><th>object</th><th>float64</th><th>float64</th><th>float64</th></tr></thead>\n",
       "<tr><td>3630648387747801088</td><td>17.712380230989538</td><td>1013.46893</td><td>16.32448</td><td>5561.025933695923</td><td>4.075968</td><td>16.327034</td><td>4023.493468614833</td><td>13.082261</td><td>16.340994</td><td>2305.476418167508</td><td>9.632535</td><td>-0.013959885</td><td>204.91582815570885</td><td>-7.221270578957777</td><td>323.43072229719735</td><td>53.72009508912655</td><td>--</td><td>56.28651428222656</td><td>True</td><td>323.43072229719735,53.72009508912655,56.28651428222656</td><td>465</td><td>&lt;lmfit.minimizer.MinimizerResult object at 0x7f4b62e8a850&gt;</td><td>0.008781873133343799</td><td>11486.79540295481</td><td>None</td><td>4.2925022721134335e-11</td><td>0.0006208319423189456</td><td>0.0006208319423189456</td></tr>\n",
       "</table></div>"
      ],
      "text/plain": [
       "<Table length=1>\n",
       "    wd_source_id       ms_parallax     ms_parallax_over_error ...        e_radius          error_from_model  \n",
       "                                                              ...                                            \n",
       "       int64             float64              float32         ...        float64               float64       \n",
       "------------------- ------------------ ---------------------- ... --------------------- ---------------------\n",
       "3630648387747801088 17.712380230989538             1013.46893 ... 0.0006208319423189456 0.0006208319423189456"
      ]
     },
     "execution_count": 35,
     "metadata": {},
     "output_type": "execute_result"
    }
   ],
   "source": [
    "catalog[catalog['wd_source_id'] == 3630648387747801088]"
   ]
  },
  {
   "cell_type": "code",
   "execution_count": null,
   "id": "1ed3708a-eee2-4cdf-95d5-327d2fcd1db3",
   "metadata": {},
   "outputs": [],
   "source": []
  },
  {
   "cell_type": "code",
   "execution_count": null,
   "id": "aa8299d7-7606-4032-9cf0-0e991256dba6",
   "metadata": {},
   "outputs": [],
   "source": []
  },
  {
   "cell_type": "code",
   "execution_count": null,
   "id": "acbcfed2-192d-450c-bf95-a458bdd9d257",
   "metadata": {},
   "outputs": [],
   "source": []
  },
  {
   "cell_type": "code",
   "execution_count": null,
   "id": "a0f1b0ba-a9f2-4154-be78-78a0c3aefa7c",
   "metadata": {},
   "outputs": [],
   "source": []
  },
  {
   "cell_type": "code",
   "execution_count": null,
   "id": "38f7fd26",
   "metadata": {},
   "outputs": [],
   "source": [
    "catalog.remove_columns(['ms_parallax', 'wd_l', 'wd_b', 'raw_radius_result', 'wd_bp_rp', 'wd_phot_g_mean_mag', 'e_phot_teff',\n",
    "                        'wd_phot_bp_mean_mag', 'wd_phot_rp_mean_mag', 'wd_phot_g_mean_flux_error', 'wd_phot_bp_mean_flux_error', 'wd_phot_rp_mean_flux_error'])\n",
    "\n",
    "for key in catalog.keys():\n",
    "    print(key)\n",
    "    print(type(catalog[key]))"
   ]
  },
  {
   "cell_type": "code",
   "execution_count": null,
   "id": "ef0f2be4",
   "metadata": {},
   "outputs": [],
   "source": [
    "catalog.remove_columns(['wd_coords'])"
   ]
  },
  {
   "cell_type": "code",
   "execution_count": null,
   "id": "114d03e2",
   "metadata": {},
   "outputs": [],
   "source": [
    "for key in catalog.keys():\n",
    "    print(key)\n",
    "    print(type(catalog[key][0]))"
   ]
  },
  {
   "cell_type": "code",
   "execution_count": null,
   "id": "e6e25d01",
   "metadata": {},
   "outputs": [],
   "source": []
  },
  {
   "cell_type": "code",
   "execution_count": null,
   "id": "9d8517c0",
   "metadata": {},
   "outputs": [],
   "source": [
    "catalog.write('data/02_photometry.fits', overwrite=True)"
   ]
  },
  {
   "cell_type": "code",
   "execution_count": null,
   "id": "eb33fd88",
   "metadata": {
    "tags": []
   },
   "outputs": [],
   "source": [
    "nug = catalog[['wd_source_id', 'phot_teff']]\n",
    "nug.pprint()\n",
    "\n",
    "nug.write('data/nugget.fits', overwrite = True)"
   ]
  },
  {
   "cell_type": "code",
   "execution_count": null,
   "id": "addbc8ed",
   "metadata": {},
   "outputs": [],
   "source": [
    "catalog[catalog['wd_source_id'] == 3053811568108421504]"
   ]
  },
  {
   "cell_type": "code",
   "execution_count": null,
   "id": "8f7b6ce6",
   "metadata": {},
   "outputs": [],
   "source": []
  },
  {
   "cell_type": "code",
   "execution_count": null,
   "id": "c65a9047",
   "metadata": {},
   "outputs": [],
   "source": []
  },
  {
   "cell_type": "code",
   "execution_count": null,
   "id": "deb29306",
   "metadata": {},
   "outputs": [],
   "source": []
  },
  {
   "cell_type": "code",
   "execution_count": null,
   "id": "fd363ca3",
   "metadata": {},
   "outputs": [],
   "source": []
  },
  {
   "cell_type": "code",
   "execution_count": null,
   "id": "deeef6ce",
   "metadata": {},
   "outputs": [],
   "source": []
  },
  {
   "cell_type": "code",
   "execution_count": null,
   "id": "b570a5e5",
   "metadata": {},
   "outputs": [],
   "source": []
  },
  {
   "cell_type": "code",
   "execution_count": null,
   "id": "70eb8c12",
   "metadata": {},
   "outputs": [],
   "source": []
  }
 ],
 "metadata": {
  "kernelspec": {
   "display_name": "Python 3 (ipykernel)",
   "language": "python",
   "name": "python3"
  },
  "language_info": {
   "codemirror_mode": {
    "name": "ipython",
    "version": 3
   },
   "file_extension": ".py",
   "mimetype": "text/x-python",
   "name": "python",
   "nbconvert_exporter": "python",
   "pygments_lexer": "ipython3",
   "version": "3.9.13"
  }
 },
 "nbformat": 4,
 "nbformat_minor": 5
}
