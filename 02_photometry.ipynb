{
 "cells": [
  {
   "cell_type": "code",
   "execution_count": 1,
   "id": "9edaa3d3",
   "metadata": {
    "tags": []
   },
   "outputs": [],
   "source": [
    "# Install a pip package in the current Jupyter kernel\n",
    "import sys\n",
    "import os\n",
    "sys.path.append('../')\n",
    "sys.path.append('../corv/src')\n",
    "\n",
    "\n",
    "### General\n",
    "import numpy as np\n",
    "import matplotlib.pyplot as plt\n",
    "import matplotlib.colors as colors\n",
    "\n",
    "import astropy\n",
    "from astropy.coordinates import SkyCoord\n",
    "from astropy.io import fits\n",
    "import astropy.units as u\n",
    "from astropy.table import Table, Column, MaskedColumn, join\n",
    "\n",
    "from tqdm import tqdm\n",
    "import pandas as pd\n",
    "from scipy.optimize import curve_fit\n",
    "import scipy.stats as stats\n",
    "\n",
    "### Tools\n",
    "import WD_models\n",
    "from bisect import bisect_left\n",
    "import lmfit\n",
    "import glob\n",
    "\n",
    "from astroquery.sdss import SDSS\n",
    "from astroquery.gaia import Gaia\n",
    "\n",
    "#corv.sdss.make_catalogs()"
   ]
  },
  {
   "cell_type": "code",
   "execution_count": 2,
   "id": "2d06ce0b",
   "metadata": {
    "tags": []
   },
   "outputs": [],
   "source": [
    "c = 2.998e10\n",
    "k = 1.38e-16\n",
    "h = 6.626e-27\n",
    "halpha = 6564.61\n",
    "hbeta = 4862.68\n",
    "hgamma = 4341.68\n",
    "hdelta = 4102.89\n",
    "speed_light = 299792458 #m/s\n",
    "radius_sun = 6.957e8\n",
    "mass_sun = 1.9884e30\n",
    "newton_G = 6.674e-11\n",
    "pc_to_m = 3.086775e16"
   ]
  },
  {
   "cell_type": "code",
   "execution_count": 3,
   "id": "74955d4e",
   "metadata": {
    "tags": []
   },
   "outputs": [],
   "source": [
    "from __future__ import print_function\n",
    "from astropy.coordinates import SkyCoord\n",
    "import astropy.units as u"
   ]
  },
  {
   "cell_type": "code",
   "execution_count": 4,
   "id": "4214269f",
   "metadata": {
    "tags": []
   },
   "outputs": [
    {
     "name": "stderr",
     "output_type": "stream",
     "text": [
      "WARNING: UnitsWarning: 'log(cm.s**-2)' did not parse as fits unit: 'log' is not a recognized function If this is meant to be a custom unit, define it with 'u.def_unit'. To have it recognized inside a file reader or other code, enable it with 'u.add_enabled_units'. For details, see https://docs.astropy.org/en/latest/units/combining_and_defining.html [astropy.units.core]\n"
     ]
    }
   ],
   "source": [
    "from astropy.table import Table, vstack, unique\n",
    "\n",
    "ms_sdss4_wd_sdss4 = Table.read('data/ms_sdss4_wd_sdss4.fits')\n",
    "ms_gaia_wd_sdss4 = Table.read('data/ms_gaia_wd_sdss4.fits')\n",
    "ms_sdss5_wd_sdss4 = Table.read('sdss5/ms_sdss5_wd_sdss4.fits')\n",
    "\n",
    "ms_gaia_wd_sdss5 = Table.read('sdss5/ms_gaia_wd_sdss5.fits')\n",
    "ms_sdss4_wd_sdss5 = Table.read('sdss5/ms_sdss4_wd_sdss5.fits')\n",
    "ms_sdss5_wd_sdss5 = Table.read('sdss5/ms_sdss5_wd_sdss5.fits')\n",
    "\n",
    "ms_gaia_wd_falcon = Table.read('data/ms_gaia_wd_falcon.fits')\n",
    "gemini = Table.read('data/gemini.fits')\n",
    "\n",
    "\n",
    "def strip(catalog):  \n",
    "    drop_cols = []\n",
    "    keep_cols = ['wd_source_id', 'ms_source_id', 'wd_l', 'wd_b', 'ms_parallax', 'ms_parallax_over_error', 'wd_ra', 'wd_dec', \n",
    "                 'wd_bp_rp', 'uses_sdss5']\n",
    "        \n",
    "    for key in catalog.keys():\n",
    "        if key not in keep_cols:\n",
    "            drop_cols.append(key)\n",
    "            \n",
    "    catalog.remove_columns(drop_cols)\n",
    "    \n",
    "    return catalog\n",
    "\n",
    "ms_gaia_wd_sdss4  = strip(ms_gaia_wd_sdss4 )\n",
    "ms_sdss4_wd_sdss4 = strip(ms_sdss4_wd_sdss4)\n",
    "ms_sdss5_wd_sdss4 = strip(ms_sdss5_wd_sdss4)\n",
    "\n",
    "ms_gaia_wd_sdss5  = strip(ms_gaia_wd_sdss5 )\n",
    "ms_sdss4_wd_sdss5 = strip(ms_sdss4_wd_sdss5)\n",
    "ms_sdss5_wd_sdss5 = strip(ms_sdss5_wd_sdss5)\n",
    "\n",
    "gemini_1 = gemini.copy()\n",
    "\n",
    "ms_gaia_wd_falcon = strip(ms_gaia_wd_falcon)\n",
    "gemini = strip(gemini)\n",
    "\n",
    "catalog = unique(vstack([ms_sdss4_wd_sdss4, ms_gaia_wd_sdss4, ms_sdss4_wd_sdss5, ms_sdss5_wd_sdss4, ms_gaia_wd_sdss5, ms_sdss5_wd_sdss5, ms_gaia_wd_falcon, gemini]), keys = 'wd_source_id')"
   ]
  },
  {
   "cell_type": "code",
   "execution_count": 5,
   "id": "3c6153d6",
   "metadata": {
    "tags": []
   },
   "outputs": [
    {
     "name": "stdout",
     "output_type": "stream",
     "text": [
      "    ms_source_id        wd_source_id       ms_parallax     ...        wd_l                wd_b        uses_sdss5\n",
      "------------------- ------------------- ------------------ ... ------------------ ------------------- ----------\n",
      "  78630547564037504   78630783787018624  4.940878714239059 ... 146.06606747397458  -43.94621045934461        0.0\n",
      "  90243761175084672   90244375354955392   4.90088696273875 ... 144.70900584705583  -44.60031645677885        0.0\n",
      "  91690164426524288   91690164426711040 11.277563983542722 ... 141.56798220692895 -42.932042516885794        0.0\n",
      " 235840678609579904  235840781689958016  2.858879969576937 ... 150.81419433264188 -15.142418794667933        0.0\n",
      " 290678443086494848  290678477446232960 16.375135959740227 ...  138.6714454811497  -37.92124428204657        0.0\n",
      " 299817274499164416  299817270203790464 3.9530250489405656 ...  141.5262993511704 -31.650726348757026        0.0\n",
      " 300721519733864192  300721515441972608  5.465735127698064 ... 140.00211908900982 -31.261650914977317        1.0\n",
      " 361278462663417088  361278458368372992  4.958423402908964 ... 122.66992109532612 -29.894258797869995        0.0\n",
      " 520790043347308416  520790043346964608  16.25240295629171 ... 131.16019551519344    7.43745748400846        1.0\n",
      " 545940409758573824  545940164944375296  6.302034692865052 ...  131.0904049550553  11.629824001353866        1.0\n",
      "                ...                 ...                ... ...                ...                 ...        ...\n",
      "6431084502029884672 6431084300169300224 2.4154104909054177 ... 335.54163125992176 -34.256776734072105        1.0\n",
      "6886973358987025280 6886973535081311872  5.348613399261991 ...  33.05042341962845 -32.765218592475264        1.0\n",
      "6898255177217733504 6898255177217741952  4.301902667885009 ... 45.972877566568194 -37.876674587102904        1.0\n",
      "6898705805186335488 6898705800892401280  4.869293662259801 ...  43.56268215173452  -35.29774896286738        1.0\n",
      "6899127089938464512 6899127085644261632  2.165325727716067 ... 46.554948346429526  -36.77209880350085        1.0\n",
      "6899213710839008256 6899212229075129344 2.6821760125828775 ...  47.04721049139372  -36.68885192818693        1.0\n",
      "6908406487039810432 6908407066861225728  6.791952564820031 ... 40.276988973932006 -25.951344093069274        0.0\n",
      "6910806102448648576 6910805342238827648  6.372164759242437 ...  43.69908128476434 -33.975549287596245        0.0\n",
      "6915121788667377920 6915121784373453184  4.193339422878385 ... 43.701297802479075 -26.839782349069086        1.0\n",
      "6915495141584244480 6915495141583341824  3.564195528342669 ... 45.468701566064084 -30.437088091626418        1.0\n",
      "Length = 613 rows\n"
     ]
    }
   ],
   "source": [
    "print(catalog)"
   ]
  },
  {
   "cell_type": "code",
   "execution_count": 6,
   "id": "eb79894a",
   "metadata": {
    "tags": []
   },
   "outputs": [
    {
     "name": "stderr",
     "output_type": "stream",
     "text": [
      "100%|█████████████████████████████████████████████████████████████████████████████████████| 7/7 [00:05<00:00,  1.30it/s]\n"
     ]
    }
   ],
   "source": [
    "from astropy.table import Table, vstack, hstack\n",
    "\n",
    "only_rvs = True\n",
    "\n",
    "stardats = []\n",
    "iters = (len(catalog)+100) // 100\n",
    "\n",
    "# MS Gaia Sources\n",
    "\n",
    "for i in tqdm(range(iters)):\n",
    "        ADQL_CODE1 = \"\"\"SELECT dist.source_id, dist.r_med_geo\n",
    "        FROM gaiadr3.gaia_source as gaia\n",
    "        JOIN external.gaiaedr3_distance as dist\n",
    "        ON gaia.source_id = dist.source_id      \n",
    "        WHERE gaia.source_id in {}\"\"\".format(tuple(catalog['ms_source_id'][100*i:100*i+100]))\n",
    "        stardats.append(Gaia.launch_job(ADQL_CODE1,dump_to_file=False).get_results())\n",
    "        \n",
    "gaia_d1 = vstack(stardats)\n",
    "gaia_d1.rename_column('source_id', 'ms_source_id')\n",
    "catalog = join(catalog, gaia_d1, keys = 'ms_source_id')"
   ]
  },
  {
   "cell_type": "code",
   "execution_count": 7,
   "id": "9d91745f",
   "metadata": {
    "tags": []
   },
   "outputs": [],
   "source": [
    "catalog.remove_column('ms_source_id')"
   ]
  },
  {
   "cell_type": "code",
   "execution_count": 8,
   "id": "5eff46e1",
   "metadata": {
    "tags": []
   },
   "outputs": [
    {
     "name": "stderr",
     "output_type": "stream",
     "text": [
      "100%|█████████████████████████████████████████████████████████████████████████████████████| 7/7 [00:05<00:00,  1.25it/s]\n"
     ]
    }
   ],
   "source": [
    "stardats = []\n",
    "iters = (len(catalog)+100) // 100\n",
    "\n",
    "# This query is for making sure the radii issue isn't a problem with the photometry from the El-Badry catalog (it's not)\n",
    "for i in tqdm(range(iters)):\n",
    "        ADQL_CODE1 = \"\"\"SELECT source_id, phot_g_mean_mag, phot_bp_mean_mag, phot_rp_mean_mag, phot_g_mean_flux, phot_bp_mean_flux, phot_rp_mean_flux,\n",
    "                 phot_g_mean_flux_error, phot_bp_mean_flux_error, phot_rp_mean_flux_error\n",
    "        FROM gaiadr3.gaia_source     \n",
    "        WHERE source_id in {}\"\"\".format(tuple(catalog['wd_source_id'][100*i:100*i+100]))\n",
    "        stardats.append(Gaia.launch_job(ADQL_CODE1,dump_to_file=False).get_results())\n",
    "        \n",
    "gaia_d1 = vstack(stardats)\n",
    "\n",
    "for key in gaia_d1.keys():\n",
    "    gaia_d1.rename_column(key, 'wd_' + key)\n",
    "    \n",
    "catalog = join(catalog, gaia_d1, keys = 'wd_source_id')"
   ]
  },
  {
   "cell_type": "code",
   "execution_count": null,
   "id": "c7189d5d-77f6-4e15-bfb5-4559c9b9b7bb",
   "metadata": {},
   "outputs": [],
   "source": []
  },
  {
   "cell_type": "code",
   "execution_count": null,
   "id": "d8adcc5e-02c6-4f01-948d-a7ccfa15556e",
   "metadata": {
    "tags": []
   },
   "outputs": [],
   "source": [
    "\n",
    "\n"
   ]
  },
  {
   "cell_type": "code",
   "execution_count": null,
   "id": "377c1b68-291f-414d-be47-58197b495684",
   "metadata": {
    "tags": []
   },
   "outputs": [],
   "source": []
  },
  {
   "cell_type": "code",
   "execution_count": null,
   "id": "8f6f07bc-1e70-4073-91b1-f684d9262f1a",
   "metadata": {
    "tags": []
   },
   "outputs": [],
   "source": []
  },
  {
   "cell_type": "code",
   "execution_count": null,
   "id": "77174462-2ecf-49fa-859b-1661ce8cf45c",
   "metadata": {
    "tags": []
   },
   "outputs": [],
   "source": []
  },
  {
   "cell_type": "code",
   "execution_count": 9,
   "id": "60f5a60b-af22-44b5-9f02-1f33e8ab7332",
   "metadata": {
    "tags": []
   },
   "outputs": [],
   "source": [
    "from __future__ import print_function\n",
    "from astropy.coordinates import SkyCoord\n",
    "import astropy.units as u\n",
    "from dustmaps.bayestar import BayestarWebQuery\n",
    "\n",
    "import pyphot\n",
    "import extinction\n",
    "\n",
    "# Coordinates using Bailer-Jones distances\n",
    "coords = [SkyCoord(frame=\"galactic\", l=catalog['wd_l'][i]*u.deg, b=catalog['wd_b'][i]*u.deg, distance = catalog['r_med_geo'][i] * u.pc) for i in range(len(catalog))]\n",
    "catalog['wd_coords'] = coords\n",
    "\n",
    "\n",
    "# Query Bayestar2019 to get E(B-V) in arbitrary units\n",
    "bsq = BayestarWebQuery()\n",
    "bsq_res = bsq.query(catalog['wd_coords'], mode='samples')\n",
    "\n",
    "# Convert to actual units\n",
    "Ebv = np.median(bsq_res, axis=1)*0.901*0.98\n",
    "Ebv_mean = np.mean(bsq_res, axis = 1)*0.901*0.98\n",
    "e_Ebv = Ebv*0.2\n",
    "\n",
    "catalog['E(B-V)'] = Ebv_mean\n",
    "catalog['e_E(B-V)'] = e_Ebv\n",
    "\n",
    "\n",
    "# Parameters for correcting using Gaia\n",
    "Rv = 3.1\n",
    "catalog['A_v0'] = catalog['E(B-V)']*Rv\n",
    "\n",
    "# Fetch Gaia photometric band wavelengths and store in `gaia_phot_wavl`\n",
    "lib = pyphot.get_library()\n",
    "gaia_phot = [lib['Gaia_BP'], lib['Gaia_RP']]\n",
    "gaia_phot_wavl = np.array([x.lpivot.to('angstrom').value for x in gaia_phot])\n",
    "\n",
    "\n",
    "# For each point, find extinction using the parameters we defined above\n",
    "ext_all = []\n",
    "for av0 in catalog['A_v0']:\n",
    "    ext_all.append( extinction.fitzpatrick99(gaia_phot_wavl, av0, Rv) )\n",
    "ext_all = np.array(ext_all)\n",
    "    \n",
    "# Save the extinction in each band\n",
    "catalog['BP_ext'] = ext_all.T[0]\n",
    "catalog['RP_ext'] = ext_all.T[1]\n",
    "\n",
    "# Subtract out the extinction to find de-reddened magnitude\n",
    "catalog['wd_phot_bp_mean_mag'] = catalog['wd_phot_bp_mean_mag'] - catalog['BP_ext'] * catalog['E(B-V)']\n",
    "catalog['wd_phot_bp_mean_mag'] = catalog['wd_phot_bp_mean_mag'] - catalog['RP_ext'] * catalog['E(B-V)']"
   ]
  },
  {
   "cell_type": "code",
   "execution_count": null,
   "id": "1d885547-f8e2-4025-9c66-ad27a7bf4dec",
   "metadata": {
    "tags": []
   },
   "outputs": [],
   "source": [
    "  \n"
   ]
  },
  {
   "cell_type": "code",
   "execution_count": null,
   "id": "0899527e-fd61-4ff0-ae69-b89fe8f37169",
   "metadata": {},
   "outputs": [],
   "source": []
  },
  {
   "cell_type": "code",
   "execution_count": null,
   "id": "02337da5-9729-4536-b2d6-b1dfbf9e0c68",
   "metadata": {},
   "outputs": [],
   "source": []
  },
  {
   "cell_type": "code",
   "execution_count": 10,
   "id": "8d67ba59",
   "metadata": {},
   "outputs": [],
   "source": [
    "sigmaG_0 = 0.0027553202\n",
    "sigmaGBP_0 = 0.0027901700\n",
    "sigmaGRP_0 = 0.0037793818\n",
    "\n",
    "catalog['e_wd_phot_g_mean_mag'] = np.sqrt((-2.5/np.log(10)*catalog['wd_phot_g_mean_flux_error']/catalog['wd_phot_g_mean_flux'])**2 + sigmaG_0**2)\n",
    "catalog['e_wd_phot_bp_mean_mag'] = np.sqrt((-2.5/np.log(10)*catalog['wd_phot_bp_mean_flux_error']/catalog['wd_phot_bp_mean_flux'])**2 + sigmaGBP_0**2)\n",
    "catalog['e_wd_phot_rp_mean_mag'] = np.sqrt((-2.5/np.log(10)*catalog['wd_phot_rp_mean_flux_error']/catalog['wd_phot_rp_mean_flux'])**2 + sigmaGRP_0**2)"
   ]
  },
  {
   "cell_type": "code",
   "execution_count": 11,
   "id": "dfe8bc23",
   "metadata": {
    "tags": []
   },
   "outputs": [
    {
     "name": "stdout",
     "output_type": "stream",
     "text": [
      "initialized with atm_type = H and bands = ['Su', 'Sg', 'Sr']\n",
      "initialized with atm_type = H and bands = ['bp', 'rp']\n"
     ]
    }
   ],
   "source": [
    "font_model = WD_models.load_model('f', 'f', 'f', 'H', HR_bands = ['Su-Sg', 'Su'])\n",
    "\n",
    "g_acc = (10**font_model['logg'])/100\n",
    "rsun = np.sqrt(font_model['mass_array'] * mass_sun * newton_G / g_acc) / radius_sun\n",
    "logg_teff_to_rsun = WD_models.interp_xy_z_func(x = font_model['logg'], y = 10**font_model['logteff'],\n",
    "                                            z = rsun, interp_type = 'linear')\n",
    "\n",
    "fitsed_sdss = WD_models.FitSED(to_flux = False, atm_type = 'H', bands = ['Su', 'Sg', 'Sr'])#, 'Si', 'Sz'])\n",
    "fitsed_gaia = WD_models.FitSED(to_flux = False, atm_type = 'H', bands = ['bp', 'rp'])#, 'Si', 'Sz'])"
   ]
  },
  {
   "cell_type": "code",
   "execution_count": 12,
   "id": "e92914c7",
   "metadata": {
    "tags": []
   },
   "outputs": [],
   "source": [
    "from scipy.interpolate import RegularGridInterpolator\n",
    "\n",
    "# Band selector: \n",
    "#    to fit with G, BP, RP, set `bands = ['g', 'bp', 'rp']`.\n",
    "#    to fit with only BP, RP, set `bands = ['bp', 'rp']`\n",
    "\n",
    "bands = ['bp', 'rp']\n",
    "\n",
    "#test = Table.read('../WD_models/Montreal_atm_grid_2021/Table_DA', format='ascii')\n",
    "#\n",
    "#if len(bands) == 3:\n",
    "#    test['mag'] = np.array([test['G3'], test['G3_BP'], test['G3_RP']]).T\n",
    "#elif len(bands) == 2:\n",
    "#    test['mag'] = np.array([test['G3_BP'], test['G3_RP']]).T\n",
    "#\n",
    "#for key in test.keys():\n",
    "#    if key not in ['Teff', 'logg', 'mag']:\n",
    "#        test.remove_column(key)\n",
    "#    \n",
    "#teffs = sorted(list(set(test['Teff'])))\n",
    "#loggs = sorted(list(set(test['logg'])))\n",
    "#\n",
    "#if len(bands) == 3:\n",
    "#    values = np.zeros((len(teffs), len(loggs), 3))\n",
    "#elif len(bands) == 2:\n",
    "#    values = np.zeros((len(teffs), len(loggs), 2))\n",
    "#\n",
    "#for i in tqdm(range(len(teffs))):\n",
    "#    for j in range(len(loggs)):\n",
    "#        try:\n",
    "#            values[i,j] = test[np.all([test['Teff'] == teffs[i], test['logg'] == loggs[j]], axis = 0)]['mag'][0]\n",
    "#        except:\n",
    "#            if len(bands) == 3:\n",
    "#                values[i,j] = np.array([0, 0, 0])\n",
    "#            elif len(bands) == 2:\n",
    "#                values[i,j] = np.array([0, 0])\n",
    "#            \n",
    "#model_sed = RegularGridInterpolator((teffs, loggs), values)"
   ]
  },
  {
   "cell_type": "code",
   "execution_count": 13,
   "id": "8a74e4f0",
   "metadata": {
    "tags": []
   },
   "outputs": [],
   "source": [
    "def mag_to_flux(mag):\n",
    "    return 10 ** ((mag + 48.6)/ -2.5) \n",
    "\n",
    "def flux_to_mag(flux):\n",
    "    return -2.5 * np.log10(flux) - 48.60\n",
    "    \n",
    "def get_model_flux_gaia(params):\n",
    "    \n",
    "    teff, logg, radius, distance = params['teff'], params['logg'], params['radius'], params['distance']\n",
    "    \n",
    "    model_mag = fitsed_gaia.model_sed(teff, logg, plx = 100)\n",
    "    model_flux = mag_to_flux(model_mag)\n",
    "    \n",
    "    rsun = logg_teff_to_rsun(logg, teff)\n",
    "    corr_radius = rsun * radius_sun\n",
    "    corr_distance = 10 * pc_to_m\n",
    "    \n",
    "    corr_model_flux = model_flux / (4 * np.pi * (corr_radius / corr_distance)**2)\n",
    "    \n",
    "    radius = radius * radius_sun # Rsun to meter\n",
    "    distance = distance * pc_to_m # Parsec to meter\n",
    "     \n",
    "    flux = corr_model_flux * ( 4 * np.pi * (radius / distance)**2 )\n",
    "    \n",
    "    return flux_to_mag(flux)\n",
    "    \n",
    "\n",
    "def residual_gaia(params, obs_flux = None, e_obs_flux = None):\n",
    "    model_flux = (get_model_flux_gaia(params))\n",
    "\n",
    "    chisquare = ((model_flux - obs_flux) / e_obs_flux)**2\n",
    "    \n",
    "    #chisquare[np.isnan(chisquare)] = 1e8\n",
    "    return chisquare\n",
    "\n"
   ]
  },
  {
   "cell_type": "code",
   "execution_count": 14,
   "id": "28c46889",
   "metadata": {
    "tags": []
   },
   "outputs": [],
   "source": [
    "def get_parameters_gaia(obs_mag, e_obs_mag, id_ = None, floor_error = 0.02, make_plot = False, vary_logg = False, p0 = [10000, 8, 0.01, 100]):         \n",
    "    e_obs_mag = np.sqrt(e_obs_mag**2 + floor_error**2)\n",
    "    \n",
    "    params = lmfit.Parameters()\n",
    "\n",
    "    params.add('teff', value = p0[0], min = 3500, max = 55000, vary = True)\n",
    "    params.add('logg', value = p0[1], min=7.5, max=9, vary=vary_logg)\n",
    "    params.add('radius', value = p0[2], min = 0.0001, max = 0.05, vary = True)\n",
    "    params.add('distance', value = p0[3], min = 1, max = 2000, vary = False)\n",
    "        \n",
    "    #result = lmfit.minimize(residual, params, kws = dict(obs_flux = obs_flux, e_obs_flux = e_obs_flux), method = 'emcee', steps = 5000, burn = 500, thin = 20, is_weighted = False, progress = False)\n",
    "    result = lmfit.minimize(residual_gaia, params, kws = dict(obs_flux = obs_mag, e_obs_flux = e_obs_mag), method = 'leastsq')\n",
    "    \n",
    "    #result.params.pretty_print()\n",
    "        \n",
    "    return result"
   ]
  },
  {
   "cell_type": "code",
   "execution_count": 15,
   "id": "dca2350b",
   "metadata": {
    "tags": []
   },
   "outputs": [
    {
     "name": "stderr",
     "output_type": "stream",
     "text": [
      "100%|█████████████████████████████████████████████████████████████████████████████████| 613/613 [01:42<00:00,  5.96it/s]"
     ]
    },
    {
     "name": "stdout",
     "output_type": "stream",
     "text": [
      "dropped 3 stars\n"
     ]
    },
    {
     "name": "stderr",
     "output_type": "stream",
     "text": [
      "\n"
     ]
    }
   ],
   "source": [
    "gaia_results = []\n",
    "gaia_results7 = []\n",
    "gaia_results9 = []\n",
    "\n",
    "e_results = []\n",
    "\n",
    "drops = []\n",
    "\n",
    "logg_vary = []\n",
    "\n",
    "id_ = []\n",
    "\n",
    "for i in tqdm(range(len(catalog))):\n",
    "    \n",
    "    \n",
    "    if len(bands) == 3:\n",
    "        obs_mag = np.array([catalog['wd_phot_g_mean_mag'][i], catalog['wd_phot_bp_mean_mag'][i], catalog['wd_phot_rp_mean_mag'][i]])\n",
    "        e_obs_mag = np.array([catalog['e_wd_phot_g_mean_mag'][i], catalog['e_wd_phot_bp_mean_mag'][i], catalog['e_wd_phot_rp_mean_mag'][i]])\n",
    "    elif len(bands) == 2:\n",
    "        obs_mag = np.array([catalog['wd_phot_bp_mean_mag'][i], catalog['wd_phot_rp_mean_mag'][i]])\n",
    "        e_obs_mag = np.array([catalog['e_wd_phot_bp_mean_mag'][i], catalog['e_wd_phot_rp_mean_mag'][i]])\n",
    "        \n",
    "    try:    \n",
    "        gaia_logg7 = get_parameters_gaia( obs_mag, e_obs_mag, vary_logg=False, p0 = [10000, 7, 0.003, catalog['r_med_geo'][i]] )\n",
    "        gaia_logg8 = get_parameters_gaia( obs_mag, e_obs_mag, vary_logg=False, p0 = [10000, 8, 0.003, catalog['r_med_geo'][i]] )\n",
    "        gaia_logg9 = get_parameters_gaia( obs_mag, e_obs_mag, vary_logg=False, p0 = [10000, 9, 0.003, catalog['r_med_geo'][i]] )\n",
    "        id_.append(i)\n",
    "        \n",
    "        gaia_results.append(gaia_logg8)\n",
    "        gaia_results7.append(gaia_logg7)\n",
    "        gaia_results9.append(gaia_logg9)\n",
    "    except:\n",
    "        drops.append(i)\n",
    "        \n",
    "   \n",
    "\n",
    "    \n",
    "    fig = plt.figure(figsize = (8,7))\n",
    "    \n",
    "    plt.errorbar(bands, obs_mag, yerr = e_obs_mag, linestyle = 'none', marker = 'None', color = 'k', capsize = 5, label = 'Observed SED')\n",
    "    plt.plot(bands, get_model_flux_gaia(gaia_logg8.params), 'bo', markersize = 10, label = 'Model SED')\n",
    "    \n",
    "    plt.title('SED {}'.format(i))\n",
    "    \n",
    "    plt.text(0.15, 0.26, r'$Teff = ${} $K$'.format(gaia_logg8.params['teff'].value), transform = plt.gca().transAxes, fontsize=20)\n",
    "    plt.text(0.15, 0.20, r'$logg = ${} '.format(gaia_logg8.params['logg'].value), transform = plt.gca().transAxes, fontsize=20)\n",
    "    plt.text(0.15, 0.15, r'$dist = ${} $pc$'.format(gaia_logg8.params['distance'].value), transform = plt.gca().transAxes, fontsize=20)\n",
    "    plt.text(0.15, 0.36, r'$bp-rp = ${}'.format(catalog['wd_bp_rp'][i]), transform = plt.gca().transAxes, fontsize=20)\n",
    "    \n",
    "    plt.xlabel('Band')\n",
    "    plt.ylabel('Apparent Flux)')\n",
    "    \n",
    "    plt.gca().invert_yaxis()\n",
    "    plt.legend() \n",
    "    plt.savefig('spectra/leastsq/phot_fit/{}.png'.format(i))\n",
    "    plt.close()\n",
    "    \n",
    "print('dropped {} stars'.format(len(drops)))\n",
    "catalog.remove_rows(drops)\n",
    "catalog['wd_catalog_id_phot'] = id_\n",
    "results = gaia_results"
   ]
  },
  {
   "cell_type": "code",
   "execution_count": 16,
   "id": "f730d5e7-7418-496a-9988-929f46a7ad29",
   "metadata": {
    "tags": []
   },
   "outputs": [
    {
     "data": {
      "text/plain": [
       "610"
      ]
     },
     "execution_count": 16,
     "metadata": {},
     "output_type": "execute_result"
    }
   ],
   "source": [
    "len(results)"
   ]
  },
  {
   "cell_type": "code",
   "execution_count": 17,
   "id": "66f029f6",
   "metadata": {},
   "outputs": [],
   "source": [
    "catalog['raw_radius_result'] = [result for result in gaia_results]\n",
    "catalog['radius'] = [result.params['radius'].value for result in gaia_results]\n",
    "catalog['phot_teff'] = [result.params['teff'].value for result in gaia_results]\n",
    "catalog['e_phot_teff'] = [result.params['teff'].stderr for result in gaia_results]\n",
    "catalog['redchi'] = [result.redchi for result in gaia_results]\n",
    "catalog['e_radius'] = [np.sqrt(gaia_results[i].params['radius'].stderr**2 + np.abs(gaia_results7[i].params['radius'].value - gaia_results9[i].params['radius'].value)**2 ) for i in range(len(gaia_results))]\n",
    "catalog['error_from_model'] = [np.abs(gaia_results7[i].params['radius'].value - gaia_results9[i].params['radius'].value) for i in range(len(gaia_results))]"
   ]
  },
  {
   "cell_type": "code",
   "execution_count": 18,
   "id": "39f9695e",
   "metadata": {},
   "outputs": [
    {
     "data": {
      "text/plain": [
       "<matplotlib.legend.Legend at 0x7f740d9cb310>"
      ]
     },
     "execution_count": 18,
     "metadata": {},
     "output_type": "execute_result"
    },
    {
     "data": {
      "image/png": "[encoded data removed]",
      "text/plain": [
       "<Figure size 1000x1000 with 1 Axes>"
      ]
     },
     "metadata": {},
     "output_type": "display_data"
    }
   ],
   "source": [
    "plt.figure(figsize=(10,10))\n",
    "plt.hist(catalog['radius'], bins = 20, color='black', label = 'All Sample')\n",
    "plt.hist(catalog['radius'][catalog['uses_sdss5'] == 1], bins = 20, color='blue', label = 'SDSS-V')\n",
    "ymin, ymax = plt.ylim()\n",
    "#plt.vlines(np.mean(catalog['phot_teff']), ymin, ymax, linestyles='dashed')\n",
    "plt.xlabel(r'Photometric Radius $[R_0]$', fontsize=18)\n",
    "plt.legend()"
   ]
  },
  {
   "cell_type": "code",
   "execution_count": 19,
   "id": "e022fbe3",
   "metadata": {
    "tags": []
   },
   "outputs": [
    {
     "data": {
      "text/plain": [
       "<matplotlib.legend.Legend at 0x7f73e770a340>"
      ]
     },
     "execution_count": 19,
     "metadata": {},
     "output_type": "execute_result"
    },
    {
     "data": {
      "image/png": "[encoded data removed]",
      "text/plain": [
       "<Figure size 1000x1000 with 1 Axes>"
      ]
     },
     "metadata": {},
     "output_type": "display_data"
    }
   ],
   "source": [
    "plt.figure(figsize=(10,10))\n",
    "plt.hist(catalog['ms_parallax_over_error'], bins = 20, label = 'All Sample')\n",
    "ymin, ymax = plt.ylim()\n",
    "#plt.vlines(np.mean(catalog['phot_teff']), ymin, ymax, linestyles='dashed')\n",
    "plt.xlabel(r'Parallax Over Error', fontsize=18)\n",
    "plt.legend()"
   ]
  },
  {
   "cell_type": "code",
   "execution_count": 20,
   "id": "81f61fc5",
   "metadata": {},
   "outputs": [
    {
     "data": {
      "image/png": "[encoded data removed]",
      "text/plain": [
       "<Figure size 640x480 with 1 Axes>"
      ]
     },
     "metadata": {},
     "output_type": "display_data"
    }
   ],
   "source": [
    "plt.scatter(catalog['wd_bp_rp'], catalog['wd_phot_g_mean_mag'] + 5 * np.log10(catalog['ms_parallax'] / 100), alpha = 0.3) \n",
    "plt.scatter(gemini_1['wd_bp_rp'], \n",
    "            gemini_1['wd_phot_g_mean_mag'] + 5 * np.log10(gemini_1['ms_parallax'] / 100), color = 'orange') \n",
    "plt.gca().invert_yaxis()\n"
   ]
  },
  {
   "cell_type": "code",
   "execution_count": 21,
   "id": "c6c00a25",
   "metadata": {
    "tags": []
   },
   "outputs": [
    {
     "data": {
      "text/html": [
       "<div><i>Table length=1</i>\n",
       "<table id=\"table140135779986304\" class=\"table-striped table-bordered table-condensed\">\n",
       "<thead><tr><th>wd_source_id</th><th>ms_parallax</th><th>ms_parallax_over_error</th><th>wd_bp_rp</th><th>wd_ra</th><th>wd_dec</th><th>wd_l</th><th>wd_b</th><th>uses_sdss5</th><th>r_med_geo</th><th>wd_phot_g_mean_mag</th><th>wd_phot_bp_mean_mag</th><th>wd_phot_rp_mean_mag</th><th>wd_phot_g_mean_flux</th><th>wd_phot_bp_mean_flux</th><th>wd_phot_rp_mean_flux</th><th>wd_phot_g_mean_flux_error</th><th>wd_phot_bp_mean_flux_error</th><th>wd_phot_rp_mean_flux_error</th><th>wd_coords</th><th>E(B-V)</th><th>e_E(B-V)</th><th>A_v0</th><th>BP_ext</th><th>RP_ext</th><th>e_wd_phot_g_mean_mag</th><th>e_wd_phot_bp_mean_mag</th><th>e_wd_phot_rp_mean_mag</th><th>wd_catalog_id_phot</th><th>raw_radius_result</th><th>radius</th><th>phot_teff</th><th>e_phot_teff</th><th>redchi</th><th>e_radius</th><th>error_from_model</th></tr></thead>\n",
       "<thead><tr><th></th><th></th><th></th><th></th><th></th><th></th><th></th><th></th><th></th><th>pc</th><th>mag</th><th>mag</th><th>mag</th><th>electron / s</th><th>electron / s</th><th>electron / s</th><th>electron / s</th><th>electron / s</th><th>electron / s</th><th>deg,deg,pc</th><th></th><th></th><th></th><th></th><th></th><th>electron / s</th><th>electron / s</th><th>electron / s</th><th></th><th></th><th></th><th></th><th></th><th></th><th></th><th></th></tr></thead>\n",
       "<thead><tr><th>int64</th><th>float64</th><th>float32</th><th>float32</th><th>float64</th><th>float64</th><th>float64</th><th>float64</th><th>float64</th><th>float32</th><th>float32</th><th>float64</th><th>float32</th><th>float64</th><th>float64</th><th>float64</th><th>float32</th><th>float32</th><th>float32</th><th>SkyCoord</th><th>float32</th><th>float32</th><th>float32</th><th>float64</th><th>float64</th><th>float64</th><th>float64</th><th>float64</th><th>int64</th><th>object</th><th>float64</th><th>float64</th><th>float64</th><th>float64</th><th>float64</th><th>float64</th></tr></thead>\n",
       "<tr><td>3053811568108421504</td><td>8.814823841102658</td><td>562.90454</td><td>0.110105515</td><td>111.21333342851565</td><td>-8.435096265944722</td><td>224.26130255913728</td><td>3.4981603272489012</td><td>--</td><td>113.09885</td><td>18.26406</td><td>16.315458297729492</td><td>16.205353</td><td>931.8011810065932</td><td>4066.6181639998103</td><td>2612.2637151541453</td><td>1.6418608</td><td>504.16125</td><td>226.58652</td><td>224.26130255913728,3.4981603272489012,113.09884643554688</td><td>0.0</td><td>0.0</td><td>0.0</td><td>0.0</td><td>0.0</td><td>0.0033543607950204074</td><td>0.13463366189926163</td><td>0.0942520421896621</td><td>427</td><td>&lt;lmfit.minimizer.MinimizerResult object at 0x7f73ed178760&gt;</td><td>0.021462266126133344</td><td>10019.685788948027</td><td>3.2120773707679294e-06</td><td>2.382635094085426e-30</td><td>0.0006105559678665325</td><td>0.0006105559678665322</td></tr>\n",
       "</table></div>"
      ],
      "text/plain": [
       "<Table length=1>\n",
       "    wd_source_id       ms_parallax    ms_parallax_over_error ...        e_radius          error_from_model  \n",
       "                                                             ...                                            \n",
       "       int64             float64             float32         ...        float64               float64       \n",
       "------------------- ----------------- ---------------------- ... --------------------- ---------------------\n",
       "3053811568108421504 8.814823841102658              562.90454 ... 0.0006105559678665325 0.0006105559678665322"
      ]
     },
     "execution_count": 21,
     "metadata": {},
     "output_type": "execute_result"
    }
   ],
   "source": [
    "# Gemini object no.1\n",
    "catalog[catalog['wd_source_id'] == 3053811568108421504]"
   ]
  },
  {
   "cell_type": "code",
   "execution_count": 22,
   "id": "9d658bfc",
   "metadata": {
    "tags": []
   },
   "outputs": [
    {
     "data": {
      "text/html": [
       "<div><i>Table length=1</i>\n",
       "<table id=\"table140135779986064\" class=\"table-striped table-bordered table-condensed\">\n",
       "<thead><tr><th>wd_source_id</th><th>ms_parallax</th><th>ms_parallax_over_error</th><th>wd_bp_rp</th><th>wd_ra</th><th>wd_dec</th><th>wd_l</th><th>wd_b</th><th>uses_sdss5</th><th>r_med_geo</th><th>wd_phot_g_mean_mag</th><th>wd_phot_bp_mean_mag</th><th>wd_phot_rp_mean_mag</th><th>wd_phot_g_mean_flux</th><th>wd_phot_bp_mean_flux</th><th>wd_phot_rp_mean_flux</th><th>wd_phot_g_mean_flux_error</th><th>wd_phot_bp_mean_flux_error</th><th>wd_phot_rp_mean_flux_error</th><th>wd_coords</th><th>E(B-V)</th><th>e_E(B-V)</th><th>A_v0</th><th>BP_ext</th><th>RP_ext</th><th>e_wd_phot_g_mean_mag</th><th>e_wd_phot_bp_mean_mag</th><th>e_wd_phot_rp_mean_mag</th><th>wd_catalog_id_phot</th><th>raw_radius_result</th><th>radius</th><th>phot_teff</th><th>e_phot_teff</th><th>redchi</th><th>e_radius</th><th>error_from_model</th></tr></thead>\n",
       "<thead><tr><th></th><th></th><th></th><th></th><th></th><th></th><th></th><th></th><th></th><th>pc</th><th>mag</th><th>mag</th><th>mag</th><th>electron / s</th><th>electron / s</th><th>electron / s</th><th>electron / s</th><th>electron / s</th><th>electron / s</th><th>deg,deg,pc</th><th></th><th></th><th></th><th></th><th></th><th>electron / s</th><th>electron / s</th><th>electron / s</th><th></th><th></th><th></th><th></th><th></th><th></th><th></th><th></th></tr></thead>\n",
       "<thead><tr><th>int64</th><th>float64</th><th>float32</th><th>float32</th><th>float64</th><th>float64</th><th>float64</th><th>float64</th><th>float64</th><th>float32</th><th>float32</th><th>float64</th><th>float32</th><th>float64</th><th>float64</th><th>float64</th><th>float32</th><th>float32</th><th>float32</th><th>SkyCoord</th><th>float32</th><th>float32</th><th>float32</th><th>float64</th><th>float64</th><th>float64</th><th>float64</th><th>float64</th><th>int64</th><th>object</th><th>float64</th><th>float64</th><th>float64</th><th>float64</th><th>float64</th><th>float64</th></tr></thead>\n",
       "<tr><td>3630648387747801088</td><td>17.712380230989538</td><td>1013.46893</td><td>-0.013959885</td><td>204.91582815570885</td><td>-7.221270578957777</td><td>323.43072229719735</td><td>53.72009508912655</td><td>--</td><td>56.286514</td><td>16.32448</td><td>16.32703399658203</td><td>16.340994</td><td>5561.025933695923</td><td>4023.493468614833</td><td>2305.476418167508</td><td>4.075968</td><td>13.082261</td><td>9.632535</td><td>323.43072229719735,53.72009508912655,56.28651428222656</td><td>0.0</td><td>0.0</td><td>0.0</td><td>0.0</td><td>0.0</td><td>0.0028679393139862557</td><td>0.004499735488940617</td><td>0.00590440299664158</td><td>465</td><td>&lt;lmfit.minimizer.MinimizerResult object at 0x7f73ec23f760&gt;</td><td>0.008782818447432979</td><td>11485.638629764</td><td>0.00031397469648895723</td><td>1.8077638976070228e-24</td><td>0.0006196808463064214</td><td>0.0006196808463063957</td></tr>\n",
       "</table></div>"
      ],
      "text/plain": [
       "<Table length=1>\n",
       "    wd_source_id       ms_parallax     ms_parallax_over_error ...        e_radius          error_from_model  \n",
       "                                                              ...                                            \n",
       "       int64             float64              float32         ...        float64               float64       \n",
       "------------------- ------------------ ---------------------- ... --------------------- ---------------------\n",
       "3630648387747801088 17.712380230989538             1013.46893 ... 0.0006196808463064214 0.0006196808463063957"
      ]
     },
     "execution_count": 22,
     "metadata": {},
     "output_type": "execute_result"
    }
   ],
   "source": [
    "# Gemini object no.2\n",
    "catalog[catalog['wd_source_id'] == 3630648387747801088]"
   ]
  },
  {
   "cell_type": "code",
   "execution_count": 23,
   "id": "140e113b",
   "metadata": {},
   "outputs": [],
   "source": [
    "catalog.remove_columns(['ms_parallax', 'wd_l', 'wd_b', 'raw_radius_result', 'wd_bp_rp', 'wd_phot_g_mean_mag', 'e_phot_teff',\n",
    "                        'wd_phot_bp_mean_mag', 'wd_phot_rp_mean_mag', 'wd_phot_g_mean_flux_error', 'wd_phot_bp_mean_flux_error', 'wd_phot_rp_mean_flux_error'])"
   ]
  },
  {
   "cell_type": "code",
   "execution_count": 24,
   "id": "90570098",
   "metadata": {},
   "outputs": [
    {
     "name": "stderr",
     "output_type": "stream",
     "text": [
      "WARNING: The unit 'electron / s' could not be saved in native FITS format and cannot be recovered in reading. It can roundtrip within astropy by using QTable both to write and read back, though one has to enable the unit before reading. [astropy.io.fits.convenience]\n"
     ]
    }
   ],
   "source": [
    "catalog.write('data/02_photometry.fits', overwrite=True)"
   ]
  },
  {
   "cell_type": "code",
   "execution_count": 25,
   "id": "4d1dc3e1",
   "metadata": {
    "tags": []
   },
   "outputs": [
    {
     "name": "stdout",
     "output_type": "stream",
     "text": [
      "    wd_source_id        phot_teff     \n",
      "------------------- ------------------\n",
      "  78630783787018624  7458.434097868265\n",
      "  90244375354955392  9268.413863620646\n",
      "  91690164426711040 15558.478744540218\n",
      " 235840781689958016 16369.693640751882\n",
      " 290678477446232960 8113.1007455749905\n",
      " 299817270203790464  7974.519232149502\n",
      " 300721515441972608  7312.397598205373\n",
      " 361278458368372992  6655.810210487427\n",
      " 520790043346964608   12502.0696023584\n",
      " 545940164944375296  7356.894194975239\n",
      "                ...                ...\n",
      "6339275452909996544  5745.295555698465\n",
      "6886973535081311872 11273.344243520009\n",
      "6898255177217741952    9979.6355961375\n",
      "6898705800892401280 12164.890201683644\n",
      "6899127085644261632 13434.405490048197\n",
      "6899212229075129344 13768.117578730475\n",
      "6908407066861225728  7510.530663018256\n",
      "6910805342238827648 19360.760784037535\n",
      "6915121784373453184  8510.135478214928\n",
      "6915495141583341824   9912.29705760775\n",
      "Length = 610 rows\n"
     ]
    }
   ],
   "source": [
    "nug = catalog[['wd_source_id', 'phot_teff']]\n",
    "nug.pprint()\n",
    "\n",
    "nug.write('data/nugget.fits', overwrite = True)"
   ]
  },
  {
   "cell_type": "code",
   "execution_count": null,
   "id": "49483e56",
   "metadata": {},
   "outputs": [],
   "source": []
  },
  {
   "cell_type": "code",
   "execution_count": null,
   "id": "67ab8519",
   "metadata": {},
   "outputs": [],
   "source": []
  },
  {
   "cell_type": "code",
   "execution_count": null,
   "id": "b9455bab",
   "metadata": {},
   "outputs": [],
   "source": []
  },
  {
   "cell_type": "code",
   "execution_count": null,
   "id": "8cd99c94",
   "metadata": {},
   "outputs": [],
   "source": []
  },
  {
   "cell_type": "code",
   "execution_count": null,
   "id": "f95ddb62",
   "metadata": {},
   "outputs": [],
   "source": []
  },
  {
   "cell_type": "code",
   "execution_count": null,
   "id": "3cadabb7",
   "metadata": {},
   "outputs": [],
   "source": []
  },
  {
   "cell_type": "code",
   "execution_count": null,
   "id": "65736d90",
   "metadata": {},
   "outputs": [],
   "source": []
  }
 ],
 "metadata": {
  "kernelspec": {
   "display_name": "Python 3 (ipykernel)",
   "language": "python",
   "name": "python3"
  },
  "language_info": {
   "codemirror_mode": {
    "name": "ipython",
    "version": 3
   },
   "file_extension": ".py",
   "mimetype": "text/x-python",
   "name": "python",
   "nbconvert_exporter": "python",
   "pygments_lexer": "ipython3",
   "version": "3.9.13"
  }
 },
 "nbformat": 4,
 "nbformat_minor": 5
}
