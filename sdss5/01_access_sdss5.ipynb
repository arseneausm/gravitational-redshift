{
 "cells": [
  {
   "cell_type": "code",
   "execution_count": 40,
   "id": "e08111e5-dea0-4fdf-8ce3-b94675c55de1",
   "metadata": {
    "tags": []
   },
   "outputs": [],
   "source": [
    "import numpy as np\n",
    "import scipy as sp\n",
    "from tqdm import tqdm\n",
    "import pandas as pd\n",
    "\n",
    "import matplotlib.pyplot as plt\n",
    "import matplotlib.colors as colors\n",
    "\n",
    "from astropy.io import fits\n",
    "from astropy.table import Table"
   ]
  },
  {
   "cell_type": "code",
   "execution_count": 41,
   "id": "877737a2-cf4a-4df0-9a76-bde3bec1d3ea",
   "metadata": {
    "tags": []
   },
   "outputs": [
    {
     "name": "stdout",
     "output_type": "stream",
     "text": [
      "['PROGRAMNAME', 'CHUNK', 'SURVEY', 'PLATEQUALITY', 'PLATESN2', 'DEREDSN2', 'PRIMTARGET', 'SECTARGET', 'LAMBDA_EFF', 'BLUEFIBER', 'ZOFFSET', 'XFOCAL', 'YFOCAL', 'SPECPRIMARY', 'SPECBOSS', 'BOSS_SPECOBJ_ID', 'NSPECOBS', 'CALIBFLUX', 'CALIBFLUX_IVAR', 'GAIA_BP', 'GAIA_RP', 'GAIA_G', 'FIRSTCARTON', 'MAG', 'PLATE', 'DESIGNID', 'NEXP', 'EXPTIME', 'AIRMASS', 'HEALPIX', 'HEALPIXGRP', 'HEALPIX_DIR', 'MJD_FINAL', 'MJD_LIST', 'TAI_LIST', 'PLATESNR2G_LIST', 'PLATESNR2R_LIST', 'PLATESNR2I_LIST', 'MOON_DIST', 'MOON_PHASE', 'SFD_EBV', 'WISE_MAG', 'TWOMASS_MAG', 'GUVCAT_MAG', 'GAIA_PARALLAX', 'GAIA_PMRA', 'GAIA_PMDEC', 'XCSAO_RV', 'XCSAO_ERV', 'XCSAO_RXC', 'XCSAO_TEFF', 'XCSAO_ETEFF', 'XCSAO_LOGG', 'XCSAO_ELOGG', 'XCSAO_FEH', 'XCSAO_EFEH', 'CATALOGID', 'SDSSV_BOSS_TARGET0', 'FIELD', 'TILE', 'MJD', 'FIBERID', 'RUN2D', 'RUN1D', 'OBJTYPE', 'PLUG_RA', 'PLUG_DEC', 'CLASS', 'SUBCLASS', 'Z', 'Z_ERR', 'RCHI2', 'DOF', 'RCHI2DIFF', 'TFILE', 'TCOLUMN', 'NPOLY', 'THETA', 'VDISP', 'VDISP_ERR', 'VDISPZ', 'VDISPZ_ERR', 'VDISPCHI2', 'VDISPNPIX', 'VDISPDOF', 'WAVEMIN', 'WAVEMAX', 'WCOVERAGE', 'ZWARNING', 'SN_MEDIAN', 'SN_MEDIAN_ALL', 'CHI68P', 'FRACNSIGMA', 'FRACNSIGHI', 'FRACNSIGLO', 'SPECTROFLUX', 'SPECTROFLUX_IVAR', 'SPECTROSYNFLUX', 'SPECTROSYNFLUX_IVAR', 'SPECTROSKYFLUX', 'ANYANDMASK', 'ANYORMASK', 'SPEC1_G', 'SPEC1_R', 'SPEC1_I', 'ELODIE_FILENAME', 'ELODIE_OBJECT', 'ELODIE_SPTYPE', 'ELODIE_BV', 'ELODIE_TEFF', 'ELODIE_LOGG', 'ELODIE_FEH', 'ELODIE_Z', 'ELODIE_Z_ERR', 'ELODIE_Z_MODELERR', 'ELODIE_RCHI2', 'ELODIE_DOF', 'Z_NOQSO', 'Z_ERR_NOQSO', 'ZNUM_NOQSO', 'ZWARNING_NOQSO', 'CLASS_NOQSO', 'SUBCLASS_NOQSO', 'RCHI2DIFF_NOQSO', 'SPECOBJID']\n"
     ]
    }
   ],
   "source": [
    "spall = Table.read('./spAll-v6_0_4.fits')\n",
    "elbadry = Table.read('../data/00_raw.fits')\n",
    "print(spall.keys())"
   ]
  },
  {
   "cell_type": "code",
   "execution_count": null,
   "id": "2e52e947-08cc-4979-a1bd-46125e6461ff",
   "metadata": {
    "tags": []
   },
   "outputs": [],
   "source": []
  },
  {
   "cell_type": "code",
   "execution_count": 42,
   "id": "0dce2db8-ea2b-4765-af28-488f29cadea9",
   "metadata": {
    "tags": []
   },
   "outputs": [],
   "source": [
    "from astropy.coordinates import SkyCoord\n",
    "import astropy.units as u\n",
    "from astropy.table import unique \n",
    "\n",
    "spall['pos'] = SkyCoord(spall['PLUG_RA'], spall['PLUG_DEC'], unit = 'deg')\n",
    "elbadry['pos'] = SkyCoord(elbadry['wd_ra'], elbadry['wd_dec'], unit = 'deg')"
   ]
  },
  {
   "cell_type": "code",
   "execution_count": 43,
   "id": "0f7e37e7-d256-4b07-84c5-b0a61871c1e8",
   "metadata": {
    "tags": []
   },
   "outputs": [],
   "source": [
    "from astropy.table import Table, join_skycoord\n",
    "from astropy import table\n",
    "\n",
    "join_func = join_skycoord(0.2 * u.deg)\n",
    "table = unique(table.join(spall, elbadry, join_funcs={'pos': join_skycoord(0.2 * u.deg)}), 'pos_id')"
   ]
  },
  {
   "cell_type": "code",
   "execution_count": 44,
   "id": "21bf93d9-fcf6-4a47-a6ad-07c60f85432a",
   "metadata": {
    "tags": []
   },
   "outputs": [
    {
     "name": "stdout",
     "output_type": "stream",
     "text": [
      "pos_id\n",
      "------\n",
      "     1\n",
      "     2\n",
      "     3\n",
      "     4\n",
      "     5\n",
      "     6\n",
      "     7\n",
      "     8\n",
      "     9\n",
      "    10\n",
      "    11\n"
     ]
    }
   ],
   "source": [
    "print(table['pos_id'])"
   ]
  },
  {
   "cell_type": "code",
   "execution_count": 45,
   "id": "85dada1e-a249-4654-9f1b-36e3b89f8bf0",
   "metadata": {
    "tags": []
   },
   "outputs": [
    {
     "name": "stdout",
     "output_type": "stream",
     "text": [
      "['pos_id', 'PROGRAMNAME', 'CHUNK', 'SURVEY', 'PLATEQUALITY', 'PLATESN2', 'DEREDSN2', 'PRIMTARGET', 'SECTARGET', 'LAMBDA_EFF', 'BLUEFIBER', 'ZOFFSET', 'XFOCAL', 'YFOCAL', 'SPECPRIMARY', 'SPECBOSS', 'BOSS_SPECOBJ_ID', 'NSPECOBS', 'CALIBFLUX', 'CALIBFLUX_IVAR', 'GAIA_BP', 'GAIA_RP', 'GAIA_G', 'FIRSTCARTON', 'MAG', 'PLATE', 'DESIGNID', 'NEXP', 'EXPTIME', 'AIRMASS', 'HEALPIX', 'HEALPIXGRP', 'HEALPIX_DIR', 'MJD_FINAL', 'MJD_LIST', 'TAI_LIST', 'PLATESNR2G_LIST', 'PLATESNR2R_LIST', 'PLATESNR2I_LIST', 'MOON_DIST', 'MOON_PHASE', 'SFD_EBV', 'WISE_MAG', 'TWOMASS_MAG', 'GUVCAT_MAG', 'GAIA_PARALLAX', 'GAIA_PMRA', 'GAIA_PMDEC', 'XCSAO_RV', 'XCSAO_ERV', 'XCSAO_RXC', 'XCSAO_TEFF', 'XCSAO_ETEFF', 'XCSAO_LOGG', 'XCSAO_ELOGG', 'XCSAO_FEH', 'XCSAO_EFEH', 'CATALOGID', 'SDSSV_BOSS_TARGET0', 'FIELD', 'TILE', 'MJD', 'FIBERID', 'RUN2D', 'RUN1D', 'OBJTYPE', 'PLUG_RA', 'PLUG_DEC', 'CLASS', 'SUBCLASS', 'Z', 'Z_ERR', 'RCHI2', 'DOF', 'RCHI2DIFF', 'TFILE', 'TCOLUMN', 'NPOLY', 'THETA', 'VDISP', 'VDISP_ERR', 'VDISPZ', 'VDISPZ_ERR', 'VDISPCHI2', 'VDISPNPIX', 'VDISPDOF', 'WAVEMIN', 'WAVEMAX', 'WCOVERAGE', 'ZWARNING', 'SN_MEDIAN', 'SN_MEDIAN_ALL', 'CHI68P', 'FRACNSIGMA', 'FRACNSIGHI', 'FRACNSIGLO', 'SPECTROFLUX', 'SPECTROFLUX_IVAR', 'SPECTROSYNFLUX', 'SPECTROSYNFLUX_IVAR', 'SPECTROSKYFLUX', 'ANYANDMASK', 'ANYORMASK', 'SPEC1_G', 'SPEC1_R', 'SPEC1_I', 'ELODIE_FILENAME', 'ELODIE_OBJECT', 'ELODIE_SPTYPE', 'ELODIE_BV', 'ELODIE_TEFF', 'ELODIE_LOGG', 'ELODIE_FEH', 'ELODIE_Z', 'ELODIE_Z_ERR', 'ELODIE_Z_MODELERR', 'ELODIE_RCHI2', 'ELODIE_DOF', 'Z_NOQSO', 'Z_ERR_NOQSO', 'ZNUM_NOQSO', 'ZWARNING_NOQSO', 'CLASS_NOQSO', 'SUBCLASS_NOQSO', 'RCHI2DIFF_NOQSO', 'SPECOBJID', 'pos_1', 'solution_id1', 'solution_id2', 'source_id1', 'source_id2', 'random_index1', 'random_index2', 'ref_epoch1', 'ref_epoch2', 'ra1', 'ra2', 'ra_error1', 'ra_error2', 'dec1', 'dec2', 'dec_error1', 'dec_error2', 'parallax1', 'parallax2', 'parallax_error1', 'parallax_error2', 'parallax_over_error1', 'parallax_over_error2', 'pm1', 'pm2', 'pmra1', 'pmra2', 'pmra_error1', 'pmra_error2', 'pmdec1', 'pmdec2', 'pmdec_error1', 'pmdec_error2', 'ra_dec_corr1', 'ra_dec_corr2', 'ra_parallax_corr1', 'ra_parallax_corr2', 'ra_pmra_corr1', 'ra_pmra_corr2', 'ra_pmdec_corr1', 'ra_pmdec_corr2', 'dec_parallax_corr1', 'dec_parallax_corr2', 'dec_pmra_corr1', 'dec_pmra_corr2', 'dec_pmdec_corr1', 'dec_pmdec_corr2', 'parallax_pmra_corr1', 'parallax_pmra_corr2', 'parallax_pmdec_corr1', 'parallax_pmdec_corr2', 'pmra_pmdec_corr1', 'pmra_pmdec_corr2', 'astrometric_n_obs_al1', 'astrometric_n_obs_al2', 'astrometric_n_obs_ac1', 'astrometric_n_obs_ac2', 'astrometric_n_good_obs_al1', 'astrometric_n_good_obs_al2', 'astrometric_n_bad_obs_al1', 'astrometric_n_bad_obs_al2', 'astrometric_gof_al1', 'astrometric_gof_al2', 'astrometric_chi2_al1', 'astrometric_chi2_al2', 'astrometric_excess_noise1', 'astrometric_excess_noise2', 'astrometric_excess_noise_sig1', 'astrometric_excess_noise_sig2', 'astrometric_params_solved1', 'astrometric_params_solved2', 'astrometric_primary_flag1', 'astrometric_primary_flag2', 'nu_eff_used_in_astrometry1', 'nu_eff_used_in_astrometry2', 'pseudocolour1', 'pseudocolour2', 'pseudocolour_error1', 'pseudocolour_error2', 'ra_pseudocolour_corr1', 'ra_pseudocolour_corr2', 'dec_pseudocolour_corr1', 'dec_pseudocolour_corr2', 'parallax_pseudocolour_corr1', 'parallax_pseudocolour_corr2', 'pmra_pseudocolour_corr1', 'pmra_pseudocolour_corr2', 'pmdec_pseudocolour_corr1', 'pmdec_pseudocolour_corr2', 'astrometric_matched_transits1', 'astrometric_matched_transits2', 'visibility_periods_used1', 'visibility_periods_used2', 'astrometric_sigma5d_max1', 'astrometric_sigma5d_max2', 'matched_transits1', 'matched_transits2', 'new_matched_transits1', 'new_matched_transits2', 'matched_transits_removed1', 'matched_transits_removed2', 'ipd_gof_harmonic_amplitude1', 'ipd_gof_harmonic_amplitude2', 'ipd_gof_harmonic_phase1', 'ipd_gof_harmonic_phase2', 'ipd_frac_multi_peak1', 'ipd_frac_multi_peak2', 'ipd_frac_odd_win1', 'ipd_frac_odd_win2', 'ruwe1', 'ruwe2', 'scan_direction_strength_k11', 'scan_direction_strength_k12', 'scan_direction_strength_k21', 'scan_direction_strength_k22', 'scan_direction_strength_k31', 'scan_direction_strength_k32', 'scan_direction_strength_k41', 'scan_direction_strength_k42', 'scan_direction_mean_k11', 'scan_direction_mean_k12', 'scan_direction_mean_k21', 'scan_direction_mean_k22', 'scan_direction_mean_k31', 'scan_direction_mean_k32', 'scan_direction_mean_k41', 'scan_direction_mean_k42', 'duplicated_source1', 'duplicated_source2', 'phot_g_n_obs1', 'phot_g_n_obs2', 'phot_g_mean_flux1', 'phot_g_mean_flux2', 'phot_g_mean_flux_error1', 'phot_g_mean_flux_error2', 'phot_g_mean_flux_over_error1', 'phot_g_mean_flux_over_error2', 'phot_g_mean_mag1', 'phot_g_mean_mag2', 'phot_bp_n_obs1', 'phot_bp_n_obs2', 'phot_bp_mean_flux1', 'phot_bp_mean_flux2', 'phot_bp_mean_flux_error1', 'phot_bp_mean_flux_error2', 'phot_bp_mean_flux_over_error1', 'phot_bp_mean_flux_over_error2', 'phot_bp_mean_mag1', 'phot_bp_mean_mag2', 'phot_rp_n_obs1', 'phot_rp_n_obs2', 'phot_rp_mean_flux1', 'phot_rp_mean_flux2', 'phot_rp_mean_flux_error1', 'phot_rp_mean_flux_error2', 'phot_rp_mean_flux_over_error1', 'phot_rp_mean_flux_over_error2', 'phot_rp_mean_mag1', 'phot_rp_mean_mag2', 'phot_bp_n_contaminated_transits1', 'phot_bp_n_contaminated_transits2', 'phot_bp_n_blended_transits1', 'phot_bp_n_blended_transits2', 'phot_rp_n_contaminated_transits1', 'phot_rp_n_contaminated_transits2', 'phot_rp_n_blended_transits1', 'phot_rp_n_blended_transits2', 'phot_proc_mode1', 'phot_proc_mode2', 'phot_bp_rp_excess_factor1', 'phot_bp_rp_excess_factor2', 'bp_rp1', 'bp_rp2', 'bp_g1', 'bp_g2', 'g_rp1', 'g_rp2', 'dr2_radial_velocity1', 'dr2_radial_velocity2', 'dr2_radial_velocity_error1', 'dr2_radial_velocity_error2', 'dr2_rv_nb_transits1', 'dr2_rv_nb_transits2', 'dr2_rv_template_teff1', 'dr2_rv_template_teff2', 'dr2_rv_template_logg1', 'dr2_rv_template_logg2', 'dr2_rv_template_fe_h1', 'dr2_rv_template_fe_h2', 'l1', 'l2', 'b1', 'b2', 'ecl_lon1', 'ecl_lon2', 'ecl_lat1', 'ecl_lat2', 'pairdistance', 'sep_AU', 'binary_type', 'Sigma18', 'R_chance_align', 'dr2_source_id1', 'dr2_source_id2', 'dr2_parallax1', 'dr2_parallax2', 'dr2_parallax_error1', 'dr2_parallax_error2', 'dr2_pmra1', 'dr2_pmra2', 'dr2_pmdec1', 'dr2_pmdec2', 'dr2_pmra_error1', 'dr2_pmra_error2', 'dr2_pmdec_error1', 'dr2_pmdec_error2', 'dr2_ruwe1', 'dr2_ruwe2', 'wd_obj', 'ms_obj', 'ms_source_id', 'wd_source_id', 'ms_parallax', 'wd_parallax', 'ms_parallax_over_error', 'wd_parallax_over_error', 'ms_phot_g_mean_mag', 'wd_phot_g_mean_mag', 'ms_phot_g_mean_flux', 'wd_phot_g_mean_flux', 'ms_phot_g_mean_flux_error', 'wd_phot_g_mean_flux_error', 'ms_phot_bp_mean_mag', 'wd_phot_bp_mean_mag', 'ms_phot_bp_mean_flux', 'wd_phot_bp_mean_flux', 'ms_phot_bp_mean_flux_error', 'wd_phot_bp_mean_flux_error', 'ms_phot_rp_mean_mag', 'wd_phot_rp_mean_mag', 'ms_phot_rp_mean_flux', 'wd_phot_rp_mean_flux', 'ms_phot_rp_mean_flux_error', 'wd_phot_rp_mean_flux_error', 'ms_bp_rp', 'wd_bp_rp', 'ms_ra', 'wd_ra', 'ms_ra_error', 'wd_ra_error', 'ms_dec', 'wd_dec', 'ms_dec_error', 'wd_dec_error', 'ms_l', 'wd_l', 'ms_b', 'wd_b', 'wd_m_g', 'ms_m_g', 'ms_rv', 'ms_erv', 'ms_non_single_star', 'objnum', 'pos_2']\n"
     ]
    }
   ],
   "source": [
    "print(table.keys())"
   ]
  },
  {
   "cell_type": "code",
   "execution_count": 46,
   "id": "62c58049-b1e5-444a-ac19-67a59c4f6945",
   "metadata": {
    "tags": []
   },
   "outputs": [],
   "source": [
    "table.write('data/01_in_sdss5.fits', overwrite=True)"
   ]
  },
  {
   "cell_type": "code",
   "execution_count": null,
   "id": "a353e336-33a4-4561-be2a-a3769a62946f",
   "metadata": {},
   "outputs": [],
   "source": []
  }
 ],
 "metadata": {
  "kernelspec": {
   "display_name": "Python 3 (ipykernel)",
   "language": "python",
   "name": "python3"
  },
  "language_info": {
   "codemirror_mode": {
    "name": "ipython",
    "version": 3
   },
   "file_extension": ".py",
   "mimetype": "text/x-python",
   "name": "python",
   "nbconvert_exporter": "python",
   "pygments_lexer": "ipython3",
   "version": "3.9.13"
  }
 },
 "nbformat": 4,
 "nbformat_minor": 5
}
