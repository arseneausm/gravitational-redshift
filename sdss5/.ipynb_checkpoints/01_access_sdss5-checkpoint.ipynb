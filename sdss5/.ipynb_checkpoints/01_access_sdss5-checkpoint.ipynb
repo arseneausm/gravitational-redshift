{
 "cells": [
  {
   "cell_type": "code",
   "execution_count": 2,
   "id": "e08111e5-dea0-4fdf-8ce3-b94675c55de1",
   "metadata": {
    "tags": []
   },
   "outputs": [],
   "source": [
    "import numpy as np\n",
    "import scipy as sp\n",
    "from tqdm import tqdm\n",
    "import pandas as pd\n",
    "\n",
    "import matplotlib.pyplot as plt\n",
    "import matplotlib.colors as colors\n",
    "\n",
    "from astropy.io import fits\n",
    "from astropy.table import Table"
   ]
  },
  {
   "cell_type": "code",
   "execution_count": 7,
   "id": "877737a2-cf4a-4df0-9a76-bde3bec1d3ea",
   "metadata": {
    "tags": []
   },
   "outputs": [
    {
     "name": "stdout",
     "output_type": "stream",
     "text": [
      "['PROGRAMNAME', 'CHUNK', 'SURVEY', 'PLATEQUALITY', 'PLATESN2', 'DEREDSN2', 'PRIMTARGET', 'SECTARGET', 'LAMBDA_EFF', 'BLUEFIBER', 'ZOFFSET', 'XFOCAL', 'YFOCAL', 'SPECPRIMARY', 'SPECBOSS', 'BOSS_SPECOBJ_ID', 'NSPECOBS', 'CALIBFLUX', 'CALIBFLUX_IVAR', 'GAIA_BP', 'GAIA_RP', 'GAIA_G', 'FIRSTCARTON', 'MAG', 'PLATE', 'DESIGNID', 'NEXP', 'EXPTIME', 'AIRMASS', 'HEALPIX', 'HEALPIXGRP', 'HEALPIX_DIR', 'MJD_FINAL', 'MJD_LIST', 'TAI_LIST', 'PLATESNR2G_LIST', 'PLATESNR2R_LIST', 'PLATESNR2I_LIST', 'MOON_DIST', 'MOON_PHASE', 'SFD_EBV', 'WISE_MAG', 'TWOMASS_MAG', 'GUVCAT_MAG', 'GAIA_PARALLAX', 'GAIA_PMRA', 'GAIA_PMDEC', 'XCSAO_RV', 'XCSAO_ERV', 'XCSAO_RXC', 'XCSAO_TEFF', 'XCSAO_ETEFF', 'XCSAO_LOGG', 'XCSAO_ELOGG', 'XCSAO_FEH', 'XCSAO_EFEH', 'CATALOGID', 'SDSSV_BOSS_TARGET0', 'FIELD', 'TILE', 'MJD', 'FIBERID', 'RUN2D', 'RUN1D', 'OBJTYPE', 'PLUG_RA', 'PLUG_DEC', 'CLASS', 'SUBCLASS', 'Z', 'Z_ERR', 'RCHI2', 'DOF', 'RCHI2DIFF', 'TFILE', 'TCOLUMN', 'NPOLY', 'THETA', 'VDISP', 'VDISP_ERR', 'VDISPZ', 'VDISPZ_ERR', 'VDISPCHI2', 'VDISPNPIX', 'VDISPDOF', 'WAVEMIN', 'WAVEMAX', 'WCOVERAGE', 'ZWARNING', 'SN_MEDIAN', 'SN_MEDIAN_ALL', 'CHI68P', 'FRACNSIGMA', 'FRACNSIGHI', 'FRACNSIGLO', 'SPECTROFLUX', 'SPECTROFLUX_IVAR', 'SPECTROSYNFLUX', 'SPECTROSYNFLUX_IVAR', 'SPECTROSKYFLUX', 'ANYANDMASK', 'ANYORMASK', 'SPEC1_G', 'SPEC1_R', 'SPEC1_I', 'ELODIE_FILENAME', 'ELODIE_OBJECT', 'ELODIE_SPTYPE', 'ELODIE_BV', 'ELODIE_TEFF', 'ELODIE_LOGG', 'ELODIE_FEH', 'ELODIE_Z', 'ELODIE_Z_ERR', 'ELODIE_Z_MODELERR', 'ELODIE_RCHI2', 'ELODIE_DOF', 'Z_NOQSO', 'Z_ERR_NOQSO', 'ZNUM_NOQSO', 'ZWARNING_NOQSO', 'CLASS_NOQSO', 'SUBCLASS_NOQSO', 'RCHI2DIFF_NOQSO', 'SPECOBJID']\n"
     ]
    }
   ],
   "source": [
    "spall = Table.read('./spAll-v6_0_4.fits')\n",
    "elbadry = Table.read('../data/00_raw.fits')\n",
    "print(spall.keys())"
   ]
  },
  {
   "cell_type": "code",
   "execution_count": 8,
   "id": "0dce2db8-ea2b-4765-af28-488f29cadea9",
   "metadata": {
    "tags": []
   },
   "outputs": [
    {
     "name": "stdout",
     "output_type": "stream",
     "text": [
      "23500\n"
     ]
    }
   ],
   "source": [
    "print(len(spall))"
   ]
  },
  {
   "cell_type": "code",
   "execution_count": 9,
   "id": "e03bd932-7b15-436c-8fb3-254ca98c2040",
   "metadata": {
    "tags": []
   },
   "outputs": [
    {
     "name": "stdout",
     "output_type": "stream",
     "text": [
      "     PLUG_RA        PLUG_DEC \n",
      "------------------ ----------\n",
      "128.86963000000003  0.7798678\n",
      "128.76441999999997  1.0797862\n",
      "         128.74327  1.1964453\n",
      "         128.83884 0.95208119\n",
      "128.81857000000002 0.94441479\n",
      "128.82614999999998 0.97481081\n",
      "128.79917999999998  1.0781083\n",
      "               ...        ...\n",
      "         142.51277  4.6198995\n",
      "         142.78519   4.548619\n",
      "142.69335999999998  4.6505514\n",
      "142.96029999999996  4.5889117\n",
      "         142.80716  4.6281405\n",
      "         142.77456  4.4971323\n",
      "         142.79755  4.5076922\n",
      "Length = 23500 rows\n"
     ]
    }
   ],
   "source": [
    "print(spall[['PLUG_RA', 'PLUG_DEC']])"
   ]
  },
  {
   "cell_type": "code",
   "execution_count": 11,
   "id": "67401cbf-3239-4c71-a3bc-e8afdb05872f",
   "metadata": {
    "tags": []
   },
   "outputs": [
    {
     "name": "stdout",
     "output_type": "stream",
     "text": [
      "-2.4838304\n"
     ]
    }
   ],
   "source": [
    "print(min(spall['PLUG_DEC']))"
   ]
  },
  {
   "cell_type": "code",
   "execution_count": null,
   "id": "0f7e37e7-d256-4b07-84c5-b0a61871c1e8",
   "metadata": {},
   "outputs": [],
   "source": []
  }
 ],
 "metadata": {
  "kernelspec": {
   "display_name": "Python 3 (ipykernel)",
   "language": "python",
   "name": "python3"
  },
  "language_info": {
   "codemirror_mode": {
    "name": "ipython",
    "version": 3
   },
   "file_extension": ".py",
   "mimetype": "text/x-python",
   "name": "python",
   "nbconvert_exporter": "python",
   "pygments_lexer": "ipython3",
   "version": "3.9.13"
  }
 },
 "nbformat": 4,
 "nbformat_minor": 5
}
