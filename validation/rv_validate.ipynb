{
 "cells": [
  {
   "cell_type": "code",
   "execution_count": 60,
   "id": "f649fb7d-573d-4aac-b351-381510a23ee3",
   "metadata": {},
   "outputs": [
    {
     "name": "stderr",
     "output_type": "stream",
     "text": [
      "2022-10-11 19:19:26.473378: W tensorflow/stream_executor/platform/default/dso_loader.cc:64] Could not load dynamic library 'libcudart.so.11.0'; dlerror: libcudart.so.11.0: cannot open shared object file: No such file or directory\n",
      "2022-10-11 19:19:26.473473: I tensorflow/stream_executor/cuda/cudart_stub.cc:29] Ignore above cudart dlerror if you do not have a GPU set up on your machine.\n"
     ]
    },
    {
     "name": "stdout",
     "output_type": "stream",
     "text": [
      "Please install galpy if you want to use the gaia module. otherwise, ignore this.\n",
      "using local paths\n",
      "star and exposure catalogs not found! check paths and run make_catalogs() if you want to use sdss functionality. otherwise ignore.\n"
     ]
    }
   ],
   "source": [
    "# Install a pip package in the current Jupyter kernel\n",
    "import sys\n",
    "import os\n",
    "sys.path.append('../')\n",
    "sys.path.append('../wdtools')\n",
    "sys.path.append('../WD_models')\n",
    "sys.path.append('../corv/src')\n",
    "\n",
    "\n",
    "### General\n",
    "import numpy as np\n",
    "import matplotlib.pyplot as plt\n",
    "import matplotlib.colors as colors\n",
    "\n",
    "import astropy\n",
    "from astropy.coordinates import SkyCoord\n",
    "from astropy.io import fits\n",
    "import astropy.units as u\n",
    "from astropy.table import Table, Column, MaskedColumn, join\n",
    "\n",
    "from tqdm import tqdm\n",
    "import pandas as pd\n",
    "from scipy.optimize import curve_fit\n",
    "import scipy.stats as stats\n",
    "\n",
    "### Tools\n",
    "import wdtools\n",
    "import WD_models\n",
    "import data_selector as ds\n",
    "import WD_models\n",
    "from bisect import bisect_left\n",
    "import lmfit\n",
    "import glob\n",
    "\n",
    "from astroquery.sdss import SDSS\n",
    "from astroquery.gaia import Gaia\n",
    "\n",
    "import corv\n",
    "\n",
    "#corv.sdss.make_catalogs()"
   ]
  },
  {
   "cell_type": "code",
   "execution_count": 4,
   "id": "8c59c47b-8cbd-44b3-9146-a1bb432516d9",
   "metadata": {},
   "outputs": [],
   "source": [
    "c = 2.998e10\n",
    "k = 1.38e-16\n",
    "h = 6.626e-27\n",
    "halpha = 6564.61\n",
    "hbeta = 4862.68\n",
    "hgamma = 4341.68\n",
    "hdelta = 4102.89\n",
    "speed_light = 299792458 #m/s\n",
    "radius_sun = 6.957e8\n",
    "mass_sun = 1.9884e30\n",
    "newton_G = 6.674e-11\n",
    "pc_to_m = 3.086775e16"
   ]
  },
  {
   "cell_type": "code",
   "execution_count": 21,
   "id": "6eaefe34-ef5a-41a4-b2ea-3e82dc00f2f8",
   "metadata": {},
   "outputs": [
    {
     "name": "stdout",
     "output_type": "stream",
     "text": [
      "['dist', 'solution_id', 'designation', 'source_id', 'random_index', 'ref_epoch', 'ra', 'ra_error', 'dec', 'dec_error', 'parallax', 'parallax_error', 'parallax_over_error', 'pmra', 'pmra_error', 'pmdec', 'pmdec_error', 'ra_dec_corr', 'ra_parallax_corr', 'ra_pmra_corr', 'ra_pmdec_corr', 'dec_parallax_corr', 'dec_pmra_corr', 'dec_pmdec_corr', 'parallax_pmra_corr', 'parallax_pmdec_corr', 'pmra_pmdec_corr', 'astrometric_n_obs_al', 'astrometric_n_obs_ac', 'astrometric_n_good_obs_al', 'astrometric_n_bad_obs_al', 'astrometric_gof_al', 'astrometric_chi2_al', 'astrometric_excess_noise', 'astrometric_excess_noise_sig', 'astrometric_params_solved', 'astrometric_primary_flag', 'astrometric_weight_al', 'astrometric_pseudo_colour', 'astrometric_pseudo_colour_error', 'mean_varpi_factor_al', 'astrometric_matched_observations', 'visibility_periods_used', 'astrometric_sigma5d_max', 'frame_rotator_object_type', 'matched_observations', 'duplicated_source', 'phot_g_n_obs', 'phot_g_mean_flux', 'phot_g_mean_flux_error', 'phot_g_mean_flux_over_error', 'phot_g_mean_mag', 'phot_bp_n_obs', 'phot_bp_mean_flux', 'phot_bp_mean_flux_error', 'phot_bp_mean_flux_over_error', 'phot_bp_mean_mag', 'phot_rp_n_obs', 'phot_rp_mean_flux', 'phot_rp_mean_flux_error', 'phot_rp_mean_flux_over_error', 'phot_rp_mean_mag', 'phot_bp_rp_excess_factor', 'phot_proc_mode', 'bp_rp', 'bp_g', 'g_rp', 'radial_velocity', 'radial_velocity_error', 'rv_nb_transits', 'rv_template_teff', 'rv_template_logg', 'rv_template_fe_h', 'phot_variable_flag', 'l', 'b', 'ecl_lon', 'ecl_lat', 'priam_flags', 'col_p_m_f', 'ra_dec', 'sng', 'u', 'su', 'g', 'sg', 'r', 'sr', 'i', 'si', 'z', 'sz', 'ebv', 'ppm', 'tp', 'teff', 'dt', 'logg', 'dlogg', 'vr', 'dvr', 's_n', 'dt_sp_', 'd_pc_', 'z_pc_', 'mass', 'dmass', 't3d', 'logg3d', 'r_est', 'r_lo', 'r_hi', 'r_len', 'result_flag', 'modality_flag', 'A_u', 'A_g', 'A_r', 'A_i', 'A_z', 'radius', 'e_radius', 'sed_teff', 'e_sed_teff', 'sed_redchi', 'par_e_radius', 'total_e_radius', 'sed_logg', 'e_sed_logg', 'corv_rv', 'corv_erv']\n"
     ]
    }
   ],
   "source": [
    "catalog = Table.read('/home/arseneausm/Downloads/sed_radii.fits')\n",
    "catalog['corv_rv'] = -9999 * np.ones(len(catalog))\n",
    "catalog['corv_erv'] = -9999 * np.ones(len(catalog))\n",
    "\n",
    "print(catalog.keys())  "
   ]
  },
  {
   "cell_type": "code",
   "execution_count": 4,
   "id": "561ea20e-c204-487a-8e3a-e5c6e606e0a1",
   "metadata": {
    "collapsed": true,
    "jupyter": {
     "outputs_hidden": true
    },
    "tags": []
   },
   "outputs": [
    {
     "name": "stderr",
     "output_type": "stream",
     "text": [
      "  0%|                                                                                   | 0/200 [00:00<?, ?it/s]/home/arseneausm/anaconda3/lib/python3.8/site-packages/astroquery/sdss/core.py:874: VisibleDeprecationWarning: Reading unicode strings without specifying the encoding argument is deprecated. Set the encoding, use None for the system default.\n",
      "  arr = np.atleast_1d(np.genfromtxt(io.BytesIO(response.content),\n",
      "/home/arseneausm/anaconda3/lib/python3.8/site-packages/astropy/table/table.py:3474: FutureWarning: elementwise == comparison failed and returning scalar instead; this will raise an error or perform elementwise comparison in the future.\n",
      "  result = self.as_array() == other\n"
     ]
    },
    {
     "name": "stdout",
     "output_type": "stream",
     "text": [
      "starting...\n"
     ]
    },
    {
     "name": "stderr",
     "output_type": "stream",
     "text": [
      "  0%|▎                                                                       | 1/200 [02:55<9:42:24, 175.60s/it]"
     ]
    },
    {
     "name": "stdout",
     "output_type": "stream",
     "text": [
      "The chain is shorter than 50 times the integrated autocorrelation time for 1 parameter(s). Use this estimate with caution and run a longer chain!\n",
      "N/50 = 20;\n",
      "tau: [22.39455753]\n",
      "final params:\n",
      "[[Fit Statistics]]\n",
      "    # fitting method   = emcee\n",
      "    # function evals   = 50000\n",
      "    # data points      = 629\n",
      "    # variables        = 1\n",
      "    chi-square         = 1278.8485\n",
      "    reduced chi-square = 2.03638298\n",
      "    Akaike info crit   = 448.328395\n",
      "    Bayesian info crit = 452.772527\n",
      "[[Variables]]\n",
      "    teff:  30901 (fixed)\n",
      "    logg:  9.342187 (fixed)\n",
      "    RV:    39.8876195 +/- 17.1456222 (42.98%) (init = 49.92199)\n",
      "    res:   1 (fixed)\n",
      "rv init: 49.921990732091615\n",
      "28.0\n",
      "starting...\n"
     ]
    },
    {
     "name": "stderr",
     "output_type": "stream",
     "text": [
      "  1%|▋                                                                       | 2/200 [05:51<9:39:56, 175.74s/it]"
     ]
    },
    {
     "name": "stdout",
     "output_type": "stream",
     "text": [
      "The chain is shorter than 50 times the integrated autocorrelation time for 1 parameter(s). Use this estimate with caution and run a longer chain!\n",
      "N/50 = 20;\n",
      "tau: [28.67441783]\n",
      "final params:\n",
      "[[Fit Statistics]]\n",
      "    # fitting method   = emcee\n",
      "    # function evals   = 50000\n",
      "    # data points      = 629\n",
      "    # variables        = 1\n",
      "    chi-square         = 2449.6868\n",
      "    reduced chi-square = 3.90077511\n",
      "    Akaike info crit   = 857.178455\n",
      "    Bayesian info crit = 861.622586\n",
      "[[Variables]]\n",
      "    teff:  28778 (fixed)\n",
      "    logg:  9.087077 (fixed)\n",
      "    RV:    84.1597146 +/- 14.0646329 (16.71%) (init = 111.9315)\n",
      "    res:   1 (fixed)\n",
      "rv init: 111.93147753294633\n",
      "83.0\n",
      "starting...\n"
     ]
    },
    {
     "name": "stderr",
     "output_type": "stream",
     "text": [
      "  2%|█                                                                       | 3/200 [08:46<9:35:38, 175.32s/it]"
     ]
    },
    {
     "name": "stdout",
     "output_type": "stream",
     "text": [
      "final params:\n",
      "[[Fit Statistics]]\n",
      "    # fitting method   = emcee\n",
      "    # function evals   = 50000\n",
      "    # data points      = 629\n",
      "    # variables        = 1\n",
      "    chi-square         = 553.23254\n",
      "    reduced chi-square = 0.88094354\n",
      "    Akaike info crit   = -78.7339301\n",
      "    Bayesian info crit = -74.2897989\n",
      "[[Variables]]\n",
      "    teff:  15324 (fixed)\n",
      "    logg:  8.023121 (fixed)\n",
      "    RV:   -58.2088673 +/- 16.4430778 (28.25%) (init = -58.21858)\n",
      "    res:   1 (fixed)\n",
      "rv init: -58.21857660691546\n",
      "-20.0\n",
      "starting...\n"
     ]
    },
    {
     "name": "stderr",
     "output_type": "stream",
     "text": [
      "  2%|█▍                                                                      | 4/200 [11:43<9:35:18, 176.12s/it]"
     ]
    },
    {
     "name": "stdout",
     "output_type": "stream",
     "text": [
      "The chain is shorter than 50 times the integrated autocorrelation time for 1 parameter(s). Use this estimate with caution and run a longer chain!\n",
      "N/50 = 20;\n",
      "tau: [23.21217944]\n",
      "final params:\n",
      "[[Fit Statistics]]\n",
      "    # fitting method   = emcee\n",
      "    # function evals   = 50000\n",
      "    # data points      = 629\n",
      "    # variables        = 1\n",
      "    chi-square         = 1464.0931\n",
      "    reduced chi-square = 2.33135850\n",
      "    Akaike info crit   = 533.416975\n",
      "    Bayesian info crit = 537.861106\n",
      "[[Variables]]\n",
      "    teff:  23616 (fixed)\n",
      "    logg:  9.489995 (fixed)\n",
      "    RV:   -14.8932375 +/- 12.1854943 (81.82%) (init = 2.982777)\n",
      "    res:   1 (fixed)\n",
      "rv init: 2.9827774932864446\n",
      "12.0\n",
      "starting...\n"
     ]
    },
    {
     "name": "stderr",
     "output_type": "stream",
     "text": [
      "  2%|█▊                                                                      | 5/200 [14:41<9:34:47, 176.86s/it]"
     ]
    },
    {
     "name": "stdout",
     "output_type": "stream",
     "text": [
      "The chain is shorter than 50 times the integrated autocorrelation time for 1 parameter(s). Use this estimate with caution and run a longer chain!\n",
      "N/50 = 20;\n",
      "tau: [33.38109868]\n",
      "final params:\n",
      "[[Fit Statistics]]\n",
      "    # fitting method   = emcee\n",
      "    # function evals   = 50000\n",
      "    # data points      = 629\n",
      "    # variables        = 1\n",
      "    chi-square         = 1246.359\n",
      "    reduced chi-square = 1.98464810\n",
      "    Akaike info crit   = 432.141983\n",
      "    Bayesian info crit = 436.586115\n",
      "[[Variables]]\n",
      "    teff:  39999 (fixed)\n",
      "    logg:  9.141247 (fixed)\n",
      "    RV:    12.5204795 +/- 25.6181365 (204.61%) (init = 129.8027)\n",
      "    res:   1 (fixed)\n",
      "rv init: 129.8026658613059\n",
      "0.0\n",
      "starting...\n"
     ]
    },
    {
     "name": "stderr",
     "output_type": "stream",
     "text": [
      "  3%|██▏                                                                     | 6/200 [17:33<9:26:10, 175.11s/it]"
     ]
    },
    {
     "name": "stdout",
     "output_type": "stream",
     "text": [
      "The chain is shorter than 50 times the integrated autocorrelation time for 1 parameter(s). Use this estimate with caution and run a longer chain!\n",
      "N/50 = 20;\n",
      "tau: [22.15599339]\n",
      "final params:\n",
      "[[Fit Statistics]]\n",
      "    # fitting method   = emcee\n",
      "    # function evals   = 50000\n",
      "    # data points      = 629\n",
      "    # variables        = 1\n",
      "    chi-square         = 613.68616\n",
      "    reduced chi-square = 0.97720726\n",
      "    Akaike info crit   = -13.5033428\n",
      "    Bayesian info crit = -9.05921154\n",
      "[[Variables]]\n",
      "    teff:  16041 (fixed)\n",
      "    logg:  8.515531 (fixed)\n",
      "    RV:    44.4383435 +/- 26.8636571 (60.45%) (init = 63.72015)\n",
      "    res:   1 (fixed)\n",
      "rv init: 63.72014932789181\n",
      "82.0\n",
      "starting...\n"
     ]
    },
    {
     "name": "stderr",
     "output_type": "stream",
     "text": [
      "  4%|██▎                                                                | 7/200 [4:28:24<270:06:23, 5038.26s/it]"
     ]
    },
    {
     "name": "stdout",
     "output_type": "stream",
     "text": [
      "The chain is shorter than 50 times the integrated autocorrelation time for 1 parameter(s). Use this estimate with caution and run a longer chain!\n",
      "N/50 = 20;\n",
      "tau: [20.49344257]\n",
      "final params:\n",
      "[[Fit Statistics]]\n",
      "    # fitting method   = emcee\n",
      "    # function evals   = 50000\n",
      "    # data points      = 629\n",
      "    # variables        = 1\n",
      "    chi-square         = 404.77197\n",
      "    reduced chi-square = 0.64454136\n",
      "    Akaike info crit   = -275.267841\n",
      "    Bayesian info crit = -270.823710\n",
      "[[Variables]]\n",
      "    teff:  30881 (fixed)\n",
      "    logg:  7.699267 (fixed)\n",
      "    RV:   -35.4092160 +/- 13.4492561 (37.98%) (init = -33.27181)\n",
      "    res:   1 (fixed)\n",
      "rv init: -33.27180521444083\n",
      "-25.0\n",
      "starting...\n"
     ]
    },
    {
     "name": "stderr",
     "output_type": "stream",
     "text": [
      "  4%|██▋                                                                | 8/200 [4:32:02<186:52:37, 3503.95s/it]"
     ]
    },
    {
     "name": "stdout",
     "output_type": "stream",
     "text": [
      "final params:\n",
      "[[Fit Statistics]]\n",
      "    # fitting method   = emcee\n",
      "    # function evals   = 50000\n",
      "    # data points      = 629\n",
      "    # variables        = 1\n",
      "    chi-square         = 809.48737\n",
      "    reduced chi-square = 1.28899262\n",
      "    Akaike info crit   = 160.677773\n",
      "    Bayesian info crit = 165.121904\n",
      "[[Variables]]\n",
      "    teff:  20904 (fixed)\n",
      "    logg:  8.75672 (fixed)\n",
      "    RV:   -4.58792346 +/- 16.2843337 (354.94%) (init = 2.811581)\n",
      "    res:   1 (fixed)\n",
      "rv init: 2.8115811482748763\n",
      "5.0\n",
      "starting...\n"
     ]
    },
    {
     "name": "stderr",
     "output_type": "stream",
     "text": [
      "  4%|███                                                                | 9/200 [4:35:16<130:59:31, 2468.96s/it]"
     ]
    },
    {
     "name": "stdout",
     "output_type": "stream",
     "text": [
      "The chain is shorter than 50 times the integrated autocorrelation time for 1 parameter(s). Use this estimate with caution and run a longer chain!\n",
      "N/50 = 20;\n",
      "tau: [23.90027057]\n",
      "final params:\n",
      "[[Fit Statistics]]\n",
      "    # fitting method   = emcee\n",
      "    # function evals   = 50000\n",
      "    # data points      = 629\n",
      "    # variables        = 1\n",
      "    chi-square         = 730.80237\n",
      "    reduced chi-square = 1.16369804\n",
      "    Akaike info crit   = 96.3574274\n",
      "    Bayesian info crit = 100.801559\n",
      "[[Variables]]\n",
      "    teff:  20362 (fixed)\n",
      "    logg:  8.574136 (fixed)\n",
      "    RV:    28.4560919 +/- 15.4561389 (54.32%) (init = 44.75246)\n",
      "    res:   1 (fixed)\n",
      "rv init: 44.752455157570424\n",
      "46.0\n",
      "starting...\n"
     ]
    },
    {
     "name": "stderr",
     "output_type": "stream",
     "text": [
      "  5%|███▎                                                               | 10/200 [4:38:33<93:17:33, 1767.65s/it]"
     ]
    },
    {
     "name": "stdout",
     "output_type": "stream",
     "text": [
      "The chain is shorter than 50 times the integrated autocorrelation time for 1 parameter(s). Use this estimate with caution and run a longer chain!\n",
      "N/50 = 20;\n",
      "tau: [24.76947302]\n",
      "final params:\n",
      "[[Fit Statistics]]\n",
      "    # fitting method   = emcee\n",
      "    # function evals   = 50000\n",
      "    # data points      = 629\n",
      "    # variables        = 1\n",
      "    chi-square         = 912.4768\n",
      "    reduced chi-square = 1.45298855\n",
      "    Akaike info crit   = 236.007758\n",
      "    Bayesian info crit = 240.451889\n",
      "[[Variables]]\n",
      "    teff:  34334 (fixed)\n",
      "    logg:  9.364648 (fixed)\n",
      "    RV:    35.8857454 +/- 31.3645578 (87.40%) (init = 64.59718)\n",
      "    res:   1 (fixed)\n",
      "rv init: 64.59718467238945\n",
      "3.0\n",
      "starting...\n"
     ]
    },
    {
     "name": "stderr",
     "output_type": "stream",
     "text": [
      "  6%|███▋                                                               | 11/200 [4:41:49<67:33:03, 1286.68s/it]"
     ]
    },
    {
     "name": "stdout",
     "output_type": "stream",
     "text": [
      "The chain is shorter than 50 times the integrated autocorrelation time for 1 parameter(s). Use this estimate with caution and run a longer chain!\n",
      "N/50 = 20;\n",
      "tau: [23.10384765]\n",
      "final params:\n",
      "[[Fit Statistics]]\n",
      "    # fitting method   = emcee\n",
      "    # function evals   = 50000\n",
      "    # data points      = 629\n",
      "    # variables        = 1\n",
      "    chi-square         = 623.81165\n",
      "    reduced chi-square = 0.99333065\n",
      "    Akaike info crit   = -3.20987116\n",
      "    Bayesian info crit = 1.23426009\n",
      "[[Variables]]\n",
      "    teff:  16890 (fixed)\n",
      "    logg:  8.371774 (fixed)\n",
      "    RV:    49.7049708 +/- 17.0946269 (34.39%) (init = 56.72614)\n",
      "    res:   1 (fixed)\n",
      "rv init: 56.726141316597875\n",
      "72.0\n",
      "starting...\n"
     ]
    },
    {
     "name": "stderr",
     "output_type": "stream",
     "text": [
      "  6%|████                                                                | 12/200 [4:45:08<49:54:53, 955.82s/it]"
     ]
    },
    {
     "name": "stdout",
     "output_type": "stream",
     "text": [
      "final params:\n",
      "[[Fit Statistics]]\n",
      "    # fitting method   = emcee\n",
      "    # function evals   = 50000\n",
      "    # data points      = 629\n",
      "    # variables        = 1\n",
      "    chi-square         = 723.9343\n",
      "    reduced chi-square = 1.15276167\n",
      "    Akaike info crit   = 90.4181664\n",
      "    Bayesian info crit = 94.8622976\n",
      "[[Variables]]\n",
      "    teff:  20596 (fixed)\n",
      "    logg:  9.145582 (fixed)\n",
      "    RV:   -3.33472603 +/- 24.1239964 (723.42%) (init = 6.907656)\n",
      "    res:   1 (fixed)\n",
      "rv init: 6.907656369285809\n",
      "14.0\n",
      "starting...\n"
     ]
    },
    {
     "name": "stderr",
     "output_type": "stream",
     "text": [
      "/home/arseneausm/anaconda3/lib/python3.8/site-packages/emcee-3.1.2-py3.8.egg/emcee/moves/red_blue.py:99: RuntimeWarning: invalid value encountered in double_scalars\n",
      "  lnpdiff = f + nlp - state.log_prob[j]\n",
      "  6%|████▍                                                               | 13/200 [4:48:14<37:32:21, 722.68s/it]"
     ]
    },
    {
     "name": "stdout",
     "output_type": "stream",
     "text": [
      "The chain is shorter than 50 times the integrated autocorrelation time for 1 parameter(s). Use this estimate with caution and run a longer chain!\n",
      "N/50 = 20;\n",
      "tau: [54.85338525]\n",
      "final params:\n",
      "[[Fit Statistics]]\n",
      "    # fitting method   = emcee\n",
      "    # function evals   = 50000\n",
      "    # data points      = 629\n",
      "    # variables        = 1\n",
      "    chi-square         = 768.4642\n",
      "    reduced chi-square = 1.22366906\n",
      "    Akaike info crit   = 127.965229\n",
      "    Bayesian info crit = 132.409360\n",
      "[[Variables]]\n",
      "    teff:  6618 (fixed)\n",
      "    logg:  9.489991 (fixed)\n",
      "    RV:   -87.3763953 +/- 36.2531135 (41.49%) (init = -2500)\n",
      "    res:   1 (fixed)\n",
      "rv init: -2558.3590855314656\n",
      "-123.0\n",
      "starting...\n"
     ]
    },
    {
     "name": "stderr",
     "output_type": "stream",
     "text": [
      "  7%|████▊                                                               | 14/200 [4:51:09<28:47:26, 557.24s/it]"
     ]
    },
    {
     "name": "stdout",
     "output_type": "stream",
     "text": [
      "The chain is shorter than 50 times the integrated autocorrelation time for 1 parameter(s). Use this estimate with caution and run a longer chain!\n",
      "N/50 = 20;\n",
      "tau: [20.2042131]\n",
      "final params:\n",
      "[[Fit Statistics]]\n",
      "    # fitting method   = emcee\n",
      "    # function evals   = 50000\n",
      "    # data points      = 629\n",
      "    # variables        = 1\n",
      "    chi-square         = 893.0991\n",
      "    reduced chi-square = 1.42213236\n",
      "    Akaike info crit   = 222.506213\n",
      "    Bayesian info crit = 226.950344\n",
      "[[Variables]]\n",
      "    teff:  19441 (fixed)\n",
      "    logg:  8.904814 (fixed)\n",
      "    RV:   -28.0864096 +/- 12.4472173 (44.32%) (init = -14.58679)\n",
      "    res:   1 (fixed)\n",
      "rv init: -14.586786296760241\n",
      "-10.0\n",
      "starting...\n"
     ]
    },
    {
     "name": "stderr",
     "output_type": "stream",
     "text": [
      "  8%|█████                                                               | 15/200 [4:54:08<22:46:06, 443.06s/it]"
     ]
    },
    {
     "name": "stdout",
     "output_type": "stream",
     "text": [
      "The chain is shorter than 50 times the integrated autocorrelation time for 1 parameter(s). Use this estimate with caution and run a longer chain!\n",
      "N/50 = 20;\n",
      "tau: [21.19505478]\n",
      "final params:\n",
      "[[Fit Statistics]]\n",
      "    # fitting method   = emcee\n",
      "    # function evals   = 50000\n",
      "    # data points      = 629\n",
      "    # variables        = 1\n",
      "    chi-square         = 670.05566\n",
      "    reduced chi-square = 1.06696762\n",
      "    Akaike info crit   = 41.7713762\n",
      "    Bayesian info crit = 46.2155075\n",
      "[[Variables]]\n",
      "    teff:  20272 (fixed)\n",
      "    logg:  8.916006 (fixed)\n",
      "    RV:    20.7808994 +/- 24.2857251 (116.87%) (init = 32.03503)\n",
      "    res:   1 (fixed)\n",
      "rv init: 32.03502540546951\n",
      "29.0\n",
      "starting...\n"
     ]
    },
    {
     "name": "stderr",
     "output_type": "stream",
     "text": [
      "  8%|█████▍                                                              | 16/200 [4:57:06<18:34:02, 363.27s/it]"
     ]
    },
    {
     "name": "stdout",
     "output_type": "stream",
     "text": [
      "The chain is shorter than 50 times the integrated autocorrelation time for 1 parameter(s). Use this estimate with caution and run a longer chain!\n",
      "N/50 = 20;\n",
      "tau: [21.7942259]\n",
      "final params:\n",
      "[[Fit Statistics]]\n",
      "    # fitting method   = emcee\n",
      "    # function evals   = 50000\n",
      "    # data points      = 629\n",
      "    # variables        = 1\n",
      "    chi-square         = 670.81555\n",
      "    reduced chi-square = 1.06817763\n",
      "    Akaike info crit   = 42.4842999\n",
      "    Bayesian info crit = 46.9284311\n",
      "[[Variables]]\n",
      "    teff:  7779 (fixed)\n",
      "    logg:  8.326623 (fixed)\n",
      "    RV:   -7.05869757 +/- 8.96881591 (127.06%) (init = 0.9560196)\n",
      "    res:   1 (fixed)\n",
      "rv init: 0.9560196161988094\n",
      "-8.0\n",
      "starting...\n"
     ]
    },
    {
     "name": "stderr",
     "output_type": "stream",
     "text": [
      "  8%|█████▊                                                              | 17/200 [5:00:30<16:02:25, 315.55s/it]"
     ]
    },
    {
     "name": "stdout",
     "output_type": "stream",
     "text": [
      "The chain is shorter than 50 times the integrated autocorrelation time for 1 parameter(s). Use this estimate with caution and run a longer chain!\n",
      "N/50 = 20;\n",
      "tau: [28.65680999]\n",
      "final params:\n",
      "[[Fit Statistics]]\n",
      "    # fitting method   = emcee\n",
      "    # function evals   = 50000\n",
      "    # data points      = 629\n",
      "    # variables        = 1\n",
      "    chi-square         = 379.18127\n",
      "    reduced chi-square = 0.60379184\n",
      "    Akaike info crit   = -316.347511\n",
      "    Bayesian info crit = -311.903380\n",
      "[[Variables]]\n",
      "    teff:  28733 (fixed)\n",
      "    logg:  7.884568 (fixed)\n",
      "    RV:   -0.85533430 +/- 15.2321621 (1780.84%) (init = 25.35126)\n",
      "    res:   1 (fixed)\n",
      "rv init: 25.351256870356238\n",
      "-5.0\n",
      "starting...\n"
     ]
    },
    {
     "name": "stderr",
     "output_type": "stream",
     "text": [
      "  9%|██████                                                              | 18/200 [5:04:09<14:28:40, 286.38s/it]"
     ]
    },
    {
     "name": "stdout",
     "output_type": "stream",
     "text": [
      "The chain is shorter than 50 times the integrated autocorrelation time for 1 parameter(s). Use this estimate with caution and run a longer chain!\n",
      "N/50 = 20;\n",
      "tau: [49.6533801]\n",
      "final params:\n",
      "[[Fit Statistics]]\n",
      "    # fitting method   = emcee\n",
      "    # function evals   = 50000\n",
      "    # data points      = 629\n",
      "    # variables        = 1\n",
      "    chi-square         = 1557.5011\n",
      "    reduced chi-square = 2.48009729\n",
      "    Akaike info crit   = 572.318514\n",
      "    Bayesian info crit = 576.762645\n",
      "[[Variables]]\n",
      "    teff:  39999 (fixed)\n",
      "    logg:  8.578314 (fixed)\n",
      "    RV:    39.8439857 +/- 32.4812484 (81.52%) (init = 771.1429)\n",
      "    res:   1 (fixed)\n",
      "rv init: 771.1428566996293\n",
      "-2.0\n",
      "starting...\n"
     ]
    },
    {
     "name": "stderr",
     "output_type": "stream",
     "text": [
      " 10%|██████▍                                                             | 19/200 [5:07:24<13:01:11, 258.96s/it]"
     ]
    },
    {
     "name": "stdout",
     "output_type": "stream",
     "text": [
      "The chain is shorter than 50 times the integrated autocorrelation time for 1 parameter(s). Use this estimate with caution and run a longer chain!\n",
      "N/50 = 20;\n",
      "tau: [25.41999337]\n",
      "final params:\n",
      "[[Fit Statistics]]\n",
      "    # fitting method   = emcee\n",
      "    # function evals   = 50000\n",
      "    # data points      = 629\n",
      "    # variables        = 1\n",
      "    chi-square         = 540.752\n",
      "    reduced chi-square = 0.86107009\n",
      "    Akaike info crit   = -93.0862238\n",
      "    Bayesian info crit = -88.6420926\n",
      "[[Variables]]\n",
      "    teff:  14042 (fixed)\n",
      "    logg:  7.928913 (fixed)\n",
      "    RV:    3.96295454 +/- 9.51722680 (240.15%) (init = 15.08233)\n",
      "    res:   1 (fixed)\n",
      "rv init: 15.082325269231474\n",
      "32.0\n",
      "starting...\n"
     ]
    },
    {
     "name": "stderr",
     "output_type": "stream",
     "text": [
      " 10%|██████▊                                                             | 20/200 [5:10:40<12:00:24, 240.13s/it]"
     ]
    },
    {
     "name": "stdout",
     "output_type": "stream",
     "text": [
      "The chain is shorter than 50 times the integrated autocorrelation time for 1 parameter(s). Use this estimate with caution and run a longer chain!\n",
      "N/50 = 20;\n",
      "tau: [25.94285749]\n",
      "final params:\n",
      "[[Fit Statistics]]\n",
      "    # fitting method   = emcee\n",
      "    # function evals   = 50000\n",
      "    # data points      = 629\n",
      "    # variables        = 1\n",
      "    chi-square         = 1382.4663\n",
      "    reduced chi-square = 2.20137947\n",
      "    Akaike info crit   = 497.333164\n",
      "    Bayesian info crit = 501.777295\n",
      "[[Variables]]\n",
      "    teff:  34208 (fixed)\n",
      "    logg:  9.322309 (fixed)\n",
      "    RV:    33.0257520 +/- 22.0344892 (66.72%) (init = 61.04245)\n",
      "    res:   1 (fixed)\n",
      "rv init: 61.04244929963751\n",
      "25.0\n",
      "starting...\n"
     ]
    },
    {
     "name": "stderr",
     "output_type": "stream",
     "text": [
      " 10%|███████▏                                                            | 21/200 [5:13:37<10:59:38, 221.11s/it]"
     ]
    },
    {
     "name": "stdout",
     "output_type": "stream",
     "text": [
      "The chain is shorter than 50 times the integrated autocorrelation time for 1 parameter(s). Use this estimate with caution and run a longer chain!\n",
      "N/50 = 20;\n",
      "tau: [23.71353298]\n",
      "final params:\n",
      "[[Fit Statistics]]\n",
      "    # fitting method   = emcee\n",
      "    # function evals   = 50000\n",
      "    # data points      = 629\n",
      "    # variables        = 1\n",
      "    chi-square         = 848.18384\n",
      "    reduced chi-square = 1.35061121\n",
      "    Akaike info crit   = 190.049706\n",
      "    Bayesian info crit = 194.493837\n",
      "[[Variables]]\n",
      "    teff:  23573 (fixed)\n",
      "    logg:  9.053324 (fixed)\n",
      "    RV:    34.2401378 +/- 16.1116888 (47.05%) (init = 44.29063)\n",
      "    res:   1 (fixed)\n",
      "rv init: 44.290628899194694\n",
      "32.0\n",
      "starting...\n"
     ]
    },
    {
     "name": "stderr",
     "output_type": "stream",
     "text": [
      " 11%|███████▍                                                            | 22/200 [5:16:52<10:32:35, 213.24s/it]"
     ]
    },
    {
     "name": "stdout",
     "output_type": "stream",
     "text": [
      "The chain is shorter than 50 times the integrated autocorrelation time for 1 parameter(s). Use this estimate with caution and run a longer chain!\n",
      "N/50 = 20;\n",
      "tau: [25.63035916]\n",
      "final params:\n",
      "[[Fit Statistics]]\n",
      "    # fitting method   = emcee\n",
      "    # function evals   = 50000\n",
      "    # data points      = 629\n",
      "    # variables        = 1\n",
      "    chi-square         = 925.7916\n",
      "    reduced chi-square = 1.47419049\n",
      "    Akaike info crit   = 245.119776\n",
      "    Bayesian info crit = 249.563907\n",
      "[[Variables]]\n",
      "    teff:  24454 (fixed)\n",
      "    logg:  9.161003 (fixed)\n",
      "    RV:    50.1267707 +/- 14.6023402 (29.13%) (init = 73.68843)\n",
      "    res:   1 (fixed)\n",
      "rv init: 73.6884348782678\n",
      "66.0\n",
      "starting...\n"
     ]
    },
    {
     "name": "stderr",
     "output_type": "stream",
     "text": [
      " 12%|███████▊                                                            | 23/200 [5:20:06<10:12:47, 207.73s/it]"
     ]
    },
    {
     "name": "stdout",
     "output_type": "stream",
     "text": [
      "The chain is shorter than 50 times the integrated autocorrelation time for 1 parameter(s). Use this estimate with caution and run a longer chain!\n",
      "N/50 = 20;\n",
      "tau: [22.28709552]\n",
      "final params:\n",
      "[[Fit Statistics]]\n",
      "    # fitting method   = emcee\n",
      "    # function evals   = 50000\n",
      "    # data points      = 629\n",
      "    # variables        = 1\n",
      "    chi-square         = 988.9789\n",
      "    reduced chi-square = 1.57480714\n",
      "    Akaike info crit   = 286.648743\n",
      "    Bayesian info crit = 291.092874\n",
      "[[Variables]]\n",
      "    teff:  28834 (fixed)\n",
      "    logg:  9.071496 (fixed)\n",
      "    RV:    18.1550402 +/- 21.8261575 (120.22%) (init = 27.20187)\n",
      "    res:   1 (fixed)\n",
      "rv init: 27.201873337050966\n",
      "27.0\n",
      "starting...\n"
     ]
    },
    {
     "name": "stderr",
     "output_type": "stream",
     "text": [
      " 12%|████████▎                                                            | 24/200 [5:23:04<9:42:22, 198.54s/it]"
     ]
    },
    {
     "name": "stdout",
     "output_type": "stream",
     "text": [
      "The chain is shorter than 50 times the integrated autocorrelation time for 1 parameter(s). Use this estimate with caution and run a longer chain!\n",
      "N/50 = 20;\n",
      "tau: [30.49944157]\n",
      "final params:\n",
      "[[Fit Statistics]]\n",
      "    # fitting method   = emcee\n",
      "    # function evals   = 50000\n",
      "    # data points      = 629\n",
      "    # variables        = 1\n",
      "    chi-square         = 1208.8008\n",
      "    reduced chi-square = 1.92484201\n",
      "    Akaike info crit   = 412.896012\n",
      "    Bayesian info crit = 417.340143\n",
      "[[Variables]]\n",
      "    teff:  39999 (fixed)\n",
      "    logg:  9.113492 (fixed)\n",
      "    RV:    61.1371923 +/- 42.0268035 (68.74%) (init = 276.3064)\n",
      "    res:   1 (fixed)\n",
      "rv init: 276.30639595528555\n",
      "11.0\n",
      "starting...\n"
     ]
    },
    {
     "name": "stderr",
     "output_type": "stream",
     "text": [
      " 12%|████████▋                                                            | 25/200 [5:26:31<9:47:06, 201.30s/it]"
     ]
    },
    {
     "name": "stdout",
     "output_type": "stream",
     "text": [
      "The chain is shorter than 50 times the integrated autocorrelation time for 1 parameter(s). Use this estimate with caution and run a longer chain!\n",
      "N/50 = 20;\n",
      "tau: [47.13007942]\n",
      "final params:\n",
      "[[Fit Statistics]]\n",
      "    # fitting method   = emcee\n",
      "    # function evals   = 50000\n",
      "    # data points      = 629\n",
      "    # variables        = 1\n",
      "    chi-square         = 990.7581\n",
      "    reduced chi-square = 1.57764031\n",
      "    Akaike info crit   = 287.779337\n",
      "    Bayesian info crit = 292.223468\n",
      "[[Variables]]\n",
      "    teff:  39999 (fixed)\n",
      "    logg:  5.845586 (fixed)\n",
      "    RV:    113.400894 +/- 11.0905537 (9.78%) (init = 654.0939)\n",
      "    res:   1 (fixed)\n",
      "rv init: 654.0939325537933\n",
      "27.0\n",
      "starting...\n"
     ]
    },
    {
     "name": "stderr",
     "output_type": "stream",
     "text": [
      " 13%|████████▉                                                            | 26/200 [5:29:56<9:46:26, 202.22s/it]"
     ]
    },
    {
     "name": "stdout",
     "output_type": "stream",
     "text": [
      "The chain is shorter than 50 times the integrated autocorrelation time for 1 parameter(s). Use this estimate with caution and run a longer chain!\n",
      "N/50 = 20;\n",
      "tau: [21.69622]\n",
      "final params:\n",
      "[[Fit Statistics]]\n",
      "    # fitting method   = emcee\n",
      "    # function evals   = 50000\n",
      "    # data points      = 629\n",
      "    # variables        = 1\n",
      "    chi-square         = 1166.1737\n",
      "    reduced chi-square = 1.85696450\n",
      "    Akaike info crit   = 390.314455\n",
      "    Bayesian info crit = 394.758587\n",
      "[[Variables]]\n",
      "    teff:  17114 (fixed)\n",
      "    logg:  8.515867 (fixed)\n",
      "    RV:    50.4997300 +/- 4.22362202 (8.36%) (init = 51.52895)\n",
      "    res:   1 (fixed)\n",
      "rv init: 51.52895055813258\n",
      "57.0\n",
      "starting...\n"
     ]
    },
    {
     "name": "stderr",
     "output_type": "stream",
     "text": [
      " 14%|█████████▎                                                           | 27/200 [5:33:12<9:37:55, 200.44s/it]"
     ]
    },
    {
     "name": "stdout",
     "output_type": "stream",
     "text": [
      "The chain is shorter than 50 times the integrated autocorrelation time for 1 parameter(s). Use this estimate with caution and run a longer chain!\n",
      "N/50 = 20;\n",
      "tau: [23.20798025]\n",
      "final params:\n",
      "[[Fit Statistics]]\n",
      "    # fitting method   = emcee\n",
      "    # function evals   = 50000\n",
      "    # data points      = 629\n",
      "    # variables        = 1\n",
      "    chi-square         = 1039.4861\n",
      "    reduced chi-square = 1.65523262\n",
      "    Akaike info crit   = 317.978441\n",
      "    Bayesian info crit = 322.422573\n",
      "[[Variables]]\n",
      "    teff:  23246 (fixed)\n",
      "    logg:  9.401683 (fixed)\n",
      "    RV:    45.3650094 +/- 15.1211942 (33.33%) (init = 64.91747)\n",
      "    res:   1 (fixed)\n",
      "rv init: 64.91746814654512\n",
      "56.0\n",
      "starting...\n"
     ]
    },
    {
     "name": "stderr",
     "output_type": "stream",
     "text": [
      " 14%|█████████▍                                                         | 28/200 [6:49:26<72:15:37, 1512.43s/it]"
     ]
    },
    {
     "name": "stdout",
     "output_type": "stream",
     "text": [
      "The chain is shorter than 50 times the integrated autocorrelation time for 1 parameter(s). Use this estimate with caution and run a longer chain!\n",
      "N/50 = 20;\n",
      "tau: [20.51624778]\n",
      "final params:\n",
      "[[Fit Statistics]]\n",
      "    # fitting method   = emcee\n",
      "    # function evals   = 50000\n",
      "    # data points      = 629\n",
      "    # variables        = 1\n",
      "    chi-square         = 1094.7072\n",
      "    reduced chi-square = 1.74316426\n",
      "    Akaike info crit   = 350.535762\n",
      "    Bayesian info crit = 354.979894\n",
      "[[Variables]]\n",
      "    teff:  20596 (fixed)\n",
      "    logg:  9.176421 (fixed)\n",
      "    RV:    49.8764431 +/- 8.46158332 (16.97%) (init = 54.74772)\n",
      "    res:   1 (fixed)\n",
      "rv init: 54.7477244520337\n",
      "46.0\n",
      "starting...\n"
     ]
    },
    {
     "name": "stderr",
     "output_type": "stream",
     "text": [
      " 14%|█████████▋                                                         | 29/200 [6:52:37<53:01:15, 1116.23s/it]"
     ]
    },
    {
     "name": "stdout",
     "output_type": "stream",
     "text": [
      "The chain is shorter than 50 times the integrated autocorrelation time for 1 parameter(s). Use this estimate with caution and run a longer chain!\n",
      "N/50 = 20;\n",
      "tau: [50.08625154]\n",
      "final params:\n",
      "[[Fit Statistics]]\n",
      "    # fitting method   = emcee\n",
      "    # function evals   = 50000\n",
      "    # data points      = 629\n",
      "    # variables        = 1\n",
      "    chi-square         = 1275.8352\n",
      "    reduced chi-square = 2.03158472\n",
      "    Akaike info crit   = 446.844556\n",
      "    Bayesian info crit = 451.288687\n",
      "[[Variables]]\n",
      "    teff:  39999 (fixed)\n",
      "    logg:  8.94048 (fixed)\n",
      "    RV:   -39.0196365 +/- 44.2777445 (113.48%) (init = 2073.63)\n",
      "    res:   1 (fixed)\n",
      "rv init: 2073.6302524033213\n",
      "-11.0\n",
      "starting...\n"
     ]
    },
    {
     "name": "stderr",
     "output_type": "stream",
     "text": [
      " 15%|██████████▏                                                         | 30/200 [6:55:52<39:39:03, 839.67s/it]"
     ]
    },
    {
     "name": "stdout",
     "output_type": "stream",
     "text": [
      "The chain is shorter than 50 times the integrated autocorrelation time for 1 parameter(s). Use this estimate with caution and run a longer chain!\n",
      "N/50 = 20;\n",
      "tau: [20.91197139]\n",
      "final params:\n",
      "[[Fit Statistics]]\n",
      "    # fitting method   = emcee\n",
      "    # function evals   = 50000\n",
      "    # data points      = 629\n",
      "    # variables        = 1\n",
      "    chi-square         = 673.0823\n",
      "    reduced chi-square = 1.07178706\n",
      "    Akaike info crit   = 44.6061435\n",
      "    Bayesian info crit = 49.0502748\n",
      "[[Variables]]\n",
      "    teff:  18601 (fixed)\n",
      "    logg:  8.739281 (fixed)\n",
      "    RV:    42.8972976 +/- 17.1530747 (39.99%) (init = 50.05206)\n",
      "    res:   1 (fixed)\n",
      "rv init: 50.05206411981351\n",
      "35.0\n",
      "starting...\n"
     ]
    },
    {
     "name": "stderr",
     "output_type": "stream",
     "text": [
      " 16%|██████████▌                                                         | 31/200 [6:59:04<30:17:43, 645.35s/it]"
     ]
    },
    {
     "name": "stdout",
     "output_type": "stream",
     "text": [
      "The chain is shorter than 50 times the integrated autocorrelation time for 1 parameter(s). Use this estimate with caution and run a longer chain!\n",
      "N/50 = 20;\n",
      "tau: [23.53312791]\n",
      "final params:\n",
      "[[Fit Statistics]]\n",
      "    # fitting method   = emcee\n",
      "    # function evals   = 50000\n",
      "    # data points      = 629\n",
      "    # variables        = 1\n",
      "    chi-square         = 990.9719\n",
      "    reduced chi-square = 1.57798077\n",
      "    Akaike info crit   = 287.915061\n",
      "    Bayesian info crit = 292.359192\n",
      "[[Variables]]\n",
      "    teff:  24437 (fixed)\n",
      "    logg:  9.111616 (fixed)\n",
      "    RV:    49.0263340 +/- 15.6293574 (31.88%) (init = 80.06086)\n",
      "    res:   1 (fixed)\n",
      "rv init: 80.06086184662782\n",
      "54.0\n",
      "starting...\n"
     ]
    },
    {
     "name": "stderr",
     "output_type": "stream",
     "text": [
      " 16%|██████████▉                                                         | 32/200 [7:02:25<23:53:39, 512.02s/it]"
     ]
    },
    {
     "name": "stdout",
     "output_type": "stream",
     "text": [
      "The chain is shorter than 50 times the integrated autocorrelation time for 1 parameter(s). Use this estimate with caution and run a longer chain!\n",
      "N/50 = 20;\n",
      "tau: [20.36847123]\n",
      "final params:\n",
      "[[Fit Statistics]]\n",
      "    # fitting method   = emcee\n",
      "    # function evals   = 50000\n",
      "    # data points      = 629\n",
      "    # variables        = 1\n",
      "    chi-square         = 1788.5261\n",
      "    reduced chi-square = 2.84797153\n",
      "    Akaike info crit   = 659.315006\n",
      "    Bayesian info crit = 663.759137\n",
      "[[Variables]]\n",
      "    teff:  19048 (fixed)\n",
      "    logg:  8.944249 (fixed)\n",
      "    RV:    18.8851818 +/- 6.78433784 (35.92%) (init = 21.84628)\n",
      "    res:   1 (fixed)\n",
      "rv init: 21.846279797846133\n",
      "32.0\n",
      "starting...\n"
     ]
    },
    {
     "name": "stderr",
     "output_type": "stream",
     "text": [
      " 16%|███████████▏                                                        | 33/200 [7:05:22<19:05:48, 411.66s/it]"
     ]
    },
    {
     "name": "stdout",
     "output_type": "stream",
     "text": [
      "The chain is shorter than 50 times the integrated autocorrelation time for 1 parameter(s). Use this estimate with caution and run a longer chain!\n",
      "N/50 = 20;\n",
      "tau: [23.94714858]\n",
      "final params:\n",
      "[[Fit Statistics]]\n",
      "    # fitting method   = emcee\n",
      "    # function evals   = 50000\n",
      "    # data points      = 629\n",
      "    # variables        = 1\n",
      "    chi-square         = 730.8978\n",
      "    reduced chi-square = 1.16385004\n",
      "    Akaike info crit   = 96.4395834\n",
      "    Bayesian info crit = 100.883715\n",
      "[[Variables]]\n",
      "    teff:  16384 (fixed)\n",
      "    logg:  8.438009 (fixed)\n",
      "    RV:    9.54838352 +/- 5.80018183 (60.75%) (init = 17.51215)\n",
      "    res:   1 (fixed)\n",
      "rv init: 17.512146824572707\n",
      "20.0\n",
      "starting...\n"
     ]
    },
    {
     "name": "stderr",
     "output_type": "stream",
     "text": [
      " 17%|███████████▌                                                        | 34/200 [7:08:19<15:43:59, 341.20s/it]"
     ]
    },
    {
     "name": "stdout",
     "output_type": "stream",
     "text": [
      "The chain is shorter than 50 times the integrated autocorrelation time for 1 parameter(s). Use this estimate with caution and run a longer chain!\n",
      "N/50 = 20;\n",
      "tau: [24.38314715]\n",
      "final params:\n",
      "[[Fit Statistics]]\n",
      "    # fitting method   = emcee\n",
      "    # function evals   = 50000\n",
      "    # data points      = 629\n",
      "    # variables        = 1\n",
      "    chi-square         = 565.89404\n",
      "    reduced chi-square = 0.90110516\n",
      "    Akaike info crit   = -64.5006471\n",
      "    Bayesian info crit = -60.0565159\n",
      "[[Variables]]\n",
      "    teff:  30923 (fixed)\n",
      "    logg:  7.748827 (fixed)\n",
      "    RV:    59.3621752 +/- 35.7527557 (60.23%) (init = 112.3148)\n",
      "    res:   1 (fixed)\n",
      "rv init: 112.31479893894218\n",
      "94.0\n",
      "starting...\n"
     ]
    },
    {
     "name": "stderr",
     "output_type": "stream",
     "text": [
      " 18%|███████████▉                                                        | 35/200 [7:11:21<13:27:21, 293.59s/it]"
     ]
    },
    {
     "name": "stdout",
     "output_type": "stream",
     "text": [
      "The chain is shorter than 50 times the integrated autocorrelation time for 1 parameter(s). Use this estimate with caution and run a longer chain!\n",
      "N/50 = 20;\n",
      "tau: [24.18217216]\n",
      "final params:\n",
      "[[Fit Statistics]]\n",
      "    # fitting method   = emcee\n",
      "    # function evals   = 50000\n",
      "    # data points      = 629\n",
      "    # variables        = 1\n",
      "    chi-square         = 1047.0347\n",
      "    reduced chi-square = 1.66725266\n",
      "    Akaike info crit   = 322.529635\n",
      "    Bayesian info crit = 326.973766\n",
      "[[Variables]]\n",
      "    teff:  17917 (fixed)\n",
      "    logg:  8.828778 (fixed)\n",
      "    RV:   -3.19613127 +/- 8.39018595 (262.51%) (init = 4.700913)\n",
      "    res:   1 (fixed)\n",
      "rv init: 4.7009133136936025\n",
      "23.0\n",
      "starting...\n"
     ]
    },
    {
     "name": "stderr",
     "output_type": "stream",
     "text": [
      " 18%|████████████▏                                                       | 36/200 [7:14:24<11:51:46, 260.40s/it]"
     ]
    },
    {
     "name": "stdout",
     "output_type": "stream",
     "text": [
      "The chain is shorter than 50 times the integrated autocorrelation time for 1 parameter(s). Use this estimate with caution and run a longer chain!\n",
      "N/50 = 20;\n",
      "tau: [46.70322625]\n",
      "final params:\n",
      "[[Fit Statistics]]\n",
      "    # fitting method   = emcee\n",
      "    # function evals   = 50000\n",
      "    # data points      = 629\n",
      "    # variables        = 1\n",
      "    chi-square         = 1398.4518\n",
      "    reduced chi-square = 2.22683405\n",
      "    Akaike info crit   = 504.564570\n",
      "    Bayesian info crit = 509.008701\n",
      "[[Variables]]\n",
      "    teff:  39999 (fixed)\n",
      "    logg:  9.196192 (fixed)\n",
      "    RV:    71.6856502 +/- 25.4396378 (35.49%) (init = 910.5772)\n",
      "    res:   1 (fixed)\n",
      "rv init: 910.5772168169786\n",
      "26.0\n",
      "starting...\n"
     ]
    },
    {
     "name": "stderr",
     "output_type": "stream",
     "text": [
      " 18%|████████████▌                                                       | 37/200 [7:17:21<10:39:13, 235.30s/it]"
     ]
    },
    {
     "name": "stdout",
     "output_type": "stream",
     "text": [
      "The chain is shorter than 50 times the integrated autocorrelation time for 1 parameter(s). Use this estimate with caution and run a longer chain!\n",
      "N/50 = 20;\n",
      "tau: [32.28698096]\n",
      "final params:\n",
      "[[Fit Statistics]]\n",
      "    # fitting method   = emcee\n",
      "    # function evals   = 50000\n",
      "    # data points      = 629\n",
      "    # variables        = 1\n",
      "    chi-square         = 437.99054\n",
      "    reduced chi-square = 0.69743716\n",
      "    Akaike info crit   = -225.656452\n",
      "    Bayesian info crit = -221.212321\n",
      "[[Variables]]\n",
      "    teff:  27762 (fixed)\n",
      "    logg:  9.49 (fixed)\n",
      "    RV:    253.735363 +/- 13.4272105 (5.29%) (init = 331.0241)\n",
      "    res:   1 (fixed)\n",
      "rv init: 331.02405489425297\n",
      "257.0\n",
      "starting...\n"
     ]
    },
    {
     "name": "stderr",
     "output_type": "stream",
     "text": [
      " 19%|█████████████                                                        | 38/200 [7:20:22<9:51:02, 218.91s/it]"
     ]
    },
    {
     "name": "stdout",
     "output_type": "stream",
     "text": [
      "The chain is shorter than 50 times the integrated autocorrelation time for 1 parameter(s). Use this estimate with caution and run a longer chain!\n",
      "N/50 = 20;\n",
      "tau: [21.20852785]\n",
      "final params:\n",
      "[[Fit Statistics]]\n",
      "    # fitting method   = emcee\n",
      "    # function evals   = 50000\n",
      "    # data points      = 629\n",
      "    # variables        = 1\n",
      "    chi-square         = 1232.0618\n",
      "    reduced chi-square = 1.96188180\n",
      "    Akaike info crit   = 424.884891\n",
      "    Bayesian info crit = 429.329022\n",
      "[[Variables]]\n",
      "    teff:  21806 (fixed)\n",
      "    logg:  9.250114 (fixed)\n",
      "    RV:    49.0530516 +/- 11.5388905 (23.52%) (init = 61.98391)\n",
      "    res:   1 (fixed)\n",
      "rv init: 61.98391022818995\n",
      "55.0\n",
      "starting...\n"
     ]
    },
    {
     "name": "stderr",
     "output_type": "stream",
     "text": [
      " 20%|█████████████▍                                                       | 39/200 [7:23:23<9:17:25, 207.74s/it]"
     ]
    },
    {
     "name": "stdout",
     "output_type": "stream",
     "text": [
      "The chain is shorter than 50 times the integrated autocorrelation time for 1 parameter(s). Use this estimate with caution and run a longer chain!\n",
      "N/50 = 20;\n",
      "tau: [20.686844]\n",
      "final params:\n",
      "[[Fit Statistics]]\n",
      "    # fitting method   = emcee\n",
      "    # function evals   = 50000\n",
      "    # data points      = 629\n",
      "    # variables        = 1\n",
      "    chi-square         = 943.82\n",
      "    reduced chi-square = 1.50289810\n",
      "    Akaike info crit   = 257.250855\n",
      "    Bayesian info crit = 261.694986\n",
      "[[Variables]]\n",
      "    teff:  19307 (fixed)\n",
      "    logg:  8.999873 (fixed)\n",
      "    RV:    16.8012310 +/- 12.2389367 (72.85%) (init = 25.31575)\n",
      "    res:   1 (fixed)\n",
      "rv init: 25.31575072616381\n",
      "27.0\n",
      "starting...\n"
     ]
    },
    {
     "name": "stderr",
     "output_type": "stream",
     "text": [
      " 20%|█████████████▊                                                       | 40/200 [7:26:25<8:52:53, 199.84s/it]"
     ]
    },
    {
     "name": "stdout",
     "output_type": "stream",
     "text": [
      "The chain is shorter than 50 times the integrated autocorrelation time for 1 parameter(s). Use this estimate with caution and run a longer chain!\n",
      "N/50 = 20;\n",
      "tau: [20.11909788]\n",
      "final params:\n",
      "[[Fit Statistics]]\n",
      "    # fitting method   = emcee\n",
      "    # function evals   = 50000\n",
      "    # data points      = 629\n",
      "    # variables        = 1\n",
      "    chi-square         = 791.0179\n",
      "    reduced chi-square = 1.25958262\n",
      "    Akaike info crit   = 146.160082\n",
      "    Bayesian info crit = 150.604213\n",
      "[[Variables]]\n",
      "    teff:  18733 (fixed)\n",
      "    logg:  8.58542 (fixed)\n",
      "    RV:   -4.82845350 +/- 12.3224747 (255.21%) (init = -9.684539)\n",
      "    res:   1 (fixed)\n",
      "rv init: -9.684538940636287\n",
      "-4.0\n",
      "starting...\n"
     ]
    },
    {
     "name": "stderr",
     "output_type": "stream",
     "text": [
      " 20%|██████████████▏                                                      | 41/200 [7:29:31<8:38:26, 195.64s/it]"
     ]
    },
    {
     "name": "stdout",
     "output_type": "stream",
     "text": [
      "The chain is shorter than 50 times the integrated autocorrelation time for 1 parameter(s). Use this estimate with caution and run a longer chain!\n",
      "N/50 = 20;\n",
      "tau: [20.4919537]\n",
      "final params:\n",
      "[[Fit Statistics]]\n",
      "    # fitting method   = emcee\n",
      "    # function evals   = 50000\n",
      "    # data points      = 629\n",
      "    # variables        = 1\n",
      "    chi-square         = 744.6665\n",
      "    reduced chi-square = 1.18577469\n",
      "    Akaike info crit   = 108.178481\n",
      "    Bayesian info crit = 112.622612\n",
      "[[Variables]]\n",
      "    teff:  15252 (fixed)\n",
      "    logg:  8.104823 (fixed)\n",
      "    RV:   -4.05033900 +/- 3.42067950 (84.45%) (init = -5.551169)\n",
      "    res:   1 (fixed)\n",
      "rv init: -5.551168721220563\n",
      "11.0\n",
      "starting...\n"
     ]
    },
    {
     "name": "stderr",
     "output_type": "stream",
     "text": [
      " 21%|██████████████▍                                                      | 42/200 [7:32:32<8:24:10, 191.46s/it]"
     ]
    },
    {
     "name": "stdout",
     "output_type": "stream",
     "text": [
      "The chain is shorter than 50 times the integrated autocorrelation time for 1 parameter(s). Use this estimate with caution and run a longer chain!\n",
      "N/50 = 20;\n",
      "tau: [22.79091549]\n",
      "final params:\n",
      "[[Fit Statistics]]\n",
      "    # fitting method   = emcee\n",
      "    # function evals   = 50000\n",
      "    # data points      = 629\n",
      "    # variables        = 1\n",
      "    chi-square         = 611.0235\n",
      "    reduced chi-square = 0.97296735\n",
      "    Akaike info crit   = -16.2383828\n",
      "    Bayesian info crit = -11.7942516\n",
      "[[Variables]]\n",
      "    teff:  15815 (fixed)\n",
      "    logg:  8.174235 (fixed)\n",
      "    RV:    30.0918819 +/- 10.8210342 (35.96%) (init = 39.12858)\n",
      "    res:   1 (fixed)\n",
      "rv init: 39.128576419050994\n",
      "47.0\n",
      "starting...\n"
     ]
    },
    {
     "name": "stderr",
     "output_type": "stream",
     "text": [
      " 22%|██████████████▊                                                      | 43/200 [7:35:59<8:33:07, 196.10s/it]"
     ]
    },
    {
     "name": "stdout",
     "output_type": "stream",
     "text": [
      "The chain is shorter than 50 times the integrated autocorrelation time for 1 parameter(s). Use this estimate with caution and run a longer chain!\n",
      "N/50 = 20;\n",
      "tau: [22.37808121]\n",
      "final params:\n",
      "[[Fit Statistics]]\n",
      "    # fitting method   = emcee\n",
      "    # function evals   = 50000\n",
      "    # data points      = 629\n",
      "    # variables        = 1\n",
      "    chi-square         = 766.7943\n",
      "    reduced chi-square = 1.22101005\n",
      "    Akaike info crit   = 126.596934\n",
      "    Bayesian info crit = 131.041066\n",
      "[[Variables]]\n",
      "    teff:  20592 (fixed)\n",
      "    logg:  8.883507 (fixed)\n",
      "    RV:   -30.2528248 +/- 13.6342726 (45.07%) (init = -11.5058)\n",
      "    res:   1 (fixed)\n",
      "rv init: -11.505797735626524\n",
      "-14.0\n",
      "starting...\n"
     ]
    },
    {
     "name": "stderr",
     "output_type": "stream",
     "text": [
      " 22%|███████████████▏                                                     | 44/200 [7:39:03<8:20:02, 192.32s/it]"
     ]
    },
    {
     "name": "stdout",
     "output_type": "stream",
     "text": [
      "The chain is shorter than 50 times the integrated autocorrelation time for 1 parameter(s). Use this estimate with caution and run a longer chain!\n",
      "N/50 = 20;\n",
      "tau: [21.46897005]\n",
      "final params:\n",
      "[[Fit Statistics]]\n",
      "    # fitting method   = emcee\n",
      "    # function evals   = 50000\n",
      "    # data points      = 629\n",
      "    # variables        = 1\n",
      "    chi-square         = 785.5691\n",
      "    reduced chi-square = 1.25090620\n",
      "    Akaike info crit   = 141.812331\n",
      "    Bayesian info crit = 146.256462\n",
      "[[Variables]]\n",
      "    teff:  23031 (fixed)\n",
      "    logg:  9.478789 (fixed)\n",
      "    RV:    106.684325 +/- 28.2927495 (26.52%) (init = 100.9777)\n",
      "    res:   1 (fixed)\n",
      "rv init: 100.97767738781634\n",
      "113.0\n",
      "starting...\n"
     ]
    },
    {
     "name": "stderr",
     "output_type": "stream",
     "text": [
      " 22%|███████████████▌                                                     | 45/200 [7:42:06<8:09:51, 189.62s/it]"
     ]
    },
    {
     "name": "stdout",
     "output_type": "stream",
     "text": [
      "The chain is shorter than 50 times the integrated autocorrelation time for 1 parameter(s). Use this estimate with caution and run a longer chain!\n",
      "N/50 = 20;\n",
      "tau: [21.95382472]\n",
      "final params:\n",
      "[[Fit Statistics]]\n",
      "    # fitting method   = emcee\n",
      "    # function evals   = 50000\n",
      "    # data points      = 629\n",
      "    # variables        = 1\n",
      "    chi-square         = 522.2772\n",
      "    reduced chi-square = 0.83165163\n",
      "    Akaike info crit   = -114.951690\n",
      "    Bayesian info crit = -110.507558\n",
      "[[Variables]]\n",
      "    teff:  11341 (fixed)\n",
      "    logg:  8.411453 (fixed)\n",
      "    RV:    28.0045713 +/- 11.9455323 (42.66%) (init = 28.01096)\n",
      "    res:   1 (fixed)\n",
      "rv init: 28.01096076507361\n",
      "56.0\n",
      "starting...\n"
     ]
    },
    {
     "name": "stderr",
     "output_type": "stream",
     "text": [
      " 23%|███████████████▊                                                     | 46/200 [7:45:27<8:15:17, 192.97s/it]"
     ]
    },
    {
     "name": "stdout",
     "output_type": "stream",
     "text": [
      "The chain is shorter than 50 times the integrated autocorrelation time for 1 parameter(s). Use this estimate with caution and run a longer chain!\n",
      "N/50 = 20;\n",
      "tau: [21.8605363]\n",
      "final params:\n",
      "[[Fit Statistics]]\n",
      "    # fitting method   = emcee\n",
      "    # function evals   = 50000\n",
      "    # data points      = 629\n",
      "    # variables        = 1\n",
      "    chi-square         = 901.8999\n",
      "    reduced chi-square = 1.43614634\n",
      "    Akaike info crit   = 228.674167\n",
      "    Bayesian info crit = 233.118298\n",
      "[[Variables]]\n",
      "    teff:  24019 (fixed)\n",
      "    logg:  9.49 (fixed)\n",
      "    RV:   -14.3616509 +/- 16.2357663 (113.05%) (init = -14.0805)\n",
      "    res:   1 (fixed)\n",
      "rv init: -14.080503672412016\n",
      "-3.0\n",
      "starting...\n"
     ]
    },
    {
     "name": "stderr",
     "output_type": "stream",
     "text": [
      " 24%|████████████████▏                                                    | 47/200 [7:48:41<8:12:38, 193.19s/it]"
     ]
    },
    {
     "name": "stdout",
     "output_type": "stream",
     "text": [
      "The chain is shorter than 50 times the integrated autocorrelation time for 1 parameter(s). Use this estimate with caution and run a longer chain!\n",
      "N/50 = 20;\n",
      "tau: [45.13534194]\n",
      "final params:\n",
      "[[Fit Statistics]]\n",
      "    # fitting method   = emcee\n",
      "    # function evals   = 50000\n",
      "    # data points      = 629\n",
      "    # variables        = 1\n",
      "    chi-square         = 651.18225\n",
      "    reduced chi-square = 1.03691441\n",
      "    Akaike info crit   = 23.8000718\n",
      "    Bayesian info crit = 28.2442031\n",
      "[[Variables]]\n",
      "    teff:  5635 (fixed)\n",
      "    logg:  9.489998 (fixed)\n",
      "    RV:    41.5152745 +/- 165.563703 (398.80%) (init = 2282.177)\n",
      "    res:   1 (fixed)\n",
      "rv init: 2282.1767047344506\n",
      "-60.0\n",
      "starting...\n"
     ]
    },
    {
     "name": "stderr",
     "output_type": "stream",
     "text": [
      " 24%|████████████████▌                                                    | 48/200 [7:52:00<8:14:00, 195.00s/it]"
     ]
    },
    {
     "name": "stdout",
     "output_type": "stream",
     "text": [
      "The chain is shorter than 50 times the integrated autocorrelation time for 1 parameter(s). Use this estimate with caution and run a longer chain!\n",
      "N/50 = 20;\n",
      "tau: [22.11944603]\n",
      "final params:\n",
      "[[Fit Statistics]]\n",
      "    # fitting method   = emcee\n",
      "    # function evals   = 50000\n",
      "    # data points      = 629\n",
      "    # variables        = 1\n",
      "    chi-square         = 2024.0505\n",
      "    reduced chi-square = 3.22301041\n",
      "    Akaike info crit   = 737.127863\n",
      "    Bayesian info crit = 741.571994\n",
      "[[Variables]]\n",
      "    teff:  26866 (fixed)\n",
      "    logg:  9.489996 (fixed)\n",
      "    RV:    39.6570621 +/- 10.5341009 (26.56%) (init = 61.17322)\n",
      "    res:   1 (fixed)\n",
      "rv init: 61.173221095792115\n",
      "43.0\n",
      "starting...\n"
     ]
    },
    {
     "name": "stderr",
     "output_type": "stream",
     "text": [
      " 24%|████████████████▉                                                    | 49/200 [7:55:10<8:07:01, 193.52s/it]"
     ]
    },
    {
     "name": "stdout",
     "output_type": "stream",
     "text": [
      "The chain is shorter than 50 times the integrated autocorrelation time for 1 parameter(s). Use this estimate with caution and run a longer chain!\n",
      "N/50 = 20;\n",
      "tau: [24.35866331]\n",
      "final params:\n",
      "[[Fit Statistics]]\n",
      "    # fitting method   = emcee\n",
      "    # function evals   = 50000\n",
      "    # data points      = 629\n",
      "    # variables        = 1\n",
      "    chi-square         = 1028.0223\n",
      "    reduced chi-square = 1.63697825\n",
      "    Akaike info crit   = 311.003118\n",
      "    Bayesian info crit = 315.447250\n",
      "[[Variables]]\n",
      "    teff:  27173 (fixed)\n",
      "    logg:  9.204556 (fixed)\n",
      "    RV:    34.7127332 +/- 13.7071285 (39.49%) (init = 41.86635)\n",
      "    res:   1 (fixed)\n",
      "rv init: 41.86634659609155\n",
      "31.0\n",
      "starting...\n"
     ]
    },
    {
     "name": "stderr",
     "output_type": "stream",
     "text": [
      " 25%|█████████████████▎                                                   | 50/200 [7:58:15<7:57:09, 190.87s/it]"
     ]
    },
    {
     "name": "stdout",
     "output_type": "stream",
     "text": [
      "The chain is shorter than 50 times the integrated autocorrelation time for 1 parameter(s). Use this estimate with caution and run a longer chain!\n",
      "N/50 = 20;\n",
      "tau: [20.72317197]\n",
      "final params:\n",
      "[[Fit Statistics]]\n",
      "    # fitting method   = emcee\n",
      "    # function evals   = 50000\n",
      "    # data points      = 629\n",
      "    # variables        = 1\n",
      "    chi-square         = 876.17065\n",
      "    reduced chi-square = 1.39517620\n",
      "    Akaike info crit   = 210.469235\n",
      "    Bayesian info crit = 214.913366\n",
      "[[Variables]]\n",
      "    teff:  36516 (fixed)\n",
      "    logg:  9.48993 (fixed)\n",
      "    RV:   -2.36196938 +/- 39.4235414 (1669.10%) (init = 42.5733)\n",
      "    res:   1 (fixed)\n",
      "rv init: 42.573300504588005\n",
      "-7.0\n",
      "starting...\n"
     ]
    },
    {
     "name": "stderr",
     "output_type": "stream",
     "text": [
      " 26%|█████████████████▌                                                   | 51/200 [8:01:19<7:49:25, 189.03s/it]"
     ]
    },
    {
     "name": "stdout",
     "output_type": "stream",
     "text": [
      "The chain is shorter than 50 times the integrated autocorrelation time for 1 parameter(s). Use this estimate with caution and run a longer chain!\n",
      "N/50 = 20;\n",
      "tau: [22.09812263]\n",
      "final params:\n",
      "[[Fit Statistics]]\n",
      "    # fitting method   = emcee\n",
      "    # function evals   = 50000\n",
      "    # data points      = 629\n",
      "    # variables        = 1\n",
      "    chi-square         = 859.13184\n",
      "    reduced chi-square = 1.36804432\n",
      "    Akaike info crit   = 198.116620\n",
      "    Bayesian info crit = 202.560752\n",
      "[[Variables]]\n",
      "    teff:  18454 (fixed)\n",
      "    logg:  8.825324 (fixed)\n",
      "    RV:    13.2139419 +/- 11.5952792 (87.75%) (init = 14.23925)\n",
      "    res:   1 (fixed)\n",
      "rv init: 14.239248799036913\n",
      "19.0\n",
      "starting...\n"
     ]
    },
    {
     "name": "stderr",
     "output_type": "stream",
     "text": [
      " 26%|█████████████████▉                                                   | 52/200 [8:04:29<7:46:40, 189.19s/it]"
     ]
    },
    {
     "name": "stdout",
     "output_type": "stream",
     "text": [
      "final params:\n",
      "[[Fit Statistics]]\n",
      "    # fitting method   = emcee\n",
      "    # function evals   = 50000\n",
      "    # data points      = 629\n",
      "    # variables        = 1\n",
      "    chi-square         = 756.4442\n",
      "    reduced chi-square = 1.20452900\n",
      "    Akaike info crit   = 118.048947\n",
      "    Bayesian info crit = 122.493079\n",
      "[[Variables]]\n",
      "    teff:  20203 (fixed)\n",
      "    logg:  8.999712 (fixed)\n",
      "    RV:   -5.16398219 +/- 20.8054629 (402.90%) (init = 8.758641)\n",
      "    res:   1 (fixed)\n",
      "rv init: 8.758641220646389\n",
      "13.0\n",
      "starting...\n"
     ]
    },
    {
     "name": "stderr",
     "output_type": "stream",
     "text": [
      " 26%|██████████████████▎                                                  | 53/200 [8:07:33<7:39:45, 187.66s/it]"
     ]
    },
    {
     "name": "stdout",
     "output_type": "stream",
     "text": [
      "The chain is shorter than 50 times the integrated autocorrelation time for 1 parameter(s). Use this estimate with caution and run a longer chain!\n",
      "N/50 = 20;\n",
      "tau: [27.2551909]\n",
      "final params:\n",
      "[[Fit Statistics]]\n",
      "    # fitting method   = emcee\n",
      "    # function evals   = 50000\n",
      "    # data points      = 629\n",
      "    # variables        = 1\n",
      "    chi-square         = 570.5114\n",
      "    reduced chi-square = 0.90845766\n",
      "    Akaike info crit   = -59.3891932\n",
      "    Bayesian info crit = -54.9450619\n",
      "[[Variables]]\n",
      "    teff:  14693 (fixed)\n",
      "    logg:  8.37425 (fixed)\n",
      "    RV:    56.3383887 +/- 9.29041764 (16.49%) (init = 39.61439)\n",
      "    res:   1 (fixed)\n",
      "rv init: 39.61439208241866\n",
      "83.0\n",
      "starting...\n"
     ]
    },
    {
     "name": "stderr",
     "output_type": "stream",
     "text": [
      " 27%|██████████████████▋                                                  | 54/200 [8:10:41<7:36:33, 187.63s/it]"
     ]
    },
    {
     "name": "stdout",
     "output_type": "stream",
     "text": [
      "The chain is shorter than 50 times the integrated autocorrelation time for 1 parameter(s). Use this estimate with caution and run a longer chain!\n",
      "N/50 = 20;\n",
      "tau: [21.04279924]\n",
      "final params:\n",
      "[[Fit Statistics]]\n",
      "    # fitting method   = emcee\n",
      "    # function evals   = 50000\n",
      "    # data points      = 629\n",
      "    # variables        = 1\n",
      "    chi-square         = 559.89343\n",
      "    reduced chi-square = 0.89155005\n",
      "    Akaike info crit   = -71.2060329\n",
      "    Bayesian info crit = -66.7619016\n",
      "[[Variables]]\n",
      "    teff:  14024 (fixed)\n",
      "    logg:  7.805421 (fixed)\n",
      "    RV:   -54.4919943 +/- 16.8549039 (30.93%) (init = -47.98471)\n",
      "    res:   1 (fixed)\n",
      "rv init: -47.98470955862571\n",
      "-32.0\n",
      "starting...\n"
     ]
    },
    {
     "name": "stderr",
     "output_type": "stream",
     "text": [
      " 28%|██████████████████▉                                                  | 55/200 [8:13:53<7:36:53, 189.06s/it]"
     ]
    },
    {
     "name": "stdout",
     "output_type": "stream",
     "text": [
      "The chain is shorter than 50 times the integrated autocorrelation time for 1 parameter(s). Use this estimate with caution and run a longer chain!\n",
      "N/50 = 20;\n",
      "tau: [25.39400504]\n",
      "final params:\n",
      "[[Fit Statistics]]\n",
      "    # fitting method   = emcee\n",
      "    # function evals   = 50000\n",
      "    # data points      = 629\n",
      "    # variables        = 1\n",
      "    chi-square         = 1044.2656\n",
      "    reduced chi-square = 1.66284335\n",
      "    Akaike info crit   = 320.863945\n",
      "    Bayesian info crit = 325.308076\n",
      "[[Variables]]\n",
      "    teff:  21205 (fixed)\n",
      "    logg:  9.145463 (fixed)\n",
      "    RV:    42.1946923 +/- 12.2003657 (28.91%) (init = 56.63672)\n",
      "    res:   1 (fixed)\n",
      "rv init: 56.63672354958936\n",
      "32.0\n",
      "starting...\n"
     ]
    },
    {
     "name": "stderr",
     "output_type": "stream",
     "text": [
      " 28%|███████████████████▎                                                 | 56/200 [8:17:00<7:32:16, 188.45s/it]"
     ]
    },
    {
     "name": "stdout",
     "output_type": "stream",
     "text": [
      "The chain is shorter than 50 times the integrated autocorrelation time for 1 parameter(s). Use this estimate with caution and run a longer chain!\n",
      "N/50 = 20;\n",
      "tau: [36.86644537]\n",
      "final params:\n",
      "[[Fit Statistics]]\n",
      "    # fitting method   = emcee\n",
      "    # function evals   = 50000\n",
      "    # data points      = 629\n",
      "    # variables        = 1\n",
      "    chi-square         = 434.21655\n",
      "    reduced chi-square = 0.69142763\n",
      "    Akaike info crit   = -231.099775\n",
      "    Bayesian info crit = -226.655644\n",
      "[[Variables]]\n",
      "    teff:  38660 (fixed)\n",
      "    logg:  7.645553 (fixed)\n",
      "    RV:    95.2675967 +/- 16.5149562 (17.34%) (init = 235.0326)\n",
      "    res:   1 (fixed)\n",
      "rv init: 235.03259098449166\n",
      "92.0\n",
      "starting...\n"
     ]
    },
    {
     "name": "stderr",
     "output_type": "stream",
     "text": [
      " 28%|███████████████████▋                                                 | 57/200 [8:20:02<7:24:40, 186.58s/it]"
     ]
    },
    {
     "name": "stdout",
     "output_type": "stream",
     "text": [
      "The chain is shorter than 50 times the integrated autocorrelation time for 1 parameter(s). Use this estimate with caution and run a longer chain!\n",
      "N/50 = 20;\n",
      "tau: [22.6523729]\n",
      "final params:\n",
      "[[Fit Statistics]]\n",
      "    # fitting method   = emcee\n",
      "    # function evals   = 50000\n",
      "    # data points      = 629\n",
      "    # variables        = 1\n",
      "    chi-square         = 729.08167\n",
      "    reduced chi-square = 1.16095807\n",
      "    Akaike info crit   = 94.8746757\n",
      "    Bayesian info crit = 99.3188070\n",
      "[[Variables]]\n",
      "    teff:  18270 (fixed)\n",
      "    logg:  8.87464 (fixed)\n",
      "    RV:   -14.9181151 +/- 16.3380601 (109.52%) (init = -7.310921)\n",
      "    res:   1 (fixed)\n",
      "rv init: -7.3109207205601345\n",
      "20.0\n",
      "starting...\n"
     ]
    },
    {
     "name": "stderr",
     "output_type": "stream",
     "text": [
      " 29%|████████████████████                                                 | 58/200 [8:23:02<7:16:31, 184.44s/it]"
     ]
    },
    {
     "name": "stdout",
     "output_type": "stream",
     "text": [
      "The chain is shorter than 50 times the integrated autocorrelation time for 1 parameter(s). Use this estimate with caution and run a longer chain!\n",
      "N/50 = 20;\n",
      "tau: [24.07112259]\n",
      "final params:\n",
      "[[Fit Statistics]]\n",
      "    # fitting method   = emcee\n",
      "    # function evals   = 50000\n",
      "    # data points      = 629\n",
      "    # variables        = 1\n",
      "    chi-square         = 2334.9473\n",
      "    reduced chi-square = 3.71806889\n",
      "    Akaike info crit   = 827.004784\n",
      "    Bayesian info crit = 831.448915\n",
      "[[Variables]]\n",
      "    teff:  32655 (fixed)\n",
      "    logg:  8.893338 (fixed)\n",
      "    RV:   -27.2835267 +/- 9.66770884 (35.43%) (init = -27.25618)\n",
      "    res:   1 (fixed)\n",
      "rv init: -27.256182047237996\n",
      "-19.0\n",
      "starting...\n"
     ]
    },
    {
     "name": "stderr",
     "output_type": "stream",
     "text": [
      " 30%|████████████████████▎                                                | 59/200 [8:26:09<7:15:46, 185.44s/it]"
     ]
    },
    {
     "name": "stdout",
     "output_type": "stream",
     "text": [
      "The chain is shorter than 50 times the integrated autocorrelation time for 1 parameter(s). Use this estimate with caution and run a longer chain!\n",
      "N/50 = 20;\n",
      "tau: [21.20525246]\n",
      "final params:\n",
      "[[Fit Statistics]]\n",
      "    # fitting method   = emcee\n",
      "    # function evals   = 50000\n",
      "    # data points      = 629\n",
      "    # variables        = 1\n",
      "    chi-square         = 574.49225\n",
      "    reduced chi-square = 0.91479657\n",
      "    Akaike info crit   = -55.0154861\n",
      "    Bayesian info crit = -50.5713549\n",
      "[[Variables]]\n",
      "    teff:  14875 (fixed)\n",
      "    logg:  8.155361 (fixed)\n",
      "    RV:    18.7427357 +/- 22.1885923 (118.39%) (init = 26.78386)\n",
      "    res:   1 (fixed)\n",
      "rv init: 26.78385616371477\n",
      "36.0\n",
      "starting...\n"
     ]
    },
    {
     "name": "stderr",
     "output_type": "stream",
     "text": [
      " 30%|████████████████████▋                                                | 60/200 [8:29:51<7:38:10, 196.36s/it]"
     ]
    },
    {
     "name": "stdout",
     "output_type": "stream",
     "text": [
      "The chain is shorter than 50 times the integrated autocorrelation time for 1 parameter(s). Use this estimate with caution and run a longer chain!\n",
      "N/50 = 20;\n",
      "tau: [53.2803159]\n",
      "final params:\n",
      "[[Fit Statistics]]\n",
      "    # fitting method   = emcee\n",
      "    # function evals   = 50000\n",
      "    # data points      = 629\n",
      "    # variables        = 1\n",
      "    chi-square         = 777.4075\n",
      "    reduced chi-square = 1.23790999\n",
      "    Akaike info crit   = 135.243191\n",
      "    Bayesian info crit = 139.687322\n",
      "[[Variables]]\n",
      "    teff:  39999 (fixed)\n",
      "    logg:  6.285753 (fixed)\n",
      "    RV:   -8.34526541 +/- 25.8786670 (310.10%) (init = 979.7868)\n",
      "    res:   1 (fixed)\n",
      "rv init: 979.7868422789085\n",
      "-17.0\n",
      "starting...\n"
     ]
    },
    {
     "name": "stderr",
     "output_type": "stream",
     "text": [
      " 30%|█████████████████████                                                | 61/200 [8:32:43<7:17:47, 188.97s/it]"
     ]
    },
    {
     "name": "stdout",
     "output_type": "stream",
     "text": [
      "The chain is shorter than 50 times the integrated autocorrelation time for 1 parameter(s). Use this estimate with caution and run a longer chain!\n",
      "N/50 = 20;\n",
      "tau: [23.96087769]\n",
      "final params:\n",
      "[[Fit Statistics]]\n",
      "    # fitting method   = emcee\n",
      "    # function evals   = 50000\n",
      "    # data points      = 629\n",
      "    # variables        = 1\n",
      "    chi-square         = 661.0078\n",
      "    reduced chi-square = 1.05256021\n",
      "    Akaike info crit   = 33.2200390\n",
      "    Bayesian info crit = 37.6641703\n",
      "[[Variables]]\n",
      "    teff:  18890 (fixed)\n",
      "    logg:  8.915818 (fixed)\n",
      "    RV:    57.0505743 +/- 18.5599226 (32.53%) (init = 70.89105)\n",
      "    res:   1 (fixed)\n",
      "rv init: 70.89104662389121\n",
      "52.0\n",
      "starting...\n"
     ]
    },
    {
     "name": "stderr",
     "output_type": "stream",
     "text": [
      " 31%|█████████████████████▍                                               | 62/200 [8:35:33<7:01:44, 183.36s/it]"
     ]
    },
    {
     "name": "stdout",
     "output_type": "stream",
     "text": [
      "The chain is shorter than 50 times the integrated autocorrelation time for 1 parameter(s). Use this estimate with caution and run a longer chain!\n",
      "N/50 = 20;\n",
      "tau: [20.71427303]\n",
      "final params:\n",
      "[[Fit Statistics]]\n",
      "    # fitting method   = emcee\n",
      "    # function evals   = 50000\n",
      "    # data points      = 629\n",
      "    # variables        = 1\n",
      "    chi-square         = 1089.1483\n",
      "    reduced chi-square = 1.73431260\n",
      "    Akaike info crit   = 347.333612\n",
      "    Bayesian info crit = 351.777743\n",
      "[[Variables]]\n",
      "    teff:  20396 (fixed)\n",
      "    logg:  9.19527 (fixed)\n",
      "    RV:    37.0916495 +/- 9.86695500 (26.60%) (init = 37.7583)\n",
      "    res:   1 (fixed)\n",
      "rv init: 37.758301862406924\n",
      "48.0\n",
      "starting...\n"
     ]
    },
    {
     "name": "stderr",
     "output_type": "stream",
     "text": [
      " 32%|█████████████████████▋                                               | 63/200 [8:38:24<6:50:21, 179.72s/it]"
     ]
    },
    {
     "name": "stdout",
     "output_type": "stream",
     "text": [
      "The chain is shorter than 50 times the integrated autocorrelation time for 1 parameter(s). Use this estimate with caution and run a longer chain!\n",
      "N/50 = 20;\n",
      "tau: [21.94292063]\n",
      "final params:\n",
      "[[Fit Statistics]]\n",
      "    # fitting method   = emcee\n",
      "    # function evals   = 50000\n",
      "    # data points      = 629\n",
      "    # variables        = 1\n",
      "    chi-square         = 519.0361\n",
      "    reduced chi-square = 0.82649056\n",
      "    Akaike info crit   = -118.867302\n",
      "    Bayesian info crit = -114.423171\n",
      "[[Variables]]\n",
      "    teff:  13027 (fixed)\n",
      "    logg:  8.107964 (fixed)\n",
      "    RV:    49.4483095 +/- 4.12949920 (8.35%) (init = 54.20688)\n",
      "    res:   1 (fixed)\n",
      "rv init: 54.20687910082617\n",
      "72.0\n",
      "starting...\n"
     ]
    },
    {
     "name": "stderr",
     "output_type": "stream",
     "text": [
      " 32%|██████████████████████                                               | 64/200 [8:41:22<6:45:35, 178.93s/it]"
     ]
    },
    {
     "name": "stdout",
     "output_type": "stream",
     "text": [
      "The chain is shorter than 50 times the integrated autocorrelation time for 1 parameter(s). Use this estimate with caution and run a longer chain!\n",
      "N/50 = 20;\n",
      "tau: [22.15136614]\n",
      "final params:\n",
      "[[Fit Statistics]]\n",
      "    # fitting method   = emcee\n",
      "    # function evals   = 50000\n",
      "    # data points      = 629\n",
      "    # variables        = 1\n",
      "    chi-square         = 1943.673\n",
      "    reduced chi-square = 3.09502066\n",
      "    Akaike info crit   = 711.639996\n",
      "    Bayesian info crit = 716.084127\n",
      "[[Variables]]\n",
      "    teff:  19516 (fixed)\n",
      "    logg:  8.803404 (fixed)\n",
      "    RV:    15.4258150 +/- 7.02538418 (45.54%) (init = 23.41097)\n",
      "    res:   1 (fixed)\n",
      "rv init: 23.410970571601403\n",
      "30.0\n",
      "starting...\n"
     ]
    },
    {
     "name": "stderr",
     "output_type": "stream",
     "text": [
      " 32%|██████████████████████▍                                              | 65/200 [8:44:47<7:00:46, 187.01s/it]"
     ]
    },
    {
     "name": "stdout",
     "output_type": "stream",
     "text": [
      "The chain is shorter than 50 times the integrated autocorrelation time for 1 parameter(s). Use this estimate with caution and run a longer chain!\n",
      "N/50 = 20;\n",
      "tau: [22.77053206]\n",
      "final params:\n",
      "[[Fit Statistics]]\n",
      "    # fitting method   = emcee\n",
      "    # function evals   = 50000\n",
      "    # data points      = 629\n",
      "    # variables        = 1\n",
      "    chi-square         = 940.57056\n",
      "    reduced chi-square = 1.49772382\n",
      "    Akaike info crit   = 255.081553\n",
      "    Bayesian info crit = 259.525684\n",
      "[[Variables]]\n",
      "    teff:  23144 (fixed)\n",
      "    logg:  8.826685 (fixed)\n",
      "    RV:    40.6954407 +/- 15.0805438 (37.06%) (init = 55.76585)\n",
      "    res:   1 (fixed)\n",
      "rv init: 55.76584669362828\n",
      "39.0\n",
      "starting...\n"
     ]
    },
    {
     "name": "stderr",
     "output_type": "stream",
     "text": [
      " 33%|██████████████████████▊                                              | 66/200 [8:48:00<7:01:08, 188.57s/it]"
     ]
    },
    {
     "name": "stdout",
     "output_type": "stream",
     "text": [
      "The chain is shorter than 50 times the integrated autocorrelation time for 1 parameter(s). Use this estimate with caution and run a longer chain!\n",
      "N/50 = 20;\n",
      "tau: [20.60599834]\n",
      "final params:\n",
      "[[Fit Statistics]]\n",
      "    # fitting method   = emcee\n",
      "    # function evals   = 50000\n",
      "    # data points      = 629\n",
      "    # variables        = 1\n",
      "    chi-square         = 827.6374\n",
      "    reduced chi-square = 1.31789393\n",
      "    Akaike info crit   = 174.625192\n",
      "    Bayesian info crit = 179.069324\n",
      "[[Variables]]\n",
      "    teff:  27296 (fixed)\n",
      "    logg:  9.130816 (fixed)\n",
      "    RV:    8.76114770 +/- 21.9545164 (250.59%) (init = 22.79451)\n",
      "    res:   1 (fixed)\n",
      "rv init: 22.79451429239702\n",
      "31.0\n",
      "starting...\n"
     ]
    },
    {
     "name": "stderr",
     "output_type": "stream",
     "text": [
      " 34%|███████████████████████                                              | 67/200 [8:51:18<7:04:24, 191.46s/it]"
     ]
    },
    {
     "name": "stdout",
     "output_type": "stream",
     "text": [
      "The chain is shorter than 50 times the integrated autocorrelation time for 1 parameter(s). Use this estimate with caution and run a longer chain!\n",
      "N/50 = 20;\n",
      "tau: [22.18685838]\n",
      "final params:\n",
      "[[Fit Statistics]]\n",
      "    # fitting method   = emcee\n",
      "    # function evals   = 50000\n",
      "    # data points      = 629\n",
      "    # variables        = 1\n",
      "    chi-square         = 1067.791\n",
      "    reduced chi-square = 1.70030417\n",
      "    Akaike info crit   = 334.876905\n",
      "    Bayesian info crit = 339.321036\n",
      "[[Variables]]\n",
      "    teff:  26023 (fixed)\n",
      "    logg:  8.923316 (fixed)\n",
      "    RV:    91.9411454 +/- 10.7014143 (11.64%) (init = 101.299)\n",
      "    res:   1 (fixed)\n",
      "rv init: 101.29896465413643\n",
      "90.0\n",
      "starting...\n"
     ]
    },
    {
     "name": "stderr",
     "output_type": "stream",
     "text": [
      " 34%|███████████████████████▍                                             | 68/200 [8:54:47<7:12:43, 196.69s/it]"
     ]
    },
    {
     "name": "stdout",
     "output_type": "stream",
     "text": [
      "The chain is shorter than 50 times the integrated autocorrelation time for 1 parameter(s). Use this estimate with caution and run a longer chain!\n",
      "N/50 = 20;\n",
      "tau: [50.37922328]\n",
      "final params:\n",
      "[[Fit Statistics]]\n",
      "    # fitting method   = emcee\n",
      "    # function evals   = 50000\n",
      "    # data points      = 629\n",
      "    # variables        = 1\n",
      "    chi-square         = 862.72784\n",
      "    reduced chi-square = 1.37377045\n",
      "    Akaike info crit   = 200.743887\n",
      "    Bayesian info crit = 205.188019\n",
      "[[Variables]]\n",
      "    teff:  39999 (fixed)\n",
      "    logg:  5.013903 (fixed)\n",
      "    RV:   -21.4540823 +/- 9.27221563 (43.22%) (init = 474.9001)\n",
      "    res:   1 (fixed)\n",
      "rv init: 474.9000790208489\n",
      "-19.0\n",
      "starting...\n"
     ]
    },
    {
     "name": "stderr",
     "output_type": "stream",
     "text": [
      " 34%|███████████████████████▊                                             | 69/200 [8:58:06<7:11:20, 197.56s/it]"
     ]
    },
    {
     "name": "stdout",
     "output_type": "stream",
     "text": [
      "The chain is shorter than 50 times the integrated autocorrelation time for 1 parameter(s). Use this estimate with caution and run a longer chain!\n",
      "N/50 = 20;\n",
      "tau: [22.53001582]\n",
      "final params:\n",
      "[[Fit Statistics]]\n",
      "    # fitting method   = emcee\n",
      "    # function evals   = 50000\n",
      "    # data points      = 629\n",
      "    # variables        = 1\n",
      "    chi-square         = 1706.8545\n",
      "    reduced chi-square = 2.71792117\n",
      "    Akaike info crit   = 629.915743\n",
      "    Bayesian info crit = 634.359874\n",
      "[[Variables]]\n",
      "    teff:  34372 (fixed)\n",
      "    logg:  9.287201 (fixed)\n",
      "    RV:   -24.1675254 +/- 14.3835451 (59.52%) (init = -8.572065)\n",
      "    res:   1 (fixed)\n",
      "rv init: -8.572065434153984\n",
      "-13.0\n",
      "starting...\n"
     ]
    },
    {
     "name": "stderr",
     "output_type": "stream",
     "text": [
      " 35%|████████████████████████▏                                            | 70/200 [9:01:26<7:09:40, 198.31s/it]"
     ]
    },
    {
     "name": "stdout",
     "output_type": "stream",
     "text": [
      "The chain is shorter than 50 times the integrated autocorrelation time for 1 parameter(s). Use this estimate with caution and run a longer chain!\n",
      "N/50 = 20;\n",
      "tau: [21.75078086]\n",
      "final params:\n",
      "[[Fit Statistics]]\n",
      "    # fitting method   = emcee\n",
      "    # function evals   = 50000\n",
      "    # data points      = 629\n",
      "    # variables        = 1\n",
      "    chi-square         = 580.1551\n",
      "    reduced chi-square = 0.92381384\n",
      "    Akaike info crit   = -48.8457130\n",
      "    Bayesian info crit = -44.4015818\n",
      "[[Variables]]\n",
      "    teff:  12228 (fixed)\n",
      "    logg:  9.051046 (fixed)\n",
      "    RV:    163.894231 +/- 19.7978102 (12.08%) (init = 168.3038)\n",
      "    res:   1 (fixed)\n",
      "rv init: 168.3038327798192\n",
      "171.0\n",
      "starting...\n"
     ]
    },
    {
     "name": "stderr",
     "output_type": "stream",
     "text": [
      " 36%|████████████████████████▍                                            | 71/200 [9:04:49<7:09:15, 199.65s/it]"
     ]
    },
    {
     "name": "stdout",
     "output_type": "stream",
     "text": [
      "The chain is shorter than 50 times the integrated autocorrelation time for 1 parameter(s). Use this estimate with caution and run a longer chain!\n",
      "N/50 = 20;\n",
      "tau: [22.20292218]\n",
      "final params:\n",
      "[[Fit Statistics]]\n",
      "    # fitting method   = emcee\n",
      "    # function evals   = 50000\n",
      "    # data points      = 629\n",
      "    # variables        = 1\n",
      "    chi-square         = 559.454\n",
      "    reduced chi-square = 0.89085029\n",
      "    Akaike info crit   = -71.6999207\n",
      "    Bayesian info crit = -67.2557895\n",
      "[[Variables]]\n",
      "    teff:  14215 (fixed)\n",
      "    logg:  8.065646 (fixed)\n",
      "    RV:    39.8383533 +/- 9.54785995 (23.97%) (init = 39.97882)\n",
      "    res:   1 (fixed)\n",
      "rv init: 39.97881994888965\n",
      "45.0\n",
      "starting...\n"
     ]
    },
    {
     "name": "stderr",
     "output_type": "stream",
     "text": [
      " 36%|████████████████████████▊                                            | 72/200 [9:08:01<7:00:51, 197.28s/it]"
     ]
    },
    {
     "name": "stdout",
     "output_type": "stream",
     "text": [
      "The chain is shorter than 50 times the integrated autocorrelation time for 1 parameter(s). Use this estimate with caution and run a longer chain!\n",
      "N/50 = 20;\n",
      "tau: [22.56777624]\n",
      "final params:\n",
      "[[Fit Statistics]]\n",
      "    # fitting method   = emcee\n",
      "    # function evals   = 50000\n",
      "    # data points      = 629\n",
      "    # variables        = 1\n",
      "    chi-square         = 605.7566\n",
      "    reduced chi-square = 0.96458056\n",
      "    Akaike info crit   = -21.6837464\n",
      "    Bayesian info crit = -17.2396152\n",
      "[[Variables]]\n",
      "    teff:  18473 (fixed)\n",
      "    logg:  8.532401 (fixed)\n",
      "    RV:    19.6775062 +/- 18.8883379 (95.99%) (init = 18.37624)\n",
      "    res:   1 (fixed)\n",
      "rv init: 18.376244653866596\n",
      "-1.0\n",
      "starting...\n"
     ]
    },
    {
     "name": "stderr",
     "output_type": "stream",
     "text": [
      " 36%|█████████████████████████▏                                           | 73/200 [9:11:02<6:47:14, 192.39s/it]"
     ]
    },
    {
     "name": "stdout",
     "output_type": "stream",
     "text": [
      "final params:\n",
      "[[Fit Statistics]]\n",
      "    # fitting method   = emcee\n",
      "    # function evals   = 50000\n",
      "    # data points      = 629\n",
      "    # variables        = 1\n",
      "    chi-square         = 778.02783\n",
      "    reduced chi-square = 1.23889782\n",
      "    Akaike info crit   = 135.744925\n",
      "    Bayesian info crit = 140.189056\n",
      "[[Variables]]\n",
      "    teff:  21383 (fixed)\n",
      "    logg:  9.191305 (fixed)\n",
      "    RV:    41.5154569 +/- 27.2043870 (65.53%) (init = 46.53285)\n",
      "    res:   1 (fixed)\n",
      "rv init: 46.5328462048154\n",
      "76.0\n",
      "starting...\n"
     ]
    },
    {
     "name": "stderr",
     "output_type": "stream",
     "text": [
      " 37%|█████████████████████████▌                                           | 74/200 [9:14:27<6:51:44, 196.07s/it]"
     ]
    },
    {
     "name": "stdout",
     "output_type": "stream",
     "text": [
      "final params:\n",
      "[[Fit Statistics]]\n",
      "    # fitting method   = emcee\n",
      "    # function evals   = 50000\n",
      "    # data points      = 629\n",
      "    # variables        = 1\n",
      "    chi-square         = 856.4011\n",
      "    reduced chi-square = 1.36369606\n",
      "    Akaike info crit   = 196.114188\n",
      "    Bayesian info crit = 200.558319\n",
      "[[Variables]]\n",
      "    teff:  19554 (fixed)\n",
      "    logg:  8.883276 (fixed)\n",
      "    RV:    9.37916572 +/- 15.6038709 (166.37%) (init = 9.986343)\n",
      "    res:   1 (fixed)\n",
      "rv init: 9.986343485938905\n",
      "9.0\n",
      "starting...\n"
     ]
    },
    {
     "name": "stderr",
     "output_type": "stream",
     "text": [
      " 38%|█████████████████████████▉                                           | 75/200 [9:17:22<6:35:30, 189.84s/it]"
     ]
    },
    {
     "name": "stdout",
     "output_type": "stream",
     "text": [
      "The chain is shorter than 50 times the integrated autocorrelation time for 1 parameter(s). Use this estimate with caution and run a longer chain!\n",
      "N/50 = 20;\n",
      "tau: [21.09278253]\n",
      "final params:\n",
      "[[Fit Statistics]]\n",
      "    # fitting method   = emcee\n",
      "    # function evals   = 50000\n",
      "    # data points      = 629\n",
      "    # variables        = 1\n",
      "    chi-square         = 595.979\n",
      "    reduced chi-square = 0.94901115\n",
      "    Akaike info crit   = -31.9193399\n",
      "    Bayesian info crit = -27.4752086\n",
      "[[Variables]]\n",
      "    teff:  19493 (fixed)\n",
      "    logg:  9.311817 (fixed)\n",
      "    RV:    159.224473 +/- 23.2025859 (14.57%) (init = 179.2746)\n",
      "    res:   1 (fixed)\n",
      "rv init: 179.27455118332406\n",
      "180.0\n",
      "starting...\n"
     ]
    },
    {
     "name": "stderr",
     "output_type": "stream",
     "text": [
      " 38%|██████████████████████████▏                                          | 76/200 [9:20:24<6:27:51, 187.67s/it]"
     ]
    },
    {
     "name": "stdout",
     "output_type": "stream",
     "text": [
      "The chain is shorter than 50 times the integrated autocorrelation time for 1 parameter(s). Use this estimate with caution and run a longer chain!\n",
      "N/50 = 20;\n",
      "tau: [21.79808639]\n",
      "final params:\n",
      "[[Fit Statistics]]\n",
      "    # fitting method   = emcee\n",
      "    # function evals   = 50000\n",
      "    # data points      = 629\n",
      "    # variables        = 1\n",
      "    chi-square         = 485.30646\n",
      "    reduced chi-square = 0.77278098\n",
      "    Akaike info crit   = -161.131587\n",
      "    Bayesian info crit = -156.687455\n",
      "[[Variables]]\n",
      "    teff:  15072 (fixed)\n",
      "    logg:  8.0543 (fixed)\n",
      "    RV:    37.8562576 +/- 11.1977481 (29.58%) (init = 37.05644)\n",
      "    res:   1 (fixed)\n",
      "rv init: 37.056436878250324\n",
      "51.0\n",
      "starting...\n"
     ]
    },
    {
     "name": "stderr",
     "output_type": "stream",
     "text": [
      " 38%|██████████████████████████▌                                          | 77/200 [9:23:48<6:34:41, 192.53s/it]"
     ]
    },
    {
     "name": "stdout",
     "output_type": "stream",
     "text": [
      "final params:\n",
      "[[Fit Statistics]]\n",
      "    # fitting method   = emcee\n",
      "    # function evals   = 50000\n",
      "    # data points      = 629\n",
      "    # variables        = 1\n",
      "    chi-square         = 819.49884\n",
      "    reduced chi-square = 1.30493446\n",
      "    Akaike info crit   = 168.409326\n",
      "    Bayesian info crit = 172.853457\n",
      "[[Variables]]\n",
      "    teff:  28963 (fixed)\n",
      "    logg:  9.134467 (fixed)\n",
      "    RV:   -74.6758329 +/- 25.3924223 (34.00%) (init = -78.16128)\n",
      "    res:   1 (fixed)\n",
      "rv init: -78.16128126860998\n",
      "-71.0\n",
      "starting...\n"
     ]
    },
    {
     "name": "stderr",
     "output_type": "stream",
     "text": [
      " 39%|██████████████████████████▉                                          | 78/200 [9:26:51<6:25:22, 189.53s/it]"
     ]
    },
    {
     "name": "stdout",
     "output_type": "stream",
     "text": [
      "The chain is shorter than 50 times the integrated autocorrelation time for 1 parameter(s). Use this estimate with caution and run a longer chain!\n",
      "N/50 = 20;\n",
      "tau: [23.35478421]\n",
      "final params:\n",
      "[[Fit Statistics]]\n",
      "    # fitting method   = emcee\n",
      "    # function evals   = 50000\n",
      "    # data points      = 629\n",
      "    # variables        = 1\n",
      "    chi-square         = 1130.2125\n",
      "    reduced chi-square = 1.79970147\n",
      "    Akaike info crit   = 370.612689\n",
      "    Bayesian info crit = 375.056820\n",
      "[[Variables]]\n",
      "    teff:  39999 (fixed)\n",
      "    logg:  9.101152 (fixed)\n",
      "    RV:   -28.0411989 +/- 23.8689231 (85.12%) (init = 1.877203)\n",
      "    res:   1 (fixed)\n",
      "rv init: 1.8772030330744396\n",
      "-28.0\n",
      "starting...\n"
     ]
    },
    {
     "name": "stderr",
     "output_type": "stream",
     "text": [
      " 40%|███████████████████████████▎                                         | 79/200 [9:30:08<6:26:42, 191.75s/it]"
     ]
    },
    {
     "name": "stdout",
     "output_type": "stream",
     "text": [
      "The chain is shorter than 50 times the integrated autocorrelation time for 1 parameter(s). Use this estimate with caution and run a longer chain!\n",
      "N/50 = 20;\n",
      "tau: [23.20237]\n",
      "final params:\n",
      "[[Fit Statistics]]\n",
      "    # fitting method   = emcee\n",
      "    # function evals   = 50000\n",
      "    # data points      = 629\n",
      "    # variables        = 1\n",
      "    chi-square         = 723.91516\n",
      "    reduced chi-square = 1.15273115\n",
      "    Akaike info crit   = 90.4015143\n",
      "    Bayesian info crit = 94.8456456\n",
      "[[Variables]]\n",
      "    teff:  33860 (fixed)\n",
      "    logg:  9.370018 (fixed)\n",
      "    RV:    91.1556729 +/- 47.1239781 (51.70%) (init = 138.9636)\n",
      "    res:   1 (fixed)\n",
      "rv init: 138.96359807175102\n",
      "79.0\n",
      "starting...\n"
     ]
    },
    {
     "name": "stderr",
     "output_type": "stream",
     "text": [
      " 40%|███████████████████████████▌                                         | 80/200 [9:33:13<6:19:38, 189.82s/it]"
     ]
    },
    {
     "name": "stdout",
     "output_type": "stream",
     "text": [
      "The chain is shorter than 50 times the integrated autocorrelation time for 1 parameter(s). Use this estimate with caution and run a longer chain!\n",
      "N/50 = 20;\n",
      "tau: [32.94634261]\n",
      "final params:\n",
      "[[Fit Statistics]]\n",
      "    # fitting method   = emcee\n",
      "    # function evals   = 50000\n",
      "    # data points      = 629\n",
      "    # variables        = 1\n",
      "    chi-square         = 2371.2124\n",
      "    reduced chi-square = 3.77581593\n",
      "    Akaike info crit   = 836.698982\n",
      "    Bayesian info crit = 841.143113\n",
      "[[Variables]]\n",
      "    teff:  25881 (fixed)\n",
      "    logg:  9.046886 (fixed)\n",
      "    RV:    8.21740499 +/- 8.52734631 (103.77%) (init = -15.92057)\n",
      "    res:   1 (fixed)\n",
      "rv init: -15.920565080491933\n",
      "19.0\n",
      "starting...\n"
     ]
    },
    {
     "name": "stderr",
     "output_type": "stream",
     "text": [
      " 40%|███████████████████████████▉                                         | 81/200 [9:36:17<6:12:51, 188.00s/it]"
     ]
    },
    {
     "name": "stdout",
     "output_type": "stream",
     "text": [
      "The chain is shorter than 50 times the integrated autocorrelation time for 1 parameter(s). Use this estimate with caution and run a longer chain!\n",
      "N/50 = 20;\n",
      "tau: [22.41795563]\n",
      "final params:\n",
      "[[Fit Statistics]]\n",
      "    # fitting method   = emcee\n",
      "    # function evals   = 50000\n",
      "    # data points      = 629\n",
      "    # variables        = 1\n",
      "    chi-square         = 602.18146\n",
      "    reduced chi-square = 0.95888767\n",
      "    Akaike info crit   = -25.4070600\n",
      "    Bayesian info crit = -20.9629287\n",
      "[[Variables]]\n",
      "    teff:  18605 (fixed)\n",
      "    logg:  8.763504 (fixed)\n",
      "    RV:    84.0421039 +/- 15.1246409 (18.00%) (init = 85.17324)\n",
      "    res:   1 (fixed)\n",
      "rv init: 85.17324033754733\n",
      "106.0\n",
      "starting...\n"
     ]
    },
    {
     "name": "stderr",
     "output_type": "stream",
     "text": [
      " 41%|████████████████████████████▎                                        | 82/200 [9:39:31<6:13:33, 189.94s/it]"
     ]
    },
    {
     "name": "stdout",
     "output_type": "stream",
     "text": [
      "The chain is shorter than 50 times the integrated autocorrelation time for 1 parameter(s). Use this estimate with caution and run a longer chain!\n",
      "N/50 = 20;\n",
      "tau: [21.39212507]\n",
      "final params:\n",
      "[[Fit Statistics]]\n",
      "    # fitting method   = emcee\n",
      "    # function evals   = 50000\n",
      "    # data points      = 629\n",
      "    # variables        = 1\n",
      "    chi-square         = 799.6308\n",
      "    reduced chi-square = 1.27329745\n",
      "    Akaike info crit   = 152.971864\n",
      "    Bayesian info crit = 157.415996\n",
      "[[Variables]]\n",
      "    teff:  31529 (fixed)\n",
      "    logg:  9.36882 (fixed)\n",
      "    RV:   -30.1110499 +/- 41.8834338 (139.10%) (init = -43.86845)\n",
      "    res:   1 (fixed)\n",
      "rv init: -43.86844896077654\n",
      "-46.0\n",
      "starting...\n"
     ]
    },
    {
     "name": "stderr",
     "output_type": "stream",
     "text": [
      " 42%|████████████████████████████▋                                        | 83/200 [9:42:57<6:19:44, 194.74s/it]"
     ]
    },
    {
     "name": "stdout",
     "output_type": "stream",
     "text": [
      "The chain is shorter than 50 times the integrated autocorrelation time for 1 parameter(s). Use this estimate with caution and run a longer chain!\n",
      "N/50 = 20;\n",
      "tau: [21.37734668]\n",
      "final params:\n",
      "[[Fit Statistics]]\n",
      "    # fitting method   = emcee\n",
      "    # function evals   = 50000\n",
      "    # data points      = 629\n",
      "    # variables        = 1\n",
      "    chi-square         = 706.1415\n",
      "    reduced chi-square = 1.12442911\n",
      "    Akaike info crit   = 74.7654603\n",
      "    Bayesian info crit = 79.2095916\n",
      "[[Variables]]\n",
      "    teff:  24185 (fixed)\n",
      "    logg:  9.436432 (fixed)\n",
      "    RV:    75.0332066 +/- 24.3157567 (32.41%) (init = 100.7801)\n",
      "    res:   1 (fixed)\n",
      "rv init: 100.78006312106211\n",
      "78.0\n",
      "starting...\n"
     ]
    },
    {
     "name": "stderr",
     "output_type": "stream",
     "text": [
      " 42%|████████████████████████████▉                                        | 84/200 [9:46:17<6:19:41, 196.39s/it]"
     ]
    },
    {
     "name": "stdout",
     "output_type": "stream",
     "text": [
      "The chain is shorter than 50 times the integrated autocorrelation time for 1 parameter(s). Use this estimate with caution and run a longer chain!\n",
      "N/50 = 20;\n",
      "tau: [21.19056478]\n",
      "final params:\n",
      "[[Fit Statistics]]\n",
      "    # fitting method   = emcee\n",
      "    # function evals   = 50000\n",
      "    # data points      = 629\n",
      "    # variables        = 1\n",
      "    chi-square         = 1038.1779\n",
      "    reduced chi-square = 1.65314945\n",
      "    Akaike info crit   = 317.186326\n",
      "    Bayesian info crit = 321.630457\n",
      "[[Variables]]\n",
      "    teff:  33560 (fixed)\n",
      "    logg:  9.174577 (fixed)\n",
      "    RV:   -60.5113600 +/- 25.6379066 (42.37%) (init = -45.63999)\n",
      "    res:   1 (fixed)\n",
      "rv init: -45.63998689963122\n",
      "-50.0\n",
      "starting...\n"
     ]
    },
    {
     "name": "stderr",
     "output_type": "stream",
     "text": [
      " 42%|█████████████████████████████▎                                       | 85/200 [9:49:28<6:13:13, 194.73s/it]"
     ]
    },
    {
     "name": "stdout",
     "output_type": "stream",
     "text": [
      "The chain is shorter than 50 times the integrated autocorrelation time for 1 parameter(s). Use this estimate with caution and run a longer chain!\n",
      "N/50 = 20;\n",
      "tau: [25.46966533]\n",
      "final params:\n",
      "[[Fit Statistics]]\n",
      "    # fitting method   = emcee\n",
      "    # function evals   = 50000\n",
      "    # data points      = 629\n",
      "    # variables        = 1\n",
      "    chi-square         = 1207.7025\n",
      "    reduced chi-square = 1.92309318\n",
      "    Akaike info crit   = 412.324268\n",
      "    Bayesian info crit = 416.768400\n",
      "[[Variables]]\n",
      "    teff:  26847 (fixed)\n",
      "    logg:  9.19268 (fixed)\n",
      "    RV:   -4.91455354 +/- 14.2972299 (290.92%) (init = 17.65437)\n",
      "    res:   1 (fixed)\n",
      "rv init: 17.654367885566934\n",
      "3.0\n",
      "starting...\n"
     ]
    },
    {
     "name": "stderr",
     "output_type": "stream",
     "text": [
      " 43%|█████████████████████████████▋                                       | 86/200 [9:52:34<6:04:31, 191.86s/it]"
     ]
    },
    {
     "name": "stdout",
     "output_type": "stream",
     "text": [
      "The chain is shorter than 50 times the integrated autocorrelation time for 1 parameter(s). Use this estimate with caution and run a longer chain!\n",
      "N/50 = 20;\n",
      "tau: [20.02432878]\n",
      "final params:\n",
      "[[Fit Statistics]]\n",
      "    # fitting method   = emcee\n",
      "    # function evals   = 50000\n",
      "    # data points      = 629\n",
      "    # variables        = 1\n",
      "    chi-square         = 532.62994\n",
      "    reduced chi-square = 0.84813685\n",
      "    Akaike info crit   = -102.605444\n",
      "    Bayesian info crit = -98.1613130\n",
      "[[Variables]]\n",
      "    teff:  16547 (fixed)\n",
      "    logg:  8.552237 (fixed)\n",
      "    RV:   -9.09577268 +/- 17.5385134 (192.82%) (init = -8.955944)\n",
      "    res:   1 (fixed)\n",
      "rv init: -8.955944322173734\n",
      "13.0\n",
      "starting...\n"
     ]
    },
    {
     "name": "stderr",
     "output_type": "stream",
     "text": [
      " 44%|██████████████████████████████                                       | 87/200 [9:55:41<5:58:52, 190.56s/it]"
     ]
    },
    {
     "name": "stdout",
     "output_type": "stream",
     "text": [
      "The chain is shorter than 50 times the integrated autocorrelation time for 1 parameter(s). Use this estimate with caution and run a longer chain!\n",
      "N/50 = 20;\n",
      "tau: [22.56199204]\n",
      "final params:\n",
      "[[Fit Statistics]]\n",
      "    # fitting method   = emcee\n",
      "    # function evals   = 50000\n",
      "    # data points      = 629\n",
      "    # variables        = 1\n",
      "    chi-square         = 692.5604\n",
      "    reduced chi-square = 1.10280322\n",
      "    Akaike info crit   = 62.5502029\n",
      "    Bayesian info crit = 66.9943342\n",
      "[[Variables]]\n",
      "    teff:  16468 (fixed)\n",
      "    logg:  8.327464 (fixed)\n",
      "    RV:   -10.1298521 +/- 8.37700027 (82.70%) (init = -18.2031)\n",
      "    res:   1 (fixed)\n",
      "rv init: -18.20310265444228\n",
      "2.0\n",
      "starting...\n"
     ]
    },
    {
     "name": "stderr",
     "output_type": "stream",
     "text": [
      " 44%|██████████████████████████████▎                                      | 88/200 [9:59:02<6:01:48, 193.83s/it]"
     ]
    },
    {
     "name": "stdout",
     "output_type": "stream",
     "text": [
      "The chain is shorter than 50 times the integrated autocorrelation time for 1 parameter(s). Use this estimate with caution and run a longer chain!\n",
      "N/50 = 20;\n",
      "tau: [23.99963364]\n",
      "final params:\n",
      "[[Fit Statistics]]\n",
      "    # fitting method   = emcee\n",
      "    # function evals   = 50000\n",
      "    # data points      = 629\n",
      "    # variables        = 1\n",
      "    chi-square         = 662.4962\n",
      "    reduced chi-square = 1.05493028\n",
      "    Akaike info crit   = 34.6347776\n",
      "    Bayesian info crit = 39.0789088\n",
      "[[Variables]]\n",
      "    teff:  17919 (fixed)\n",
      "    logg:  8.629779 (fixed)\n",
      "    RV:   -25.8559430 +/- 17.1800771 (66.45%) (init = -28.75053)\n",
      "    res:   1 (fixed)\n",
      "rv init: -28.750531229828116\n",
      "-13.0\n",
      "starting...\n"
     ]
    },
    {
     "name": "stderr",
     "output_type": "stream",
     "text": [
      " 44%|██████████████████████████████▎                                     | 89/200 [10:02:27<6:04:36, 197.08s/it]"
     ]
    },
    {
     "name": "stdout",
     "output_type": "stream",
     "text": [
      "The chain is shorter than 50 times the integrated autocorrelation time for 1 parameter(s). Use this estimate with caution and run a longer chain!\n",
      "N/50 = 20;\n",
      "tau: [21.59727988]\n",
      "final params:\n",
      "[[Fit Statistics]]\n",
      "    # fitting method   = emcee\n",
      "    # function evals   = 50000\n",
      "    # data points      = 629\n",
      "    # variables        = 1\n",
      "    chi-square         = 1066.2091\n",
      "    reduced chi-square = 1.69778520\n",
      "    Akaike info crit   = 333.944364\n",
      "    Bayesian info crit = 338.388496\n",
      "[[Variables]]\n",
      "    teff:  18153 (fixed)\n",
      "    logg:  8.643868 (fixed)\n",
      "    RV:   -21.4874267 +/- 7.03592164 (32.74%) (init = -24.86209)\n",
      "    res:   1 (fixed)\n",
      "rv init: -24.86208596842562\n",
      "-8.0\n",
      "starting...\n"
     ]
    },
    {
     "name": "stderr",
     "output_type": "stream",
     "text": [
      " 45%|██████████████████████████████▌                                     | 90/200 [10:06:05<6:12:30, 203.18s/it]"
     ]
    },
    {
     "name": "stdout",
     "output_type": "stream",
     "text": [
      "final params:\n",
      "[[Fit Statistics]]\n",
      "    # fitting method   = emcee\n",
      "    # function evals   = 50000\n",
      "    # data points      = 629\n",
      "    # variables        = 1\n",
      "    chi-square         = 712.7572\n",
      "    reduced chi-square = 1.13496370\n",
      "    Akaike info crit   = 80.6310232\n",
      "    Bayesian info crit = 85.0751544\n",
      "[[Variables]]\n",
      "    teff:  20404 (fixed)\n",
      "    logg:  9.176296 (fixed)\n",
      "    RV:    23.4695734 +/- 21.7090752 (92.50%) (init = 23.81236)\n",
      "    res:   1 (fixed)\n",
      "rv init: 23.812358296215706\n",
      "48.0\n",
      "starting...\n"
     ]
    },
    {
     "name": "stderr",
     "output_type": "stream",
     "text": [
      " 46%|██████████████████████████████▉                                     | 91/200 [10:09:43<6:17:19, 207.70s/it]"
     ]
    },
    {
     "name": "stdout",
     "output_type": "stream",
     "text": [
      "The chain is shorter than 50 times the integrated autocorrelation time for 1 parameter(s). Use this estimate with caution and run a longer chain!\n",
      "N/50 = 20;\n",
      "tau: [24.13792675]\n",
      "final params:\n",
      "[[Fit Statistics]]\n",
      "    # fitting method   = emcee\n",
      "    # function evals   = 50000\n",
      "    # data points      = 629\n",
      "    # variables        = 1\n",
      "    chi-square         = 522.42303\n",
      "    reduced chi-square = 0.83188381\n",
      "    Akaike info crit   = -114.776105\n",
      "    Bayesian info crit = -110.331974\n",
      "[[Variables]]\n",
      "    teff:  14443 (fixed)\n",
      "    logg:  7.776023 (fixed)\n",
      "    RV:    69.2373397 +/- 16.2020031 (23.40%) (init = 57.80088)\n",
      "    res:   1 (fixed)\n",
      "rv init: 57.80088373257186\n",
      "65.0\n",
      "starting...\n"
     ]
    },
    {
     "name": "stderr",
     "output_type": "stream",
     "text": [
      " 46%|███████████████████████████████▎                                    | 92/200 [10:13:36<6:27:33, 215.31s/it]"
     ]
    },
    {
     "name": "stdout",
     "output_type": "stream",
     "text": [
      "The chain is shorter than 50 times the integrated autocorrelation time for 1 parameter(s). Use this estimate with caution and run a longer chain!\n",
      "N/50 = 20;\n",
      "tau: [24.76425638]\n",
      "final params:\n",
      "[[Fit Statistics]]\n",
      "    # fitting method   = emcee\n",
      "    # function evals   = 50000\n",
      "    # data points      = 629\n",
      "    # variables        = 1\n",
      "    chi-square         = 1870.1443\n",
      "    reduced chi-square = 2.97793676\n",
      "    Akaike info crit   = 687.383314\n",
      "    Bayesian info crit = 691.827445\n",
      "[[Variables]]\n",
      "    teff:  21865 (fixed)\n",
      "    logg:  9.344163 (fixed)\n",
      "    RV:    41.2498004 +/- 6.36479876 (15.43%) (init = 49.44515)\n",
      "    res:   1 (fixed)\n",
      "rv init: 49.44515136039151\n",
      "44.0\n",
      "starting...\n"
     ]
    },
    {
     "name": "stderr",
     "output_type": "stream",
     "text": [
      " 46%|███████████████████████████████▌                                    | 93/200 [10:17:29<6:33:24, 220.60s/it]"
     ]
    },
    {
     "name": "stdout",
     "output_type": "stream",
     "text": [
      "The chain is shorter than 50 times the integrated autocorrelation time for 1 parameter(s). Use this estimate with caution and run a longer chain!\n",
      "N/50 = 20;\n",
      "tau: [23.57489594]\n",
      "final params:\n",
      "[[Fit Statistics]]\n",
      "    # fitting method   = emcee\n",
      "    # function evals   = 50000\n",
      "    # data points      = 629\n",
      "    # variables        = 1\n",
      "    chi-square         = 1107.9447\n",
      "    reduced chi-square = 1.76424316\n",
      "    Akaike info crit   = 358.096211\n",
      "    Bayesian info crit = 362.540343\n",
      "[[Variables]]\n",
      "    teff:  39999 (fixed)\n",
      "    logg:  9.373605 (fixed)\n",
      "    RV:    2.73547048 +/- 22.8862143 (836.65%) (init = 18.68251)\n",
      "    res:   1 (fixed)\n",
      "rv init: 18.682507531722468\n",
      "0.0\n",
      "starting...\n"
     ]
    },
    {
     "name": "stderr",
     "output_type": "stream",
     "text": [
      " 47%|███████████████████████████████▉                                    | 94/200 [10:21:22<6:36:07, 224.23s/it]"
     ]
    },
    {
     "name": "stdout",
     "output_type": "stream",
     "text": [
      "The chain is shorter than 50 times the integrated autocorrelation time for 1 parameter(s). Use this estimate with caution and run a longer chain!\n",
      "N/50 = 20;\n",
      "tau: [21.33064357]\n",
      "final params:\n",
      "[[Fit Statistics]]\n",
      "    # fitting method   = emcee\n",
      "    # function evals   = 50000\n",
      "    # data points      = 629\n",
      "    # variables        = 1\n",
      "    chi-square         = 803.2898\n",
      "    reduced chi-square = 1.27912388\n",
      "    Akaike info crit   = 155.843514\n",
      "    Bayesian info crit = 160.287645\n",
      "[[Variables]]\n",
      "    teff:  23491 (fixed)\n",
      "    logg:  9.41545 (fixed)\n",
      "    RV:    102.506574 +/- 23.9132216 (23.33%) (init = 112.2344)\n",
      "    res:   1 (fixed)\n",
      "rv init: 112.2343908623447\n",
      "101.0\n",
      "starting...\n"
     ]
    },
    {
     "name": "stderr",
     "output_type": "stream",
     "text": [
      " 48%|████████████████████████████████▎                                   | 95/200 [10:25:07<6:32:54, 224.52s/it]"
     ]
    },
    {
     "name": "stdout",
     "output_type": "stream",
     "text": [
      "The chain is shorter than 50 times the integrated autocorrelation time for 1 parameter(s). Use this estimate with caution and run a longer chain!\n",
      "N/50 = 20;\n",
      "tau: [22.778625]\n",
      "final params:\n",
      "[[Fit Statistics]]\n",
      "    # fitting method   = emcee\n",
      "    # function evals   = 50000\n",
      "    # data points      = 629\n",
      "    # variables        = 1\n",
      "    chi-square         = 1291.5042\n",
      "    reduced chi-square = 2.05653527\n",
      "    Akaike info crit   = 454.522457\n",
      "    Bayesian info crit = 458.966588\n",
      "[[Variables]]\n",
      "    teff:  21490 (fixed)\n",
      "    logg:  9.1605 (fixed)\n",
      "    RV:    7.04737658 +/- 11.9537140 (169.62%) (init = 18.48477)\n",
      "    res:   1 (fixed)\n",
      "rv init: 18.484767393764564\n",
      "20.0\n",
      "starting...\n"
     ]
    },
    {
     "name": "stderr",
     "output_type": "stream",
     "text": [
      " 48%|████████████████████████████████▋                                   | 96/200 [10:28:46<6:26:40, 223.08s/it]"
     ]
    },
    {
     "name": "stdout",
     "output_type": "stream",
     "text": [
      "The chain is shorter than 50 times the integrated autocorrelation time for 1 parameter(s). Use this estimate with caution and run a longer chain!\n",
      "N/50 = 20;\n",
      "tau: [29.85180059]\n",
      "final params:\n",
      "[[Fit Statistics]]\n",
      "    # fitting method   = emcee\n",
      "    # function evals   = 50000\n",
      "    # data points      = 629\n",
      "    # variables        = 1\n",
      "    chi-square         = 505.92844\n",
      "    reduced chi-square = 0.80561853\n",
      "    Akaike info crit   = -134.955961\n",
      "    Bayesian info crit = -130.511830\n",
      "[[Variables]]\n",
      "    teff:  31721 (fixed)\n",
      "    logg:  7.692464 (fixed)\n",
      "    RV:    18.7893113 +/- 7.45060259 (39.65%) (init = 40.34957)\n",
      "    res:   1 (fixed)\n",
      "rv init: 40.34956777054059\n",
      "24.0\n",
      "starting...\n"
     ]
    },
    {
     "name": "stderr",
     "output_type": "stream",
     "text": [
      " 48%|████████████████████████████████▉                                   | 97/200 [10:32:33<6:24:46, 224.14s/it]"
     ]
    },
    {
     "name": "stdout",
     "output_type": "stream",
     "text": [
      "The chain is shorter than 50 times the integrated autocorrelation time for 1 parameter(s). Use this estimate with caution and run a longer chain!\n",
      "N/50 = 20;\n",
      "tau: [22.34722894]\n",
      "final params:\n",
      "[[Fit Statistics]]\n",
      "    # fitting method   = emcee\n",
      "    # function evals   = 50000\n",
      "    # data points      = 629\n",
      "    # variables        = 1\n",
      "    chi-square         = 783.6526\n",
      "    reduced chi-square = 1.24785444\n",
      "    Akaike info crit   = 140.275924\n",
      "    Bayesian info crit = 144.720056\n",
      "[[Variables]]\n",
      "    teff:  23049 (fixed)\n",
      "    logg:  9.009364 (fixed)\n",
      "    RV:    34.8553435 +/- 23.8558637 (68.44%) (init = 50.20226)\n",
      "    res:   1 (fixed)\n",
      "rv init: 50.202260760801444\n",
      "69.0\n",
      "starting...\n"
     ]
    },
    {
     "name": "stderr",
     "output_type": "stream",
     "text": [
      " 49%|█████████████████████████████████▎                                  | 98/200 [10:36:22<6:23:29, 225.59s/it]"
     ]
    },
    {
     "name": "stdout",
     "output_type": "stream",
     "text": [
      "The chain is shorter than 50 times the integrated autocorrelation time for 1 parameter(s). Use this estimate with caution and run a longer chain!\n",
      "N/50 = 20;\n",
      "tau: [23.2104156]\n",
      "final params:\n",
      "[[Fit Statistics]]\n",
      "    # fitting method   = emcee\n",
      "    # function evals   = 50000\n",
      "    # data points      = 629\n",
      "    # variables        = 1\n",
      "    chi-square         = 926.3399\n",
      "    reduced chi-square = 1.47506354\n",
      "    Akaike info crit   = 245.492176\n",
      "    Bayesian info crit = 249.936308\n",
      "[[Variables]]\n",
      "    teff:  21248 (fixed)\n",
      "    logg:  8.615456 (fixed)\n",
      "    RV:    10.1426423 +/- 13.8833525 (136.88%) (init = 18.11598)\n",
      "    res:   1 (fixed)\n",
      "rv init: 18.115984633450516\n",
      "14.0\n",
      "starting...\n"
     ]
    },
    {
     "name": "stderr",
     "output_type": "stream",
     "text": [
      " 50%|█████████████████████████████████▋                                  | 99/200 [10:40:00<6:15:54, 223.31s/it]"
     ]
    },
    {
     "name": "stdout",
     "output_type": "stream",
     "text": [
      "final params:\n",
      "[[Fit Statistics]]\n",
      "    # fitting method   = emcee\n",
      "    # function evals   = 50000\n",
      "    # data points      = 629\n",
      "    # variables        = 1\n",
      "    chi-square         = 676.60205\n",
      "    reduced chi-square = 1.07739180\n",
      "    Akaike info crit   = 47.8868273\n",
      "    Bayesian info crit = 52.3309585\n",
      "[[Variables]]\n",
      "    teff:  17958 (fixed)\n",
      "    logg:  8.763269 (fixed)\n",
      "    RV:   -17.7891237 +/- 19.9024573 (111.88%) (init = -22.98791)\n",
      "    res:   1 (fixed)\n",
      "rv init: -22.98791208579062\n",
      "-16.0\n",
      "starting...\n"
     ]
    },
    {
     "name": "stderr",
     "output_type": "stream",
     "text": [
      " 50%|█████████████████████████████████▌                                 | 100/200 [10:43:18<5:59:43, 215.83s/it]"
     ]
    },
    {
     "name": "stdout",
     "output_type": "stream",
     "text": [
      "The chain is shorter than 50 times the integrated autocorrelation time for 1 parameter(s). Use this estimate with caution and run a longer chain!\n",
      "N/50 = 20;\n",
      "tau: [21.16913193]\n",
      "final params:\n",
      "[[Fit Statistics]]\n",
      "    # fitting method   = emcee\n",
      "    # function evals   = 50000\n",
      "    # data points      = 629\n",
      "    # variables        = 1\n",
      "    chi-square         = 496.1664\n",
      "    reduced chi-square = 0.79007391\n",
      "    Akaike info crit   = -147.211303\n",
      "    Bayesian info crit = -142.767172\n",
      "[[Variables]]\n",
      "    teff:  29308 (fixed)\n",
      "    logg:  7.89286 (fixed)\n",
      "    RV:    44.1180530 +/- 21.3634309 (48.42%) (init = 75.29734)\n",
      "    res:   1 (fixed)\n",
      "rv init: 75.29734041228882\n",
      "65.0\n",
      "starting...\n"
     ]
    },
    {
     "name": "stderr",
     "output_type": "stream",
     "text": [
      " 50%|█████████████████████████████████▊                                 | 101/200 [10:46:39<5:48:25, 211.17s/it]"
     ]
    },
    {
     "name": "stdout",
     "output_type": "stream",
     "text": [
      "The chain is shorter than 50 times the integrated autocorrelation time for 1 parameter(s). Use this estimate with caution and run a longer chain!\n",
      "N/50 = 20;\n",
      "tau: [24.95611665]\n",
      "final params:\n",
      "[[Fit Statistics]]\n",
      "    # fitting method   = emcee\n",
      "    # function evals   = 50000\n",
      "    # data points      = 629\n",
      "    # variables        = 1\n",
      "    chi-square         = 852.71155\n",
      "    reduced chi-square = 1.35782094\n",
      "    Akaike info crit   = 193.398455\n",
      "    Bayesian info crit = 197.842586\n",
      "[[Variables]]\n",
      "    teff:  33074 (fixed)\n",
      "    logg:  9.367602 (fixed)\n",
      "    RV:    19.0316743 +/- 34.7725381 (182.71%) (init = 53.23622)\n",
      "    res:   1 (fixed)\n",
      "rv init: 53.23621557745335\n",
      "12.0\n",
      "starting...\n"
     ]
    },
    {
     "name": "stderr",
     "output_type": "stream",
     "text": [
      " 51%|██████████████████████████████████▏                                | 102/200 [10:50:02<5:41:13, 208.91s/it]"
     ]
    },
    {
     "name": "stdout",
     "output_type": "stream",
     "text": [
      "The chain is shorter than 50 times the integrated autocorrelation time for 1 parameter(s). Use this estimate with caution and run a longer chain!\n",
      "N/50 = 20;\n",
      "tau: [20.43078775]\n",
      "final params:\n",
      "[[Fit Statistics]]\n",
      "    # fitting method   = emcee\n",
      "    # function evals   = 50000\n",
      "    # data points      = 629\n",
      "    # variables        = 1\n",
      "    chi-square         = 1009.5622\n",
      "    reduced chi-square = 1.60758311\n",
      "    Akaike info crit   = 299.605556\n",
      "    Bayesian info crit = 304.049687\n",
      "[[Variables]]\n",
      "    teff:  18461 (fixed)\n",
      "    logg:  8.889577 (fixed)\n",
      "    RV:   -2.15880986 +/- 11.8423091 (548.56%) (init = -0.5436164)\n",
      "    res:   1 (fixed)\n",
      "rv init: -0.5436163859272894\n",
      "15.0\n",
      "starting...\n"
     ]
    },
    {
     "name": "stderr",
     "output_type": "stream",
     "text": [
      " 52%|██████████████████████████████████▌                                | 103/200 [10:53:34<5:38:53, 209.62s/it]"
     ]
    },
    {
     "name": "stdout",
     "output_type": "stream",
     "text": [
      "The chain is shorter than 50 times the integrated autocorrelation time for 1 parameter(s). Use this estimate with caution and run a longer chain!\n",
      "N/50 = 20;\n",
      "tau: [21.75913921]\n",
      "final params:\n",
      "[[Fit Statistics]]\n",
      "    # fitting method   = emcee\n",
      "    # function evals   = 50000\n",
      "    # data points      = 629\n",
      "    # variables        = 1\n",
      "    chi-square         = 681.82935\n",
      "    reduced chi-square = 1.08571552\n",
      "    Akaike info crit   = 52.7276823\n",
      "    Bayesian info crit = 57.1718136\n",
      "[[Variables]]\n",
      "    teff:  20639 (fixed)\n",
      "    logg:  8.608927 (fixed)\n",
      "    RV:    39.4173499 +/- 15.0484689 (38.18%) (init = 48.33276)\n",
      "    res:   1 (fixed)\n",
      "rv init: 48.33276141332032\n",
      "44.0\n",
      "starting...\n"
     ]
    },
    {
     "name": "stderr",
     "output_type": "stream",
     "text": [
      " 52%|█████████████████████████████████▎                              | 104/200 [19:24:28<249:08:52, 9343.05s/it]"
     ]
    },
    {
     "name": "stdout",
     "output_type": "stream",
     "text": [
      "The chain is shorter than 50 times the integrated autocorrelation time for 1 parameter(s). Use this estimate with caution and run a longer chain!\n",
      "N/50 = 20;\n",
      "tau: [21.71734206]\n",
      "final params:\n",
      "[[Fit Statistics]]\n",
      "    # fitting method   = emcee\n",
      "    # function evals   = 50000\n",
      "    # data points      = 629\n",
      "    # variables        = 1\n",
      "    chi-square         = 765.50415\n",
      "    reduced chi-square = 1.21895565\n",
      "    Akaike info crit   = 125.537726\n",
      "    Bayesian info crit = 129.981857\n",
      "[[Variables]]\n",
      "    teff:  19900 (fixed)\n",
      "    logg:  8.711031 (fixed)\n",
      "    RV:   -16.4246294 +/- 13.3679618 (81.39%) (init = -22.70833)\n",
      "    res:   1 (fixed)\n",
      "rv init: -22.708326972830864\n",
      "-13.0\n",
      "starting...\n"
     ]
    },
    {
     "name": "stderr",
     "output_type": "stream",
     "text": [
      " 52%|█████████████████████████████████▌                              | 105/200 [19:27:40<174:06:32, 6597.81s/it]"
     ]
    },
    {
     "name": "stdout",
     "output_type": "stream",
     "text": [
      "The chain is shorter than 50 times the integrated autocorrelation time for 1 parameter(s). Use this estimate with caution and run a longer chain!\n",
      "N/50 = 20;\n",
      "tau: [50.47506529]\n",
      "final params:\n",
      "[[Fit Statistics]]\n",
      "    # fitting method   = emcee\n",
      "    # function evals   = 50000\n",
      "    # data points      = 629\n",
      "    # variables        = 1\n",
      "    chi-square         = 1051.1846\n",
      "    reduced chi-square = 1.67386078\n",
      "    Akaike info crit   = 325.017737\n",
      "    Bayesian info crit = 329.461869\n",
      "[[Variables]]\n",
      "    teff:  39999 (fixed)\n",
      "    logg:  5.286326 (fixed)\n",
      "    RV:   -13.2788047 +/- 8.44398308 (63.59%) (init = 482.3917)\n",
      "    res:   1 (fixed)\n",
      "rv init: 482.39174204087004\n",
      "11.0\n",
      "starting...\n"
     ]
    },
    {
     "name": "stderr",
     "output_type": "stream",
     "text": [
      " 53%|█████████████████████████████████▉                              | 106/200 [19:30:37<121:58:34, 4671.43s/it]"
     ]
    },
    {
     "name": "stdout",
     "output_type": "stream",
     "text": [
      "The chain is shorter than 50 times the integrated autocorrelation time for 1 parameter(s). Use this estimate with caution and run a longer chain!\n",
      "N/50 = 20;\n",
      "tau: [31.3596655]\n",
      "final params:\n",
      "[[Fit Statistics]]\n",
      "    # fitting method   = emcee\n",
      "    # function evals   = 50000\n",
      "    # data points      = 629\n",
      "    # variables        = 1\n",
      "    chi-square         = 460.81235\n",
      "    reduced chi-square = 0.73377762\n",
      "    Akaike info crit   = -193.707281\n",
      "    Bayesian info crit = -189.263150\n",
      "[[Variables]]\n",
      "    teff:  37274 (fixed)\n",
      "    logg:  7.805614 (fixed)\n",
      "    RV:    44.3034846 +/- 21.7971234 (49.20%) (init = 100.8276)\n",
      "    res:   1 (fixed)\n",
      "rv init: 100.82761103225383\n",
      "31.0\n",
      "starting...\n"
     ]
    },
    {
     "name": "stderr",
     "output_type": "stream",
     "text": [
      " 54%|██████████████████████████████████▊                              | 107/200 [19:33:48<85:57:30, 3327.43s/it]"
     ]
    },
    {
     "name": "stdout",
     "output_type": "stream",
     "text": [
      "The chain is shorter than 50 times the integrated autocorrelation time for 1 parameter(s). Use this estimate with caution and run a longer chain!\n",
      "N/50 = 20;\n",
      "tau: [20.95033178]\n",
      "final params:\n",
      "[[Fit Statistics]]\n",
      "    # fitting method   = emcee\n",
      "    # function evals   = 50000\n",
      "    # data points      = 629\n",
      "    # variables        = 1\n",
      "    chi-square         = 753.3009\n",
      "    reduced chi-square = 1.19952373\n",
      "    Akaike info crit   = 115.429770\n",
      "    Bayesian info crit = 119.873901\n",
      "[[Variables]]\n",
      "    teff:  33187 (fixed)\n",
      "    logg:  9.244593 (fixed)\n",
      "    RV:   -51.8035925 +/- 26.6656068 (51.47%) (init = -47.15111)\n",
      "    res:   1 (fixed)\n",
      "rv init: -47.151113558788985\n",
      "-50.0\n",
      "starting...\n"
     ]
    },
    {
     "name": "stderr",
     "output_type": "stream",
     "text": [
      " 54%|███████████████████████████████████                              | 108/200 [19:36:49<60:54:48, 2383.57s/it]"
     ]
    },
    {
     "name": "stdout",
     "output_type": "stream",
     "text": [
      "The chain is shorter than 50 times the integrated autocorrelation time for 1 parameter(s). Use this estimate with caution and run a longer chain!\n",
      "N/50 = 20;\n",
      "tau: [23.89443522]\n",
      "final params:\n",
      "[[Fit Statistics]]\n",
      "    # fitting method   = emcee\n",
      "    # function evals   = 50000\n",
      "    # data points      = 629\n",
      "    # variables        = 1\n",
      "    chi-square         = 390.57968\n",
      "    reduced chi-square = 0.62194217\n",
      "    Akaike info crit   = -297.718034\n",
      "    Bayesian info crit = -293.273902\n",
      "[[Variables]]\n",
      "    teff:  31492 (fixed)\n",
      "    logg:  8.165495 (fixed)\n",
      "    RV:    41.0246754 +/- 9.09021683 (22.16%) (init = 60.6888)\n",
      "    res:   1 (fixed)\n",
      "rv init: 60.68880205018348\n",
      "42.0\n",
      "starting...\n"
     ]
    },
    {
     "name": "stderr",
     "output_type": "stream",
     "text": [
      " 55%|███████████████████████████████████▍                             | 109/200 [19:40:15<43:43:51, 1730.02s/it]"
     ]
    },
    {
     "name": "stdout",
     "output_type": "stream",
     "text": [
      "The chain is shorter than 50 times the integrated autocorrelation time for 1 parameter(s). Use this estimate with caution and run a longer chain!\n",
      "N/50 = 20;\n",
      "tau: [55.29915828]\n",
      "final params:\n",
      "[[Fit Statistics]]\n",
      "    # fitting method   = emcee\n",
      "    # function evals   = 50000\n",
      "    # data points      = 629\n",
      "    # variables        = 1\n",
      "    chi-square         = 736.7212\n",
      "    reduced chi-square = 1.17312292\n",
      "    Akaike info crit   = 101.431227\n",
      "    Bayesian info crit = 105.875358\n",
      "[[Variables]]\n",
      "    teff:  5667 (fixed)\n",
      "    logg:  9.489998 (fixed)\n",
      "    RV:    90.0995808 +/- 149.850534 (166.32%) (init = 2500)\n",
      "    res:   1 (fixed)\n",
      "rv init: 4667.138380924497\n",
      "-5.0\n",
      "starting...\n"
     ]
    },
    {
     "name": "stderr",
     "output_type": "stream",
     "text": [
      " 55%|███████████████████████████████████▊                             | 110/200 [19:43:43<31:50:16, 1273.52s/it]"
     ]
    },
    {
     "name": "stdout",
     "output_type": "stream",
     "text": [
      "The chain is shorter than 50 times the integrated autocorrelation time for 1 parameter(s). Use this estimate with caution and run a longer chain!\n",
      "N/50 = 20;\n",
      "tau: [20.26622644]\n",
      "final params:\n",
      "[[Fit Statistics]]\n",
      "    # fitting method   = emcee\n",
      "    # function evals   = 50000\n",
      "    # data points      = 629\n",
      "    # variables        = 1\n",
      "    chi-square         = 1143.835\n",
      "    reduced chi-square = 1.82139325\n",
      "    Akaike info crit   = 378.148693\n",
      "    Bayesian info crit = 382.592824\n",
      "[[Variables]]\n",
      "    teff:  22770 (fixed)\n",
      "    logg:  8.775814 (fixed)\n",
      "    RV:   -45.7508852 +/- 10.5042754 (22.96%) (init = -49.54038)\n",
      "    res:   1 (fixed)\n",
      "rv init: -49.540378435831684\n",
      "-42.0\n",
      "starting...\n"
     ]
    },
    {
     "name": "stderr",
     "output_type": "stream",
     "text": [
      " 56%|████████████████████████████████████▋                             | 111/200 [19:47:08<23:33:33, 952.96s/it]"
     ]
    },
    {
     "name": "stdout",
     "output_type": "stream",
     "text": [
      "The chain is shorter than 50 times the integrated autocorrelation time for 1 parameter(s). Use this estimate with caution and run a longer chain!\n",
      "N/50 = 20;\n",
      "tau: [21.50023407]\n",
      "final params:\n",
      "[[Fit Statistics]]\n",
      "    # fitting method   = emcee\n",
      "    # function evals   = 50000\n",
      "    # data points      = 629\n",
      "    # variables        = 1\n",
      "    chi-square         = 587.3989\n",
      "    reduced chi-square = 0.93534861\n",
      "    Akaike info crit   = -41.0406250\n",
      "    Bayesian info crit = -36.5964937\n",
      "[[Variables]]\n",
      "    teff:  12890 (fixed)\n",
      "    logg:  7.930733 (fixed)\n",
      "    RV:    65.8704103 +/- 5.33486822 (8.10%) (init = 63.66378)\n",
      "    res:   1 (fixed)\n",
      "rv init: 63.6637819076134\n",
      "69.0\n",
      "starting...\n"
     ]
    },
    {
     "name": "stderr",
     "output_type": "stream",
     "text": [
      " 56%|████████████████████████████████████▉                             | 112/200 [19:50:25<17:45:10, 726.26s/it]"
     ]
    },
    {
     "name": "stdout",
     "output_type": "stream",
     "text": [
      "The chain is shorter than 50 times the integrated autocorrelation time for 1 parameter(s). Use this estimate with caution and run a longer chain!\n",
      "N/50 = 20;\n",
      "tau: [21.64723919]\n",
      "final params:\n",
      "[[Fit Statistics]]\n",
      "    # fitting method   = emcee\n",
      "    # function evals   = 50000\n",
      "    # data points      = 629\n",
      "    # variables        = 1\n",
      "    chi-square         = 842.0087\n",
      "    reduced chi-square = 1.34077823\n",
      "    Akaike info crit   = 185.453589\n",
      "    Bayesian info crit = 189.897720\n",
      "[[Variables]]\n",
      "    teff:  20532 (fixed)\n",
      "    logg:  9.085905 (fixed)\n",
      "    RV:    69.2652745 +/- 16.4850672 (23.80%) (init = 78.69557)\n",
      "    res:   1 (fixed)\n",
      "rv init: 78.69557316338597\n",
      "62.0\n",
      "starting...\n"
     ]
    },
    {
     "name": "stderr",
     "output_type": "stream",
     "text": [
      " 56%|█████████████████████████████████████▎                            | 113/200 [19:53:46<13:44:38, 568.72s/it]"
     ]
    },
    {
     "name": "stdout",
     "output_type": "stream",
     "text": [
      "The chain is shorter than 50 times the integrated autocorrelation time for 1 parameter(s). Use this estimate with caution and run a longer chain!\n",
      "N/50 = 20;\n",
      "tau: [23.23594863]\n",
      "final params:\n",
      "[[Fit Statistics]]\n",
      "    # fitting method   = emcee\n",
      "    # function evals   = 50000\n",
      "    # data points      = 629\n",
      "    # variables        = 1\n",
      "    chi-square         = 709.5186\n",
      "    reduced chi-square = 1.12980671\n",
      "    Akaike info crit   = 77.7664953\n",
      "    Bayesian info crit = 82.2106265\n",
      "[[Variables]]\n",
      "    teff:  10423 (fixed)\n",
      "    logg:  8.750661 (fixed)\n",
      "    RV:    62.8926304 +/- 14.2885806 (22.72%) (init = 80.03174)\n",
      "    res:   1 (fixed)\n",
      "rv init: 80.03174493935495\n",
      "79.0\n",
      "starting...\n"
     ]
    },
    {
     "name": "stderr",
     "output_type": "stream",
     "text": [
      " 57%|█████████████████████████████████████▌                            | 114/200 [19:56:56<10:51:59, 454.88s/it]"
     ]
    },
    {
     "name": "stdout",
     "output_type": "stream",
     "text": [
      "The chain is shorter than 50 times the integrated autocorrelation time for 1 parameter(s). Use this estimate with caution and run a longer chain!\n",
      "N/50 = 20;\n",
      "tau: [24.9475837]\n",
      "final params:\n",
      "[[Fit Statistics]]\n",
      "    # fitting method   = emcee\n",
      "    # function evals   = 50000\n",
      "    # data points      = 629\n",
      "    # variables        = 1\n",
      "    chi-square         = 788.8468\n",
      "    reduced chi-square = 1.25612548\n",
      "    Akaike info crit   = 144.431312\n",
      "    Bayesian info crit = 148.875443\n",
      "[[Variables]]\n",
      "    teff:  23550 (fixed)\n",
      "    logg:  9.044162 (fixed)\n",
      "    RV:    37.2472312 +/- 17.1145183 (45.95%) (init = 56.88956)\n",
      "    res:   1 (fixed)\n",
      "rv init: 56.88956228216571\n",
      "37.0\n",
      "starting...\n"
     ]
    },
    {
     "name": "stderr",
     "output_type": "stream",
     "text": [
      " 57%|█████████████████████████████████████▍                           | 115/200 [21:59:05<59:26:00, 2517.19s/it]"
     ]
    },
    {
     "name": "stdout",
     "output_type": "stream",
     "text": [
      "The chain is shorter than 50 times the integrated autocorrelation time for 1 parameter(s). Use this estimate with caution and run a longer chain!\n",
      "N/50 = 20;\n",
      "tau: [24.34927132]\n",
      "final params:\n",
      "[[Fit Statistics]]\n",
      "    # fitting method   = emcee\n",
      "    # function evals   = 50000\n",
      "    # data points      = 629\n",
      "    # variables        = 1\n",
      "    chi-square         = 3235.9146\n",
      "    reduced chi-square = 5.15273018\n",
      "    Akaike info crit   = 1032.26150\n",
      "    Bayesian info crit = 1036.70563\n",
      "[[Variables]]\n",
      "    teff:  24660 (fixed)\n",
      "    logg:  9.489999 (fixed)\n",
      "    RV:    43.2613565 +/- 5.86943939 (13.57%) (init = 53.5036)\n",
      "    res:   1 (fixed)\n",
      "rv init: 53.50359758688261\n",
      "47.0\n",
      "starting...\n"
     ]
    },
    {
     "name": "stderr",
     "output_type": "stream",
     "text": [
      " 58%|█████████████████████████████████████▋                           | 116/200 [22:02:19<42:28:34, 1820.41s/it]"
     ]
    },
    {
     "name": "stdout",
     "output_type": "stream",
     "text": [
      "The chain is shorter than 50 times the integrated autocorrelation time for 1 parameter(s). Use this estimate with caution and run a longer chain!\n",
      "N/50 = 20;\n",
      "tau: [21.3979135]\n",
      "final params:\n",
      "[[Fit Statistics]]\n",
      "    # fitting method   = emcee\n",
      "    # function evals   = 50000\n",
      "    # data points      = 629\n",
      "    # variables        = 1\n",
      "    chi-square         = 1023.4604\n",
      "    reduced chi-square = 1.62971399\n",
      "    Akaike info crit   = 308.205657\n",
      "    Bayesian info crit = 312.649788\n",
      "[[Variables]]\n",
      "    teff:  19198 (fixed)\n",
      "    logg:  8.916436 (fixed)\n",
      "    RV:    33.7866346 +/- 8.46803668 (25.06%) (init = 31.2646)\n",
      "    res:   1 (fixed)\n",
      "rv init: 31.264602063717177\n",
      "50.0\n",
      "starting...\n"
     ]
    },
    {
     "name": "stderr",
     "output_type": "stream",
     "text": [
      " 58%|██████████████████████████████████████                           | 117/200 [22:05:27<30:40:44, 1330.66s/it]"
     ]
    },
    {
     "name": "stdout",
     "output_type": "stream",
     "text": [
      "The chain is shorter than 50 times the integrated autocorrelation time for 1 parameter(s). Use this estimate with caution and run a longer chain!\n",
      "N/50 = 20;\n",
      "tau: [21.03954828]\n",
      "final params:\n",
      "[[Fit Statistics]]\n",
      "    # fitting method   = emcee\n",
      "    # function evals   = 50000\n",
      "    # data points      = 629\n",
      "    # variables        = 1\n",
      "    chi-square         = 551.11584\n",
      "    reduced chi-square = 0.87757300\n",
      "    Akaike info crit   = -81.1451356\n",
      "    Bayesian info crit = -76.7010044\n",
      "[[Variables]]\n",
      "    teff:  15063 (fixed)\n",
      "    logg:  8.049841 (fixed)\n",
      "    RV:   -15.9360507 +/- 12.7602509 (80.07%) (init = -19.66115)\n",
      "    res:   1 (fixed)\n",
      "rv init: -19.661150880201415\n",
      "-8.0\n",
      "starting...\n"
     ]
    },
    {
     "name": "stderr",
     "output_type": "stream",
     "text": [
      " 59%|██████████████████████████████████████▉                           | 118/200 [22:08:25<22:25:55, 984.82s/it]"
     ]
    },
    {
     "name": "stdout",
     "output_type": "stream",
     "text": [
      "The chain is shorter than 50 times the integrated autocorrelation time for 1 parameter(s). Use this estimate with caution and run a longer chain!\n",
      "N/50 = 20;\n",
      "tau: [23.14800621]\n",
      "final params:\n",
      "[[Fit Statistics]]\n",
      "    # fitting method   = emcee\n",
      "    # function evals   = 50000\n",
      "    # data points      = 629\n",
      "    # variables        = 1\n",
      "    chi-square         = 900.8013\n",
      "    reduced chi-square = 1.43439693\n",
      "    Akaike info crit   = 227.907495\n",
      "    Bayesian info crit = 232.351626\n",
      "[[Variables]]\n",
      "    teff:  15898 (fixed)\n",
      "    logg:  8.23126 (fixed)\n",
      "    RV:    19.4478261 +/- 4.08957693 (21.03%) (init = 20.91372)\n",
      "    res:   1 (fixed)\n",
      "rv init: 20.91372342335559\n",
      "30.0\n",
      "starting...\n"
     ]
    },
    {
     "name": "stderr",
     "output_type": "stream",
     "text": [
      " 60%|███████████████████████████████████████▎                          | 119/200 [22:11:18<16:40:41, 741.26s/it]"
     ]
    },
    {
     "name": "stdout",
     "output_type": "stream",
     "text": [
      "The chain is shorter than 50 times the integrated autocorrelation time for 1 parameter(s). Use this estimate with caution and run a longer chain!\n",
      "N/50 = 20;\n",
      "tau: [25.41650243]\n",
      "final params:\n",
      "[[Fit Statistics]]\n",
      "    # fitting method   = emcee\n",
      "    # function evals   = 50000\n",
      "    # data points      = 629\n",
      "    # variables        = 1\n",
      "    chi-square         = 730.20374\n",
      "    reduced chi-square = 1.16274480\n",
      "    Akaike info crit   = 95.8419743\n",
      "    Bayesian info crit = 100.286106\n",
      "[[Variables]]\n",
      "    teff:  17169 (fixed)\n",
      "    logg:  8.660463 (fixed)\n",
      "    RV:    77.4029690 +/- 20.9828518 (27.11%) (init = 83.77721)\n",
      "    res:   1 (fixed)\n",
      "rv init: 83.77720599518383\n",
      "70.0\n",
      "starting...\n"
     ]
    },
    {
     "name": "stderr",
     "output_type": "stream",
     "text": [
      " 60%|███████████████████████████████████████▌                          | 120/200 [22:14:19<12:44:08, 573.10s/it]"
     ]
    },
    {
     "name": "stdout",
     "output_type": "stream",
     "text": [
      "The chain is shorter than 50 times the integrated autocorrelation time for 1 parameter(s). Use this estimate with caution and run a longer chain!\n",
      "N/50 = 20;\n",
      "tau: [23.38908754]\n",
      "final params:\n",
      "[[Fit Statistics]]\n",
      "    # fitting method   = emcee\n",
      "    # function evals   = 50000\n",
      "    # data points      = 629\n",
      "    # variables        = 1\n",
      "    chi-square         = 942.75214\n",
      "    reduced chi-square = 1.50119767\n",
      "    Akaike info crit   = 256.538779\n",
      "    Bayesian info crit = 260.982911\n",
      "[[Variables]]\n",
      "    teff:  28503 (fixed)\n",
      "    logg:  9.064434 (fixed)\n",
      "    RV:   -38.6332017 +/- 16.0206766 (41.47%) (init = -43.3236)\n",
      "    res:   1 (fixed)\n",
      "rv init: -43.32359730432508\n",
      "-26.0\n",
      "starting...\n"
     ]
    },
    {
     "name": "stderr",
     "output_type": "stream",
     "text": [
      " 60%|███████████████████████████████████████▉                          | 121/200 [22:17:51<10:12:07, 464.91s/it]"
     ]
    },
    {
     "name": "stdout",
     "output_type": "stream",
     "text": [
      "The chain is shorter than 50 times the integrated autocorrelation time for 1 parameter(s). Use this estimate with caution and run a longer chain!\n",
      "N/50 = 20;\n",
      "tau: [21.11639243]\n",
      "final params:\n",
      "[[Fit Statistics]]\n",
      "    # fitting method   = emcee\n",
      "    # function evals   = 50000\n",
      "    # data points      = 629\n",
      "    # variables        = 1\n",
      "    chi-square         = 721.34375\n",
      "    reduced chi-square = 1.14863654\n",
      "    Akaike info crit   = 88.1632727\n",
      "    Bayesian info crit = 92.6074040\n",
      "[[Variables]]\n",
      "    teff:  16711 (fixed)\n",
      "    logg:  8.501016 (fixed)\n",
      "    RV:    25.8535768 +/- 13.8024062 (53.39%) (init = 28.64975)\n",
      "    res:   1 (fixed)\n",
      "rv init: 28.649746916626988\n",
      "47.0\n",
      "starting...\n"
     ]
    },
    {
     "name": "stderr",
     "output_type": "stream",
     "text": [
      " 61%|████████████████████████████████████████▊                          | 122/200 [22:21:04<8:18:02, 383.11s/it]"
     ]
    },
    {
     "name": "stdout",
     "output_type": "stream",
     "text": [
      "The chain is shorter than 50 times the integrated autocorrelation time for 1 parameter(s). Use this estimate with caution and run a longer chain!\n",
      "N/50 = 20;\n",
      "tau: [23.66504469]\n",
      "final params:\n",
      "[[Fit Statistics]]\n",
      "    # fitting method   = emcee\n",
      "    # function evals   = 50000\n",
      "    # data points      = 629\n",
      "    # variables        = 1\n",
      "    chi-square         = 499.97882\n",
      "    reduced chi-square = 0.79614462\n",
      "    Akaike info crit   = -142.396711\n",
      "    Bayesian info crit = -137.952579\n",
      "[[Variables]]\n",
      "    teff:  13778 (fixed)\n",
      "    logg:  7.810669 (fixed)\n",
      "    RV:    16.9446914 +/- 15.7163145 (92.75%) (init = 19.91122)\n",
      "    res:   1 (fixed)\n",
      "rv init: 19.91121519167782\n",
      "38.0\n",
      "starting...\n"
     ]
    },
    {
     "name": "stderr",
     "output_type": "stream",
     "text": [
      " 62%|█████████████████████████████████████████▏                         | 123/200 [22:24:00<6:52:00, 321.04s/it]"
     ]
    },
    {
     "name": "stdout",
     "output_type": "stream",
     "text": [
      "The chain is shorter than 50 times the integrated autocorrelation time for 1 parameter(s). Use this estimate with caution and run a longer chain!\n",
      "N/50 = 20;\n",
      "tau: [24.57891659]\n",
      "final params:\n",
      "[[Fit Statistics]]\n",
      "    # fitting method   = emcee\n",
      "    # function evals   = 50000\n",
      "    # data points      = 629\n",
      "    # variables        = 1\n",
      "    chi-square         = 540.59314\n",
      "    reduced chi-square = 0.86081710\n",
      "    Akaike info crit   = -93.2710530\n",
      "    Bayesian info crit = -88.8269217\n",
      "[[Variables]]\n",
      "    teff:  13022 (fixed)\n",
      "    logg:  7.783901 (fixed)\n",
      "    RV:    53.8149468 +/- 9.83229680 (18.27%) (init = 42.84416)\n",
      "    res:   1 (fixed)\n",
      "rv init: 42.84416279571873\n",
      "61.0\n",
      "starting...\n"
     ]
    },
    {
     "name": "stderr",
     "output_type": "stream",
     "text": [
      " 62%|█████████████████████████████████████████▌                         | 124/200 [22:26:58<5:52:16, 278.11s/it]"
     ]
    },
    {
     "name": "stdout",
     "output_type": "stream",
     "text": [
      "The chain is shorter than 50 times the integrated autocorrelation time for 1 parameter(s). Use this estimate with caution and run a longer chain!\n",
      "N/50 = 20;\n",
      "tau: [20.38603716]\n",
      "final params:\n",
      "[[Fit Statistics]]\n",
      "    # fitting method   = emcee\n",
      "    # function evals   = 50000\n",
      "    # data points      = 629\n",
      "    # variables        = 1\n",
      "    chi-square         = 638.0398\n",
      "    reduced chi-square = 1.01598693\n",
      "    Akaike info crit   = 10.9754521\n",
      "    Bayesian info crit = 15.4195833\n",
      "[[Variables]]\n",
      "    teff:  16138 (fixed)\n",
      "    logg:  8.351789 (fixed)\n",
      "    RV:   -18.0725299 +/- 19.0029810 (105.15%) (init = -17.44068)\n",
      "    res:   1 (fixed)\n",
      "rv init: -17.440677166241013\n",
      "7.0\n",
      "starting...\n"
     ]
    },
    {
     "name": "stderr",
     "output_type": "stream",
     "text": [
      " 62%|█████████████████████████████████████████▉                         | 125/200 [22:29:58<5:10:59, 248.79s/it]"
     ]
    },
    {
     "name": "stdout",
     "output_type": "stream",
     "text": [
      "final params:\n",
      "[[Fit Statistics]]\n",
      "    # fitting method   = emcee\n",
      "    # function evals   = 50000\n",
      "    # data points      = 629\n",
      "    # variables        = 1\n",
      "    chi-square         = 683.2987\n",
      "    reduced chi-square = 1.08805526\n",
      "    Akaike info crit   = 54.0817355\n",
      "    Bayesian info crit = 58.5258668\n",
      "[[Variables]]\n",
      "    teff:  20066 (fixed)\n",
      "    logg:  8.999655 (fixed)\n",
      "    RV:    35.9678952 +/- 20.8782004 (58.05%) (init = 43.05264)\n",
      "    res:   1 (fixed)\n",
      "rv init: 43.05263516455342\n",
      "54.0\n",
      "starting...\n"
     ]
    },
    {
     "name": "stderr",
     "output_type": "stream",
     "text": [
      " 63%|██████████████████████████████████████████▏                        | 126/200 [22:32:57<4:41:11, 227.99s/it]"
     ]
    },
    {
     "name": "stdout",
     "output_type": "stream",
     "text": [
      "The chain is shorter than 50 times the integrated autocorrelation time for 1 parameter(s). Use this estimate with caution and run a longer chain!\n",
      "N/50 = 20;\n",
      "tau: [43.1498574]\n",
      "final params:\n",
      "[[Fit Statistics]]\n",
      "    # fitting method   = emcee\n",
      "    # function evals   = 50000\n",
      "    # data points      = 629\n",
      "    # variables        = 1\n",
      "    chi-square         = 759.4837\n",
      "    reduced chi-square = 1.20936895\n",
      "    Akaike info crit   = 120.571286\n",
      "    Bayesian info crit = 125.015417\n",
      "[[Variables]]\n",
      "    teff:  39999 (fixed)\n",
      "    logg:  9.359156 (fixed)\n",
      "    RV:   -79.3436597 +/- 45.7667113 (57.68%) (init = -344.4914)\n",
      "    res:   1 (fixed)\n",
      "rv init: -344.49143322770874\n",
      "-3.0\n",
      "starting...\n"
     ]
    },
    {
     "name": "stderr",
     "output_type": "stream",
     "text": [
      " 64%|██████████████████████████████████████████▌                        | 127/200 [22:36:00<4:20:37, 214.21s/it]"
     ]
    },
    {
     "name": "stdout",
     "output_type": "stream",
     "text": [
      "The chain is shorter than 50 times the integrated autocorrelation time for 1 parameter(s). Use this estimate with caution and run a longer chain!\n",
      "N/50 = 20;\n",
      "tau: [33.62249577]\n",
      "final params:\n",
      "[[Fit Statistics]]\n",
      "    # fitting method   = emcee\n",
      "    # function evals   = 50000\n",
      "    # data points      = 629\n",
      "    # variables        = 1\n",
      "    chi-square         = 574.95264\n",
      "    reduced chi-square = 0.91552968\n",
      "    Akaike info crit   = -54.5116182\n",
      "    Bayesian info crit = -50.0674870\n",
      "[[Variables]]\n",
      "    teff:  34018 (fixed)\n",
      "    logg:  8.612008 (fixed)\n",
      "    RV:    109.109664 +/- 32.4420010 (29.73%) (init = 202.5067)\n",
      "    res:   1 (fixed)\n",
      "rv init: 202.50669250353795\n",
      "76.0\n",
      "starting...\n"
     ]
    },
    {
     "name": "stderr",
     "output_type": "stream",
     "text": [
      " 64%|██████████████████████████████████████████▏                       | 128/200 [23:08:48<14:48:33, 740.47s/it]"
     ]
    },
    {
     "name": "stdout",
     "output_type": "stream",
     "text": [
      "The chain is shorter than 50 times the integrated autocorrelation time for 1 parameter(s). Use this estimate with caution and run a longer chain!\n",
      "N/50 = 20;\n",
      "tau: [23.09850872]\n",
      "final params:\n",
      "[[Fit Statistics]]\n",
      "    # fitting method   = emcee\n",
      "    # function evals   = 50000\n",
      "    # data points      = 629\n",
      "    # variables        = 1\n",
      "    chi-square         = 995.7964\n",
      "    reduced chi-square = 1.58566304\n",
      "    Akaike info crit   = 290.969864\n",
      "    Bayesian info crit = 295.413996\n",
      "[[Variables]]\n",
      "    teff:  23759 (fixed)\n",
      "    logg:  9.122644 (fixed)\n",
      "    RV:   -57.4048098 +/- 15.4836422 (26.97%) (init = -57.37296)\n",
      "    res:   1 (fixed)\n",
      "rv init: -57.372964654444864\n",
      "-48.0\n",
      "starting...\n"
     ]
    },
    {
     "name": "stderr",
     "output_type": "stream",
     "text": [
      " 64%|██████████████████████████████████████████▌                       | 129/200 [23:11:58<11:20:56, 575.45s/it]"
     ]
    },
    {
     "name": "stdout",
     "output_type": "stream",
     "text": [
      "The chain is shorter than 50 times the integrated autocorrelation time for 1 parameter(s). Use this estimate with caution and run a longer chain!\n",
      "N/50 = 20;\n",
      "tau: [40.54663154]\n",
      "final params:\n",
      "[[Fit Statistics]]\n",
      "    # fitting method   = emcee\n",
      "    # function evals   = 50000\n",
      "    # data points      = 629\n",
      "    # variables        = 1\n",
      "    chi-square         = 990.72504\n",
      "    reduced chi-square = 1.57758764\n",
      "    Akaike info crit   = 287.758335\n",
      "    Bayesian info crit = 292.202466\n",
      "[[Variables]]\n",
      "    teff:  39999 (fixed)\n",
      "    logg:  8.356928 (fixed)\n",
      "    RV:    140.795779 +/- 41.9808772 (29.82%) (init = 668.891)\n",
      "    res:   1 (fixed)\n",
      "rv init: 668.8909684225239\n",
      "114.0\n",
      "starting...\n"
     ]
    },
    {
     "name": "stderr",
     "output_type": "stream",
     "text": [
      " 65%|███████████████████████████████████████████▌                       | 130/200 [23:15:30<9:03:51, 466.16s/it]"
     ]
    },
    {
     "name": "stdout",
     "output_type": "stream",
     "text": [
      "The chain is shorter than 50 times the integrated autocorrelation time for 1 parameter(s). Use this estimate with caution and run a longer chain!\n",
      "N/50 = 20;\n",
      "tau: [22.07115092]\n",
      "final params:\n",
      "[[Fit Statistics]]\n",
      "    # fitting method   = emcee\n",
      "    # function evals   = 50000\n",
      "    # data points      = 629\n",
      "    # variables        = 1\n",
      "    chi-square         = 978.6327\n",
      "    reduced chi-square = 1.55833231\n",
      "    Akaike info crit   = 280.033805\n",
      "    Bayesian info crit = 284.477936\n",
      "[[Variables]]\n",
      "    teff:  9947 (fixed)\n",
      "    logg:  8.643465 (fixed)\n",
      "    RV:   -29.7682899 +/- 4.46347506 (14.99%) (init = -28.06111)\n",
      "    res:   1 (fixed)\n",
      "rv init: -28.061107539614564\n",
      "18.0\n",
      "starting...\n"
     ]
    },
    {
     "name": "stderr",
     "output_type": "stream",
     "text": [
      " 66%|███████████████████████████████████████████▉                       | 131/200 [23:18:48<7:23:34, 385.71s/it]"
     ]
    },
    {
     "name": "stdout",
     "output_type": "stream",
     "text": [
      "The chain is shorter than 50 times the integrated autocorrelation time for 1 parameter(s). Use this estimate with caution and run a longer chain!\n",
      "N/50 = 20;\n",
      "tau: [20.54923239]\n",
      "final params:\n",
      "[[Fit Statistics]]\n",
      "    # fitting method   = emcee\n",
      "    # function evals   = 50000\n",
      "    # data points      = 629\n",
      "    # variables        = 1\n",
      "    chi-square         = 769.63416\n",
      "    reduced chi-square = 1.22553209\n",
      "    Akaike info crit   = 128.922150\n",
      "    Bayesian info crit = 133.366281\n",
      "[[Variables]]\n",
      "    teff:  29433 (fixed)\n",
      "    logg:  8.737858 (fixed)\n",
      "    RV:   -55.4975973 +/- 30.2624365 (54.53%) (init = -55.67598)\n",
      "    res:   1 (fixed)\n",
      "rv init: -55.67597559107183\n",
      "-38.0\n",
      "starting...\n"
     ]
    },
    {
     "name": "stderr",
     "output_type": "stream",
     "text": [
      " 66%|████████████████████████████████████████████▏                      | 132/200 [23:22:07<6:13:51, 329.88s/it]"
     ]
    },
    {
     "name": "stdout",
     "output_type": "stream",
     "text": [
      "The chain is shorter than 50 times the integrated autocorrelation time for 1 parameter(s). Use this estimate with caution and run a longer chain!\n",
      "N/50 = 20;\n",
      "tau: [22.63204611]\n",
      "final params:\n",
      "[[Fit Statistics]]\n",
      "    # fitting method   = emcee\n",
      "    # function evals   = 50000\n",
      "    # data points      = 629\n",
      "    # variables        = 1\n",
      "    chi-square         = 602.084\n",
      "    reduced chi-square = 0.95873246\n",
      "    Akaike info crit   = -25.5088824\n",
      "    Bayesian info crit = -21.0647511\n",
      "[[Variables]]\n",
      "    teff:  17132 (fixed)\n",
      "    logg:  8.084102 (fixed)\n",
      "    RV:   -45.2167136 +/- 19.5012955 (43.13%) (init = -52.38932)\n",
      "    res:   1 (fixed)\n",
      "rv init: -52.3893164092864\n",
      "-50.0\n",
      "starting...\n"
     ]
    },
    {
     "name": "stderr",
     "output_type": "stream",
     "text": [
      " 66%|████████████████████████████████████████████▌                      | 133/200 [23:25:36<5:27:51, 293.61s/it]"
     ]
    },
    {
     "name": "stdout",
     "output_type": "stream",
     "text": [
      "The chain is shorter than 50 times the integrated autocorrelation time for 1 parameter(s). Use this estimate with caution and run a longer chain!\n",
      "N/50 = 20;\n",
      "tau: [21.77057666]\n",
      "final params:\n",
      "[[Fit Statistics]]\n",
      "    # fitting method   = emcee\n",
      "    # function evals   = 50000\n",
      "    # data points      = 629\n",
      "    # variables        = 1\n",
      "    chi-square         = 1382.7891\n",
      "    reduced chi-square = 2.20189341\n",
      "    Akaike info crit   = 497.479995\n",
      "    Bayesian info crit = 501.924126\n",
      "[[Variables]]\n",
      "    teff:  19562 (fixed)\n",
      "    logg:  8.950307 (fixed)\n",
      "    RV:    31.0600425 +/- 6.16220364 (19.84%) (init = 32.65379)\n",
      "    res:   1 (fixed)\n",
      "rv init: 32.65378954066727\n",
      "38.0\n",
      "starting...\n"
     ]
    },
    {
     "name": "stderr",
     "output_type": "stream",
     "text": [
      " 67%|████████████████████████████████████████████▉                      | 134/200 [23:28:36<4:45:23, 259.45s/it]"
     ]
    },
    {
     "name": "stdout",
     "output_type": "stream",
     "text": [
      "The chain is shorter than 50 times the integrated autocorrelation time for 1 parameter(s). Use this estimate with caution and run a longer chain!\n",
      "N/50 = 20;\n",
      "tau: [22.14221346]\n",
      "final params:\n",
      "[[Fit Statistics]]\n",
      "    # fitting method   = emcee\n",
      "    # function evals   = 50000\n",
      "    # data points      = 629\n",
      "    # variables        = 1\n",
      "    chi-square         = 666.9419\n",
      "    reduced chi-square = 1.06200939\n",
      "    Akaike info crit   = 38.8415809\n",
      "    Bayesian info crit = 43.2857122\n",
      "[[Variables]]\n",
      "    teff:  16004 (fixed)\n",
      "    logg:  8.291878 (fixed)\n",
      "    RV:    34.2188175 +/- 17.7300030 (51.81%) (init = 37.63542)\n",
      "    res:   1 (fixed)\n",
      "rv init: 37.63541591089276\n",
      "51.0\n",
      "starting...\n"
     ]
    },
    {
     "name": "stderr",
     "output_type": "stream",
     "text": [
      " 68%|█████████████████████████████████████████████▏                     | 135/200 [23:31:36<4:15:21, 235.71s/it]"
     ]
    },
    {
     "name": "stdout",
     "output_type": "stream",
     "text": [
      "The chain is shorter than 50 times the integrated autocorrelation time for 1 parameter(s). Use this estimate with caution and run a longer chain!\n",
      "N/50 = 20;\n",
      "tau: [21.42787319]\n",
      "final params:\n",
      "[[Fit Statistics]]\n",
      "    # fitting method   = emcee\n",
      "    # function evals   = 50000\n",
      "    # data points      = 629\n",
      "    # variables        = 1\n",
      "    chi-square         = 607.05334\n",
      "    reduced chi-square = 0.96664545\n",
      "    Akaike info crit   = -20.3386752\n",
      "    Bayesian info crit = -15.8945439\n",
      "[[Variables]]\n",
      "    teff:  17032 (fixed)\n",
      "    logg:  8.483088 (fixed)\n",
      "    RV:    11.9681610 +/- 9.35278054 (78.15%) (init = 21.59172)\n",
      "    res:   1 (fixed)\n",
      "rv init: 21.59171689987736\n",
      "17.0\n",
      "starting...\n"
     ]
    },
    {
     "name": "stderr",
     "output_type": "stream",
     "text": [
      " 68%|█████████████████████████████████████████████▌                     | 136/200 [23:34:35<3:53:14, 218.67s/it]"
     ]
    },
    {
     "name": "stdout",
     "output_type": "stream",
     "text": [
      "The chain is shorter than 50 times the integrated autocorrelation time for 1 parameter(s). Use this estimate with caution and run a longer chain!\n",
      "N/50 = 20;\n",
      "tau: [25.61853818]\n",
      "final params:\n",
      "[[Fit Statistics]]\n",
      "    # fitting method   = emcee\n",
      "    # function evals   = 50000\n",
      "    # data points      = 629\n",
      "    # variables        = 1\n",
      "    chi-square         = 581.7001\n",
      "    reduced chi-square = 0.92627400\n",
      "    Akaike info crit   = -47.1728800\n",
      "    Bayesian info crit = -42.7287488\n",
      "[[Variables]]\n",
      "    teff:  17084 (fixed)\n",
      "    logg:  8.452655 (fixed)\n",
      "    RV:    39.0147593 +/- 11.2290122 (28.78%) (init = 39.01269)\n",
      "    res:   1 (fixed)\n",
      "rv init: 39.01268767560123\n",
      "55.0\n",
      "starting...\n"
     ]
    },
    {
     "name": "stderr",
     "output_type": "stream",
     "text": [
      " 68%|█████████████████████████████████████████████▉                     | 137/200 [23:37:44<3:40:22, 209.87s/it]"
     ]
    },
    {
     "name": "stdout",
     "output_type": "stream",
     "text": [
      "The chain is shorter than 50 times the integrated autocorrelation time for 1 parameter(s). Use this estimate with caution and run a longer chain!\n",
      "N/50 = 20;\n",
      "tau: [22.16654897]\n",
      "final params:\n",
      "[[Fit Statistics]]\n",
      "    # fitting method   = emcee\n",
      "    # function evals   = 50000\n",
      "    # data points      = 629\n",
      "    # variables        = 1\n",
      "    chi-square         = 606.27625\n",
      "    reduced chi-square = 0.96540803\n",
      "    Akaike info crit   = -21.1443849\n",
      "    Bayesian info crit = -16.7002536\n",
      "[[Variables]]\n",
      "    teff:  15706 (fixed)\n",
      "    logg:  8.273902 (fixed)\n",
      "    RV:    60.1515383 +/- 12.8960498 (21.44%) (init = 43.62711)\n",
      "    res:   1 (fixed)\n",
      "rv init: 43.62710512595421\n",
      "68.0\n",
      "starting...\n"
     ]
    },
    {
     "name": "stderr",
     "output_type": "stream",
     "text": [
      " 69%|██████████████████████████████████████████████▏                    | 138/200 [23:40:42<3:26:44, 200.07s/it]"
     ]
    },
    {
     "name": "stdout",
     "output_type": "stream",
     "text": [
      "The chain is shorter than 50 times the integrated autocorrelation time for 1 parameter(s). Use this estimate with caution and run a longer chain!\n",
      "N/50 = 20;\n",
      "tau: [25.9199618]\n",
      "final params:\n",
      "[[Fit Statistics]]\n",
      "    # fitting method   = emcee\n",
      "    # function evals   = 50000\n",
      "    # data points      = 629\n",
      "    # variables        = 1\n",
      "    chi-square         = 652.2601\n",
      "    reduced chi-square = 1.03863069\n",
      "    Akaike info crit   = 24.8403155\n",
      "    Bayesian info crit = 29.2844467\n",
      "[[Variables]]\n",
      "    teff:  16574 (fixed)\n",
      "    logg:  8.434547 (fixed)\n",
      "    RV:    28.9230227 +/- 17.0227743 (58.86%) (init = 22.2355)\n",
      "    res:   1 (fixed)\n",
      "rv init: 22.23549699915252\n",
      "49.0\n",
      "starting...\n"
     ]
    },
    {
     "name": "stderr",
     "output_type": "stream",
     "text": [
      " 70%|██████████████████████████████████████████████▌                    | 139/200 [23:43:48<3:19:08, 195.87s/it]"
     ]
    },
    {
     "name": "stdout",
     "output_type": "stream",
     "text": [
      "The chain is shorter than 50 times the integrated autocorrelation time for 1 parameter(s). Use this estimate with caution and run a longer chain!\n",
      "N/50 = 20;\n",
      "tau: [24.74129796]\n",
      "final params:\n",
      "[[Fit Statistics]]\n",
      "    # fitting method   = emcee\n",
      "    # function evals   = 50000\n",
      "    # data points      = 629\n",
      "    # variables        = 1\n",
      "    chi-square         = 1113.1323\n",
      "    reduced chi-square = 1.77250370\n",
      "    Akaike info crit   = 361.034444\n",
      "    Bayesian info crit = 365.478575\n",
      "[[Variables]]\n",
      "    teff:  25829 (fixed)\n",
      "    logg:  9.176041 (fixed)\n",
      "    RV:    40.3600257 +/- 15.6867922 (38.87%) (init = 61.82798)\n",
      "    res:   1 (fixed)\n",
      "rv init: 61.82797719686793\n",
      "54.0\n",
      "starting...\n"
     ]
    },
    {
     "name": "stderr",
     "output_type": "stream",
     "text": [
      " 70%|██████████████████████████████████████████████▉                    | 140/200 [23:47:00<3:14:48, 194.80s/it]"
     ]
    },
    {
     "name": "stdout",
     "output_type": "stream",
     "text": [
      "final params:\n",
      "[[Fit Statistics]]\n",
      "    # fitting method   = emcee\n",
      "    # function evals   = 50000\n",
      "    # data points      = 629\n",
      "    # variables        = 1\n",
      "    chi-square         = 1047.6896\n",
      "    reduced chi-square = 1.66829550\n",
      "    Akaike info crit   = 322.922944\n",
      "    Bayesian info crit = 327.367075\n",
      "[[Variables]]\n",
      "    teff:  22266 (fixed)\n",
      "    logg:  9.452529 (fixed)\n",
      "    RV:    22.7905684 +/- 15.1701593 (66.56%) (init = 25.52161)\n",
      "    res:   1 (fixed)\n",
      "rv init: 25.521606912009343\n",
      "45.0\n",
      "starting...\n"
     ]
    },
    {
     "name": "stderr",
     "output_type": "stream",
     "text": [
      " 70%|███████████████████████████████████████████████▏                   | 141/200 [23:49:58<3:06:35, 189.75s/it]"
     ]
    },
    {
     "name": "stdout",
     "output_type": "stream",
     "text": [
      "The chain is shorter than 50 times the integrated autocorrelation time for 1 parameter(s). Use this estimate with caution and run a longer chain!\n",
      "N/50 = 20;\n",
      "tau: [25.05880287]\n",
      "final params:\n",
      "[[Fit Statistics]]\n",
      "    # fitting method   = emcee\n",
      "    # function evals   = 50000\n",
      "    # data points      = 629\n",
      "    # variables        = 1\n",
      "    chi-square         = 1002.5229\n",
      "    reduced chi-square = 1.59637403\n",
      "    Akaike info crit   = 295.204408\n",
      "    Bayesian info crit = 299.648540\n",
      "[[Variables]]\n",
      "    teff:  33726 (fixed)\n",
      "    logg:  9.029805 (fixed)\n",
      "    RV:    31.0916300 +/- 28.0025877 (90.06%) (init = 56.81053)\n",
      "    res:   1 (fixed)\n",
      "rv init: 56.81053356593403\n",
      "26.0\n",
      "starting...\n"
     ]
    },
    {
     "name": "stderr",
     "output_type": "stream",
     "text": [
      " 71%|███████████████████████████████████████████████▌                   | 142/200 [23:53:19<3:06:49, 193.26s/it]"
     ]
    },
    {
     "name": "stdout",
     "output_type": "stream",
     "text": [
      "The chain is shorter than 50 times the integrated autocorrelation time for 1 parameter(s). Use this estimate with caution and run a longer chain!\n",
      "N/50 = 20;\n",
      "tau: [21.72342228]\n",
      "final params:\n",
      "[[Fit Statistics]]\n",
      "    # fitting method   = emcee\n",
      "    # function evals   = 50000\n",
      "    # data points      = 629\n",
      "    # variables        = 1\n",
      "    chi-square         = 727.39343\n",
      "    reduced chi-square = 1.15826980\n",
      "    Akaike info crit   = 93.4164995\n",
      "    Bayesian info crit = 97.8606308\n",
      "[[Variables]]\n",
      "    teff:  39811 (fixed)\n",
      "    logg:  9.489994 (fixed)\n",
      "    RV:   -35.3432040 +/- 48.8607337 (138.25%) (init = 8.947274)\n",
      "    res:   1 (fixed)\n",
      "rv init: 8.947274130323608\n",
      "-53.0\n",
      "starting...\n"
     ]
    },
    {
     "name": "stderr",
     "output_type": "stream",
     "text": [
      " 72%|███████████████████████████████████████████████▉                   | 143/200 [23:56:23<3:00:42, 190.23s/it]"
     ]
    },
    {
     "name": "stdout",
     "output_type": "stream",
     "text": [
      "The chain is shorter than 50 times the integrated autocorrelation time for 1 parameter(s). Use this estimate with caution and run a longer chain!\n",
      "N/50 = 20;\n",
      "tau: [25.18482924]\n",
      "final params:\n",
      "[[Fit Statistics]]\n",
      "    # fitting method   = emcee\n",
      "    # function evals   = 50000\n",
      "    # data points      = 629\n",
      "    # variables        = 1\n",
      "    chi-square         = 1930.3931\n",
      "    reduced chi-square = 3.07387431\n",
      "    Akaike info crit   = 707.327682\n",
      "    Bayesian info crit = 711.771813\n",
      "[[Variables]]\n",
      "    teff:  27363 (fixed)\n",
      "    logg:  9.177905 (fixed)\n",
      "    RV:   -25.2897572 +/- 9.70907223 (38.39%) (init = -12.04084)\n",
      "    res:   1 (fixed)\n",
      "rv init: -12.040839899773742\n",
      "-15.0\n",
      "starting...\n"
     ]
    },
    {
     "name": "stderr",
     "output_type": "stream",
     "text": [
      " 72%|████████████████████████████████████████████████▏                  | 144/200 [23:59:31<2:57:01, 189.67s/it]"
     ]
    },
    {
     "name": "stdout",
     "output_type": "stream",
     "text": [
      "The chain is shorter than 50 times the integrated autocorrelation time for 1 parameter(s). Use this estimate with caution and run a longer chain!\n",
      "N/50 = 20;\n",
      "tau: [22.98377176]\n",
      "final params:\n",
      "[[Fit Statistics]]\n",
      "    # fitting method   = emcee\n",
      "    # function evals   = 50000\n",
      "    # data points      = 629\n",
      "    # variables        = 1\n",
      "    chi-square         = 923.09503\n",
      "    reduced chi-square = 1.46989655\n",
      "    Akaike info crit   = 243.284986\n",
      "    Bayesian info crit = 247.729118\n",
      "[[Variables]]\n",
      "    teff:  26630 (fixed)\n",
      "    logg:  9.489999 (fixed)\n",
      "    RV:    91.3449637 +/- 26.0077068 (28.47%) (init = 95.56112)\n",
      "    res:   1 (fixed)\n",
      "rv init: 95.5611205620983\n",
      "94.0\n",
      "starting...\n"
     ]
    },
    {
     "name": "stderr",
     "output_type": "stream",
     "text": [
      " 72%|████████████████████████████████████████████████▌                  | 145/200 [24:02:28<2:50:25, 185.92s/it]"
     ]
    },
    {
     "name": "stdout",
     "output_type": "stream",
     "text": [
      "final params:\n",
      "[[Fit Statistics]]\n",
      "    # fitting method   = emcee\n",
      "    # function evals   = 50000\n",
      "    # data points      = 629\n",
      "    # variables        = 1\n",
      "    chi-square         = 587.7402\n",
      "    reduced chi-square = 0.93589200\n",
      "    Akaike info crit   = -40.6753155\n",
      "    Bayesian info crit = -36.2311842\n",
      "[[Variables]]\n",
      "    teff:  10688 (fixed)\n",
      "    logg:  8.480225 (fixed)\n",
      "    RV:   -1.36905111 +/- 22.4454697 (1639.49%) (init = -1.379134)\n",
      "    res:   1 (fixed)\n",
      "rv init: -1.3791335703126855\n",
      "12.0\n",
      "starting...\n"
     ]
    },
    {
     "name": "stderr",
     "output_type": "stream",
     "text": [
      " 73%|████████████████████████████████████████████████▉                  | 146/200 [24:05:20<2:43:40, 181.85s/it]"
     ]
    },
    {
     "name": "stdout",
     "output_type": "stream",
     "text": [
      "The chain is shorter than 50 times the integrated autocorrelation time for 1 parameter(s). Use this estimate with caution and run a longer chain!\n",
      "N/50 = 20;\n",
      "tau: [23.16339872]\n",
      "final params:\n",
      "[[Fit Statistics]]\n",
      "    # fitting method   = emcee\n",
      "    # function evals   = 50000\n",
      "    # data points      = 629\n",
      "    # variables        = 1\n",
      "    chi-square         = 594.08606\n",
      "    reduced chi-square = 0.94599691\n",
      "    Akaike info crit   = -33.9203448\n",
      "    Bayesian info crit = -29.4762135\n",
      "[[Variables]]\n",
      "    teff:  19014 (fixed)\n",
      "    logg:  9.335537 (fixed)\n",
      "    RV:    105.390500 +/- 23.9760886 (22.75%) (init = 106.2758)\n",
      "    res:   1 (fixed)\n",
      "rv init: 106.27584973395734\n",
      "138.0\n",
      "starting...\n"
     ]
    },
    {
     "name": "stderr",
     "output_type": "stream",
     "text": [
      " 74%|█████████████████████████████████████████████████▏                 | 147/200 [24:08:27<2:41:58, 183.36s/it]"
     ]
    },
    {
     "name": "stdout",
     "output_type": "stream",
     "text": [
      "The chain is shorter than 50 times the integrated autocorrelation time for 1 parameter(s). Use this estimate with caution and run a longer chain!\n",
      "N/50 = 20;\n",
      "tau: [22.75528006]\n",
      "final params:\n",
      "[[Fit Statistics]]\n",
      "    # fitting method   = emcee\n",
      "    # function evals   = 50000\n",
      "    # data points      = 629\n",
      "    # variables        = 1\n",
      "    chi-square         = 1315.3267\n",
      "    reduced chi-square = 2.09446920\n",
      "    Akaike info crit   = 466.019004\n",
      "    Bayesian info crit = 470.463135\n",
      "[[Variables]]\n",
      "    teff:  23802 (fixed)\n",
      "    logg:  9.188119 (fixed)\n",
      "    RV:    18.5371712 +/- 12.4673648 (67.26%) (init = 26.0976)\n",
      "    res:   1 (fixed)\n",
      "rv init: 26.097597874141414\n",
      "18.0\n",
      "starting...\n"
     ]
    },
    {
     "name": "stderr",
     "output_type": "stream",
     "text": [
      " 74%|█████████████████████████████████████████████████▌                 | 148/200 [24:11:20<2:36:05, 180.10s/it]"
     ]
    },
    {
     "name": "stdout",
     "output_type": "stream",
     "text": [
      "final params:\n",
      "[[Fit Statistics]]\n",
      "    # fitting method   = emcee\n",
      "    # function evals   = 50000\n",
      "    # data points      = 629\n",
      "    # variables        = 1\n",
      "    chi-square         = 1480.241\n",
      "    reduced chi-square = 2.35707160\n",
      "    Akaike info crit   = 540.316386\n",
      "    Bayesian info crit = 544.760517\n",
      "[[Variables]]\n",
      "    teff:  20401 (fixed)\n",
      "    logg:  9.158046 (fixed)\n",
      "    RV:    36.4085480 +/- 9.26311433 (25.44%) (init = 38.72319)\n",
      "    res:   1 (fixed)\n",
      "rv init: 38.723189708541085\n",
      "31.0\n",
      "starting...\n"
     ]
    },
    {
     "name": "stderr",
     "output_type": "stream",
     "text": [
      " 74%|█████████████████████████████████████████████████▉                 | 149/200 [24:14:14<2:31:33, 178.30s/it]"
     ]
    },
    {
     "name": "stdout",
     "output_type": "stream",
     "text": [
      "The chain is shorter than 50 times the integrated autocorrelation time for 1 parameter(s). Use this estimate with caution and run a longer chain!\n",
      "N/50 = 20;\n",
      "tau: [20.24815199]\n",
      "final params:\n",
      "[[Fit Statistics]]\n",
      "    # fitting method   = emcee\n",
      "    # function evals   = 50000\n",
      "    # data points      = 629\n",
      "    # variables        = 1\n",
      "    chi-square         = 603.11755\n",
      "    reduced chi-square = 0.96037827\n",
      "    Akaike info crit   = -24.4300333\n",
      "    Bayesian info crit = -19.9859021\n",
      "[[Variables]]\n",
      "    teff:  20882 (fixed)\n",
      "    logg:  9.212363 (fixed)\n",
      "    RV:    17.1937132 +/- 23.5736507 (137.11%) (init = 16.53625)\n",
      "    res:   1 (fixed)\n",
      "rv init: 16.536251979387483\n",
      "51.0\n",
      "starting...\n"
     ]
    },
    {
     "name": "stderr",
     "output_type": "stream",
     "text": [
      " 75%|██████████████████████████████████████████████████▎                | 150/200 [24:17:12<2:28:31, 178.24s/it]"
     ]
    },
    {
     "name": "stdout",
     "output_type": "stream",
     "text": [
      "The chain is shorter than 50 times the integrated autocorrelation time for 1 parameter(s). Use this estimate with caution and run a longer chain!\n",
      "N/50 = 20;\n",
      "tau: [21.84200514]\n",
      "final params:\n",
      "[[Fit Statistics]]\n",
      "    # fitting method   = emcee\n",
      "    # function evals   = 50000\n",
      "    # data points      = 629\n",
      "    # variables        = 1\n",
      "    chi-square         = 786.0659\n",
      "    reduced chi-square = 1.25169732\n",
      "    Akaike info crit   = 142.210011\n",
      "    Bayesian info crit = 146.654142\n",
      "[[Variables]]\n",
      "    teff:  26081 (fixed)\n",
      "    logg:  9.021122 (fixed)\n",
      "    RV:    60.7653637 +/- 21.5080114 (35.40%) (init = 85.12538)\n",
      "    res:   1 (fixed)\n",
      "rv init: 85.12538169798441\n",
      "56.0\n",
      "starting...\n"
     ]
    },
    {
     "name": "stderr",
     "output_type": "stream",
     "text": [
      " 76%|██████████████████████████████████████████████████▌                | 151/200 [24:20:05<2:24:09, 176.52s/it]"
     ]
    },
    {
     "name": "stdout",
     "output_type": "stream",
     "text": [
      "The chain is shorter than 50 times the integrated autocorrelation time for 1 parameter(s). Use this estimate with caution and run a longer chain!\n",
      "N/50 = 20;\n",
      "tau: [25.73852213]\n",
      "final params:\n",
      "[[Fit Statistics]]\n",
      "    # fitting method   = emcee\n",
      "    # function evals   = 50000\n",
      "    # data points      = 629\n",
      "    # variables        = 1\n",
      "    chi-square         = 579.04156\n",
      "    reduced chi-square = 0.92204071\n",
      "    Akaike info crit   = -50.0541494\n",
      "    Bayesian info crit = -45.6100181\n",
      "[[Variables]]\n",
      "    teff:  15942 (fixed)\n",
      "    logg:  8.418549 (fixed)\n",
      "    RV:    15.3446967 +/- 17.1869944 (112.01%) (init = 22.19604)\n",
      "    res:   1 (fixed)\n",
      "rv init: 22.196044114928704\n",
      "36.0\n",
      "starting...\n"
     ]
    },
    {
     "name": "stderr",
     "output_type": "stream",
     "text": [
      " 76%|██████████████████████████████████████████████████▉                | 152/200 [24:23:03<2:21:40, 177.10s/it]"
     ]
    },
    {
     "name": "stdout",
     "output_type": "stream",
     "text": [
      "The chain is shorter than 50 times the integrated autocorrelation time for 1 parameter(s). Use this estimate with caution and run a longer chain!\n",
      "N/50 = 20;\n",
      "tau: [28.37706775]\n",
      "final params:\n",
      "[[Fit Statistics]]\n",
      "    # fitting method   = emcee\n",
      "    # function evals   = 50000\n",
      "    # data points      = 629\n",
      "    # variables        = 1\n",
      "    chi-square         = 698.1363\n",
      "    reduced chi-square = 1.11168199\n",
      "    Akaike info crit   = 67.5940617\n",
      "    Bayesian info crit = 72.0381930\n",
      "[[Variables]]\n",
      "    teff:  14470 (fixed)\n",
      "    logg:  8.196353 (fixed)\n",
      "    RV:    11.5082398 +/- 30.2326714 (262.70%) (init = 11.16209)\n",
      "    res:   1 (fixed)\n",
      "rv init: 11.162089790903586\n",
      "21.0\n",
      "starting...\n"
     ]
    },
    {
     "name": "stderr",
     "output_type": "stream",
     "text": [
      " 76%|███████████████████████████████████████████████████▎               | 153/200 [24:26:14<2:21:52, 181.12s/it]"
     ]
    },
    {
     "name": "stdout",
     "output_type": "stream",
     "text": [
      "The chain is shorter than 50 times the integrated autocorrelation time for 1 parameter(s). Use this estimate with caution and run a longer chain!\n",
      "N/50 = 20;\n",
      "tau: [20.18192006]\n",
      "final params:\n",
      "[[Fit Statistics]]\n",
      "    # fitting method   = emcee\n",
      "    # function evals   = 50000\n",
      "    # data points      = 629\n",
      "    # variables        = 1\n",
      "    chi-square         = 826.1582\n",
      "    reduced chi-square = 1.31553854\n",
      "    Akaike info crit   = 173.500012\n",
      "    Bayesian info crit = 177.944144\n",
      "[[Variables]]\n",
      "    teff:  19294 (fixed)\n",
      "    logg:  9.028122 (fixed)\n",
      "    RV:   -29.8643328 +/- 10.2890512 (34.45%) (init = -25.59348)\n",
      "    res:   1 (fixed)\n",
      "rv init: -25.593478461869594\n",
      "-14.0\n",
      "starting...\n"
     ]
    },
    {
     "name": "stderr",
     "output_type": "stream",
     "text": [
      " 77%|███████████████████████████████████████████████████▌               | 154/200 [24:29:32<2:22:51, 186.33s/it]"
     ]
    },
    {
     "name": "stdout",
     "output_type": "stream",
     "text": [
      "The chain is shorter than 50 times the integrated autocorrelation time for 1 parameter(s). Use this estimate with caution and run a longer chain!\n",
      "N/50 = 20;\n",
      "tau: [21.34744504]\n",
      "final params:\n",
      "[[Fit Statistics]]\n",
      "    # fitting method   = emcee\n",
      "    # function evals   = 50000\n",
      "    # data points      = 629\n",
      "    # variables        = 1\n",
      "    chi-square         = 596.341\n",
      "    reduced chi-square = 0.94958759\n",
      "    Akaike info crit   = -31.5373993\n",
      "    Bayesian info crit = -27.0932681\n",
      "[[Variables]]\n",
      "    teff:  17326 (fixed)\n",
      "    logg:  8.569277 (fixed)\n",
      "    RV:    3.11287887 +/- 14.6085245 (469.29%) (init = 6.187413)\n",
      "    res:   1 (fixed)\n",
      "rv init: 6.187412813998715\n",
      "18.0\n",
      "starting...\n"
     ]
    },
    {
     "name": "stderr",
     "output_type": "stream",
     "text": [
      " 78%|███████████████████████████████████████████████████▉               | 155/200 [24:32:54<2:23:19, 191.11s/it]"
     ]
    },
    {
     "name": "stdout",
     "output_type": "stream",
     "text": [
      "The chain is shorter than 50 times the integrated autocorrelation time for 1 parameter(s). Use this estimate with caution and run a longer chain!\n",
      "N/50 = 20;\n",
      "tau: [50.28387202]\n",
      "final params:\n",
      "[[Fit Statistics]]\n",
      "    # fitting method   = emcee\n",
      "    # function evals   = 50000\n",
      "    # data points      = 629\n",
      "    # variables        = 1\n",
      "    chi-square         = 577.1848\n",
      "    reduced chi-square = 0.91908410\n",
      "    Akaike info crit   = -52.0743369\n",
      "    Bayesian info crit = -47.6302057\n",
      "[[Variables]]\n",
      "    teff:  39999 (fixed)\n",
      "    logg:  9.163162 (fixed)\n",
      "    RV:    343.578061 +/- 47.0383009 (13.69%) (init = -16.61613)\n",
      "    res:   1 (fixed)\n",
      "rv init: -16.61612908738013\n",
      "260.0\n",
      "starting...\n"
     ]
    },
    {
     "name": "stderr",
     "output_type": "stream",
     "text": [
      " 78%|████████████████████████████████████████████████████▎              | 156/200 [24:36:10<2:21:12, 192.55s/it]"
     ]
    },
    {
     "name": "stdout",
     "output_type": "stream",
     "text": [
      "The chain is shorter than 50 times the integrated autocorrelation time for 1 parameter(s). Use this estimate with caution and run a longer chain!\n",
      "N/50 = 20;\n",
      "tau: [21.56365077]\n",
      "final params:\n",
      "[[Fit Statistics]]\n",
      "    # fitting method   = emcee\n",
      "    # function evals   = 50000\n",
      "    # data points      = 629\n",
      "    # variables        = 1\n",
      "    chi-square         = 511.69043\n",
      "    reduced chi-square = 0.81479368\n",
      "    Akaike info crit   = -127.832798\n",
      "    Bayesian info crit = -123.388667\n",
      "[[Variables]]\n",
      "    teff:  38544 (fixed)\n",
      "    logg:  7.79407 (fixed)\n",
      "    RV:   -16.4323458 +/- 25.2727286 (153.80%) (init = 12.8333)\n",
      "    res:   1 (fixed)\n",
      "rv init: 12.833302362942083\n",
      "-9.0\n",
      "starting...\n"
     ]
    },
    {
     "name": "stderr",
     "output_type": "stream",
     "text": [
      " 78%|████████████████████████████████████████████████████▌              | 157/200 [24:39:24<2:18:10, 192.80s/it]"
     ]
    },
    {
     "name": "stdout",
     "output_type": "stream",
     "text": [
      "The chain is shorter than 50 times the integrated autocorrelation time for 1 parameter(s). Use this estimate with caution and run a longer chain!\n",
      "N/50 = 20;\n",
      "tau: [24.68789714]\n",
      "final params:\n",
      "[[Fit Statistics]]\n",
      "    # fitting method   = emcee\n",
      "    # function evals   = 50000\n",
      "    # data points      = 629\n",
      "    # variables        = 1\n",
      "    chi-square         = 803.3887\n",
      "    reduced chi-square = 1.27928132\n",
      "    Akaike info crit   = 155.920933\n",
      "    Bayesian info crit = 160.365064\n",
      "[[Variables]]\n",
      "    teff:  18136 (fixed)\n",
      "    logg:  8.847623 (fixed)\n",
      "    RV:    27.6130090 +/- 14.2940257 (51.77%) (init = 41.26411)\n",
      "    res:   1 (fixed)\n",
      "rv init: 41.26410846042648\n",
      "44.0\n",
      "starting...\n"
     ]
    },
    {
     "name": "stderr",
     "output_type": "stream",
     "text": [
      " 79%|████████████████████████████████████████████████████▉              | 158/200 [24:42:39<2:15:36, 193.72s/it]"
     ]
    },
    {
     "name": "stdout",
     "output_type": "stream",
     "text": [
      "The chain is shorter than 50 times the integrated autocorrelation time for 1 parameter(s). Use this estimate with caution and run a longer chain!\n",
      "N/50 = 20;\n",
      "tau: [20.86018043]\n",
      "final params:\n",
      "[[Fit Statistics]]\n",
      "    # fitting method   = emcee\n",
      "    # function evals   = 50000\n",
      "    # data points      = 629\n",
      "    # variables        = 1\n",
      "    chi-square         = 574.2566\n",
      "    reduced chi-square = 0.91442132\n",
      "    Akaike info crit   = -55.2735549\n",
      "    Bayesian info crit = -50.8294236\n",
      "[[Variables]]\n",
      "    teff:  17191 (fixed)\n",
      "    logg:  8.496111 (fixed)\n",
      "    RV:    14.8418352 +/- 11.6161439 (78.27%) (init = 14.73038)\n",
      "    res:   1 (fixed)\n",
      "rv init: 14.730378686284872\n",
      "21.0\n",
      "starting...\n"
     ]
    },
    {
     "name": "stderr",
     "output_type": "stream",
     "text": [
      " 80%|█████████████████████████████████████████████████████▎             | 159/200 [24:45:40<2:09:45, 189.89s/it]"
     ]
    },
    {
     "name": "stdout",
     "output_type": "stream",
     "text": [
      "The chain is shorter than 50 times the integrated autocorrelation time for 1 parameter(s). Use this estimate with caution and run a longer chain!\n",
      "N/50 = 20;\n",
      "tau: [21.14107937]\n",
      "final params:\n",
      "[[Fit Statistics]]\n",
      "    # fitting method   = emcee\n",
      "    # function evals   = 50000\n",
      "    # data points      = 629\n",
      "    # variables        = 1\n",
      "    chi-square         = 548.2872\n",
      "    reduced chi-square = 0.87306874\n",
      "    Akaike info crit   = -84.3818742\n",
      "    Bayesian info crit = -79.9377429\n",
      "[[Variables]]\n",
      "    teff:  11076 (fixed)\n",
      "    logg:  8.098697 (fixed)\n",
      "    RV:    12.0852584 +/- 18.4300714 (152.50%) (init = 3.889811)\n",
      "    res:   1 (fixed)\n",
      "rv init: 3.889811023651028\n",
      "57.0\n",
      "starting...\n"
     ]
    },
    {
     "name": "stderr",
     "output_type": "stream",
     "text": [
      " 80%|█████████████████████████████████████████████████████▌             | 160/200 [24:48:40<2:04:35, 186.89s/it]"
     ]
    },
    {
     "name": "stdout",
     "output_type": "stream",
     "text": [
      "The chain is shorter than 50 times the integrated autocorrelation time for 1 parameter(s). Use this estimate with caution and run a longer chain!\n",
      "N/50 = 20;\n",
      "tau: [23.37073277]\n",
      "final params:\n",
      "[[Fit Statistics]]\n",
      "    # fitting method   = emcee\n",
      "    # function evals   = 50000\n",
      "    # data points      = 629\n",
      "    # variables        = 1\n",
      "    chi-square         = 712.76025\n",
      "    reduced chi-square = 1.13496856\n",
      "    Akaike info crit   = 80.6337163\n",
      "    Bayesian info crit = 85.0778476\n",
      "[[Variables]]\n",
      "    teff:  26890 (fixed)\n",
      "    logg:  9.156057 (fixed)\n",
      "    RV:   -1.52648865 +/- 32.1950600 (2109.09%) (init = 26.04484)\n",
      "    res:   1 (fixed)\n",
      "rv init: 26.044838405102233\n",
      "28.0\n",
      "starting...\n"
     ]
    },
    {
     "name": "stderr",
     "output_type": "stream",
     "text": [
      " 80%|█████████████████████████████████████████████████████▉             | 161/200 [24:51:49<2:01:55, 187.58s/it]"
     ]
    },
    {
     "name": "stdout",
     "output_type": "stream",
     "text": [
      "The chain is shorter than 50 times the integrated autocorrelation time for 1 parameter(s). Use this estimate with caution and run a longer chain!\n",
      "N/50 = 20;\n",
      "tau: [22.52847847]\n",
      "final params:\n",
      "[[Fit Statistics]]\n",
      "    # fitting method   = emcee\n",
      "    # function evals   = 50000\n",
      "    # data points      = 629\n",
      "    # variables        = 1\n",
      "    chi-square         = 1273.2949\n",
      "    reduced chi-square = 2.02753968\n",
      "    Akaike info crit   = 445.590922\n",
      "    Bayesian info crit = 450.035053\n",
      "[[Variables]]\n",
      "    teff:  39999 (fixed)\n",
      "    logg:  9.160226 (fixed)\n",
      "    RV:   -37.1520503 +/- 26.9310861 (72.49%) (init = -77.38627)\n",
      "    res:   1 (fixed)\n",
      "rv init: -77.38627099519374\n",
      "-12.0\n",
      "starting...\n"
     ]
    },
    {
     "name": "stderr",
     "output_type": "stream",
     "text": [
      " 81%|██████████████████████████████████████████████████████▎            | 162/200 [24:55:04<2:00:12, 189.80s/it]"
     ]
    },
    {
     "name": "stdout",
     "output_type": "stream",
     "text": [
      "The chain is shorter than 50 times the integrated autocorrelation time for 1 parameter(s). Use this estimate with caution and run a longer chain!\n",
      "N/50 = 20;\n",
      "tau: [23.2979302]\n",
      "final params:\n",
      "[[Fit Statistics]]\n",
      "    # fitting method   = emcee\n",
      "    # function evals   = 50000\n",
      "    # data points      = 629\n",
      "    # variables        = 1\n",
      "    chi-square         = 601.3567\n",
      "    reduced chi-square = 0.95757435\n",
      "    Akaike info crit   = -26.2691501\n",
      "    Bayesian info crit = -21.8250189\n",
      "[[Variables]]\n",
      "    teff:  16141 (fixed)\n",
      "    logg:  9.038573 (fixed)\n",
      "    RV:    149.081508 +/- 23.6712808 (15.88%) (init = 154.2475)\n",
      "    res:   1 (fixed)\n",
      "rv init: 154.24754153562753\n",
      "174.0\n",
      "starting...\n"
     ]
    },
    {
     "name": "stderr",
     "output_type": "stream",
     "text": [
      " 82%|██████████████████████████████████████████████████████▌            | 163/200 [24:58:24<1:58:52, 192.76s/it]"
     ]
    },
    {
     "name": "stdout",
     "output_type": "stream",
     "text": [
      "The chain is shorter than 50 times the integrated autocorrelation time for 1 parameter(s). Use this estimate with caution and run a longer chain!\n",
      "N/50 = 20;\n",
      "tau: [21.95985296]\n",
      "final params:\n",
      "[[Fit Statistics]]\n",
      "    # fitting method   = emcee\n",
      "    # function evals   = 50000\n",
      "    # data points      = 629\n",
      "    # variables        = 1\n",
      "    chi-square         = 487.31705\n",
      "    reduced chi-square = 0.77598256\n",
      "    Akaike info crit   = -158.531068\n",
      "    Bayesian info crit = -154.086937\n",
      "[[Variables]]\n",
      "    teff:  27074 (fixed)\n",
      "    logg:  7.887826 (fixed)\n",
      "    RV:    75.4832409 +/- 12.0352293 (15.94%) (init = 95.21808)\n",
      "    res:   1 (fixed)\n",
      "rv init: 95.21808015650818\n",
      "84.0\n",
      "starting...\n"
     ]
    },
    {
     "name": "stderr",
     "output_type": "stream",
     "text": [
      " 82%|██████████████████████████████████████████████████████▉            | 164/200 [25:01:41<1:56:25, 194.04s/it]"
     ]
    },
    {
     "name": "stdout",
     "output_type": "stream",
     "text": [
      "The chain is shorter than 50 times the integrated autocorrelation time for 1 parameter(s). Use this estimate with caution and run a longer chain!\n",
      "N/50 = 20;\n",
      "tau: [23.33355283]\n",
      "final params:\n",
      "[[Fit Statistics]]\n",
      "    # fitting method   = emcee\n",
      "    # function evals   = 50000\n",
      "    # data points      = 629\n",
      "    # variables        = 1\n",
      "    chi-square         = 1096.1693\n",
      "    reduced chi-square = 1.74549253\n",
      "    Akaike info crit   = 351.375333\n",
      "    Bayesian info crit = 355.819464\n",
      "[[Variables]]\n",
      "    teff:  31862 (fixed)\n",
      "    logg:  9.31959 (fixed)\n",
      "    RV:    10.0369699 +/- 26.2908649 (261.94%) (init = 37.68815)\n",
      "    res:   1 (fixed)\n",
      "rv init: 37.688150001738975\n",
      "37.0\n",
      "starting...\n"
     ]
    },
    {
     "name": "stderr",
     "output_type": "stream",
     "text": [
      " 82%|███████████████████████████████████████████████████████▎           | 165/200 [25:04:46<1:51:34, 191.26s/it]"
     ]
    },
    {
     "name": "stdout",
     "output_type": "stream",
     "text": [
      "The chain is shorter than 50 times the integrated autocorrelation time for 1 parameter(s). Use this estimate with caution and run a longer chain!\n",
      "N/50 = 20;\n",
      "tau: [23.19188392]\n",
      "final params:\n",
      "[[Fit Statistics]]\n",
      "    # fitting method   = emcee\n",
      "    # function evals   = 50000\n",
      "    # data points      = 629\n",
      "    # variables        = 1\n",
      "    chi-square         = 878.318\n",
      "    reduced chi-square = 1.39859553\n",
      "    Akaike info crit   = 212.008916\n",
      "    Bayesian info crit = 216.453048\n",
      "[[Variables]]\n",
      "    teff:  16218 (fixed)\n",
      "    logg:  8.340275 (fixed)\n",
      "    RV:    0.02268584 +/- 4.48793034 (19782.96%) (init = 7.449047)\n",
      "    res:   1 (fixed)\n",
      "rv init: 7.4490465236167065\n",
      "17.0\n",
      "starting...\n"
     ]
    },
    {
     "name": "stderr",
     "output_type": "stream",
     "text": [
      " 83%|███████████████████████████████████████████████████████▌           | 166/200 [25:08:02<1:49:10, 192.65s/it]"
     ]
    },
    {
     "name": "stdout",
     "output_type": "stream",
     "text": [
      "The chain is shorter than 50 times the integrated autocorrelation time for 1 parameter(s). Use this estimate with caution and run a longer chain!\n",
      "N/50 = 20;\n",
      "tau: [23.23631416]\n",
      "final params:\n",
      "[[Fit Statistics]]\n",
      "    # fitting method   = emcee\n",
      "    # function evals   = 50000\n",
      "    # data points      = 629\n",
      "    # variables        = 1\n",
      "    chi-square         = 895.8311\n",
      "    reduced chi-square = 1.42648267\n",
      "    Akaike info crit   = 224.427390\n",
      "    Bayesian info crit = 228.871521\n",
      "[[Variables]]\n",
      "    teff:  25372 (fixed)\n",
      "    logg:  9.489999 (fixed)\n",
      "    RV:    43.6561974 +/- 15.8954153 (36.41%) (init = 44.73759)\n",
      "    res:   1 (fixed)\n",
      "rv init: 44.73759000378866\n",
      "68.0\n",
      "starting...\n"
     ]
    },
    {
     "name": "stderr",
     "output_type": "stream",
     "text": [
      " 84%|███████████████████████████████████████████████████████▉           | 167/200 [25:11:24<1:47:28, 195.40s/it]"
     ]
    },
    {
     "name": "stdout",
     "output_type": "stream",
     "text": [
      "The chain is shorter than 50 times the integrated autocorrelation time for 1 parameter(s). Use this estimate with caution and run a longer chain!\n",
      "N/50 = 20;\n",
      "tau: [21.49068735]\n",
      "final params:\n",
      "[[Fit Statistics]]\n",
      "    # fitting method   = emcee\n",
      "    # function evals   = 50000\n",
      "    # data points      = 629\n",
      "    # variables        = 1\n",
      "    chi-square         = 995.68835\n",
      "    reduced chi-square = 1.58549101\n",
      "    Akaike info crit   = 290.901621\n",
      "    Bayesian info crit = 295.345753\n",
      "[[Variables]]\n",
      "    teff:  34118 (fixed)\n",
      "    logg:  9.199032 (fixed)\n",
      "    RV:    32.7062608 +/- 28.1208934 (85.98%) (init = 81.1545)\n",
      "    res:   1 (fixed)\n",
      "rv init: 81.15450361509183\n",
      "28.0\n",
      "starting...\n"
     ]
    },
    {
     "name": "stderr",
     "output_type": "stream",
     "text": [
      " 84%|████████████████████████████████████████████████████████▎          | 168/200 [25:14:25<1:41:57, 191.17s/it]"
     ]
    },
    {
     "name": "stdout",
     "output_type": "stream",
     "text": [
      "The chain is shorter than 50 times the integrated autocorrelation time for 1 parameter(s). Use this estimate with caution and run a longer chain!\n",
      "N/50 = 20;\n",
      "tau: [21.79348638]\n",
      "final params:\n",
      "[[Fit Statistics]]\n",
      "    # fitting method   = emcee\n",
      "    # function evals   = 50000\n",
      "    # data points      = 629\n",
      "    # variables        = 1\n",
      "    chi-square         = 691.88696\n",
      "    reduced chi-square = 1.10173083\n",
      "    Akaike info crit   = 61.9382511\n",
      "    Bayesian info crit = 66.3823823\n",
      "[[Variables]]\n",
      "    teff:  22597 (fixed)\n",
      "    logg:  9.066399 (fixed)\n",
      "    RV:    98.2056591 +/- 21.1843374 (21.57%) (init = 115.2574)\n",
      "    res:   1 (fixed)\n",
      "rv init: 115.25740959961381\n",
      "95.0\n",
      "starting...\n"
     ]
    },
    {
     "name": "stderr",
     "output_type": "stream",
     "text": [
      " 84%|████████████████████████████████████████████████████████▌          | 169/200 [25:17:25<1:37:01, 187.80s/it]"
     ]
    },
    {
     "name": "stdout",
     "output_type": "stream",
     "text": [
      "The chain is shorter than 50 times the integrated autocorrelation time for 1 parameter(s). Use this estimate with caution and run a longer chain!\n",
      "N/50 = 20;\n",
      "tau: [22.61268024]\n",
      "final params:\n",
      "[[Fit Statistics]]\n",
      "    # fitting method   = emcee\n",
      "    # function evals   = 50000\n",
      "    # data points      = 629\n",
      "    # variables        = 1\n",
      "    chi-square         = 875.0304\n",
      "    reduced chi-square = 1.39336050\n",
      "    Akaike info crit   = 209.650114\n",
      "    Bayesian info crit = 214.094245\n",
      "[[Variables]]\n",
      "    teff:  20416 (fixed)\n",
      "    logg:  8.999874 (fixed)\n",
      "    RV:    5.85195026 +/- 15.8226836 (270.38%) (init = 26.41985)\n",
      "    res:   1 (fixed)\n",
      "rv init: 26.41985335052245\n",
      "16.0\n",
      "starting...\n"
     ]
    },
    {
     "name": "stderr",
     "output_type": "stream",
     "text": [
      " 85%|████████████████████████████████████████████████████████▉          | 170/200 [25:20:23<1:32:25, 184.85s/it]"
     ]
    },
    {
     "name": "stdout",
     "output_type": "stream",
     "text": [
      "The chain is shorter than 50 times the integrated autocorrelation time for 1 parameter(s). Use this estimate with caution and run a longer chain!\n",
      "N/50 = 20;\n",
      "tau: [26.640884]\n",
      "final params:\n",
      "[[Fit Statistics]]\n",
      "    # fitting method   = emcee\n",
      "    # function evals   = 50000\n",
      "    # data points      = 629\n",
      "    # variables        = 1\n",
      "    chi-square         = 2655.915\n",
      "    reduced chi-square = 4.22916407\n",
      "    Akaike info crit   = 908.019944\n",
      "    Bayesian info crit = 912.464075\n",
      "[[Variables]]\n",
      "    teff:  19305 (fixed)\n",
      "    logg:  8.999813 (fixed)\n",
      "    RV:   -12.5920179 +/- 5.59235801 (44.41%) (init = -3.940918)\n",
      "    res:   1 (fixed)\n",
      "rv init: -3.9409175415615274\n",
      "0.0\n",
      "starting...\n"
     ]
    },
    {
     "name": "stderr",
     "output_type": "stream",
     "text": [
      " 86%|█████████████████████████████████████████████████████████▎         | 171/200 [25:23:32<1:29:59, 186.19s/it]"
     ]
    },
    {
     "name": "stdout",
     "output_type": "stream",
     "text": [
      "final params:\n",
      "[[Fit Statistics]]\n",
      "    # fitting method   = emcee\n",
      "    # function evals   = 50000\n",
      "    # data points      = 629\n",
      "    # variables        = 1\n",
      "    chi-square         = 739.9579\n",
      "    reduced chi-square = 1.17827689\n",
      "    Akaike info crit   = 104.188609\n",
      "    Bayesian info crit = 108.632740\n",
      "[[Variables]]\n",
      "    teff:  16824 (fixed)\n",
      "    logg:  8.501845 (fixed)\n",
      "    RV:    18.6370500 +/- 6.49372973 (34.84%) (init = 17.49539)\n",
      "    res:   1 (fixed)\n",
      "rv init: 17.495387008618984\n",
      "34.0\n",
      "starting...\n"
     ]
    },
    {
     "name": "stderr",
     "output_type": "stream",
     "text": [
      " 86%|█████████████████████████████████████████████████████████▌         | 172/200 [25:26:53<1:28:54, 190.53s/it]"
     ]
    },
    {
     "name": "stdout",
     "output_type": "stream",
     "text": [
      "The chain is shorter than 50 times the integrated autocorrelation time for 1 parameter(s). Use this estimate with caution and run a longer chain!\n",
      "N/50 = 20;\n",
      "tau: [20.96062333]\n",
      "final params:\n",
      "[[Fit Statistics]]\n",
      "    # fitting method   = emcee\n",
      "    # function evals   = 50000\n",
      "    # data points      = 629\n",
      "    # variables        = 1\n",
      "    chi-square         = 964.2988\n",
      "    reduced chi-square = 1.53550769\n",
      "    Akaike info crit   = 270.752816\n",
      "    Bayesian info crit = 275.196947\n",
      "[[Variables]]\n",
      "    teff:  16116 (fixed)\n",
      "    logg:  8.234523 (fixed)\n",
      "    RV:    31.6328797 +/- 8.70004616 (27.50%) (init = 28.18032)\n",
      "    res:   1 (fixed)\n",
      "rv init: 28.18031500738532\n",
      "28.0\n",
      "starting...\n"
     ]
    },
    {
     "name": "stderr",
     "output_type": "stream",
     "text": [
      " 86%|█████████████████████████████████████████████████████████▉         | 173/200 [25:30:11<1:26:50, 192.97s/it]"
     ]
    },
    {
     "name": "stdout",
     "output_type": "stream",
     "text": [
      "The chain is shorter than 50 times the integrated autocorrelation time for 1 parameter(s). Use this estimate with caution and run a longer chain!\n",
      "N/50 = 20;\n",
      "tau: [22.06704457]\n",
      "final params:\n",
      "[[Fit Statistics]]\n",
      "    # fitting method   = emcee\n",
      "    # function evals   = 50000\n",
      "    # data points      = 629\n",
      "    # variables        = 1\n",
      "    chi-square         = 920.7043\n",
      "    reduced chi-square = 1.46608963\n",
      "    Akaike info crit   = 241.653810\n",
      "    Bayesian info crit = 246.097941\n",
      "[[Variables]]\n",
      "    teff:  28264 (fixed)\n",
      "    logg:  9.073724 (fixed)\n",
      "    RV:   -42.8808195 +/- 18.7866797 (43.81%) (init = -43.27294)\n",
      "    res:   1 (fixed)\n",
      "rv init: -43.27293601622482\n",
      "-45.0\n",
      "starting...\n"
     ]
    },
    {
     "name": "stderr",
     "output_type": "stream",
     "text": [
      " 87%|██████████████████████████████████████████████████████████▎        | 174/200 [25:33:23<1:23:23, 192.43s/it]"
     ]
    },
    {
     "name": "stdout",
     "output_type": "stream",
     "text": [
      "The chain is shorter than 50 times the integrated autocorrelation time for 1 parameter(s). Use this estimate with caution and run a longer chain!\n",
      "N/50 = 20;\n",
      "tau: [21.25374878]\n",
      "final params:\n",
      "[[Fit Statistics]]\n",
      "    # fitting method   = emcee\n",
      "    # function evals   = 50000\n",
      "    # data points      = 629\n",
      "    # variables        = 1\n",
      "    chi-square         = 1516.7607\n",
      "    reduced chi-square = 2.41522411\n",
      "    Akaike info crit   = 555.646424\n",
      "    Bayesian info crit = 560.090556\n",
      "[[Variables]]\n",
      "    teff:  16535 (fixed)\n",
      "    logg:  8.412173 (fixed)\n",
      "    RV:   -26.8098903 +/- 4.47009540 (16.67%) (init = -27.41065)\n",
      "    res:   1 (fixed)\n",
      "rv init: -27.410647339891447\n",
      "-10.0\n",
      "starting...\n"
     ]
    },
    {
     "name": "stderr",
     "output_type": "stream",
     "text": [
      " 88%|██████████████████████████████████████████████████████████▋        | 175/200 [25:36:32<1:19:46, 191.47s/it]"
     ]
    },
    {
     "name": "stdout",
     "output_type": "stream",
     "text": [
      "The chain is shorter than 50 times the integrated autocorrelation time for 1 parameter(s). Use this estimate with caution and run a longer chain!\n",
      "N/50 = 20;\n",
      "tau: [21.97444289]\n",
      "final params:\n",
      "[[Fit Statistics]]\n",
      "    # fitting method   = emcee\n",
      "    # function evals   = 50000\n",
      "    # data points      = 629\n",
      "    # variables        = 1\n",
      "    chi-square         = 674.36414\n",
      "    reduced chi-square = 1.07382824\n",
      "    Akaike info crit   = 45.8029115\n",
      "    Bayesian info crit = 50.2470428\n",
      "[[Variables]]\n",
      "    teff:  17588 (fixed)\n",
      "    logg:  8.624314 (fixed)\n",
      "    RV:    16.1241988 +/- 15.3565087 (95.24%) (init = 20.64192)\n",
      "    res:   1 (fixed)\n",
      "rv init: 20.6419245763633\n",
      "22.0\n",
      "starting...\n"
     ]
    },
    {
     "name": "stderr",
     "output_type": "stream",
     "text": [
      " 88%|██████████████████████████████████████████████████████████▉        | 176/200 [25:39:32<1:15:12, 188.03s/it]"
     ]
    },
    {
     "name": "stdout",
     "output_type": "stream",
     "text": [
      "The chain is shorter than 50 times the integrated autocorrelation time for 1 parameter(s). Use this estimate with caution and run a longer chain!\n",
      "N/50 = 20;\n",
      "tau: [22.38427502]\n",
      "final params:\n",
      "[[Fit Statistics]]\n",
      "    # fitting method   = emcee\n",
      "    # function evals   = 50000\n",
      "    # data points      = 629\n",
      "    # variables        = 1\n",
      "    chi-square         = 523.7577\n",
      "    reduced chi-square = 0.83400906\n",
      "    Akaike info crit   = -113.171222\n",
      "    Bayesian info crit = -108.727091\n",
      "[[Variables]]\n",
      "    teff:  13549 (fixed)\n",
      "    logg:  7.977416 (fixed)\n",
      "    RV:    53.3863034 +/- 12.3604554 (23.15%) (init = 44.01134)\n",
      "    res:   1 (fixed)\n",
      "rv init: 44.011342293046376\n",
      "49.0\n",
      "starting...\n"
     ]
    },
    {
     "name": "stderr",
     "output_type": "stream",
     "text": [
      " 88%|███████████████████████████████████████████████████████████▎       | 177/200 [25:42:30<1:10:54, 184.98s/it]"
     ]
    },
    {
     "name": "stdout",
     "output_type": "stream",
     "text": [
      "final params:\n",
      "[[Fit Statistics]]\n",
      "    # fitting method   = emcee\n",
      "    # function evals   = 50000\n",
      "    # data points      = 629\n",
      "    # variables        = 1\n",
      "    chi-square         = 510.98343\n",
      "    reduced chi-square = 0.81366788\n",
      "    Akaike info crit   = -128.702486\n",
      "    Bayesian info crit = -124.258355\n",
      "[[Variables]]\n",
      "    teff:  13839 (fixed)\n",
      "    logg:  7.781276 (fixed)\n",
      "    RV:    76.2539590 +/- 20.7179323 (27.17%) (init = 79.99789)\n",
      "    res:   1 (fixed)\n",
      "rv init: 79.99789069207972\n",
      "81.0\n",
      "starting...\n"
     ]
    },
    {
     "name": "stderr",
     "output_type": "stream",
     "text": [
      " 89%|███████████████████████████████████████████████████████████▋       | 178/200 [25:45:30<1:07:15, 183.45s/it]"
     ]
    },
    {
     "name": "stdout",
     "output_type": "stream",
     "text": [
      "The chain is shorter than 50 times the integrated autocorrelation time for 1 parameter(s). Use this estimate with caution and run a longer chain!\n",
      "N/50 = 20;\n",
      "tau: [22.98704193]\n",
      "final params:\n",
      "[[Fit Statistics]]\n",
      "    # fitting method   = emcee\n",
      "    # function evals   = 50000\n",
      "    # data points      = 629\n",
      "    # variables        = 1\n",
      "    chi-square         = 734.2511\n",
      "    reduced chi-square = 1.16918965\n",
      "    Akaike info crit   = 99.3187603\n",
      "    Bayesian info crit = 103.762892\n",
      "[[Variables]]\n",
      "    teff:  10561 (fixed)\n",
      "    logg:  8.924985 (fixed)\n",
      "    RV:   -8.11641185 +/- 11.2672862 (138.82%) (init = 1.972014)\n",
      "    res:   1 (fixed)\n",
      "rv init: 1.9720137100096133\n",
      "9.0\n",
      "starting...\n"
     ]
    },
    {
     "name": "stderr",
     "output_type": "stream",
     "text": [
      " 90%|███████████████████████████████████████████████████████████▉       | 179/200 [25:48:25<1:03:19, 180.91s/it]"
     ]
    },
    {
     "name": "stdout",
     "output_type": "stream",
     "text": [
      "The chain is shorter than 50 times the integrated autocorrelation time for 1 parameter(s). Use this estimate with caution and run a longer chain!\n",
      "N/50 = 20;\n",
      "tau: [21.12751654]\n",
      "final params:\n",
      "[[Fit Statistics]]\n",
      "    # fitting method   = emcee\n",
      "    # function evals   = 50000\n",
      "    # data points      = 629\n",
      "    # variables        = 1\n",
      "    chi-square         = 512.03845\n",
      "    reduced chi-square = 0.81534785\n",
      "    Akaike info crit   = -127.405134\n",
      "    Bayesian info crit = -122.961003\n",
      "[[Variables]]\n",
      "    teff:  15103 (fixed)\n",
      "    logg:  8.536933 (fixed)\n",
      "    RV:    32.0095712 +/- 10.5869675 (33.07%) (init = 34.50829)\n",
      "    res:   1 (fixed)\n",
      "rv init: 34.50829277508344\n",
      "51.0\n",
      "starting...\n"
     ]
    },
    {
     "name": "stderr",
     "output_type": "stream",
     "text": [
      " 90%|████████████████████████████████████████████████████████████▎      | 180/200 [25:51:26<1:00:23, 181.18s/it]"
     ]
    },
    {
     "name": "stdout",
     "output_type": "stream",
     "text": [
      "The chain is shorter than 50 times the integrated autocorrelation time for 1 parameter(s). Use this estimate with caution and run a longer chain!\n",
      "N/50 = 20;\n",
      "tau: [26.35255099]\n",
      "final params:\n",
      "[[Fit Statistics]]\n",
      "    # fitting method   = emcee\n",
      "    # function evals   = 50000\n",
      "    # data points      = 629\n",
      "    # variables        = 1\n",
      "    chi-square         = 1022.7234\n",
      "    reduced chi-square = 1.62854043\n",
      "    Akaike info crit   = 307.752548\n",
      "    Bayesian info crit = 312.196679\n",
      "[[Variables]]\n",
      "    teff:  35536 (fixed)\n",
      "    logg:  9.309328 (fixed)\n",
      "    RV:    42.0255930 +/- 32.0106951 (76.17%) (init = 122.7349)\n",
      "    res:   1 (fixed)\n",
      "rv init: 122.73492667381613\n",
      "52.0\n",
      "starting...\n"
     ]
    },
    {
     "name": "stderr",
     "output_type": "stream",
     "text": [
      " 90%|██████████████████████████████████████████████████████████████▍      | 181/200 [25:54:25<57:07, 180.42s/it]"
     ]
    },
    {
     "name": "stdout",
     "output_type": "stream",
     "text": [
      "The chain is shorter than 50 times the integrated autocorrelation time for 1 parameter(s). Use this estimate with caution and run a longer chain!\n",
      "N/50 = 20;\n",
      "tau: [21.92859122]\n",
      "final params:\n",
      "[[Fit Statistics]]\n",
      "    # fitting method   = emcee\n",
      "    # function evals   = 50000\n",
      "    # data points      = 629\n",
      "    # variables        = 1\n",
      "    chi-square         = 865.3899\n",
      "    reduced chi-square = 1.37800938\n",
      "    Akaike info crit   = 202.681753\n",
      "    Bayesian info crit = 207.125884\n",
      "[[Variables]]\n",
      "    teff:  36254 (fixed)\n",
      "    logg:  9.305943 (fixed)\n",
      "    RV:   -37.3849984 +/- 38.1755586 (102.11%) (init = -35.28171)\n",
      "    res:   1 (fixed)\n",
      "rv init: -35.28170504089761\n",
      "-15.0\n",
      "starting...\n"
     ]
    },
    {
     "name": "stderr",
     "output_type": "stream",
     "text": [
      " 91%|██████████████████████████████████████████████████████████████▊      | 182/200 [25:57:20<53:37, 178.76s/it]"
     ]
    },
    {
     "name": "stdout",
     "output_type": "stream",
     "text": [
      "The chain is shorter than 50 times the integrated autocorrelation time for 1 parameter(s). Use this estimate with caution and run a longer chain!\n",
      "N/50 = 20;\n",
      "tau: [26.89911644]\n",
      "final params:\n",
      "[[Fit Statistics]]\n",
      "    # fitting method   = emcee\n",
      "    # function evals   = 50000\n",
      "    # data points      = 629\n",
      "    # variables        = 1\n",
      "    chi-square         = 1083.1466\n",
      "    reduced chi-square = 1.72475574\n",
      "    Akaike info crit   = 343.857947\n",
      "    Bayesian info crit = 348.302079\n",
      "[[Variables]]\n",
      "    teff:  17074 (fixed)\n",
      "    logg:  8.530172 (fixed)\n",
      "    RV:    15.9659815 +/- 4.83341012 (30.27%) (init = 25.43067)\n",
      "    res:   1 (fixed)\n",
      "rv init: 25.43066591771911\n",
      "31.0\n",
      "starting...\n"
     ]
    },
    {
     "name": "stderr",
     "output_type": "stream",
     "text": [
      " 92%|███████████████████████████████████████████████████████████████▏     | 183/200 [26:00:16<50:23, 177.87s/it]"
     ]
    },
    {
     "name": "stdout",
     "output_type": "stream",
     "text": [
      "The chain is shorter than 50 times the integrated autocorrelation time for 1 parameter(s). Use this estimate with caution and run a longer chain!\n",
      "N/50 = 20;\n",
      "tau: [42.43812293]\n",
      "final params:\n",
      "[[Fit Statistics]]\n",
      "    # fitting method   = emcee\n",
      "    # function evals   = 50000\n",
      "    # data points      = 629\n",
      "    # variables        = 1\n",
      "    chi-square         = 823.4886\n",
      "    reduced chi-square = 1.31128756\n",
      "    Akaike info crit   = 171.464194\n",
      "    Bayesian info crit = 175.908326\n",
      "[[Variables]]\n",
      "    teff:  39999 (fixed)\n",
      "    logg:  8.686421 (fixed)\n",
      "    RV:   -32.4076379 +/- 54.1469887 (167.08%) (init = -995.4585)\n",
      "    res:   1 (fixed)\n",
      "rv init: -995.4584506943182\n",
      "-65.0\n",
      "starting...\n"
     ]
    },
    {
     "name": "stderr",
     "output_type": "stream",
     "text": [
      " 92%|███████████████████████████████████████████████████████████████▍     | 184/200 [26:03:11<47:11, 176.98s/it]"
     ]
    },
    {
     "name": "stdout",
     "output_type": "stream",
     "text": [
      "The chain is shorter than 50 times the integrated autocorrelation time for 1 parameter(s). Use this estimate with caution and run a longer chain!\n",
      "N/50 = 20;\n",
      "tau: [20.18490967]\n",
      "final params:\n",
      "[[Fit Statistics]]\n",
      "    # fitting method   = emcee\n",
      "    # function evals   = 50000\n",
      "    # data points      = 629\n",
      "    # variables        = 1\n",
      "    chi-square         = 639.49915\n",
      "    reduced chi-square = 1.01831074\n",
      "    Akaike info crit   = 12.4124837\n",
      "    Bayesian info crit = 16.8566150\n",
      "[[Variables]]\n",
      "    teff:  20061 (fixed)\n",
      "    logg:  8.572622 (fixed)\n",
      "    RV:    30.8623870 +/- 25.6942415 (83.25%) (init = 39.21986)\n",
      "    res:   1 (fixed)\n",
      "rv init: 39.21985996818087\n",
      "41.0\n",
      "starting...\n"
     ]
    },
    {
     "name": "stderr",
     "output_type": "stream",
     "text": [
      " 92%|███████████████████████████████████████████████████████████████▊     | 185/200 [26:06:14<44:42, 178.80s/it]"
     ]
    },
    {
     "name": "stdout",
     "output_type": "stream",
     "text": [
      "The chain is shorter than 50 times the integrated autocorrelation time for 1 parameter(s). Use this estimate with caution and run a longer chain!\n",
      "N/50 = 20;\n",
      "tau: [25.5775444]\n",
      "final params:\n",
      "[[Fit Statistics]]\n",
      "    # fitting method   = emcee\n",
      "    # function evals   = 50000\n",
      "    # data points      = 629\n",
      "    # variables        = 1\n",
      "    chi-square         = 479.21643\n",
      "    reduced chi-square = 0.76308349\n",
      "    Akaike info crit   = -169.074742\n",
      "    Bayesian info crit = -164.630611\n",
      "[[Variables]]\n",
      "    teff:  30222 (fixed)\n",
      "    logg:  7.879893 (fixed)\n",
      "    RV:    66.3095710 +/- 12.6067098 (19.01%) (init = 96.81714)\n",
      "    res:   1 (fixed)\n",
      "rv init: 96.81714114229244\n",
      "58.0\n",
      "starting...\n"
     ]
    },
    {
     "name": "stderr",
     "output_type": "stream",
     "text": [
      " 93%|████████████████████████████████████████████████████████████████▏    | 186/200 [26:09:10<41:34, 178.20s/it]"
     ]
    },
    {
     "name": "stdout",
     "output_type": "stream",
     "text": [
      "The chain is shorter than 50 times the integrated autocorrelation time for 1 parameter(s). Use this estimate with caution and run a longer chain!\n",
      "N/50 = 20;\n",
      "tau: [25.93981659]\n",
      "final params:\n",
      "[[Fit Statistics]]\n",
      "    # fitting method   = emcee\n",
      "    # function evals   = 50000\n",
      "    # data points      = 629\n",
      "    # variables        = 1\n",
      "    chi-square         = 470.3446\n",
      "    reduced chi-square = 0.74895638\n",
      "    Akaike info crit   = -180.828681\n",
      "    Bayesian info crit = -176.384550\n",
      "[[Variables]]\n",
      "    teff:  37377 (fixed)\n",
      "    logg:  7.836141 (fixed)\n",
      "    RV:    8.71085366 +/- 14.8714073 (170.72%) (init = 39.61413)\n",
      "    res:   1 (fixed)\n",
      "rv init: 39.61413061873849\n",
      "11.0\n",
      "starting...\n"
     ]
    },
    {
     "name": "stderr",
     "output_type": "stream",
     "text": [
      " 94%|████████████████████████████████████████████████████████████████▌    | 187/200 [26:12:23<39:31, 182.46s/it]"
     ]
    },
    {
     "name": "stdout",
     "output_type": "stream",
     "text": [
      "The chain is shorter than 50 times the integrated autocorrelation time for 1 parameter(s). Use this estimate with caution and run a longer chain!\n",
      "N/50 = 20;\n",
      "tau: [40.5399578]\n",
      "final params:\n",
      "[[Fit Statistics]]\n",
      "    # fitting method   = emcee\n",
      "    # function evals   = 50000\n",
      "    # data points      = 629\n",
      "    # variables        = 1\n",
      "    chi-square         = 3584.529\n",
      "    reduced chi-square = 5.70784881\n",
      "    Akaike info crit   = 1096.61796\n",
      "    Bayesian info crit = 1101.06209\n",
      "[[Variables]]\n",
      "    teff:  39999 (fixed)\n",
      "    logg:  9.489935 (fixed)\n",
      "    RV:    55.0644888 +/- 31.9698039 (58.06%) (init = 374.1833)\n",
      "    res:   1 (fixed)\n",
      "rv init: 374.18329422288724\n",
      "-11.0\n",
      "starting...\n"
     ]
    },
    {
     "name": "stderr",
     "output_type": "stream",
     "text": [
      " 94%|████████████████████████████████████████████████████████████████▊    | 188/200 [26:15:37<37:10, 185.87s/it]"
     ]
    },
    {
     "name": "stdout",
     "output_type": "stream",
     "text": [
      "The chain is shorter than 50 times the integrated autocorrelation time for 1 parameter(s). Use this estimate with caution and run a longer chain!\n",
      "N/50 = 20;\n",
      "tau: [22.20921844]\n",
      "final params:\n",
      "[[Fit Statistics]]\n",
      "    # fitting method   = emcee\n",
      "    # function evals   = 50000\n",
      "    # data points      = 629\n",
      "    # variables        = 1\n",
      "    chi-square         = 1571.3975\n",
      "    reduced chi-square = 2.50222526\n",
      "    Akaike info crit   = 577.905700\n",
      "    Bayesian info crit = 582.349831\n",
      "[[Variables]]\n",
      "    teff:  22701 (fixed)\n",
      "    logg:  9.10082 (fixed)\n",
      "    RV:    4.29347160 +/- 10.7467056 (250.30%) (init = 13.35365)\n",
      "    res:   1 (fixed)\n",
      "rv init: 13.353646332042423\n",
      "16.0\n",
      "starting...\n"
     ]
    },
    {
     "name": "stderr",
     "output_type": "stream",
     "text": [
      " 94%|█████████████████████████████████████████████████████████████████▏   | 189/200 [26:18:49<34:26, 187.86s/it]"
     ]
    },
    {
     "name": "stdout",
     "output_type": "stream",
     "text": [
      "The chain is shorter than 50 times the integrated autocorrelation time for 1 parameter(s). Use this estimate with caution and run a longer chain!\n",
      "N/50 = 20;\n",
      "tau: [20.69167562]\n",
      "final params:\n",
      "[[Fit Statistics]]\n",
      "    # fitting method   = emcee\n",
      "    # function evals   = 50000\n",
      "    # data points      = 629\n",
      "    # variables        = 1\n",
      "    chi-square         = 974.844\n",
      "    reduced chi-square = 1.55229935\n",
      "    Akaike info crit   = 277.593957\n",
      "    Bayesian info crit = 282.038088\n",
      "[[Variables]]\n",
      "    teff:  9920 (fixed)\n",
      "    logg:  8.964601 (fixed)\n",
      "    RV:    47.0190637 +/- 7.48669526 (15.92%) (init = 55.63655)\n",
      "    res:   1 (fixed)\n",
      "rv init: 55.63654679275417\n",
      "44.0\n",
      "starting...\n"
     ]
    },
    {
     "name": "stderr",
     "output_type": "stream",
     "text": [
      " 95%|█████████████████████████████████████████████████████████████████▌   | 190/200 [26:22:06<31:44, 190.43s/it]"
     ]
    },
    {
     "name": "stdout",
     "output_type": "stream",
     "text": [
      "The chain is shorter than 50 times the integrated autocorrelation time for 1 parameter(s). Use this estimate with caution and run a longer chain!\n",
      "N/50 = 20;\n",
      "tau: [25.83873191]\n",
      "final params:\n",
      "[[Fit Statistics]]\n",
      "    # fitting method   = emcee\n",
      "    # function evals   = 50000\n",
      "    # data points      = 629\n",
      "    # variables        = 1\n",
      "    chi-square         = 415.7691\n",
      "    reduced chi-square = 0.66205271\n",
      "    Akaike info crit   = -258.406748\n",
      "    Bayesian info crit = -253.962617\n",
      "[[Variables]]\n",
      "    teff:  28333 (fixed)\n",
      "    logg:  8.29364 (fixed)\n",
      "    RV:    45.7646696 +/- 6.08134872 (13.29%) (init = 60.68498)\n",
      "    res:   1 (fixed)\n",
      "rv init: 60.68497746167019\n",
      "52.0\n",
      "starting...\n"
     ]
    },
    {
     "name": "stderr",
     "output_type": "stream",
     "text": [
      " 96%|███████████████████████████████████████████████████████████████   | 191/200 [28:06:55<5:03:00, 2020.09s/it]"
     ]
    },
    {
     "name": "stdout",
     "output_type": "stream",
     "text": [
      "The chain is shorter than 50 times the integrated autocorrelation time for 1 parameter(s). Use this estimate with caution and run a longer chain!\n",
      "N/50 = 20;\n",
      "tau: [27.97216829]\n",
      "final params:\n",
      "[[Fit Statistics]]\n",
      "    # fitting method   = emcee\n",
      "    # function evals   = 50000\n",
      "    # data points      = 629\n",
      "    # variables        = 1\n",
      "    chi-square         = 778.8854\n",
      "    reduced chi-square = 1.24026334\n",
      "    Akaike info crit   = 136.437828\n",
      "    Bayesian info crit = 140.881959\n",
      "[[Variables]]\n",
      "    teff:  39999 (fixed)\n",
      "    logg:  9.378052 (fixed)\n",
      "    RV:   -95.0501278 +/- 68.3009532 (71.86%) (init = -305.1138)\n",
      "    res:   1 (fixed)\n",
      "rv init: -305.1137733942795\n",
      "-95.0\n",
      "starting...\n"
     ]
    },
    {
     "name": "stderr",
     "output_type": "stream",
     "text": [
      " 96%|███████████████████████████████████████████████████████████████▎  | 192/200 [28:10:13<3:16:28, 1473.62s/it]"
     ]
    },
    {
     "name": "stdout",
     "output_type": "stream",
     "text": [
      "The chain is shorter than 50 times the integrated autocorrelation time for 1 parameter(s). Use this estimate with caution and run a longer chain!\n",
      "N/50 = 20;\n",
      "tau: [22.35411348]\n",
      "final params:\n",
      "[[Fit Statistics]]\n",
      "    # fitting method   = emcee\n",
      "    # function evals   = 50000\n",
      "    # data points      = 629\n",
      "    # variables        = 1\n",
      "    chi-square         = 635.7937\n",
      "    reduced chi-square = 1.01241035\n",
      "    Akaike info crit   = 8.75727454\n",
      "    Bayesian info crit = 13.2014058\n",
      "[[Variables]]\n",
      "    teff:  15369 (fixed)\n",
      "    logg:  7.858653 (fixed)\n",
      "    RV:    1.05323220 +/- 18.4622895 (1752.92%) (init = 18.4817)\n",
      "    res:   1 (fixed)\n",
      "rv init: 18.481701686378607\n",
      "50.0\n",
      "starting...\n"
     ]
    },
    {
     "name": "stderr",
     "output_type": "stream",
     "text": [
      " 96%|███████████████████████████████████████████████████████████████▋  | 193/200 [28:13:49<2:07:52, 1096.09s/it]"
     ]
    },
    {
     "name": "stdout",
     "output_type": "stream",
     "text": [
      "The chain is shorter than 50 times the integrated autocorrelation time for 1 parameter(s). Use this estimate with caution and run a longer chain!\n",
      "N/50 = 20;\n",
      "tau: [22.67332094]\n",
      "final params:\n",
      "[[Fit Statistics]]\n",
      "    # fitting method   = emcee\n",
      "    # function evals   = 50000\n",
      "    # data points      = 629\n",
      "    # variables        = 1\n",
      "    chi-square         = 627.63196\n",
      "    reduced chi-square = 0.99941395\n",
      "    Akaike info crit   = 0.63046814\n",
      "    Bayesian info crit = 5.07459939\n",
      "[[Variables]]\n",
      "    teff:  10738 (fixed)\n",
      "    logg:  8.000076 (fixed)\n",
      "    RV:    55.1521831 +/- 5.48384604 (9.94%) (init = 57.00189)\n",
      "    res:   1 (fixed)\n",
      "rv init: 57.001891454365854\n",
      "65.0\n",
      "starting...\n",
      "emcee: Exception while calling your likelihood function:\n",
      "  params: [-63.9809517]\n",
      "  args: (<function fit_rv.<locals>.<lambda> at 0x7f4b9017d3a0>, Parameters([('teff', <Parameter 'teff', value=16185.0 (fixed), bounds=[3001:39999]>), ('logg', <Parameter 'logg', value=8.435816898315146 (fixed), bounds=[4.51:9.49]>), ('RV', <Parameter 'RV', value=-63.980951697863304, bounds=[-2500:2500]>), ('res', <Parameter 'res', value=1 (fixed), bounds=[0:inf]>)]), ['RV'], array([[-2500,  2500]]))\n",
      "  kwargs: {'is_weighted': True, 'float_behavior': 'chi2', 'userargs': [], 'userkws': {}, 'nan_policy': 'raise'}\n",
      "  exception:\n"
     ]
    },
    {
     "name": "stderr",
     "output_type": "stream",
     "text": [
      "Traceback (most recent call last):\n",
      "  File \"/home/arseneausm/anaconda3/lib/python3.8/site-packages/emcee-3.1.2-py3.8.egg/emcee/ensemble.py\", line 624, in __call__\n",
      "    return self.f(x, *self.args, **self.kwargs)\n",
      "  File \"/home/arseneausm/anaconda3/lib/python3.8/site-packages/lmfit-1.0.3-py3.8.egg/lmfit/minimizer.py\", line 1111, in _lnprob\n",
      "    out = userfcn(params, *userargs, **userkwargs)\n",
      "  File \"/home/arseneausm/anaconda3/lib/python3.8/site-packages/corv-0.1-py3.8.egg/corv/fit.py\", line 162, in <lambda>\n",
      "    residual = lambda params: normalized_residual(wl, fl, ivar,\n",
      "  File \"/home/arseneausm/anaconda3/lib/python3.8/site-packages/corv-0.1-py3.8.egg/corv/fit.py\", line 41, in normalized_residual\n",
      "    _,nmodel = models.get_normalized_model(wl, corvmodel, params)\n",
      "  File \"/home/arseneausm/anaconda3/lib/python3.8/site-packages/corv-0.1-py3.8.egg/corv/models.py\", line 224, in get_normalized_model\n",
      "    nwl, nfl, _ = utils.cont_norm_lines(wl, flux, flux,\n",
      "  File \"/home/arseneausm/anaconda3/lib/python3.8/site-packages/corv-0.1-py3.8.egg/corv/utils.py\", line 120, in cont_norm_lines\n",
      "    nwli, nfli, nivari = cont_norm_line(wl,\n",
      "  File \"/home/arseneausm/anaconda3/lib/python3.8/site-packages/corv-0.1-py3.8.egg/corv/utils.py\", line 108, in cont_norm_line\n",
      "    p = np.polynomial.polynomial.polyfit(wl[mask], fl[mask], 1)\n",
      "  File \"/home/arseneausm/anaconda3/lib/python3.8/site-packages/numpy-1.19.2-py3.8-linux-x86_64.egg/numpy/polynomial/polynomial.py\", line 1350, in polyfit\n",
      "    return pu._fit(polyvander, x, y, deg, rcond, full, w)\n",
      "  File \"/home/arseneausm/anaconda3/lib/python3.8/site-packages/numpy-1.19.2-py3.8-linux-x86_64.egg/numpy/polynomial/polyutils.py\", line 706, in _fit\n",
      "    c, resids, rank, s = np.linalg.lstsq(lhs.T/scl, rhs.T, rcond)\n",
      "  File \"<__array_function__ internals>\", line 5, in lstsq\n",
      "  File \"/home/arseneausm/anaconda3/lib/python3.8/site-packages/numpy-1.19.2-py3.8-linux-x86_64.egg/numpy/linalg/linalg.py\", line 2306, in lstsq\n",
      "    x, resids, rank, s = gufunc(a, b, rcond, signature=signature, extobj=extobj)\n",
      "KeyboardInterrupt\n",
      " 96%|████████████████████████████████████████████████████████████████▋  | 193/200 [28:16:11<1:01:31, 527.31s/it]\n"
     ]
    },
    {
     "ename": "KeyboardInterrupt",
     "evalue": "",
     "output_type": "error",
     "traceback": [
      "\u001b[0;31m---------------------------------------------------------------------------\u001b[0m",
      "\u001b[0;31mKeyboardInterrupt\u001b[0m                         Traceback (most recent call last)",
      "Input \u001b[0;32mIn [4]\u001b[0m, in \u001b[0;36m<cell line: 1>\u001b[0;34m()\u001b[0m\n\u001b[1;32m     20\u001b[0m     ivar \u001b[38;5;241m=\u001b[39m np\u001b[38;5;241m.\u001b[39marray(sp[i][\u001b[38;5;241m1\u001b[39m]\u001b[38;5;241m.\u001b[39mdata[\u001b[38;5;124m'\u001b[39m\u001b[38;5;124mivar\u001b[39m\u001b[38;5;124m'\u001b[39m])\n\u001b[1;32m     22\u001b[0m     corvmodel \u001b[38;5;241m=\u001b[39m corv\u001b[38;5;241m.\u001b[39mmodels\u001b[38;5;241m.\u001b[39mmake_koester_model(names \u001b[38;5;241m=\u001b[39m [\u001b[38;5;124m'\u001b[39m\u001b[38;5;124ma\u001b[39m\u001b[38;5;124m'\u001b[39m,\u001b[38;5;124m'\u001b[39m\u001b[38;5;124mb\u001b[39m\u001b[38;5;124m'\u001b[39m,\u001b[38;5;124m'\u001b[39m\u001b[38;5;124mg\u001b[39m\u001b[38;5;124m'\u001b[39m,\u001b[38;5;124m'\u001b[39m\u001b[38;5;124md\u001b[39m\u001b[38;5;124m'\u001b[39m])\n\u001b[0;32m---> 23\u001b[0m     param_res, rv_res, rv_init \u001b[38;5;241m=\u001b[39m \u001b[43mcorv\u001b[49m\u001b[38;5;241;43m.\u001b[39;49m\u001b[43mfit\u001b[49m\u001b[38;5;241;43m.\u001b[39;49m\u001b[43mfit_corv\u001b[49m\u001b[43m(\u001b[49m\u001b[43mwl\u001b[49m\u001b[43m,\u001b[49m\u001b[43m \u001b[49m\u001b[43mfl\u001b[49m\u001b[43m,\u001b[49m\u001b[43m \u001b[49m\u001b[43mivar\u001b[49m\u001b[43m,\u001b[49m\u001b[43m \u001b[49m\u001b[43mcorvmodel\u001b[49m\u001b[43m,\u001b[49m\u001b[43m \u001b[49m\u001b[43mteff\u001b[49m\u001b[43m \u001b[49m\u001b[38;5;241;43m=\u001b[39;49m\u001b[43m \u001b[49m\u001b[43mcatalog\u001b[49m\u001b[43m[\u001b[49m\u001b[38;5;124;43m'\u001b[39;49m\u001b[38;5;124;43mteff\u001b[39;49m\u001b[38;5;124;43m'\u001b[39;49m\u001b[43m]\u001b[49m\u001b[43m[\u001b[49m\u001b[43mj\u001b[49m\u001b[43m]\u001b[49m\u001b[43m)\u001b[49m\n\u001b[1;32m     24\u001b[0m     \u001b[38;5;28mprint\u001b[39m(catalog[\u001b[38;5;124m'\u001b[39m\u001b[38;5;124mvr\u001b[39m\u001b[38;5;124m'\u001b[39m][j])\n\u001b[1;32m     26\u001b[0m catalog[\u001b[38;5;124m'\u001b[39m\u001b[38;5;124mcorv_rv\u001b[39m\u001b[38;5;124m'\u001b[39m][j] \u001b[38;5;241m=\u001b[39m (rv_res\u001b[38;5;241m.\u001b[39mparams[\u001b[38;5;124m'\u001b[39m\u001b[38;5;124mRV\u001b[39m\u001b[38;5;124m'\u001b[39m]\u001b[38;5;241m.\u001b[39mvalue)\n",
      "File \u001b[0;32m~/anaconda3/lib/python3.8/site-packages/corv-0.1-py3.8.egg/corv/fit.py:234\u001b[0m, in \u001b[0;36mfit_corv\u001b[0;34m(wl, fl, ivar, corvmodel, xcorr_kw, iter_teff, tpar, teff)\u001b[0m\n\u001b[1;32m    230\u001b[0m     bestparams[\u001b[38;5;124m'\u001b[39m\u001b[38;5;124mteff\u001b[39m\u001b[38;5;124m'\u001b[39m]\u001b[38;5;241m.\u001b[39mvalue \u001b[38;5;241m=\u001b[39m teff\n\u001b[1;32m    232\u001b[0m \u001b[38;5;28mprint\u001b[39m(\u001b[38;5;124m'\u001b[39m\u001b[38;5;124mstarting...\u001b[39m\u001b[38;5;124m'\u001b[39m)\n\u001b[0;32m--> 234\u001b[0m rv_res, rv_init \u001b[38;5;241m=\u001b[39m \u001b[43mfit_rv\u001b[49m\u001b[43m(\u001b[49m\u001b[43mwl\u001b[49m\u001b[43m,\u001b[49m\u001b[43m \u001b[49m\u001b[43mfl\u001b[49m\u001b[43m,\u001b[49m\u001b[43m \u001b[49m\u001b[43mivar\u001b[49m\u001b[43m,\u001b[49m\u001b[43m \u001b[49m\u001b[43mcorvmodel\u001b[49m\u001b[43m,\u001b[49m\u001b[43m \u001b[49m\u001b[43mbestparams\u001b[49m\u001b[43m,\u001b[49m\u001b[43m \u001b[49m\u001b[38;5;241;43m*\u001b[39;49m\u001b[38;5;241;43m*\u001b[39;49m\u001b[43mxcorr_kw\u001b[49m\u001b[43m)\u001b[49m\n\u001b[1;32m    236\u001b[0m \u001b[38;5;28mprint\u001b[39m(\u001b[38;5;124m'\u001b[39m\u001b[38;5;124mfinal params:\u001b[39m\u001b[38;5;124m'\u001b[39m)\n\u001b[1;32m    237\u001b[0m \u001b[38;5;28mprint\u001b[39m(fit_report(rv_res))\n",
      "File \u001b[0;32m~/anaconda3/lib/python3.8/site-packages/corv-0.1-py3.8.egg/corv/fit.py:166\u001b[0m, in \u001b[0;36mfit_rv\u001b[0;34m(wl, fl, ivar, corvmodel, params, fix_nonrv, xcorr_kw)\u001b[0m\n\u001b[1;32m    162\u001b[0m     residual \u001b[38;5;241m=\u001b[39m \u001b[38;5;28;01mlambda\u001b[39;00m params: normalized_residual(wl, fl, ivar, \n\u001b[1;32m    163\u001b[0m                                                   corvmodel, params)\n\u001b[1;32m    165\u001b[0m     mini \u001b[38;5;241m=\u001b[39m lmfit\u001b[38;5;241m.\u001b[39mMinimizer(residual, params, max_nfev \u001b[38;5;241m=\u001b[39m \u001b[38;5;241m1000\u001b[39m) \n\u001b[0;32m--> 166\u001b[0m     res \u001b[38;5;241m=\u001b[39m \u001b[43mmini\u001b[49m\u001b[38;5;241;43m.\u001b[39;49m\u001b[43mminimize\u001b[49m\u001b[43m(\u001b[49m\u001b[43mmethod\u001b[49m\u001b[43m \u001b[49m\u001b[38;5;241;43m=\u001b[39;49m\u001b[43m \u001b[49m\u001b[38;5;124;43m'\u001b[39;49m\u001b[38;5;124;43memcee\u001b[39;49m\u001b[38;5;124;43m'\u001b[39;49m\u001b[43m,\u001b[49m\u001b[43m \u001b[49m\u001b[43mprogress\u001b[49m\u001b[43m \u001b[49m\u001b[38;5;241;43m=\u001b[39;49m\u001b[43m \u001b[49m\u001b[38;5;28;43;01mFalse\u001b[39;49;00m\u001b[43m,\u001b[49m\u001b[43m \u001b[49m\u001b[43mnwalkers\u001b[49m\u001b[43m \u001b[49m\u001b[38;5;241;43m=\u001b[39;49m\u001b[43m \u001b[49m\u001b[38;5;241;43m50\u001b[39;49m\u001b[43m,\u001b[49m\u001b[43m \u001b[49m\n\u001b[1;32m    167\u001b[0m \u001b[43m\t\t\t\t\t\t\t\u001b[49m\u001b[43mis_weighted\u001b[49m\u001b[43m \u001b[49m\u001b[38;5;241;43m=\u001b[39;49m\u001b[43m \u001b[49m\u001b[38;5;28;43;01mTrue\u001b[39;49;00m\u001b[43m,\u001b[49m\u001b[43m \u001b[49m\u001b[43mfloat_behavior\u001b[49m\u001b[43m \u001b[49m\u001b[38;5;241;43m=\u001b[39;49m\u001b[43m \u001b[49m\u001b[38;5;124;43m'\u001b[39;49m\u001b[38;5;124;43mchi2\u001b[39;49m\u001b[38;5;124;43m'\u001b[39;49m\u001b[43m)\u001b[49m\n\u001b[1;32m    169\u001b[0m     \u001b[38;5;28;01mreturn\u001b[39;00m res, rv_init\n",
      "File \u001b[0;32m~/anaconda3/lib/python3.8/site-packages/lmfit-1.0.3-py3.8.egg/lmfit/minimizer.py:2352\u001b[0m, in \u001b[0;36mMinimizer.minimize\u001b[0;34m(self, method, params, **kws)\u001b[0m\n\u001b[1;32m   2349\u001b[0m         \u001b[38;5;28;01mif\u001b[39;00m (key\u001b[38;5;241m.\u001b[39mlower()\u001b[38;5;241m.\u001b[39mstartswith(user_method) \u001b[38;5;129;01mor\u001b[39;00m\n\u001b[1;32m   2350\u001b[0m                 val\u001b[38;5;241m.\u001b[39mlower()\u001b[38;5;241m.\u001b[39mstartswith(user_method)):\n\u001b[1;32m   2351\u001b[0m             kwargs[\u001b[38;5;124m'\u001b[39m\u001b[38;5;124mmethod\u001b[39m\u001b[38;5;124m'\u001b[39m] \u001b[38;5;241m=\u001b[39m val\n\u001b[0;32m-> 2352\u001b[0m \u001b[38;5;28;01mreturn\u001b[39;00m \u001b[43mfunction\u001b[49m\u001b[43m(\u001b[49m\u001b[38;5;241;43m*\u001b[39;49m\u001b[38;5;241;43m*\u001b[39;49m\u001b[43mkwargs\u001b[49m\u001b[43m)\u001b[49m\n",
      "File \u001b[0;32m~/anaconda3/lib/python3.8/site-packages/lmfit-1.0.3-py3.8.egg/lmfit/minimizer.py:1451\u001b[0m, in \u001b[0;36mMinimizer.emcee\u001b[0;34m(self, params, steps, nwalkers, burn, thin, ntemps, pos, reuse_sampler, workers, float_behavior, is_weighted, seed, progress, run_mcmc_kwargs)\u001b[0m\n\u001b[1;32m   1449\u001b[0m \u001b[38;5;66;03m# now do a production run, sampling all the time\u001b[39;00m\n\u001b[1;32m   1450\u001b[0m \u001b[38;5;28;01mtry\u001b[39;00m:\n\u001b[0;32m-> 1451\u001b[0m     output \u001b[38;5;241m=\u001b[39m \u001b[38;5;28;43mself\u001b[39;49m\u001b[38;5;241;43m.\u001b[39;49m\u001b[43msampler\u001b[49m\u001b[38;5;241;43m.\u001b[39;49m\u001b[43mrun_mcmc\u001b[49m\u001b[43m(\u001b[49m\u001b[43mp0\u001b[49m\u001b[43m,\u001b[49m\u001b[43m \u001b[49m\u001b[43msteps\u001b[49m\u001b[43m,\u001b[49m\u001b[43m \u001b[49m\u001b[43mprogress\u001b[49m\u001b[38;5;241;43m=\u001b[39;49m\u001b[43mprogress\u001b[49m\u001b[43m,\u001b[49m\u001b[43m \u001b[49m\u001b[38;5;241;43m*\u001b[39;49m\u001b[38;5;241;43m*\u001b[39;49m\u001b[43mrun_mcmc_kwargs\u001b[49m\u001b[43m)\u001b[49m\n\u001b[1;32m   1452\u001b[0m     \u001b[38;5;28mself\u001b[39m\u001b[38;5;241m.\u001b[39m_lastpos \u001b[38;5;241m=\u001b[39m output\u001b[38;5;241m.\u001b[39mcoords\n\u001b[1;32m   1453\u001b[0m \u001b[38;5;28;01mexcept\u001b[39;00m AbortFitException:\n",
      "File \u001b[0;32m~/anaconda3/lib/python3.8/site-packages/emcee-3.1.2-py3.8.egg/emcee/ensemble.py:443\u001b[0m, in \u001b[0;36mEnsembleSampler.run_mcmc\u001b[0;34m(self, initial_state, nsteps, **kwargs)\u001b[0m\n\u001b[1;32m    440\u001b[0m     initial_state \u001b[38;5;241m=\u001b[39m \u001b[38;5;28mself\u001b[39m\u001b[38;5;241m.\u001b[39m_previous_state\n\u001b[1;32m    442\u001b[0m results \u001b[38;5;241m=\u001b[39m \u001b[38;5;28;01mNone\u001b[39;00m\n\u001b[0;32m--> 443\u001b[0m \u001b[38;5;28;01mfor\u001b[39;00m results \u001b[38;5;129;01min\u001b[39;00m \u001b[38;5;28mself\u001b[39m\u001b[38;5;241m.\u001b[39msample(initial_state, iterations\u001b[38;5;241m=\u001b[39mnsteps, \u001b[38;5;241m*\u001b[39m\u001b[38;5;241m*\u001b[39mkwargs):\n\u001b[1;32m    444\u001b[0m     \u001b[38;5;28;01mpass\u001b[39;00m\n\u001b[1;32m    446\u001b[0m \u001b[38;5;66;03m# Store so that the ``initial_state=None`` case will work\u001b[39;00m\n",
      "File \u001b[0;32m~/anaconda3/lib/python3.8/site-packages/emcee-3.1.2-py3.8.egg/emcee/ensemble.py:402\u001b[0m, in \u001b[0;36mEnsembleSampler.sample\u001b[0;34m(self, initial_state, log_prob0, rstate0, blobs0, iterations, tune, skip_initial_state_check, thin_by, thin, store, progress, progress_kwargs)\u001b[0m\n\u001b[1;32m    399\u001b[0m move \u001b[38;5;241m=\u001b[39m \u001b[38;5;28mself\u001b[39m\u001b[38;5;241m.\u001b[39m_random\u001b[38;5;241m.\u001b[39mchoice(\u001b[38;5;28mself\u001b[39m\u001b[38;5;241m.\u001b[39m_moves, p\u001b[38;5;241m=\u001b[39m\u001b[38;5;28mself\u001b[39m\u001b[38;5;241m.\u001b[39m_weights)\n\u001b[1;32m    401\u001b[0m \u001b[38;5;66;03m# Propose\u001b[39;00m\n\u001b[0;32m--> 402\u001b[0m state, accepted \u001b[38;5;241m=\u001b[39m \u001b[43mmove\u001b[49m\u001b[38;5;241;43m.\u001b[39;49m\u001b[43mpropose\u001b[49m\u001b[43m(\u001b[49m\u001b[43mmodel\u001b[49m\u001b[43m,\u001b[49m\u001b[43m \u001b[49m\u001b[43mstate\u001b[49m\u001b[43m)\u001b[49m\n\u001b[1;32m    403\u001b[0m state\u001b[38;5;241m.\u001b[39mrandom_state \u001b[38;5;241m=\u001b[39m \u001b[38;5;28mself\u001b[39m\u001b[38;5;241m.\u001b[39mrandom_state\n\u001b[1;32m    405\u001b[0m \u001b[38;5;28;01mif\u001b[39;00m tune:\n",
      "File \u001b[0;32m~/anaconda3/lib/python3.8/site-packages/emcee-3.1.2-py3.8.egg/emcee/moves/red_blue.py:93\u001b[0m, in \u001b[0;36mRedBlueMove.propose\u001b[0;34m(self, model, state)\u001b[0m\n\u001b[1;32m     90\u001b[0m q, factors \u001b[38;5;241m=\u001b[39m \u001b[38;5;28mself\u001b[39m\u001b[38;5;241m.\u001b[39mget_proposal(s, c, model\u001b[38;5;241m.\u001b[39mrandom)\n\u001b[1;32m     92\u001b[0m \u001b[38;5;66;03m# Compute the lnprobs of the proposed position.\u001b[39;00m\n\u001b[0;32m---> 93\u001b[0m new_log_probs, new_blobs \u001b[38;5;241m=\u001b[39m \u001b[43mmodel\u001b[49m\u001b[38;5;241;43m.\u001b[39;49m\u001b[43mcompute_log_prob_fn\u001b[49m\u001b[43m(\u001b[49m\u001b[43mq\u001b[49m\u001b[43m)\u001b[49m\n\u001b[1;32m     95\u001b[0m \u001b[38;5;66;03m# Loop over the walkers and update them accordingly.\u001b[39;00m\n\u001b[1;32m     96\u001b[0m \u001b[38;5;28;01mfor\u001b[39;00m i, (j, f, nlp) \u001b[38;5;129;01min\u001b[39;00m \u001b[38;5;28menumerate\u001b[39m(\n\u001b[1;32m     97\u001b[0m     \u001b[38;5;28mzip\u001b[39m(all_inds[S1], factors, new_log_probs)\n\u001b[1;32m     98\u001b[0m ):\n",
      "File \u001b[0;32m~/anaconda3/lib/python3.8/site-packages/emcee-3.1.2-py3.8.egg/emcee/ensemble.py:489\u001b[0m, in \u001b[0;36mEnsembleSampler.compute_log_prob\u001b[0;34m(self, coords)\u001b[0m\n\u001b[1;32m    487\u001b[0m     \u001b[38;5;28;01melse\u001b[39;00m:\n\u001b[1;32m    488\u001b[0m         map_func \u001b[38;5;241m=\u001b[39m \u001b[38;5;28mmap\u001b[39m\n\u001b[0;32m--> 489\u001b[0m     results \u001b[38;5;241m=\u001b[39m \u001b[38;5;28;43mlist\u001b[39;49m\u001b[43m(\u001b[49m\u001b[43mmap_func\u001b[49m\u001b[43m(\u001b[49m\u001b[38;5;28;43mself\u001b[39;49m\u001b[38;5;241;43m.\u001b[39;49m\u001b[43mlog_prob_fn\u001b[49m\u001b[43m,\u001b[49m\u001b[43m \u001b[49m\u001b[43mp\u001b[49m\u001b[43m)\u001b[49m\u001b[43m)\u001b[49m\n\u001b[1;32m    491\u001b[0m \u001b[38;5;28;01mtry\u001b[39;00m:\n\u001b[1;32m    492\u001b[0m     log_prob \u001b[38;5;241m=\u001b[39m np\u001b[38;5;241m.\u001b[39marray([\u001b[38;5;28mfloat\u001b[39m(l[\u001b[38;5;241m0\u001b[39m]) \u001b[38;5;28;01mfor\u001b[39;00m l \u001b[38;5;129;01min\u001b[39;00m results])\n",
      "File \u001b[0;32m~/anaconda3/lib/python3.8/site-packages/emcee-3.1.2-py3.8.egg/emcee/ensemble.py:624\u001b[0m, in \u001b[0;36m_FunctionWrapper.__call__\u001b[0;34m(self, x)\u001b[0m\n\u001b[1;32m    622\u001b[0m \u001b[38;5;28;01mdef\u001b[39;00m \u001b[38;5;21m__call__\u001b[39m(\u001b[38;5;28mself\u001b[39m, x):\n\u001b[1;32m    623\u001b[0m     \u001b[38;5;28;01mtry\u001b[39;00m:\n\u001b[0;32m--> 624\u001b[0m         \u001b[38;5;28;01mreturn\u001b[39;00m \u001b[38;5;28;43mself\u001b[39;49m\u001b[38;5;241;43m.\u001b[39;49m\u001b[43mf\u001b[49m\u001b[43m(\u001b[49m\u001b[43mx\u001b[49m\u001b[43m,\u001b[49m\u001b[43m \u001b[49m\u001b[38;5;241;43m*\u001b[39;49m\u001b[38;5;28;43mself\u001b[39;49m\u001b[38;5;241;43m.\u001b[39;49m\u001b[43margs\u001b[49m\u001b[43m,\u001b[49m\u001b[43m \u001b[49m\u001b[38;5;241;43m*\u001b[39;49m\u001b[38;5;241;43m*\u001b[39;49m\u001b[38;5;28;43mself\u001b[39;49m\u001b[38;5;241;43m.\u001b[39;49m\u001b[43mkwargs\u001b[49m\u001b[43m)\u001b[49m\n\u001b[1;32m    625\u001b[0m     \u001b[38;5;28;01mexcept\u001b[39;00m:  \u001b[38;5;66;03m# pragma: no cover\u001b[39;00m\n\u001b[1;32m    626\u001b[0m         \u001b[38;5;28;01mimport\u001b[39;00m \u001b[38;5;21;01mtraceback\u001b[39;00m\n",
      "File \u001b[0;32m~/anaconda3/lib/python3.8/site-packages/lmfit-1.0.3-py3.8.egg/lmfit/minimizer.py:1111\u001b[0m, in \u001b[0;36mMinimizer._lnprob\u001b[0;34m(self, theta, userfcn, params, var_names, bounds, userargs, userkws, float_behavior, is_weighted, nan_policy)\u001b[0m\n\u001b[1;32m   1109\u001b[0m params\u001b[38;5;241m.\u001b[39mupdate_constraints()\n\u001b[1;32m   1110\u001b[0m \u001b[38;5;66;03m# now calculate the log-likelihood\u001b[39;00m\n\u001b[0;32m-> 1111\u001b[0m out \u001b[38;5;241m=\u001b[39m \u001b[43muserfcn\u001b[49m\u001b[43m(\u001b[49m\u001b[43mparams\u001b[49m\u001b[43m,\u001b[49m\u001b[43m \u001b[49m\u001b[38;5;241;43m*\u001b[39;49m\u001b[43muserargs\u001b[49m\u001b[43m,\u001b[49m\u001b[43m \u001b[49m\u001b[38;5;241;43m*\u001b[39;49m\u001b[38;5;241;43m*\u001b[39;49m\u001b[43muserkwargs\u001b[49m\u001b[43m)\u001b[49m\n\u001b[1;32m   1112\u001b[0m \u001b[38;5;28mself\u001b[39m\u001b[38;5;241m.\u001b[39mresult\u001b[38;5;241m.\u001b[39mnfev \u001b[38;5;241m+\u001b[39m\u001b[38;5;241m=\u001b[39m \u001b[38;5;241m1\u001b[39m\n\u001b[1;32m   1113\u001b[0m \u001b[38;5;28;01mif\u001b[39;00m callable(\u001b[38;5;28mself\u001b[39m\u001b[38;5;241m.\u001b[39miter_cb):\n",
      "File \u001b[0;32m~/anaconda3/lib/python3.8/site-packages/corv-0.1-py3.8.egg/corv/fit.py:162\u001b[0m, in \u001b[0;36mfit_rv.<locals>.<lambda>\u001b[0;34m(params)\u001b[0m\n\u001b[1;32m    158\u001b[0m             params[param]\u001b[38;5;241m.\u001b[39mset(vary \u001b[38;5;241m=\u001b[39m \u001b[38;5;28;01mFalse\u001b[39;00m)\n\u001b[1;32m    160\u001b[0m     params[\u001b[38;5;124m'\u001b[39m\u001b[38;5;124mRV\u001b[39m\u001b[38;5;124m'\u001b[39m]\u001b[38;5;241m.\u001b[39mset(value \u001b[38;5;241m=\u001b[39m rv_init, vary \u001b[38;5;241m=\u001b[39m \u001b[38;5;28;01mTrue\u001b[39;00m)\n\u001b[0;32m--> 162\u001b[0m     residual \u001b[38;5;241m=\u001b[39m \u001b[38;5;28;01mlambda\u001b[39;00m params: \u001b[43mnormalized_residual\u001b[49m\u001b[43m(\u001b[49m\u001b[43mwl\u001b[49m\u001b[43m,\u001b[49m\u001b[43m \u001b[49m\u001b[43mfl\u001b[49m\u001b[43m,\u001b[49m\u001b[43m \u001b[49m\u001b[43mivar\u001b[49m\u001b[43m,\u001b[49m\u001b[43m \u001b[49m\n\u001b[1;32m    163\u001b[0m \u001b[43m                                                  \u001b[49m\u001b[43mcorvmodel\u001b[49m\u001b[43m,\u001b[49m\u001b[43m \u001b[49m\u001b[43mparams\u001b[49m\u001b[43m)\u001b[49m\n\u001b[1;32m    165\u001b[0m     mini \u001b[38;5;241m=\u001b[39m lmfit\u001b[38;5;241m.\u001b[39mMinimizer(residual, params, max_nfev \u001b[38;5;241m=\u001b[39m \u001b[38;5;241m1000\u001b[39m) \n\u001b[1;32m    166\u001b[0m     res \u001b[38;5;241m=\u001b[39m mini\u001b[38;5;241m.\u001b[39mminimize(method \u001b[38;5;241m=\u001b[39m \u001b[38;5;124m'\u001b[39m\u001b[38;5;124memcee\u001b[39m\u001b[38;5;124m'\u001b[39m, progress \u001b[38;5;241m=\u001b[39m \u001b[38;5;28;01mFalse\u001b[39;00m, nwalkers \u001b[38;5;241m=\u001b[39m \u001b[38;5;241m50\u001b[39m, \n\u001b[1;32m    167\u001b[0m \t\t\t\t\t\t\tis_weighted \u001b[38;5;241m=\u001b[39m \u001b[38;5;28;01mTrue\u001b[39;00m, float_behavior \u001b[38;5;241m=\u001b[39m \u001b[38;5;124m'\u001b[39m\u001b[38;5;124mchi2\u001b[39m\u001b[38;5;124m'\u001b[39m)\n",
      "File \u001b[0;32m~/anaconda3/lib/python3.8/site-packages/corv-0.1-py3.8.egg/corv/fit.py:41\u001b[0m, in \u001b[0;36mnormalized_residual\u001b[0;34m(wl, fl, ivar, corvmodel, params)\u001b[0m\n\u001b[1;32m     15\u001b[0m \u001b[38;5;124;03m\"\"\"\u001b[39;00m\n\u001b[1;32m     16\u001b[0m \u001b[38;5;124;03mError-scaled residuals between data and evaluated model\u001b[39;00m\n\u001b[1;32m     17\u001b[0m \u001b[38;5;124;03mParameters\u001b[39;00m\n\u001b[0;32m   (...)\u001b[0m\n\u001b[1;32m     32\u001b[0m \u001b[38;5;124;03m    error-scaled residual array.\u001b[39;00m\n\u001b[1;32m     33\u001b[0m \u001b[38;5;124;03m\"\"\"\u001b[39;00m\n\u001b[1;32m     35\u001b[0m nwl, nfl, nivar \u001b[38;5;241m=\u001b[39m utils\u001b[38;5;241m.\u001b[39mcont_norm_lines(wl, fl, ivar,\n\u001b[1;32m     36\u001b[0m                                         corvmodel\u001b[38;5;241m.\u001b[39mnames,\n\u001b[1;32m     37\u001b[0m                                         corvmodel\u001b[38;5;241m.\u001b[39mcentres,\n\u001b[1;32m     38\u001b[0m                                         corvmodel\u001b[38;5;241m.\u001b[39mwindows,\n\u001b[1;32m     39\u001b[0m                                         corvmodel\u001b[38;5;241m.\u001b[39medges)\n\u001b[0;32m---> 41\u001b[0m _,nmodel \u001b[38;5;241m=\u001b[39m \u001b[43mmodels\u001b[49m\u001b[38;5;241;43m.\u001b[39;49m\u001b[43mget_normalized_model\u001b[49m\u001b[43m(\u001b[49m\u001b[43mwl\u001b[49m\u001b[43m,\u001b[49m\u001b[43m \u001b[49m\u001b[43mcorvmodel\u001b[49m\u001b[43m,\u001b[49m\u001b[43m \u001b[49m\u001b[43mparams\u001b[49m\u001b[43m)\u001b[49m\n\u001b[1;32m     42\u001b[0m resid \u001b[38;5;241m=\u001b[39m ((nfl \u001b[38;5;241m-\u001b[39m nmodel) \u001b[38;5;241m*\u001b[39m np\u001b[38;5;241m.\u001b[39msqrt(nivar))\n\u001b[1;32m     44\u001b[0m \u001b[38;5;28;01mreturn\u001b[39;00m resid\n",
      "File \u001b[0;32m~/anaconda3/lib/python3.8/site-packages/corv-0.1-py3.8.egg/corv/models.py:224\u001b[0m, in \u001b[0;36mget_normalized_model\u001b[0;34m(wl, corvmodel, params)\u001b[0m\n\u001b[1;32m    201\u001b[0m \u001b[38;5;124;03m\"\"\"\u001b[39;00m\n\u001b[1;32m    202\u001b[0m \u001b[38;5;124;03mEvaluates and continuum-normalizes a given corvmodel. \u001b[39;00m\n\u001b[1;32m    203\u001b[0m \n\u001b[0;32m   (...)\u001b[0m\n\u001b[1;32m    219\u001b[0m \n\u001b[1;32m    220\u001b[0m \u001b[38;5;124;03m\"\"\"\u001b[39;00m\n\u001b[1;32m    222\u001b[0m flux \u001b[38;5;241m=\u001b[39m corvmodel\u001b[38;5;241m.\u001b[39meval(params, x \u001b[38;5;241m=\u001b[39m wl)\n\u001b[0;32m--> 224\u001b[0m nwl, nfl, _ \u001b[38;5;241m=\u001b[39m \u001b[43mutils\u001b[49m\u001b[38;5;241;43m.\u001b[39;49m\u001b[43mcont_norm_lines\u001b[49m\u001b[43m(\u001b[49m\u001b[43mwl\u001b[49m\u001b[43m,\u001b[49m\u001b[43m \u001b[49m\u001b[43mflux\u001b[49m\u001b[43m,\u001b[49m\u001b[43m \u001b[49m\u001b[43mflux\u001b[49m\u001b[43m,\u001b[49m\n\u001b[1;32m    225\u001b[0m \u001b[43m                              \u001b[49m\u001b[43mcorvmodel\u001b[49m\u001b[38;5;241;43m.\u001b[39;49m\u001b[43mnames\u001b[49m\u001b[43m,\u001b[49m\n\u001b[1;32m    226\u001b[0m \u001b[43m                              \u001b[49m\u001b[43mcorvmodel\u001b[49m\u001b[38;5;241;43m.\u001b[39;49m\u001b[43mcentres\u001b[49m\u001b[43m,\u001b[49m\n\u001b[1;32m    227\u001b[0m \u001b[43m                              \u001b[49m\u001b[43mcorvmodel\u001b[49m\u001b[38;5;241;43m.\u001b[39;49m\u001b[43mwindows\u001b[49m\u001b[43m,\u001b[49m\n\u001b[1;32m    228\u001b[0m \u001b[43m                              \u001b[49m\u001b[43mcorvmodel\u001b[49m\u001b[38;5;241;43m.\u001b[39;49m\u001b[43medges\u001b[49m\u001b[43m)\u001b[49m\n\u001b[1;32m    230\u001b[0m \u001b[38;5;28;01mreturn\u001b[39;00m nwl, nfl\n",
      "File \u001b[0;32m~/anaconda3/lib/python3.8/site-packages/corv-0.1-py3.8.egg/corv/utils.py:120\u001b[0m, in \u001b[0;36mcont_norm_lines\u001b[0;34m(wl, fl, ivar, names, centres, windows, edges)\u001b[0m\n\u001b[1;32m    117\u001b[0m nivar \u001b[38;5;241m=\u001b[39m [];\n\u001b[1;32m    119\u001b[0m \u001b[38;5;28;01mfor\u001b[39;00m line \u001b[38;5;129;01min\u001b[39;00m names:\n\u001b[0;32m--> 120\u001b[0m     nwli, nfli, nivari \u001b[38;5;241m=\u001b[39m \u001b[43mcont_norm_line\u001b[49m\u001b[43m(\u001b[49m\u001b[43mwl\u001b[49m\u001b[43m,\u001b[49m\u001b[43m \u001b[49m\n\u001b[1;32m    121\u001b[0m \u001b[43m                                        \u001b[49m\u001b[43mfl\u001b[49m\u001b[43m,\u001b[49m\u001b[43m \u001b[49m\n\u001b[1;32m    122\u001b[0m \u001b[43m                                        \u001b[49m\u001b[43mivar\u001b[49m\u001b[43m,\u001b[49m\u001b[43m \u001b[49m\n\u001b[1;32m    123\u001b[0m \u001b[43m                                        \u001b[49m\u001b[43mcentres\u001b[49m\u001b[43m[\u001b[49m\u001b[43mline\u001b[49m\u001b[43m]\u001b[49m\u001b[43m,\u001b[49m\u001b[43m \u001b[49m\n\u001b[1;32m    124\u001b[0m \u001b[43m                                        \u001b[49m\u001b[43mwindows\u001b[49m\u001b[43m[\u001b[49m\u001b[43mline\u001b[49m\u001b[43m]\u001b[49m\u001b[43m,\u001b[49m\u001b[43m \u001b[49m\n\u001b[1;32m    125\u001b[0m \u001b[43m                                        \u001b[49m\u001b[43medges\u001b[49m\u001b[43m[\u001b[49m\u001b[43mline\u001b[49m\u001b[43m]\u001b[49m\u001b[43m)\u001b[49m\n\u001b[1;32m    126\u001b[0m     nwl\u001b[38;5;241m.\u001b[39mextend(nwli)\n\u001b[1;32m    127\u001b[0m     nfl\u001b[38;5;241m.\u001b[39mextend(nfli)\n",
      "File \u001b[0;32m~/anaconda3/lib/python3.8/site-packages/corv-0.1-py3.8.egg/corv/utils.py:108\u001b[0m, in \u001b[0;36mcont_norm_line\u001b[0;34m(wl, fl, ivar, centre, window, edge)\u001b[0m\n\u001b[1;32m    105\u001b[0m mask[edge:\u001b[38;5;241m-\u001b[39medge] \u001b[38;5;241m=\u001b[39m \u001b[38;5;241m0\u001b[39m\n\u001b[1;32m    106\u001b[0m mask \u001b[38;5;241m=\u001b[39m mask\u001b[38;5;241m.\u001b[39mastype(\u001b[38;5;28mbool\u001b[39m)\n\u001b[0;32m--> 108\u001b[0m p \u001b[38;5;241m=\u001b[39m \u001b[43mnp\u001b[49m\u001b[38;5;241;43m.\u001b[39;49m\u001b[43mpolynomial\u001b[49m\u001b[38;5;241;43m.\u001b[39;49m\u001b[43mpolynomial\u001b[49m\u001b[38;5;241;43m.\u001b[39;49m\u001b[43mpolyfit\u001b[49m\u001b[43m(\u001b[49m\u001b[43mwl\u001b[49m\u001b[43m[\u001b[49m\u001b[43mmask\u001b[49m\u001b[43m]\u001b[49m\u001b[43m,\u001b[49m\u001b[43m \u001b[49m\u001b[43mfl\u001b[49m\u001b[43m[\u001b[49m\u001b[43mmask\u001b[49m\u001b[43m]\u001b[49m\u001b[43m,\u001b[49m\u001b[43m \u001b[49m\u001b[38;5;241;43m1\u001b[39;49m\u001b[43m)\u001b[49m\n\u001b[1;32m    109\u001b[0m continuum \u001b[38;5;241m=\u001b[39m np\u001b[38;5;241m.\u001b[39mpolynomial\u001b[38;5;241m.\u001b[39mpolynomial\u001b[38;5;241m.\u001b[39mpolyval(wl, p)\n\u001b[1;32m    110\u001b[0m norm_fl \u001b[38;5;241m=\u001b[39m fl \u001b[38;5;241m/\u001b[39m continuum\n",
      "File \u001b[0;32m~/anaconda3/lib/python3.8/site-packages/numpy-1.19.2-py3.8-linux-x86_64.egg/numpy/polynomial/polynomial.py:1350\u001b[0m, in \u001b[0;36mpolyfit\u001b[0;34m(x, y, deg, rcond, full, w)\u001b[0m\n\u001b[1;32m   1207\u001b[0m \u001b[38;5;28;01mdef\u001b[39;00m \u001b[38;5;21mpolyfit\u001b[39m(x, y, deg, rcond\u001b[38;5;241m=\u001b[39m\u001b[38;5;28;01mNone\u001b[39;00m, full\u001b[38;5;241m=\u001b[39m\u001b[38;5;28;01mFalse\u001b[39;00m, w\u001b[38;5;241m=\u001b[39m\u001b[38;5;28;01mNone\u001b[39;00m):\n\u001b[1;32m   1208\u001b[0m     \u001b[38;5;124;03m\"\"\"\u001b[39;00m\n\u001b[1;32m   1209\u001b[0m \u001b[38;5;124;03m    Least-squares fit of a polynomial to data.\u001b[39;00m\n\u001b[1;32m   1210\u001b[0m \n\u001b[0;32m   (...)\u001b[0m\n\u001b[1;32m   1348\u001b[0m \n\u001b[1;32m   1349\u001b[0m \u001b[38;5;124;03m    \"\"\"\u001b[39;00m\n\u001b[0;32m-> 1350\u001b[0m     \u001b[38;5;28;01mreturn\u001b[39;00m \u001b[43mpu\u001b[49m\u001b[38;5;241;43m.\u001b[39;49m\u001b[43m_fit\u001b[49m\u001b[43m(\u001b[49m\u001b[43mpolyvander\u001b[49m\u001b[43m,\u001b[49m\u001b[43m \u001b[49m\u001b[43mx\u001b[49m\u001b[43m,\u001b[49m\u001b[43m \u001b[49m\u001b[43my\u001b[49m\u001b[43m,\u001b[49m\u001b[43m \u001b[49m\u001b[43mdeg\u001b[49m\u001b[43m,\u001b[49m\u001b[43m \u001b[49m\u001b[43mrcond\u001b[49m\u001b[43m,\u001b[49m\u001b[43m \u001b[49m\u001b[43mfull\u001b[49m\u001b[43m,\u001b[49m\u001b[43m \u001b[49m\u001b[43mw\u001b[49m\u001b[43m)\u001b[49m\n",
      "File \u001b[0;32m~/anaconda3/lib/python3.8/site-packages/numpy-1.19.2-py3.8-linux-x86_64.egg/numpy/polynomial/polyutils.py:706\u001b[0m, in \u001b[0;36m_fit\u001b[0;34m(vander_f, x, y, deg, rcond, full, w)\u001b[0m\n\u001b[1;32m    703\u001b[0m scl[scl \u001b[38;5;241m==\u001b[39m \u001b[38;5;241m0\u001b[39m] \u001b[38;5;241m=\u001b[39m \u001b[38;5;241m1\u001b[39m\n\u001b[1;32m    705\u001b[0m \u001b[38;5;66;03m# Solve the least squares problem.\u001b[39;00m\n\u001b[0;32m--> 706\u001b[0m c, resids, rank, s \u001b[38;5;241m=\u001b[39m \u001b[43mnp\u001b[49m\u001b[38;5;241;43m.\u001b[39;49m\u001b[43mlinalg\u001b[49m\u001b[38;5;241;43m.\u001b[39;49m\u001b[43mlstsq\u001b[49m\u001b[43m(\u001b[49m\u001b[43mlhs\u001b[49m\u001b[38;5;241;43m.\u001b[39;49m\u001b[43mT\u001b[49m\u001b[38;5;241;43m/\u001b[39;49m\u001b[43mscl\u001b[49m\u001b[43m,\u001b[49m\u001b[43m \u001b[49m\u001b[43mrhs\u001b[49m\u001b[38;5;241;43m.\u001b[39;49m\u001b[43mT\u001b[49m\u001b[43m,\u001b[49m\u001b[43m \u001b[49m\u001b[43mrcond\u001b[49m\u001b[43m)\u001b[49m\n\u001b[1;32m    707\u001b[0m c \u001b[38;5;241m=\u001b[39m (c\u001b[38;5;241m.\u001b[39mT\u001b[38;5;241m/\u001b[39mscl)\u001b[38;5;241m.\u001b[39mT\n\u001b[1;32m    709\u001b[0m \u001b[38;5;66;03m# Expand c to include non-fitted coefficients which are set to zero\u001b[39;00m\n",
      "File \u001b[0;32m<__array_function__ internals>:5\u001b[0m, in \u001b[0;36mlstsq\u001b[0;34m(*args, **kwargs)\u001b[0m\n",
      "File \u001b[0;32m~/anaconda3/lib/python3.8/site-packages/numpy-1.19.2-py3.8-linux-x86_64.egg/numpy/linalg/linalg.py:2306\u001b[0m, in \u001b[0;36mlstsq\u001b[0;34m(a, b, rcond)\u001b[0m\n\u001b[1;32m   2303\u001b[0m \u001b[38;5;28;01mif\u001b[39;00m n_rhs \u001b[38;5;241m==\u001b[39m \u001b[38;5;241m0\u001b[39m:\n\u001b[1;32m   2304\u001b[0m     \u001b[38;5;66;03m# lapack can't handle n_rhs = 0 - so allocate the array one larger in that axis\u001b[39;00m\n\u001b[1;32m   2305\u001b[0m     b \u001b[38;5;241m=\u001b[39m zeros(b\u001b[38;5;241m.\u001b[39mshape[:\u001b[38;5;241m-\u001b[39m\u001b[38;5;241m2\u001b[39m] \u001b[38;5;241m+\u001b[39m (m, n_rhs \u001b[38;5;241m+\u001b[39m \u001b[38;5;241m1\u001b[39m), dtype\u001b[38;5;241m=\u001b[39mb\u001b[38;5;241m.\u001b[39mdtype)\n\u001b[0;32m-> 2306\u001b[0m x, resids, rank, s \u001b[38;5;241m=\u001b[39m \u001b[43mgufunc\u001b[49m\u001b[43m(\u001b[49m\u001b[43ma\u001b[49m\u001b[43m,\u001b[49m\u001b[43m \u001b[49m\u001b[43mb\u001b[49m\u001b[43m,\u001b[49m\u001b[43m \u001b[49m\u001b[43mrcond\u001b[49m\u001b[43m,\u001b[49m\u001b[43m \u001b[49m\u001b[43msignature\u001b[49m\u001b[38;5;241;43m=\u001b[39;49m\u001b[43msignature\u001b[49m\u001b[43m,\u001b[49m\u001b[43m \u001b[49m\u001b[43mextobj\u001b[49m\u001b[38;5;241;43m=\u001b[39;49m\u001b[43mextobj\u001b[49m\u001b[43m)\u001b[49m\n\u001b[1;32m   2307\u001b[0m \u001b[38;5;28;01mif\u001b[39;00m m \u001b[38;5;241m==\u001b[39m \u001b[38;5;241m0\u001b[39m:\n\u001b[1;32m   2308\u001b[0m     x[\u001b[38;5;241m.\u001b[39m\u001b[38;5;241m.\u001b[39m\u001b[38;5;241m.\u001b[39m] \u001b[38;5;241m=\u001b[39m \u001b[38;5;241m0\u001b[39m\n",
      "\u001b[0;31mKeyboardInterrupt\u001b[0m: "
     ]
    }
   ],
   "source": [
    "for j in tqdm( range(len(catalog[:200]))):\n",
    "    p,m,f = np.array(catalog['col_p_m_f'][j].split('-')).astype(float)\n",
    "    \n",
    "    try:\n",
    "        xid = SDSS.query_specobj(plate = p, mjd = m, fiberID = f)\n",
    "    except ValueError:\n",
    "        print('unknown error')\n",
    "        \n",
    "    if xid == None:\n",
    "        print('object not found in SDSS... skipping...')\n",
    "        continue\n",
    "    try:\n",
    "        sp = SDSS.get_spectra(matches=xid)\n",
    "    except:\n",
    "        print('http error')\n",
    "        continue\n",
    "    for i in range(len(sp[0:1])):\n",
    "        wl = np.array(10**sp[i][1].data['loglam'])\n",
    "        fl = np.array(sp[i][1].data['flux'])\n",
    "        ivar = np.array(sp[i][1].data['ivar'])\n",
    "        \n",
    "        corvmodel = corv.models.make_koester_model(names = ['a','b','g','d'])\n",
    "        param_res, rv_res, rv_init = corv.fit.fit_corv(wl, fl, ivar, corvmodel, teff = catalog['teff'][j])\n",
    "        print(catalog['vr'][j])\n",
    "        \n",
    "    catalog['corv_rv'][j] = (rv_res.params['RV'].value)\n",
    "    catalog['corv_erv'][j] = (rv_res.params['RV'].stderr)"
   ]
  },
  {
   "cell_type": "code",
   "execution_count": 5,
   "id": "64284eaf-fea4-49ee-8fec-4d8f622d69f1",
   "metadata": {},
   "outputs": [
    {
     "name": "stdout",
     "output_type": "stream",
     "text": [
      "28.0\n"
     ]
    }
   ],
   "source": [
    "print(catalog['vr'][0])"
   ]
  },
  {
   "cell_type": "code",
   "execution_count": 15,
   "id": "24954ef0-3f93-4a43-99cd-c303bc3156d9",
   "metadata": {},
   "outputs": [
    {
     "data": {
      "text/plain": [
       "Text(0, 0.5, 'My RV $[km/s]$')"
      ]
     },
     "execution_count": 15,
     "metadata": {},
     "output_type": "execute_result"
    },
    {
     "data": {
      "image/png": "[encoded data removed]",
      "text/plain": [
       "<Figure size 720x720 with 1 Axes>"
      ]
     },
     "metadata": {
      "needs_background": "light"
     },
     "output_type": "display_data"
    }
   ],
   "source": [
    "import scipy.stats as stats\n",
    "\n",
    "def linear(x):\n",
    "    return x\n",
    "\n",
    "temp_catalog = catalog#[np.abs(stats.zscore(catalog['vr'])) < 1].copy()\n",
    "\n",
    "plt.figure(figsize=(10,10))\n",
    "plt.grid()\n",
    "\n",
    "plt.errorbar(catalog['vr'][np.abs(catalog['corv_rv']) < 2500], catalog['corv_rv'][np.abs(catalog['corv_rv']) < 2500], \n",
    "             xerr = catalog['dvr'][np.abs(catalog['corv_rv']) < 2500], yerr = catalog['corv_erv'][np.abs(catalog['corv_rv']) < 2500], fmt='o', alpha = 0.6)\n",
    "plt.plot(catalog['vr'][np.abs(catalog['corv_rv']) < 2500], linear(catalog['vr'][np.abs(catalog['corv_rv']) < 2500]))\n",
    "\n",
    "\n",
    "ymin, ymax = plt.ylim()\n",
    "plt.xlabel(r'Vedant RV $[km/s]$', fontsize=18)\n",
    "plt.ylabel(r'My RV $[km/s]$', fontsize=18)\n",
    "#plt.colorbar()"
   ]
  },
  {
   "cell_type": "code",
   "execution_count": 30,
   "id": "fa019e10-6c37-4a1f-8c96-0011a3eb3f69",
   "metadata": {},
   "outputs": [],
   "source": [
    "from astropy.io import ascii\n",
    "\n",
    "falcon = Table.read('data/verification/falcon2010.fit')"
   ]
  },
  {
   "cell_type": "code",
   "execution_count": 31,
   "id": "a46ac597-2b6a-4272-a947-f8e8b101a30f",
   "metadata": {},
   "outputs": [
    {
     "name": "stdout",
     "output_type": "stream",
     "text": [
      "   _Glon       _Glat      _RAJ2000    _DEJ2000       Name     ...  Obs-V  e_Obs-V Simbad    _RA       _DE   \n",
      "    deg         deg         deg         deg                   ...  km / s  km / s           deg       deg   \n",
      "----------- ----------- ----------- ----------- ------------- ... ------- ------- ------ --------- ---------\n",
      " 68.6811530 -75.8545186   0.7967083 -18.3660000 WD 0000-186   ...  24.531   0.073 Simbad   0.79671 -18.36600\n",
      " 68.6811530 -75.8545186   0.7967083 -18.3660000 WD 0000-186   ...  24.343   1.236 Simbad   0.79671 -18.36600\n",
      "107.1548732 -44.5646136   1.1805833  16.8713056 HS 0002+1635  ...  23.518   2.450 Simbad   1.18058  16.87131\n",
      " 78.0385783 -74.9936026   1.8950000 -16.0921667 WD 0005-163   ...  15.006   0.140 Simbad   1.89500 -16.09217\n",
      " 78.0385783 -74.9936026   1.8950000 -16.0921667 WD 0005-163   ...  14.907   3.445 Simbad   1.89500 -16.09217\n",
      "103.0899741 -61.0846261   3.4132917   0.3230833 WD 0011+000   ...  22.823   0.978 Simbad   3.41329   0.32308\n",
      "103.0899741 -61.0846261   3.4132917   0.3230833 WD 0011+000   ...  25.657   0.025 Simbad   3.41329   0.32308\n",
      " 53.4914328 -81.3978308   4.0526250 -23.8351111 WD 0013-241   ...  15.760   0.020 Simbad   4.05262 -23.83511\n",
      " 53.4914328 -81.3978308   4.0526250 -23.8351111 WD 0013-241   ...  12.617   1.505 Simbad   4.05262 -23.83511\n",
      " 42.7935357 -82.5226498   4.6853750 -25.6117222 WD 0016-258   ...  45.801   1.451 Simbad   4.68537 -25.61172\n",
      "        ...         ...         ...         ...           ... ...     ...     ...    ...       ...       ...\n",
      " 23.6951751  21.4738573 259.6469583   1.9476111 WD 1716+020   ...  10.643   1.291 Simbad 259.64696   1.94761\n",
      "316.2053741 -26.0359893 280.6062500 -78.0851111 WD 1834-781   ...  60.792   0.237 Simbad 280.60625 -78.08511\n",
      "316.2053741 -26.0359893 280.6062500 -78.0851111 WD 1834-781   ...  60.255   1.589 Simbad 280.60625 -78.08511\n",
      " 20.7903887 -23.0029436 298.9457917 -20.5174722 WD 1952-206   ...  62.329   0.563 Simbad 298.94579 -20.51747\n",
      " 20.7903887 -23.0029436 298.9457917 -20.5174722 WD 1952-206   ...  62.718   0.122 Simbad 298.94579 -20.51747\n",
      " 61.4554602 -12.3473694 308.0121250  18.5208611 WD 2029+183   ... -97.635   1.507 Simbad 308.01212  18.52086\n",
      " 61.4554602 -12.3473694 308.0121250  18.5208611 WD 2029+183   ... -95.041   3.349 Simbad 308.01212  18.52086\n",
      " 53.4394500 -68.1010420 351.3266667 -17.8660556 WD 2322-181   ...  41.173   2.459 Simbad 351.32667 -17.86606\n",
      " 53.4394500 -68.1010420 351.3266667 -17.8660556 WD 2322-181   ...  39.138   1.638 Simbad 351.32667 -17.86606\n",
      " 84.4771406 -66.5180113 358.3651250  -8.0776389 WD 2350-083   ...  84.963   0.740 Simbad 358.36512  -8.07764\n",
      " 84.4771406 -66.5180113 358.3651250  -8.0776389 WD 2350-083   ...  81.756   3.214 Simbad 358.36512  -8.07764\n",
      "Length = 894 rows\n"
     ]
    }
   ],
   "source": [
    "print(falcon)"
   ]
  },
  {
   "cell_type": "code",
   "execution_count": 36,
   "id": "032f1711-99cd-4f5d-885c-c3ffbb81d5e9",
   "metadata": {},
   "outputs": [],
   "source": [
    "from astropy.coordinates import SkyCoord\n",
    "import astropy.units as u\n",
    "from astropy.table import Table, join_skycoord\n",
    "from astropy import table\n",
    "\n",
    "catalog['wd_pos'] = SkyCoord(catalog['ra'], catalog['dec'], unit='deg')\n",
    "falcon['wd_pos'] = SkyCoord(falcon['_RA'], falcon['_DE'], unit='deg')\n",
    "\n",
    "join_func = table.join_skycoord(5 * u.arcsecond)\n",
    "falcon_xmatch = table.join(catalog, falcon, join_funcs={'wd_pos': join_skycoord(5 * u.arcsec)})"
   ]
  },
  {
   "cell_type": "code",
   "execution_count": 39,
   "id": "bf3a468f-cd21-4d91-a8ab-7b0f65e8454e",
   "metadata": {},
   "outputs": [
    {
     "name": "stdout",
     "output_type": "stream",
     "text": [
      "['wd_pos_id', 'dist', 'solution_id', 'designation', 'source_id', 'random_index', 'ref_epoch', 'ra', 'ra_error', 'dec', 'dec_error', 'parallax', 'parallax_error', 'parallax_over_error', 'pmra', 'pmra_error', 'pmdec', 'pmdec_error', 'ra_dec_corr', 'ra_parallax_corr', 'ra_pmra_corr', 'ra_pmdec_corr', 'dec_parallax_corr', 'dec_pmra_corr', 'dec_pmdec_corr', 'parallax_pmra_corr', 'parallax_pmdec_corr', 'pmra_pmdec_corr', 'astrometric_n_obs_al', 'astrometric_n_obs_ac', 'astrometric_n_good_obs_al', 'astrometric_n_bad_obs_al', 'astrometric_gof_al', 'astrometric_chi2_al', 'astrometric_excess_noise', 'astrometric_excess_noise_sig', 'astrometric_params_solved', 'astrometric_primary_flag', 'astrometric_weight_al', 'astrometric_pseudo_colour', 'astrometric_pseudo_colour_error', 'mean_varpi_factor_al', 'astrometric_matched_observations', 'visibility_periods_used', 'astrometric_sigma5d_max', 'frame_rotator_object_type', 'matched_observations', 'duplicated_source', 'phot_g_n_obs', 'phot_g_mean_flux', 'phot_g_mean_flux_error', 'phot_g_mean_flux_over_error', 'phot_g_mean_mag', 'phot_bp_n_obs', 'phot_bp_mean_flux', 'phot_bp_mean_flux_error', 'phot_bp_mean_flux_over_error', 'phot_bp_mean_mag', 'phot_rp_n_obs', 'phot_rp_mean_flux', 'phot_rp_mean_flux_error', 'phot_rp_mean_flux_over_error', 'phot_rp_mean_mag', 'phot_bp_rp_excess_factor', 'phot_proc_mode', 'bp_rp', 'bp_g', 'g_rp', 'radial_velocity', 'radial_velocity_error', 'rv_nb_transits', 'rv_template_teff', 'rv_template_logg', 'rv_template_fe_h', 'phot_variable_flag', 'l', 'b', 'ecl_lon', 'ecl_lat', 'priam_flags', 'col_p_m_f', 'ra_dec', 'sng', 'u', 'su', 'g', 'sg', 'r', 'sr', 'i', 'si', 'z', 'sz', 'ebv', 'ppm', 'tp', 'teff', 'dt', 'logg', 'dlogg', 'vr', 'dvr', 's_n', 'dt_sp_', 'd_pc_', 'z_pc_', 'mass', 'dmass', 't3d', 'logg3d', 'r_est', 'r_lo', 'r_hi', 'r_len', 'result_flag', 'modality_flag', 'A_u', 'A_g', 'A_r', 'A_i', 'A_z', 'radius', 'e_radius', 'sed_teff', 'e_sed_teff', 'sed_redchi', 'par_e_radius', 'total_e_radius', 'sed_logg', 'e_sed_logg', 'corv_rv', 'corv_erv', 'wd_pos_1', '_Glon', '_Glat', '_RAJ2000', '_DEJ2000', 'Name', 'DA', 'Adp-V', 'e_Adp-V', 'Obs', 'LSR-V', 'Ha-V', 'e_Ha-V', 'Hb-V', 'e_Hb-V', 'Obs-V', 'e_Obs-V', 'Simbad', '_RA', '_DE', 'wd_pos_2']\n"
     ]
    }
   ],
   "source": [
    "print(falcon_xmatch.keys())"
   ]
  },
  {
   "cell_type": "code",
   "execution_count": 40,
   "id": "4df34037-8b66-4efa-b099-351623265a1a",
   "metadata": {},
   "outputs": [
    {
     "name": "stderr",
     "output_type": "stream",
     "text": [
      "  0%|                                                                                    | 0/97 [00:00<?, ?it/s]/home/arseneausm/anaconda3/lib/python3.8/site-packages/astroquery/sdss/core.py:874: VisibleDeprecationWarning: Reading unicode strings without specifying the encoding argument is deprecated. Set the encoding, use None for the system default.\n",
      "  arr = np.atleast_1d(np.genfromtxt(io.BytesIO(response.content),\n",
      "/home/arseneausm/anaconda3/lib/python3.8/site-packages/astropy/table/table.py:3474: FutureWarning: elementwise == comparison failed and returning scalar instead; this will raise an error or perform elementwise comparison in the future.\n",
      "  result = self.as_array() == other\n"
     ]
    },
    {
     "name": "stdout",
     "output_type": "stream",
     "text": [
      "starting...\n"
     ]
    },
    {
     "name": "stderr",
     "output_type": "stream",
     "text": [
      "  1%|▊                                                                        | 1/97 [03:13<5:09:39, 193.54s/it]"
     ]
    },
    {
     "name": "stdout",
     "output_type": "stream",
     "text": [
      "The chain is shorter than 50 times the integrated autocorrelation time for 1 parameter(s). Use this estimate with caution and run a longer chain!\n",
      "N/50 = 20;\n",
      "tau: [28.05976511]\n",
      "final params:\n",
      "[[Fit Statistics]]\n",
      "    # fitting method   = emcee\n",
      "    # function evals   = 50000\n",
      "    # data points      = 629\n",
      "    # variables        = 1\n",
      "    chi-square         = 938.71924\n",
      "    reduced chi-square = 1.49477586\n",
      "    Akaike info crit   = 253.842276\n",
      "    Bayesian info crit = 258.286408\n",
      "[[Variables]]\n",
      "    teff:  30901 (fixed)\n",
      "    logg:  8.182706 (fixed)\n",
      "    RV:    74.5482818 +/- 8.42369858 (11.30%) (init = 103.8004)\n",
      "    res:   1 (fixed)\n",
      "rv init: 103.80040450963476\n",
      "28.0\n",
      "starting...\n"
     ]
    },
    {
     "name": "stderr",
     "output_type": "stream",
     "text": [
      "  2%|█▌                                                                       | 2/97 [06:28<5:07:36, 194.28s/it]"
     ]
    },
    {
     "name": "stdout",
     "output_type": "stream",
     "text": [
      "The chain is shorter than 50 times the integrated autocorrelation time for 1 parameter(s). Use this estimate with caution and run a longer chain!\n",
      "N/50 = 20;\n",
      "tau: [23.37162501]\n",
      "final params:\n",
      "[[Fit Statistics]]\n",
      "    # fitting method   = emcee\n",
      "    # function evals   = 50000\n",
      "    # data points      = 629\n",
      "    # variables        = 1\n",
      "    chi-square         = 18465.502\n",
      "    reduced chi-square = 29.4036655\n",
      "    Akaike info crit   = 2127.72327\n",
      "    Bayesian info crit = 2132.16740\n",
      "[[Variables]]\n",
      "    teff:  28778 (fixed)\n",
      "    logg:  9.489945 (fixed)\n",
      "    RV:    33.4756485 +/- 3.75993638 (11.23%) (init = 28.75835)\n",
      "    res:   1 (fixed)\n",
      "rv init: 28.75835463628057\n",
      "83.0\n",
      "starting...\n"
     ]
    },
    {
     "name": "stderr",
     "output_type": "stream",
     "text": [
      "  3%|██▎                                                                      | 3/97 [09:38<5:01:31, 192.46s/it]"
     ]
    },
    {
     "name": "stdout",
     "output_type": "stream",
     "text": [
      "The chain is shorter than 50 times the integrated autocorrelation time for 1 parameter(s). Use this estimate with caution and run a longer chain!\n",
      "N/50 = 20;\n",
      "tau: [27.45695503]\n",
      "final params:\n",
      "[[Fit Statistics]]\n",
      "    # fitting method   = emcee\n",
      "    # function evals   = 50000\n",
      "    # data points      = 629\n",
      "    # variables        = 1\n",
      "    chi-square         = 12588.363\n",
      "    reduced chi-square = 20.0451645\n",
      "    Akaike info crit   = 1886.73363\n",
      "    Bayesian info crit = 1891.17776\n",
      "[[Variables]]\n",
      "    teff:  15324 (fixed)\n",
      "    logg:  9.489945 (fixed)\n",
      "    RV:    20.7280602 +/- 2.44574297 (11.80%) (init = 28.75835)\n",
      "    res:   1 (fixed)\n",
      "rv init: 28.75835463628057\n",
      "-20.0\n",
      "starting...\n"
     ]
    },
    {
     "name": "stderr",
     "output_type": "stream",
     "text": [
      "  4%|███                                                                      | 4/97 [13:14<5:12:51, 201.84s/it]"
     ]
    },
    {
     "name": "stdout",
     "output_type": "stream",
     "text": [
      "The chain is shorter than 50 times the integrated autocorrelation time for 1 parameter(s). Use this estimate with caution and run a longer chain!\n",
      "N/50 = 20;\n",
      "tau: [24.09699854]\n",
      "final params:\n",
      "[[Fit Statistics]]\n",
      "    # fitting method   = emcee\n",
      "    # function evals   = 50000\n",
      "    # data points      = 629\n",
      "    # variables        = 1\n",
      "    chi-square         = 4091.06\n",
      "    reduced chi-square = 6.51442684\n",
      "    Akaike info crit   = 1179.75730\n",
      "    Bayesian info crit = 1184.20143\n",
      "[[Variables]]\n",
      "    teff:  23616 (fixed)\n",
      "    logg:  9.48999 (fixed)\n",
      "    RV:    30.6919229 +/- 5.30659900 (17.29%) (init = 34.0695)\n",
      "    res:   1 (fixed)\n",
      "rv init: 34.06949510734591\n",
      "12.0\n",
      "starting...\n"
     ]
    },
    {
     "name": "stderr",
     "output_type": "stream",
     "text": [
      "  5%|███▊                                                                     | 5/97 [16:30<5:06:18, 199.77s/it]"
     ]
    },
    {
     "name": "stdout",
     "output_type": "stream",
     "text": [
      "The chain is shorter than 50 times the integrated autocorrelation time for 1 parameter(s). Use this estimate with caution and run a longer chain!\n",
      "N/50 = 20;\n",
      "tau: [38.86864497]\n",
      "final params:\n",
      "[[Fit Statistics]]\n",
      "    # fitting method   = emcee\n",
      "    # function evals   = 50000\n",
      "    # data points      = 629\n",
      "    # variables        = 1\n",
      "    chi-square         = 14143.168\n",
      "    reduced chi-square = 22.5209681\n",
      "    Akaike info crit   = 1959.98624\n",
      "    Bayesian info crit = 1964.43037\n",
      "[[Variables]]\n",
      "    teff:  39999 (fixed)\n",
      "    logg:  7.932726 (fixed)\n",
      "    RV:   -4.56682969 +/- 4.12288217 (90.28%) (init = 31.31716)\n",
      "    res:   1 (fixed)\n",
      "rv init: 31.317156514634576\n",
      "0.0\n",
      "starting...\n"
     ]
    },
    {
     "name": "stderr",
     "output_type": "stream",
     "text": [
      "  6%|████▌                                                                    | 6/97 [19:59<5:07:18, 202.62s/it]"
     ]
    },
    {
     "name": "stdout",
     "output_type": "stream",
     "text": [
      "The chain is shorter than 50 times the integrated autocorrelation time for 1 parameter(s). Use this estimate with caution and run a longer chain!\n",
      "N/50 = 20;\n",
      "tau: [21.37301881]\n",
      "final params:\n",
      "[[Fit Statistics]]\n",
      "    # fitting method   = emcee\n",
      "    # function evals   = 50000\n",
      "    # data points      = 629\n",
      "    # variables        = 1\n",
      "    chi-square         = 1955.0741\n",
      "    reduced chi-square = 3.11317531\n",
      "    Akaike info crit   = 715.318781\n",
      "    Bayesian info crit = 719.762912\n",
      "[[Variables]]\n",
      "    teff:  16041 (fixed)\n",
      "    logg:  8.825728 (fixed)\n",
      "    RV:    24.4493516 +/- 4.47249668 (18.29%) (init = 28.09561)\n",
      "    res:   1 (fixed)\n",
      "rv init: 28.095613677271785\n",
      "82.0\n",
      "starting...\n"
     ]
    },
    {
     "name": "stderr",
     "output_type": "stream",
     "text": [
      "  7%|█████▏                                                                  | 7/97 [56:09<21:08:57, 845.97s/it]"
     ]
    },
    {
     "name": "stdout",
     "output_type": "stream",
     "text": [
      "The chain is shorter than 50 times the integrated autocorrelation time for 1 parameter(s). Use this estimate with caution and run a longer chain!\n",
      "N/50 = 20;\n",
      "tau: [26.68138781]\n",
      "final params:\n",
      "[[Fit Statistics]]\n",
      "    # fitting method   = emcee\n",
      "    # function evals   = 50000\n",
      "    # data points      = 629\n",
      "    # variables        = 1\n",
      "    chi-square         = 30722.473\n",
      "    reduced chi-square = 48.9211348\n",
      "    Akaike info crit   = 2447.94098\n",
      "    Bayesian info crit = 2452.38512\n",
      "[[Variables]]\n",
      "    teff:  30881 (fixed)\n",
      "    logg:  8.825728 (fixed)\n",
      "    RV:    36.8891572 +/- 4.18874803 (11.35%) (init = 28.09561)\n",
      "    res:   1 (fixed)\n",
      "rv init: 28.095613677271785\n",
      "-25.0\n",
      "starting...\n"
     ]
    },
    {
     "name": "stderr",
     "output_type": "stream",
     "text": [
      "  8%|█████▊                                                                | 8/97 [1:01:23<16:43:24, 676.46s/it]"
     ]
    },
    {
     "name": "stdout",
     "output_type": "stream",
     "text": [
      "The chain is shorter than 50 times the integrated autocorrelation time for 1 parameter(s). Use this estimate with caution and run a longer chain!\n",
      "N/50 = 20;\n",
      "tau: [21.59451679]\n",
      "final params:\n",
      "[[Fit Statistics]]\n",
      "    # fitting method   = emcee\n",
      "    # function evals   = 50000\n",
      "    # data points      = 629\n",
      "    # variables        = 1\n",
      "    chi-square         = 12524.502\n",
      "    reduced chi-square = 19.9434744\n",
      "    Akaike info crit   = 1883.53456\n",
      "    Bayesian info crit = 1887.97869\n",
      "[[Variables]]\n",
      "    teff:  20904 (fixed)\n",
      "    logg:  7.873329 (fixed)\n",
      "    RV:   -37.6144211 +/- 1.17343162 (3.12%) (init = -37.52973)\n",
      "    res:   1 (fixed)\n",
      "rv init: -37.5297271893224\n",
      "5.0\n",
      "starting...\n"
     ]
    },
    {
     "name": "stderr",
     "output_type": "stream",
     "text": [
      "  9%|██████▍                                                               | 9/97 [1:06:19<13:37:58, 557.71s/it]"
     ]
    },
    {
     "name": "stdout",
     "output_type": "stream",
     "text": [
      "The chain is shorter than 50 times the integrated autocorrelation time for 1 parameter(s). Use this estimate with caution and run a longer chain!\n",
      "N/50 = 20;\n",
      "tau: [21.5708805]\n",
      "final params:\n",
      "[[Fit Statistics]]\n",
      "    # fitting method   = emcee\n",
      "    # function evals   = 50000\n",
      "    # data points      = 629\n",
      "    # variables        = 1\n",
      "    chi-square         = 10913.107\n",
      "    reduced chi-square = 17.3775596\n",
      "    Akaike info crit   = 1796.90723\n",
      "    Bayesian info crit = 1801.35136\n",
      "[[Variables]]\n",
      "    teff:  20362 (fixed)\n",
      "    logg:  7.873329 (fixed)\n",
      "    RV:   -37.6316548 +/- 1.32590149 (3.52%) (init = -37.52973)\n",
      "    res:   1 (fixed)\n",
      "rv init: -37.5297271893224\n",
      "46.0\n",
      "starting...\n"
     ]
    },
    {
     "name": "stderr",
     "output_type": "stream",
     "text": [
      " 10%|███████                                                              | 10/97 [1:10:51<11:20:45, 469.49s/it]"
     ]
    },
    {
     "name": "stdout",
     "output_type": "stream",
     "text": [
      "The chain is shorter than 50 times the integrated autocorrelation time for 1 parameter(s). Use this estimate with caution and run a longer chain!\n",
      "N/50 = 20;\n",
      "tau: [30.7688508]\n",
      "final params:\n",
      "[[Fit Statistics]]\n",
      "    # fitting method   = emcee\n",
      "    # function evals   = 50000\n",
      "    # data points      = 629\n",
      "    # variables        = 1\n",
      "    chi-square         = 17627.291\n",
      "    reduced chi-square = 28.0689347\n",
      "    Akaike info crit   = 2098.50251\n",
      "    Bayesian info crit = 2102.94664\n",
      "[[Variables]]\n",
      "    teff:  34334 (fixed)\n",
      "    logg:  8.80878 (fixed)\n",
      "    RV:    127.015371 +/- 3.57838871 (2.82%) (init = 146.0097)\n",
      "    res:   1 (fixed)\n",
      "rv init: 146.0096871672038\n",
      "3.0\n",
      "starting...\n"
     ]
    },
    {
     "name": "stderr",
     "output_type": "stream",
     "text": [
      " 11%|███████▉                                                              | 11/97 [1:15:20<9:44:52, 408.05s/it]"
     ]
    },
    {
     "name": "stdout",
     "output_type": "stream",
     "text": [
      "The chain is shorter than 50 times the integrated autocorrelation time for 1 parameter(s). Use this estimate with caution and run a longer chain!\n",
      "N/50 = 20;\n",
      "tau: [23.17012864]\n",
      "final params:\n",
      "[[Fit Statistics]]\n",
      "    # fitting method   = emcee\n",
      "    # function evals   = 50000\n",
      "    # data points      = 629\n",
      "    # variables        = 1\n",
      "    chi-square         = 903.0475\n",
      "    reduced chi-square = 1.43797370\n",
      "    Akaike info crit   = 229.474001\n",
      "    Bayesian info crit = 233.918133\n",
      "[[Variables]]\n",
      "    teff:  16890 (fixed)\n",
      "    logg:  8.922923 (fixed)\n",
      "    RV:    47.2401460 +/- 5.17016035 (10.94%) (init = 48.59436)\n",
      "    res:   1 (fixed)\n",
      "rv init: 48.59436108248351\n",
      "72.0\n",
      "starting...\n"
     ]
    },
    {
     "name": "stderr",
     "output_type": "stream",
     "text": [
      " 12%|████████▋                                                             | 12/97 [1:19:51<8:38:51, 366.26s/it]"
     ]
    },
    {
     "name": "stdout",
     "output_type": "stream",
     "text": [
      "The chain is shorter than 50 times the integrated autocorrelation time for 1 parameter(s). Use this estimate with caution and run a longer chain!\n",
      "N/50 = 20;\n",
      "tau: [23.7643523]\n",
      "final params:\n",
      "[[Fit Statistics]]\n",
      "    # fitting method   = emcee\n",
      "    # function evals   = 50000\n",
      "    # data points      = 629\n",
      "    # variables        = 1\n",
      "    chi-square         = 1674.8492\n",
      "    reduced chi-square = 2.66695739\n",
      "    Akaike info crit   = 618.009376\n",
      "    Bayesian info crit = 622.453507\n",
      "[[Variables]]\n",
      "    teff:  20596 (fixed)\n",
      "    logg:  8.922923 (fixed)\n",
      "    RV:    42.8417035 +/- 5.87583349 (13.72%) (init = 48.59436)\n",
      "    res:   1 (fixed)\n",
      "rv init: 48.59436108248351\n",
      "14.0\n",
      "starting...\n"
     ]
    },
    {
     "name": "stderr",
     "output_type": "stream",
     "text": [
      " 13%|█████████▍                                                            | 13/97 [1:24:47<8:03:13, 345.16s/it]"
     ]
    },
    {
     "name": "stdout",
     "output_type": "stream",
     "text": [
      "The chain is shorter than 50 times the integrated autocorrelation time for 1 parameter(s). Use this estimate with caution and run a longer chain!\n",
      "N/50 = 20;\n",
      "tau: [37.25997246]\n",
      "final params:\n",
      "[[Fit Statistics]]\n",
      "    # fitting method   = emcee\n",
      "    # function evals   = 50000\n",
      "    # data points      = 629\n",
      "    # variables        = 1\n",
      "    chi-square         = 89207.016\n",
      "    reduced chi-square = 142.049388\n",
      "    Akaike info crit   = 3118.43315\n",
      "    Bayesian info crit = 3122.87728\n",
      "[[Variables]]\n",
      "    teff:  6618 (fixed)\n",
      "    logg:  9.489995 (fixed)\n",
      "    RV:    19.0954681 +/- 32.5425489 (170.42%) (init = 48.05869)\n",
      "    res:   1 (fixed)\n",
      "rv init: 48.05868720579428\n",
      "-123.0\n",
      "starting...\n"
     ]
    },
    {
     "name": "stderr",
     "output_type": "stream",
     "text": [
      " 14%|██████████                                                            | 14/97 [1:29:08<7:22:05, 319.59s/it]"
     ]
    },
    {
     "name": "stdout",
     "output_type": "stream",
     "text": [
      "The chain is shorter than 50 times the integrated autocorrelation time for 1 parameter(s). Use this estimate with caution and run a longer chain!\n",
      "N/50 = 20;\n",
      "tau: [20.5712327]\n",
      "final params:\n",
      "[[Fit Statistics]]\n",
      "    # fitting method   = emcee\n",
      "    # function evals   = 50000\n",
      "    # data points      = 629\n",
      "    # variables        = 1\n",
      "    chi-square         = 5631.5454\n",
      "    reduced chi-square = 8.96742900\n",
      "    Akaike info crit   = 1380.77298\n",
      "    Bayesian info crit = 1385.21711\n",
      "[[Variables]]\n",
      "    teff:  19441 (fixed)\n",
      "    logg:  9.489995 (fixed)\n",
      "    RV:    43.9967761 +/- 5.01014721 (11.39%) (init = 48.05869)\n",
      "    res:   1 (fixed)\n",
      "rv init: 48.05868720579428\n",
      "-10.0\n",
      "starting...\n"
     ]
    },
    {
     "name": "stderr",
     "output_type": "stream",
     "text": [
      " 15%|██████████▊                                                           | 15/97 [1:33:25<6:51:16, 300.93s/it]"
     ]
    },
    {
     "name": "stdout",
     "output_type": "stream",
     "text": [
      "The chain is shorter than 50 times the integrated autocorrelation time for 1 parameter(s). Use this estimate with caution and run a longer chain!\n",
      "N/50 = 20;\n",
      "tau: [21.94696631]\n",
      "final params:\n",
      "[[Fit Statistics]]\n",
      "    # fitting method   = emcee\n",
      "    # function evals   = 50000\n",
      "    # data points      = 629\n",
      "    # variables        = 1\n",
      "    chi-square         = 5316.464\n",
      "    reduced chi-square = 8.46570679\n",
      "    Akaike info crit   = 1344.55799\n",
      "    Bayesian info crit = 1349.00212\n",
      "[[Variables]]\n",
      "    teff:  20272 (fixed)\n",
      "    logg:  9.489995 (fixed)\n",
      "    RV:    43.7032884 +/- 4.99726203 (11.43%) (init = 48.05869)\n",
      "    res:   1 (fixed)\n",
      "rv init: 48.05868720579428\n",
      "29.0\n",
      "starting...\n"
     ]
    },
    {
     "name": "stderr",
     "output_type": "stream",
     "text": [
      " 16%|███████████▌                                                          | 16/97 [1:37:50<6:31:26, 289.95s/it]"
     ]
    },
    {
     "name": "stdout",
     "output_type": "stream",
     "text": [
      "The chain is shorter than 50 times the integrated autocorrelation time for 1 parameter(s). Use this estimate with caution and run a longer chain!\n",
      "N/50 = 20;\n",
      "tau: [40.83102161]\n",
      "final params:\n",
      "[[Fit Statistics]]\n",
      "    # fitting method   = emcee\n",
      "    # function evals   = 50000\n",
      "    # data points      = 629\n",
      "    # variables        = 1\n",
      "    chi-square         = 78078.266\n",
      "    reduced chi-square = 124.328448\n",
      "    Akaike info crit   = 3034.62019\n",
      "    Bayesian info crit = 3039.06432\n",
      "[[Variables]]\n",
      "    teff:  7779 (fixed)\n",
      "    logg:  8.848911 (fixed)\n",
      "    RV:    40.4797941 +/- 2.65425755 (6.56%) (init = 56.55258)\n",
      "    res:   1 (fixed)\n",
      "rv init: 56.55257846690991\n",
      "-8.0\n",
      "starting...\n"
     ]
    },
    {
     "name": "stderr",
     "output_type": "stream",
     "text": [
      " 18%|████████████▎                                                         | 17/97 [1:42:09<6:14:24, 280.81s/it]"
     ]
    },
    {
     "name": "stdout",
     "output_type": "stream",
     "text": [
      "The chain is shorter than 50 times the integrated autocorrelation time for 1 parameter(s). Use this estimate with caution and run a longer chain!\n",
      "N/50 = 20;\n",
      "tau: [23.88929763]\n",
      "final params:\n",
      "[[Fit Statistics]]\n",
      "    # fitting method   = emcee\n",
      "    # function evals   = 50000\n",
      "    # data points      = 629\n",
      "    # variables        = 1\n",
      "    chi-square         = 23073.5\n",
      "    reduced chi-square = 36.7412420\n",
      "    Akaike info crit   = 2267.85223\n",
      "    Bayesian info crit = 2272.29636\n",
      "[[Variables]]\n",
      "    teff:  28733 (fixed)\n",
      "    logg:  8.848911 (fixed)\n",
      "    RV:    50.9940331 +/- 2.86399015 (5.62%) (init = 56.55258)\n",
      "    res:   1 (fixed)\n",
      "rv init: 56.55257846690991\n",
      "-5.0\n",
      "starting...\n"
     ]
    },
    {
     "name": "stderr",
     "output_type": "stream",
     "text": [
      " 19%|████████████▉                                                         | 18/97 [1:46:25<5:59:45, 273.24s/it]"
     ]
    },
    {
     "name": "stdout",
     "output_type": "stream",
     "text": [
      "The chain is shorter than 50 times the integrated autocorrelation time for 1 parameter(s). Use this estimate with caution and run a longer chain!\n",
      "N/50 = 20;\n",
      "tau: [39.95667948]\n",
      "final params:\n",
      "[[Fit Statistics]]\n",
      "    # fitting method   = emcee\n",
      "    # function evals   = 50000\n",
      "    # data points      = 629\n",
      "    # variables        = 1\n",
      "    chi-square         = 42328.168\n",
      "    reduced chi-square = 67.4015414\n",
      "    Akaike info crit   = 2649.50930\n",
      "    Bayesian info crit = 2653.95344\n",
      "[[Variables]]\n",
      "    teff:  39999 (fixed)\n",
      "    logg:  9.243865 (fixed)\n",
      "    RV:   -7.52614696 +/- 3.91693736 (52.04%) (init = 8.437638)\n",
      "    res:   1 (fixed)\n",
      "rv init: 8.437637834495506\n",
      "-2.0\n",
      "starting...\n"
     ]
    },
    {
     "name": "stderr",
     "output_type": "stream",
     "text": [
      " 20%|█████████████▋                                                        | 19/97 [1:50:45<5:49:55, 269.17s/it]"
     ]
    },
    {
     "name": "stdout",
     "output_type": "stream",
     "text": [
      "The chain is shorter than 50 times the integrated autocorrelation time for 1 parameter(s). Use this estimate with caution and run a longer chain!\n",
      "N/50 = 20;\n",
      "tau: [23.69252505]\n",
      "final params:\n",
      "[[Fit Statistics]]\n",
      "    # fitting method   = emcee\n",
      "    # function evals   = 50000\n",
      "    # data points      = 629\n",
      "    # variables        = 1\n",
      "    chi-square         = 2559.7698\n",
      "    reduced chi-square = 4.07606652\n",
      "    Akaike info crit   = 884.827506\n",
      "    Bayesian info crit = 889.271637\n",
      "[[Variables]]\n",
      "    teff:  14042 (fixed)\n",
      "    logg:  9.243865 (fixed)\n",
      "    RV:    12.8060789 +/- 3.99923145 (31.23%) (init = 8.437638)\n",
      "    res:   1 (fixed)\n",
      "rv init: 8.437637834495506\n",
      "32.0\n",
      "starting...\n"
     ]
    },
    {
     "name": "stderr",
     "output_type": "stream",
     "text": [
      " 21%|██████████████▍                                                       | 20/97 [1:55:03<5:41:15, 265.91s/it]"
     ]
    },
    {
     "name": "stdout",
     "output_type": "stream",
     "text": [
      "The chain is shorter than 50 times the integrated autocorrelation time for 1 parameter(s). Use this estimate with caution and run a longer chain!\n",
      "N/50 = 20;\n",
      "tau: [25.71777846]\n",
      "final params:\n",
      "[[Fit Statistics]]\n",
      "    # fitting method   = emcee\n",
      "    # function evals   = 50000\n",
      "    # data points      = 629\n",
      "    # variables        = 1\n",
      "    chi-square         = 21787.156\n",
      "    reduced chi-square = 34.6929240\n",
      "    Akaike info crit   = 2231.77019\n",
      "    Bayesian info crit = 2236.21432\n",
      "[[Variables]]\n",
      "    teff:  34208 (fixed)\n",
      "    logg:  9.489999 (fixed)\n",
      "    RV:    51.5893188 +/- 4.17192478 (8.09%) (init = 43.56399)\n",
      "    res:   1 (fixed)\n",
      "rv init: 43.56398873833545\n",
      "25.0\n",
      "starting...\n"
     ]
    },
    {
     "name": "stderr",
     "output_type": "stream",
     "text": [
      " 22%|███████████████▏                                                      | 21/97 [1:59:18<5:32:39, 262.63s/it]"
     ]
    },
    {
     "name": "stdout",
     "output_type": "stream",
     "text": [
      "The chain is shorter than 50 times the integrated autocorrelation time for 1 parameter(s). Use this estimate with caution and run a longer chain!\n",
      "N/50 = 20;\n",
      "tau: [21.42053288]\n",
      "final params:\n",
      "[[Fit Statistics]]\n",
      "    # fitting method   = emcee\n",
      "    # function evals   = 50000\n",
      "    # data points      = 629\n",
      "    # variables        = 1\n",
      "    chi-square         = 2523.8877\n",
      "    reduced chi-square = 4.01892945\n",
      "    Akaike info crit   = 875.947992\n",
      "    Bayesian info crit = 880.392124\n",
      "[[Variables]]\n",
      "    teff:  23573 (fixed)\n",
      "    logg:  9.489999 (fixed)\n",
      "    RV:    38.4317380 +/- 5.33848369 (13.89%) (init = 43.56399)\n",
      "    res:   1 (fixed)\n",
      "rv init: 43.56398873833545\n",
      "32.0\n",
      "starting...\n"
     ]
    },
    {
     "name": "stderr",
     "output_type": "stream",
     "text": [
      " 23%|███████████████▉                                                      | 22/97 [2:03:34<5:25:52, 260.71s/it]"
     ]
    },
    {
     "name": "stdout",
     "output_type": "stream",
     "text": [
      "The chain is shorter than 50 times the integrated autocorrelation time for 1 parameter(s). Use this estimate with caution and run a longer chain!\n",
      "N/50 = 20;\n",
      "tau: [23.21365447]\n",
      "final params:\n",
      "[[Fit Statistics]]\n",
      "    # fitting method   = emcee\n",
      "    # function evals   = 50000\n",
      "    # data points      = 629\n",
      "    # variables        = 1\n",
      "    chi-square         = 5377.5713\n",
      "    reduced chi-square = 8.56301161\n",
      "    Akaike info crit   = 1351.74648\n",
      "    Bayesian info crit = 1356.19061\n",
      "[[Variables]]\n",
      "    teff:  24454 (fixed)\n",
      "    logg:  8.667584 (fixed)\n",
      "    RV:    50.2225252 +/- 4.80941011 (9.58%) (init = 56.30615)\n",
      "    res:   1 (fixed)\n",
      "rv init: 56.30614899272348\n",
      "66.0\n",
      "starting...\n"
     ]
    },
    {
     "name": "stderr",
     "output_type": "stream",
     "text": [
      " 24%|████████████████▌                                                     | 23/97 [2:07:50<5:19:54, 259.38s/it]"
     ]
    },
    {
     "name": "stdout",
     "output_type": "stream",
     "text": [
      "The chain is shorter than 50 times the integrated autocorrelation time for 1 parameter(s). Use this estimate with caution and run a longer chain!\n",
      "N/50 = 20;\n",
      "tau: [22.18134763]\n",
      "final params:\n",
      "[[Fit Statistics]]\n",
      "    # fitting method   = emcee\n",
      "    # function evals   = 50000\n",
      "    # data points      = 629\n",
      "    # variables        = 1\n",
      "    chi-square         = 12283.088\n",
      "    reduced chi-square = 19.5590572\n",
      "    Akaike info crit   = 1871.29200\n",
      "    Bayesian info crit = 1875.73613\n",
      "[[Variables]]\n",
      "    teff:  28834 (fixed)\n",
      "    logg:  8.667584 (fixed)\n",
      "    RV:    50.5812944 +/- 4.50782644 (8.91%) (init = 56.30615)\n",
      "    res:   1 (fixed)\n",
      "rv init: 56.30614899272348\n",
      "27.0\n",
      "starting...\n"
     ]
    },
    {
     "name": "stderr",
     "output_type": "stream",
     "text": [
      " 25%|█████████████████▎                                                    | 24/97 [2:12:07<5:14:27, 258.46s/it]"
     ]
    },
    {
     "name": "stdout",
     "output_type": "stream",
     "text": [
      "The chain is shorter than 50 times the integrated autocorrelation time for 1 parameter(s). Use this estimate with caution and run a longer chain!\n",
      "N/50 = 20;\n",
      "tau: [42.51271281]\n",
      "final params:\n",
      "[[Fit Statistics]]\n",
      "    # fitting method   = emcee\n",
      "    # function evals   = 50000\n",
      "    # data points      = 629\n",
      "    # variables        = 1\n",
      "    chi-square         = 136972.11\n",
      "    reduced chi-square = 218.108454\n",
      "    Akaike info crit   = 3388.15945\n",
      "    Bayesian info crit = 3392.60358\n",
      "[[Variables]]\n",
      "    teff:  39999 (fixed)\n",
      "    logg:  8.585886 (fixed)\n",
      "    RV:   -8.84174648 +/- 2.07138553 (23.43%) (init = 3.084499)\n",
      "    res:   1 (fixed)\n",
      "rv init: 3.0844985461896846\n",
      "11.0\n",
      "starting...\n"
     ]
    },
    {
     "name": "stderr",
     "output_type": "stream",
     "text": [
      " 26%|██████████████████                                                    | 25/97 [2:16:21<5:08:27, 257.05s/it]"
     ]
    },
    {
     "name": "stdout",
     "output_type": "stream",
     "text": [
      "The chain is shorter than 50 times the integrated autocorrelation time for 1 parameter(s). Use this estimate with caution and run a longer chain!\n",
      "N/50 = 20;\n",
      "tau: [39.33301664]\n",
      "final params:\n",
      "[[Fit Statistics]]\n",
      "    # fitting method   = emcee\n",
      "    # function evals   = 50000\n",
      "    # data points      = 629\n",
      "    # variables        = 1\n",
      "    chi-square         = 136972.53\n",
      "    reduced chi-square = 218.109126\n",
      "    Akaike info crit   = 3388.16138\n",
      "    Bayesian info crit = 3392.60552\n",
      "[[Variables]]\n",
      "    teff:  39999 (fixed)\n",
      "    logg:  8.585886 (fixed)\n",
      "    RV:   -8.85696237 +/- 2.02649711 (22.88%) (init = 3.084499)\n",
      "    res:   1 (fixed)\n",
      "rv init: 3.0844985461896846\n",
      "27.0\n",
      "starting...\n"
     ]
    },
    {
     "name": "stderr",
     "output_type": "stream",
     "text": [
      " 27%|██████████████████▊                                                   | 26/97 [2:20:40<5:05:01, 257.77s/it]"
     ]
    },
    {
     "name": "stdout",
     "output_type": "stream",
     "text": [
      "The chain is shorter than 50 times the integrated autocorrelation time for 1 parameter(s). Use this estimate with caution and run a longer chain!\n",
      "N/50 = 20;\n",
      "tau: [24.15289242]\n",
      "final params:\n",
      "[[Fit Statistics]]\n",
      "    # fitting method   = emcee\n",
      "    # function evals   = 50000\n",
      "    # data points      = 629\n",
      "    # variables        = 1\n",
      "    chi-square         = 985.0289\n",
      "    reduced chi-square = 1.56851731\n",
      "    Akaike info crit   = 284.131467\n",
      "    Bayesian info crit = 288.575598\n",
      "[[Variables]]\n",
      "    teff:  17114 (fixed)\n",
      "    logg:  8.142292 (fixed)\n",
      "    RV:    37.2198386 +/- 9.06308748 (24.35%) (init = 31.64594)\n",
      "    res:   1 (fixed)\n",
      "rv init: 31.64594357758792\n",
      "57.0\n",
      "starting...\n"
     ]
    },
    {
     "name": "stderr",
     "output_type": "stream",
     "text": [
      " 28%|███████████████████▍                                                  | 27/97 [2:24:55<4:59:55, 257.08s/it]"
     ]
    },
    {
     "name": "stdout",
     "output_type": "stream",
     "text": [
      "The chain is shorter than 50 times the integrated autocorrelation time for 1 parameter(s). Use this estimate with caution and run a longer chain!\n",
      "N/50 = 20;\n",
      "tau: [23.93774387]\n",
      "final params:\n",
      "[[Fit Statistics]]\n",
      "    # fitting method   = emcee\n",
      "    # function evals   = 50000\n",
      "    # data points      = 629\n",
      "    # variables        = 1\n",
      "    chi-square         = 8284.589\n",
      "    reduced chi-square = 13.1920205\n",
      "    Akaike info crit   = 1623.57524\n",
      "    Bayesian info crit = 1628.01937\n",
      "[[Variables]]\n",
      "    teff:  23246 (fixed)\n",
      "    logg:  8.142292 (fixed)\n",
      "    RV:    32.0838329 +/- 3.41561705 (10.65%) (init = 31.64594)\n",
      "    res:   1 (fixed)\n",
      "rv init: 31.64594357758792\n",
      "56.0\n",
      "starting...\n"
     ]
    },
    {
     "name": "stderr",
     "output_type": "stream",
     "text": [
      " 29%|████████████████████▏                                                 | 28/97 [2:29:04<4:52:50, 254.64s/it]"
     ]
    },
    {
     "name": "stdout",
     "output_type": "stream",
     "text": [
      "The chain is shorter than 50 times the integrated autocorrelation time for 1 parameter(s). Use this estimate with caution and run a longer chain!\n",
      "N/50 = 20;\n",
      "tau: [25.38475578]\n",
      "final params:\n",
      "[[Fit Statistics]]\n",
      "    # fitting method   = emcee\n",
      "    # function evals   = 50000\n",
      "    # data points      = 629\n",
      "    # variables        = 1\n",
      "    chi-square         = 1192.1846\n",
      "    reduced chi-square = 1.89838307\n",
      "    Akaike info crit   = 404.189783\n",
      "    Bayesian info crit = 408.633914\n",
      "[[Variables]]\n",
      "    teff:  20596 (fixed)\n",
      "    logg:  9.004205 (fixed)\n",
      "    RV:    42.7046567 +/- 6.93587468 (16.24%) (init = 55.03808)\n",
      "    res:   1 (fixed)\n",
      "rv init: 55.0380766560527\n",
      "46.0\n",
      "starting...\n"
     ]
    },
    {
     "name": "stderr",
     "output_type": "stream",
     "text": [
      " 30%|████████████████████▉                                                 | 29/97 [2:33:14<4:46:44, 253.00s/it]"
     ]
    },
    {
     "name": "stdout",
     "output_type": "stream",
     "text": [
      "The chain is shorter than 50 times the integrated autocorrelation time for 1 parameter(s). Use this estimate with caution and run a longer chain!\n",
      "N/50 = 20;\n",
      "tau: [22.33169855]\n",
      "final params:\n",
      "[[Fit Statistics]]\n",
      "    # fitting method   = emcee\n",
      "    # function evals   = 50000\n",
      "    # data points      = 629\n",
      "    # variables        = 1\n",
      "    chi-square         = 21505.812\n",
      "    reduced chi-square = 34.2449244\n",
      "    Akaike info crit   = 2223.59483\n",
      "    Bayesian info crit = 2228.03896\n",
      "[[Variables]]\n",
      "    teff:  39999 (fixed)\n",
      "    logg:  9.004205 (fixed)\n",
      "    RV:    51.9094323 +/- 4.99481413 (9.62%) (init = 55.03808)\n",
      "    res:   1 (fixed)\n",
      "rv init: 55.0380766560527\n",
      "-11.0\n",
      "starting...\n"
     ]
    },
    {
     "name": "stderr",
     "output_type": "stream",
     "text": [
      " 31%|█████████████████████▋                                                | 30/97 [2:37:33<4:44:46, 255.03s/it]"
     ]
    },
    {
     "name": "stdout",
     "output_type": "stream",
     "text": [
      "The chain is shorter than 50 times the integrated autocorrelation time for 1 parameter(s). Use this estimate with caution and run a longer chain!\n",
      "N/50 = 20;\n",
      "tau: [23.14658192]\n",
      "final params:\n",
      "[[Fit Statistics]]\n",
      "    # fitting method   = emcee\n",
      "    # function evals   = 50000\n",
      "    # data points      = 629\n",
      "    # variables        = 1\n",
      "    chi-square         = 2039.7286\n",
      "    reduced chi-square = 3.24797554\n",
      "    Akaike info crit   = 741.981264\n",
      "    Bayesian info crit = 746.425395\n",
      "[[Variables]]\n",
      "    teff:  18601 (fixed)\n",
      "    logg:  8.40272 (fixed)\n",
      "    RV:    26.1962726 +/- 5.26763832 (20.11%) (init = 28.57651)\n",
      "    res:   1 (fixed)\n",
      "rv init: 28.576509777295595\n",
      "35.0\n",
      "starting...\n"
     ]
    },
    {
     "name": "stderr",
     "output_type": "stream",
     "text": [
      " 32%|██████████████████████▎                                               | 31/97 [2:41:47<4:40:09, 254.69s/it]"
     ]
    },
    {
     "name": "stdout",
     "output_type": "stream",
     "text": [
      "The chain is shorter than 50 times the integrated autocorrelation time for 1 parameter(s). Use this estimate with caution and run a longer chain!\n",
      "N/50 = 20;\n",
      "tau: [22.86675019]\n",
      "final params:\n",
      "[[Fit Statistics]]\n",
      "    # fitting method   = emcee\n",
      "    # function evals   = 50000\n",
      "    # data points      = 629\n",
      "    # variables        = 1\n",
      "    chi-square         = 9924.182\n",
      "    reduced chi-square = 15.8028370\n",
      "    Akaike info crit   = 1737.15839\n",
      "    Bayesian info crit = 1741.60252\n",
      "[[Variables]]\n",
      "    teff:  24437 (fixed)\n",
      "    logg:  8.40272 (fixed)\n",
      "    RV:    30.7575582 +/- 2.63878463 (8.58%) (init = 28.57651)\n",
      "    res:   1 (fixed)\n",
      "rv init: 28.576509777295595\n",
      "54.0\n",
      "starting...\n"
     ]
    },
    {
     "name": "stderr",
     "output_type": "stream",
     "text": [
      " 33%|███████████████████████                                               | 32/97 [2:46:08<4:37:47, 256.42s/it]"
     ]
    },
    {
     "name": "stdout",
     "output_type": "stream",
     "text": [
      "The chain is shorter than 50 times the integrated autocorrelation time for 1 parameter(s). Use this estimate with caution and run a longer chain!\n",
      "N/50 = 20;\n",
      "tau: [23.97966107]\n",
      "final params:\n",
      "[[Fit Statistics]]\n",
      "    # fitting method   = emcee\n",
      "    # function evals   = 50000\n",
      "    # data points      = 629\n",
      "    # variables        = 1\n",
      "    chi-square         = 2529.3374\n",
      "    reduced chi-square = 4.02760733\n",
      "    Akaike info crit   = 877.304697\n",
      "    Bayesian info crit = 881.748828\n",
      "[[Variables]]\n",
      "    teff:  19048 (fixed)\n",
      "    logg:  8.141378 (fixed)\n",
      "    RV:    36.3304374 +/- 5.50108690 (15.14%) (init = 35.76215)\n",
      "    res:   1 (fixed)\n",
      "rv init: 35.76214965099458\n",
      "32.0\n",
      "starting...\n"
     ]
    },
    {
     "name": "stderr",
     "output_type": "stream",
     "text": [
      " 34%|███████████████████████▊                                              | 33/97 [2:50:30<4:35:14, 258.05s/it]"
     ]
    },
    {
     "name": "stdout",
     "output_type": "stream",
     "text": [
      "The chain is shorter than 50 times the integrated autocorrelation time for 1 parameter(s). Use this estimate with caution and run a longer chain!\n",
      "N/50 = 20;\n",
      "tau: [26.86965189]\n",
      "final params:\n",
      "[[Fit Statistics]]\n",
      "    # fitting method   = emcee\n",
      "    # function evals   = 50000\n",
      "    # data points      = 629\n",
      "    # variables        = 1\n",
      "    chi-square         = 691.8267\n",
      "    reduced chi-square = 1.10163491\n",
      "    Akaike info crit   = 61.8834825\n",
      "    Bayesian info crit = 66.3276137\n",
      "[[Variables]]\n",
      "    teff:  16384 (fixed)\n",
      "    logg:  8.141378 (fixed)\n",
      "    RV:    47.0499311 +/- 5.07167917 (10.78%) (init = 35.76215)\n",
      "    res:   1 (fixed)\n",
      "rv init: 35.76214965099458\n",
      "20.0\n",
      "starting...\n"
     ]
    },
    {
     "name": "stderr",
     "output_type": "stream",
     "text": [
      " 35%|████████████████████████▌                                             | 34/97 [2:54:51<5:24:00, 308.57s/it]"
     ]
    },
    {
     "name": "stdout",
     "output_type": "stream",
     "text": [
      "The chain is shorter than 50 times the integrated autocorrelation time for 1 parameter(s). Use this estimate with caution and run a longer chain!\n",
      "N/50 = 20;\n",
      "tau: [36.20385577]\n",
      "final params:\n",
      "[[Fit Statistics]]\n",
      "    # fitting method   = emcee\n",
      "    # function evals   = 50000\n",
      "    # data points      = 629\n",
      "    # variables        = 1\n",
      "    chi-square         = 35433.656\n",
      "    reduced chi-square = 56.4230195\n",
      "    Akaike info crit   = 2537.67898\n",
      "    Bayesian info crit = 2542.12311\n",
      "[[Variables]]\n",
      "    teff:  30923 (fixed)\n",
      "    logg:  9.042453 (fixed)\n",
      "    RV:    61.7294853 +/- 3.00192981 (4.86%) (init = 83.01141)\n",
      "    res:   1 (fixed)\n",
      "rv init: 83.01140502668655\n",
      "94.0\n"
     ]
    },
    {
     "name": "stderr",
     "output_type": "stream",
     "text": [
      "\n"
     ]
    },
    {
     "ename": "ConnectionError",
     "evalue": "('Connection aborted.', ConnectionResetError(104, 'Connection reset by peer'))",
     "output_type": "error",
     "traceback": [
      "\u001b[0;31m---------------------------------------------------------------------------\u001b[0m",
      "\u001b[0;31mConnectionResetError\u001b[0m                      Traceback (most recent call last)",
      "File \u001b[0;32m~/anaconda3/lib/python3.8/site-packages/urllib3/connectionpool.py:703\u001b[0m, in \u001b[0;36mHTTPConnectionPool.urlopen\u001b[0;34m(self, method, url, body, headers, retries, redirect, assert_same_host, timeout, pool_timeout, release_conn, chunked, body_pos, **response_kw)\u001b[0m\n\u001b[1;32m    702\u001b[0m \u001b[38;5;66;03m# Make the request on the httplib connection object.\u001b[39;00m\n\u001b[0;32m--> 703\u001b[0m httplib_response \u001b[38;5;241m=\u001b[39m \u001b[38;5;28;43mself\u001b[39;49m\u001b[38;5;241;43m.\u001b[39;49m\u001b[43m_make_request\u001b[49m\u001b[43m(\u001b[49m\n\u001b[1;32m    704\u001b[0m \u001b[43m    \u001b[49m\u001b[43mconn\u001b[49m\u001b[43m,\u001b[49m\n\u001b[1;32m    705\u001b[0m \u001b[43m    \u001b[49m\u001b[43mmethod\u001b[49m\u001b[43m,\u001b[49m\n\u001b[1;32m    706\u001b[0m \u001b[43m    \u001b[49m\u001b[43murl\u001b[49m\u001b[43m,\u001b[49m\n\u001b[1;32m    707\u001b[0m \u001b[43m    \u001b[49m\u001b[43mtimeout\u001b[49m\u001b[38;5;241;43m=\u001b[39;49m\u001b[43mtimeout_obj\u001b[49m\u001b[43m,\u001b[49m\n\u001b[1;32m    708\u001b[0m \u001b[43m    \u001b[49m\u001b[43mbody\u001b[49m\u001b[38;5;241;43m=\u001b[39;49m\u001b[43mbody\u001b[49m\u001b[43m,\u001b[49m\n\u001b[1;32m    709\u001b[0m \u001b[43m    \u001b[49m\u001b[43mheaders\u001b[49m\u001b[38;5;241;43m=\u001b[39;49m\u001b[43mheaders\u001b[49m\u001b[43m,\u001b[49m\n\u001b[1;32m    710\u001b[0m \u001b[43m    \u001b[49m\u001b[43mchunked\u001b[49m\u001b[38;5;241;43m=\u001b[39;49m\u001b[43mchunked\u001b[49m\u001b[43m,\u001b[49m\n\u001b[1;32m    711\u001b[0m \u001b[43m\u001b[49m\u001b[43m)\u001b[49m\n\u001b[1;32m    713\u001b[0m \u001b[38;5;66;03m# If we're going to release the connection in ``finally:``, then\u001b[39;00m\n\u001b[1;32m    714\u001b[0m \u001b[38;5;66;03m# the response doesn't need to know about the connection. Otherwise\u001b[39;00m\n\u001b[1;32m    715\u001b[0m \u001b[38;5;66;03m# it will also try to release it and we'll have a double-release\u001b[39;00m\n\u001b[1;32m    716\u001b[0m \u001b[38;5;66;03m# mess.\u001b[39;00m\n",
      "File \u001b[0;32m~/anaconda3/lib/python3.8/site-packages/urllib3/connectionpool.py:449\u001b[0m, in \u001b[0;36mHTTPConnectionPool._make_request\u001b[0;34m(self, conn, method, url, timeout, chunked, **httplib_request_kw)\u001b[0m\n\u001b[1;32m    445\u001b[0m         \u001b[38;5;28;01mexcept\u001b[39;00m \u001b[38;5;167;01mBaseException\u001b[39;00m \u001b[38;5;28;01mas\u001b[39;00m e:\n\u001b[1;32m    446\u001b[0m             \u001b[38;5;66;03m# Remove the TypeError from the exception chain in\u001b[39;00m\n\u001b[1;32m    447\u001b[0m             \u001b[38;5;66;03m# Python 3 (including for exceptions like SystemExit).\u001b[39;00m\n\u001b[1;32m    448\u001b[0m             \u001b[38;5;66;03m# Otherwise it looks like a bug in the code.\u001b[39;00m\n\u001b[0;32m--> 449\u001b[0m             \u001b[43msix\u001b[49m\u001b[38;5;241;43m.\u001b[39;49m\u001b[43mraise_from\u001b[49m\u001b[43m(\u001b[49m\u001b[43me\u001b[49m\u001b[43m,\u001b[49m\u001b[43m \u001b[49m\u001b[38;5;28;43;01mNone\u001b[39;49;00m\u001b[43m)\u001b[49m\n\u001b[1;32m    450\u001b[0m \u001b[38;5;28;01mexcept\u001b[39;00m (SocketTimeout, BaseSSLError, SocketError) \u001b[38;5;28;01mas\u001b[39;00m e:\n",
      "File \u001b[0;32m<string>:3\u001b[0m, in \u001b[0;36mraise_from\u001b[0;34m(value, from_value)\u001b[0m\n",
      "File \u001b[0;32m~/anaconda3/lib/python3.8/site-packages/urllib3/connectionpool.py:444\u001b[0m, in \u001b[0;36mHTTPConnectionPool._make_request\u001b[0;34m(self, conn, method, url, timeout, chunked, **httplib_request_kw)\u001b[0m\n\u001b[1;32m    443\u001b[0m \u001b[38;5;28;01mtry\u001b[39;00m:\n\u001b[0;32m--> 444\u001b[0m     httplib_response \u001b[38;5;241m=\u001b[39m \u001b[43mconn\u001b[49m\u001b[38;5;241;43m.\u001b[39;49m\u001b[43mgetresponse\u001b[49m\u001b[43m(\u001b[49m\u001b[43m)\u001b[49m\n\u001b[1;32m    445\u001b[0m \u001b[38;5;28;01mexcept\u001b[39;00m \u001b[38;5;167;01mBaseException\u001b[39;00m \u001b[38;5;28;01mas\u001b[39;00m e:\n\u001b[1;32m    446\u001b[0m     \u001b[38;5;66;03m# Remove the TypeError from the exception chain in\u001b[39;00m\n\u001b[1;32m    447\u001b[0m     \u001b[38;5;66;03m# Python 3 (including for exceptions like SystemExit).\u001b[39;00m\n\u001b[1;32m    448\u001b[0m     \u001b[38;5;66;03m# Otherwise it looks like a bug in the code.\u001b[39;00m\n",
      "File \u001b[0;32m~/anaconda3/lib/python3.8/http/client.py:1332\u001b[0m, in \u001b[0;36mHTTPConnection.getresponse\u001b[0;34m(self)\u001b[0m\n\u001b[1;32m   1331\u001b[0m \u001b[38;5;28;01mtry\u001b[39;00m:\n\u001b[0;32m-> 1332\u001b[0m     \u001b[43mresponse\u001b[49m\u001b[38;5;241;43m.\u001b[39;49m\u001b[43mbegin\u001b[49m\u001b[43m(\u001b[49m\u001b[43m)\u001b[49m\n\u001b[1;32m   1333\u001b[0m \u001b[38;5;28;01mexcept\u001b[39;00m \u001b[38;5;167;01mConnectionError\u001b[39;00m:\n",
      "File \u001b[0;32m~/anaconda3/lib/python3.8/http/client.py:303\u001b[0m, in \u001b[0;36mHTTPResponse.begin\u001b[0;34m(self)\u001b[0m\n\u001b[1;32m    302\u001b[0m \u001b[38;5;28;01mwhile\u001b[39;00m \u001b[38;5;28;01mTrue\u001b[39;00m:\n\u001b[0;32m--> 303\u001b[0m     version, status, reason \u001b[38;5;241m=\u001b[39m \u001b[38;5;28;43mself\u001b[39;49m\u001b[38;5;241;43m.\u001b[39;49m\u001b[43m_read_status\u001b[49m\u001b[43m(\u001b[49m\u001b[43m)\u001b[49m\n\u001b[1;32m    304\u001b[0m     \u001b[38;5;28;01mif\u001b[39;00m status \u001b[38;5;241m!=\u001b[39m CONTINUE:\n",
      "File \u001b[0;32m~/anaconda3/lib/python3.8/http/client.py:264\u001b[0m, in \u001b[0;36mHTTPResponse._read_status\u001b[0;34m(self)\u001b[0m\n\u001b[1;32m    263\u001b[0m \u001b[38;5;28;01mdef\u001b[39;00m \u001b[38;5;21m_read_status\u001b[39m(\u001b[38;5;28mself\u001b[39m):\n\u001b[0;32m--> 264\u001b[0m     line \u001b[38;5;241m=\u001b[39m \u001b[38;5;28mstr\u001b[39m(\u001b[38;5;28;43mself\u001b[39;49m\u001b[38;5;241;43m.\u001b[39;49m\u001b[43mfp\u001b[49m\u001b[38;5;241;43m.\u001b[39;49m\u001b[43mreadline\u001b[49m\u001b[43m(\u001b[49m\u001b[43m_MAXLINE\u001b[49m\u001b[43m \u001b[49m\u001b[38;5;241;43m+\u001b[39;49m\u001b[43m \u001b[49m\u001b[38;5;241;43m1\u001b[39;49m\u001b[43m)\u001b[49m, \u001b[38;5;124m\"\u001b[39m\u001b[38;5;124miso-8859-1\u001b[39m\u001b[38;5;124m\"\u001b[39m)\n\u001b[1;32m    265\u001b[0m     \u001b[38;5;28;01mif\u001b[39;00m \u001b[38;5;28mlen\u001b[39m(line) \u001b[38;5;241m>\u001b[39m _MAXLINE:\n",
      "File \u001b[0;32m~/anaconda3/lib/python3.8/socket.py:669\u001b[0m, in \u001b[0;36mSocketIO.readinto\u001b[0;34m(self, b)\u001b[0m\n\u001b[1;32m    668\u001b[0m \u001b[38;5;28;01mtry\u001b[39;00m:\n\u001b[0;32m--> 669\u001b[0m     \u001b[38;5;28;01mreturn\u001b[39;00m \u001b[38;5;28;43mself\u001b[39;49m\u001b[38;5;241;43m.\u001b[39;49m\u001b[43m_sock\u001b[49m\u001b[38;5;241;43m.\u001b[39;49m\u001b[43mrecv_into\u001b[49m\u001b[43m(\u001b[49m\u001b[43mb\u001b[49m\u001b[43m)\u001b[49m\n\u001b[1;32m    670\u001b[0m \u001b[38;5;28;01mexcept\u001b[39;00m timeout:\n",
      "\u001b[0;31mConnectionResetError\u001b[0m: [Errno 104] Connection reset by peer",
      "\nDuring handling of the above exception, another exception occurred:\n",
      "\u001b[0;31mProtocolError\u001b[0m                             Traceback (most recent call last)",
      "File \u001b[0;32m~/anaconda3/lib/python3.8/site-packages/requests/adapters.py:489\u001b[0m, in \u001b[0;36mHTTPAdapter.send\u001b[0;34m(self, request, stream, timeout, verify, cert, proxies)\u001b[0m\n\u001b[1;32m    488\u001b[0m \u001b[38;5;28;01mif\u001b[39;00m \u001b[38;5;129;01mnot\u001b[39;00m chunked:\n\u001b[0;32m--> 489\u001b[0m     resp \u001b[38;5;241m=\u001b[39m \u001b[43mconn\u001b[49m\u001b[38;5;241;43m.\u001b[39;49m\u001b[43murlopen\u001b[49m\u001b[43m(\u001b[49m\n\u001b[1;32m    490\u001b[0m \u001b[43m        \u001b[49m\u001b[43mmethod\u001b[49m\u001b[38;5;241;43m=\u001b[39;49m\u001b[43mrequest\u001b[49m\u001b[38;5;241;43m.\u001b[39;49m\u001b[43mmethod\u001b[49m\u001b[43m,\u001b[49m\n\u001b[1;32m    491\u001b[0m \u001b[43m        \u001b[49m\u001b[43murl\u001b[49m\u001b[38;5;241;43m=\u001b[39;49m\u001b[43murl\u001b[49m\u001b[43m,\u001b[49m\n\u001b[1;32m    492\u001b[0m \u001b[43m        \u001b[49m\u001b[43mbody\u001b[49m\u001b[38;5;241;43m=\u001b[39;49m\u001b[43mrequest\u001b[49m\u001b[38;5;241;43m.\u001b[39;49m\u001b[43mbody\u001b[49m\u001b[43m,\u001b[49m\n\u001b[1;32m    493\u001b[0m \u001b[43m        \u001b[49m\u001b[43mheaders\u001b[49m\u001b[38;5;241;43m=\u001b[39;49m\u001b[43mrequest\u001b[49m\u001b[38;5;241;43m.\u001b[39;49m\u001b[43mheaders\u001b[49m\u001b[43m,\u001b[49m\n\u001b[1;32m    494\u001b[0m \u001b[43m        \u001b[49m\u001b[43mredirect\u001b[49m\u001b[38;5;241;43m=\u001b[39;49m\u001b[38;5;28;43;01mFalse\u001b[39;49;00m\u001b[43m,\u001b[49m\n\u001b[1;32m    495\u001b[0m \u001b[43m        \u001b[49m\u001b[43massert_same_host\u001b[49m\u001b[38;5;241;43m=\u001b[39;49m\u001b[38;5;28;43;01mFalse\u001b[39;49;00m\u001b[43m,\u001b[49m\n\u001b[1;32m    496\u001b[0m \u001b[43m        \u001b[49m\u001b[43mpreload_content\u001b[49m\u001b[38;5;241;43m=\u001b[39;49m\u001b[38;5;28;43;01mFalse\u001b[39;49;00m\u001b[43m,\u001b[49m\n\u001b[1;32m    497\u001b[0m \u001b[43m        \u001b[49m\u001b[43mdecode_content\u001b[49m\u001b[38;5;241;43m=\u001b[39;49m\u001b[38;5;28;43;01mFalse\u001b[39;49;00m\u001b[43m,\u001b[49m\n\u001b[1;32m    498\u001b[0m \u001b[43m        \u001b[49m\u001b[43mretries\u001b[49m\u001b[38;5;241;43m=\u001b[39;49m\u001b[38;5;28;43mself\u001b[39;49m\u001b[38;5;241;43m.\u001b[39;49m\u001b[43mmax_retries\u001b[49m\u001b[43m,\u001b[49m\n\u001b[1;32m    499\u001b[0m \u001b[43m        \u001b[49m\u001b[43mtimeout\u001b[49m\u001b[38;5;241;43m=\u001b[39;49m\u001b[43mtimeout\u001b[49m\u001b[43m,\u001b[49m\n\u001b[1;32m    500\u001b[0m \u001b[43m    \u001b[49m\u001b[43m)\u001b[49m\n\u001b[1;32m    502\u001b[0m \u001b[38;5;66;03m# Send the request.\u001b[39;00m\n\u001b[1;32m    503\u001b[0m \u001b[38;5;28;01melse\u001b[39;00m:\n",
      "File \u001b[0;32m~/anaconda3/lib/python3.8/site-packages/urllib3/connectionpool.py:785\u001b[0m, in \u001b[0;36mHTTPConnectionPool.urlopen\u001b[0;34m(self, method, url, body, headers, retries, redirect, assert_same_host, timeout, pool_timeout, release_conn, chunked, body_pos, **response_kw)\u001b[0m\n\u001b[1;32m    783\u001b[0m     e \u001b[38;5;241m=\u001b[39m ProtocolError(\u001b[38;5;124m\"\u001b[39m\u001b[38;5;124mConnection aborted.\u001b[39m\u001b[38;5;124m\"\u001b[39m, e)\n\u001b[0;32m--> 785\u001b[0m retries \u001b[38;5;241m=\u001b[39m \u001b[43mretries\u001b[49m\u001b[38;5;241;43m.\u001b[39;49m\u001b[43mincrement\u001b[49m\u001b[43m(\u001b[49m\n\u001b[1;32m    786\u001b[0m \u001b[43m    \u001b[49m\u001b[43mmethod\u001b[49m\u001b[43m,\u001b[49m\u001b[43m \u001b[49m\u001b[43murl\u001b[49m\u001b[43m,\u001b[49m\u001b[43m \u001b[49m\u001b[43merror\u001b[49m\u001b[38;5;241;43m=\u001b[39;49m\u001b[43me\u001b[49m\u001b[43m,\u001b[49m\u001b[43m \u001b[49m\u001b[43m_pool\u001b[49m\u001b[38;5;241;43m=\u001b[39;49m\u001b[38;5;28;43mself\u001b[39;49m\u001b[43m,\u001b[49m\u001b[43m \u001b[49m\u001b[43m_stacktrace\u001b[49m\u001b[38;5;241;43m=\u001b[39;49m\u001b[43msys\u001b[49m\u001b[38;5;241;43m.\u001b[39;49m\u001b[43mexc_info\u001b[49m\u001b[43m(\u001b[49m\u001b[43m)\u001b[49m\u001b[43m[\u001b[49m\u001b[38;5;241;43m2\u001b[39;49m\u001b[43m]\u001b[49m\n\u001b[1;32m    787\u001b[0m \u001b[43m\u001b[49m\u001b[43m)\u001b[49m\n\u001b[1;32m    788\u001b[0m retries\u001b[38;5;241m.\u001b[39msleep()\n",
      "File \u001b[0;32m~/anaconda3/lib/python3.8/site-packages/urllib3/util/retry.py:550\u001b[0m, in \u001b[0;36mRetry.increment\u001b[0;34m(self, method, url, response, error, _pool, _stacktrace)\u001b[0m\n\u001b[1;32m    549\u001b[0m \u001b[38;5;28;01mif\u001b[39;00m read \u001b[38;5;129;01mis\u001b[39;00m \u001b[38;5;28;01mFalse\u001b[39;00m \u001b[38;5;129;01mor\u001b[39;00m \u001b[38;5;129;01mnot\u001b[39;00m \u001b[38;5;28mself\u001b[39m\u001b[38;5;241m.\u001b[39m_is_method_retryable(method):\n\u001b[0;32m--> 550\u001b[0m     \u001b[38;5;28;01mraise\u001b[39;00m \u001b[43msix\u001b[49m\u001b[38;5;241;43m.\u001b[39;49m\u001b[43mreraise\u001b[49m\u001b[43m(\u001b[49m\u001b[38;5;28;43mtype\u001b[39;49m\u001b[43m(\u001b[49m\u001b[43merror\u001b[49m\u001b[43m)\u001b[49m\u001b[43m,\u001b[49m\u001b[43m \u001b[49m\u001b[43merror\u001b[49m\u001b[43m,\u001b[49m\u001b[43m \u001b[49m\u001b[43m_stacktrace\u001b[49m\u001b[43m)\u001b[49m\n\u001b[1;32m    551\u001b[0m \u001b[38;5;28;01melif\u001b[39;00m read \u001b[38;5;129;01mis\u001b[39;00m \u001b[38;5;129;01mnot\u001b[39;00m \u001b[38;5;28;01mNone\u001b[39;00m:\n",
      "File \u001b[0;32m~/anaconda3/lib/python3.8/site-packages/urllib3/packages/six.py:769\u001b[0m, in \u001b[0;36mreraise\u001b[0;34m(tp, value, tb)\u001b[0m\n\u001b[1;32m    768\u001b[0m \u001b[38;5;28;01mif\u001b[39;00m value\u001b[38;5;241m.\u001b[39m__traceback__ \u001b[38;5;129;01mis\u001b[39;00m \u001b[38;5;129;01mnot\u001b[39;00m tb:\n\u001b[0;32m--> 769\u001b[0m     \u001b[38;5;28;01mraise\u001b[39;00m value\u001b[38;5;241m.\u001b[39mwith_traceback(tb)\n\u001b[1;32m    770\u001b[0m \u001b[38;5;28;01mraise\u001b[39;00m value\n",
      "File \u001b[0;32m~/anaconda3/lib/python3.8/site-packages/urllib3/connectionpool.py:703\u001b[0m, in \u001b[0;36mHTTPConnectionPool.urlopen\u001b[0;34m(self, method, url, body, headers, retries, redirect, assert_same_host, timeout, pool_timeout, release_conn, chunked, body_pos, **response_kw)\u001b[0m\n\u001b[1;32m    702\u001b[0m \u001b[38;5;66;03m# Make the request on the httplib connection object.\u001b[39;00m\n\u001b[0;32m--> 703\u001b[0m httplib_response \u001b[38;5;241m=\u001b[39m \u001b[38;5;28;43mself\u001b[39;49m\u001b[38;5;241;43m.\u001b[39;49m\u001b[43m_make_request\u001b[49m\u001b[43m(\u001b[49m\n\u001b[1;32m    704\u001b[0m \u001b[43m    \u001b[49m\u001b[43mconn\u001b[49m\u001b[43m,\u001b[49m\n\u001b[1;32m    705\u001b[0m \u001b[43m    \u001b[49m\u001b[43mmethod\u001b[49m\u001b[43m,\u001b[49m\n\u001b[1;32m    706\u001b[0m \u001b[43m    \u001b[49m\u001b[43murl\u001b[49m\u001b[43m,\u001b[49m\n\u001b[1;32m    707\u001b[0m \u001b[43m    \u001b[49m\u001b[43mtimeout\u001b[49m\u001b[38;5;241;43m=\u001b[39;49m\u001b[43mtimeout_obj\u001b[49m\u001b[43m,\u001b[49m\n\u001b[1;32m    708\u001b[0m \u001b[43m    \u001b[49m\u001b[43mbody\u001b[49m\u001b[38;5;241;43m=\u001b[39;49m\u001b[43mbody\u001b[49m\u001b[43m,\u001b[49m\n\u001b[1;32m    709\u001b[0m \u001b[43m    \u001b[49m\u001b[43mheaders\u001b[49m\u001b[38;5;241;43m=\u001b[39;49m\u001b[43mheaders\u001b[49m\u001b[43m,\u001b[49m\n\u001b[1;32m    710\u001b[0m \u001b[43m    \u001b[49m\u001b[43mchunked\u001b[49m\u001b[38;5;241;43m=\u001b[39;49m\u001b[43mchunked\u001b[49m\u001b[43m,\u001b[49m\n\u001b[1;32m    711\u001b[0m \u001b[43m\u001b[49m\u001b[43m)\u001b[49m\n\u001b[1;32m    713\u001b[0m \u001b[38;5;66;03m# If we're going to release the connection in ``finally:``, then\u001b[39;00m\n\u001b[1;32m    714\u001b[0m \u001b[38;5;66;03m# the response doesn't need to know about the connection. Otherwise\u001b[39;00m\n\u001b[1;32m    715\u001b[0m \u001b[38;5;66;03m# it will also try to release it and we'll have a double-release\u001b[39;00m\n\u001b[1;32m    716\u001b[0m \u001b[38;5;66;03m# mess.\u001b[39;00m\n",
      "File \u001b[0;32m~/anaconda3/lib/python3.8/site-packages/urllib3/connectionpool.py:449\u001b[0m, in \u001b[0;36mHTTPConnectionPool._make_request\u001b[0;34m(self, conn, method, url, timeout, chunked, **httplib_request_kw)\u001b[0m\n\u001b[1;32m    445\u001b[0m         \u001b[38;5;28;01mexcept\u001b[39;00m \u001b[38;5;167;01mBaseException\u001b[39;00m \u001b[38;5;28;01mas\u001b[39;00m e:\n\u001b[1;32m    446\u001b[0m             \u001b[38;5;66;03m# Remove the TypeError from the exception chain in\u001b[39;00m\n\u001b[1;32m    447\u001b[0m             \u001b[38;5;66;03m# Python 3 (including for exceptions like SystemExit).\u001b[39;00m\n\u001b[1;32m    448\u001b[0m             \u001b[38;5;66;03m# Otherwise it looks like a bug in the code.\u001b[39;00m\n\u001b[0;32m--> 449\u001b[0m             \u001b[43msix\u001b[49m\u001b[38;5;241;43m.\u001b[39;49m\u001b[43mraise_from\u001b[49m\u001b[43m(\u001b[49m\u001b[43me\u001b[49m\u001b[43m,\u001b[49m\u001b[43m \u001b[49m\u001b[38;5;28;43;01mNone\u001b[39;49;00m\u001b[43m)\u001b[49m\n\u001b[1;32m    450\u001b[0m \u001b[38;5;28;01mexcept\u001b[39;00m (SocketTimeout, BaseSSLError, SocketError) \u001b[38;5;28;01mas\u001b[39;00m e:\n",
      "File \u001b[0;32m<string>:3\u001b[0m, in \u001b[0;36mraise_from\u001b[0;34m(value, from_value)\u001b[0m\n",
      "File \u001b[0;32m~/anaconda3/lib/python3.8/site-packages/urllib3/connectionpool.py:444\u001b[0m, in \u001b[0;36mHTTPConnectionPool._make_request\u001b[0;34m(self, conn, method, url, timeout, chunked, **httplib_request_kw)\u001b[0m\n\u001b[1;32m    443\u001b[0m \u001b[38;5;28;01mtry\u001b[39;00m:\n\u001b[0;32m--> 444\u001b[0m     httplib_response \u001b[38;5;241m=\u001b[39m \u001b[43mconn\u001b[49m\u001b[38;5;241;43m.\u001b[39;49m\u001b[43mgetresponse\u001b[49m\u001b[43m(\u001b[49m\u001b[43m)\u001b[49m\n\u001b[1;32m    445\u001b[0m \u001b[38;5;28;01mexcept\u001b[39;00m \u001b[38;5;167;01mBaseException\u001b[39;00m \u001b[38;5;28;01mas\u001b[39;00m e:\n\u001b[1;32m    446\u001b[0m     \u001b[38;5;66;03m# Remove the TypeError from the exception chain in\u001b[39;00m\n\u001b[1;32m    447\u001b[0m     \u001b[38;5;66;03m# Python 3 (including for exceptions like SystemExit).\u001b[39;00m\n\u001b[1;32m    448\u001b[0m     \u001b[38;5;66;03m# Otherwise it looks like a bug in the code.\u001b[39;00m\n",
      "File \u001b[0;32m~/anaconda3/lib/python3.8/http/client.py:1332\u001b[0m, in \u001b[0;36mHTTPConnection.getresponse\u001b[0;34m(self)\u001b[0m\n\u001b[1;32m   1331\u001b[0m \u001b[38;5;28;01mtry\u001b[39;00m:\n\u001b[0;32m-> 1332\u001b[0m     \u001b[43mresponse\u001b[49m\u001b[38;5;241;43m.\u001b[39;49m\u001b[43mbegin\u001b[49m\u001b[43m(\u001b[49m\u001b[43m)\u001b[49m\n\u001b[1;32m   1333\u001b[0m \u001b[38;5;28;01mexcept\u001b[39;00m \u001b[38;5;167;01mConnectionError\u001b[39;00m:\n",
      "File \u001b[0;32m~/anaconda3/lib/python3.8/http/client.py:303\u001b[0m, in \u001b[0;36mHTTPResponse.begin\u001b[0;34m(self)\u001b[0m\n\u001b[1;32m    302\u001b[0m \u001b[38;5;28;01mwhile\u001b[39;00m \u001b[38;5;28;01mTrue\u001b[39;00m:\n\u001b[0;32m--> 303\u001b[0m     version, status, reason \u001b[38;5;241m=\u001b[39m \u001b[38;5;28;43mself\u001b[39;49m\u001b[38;5;241;43m.\u001b[39;49m\u001b[43m_read_status\u001b[49m\u001b[43m(\u001b[49m\u001b[43m)\u001b[49m\n\u001b[1;32m    304\u001b[0m     \u001b[38;5;28;01mif\u001b[39;00m status \u001b[38;5;241m!=\u001b[39m CONTINUE:\n",
      "File \u001b[0;32m~/anaconda3/lib/python3.8/http/client.py:264\u001b[0m, in \u001b[0;36mHTTPResponse._read_status\u001b[0;34m(self)\u001b[0m\n\u001b[1;32m    263\u001b[0m \u001b[38;5;28;01mdef\u001b[39;00m \u001b[38;5;21m_read_status\u001b[39m(\u001b[38;5;28mself\u001b[39m):\n\u001b[0;32m--> 264\u001b[0m     line \u001b[38;5;241m=\u001b[39m \u001b[38;5;28mstr\u001b[39m(\u001b[38;5;28;43mself\u001b[39;49m\u001b[38;5;241;43m.\u001b[39;49m\u001b[43mfp\u001b[49m\u001b[38;5;241;43m.\u001b[39;49m\u001b[43mreadline\u001b[49m\u001b[43m(\u001b[49m\u001b[43m_MAXLINE\u001b[49m\u001b[43m \u001b[49m\u001b[38;5;241;43m+\u001b[39;49m\u001b[43m \u001b[49m\u001b[38;5;241;43m1\u001b[39;49m\u001b[43m)\u001b[49m, \u001b[38;5;124m\"\u001b[39m\u001b[38;5;124miso-8859-1\u001b[39m\u001b[38;5;124m\"\u001b[39m)\n\u001b[1;32m    265\u001b[0m     \u001b[38;5;28;01mif\u001b[39;00m \u001b[38;5;28mlen\u001b[39m(line) \u001b[38;5;241m>\u001b[39m _MAXLINE:\n",
      "File \u001b[0;32m~/anaconda3/lib/python3.8/socket.py:669\u001b[0m, in \u001b[0;36mSocketIO.readinto\u001b[0;34m(self, b)\u001b[0m\n\u001b[1;32m    668\u001b[0m \u001b[38;5;28;01mtry\u001b[39;00m:\n\u001b[0;32m--> 669\u001b[0m     \u001b[38;5;28;01mreturn\u001b[39;00m \u001b[38;5;28;43mself\u001b[39;49m\u001b[38;5;241;43m.\u001b[39;49m\u001b[43m_sock\u001b[49m\u001b[38;5;241;43m.\u001b[39;49m\u001b[43mrecv_into\u001b[49m\u001b[43m(\u001b[49m\u001b[43mb\u001b[49m\u001b[43m)\u001b[49m\n\u001b[1;32m    670\u001b[0m \u001b[38;5;28;01mexcept\u001b[39;00m timeout:\n",
      "\u001b[0;31mProtocolError\u001b[0m: ('Connection aborted.', ConnectionResetError(104, 'Connection reset by peer'))",
      "\nDuring handling of the above exception, another exception occurred:\n",
      "\u001b[0;31mConnectionError\u001b[0m                           Traceback (most recent call last)",
      "Input \u001b[0;32mIn [40]\u001b[0m, in \u001b[0;36m<cell line: 1>\u001b[0;34m()\u001b[0m\n\u001b[1;32m      2\u001b[0m p,m,f \u001b[38;5;241m=\u001b[39m np\u001b[38;5;241m.\u001b[39marray(falcon_xmatch[\u001b[38;5;124m'\u001b[39m\u001b[38;5;124mcol_p_m_f\u001b[39m\u001b[38;5;124m'\u001b[39m][j]\u001b[38;5;241m.\u001b[39msplit(\u001b[38;5;124m'\u001b[39m\u001b[38;5;124m-\u001b[39m\u001b[38;5;124m'\u001b[39m))\u001b[38;5;241m.\u001b[39mastype(\u001b[38;5;28mfloat\u001b[39m)\n\u001b[1;32m      4\u001b[0m \u001b[38;5;28;01mtry\u001b[39;00m:\n\u001b[0;32m----> 5\u001b[0m     xid \u001b[38;5;241m=\u001b[39m \u001b[43mSDSS\u001b[49m\u001b[38;5;241;43m.\u001b[39;49m\u001b[43mquery_specobj\u001b[49m\u001b[43m(\u001b[49m\u001b[43mplate\u001b[49m\u001b[43m \u001b[49m\u001b[38;5;241;43m=\u001b[39;49m\u001b[43m \u001b[49m\u001b[43mp\u001b[49m\u001b[43m,\u001b[49m\u001b[43m \u001b[49m\u001b[43mmjd\u001b[49m\u001b[43m \u001b[49m\u001b[38;5;241;43m=\u001b[39;49m\u001b[43m \u001b[49m\u001b[43mm\u001b[49m\u001b[43m,\u001b[49m\u001b[43m \u001b[49m\u001b[43mfiberID\u001b[49m\u001b[43m \u001b[49m\u001b[38;5;241;43m=\u001b[39;49m\u001b[43m \u001b[49m\u001b[43mf\u001b[49m\u001b[43m)\u001b[49m\n\u001b[1;32m      6\u001b[0m \u001b[38;5;28;01mexcept\u001b[39;00m \u001b[38;5;167;01mValueError\u001b[39;00m:\n\u001b[1;32m      7\u001b[0m     \u001b[38;5;28mprint\u001b[39m(\u001b[38;5;124m'\u001b[39m\u001b[38;5;124munknown error\u001b[39m\u001b[38;5;124m'\u001b[39m)\n",
      "File \u001b[0;32m~/anaconda3/lib/python3.8/site-packages/astroquery/utils/class_or_instance.py:25\u001b[0m, in \u001b[0;36mclass_or_instance.__get__.<locals>.f\u001b[0;34m(*args, **kwds)\u001b[0m\n\u001b[1;32m     23\u001b[0m \u001b[38;5;28;01mdef\u001b[39;00m \u001b[38;5;21mf\u001b[39m(\u001b[38;5;241m*\u001b[39margs, \u001b[38;5;241m*\u001b[39m\u001b[38;5;241m*\u001b[39mkwds):\n\u001b[1;32m     24\u001b[0m     \u001b[38;5;28;01mif\u001b[39;00m obj \u001b[38;5;129;01mis\u001b[39;00m \u001b[38;5;129;01mnot\u001b[39;00m \u001b[38;5;28;01mNone\u001b[39;00m:\n\u001b[0;32m---> 25\u001b[0m         \u001b[38;5;28;01mreturn\u001b[39;00m \u001b[38;5;28;43mself\u001b[39;49m\u001b[38;5;241;43m.\u001b[39;49m\u001b[43mfn\u001b[49m\u001b[43m(\u001b[49m\u001b[43mobj\u001b[49m\u001b[43m,\u001b[49m\u001b[43m \u001b[49m\u001b[38;5;241;43m*\u001b[39;49m\u001b[43margs\u001b[49m\u001b[43m,\u001b[49m\u001b[43m \u001b[49m\u001b[38;5;241;43m*\u001b[39;49m\u001b[38;5;241;43m*\u001b[39;49m\u001b[43mkwds\u001b[49m\u001b[43m)\u001b[49m\n\u001b[1;32m     26\u001b[0m     \u001b[38;5;28;01melse\u001b[39;00m:\n\u001b[1;32m     27\u001b[0m         \u001b[38;5;28;01mreturn\u001b[39;00m \u001b[38;5;28mself\u001b[39m\u001b[38;5;241m.\u001b[39mfn(\u001b[38;5;28mcls\u001b[39m, \u001b[38;5;241m*\u001b[39margs, \u001b[38;5;241m*\u001b[39m\u001b[38;5;241m*\u001b[39mkwds)\n",
      "File \u001b[0;32m~/anaconda3/lib/python3.8/site-packages/astroquery/utils/process_asyncs.py:26\u001b[0m, in \u001b[0;36masync_to_sync.<locals>.create_method.<locals>.newmethod\u001b[0;34m(self, *args, **kwargs)\u001b[0m\n\u001b[1;32m     22\u001b[0m \u001b[38;5;129m@class_or_instance\u001b[39m\n\u001b[1;32m     23\u001b[0m \u001b[38;5;28;01mdef\u001b[39;00m \u001b[38;5;21mnewmethod\u001b[39m(\u001b[38;5;28mself\u001b[39m, \u001b[38;5;241m*\u001b[39margs, \u001b[38;5;241m*\u001b[39m\u001b[38;5;241m*\u001b[39mkwargs):\n\u001b[1;32m     24\u001b[0m     verbose \u001b[38;5;241m=\u001b[39m kwargs\u001b[38;5;241m.\u001b[39mpop(\u001b[38;5;124m'\u001b[39m\u001b[38;5;124mverbose\u001b[39m\u001b[38;5;124m'\u001b[39m, \u001b[38;5;28;01mFalse\u001b[39;00m)\n\u001b[0;32m---> 26\u001b[0m     response \u001b[38;5;241m=\u001b[39m \u001b[38;5;28;43mgetattr\u001b[39;49m\u001b[43m(\u001b[49m\u001b[38;5;28;43mself\u001b[39;49m\u001b[43m,\u001b[49m\u001b[43m \u001b[49m\u001b[43masync_method_name\u001b[49m\u001b[43m)\u001b[49m\u001b[43m(\u001b[49m\u001b[38;5;241;43m*\u001b[39;49m\u001b[43margs\u001b[49m\u001b[43m,\u001b[49m\u001b[43m \u001b[49m\u001b[38;5;241;43m*\u001b[39;49m\u001b[38;5;241;43m*\u001b[39;49m\u001b[43mkwargs\u001b[49m\u001b[43m)\u001b[49m\n\u001b[1;32m     27\u001b[0m     \u001b[38;5;28;01mif\u001b[39;00m kwargs\u001b[38;5;241m.\u001b[39mget(\u001b[38;5;124m'\u001b[39m\u001b[38;5;124mget_query_payload\u001b[39m\u001b[38;5;124m'\u001b[39m) \u001b[38;5;129;01mor\u001b[39;00m kwargs\u001b[38;5;241m.\u001b[39mget(\u001b[38;5;124m'\u001b[39m\u001b[38;5;124mfield_help\u001b[39m\u001b[38;5;124m'\u001b[39m):\n\u001b[1;32m     28\u001b[0m         \u001b[38;5;28;01mreturn\u001b[39;00m response\n",
      "File \u001b[0;32m~/anaconda3/lib/python3.8/site-packages/astroquery/sdss/core.py:342\u001b[0m, in \u001b[0;36mSDSSClass.query_specobj_async\u001b[0;34m(self, plate, mjd, fiberID, fields, timeout, get_query_payload, field_help, data_release, cache)\u001b[0m\n\u001b[1;32m    339\u001b[0m     \u001b[38;5;28;01mreturn\u001b[39;00m request_payload\n\u001b[1;32m    341\u001b[0m url \u001b[38;5;241m=\u001b[39m \u001b[38;5;28mself\u001b[39m\u001b[38;5;241m.\u001b[39m_get_query_url(data_release)\n\u001b[0;32m--> 342\u001b[0m response \u001b[38;5;241m=\u001b[39m \u001b[38;5;28;43mself\u001b[39;49m\u001b[38;5;241;43m.\u001b[39;49m\u001b[43m_request\u001b[49m\u001b[43m(\u001b[49m\u001b[38;5;124;43m\"\u001b[39;49m\u001b[38;5;124;43mGET\u001b[39;49m\u001b[38;5;124;43m\"\u001b[39;49m\u001b[43m,\u001b[49m\u001b[43m \u001b[49m\u001b[43murl\u001b[49m\u001b[43m,\u001b[49m\u001b[43m \u001b[49m\u001b[43mparams\u001b[49m\u001b[38;5;241;43m=\u001b[39;49m\u001b[43mrequest_payload\u001b[49m\u001b[43m,\u001b[49m\n\u001b[1;32m    343\u001b[0m \u001b[43m                         \u001b[49m\u001b[43mtimeout\u001b[49m\u001b[38;5;241;43m=\u001b[39;49m\u001b[43mtimeout\u001b[49m\u001b[43m,\u001b[49m\u001b[43m \u001b[49m\u001b[43mcache\u001b[49m\u001b[38;5;241;43m=\u001b[39;49m\u001b[43mcache\u001b[49m\u001b[43m)\u001b[49m\n\u001b[1;32m    344\u001b[0m \u001b[38;5;28;01mreturn\u001b[39;00m response\n",
      "File \u001b[0;32m~/anaconda3/lib/python3.8/site-packages/astroquery/query.py:317\u001b[0m, in \u001b[0;36mBaseQuery._request\u001b[0;34m(self, method, url, params, data, headers, files, save, savedir, timeout, cache, stream, auth, continuation, verify, allow_redirects, json, return_response_on_save)\u001b[0m\n\u001b[1;32m    315\u001b[0m     response \u001b[38;5;241m=\u001b[39m query\u001b[38;5;241m.\u001b[39mfrom_cache(\u001b[38;5;28mself\u001b[39m\u001b[38;5;241m.\u001b[39mcache_location)\n\u001b[1;32m    316\u001b[0m     \u001b[38;5;28;01mif\u001b[39;00m \u001b[38;5;129;01mnot\u001b[39;00m response:\n\u001b[0;32m--> 317\u001b[0m         response \u001b[38;5;241m=\u001b[39m \u001b[43mquery\u001b[49m\u001b[38;5;241;43m.\u001b[39;49m\u001b[43mrequest\u001b[49m\u001b[43m(\u001b[49m\u001b[38;5;28;43mself\u001b[39;49m\u001b[38;5;241;43m.\u001b[39;49m\u001b[43m_session\u001b[49m\u001b[43m,\u001b[49m\n\u001b[1;32m    318\u001b[0m \u001b[43m                                 \u001b[49m\u001b[38;5;28;43mself\u001b[39;49m\u001b[38;5;241;43m.\u001b[39;49m\u001b[43mcache_location\u001b[49m\u001b[43m,\u001b[49m\n\u001b[1;32m    319\u001b[0m \u001b[43m                                 \u001b[49m\u001b[43mstream\u001b[49m\u001b[38;5;241;43m=\u001b[39;49m\u001b[43mstream\u001b[49m\u001b[43m,\u001b[49m\n\u001b[1;32m    320\u001b[0m \u001b[43m                                 \u001b[49m\u001b[43mauth\u001b[49m\u001b[38;5;241;43m=\u001b[39;49m\u001b[43mauth\u001b[49m\u001b[43m,\u001b[49m\n\u001b[1;32m    321\u001b[0m \u001b[43m                                 \u001b[49m\u001b[43mallow_redirects\u001b[49m\u001b[38;5;241;43m=\u001b[39;49m\u001b[43mallow_redirects\u001b[49m\u001b[43m,\u001b[49m\n\u001b[1;32m    322\u001b[0m \u001b[43m                                 \u001b[49m\u001b[43mverify\u001b[49m\u001b[38;5;241;43m=\u001b[39;49m\u001b[43mverify\u001b[49m\u001b[43m,\u001b[49m\n\u001b[1;32m    323\u001b[0m \u001b[43m                                 \u001b[49m\u001b[43mjson\u001b[49m\u001b[38;5;241;43m=\u001b[39;49m\u001b[43mjson\u001b[49m\u001b[43m)\u001b[49m\n\u001b[1;32m    324\u001b[0m         to_cache(response, query\u001b[38;5;241m.\u001b[39mrequest_file(\u001b[38;5;28mself\u001b[39m\u001b[38;5;241m.\u001b[39mcache_location))\n\u001b[1;32m    325\u001b[0m \u001b[38;5;28mself\u001b[39m\u001b[38;5;241m.\u001b[39m_last_query \u001b[38;5;241m=\u001b[39m query\n",
      "File \u001b[0;32m~/anaconda3/lib/python3.8/site-packages/astroquery/query.py:71\u001b[0m, in \u001b[0;36mAstroQuery.request\u001b[0;34m(self, session, cache_location, stream, auth, verify, allow_redirects, json)\u001b[0m\n\u001b[1;32m     68\u001b[0m \u001b[38;5;28;01mdef\u001b[39;00m \u001b[38;5;21mrequest\u001b[39m(\u001b[38;5;28mself\u001b[39m, session, cache_location\u001b[38;5;241m=\u001b[39m\u001b[38;5;28;01mNone\u001b[39;00m, stream\u001b[38;5;241m=\u001b[39m\u001b[38;5;28;01mFalse\u001b[39;00m,\n\u001b[1;32m     69\u001b[0m             auth\u001b[38;5;241m=\u001b[39m\u001b[38;5;28;01mNone\u001b[39;00m, verify\u001b[38;5;241m=\u001b[39m\u001b[38;5;28;01mTrue\u001b[39;00m, allow_redirects\u001b[38;5;241m=\u001b[39m\u001b[38;5;28;01mTrue\u001b[39;00m,\n\u001b[1;32m     70\u001b[0m             json\u001b[38;5;241m=\u001b[39m\u001b[38;5;28;01mNone\u001b[39;00m):\n\u001b[0;32m---> 71\u001b[0m     \u001b[38;5;28;01mreturn\u001b[39;00m \u001b[43msession\u001b[49m\u001b[38;5;241;43m.\u001b[39;49m\u001b[43mrequest\u001b[49m\u001b[43m(\u001b[49m\u001b[38;5;28;43mself\u001b[39;49m\u001b[38;5;241;43m.\u001b[39;49m\u001b[43mmethod\u001b[49m\u001b[43m,\u001b[49m\u001b[43m \u001b[49m\u001b[38;5;28;43mself\u001b[39;49m\u001b[38;5;241;43m.\u001b[39;49m\u001b[43murl\u001b[49m\u001b[43m,\u001b[49m\u001b[43m \u001b[49m\u001b[43mparams\u001b[49m\u001b[38;5;241;43m=\u001b[39;49m\u001b[38;5;28;43mself\u001b[39;49m\u001b[38;5;241;43m.\u001b[39;49m\u001b[43mparams\u001b[49m\u001b[43m,\u001b[49m\n\u001b[1;32m     72\u001b[0m \u001b[43m                           \u001b[49m\u001b[43mdata\u001b[49m\u001b[38;5;241;43m=\u001b[39;49m\u001b[38;5;28;43mself\u001b[39;49m\u001b[38;5;241;43m.\u001b[39;49m\u001b[43mdata\u001b[49m\u001b[43m,\u001b[49m\u001b[43m \u001b[49m\u001b[43mheaders\u001b[49m\u001b[38;5;241;43m=\u001b[39;49m\u001b[38;5;28;43mself\u001b[39;49m\u001b[38;5;241;43m.\u001b[39;49m\u001b[43mheaders\u001b[49m\u001b[43m,\u001b[49m\n\u001b[1;32m     73\u001b[0m \u001b[43m                           \u001b[49m\u001b[43mfiles\u001b[49m\u001b[38;5;241;43m=\u001b[39;49m\u001b[38;5;28;43mself\u001b[39;49m\u001b[38;5;241;43m.\u001b[39;49m\u001b[43mfiles\u001b[49m\u001b[43m,\u001b[49m\u001b[43m \u001b[49m\u001b[43mtimeout\u001b[49m\u001b[38;5;241;43m=\u001b[39;49m\u001b[38;5;28;43mself\u001b[39;49m\u001b[38;5;241;43m.\u001b[39;49m\u001b[43mtimeout\u001b[49m\u001b[43m,\u001b[49m\n\u001b[1;32m     74\u001b[0m \u001b[43m                           \u001b[49m\u001b[43mstream\u001b[49m\u001b[38;5;241;43m=\u001b[39;49m\u001b[43mstream\u001b[49m\u001b[43m,\u001b[49m\u001b[43m \u001b[49m\u001b[43mauth\u001b[49m\u001b[38;5;241;43m=\u001b[39;49m\u001b[43mauth\u001b[49m\u001b[43m,\u001b[49m\u001b[43m \u001b[49m\u001b[43mverify\u001b[49m\u001b[38;5;241;43m=\u001b[39;49m\u001b[43mverify\u001b[49m\u001b[43m,\u001b[49m\n\u001b[1;32m     75\u001b[0m \u001b[43m                           \u001b[49m\u001b[43mallow_redirects\u001b[49m\u001b[38;5;241;43m=\u001b[39;49m\u001b[43mallow_redirects\u001b[49m\u001b[43m,\u001b[49m\n\u001b[1;32m     76\u001b[0m \u001b[43m                           \u001b[49m\u001b[43mjson\u001b[49m\u001b[38;5;241;43m=\u001b[39;49m\u001b[43mjson\u001b[49m\u001b[43m)\u001b[49m\n",
      "File \u001b[0;32m~/anaconda3/lib/python3.8/site-packages/requests/sessions.py:587\u001b[0m, in \u001b[0;36mSession.request\u001b[0;34m(self, method, url, params, data, headers, cookies, files, auth, timeout, allow_redirects, proxies, hooks, stream, verify, cert, json)\u001b[0m\n\u001b[1;32m    582\u001b[0m send_kwargs \u001b[38;5;241m=\u001b[39m {\n\u001b[1;32m    583\u001b[0m     \u001b[38;5;124m\"\u001b[39m\u001b[38;5;124mtimeout\u001b[39m\u001b[38;5;124m\"\u001b[39m: timeout,\n\u001b[1;32m    584\u001b[0m     \u001b[38;5;124m\"\u001b[39m\u001b[38;5;124mallow_redirects\u001b[39m\u001b[38;5;124m\"\u001b[39m: allow_redirects,\n\u001b[1;32m    585\u001b[0m }\n\u001b[1;32m    586\u001b[0m send_kwargs\u001b[38;5;241m.\u001b[39mupdate(settings)\n\u001b[0;32m--> 587\u001b[0m resp \u001b[38;5;241m=\u001b[39m \u001b[38;5;28;43mself\u001b[39;49m\u001b[38;5;241;43m.\u001b[39;49m\u001b[43msend\u001b[49m\u001b[43m(\u001b[49m\u001b[43mprep\u001b[49m\u001b[43m,\u001b[49m\u001b[43m \u001b[49m\u001b[38;5;241;43m*\u001b[39;49m\u001b[38;5;241;43m*\u001b[39;49m\u001b[43msend_kwargs\u001b[49m\u001b[43m)\u001b[49m\n\u001b[1;32m    589\u001b[0m \u001b[38;5;28;01mreturn\u001b[39;00m resp\n",
      "File \u001b[0;32m~/anaconda3/lib/python3.8/site-packages/requests/sessions.py:701\u001b[0m, in \u001b[0;36mSession.send\u001b[0;34m(self, request, **kwargs)\u001b[0m\n\u001b[1;32m    698\u001b[0m start \u001b[38;5;241m=\u001b[39m preferred_clock()\n\u001b[1;32m    700\u001b[0m \u001b[38;5;66;03m# Send the request\u001b[39;00m\n\u001b[0;32m--> 701\u001b[0m r \u001b[38;5;241m=\u001b[39m \u001b[43madapter\u001b[49m\u001b[38;5;241;43m.\u001b[39;49m\u001b[43msend\u001b[49m\u001b[43m(\u001b[49m\u001b[43mrequest\u001b[49m\u001b[43m,\u001b[49m\u001b[43m \u001b[49m\u001b[38;5;241;43m*\u001b[39;49m\u001b[38;5;241;43m*\u001b[39;49m\u001b[43mkwargs\u001b[49m\u001b[43m)\u001b[49m\n\u001b[1;32m    703\u001b[0m \u001b[38;5;66;03m# Total elapsed time of the request (approximately)\u001b[39;00m\n\u001b[1;32m    704\u001b[0m elapsed \u001b[38;5;241m=\u001b[39m preferred_clock() \u001b[38;5;241m-\u001b[39m start\n",
      "File \u001b[0;32m~/anaconda3/lib/python3.8/site-packages/requests/adapters.py:547\u001b[0m, in \u001b[0;36mHTTPAdapter.send\u001b[0;34m(self, request, stream, timeout, verify, cert, proxies)\u001b[0m\n\u001b[1;32m    544\u001b[0m             \u001b[38;5;28;01mraise\u001b[39;00m\n\u001b[1;32m    546\u001b[0m \u001b[38;5;28;01mexcept\u001b[39;00m (ProtocolError, \u001b[38;5;167;01mOSError\u001b[39;00m) \u001b[38;5;28;01mas\u001b[39;00m err:\n\u001b[0;32m--> 547\u001b[0m     \u001b[38;5;28;01mraise\u001b[39;00m \u001b[38;5;167;01mConnectionError\u001b[39;00m(err, request\u001b[38;5;241m=\u001b[39mrequest)\n\u001b[1;32m    549\u001b[0m \u001b[38;5;28;01mexcept\u001b[39;00m MaxRetryError \u001b[38;5;28;01mas\u001b[39;00m e:\n\u001b[1;32m    550\u001b[0m     \u001b[38;5;28;01mif\u001b[39;00m \u001b[38;5;28misinstance\u001b[39m(e\u001b[38;5;241m.\u001b[39mreason, ConnectTimeoutError):\n\u001b[1;32m    551\u001b[0m         \u001b[38;5;66;03m# TODO: Remove this in 3.0.0: see #2811\u001b[39;00m\n",
      "\u001b[0;31mConnectionError\u001b[0m: ('Connection aborted.', ConnectionResetError(104, 'Connection reset by peer'))"
     ]
    }
   ],
   "source": [
    "for j in tqdm( range(len(falcon_xmatch))):\n",
    "    p,m,f = np.array(falcon_xmatch['col_p_m_f'][j].split('-')).astype(float)\n",
    "    \n",
    "    try:\n",
    "        xid = SDSS.query_specobj(plate = p, mjd = m, fiberID = f)\n",
    "    except ValueError:\n",
    "        print('unknown error')\n",
    "        \n",
    "    if xid == None:\n",
    "        print('object not found in SDSS... skipping...')\n",
    "        continue\n",
    "    try:\n",
    "        sp = SDSS.get_spectra(matches=xid)\n",
    "    except:\n",
    "        print('http error')\n",
    "        continue\n",
    "    for i in range(len(sp[0:1])):\n",
    "        wl = np.array(10**sp[i][1].data['loglam'])\n",
    "        fl = np.array(sp[i][1].data['flux'])\n",
    "        ivar = np.array(sp[i][1].data['ivar'])\n",
    "        \n",
    "        corvmodel = corv.models.make_koester_model(names = ['a','b','g','d'])\n",
    "        param_res, rv_res, rv_init = corv.fit.fit_corv(wl, fl, ivar, corvmodel, teff = catalog['teff'][j])\n",
    "        print(catalog['vr'][j])\n",
    "        \n",
    "    falcon_xmatch['corv_rv'][j] = (rv_res.params['RV'].value)\n",
    "    falcon_xmatch['corv_erv'][j] = (rv_res.params['RV'].stderr)"
   ]
  },
  {
   "cell_type": "code",
   "execution_count": 42,
   "id": "af6382f6-947d-4e45-96c3-7d05bc7fad36",
   "metadata": {},
   "outputs": [
    {
     "data": {
      "text/plain": [
       "Text(0, 0.5, 'My RV $[km/s]$')"
      ]
     },
     "execution_count": 42,
     "metadata": {},
     "output_type": "execute_result"
    },
    {
     "data": {
      "image/png": "[encoded data removed]",
      "text/plain": [
       "<Figure size 720x720 with 1 Axes>"
      ]
     },
     "metadata": {
      "needs_background": "light"
     },
     "output_type": "display_data"
    }
   ],
   "source": [
    "import scipy.stats as stats\n",
    "\n",
    "def linear(x):\n",
    "    return x\n",
    "\n",
    "temp_catalog = catalog#[np.abs(stats.zscore(catalog['vr'])) < 1].copy()\n",
    "\n",
    "plt.figure(figsize=(10,10))\n",
    "plt.grid()\n",
    "\n",
    "plt.errorbar(falcon_xmatch['Adp-V'][np.abs(falcon_xmatch['corv_rv']) < 2500], falcon_xmatch['corv_rv'][np.abs(falcon_xmatch['corv_rv']) < 2500], \n",
    "             xerr = falcon_xmatch['e_Adp-V'][np.abs(falcon_xmatch['corv_rv']) < 2500], yerr = falcon_xmatch['corv_erv'][np.abs(falcon_xmatch['corv_rv']) < 2500], fmt='o', alpha = 0.6)\n",
    "plt.plot(falcon_xmatch['vr'][np.abs(falcon_xmatch['corv_rv']) < 2500], linear(falcon_xmatch['vr'][np.abs(falcon_xmatch['corv_rv']) < 2500]))\n",
    "\n",
    "\n",
    "ymin, ymax = plt.ylim()\n",
    "plt.xlabel(r'Falcon RV $[km/s]$', fontsize=18)\n",
    "plt.ylabel(r'My RV $[km/s]$', fontsize=18)\n",
    "#plt.colorbar()"
   ]
  },
  {
   "cell_type": "markdown",
   "id": "3013f211-8fb8-4a0a-a48f-a3bbab87e5e2",
   "metadata": {},
   "source": [
    "## Sirius Validation\n",
    "Sirius B\n",
    "* Right ascension: 06h 45m 09.0s\n",
    "* Declination: −16° 43′ 06″RightRight"
   ]
  },
  {
   "cell_type": "code",
   "execution_count": 120,
   "id": "5f4ea94d-0e23-4165-bb30-0554c2c76fb7",
   "metadata": {},
   "outputs": [
    {
     "name": "stdout",
     "output_type": "stream",
     "text": [
      "  star           ra                 dec                        skycoord               \n",
      "                                                               deg,deg                \n",
      "-------- ------------------ ------------------- --------------------------------------\n",
      "sirius_a 101.28715416666665 -16.716116666666665 101.28715416666665,-16.716116666666665\n",
      "sirius_b           101.2875  -16.71833333333333            101.2875,-16.71833333333333\n"
     ]
    }
   ],
   "source": [
    "from astropy.coordinates import SkyCoord\n",
    "from astropy import units as u\n",
    "from astropy.table import Table\n",
    "\n",
    "siriusa = SkyCoord('06 45 08.917 −16 42 58.02',  unit=(u.hourangle, u.deg), frame='icrs') \n",
    "siriusb = SkyCoord('06 45 09 -16 43 06',  unit=(u.hourangle, u.deg), frame='icrs')\n",
    "\n",
    "sirius = Table([['sirius_a', 'sirius_b'], [siriusa.ra.deg, siriusb.ra.deg], [siriusa.dec.deg, siriusb.dec.deg],[siriusa, siriusb]], names=('star', 'ra', 'dec', 'skycoord'))\n",
    "print(sirius)\n",
    "\n",
    "radius = u.Quantity(30.0, u.arcmin)"
   ]
  },
  {
   "cell_type": "code",
   "execution_count": 124,
   "id": "61841ae0-1afe-4e94-b116-b4836bb21b53",
   "metadata": {},
   "outputs": [
    {
     "name": "stdout",
     "output_type": "stream",
     "text": [
      "101d17m13.755s -16d42m58.02s\n",
      "101d17m15s -16d43m06s\n",
      "50\n"
     ]
    }
   ],
   "source": [
    "print(siriusa.ra, siriusa.dec)\n",
    "print(siriusb.ra, siriusb.dec)\n",
    "\n",
    "result = Gaia.query_object(siriusa, radius = radius)\n",
    "print(len(result))"
   ]
  },
  {
   "cell_type": "code",
   "execution_count": 125,
   "id": "72d116b0-43bf-4ea3-b127-90af799f155c",
   "metadata": {},
   "outputs": [],
   "source": [
    "result['skycoord'] = SkyCoord(result['ra'], result['dec'], unit=(u.deg, u.deg))\n",
    "#catalog = join(result, sirius, keys='ra', join_type='inner')"
   ]
  },
  {
   "cell_type": "code",
   "execution_count": 140,
   "id": "ff27b763-29aa-4d79-bb31-10e19e2591a4",
   "metadata": {},
   "outputs": [
    {
     "data": {
      "text/plain": [
       "<matplotlib.colorbar.Colorbar at 0x7f1b68b8a910>"
      ]
     },
     "execution_count": 140,
     "metadata": {},
     "output_type": "execute_result"
    },
    {
     "data": {
      "image/png": "[encoded data removed]",
      "text/plain": [
       "<Figure size 432x288 with 2 Axes>"
      ]
     },
     "metadata": {
      "needs_background": "light"
     },
     "output_type": "display_data"
    }
   ],
   "source": [
    "plt.scatter(result['ra'], result['dec'], s=15, c=result['parallax'])\n",
    "plt.vlines(sirius['ra'], ymin=-16.74, ymax=-16.69, alpha=0.8) \n",
    "plt.hlines(sirius['dec'], xmin=101.26, xmax=101.31, alpha=0.8) \n",
    "plt.colorbar()"
   ]
  },
  {
   "cell_type": "code",
   "execution_count": 46,
   "id": "8e050de8-4bc9-402a-a00c-8f3253214be0",
   "metadata": {},
   "outputs": [
    {
     "name": "stdout",
     "output_type": "stream",
     "text": [
      "INFO: Query finished. [astroquery.utils.tap.core]\n",
      "INFO: Query finished. [astroquery.utils.tap.core]\n"
     ]
    }
   ],
   "source": [
    "from astroquery.sdss import SDSS\n",
    "from astroquery.gaia import Gaia\n",
    "\n",
    "j1 = Gaia.cone_search_async(siriusa, radius)\n",
    "#j2 = Gaia.cone_search_async(siriusb, radius)"
   ]
  },
  {
   "cell_type": "code",
   "execution_count": 48,
   "id": "dff61346-b313-4d96-8c3f-67aefc976d31",
   "metadata": {},
   "outputs": [],
   "source": [
    "sirius_a_gaia = j1.get_results()[0]\n",
    "#sirius_b_gaia = j2.get_results()[0]"
   ]
  },
  {
   "cell_type": "code",
   "execution_count": 56,
   "id": "9e081d5a-c3e5-477d-9b82-de14bf733f21",
   "metadata": {},
   "outputs": [
    {
     "name": "stdout",
     "output_type": "stream",
     "text": [
      "8.474459\n"
     ]
    }
   ],
   "source": [
    "#print(sirius_a_gaia['solution_id'] == sirius_b_gaia['solution_id'])\n",
    "print(sirius_a_gaia['phot_g_mean_mag'])"
   ]
  },
  {
   "cell_type": "code",
   "execution_count": null,
   "id": "22c04dea-1f11-4a65-9c9a-5c45ec61c78e",
   "metadata": {},
   "outputs": [],
   "source": []
  },
  {
   "cell_type": "code",
   "execution_count": null,
   "id": "630e19d1-7372-4024-b793-be4c3956c950",
   "metadata": {},
   "outputs": [],
   "source": []
  }
 ],
 "metadata": {
  "kernelspec": {
   "display_name": "Python 3 (ipykernel)",
   "language": "python",
   "name": "python3"
  },
  "language_info": {
   "codemirror_mode": {
    "name": "ipython",
    "version": 3
   },
   "file_extension": ".py",
   "mimetype": "text/x-python",
   "name": "python",
   "nbconvert_exporter": "python",
   "pygments_lexer": "ipython3",
   "version": "3.8.10"
  }
 },
 "nbformat": 4,
 "nbformat_minor": 5
}
