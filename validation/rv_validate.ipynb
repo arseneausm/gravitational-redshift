{
 "cells": [
  {
   "cell_type": "code",
   "execution_count": 1,
   "id": "f649fb7d-573d-4aac-b351-381510a23ee3",
   "metadata": {},
   "outputs": [
    {
     "name": "stdout",
     "output_type": "stream",
     "text": [
      "E:\\corv\\models/\n",
      "using local paths\n",
      "star and exposure catalogs not found! check paths and run make_catalogs() if you want to use sdss functionality. otherwise ignore.\n"
     ]
    }
   ],
   "source": [
    "# Install a pip package in the current Jupyter kernel\n",
    "import sys\n",
    "import os\n",
    "sys.path.append('../')\n",
    "#sys.path.append('../wdtools')\n",
    "sys.path.append('../../WD_models')\n",
    "sys.path.append('../../corv/src')\n",
    "\n",
    "\n",
    "### General\n",
    "import numpy as np\n",
    "import matplotlib.pyplot as plt\n",
    "#import matplotlib.colors as colors\n",
    "\n",
    "import astropy\n",
    "from astropy.coordinates import SkyCoord\n",
    "from astropy.io import fits\n",
    "import astropy.units as u\n",
    "from astropy.table import Table, Column, MaskedColumn, join\n",
    "\n",
    "from tqdm import tqdm\n",
    "import pandas as pd\n",
    "from scipy.optimize import curve_fit\n",
    "import scipy.stats as stats\n",
    "\n",
    "### Tools\n",
    "import data_selector as ds\n",
    "from bisect import bisect_left\n",
    "import lmfit\n",
    "import glob\n",
    "\n",
    "from astroquery.sdss import SDSS\n",
    "from astroquery.gaia import Gaia\n",
    "\n",
    "import corv\n",
    "\n",
    "#corv.sdss.make_catalogs()"
   ]
  },
  {
   "cell_type": "code",
   "execution_count": 2,
   "id": "8c59c47b-8cbd-44b3-9146-a1bb432516d9",
   "metadata": {},
   "outputs": [],
   "source": [
    "c = 2.998e10\n",
    "k = 1.38e-16\n",
    "h = 6.626e-27\n",
    "halpha = 6564.61\n",
    "hbeta = 4862.68\n",
    "hgamma = 4341.68\n",
    "hdelta = 4102.89\n",
    "speed_light = 299792458 #m/s\n",
    "radius_sun = 6.957e8\n",
    "mass_sun = 1.9884e30\n",
    "newton_G = 6.674e-11\n",
    "pc_to_m = 3.086775e16"
   ]
  },
  {
   "cell_type": "code",
   "execution_count": 3,
   "id": "6eaefe34-ef5a-41a4-b2ea-3e82dc00f2f8",
   "metadata": {},
   "outputs": [
    {
     "name": "stdout",
     "output_type": "stream",
     "text": [
      "['dist', 'solution_id', 'designation', 'source_id', 'random_index', 'ref_epoch', 'ra', 'ra_error', 'dec', 'dec_error', 'parallax', 'parallax_error', 'parallax_over_error', 'pmra', 'pmra_error', 'pmdec', 'pmdec_error', 'ra_dec_corr', 'ra_parallax_corr', 'ra_pmra_corr', 'ra_pmdec_corr', 'dec_parallax_corr', 'dec_pmra_corr', 'dec_pmdec_corr', 'parallax_pmra_corr', 'parallax_pmdec_corr', 'pmra_pmdec_corr', 'astrometric_n_obs_al', 'astrometric_n_obs_ac', 'astrometric_n_good_obs_al', 'astrometric_n_bad_obs_al', 'astrometric_gof_al', 'astrometric_chi2_al', 'astrometric_excess_noise', 'astrometric_excess_noise_sig', 'astrometric_params_solved', 'astrometric_primary_flag', 'astrometric_weight_al', 'astrometric_pseudo_colour', 'astrometric_pseudo_colour_error', 'mean_varpi_factor_al', 'astrometric_matched_observations', 'visibility_periods_used', 'astrometric_sigma5d_max', 'frame_rotator_object_type', 'matched_observations', 'duplicated_source', 'phot_g_n_obs', 'phot_g_mean_flux', 'phot_g_mean_flux_error', 'phot_g_mean_flux_over_error', 'phot_g_mean_mag', 'phot_bp_n_obs', 'phot_bp_mean_flux', 'phot_bp_mean_flux_error', 'phot_bp_mean_flux_over_error', 'phot_bp_mean_mag', 'phot_rp_n_obs', 'phot_rp_mean_flux', 'phot_rp_mean_flux_error', 'phot_rp_mean_flux_over_error', 'phot_rp_mean_mag', 'phot_bp_rp_excess_factor', 'phot_proc_mode', 'bp_rp', 'bp_g', 'g_rp', 'radial_velocity', 'radial_velocity_error', 'rv_nb_transits', 'rv_template_teff', 'rv_template_logg', 'rv_template_fe_h', 'phot_variable_flag', 'l', 'b', 'ecl_lon', 'ecl_lat', 'priam_flags', 'col_p_m_f', 'ra_dec', 'sng', 'u', 'su', 'g', 'sg', 'r', 'sr', 'i', 'si', 'z', 'sz', 'ebv', 'ppm', 'tp', 'teff', 'dt', 'logg', 'dlogg', 'vr', 'dvr', 's_n', 'dt_sp_', 'd_pc_', 'z_pc_', 'mass', 'dmass', 't3d', 'logg3d', 'r_est', 'r_lo', 'r_hi', 'r_len', 'result_flag', 'modality_flag', 'A_u', 'A_g', 'A_r', 'A_i', 'A_z', 'radius', 'e_radius', 'sed_teff', 'e_sed_teff', 'sed_redchi', 'par_e_radius', 'total_e_radius', 'sed_logg', 'e_sed_logg', 'corv_rv', 'corv_erv']\n"
     ]
    }
   ],
   "source": [
    "catalog = Table.read('../data/verification/sed_radii.fits')\n",
    "catalog['corv_rv'] = -9999 * np.ones(len(catalog))\n",
    "catalog['corv_erv'] = -9999 * np.ones(len(catalog))\n",
    "\n",
    "print(catalog.keys())  "
   ]
  },
  {
   "cell_type": "code",
   "execution_count": 4,
   "id": "561ea20e-c204-487a-8e3a-e5c6e606e0a1",
   "metadata": {
    "tags": []
   },
   "outputs": [
    {
     "data": {
      "text/plain": [
       "\"for j in tqdm( range(len(catalog[:200]))):\\n    p,m,f = np.array(catalog['col_p_m_f'][j].split('-')).astype(float)\\n    \\n    try:\\n        xid = SDSS.query_specobj(plate = p, mjd = m, fiberID = f)\\n    except ValueError:\\n        print('unknown error')\\n        \\n    if xid == None:\\n        print('object not found in SDSS... skipping...')\\n        continue\\n    try:\\n        sp = SDSS.get_spectra(matches=xid)\\n    except:\\n        print('http error')\\n        continue\\n    for i in range(len(sp[0:1])):\\n        wl = np.array(10**sp[i][1].data['loglam'])\\n        fl = np.array(sp[i][1].data['flux'])\\n        ivar = np.array(sp[i][1].data['ivar'])\\n        \\n        corvmodel = corv.models.make_koester_model(names = ['a','b','g','d'])\\n        param_res, rv_res, rv_init = corv.fit.fit_corv(wl, fl, ivar, corvmodel, teff = catalog['teff'][j])\\n        print(catalog['vr'][j])\\n        \\n    catalog['corv_rv'][j] = (rv_res.params['RV'].value)\\n    catalog['corv_erv'][j] = (rv_res.params['RV'].stderr)\""
      ]
     },
     "execution_count": 4,
     "metadata": {},
     "output_type": "execute_result"
    }
   ],
   "source": [
    "\"\"\"for j in tqdm( range(len(catalog[:200]))):\n",
    "    p,m,f = np.array(catalog['col_p_m_f'][j].split('-')).astype(float)\n",
    "    \n",
    "    try:\n",
    "        xid = SDSS.query_specobj(plate = p, mjd = m, fiberID = f)\n",
    "    except ValueError:\n",
    "        print('unknown error')\n",
    "        \n",
    "    if xid == None:\n",
    "        print('object not found in SDSS... skipping...')\n",
    "        continue\n",
    "    try:\n",
    "        sp = SDSS.get_spectra(matches=xid)\n",
    "    except:\n",
    "        print('http error')\n",
    "        continue\n",
    "    for i in range(len(sp[0:1])):\n",
    "        wl = np.array(10**sp[i][1].data['loglam'])\n",
    "        fl = np.array(sp[i][1].data['flux'])\n",
    "        ivar = np.array(sp[i][1].data['ivar'])\n",
    "        \n",
    "        corvmodel = corv.models.make_koester_model(names = ['a','b','g','d'])\n",
    "        param_res, rv_res, rv_init = corv.fit.fit_corv(wl, fl, ivar, corvmodel, teff = catalog['teff'][j])\n",
    "        print(catalog['vr'][j])\n",
    "        \n",
    "    catalog['corv_rv'][j] = (rv_res.params['RV'].value)\n",
    "    catalog['corv_erv'][j] = (rv_res.params['RV'].stderr)\"\"\""
   ]
  },
  {
   "cell_type": "code",
   "execution_count": 5,
   "id": "64284eaf-fea4-49ee-8fec-4d8f622d69f1",
   "metadata": {},
   "outputs": [],
   "source": [
    "#print(catalog['vr'][0])"
   ]
  },
  {
   "cell_type": "code",
   "execution_count": 6,
   "id": "24954ef0-3f93-4a43-99cd-c303bc3156d9",
   "metadata": {},
   "outputs": [
    {
     "data": {
      "text/plain": [
       "\"import scipy.stats as stats\\n\\ndef linear(x):\\n    return x\\n\\ntemp_catalog = catalog#[np.abs(stats.zscore(catalog['vr'])) < 1].copy()\\n\\nplt.figure(figsize=(10,10))\\nplt.grid()\\n\\nplt.errorbar(catalog['vr'][np.abs(catalog['corv_rv']) < 2500], catalog['corv_rv'][np.abs(catalog['corv_rv']) < 2500], \\n             xerr = catalog['dvr'][np.abs(catalog['corv_rv']) < 2500], yerr = catalog['corv_erv'][np.abs(catalog['corv_rv']) < 2500], fmt='o', alpha = 0.6)\\nplt.plot(catalog['vr'][np.abs(catalog['corv_rv']) < 2500], linear(catalog['vr'][np.abs(catalog['corv_rv']) < 2500]))\\n\\n\\nymin, ymax = plt.ylim()\\nplt.xlabel(r'Vedant RV $[km/s]$', fontsize=18)\\nplt.ylabel(r'My RV $[km/s]$', fontsize=18)\\n#plt.colorbar()\""
      ]
     },
     "execution_count": 6,
     "metadata": {},
     "output_type": "execute_result"
    }
   ],
   "source": [
    "\"\"\"import scipy.stats as stats\n",
    "\n",
    "def linear(x):\n",
    "    return x\n",
    "\n",
    "temp_catalog = catalog#[np.abs(stats.zscore(catalog['vr'])) < 1].copy()\n",
    "\n",
    "plt.figure(figsize=(10,10))\n",
    "plt.grid()\n",
    "\n",
    "plt.errorbar(catalog['vr'][np.abs(catalog['corv_rv']) < 2500], catalog['corv_rv'][np.abs(catalog['corv_rv']) < 2500], \n",
    "             xerr = catalog['dvr'][np.abs(catalog['corv_rv']) < 2500], yerr = catalog['corv_erv'][np.abs(catalog['corv_rv']) < 2500], fmt='o', alpha = 0.6)\n",
    "plt.plot(catalog['vr'][np.abs(catalog['corv_rv']) < 2500], linear(catalog['vr'][np.abs(catalog['corv_rv']) < 2500]))\n",
    "\n",
    "\n",
    "ymin, ymax = plt.ylim()\n",
    "plt.xlabel(r'Vedant RV $[km/s]$', fontsize=18)\n",
    "plt.ylabel(r'My RV $[km/s]$', fontsize=18)\n",
    "#plt.colorbar()\"\"\""
   ]
  },
  {
   "cell_type": "code",
   "execution_count": 7,
   "id": "fa019e10-6c37-4a1f-8c96-0011a3eb3f69",
   "metadata": {},
   "outputs": [],
   "source": [
    "from astropy.io import ascii\n",
    "\n",
    "falcon = Table.read('../data/verification/falcon2010.fit')"
   ]
  },
  {
   "cell_type": "code",
   "execution_count": 8,
   "id": "a46ac597-2b6a-4272-a947-f8e8b101a30f",
   "metadata": {},
   "outputs": [
    {
     "name": "stdout",
     "output_type": "stream",
     "text": [
      "   _Glon       _Glat      _RAJ2000    _DEJ2000  ... Simbad    _RA       _DE   \n",
      "    deg         deg         deg         deg     ...           deg       deg   \n",
      "----------- ----------- ----------- ----------- ... ------ --------- ---------\n",
      " 68.6811530 -75.8545186   0.7967083 -18.3660000 ... Simbad   0.79671 -18.36600\n",
      " 68.6811530 -75.8545186   0.7967083 -18.3660000 ... Simbad   0.79671 -18.36600\n",
      "107.1548732 -44.5646136   1.1805833  16.8713056 ... Simbad   1.18058  16.87131\n",
      " 78.0385783 -74.9936026   1.8950000 -16.0921667 ... Simbad   1.89500 -16.09217\n",
      " 78.0385783 -74.9936026   1.8950000 -16.0921667 ... Simbad   1.89500 -16.09217\n",
      "103.0899741 -61.0846261   3.4132917   0.3230833 ... Simbad   3.41329   0.32308\n",
      "103.0899741 -61.0846261   3.4132917   0.3230833 ... Simbad   3.41329   0.32308\n",
      " 53.4914328 -81.3978308   4.0526250 -23.8351111 ... Simbad   4.05262 -23.83511\n",
      " 53.4914328 -81.3978308   4.0526250 -23.8351111 ... Simbad   4.05262 -23.83511\n",
      " 42.7935357 -82.5226498   4.6853750 -25.6117222 ... Simbad   4.68537 -25.61172\n",
      "        ...         ...         ...         ... ...    ...       ...       ...\n",
      "316.2053741 -26.0359893 280.6062500 -78.0851111 ... Simbad 280.60625 -78.08511\n",
      "316.2053741 -26.0359893 280.6062500 -78.0851111 ... Simbad 280.60625 -78.08511\n",
      " 20.7903887 -23.0029436 298.9457917 -20.5174722 ... Simbad 298.94579 -20.51747\n",
      " 20.7903887 -23.0029436 298.9457917 -20.5174722 ... Simbad 298.94579 -20.51747\n",
      " 61.4554602 -12.3473694 308.0121250  18.5208611 ... Simbad 308.01212  18.52086\n",
      " 61.4554602 -12.3473694 308.0121250  18.5208611 ... Simbad 308.01212  18.52086\n",
      " 53.4394500 -68.1010420 351.3266667 -17.8660556 ... Simbad 351.32667 -17.86606\n",
      " 53.4394500 -68.1010420 351.3266667 -17.8660556 ... Simbad 351.32667 -17.86606\n",
      " 84.4771406 -66.5180113 358.3651250  -8.0776389 ... Simbad 358.36512  -8.07764\n",
      " 84.4771406 -66.5180113 358.3651250  -8.0776389 ... Simbad 358.36512  -8.07764\n",
      "Length = 894 rows\n"
     ]
    }
   ],
   "source": [
    "print(falcon)"
   ]
  },
  {
   "cell_type": "code",
   "execution_count": 9,
   "id": "032f1711-99cd-4f5d-885c-c3ffbb81d5e9",
   "metadata": {},
   "outputs": [],
   "source": [
    "from astropy.coordinates import SkyCoord\n",
    "import astropy.units as u\n",
    "from astropy.table import Table, join_skycoord\n",
    "from astropy import table\n",
    "\n",
    "catalog['wd_pos'] = SkyCoord(catalog['ra'], catalog['dec'], unit='deg')\n",
    "falcon['wd_pos'] = SkyCoord(falcon['_RA'], falcon['_DE'], unit='deg')\n",
    "\n",
    "join_func = table.join_skycoord(5 * u.arcsecond)\n",
    "falcon_xmatch = table.join(catalog, falcon, join_funcs={'wd_pos': join_skycoord(5 * u.arcsec)})"
   ]
  },
  {
   "cell_type": "code",
   "execution_count": 10,
   "id": "bf3a468f-cd21-4d91-a8ab-7b0f65e8454e",
   "metadata": {},
   "outputs": [
    {
     "name": "stdout",
     "output_type": "stream",
     "text": [
      "['wd_pos_id', 'dist', 'solution_id', 'designation', 'source_id', 'random_index', 'ref_epoch', 'ra', 'ra_error', 'dec', 'dec_error', 'parallax', 'parallax_error', 'parallax_over_error', 'pmra', 'pmra_error', 'pmdec', 'pmdec_error', 'ra_dec_corr', 'ra_parallax_corr', 'ra_pmra_corr', 'ra_pmdec_corr', 'dec_parallax_corr', 'dec_pmra_corr', 'dec_pmdec_corr', 'parallax_pmra_corr', 'parallax_pmdec_corr', 'pmra_pmdec_corr', 'astrometric_n_obs_al', 'astrometric_n_obs_ac', 'astrometric_n_good_obs_al', 'astrometric_n_bad_obs_al', 'astrometric_gof_al', 'astrometric_chi2_al', 'astrometric_excess_noise', 'astrometric_excess_noise_sig', 'astrometric_params_solved', 'astrometric_primary_flag', 'astrometric_weight_al', 'astrometric_pseudo_colour', 'astrometric_pseudo_colour_error', 'mean_varpi_factor_al', 'astrometric_matched_observations', 'visibility_periods_used', 'astrometric_sigma5d_max', 'frame_rotator_object_type', 'matched_observations', 'duplicated_source', 'phot_g_n_obs', 'phot_g_mean_flux', 'phot_g_mean_flux_error', 'phot_g_mean_flux_over_error', 'phot_g_mean_mag', 'phot_bp_n_obs', 'phot_bp_mean_flux', 'phot_bp_mean_flux_error', 'phot_bp_mean_flux_over_error', 'phot_bp_mean_mag', 'phot_rp_n_obs', 'phot_rp_mean_flux', 'phot_rp_mean_flux_error', 'phot_rp_mean_flux_over_error', 'phot_rp_mean_mag', 'phot_bp_rp_excess_factor', 'phot_proc_mode', 'bp_rp', 'bp_g', 'g_rp', 'radial_velocity', 'radial_velocity_error', 'rv_nb_transits', 'rv_template_teff', 'rv_template_logg', 'rv_template_fe_h', 'phot_variable_flag', 'l', 'b', 'ecl_lon', 'ecl_lat', 'priam_flags', 'col_p_m_f', 'ra_dec', 'sng', 'u', 'su', 'g', 'sg', 'r', 'sr', 'i', 'si', 'z', 'sz', 'ebv', 'ppm', 'tp', 'teff', 'dt', 'logg', 'dlogg', 'vr', 'dvr', 's_n', 'dt_sp_', 'd_pc_', 'z_pc_', 'mass', 'dmass', 't3d', 'logg3d', 'r_est', 'r_lo', 'r_hi', 'r_len', 'result_flag', 'modality_flag', 'A_u', 'A_g', 'A_r', 'A_i', 'A_z', 'radius', 'e_radius', 'sed_teff', 'e_sed_teff', 'sed_redchi', 'par_e_radius', 'total_e_radius', 'sed_logg', 'e_sed_logg', 'corv_rv', 'corv_erv', 'wd_pos_1', '_Glon', '_Glat', '_RAJ2000', '_DEJ2000', 'Name', 'DA', 'Adp-V', 'e_Adp-V', 'Obs', 'LSR-V', 'Ha-V', 'e_Ha-V', 'Hb-V', 'e_Hb-V', 'Obs-V', 'e_Obs-V', 'Simbad', '_RA', '_DE', 'wd_pos_2']\n"
     ]
    }
   ],
   "source": [
    "print(falcon_xmatch.keys())"
   ]
  },
  {
   "cell_type": "code",
   "execution_count": 11,
   "id": "4df34037-8b66-4efa-b099-351623265a1a",
   "metadata": {
    "tags": []
   },
   "outputs": [
    {
     "name": "stderr",
     "output_type": "stream",
     "text": [
      "  0%|                                                                                           | 0/97 [00:00<?, ?it/s]C:\\Users\\arsen\\anaconda3\\lib\\site-packages\\astroquery\\sdss\\core.py:874: VisibleDeprecationWarning: Reading unicode strings without specifying the encoding argument is deprecated. Set the encoding, use None for the system default.\n",
      "  arr = np.atleast_1d(np.genfromtxt(io.BytesIO(response.content),\n",
      "C:\\Users\\arsen\\anaconda3\\lib\\site-packages\\astropy\\table\\table.py:3486: FutureWarning: elementwise == comparison failed and returning scalar instead; this will raise an error or perform elementwise comparison in the future.\n",
      "  result = self.as_array() == other\n",
      "\n",
      "  0%|                                                                                         | 0/1000 [00:00<?, ?it/s]\u001b[A\n",
      "  0%|                                                                                 | 1/1000 [00:00<16:05,  1.04it/s]\u001b[A\n",
      "  0%|▏                                                                                | 2/1000 [00:01<15:20,  1.08it/s]\u001b[A\n",
      "  0%|▏                                                                                | 3/1000 [00:02<15:30,  1.07it/s]\u001b[A\n",
      "  0%|▎                                                                                | 4/1000 [00:03<15:22,  1.08it/s]\u001b[A\n",
      "  0%|▍                                                                                | 5/1000 [00:04<15:19,  1.08it/s]\u001b[A\n",
      "  1%|▍                                                                                | 6/1000 [00:05<15:15,  1.09it/s]\u001b[A\n",
      "  1%|▌                                                                                | 7/1000 [00:06<15:16,  1.08it/s]\u001b[A\n",
      "  1%|▋                                                                                | 8/1000 [00:07<15:13,  1.09it/s]\u001b[A\n",
      "  1%|▋                                                                                | 9/1000 [00:08<15:07,  1.09it/s]\u001b[A\n",
      "  1%|▊                                                                               | 10/1000 [00:09<14:57,  1.10it/s]\u001b[A\n",
      "  1%|▉                                                                               | 11/1000 [00:10<14:52,  1.11it/s]\u001b[A\n",
      "  1%|▉                                                                               | 12/1000 [00:10<14:55,  1.10it/s]\u001b[A\n",
      "  1%|█                                                                               | 13/1000 [00:11<14:47,  1.11it/s]\u001b[A\n",
      "  1%|█                                                                               | 14/1000 [00:12<14:49,  1.11it/s]\u001b[A\n",
      "  2%|█▏                                                                              | 15/1000 [00:13<14:49,  1.11it/s]\u001b[A\n",
      "  2%|█▎                                                                              | 16/1000 [00:14<15:03,  1.09it/s]\u001b[A\n",
      "  2%|█▎                                                                              | 17/1000 [00:15<14:57,  1.09it/s]\u001b[A\n",
      "  2%|█▍                                                                              | 18/1000 [00:16<14:35,  1.12it/s]\u001b[A\n",
      "  2%|█▌                                                                              | 19/1000 [00:17<14:45,  1.11it/s]\u001b[A\n",
      "  2%|█▌                                                                              | 20/1000 [00:18<14:48,  1.10it/s]\u001b[A\n",
      "  2%|█▋                                                                              | 21/1000 [00:19<14:54,  1.09it/s]\u001b[A\n",
      "  2%|█▊                                                                              | 22/1000 [00:20<14:51,  1.10it/s]\u001b[A\n",
      "  2%|█▊                                                                              | 23/1000 [00:21<15:05,  1.08it/s]\u001b[A\n",
      "  2%|█▉                                                                              | 24/1000 [00:21<14:11,  1.15it/s]\u001b[A\n",
      "  2%|██                                                                              | 25/1000 [00:22<14:14,  1.14it/s]\u001b[A\n",
      "  3%|██                                                                              | 26/1000 [00:23<14:27,  1.12it/s]\u001b[A\n",
      "  3%|██▏                                                                             | 27/1000 [00:24<15:03,  1.08it/s]\u001b[A\n",
      "  3%|██▏                                                                             | 28/1000 [00:25<15:07,  1.07it/s]\u001b[A\n",
      "  3%|██▎                                                                             | 29/1000 [00:26<15:01,  1.08it/s]\u001b[A\n",
      "  3%|██▍                                                                             | 30/1000 [00:27<15:04,  1.07it/s]\u001b[A\n",
      "  3%|██▍                                                                             | 31/1000 [00:28<15:16,  1.06it/s]\u001b[A\n",
      "  3%|██▌                                                                             | 32/1000 [00:29<15:02,  1.07it/s]\u001b[A\n",
      "  3%|██▋                                                                             | 33/1000 [00:30<14:57,  1.08it/s]\u001b[A\n",
      "  3%|██▋                                                                             | 34/1000 [00:31<14:45,  1.09it/s]\u001b[A\n",
      "  4%|██▊                                                                             | 35/1000 [00:31<14:33,  1.11it/s]\u001b[A\n",
      "  4%|██▉                                                                             | 36/1000 [00:32<14:40,  1.09it/s]\u001b[A\n",
      "  4%|██▉                                                                             | 37/1000 [00:33<14:40,  1.09it/s]\u001b[A\n",
      "  4%|███                                                                             | 38/1000 [00:34<14:27,  1.11it/s]\u001b[A\n",
      "  4%|███                                                                             | 39/1000 [00:35<14:23,  1.11it/s]\u001b[A\n",
      "  4%|███▏                                                                            | 40/1000 [00:36<14:29,  1.10it/s]\u001b[A\n",
      "  4%|███▎                                                                            | 41/1000 [00:37<14:41,  1.09it/s]\u001b[ATraceback (most recent call last):\n",
      "  File \"C:\\Users\\arsen\\anaconda3\\lib\\site-packages\\emcee\\ensemble.py\", line 624, in __call__\n",
      "    return self.f(x, *self.args, **self.kwargs)\n",
      "  File \"C:\\Users\\arsen\\anaconda3\\lib\\site-packages\\lmfit\\minimizer.py\", line 1111, in _lnprob\n",
      "    out = userfcn(params, *userargs, **userkwargs)\n",
      "  File \"E:\\gravitational-redshift\\validation\\../../corv/src\\corv\\fit.py\", line 173, in <lambda>\n",
      "    residual = lambda params: normalized_residual(wl, fl, ivar,\n",
      "  File \"E:\\gravitational-redshift\\validation\\../../corv/src\\corv\\fit.py\", line 46, in normalized_residual\n",
      "    _,nmodel = models.get_normalized_model(wl, corvmodel, params)\n",
      "  File \"E:\\gravitational-redshift\\validation\\../../corv/src\\corv\\models.py\", line 226, in get_normalized_model\n",
      "    flux = corvmodel.eval(params, x = wl)\n",
      "  File \"C:\\Users\\arsen\\anaconda3\\lib\\site-packages\\lmfit\\model.py\", line 868, in eval\n",
      "    return self.func(**self.make_funcargs(params, kwargs))\n",
      "  File \"E:\\gravitational-redshift\\validation\\../../corv/src\\corv\\models.py\", line 148, in get_koester\n",
      "    flam[in_bounds] = 10**wd_interp((logg, np.log10(teff), np.log10(x_shifted[in_bounds])))\n",
      "  File \"C:\\Users\\arsen\\anaconda3\\lib\\site-packages\\scipy\\interpolate\\interpolate.py\", line 2522, in __call__\n",
      "    result = self._evaluate_linear(indices,\n",
      "  File \"C:\\Users\\arsen\\anaconda3\\lib\\site-packages\\scipy\\interpolate\\interpolate.py\", line 2546, in _evaluate_linear\n",
      "    values += np.asarray(self.values[edge_indices]) * weight[vslice]\n",
      "KeyboardInterrupt\n",
      "  4%|███▎                                                                            | 41/1000 [00:38<14:55,  1.07it/s]\n",
      "  0%|                                                                                           | 0/97 [00:40<?, ?it/s]"
     ]
    },
    {
     "name": "stdout",
     "output_type": "stream",
     "text": [
      "emcee: Exception while calling your likelihood function:\n",
      "  params: [83.51973492]\n",
      "  args: (<function fit_rv.<locals>.<lambda> at 0x000001B9D85455E0>, Parameters([('teff', <Parameter 'teff', value=32963.500409208566 (fixed), bounds=[3001:39999]>), ('logg', <Parameter 'logg', value=8.182728870238082 (fixed), bounds=[4.51:9.49]>), ('RV', <Parameter 'RV', value=83.51973492061717, bounds=[-2500:2500]>), ('res', <Parameter 'res', value=1 (fixed), bounds=[0:inf]>)]), ['RV'], array([[-2500,  2500]]))\n",
      "  kwargs: {'is_weighted': True, 'float_behavior': 'posterior', 'userargs': [], 'userkws': {}, 'nan_policy': 'raise'}\n",
      "  exception:\n"
     ]
    },
    {
     "name": "stderr",
     "output_type": "stream",
     "text": [
      "\n"
     ]
    },
    {
     "ename": "KeyboardInterrupt",
     "evalue": "",
     "output_type": "error",
     "traceback": [
      "\u001b[1;31m---------------------------------------------------------------------------\u001b[0m",
      "\u001b[1;31mKeyboardInterrupt\u001b[0m                         Traceback (most recent call last)",
      "\u001b[1;32m~\\AppData\\Local\\Temp/ipykernel_8488/2266649525.py\u001b[0m in \u001b[0;36m<module>\u001b[1;34m\u001b[0m\n\u001b[0;32m     21\u001b[0m \u001b[1;33m\u001b[0m\u001b[0m\n\u001b[0;32m     22\u001b[0m         \u001b[0mcorvmodel\u001b[0m \u001b[1;33m=\u001b[0m \u001b[0mcorv\u001b[0m\u001b[1;33m.\u001b[0m\u001b[0mmodels\u001b[0m\u001b[1;33m.\u001b[0m\u001b[0mmake_koester_model\u001b[0m\u001b[1;33m(\u001b[0m\u001b[0mnames\u001b[0m \u001b[1;33m=\u001b[0m \u001b[1;33m[\u001b[0m\u001b[1;34m'a'\u001b[0m\u001b[1;33m,\u001b[0m\u001b[1;34m'b'\u001b[0m\u001b[1;33m,\u001b[0m\u001b[1;34m'g'\u001b[0m\u001b[1;33m,\u001b[0m\u001b[1;34m'd'\u001b[0m\u001b[1;33m]\u001b[0m\u001b[1;33m)\u001b[0m\u001b[1;33m\u001b[0m\u001b[1;33m\u001b[0m\u001b[0m\n\u001b[1;32m---> 23\u001b[1;33m         \u001b[0mparam_res\u001b[0m\u001b[1;33m,\u001b[0m \u001b[0mrv_res\u001b[0m\u001b[1;33m,\u001b[0m \u001b[0mrv_init\u001b[0m \u001b[1;33m=\u001b[0m \u001b[0mcorv\u001b[0m\u001b[1;33m.\u001b[0m\u001b[0mfit\u001b[0m\u001b[1;33m.\u001b[0m\u001b[0mfit_corv\u001b[0m\u001b[1;33m(\u001b[0m\u001b[0mwl\u001b[0m\u001b[1;33m,\u001b[0m \u001b[0mfl\u001b[0m\u001b[1;33m,\u001b[0m \u001b[0mivar\u001b[0m\u001b[1;33m,\u001b[0m \u001b[0mcorvmodel\u001b[0m\u001b[1;33m)\u001b[0m\u001b[1;33m\u001b[0m\u001b[1;33m\u001b[0m\u001b[0m\n\u001b[0m\u001b[0;32m     24\u001b[0m         \u001b[0mprint\u001b[0m\u001b[1;33m(\u001b[0m\u001b[0mstr\u001b[0m\u001b[1;33m(\u001b[0m\u001b[0mrv_res\u001b[0m\u001b[1;33m.\u001b[0m\u001b[0mparams\u001b[0m\u001b[1;33m[\u001b[0m\u001b[1;34m'RV'\u001b[0m\u001b[1;33m]\u001b[0m\u001b[1;33m.\u001b[0m\u001b[0mvalue\u001b[0m\u001b[1;33m)\u001b[0m \u001b[1;33m+\u001b[0m \u001b[1;34m'+/-'\u001b[0m \u001b[1;33m+\u001b[0m \u001b[0mstr\u001b[0m\u001b[1;33m(\u001b[0m\u001b[0mrv_res\u001b[0m\u001b[1;33m.\u001b[0m\u001b[0mparams\u001b[0m\u001b[1;33m[\u001b[0m\u001b[1;34m'RV'\u001b[0m\u001b[1;33m]\u001b[0m\u001b[1;33m.\u001b[0m\u001b[0mstderr\u001b[0m\u001b[1;33m)\u001b[0m\u001b[1;33m)\u001b[0m\u001b[1;33m\u001b[0m\u001b[1;33m\u001b[0m\u001b[0m\n\u001b[0;32m     25\u001b[0m \u001b[1;33m\u001b[0m\u001b[0m\n",
      "\u001b[1;32mE:\\gravitational-redshift\\validation\\../../corv/src\\corv\\fit.py\u001b[0m in \u001b[0;36mfit_corv\u001b[1;34m(wl, fl, ivar, corvmodel, xcorr_kw, iter_teff, tpar)\u001b[0m\n\u001b[0;32m    236\u001b[0m     \u001b[0mbestparams\u001b[0m \u001b[1;33m=\u001b[0m \u001b[0mparam_res\u001b[0m\u001b[1;33m.\u001b[0m\u001b[0mparams\u001b[0m\u001b[1;33m.\u001b[0m\u001b[0mcopy\u001b[0m\u001b[1;33m(\u001b[0m\u001b[1;33m)\u001b[0m\u001b[1;33m\u001b[0m\u001b[1;33m\u001b[0m\u001b[0m\n\u001b[0;32m    237\u001b[0m \u001b[1;33m\u001b[0m\u001b[0m\n\u001b[1;32m--> 238\u001b[1;33m     \u001b[0mrv_res\u001b[0m\u001b[1;33m,\u001b[0m \u001b[0mrv_init\u001b[0m \u001b[1;33m=\u001b[0m \u001b[0mfit_rv\u001b[0m\u001b[1;33m(\u001b[0m\u001b[0mwl\u001b[0m\u001b[1;33m,\u001b[0m \u001b[0mfl\u001b[0m\u001b[1;33m,\u001b[0m \u001b[0mivar\u001b[0m\u001b[1;33m,\u001b[0m \u001b[0mcorvmodel\u001b[0m\u001b[1;33m,\u001b[0m \u001b[0mbestparams\u001b[0m\u001b[1;33m,\u001b[0m \u001b[1;33m**\u001b[0m\u001b[0mxcorr_kw\u001b[0m\u001b[1;33m)\u001b[0m\u001b[1;33m\u001b[0m\u001b[1;33m\u001b[0m\u001b[0m\n\u001b[0m\u001b[0;32m    239\u001b[0m \u001b[1;33m\u001b[0m\u001b[0m\n\u001b[0;32m    240\u001b[0m     \u001b[1;32mreturn\u001b[0m \u001b[0mparam_res\u001b[0m\u001b[1;33m,\u001b[0m \u001b[0mrv_res\u001b[0m\u001b[1;33m,\u001b[0m \u001b[0mrv_init\u001b[0m\u001b[1;33m\u001b[0m\u001b[1;33m\u001b[0m\u001b[0m\n",
      "\u001b[1;32mE:\\gravitational-redshift\\validation\\../../corv/src\\corv\\fit.py\u001b[0m in \u001b[0;36mfit_rv\u001b[1;34m(wl, fl, ivar, corvmodel, params, fix_nonrv, xcorr_kw)\u001b[0m\n\u001b[0;32m    174\u001b[0m                                                   corvmodel, params)\n\u001b[0;32m    175\u001b[0m \u001b[1;33m\u001b[0m\u001b[0m\n\u001b[1;32m--> 176\u001b[1;33m     \u001b[0mres\u001b[0m \u001b[1;33m=\u001b[0m \u001b[0mlmfit\u001b[0m\u001b[1;33m.\u001b[0m\u001b[0mminimize\u001b[0m\u001b[1;33m(\u001b[0m\u001b[0mresidual\u001b[0m\u001b[1;33m,\u001b[0m \u001b[0mparams\u001b[0m\u001b[1;33m,\u001b[0m \u001b[0mmethod\u001b[0m\u001b[1;33m=\u001b[0m\u001b[1;34m'emcee'\u001b[0m\u001b[1;33m)\u001b[0m\u001b[1;33m\u001b[0m\u001b[1;33m\u001b[0m\u001b[0m\n\u001b[0m\u001b[0;32m    177\u001b[0m \u001b[1;33m\u001b[0m\u001b[0m\n\u001b[0;32m    178\u001b[0m     \u001b[1;32mreturn\u001b[0m \u001b[0mres\u001b[0m\u001b[1;33m,\u001b[0m \u001b[0mrv_init\u001b[0m\u001b[1;33m\u001b[0m\u001b[1;33m\u001b[0m\u001b[0m\n",
      "\u001b[1;32m~\\anaconda3\\lib\\site-packages\\lmfit\\minimizer.py\u001b[0m in \u001b[0;36mminimize\u001b[1;34m(fcn, params, method, args, kws, iter_cb, scale_covar, nan_policy, reduce_fcn, calc_covar, max_nfev, **fit_kws)\u001b[0m\n\u001b[0;32m   2581\u001b[0m                        \u001b[0mnan_policy\u001b[0m\u001b[1;33m=\u001b[0m\u001b[0mnan_policy\u001b[0m\u001b[1;33m,\u001b[0m \u001b[0mreduce_fcn\u001b[0m\u001b[1;33m=\u001b[0m\u001b[0mreduce_fcn\u001b[0m\u001b[1;33m,\u001b[0m\u001b[1;33m\u001b[0m\u001b[1;33m\u001b[0m\u001b[0m\n\u001b[0;32m   2582\u001b[0m                        calc_covar=calc_covar, max_nfev=max_nfev, **fit_kws)\n\u001b[1;32m-> 2583\u001b[1;33m     \u001b[1;32mreturn\u001b[0m \u001b[0mfitter\u001b[0m\u001b[1;33m.\u001b[0m\u001b[0mminimize\u001b[0m\u001b[1;33m(\u001b[0m\u001b[0mmethod\u001b[0m\u001b[1;33m=\u001b[0m\u001b[0mmethod\u001b[0m\u001b[1;33m)\u001b[0m\u001b[1;33m\u001b[0m\u001b[1;33m\u001b[0m\u001b[0m\n\u001b[0m",
      "\u001b[1;32m~\\anaconda3\\lib\\site-packages\\lmfit\\minimizer.py\u001b[0m in \u001b[0;36mminimize\u001b[1;34m(self, method, params, **kws)\u001b[0m\n\u001b[0;32m   2350\u001b[0m                         val.lower().startswith(user_method)):\n\u001b[0;32m   2351\u001b[0m                     \u001b[0mkwargs\u001b[0m\u001b[1;33m[\u001b[0m\u001b[1;34m'method'\u001b[0m\u001b[1;33m]\u001b[0m \u001b[1;33m=\u001b[0m \u001b[0mval\u001b[0m\u001b[1;33m\u001b[0m\u001b[1;33m\u001b[0m\u001b[0m\n\u001b[1;32m-> 2352\u001b[1;33m         \u001b[1;32mreturn\u001b[0m \u001b[0mfunction\u001b[0m\u001b[1;33m(\u001b[0m\u001b[1;33m**\u001b[0m\u001b[0mkwargs\u001b[0m\u001b[1;33m)\u001b[0m\u001b[1;33m\u001b[0m\u001b[1;33m\u001b[0m\u001b[0m\n\u001b[0m\u001b[0;32m   2353\u001b[0m \u001b[1;33m\u001b[0m\u001b[0m\n\u001b[0;32m   2354\u001b[0m \u001b[1;33m\u001b[0m\u001b[0m\n",
      "\u001b[1;32m~\\anaconda3\\lib\\site-packages\\lmfit\\minimizer.py\u001b[0m in \u001b[0;36memcee\u001b[1;34m(self, params, steps, nwalkers, burn, thin, ntemps, pos, reuse_sampler, workers, float_behavior, is_weighted, seed, progress, run_mcmc_kwargs)\u001b[0m\n\u001b[0;32m   1449\u001b[0m         \u001b[1;31m# now do a production run, sampling all the time\u001b[0m\u001b[1;33m\u001b[0m\u001b[1;33m\u001b[0m\u001b[0m\n\u001b[0;32m   1450\u001b[0m         \u001b[1;32mtry\u001b[0m\u001b[1;33m:\u001b[0m\u001b[1;33m\u001b[0m\u001b[1;33m\u001b[0m\u001b[0m\n\u001b[1;32m-> 1451\u001b[1;33m             \u001b[0moutput\u001b[0m \u001b[1;33m=\u001b[0m \u001b[0mself\u001b[0m\u001b[1;33m.\u001b[0m\u001b[0msampler\u001b[0m\u001b[1;33m.\u001b[0m\u001b[0mrun_mcmc\u001b[0m\u001b[1;33m(\u001b[0m\u001b[0mp0\u001b[0m\u001b[1;33m,\u001b[0m \u001b[0msteps\u001b[0m\u001b[1;33m,\u001b[0m \u001b[0mprogress\u001b[0m\u001b[1;33m=\u001b[0m\u001b[0mprogress\u001b[0m\u001b[1;33m,\u001b[0m \u001b[1;33m**\u001b[0m\u001b[0mrun_mcmc_kwargs\u001b[0m\u001b[1;33m)\u001b[0m\u001b[1;33m\u001b[0m\u001b[1;33m\u001b[0m\u001b[0m\n\u001b[0m\u001b[0;32m   1452\u001b[0m             \u001b[0mself\u001b[0m\u001b[1;33m.\u001b[0m\u001b[0m_lastpos\u001b[0m \u001b[1;33m=\u001b[0m \u001b[0moutput\u001b[0m\u001b[1;33m.\u001b[0m\u001b[0mcoords\u001b[0m\u001b[1;33m\u001b[0m\u001b[1;33m\u001b[0m\u001b[0m\n\u001b[0;32m   1453\u001b[0m         \u001b[1;32mexcept\u001b[0m \u001b[0mAbortFitException\u001b[0m\u001b[1;33m:\u001b[0m\u001b[1;33m\u001b[0m\u001b[1;33m\u001b[0m\u001b[0m\n",
      "\u001b[1;32m~\\anaconda3\\lib\\site-packages\\emcee\\ensemble.py\u001b[0m in \u001b[0;36mrun_mcmc\u001b[1;34m(self, initial_state, nsteps, **kwargs)\u001b[0m\n\u001b[0;32m    441\u001b[0m \u001b[1;33m\u001b[0m\u001b[0m\n\u001b[0;32m    442\u001b[0m         \u001b[0mresults\u001b[0m \u001b[1;33m=\u001b[0m \u001b[1;32mNone\u001b[0m\u001b[1;33m\u001b[0m\u001b[1;33m\u001b[0m\u001b[0m\n\u001b[1;32m--> 443\u001b[1;33m         \u001b[1;32mfor\u001b[0m \u001b[0mresults\u001b[0m \u001b[1;32min\u001b[0m \u001b[0mself\u001b[0m\u001b[1;33m.\u001b[0m\u001b[0msample\u001b[0m\u001b[1;33m(\u001b[0m\u001b[0minitial_state\u001b[0m\u001b[1;33m,\u001b[0m \u001b[0miterations\u001b[0m\u001b[1;33m=\u001b[0m\u001b[0mnsteps\u001b[0m\u001b[1;33m,\u001b[0m \u001b[1;33m**\u001b[0m\u001b[0mkwargs\u001b[0m\u001b[1;33m)\u001b[0m\u001b[1;33m:\u001b[0m\u001b[1;33m\u001b[0m\u001b[1;33m\u001b[0m\u001b[0m\n\u001b[0m\u001b[0;32m    444\u001b[0m             \u001b[1;32mpass\u001b[0m\u001b[1;33m\u001b[0m\u001b[1;33m\u001b[0m\u001b[0m\n\u001b[0;32m    445\u001b[0m \u001b[1;33m\u001b[0m\u001b[0m\n",
      "\u001b[1;32m~\\anaconda3\\lib\\site-packages\\emcee\\ensemble.py\u001b[0m in \u001b[0;36msample\u001b[1;34m(self, initial_state, log_prob0, rstate0, blobs0, iterations, tune, skip_initial_state_check, thin_by, thin, store, progress, progress_kwargs)\u001b[0m\n\u001b[0;32m    400\u001b[0m \u001b[1;33m\u001b[0m\u001b[0m\n\u001b[0;32m    401\u001b[0m                     \u001b[1;31m# Propose\u001b[0m\u001b[1;33m\u001b[0m\u001b[1;33m\u001b[0m\u001b[0m\n\u001b[1;32m--> 402\u001b[1;33m                     \u001b[0mstate\u001b[0m\u001b[1;33m,\u001b[0m \u001b[0maccepted\u001b[0m \u001b[1;33m=\u001b[0m \u001b[0mmove\u001b[0m\u001b[1;33m.\u001b[0m\u001b[0mpropose\u001b[0m\u001b[1;33m(\u001b[0m\u001b[0mmodel\u001b[0m\u001b[1;33m,\u001b[0m \u001b[0mstate\u001b[0m\u001b[1;33m)\u001b[0m\u001b[1;33m\u001b[0m\u001b[1;33m\u001b[0m\u001b[0m\n\u001b[0m\u001b[0;32m    403\u001b[0m                     \u001b[0mstate\u001b[0m\u001b[1;33m.\u001b[0m\u001b[0mrandom_state\u001b[0m \u001b[1;33m=\u001b[0m \u001b[0mself\u001b[0m\u001b[1;33m.\u001b[0m\u001b[0mrandom_state\u001b[0m\u001b[1;33m\u001b[0m\u001b[1;33m\u001b[0m\u001b[0m\n\u001b[0;32m    404\u001b[0m \u001b[1;33m\u001b[0m\u001b[0m\n",
      "\u001b[1;32m~\\anaconda3\\lib\\site-packages\\emcee\\moves\\red_blue.py\u001b[0m in \u001b[0;36mpropose\u001b[1;34m(self, model, state)\u001b[0m\n\u001b[0;32m     91\u001b[0m \u001b[1;33m\u001b[0m\u001b[0m\n\u001b[0;32m     92\u001b[0m             \u001b[1;31m# Compute the lnprobs of the proposed position.\u001b[0m\u001b[1;33m\u001b[0m\u001b[1;33m\u001b[0m\u001b[0m\n\u001b[1;32m---> 93\u001b[1;33m             \u001b[0mnew_log_probs\u001b[0m\u001b[1;33m,\u001b[0m \u001b[0mnew_blobs\u001b[0m \u001b[1;33m=\u001b[0m \u001b[0mmodel\u001b[0m\u001b[1;33m.\u001b[0m\u001b[0mcompute_log_prob_fn\u001b[0m\u001b[1;33m(\u001b[0m\u001b[0mq\u001b[0m\u001b[1;33m)\u001b[0m\u001b[1;33m\u001b[0m\u001b[1;33m\u001b[0m\u001b[0m\n\u001b[0m\u001b[0;32m     94\u001b[0m \u001b[1;33m\u001b[0m\u001b[0m\n\u001b[0;32m     95\u001b[0m             \u001b[1;31m# Loop over the walkers and update them accordingly.\u001b[0m\u001b[1;33m\u001b[0m\u001b[1;33m\u001b[0m\u001b[0m\n",
      "\u001b[1;32m~\\anaconda3\\lib\\site-packages\\emcee\\ensemble.py\u001b[0m in \u001b[0;36mcompute_log_prob\u001b[1;34m(self, coords)\u001b[0m\n\u001b[0;32m    487\u001b[0m             \u001b[1;32melse\u001b[0m\u001b[1;33m:\u001b[0m\u001b[1;33m\u001b[0m\u001b[1;33m\u001b[0m\u001b[0m\n\u001b[0;32m    488\u001b[0m                 \u001b[0mmap_func\u001b[0m \u001b[1;33m=\u001b[0m \u001b[0mmap\u001b[0m\u001b[1;33m\u001b[0m\u001b[1;33m\u001b[0m\u001b[0m\n\u001b[1;32m--> 489\u001b[1;33m             \u001b[0mresults\u001b[0m \u001b[1;33m=\u001b[0m \u001b[0mlist\u001b[0m\u001b[1;33m(\u001b[0m\u001b[0mmap_func\u001b[0m\u001b[1;33m(\u001b[0m\u001b[0mself\u001b[0m\u001b[1;33m.\u001b[0m\u001b[0mlog_prob_fn\u001b[0m\u001b[1;33m,\u001b[0m \u001b[0mp\u001b[0m\u001b[1;33m)\u001b[0m\u001b[1;33m)\u001b[0m\u001b[1;33m\u001b[0m\u001b[1;33m\u001b[0m\u001b[0m\n\u001b[0m\u001b[0;32m    490\u001b[0m \u001b[1;33m\u001b[0m\u001b[0m\n\u001b[0;32m    491\u001b[0m         \u001b[1;32mtry\u001b[0m\u001b[1;33m:\u001b[0m\u001b[1;33m\u001b[0m\u001b[1;33m\u001b[0m\u001b[0m\n",
      "\u001b[1;32m~\\anaconda3\\lib\\site-packages\\emcee\\ensemble.py\u001b[0m in \u001b[0;36m__call__\u001b[1;34m(self, x)\u001b[0m\n\u001b[0;32m    622\u001b[0m     \u001b[1;32mdef\u001b[0m \u001b[0m__call__\u001b[0m\u001b[1;33m(\u001b[0m\u001b[0mself\u001b[0m\u001b[1;33m,\u001b[0m \u001b[0mx\u001b[0m\u001b[1;33m)\u001b[0m\u001b[1;33m:\u001b[0m\u001b[1;33m\u001b[0m\u001b[1;33m\u001b[0m\u001b[0m\n\u001b[0;32m    623\u001b[0m         \u001b[1;32mtry\u001b[0m\u001b[1;33m:\u001b[0m\u001b[1;33m\u001b[0m\u001b[1;33m\u001b[0m\u001b[0m\n\u001b[1;32m--> 624\u001b[1;33m             \u001b[1;32mreturn\u001b[0m \u001b[0mself\u001b[0m\u001b[1;33m.\u001b[0m\u001b[0mf\u001b[0m\u001b[1;33m(\u001b[0m\u001b[0mx\u001b[0m\u001b[1;33m,\u001b[0m \u001b[1;33m*\u001b[0m\u001b[0mself\u001b[0m\u001b[1;33m.\u001b[0m\u001b[0margs\u001b[0m\u001b[1;33m,\u001b[0m \u001b[1;33m**\u001b[0m\u001b[0mself\u001b[0m\u001b[1;33m.\u001b[0m\u001b[0mkwargs\u001b[0m\u001b[1;33m)\u001b[0m\u001b[1;33m\u001b[0m\u001b[1;33m\u001b[0m\u001b[0m\n\u001b[0m\u001b[0;32m    625\u001b[0m         \u001b[1;32mexcept\u001b[0m\u001b[1;33m:\u001b[0m  \u001b[1;31m# pragma: no cover\u001b[0m\u001b[1;33m\u001b[0m\u001b[1;33m\u001b[0m\u001b[0m\n\u001b[0;32m    626\u001b[0m             \u001b[1;32mimport\u001b[0m \u001b[0mtraceback\u001b[0m\u001b[1;33m\u001b[0m\u001b[1;33m\u001b[0m\u001b[0m\n",
      "\u001b[1;32m~\\anaconda3\\lib\\site-packages\\lmfit\\minimizer.py\u001b[0m in \u001b[0;36m_lnprob\u001b[1;34m(self, theta, userfcn, params, var_names, bounds, userargs, userkws, float_behavior, is_weighted, nan_policy)\u001b[0m\n\u001b[0;32m   1109\u001b[0m         \u001b[0mparams\u001b[0m\u001b[1;33m.\u001b[0m\u001b[0mupdate_constraints\u001b[0m\u001b[1;33m(\u001b[0m\u001b[1;33m)\u001b[0m\u001b[1;33m\u001b[0m\u001b[1;33m\u001b[0m\u001b[0m\n\u001b[0;32m   1110\u001b[0m         \u001b[1;31m# now calculate the log-likelihood\u001b[0m\u001b[1;33m\u001b[0m\u001b[1;33m\u001b[0m\u001b[0m\n\u001b[1;32m-> 1111\u001b[1;33m         \u001b[0mout\u001b[0m \u001b[1;33m=\u001b[0m \u001b[0muserfcn\u001b[0m\u001b[1;33m(\u001b[0m\u001b[0mparams\u001b[0m\u001b[1;33m,\u001b[0m \u001b[1;33m*\u001b[0m\u001b[0muserargs\u001b[0m\u001b[1;33m,\u001b[0m \u001b[1;33m**\u001b[0m\u001b[0muserkwargs\u001b[0m\u001b[1;33m)\u001b[0m\u001b[1;33m\u001b[0m\u001b[1;33m\u001b[0m\u001b[0m\n\u001b[0m\u001b[0;32m   1112\u001b[0m         \u001b[0mself\u001b[0m\u001b[1;33m.\u001b[0m\u001b[0mresult\u001b[0m\u001b[1;33m.\u001b[0m\u001b[0mnfev\u001b[0m \u001b[1;33m+=\u001b[0m \u001b[1;36m1\u001b[0m\u001b[1;33m\u001b[0m\u001b[1;33m\u001b[0m\u001b[0m\n\u001b[0;32m   1113\u001b[0m         \u001b[1;32mif\u001b[0m \u001b[0mcallable\u001b[0m\u001b[1;33m(\u001b[0m\u001b[0mself\u001b[0m\u001b[1;33m.\u001b[0m\u001b[0miter_cb\u001b[0m\u001b[1;33m)\u001b[0m\u001b[1;33m:\u001b[0m\u001b[1;33m\u001b[0m\u001b[1;33m\u001b[0m\u001b[0m\n",
      "\u001b[1;32mE:\\gravitational-redshift\\validation\\../../corv/src\\corv\\fit.py\u001b[0m in \u001b[0;36m<lambda>\u001b[1;34m(params)\u001b[0m\n\u001b[0;32m    171\u001b[0m     \u001b[0mparams\u001b[0m\u001b[1;33m[\u001b[0m\u001b[1;34m'RV'\u001b[0m\u001b[1;33m]\u001b[0m\u001b[1;33m.\u001b[0m\u001b[0mset\u001b[0m\u001b[1;33m(\u001b[0m\u001b[0mvalue\u001b[0m \u001b[1;33m=\u001b[0m \u001b[0mrv_init\u001b[0m\u001b[1;33m,\u001b[0m \u001b[0mvary\u001b[0m \u001b[1;33m=\u001b[0m \u001b[1;32mTrue\u001b[0m\u001b[1;33m)\u001b[0m\u001b[1;33m\u001b[0m\u001b[1;33m\u001b[0m\u001b[0m\n\u001b[0;32m    172\u001b[0m \u001b[1;33m\u001b[0m\u001b[0m\n\u001b[1;32m--> 173\u001b[1;33m     residual = lambda params: normalized_residual(wl, fl, ivar, \n\u001b[0m\u001b[0;32m    174\u001b[0m                                                   corvmodel, params)\n\u001b[0;32m    175\u001b[0m \u001b[1;33m\u001b[0m\u001b[0m\n",
      "\u001b[1;32mE:\\gravitational-redshift\\validation\\../../corv/src\\corv\\fit.py\u001b[0m in \u001b[0;36mnormalized_residual\u001b[1;34m(wl, fl, ivar, corvmodel, params)\u001b[0m\n\u001b[0;32m     44\u001b[0m                                             corvmodel.edges)\n\u001b[0;32m     45\u001b[0m \u001b[1;33m\u001b[0m\u001b[0m\n\u001b[1;32m---> 46\u001b[1;33m     \u001b[0m_\u001b[0m\u001b[1;33m,\u001b[0m\u001b[0mnmodel\u001b[0m \u001b[1;33m=\u001b[0m \u001b[0mmodels\u001b[0m\u001b[1;33m.\u001b[0m\u001b[0mget_normalized_model\u001b[0m\u001b[1;33m(\u001b[0m\u001b[0mwl\u001b[0m\u001b[1;33m,\u001b[0m \u001b[0mcorvmodel\u001b[0m\u001b[1;33m,\u001b[0m \u001b[0mparams\u001b[0m\u001b[1;33m)\u001b[0m\u001b[1;33m\u001b[0m\u001b[1;33m\u001b[0m\u001b[0m\n\u001b[0m\u001b[0;32m     47\u001b[0m     \u001b[0mresid\u001b[0m \u001b[1;33m=\u001b[0m \u001b[1;33m(\u001b[0m\u001b[0mnfl\u001b[0m \u001b[1;33m-\u001b[0m \u001b[0mnmodel\u001b[0m\u001b[1;33m)\u001b[0m \u001b[1;33m*\u001b[0m \u001b[0mnp\u001b[0m\u001b[1;33m.\u001b[0m\u001b[0msqrt\u001b[0m\u001b[1;33m(\u001b[0m\u001b[0mnivar\u001b[0m\u001b[1;33m)\u001b[0m\u001b[1;33m\u001b[0m\u001b[1;33m\u001b[0m\u001b[0m\n\u001b[0;32m     48\u001b[0m \u001b[1;33m\u001b[0m\u001b[0m\n",
      "\u001b[1;32mE:\\gravitational-redshift\\validation\\../../corv/src\\corv\\models.py\u001b[0m in \u001b[0;36mget_normalized_model\u001b[1;34m(wl, corvmodel, params)\u001b[0m\n\u001b[0;32m    224\u001b[0m \u001b[1;33m\u001b[0m\u001b[0m\n\u001b[0;32m    225\u001b[0m     \"\"\"\n\u001b[1;32m--> 226\u001b[1;33m     \u001b[0mflux\u001b[0m \u001b[1;33m=\u001b[0m \u001b[0mcorvmodel\u001b[0m\u001b[1;33m.\u001b[0m\u001b[0meval\u001b[0m\u001b[1;33m(\u001b[0m\u001b[0mparams\u001b[0m\u001b[1;33m,\u001b[0m \u001b[0mx\u001b[0m \u001b[1;33m=\u001b[0m \u001b[0mwl\u001b[0m\u001b[1;33m)\u001b[0m\u001b[1;33m\u001b[0m\u001b[1;33m\u001b[0m\u001b[0m\n\u001b[0m\u001b[0;32m    227\u001b[0m \u001b[1;33m\u001b[0m\u001b[0m\n\u001b[0;32m    228\u001b[0m     nwl, nfl, _ = utils.cont_norm_lines(wl, flux, flux,\n",
      "\u001b[1;32m~\\anaconda3\\lib\\site-packages\\lmfit\\model.py\u001b[0m in \u001b[0;36meval\u001b[1;34m(self, params, **kwargs)\u001b[0m\n\u001b[0;32m    866\u001b[0m \u001b[1;33m\u001b[0m\u001b[0m\n\u001b[0;32m    867\u001b[0m         \"\"\"\n\u001b[1;32m--> 868\u001b[1;33m         \u001b[1;32mreturn\u001b[0m \u001b[0mself\u001b[0m\u001b[1;33m.\u001b[0m\u001b[0mfunc\u001b[0m\u001b[1;33m(\u001b[0m\u001b[1;33m**\u001b[0m\u001b[0mself\u001b[0m\u001b[1;33m.\u001b[0m\u001b[0mmake_funcargs\u001b[0m\u001b[1;33m(\u001b[0m\u001b[0mparams\u001b[0m\u001b[1;33m,\u001b[0m \u001b[0mkwargs\u001b[0m\u001b[1;33m)\u001b[0m\u001b[1;33m)\u001b[0m\u001b[1;33m\u001b[0m\u001b[1;33m\u001b[0m\u001b[0m\n\u001b[0m\u001b[0;32m    869\u001b[0m \u001b[1;33m\u001b[0m\u001b[0m\n\u001b[0;32m    870\u001b[0m     \u001b[1;33m@\u001b[0m\u001b[0mproperty\u001b[0m\u001b[1;33m\u001b[0m\u001b[1;33m\u001b[0m\u001b[0m\n",
      "\u001b[1;32mE:\\gravitational-redshift\\validation\\../../corv/src\\corv\\models.py\u001b[0m in \u001b[0;36mget_koester\u001b[1;34m(x, teff, logg, RV, res)\u001b[0m\n\u001b[0;32m    146\u001b[0m \u001b[1;33m\u001b[0m\u001b[0m\n\u001b[0;32m    147\u001b[0m     \u001b[0min_bounds\u001b[0m \u001b[1;33m=\u001b[0m \u001b[1;33m(\u001b[0m\u001b[0mx_shifted\u001b[0m \u001b[1;33m>\u001b[0m \u001b[1;36m3600\u001b[0m\u001b[1;33m)\u001b[0m \u001b[1;33m&\u001b[0m \u001b[1;33m(\u001b[0m\u001b[0mx_shifted\u001b[0m \u001b[1;33m<\u001b[0m \u001b[1;36m9000\u001b[0m\u001b[1;33m)\u001b[0m\u001b[1;33m\u001b[0m\u001b[1;33m\u001b[0m\u001b[0m\n\u001b[1;32m--> 148\u001b[1;33m     \u001b[0mflam\u001b[0m\u001b[1;33m[\u001b[0m\u001b[0min_bounds\u001b[0m\u001b[1;33m]\u001b[0m \u001b[1;33m=\u001b[0m \u001b[1;36m10\u001b[0m\u001b[1;33m**\u001b[0m\u001b[0mwd_interp\u001b[0m\u001b[1;33m(\u001b[0m\u001b[1;33m(\u001b[0m\u001b[0mlogg\u001b[0m\u001b[1;33m,\u001b[0m \u001b[0mnp\u001b[0m\u001b[1;33m.\u001b[0m\u001b[0mlog10\u001b[0m\u001b[1;33m(\u001b[0m\u001b[0mteff\u001b[0m\u001b[1;33m)\u001b[0m\u001b[1;33m,\u001b[0m \u001b[0mnp\u001b[0m\u001b[1;33m.\u001b[0m\u001b[0mlog10\u001b[0m\u001b[1;33m(\u001b[0m\u001b[0mx_shifted\u001b[0m\u001b[1;33m[\u001b[0m\u001b[0min_bounds\u001b[0m\u001b[1;33m]\u001b[0m\u001b[1;33m)\u001b[0m\u001b[1;33m)\u001b[0m\u001b[1;33m)\u001b[0m\u001b[1;33m\u001b[0m\u001b[1;33m\u001b[0m\u001b[0m\n\u001b[0m\u001b[0;32m    149\u001b[0m \u001b[1;33m\u001b[0m\u001b[0m\n\u001b[0;32m    150\u001b[0m     \u001b[0mflam\u001b[0m \u001b[1;33m=\u001b[0m \u001b[0mflam\u001b[0m \u001b[1;33m/\u001b[0m \u001b[0mnp\u001b[0m\u001b[1;33m.\u001b[0m\u001b[0mnanmedian\u001b[0m\u001b[1;33m(\u001b[0m\u001b[0mflam\u001b[0m\u001b[1;33m)\u001b[0m \u001b[1;31m# bring to order unity\u001b[0m\u001b[1;33m\u001b[0m\u001b[1;33m\u001b[0m\u001b[0m\n",
      "\u001b[1;32m~\\anaconda3\\lib\\site-packages\\scipy\\interpolate\\interpolate.py\u001b[0m in \u001b[0;36m__call__\u001b[1;34m(self, xi, method)\u001b[0m\n\u001b[0;32m   2520\u001b[0m         \u001b[0mindices\u001b[0m\u001b[1;33m,\u001b[0m \u001b[0mnorm_distances\u001b[0m\u001b[1;33m,\u001b[0m \u001b[0mout_of_bounds\u001b[0m \u001b[1;33m=\u001b[0m \u001b[0mself\u001b[0m\u001b[1;33m.\u001b[0m\u001b[0m_find_indices\u001b[0m\u001b[1;33m(\u001b[0m\u001b[0mxi\u001b[0m\u001b[1;33m.\u001b[0m\u001b[0mT\u001b[0m\u001b[1;33m)\u001b[0m\u001b[1;33m\u001b[0m\u001b[1;33m\u001b[0m\u001b[0m\n\u001b[0;32m   2521\u001b[0m         \u001b[1;32mif\u001b[0m \u001b[0mmethod\u001b[0m \u001b[1;33m==\u001b[0m \u001b[1;34m\"linear\"\u001b[0m\u001b[1;33m:\u001b[0m\u001b[1;33m\u001b[0m\u001b[1;33m\u001b[0m\u001b[0m\n\u001b[1;32m-> 2522\u001b[1;33m             result = self._evaluate_linear(indices,\n\u001b[0m\u001b[0;32m   2523\u001b[0m                                            \u001b[0mnorm_distances\u001b[0m\u001b[1;33m,\u001b[0m\u001b[1;33m\u001b[0m\u001b[1;33m\u001b[0m\u001b[0m\n\u001b[0;32m   2524\u001b[0m                                            out_of_bounds)\n",
      "\u001b[1;32m~\\anaconda3\\lib\\site-packages\\scipy\\interpolate\\interpolate.py\u001b[0m in \u001b[0;36m_evaluate_linear\u001b[1;34m(self, indices, norm_distances, out_of_bounds)\u001b[0m\n\u001b[0;32m   2544\u001b[0m             \u001b[1;32mfor\u001b[0m \u001b[0mei\u001b[0m\u001b[1;33m,\u001b[0m \u001b[0mi\u001b[0m\u001b[1;33m,\u001b[0m \u001b[0myi\u001b[0m \u001b[1;32min\u001b[0m \u001b[0mzip\u001b[0m\u001b[1;33m(\u001b[0m\u001b[0medge_indices\u001b[0m\u001b[1;33m,\u001b[0m \u001b[0mindices\u001b[0m\u001b[1;33m,\u001b[0m \u001b[0mnorm_distances\u001b[0m\u001b[1;33m)\u001b[0m\u001b[1;33m:\u001b[0m\u001b[1;33m\u001b[0m\u001b[1;33m\u001b[0m\u001b[0m\n\u001b[0;32m   2545\u001b[0m                 \u001b[0mweight\u001b[0m \u001b[1;33m*=\u001b[0m \u001b[0mnp\u001b[0m\u001b[1;33m.\u001b[0m\u001b[0mwhere\u001b[0m\u001b[1;33m(\u001b[0m\u001b[0mei\u001b[0m \u001b[1;33m==\u001b[0m \u001b[0mi\u001b[0m\u001b[1;33m,\u001b[0m \u001b[1;36m1\u001b[0m \u001b[1;33m-\u001b[0m \u001b[0myi\u001b[0m\u001b[1;33m,\u001b[0m \u001b[0myi\u001b[0m\u001b[1;33m)\u001b[0m\u001b[1;33m\u001b[0m\u001b[1;33m\u001b[0m\u001b[0m\n\u001b[1;32m-> 2546\u001b[1;33m             \u001b[0mvalues\u001b[0m \u001b[1;33m+=\u001b[0m \u001b[0mnp\u001b[0m\u001b[1;33m.\u001b[0m\u001b[0masarray\u001b[0m\u001b[1;33m(\u001b[0m\u001b[0mself\u001b[0m\u001b[1;33m.\u001b[0m\u001b[0mvalues\u001b[0m\u001b[1;33m[\u001b[0m\u001b[0medge_indices\u001b[0m\u001b[1;33m]\u001b[0m\u001b[1;33m)\u001b[0m \u001b[1;33m*\u001b[0m \u001b[0mweight\u001b[0m\u001b[1;33m[\u001b[0m\u001b[0mvslice\u001b[0m\u001b[1;33m]\u001b[0m\u001b[1;33m\u001b[0m\u001b[1;33m\u001b[0m\u001b[0m\n\u001b[0m\u001b[0;32m   2547\u001b[0m         \u001b[1;32mreturn\u001b[0m \u001b[0mvalues\u001b[0m\u001b[1;33m\u001b[0m\u001b[1;33m\u001b[0m\u001b[0m\n\u001b[0;32m   2548\u001b[0m \u001b[1;33m\u001b[0m\u001b[0m\n",
      "\u001b[1;31mKeyboardInterrupt\u001b[0m: "
     ]
    }
   ],
   "source": [
    "for j in tqdm( range(len(falcon_xmatch))):\n",
    "    p,m,f = np.array(falcon_xmatch['col_p_m_f'][j].split('-')).astype(float)\n",
    "    \n",
    "    try:\n",
    "        xid = SDSS.query_specobj(plate = p, mjd = m, fiberID = f)\n",
    "    except ValueError:\n",
    "        print('unknown error')\n",
    "        \n",
    "    if xid == None:\n",
    "        print('object not found in SDSS... skipping...')\n",
    "        continue\n",
    "    try:\n",
    "        sp = SDSS.get_spectra(matches=xid)\n",
    "    except:\n",
    "        print('http error')\n",
    "        continue\n",
    "    for i in range(len(sp[0:1])):\n",
    "        wl = np.array(10**sp[i][1].data['loglam'])\n",
    "        fl = np.array(sp[i][1].data['flux'])\n",
    "        ivar = np.array(sp[i][1].data['ivar'])\n",
    "        \n",
    "        corvmodel = corv.models.make_koester_model(names = ['a','b','g','d'])\n",
    "        param_res, rv_res, rv_init = corv.fit.fit_corv(wl, fl, ivar, corvmodel)\n",
    "        print(str(rv_res.params['RV'].value) + '+/-' + str(rv_res.params['RV'].stderr))\n",
    "        \n",
    "    falcon_xmatch['corv_rv'][j] = (rv_res.params['RV'].value)\n",
    "    falcon_xmatch['corv_erv'][j] = (rv_res.params['RV'].stderr)"
   ]
  },
  {
   "cell_type": "code",
   "execution_count": null,
   "id": "a13c6168-62fb-41e9-a871-bd31f90d9af1",
   "metadata": {},
   "outputs": [],
   "source": [
    "print(falcon_xmatch['corv_erv'])"
   ]
  },
  {
   "cell_type": "code",
   "execution_count": null,
   "id": "af6382f6-947d-4e45-96c3-7d05bc7fad36",
   "metadata": {},
   "outputs": [],
   "source": [
    "import scipy.stats as stats\n",
    "\n",
    "def linear(x):\n",
    "    return x\n",
    "\n",
    "temp_catalog = catalog#[np.abs(stats.zscore(catalog['vr'])) < 1].copy()\n",
    "\n",
    "plt.figure(figsize=(10,10))\n",
    "plt.style.use('../stefan.mplstyle')\n",
    "\n",
    "plt.errorbar(falcon_xmatch['Adp-V'][np.abs(falcon_xmatch['corv_rv']) < 2500], falcon_xmatch['corv_rv'][np.abs(falcon_xmatch['corv_rv']) < 2500], \n",
    "             xerr = falcon_xmatch['e_Adp-V'][np.abs(falcon_xmatch['corv_rv']) < 2500], yerr = falcon_xmatch['corv_erv'][np.abs(falcon_xmatch['corv_rv']) < 2500], fmt='o', alpha = 0.6)\n",
    "plt.plot(falcon_xmatch['vr'][np.abs(falcon_xmatch['corv_rv']) < 2500], linear(falcon_xmatch['vr'][np.abs(falcon_xmatch['corv_rv']) < 2500]))\n",
    "\n",
    "\n",
    "ymin, ymax = plt.ylim()\n",
    "plt.xlabel(r'Falcon RV $[km/s]$', fontsize=18)\n",
    "plt.ylabel(r'My RV $[km/s]$', fontsize=18)\n",
    "#plt.colorbar()"
   ]
  },
  {
   "cell_type": "markdown",
   "id": "3013f211-8fb8-4a0a-a48f-a3bbab87e5e2",
   "metadata": {},
   "source": [
    "## Sirius Validation\n",
    "Sirius B\n",
    "* Right ascension: 06h 45m 09.0s\n",
    "* Declination: −16° 43′ 06″RightRight"
   ]
  },
  {
   "cell_type": "code",
   "execution_count": null,
   "id": "5f4ea94d-0e23-4165-bb30-0554c2c76fb7",
   "metadata": {},
   "outputs": [],
   "source": [
    "from astropy.coordinates import SkyCoord\n",
    "from astropy import units as u\n",
    "from astropy.table import Table\n",
    "\n",
    "siriusa = SkyCoord('06 45 08.917 −16 42 58.02',  unit=(u.hourangle, u.deg), frame='icrs') \n",
    "siriusb = SkyCoord('06 45 09 -16 43 06',  unit=(u.hourangle, u.deg), frame='icrs')\n",
    "\n",
    "sirius = Table([['sirius_a', 'sirius_b'], [siriusa.ra.deg, siriusb.ra.deg], [siriusa.dec.deg, siriusb.dec.deg],[siriusa, siriusb]], names=('star', 'ra', 'dec', 'skycoord'))\n",
    "print(sirius)\n",
    "\n",
    "radius = u.Quantity(30.0, u.arcmin)"
   ]
  },
  {
   "cell_type": "code",
   "execution_count": null,
   "id": "61841ae0-1afe-4e94-b116-b4836bb21b53",
   "metadata": {},
   "outputs": [],
   "source": [
    "print(siriusa.ra, siriusa.dec)\n",
    "print(siriusb.ra, siriusb.dec)\n",
    "\n",
    "result = Gaia.query_object(siriusa, radius = radius)\n",
    "print(len(result))"
   ]
  },
  {
   "cell_type": "code",
   "execution_count": null,
   "id": "72d116b0-43bf-4ea3-b127-90af799f155c",
   "metadata": {},
   "outputs": [],
   "source": [
    "result['skycoord'] = SkyCoord(result['ra'], result['dec'], unit=(u.deg, u.deg))\n",
    "#catalog = join(result, sirius, keys='ra', join_type='inner')"
   ]
  },
  {
   "cell_type": "code",
   "execution_count": null,
   "id": "ff27b763-29aa-4d79-bb31-10e19e2591a4",
   "metadata": {},
   "outputs": [],
   "source": [
    "plt.scatter(result['ra'], result['dec'], s=15, c=result['parallax'])\n",
    "plt.vlines(sirius['ra'], ymin=-16.74, ymax=-16.69, alpha=0.8) \n",
    "plt.hlines(sirius['dec'], xmin=101.26, xmax=101.31, alpha=0.8) \n",
    "plt.colorbar()"
   ]
  },
  {
   "cell_type": "code",
   "execution_count": null,
   "id": "8e050de8-4bc9-402a-a00c-8f3253214be0",
   "metadata": {},
   "outputs": [],
   "source": [
    "from astroquery.sdss import SDSS\n",
    "from astroquery.gaia import Gaia\n",
    "\n",
    "j1 = Gaia.cone_search_async(siriusa, radius)\n",
    "#j2 = Gaia.cone_search_async(siriusb, radius)"
   ]
  },
  {
   "cell_type": "code",
   "execution_count": null,
   "id": "dff61346-b313-4d96-8c3f-67aefc976d31",
   "metadata": {},
   "outputs": [],
   "source": [
    "sirius_a_gaia = j1.get_results()[0]\n",
    "#sirius_b_gaia = j2.get_results()[0]"
   ]
  },
  {
   "cell_type": "code",
   "execution_count": null,
   "id": "9e081d5a-c3e5-477d-9b82-de14bf733f21",
   "metadata": {},
   "outputs": [],
   "source": [
    "#print(sirius_a_gaia['solution_id'] == sirius_b_gaia['solution_id'])\n",
    "print(sirius_a_gaia['phot_g_mean_mag'])"
   ]
  },
  {
   "cell_type": "code",
   "execution_count": null,
   "id": "22c04dea-1f11-4a65-9c9a-5c45ec61c78e",
   "metadata": {},
   "outputs": [],
   "source": []
  },
  {
   "cell_type": "code",
   "execution_count": null,
   "id": "630e19d1-7372-4024-b793-be4c3956c950",
   "metadata": {},
   "outputs": [],
   "source": []
  }
 ],
 "metadata": {
  "kernelspec": {
   "display_name": "Python 3 (ipykernel)",
   "language": "python",
   "name": "python3"
  },
  "language_info": {
   "codemirror_mode": {
    "name": "ipython",
    "version": 3
   },
   "file_extension": ".py",
   "mimetype": "text/x-python",
   "name": "python",
   "nbconvert_exporter": "python",
   "pygments_lexer": "ipython3",
   "version": "3.9.7"
  }
 },
 "nbformat": 4,
 "nbformat_minor": 5
}
