{
 "cells": [
  {
   "cell_type": "code",
   "execution_count": 1,
   "id": "965080e5",
   "metadata": {
    "tags": []
   },
   "outputs": [],
   "source": [
    "import sys\n",
    "import os\n",
    "sys.path.append('../')\n",
    "sys.path.append('../WD_models')\n",
    "\n",
    "### General\n",
    "import numpy as np\n",
    "import matplotlib.pyplot as plt\n",
    "import matplotlib.colors as colors\n",
    "\n",
    "from astropy.io import fits\n",
    "from astropy.table import Table, Column, MaskedColumn, join, unique\n",
    "from astropy.table import *\n",
    "\n",
    "from tqdm import tqdm\n",
    "import pandas as pd\n",
    "#import WD_models"
   ]
  },
  {
   "cell_type": "code",
   "execution_count": null,
   "id": "7aa72ce5",
   "metadata": {},
   "outputs": [],
   "source": [
    "#from astropy.table import Table\n",
    "from astropy.coordinates import SkyCoord\n",
    "from astropy import table\n",
    "import astropy.units as u\n",
    "\n",
    "wd_c1 = Table.read('sdss5/spAll-v6_1_0.fits')\n"
   ]
  },
  {
   "cell_type": "code",
   "execution_count": null,
   "id": "0f69aba7",
   "metadata": {
    "tags": []
   },
   "outputs": [],
   "source": [
    "wd_c1[-2]"
   ]
  },
  {
   "cell_type": "code",
   "execution_count": null,
   "id": "aca278e4",
   "metadata": {},
   "outputs": [],
   "source": [
    "wd_c1['SPEC_FILE']"
   ]
  },
  {
   "cell_type": "code",
   "execution_count": null,
   "id": "0170ed22",
   "metadata": {
    "tags": []
   },
   "outputs": [],
   "source": [
    "def strip(catalog):  \n",
    "    drop_cols = []\n",
    "    keep_cols = ['CATALOGID', 'FIBER_RA', 'FIBER_DEC', 'MJD', 'FIELD', 'FIELDSN2', 'SPEC_FILE']\n",
    "        \n",
    "    for key in catalog.keys():\n",
    "        if key not in keep_cols:\n",
    "            drop_cols.append(key)\n",
    "                 \n",
    "    catalog.remove_columns(drop_cols)\n",
    "    \n",
    "    return catalog\n",
    "\n",
    "wd_c1 = strip(wd_c1)\n",
    "ms_c1 = wd_c1.copy()"
   ]
  },
  {
   "cell_type": "code",
   "execution_count": null,
   "id": "3938d8a3",
   "metadata": {
    "tags": []
   },
   "outputs": [],
   "source": [
    "print(wd_c1.keys())"
   ]
  },
  {
   "cell_type": "code",
   "execution_count": null,
   "id": "0971c312",
   "metadata": {
    "tags": []
   },
   "outputs": [],
   "source": [
    "print(ms_c1.keys())"
   ]
  },
  {
   "cell_type": "code",
   "execution_count": null,
   "id": "57ac909d",
   "metadata": {
    "tags": []
   },
   "outputs": [],
   "source": [
    "catalog = Table.read('data/elbadry.fits.gz')\n",
    "\n",
    "catalog = catalog[catalog['binary_type'] == b'WDMS']"
   ]
  },
  {
   "cell_type": "code",
   "execution_count": null,
   "id": "96408183",
   "metadata": {},
   "outputs": [],
   "source": [
    "def wd_sep(bp_rp):\n",
    "    return 3.25*bp_rp + 9.625\n",
    "\n",
    "wd_obj = []\n",
    "ms_obj = []\n",
    "drop = []\n",
    "\n",
    "for i in tqdm (range(len(catalog))):\n",
    "    mg1 = wd_sep(catalog['bp_rp1'][i])\n",
    "    mg2 = wd_sep(catalog['bp_rp2'][i])\n",
    "    \n",
    "    M1 = catalog['phot_g_mean_mag1'][i] + 5 * (np.log10(catalog['parallax1'][i] / 100))\n",
    "    M2 = catalog['phot_g_mean_mag2'][i] + 5 * (np.log10(catalog['parallax2'][i] / 100))\n",
    "    \n",
    "    if M1 > mg1 and M2 < mg2:\n",
    "        wd_obj.append(1)\n",
    "        ms_obj.append(2)\n",
    "    elif M2 > mg2 and M1 < mg1:\n",
    "        wd_obj.append(2)\n",
    "        ms_obj.append(1)\n",
    "    else:\n",
    "        drop.append(i)\n",
    "               \n",
    "catalog.remove_rows(drop)\n",
    "catalog['wd_obj'] = wd_obj\n",
    "catalog['ms_obj'] = ms_obj"
   ]
  },
  {
   "cell_type": "code",
   "execution_count": null,
   "id": "64cf39a3",
   "metadata": {},
   "outputs": [],
   "source": [
    "def separate(catalog, column, ms_obj, wd_obj, newname = ''):      \n",
    "    mstemp_arr = [ catalog[str(column) + str(ms_obj[i])][i] for i in range(len(ms_obj)) ]\n",
    "    wdtemp_arr = [ catalog[str(column) + str(wd_obj[i])][i] for i in range(len(wd_obj)) ]\n",
    "    \n",
    "    catalog['ms_' + str(column)] = mstemp_arr\n",
    "    catalog['wd_' + str(column)] = wdtemp_arr\n",
    "    return catalog\n",
    "\n",
    "### ---\n",
    "\n",
    "convert_cols = ['source_id', 'parallax', 'parallax_over_error', 'phot_g_mean_mag', 'phot_g_mean_flux',\n",
    "                'phot_g_mean_flux_error', 'phot_bp_mean_mag', 'phot_bp_mean_flux', 'phot_bp_mean_flux_error',\n",
    "                'phot_rp_mean_mag', 'phot_rp_mean_flux', 'phot_rp_mean_flux_error', 'bp_rp', 'ra', 'ra_error', 'dec', 'dec_error', 'l', 'b']\n",
    "\n",
    "for col in convert_cols:\n",
    "    catalog = separate(catalog, col, ms_obj, wd_obj)\n",
    "    \n",
    "catalog['wd_m_g'] = catalog['wd_phot_g_mean_mag'] + 5 * np.log10(catalog['wd_parallax'] / 100)\n",
    "catalog['ms_m_g'] = catalog['ms_phot_g_mean_mag'] + 5 * np.log10(catalog['ms_parallax'] / 100)"
   ]
  },
  {
   "cell_type": "code",
   "execution_count": null,
   "id": "4cbb4293",
   "metadata": {
    "tags": []
   },
   "outputs": [],
   "source": [
    "from astropy.table import unique, Table\n",
    "\n",
    "wd_c1['wd_pos'] = SkyCoord(wd_c1['FIBER_RA'], wd_c1['FIBER_DEC'], unit='deg')\n",
    "ms_c1['ms_pos'] = SkyCoord(ms_c1['FIBER_RA'], ms_c1['FIBER_DEC'], unit='deg')\n",
    "\n",
    "catalog['wd_pos'] = SkyCoord(catalog['wd_ra'], catalog['wd_dec'], unit='deg')\n",
    "catalog['ms_pos'] = SkyCoord(catalog['ms_ra'], catalog['ms_dec'], unit='deg')"
   ]
  },
  {
   "cell_type": "code",
   "execution_count": null,
   "id": "4a95b013",
   "metadata": {
    "tags": []
   },
   "outputs": [],
   "source": [
    "wd_c1[['wd_pos']]"
   ]
  },
  {
   "cell_type": "code",
   "execution_count": null,
   "id": "49da31e0",
   "metadata": {},
   "outputs": [],
   "source": [
    "from inspect import getmembers, isfunction\n",
    "from astropy import table\n",
    "\n",
    "print(getmembers(table, isfunction))"
   ]
  },
  {
   "cell_type": "code",
   "execution_count": null,
   "id": "c432b356",
   "metadata": {},
   "outputs": [],
   "source": [
    "import astropy\n",
    "\n",
    "print(astropy.__version__)"
   ]
  },
  {
   "cell_type": "code",
   "execution_count": null,
   "id": "4ea41cfd",
   "metadata": {
    "tags": []
   },
   "outputs": [],
   "source": [
    "from astropy.table import join_skycoord\n",
    "\n",
    "# Join WDs in SDSS-5\n",
    "wd_catalog = unique(join(catalog, wd_c1, join_funcs={'wd_pos': join_skycoord(1 * u.arcsecond)}), keys = 'wd_pos_id')\n",
    "for key in wd_c1.keys():\n",
    "    if key != 'wd_pos':\n",
    "        wd_catalog.rename_column(key, 'wd_' + key)\n",
    "\n",
    "# Join MS in SDSS-5\n",
    "ms_catalog = unique(join(catalog, ms_c1, join_funcs={'ms_pos': join_skycoord(1 * u.arcsecond)}), keys = 'ms_pos_id')\n",
    "for key in ms_c1.keys():\n",
    "    if key != 'ms_pos':\n",
    "        ms_catalog.rename_column(key, 'ms_' + key)\n",
    "\n",
    "for key in catalog.keys():\n",
    "    if key != 'ms_source_id':\n",
    "        try:\n",
    "            ms_catalog.remove_column(key)\n",
    "        except:\n",
    "            ms_catalog.remove_column(key + '_1')\n",
    "            ms_catalog.rename_column(key + '_2', key)\n",
    "ms_sdss5_wd_sdss5 = join(wd_catalog, ms_catalog, keys = 'ms_source_id')"
   ]
  },
  {
   "cell_type": "code",
   "execution_count": null,
   "id": "c05f7637",
   "metadata": {
    "tags": []
   },
   "outputs": [],
   "source": [
    "ms_sdss5_wd_sdss5"
   ]
  },
  {
   "cell_type": "code",
   "execution_count": null,
   "id": "b1423df5",
   "metadata": {
    "tags": []
   },
   "outputs": [],
   "source": [
    "from astropy.table import Table, vstack, hstack\n",
    "\n",
    "from astroquery.sdss import SDSS\n",
    "from astroquery.gaia import Gaia\n",
    "from astropy import constants as c\n",
    "\n",
    "# Fetch targets with MS RVs in Gaia\n",
    "\n",
    "ADQL_CODE1 = \"\"\"SELECT sdss.original_ext_source_id as ms_bestobjid, gaia.source_id as ms_source_id, gaia.radial_velocity, gaia.radial_velocity_error\n",
    "    FROM gaiadr3.gaia_source as gaia\n",
    "    JOIN gaiaedr3.sdssdr13_best_neighbour as sdss\n",
    "    ON gaia.source_id = sdss.source_id      \n",
    "    WHERE gaia.source_id in {} AND\n",
    "    radial_velocity IS NOT null AND\n",
    "    radial_velocity_error < 2\"\"\".format(tuple(wd_catalog['ms_source_id']))\n",
    "d1 = (Gaia.launch_job(ADQL_CODE1,dump_to_file=False).get_results())\n",
    "ms_gaia_wd_sdss5 = join(wd_catalog, d1, keys = 'ms_source_id')\n",
    "    \n",
    "# Fetch targets with MS spectra in SDSS-4\n",
    "\n",
    "ADQL_CODE1 = \"\"\"SELECT sdss.original_ext_source_id as ms_bestobjid, gaia.source_id as ms_source_id, gaia.radial_velocity, gaia.radial_velocity_error\n",
    "    FROM gaiadr3.gaia_source as gaia\n",
    "    JOIN gaiaedr3.sdssdr13_best_neighbour as sdss\n",
    "    ON gaia.source_id = sdss.source_id      \n",
    "    WHERE gaia.source_id in {}\"\"\".format(tuple(wd_catalog['ms_source_id']))\n",
    "gd2 = Gaia.launch_job(ADQL_CODE1,dump_to_file=False).get_results() \n",
    "\n",
    "stardats = []\n",
    "iters = len(gd2) // 100\n",
    "\n",
    "for i in tqdm(range(iters)):\n",
    "    SDSS_QUERY = \"\"\"select sp.bestObjID, sp.plate, sp.mjd, sp.fiberID\n",
    "        from dbo.SpecObjAll as sp\n",
    "        where sp.bestObjID in {}\"\"\".format(tuple(gd2['ms_bestobjid'][100*i:100*i+100]))\n",
    "    \n",
    "    f = SDSS.query_sql(SDSS_QUERY)\n",
    "    if f is not None:\n",
    "        stardats.append(SDSS.query_sql(SDSS_QUERY))\n",
    "\n",
    "d2 = vstack(stardats)\n",
    "d2.rename_column('bestObjID', 'bestobjid')\n",
    "d2.rename_column('fiberID', 'fiberid')\n",
    "\n",
    "print(d2.keys())\n",
    "\n",
    "for key in d2.keys():\n",
    "    d2.rename_column(key, 'ms_' + key)\n",
    "\n",
    "d2 = join(d2, gd2, keys = 'ms_bestobjid')\n",
    "ms_sdss4_wd_sdss5 = join(wd_catalog, d2, keys = 'ms_source_id')\n",
    "#except:\n",
    "#    print('No objects with MS spectra in SDSS-4 and WD spectra in SDSS-5')\n",
    "#    ms_sdss4_wd_sdss5 = [0]\n",
    "#ms_in_sdss4 = unique(d2, keys = 'wd_bestobjid')"
   ]
  },
  {
   "cell_type": "code",
   "execution_count": null,
   "id": "23eead3e",
   "metadata": {
    "tags": []
   },
   "outputs": [],
   "source": [
    "ms_sdss5_wd_sdss4 = Table.read('sdss5/temp_ms_sdss5_wd_sdss4.fits')\n",
    "ms_sdss5_wd_sdss4['ms_pos'] = SkyCoord(ms_sdss5_wd_sdss4['ms_ra'], ms_sdss5_wd_sdss4['ms_dec'], unit='deg')\n",
    "\n",
    "ms_sdss5_wd_sdss4 = unique(join(ms_sdss5_wd_sdss4, ms_c1, join_funcs={'ms_pos': join_skycoord(1 * u.arcsecond)}), keys = 'ms_pos_id')\n",
    "for key in ms_c1.keys():\n",
    "    if key != 'ms_pos':\n",
    "        ms_sdss5_wd_sdss4.rename_column(key, 'ms_' + key)"
   ]
  },
  {
   "cell_type": "code",
   "execution_count": null,
   "id": "d694b5ad",
   "metadata": {
    "tags": []
   },
   "outputs": [],
   "source": [
    "ms_gaia_wd_sdss5"
   ]
  },
  {
   "cell_type": "code",
   "execution_count": null,
   "id": "c81b8214",
   "metadata": {
    "tags": []
   },
   "outputs": [],
   "source": [
    "# MS Gaia, WD SDSS-V\n",
    "\n",
    "ms_gaia_wd_sdss5['wd_filepath'] =  ms_gaia_wd_sdss5['wd_SPEC_FILE']\n",
    "ms_gaia_wd_sdss5['wd_plate'] = ms_gaia_wd_sdss5['wd_FIELD']\n",
    "ms_gaia_wd_sdss5['wd_mjd'] = ms_gaia_wd_sdss5['wd_MJD']\n",
    "ms_gaia_wd_sdss5['wd_fiberid'] = ms_gaia_wd_sdss5['wd_CATALOGID']\n",
    "\n",
    "ms_gaia_wd_sdss5['uses_sdss5'] = np.ones(len(ms_gaia_wd_sdss5))\n",
    "ms_gaia_wd_sdss5['wd_rv_from'] = ['sdss5' for i in range(len(ms_gaia_wd_sdss5))]\n",
    "ms_gaia_wd_sdss5['ms_rv_from'] = ['gaia' for i in range(len(ms_gaia_wd_sdss5))]\n",
    "\n",
    "ms_gaia_wd_sdss5['wd_rv'] = 999*np.ones(len(ms_gaia_wd_sdss5))\n",
    "ms_gaia_wd_sdss5['wd_e_rv'] = 999*np.ones(len(ms_gaia_wd_sdss5))\n",
    "\n",
    "ms_gaia_wd_sdss5 = unique(ms_gaia_wd_sdss5, keys = 'wd_source_id')\n",
    "\n",
    "# MS SDSS-IV, WD SDSS-V\n",
    "\n",
    "ms_sdss4_wd_sdss5['wd_filepath'] =  ms_sdss4_wd_sdss5['wd_SPEC_FILE']\n",
    "ms_sdss4_wd_sdss5['wd_plate'] = ms_sdss4_wd_sdss5['wd_FIELD']\n",
    "ms_sdss4_wd_sdss5['wd_mjd'] = ms_sdss4_wd_sdss5['wd_MJD']\n",
    "ms_sdss4_wd_sdss5['wd_fiberid'] = ms_sdss4_wd_sdss5['wd_CATALOGID']\n",
    "\n",
    "ms_sdss4_wd_sdss5['uses_sdss5'] = np.ones(len(ms_sdss4_wd_sdss5))\n",
    "ms_sdss4_wd_sdss5['wd_rv_from'] = ['sdss5' for i in range(len(ms_sdss4_wd_sdss5))]\n",
    "ms_sdss4_wd_sdss5['ms_rv_from'] = ['sdss4' for i in range(len(ms_sdss4_wd_sdss5))]\n",
    "\n",
    "ms_sdss4_wd_sdss5['wd_rv'] = 999*np.ones(len(ms_sdss4_wd_sdss5))\n",
    "ms_sdss4_wd_sdss5['wd_e_rv'] = 999*np.ones(len(ms_sdss4_wd_sdss5))\n",
    "\n",
    "ms_sdss4_wd_sdss5 = unique(ms_sdss4_wd_sdss5, keys = 'wd_source_id')\n",
    "\n",
    "# MS SDSS-V, WD SDSS-V\n",
    "\n",
    "ms_sdss5_wd_sdss5['ms_filepath'] =  ms_sdss5_wd_sdss5['ms_SPEC_FILE']\n",
    "ms_sdss5_wd_sdss5['ms_plate'] = ms_sdss5_wd_sdss5['ms_FIELD']\n",
    "ms_sdss5_wd_sdss5['ms_mjd'] = ms_sdss5_wd_sdss5['ms_MJD']\n",
    "ms_sdss5_wd_sdss5['ms_fiberid'] = ms_sdss5_wd_sdss5['wd_CATALOGID']\n",
    "\n",
    "ms_sdss5_wd_sdss5['wd_filepath'] =  ms_sdss5_wd_sdss5['wd_SPEC_FILE']\n",
    "ms_sdss5_wd_sdss5['wd_plate'] = ms_sdss5_wd_sdss5['wd_FIELD']\n",
    "ms_sdss5_wd_sdss5['wd_mjd'] = ms_sdss5_wd_sdss5['wd_MJD']\n",
    "ms_sdss5_wd_sdss5['wd_fiberid'] = ms_sdss5_wd_sdss5['wd_CATALOGID']\n",
    "\n",
    "ms_sdss5_wd_sdss5['wd_rv'] = 999*np.ones(len(ms_sdss5_wd_sdss5))\n",
    "ms_sdss5_wd_sdss5['wd_e_rv'] = 999*np.ones(len(ms_sdss5_wd_sdss5))\n",
    "\n",
    "ms_sdss5_wd_sdss5['uses_sdss5'] = np.ones(len(ms_sdss5_wd_sdss5))\n",
    "ms_sdss5_wd_sdss5['wd_rv_from'] = ['sdss5' for i in range(len(ms_sdss5_wd_sdss5))]\n",
    "ms_sdss5_wd_sdss5['ms_rv_from'] = ['sdss5' for i in range(len(ms_sdss5_wd_sdss5))]\n",
    "\n",
    "ms_sdss5_wd_sdss5 = unique(ms_sdss5_wd_sdss5, keys = 'wd_source_id')\n",
    "\n",
    "# MS SDSS-V, WD SDSS-IV\n",
    "\n",
    "ms_sdss5_wd_sdss4['ms_filepath'] =  ms_sdss5_wd_sdss4['ms_SPEC_FILE']\n",
    "ms_sdss5_wd_sdss4['ms_plate'] = ms_sdss5_wd_sdss4['ms_FIELD']\n",
    "ms_sdss5_wd_sdss4['ms_mjd'] = ms_sdss5_wd_sdss4['ms_MJD']\n",
    "ms_sdss5_wd_sdss4['ms_fiberid'] = ms_sdss5_wd_sdss4['ms_CATALOGID']\n",
    "\n",
    "ms_sdss5_wd_sdss4['wd_rv'] = 999*np.ones(len(ms_sdss5_wd_sdss4))\n",
    "ms_sdss5_wd_sdss4['wd_e_rv'] = 999*np.ones(len(ms_sdss5_wd_sdss4))\n",
    "\n",
    "ms_sdss5_wd_sdss4['uses_sdss5'] = np.ones(len(ms_sdss5_wd_sdss4))\n",
    "ms_sdss5_wd_sdss4['wd_rv_from'] = ['sdss4' for i in range(len(ms_sdss5_wd_sdss4))]\n",
    "ms_sdss5_wd_sdss4['ms_rv_from'] = ['sdss5' for i in range(len(ms_sdss5_wd_sdss4))]\n",
    "\n",
    "ms_sdss5_wd_sdss4 = unique(ms_sdss5_wd_sdss4, keys = 'wd_source_id')\n",
    "\n",
    "# Write Catalogs\n",
    "\n",
    "ms_gaia_wd_sdss5.write('sdss5/ms_gaia_wd_sdss5.fits', overwrite = True)\n",
    "ms_sdss4_wd_sdss5.write('sdss5/ms_sdss4_wd_sdss5.fits', overwrite = True)\n",
    "ms_sdss5_wd_sdss5.write('sdss5/ms_sdss5_wd_sdss5.fits', overwrite = True)\n",
    "ms_sdss5_wd_sdss4.write('sdss5/ms_sdss5_wd_sdss4.fits', overwrite = True)"
   ]
  },
  {
   "cell_type": "code",
   "execution_count": null,
   "id": "3dc9ceb8",
   "metadata": {
    "tags": []
   },
   "outputs": [],
   "source": [
    "print(len(ms_gaia_wd_sdss5))\n",
    "print(len(unique(ms_gaia_wd_sdss5, keys = 'wd_source_id')))\n",
    "\n",
    "print(len(ms_sdss4_wd_sdss5))\n",
    "print(len(unique(ms_sdss4_wd_sdss5, keys = 'wd_source_id')))\n",
    "\n",
    "print(len(ms_sdss5_wd_sdss5))\n",
    "print(len(unique(ms_sdss5_wd_sdss5, keys = 'wd_source_id')))\n",
    "\n",
    "print(len(ms_sdss5_wd_sdss4))\n",
    "print(len(unique(ms_sdss5_wd_sdss4, keys = 'wd_source_id')))"
   ]
  },
  {
   "cell_type": "code",
   "execution_count": null,
   "id": "880ff57b",
   "metadata": {
    "tags": []
   },
   "outputs": [],
   "source": [
    "ms_sdss4_wd_sdss5[ms_sdss4_wd_sdss5['ms_source_id'] == 875615158730751488]"
   ]
  },
  {
   "cell_type": "code",
   "execution_count": null,
   "id": "b6db3d97",
   "metadata": {},
   "outputs": [],
   "source": [
    "print(ms_sdss5_wd_sdss4[ms_sdss5_wd_sdss4['ms_source_id'] == 875615158730751488])"
   ]
  },
  {
   "cell_type": "code",
   "execution_count": null,
   "id": "8cd0b02a",
   "metadata": {},
   "outputs": [],
   "source": []
  }
 ],
 "metadata": {
  "kernelspec": {
   "display_name": "Python 3 (ipykernel)",
   "language": "python",
   "name": "python3"
  },
  "language_info": {
   "codemirror_mode": {
    "name": "ipython",
    "version": 3
   },
   "file_extension": ".py",
   "mimetype": "text/x-python",
   "name": "python",
   "nbconvert_exporter": "python",
   "pygments_lexer": "ipython3",
   "version": "3.9.13"
  }
 },
 "nbformat": 4,
 "nbformat_minor": 5
}
