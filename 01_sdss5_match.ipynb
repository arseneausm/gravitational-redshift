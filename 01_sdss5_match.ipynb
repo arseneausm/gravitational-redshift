{
 "cells": [
  {
   "cell_type": "code",
   "execution_count": 1,
   "id": "965080e5",
   "metadata": {
    "tags": []
   },
   "outputs": [],
   "source": [
    "import sys\n",
    "import os\n",
    "sys.path.append('../')\n",
    "sys.path.append('../WD_models')\n",
    "\n",
    "### General\n",
    "import numpy as np\n",
    "import matplotlib.pyplot as plt\n",
    "import matplotlib.colors as colors\n",
    "\n",
    "from astropy.io import fits\n",
    "from astropy.table import Table, Column, MaskedColumn, join, unique\n",
    "from astropy.table import *\n",
    "\n",
    "from tqdm import tqdm\n",
    "import pandas as pd\n",
    "#import WD_models"
   ]
  },
  {
   "cell_type": "code",
   "execution_count": 2,
   "id": "7aa72ce5",
   "metadata": {},
   "outputs": [],
   "source": [
    "#from astropy.table import Table\n",
    "from astropy.coordinates import SkyCoord\n",
    "from astropy import table\n",
    "import astropy.units as u\n",
    "\n",
    "wd_c1 = Table.read('sdss5/spAll-v6_1_0.fits')\n"
   ]
  },
  {
   "cell_type": "code",
   "execution_count": 3,
   "id": "0f69aba7",
   "metadata": {
    "tags": []
   },
   "outputs": [
    {
     "data": {
      "text/html": [
       "<i>Row index=0</i>\n",
       "<table id=\"table139797025295472\">\n",
       "<thead><tr><th>PROGRAMNAME</th><th>SURVEY</th><th>FIELDQUALITY</th><th>FIELDSN2</th><th>EXP_DISP_MED</th><th>FIBERID_LIST</th><th>LAMBDA_EFF</th><th>BLUEFIBER</th><th>ZOFFSET</th><th>XFOCAL</th><th>YFOCAL</th><th>CALIBFLUX</th><th>CALIBFLUX_IVAR</th><th>GAIA_BP</th><th>GAIA_RP</th><th>GAIA_G</th><th>CADENCE</th><th>FIRSTCARTON</th><th>CARTON_TO_TARGET_PK</th><th>RACAT</th><th>DECCAT</th><th>COORD_EPOCH</th><th>PMRA</th><th>PMDEC</th><th>PARALLAX</th><th>CATALOGID</th><th>CATALOGID_V0</th><th>CATALOGID_V0P5</th><th>GAIA_ID_DR2</th><th>FIBER2MAG</th><th>PSFMAG</th><th>CATDB_MAG</th><th>OPTICAL_PROV</th><th>OBS</th><th>FIELD</th><th>DESIGNS</th><th>CONFIGS</th><th>NEXP</th><th>EXPTIME</th><th>AIRMASS</th><th>SEEING20</th><th>SEEING50</th><th>SEEING80</th><th>ASSIGNED</th><th>ON_TARGET</th><th>VALID</th><th>HEALPIX</th><th>HEALPIXGRP</th><th>HEALPIX_PATH</th><th>MJD_FINAL</th><th>MJD_LIST</th><th>TAI_LIST</th><th>FIELDSNR2G_LIST</th><th>FIELDSNR2R_LIST</th><th>FIELDSNR2I_LIST</th><th>RA_LIST</th><th>DEC_LIST</th><th>DELTA_RA_LIST</th><th>DELTA_DEC_LIST</th><th>MOON_DIST</th><th>MOON_PHASE</th><th>EBV</th><th>EBV_TYPE</th><th>WISE_MAG</th><th>TWOMASS_MAG</th><th>GUVCAT_MAG</th><th>FIBER_OFFSET</th><th>SPEC_FILE</th><th>XCSAO_RV</th><th>XCSAO_ERV</th><th>XCSAO_RXC</th><th>XCSAO_TEFF</th><th>XCSAO_ETEFF</th><th>XCSAO_LOGG</th><th>XCSAO_ELOGG</th><th>XCSAO_FEH</th><th>XCSAO_EFEH</th><th>SDSSV_BOSS_TARGET0</th><th>MJD</th><th>TARGET_INDEX</th><th>RUN2D</th><th>RUN1D</th><th>OBJTYPE</th><th>FIBER_RA</th><th>FIBER_DEC</th><th>PLUG_RA</th><th>PLUG_DEC</th><th>CLASS</th><th>SUBCLASS</th><th>Z</th><th>Z_ERR</th><th>RCHI2</th><th>DOF</th><th>RCHI2DIFF</th><th>TFILE</th><th>TCOLUMN</th><th>NPOLY</th><th>THETA</th><th>VDISP</th><th>VDISP_ERR</th><th>VDISPZ</th><th>VDISPZ_ERR</th><th>VDISPCHI2</th><th>VDISPNPIX</th><th>VDISPDOF</th><th>WAVEMIN</th><th>WAVEMAX</th><th>WCOVERAGE</th><th>ZWARNING</th><th>SN_MEDIAN</th><th>SN_MEDIAN_ALL</th><th>CHI68P</th><th>FRACNSIGMA</th><th>FRACNSIGHI</th><th>FRACNSIGLO</th><th>SPECTROFLUX</th><th>SPECTROFLUX_IVAR</th><th>SPECTROSYNFLUX</th><th>SPECTROSYNFLUX_IVAR</th><th>SPECTROSKYFLUX</th><th>ANYANDMASK</th><th>ANYORMASK</th><th>SPEC1_G</th><th>SPEC1_R</th><th>SPEC1_I</th><th>SPEC2_G</th><th>SPEC2_R</th><th>SPEC2_I</th><th>Z_NOQSO</th><th>Z_ERR_NOQSO</th><th>ZNUM_NOQSO</th><th>ZWARNING_NOQSO</th><th>CLASS_NOQSO</th><th>SUBCLASS_NOQSO</th><th>RCHI2DIFF_NOQSO</th><th>SPECOBJID</th></tr></thead>\n",
       "<thead><tr><th>bytes13</th><th>bytes13</th><th>bytes4</th><th>float32</th><th>float64</th><th>bytes111</th><th>float32</th><th>int32</th><th>float32</th><th>bytes251</th><th>bytes251</th><th>float32[5]</th><th>float32[5]</th><th>float32</th><th>float32</th><th>float32</th><th>bytes13</th><th>bytes48</th><th>bytes22</th><th>float64</th><th>float64</th><th>float32</th><th>float32</th><th>float32</th><th>float32</th><th>int64</th><th>int64</th><th>int64</th><th>int64</th><th>float32[5]</th><th>float32[5]</th><th>float32[5]</th><th>bytes26</th><th>bytes3</th><th>int32</th><th>bytes125</th><th>bytes167</th><th>int16</th><th>int16</th><th>float32</th><th>float32</th><th>float32</th><th>float32</th><th>bytes55</th><th>bytes55</th><th>bytes55</th><th>int32</th><th>int16</th><th>bytes76</th><th>float64</th><th>bytes167</th><th>bytes307</th><th>bytes139</th><th>bytes147</th><th>bytes152</th><th>bytes307</th><th>bytes279</th><th>bytes111</th><th>bytes111</th><th>bytes139</th><th>bytes139</th><th>float32</th><th>bytes11</th><th>float32[4]</th><th>float32[3]</th><th>float32[2]</th><th>float32</th><th>bytes42</th><th>float32</th><th>float32</th><th>float32</th><th>float32</th><th>float32</th><th>float32</th><th>float32</th><th>float32</th><th>float32</th><th>int64</th><th>int32</th><th>int32</th><th>bytes6</th><th>bytes6</th><th>bytes16</th><th>float64</th><th>float64</th><th>float64</th><th>float64</th><th>bytes6</th><th>bytes21</th><th>float32</th><th>float32</th><th>float32</th><th>int32</th><th>float32</th><th>bytes24</th><th>int32[10]</th><th>int32</th><th>float32[10]</th><th>float32</th><th>float32</th><th>float32</th><th>float32</th><th>float32</th><th>float32</th><th>int32</th><th>float32</th><th>float32</th><th>float32</th><th>int32</th><th>float32[5]</th><th>float32</th><th>float32</th><th>float32[10]</th><th>float32[10]</th><th>float32[10]</th><th>float32[5]</th><th>float32[5]</th><th>float32[5]</th><th>float32[5]</th><th>float32[5]</th><th>int32</th><th>int32</th><th>float32</th><th>float32</th><th>float32</th><th>float32</th><th>float32</th><th>float32</th><th>float32</th><th>float32</th><th>int32</th><th>int32</th><th>bytes6</th><th>bytes21</th><th>float32</th><th>int64</th></tr></thead>\n",
       "<tr><td>RM</td><td>BHM</td><td>good</td><td>7.287694</td><td>1.049497686772183</td><td>424 424</td><td>5400.0</td><td>0</td><td>0.0</td><td>-131.001 -131.001</td><td>-270.826 -270.826</td><td>0.0 .. 116.69114</td><td>0.0 .. 0.0</td><td>17.9881</td><td>17.045</td><td>18.1457</td><td>plates</td><td>bhm_rm_known-spec</td><td>-999</td><td>35.10384601646094</td><td>-6.292128211174298</td><td>2000.0</td><td>0.32969478</td><td>1.2853869</td><td>-0.052332718</td><td>4375786564</td><td>4375786564</td><td>0</td><td>2487098123823599616</td><td>-9.99999 .. 18.1579</td><td>-10.797755 .. 17.334406</td><td>-9.99999 .. 18.1579</td><td>fiber2mag</td><td>APO</td><td>15000</td><td></td><td>15000 15000</td><td>2</td><td>1800</td><td>1.2987098</td><td>1.483993</td><td>1.6015084</td><td>1.7554159</td><td>1 1</td><td>1 1</td><td>1 1</td><td>108850</td><td>108</td><td>$MWM_HEALPIX/108/108850/boss/v6_1_0/spec-015000-59146-4375786564.fits</td><td>59146.33513143499</td><td>59146 59146</td><td>5110242925 5110243926</td><td>4.13 3.16</td><td>10.94 8.40</td><td>8.01 6.04</td><td>35.103846 35.103846</td><td>-6.292128 -6.292128</td><td>0.0 0.0</td><td>0.0 0.0</td><td>79.4 79.2</td><td>0.58 0.58</td><td>0.026325047</td><td>SFD</td><td>13.365 .. 7.285</td><td>15.866 .. 14.577</td><td>18.7659 .. 18.5614</td><td>0.0</td><td>spec-015000-59146-4375786564.fits</td><td>372.47113</td><td>25.287928</td><td>1.6334513</td><td>4396.9653</td><td>1863.9761</td><td>3.54361</td><td>1.8261423</td><td>-0.27068064</td><td>0.75969946</td><td>25769804288</td><td>59146</td><td>1</td><td>v6_1_0</td><td>v6_1_0</td><td>QSO</td><td>35.103846</td><td>-6.2921282</td><td>35.103845999999976</td><td>-6.2921282</td><td>QSO</td><td>BROADLINE</td><td>0.13961641</td><td>3.292187e-05</td><td>2.3595521</td><td>4513</td><td>6.737322</td><td>spEigenQSO-58596.fits</td><td>0 .. 9</td><td>0</td><td>0.02268109 .. -0.034858134</td><td>0.0</td><td>0.0</td><td>0.0</td><td>0.0</td><td>0.0</td><td>0.0</td><td>0</td><td>3626.6028</td><td>10332.371</td><td>0.4523</td><td>64</td><td>6.2959604 .. 18.618938</td><td>18.596743</td><td>1.1759084</td><td>0.39221755 .. 0.0022109218</td><td>0.21799691 .. 0.0017687376</td><td>0.17422065 .. 0.0004421844</td><td>19.684925 .. 120.76659</td><td>0.24994858 .. 0.71659154</td><td>43.932167 .. 116.8185</td><td>2.8173938 .. 1.4498618</td><td>20.8105 .. 152.26627</td><td>88670208</td><td>256835584</td><td>7.287694</td><td>19.336294</td><td>14.045464</td><td>0.0</td><td>0.0</td><td>0.0</td><td>0.139387</td><td>2.31031e-05</td><td>2</td><td>0</td><td>GALAXY</td><td></td><td>1.9262252</td><td>-1558245042737524736</td></tr>\n",
       "</table>"
      ],
      "text/plain": [
       "<Row index=0>\n",
       " PROGRAMNAME      SURVEY    FIELDQUALITY FIELDSN2    EXP_DISP_MED                                                     FIBERID_LIST                                                  LAMBDA_EFF BLUEFIBER ZOFFSET                                                                                                                            XFOCAL                                                                                                                                                                                                                                                      YFOCAL                                                                                                                              CALIBFLUX     CALIBFLUX_IVAR GAIA_BP GAIA_RP  GAIA_G    CADENCE                      FIRSTCARTON                     CARTON_TO_TARGET_PK         RACAT             DECCAT       COORD_EPOCH    PMRA      PMDEC     PARALLAX   CATALOGID  CATALOGID_V0 CATALOGID_V0P5     GAIA_ID_DR2          FIBER2MAG               PSFMAG              CATDB_MAG             OPTICAL_PROV         OBS   FIELD                                                            DESIGNS                                                                                                                                            CONFIGS                                                                                  NEXP EXPTIME  AIRMASS  SEEING20  SEEING50  SEEING80                         ASSIGNED                                               ON_TARGET                                                 VALID                          HEALPIX HEALPIXGRP                                 HEALPIX_PATH                                     MJD_FINAL                                                                                     MJD_LIST                                                                                                                                                                                                                                      TAI_LIST                                                                                                                                                                                                                    FIELDSNR2G_LIST                                                                                                                                 FIELDSNR2R_LIST                                                                                                                                       FIELDSNR2I_LIST                                                                                                                                                                                                                            RA_LIST                                                                                                                                                                                                                                                                                               DEC_LIST                                                                                                                                                                                         DELTA_RA_LIST                                                                                                   DELTA_DEC_LIST                                                                                                                  MOON_DIST                                                                                                                                   MOON_PHASE                                                                     EBV       EBV_TYPE      WISE_MAG      TWOMASS_MAG        GUVCAT_MAG     FIBER_OFFSET                 SPEC_FILE                   XCSAO_RV XCSAO_ERV XCSAO_RXC XCSAO_TEFF XCSAO_ETEFF XCSAO_LOGG XCSAO_ELOGG  XCSAO_FEH  XCSAO_EFEH SDSSV_BOSS_TARGET0  MJD  TARGET_INDEX RUN2D  RUN1D      OBJTYPE       FIBER_RA FIBER_DEC       PLUG_RA        PLUG_DEC  CLASS         SUBCLASS           Z         Z_ERR       RCHI2    DOF  RCHI2DIFF          TFILE            TCOLUMN  NPOLY           THETA             VDISP  VDISP_ERR  VDISPZ VDISPZ_ERR VDISPCHI2 VDISPNPIX VDISPDOF  WAVEMIN   WAVEMAX  WCOVERAGE ZWARNING       SN_MEDIAN        SN_MEDIAN_ALL   CHI68P          FRACNSIGMA                 FRACNSIGHI                 FRACNSIGLO              SPECTROFLUX           SPECTROFLUX_IVAR         SPECTROSYNFLUX     SPECTROSYNFLUX_IVAR      SPECTROSKYFLUX    ANYANDMASK ANYORMASK SPEC1_G   SPEC1_R   SPEC1_I  SPEC2_G SPEC2_R SPEC2_I Z_NOQSO  Z_ERR_NOQSO ZNUM_NOQSO ZWARNING_NOQSO CLASS_NOQSO     SUBCLASS_NOQSO    RCHI2DIFF_NOQSO      SPECOBJID      \n",
       "   bytes13       bytes13       bytes4    float32       float64                                                          bytes111                                                     float32     int32   float32                                                                                                                           bytes251                                                                                                                                                                                                                                                    bytes251                                                                                                                             float32[5]      float32[5]   float32 float32 float32    bytes13                        bytes48                             bytes22              float64           float64         float32    float32    float32    float32      int64       int64         int64             int64             float32[5]            float32[5]            float32[5]              bytes26           bytes3 int32                                                            bytes125                                                                                                                                           bytes167                                                                                int16  int16   float32  float32   float32   float32                          bytes55                                                 bytes55                                                 bytes55                          int32    int16                                      bytes76                                         float64                                                                                      bytes167                                                                                                                                                                                                                                      bytes307                                                                                                                                                                                                                        bytes139                                                                                                                                        bytes147                                                                                                                                              bytes152                                                                                                                                                                                                                               bytes307                                                                                                                                                                                                                                                                                              bytes279                                                                                                                                                                                            bytes111                                                                                                        bytes111                                                                                                                      bytes139                                                                                                                                    bytes139                                                                    float32     bytes11      float32[4]      float32[3]        float32[2]       float32                     bytes42                    float32   float32   float32   float32     float32    float32     float32     float32    float32         int64        int32    int32     bytes6 bytes6     bytes16       float64   float64        float64        float64   bytes6        bytes21         float32     float32     float32  int32  float32          bytes24          int32[10] int32        float32[10]         float32  float32  float32  float32    float32   float32   int32    float32   float32   float32   int32         float32[5]          float32     float32         float32[10]                float32[10]                float32[10]               float32[5]              float32[5]              float32[5]            float32[5]            float32[5]        int32      int32   float32   float32   float32  float32 float32 float32 float32    float32     int32        int32         bytes6          bytes21            float32            int64        \n",
       "------------- ------------- ------------ -------- ----------------- --------------------------------------------------------------------------------------------------------------- ---------- --------- ------- ----------------------------------------------------------------------------------------------------------------------------------------------------------------------------------------------------------------------------------------------------------- ----------------------------------------------------------------------------------------------------------------------------------------------------------------------------------------------------------------------------------------------------------- ---------------- -------------- ------- ------- ------- ------------- ------------------------------------------------ ---------------------- ----------------- ------------------ ----------- ---------- --------- ------------ ---------- ------------ -------------- ------------------- ------------------- ----------------------- ------------------- -------------------------- ------ ----- ----------------------------------------------------------------------------------------------------------------------------- ----------------------------------------------------------------------------------------------------------------------------------------------------------------------- ----- ------- --------- -------- --------- --------- ------------------------------------------------------- ------------------------------------------------------- ------------------------------------------------------- ------- ---------- ---------------------------------------------------------------------------- ----------------- ----------------------------------------------------------------------------------------------------------------------------------------------------------------------- ------------------------------------------------------------------------------------------------------------------------------------------------------------------------------------------------------------------------------------------------------------------------------------------------------------------- ------------------------------------------------------------------------------------------------------------------------------------------- --------------------------------------------------------------------------------------------------------------------------------------------------- -------------------------------------------------------------------------------------------------------------------------------------------------------- ------------------------------------------------------------------------------------------------------------------------------------------------------------------------------------------------------------------------------------------------------------------------------------------------------------------- --------------------------------------------------------------------------------------------------------------------------------------------------------------------------------------------------------------------------------------------------------------------------------------- --------------------------------------------------------------------------------------------------------------- --------------------------------------------------------------------------------------------------------------- ------------------------------------------------------------------------------------------------------------------------------------------- ------------------------------------------------------------------------------------------------------------------------------------------- ----------- ----------- --------------- ---------------- ------------------ ------------ ------------------------------------------ --------- --------- --------- ---------- ----------- ---------- ----------- ----------- ---------- ------------------ ----- ------------ ------ ------ ---------------- --------- ---------- ------------------ ---------- ------ --------------------- ---------- ------------ --------- ----- --------- ------------------------ --------- ----- -------------------------- ------- --------- ------- ---------- --------- --------- -------- --------- --------- --------- -------- ---------------------- ------------- --------- -------------------------- -------------------------- -------------------------- ---------------------- ------------------------ --------------------- ---------------------- -------------------- ---------- --------- -------- --------- --------- ------- ------- ------- -------- ----------- ---------- -------------- ----------- --------------------- --------------- --------------------\n",
       "RM            BHM                   good 7.287694 1.049497686772183 424 424                                                                                                             5400.0         0     0.0 -131.001 -131.001                                                                                                                                                                                                                                           -270.826 -270.826                                                                                                                                                                                                                                           0.0 .. 116.69114     0.0 .. 0.0 17.9881  17.045 18.1457 plates        bhm_rm_known-spec                                        -999           35.10384601646094 -6.292128211174298      2000.0 0.32969478 1.2853869 -0.052332718 4375786564   4375786564              0 2487098123823599616 -9.99999 .. 18.1579 -10.797755 .. 17.334406 -9.99999 .. 18.1579 fiber2mag                     APO 15000                                                                                                                               15000 15000                                                                                                                                                                 2    1800 1.2987098 1.483993 1.6015084 1.7554159 1 1                                                     1 1                                                     1 1                                                      108850        108 $MWM_HEALPIX/108/108850/boss/v6_1_0/spec-015000-59146-4375786564.fits        59146.33513143499 59146 59146                                                                                                                                                             5110242925 5110243926                                                                                                                                                                                                                                                                                               4.13 3.16                                                                                                                                   10.94 8.40                                                                                                                                          8.01 6.04                                                                                                                                                35.103846 35.103846                                                                                                                                                                                                                                                                                                 -6.292128 -6.292128                                                                                                                                                                                                                                                                     0.0 0.0                                                                                                         0.0 0.0                                                                                                         79.4 79.2                                                                                                                                   0.58 0.58                                                                                                                                   0.026325047 SFD         13.365 .. 7.285 15.866 .. 14.577 18.7659 .. 18.5614          0.0 spec-015000-59146-4375786564.fits          372.47113 25.287928 1.6334513  4396.9653   1863.9761    3.54361   1.8261423 -0.27068064 0.75969946        25769804288 59146            1 v6_1_0 v6_1_0 QSO              35.103846 -6.2921282 35.103845999999976 -6.2921282 QSO    BROADLINE             0.13961641 3.292187e-05 2.3595521  4513  6.737322 spEigenQSO-58596.fits       0 .. 9     0 0.02268109 .. -0.034858134     0.0       0.0     0.0        0.0       0.0       0.0        0 3626.6028 10332.371    0.4523       64 6.2959604 .. 18.618938     18.596743 1.1759084 0.39221755 .. 0.0022109218 0.21799691 .. 0.0017687376 0.17422065 .. 0.0004421844 19.684925 .. 120.76659 0.24994858 .. 0.71659154 43.932167 .. 116.8185 2.8173938 .. 1.4498618 20.8105 .. 152.26627   88670208 256835584 7.287694 19.336294 14.045464     0.0     0.0     0.0 0.139387 2.31031e-05          2              0      GALAXY                             1.9262252 -1558245042737524736"
      ]
     },
     "execution_count": 3,
     "metadata": {},
     "output_type": "execute_result"
    }
   ],
   "source": [
    "wd_c1[0]"
   ]
  },
  {
   "cell_type": "code",
   "execution_count": 4,
   "id": "0170ed22",
   "metadata": {
    "tags": []
   },
   "outputs": [],
   "source": [
    "def strip(catalog):  \n",
    "    drop_cols = []\n",
    "    keep_cols = ['CATALOGID', 'FIBER_RA', 'FIBER_DEC', 'MJD', 'FIELD', 'FIELDSN2', 'SPEC_FILE', 'OBS']\n",
    "        \n",
    "    for key in catalog.keys():\n",
    "        if key not in keep_cols:\n",
    "            drop_cols.append(key)\n",
    "                 \n",
    "    catalog.remove_columns(drop_cols)\n",
    "    \n",
    "    return catalog\n",
    "\n",
    "wd_c1 = strip(wd_c1)\n",
    "ms_c1 = wd_c1.copy()"
   ]
  },
  {
   "cell_type": "code",
   "execution_count": 5,
   "id": "3938d8a3",
   "metadata": {
    "tags": []
   },
   "outputs": [
    {
     "name": "stdout",
     "output_type": "stream",
     "text": [
      "['FIELDSN2', 'CATALOGID', 'OBS', 'FIELD', 'SPEC_FILE', 'MJD', 'FIBER_RA', 'FIBER_DEC']\n"
     ]
    }
   ],
   "source": [
    "print(wd_c1.keys())"
   ]
  },
  {
   "cell_type": "code",
   "execution_count": 6,
   "id": "0971c312",
   "metadata": {
    "tags": []
   },
   "outputs": [
    {
     "name": "stdout",
     "output_type": "stream",
     "text": [
      "['FIELDSN2', 'CATALOGID', 'OBS', 'FIELD', 'SPEC_FILE', 'MJD', 'FIBER_RA', 'FIBER_DEC']\n"
     ]
    }
   ],
   "source": [
    "print(ms_c1.keys())"
   ]
  },
  {
   "cell_type": "code",
   "execution_count": null,
   "id": "57ac909d",
   "metadata": {
    "tags": []
   },
   "outputs": [],
   "source": [
    "catalog = Table.read('data/elbadry.fits.gz')\n",
    "\n",
    "catalog = catalog[catalog['binary_type'] == b'WDMS']"
   ]
  },
  {
   "cell_type": "code",
   "execution_count": null,
   "id": "96408183",
   "metadata": {},
   "outputs": [],
   "source": [
    "def wd_sep(bp_rp):\n",
    "    return 3.25*bp_rp + 9.625\n",
    "\n",
    "wd_obj = []\n",
    "ms_obj = []\n",
    "drop = []\n",
    "\n",
    "for i in tqdm (range(len(catalog))):\n",
    "    mg1 = wd_sep(catalog['bp_rp1'][i])\n",
    "    mg2 = wd_sep(catalog['bp_rp2'][i])\n",
    "    \n",
    "    M1 = catalog['phot_g_mean_mag1'][i] + 5 * (np.log10(catalog['parallax1'][i] / 100))\n",
    "    M2 = catalog['phot_g_mean_mag2'][i] + 5 * (np.log10(catalog['parallax2'][i] / 100))\n",
    "    \n",
    "    if M1 > mg1 and M2 < mg2:\n",
    "        wd_obj.append(1)\n",
    "        ms_obj.append(2)\n",
    "    elif M2 > mg2 and M1 < mg1:\n",
    "        wd_obj.append(2)\n",
    "        ms_obj.append(1)\n",
    "    else:\n",
    "        drop.append(i)\n",
    "               \n",
    "catalog.remove_rows(drop)\n",
    "catalog['wd_obj'] = wd_obj\n",
    "catalog['ms_obj'] = ms_obj"
   ]
  },
  {
   "cell_type": "code",
   "execution_count": null,
   "id": "64cf39a3",
   "metadata": {},
   "outputs": [],
   "source": [
    "def separate(catalog, column, ms_obj, wd_obj, newname = ''):      \n",
    "    mstemp_arr = [ catalog[str(column) + str(ms_obj[i])][i] for i in range(len(ms_obj)) ]\n",
    "    wdtemp_arr = [ catalog[str(column) + str(wd_obj[i])][i] for i in range(len(wd_obj)) ]\n",
    "    \n",
    "    catalog['ms_' + str(column)] = mstemp_arr\n",
    "    catalog['wd_' + str(column)] = wdtemp_arr\n",
    "    return catalog\n",
    "\n",
    "### ---\n",
    "\n",
    "convert_cols = ['source_id', 'parallax', 'parallax_over_error', 'phot_g_mean_mag', 'phot_g_mean_flux',\n",
    "                'phot_g_mean_flux_error', 'phot_bp_mean_mag', 'phot_bp_mean_flux', 'phot_bp_mean_flux_error',\n",
    "                'phot_rp_mean_mag', 'phot_rp_mean_flux', 'phot_rp_mean_flux_error', 'bp_rp', 'ra', 'ra_error', 'dec', 'dec_error', 'l', 'b']\n",
    "\n",
    "for col in convert_cols:\n",
    "    catalog = separate(catalog, col, ms_obj, wd_obj)\n",
    "    \n",
    "catalog['wd_m_g'] = catalog['wd_phot_g_mean_mag'] + 5 * np.log10(catalog['wd_parallax'] / 100)\n",
    "catalog['ms_m_g'] = catalog['ms_phot_g_mean_mag'] + 5 * np.log10(catalog['ms_parallax'] / 100)"
   ]
  },
  {
   "cell_type": "code",
   "execution_count": null,
   "id": "4cbb4293",
   "metadata": {
    "tags": []
   },
   "outputs": [],
   "source": [
    "from astropy.table import unique, Table\n",
    "\n",
    "wd_c1['wd_pos'] = SkyCoord(wd_c1['FIBER_RA'], wd_c1['FIBER_DEC'], unit='deg')\n",
    "ms_c1['ms_pos'] = SkyCoord(ms_c1['FIBER_RA'], ms_c1['FIBER_DEC'], unit='deg')\n",
    "\n",
    "catalog['wd_pos'] = SkyCoord(catalog['wd_ra'], catalog['wd_dec'], unit='deg')\n",
    "catalog['ms_pos'] = SkyCoord(catalog['ms_ra'], catalog['ms_dec'], unit='deg')"
   ]
  },
  {
   "cell_type": "code",
   "execution_count": null,
   "id": "4a95b013",
   "metadata": {
    "tags": []
   },
   "outputs": [],
   "source": [
    "wd_c1[['wd_pos']]"
   ]
  },
  {
   "cell_type": "code",
   "execution_count": null,
   "id": "49da31e0",
   "metadata": {},
   "outputs": [],
   "source": [
    "from inspect import getmembers, isfunction\n",
    "from astropy import table\n",
    "\n",
    "print(getmembers(table, isfunction))"
   ]
  },
  {
   "cell_type": "code",
   "execution_count": null,
   "id": "c432b356",
   "metadata": {},
   "outputs": [],
   "source": [
    "import astropy\n",
    "\n",
    "print(astropy.__version__)"
   ]
  },
  {
   "cell_type": "code",
   "execution_count": null,
   "id": "4ea41cfd",
   "metadata": {
    "tags": []
   },
   "outputs": [],
   "source": [
    "from astropy.table import join_skycoord\n",
    "\n",
    "# Join WDs in SDSS-5\n",
    "wd_catalog = unique(join(catalog, wd_c1, join_funcs={'wd_pos': join_skycoord(1 * u.arcsecond)}), keys = 'wd_pos_id')\n",
    "for key in wd_c1.keys():\n",
    "    if key != 'wd_pos':\n",
    "        wd_catalog.rename_column(key, 'wd_' + key)\n",
    "\n",
    "# Join MS in SDSS-5\n",
    "ms_catalog = unique(join(catalog, ms_c1, join_funcs={'ms_pos': join_skycoord(1 * u.arcsecond)}), keys = 'ms_pos_id')\n",
    "for key in ms_c1.keys():\n",
    "    if key != 'ms_pos':\n",
    "        ms_catalog.rename_column(key, 'ms_' + key)\n",
    "\n",
    "for key in catalog.keys():\n",
    "    if key != 'ms_source_id':\n",
    "        try:\n",
    "            ms_catalog.remove_column(key)\n",
    "        except:\n",
    "            ms_catalog.remove_column(key + '_1')\n",
    "            ms_catalog.rename_column(key + '_2', key)\n",
    "ms_sdss5_wd_sdss5 = join(wd_catalog, ms_catalog, keys = 'ms_source_id')"
   ]
  },
  {
   "cell_type": "code",
   "execution_count": null,
   "id": "c05f7637",
   "metadata": {
    "tags": []
   },
   "outputs": [],
   "source": [
    "ms_sdss5_wd_sdss5"
   ]
  },
  {
   "cell_type": "code",
   "execution_count": null,
   "id": "b1423df5",
   "metadata": {
    "tags": []
   },
   "outputs": [],
   "source": [
    "from astropy.table import Table, vstack, hstack\n",
    "\n",
    "from astroquery.sdss import SDSS\n",
    "from astroquery.gaia import Gaia\n",
    "from astropy import constants as c\n",
    "\n",
    "# Fetch targets with MS RVs in Gaia\n",
    "\n",
    "ADQL_CODE1 = \"\"\"SELECT sdss.original_ext_source_id as ms_bestobjid, gaia.source_id as ms_source_id, gaia.radial_velocity, gaia.radial_velocity_error\n",
    "    FROM gaiadr3.gaia_source as gaia\n",
    "    JOIN gaiaedr3.sdssdr13_best_neighbour as sdss\n",
    "    ON gaia.source_id = sdss.source_id      \n",
    "    WHERE gaia.source_id in {} AND\n",
    "    radial_velocity IS NOT null AND\n",
    "    radial_velocity_error < 7\"\"\".format(tuple(wd_catalog['ms_source_id']))\n",
    "d1 = (Gaia.launch_job(ADQL_CODE1,dump_to_file=False).get_results())\n",
    "ms_gaia_wd_sdss5 = join(wd_catalog, d1, keys = 'ms_source_id')\n",
    "    \n",
    "# Fetch targets with MS spectra in SDSS-4\n",
    "\n",
    "ADQL_CODE1 = \"\"\"SELECT sdss.original_ext_source_id as ms_bestobjid, gaia.source_id as ms_source_id, gaia.radial_velocity, gaia.radial_velocity_error\n",
    "    FROM gaiadr3.gaia_source as gaia\n",
    "    JOIN gaiaedr3.sdssdr13_best_neighbour as sdss\n",
    "    ON gaia.source_id = sdss.source_id      \n",
    "    WHERE gaia.source_id in {}\"\"\".format(tuple(wd_catalog['ms_source_id']))\n",
    "gd2 = Gaia.launch_job(ADQL_CODE1,dump_to_file=False).get_results() \n",
    "\n",
    "stardats = []\n",
    "iters = len(gd2) // 100\n",
    "\n",
    "for i in tqdm(range(iters)):\n",
    "    SDSS_QUERY = \"\"\"select sp.bestObjID, sp.plate, sp.mjd, sp.fiberID, sp.instrument \n",
    "        from dbo.SpecObjAll as sp\n",
    "        where sp.bestObjID in {}\"\"\".format(tuple(gd2['ms_bestobjid'][100*i:100*i+100]))\n",
    "    \n",
    "    f = SDSS.query_sql(SDSS_QUERY)\n",
    "    if f is not None:\n",
    "        stardats.append(SDSS.query_sql(SDSS_QUERY))\n",
    "\n",
    "d2 = vstack(stardats)\n",
    "d2.rename_column('bestObjID', 'bestobjid')\n",
    "d2.rename_column('fiberID', 'fiberid')\n",
    "\n",
    "print(d2.keys())\n",
    "\n",
    "for key in d2.keys():\n",
    "    d2.rename_column(key, 'ms_' + key)\n",
    "\n",
    "d2 = join(d2, gd2, keys = 'ms_bestobjid')\n",
    "ms_sdss4_wd_sdss5 = join(wd_catalog, d2, keys = 'ms_source_id')\n",
    "#except:\n",
    "#    print('No objects with MS spectra in SDSS-4 and WD spectra in SDSS-5')\n",
    "#    ms_sdss4_wd_sdss5 = [0]\n",
    "#ms_in_sdss4 = unique(d2, keys = 'wd_bestobjid')"
   ]
  },
  {
   "cell_type": "code",
   "execution_count": null,
   "id": "23eead3e",
   "metadata": {
    "tags": []
   },
   "outputs": [],
   "source": [
    "ms_sdss5_wd_sdss4 = Table.read('sdss5/temp_ms_sdss5_wd_sdss4.fits')\n",
    "ms_sdss5_wd_sdss4['ms_pos'] = SkyCoord(ms_sdss5_wd_sdss4['ms_ra'], ms_sdss5_wd_sdss4['ms_dec'], unit='deg')\n",
    "\n",
    "ms_sdss5_wd_sdss4 = unique(join(ms_sdss5_wd_sdss4, ms_c1, join_funcs={'ms_pos': join_skycoord(1 * u.arcsecond)}), keys = 'ms_pos_id')\n",
    "for key in ms_c1.keys():\n",
    "    if key != 'ms_pos':\n",
    "        ms_sdss5_wd_sdss4.rename_column(key, 'ms_' + key)"
   ]
  },
  {
   "cell_type": "code",
   "execution_count": null,
   "id": "d694b5ad",
   "metadata": {
    "tags": []
   },
   "outputs": [],
   "source": [
    "ms_sdss5_wd_sdss4"
   ]
  },
  {
   "cell_type": "code",
   "execution_count": null,
   "id": "c81b8214",
   "metadata": {
    "tags": []
   },
   "outputs": [],
   "source": [
    "# MS Gaia, WD SDSS-V\n",
    "\n",
    "ms_gaia_wd_sdss5['wd_filepath'] =  ms_gaia_wd_sdss5['wd_SPEC_FILE']\n",
    "ms_gaia_wd_sdss5['wd_plate'] = ms_gaia_wd_sdss5['wd_FIELD']\n",
    "ms_gaia_wd_sdss5['wd_mjd'] = ms_gaia_wd_sdss5['wd_MJD']\n",
    "ms_gaia_wd_sdss5['wd_fiberid'] = ms_gaia_wd_sdss5['wd_CATALOGID']\n",
    "ms_gaia_wd_sdss5['wd_instrument'] = ms_gaia_wd_sdss5['wd_OBS']\n",
    "\n",
    "ms_gaia_wd_sdss5['uses_sdss5'] = np.ones(len(ms_gaia_wd_sdss5))\n",
    "ms_gaia_wd_sdss5['wd_rv_from'] = ['sdss5' for i in range(len(ms_gaia_wd_sdss5))]\n",
    "ms_gaia_wd_sdss5['ms_rv_from'] = ['gaia' for i in range(len(ms_gaia_wd_sdss5))]\n",
    "ms_gaia_wd_sdss5['ms_instrument'] = ['gaia' for i in range(len(ms_gaia_wd_sdss5))]\n",
    "\n",
    "\n",
    "ms_gaia_wd_sdss5['wd_rv'] = 999*np.ones(len(ms_gaia_wd_sdss5))\n",
    "ms_gaia_wd_sdss5['wd_e_rv'] = 999*np.ones(len(ms_gaia_wd_sdss5))\n",
    "\n",
    "ms_gaia_wd_sdss5 = unique(ms_gaia_wd_sdss5, keys = 'wd_source_id')\n",
    "\n",
    "# MS SDSS-IV, WD SDSS-V\n",
    "\n",
    "ms_sdss4_wd_sdss5['wd_filepath'] =  ms_sdss4_wd_sdss5['wd_SPEC_FILE']\n",
    "ms_sdss4_wd_sdss5['wd_plate'] = ms_sdss4_wd_sdss5['wd_FIELD']\n",
    "ms_sdss4_wd_sdss5['wd_mjd'] = ms_sdss4_wd_sdss5['wd_MJD']\n",
    "ms_sdss4_wd_sdss5['wd_fiberid'] = ms_sdss4_wd_sdss5['wd_CATALOGID']\n",
    "ms_sdss4_wd_sdss5['wd_instrument'] = ms_sdss4_wd_sdss5['wd_OBS']\n",
    "\n",
    "ms_sdss4_wd_sdss5['uses_sdss5'] = np.ones(len(ms_sdss4_wd_sdss5))\n",
    "ms_sdss4_wd_sdss5['wd_rv_from'] = ['sdss5' for i in range(len(ms_sdss4_wd_sdss5))]\n",
    "ms_sdss4_wd_sdss5['ms_rv_from'] = ['sdss4' for i in range(len(ms_sdss4_wd_sdss5))]\n",
    "\n",
    "\n",
    "ms_sdss4_wd_sdss5['wd_rv'] = 999*np.ones(len(ms_sdss4_wd_sdss5))\n",
    "ms_sdss4_wd_sdss5['wd_e_rv'] = 999*np.ones(len(ms_sdss4_wd_sdss5))\n",
    "\n",
    "ms_sdss4_wd_sdss5 = unique(ms_sdss4_wd_sdss5, keys = 'wd_source_id')\n",
    "\n",
    "# MS SDSS-V, WD SDSS-V\n",
    "\n",
    "ms_sdss5_wd_sdss5['ms_filepath'] =  ms_sdss5_wd_sdss5['ms_SPEC_FILE']\n",
    "ms_sdss5_wd_sdss5['ms_plate'] = ms_sdss5_wd_sdss5['ms_FIELD']\n",
    "ms_sdss5_wd_sdss5['ms_mjd'] = ms_sdss5_wd_sdss5['ms_MJD']\n",
    "ms_sdss5_wd_sdss5['ms_fiberid'] = ms_sdss5_wd_sdss5['wd_CATALOGID']\n",
    "ms_sdss5_wd_sdss5['ms_instrument'] = ms_sdss5_wd_sdss5['ms_OBS']\n",
    "\n",
    "ms_sdss5_wd_sdss5['wd_filepath'] =  ms_sdss5_wd_sdss5['wd_SPEC_FILE']\n",
    "ms_sdss5_wd_sdss5['wd_plate'] = ms_sdss5_wd_sdss5['wd_FIELD']\n",
    "ms_sdss5_wd_sdss5['wd_mjd'] = ms_sdss5_wd_sdss5['wd_MJD']\n",
    "ms_sdss5_wd_sdss5['wd_fiberid'] = ms_sdss5_wd_sdss5['wd_CATALOGID']\n",
    "ms_sdss5_wd_sdss5['wd_instrument'] = ms_sdss5_wd_sdss5['wd_OBS']\n",
    "\n",
    "ms_sdss5_wd_sdss5['wd_rv'] = 999*np.ones(len(ms_sdss5_wd_sdss5))\n",
    "ms_sdss5_wd_sdss5['wd_e_rv'] = 999*np.ones(len(ms_sdss5_wd_sdss5))\n",
    "\n",
    "ms_sdss5_wd_sdss5['uses_sdss5'] = np.ones(len(ms_sdss5_wd_sdss5))\n",
    "ms_sdss5_wd_sdss5['wd_rv_from'] = ['sdss5' for i in range(len(ms_sdss5_wd_sdss5))]\n",
    "ms_sdss5_wd_sdss5['ms_rv_from'] = ['sdss5' for i in range(len(ms_sdss5_wd_sdss5))]\n",
    "\n",
    "ms_sdss5_wd_sdss5 = unique(ms_sdss5_wd_sdss5, keys = 'wd_source_id')\n",
    "\n",
    "# MS SDSS-V, WD SDSS-IV\n",
    "\n",
    "ms_sdss5_wd_sdss4['ms_filepath'] =  ms_sdss5_wd_sdss4['ms_SPEC_FILE']\n",
    "ms_sdss5_wd_sdss4['ms_plate'] = ms_sdss5_wd_sdss4['ms_FIELD']\n",
    "ms_sdss5_wd_sdss4['ms_mjd'] = ms_sdss5_wd_sdss4['ms_MJD']\n",
    "ms_sdss5_wd_sdss4['ms_fiberid'] = ms_sdss5_wd_sdss4['ms_CATALOGID']\n",
    "ms_sdss5_wd_sdss4['ms_instrument'] = ms_sdss5_wd_sdss4['ms_OBS']\n",
    "\n",
    "ms_sdss5_wd_sdss4['wd_rv'] = 999*np.ones(len(ms_sdss5_wd_sdss4))\n",
    "ms_sdss5_wd_sdss4['wd_e_rv'] = 999*np.ones(len(ms_sdss5_wd_sdss4))\n",
    "\n",
    "ms_sdss5_wd_sdss4['uses_sdss5'] = np.ones(len(ms_sdss5_wd_sdss4))\n",
    "ms_sdss5_wd_sdss4['wd_rv_from'] = ['sdss4' for i in range(len(ms_sdss5_wd_sdss4))]\n",
    "ms_sdss5_wd_sdss4['ms_rv_from'] = ['sdss5' for i in range(len(ms_sdss5_wd_sdss4))]\n",
    "\n",
    "ms_sdss5_wd_sdss4 = unique(ms_sdss5_wd_sdss4, keys = 'wd_source_id')\n",
    "\n",
    "# Write Catalogs\n",
    "\n",
    "ms_gaia_wd_sdss5.write('sdss5/ms_gaia_wd_sdss5.fits', overwrite = True)\n",
    "ms_sdss4_wd_sdss5.write('sdss5/ms_sdss4_wd_sdss5.fits', overwrite = True)\n",
    "ms_sdss5_wd_sdss5.write('sdss5/ms_sdss5_wd_sdss5.fits', overwrite = True)\n",
    "ms_sdss5_wd_sdss4.write('sdss5/ms_sdss5_wd_sdss4.fits', overwrite = True)"
   ]
  },
  {
   "cell_type": "code",
   "execution_count": null,
   "id": "3dc9ceb8",
   "metadata": {
    "tags": []
   },
   "outputs": [],
   "source": [
    "print(len(ms_gaia_wd_sdss5))\n",
    "print(len(unique(ms_gaia_wd_sdss5, keys = 'wd_source_id')))\n",
    "\n",
    "print(len(ms_sdss4_wd_sdss5))\n",
    "print(len(unique(ms_sdss4_wd_sdss5, keys = 'wd_source_id')))\n",
    "\n",
    "print(len(ms_sdss5_wd_sdss5))\n",
    "print(len(unique(ms_sdss5_wd_sdss5, keys = 'wd_source_id')))\n",
    "\n",
    "print(len(ms_sdss5_wd_sdss4))\n",
    "print(len(unique(ms_sdss5_wd_sdss4, keys = 'wd_source_id')))"
   ]
  },
  {
   "cell_type": "code",
   "execution_count": null,
   "id": "880ff57b",
   "metadata": {
    "tags": []
   },
   "outputs": [],
   "source": [
    "ms_sdss4_wd_sdss5[ms_sdss4_wd_sdss5['ms_source_id'] == 875615158730751488]"
   ]
  },
  {
   "cell_type": "code",
   "execution_count": null,
   "id": "b6db3d97",
   "metadata": {},
   "outputs": [],
   "source": [
    "print(ms_sdss5_wd_sdss4[ms_sdss5_wd_sdss4['ms_source_id'] == 875615158730751488])"
   ]
  },
  {
   "cell_type": "code",
   "execution_count": null,
   "id": "8cd0b02a",
   "metadata": {},
   "outputs": [],
   "source": []
  }
 ],
 "metadata": {
  "kernelspec": {
   "display_name": "Python 3 (ipykernel)",
   "language": "python",
   "name": "python3"
  },
  "language_info": {
   "codemirror_mode": {
    "name": "ipython",
    "version": 3
   },
   "file_extension": ".py",
   "mimetype": "text/x-python",
   "name": "python",
   "nbconvert_exporter": "python",
   "pygments_lexer": "ipython3",
   "version": "3.9.13"
  }
 },
 "nbformat": 4,
 "nbformat_minor": 5
}
