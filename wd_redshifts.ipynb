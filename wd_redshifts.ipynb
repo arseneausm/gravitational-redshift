{
 "cells": [
  {
   "cell_type": "code",
   "execution_count": 1,
   "metadata": {},
   "outputs": [],
   "source": [
    "# Install a pip package in the current Jupyter kernel\n",
    "import sys\n",
    "\n",
    "\n",
    "### General\n",
    "import numpy as np\n",
    "import matplotlib.pyplot as plt\n",
    "import matplotlib.colors as colors\n",
    "#from scipy.optimize import curve_fit\n",
    "from tqdm import tqdm\n",
    "import pandas as pd\n",
    "\n",
    "### Query\n",
    "from astroquery.sdss import SDSS"
   ]
  },
  {
   "cell_type": "code",
   "execution_count": 2,
   "metadata": {},
   "outputs": [
    {
     "name": "stderr",
     "output_type": "stream",
     "text": [
      "C:\\Users\\arsen\\anaconda3\\lib\\site-packages\\IPython\\core\\interactiveshell.py:3444: DtypeWarning: Columns (6,7,8,9,10,11,12,13,14,15,16) have mixed types.Specify dtype option on import or set low_memory=False.\n",
      "  exec(code_obj, self.user_global_ns, self.user_ns)\n"
     ]
    }
   ],
   "source": [
    "df = pd.read_csv(\"data/sdssdr14-wd-catalog/Table2.csv\")\n",
    "\n",
    "ps = []\n",
    "ms = []\n",
    "fs = []\n",
    "\n",
    "for i in range(len(df['P-M-F'])):\n",
    "    tpmf = df['P-M-F'][i].split('-')\n",
    "        \n",
    "    ps.append(int(tpmf[0]))\n",
    "    ms.append(int(tpmf[1]))\n",
    "    fs.append(int(tpmf[2]))\n",
    "        \n",
    "df['plate'] = ps\n",
    "df['mjd'] = ms\n",
    "df['fiber'] = fs"
   ]
  },
  {
   "cell_type": "code",
   "execution_count": 3,
   "metadata": {},
   "outputs": [
    {
     "name": "stdout",
     "output_type": "stream",
     "text": [
      "<class 'numpy.int64'>\n"
     ]
    }
   ],
   "source": [
    "print(type(df['SNg'][2]))"
   ]
  },
  {
   "cell_type": "code",
   "execution_count": 22,
   "metadata": {},
   "outputs": [
    {
     "name": "stdout",
     "output_type": "stream",
     "text": [
      "['Downloaded', 'object', 'from', 'URL', 'https://data.sdss.org/sas/dr14/sdss/spectro/redux/26/spectra/2682/spec-2682-54401-0422.fits', 'with', 'ID', '2267986761952']\n",
      "['https://data.sdss.org/sas/dr14/sdss/spectro/redux/26/spectra/0266/spec', '0266', '51602', '0314.fits']\n"
     ]
    }
   ],
   "source": [
    "from astropy.coordinates import SkyCoord\n",
    "from astropy import units as u\n",
    "\n",
    "i = df['SNg'].tolist().index(max(df['SNg']))\n",
    "\n",
    "dothing = False\n",
    "\n",
    "if dothing:\n",
    "    xids = []\n",
    "    \n",
    "    for i in range(len(df['SNg'])):\n",
    "        xid = SDSS.get_spectra_async(plate=df['plate'][i], fiberID=df['fiber'][i], mjd=df['mjd'][i])\n",
    "        xids.append(xid)\n",
    "else:\n",
    "    xid = SDSS.get_spectra_async(plate=df['plate'][i], fiberID=df['fiber'][i], mjd=df['mjd'][i])\n",
    "    \n",
    "url = str(xid[0]).split(' ')\n",
    "print(url)\n",
    "print((str(xids[0]).split(' ')[4]).split('-'))\n",
    "\n",
    "from numpy import asarray\n",
    "from numpy import save\n",
    "\n",
    "if dothing:\n",
    "    xids2 = np.array(xids)\n",
    "    xids2.tofile('data/wd-spectra.txt', sep = ',')"
   ]
  },
  {
   "cell_type": "code",
   "execution_count": 38,
   "metadata": {},
   "outputs": [
    {
     "name": "stdout",
     "output_type": "stream",
     "text": [
      "37406\n"
     ]
    }
   ],
   "source": [
    "wds = {}\n",
    "urls = []\n",
    "objids = []\n",
    "p = []\n",
    "m = []\n",
    "f = []\n",
    "\n",
    "xids = xids2\n",
    "\n",
    "if xids is not None:\n",
    "    for i in range(len(xids)):\n",
    "        #print(str(xids[i][0]).split(' ')[4])\n",
    "        try:        \n",
    "            urls.append(str(xids[i][0]).split(' ')[4])\n",
    "            objids.append(str(xids[i][0]).split(' ')[7])\n",
    "            p.append( (str(xids[i][0]).split(' ')[4]).split('-')[1] )\n",
    "            m.append( (str(xids[i][0]).split(' ')[4]).split('-')[2] )\n",
    "            f.append( ((str(xids[i][0]).split(' ')[4]).split('-')[3]).split('.')[0] )\n",
    "        except:\n",
    "            pass\n",
    "    \n",
    "    wds['objectID'] = objids\n",
    "    wds['plate'] = p\n",
    "    wds['mjd'] = m\n",
    "    wds['fiberID'] = f\n",
    "    wds['fits'] = urls\n",
    "    \n",
    "    white_dwarf = pd.DataFrame.from_dict(wds)\n",
    "    white_dwarf.to_csv('data/white_dwarves.dat')\n",
    "else:\n",
    "    try:\n",
    "        white_dwarf = pd.read_csv('data/white_dwarves/dat')\n",
    "    except:\n",
    "        pass"
   ]
  },
  {
   "cell_type": "code",
   "execution_count": 37,
   "metadata": {},
   "outputs": [
    {
     "data": {
      "text/plain": [
       "'   3019779622465202176'"
      ]
     },
     "execution_count": 37,
     "metadata": {},
     "output_type": "execute_result"
    }
   ],
   "source": [
    "from astropy.io import fits\n",
    "star = fits.open(url)\n",
    "\n",
    "star[0].header['SPEC_ID']"
   ]
  },
  {
   "cell_type": "code",
   "execution_count": 41,
   "metadata": {},
   "outputs": [
    {
     "data": {
      "text/html": [
       "<div>\n",
       "<style scoped>\n",
       "    .dataframe tbody tr th:only-of-type {\n",
       "        vertical-align: middle;\n",
       "    }\n",
       "\n",
       "    .dataframe tbody tr th {\n",
       "        vertical-align: top;\n",
       "    }\n",
       "\n",
       "    .dataframe thead th {\n",
       "        text-align: right;\n",
       "    }\n",
       "</style>\n",
       "<table border=\"1\" class=\"dataframe\">\n",
       "  <thead>\n",
       "    <tr style=\"text-align: right;\">\n",
       "      <th></th>\n",
       "      <th>specObjID</th>\n",
       "      <th>bestObjID</th>\n",
       "      <th>mjd</th>\n",
       "      <th>plate</th>\n",
       "      <th>fiberID</th>\n",
       "      <th>z</th>\n",
       "    </tr>\n",
       "  </thead>\n",
       "  <tbody>\n",
       "    <tr>\n",
       "      <th>0</th>\n",
       "      <td>3154868093696632832</td>\n",
       "      <td>1237663268796432489</td>\n",
       "      <td>54326</td>\n",
       "      <td>2802</td>\n",
       "      <td>351</td>\n",
       "      <td>-0.0001514952</td>\n",
       "    </tr>\n",
       "    <tr>\n",
       "      <th>1</th>\n",
       "      <td>3154870567597795328</td>\n",
       "      <td>1237663268796432699</td>\n",
       "      <td>54326</td>\n",
       "      <td>2802</td>\n",
       "      <td>360</td>\n",
       "      <td>-6.223064E-05</td>\n",
       "    </tr>\n",
       "    <tr>\n",
       "      <th>2</th>\n",
       "      <td>3154870017841981440</td>\n",
       "      <td>1237663268796497989</td>\n",
       "      <td>54326</td>\n",
       "      <td>2802</td>\n",
       "      <td>358</td>\n",
       "      <td>-8.696781E-05</td>\n",
       "    </tr>\n",
       "    <tr>\n",
       "      <th>3</th>\n",
       "      <td>3154868918330353664</td>\n",
       "      <td>1237663268796498001</td>\n",
       "      <td>54326</td>\n",
       "      <td>2802</td>\n",
       "      <td>354</td>\n",
       "      <td>-0.0003906398</td>\n",
       "    </tr>\n",
       "    <tr>\n",
       "      <th>4</th>\n",
       "      <td>3154866719307098112</td>\n",
       "      <td>1237663268796498065</td>\n",
       "      <td>54326</td>\n",
       "      <td>2802</td>\n",
       "      <td>346</td>\n",
       "      <td>-0.000104708</td>\n",
       "    </tr>\n",
       "  </tbody>\n",
       "</table>\n",
       "</div>"
      ],
      "text/plain": [
       "             specObjID            bestObjID    mjd plate fiberID  \\\n",
       "0  3154868093696632832  1237663268796432489  54326  2802     351   \n",
       "1  3154870567597795328  1237663268796432699  54326  2802     360   \n",
       "2  3154870017841981440  1237663268796497989  54326  2802     358   \n",
       "3  3154868918330353664  1237663268796498001  54326  2802     354   \n",
       "4  3154866719307098112  1237663268796498065  54326  2802     346   \n",
       "\n",
       "               z  \n",
       "0  -0.0001514952  \n",
       "1  -6.223064E-05  \n",
       "2  -8.696781E-05  \n",
       "3  -0.0003906398  \n",
       "4   -0.000104708  "
      ]
     },
     "execution_count": 41,
     "metadata": {},
     "output_type": "execute_result"
    }
   ],
   "source": [
    "#!{sys.executable} -m pip install sdss\n",
    "import sdss\n",
    "\n",
    "sql = \"\"\"SELECT TOP 5\n",
    "specObjID, bestObjID, mjd, plate, fiberID, z\n",
    "FROM SpecObj\"\"\"\n",
    "\n",
    "df2 = sdss.sql2df(sql)\n",
    "df2"
   ]
  },
  {
   "cell_type": "code",
   "execution_count": null,
   "metadata": {},
   "outputs": [],
   "source": [
    "##### https://www.sdss.org/dr17/spectro/spectro_basics/\n",
    "# https://data.sdss.org/datamodel/files/SPECTRO_REDUX/RUN2D/PLATE4/spCFrame.html\n",
    "\n",
    "header = star[1].header\n",
    "data = star[1].data\n",
    "\n",
    "wavelength = 10**data['loglam']\n",
    "flux = data['flux']\n",
    "ivar = data['ivar']\n",
    "\n",
    "plt.figure(figsize=(20,8))\n",
    "\n",
    "plt.plot(wavelength, flux)\n",
    "plt.grid()\n",
    "plt.ylabel(r'Flux [$10^{-17}$ ergs/s/cm2/A]')\n",
    "plt.xlabel(r'Wavelength [A]')\n",
    "plt.title('White Dwarf Light Curve')\n",
    "ax = plt.gca()\n",
    "\n",
    "plt.show()"
   ]
  },
  {
   "cell_type": "code",
   "execution_count": null,
   "metadata": {},
   "outputs": [],
   "source": [
    "from lmfit.models import GaussianModel, ConstantModel\n",
    "\n",
    "ha = np.where(np.logical_and([wavelength > 6500], [wavelength < 6630]))[1]\n",
    "\n",
    "x = wavelength[ha]\n",
    "y = flux[ha]\n",
    "\n",
    "model = (ConstantModel(prefix='offset_') +\n",
    "         GaussianModel(prefix='p_'))\n",
    "\n",
    "params = model.make_params(offset_c=350, p_amplitude=-300., p_sigma=100, p_center=6550) \n",
    "init = model.eval(params, x=x)\n",
    "result = model.fit(y, params, x=x)\n",
    "\n",
    "print(result.fit_report())\n",
    "\n",
    "plt.figure(figsize=(15,6))\n",
    "\n",
    "plt.plot(wavelength[ha], flux[ha], label='Spectrum Data')\n",
    "plt.plot(wavelength[ha], result.best_fit, c='black', label='Gaussian Fit')\n",
    "plt.xlim((6500,6630))\n",
    "#plt.ylim((150,400))\n",
    "plt.grid()\n",
    "plt.ylabel(r'Flux [$10^{-17}$ ergs/s/cm2/A]')\n",
    "plt.xlabel(r'Wavelength [A]')\n",
    "plt.title(r'White Dwarf $H\\alpha$ Absorbtion Line')\n",
    "ax = plt.gca()\n",
    "\n",
    "plt.legend()\n",
    "plt.show()"
   ]
  },
  {
   "cell_type": "code",
   "execution_count": null,
   "metadata": {},
   "outputs": [],
   "source": [
    "c = 299792458 #m/s\n",
    "h_alpha = 6564.61\n",
    "\n",
    "lambda_obs = result.params['p_center'].value\n",
    "dlambda_obs = result.params['p_center'].stderr\n",
    "\n",
    "v_app = c * ((lambda_obs - h_alpha) / h_alpha) * 1e-3\n",
    "dv_app = np.abs(v_app * 1e3) * np.sqrt((dlambda_obs / lambda_obs)**2 )\n",
    "\n",
    "print('Observed speed by redshift: %.2f +/- %.2f km/s' % (v_app, dv_app))"
   ]
  },
  {
   "cell_type": "code",
   "execution_count": null,
   "metadata": {},
   "outputs": [],
   "source": [
    "from astropy.io import fits\n",
    "import matplotlib.pyplot as plt\n",
    "import numpy as np\n",
    "#!{sys.executable} -m pip install tensorflow\n",
    "\n",
    "\n",
    "import sys\n",
    "sys.path.append('../wdtools') # Your path should contain the parent GitHub repository"
   ]
  },
  {
   "cell_type": "code",
   "execution_count": null,
   "metadata": {},
   "outputs": [],
   "source": [
    "import wdtools\n",
    "\n",
    "gfp = wdtools.GFP(resolution = 2, specclass = 'DA')\n",
    "\n",
    "labels, e_labels, redchi = gfp.fit_spectrum(wavelength, flux, ivar,\n",
    "                                mcmc = True, nwalkers = 25, burn = 50, ndraws = 50,\n",
    "                                plot_init = True, make_plot = True, plot_corner = True, savename = 'example',\n",
    "                                verbose = True,\n",
    "                                lines = ['beta', 'gamma', 'delta', 'eps', 'h8'])"
   ]
  },
  {
   "cell_type": "code",
   "execution_count": null,
   "metadata": {},
   "outputs": [],
   "source": [
    "sp = wdtools.SpecTools()\n",
    "\n",
    "rv, e_rv = sp.get_line_rv(wavelength, flux, ivar, centroid = h_alpha,\n",
    "                          distance = 100, edge = 15,\n",
    "                          nmodel = 2, plot = True)"
   ]
  },
  {
   "cell_type": "code",
   "execution_count": null,
   "metadata": {},
   "outputs": [],
   "source": [
    "print('Observed speed by redshift (WDTools): %.2f +/- %.2f km/s' % (rv, e_rv))\n",
    "print('Observed speed by redshift (Gaussian): %.2f +/- %.2f km/s' % (v_app, dv_app))"
   ]
  },
  {
   "cell_type": "code",
   "execution_count": null,
   "metadata": {},
   "outputs": [],
   "source": [
    "print('Teff = %i ± %i Kelvin' % (labels[0], e_labels[0]))\n",
    "print('logg = %.2f ± %.2f log[cm/s^2]' % (labels[1], e_labels[1]))\n",
    "print('RV = %.1f ± %.1f km/s' % (labels[2], e_labels[2]))\n",
    "print('reduced chi^2 = %.2f' % (redchi))"
   ]
  },
  {
   "cell_type": "code",
   "execution_count": null,
   "metadata": {},
   "outputs": [],
   "source": []
  }
 ],
 "metadata": {
  "kernelspec": {
   "display_name": "Python 3 (ipykernel)",
   "language": "python",
   "name": "python3"
  },
  "language_info": {
   "codemirror_mode": {
    "name": "ipython",
    "version": 3
   },
   "file_extension": ".py",
   "mimetype": "text/x-python",
   "name": "python",
   "nbconvert_exporter": "python",
   "pygments_lexer": "ipython3",
   "version": "3.9.7"
  }
 },
 "nbformat": 4,
 "nbformat_minor": 4
}
