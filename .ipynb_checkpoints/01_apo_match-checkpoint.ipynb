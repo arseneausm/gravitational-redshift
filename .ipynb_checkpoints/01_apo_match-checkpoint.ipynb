{
 "cells": [
  {
   "cell_type": "code",
   "execution_count": 7,
   "metadata": {},
   "outputs": [],
   "source": [
    "### General\n",
    "import numpy as np\n",
    "import matplotlib.pyplot as plt\n",
    "import matplotlib.colors as colors\n",
    "\n",
    "from astropy.io import fits\n",
    "from astropy.table import Table, Column, MaskedColumn, join, unique\n",
    "from astropy.table import *\n",
    "\n",
    "from astropy.coordinates import SkyCoord\n",
    "from astropy import table\n",
    "import astropy.units as u\n",
    "\n",
    "from tqdm import tqdm\n",
    "import pandas as pd\n",
    "import glob"
   ]
  },
  {
   "cell_type": "code",
   "execution_count": 4,
   "metadata": {},
   "outputs": [],
   "source": [
    "ms_files = glob.glob('apo/process_ms/*')\n",
    "wd_files = glob.glob('apo/process_wd/*')"
   ]
  },
  {
   "cell_type": "code",
   "execution_count": 6,
   "metadata": {},
   "outputs": [
    {
     "data": {
      "text/plain": [
       "['apo/process_wd/WD1928-1252.fits',\n",
       " 'apo/process_wd/WD1931+2109.fits',\n",
       " 'apo/process_wd/WD1847+1811.fits',\n",
       " 'apo/process_wd/WD0650+3754.fits']"
      ]
     },
     "execution_count": 6,
     "metadata": {},
     "output_type": "execute_result"
    }
   ],
   "source": [
    "ms_table = Table()\n",
    "wd_table = Table()\n",
    "\n",
    "ms_loc = []\n",
    "wd_loc = []\n",
    "\n",
    "for file in ms_file:\n",
    "    temp = fits.open(file)\n",
    "    ms_loc.append(SkyCoord(temp[0].header['RA'], temp[0].header['DEC'], unit='deg'))"
   ]
  },
  {
   "cell_type": "code",
   "execution_count": null,
   "metadata": {},
   "outputs": [],
   "source": []
  }
 ],
 "metadata": {
  "kernelspec": {
   "display_name": "Python 3",
   "language": "python",
   "name": "python3"
  },
  "language_info": {
   "codemirror_mode": {
    "name": "ipython",
    "version": 3
   },
   "file_extension": ".py",
   "mimetype": "text/x-python",
   "name": "python",
   "nbconvert_exporter": "python",
   "pygments_lexer": "ipython3",
   "version": "3.8.3"
  }
 },
 "nbformat": 4,
 "nbformat_minor": 4
}
