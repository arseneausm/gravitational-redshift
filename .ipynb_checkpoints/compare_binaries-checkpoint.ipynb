{
 "cells": [
  {
   "cell_type": "code",
   "execution_count": null,
   "id": "8939927b-2f01-4283-ad37-ba5eb7273743",
   "metadata": {},
   "outputs": [],
   "source": [
    "# Install a pip package in the current Jupyter kernel\n",
    "import sys\n",
    "sys.path.append('../wdtools')\n",
    "sys.path.append('../src')\n",
    "\n",
    "### General\n",
    "import numpy as np\n",
    "import matplotlib.pyplot as plt\n",
    "import matplotlib.colors as colors\n",
    "from astropy.io import fits\n",
    "from tqdm import tqdm\n",
    "import pandas as pd\n",
    "\n",
    "### Tools\n",
    "from astropy.io import fits\n",
    "import wdtools\n",
    "import data_selector as ds"
   ]
  },
  {
   "cell_type": "code",
   "execution_count": null,
   "id": "989f2a04-7ad4-4641-982e-fe74740b44ef",
   "metadata": {
    "tags": []
   },
   "outputs": [],
   "source": [
    "lines = [6562.79, 4861.35, 4340.47, 4101.73, 3970.07, 3889.06, 3835.40, 5893]\n",
    "\n",
    "catalog = ds.get_catalog('data/catalog_sdss4.csv')\n",
    "#ds.plot_binary_spectra(catalog, lines, 'sdss4')"
   ]
  },
  {
   "cell_type": "code",
   "execution_count": null,
   "id": "5701075c-8e3d-43d7-9b54-a344ad003997",
   "metadata": {},
   "outputs": [],
   "source": [
    "print(catalog)"
   ]
  },
  {
   "cell_type": "code",
   "execution_count": null,
   "id": "f5dd5178-0172-41f6-9fad-c43bbe8bc2c6",
   "metadata": {
    "tags": []
   },
   "outputs": [],
   "source": [
    "rvs1, e_rvs1 = [], []\n",
    "rvs2, e_rvs2 = [], []\n",
    "\n",
    "wd_pos = [1,2,1,1,2,1,2,2,1,2,2,2,2,2]\n",
    "\n",
    "lines = {'HI' : 6562.79, 'HII' : 4861.35, 'HIII' : 4340.47,\n",
    "         'NaI' : 5893, 'MgI' : 5175}\n",
    "\n",
    "spectral_types = {'O' : ['H', 'HeI', 'HeII'],\n",
    "                  'B' : ['H', 'HeI'],\n",
    "                  'A' : ['H', 'CaII'],\n",
    "                  'F' : ['H', 'CaII', 'Fe', 'Na'],\n",
    "                  'G' : [],\n",
    "                  'K' : [],\n",
    "                  'M' : [],\n",
    "                  'WD' : []}\n",
    "\n",
    "for i in range(len(catalog)):\n",
    "    line = 'NaI'\n",
    "    \n",
    "    sp = wdtools.SpecTools()\n",
    "\n",
    "    h_alpha = 6562.79\n",
    "    na_alpha = 5893\n",
    "    \n",
    "    if wd_pos[i] == 1:\n",
    "        line1 = lines['HI']\n",
    "        line2 = lines[line]\n",
    "    else:\n",
    "        line1 = lines[line]\n",
    "        line2 = lines['HI']\n",
    "        \n",
    "    rv1, e_rv1 = sp.get_line_rv(catalog['wavelength1'][i], catalog['flux1'][i], catalog['ivar1'][i], centroid = line1,\n",
    "                              distance = 100, edge = 15,\n",
    "                              nmodel = 2, plot = False)\n",
    "    rv2, e_rv2 = sp.get_line_rv(catalog['wavelength2'][i], catalog['flux2'][i], catalog['ivar2'][i], centroid = line2,\n",
    "                              distance = 100, edge = 15,\n",
    "                              nmodel = 2, plot = False)\n",
    "        \n",
    "    rvs1.append(rv1)\n",
    "    e_rvs1.append(e_rv1)\n",
    "    rvs2.append(rv2)\n",
    "    e_rvs2.append(e_rv2)"
   ]
  },
  {
   "cell_type": "code",
   "execution_count": null,
   "id": "eb51cf9e-609e-4c78-b726-f03685088de0",
   "metadata": {
    "tags": []
   },
   "outputs": [],
   "source": [
    "na_good_fit = [0,0,0,0,0,0,1,1,0,1,0,1,1,0]\n",
    "\n",
    "na_rvs = pd.DataFrame({'rv1' : rvs1, 'e_rv1' : e_rvs1, 'rv2' : rvs2, 'e_rv2' : e_rvs2, 'grav_redshift' : np.abs(np.array(rvs1) - np.array(rvs2)), 'consistent' : na_good_fit})"
   ]
  },
  {
   "cell_type": "code",
   "execution_count": null,
   "id": "d4b8849c-1e9c-406c-a2c8-78cc0e833cce",
   "metadata": {},
   "outputs": [],
   "source": [
    "rvs1, e_rvs1 = [], []\n",
    "rvs2, e_rvs2 = [], []\n",
    "\n",
    "for i in range(len(catalog)):\n",
    "    line = 'MgI'\n",
    "    \n",
    "    sp = wdtools.SpecTools()\n",
    "\n",
    "    h_alpha = 6562.79\n",
    "    na_alpha = 5893\n",
    "    \n",
    "    if wd_pos[i] == 1:\n",
    "        line1 = lines['HI']\n",
    "        line2 = lines[line]\n",
    "    else:\n",
    "        line1 = lines[line]\n",
    "        line2 = lines['HI']\n",
    "        \n",
    "    rv1, e_rv1 = sp.get_line_rv(catalog['wavelength1'][i], catalog['flux1'][i], catalog['ivar1'][i], centroid = line1,\n",
    "                              distance = 100, edge = 15,\n",
    "                              nmodel = 2, plot = False)\n",
    "    rv2, e_rv2 = sp.get_line_rv(catalog['wavelength2'][i], catalog['flux2'][i], catalog['ivar2'][i], centroid = line2,\n",
    "                              distance = 100, edge = 15,\n",
    "                              nmodel = 2, plot = False)\n",
    "        \n",
    "    rvs1.append(rv1)\n",
    "    e_rvs1.append(e_rv1)\n",
    "    rvs2.append(rv2)\n",
    "    e_rvs2.append(e_rv2)"
   ]
  },
  {
   "cell_type": "code",
   "execution_count": null,
   "id": "02b0a115-c0cf-4531-8fcd-af25f8f4a78d",
   "metadata": {},
   "outputs": [],
   "source": [
    "mg_good_fit = [0,0,0,0,0,0,1,1,0,1,0,1,1,0]\n",
    "\n",
    "mg_rvs = pd.DataFrame({'rv1' : rvs1, 'e_rv1' : e_rvs1, 'rv2' : rvs2, 'e_rv2' : e_rvs2, 'grav_redshift' : np.abs(np.array(rvs1) - np.array(rvs2)), 'consistent' : mg_good_fit})"
   ]
  },
  {
   "cell_type": "code",
   "execution_count": null,
   "id": "5eeec8fd-f46f-4964-8a98-20e8bbfcac07",
   "metadata": {
    "tags": []
   },
   "outputs": [],
   "source": [
    "print(na_rvs)\n",
    "print(mg_rvs)"
   ]
  },
  {
   "cell_type": "code",
   "execution_count": null,
   "id": "fa644687-3e4c-492a-a40b-d6b3790ee49d",
   "metadata": {},
   "outputs": [],
   "source": []
  },
  {
   "cell_type": "code",
   "execution_count": null,
   "id": "9bf9a40d-f639-4883-a33f-cede97146b32",
   "metadata": {},
   "outputs": [],
   "source": []
  },
  {
   "cell_type": "code",
   "execution_count": null,
   "id": "4f1aaab5-1b59-45d8-ad00-5cd54923e858",
   "metadata": {},
   "outputs": [],
   "source": []
  }
 ],
 "metadata": {
  "kernelspec": {
   "display_name": "Python 3 (ipykernel)",
   "language": "python",
   "name": "python3"
  },
  "language_info": {
   "codemirror_mode": {
    "name": "ipython",
    "version": 3
   },
   "file_extension": ".py",
   "mimetype": "text/x-python",
   "name": "python",
   "nbconvert_exporter": "python",
   "pygments_lexer": "ipython3",
   "version": "3.9.7"
  }
 },
 "nbformat": 4,
 "nbformat_minor": 5
}
