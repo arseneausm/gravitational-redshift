{
 "cells": [
  {
   "cell_type": "code",
   "execution_count": null,
   "id": "8939927b-2f01-4283-ad37-ba5eb7273743",
   "metadata": {},
   "outputs": [],
   "source": [
    "# Install a pip package in the current Jupyter kernel\n",
    "import sys\n",
    "sys.path.append('../wdtools')\n",
    "\n",
    "### General\n",
    "import numpy as np\n",
    "import matplotlib.pyplot as plt\n",
    "import matplotlib.colors as colors\n",
    "from astropy.io import fits\n",
    "from tqdm import tqdm\n",
    "import pandas as pd\n",
    "\n",
    "### Query\n",
    "from astropy.io import fits\n",
    "import wdtools"
   ]
  },
  {
   "cell_type": "code",
   "execution_count": null,
   "id": "989f2a04-7ad4-4641-982e-fe74740b44ef",
   "metadata": {},
   "outputs": [],
   "source": [
    "wide_binaries = pd.read_csv('data/wide_binaries.csv')\n",
    "\n",
    "wd_url = wide_binaries['url'][0]\n",
    "ms_url = wide_binaries['mainseq_url'][0]\n",
    "\n",
    "wd_star = fits.open(wd_url)\n",
    "ms_star = fits.open(ms_url)\n",
    "\n",
    "wd_header = wd_star[1].header\n",
    "wd_data = wd_star[1].data\n",
    "\n",
    "ms_header = ms_star[1].header\n",
    "ms_data = ms_star[1].data\n",
    "\n",
    "wd_wavelength = 10**wd_data['loglam']\n",
    "wd_flux = wd_data['flux']\n",
    "wd_ivar = wd_data['ivar']\n",
    "\n",
    "ms_wavelength = 10**ms_data['loglam']\n",
    "ms_flux = ms_data['flux']\n",
    "ms_ivar = ms_data['ivar']"
   ]
  },
  {
   "cell_type": "code",
   "execution_count": null,
   "id": "f5dd5178-0172-41f6-9fad-c43bbe8bc2c6",
   "metadata": {},
   "outputs": [],
   "source": [
    "sp = wdtools.SpecTools()\n",
    "\n",
    "h_alpha = 6562.79\n",
    "\n",
    "wrv, e_rv = sp.get_line_rv(wd_wavelength, wd_flux, wd_ivar, centroid = h_alpha,\n",
    "                          distance = 100, edge = 15,\n",
    "                          nmodel = 2, plot = True)\n",
    "\n",
    "print(wrv)"
   ]
  },
  {
   "cell_type": "code",
   "execution_count": null,
   "id": "b70787eb-578a-4476-8d59-4fc2622ce2d0",
   "metadata": {},
   "outputs": [],
   "source": [
    "mrv, e_rv = sp.get_line_rv(ms_wavelength, ms_flux, ms_ivar, centroid = h_alpha,\n",
    "                          distance = 100, edge = 15,\n",
    "                          nmodel = 2, plot = True)\n",
    "\n",
    "print(mrv)"
   ]
  },
  {
   "cell_type": "code",
   "execution_count": null,
   "id": "eb51cf9e-609e-4c78-b726-f03685088de0",
   "metadata": {},
   "outputs": [],
   "source": []
  }
 ],
 "metadata": {
  "kernelspec": {
   "display_name": "Python 3 (ipykernel)",
   "language": "python",
   "name": "python3"
  },
  "language_info": {
   "codemirror_mode": {
    "name": "ipython",
    "version": 3
   },
   "file_extension": ".py",
   "mimetype": "text/x-python",
   "name": "python",
   "nbconvert_exporter": "python",
   "pygments_lexer": "ipython3",
   "version": "3.9.7"
  }
 },
 "nbformat": 4,
 "nbformat_minor": 5
}
