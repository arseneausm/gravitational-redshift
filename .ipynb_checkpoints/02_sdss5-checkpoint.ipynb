{
 "cells": [
  {
   "cell_type": "code",
   "execution_count": 101,
   "id": "f8e37f8c-248e-478e-881d-f566162b6368",
   "metadata": {},
   "outputs": [
    {
     "ename": "SyntaxError",
     "evalue": "from __future__ imports must occur at the beginning of the file (photoradius.py, line 35)",
     "output_type": "error",
     "traceback": [
      "Traceback \u001b[0;36m(most recent call last)\u001b[0m:\n",
      "  File \u001b[1;32m~/anaconda3/lib/python3.8/site-packages/IPython/core/interactiveshell.py:3397\u001b[0m in \u001b[1;35mrun_code\u001b[0m\n    exec(code_obj, self.user_global_ns, self.user_ns)\n",
      "\u001b[0;36m  Input \u001b[0;32mIn [101]\u001b[0;36m in \u001b[0;35m<cell line: 21>\u001b[0;36m\u001b[0m\n\u001b[0;31m    import photoradius as pr\u001b[0m\n",
      "\u001b[0;36m  File \u001b[0;32m~/Documents/zakamska/gravitational-redshift/photoradius.py:35\u001b[0;36m\u001b[0m\n\u001b[0;31m    from __future__ import print_function\u001b[0m\n\u001b[0m    ^\u001b[0m\n\u001b[0;31mSyntaxError\u001b[0m\u001b[0;31m:\u001b[0m from __future__ imports must occur at the beginning of the file\n"
     ]
    }
   ],
   "source": [
    "from sklearn.cluster import KMeans\n",
    "import numpy as np\n",
    "import scipy as sp\n",
    "import sys\n",
    "sys.path.append('../corv/src')\n",
    "sys.path.append('../wdtools')\n",
    "\n",
    "import matplotlib.pyplot as plt\n",
    "import matplotlib.colors as colors\n",
    "from astropy.io import fits\n",
    "from astropy.table import Table\n",
    "from tqdm import tqdm\n",
    "import pandas as pd\n",
    "import corv\n",
    "\n",
    "### Query\n",
    "from astroquery.sdss import SDSS\n",
    "from astroquery.gaia import Gaia\n",
    "from astropy import constants as c\n",
    "import data_selector as ds\n",
    "import photoradius as pr\n",
    "\n",
    "import wdtools\n",
    "import corv\n"
   ]
  },
  {
   "cell_type": "code",
   "execution_count": 46,
   "id": "d77aadd7-61d5-4ecf-aa3f-779dcd988596",
   "metadata": {},
   "outputs": [
    {
     "name": "stdout",
     "output_type": "stream",
     "text": [
      "2000\n"
     ]
    }
   ],
   "source": [
    "d1 = pd.read_csv('data/wd_spectra.csv')\n",
    "d1 = Table.from_pandas(d1)\n",
    "\n",
    "catalog = Table.read('data/00_raw.fits')\n",
    "print(len(catalog))"
   ]
  },
  {
   "cell_type": "code",
   "execution_count": 81,
   "id": "a5274229-486d-4132-84fc-b8e318e8765d",
   "metadata": {},
   "outputs": [],
   "source": [
    "spAll = Table.read('~/Downloads/spAll-master.fits')"
   ]
  },
  {
   "cell_type": "code",
   "execution_count": 82,
   "id": "7f9070f8-8608-4c4a-af63-660958a6e7d9",
   "metadata": {},
   "outputs": [],
   "source": [
    "from astropy.coordinates import SkyCoord\n",
    "import astropy.units as u\n",
    "from astropy.table import Table, join_skycoord\n",
    "from astropy import table\n",
    "\n",
    "spAll = spAll[spAll['DECCAT'] < 90]\n",
    "spAll = spAll[spAll['DECCAT'] > -90]\n",
    "\n",
    "catalog['wd_pos'] = SkyCoord(catalog['wd_ra'], catalog['wd_dec'], unit='deg')\n",
    "spAll['wd_pos'] = SkyCoord(spAll['RACAT'], spAll['DECCAT'], unit='deg')\n",
    "\n",
    "join_func = table.join_skycoord(5 * u.arcsecond)\n",
    "sdss5_catalog = table.join(catalog, spAll, join_funcs={'wd_pos': join_skycoord(5 * u.arcsec)})"
   ]
  },
  {
   "cell_type": "code",
   "execution_count": 83,
   "id": "7d44f59f-0655-4bc2-b6ed-2ad9e9405366",
   "metadata": {},
   "outputs": [
    {
     "name": "stdout",
     "output_type": "stream",
     "text": [
      "wd_pos_id               wd_pos_1                             wd_pos_2              \n",
      "                        deg,deg                              deg,deg               \n",
      "--------- ------------------------------------ ------------------------------------\n",
      "        1  282.1747104774862,68.87804564364284          282.174680344,68.8780229646\n",
      "        2 284.52493807473326,66.05268178807823      284.5249395214,66.0526791739852\n",
      "        2 284.52493807473326,66.05268178807823      284.5249395214,66.0526791739852\n",
      "        2 284.52493807473326,66.05268178807823      284.5249395214,66.0526791739852\n",
      "        3  281.4294963919218,74.08789889865731          281.429494226,74.0878878168\n",
      "        4 185.94371024645676,87.09999474037326          185.943708498,87.0999923404\n",
      "        4 185.94371024645676,87.09999474037326          185.943708498,87.0999923404\n",
      "        5 312.72058442248834,66.71598920244894    312.720590624137,66.7159929242298\n",
      "        6  274.7350388022228,60.88033244215783    274.735038716684,60.8803310104051\n",
      "        6  274.7350388022228,60.88033244215783    274.735038716684,60.8803310104051\n",
      "      ...                                  ...                                  ...\n",
      "       13 241.52613666214512,70.37403021761291 241.52612334002347,70.37403395175468\n",
      "       13 241.52613666214512,70.37403021761291 241.52612334002347,70.37403395175468\n",
      "       13 241.52613666214512,70.37403021761291 241.52612334002347,70.37403395175468\n",
      "       13 241.52613666214512,70.37403021761291 241.52612334002347,70.37403395175468\n",
      "       14  322.6697690958927,61.93635393308343    322.669769587731,61.9363555801368\n",
      "       15 264.34203433920226,66.91500307621253          264.342018879,66.9150000221\n",
      "       15 264.34203433920226,66.91500307621253    264.342018879176,66.9150000220783\n",
      "       15 264.34203433920226,66.91500307621253          264.342018879,66.9150000221\n",
      "       16  127.6240841848986,8.837161152356883          127.624082481,8.83716572825\n",
      "       17  138.1898762950489,10.41257020188842          138.189885904,10.4125670605\n",
      "       18  222.986857456024,2.0130102582343743    222.986860167127,2.01301148825595\n",
      "Length = 35 rows\n"
     ]
    }
   ],
   "source": [
    "print(sdss5_catalog[['wd_pos_id', 'wd_pos_1', 'wd_pos_2']])"
   ]
  },
  {
   "cell_type": "code",
   "execution_count": 100,
   "id": "e442c96b-70fa-4817-ba9f-324083e4c0df",
   "metadata": {},
   "outputs": [
    {
     "name": "stdout",
     "output_type": "stream",
     "text": [
      "wd_pos_id      SPECOBJID              wd_l               wd_b           ms_parallax              UGRIZ                    e_UGRIZ          \n",
      "--------- -------------------- ------------------ ------------------ ------------------ ----------------------- ---------------------------\n",
      "        2 12477232001541210112  96.57174532865643  23.96843052460913  2.738213871987016   19.49387 .. 19.406057    0.4848647 .. 0.114262275\n",
      "        3 13111272527601074176  105.1146593411351  26.39782466167935  9.702320367699908 15.301553 .. 15.4451885  0.017478643 .. 0.011711083\n",
      "        4 13560354583284285440 123.33498761135516  30.00657714060449  4.226908787600151  19.231672 .. 17.207293    0.8254927 .. 0.058097795\n",
      "        8 16348082752593068032 136.10813211577883 58.342276861618245 14.176921069779738  19.702236 .. 18.584768   0.09984771 .. 0.060990542\n",
      "       10 10271632840479211520    108.91233260924  34.32663534451706  29.86638599720036  14.598547 .. 14.435423 0.004889537 .. 0.0039450955\n",
      "       11 11311921748577878016 109.56035874384273  29.76350793482556  6.656536307620688  22.261707 .. 18.773474      2.8734503 .. 0.0873121\n",
      "       13 12443456103931445248 104.04397379765612 38.823036552320346  27.88190839986685  17.560009 .. 16.039568      0.8152805 .. 0.0198257\n",
      "       15 12473887011754737664  96.92137150246786  32.02560616604592   8.61777564308355   17.036324 .. 16.86749   0.046184976 .. 0.03434555\n",
      "       16 16057727569650253824 216.24965324231744  26.00399798710129  3.696126444436444    17.94417 .. 18.92925    0.06836019 .. 0.07694828\n",
      "       17 13430877192988917760  219.9301510039416  36.05830194394765  7.084758838809717   17.757555 .. 17.14502     0.23088254 .. 1.3983048\n",
      "       18 13775444897106493440   357.049012489253  51.74872389130453  4.902306835787351  19.906334 .. 19.567654      0.4158029 .. 0.0897801\n",
      "wd_pos_id      SPECOBJID              wd_l               wd_b                 UGRIZ             ms_parallax               e_UGRIZ          \n",
      "--------- -------------------- ------------------ ------------------ ----------------------- ------------------ ---------------------------\n",
      "        2 12477232001541210112  96.57174532865643  23.96843052460913   19.49387 .. 19.406057  2.738213871987016    0.4848647 .. 0.114262275\n",
      "        3 13111272527601074176  105.1146593411351  26.39782466167935 15.301553 .. 15.4451885  9.702320367699908  0.017478643 .. 0.011711083\n",
      "        4 13560354583284285440 123.33498761135516  30.00657714060449  19.231672 .. 17.207293  4.226908787600151    0.8254927 .. 0.058097795\n",
      "        8 16348082752593068032 136.10813211577883 58.342276861618245  19.702236 .. 18.584768 14.176921069779738   0.09984771 .. 0.060990542\n",
      "       10 10271632840479211520    108.91233260924  34.32663534451706  14.598547 .. 14.435423  29.86638599720036 0.004889537 .. 0.0039450955\n",
      "       11 11311921748577878016 109.56035874384273  29.76350793482556  22.261707 .. 18.773474  6.656536307620688      2.8734503 .. 0.0873121\n",
      "       13 12443456103931445248 104.04397379765612 38.823036552320346  17.560009 .. 16.039568  27.88190839986685      0.8152805 .. 0.0198257\n",
      "       15 12473887011754737664  96.92137150246786  32.02560616604592   17.036324 .. 16.86749   8.61777564308355   0.046184976 .. 0.03434555\n",
      "       16 16057727569650253824 216.24965324231744  26.00399798710129    17.94417 .. 18.92925  3.696126444436444    0.06836019 .. 0.07694828\n",
      "       17 13430877192988917760  219.9301510039416  36.05830194394765   17.757555 .. 17.14502  7.084758838809717     0.23088254 .. 1.3983048\n",
      "       18 13775444897106493440   357.049012489253  51.74872389130453  19.906334 .. 19.567654  4.902306835787351      0.4158029 .. 0.0897801\n"
     ]
    }
   ],
   "source": [
    "from astropy.table import unique, Table\n",
    "\n",
    "def flux_to_mag(flux):\n",
    "    return 22.5 - 2.5 * np.log10(flux)\n",
    "\n",
    "#sdss5_catalog = sdss5_catalog[sdss5_catalog['CLASS'] == b\"STAR\"]\n",
    "\n",
    "keep = []\n",
    "\n",
    "for i in range(len(sdss5_catalog['CLASS'])):\n",
    "    if (sdss5_catalog['CLASS'][i] == sdss5_catalog['CLASS'][-1]) and ('WD' in sdss5_catalog['SUBCLASS'][i]):\n",
    "        keep.append(1)\n",
    "    else:\n",
    "        keep.append(0)\n",
    "        \n",
    "sdss5_catalog['KEEP'] = keep        \n",
    "sdss5_catalog = sdss5_catalog[sdss5_catalog['KEEP'] == 1]\n",
    "\n",
    "sdss5_catalog['UGRIZ'] = (flux_to_mag(sdss5_catalog['SPECTROFLUX']))\n",
    "sdss5_catalog['e_UGRIZ'] = (1 / sdss5_catalog['SPECTROFLUX_IVAR']) / sdss5_catalog['SPECTROFLUX']\n",
    "\n",
    "sdss5_catalog[['wd_pos_id','SPECOBJID','wd_l', 'wd_b', 'ms_parallax','UGRIZ', 'e_UGRIZ']].pprint(max_lines=-1, max_width=-1)\n",
    "sdss5_catalog = unique(sdss5_catalog, keys=['wd_pos_id'])\n",
    "sdss5_catalog[['wd_pos_id','SPECOBJID','wd_l', 'wd_b','UGRIZ', 'ms_parallax', 'e_UGRIZ']].pprint(max_lines=-1, max_width=-1)"
   ]
  },
  {
   "cell_type": "code",
   "execution_count": 91,
   "id": "894f7a0a-4f88-4492-abc8-664b488b856c",
   "metadata": {},
   "outputs": [
    {
     "name": "stdout",
     "output_type": "stream",
     "text": [
      "['wd_pos_id', 'solution_id1', 'solution_id2', 'source_id1', 'source_id2', 'random_index1', 'random_index2', 'ref_epoch1', 'ref_epoch2', 'ra1', 'ra2', 'ra_error1', 'ra_error2', 'dec1', 'dec2', 'dec_error1', 'dec_error2', 'parallax1', 'parallax2', 'parallax_error1', 'parallax_error2', 'parallax_over_error1', 'parallax_over_error2', 'pm1', 'pm2', 'pmra1', 'pmra2', 'pmra_error1', 'pmra_error2', 'pmdec1', 'pmdec2', 'pmdec_error1', 'pmdec_error2', 'ra_dec_corr1', 'ra_dec_corr2', 'ra_parallax_corr1', 'ra_parallax_corr2', 'ra_pmra_corr1', 'ra_pmra_corr2', 'ra_pmdec_corr1', 'ra_pmdec_corr2', 'dec_parallax_corr1', 'dec_parallax_corr2', 'dec_pmra_corr1', 'dec_pmra_corr2', 'dec_pmdec_corr1', 'dec_pmdec_corr2', 'parallax_pmra_corr1', 'parallax_pmra_corr2', 'parallax_pmdec_corr1', 'parallax_pmdec_corr2', 'pmra_pmdec_corr1', 'pmra_pmdec_corr2', 'astrometric_n_obs_al1', 'astrometric_n_obs_al2', 'astrometric_n_obs_ac1', 'astrometric_n_obs_ac2', 'astrometric_n_good_obs_al1', 'astrometric_n_good_obs_al2', 'astrometric_n_bad_obs_al1', 'astrometric_n_bad_obs_al2', 'astrometric_gof_al1', 'astrometric_gof_al2', 'astrometric_chi2_al1', 'astrometric_chi2_al2', 'astrometric_excess_noise1', 'astrometric_excess_noise2', 'astrometric_excess_noise_sig1', 'astrometric_excess_noise_sig2', 'astrometric_params_solved1', 'astrometric_params_solved2', 'astrometric_primary_flag1', 'astrometric_primary_flag2', 'nu_eff_used_in_astrometry1', 'nu_eff_used_in_astrometry2', 'pseudocolour1', 'pseudocolour2', 'pseudocolour_error1', 'pseudocolour_error2', 'ra_pseudocolour_corr1', 'ra_pseudocolour_corr2', 'dec_pseudocolour_corr1', 'dec_pseudocolour_corr2', 'parallax_pseudocolour_corr1', 'parallax_pseudocolour_corr2', 'pmra_pseudocolour_corr1', 'pmra_pseudocolour_corr2', 'pmdec_pseudocolour_corr1', 'pmdec_pseudocolour_corr2', 'astrometric_matched_transits1', 'astrometric_matched_transits2', 'visibility_periods_used1', 'visibility_periods_used2', 'astrometric_sigma5d_max1', 'astrometric_sigma5d_max2', 'matched_transits1', 'matched_transits2', 'new_matched_transits1', 'new_matched_transits2', 'matched_transits_removed1', 'matched_transits_removed2', 'ipd_gof_harmonic_amplitude1', 'ipd_gof_harmonic_amplitude2', 'ipd_gof_harmonic_phase1', 'ipd_gof_harmonic_phase2', 'ipd_frac_multi_peak1', 'ipd_frac_multi_peak2', 'ipd_frac_odd_win1', 'ipd_frac_odd_win2', 'ruwe1', 'ruwe2', 'scan_direction_strength_k11', 'scan_direction_strength_k12', 'scan_direction_strength_k21', 'scan_direction_strength_k22', 'scan_direction_strength_k31', 'scan_direction_strength_k32', 'scan_direction_strength_k41', 'scan_direction_strength_k42', 'scan_direction_mean_k11', 'scan_direction_mean_k12', 'scan_direction_mean_k21', 'scan_direction_mean_k22', 'scan_direction_mean_k31', 'scan_direction_mean_k32', 'scan_direction_mean_k41', 'scan_direction_mean_k42', 'duplicated_source1', 'duplicated_source2', 'phot_g_n_obs1', 'phot_g_n_obs2', 'phot_g_mean_flux1', 'phot_g_mean_flux2', 'phot_g_mean_flux_error1', 'phot_g_mean_flux_error2', 'phot_g_mean_flux_over_error1', 'phot_g_mean_flux_over_error2', 'phot_g_mean_mag1', 'phot_g_mean_mag2', 'phot_bp_n_obs1', 'phot_bp_n_obs2', 'phot_bp_mean_flux1', 'phot_bp_mean_flux2', 'phot_bp_mean_flux_error1', 'phot_bp_mean_flux_error2', 'phot_bp_mean_flux_over_error1', 'phot_bp_mean_flux_over_error2', 'phot_bp_mean_mag1', 'phot_bp_mean_mag2', 'phot_rp_n_obs1', 'phot_rp_n_obs2', 'phot_rp_mean_flux1', 'phot_rp_mean_flux2', 'phot_rp_mean_flux_error1', 'phot_rp_mean_flux_error2', 'phot_rp_mean_flux_over_error1', 'phot_rp_mean_flux_over_error2', 'phot_rp_mean_mag1', 'phot_rp_mean_mag2', 'phot_bp_n_contaminated_transits1', 'phot_bp_n_contaminated_transits2', 'phot_bp_n_blended_transits1', 'phot_bp_n_blended_transits2', 'phot_rp_n_contaminated_transits1', 'phot_rp_n_contaminated_transits2', 'phot_rp_n_blended_transits1', 'phot_rp_n_blended_transits2', 'phot_proc_mode1', 'phot_proc_mode2', 'phot_bp_rp_excess_factor1', 'phot_bp_rp_excess_factor2', 'bp_rp1', 'bp_rp2', 'bp_g1', 'bp_g2', 'g_rp1', 'g_rp2', 'dr2_radial_velocity1', 'dr2_radial_velocity2', 'dr2_radial_velocity_error1', 'dr2_radial_velocity_error2', 'dr2_rv_nb_transits1', 'dr2_rv_nb_transits2', 'dr2_rv_template_teff1', 'dr2_rv_template_teff2', 'dr2_rv_template_logg1', 'dr2_rv_template_logg2', 'dr2_rv_template_fe_h1', 'dr2_rv_template_fe_h2', 'l1', 'l2', 'b1', 'b2', 'ecl_lon1', 'ecl_lon2', 'ecl_lat1', 'ecl_lat2', 'pairdistance', 'sep_AU', 'binary_type', 'Sigma18', 'R_chance_align', 'dr2_source_id1', 'dr2_source_id2', 'dr2_parallax1', 'dr2_parallax2', 'dr2_parallax_error1', 'dr2_parallax_error2', 'dr2_pmra1', 'dr2_pmra2', 'dr2_pmdec1', 'dr2_pmdec2', 'dr2_pmra_error1', 'dr2_pmra_error2', 'dr2_pmdec_error1', 'dr2_pmdec_error2', 'dr2_ruwe1', 'dr2_ruwe2', 'wd_obj', 'ms_obj', 'ms_source_id', 'wd_source_id', 'ms_parallax', 'wd_parallax', 'ms_parallax_over_error', 'wd_parallax_over_error', 'ms_phot_g_mean_mag', 'wd_phot_g_mean_mag', 'ms_phot_g_mean_flux', 'wd_phot_g_mean_flux', 'ms_phot_g_mean_flux_error', 'wd_phot_g_mean_flux_error', 'ms_phot_bp_mean_mag', 'wd_phot_bp_mean_mag', 'ms_phot_bp_mean_flux', 'wd_phot_bp_mean_flux', 'ms_phot_bp_mean_flux_error', 'wd_phot_bp_mean_flux_error', 'ms_phot_rp_mean_mag', 'wd_phot_rp_mean_mag', 'ms_phot_rp_mean_flux', 'wd_phot_rp_mean_flux', 'ms_phot_rp_mean_flux_error', 'wd_phot_rp_mean_flux_error', 'ms_bp_rp', 'wd_bp_rp', 'ms_ra', 'wd_ra', 'ms_ra_error', 'wd_ra_error', 'ms_dec', 'wd_dec', 'ms_dec_error', 'wd_dec_error', 'ms_l', 'wd_l', 'ms_b', 'wd_b', 'wd_m_g', 'ms_m_g', 'ms_rv', 'ms_erv', 'wd_pos_1', 'PROGRAMNAME', 'SURVEY', 'FIELDQUALITY', 'FIELDSN2', 'EXP_DISP_MED', 'FIBERID_LIST', 'LAMBDA_EFF', 'BLUEFIBER', 'ZOFFSET', 'XFOCAL', 'YFOCAL', 'CALIBFLUX', 'CALIBFLUX_IVAR', 'GAIA_BP', 'GAIA_RP', 'GAIA_G', 'CADENCE', 'FIRSTCARTON', 'CARTON_TO_TARGET_PK', 'RACAT', 'DECCAT', 'COORD_EPOCH', 'PMRA', 'PMDEC', 'PARALLAX', 'CATALOGID', 'FIBER2MAG', 'PSFMAG', 'FIELD', 'DESIGNS', 'CONFIGS', 'NEXP', 'EXPTIME', 'AIRMASS', 'SEEING20', 'SEEING50', 'SEEING80', 'ASSIGNED', 'ON_TARGET', 'VALID', 'HEALPIX', 'HEALPIXGRP', 'HEALPIX_PATH', 'MJD_FINAL', 'MJD_LIST', 'TAI_LIST', 'FIELDSNR2G_LIST', 'FIELDSNR2R_LIST', 'FIELDSNR2I_LIST', 'RA_LIST', 'DEC_LIST', 'MOON_DIST', 'MOON_PHASE', 'EBV', 'EBV_TYPE', 'WISE_MAG', 'TWOMASS_MAG', 'GUVCAT_MAG', 'GAIA_PARALLAX', 'GAIA_PMRA', 'GAIA_PMDEC', 'FIBER_OFFSET', 'SPEC_FILE', 'XCSAO_RV', 'XCSAO_ERV', 'XCSAO_RXC', 'XCSAO_TEFF', 'XCSAO_ETEFF', 'XCSAO_LOGG', 'XCSAO_ELOGG', 'XCSAO_FEH', 'XCSAO_EFEH', 'SDSSV_BOSS_TARGET0', 'MJD', 'TARGET_INDEX', 'RUN2D', 'RUN1D', 'OBJTYPE', 'FIBER_RA', 'FIBER_DEC', 'CLASS', 'SUBCLASS', 'Z', 'Z_ERR', 'RCHI2', 'DOF', 'RCHI2DIFF', 'TFILE', 'TCOLUMN', 'NPOLY', 'THETA', 'VDISP', 'VDISP_ERR', 'VDISPZ', 'VDISPZ_ERR', 'VDISPCHI2', 'VDISPNPIX', 'VDISPDOF', 'WAVEMIN', 'WAVEMAX', 'WCOVERAGE', 'ZWARNING', 'SN_MEDIAN', 'SN_MEDIAN_ALL', 'CHI68P', 'FRACNSIGMA', 'FRACNSIGHI', 'FRACNSIGLO', 'SPECTROFLUX', 'SPECTROFLUX_IVAR', 'SPECTROSYNFLUX', 'SPECTROSYNFLUX_IVAR', 'SPECTROSKYFLUX', 'ANYANDMASK', 'ANYORMASK', 'SPEC1_G', 'SPEC1_R', 'SPEC1_I', 'ELODIE_FILENAME', 'ELODIE_OBJECT', 'ELODIE_SPTYPE', 'ELODIE_BV', 'ELODIE_TEFF', 'ELODIE_LOGG', 'ELODIE_FEH', 'ELODIE_Z', 'ELODIE_Z_ERR', 'ELODIE_Z_MODELERR', 'ELODIE_RCHI2', 'ELODIE_DOF', 'Z_NOQSO', 'Z_ERR_NOQSO', 'ZNUM_NOQSO', 'ZWARNING_NOQSO', 'CLASS_NOQSO', 'SUBCLASS_NOQSO', 'RCHI2DIFF_NOQSO', 'SPECOBJID', 'wd_pos_2', 'KEEP', 'UGRIZ']\n"
     ]
    }
   ],
   "source": [
    "print(sdss5_catalog.keys())"
   ]
  },
  {
   "cell_type": "code",
   "execution_count": null,
   "id": "5acf3e52-ce94-43d5-a809-7ef38b5a7a56",
   "metadata": {},
   "outputs": [],
   "source": []
  }
 ],
 "metadata": {
  "kernelspec": {
   "display_name": "Python 3 (ipykernel)",
   "language": "python",
   "name": "python3"
  },
  "language_info": {
   "codemirror_mode": {
    "name": "ipython",
    "version": 3
   },
   "file_extension": ".py",
   "mimetype": "text/x-python",
   "name": "python",
   "nbconvert_exporter": "python",
   "pygments_lexer": "ipython3",
   "version": "3.8.3"
  }
 },
 "nbformat": 4,
 "nbformat_minor": 5
}
