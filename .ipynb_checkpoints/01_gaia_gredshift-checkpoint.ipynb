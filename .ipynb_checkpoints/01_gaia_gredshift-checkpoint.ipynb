{
 "cells": [
  {
   "cell_type": "markdown",
   "id": "3b24ef29",
   "metadata": {},
   "source": [
    "# Select White Dwarf-Main Sequence Wide Binaries\n",
    "---\n",
    "\n",
    "In this notebook, I use the [Gaia Data Release 3](https://arxiv.org/pdf/2206.05989.pdf) catalog as well as [Kareem El-Badry's catalog of one million wide binaries from Gaia DR2](https://arxiv.org/pdf/2101.05282.pdf) to obtain measurements of radial velocities from binary systems that consist of one white dwarf and one main sequence star. Radial velocities of main sequence stars in this notebook come from Gaia DR3 with some cuts made to ensure that we get good data, which will be described below. White dwarf radial velocities come from [this paper's first table](https://ui.adsabs.harvard.edu/abs/2017MNRAS.469.2102A/abstract) which gives the radial velocities of white dwarfs as well as an attempt at a gravitational redshift correction. The structure of this notebook is as follows:\n",
    "\n",
    "1. Reading in data and building an initial catalog from El-Badry's catalog and Gaia DR3\n",
    "2. Identifying which object in the El-Badry pairs is the white dwarf and which one is the main sequence star\n",
    "3. Obtaining the radial velocity measurement of the white dwarfs from Anguiano, et al.\n",
    "4. Obtaining the radial velocity measurement of the main sequence stars from Gaia DR3\n",
    "5. Combining the data to get a gravitational redshift measurement"
   ]
  },
  {
   "cell_type": "code",
   "execution_count": null,
   "id": "38bf85ca",
   "metadata": {},
   "outputs": [],
   "source": [
    "from sklearn.cluster import KMeans\n",
    "import numpy as np\n",
    "import scipy as sp\n",
    "import sys\n",
    "sys.path.append('../corv/src')\n",
    "\n",
    "import matplotlib.pyplot as plt\n",
    "import matplotlib.colors as colors\n",
    "from astropy.io import fits\n",
    "from tqdm import tqdm\n",
    "import pandas as pd\n",
    "import corv\n",
    "\n",
    "from astropy.table import Table, vstack, join\n",
    "#from astropy.table import Table, join_skycoord\n",
    "from astropy import units as u\n",
    "from astropy.coordinates import SkyCoord\n",
    "\n",
    "### Query\n",
    "from astroquery.sdss import SDSS\n",
    "from astroquery.gaia import Gaia\n",
    "from astropy import constants as c\n",
    "import data_selector as ds"
   ]
  },
  {
   "cell_type": "code",
   "execution_count": null,
   "id": "ad36eeb0",
   "metadata": {},
   "outputs": [],
   "source": [
    "#ds.select_sdss4()"
   ]
  },
  {
   "cell_type": "code",
   "execution_count": null,
   "id": "b8a010af",
   "metadata": {},
   "outputs": [],
   "source": [
    "catalog = ds.get_catalog('data/catalog_sdss4.csv', build_spectra = False)\n",
    "catalog = Table.from_pandas(catalog)\n",
    "print(len(catalog))"
   ]
  },
  {
   "cell_type": "markdown",
   "id": "3d5103a2",
   "metadata": {},
   "source": [
    "Selecting all the stars in the color magnitude diagram that are below the line specified in El-Badry's wide binary catalog."
   ]
  },
  {
   "cell_type": "code",
   "execution_count": null,
   "id": "a0b06923",
   "metadata": {},
   "outputs": [],
   "source": [
    "def wd_sep(bp_rp):\n",
    "    return 3.25*bp_rp + 9.625\n",
    "\n",
    "plt.figure(figsize=(10,10))\n",
    "\n",
    "plt.scatter(catalog['bp_rp1'], catalog['phot_g_mean_mag1'] + 5 * (np.log10(catalog['parallax1'] / 100)), label='First Object', alpha = 0.5, s=5)\n",
    "plt.scatter(catalog['bp_rp2'], catalog['phot_g_mean_mag2'] + 5 * (np.log10(catalog['parallax2'] / 100)), label='Second Object', alpha = 0.5, s=5)\n",
    "\n",
    "plt.grid()\n",
    "plt.ylabel(r'$M_G$')\n",
    "plt.xlabel(r'bp-rp')\n",
    "plt.title(r'CMD')\n",
    "plt.gca().invert_yaxis()\n",
    "xmin, xmax = plt.xlim()\n",
    "\n",
    "plt.plot(np.linspace(xmin, xmax, num=100), wd_sep(np.linspace(xmin, xmax, num=100)))\n",
    "\n",
    "plt.savefig('plots/selection/cmd.png')\n",
    "\n",
    "plt.legend()\n",
    "plt.show()"
   ]
  },
  {
   "cell_type": "code",
   "execution_count": null,
   "id": "217def4e",
   "metadata": {},
   "outputs": [],
   "source": [
    "wd_obj = []\n",
    "ms_obj = []\n",
    "drop = []\n",
    "\n",
    "for i in tqdm (range(len(catalog))):\n",
    "    mg1 = wd_sep(catalog['bp_rp1'][i])\n",
    "    mg2 = wd_sep(catalog['bp_rp2'][i])\n",
    "    \n",
    "    M1 = catalog['phot_g_mean_mag1'][i] + 5 * (np.log10(catalog['parallax1'][i] / 100))\n",
    "    M2 = catalog['phot_g_mean_mag2'][i] + 5 * (np.log10(catalog['parallax2'][i] / 100))\n",
    "    \n",
    "    if M1 > mg1 and M2 < mg2:\n",
    "        wd_obj.append(1)\n",
    "        ms_obj.append(2)\n",
    "    elif M2 > mg2 and M1 < mg1:\n",
    "        wd_obj.append(2)\n",
    "        ms_obj.append(1)\n",
    "    else:\n",
    "        drop.append(i)\n",
    "               \n",
    "catalog.remove_rows(drop)\n",
    "catalog['wd_obj'] = wd_obj\n",
    "catalog['ms_obj'] = ms_obj\n",
    "#catalog.reset_index(inplace=True, drop=True)"
   ]
  },
  {
   "cell_type": "code",
   "execution_count": null,
   "id": "9c6ae329",
   "metadata": {},
   "outputs": [],
   "source": [
    "def separate(catalog, column, ms_obj, wd_obj, newname = ''):      \n",
    "    mstemp_arr = [ catalog[str(column) + str(ms_obj[i])][i] for i in range(len(ms_obj)) ]\n",
    "    wdtemp_arr = [ catalog[str(column) + str(wd_obj[i])][i] for i in range(len(wd_obj)) ]\n",
    "    \n",
    "    catalog['ms_' + str(column)] = mstemp_arr\n",
    "    catalog['wd_' + str(column)] = wdtemp_arr\n",
    "    return catalog\n",
    "\n",
    "### ---\n",
    "\n",
    "convert_cols = ['source_id', 'parallax', 'parallax_error', 'parallax_over_error', 'phot_g_mean_mag', 'phot_g_mean_flux',\n",
    "                'phot_g_mean_flux_error', 'phot_bp_mean_mag', 'phot_bp_mean_flux', 'phot_bp_mean_flux_error',\n",
    "                'phot_rp_mean_mag', 'phot_rp_mean_flux', 'phot_rp_mean_flux_error', 'bp_rp', 'pmra', 'ra', 'ra_error', 'pmdec', 'dec', 'dec_error', 'l', 'b']\n",
    "\n",
    "for col in convert_cols:\n",
    "    catalog = separate(catalog, col, ms_obj, wd_obj)\n",
    "    \n",
    "catalog['wd_m_g'] = catalog['wd_phot_g_mean_mag'] + 5 * np.log10(catalog['wd_parallax'] / 100)\n",
    "catalog['ms_m_g'] = catalog['ms_phot_g_mean_mag'] + 5 * np.log10(catalog['ms_parallax'] / 100)"
   ]
  },
  {
   "cell_type": "code",
   "execution_count": null,
   "id": "ebdb02fe",
   "metadata": {},
   "outputs": [],
   "source": [
    "plt.figure(figsize=(10,10))\n",
    "\n",
    "plt.scatter(catalog['ms_bp_rp'], catalog['ms_m_g'], label='Main Sequence', alpha = 0.5, s=5)\n",
    "plt.scatter(catalog['wd_bp_rp'], catalog['wd_m_g'], label='White Dwarf', alpha = 0.5, s=5)\n",
    "\n",
    "plt.grid()\n",
    "plt.ylabel(r'$M_G$')\n",
    "plt.xlabel(r'bp-rp')\n",
    "plt.title(r'CMD')\n",
    "plt.gca().invert_yaxis()\n",
    "xmin, xmax = plt.xlim()\n",
    "\n",
    "plt.plot(np.linspace(xmin, xmax, num=100), wd_sep(np.linspace(xmin, xmax, num=100)))\n",
    "\n",
    "plt.savefig('plots/selection/wd_ms_cmd.png')\n",
    "\n",
    "plt.legend()\n",
    "plt.show()"
   ]
  },
  {
   "cell_type": "markdown",
   "id": "74f3bf94",
   "metadata": {},
   "source": [
    "## Select White Dwarf RV's\n",
    "---\n",
    "\n",
    "Load in the rv catalog Vedant sent by getting each RV's pmf."
   ]
  },
  {
   "cell_type": "code",
   "execution_count": null,
   "id": "e5fd6adf",
   "metadata": {},
   "outputs": [],
   "source": [
    "from astropy.coordinates import SkyCoord\n",
    "import astropy.units as u\n",
    "from astropy.table import Table, join_skycoord\n",
    "from astropy import table\n",
    "\n",
    "wd_rv = pd.read_table('data/wd_rvs/WD_table_public.dat', sep=\"\\s+\")\n",
    "wd_rv = Table.from_pandas(wd_rv)\n",
    "\n",
    "wd_rv = wd_rv[wd_rv['dec'] < 90]\n",
    "wd_rv = wd_rv[wd_rv['dec'] > -90]\n",
    "\n",
    "catalog['wd_pos'] = SkyCoord(catalog['wd_ra'], catalog['wd_dec'], unit='deg')\n",
    "wd_rv['wd_pos'] = SkyCoord(wd_rv['ra'], wd_rv['dec'], unit='deg')\n",
    "\n",
    "join_func = table.join_skycoord(5 * u.arcsecond)\n",
    "catalog = table.join(catalog, wd_rv, join_funcs={'wd_pos': join_skycoord(5 * u.arcsec)})"
   ]
  },
  {
   "cell_type": "markdown",
   "id": "2cd64dc3",
   "metadata": {},
   "source": [
    "Pull rv's from the catalog"
   ]
  },
  {
   "cell_type": "code",
   "execution_count": null,
   "id": "44ee74b1",
   "metadata": {},
   "outputs": [],
   "source": [
    "#catalog.remove_rows(drops)\n",
    "catalog['wd_rv'] = catalog['RVfit'] + catalog['vgr']\n",
    "catalog['wd_erv'] = catalog['eRV']\n",
    "#catalog.reset_index(inplace=True, drop=True)\n",
    "\n",
    "print(len(catalog))"
   ]
  },
  {
   "cell_type": "code",
   "execution_count": null,
   "id": "1ba61dd9",
   "metadata": {},
   "outputs": [],
   "source": [
    "ADQL_CODE1 = \"SELECT source_id, radial_velocity, radial_velocity_error \\\n",
    "    FROM gaiadr3.gaia_source \\\n",
    "    WHERE gaia_source.source_id IN {}\\\n",
    "    AND radial_velocity is not null\\\n",
    "    AND radial_velocity_error < 2\\\n",
    "\".format(tuple(catalog['ms_source_id']))\n",
    "\n",
    "job1 = Gaia.launch_job(ADQL_CODE1,dump_to_file=False)\n",
    "d1 = job1.get_results()"
   ]
  },
  {
   "cell_type": "code",
   "execution_count": null,
   "id": "9438e752",
   "metadata": {},
   "outputs": [],
   "source": [
    "print(d1)"
   ]
  },
  {
   "cell_type": "code",
   "execution_count": null,
   "id": "44701018",
   "metadata": {},
   "outputs": [],
   "source": [
    "drops = []\n",
    "rv = []\n",
    "erv = []\n",
    "\n",
    "for i in tqdm (range(len(catalog))):\n",
    "    notfound = False\n",
    "    a = np.where(catalog['ms_source_id'][i] == d1['source_id'])\n",
    "    \n",
    "    try:\n",
    "        j = a[0][0]\n",
    "    except:\n",
    "        notfound = True\n",
    "        \n",
    "    if not notfound: \n",
    "        rv.append(d1['radial_velocity'][j])\n",
    "        erv.append(d1['radial_velocity_error'][j])\n",
    "    else:\n",
    "        drops.append(i)   \n",
    "\n",
    "catalog.remove_rows(drops)\n",
    "catalog['ms_rv'] = rv\n",
    "catalog['ms_erv'] = erv\n",
    "#catalog.reset_index(inplace=True, drop=True)"
   ]
  },
  {
   "cell_type": "code",
   "execution_count": null,
   "id": "7e179df3",
   "metadata": {},
   "outputs": [],
   "source": [
    "catalog = catalog[catalog['R_chance_align'] < 0.1]\n",
    "\n",
    "catalog = catalog[catalog['wd_parallax'] > 0]\n",
    "catalog = catalog[catalog['ms_parallax'] > 0]\n",
    "\n",
    "catalog = catalog[catalog['wd_parallax_over_error'] > 5]\n",
    "catalog = catalog[catalog['ms_parallax_over_error'] > 5]\n",
    "\n",
    "catalog = catalog[catalog['wd_erv'] < 15]\n",
    "\n",
    "#catalog['wd_rv_over_error'] = catalog['wd_rv'] / catalog['wd_erv']\n",
    "#catalog['ms_rv_over_error'] = catalog['ms_rv'] / catalog['ms_erv']\n",
    "#\n",
    "#catalog = catalog[catalog['wd_rv_over_error'] > 1]\n",
    "#catalog = catalog[catalog['ms_rv_over_error'] > 1]\n",
    "\n",
    "plt.figure(figsize=(6,6))\n",
    "plt.grid()\n",
    "plt.hist(catalog['R_chance_align'], bins = 15, histtype='step', color='black')\n",
    "ymin, ymax = plt.ylim()\n",
    "#plt.vlines(np.mean(catalog['g_redshift']), ymin, ymax, linestyles='dashed')\n",
    "plt.title('Pseudoprobability of Chance Align', fontsize=20)\n",
    "plt.xlabel(r'$R$', fontsize=18)\n",
    "plt.savefig('plots/selection/chancealign.png')"
   ]
  },
  {
   "cell_type": "code",
   "execution_count": null,
   "id": "1e7dafae",
   "metadata": {},
   "outputs": [],
   "source": [
    "catalog['g_redshift'] = catalog['wd_rv'] - catalog['ms_rv']\n",
    "\n",
    "#catalog = catalog[catalog['g_redshift'] > -100]\n",
    "#catalog = catalog[catalog['g_redshift'] < 100]\n",
    "\n",
    "print(np.mean(catalog['g_redshift']))\n",
    "print(len(catalog))\n",
    "\n",
    "\n",
    "plt.figure(figsize=(10,10))\n",
    "plt.grid()\n",
    "plt.hist(catalog['g_redshift'], bins = 20, histtype='step', color='black')\n",
    "ymin, ymax = plt.ylim()\n",
    "plt.vlines(np.mean(catalog['g_redshift']), ymin, ymax, linestyles='dashed')\n",
    "plt.title('Gravitational Redshift', fontsize=20)\n",
    "plt.xlabel(r'$RV_{MS} - RV_{WD}$', fontsize=18)\n",
    "plt.savefig('plots/redshifts/gredshift.png')"
   ]
  },
  {
   "cell_type": "code",
   "execution_count": null,
   "id": "356b2699",
   "metadata": {},
   "outputs": [],
   "source": [
    "fig, axes = plt.subplots(nrows=1, ncols=1, figsize=(15, 9))\n",
    "#axes.grid()\n",
    "axes.hist(catalog['ms_rv'], bins = 15, alpha=0.5, color='black', label='Main sequence')\n",
    "axes.hist(catalog['wd_rv'], bins = 15, alpha=0.5, color='red', label='White dwarf')\n",
    "ymin, ymax = axes.get_ylim()\n",
    "axes.vlines(np.mean(catalog['ms_rv']), ymin, ymax, linestyles='dashed')\n",
    "axes.vlines(np.mean(catalog['wd_rv']), ymin, ymax, linestyles='dashed', color='red')\n",
    "\n",
    "#axes[0].set_title('Gravitational Redshift', fontsize=20)\n",
    "axes.set_xlabel(r'$RV [km/s]$', fontsize=18)\n",
    "axes.legend()\n",
    "'''\n",
    "axes[1].grid()\n",
    "axes[1].hist(catalog['wd_rv'], bins = 15, histtype='step', color='black')\n",
    "ymin, ymax = axes[1].get_ylim()\n",
    "axes[1].vlines(np.mean(catalog['wd_rv']), ymin, ymax, linestyles='dashed')\n",
    "#axes[1].title('Gravitational Redshift', fontsize=20)\n",
    "axes[1].set_xlabel(r'$RV_{WD}$', fontsize=18)'''\n",
    "plt.savefig('plots/redshifts/rvs_nostep.png')"
   ]
  },
  {
   "cell_type": "code",
   "execution_count": null,
   "id": "c0ceb29a",
   "metadata": {},
   "outputs": [],
   "source": [
    "from scipy.optimize import curve_fit\n",
    "\n",
    "def linear(x, A, B):\n",
    "    return A*x+B\n",
    "\n",
    "popt, pcov = curve_fit(linear, catalog['ms_rv'], catalog['wd_rv'], sigma = catalog['wd_erv'])\n",
    "\n",
    "print(np.mean(catalog['ms_rv']))\n",
    "print(np.mean(catalog['wd_rv']))\n",
    "\n",
    "plt.figure(figsize=(10,10))\n",
    "plt.errorbar(catalog['ms_rv'], catalog['wd_rv'], xerr=catalog['ms_erv'], yerr=catalog['wd_erv'], fmt = 'o', color='black')\n",
    "plt.plot(catalog['ms_rv'], linear(catalog['ms_rv'], popt[0], popt[1]), label=(\"y=Ax+B \\nA = {:2.2} \\nB = {:2.2f}\".format(popt[0], popt[1])))\n",
    "plt.xlabel(r'Main Sequence Radial Velocity $[km/s]$')\n",
    "plt.ylabel(r'White Dwarf Radial Velocity $[km/s]$')\n",
    "plt.grid()\n",
    "plt.legend()\n",
    "plt.savefig('plots/redshifts/velocities.png')"
   ]
  },
  {
   "cell_type": "code",
   "execution_count": null,
   "id": "c8d35a5f",
   "metadata": {},
   "outputs": [],
   "source": [
    "catalog['eg_redshift'] = np.abs(catalog['ms_erv'] + catalog['wd_erv'])"
   ]
  },
  {
   "cell_type": "code",
   "execution_count": null,
   "id": "0845aaea",
   "metadata": {},
   "outputs": [],
   "source": [
    "print(r'Gravitational redshift: %2.2f +/- %2.2f km/s' % (np.mean(catalog['g_redshift']), np.mean(catalog['eg_redshift'])))"
   ]
  },
  {
   "cell_type": "code",
   "execution_count": null,
   "id": "29ff27f1",
   "metadata": {},
   "outputs": [],
   "source": [
    "for key in catalog.keys():\n",
    "    print(key)"
   ]
  },
  {
   "cell_type": "code",
   "execution_count": null,
   "id": "fcadb9a3-5b2e-44c6-b975-4901f66fe520",
   "metadata": {},
   "outputs": [],
   "source": [
    "catalog.remove_columns(['wd_pos_1', 'wd_pos_2'])"
   ]
  },
  {
   "cell_type": "code",
   "execution_count": null,
   "id": "0e8d4acf",
   "metadata": {},
   "outputs": [],
   "source": [
    "catalog.remove_column('Unnamed: 0')\n",
    "catalog.write('data/01_catalog.fits', overwrite=True)"
   ]
  },
  {
   "cell_type": "code",
   "execution_count": null,
   "id": "dbabb8df-400b-4998-96e6-9d0c37a0dac5",
   "metadata": {},
   "outputs": [],
   "source": []
  },
  {
   "cell_type": "code",
   "execution_count": null,
   "id": "b1820313-0d2c-4737-80db-b0131501f76c",
   "metadata": {},
   "outputs": [],
   "source": []
  },
  {
   "cell_type": "code",
   "execution_count": null,
   "id": "55af9659-bd5b-42ad-8a21-26536169d67a",
   "metadata": {},
   "outputs": [],
   "source": []
  }
 ],
 "metadata": {
  "kernelspec": {
   "display_name": "Python 3 (ipykernel)",
   "language": "python",
   "name": "python3"
  },
  "language_info": {
   "codemirror_mode": {
    "name": "ipython",
    "version": 3
   },
   "file_extension": ".py",
   "mimetype": "text/x-python",
   "name": "python",
   "nbconvert_exporter": "python",
   "pygments_lexer": "ipython3",
   "version": "3.8.3"
  }
 },
 "nbformat": 4,
 "nbformat_minor": 5
}
