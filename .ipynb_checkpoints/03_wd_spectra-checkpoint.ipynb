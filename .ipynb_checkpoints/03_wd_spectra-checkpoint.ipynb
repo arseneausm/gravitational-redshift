{
 "cells": [
  {
   "cell_type": "code",
   "execution_count": 1,
   "id": "68447edc",
   "metadata": {
    "tags": []
   },
   "outputs": [
    {
     "name": "stdout",
     "output_type": "stream",
     "text": [
      "/Users/vedantchandra/0_research/01_sdss5/006_build_corv/data/comm_cat/\n",
      "star and exposure catalogs not found! check paths and run make_catalogs() if you want to use sdss functionality. otherwise ignore.\n"
     ]
    }
   ],
   "source": [
    "#from sklearn.cluster import KMeans\n",
    "import numpy as np\n",
    "import scipy as sp\n",
    "import sys\n",
    "sys.path.insert(0, '../corv-dev/frankencorv/src')\n",
    "sys.path.append('../wdtools')\n",
    "\n",
    "import matplotlib.pyplot as plt\n",
    "import matplotlib.colors as colors\n",
    "from astropy.io import fits\n",
    "from astropy.table import Table\n",
    "from tqdm import tqdm\n",
    "\n",
    "### Query\n",
    "from astroquery.sdss import SDSS\n",
    "from astroquery.gaia import Gaia\n",
    "from astropy import constants as c\n",
    "\n",
    "#import wdtools\n",
    "import corv\n"
   ]
  },
  {
   "cell_type": "code",
   "execution_count": 2,
   "id": "a7c3248b",
   "metadata": {},
   "outputs": [
    {
     "name": "stderr",
     "output_type": "stream",
     "text": [
      "WARNING: UnitsWarning: 'log(cm.s**-2)' did not parse as fits unit: 'log' is not a recognized function If this is meant to be a custom unit, define it with 'u.def_unit'. To have it recognized inside a file reader or other code, enable it with 'u.add_enabled_units'. For details, see https://docs.astropy.org/en/latest/units/combining_and_defining.html [astropy.units.core]\n"
     ]
    },
    {
     "name": "stdout",
     "output_type": "stream",
     "text": [
      "wd_plate\n",
      "--------\n",
      "  101956\n",
      "   15019\n",
      "   15011\n",
      "   15034\n",
      "  104569\n",
      "462\n",
      "413\n"
     ]
    }
   ],
   "source": [
    "from astropy.table import Table, vstack, unique\n",
    "\n",
    "ms_sdss4_wd_sdss4 = Table.read('data/ms_sdss4_wd_sdss4.fits')\n",
    "ms_gaia_wd_sdss4 = Table.read('data/ms_gaia_wd_sdss4.fits')\n",
    "ms_sdss5_wd_sdss4 = Table.read('sdss5/ms_sdss5_wd_sdss4.fits')\n",
    "\n",
    "ms_gaia_wd_sdss5 = Table.read('sdss5/ms_gaia_wd_sdss5.fits')\n",
    "ms_sdss4_wd_sdss5 = Table.read('sdss5/ms_sdss4_wd_sdss5.fits')\n",
    "ms_sdss5_wd_sdss5 = Table.read('sdss5/ms_sdss5_wd_sdss5.fits')\n",
    "\n",
    "ms_gaia_wd_falcon = Table.read('data/ms_gaia_wd_falcon.fits')\n",
    "\n",
    "def strip(catalog):  \n",
    "    drop_cols = []\n",
    "    keep_cols = ['wd_source_id', 'wd_ra', 'wd_dec', 'wd_plate', 'wd_mjd', 'wd_fiberid', 'wd_filepath', 'wd_rv', 'wd_e_rv', 'wd_rv_from']\n",
    "        \n",
    "    for key in catalog.keys():\n",
    "        if key not in keep_cols:\n",
    "            drop_cols.append(key)\n",
    "            \n",
    "    catalog.remove_columns(drop_cols)\n",
    "    \n",
    "    return catalog\n",
    "\n",
    "ms_gaia_wd_sdss4  = strip(ms_gaia_wd_sdss4 )\n",
    "ms_sdss4_wd_sdss4 = strip(ms_sdss4_wd_sdss4)\n",
    "ms_sdss5_wd_sdss4 = strip(ms_sdss5_wd_sdss4)\n",
    "\n",
    "ms_gaia_wd_sdss5  = strip(ms_gaia_wd_sdss5 )\n",
    "ms_sdss4_wd_sdss5 = strip(ms_sdss4_wd_sdss5)\n",
    "ms_sdss5_wd_sdss5 = strip(ms_sdss5_wd_sdss5)\n",
    "\n",
    "ms_gaia_wd_falcon = strip(ms_gaia_wd_falcon)\n",
    "\n",
    "print(ms_sdss4_wd_sdss5['wd_plate'])\n",
    "\n",
    "catalog = vstack([ms_gaia_wd_falcon, ms_sdss4_wd_sdss4, ms_gaia_wd_sdss4, ms_sdss4_wd_sdss5, ms_sdss5_wd_sdss4, ms_gaia_wd_sdss5, ms_sdss5_wd_sdss5])\n",
    "print(len(catalog))\n",
    "catalog = unique(catalog, keys = 'wd_source_id')\n",
    "print(len(catalog))"
   ]
  },
  {
   "cell_type": "code",
   "execution_count": 3,
   "id": "af56f739",
   "metadata": {},
   "outputs": [
    {
     "name": "stdout",
     "output_type": "stream",
     "text": [
      "wd_source_id\n",
      "<class 'astropy.table.column.MaskedColumn'>\n",
      "wd_ra\n",
      "<class 'astropy.table.column.Column'>\n",
      "wd_dec\n",
      "<class 'astropy.table.column.Column'>\n",
      "wd_filepath\n",
      "<class 'astropy.table.column.MaskedColumn'>\n",
      "wd_rv_from\n",
      "<class 'astropy.table.column.Column'>\n",
      "wd_plate\n",
      "<class 'astropy.table.column.MaskedColumn'>\n",
      "wd_mjd\n",
      "<class 'astropy.table.column.MaskedColumn'>\n",
      "wd_fiberid\n",
      "<class 'astropy.table.column.MaskedColumn'>\n",
      "wd_rv\n",
      "<class 'astropy.table.column.Column'>\n",
      "wd_e_rv\n",
      "<class 'astropy.table.column.Column'>\n"
     ]
    }
   ],
   "source": [
    "for key in catalog.keys():\n",
    "    print(key)\n",
    "    print(type(catalog[key]))"
   ]
  },
  {
   "cell_type": "code",
   "execution_count": 4,
   "id": "10a2dcae",
   "metadata": {},
   "outputs": [
    {
     "data": {
      "text/plain": [
       "['spec', '101076', '59872', '27021597926091959.fits']"
      ]
     },
     "execution_count": 4,
     "metadata": {},
     "output_type": "execute_result"
    }
   ],
   "source": [
    "catalog['wd_filepath'][-1].split('-')"
   ]
  },
  {
   "cell_type": "code",
   "execution_count": 5,
   "id": "2ce34b41",
   "metadata": {},
   "outputs": [
    {
     "data": {
      "text/html": [
       "<div><i>Table length=5</i>\n",
       "<table id=\"table140186345263360\" class=\"table-striped table-bordered table-condensed\">\n",
       "<thead><tr><th>wd_source_id</th><th>wd_ra</th><th>wd_dec</th><th>wd_filepath</th><th>wd_rv_from</th><th>wd_plate</th><th>wd_mjd</th><th>wd_fiberid</th><th>wd_rv</th><th>wd_e_rv</th></tr></thead>\n",
       "<thead><tr><th></th><th></th><th></th><th></th><th></th><th></th><th></th><th></th><th>km / s</th><th>km / s</th></tr></thead>\n",
       "<thead><tr><th>int64</th><th>float64</th><th>float64</th><th>bytes42</th><th>bytes6</th><th>float64</th><th>float64</th><th>float64</th><th>float64</th><th>float64</th></tr></thead>\n",
       "<tr><td>91690164426711040</td><td>27.090195129187666</td><td>17.870417674280404</td><td></td><td>falcon</td><td>-0.0</td><td>-0.0</td><td>-0.0</td><td>24.071</td><td>1.704</td></tr>\n",
       "<tr><td>2442099751463686528</td><td>358.36628357221076</td><td>-8.077412378817405</td><td></td><td>falcon</td><td>-0.0</td><td>-0.0</td><td>-0.0</td><td>84.801</td><td>0.992</td></tr>\n",
       "<tr><td>2497895053130247040</td><td>43.38507442845183</td><td>-0.5625435528199415</td><td></td><td>falcon</td><td>-0.0</td><td>-0.0</td><td>-0.0</td><td>45.823</td><td>1.601</td></tr>\n",
       "<tr><td>4460086458999242368</td><td>245.51637907996593</td><td>12.22568893574896</td><td></td><td>falcon</td><td>-0.0</td><td>-0.0</td><td>-0.0</td><td>33.954</td><td>2.903</td></tr>\n",
       "<tr><td>4568179481487112832</td><td>256.7830147054645</td><td>22.40767769481725</td><td></td><td>falcon</td><td>-0.0</td><td>-0.0</td><td>-0.0</td><td>-24.172</td><td>1.395</td></tr>\n",
       "</table></div>"
      ],
      "text/plain": [
       "<Table length=5>\n",
       "    wd_source_id          wd_ra               wd_dec       wd_filepath ...  wd_mjd wd_fiberid  wd_rv  wd_e_rv\n",
       "                                                                       ...                     km / s  km / s\n",
       "       int64             float64             float64         bytes42   ... float64  float64   float64 float64\n",
       "------------------- ------------------ ------------------- ----------- ... ------- ---------- ------- -------\n",
       "  91690164426711040 27.090195129187666  17.870417674280404             ...    -0.0       -0.0  24.071   1.704\n",
       "2442099751463686528 358.36628357221076  -8.077412378817405             ...    -0.0       -0.0  84.801   0.992\n",
       "2497895053130247040  43.38507442845183 -0.5625435528199415             ...    -0.0       -0.0  45.823   1.601\n",
       "4460086458999242368 245.51637907996593   12.22568893574896             ...    -0.0       -0.0  33.954   2.903\n",
       "4568179481487112832  256.7830147054645   22.40767769481725             ...    -0.0       -0.0 -24.172   1.395"
      ]
     },
     "execution_count": 5,
     "metadata": {},
     "output_type": "execute_result"
    }
   ],
   "source": [
    "catalog[catalog['wd_rv_from'] == 'falcon']"
   ]
  },
  {
   "cell_type": "code",
   "execution_count": 6,
   "id": "4281d32a",
   "metadata": {
    "tags": []
   },
   "outputs": [
    {
     "name": "stderr",
     "output_type": "stream",
     "text": [
      "100%|██████████████████████████████████████████████████████████████████████████████| 413/413 [00:00<00:00, 10140.12it/s]\n"
     ]
    }
   ],
   "source": [
    "paths = []\n",
    "internetpaths = []\n",
    "\n",
    "for i in tqdm(range(len(catalog))):\n",
    "    if catalog['wd_rv_from'][i] == 'sdss5':\n",
    "        catalog['wd_filepath'][i] = catalog['wd_filepath'][i].replace('spec-','spSpec-')\n",
    "        paths.append('sdss5/wd_fits/' + catalog['wd_filepath'][i])\n",
    "        a, b = catalog['wd_filepath'][i].split('-')[1], catalog['wd_filepath'][i].split('-')[2]\n",
    "        \n",
    "        internetpaths.append('https://data.sdss5.org/sas/sdsswork/bhm/boss/spectro/redux/v6_1_0/' + a + '/coadd/' + b + '/' + catalog['wd_filepath'][i])\n",
    "    else:\n",
    "        paths.append('')\n",
    "        \n",
    "catalog['paths'] = paths"
   ]
  },
  {
   "cell_type": "code",
   "execution_count": 7,
   "id": "dd36f0b1",
   "metadata": {},
   "outputs": [
    {
     "data": {
      "text/html": [
       "<div><i>Table length=5</i>\n",
       "<table id=\"table140186345314576\" class=\"table-striped table-bordered table-condensed\">\n",
       "<thead><tr><th>wd_source_id</th><th>wd_ra</th><th>wd_dec</th><th>wd_filepath</th><th>wd_rv_from</th><th>wd_plate</th><th>wd_mjd</th><th>wd_fiberid</th><th>wd_rv</th><th>wd_e_rv</th><th>paths</th></tr></thead>\n",
       "<thead><tr><th></th><th></th><th></th><th></th><th></th><th></th><th></th><th></th><th>km / s</th><th>km / s</th><th></th></tr></thead>\n",
       "<thead><tr><th>int64</th><th>float64</th><th>float64</th><th>bytes42</th><th>bytes6</th><th>float64</th><th>float64</th><th>float64</th><th>float64</th><th>float64</th><th>str56</th></tr></thead>\n",
       "<tr><td>91690164426711040</td><td>27.090195129187666</td><td>17.870417674280404</td><td></td><td>falcon</td><td>-0.0</td><td>-0.0</td><td>-0.0</td><td>24.071</td><td>1.704</td><td></td></tr>\n",
       "<tr><td>2442099751463686528</td><td>358.36628357221076</td><td>-8.077412378817405</td><td></td><td>falcon</td><td>-0.0</td><td>-0.0</td><td>-0.0</td><td>84.801</td><td>0.992</td><td></td></tr>\n",
       "<tr><td>2497895053130247040</td><td>43.38507442845183</td><td>-0.5625435528199415</td><td></td><td>falcon</td><td>-0.0</td><td>-0.0</td><td>-0.0</td><td>45.823</td><td>1.601</td><td></td></tr>\n",
       "<tr><td>4460086458999242368</td><td>245.51637907996593</td><td>12.22568893574896</td><td></td><td>falcon</td><td>-0.0</td><td>-0.0</td><td>-0.0</td><td>33.954</td><td>2.903</td><td></td></tr>\n",
       "<tr><td>4568179481487112832</td><td>256.7830147054645</td><td>22.40767769481725</td><td></td><td>falcon</td><td>-0.0</td><td>-0.0</td><td>-0.0</td><td>-24.172</td><td>1.395</td><td></td></tr>\n",
       "</table></div>"
      ],
      "text/plain": [
       "<Table length=5>\n",
       "    wd_source_id          wd_ra               wd_dec       wd_filepath wd_rv_from ... wd_fiberid  wd_rv  wd_e_rv paths\n",
       "                                                                                  ...             km / s  km / s      \n",
       "       int64             float64             float64         bytes42     bytes6   ...  float64   float64 float64 str56\n",
       "------------------- ------------------ ------------------- ----------- ---------- ... ---------- ------- ------- -----\n",
       "  91690164426711040 27.090195129187666  17.870417674280404                 falcon ...       -0.0  24.071   1.704      \n",
       "2442099751463686528 358.36628357221076  -8.077412378817405                 falcon ...       -0.0  84.801   0.992      \n",
       "2497895053130247040  43.38507442845183 -0.5625435528199415                 falcon ...       -0.0  45.823   1.601      \n",
       "4460086458999242368 245.51637907996593   12.22568893574896                 falcon ...       -0.0  33.954   2.903      \n",
       "4568179481487112832  256.7830147054645   22.40767769481725                 falcon ...       -0.0 -24.172   1.395      "
      ]
     },
     "execution_count": 7,
     "metadata": {},
     "output_type": "execute_result"
    }
   ],
   "source": [
    "catalog[catalog['wd_rv_from'] == 'falcon']"
   ]
  },
  {
   "cell_type": "code",
   "execution_count": 8,
   "id": "fb47df29",
   "metadata": {
    "tags": []
   },
   "outputs": [
    {
     "name": "stderr",
     "output_type": "stream",
     "text": [
      "/home/arseneau/anaconda3/lib/python3.9/site-packages/astroquery/sdss/core.py:874: VisibleDeprecationWarning: Reading unicode strings without specifying the encoding argument is deprecated. Set the encoding, use None for the system default.\n",
      "  arr = np.atleast_1d(np.genfromtxt(io.BytesIO(response.content),\n"
     ]
    },
    {
     "data": {
      "text/plain": [
       "[<astropy.io.fits.hdu.image.PrimaryHDU object at 0x7f7faceca970>, <astropy.io.fits.hdu.table.BinTableHDU object at 0x7f7fad20d130>, <astropy.io.fits.hdu.table.BinTableHDU object at 0x7f7fad350340>, <astropy.io.fits.hdu.table.BinTableHDU object at 0x7f7fad350d30>, <astropy.io.fits.hdu.table.BinTableHDU object at 0x7f7fad483d00>, <astropy.io.fits.hdu.table.BinTableHDU object at 0x7f7fad5d1190>, <astropy.io.fits.hdu.table.BinTableHDU object at 0x7f7fad148ee0>, <astropy.io.fits.hdu.table.BinTableHDU object at 0x7f7fad2f1670>, <astropy.io.fits.hdu.table.BinTableHDU object at 0x7f7fad26aeb0>, <astropy.io.fits.hdu.table.BinTableHDU object at 0x7f7fad0e5d00>, <astropy.io.fits.hdu.table.BinTableHDU object at 0x7f7fad542d90>, <astropy.io.fits.hdu.table.BinTableHDU object at 0x7f7fad461880>]"
      ]
     },
     "execution_count": 8,
     "metadata": {},
     "output_type": "execute_result"
    }
   ],
   "source": [
    "i = 0\n",
    "\n",
    "spec = SDSS.get_spectra(plate=catalog['wd_plate'][i], fiberID=catalog['wd_fiberid'][i], mjd=catalog['wd_mjd'][i])[0]\n",
    "spec"
   ]
  },
  {
   "cell_type": "code",
   "execution_count": 9,
   "id": "7c181f7a",
   "metadata": {},
   "outputs": [
    {
     "name": "stderr",
     "output_type": "stream",
     "text": [
      "100%|████████████████████████████████████████████████████████████████████████████████| 413/413 [00:03<00:00, 131.74it/s]"
     ]
    },
    {
     "name": "stdout",
     "output_type": "stream",
     "text": [
      "413\n",
      "413\n",
      "413\n"
     ]
    },
    {
     "name": "stderr",
     "output_type": "stream",
     "text": [
      "\n"
     ]
    }
   ],
   "source": [
    "spec = []\n",
    "wl = []\n",
    "fl = []\n",
    "ivar = []\n",
    "drops = []\n",
    "worked = []\n",
    "\n",
    "for i in tqdm(range(len(catalog))):\n",
    "    if (catalog['wd_rv_from'][i] != 'falcon'):\n",
    "        if (catalog['paths'][i] == ''):\n",
    "            try:\n",
    "                spec = SDSS.get_spectra(plate=catalog['wd_plate'][i], fiberID=catalog['wd_fiberid'][i], mjd=catalog['wd_mjd'][i])[0]\n",
    "                \n",
    "                #print(spec[4].header)\n",
    "                \n",
    "                wl.append(10**spec[1].data['loglam'])\n",
    "                fl.append(spec[1].data['flux'])\n",
    "                ivar.append(spec[1].data['ivar'])\n",
    "                worked.append(i)\n",
    "            except:\n",
    "                drops.append(i)\n",
    "        else:\n",
    "            spec = fits.open(catalog['paths'][i])\n",
    "            wl.append(10**spec[1].data['loglam'])\n",
    "            fl.append(spec[1].data['flux'])\n",
    "            ivar.append(spec[1].data['ivar'])\n",
    "            worked.append(i)\n",
    "    else:\n",
    "        wl.append(999*np.ones(100))\n",
    "        fl.append(np.linspace(0,1,100))\n",
    "        ivar.append(999*np.ones(100))\n",
    "        \n",
    "print(len(wl))\n",
    "print(len(fl))\n",
    "print(len(ivar))\n",
    "        \n",
    "catalog.remove_rows(drops)\n",
    "catalog['wd_wl'] = wl\n",
    "catalog['wd_fl'] = fl\n",
    "catalog['wd_ivar'] = ivar\n",
    "\n",
    "snr = []\n",
    "\n",
    "for i in range(len(catalog)):\n",
    "    if (catalog['wd_rv_from'][i] != 'falcon'):\n",
    "        wavl_range = (5000<catalog['wd_wl'][i])*(catalog['wd_wl'][i]<6000)\n",
    "        snr.append(np.median(catalog['wd_fl'][i][wavl_range] * np.sqrt(catalog['wd_ivar'][i][wavl_range])))\n",
    "    else:\n",
    "        snr.append(9999)\n",
    "    \n",
    "catalog['snr'] = snr"
   ]
  },
  {
   "cell_type": "code",
   "execution_count": 10,
   "id": "51ce2602",
   "metadata": {},
   "outputs": [],
   "source": [
    "#catalog"
   ]
  },
  {
   "cell_type": "code",
   "execution_count": 11,
   "id": "99cf62f0",
   "metadata": {
    "tags": []
   },
   "outputs": [],
   "source": [
    "def pseudonormalize(wl, fl, ivar = None, avg_size = 150, ret_cont = False):\n",
    "    \n",
    "    fl_norm = np.zeros(np.size(fl))\n",
    "    fl_cont = np.zeros(np.size(fl))\n",
    "    \n",
    "    ivar_yes = 0\n",
    "    if ivar is not None:\n",
    "        ivar_yes = 1\n",
    "        ivar_norm = np.zeros(np.size(fl))\n",
    "        \n",
    "    for i in range(np.size(wl)):\n",
    "        wl_clip = ((wl[i]-avg_size/2)<wl) * (wl<(wl[i]+avg_size/2))\n",
    "        fl_cont[i] = np.median(fl[wl_clip])\n",
    "        if ivar_yes:\n",
    "            ivar_norm[i] = ivar[i]*np.median(fl[wl_clip])**2\n",
    "    \n",
    "    fl_norm = fl/fl_cont\n",
    "    \n",
    "    if ret_cont:\n",
    "        if ivar_yes:\n",
    "            return fl_norm\n",
    "        else:\n",
    "            return fl_norm\n",
    "    else:\n",
    "        if ivar_yes:\n",
    "            return fl_norm, ivar_norm\n",
    "        else:\n",
    "            return fl_norm"
   ]
  },
  {
   "cell_type": "code",
   "execution_count": 12,
   "id": "66f763a1",
   "metadata": {},
   "outputs": [
    {
     "data": {
      "text/plain": [
       "413"
      ]
     },
     "execution_count": 12,
     "metadata": {},
     "output_type": "execute_result"
    }
   ],
   "source": [
    "len(catalog)"
   ]
  },
  {
   "cell_type": "code",
   "execution_count": 13,
   "id": "0969219c",
   "metadata": {
    "tags": []
   },
   "outputs": [
    {
     "name": "stderr",
     "output_type": "stream",
     "text": [
      "100%|█████████████████████████████████████████████████████████████████████████████| 413/413 [00:00<00:00, 628081.06it/s]\n"
     ]
    }
   ],
   "source": [
    "id_ = []\n",
    "\n",
    "view = False\n",
    "\n",
    "balmer_lines = [6562.79, 4861.35, 4340.47, 4101.73, 3970.07, 3889.06, 3835.40]\n",
    "\n",
    "for i in tqdm(range(len(catalog))):\n",
    "    id_.append(i)\n",
    "        \n",
    "    if view and (catalog['wd_rv_from'][i] != 'falcon'):\n",
    "        plt.figure(figsize=(12,12))\n",
    "        \n",
    "        #plt.subplot(2,2,1)\n",
    "        plt.plot(catalog['wd_wl'][i], catalog['wd_fl'][i])\n",
    "        \n",
    "        min_, max_ = plt.ylim()\n",
    "        if (max_ > 1000):\n",
    "            mask = (7000 < catalog['wd_wl'][i])\n",
    "            ymax = max(catalog['wd_fl'][i][mask])\n",
    "            \n",
    "            plt.ylim(-0.5*ymax, 4*ymax)\n",
    "        min_, max_ = plt.ylim()\n",
    "        \n",
    "        plt.vlines(balmer_lines, min_, max_, colors = 'black', linestyle = 'dashed', alpha = 0.5)\n",
    "        plt.grid()\n",
    "        plt.ylabel(r'Flux [$10^{-17}$ ergs/s/cm2/A]')\n",
    "        plt.xlabel(r'Wavelength [A]')\n",
    "        plt.title('White Dwarf Spectrum {}'.format(i))\n",
    "  \n",
    "        plt.savefig('spectra/sdss4/wd{}.png'.format(i))\n",
    "    elif view and (catalog['wd_rv_from'][i] == 'falcon'):\n",
    "        plt.figure(figsize=(12,12))\n",
    "        \n",
    "        #plt.subplot(2,2,1)\n",
    "        plt.plot(catalog['wd_wl'][i], catalog['wd_fl'][i])\n",
    "        \n",
    "        plt.grid()\n",
    "        plt.ylabel(r'Flux [$10^{-17}$ ergs/s/cm2/A]')\n",
    "        plt.xlabel(r'Wavelength [A]')\n",
    "        plt.title('White Dwarf Spectrum {}'.format(i))\n",
    "  \n",
    "        plt.savefig('spectra/sdss4/wd{}.png'.format(i))\n",
    "        \n",
    "\n",
    "    \n",
    "catalog['wd_catalog_id'] = id_"
   ]
  },
  {
   "cell_type": "code",
   "execution_count": 14,
   "id": "e0d8ccef",
   "metadata": {},
   "outputs": [
    {
     "name": "stdout",
     "output_type": "stream",
     "text": [
      "151\n"
     ]
    }
   ],
   "source": [
    "not_da = [2,3,6,11,19,24,26,37,39,41,47,50,51,52,53,56,73,77,80,83,84,87,88,90,95,96,98,99,100,101,102,103,105,108,109,113,114,115,121,123,124,125,127,128,134,135,136,137,138,\n",
    "         150,152,153,154,161,164,167,168,169,174,175,176,180,183,184,185,186,190,194,198,200,202,203,204,205,210,213,216,222,224,228,231,232,234,235,236,237,239,241,242,245,\n",
    "         246,248,252,253,256,260,261,262,263,264,266,267,269,272,273,274,276,277,279,282,285,288,289,293,294,296,297,308,312,313,314,319,326,328,331,332,340,341,344,349,361,\n",
    "         362,364,367,369,371,372,374,376,378,380,387,391,393,397,401,404,405,406,409,412]\n",
    "print(len(not_da))\n",
    "reject = catalog[not_da]\n",
    "\n",
    "catalog.remove_rows(not_da)"
   ]
  },
  {
   "cell_type": "code",
   "execution_count": 15,
   "id": "fb728c31",
   "metadata": {
    "tags": []
   },
   "outputs": [
    {
     "name": "stdout",
     "output_type": "stream",
     "text": [
      "    wd_source_id        phot_teff     \n",
      "------------------- ------------------\n",
      "  78630783787018624  7181.633488910558\n",
      "  91690164426711040  15558.98541065842\n",
      " 290678477446232960   8112.84168411444\n",
      " 361278458368372992  6559.370740596109\n",
      " 520790043346964608 12502.239623551863\n",
      " 583949251122623232  7362.471278708443\n",
      " 590479903515064832 13918.105218116225\n",
      " 590880916021900672 11496.939067972138\n",
      " 591729395402954880  10246.92020571615\n",
      " 593650826329812992 10561.986972253975\n",
      "                ...                ...\n",
      "5762170558592027520   8049.36615379603\n",
      "5866867292739656192  4430.104164559655\n",
      "6335242104957309056 10415.555787136964\n",
      "6339275452909996544  5724.763511067431\n",
      "6431084300169300224   27533.3285855749\n",
      "6886973535081311872 11273.332876697734\n",
      "6898255177217741952  9940.459803308058\n",
      "6899127085644261632 12344.856565572589\n",
      "6908407066861225728  7510.551529696348\n",
      "6915495141583341824  9910.254313819381\n",
      "Length = 413 rows\n",
      "    wd_source_id        phot_teff     \n",
      "------------------- ------------------\n",
      "  78630783787018624  7181.633488910558\n",
      "  91690164426711040  15558.98541065842\n",
      " 520790043346964608 12502.239623551863\n",
      " 583949251122623232  7362.471278708443\n",
      " 590880916021900672 11496.939067972138\n",
      " 591729395402954880  10246.92020571615\n",
      " 593650826329812992 10561.986972253975\n",
      " 593918802224747776 14885.130554815736\n",
      " 599615711270729984 16157.627189279834\n",
      " 601843390550086784 10367.216503858144\n",
      "                ...                ...\n",
      "4462626296499680640 20661.094589860226\n",
      "4495341642223178240  17948.35051289667\n",
      "4564485259854622848  6572.591285530052\n",
      "4568179481487112832 14351.600085187245\n",
      "5276369492098540416  16776.25466015885\n",
      "5762170558592027520   8049.36615379603\n",
      "6431084300169300224   27533.3285855749\n",
      "6886973535081311872 11273.332876697734\n",
      "6899127085644261632 12344.856565572589\n",
      "6908407066861225728  7510.551529696348\n",
      "Length = 262 rows\n",
      "worked\n"
     ]
    }
   ],
   "source": [
    "from astropy.table import Table, Column, MaskedColumn, join\n",
    "from astropy.io import fits\n",
    "\n",
    "nug = fits.open('data/nugget.fits')\n",
    "teff_prior = True\n",
    "\n",
    "#print(Table(nug[1].data))\n",
    "\n",
    "#try:\n",
    "nug = fits.open('data/nugget.fits')\n",
    "nug = Table(nug[1].data)\n",
    "\n",
    "print(nug)\n",
    "\n",
    "nug.remove_rows(not_da)\n",
    "\n",
    "#print(catalog['wd_source_id'])\n",
    "print(nug)\n",
    "catalog = join(catalog, nug, keys='wd_source_id', join_type='inner')\n",
    "print('worked')\n",
    "#except:\n",
    "#    teff_prior = False"
   ]
  },
  {
   "cell_type": "code",
   "execution_count": null,
   "id": "22b0f8ef",
   "metadata": {
    "tags": []
   },
   "outputs": [
    {
     "name": "stderr",
     "output_type": "stream",
     "text": [
      "  4%|███▍                                                                              | 11/262 [01:02<25:24,  6.07s/it]/home/arseneau/research/white-dwarfs/gravitational-redshift/../corv-dev/frankencorv/src/corv/fit.py:158: RuntimeWarning: More than 20 figures have been opened. Figures created through the pyplot interface (`matplotlib.pyplot.figure`) are retained until explicitly closed and may consume too much memory. (To control this warning, see the rcParam `figure.max_open_warning`).\n",
      "  f = plt.figure(figsize = (10,5))\n",
      " 20%|████████████████▌                                                                 | 53/262 [05:20<22:20,  6.42s/it]/home/arseneau/research/white-dwarfs/gravitational-redshift/../corv-dev/frankencorv/src/corv/fit.py:149: RuntimeWarning: invalid value encountered in sqrt\n",
      "  intersect = ( (-pcoef[1] + np.sqrt(pcoef[1]**2 - 4 * pcoef[0] * (pcoef[2] - t_cc - 1))) / (2 * pcoef[0]),\n",
      "/home/arseneau/research/white-dwarfs/gravitational-redshift/../corv-dev/frankencorv/src/corv/fit.py:150: RuntimeWarning: invalid value encountered in sqrt\n",
      "  (-pcoef[1] - np.sqrt(pcoef[1]**2 - 4 * pcoef[0] * (pcoef[2] - t_cc - 1))) / (2 * pcoef[0]) )\n",
      " 23%|███████████████████                                                               | 61/262 [06:12<21:04,  6.29s/it]"
     ]
    }
   ],
   "source": [
    "from lmfit import Parameters, fit_report, minimize\n",
    "\n",
    "calculate_rvs = True\n",
    "lmfit_rvs = []\n",
    "lmfit_e_rvs = []\n",
    "\n",
    "if calculate_rvs:\n",
    "    rvs = []\n",
    "    e_rvs = []\n",
    "    \n",
    "    catalog['rv_id'] = np.ones(len(catalog))\n",
    "\n",
    "    teff = []\n",
    "    logg = []\n",
    "    e_teff = []\n",
    "    e_logg = []\n",
    "\n",
    "    redchis = []\n",
    "    drops = []\n",
    "    figs = []\n",
    "\n",
    "    return_obj = []\n",
    "\n",
    "    #catalog['wd_ivar'] = [catalog['wd_ivar'][i]  for i in range(len(catalog))]\n",
    "\n",
    "    for i in tqdm(range(len(catalog))):\n",
    "        if catalog['wd_rv_from'][i] != 'falcon':\n",
    "            #print(catalog['phot_teff'][i])\n",
    "            corvmodel = corv.models.make_koester_model(names = ['a','b','g','d'])\n",
    "    \n",
    "            fl = np.array(catalog['wd_fl'][i])\n",
    "    \n",
    "            #for j in range(len(fl)):\n",
    "            #    if fl[j] < 0:\n",
    "            #        fl[j] = 0\n",
    "    \n",
    "            rv, e_rv, redchi, param_res = corv.fit.fit_corv(np.array(catalog['wd_wl'][i]), fl, np.array(catalog['wd_ivar'][i]), corvmodel, xcorr_kw = dict(xcorr_kw = dict(plot = True)))\n",
    "            \n",
    "            #print(param_res.params)\n",
    "    \n",
    "            #f.suptitle('%d : %2.2f +/- %2.2f' % (catalog['wd_catalog_id'][i], rv, e_rv))\n",
    "            #f.savefig('spectra/corvfits/fits/{}.png'.format(catalog['wd_catalog_id'][i]))\n",
    "            \n",
    "            if param_res.params['teff'].stderr == None:\n",
    "                param_res.params['teff'].stderr = 1e-6\n",
    "            if param_res.params['logg'].stderr == None:\n",
    "                param_res.params['logg'].stderr = 1e-6\n",
    "            if param_res.params['RV'].stderr == None:\n",
    "                param_res.params['RV'].stderr = 1e-6\n",
    "    \n",
    "            f = corv.utils.lineplot(np.array(catalog['wd_wl'][i]), np.array(catalog['wd_fl'][i]), np.array(catalog['wd_ivar'][i]), corvmodel, param_res.params, gap = 0.3, printparams = False,\n",
    "                     figsize = (6, 5))\n",
    "            plt.style.use('./stefan.mplstyle')\n",
    "    \n",
    "            #f.suptitle('%d : %2.2f +/- %2.2f' % (catalog['wd_catalog_id'][i], rv, e_rv))\n",
    "            f.savefig('spectra/corvfits/corvfit{}.jpg'.format(catalog['wd_catalog_id'][i]))\n",
    "    \n",
    "            #f.savefig('spectra/corvfits/corvfit{}.jpg'.format(i))\n",
    "    \n",
    "            teff.append(param_res.params['teff'].value)\n",
    "            logg.append(param_res.params['logg'].value)\n",
    "            e_teff.append(param_res.params['teff'].stderr)\n",
    "            e_logg.append(param_res.params['logg'].stderr)\n",
    "    \n",
    "            catalog['wd_rv'][i] = rv\n",
    "            catalog['wd_e_rv'][i] = e_rv\n",
    "            redchis.append(redchi)\n",
    "            \n",
    "            lmfit_rvs.append(param_res.params['RV'].value)\n",
    "            lmfit_e_rvs.append(param_res.params['RV'].stderr)\n",
    "    \n",
    "            return_obj.append(param_res)\n",
    "            \n",
    "            catalog['rv_id'][i] = i\n",
    "        elif catalog['wd_rv_from'][i] == 'falcon':\n",
    "            teff.append(-999)\n",
    "            logg.append(-999)\n",
    "            e_teff.append(-999)\n",
    "            e_logg.append(-999)\n",
    "            \n",
    "            redchis.append(0)\n",
    "            \n",
    "            lmfit_rvs.append(0)\n",
    "            lmfit_e_rvs.append(0)\n",
    "\n",
    "\n",
    "    #catalog.remove_rows(drops)\n",
    "#    catalog['wd_rv'] = rvs\n",
    "#    catalog['wd_e_rv'] = e_rvs\n",
    "\n",
    "    catalog['wd_corv_logg'] = logg\n",
    "    catalog['wd_corv_teff'] = teff\n",
    "    catalog['wd_e_teff'] = e_teff\n",
    "    catalog['wd_e_logg'] = e_logg\n",
    "    \n",
    "#    catalog['wd_e_rv'][catalog['wd_e_rv'] == None] = 1e-6\n",
    "    catalog['wd_rechi'] = redchis\n",
    "    #catalog['figs'] = figs\n",
    "    \n",
    "else:\n",
    "    trv_cat = fits.open('data/wd_rvs.fits')\n",
    "    rv_cat = Table(trv_cat[1].data)\n",
    "    \n",
    "    catalog['wd_rv'] = rv_cat['wd_rv']\n",
    "    catalog['wd_e_rv'] = rv_cat['wd_e_rv']\n",
    "    \n",
    "    catalog['wd_corv_logg'] = rv_cat['wd_corv_logg']\n",
    "    catalog['wd_corv_teff'] = rv_cat['wd_corv_teff']\n",
    "    catalog['wd_e_teff'] = rv_cat['wd_e_teff']\n",
    "    catalog['wd_e_logg'] = rv_cat['wd_e_logg']\n",
    "    \n",
    "    catalog['wd_rechi'] = rv_cat['wd_rechi']\n",
    "    "
   ]
  },
  {
   "cell_type": "code",
   "execution_count": null,
   "id": "df6a3eb7",
   "metadata": {},
   "outputs": [],
   "source": [
    "lmfit_rvs"
   ]
  },
  {
   "cell_type": "code",
   "execution_count": null,
   "id": "5d5a9dd3",
   "metadata": {
    "tags": []
   },
   "outputs": [],
   "source": [
    "if calculate_rvs:\n",
    "    catalog[['wd_rv', 'wd_e_rv', 'wd_corv_logg', 'wd_corv_teff', 'wd_e_teff', 'wd_e_logg', 'wd_rechi', 'wd_catalog_id']].write('data/wd_rvs.fits', overwrite=True)"
   ]
  },
  {
   "cell_type": "code",
   "execution_count": null,
   "id": "d1994c83",
   "metadata": {
    "tags": []
   },
   "outputs": [],
   "source": []
  },
  {
   "cell_type": "code",
   "execution_count": null,
   "id": "23f34f69",
   "metadata": {
    "tags": []
   },
   "outputs": [],
   "source": [
    "plt.figure(figsize=(10,10))\n",
    "plt.grid()\n",
    "plt.hist(catalog['wd_rv'], bins = 20, histtype='step', color='black')\n",
    "ymin, ymax = plt.ylim()\n",
    "plt.vlines(np.mean(catalog['wd_rv']), ymin, ymax, linestyles='dashed')\n",
    "plt.xlabel(r'$RV_{WD}$', fontsize=18)"
   ]
  },
  {
   "cell_type": "code",
   "execution_count": null,
   "id": "c1de0ccf",
   "metadata": {
    "tags": []
   },
   "outputs": [],
   "source": [
    "catalog.remove_columns(['wd_wl', 'wd_fl', 'wd_ivar'])\n",
    "catalog.write('data/03_wd_rv.fits', format='fits', overwrite=True)"
   ]
  },
  {
   "cell_type": "code",
   "execution_count": null,
   "id": "336ccadb",
   "metadata": {},
   "outputs": [],
   "source": []
  },
  {
   "cell_type": "code",
   "execution_count": null,
   "id": "6e1a693a",
   "metadata": {},
   "outputs": [],
   "source": []
  }
 ],
 "metadata": {
  "kernelspec": {
   "display_name": "Python 3 (ipykernel)",
   "language": "python",
   "name": "python3"
  },
  "language_info": {
   "codemirror_mode": {
    "name": "ipython",
    "version": 3
   },
   "file_extension": ".py",
   "mimetype": "text/x-python",
   "name": "python",
   "nbconvert_exporter": "python",
   "pygments_lexer": "ipython3",
   "version": "3.9.13"
  }
 },
 "nbformat": 4,
 "nbformat_minor": 5
}
