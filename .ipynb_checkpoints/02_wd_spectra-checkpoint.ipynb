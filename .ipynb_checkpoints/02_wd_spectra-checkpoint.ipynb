{
 "cells": [
  {
   "cell_type": "code",
   "execution_count": 1,
   "metadata": {},
   "outputs": [
    {
     "name": "stdout",
     "output_type": "stream",
     "text": [
      "could not find pickled WD models\n",
      "using local paths\n",
      "star and exposure catalogs not found! check paths and run make_catalogs() if you want to use sdss functionality. otherwise ignore.\n"
     ]
    },
    {
     "name": "stderr",
     "output_type": "stream",
     "text": [
      "2022-07-11 15:30:37.496078: W tensorflow/stream_executor/platform/default/dso_loader.cc:64] Could not load dynamic library 'libcudart.so.11.0'; dlerror: libcudart.so.11.0: cannot open shared object file: No such file or directory\n",
      "2022-07-11 15:30:37.496100: I tensorflow/stream_executor/cuda/cudart_stub.cc:29] Ignore above cudart dlerror if you do not have a GPU set up on your machine.\n"
     ]
    },
    {
     "name": "stdout",
     "output_type": "stream",
     "text": [
      "Please install galpy if you want to use the gaia module. otherwise, ignore this.\n"
     ]
    }
   ],
   "source": [
    "from sklearn.cluster import KMeans\n",
    "import numpy as np\n",
    "import scipy as sp\n",
    "import sys\n",
    "sys.path.append('../corv/src')\n",
    "sys.path.append('../wdtools')\n",
    "\n",
    "import matplotlib.pyplot as plt\n",
    "import matplotlib.colors as colors\n",
    "from astropy.io import fits\n",
    "from astropy.table import Table\n",
    "from tqdm import tqdm\n",
    "import pandas as pd\n",
    "import corv\n",
    "\n",
    "### Query\n",
    "from astroquery.sdss import SDSS\n",
    "from astroquery.gaia import Gaia\n",
    "from astropy import constants as c\n",
    "import data_selector as ds\n",
    "\n",
    "import wdtools\n",
    "import corv\n"
   ]
  },
  {
   "cell_type": "code",
   "execution_count": 2,
   "metadata": {},
   "outputs": [],
   "source": [
    "catalog = Table.read('data/02_photometry.fits')\n",
    "#print(os.path.dirname(os.path.abspath(__file__)))"
   ]
  },
  {
   "cell_type": "code",
   "execution_count": 3,
   "metadata": {},
   "outputs": [
    {
     "name": "stdout",
     "output_type": "stream",
     "text": [
      "['51788', '0386', '0258*']\n"
     ]
    }
   ],
   "source": [
    "i = 3\n",
    "print(catalog['id'][i].split('_')[1].split('-'))"
   ]
  },
  {
   "cell_type": "code",
   "execution_count": 4,
   "metadata": {},
   "outputs": [],
   "source": [
    "plate = []\n",
    "mjd = []\n",
    "fiber = []\n",
    "\n",
    "for i in range(len(catalog)):\n",
    "    try:\n",
    "        mjd.append(int(catalog['id'][i].split('_')[1].split('-')[0]))\n",
    "        plate.append(int(catalog['id'][i].split('_')[1].split('-')[1]))\n",
    "        fiber.append(int(catalog['id'][i].split('_')[1].split('-')[2][:3]))\n",
    "    except:\n",
    "        print(i)\n",
    "        a = int('342F#')\n",
    "    \n"
   ]
  },
  {
   "cell_type": "code",
   "execution_count": 5,
   "metadata": {},
   "outputs": [
    {
     "name": "stderr",
     "output_type": "stream",
     "text": [
      "  0%|                                                                                    | 0/89 [00:00<?, ?it/s]/home/arseneausm/anaconda3/lib/python3.8/site-packages/astroquery/sdss/core.py:874: VisibleDeprecationWarning: Reading unicode strings without specifying the encoding argument is deprecated. Set the encoding, use None for the system default.\n",
      "  arr = np.atleast_1d(np.genfromtxt(io.BytesIO(response.content),\n",
      " 12%|█████████▏                                                                | 11/89 [00:00<00:00, 106.41it/s]WARNING: NoResultsWarning: Query returned no results. [astroquery.sdss.core]\n",
      "100%|██████████████████████████████████████████████████████████████████████████| 89/89 [00:00<00:00, 163.45it/s]\n"
     ]
    },
    {
     "name": "stdout",
     "output_type": "stream",
     "text": [
      "<class 'astropy.io.fits.hdu.hdulist.HDUList'>\n"
     ]
    }
   ],
   "source": [
    "spec = []\n",
    "wl = []\n",
    "fl = []\n",
    "ivar = []\n",
    "\n",
    "for i in tqdm(range(len(catalog))):\n",
    "    try:\n",
    "        spec.append(SDSS.get_spectra_async(plate=plate[i], fiberID=fiber[i], mjd=mjd[i])[0].get_fits())\n",
    "        \n",
    "        wl.append(10**spec[i][1].data['loglam'])\n",
    "        fl.append(spec[i][1].data['flux'])\n",
    "        ivar.append(spec[i][1].data['ivar'])\n",
    "    except:\n",
    "        spec.append(-9999)\n",
    "        wl.append(-9999)\n",
    "        fl.append(-9999)\n",
    "        ivar.append(-9999)\n",
    "        \n",
    "        \n",
    "catalog['wd_spectrum'] = spec\n",
    "catalog['wd_wl'] = wl\n",
    "catalog['wd_fl'] = fl\n",
    "catalog['wd_ivar'] = ivar\n",
    "    \n",
    "print(type(spec[0]))"
   ]
  },
  {
   "cell_type": "code",
   "execution_count": 6,
   "metadata": {},
   "outputs": [
    {
     "name": "stdout",
     "output_type": "stream",
     "text": [
      "XTENSION= 'BINTABLE'           / binary table extension                         BITPIX  =                    8 / array data type                                NAXIS   =                    2 / number of array dimensions                     NAXIS1  =                   32 / length of dimension 1                          NAXIS2  =                 3817 / length of dimension 2                          PCOUNT  =                    0 / number of group parameters                     GCOUNT  =                    1 / number of groups                               TFIELDS =                    8 / number of table fields                         TTYPE1  = 'flux    '                                                            TFORM1  = 'E       '                                                            TTYPE2  = 'loglam  '                                                            TFORM2  = 'E       '                                                            TTYPE3  = 'ivar    '                                                            TFORM3  = 'E       '                                                            TTYPE4  = 'and_mask'                                                            TFORM4  = 'J       '                                                            TTYPE5  = 'or_mask '                                                            TFORM5  = 'J       '                                                            TTYPE6  = 'wdisp   '                                                            TFORM6  = 'E       '                                                            TTYPE7  = 'sky     '                                                            TFORM7  = 'E       '                                                            TTYPE8  = 'model   '                                                            TFORM8  = 'E       '                                                            EXTNAME = 'COADD   '                                                            COMMENT Coadded spectrum                                                        END                                                                                                                                                                                                                                                                                                                                                                                                                                                                                                                                                                                                                                                                                                                                                                                                                             \n"
     ]
    }
   ],
   "source": [
    "print(spec[0][1].header)"
   ]
  },
  {
   "cell_type": "code",
   "execution_count": null,
   "metadata": {},
   "outputs": [],
   "source": [
    "def pseudonormalize(fl, win = 50):\n",
    "    cont_fl = np.repeat(np.nan, len(fl))\n",
    "    \n",
    "    for i in range(len(fl)):\n",
    "        if (i - (win / 2)) < 0:\n",
    "            fl_win = fl[0:(i + (win // 2))]\n",
    "        else:\n",
    "            fl_win = fl[(i - (win // 2)) : (i + (win // 2))]\n",
    "        \n",
    "        cont_fl[i] = np.percentile(fl_win, 90)\n",
    "        \n",
    "    return fl / cont_fl\n",
    "'''\n",
    "def spec_split(bands, wl, fl, window_size = 100):\n",
    "    spec_split = {}\n",
    "    \n",
    "    for i in range(len(bands)):\n",
    "        spec_split[bands.keys()[i]] = np.array([ [wl[\n",
    "'''"
   ]
  },
  {
   "cell_type": "code",
   "execution_count": null,
   "metadata": {},
   "outputs": [],
   "source": [
    "i = 0\n",
    "\n",
    "plt.figure(figsize=(20,8))\n",
    "\n",
    "plt.plot(wl[i], fl[i])\n",
    "plt.grid()\n",
    "plt.ylabel(r'Flux [$10^{-17}$ ergs/s/cm2/A]')\n",
    "plt.xlabel(r'Wavelength [A]')\n",
    "plt.title('White Dwarf Light Curve')\n",
    "ax = plt.gca()\n",
    "\n",
    "plt.show()"
   ]
  },
  {
   "cell_type": "code",
   "execution_count": null,
   "metadata": {},
   "outputs": [],
   "source": [
    "nwl = wl[i]\n",
    "nfl = fl[i]\n",
    "cont = pseudonormalize(nfl, 50)\n",
    "\n",
    "plt.figure(figsize=(20,8))\n",
    "\n",
    "plt.plot(nwl, cont)\n",
    "plt.grid()\n",
    "plt.ylabel(r'Normalized Flux')\n",
    "plt.xlabel(r'Wavelength [A]')\n",
    "plt.title('Normalized Spectrum')\n",
    "ax = plt.gca()\n",
    "\n",
    "plt.show()"
   ]
  },
  {
   "cell_type": "code",
   "execution_count": null,
   "metadata": {},
   "outputs": [],
   "source": [
    "corvmodel = corv.models.make_koester_model()\n",
    "params = corvmodel.make_params()\n",
    "\n",
    "param_res, rv_res, rv_init = corv.fit.fit_corv(wl[i], fl[i], ivar[i], corvmodel)"
   ]
  },
  {
   "cell_type": "code",
   "execution_count": null,
   "metadata": {},
   "outputs": [],
   "source": []
  },
  {
   "cell_type": "code",
   "execution_count": null,
   "metadata": {},
   "outputs": [],
   "source": []
  },
  {
   "cell_type": "code",
   "execution_count": null,
   "metadata": {},
   "outputs": [],
   "source": []
  }
 ],
 "metadata": {
  "kernelspec": {
   "display_name": "Python 3 (ipykernel)",
   "language": "python",
   "name": "python3"
  },
  "language_info": {
   "codemirror_mode": {
    "name": "ipython",
    "version": 3
   },
   "file_extension": ".py",
   "mimetype": "text/x-python",
   "name": "python",
   "nbconvert_exporter": "python",
   "pygments_lexer": "ipython3",
   "version": "3.8.3"
  }
 },
 "nbformat": 4,
 "nbformat_minor": 4
}
