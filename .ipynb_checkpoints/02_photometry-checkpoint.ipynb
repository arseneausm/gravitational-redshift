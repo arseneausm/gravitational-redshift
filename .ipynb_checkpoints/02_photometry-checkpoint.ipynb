{
 "cells": [
  {
   "cell_type": "code",
   "execution_count": 1,
   "id": "95c92e98",
   "metadata": {},
   "outputs": [
    {
     "name": "stderr",
     "output_type": "stream",
     "text": [
      "2022-07-06 16:36:42.841995: W tensorflow/stream_executor/platform/default/dso_loader.cc:64] Could not load dynamic library 'libcudart.so.11.0'; dlerror: libcudart.so.11.0: cannot open shared object file: No such file or directory\n",
      "2022-07-06 16:36:42.842086: I tensorflow/stream_executor/cuda/cudart_stub.cc:29] Ignore above cudart dlerror if you do not have a GPU set up on your machine.\n"
     ]
    },
    {
     "name": "stdout",
     "output_type": "stream",
     "text": [
      "Please install galpy if you want to use the gaia module. otherwise, ignore this.\n",
      "could not find pickled WD models\n",
      "using local paths\n",
      "star and exposure catalogs not found! check paths and run make_catalogs() if you want to use sdss functionality. otherwise ignore.\n"
     ]
    }
   ],
   "source": [
    "# Install a pip package in the current Jupyter kernel\n",
    "import sys\n",
    "import os\n",
    "sys.path.append('../')\n",
    "sys.path.append('../wdtools')\n",
    "sys.path.append('../WD_models')\n",
    "sys.path.append('../corv/src')\n",
    "\n",
    "### General\n",
    "import numpy as np\n",
    "import matplotlib.pyplot as plt\n",
    "import matplotlib.colors as colors\n",
    "\n",
    "import astropy\n",
    "from astropy.coordinates import SkyCoord\n",
    "from astropy.io import fits\n",
    "import astropy.units as u\n",
    "from astropy.table import Table, Column, MaskedColumn, join\n",
    "\n",
    "from tqdm import tqdm\n",
    "import pandas as pd\n",
    "from scipy.optimize import curve_fit\n",
    "import scipy.stats as stats\n",
    "\n",
    "### Tools\n",
    "import wdtools\n",
    "import WD_models\n",
    "import data_selector as ds\n",
    "import corv\n",
    "import WD_models\n",
    "from bisect import bisect_left\n",
    "import lmfit\n",
    "import glob\n",
    "\n",
    "from astroquery.sdss import SDSS\n",
    "from astroquery.gaia import Gaia\n",
    "\n",
    "#corv.sdss.make_catalogs()"
   ]
  },
  {
   "cell_type": "code",
   "execution_count": 2,
   "id": "04526f82-fa1f-4f9b-ab49-ccdbed67c0a4",
   "metadata": {},
   "outputs": [],
   "source": [
    "c = 2.998e10\n",
    "k = 1.38e-16\n",
    "h = 6.626e-27\n",
    "halpha = 6564.61\n",
    "hbeta = 4862.68\n",
    "hgamma = 4341.68\n",
    "hdelta = 4102.89\n",
    "speed_light = 299792458 #m/s\n",
    "radius_sun = 6.957e8\n",
    "mass_sun = 1.9884e30\n",
    "newton_G = 6.674e-11\n",
    "pc_to_m = 3.086775e16"
   ]
  },
  {
   "cell_type": "code",
   "execution_count": 31,
   "id": "af4ee624",
   "metadata": {
    "tags": []
   },
   "outputs": [],
   "source": [
    "catalog = Table.read('data/01_catalog.fits')"
   ]
  },
  {
   "cell_type": "markdown",
   "id": "8b5b85e9-e10e-4432-8b62-79037aa3f5f9",
   "metadata": {},
   "source": [
    "(PAPER TO UPDATE THIS LATER)[https://iopscience.iop.org/article/10.1088/0004-637X/737/2/103#apj398709t6]"
   ]
  },
  {
   "cell_type": "code",
   "execution_count": 4,
   "id": "de386a14",
   "metadata": {},
   "outputs": [
    {
     "name": "stdout",
     "output_type": "stream",
     "text": [
      "Loading pixel_info ...\n",
      "Loading samples ...\n",
      "Loading best_fit ...\n",
      "Replacing NaNs in reliable distance estimates ...\n",
      "Sorting pixel_info ...\n",
      "Extracting hp_idx_sorted and data_idx at each nside ...\n",
      "  nside = 64\n",
      "  nside = 128\n",
      "  nside = 256\n",
      "  nside = 512\n",
      "  nside = 1024\n",
      "t = 28.453 s\n",
      "  pix_info:   1.191 s\n",
      "   samples:  16.789 s\n",
      "      best:   4.743 s\n",
      "       nan:   0.134 s\n",
      "      sort:   5.411 s\n",
      "       idx:   0.184 s\n",
      "E(B-V) = 0.050 mag\n"
     ]
    }
   ],
   "source": [
    "from __future__ import print_function\n",
    "from astropy.coordinates import SkyCoord\n",
    "import astropy.units as u\n",
    "from dustmaps.bayestar import BayestarQuery\n",
    "\n",
    "coords = SkyCoord('12h30m25.3s', '15d15m58.1s', distance = 200 * u.kpc, frame='icrs')\n",
    "bsq = BayestarQuery()\n",
    "ebv = bsq.query(coords)\n",
    "\n",
    "coords = SkyCoord('12h30m25.3s', '15d15m58.1s', distance = 200 * u.kpc, frame='icrs')\n",
    "print('E(B-V) = {:.3f} mag'.format(ebv))\n",
    "#print(ebv)"
   ]
  },
  {
   "cell_type": "code",
   "execution_count": 32,
   "id": "839165cc",
   "metadata": {},
   "outputs": [],
   "source": [
    "coords = [SkyCoord(frame=\"galactic\", l=catalog['wd_l'][i]*u.deg, b=catalog['wd_b'][i]*u.deg, distance = (1/catalog['wd_parallax'][i]) * u.kpc) for i in range(len(catalog))]\n",
    "catalog['wd_coords'] = coords"
   ]
  },
  {
   "cell_type": "code",
   "execution_count": 33,
   "id": "ec91d86a",
   "metadata": {
    "tags": []
   },
   "outputs": [],
   "source": [
    "catalog['E(B-V)'] = [bsq.query(catalog['wd_coords'][i]) for i in range(len(catalog))]"
   ]
  },
  {
   "cell_type": "code",
   "execution_count": 34,
   "id": "442e110a-e454-4f2b-b539-656fb91679ed",
   "metadata": {},
   "outputs": [
    {
     "name": "stdout",
     "output_type": "stream",
     "text": [
      "    wd_source_id   \n",
      "-------------------\n",
      "2854365720811907328\n",
      " 754878504143019136\n",
      " 611167150367477888\n",
      "2641865135735601024\n",
      "2641865135735601024\n",
      "3843636017819635968\n",
      "2500203890109764608\n",
      "2497895053130247040\n",
      "2497895053130247040\n",
      "1351832950597627648\n",
      " 662468090881350016\n",
      "                ...\n",
      " 724012189094256512\n",
      " 727912981472823680\n",
      " 861577625059010176\n",
      "1778836056545324160\n",
      "3671229300344425472\n",
      " 908364559240386944\n",
      " 908364559240386944\n",
      "1411226507145210624\n",
      " 833452873535333760\n",
      "   7027562929324416\n",
      "1155156090196297984\n",
      "Length = 101 rows\n"
     ]
    }
   ],
   "source": [
    "print(catalog['wd_source_id'])"
   ]
  },
  {
   "cell_type": "code",
   "execution_count": 35,
   "id": "9627b63f-bf79-4e1a-8418-a841dc2dd75c",
   "metadata": {},
   "outputs": [],
   "source": [
    "ADQL_CODE1 = \"SELECT \\\n",
    "        sdss.original_ext_source_id as bestobjid,\\\n",
    "        gaia_source.source_id\\\n",
    "        FROM gaiaedr3.gaia_source \\\n",
    "        JOIN gaiaedr3.sdssdr13_best_neighbour as sdss\\\n",
    "        ON gaia_source.source_id = sdss.source_id      \\\n",
    "        WHERE gaia_source.source_id IN {}\\\n",
    "    \".format(tuple(catalog['wd_source_id']))\n",
    "\n",
    "job1 = Gaia.launch_job(ADQL_CODE1,dump_to_file=False)\n",
    "d1 = job1.get_results()"
   ]
  },
  {
   "cell_type": "code",
   "execution_count": 36,
   "id": "34c8fb5b-44e3-4bb3-9381-f121cc7f696a",
   "metadata": {},
   "outputs": [
    {
     "name": "stdout",
     "output_type": "stream",
     "text": [
      "     bestobjid           source_id     \n",
      "------------------- -------------------\n",
      "1237670016735772722    7027562929324416\n",
      "1237658492800663588  587767202170593536\n",
      "1237667538001068086  611167150367477888\n",
      "1237667429019418713  635639045092641280\n",
      "1237667293728145532  637998910577030912\n",
      "1237667254002122820  642837135401004672\n",
      "1237667113872982045  647300160472509184\n",
      "1237667783346094312  649472245695986816\n",
      "1237667108500603237  662468090881350016\n",
      "1237664094508482659  679488530879123456\n",
      "1237664879410872345  692130376274309376\n",
      "                ...                 ...\n",
      "1237661950262902855 3738774533021184256\n",
      "1237674649384189970 3803142859993965952\n",
      "1237648721223745571 3804750586512019840\n",
      "1237655126077538388 3814038096808045696\n",
      "1237674461487431869 3843636017819635968\n",
      "1237658422487875628 3897577164925150080\n",
      "1237662526304878633 3932749274881864320\n",
      "1237668297127690257 3975115240311668096\n",
      "1237664818748325918 4032775038821332608\n",
      "1237668569321504963 4406733207018066944\n",
      "1237668336325755103 4463132278006820224\n",
      "Length = 82 rows\n"
     ]
    }
   ],
   "source": [
    "print(d1)"
   ]
  },
  {
   "cell_type": "code",
   "execution_count": 37,
   "id": "ebb770a2-02f1-428b-8cd1-2eae09bbe1ed",
   "metadata": {},
   "outputs": [
    {
     "name": "stderr",
     "output_type": "stream",
     "text": [
      "100%|███████████████████████████████████████████████████████████████████████| 101/101 [00:00<00:00, 4470.03it/s]\n"
     ]
    }
   ],
   "source": [
    "drops = []\n",
    "bestobjid1 = []\n",
    "\n",
    "for i in tqdm (range(len(catalog))):\n",
    "    notfound = False\n",
    "    a = np.where(d1['source_id'] == catalog['wd_source_id'][i])\n",
    "    \n",
    "    try:\n",
    "        j = a[0][0]\n",
    "    except:\n",
    "        notfound = True\n",
    "        \n",
    "    if not notfound: \n",
    "        try:\n",
    "            bestobjid1.append(d1['bestobjid'][j])\n",
    "        except:\n",
    "            notfound = True\n",
    "    if notfound:\n",
    "        drops.append(i)    \n",
    "        \n",
    "catalog.remove_rows(drops)\n",
    "catalog['wd_bestobjid'] = bestobjid1"
   ]
  },
  {
   "cell_type": "code",
   "execution_count": 38,
   "id": "cacd8e2f-b6d9-4378-866f-be1ee6a95310",
   "metadata": {},
   "outputs": [
    {
     "name": "stdout",
     "output_type": "stream",
     "text": [
      "    wd_bestobjid   \n",
      "-------------------\n",
      "1237663305844981770\n",
      "1237661136887349316\n",
      "1237667538001068086\n",
      "1237657190367035488\n",
      "1237657190367035488\n",
      "1237674461487431869\n",
      "1237657070090321961\n",
      "1237657070092353571\n",
      "1237657070092353571\n",
      "1237654953744334980\n",
      "1237667108500603237\n",
      "                ...\n",
      "1237667550341496885\n",
      "1237667551953420367\n",
      "1237667209982312473\n",
      "1237653617472176153\n",
      "1237666433114177925\n",
      "1237657595150729272\n",
      "1237657595150729272\n",
      "1237654953739026732\n",
      "1237658204502818846\n",
      "1237670016735772722\n",
      "1237651823250112558\n",
      "Length = 89 rows\n"
     ]
    }
   ],
   "source": [
    "print(catalog['wd_bestobjid'])"
   ]
  },
  {
   "cell_type": "code",
   "execution_count": 39,
   "id": "63f75f20",
   "metadata": {},
   "outputs": [],
   "source": [
    "SDSS_QUERY = \"\"\"select ObjID, psfMag_u, psfMagErr_u, psfMag_g, psfMagErr_g, psfMag_r, psfMagErr_r, psfMag_i, psfMagErr_i, psfMag_z, psfMagErr_z\n",
    "    from dbo.PhotoObjAll\n",
    "    where ObjID in {}\"\"\".format(tuple(catalog['wd_bestobjid']))\n",
    "\n",
    "phot = SDSS.query_sql(SDSS_QUERY)"
   ]
  },
  {
   "cell_type": "code",
   "execution_count": 40,
   "id": "21bcb553",
   "metadata": {},
   "outputs": [
    {
     "name": "stderr",
     "output_type": "stream",
     "text": [
      "100%|████████████████████████████████████████████████████████████████████████| 89/89 [00:00<00:00, 23930.58it/s]\n"
     ]
    }
   ],
   "source": [
    "drops = []\n",
    "Su = []\n",
    "Sg = []\n",
    "Sr = []\n",
    "Si = []\n",
    "Sz = []\n",
    "\n",
    "fu = []\n",
    "fg = []\n",
    "fr = []\n",
    "fi = []\n",
    "fz = []\n",
    "\n",
    "e_Su = []\n",
    "e_Sg = []\n",
    "e_Sr = []\n",
    "e_Si = []\n",
    "e_Sz = []\n",
    "\n",
    "for i in tqdm (range(len(catalog))):\n",
    "    notfound = False\n",
    "    a = np.where(phot['ObjID'] == catalog['wd_bestobjid'][i])\n",
    "    \n",
    "    try:\n",
    "        j = a[0][0]\n",
    "    except:\n",
    "        notfound = True\n",
    "        \n",
    "    if not notfound: \n",
    "        Su.append(phot['psfMag_u'][j])\n",
    "        Sg.append(phot['psfMag_g'][j])\n",
    "        Sr.append(phot['psfMag_r'][j])\n",
    "        Si.append(phot['psfMag_i'][j])\n",
    "        Sz.append(phot['psfMag_z'][j])\n",
    "        \n",
    "        e_Su.append(phot['psfMagErr_u'][j])\n",
    "        e_Sg.append(phot['psfMagErr_g'][j])\n",
    "        e_Sr.append(phot['psfMagErr_r'][j])\n",
    "        e_Si.append(phot['psfMagErr_i'][j])\n",
    "        e_Sz.append(phot['psfMagErr_z'][j])\n",
    "    else:\n",
    "        drops.append(i)    \n",
    "        \n",
    "catalog.remove_rows(drops)\n",
    "catalog['u'] = Su# + 5 * np.log10(catalog['wd_parallax'] / 100)\n",
    "catalog['g'] = Sg# + 5 * np.log10(catalog['wd_parallax'] / 100)\n",
    "catalog['r'] = Sr# + 5 * np.log10(catalog['wd_parallax'] / 100)\n",
    "catalog['i'] = Si# + 5 * np.log10(catalog['wd_parallax'] / 100)\n",
    "catalog['z'] = Sz# + 5 * np.log10(catalog['wd_parallax'] / 100)\n",
    "\n",
    "catalog['err_u'] = e_Su\n",
    "catalog['err_g'] = e_Sg\n",
    "catalog['err_r'] = e_Sr\n",
    "catalog['err_i'] = e_Si\n",
    "catalog['err_z'] = e_Sz\n",
    "#catalog.reset_index(inplace=True, drop=True)"
   ]
  },
  {
   "cell_type": "code",
   "execution_count": 41,
   "id": "46cae322-958d-4f1d-8c2f-45d2b0d367d5",
   "metadata": {},
   "outputs": [
    {
     "name": "stderr",
     "output_type": "stream",
     "text": [
      "100%|█████████████████████████████████████████████████████████████████████████| 89/89 [00:00<00:00, 9278.97it/s]\n"
     ]
    }
   ],
   "source": [
    "catalog['A_u'] = np.repeat(np.nan, len(catalog))\n",
    "catalog['A_g'] = np.repeat(np.nan, len(catalog))\n",
    "catalog['A_r'] = np.repeat(np.nan, len(catalog))\n",
    "catalog['A_i'] = np.repeat(np.nan, len(catalog))\n",
    "catalog['A_z'] = np.repeat(np.nan, len(catalog))\n",
    "\n",
    "for obj in tqdm(catalog):\n",
    "    obj['A_u'] = obj['E(B-V)'] * 3.518\n",
    "    obj['A_g'] = obj['E(B-V)'] * 2.617\n",
    "    obj['A_r'] = obj['E(B-V)'] * 1.971\n",
    "    obj['A_i'] = obj['E(B-V)'] * 1.549\n",
    "    obj['A_z'] = obj['E(B-V)'] * 1.263\n",
    "    \n",
    "catalog['dered_u'] = catalog['u'] - catalog['A_u']\n",
    "catalog['dered_g'] = catalog['g'] - catalog['A_g']\n",
    "catalog['dered_r'] = catalog['r'] - catalog['A_r']\n",
    "catalog['dered_i'] = catalog['i'] - catalog['A_i']\n",
    "catalog['dered_z'] = catalog['z'] - catalog['A_z']\n",
    "\n",
    "catalog['r_est'] = 1000 / catalog['wd_parallax']"
   ]
  },
  {
   "cell_type": "code",
   "execution_count": 42,
   "id": "c8b07cf7",
   "metadata": {},
   "outputs": [
    {
     "name": "stdout",
     "output_type": "stream",
     "text": [
      "initialized with atm_type = H and bands = ['Su', 'Sg', 'Sr', 'Si', 'Sz']\n"
     ]
    }
   ],
   "source": [
    "font_model = WD_models.load_model('f', 'f', 'f', 'H', HR_bands = ['Su-Sg', 'Su'])\n",
    "\n",
    "g_acc = (10**font_model['logg'])/100\n",
    "rsun = np.sqrt(font_model['mass_array'] * mass_sun * newton_G / g_acc) / radius_sun\n",
    "logg_teff_to_rsun = WD_models.interp_xy_z_func(x = font_model['logg'], y = 10**font_model['logteff'],\n",
    "                                            z = rsun, interp_type = 'linear')\n",
    "\n",
    "fitsed = WD_models.FitSED(to_flux = False, atm_type = 'H', bands = ['Su', 'Sg', 'Sr', 'Si', 'Sz'])"
   ]
  },
  {
   "cell_type": "code",
   "execution_count": 43,
   "id": "bfe54d4a-da5d-43c3-883c-30196eaeef69",
   "metadata": {},
   "outputs": [],
   "source": [
    "def mag_to_flux(mag):\n",
    "    return 10 ** ((mag + 48.6)/ -2.5) \n",
    "    \n",
    "def get_model_flux(params):\n",
    "    \n",
    "    teff, logg, radius, distance = params['teff'], params['logg'], params['radius'], params['distance']\n",
    "    \n",
    "    model_mag = fitsed.model_sed(teff, logg, plx = 100)\n",
    "    model_flux = mag_to_flux(model_mag)\n",
    "    \n",
    "    rsun = logg_teff_to_rsun(logg, teff)\n",
    "    corr_radius = rsun * radius_sun\n",
    "    corr_distance = 10 * pc_to_m\n",
    "    \n",
    "    corr_model_flux = model_flux / (4 * np.pi * (corr_radius / corr_distance)**2)\n",
    "    \n",
    "    radius = radius * radius_sun # Rsun to meter\n",
    "    distance = distance * pc_to_m # Parsec to meter\n",
    "     \n",
    "    flux = corr_model_flux * ( 4 * np.pi * (radius / distance)**2 )\n",
    "    \n",
    "    return flux\n",
    "    \n",
    "\n",
    "def residual(params, obs_flux = None, e_obs_flux = None):\n",
    "    model_flux = get_model_flux(params)\n",
    "\n",
    "    chisquare = ((model_flux - obs_flux) / e_obs_flux)**2\n",
    "    #chisquare[np.isnan(chisquare)] = 1e8\n",
    "    return chisquare"
   ]
  },
  {
   "cell_type": "code",
   "execution_count": null,
   "id": "4b97d218-c841-4a3d-bc9e-a9ae04e9ae9f",
   "metadata": {},
   "outputs": [
    {
     "name": "stderr",
     "output_type": "stream",
     "text": [
      "  0%|                                                                                    | 0/89 [00:00<?, ?it/s]"
     ]
    }
   ],
   "source": [
    "results = []\n",
    "\n",
    "for i in tqdm(range(len(catalog))):\n",
    "    tparams = lmfit.Parameters()\n",
    "    tparams.add('teff', value = 5500, min = 3500, max = 55000, vary = True)\n",
    "    tparams.add('logg', value = 8, min=7.5, max=9, vary=False)\n",
    "    tparams.add('radius', value = 0.0002, min = 0.0001, vary = True)\n",
    "    tparams.add('distance', value = catalog['r_est'][i], min = 1, max = 2000, vary = False)\n",
    "    obs_flux = get_model_flux(tparams)\n",
    "    e_obs_mag = np.array([0,0,0,0,0])\n",
    "    \n",
    "    obs_flux = mag_to_flux(np.array( [catalog['u'][i] - 0.040, catalog['g'][i], catalog['r'][i], catalog['i'][i] + 0.015, catalog['z'][i] + 0.030] ))\n",
    "    e_obs_mag = np.array( [catalog['err_u'][i], catalog['err_g'][i], catalog['err_r'][i], catalog['err_i'][i], catalog['err_z'][i]] )\n",
    "    \n",
    "    floor_error = 0.02\n",
    "    e_obs_mag = np.sqrt(e_obs_mag**2 + floor_error**2)\n",
    "    \n",
    "    e_obs_flux = e_obs_mag * obs_flux\n",
    "    \n",
    "    params = lmfit.Parameters()\n",
    "\n",
    "    params.add('teff', value = 50000, min = 3500, max = 55000, vary = True)\n",
    "    params.add('logg', value = 8, min=7.5, max=9, vary=False)\n",
    "    params.add('radius', value = 0.01, min = 0.0001, max = 0.03, vary = True)\n",
    "    params.add('distance', value = catalog['r_est'][i], min = 1, max = 2000, vary = False)\n",
    "        \n",
    "    result = lmfit.minimize(residual, params, kws = dict(obs_flux = obs_flux, e_obs_flux = e_obs_flux), method = 'emcee', progress = False, burn=300, steps=1000, thin=20)\n",
    "    \n",
    "    bands = ['u', 'g', 'r', 'i', 'z']\n",
    "\n",
    "    '''\n",
    "    plt.figure(figsize = (8,7))\n",
    "    plt.errorbar(bands, obs_flux, yerr = e_obs_flux, linestyle = 'none', marker = 'None', color = 'k',\n",
    "                capsize = 5, label = 'Observed SED')\n",
    "    plt.plot(bands, get_model_flux(result.params), 'bo', markersize = 10, label = 'Model SED')\n",
    "    plt.xlabel('Band')\n",
    "    plt.ylabel('Apparent Flux)')\n",
    "    #plt.gca().invert_yaxis()\n",
    "    plt.legend()\n",
    "    \n",
    "    result.params.pretty_print()\n",
    "    '''\n",
    "    \n",
    "    results.append(result)"
   ]
  },
  {
   "cell_type": "code",
   "execution_count": null,
   "id": "0176db98-e8b3-41fc-b4d8-d63e4956a38f",
   "metadata": {},
   "outputs": [],
   "source": []
  },
  {
   "cell_type": "code",
   "execution_count": null,
   "id": "430b5af5-f785-4b04-af1e-64215aa61e0a",
   "metadata": {},
   "outputs": [],
   "source": []
  },
  {
   "cell_type": "code",
   "execution_count": 79,
   "id": "977dfdfd-f05a-4dec-ac79-cf684bbcb19b",
   "metadata": {},
   "outputs": [],
   "source": [
    "catalog['radius'] = [result.params['radius'].value for result in results]\n",
    "catalog['teff'] = [result.params['teff'].value for result in results]\n",
    "catalog['e_teff'] = [result.params['teff'].stderr for result in results]\n",
    "catalog['chisqr'] = [result.chisqr for result in results]\n",
    "\n",
    "err = []\n",
    "\n",
    "for i in range(len(results)):\n",
    "    if results[i].params['radius'].stderr is not None:\n",
    "        err.append(results[i].params['radius'].stderr )\n",
    "    else:\n",
    "        err.append(0) \n",
    "catalog['e_radius'] = err"
   ]
  },
  {
   "cell_type": "code",
   "execution_count": 80,
   "id": "d951c72f-3cd4-4cba-a1fb-557267c58fc8",
   "metadata": {},
   "outputs": [
    {
     "name": "stderr",
     "output_type": "stream",
     "text": [
      "<>:6: SyntaxWarning: \"is not\" with a literal. Did you mean \"!=\"?\n",
      "<>:6: SyntaxWarning: \"is not\" with a literal. Did you mean \"!=\"?\n",
      "<>:6: SyntaxWarning: \"is not\" with a literal. Did you mean \"!=\"?\n",
      "<>:6: SyntaxWarning: \"is not\" with a literal. Did you mean \"!=\"?\n",
      "<>:6: SyntaxWarning: \"is not\" with a literal. Did you mean \"!=\"?\n",
      "<>:6: SyntaxWarning: \"is not\" with a literal. Did you mean \"!=\"?\n",
      "/tmp/ipykernel_9143/2006706867.py:6: SyntaxWarning: \"is not\" with a literal. Did you mean \"!=\"?\n",
      "  if lowmass is not 'f' or highmass is not 'f' or midmass is not 'f':\n",
      "/tmp/ipykernel_9143/2006706867.py:6: SyntaxWarning: \"is not\" with a literal. Did you mean \"!=\"?\n",
      "  if lowmass is not 'f' or highmass is not 'f' or midmass is not 'f':\n",
      "/tmp/ipykernel_9143/2006706867.py:6: SyntaxWarning: \"is not\" with a literal. Did you mean \"!=\"?\n",
      "  if lowmass is not 'f' or highmass is not 'f' or midmass is not 'f':\n"
     ]
    }
   ],
   "source": [
    "model = WD_models.load_model('f', 'f', 'f', 'H')\n",
    "font_model = model\n",
    "\n",
    "def rv_from_radius(radarray, teffarray, lowmass = 'f', midmass = 'f', highmass = 'f'):\n",
    "    \n",
    "    if lowmass is not 'f' or highmass is not 'f' or midmass is not 'f':\n",
    "        font_model = WD_models.load_model(lowmass, midmass, highmass, 'H')\n",
    "    else:\n",
    "        font_model = model\n",
    "\n",
    "    #     font_model = WD_models.load_model(lowmass, midmass, highmass, 'H')\n",
    "\n",
    "\n",
    "    g_acc = (10**font_model['logg'])/100\n",
    "    rsun = np.sqrt(font_model['mass_array'] * mass_sun * newton_G / g_acc) / radius_sun\n",
    "    \n",
    "    rsun_teff_to_m = WD_models.interp_xy_z_func(x = rsun, y = 10**font_model['logteff'],\\\n",
    "                                                z = font_model['mass_array'], interp_type = 'linear')\n",
    "    \n",
    "    mass = rsun_teff_to_m(radarray, teffarray) * mass_sun\n",
    "    radius = radarray * radius_sun\n",
    "    rv = newton_G * mass / (speed_light * radius)\n",
    "\n",
    "    return rv*1e-3"
   ]
  },
  {
   "cell_type": "code",
   "execution_count": 81,
   "id": "478e0109-e844-426a-8fcd-8ff1b5f1b31d",
   "metadata": {},
   "outputs": [],
   "source": [
    "fontaine_model = WD_models.load_model('f', 'f', 'f', 'H')"
   ]
  },
  {
   "cell_type": "code",
   "execution_count": null,
   "id": "684fc704-d60e-4e9d-bef4-7d0d27f54657",
   "metadata": {},
   "outputs": [],
   "source": []
  },
  {
   "cell_type": "code",
   "execution_count": 83,
   "id": "1246083c-0356-4f5d-ab3e-1e909a8a85c4",
   "metadata": {
    "tags": []
   },
   "outputs": [
    {
     "data": {
      "image/png": "[encoded data removed]",
      "text/plain": [
       "<Figure size 720x576 with 1 Axes>"
      ]
     },
     "metadata": {
      "needs_background": "light"
     },
     "output_type": "display_data"
    }
   ],
   "source": [
    "tcatalog = catalog[catalog['chisqr'] < 1]\n",
    "tcatalog = tcatalog[tcatalog['e_radius'] < 0.02]\n",
    "\n",
    "\n",
    "plt.figure(figsize=(10,8))\n",
    "\n",
    "rsuns = np.linspace(0.006,0.025, 1000)\n",
    "theoretical_rvs = rv_from_radius(rsuns, 3500, 'f', 'f', 'f')\n",
    "plt.plot(rsuns, theoretical_rvs, 'red', linestyle = '-', label = '3,000 K Model', linewidth = 1)\n",
    "\n",
    "theoretical_rvs = rv_from_radius(rsuns, 25000, 'f', 'f', 'f')\n",
    "plt.plot(rsuns, theoretical_rvs, 'b-', label = '25,000 K Model', linewidth = 1)\n",
    "\n",
    "theoretical_rvs = rv_from_radius(rsuns, 55000, 'f', 'f', 'f')\n",
    "plt.plot(rsuns, theoretical_rvs, 'black', label = '55,000 K Model', linewidth = 1)\n",
    "\n",
    "plt.errorbar(tcatalog['radius'], tcatalog['g_redshift'], xerr=tcatalog['e_radius'], yerr=tcatalog['eg_redshift'], fmt='o')\n",
    "plt.grid()\n",
    "plt.xlabel(r'Radius $[R_{0}]$')\n",
    "plt.ylabel(r'Gravitational Redshift $[km/s]$')\n",
    "plt.xlim(0.006, 0.025)\n",
    "plt.ylim(0, 120)\n",
    "plt.legend()\n",
    "plt.savefig('plots/gredshift_vs_radius.jpg')"
   ]
  },
  {
   "cell_type": "code",
   "execution_count": 77,
   "id": "74922d04-7bac-44e3-973f-9c9521a5ed1a",
   "metadata": {},
   "outputs": [
    {
     "data": {
      "text/plain": [
       "Text(0, 0.5, '$T_{eff}$')"
      ]
     },
     "execution_count": 77,
     "metadata": {},
     "output_type": "execute_result"
    },
    {
     "data": {
      "image/png": "[encoded data removed]",
      "text/plain": [
       "<Figure size 720x720 with 1 Axes>"
      ]
     },
     "metadata": {
      "needs_background": "light"
     },
     "output_type": "display_data"
    }
   ],
   "source": [
    "plt.figure(figsize=(10,10))\n",
    "\n",
    "plt.errorbar(tcatalog['radius'], tcatalog['teff'], xerr=tcatalog['e_radius'], yerr=tcatalog['e_teff'], fmt='o')\n",
    "plt.grid()\n",
    "plt.xlabel(r'Radius $[R_{0}]$')\n",
    "plt.ylabel(r'$T_{eff}$')"
   ]
  },
  {
   "cell_type": "code",
   "execution_count": 65,
   "id": "18b512e9-37c3-4ef3-ac3e-261bd67a7cbd",
   "metadata": {},
   "outputs": [
    {
     "data": {
      "image/png": "[encoded data removed]",
      "text/plain": [
       "<Figure size 720x720 with 1 Axes>"
      ]
     },
     "metadata": {
      "needs_background": "light"
     },
     "output_type": "display_data"
    }
   ],
   "source": [
    "plt.figure(figsize=(10,10))\n",
    "plt.grid()\n",
    "plt.hist(catalog['radius'], bins = 20, histtype='step', color='black')\n",
    "ymin, ymax = plt.ylim()\n",
    "plt.vlines(np.mean(catalog['radius']), ymin, ymax, linestyles='dashed')\n",
    "plt.xlabel(r'Photometric Radius $[R_{0}]$', fontsize=18)\n",
    "plt.savefig('plots/radius.png')"
   ]
  },
  {
   "cell_type": "code",
   "execution_count": 49,
   "id": "2a72af70-0124-4fd0-b000-c028904685b3",
   "metadata": {},
   "outputs": [],
   "source": [
    "catalog.write('data/02_photometry.fits', overwrite=True)"
   ]
  },
  {
   "cell_type": "code",
   "execution_count": null,
   "id": "03317de6-981f-41f6-90d3-77bdf498b111",
   "metadata": {},
   "outputs": [],
   "source": []
  }
 ],
 "metadata": {
  "kernelspec": {
   "display_name": "Python 3 (ipykernel)",
   "language": "python",
   "name": "python3"
  },
  "language_info": {
   "codemirror_mode": {
    "name": "ipython",
    "version": 3
   },
   "file_extension": ".py",
   "mimetype": "text/x-python",
   "name": "python",
   "nbconvert_exporter": "python",
   "pygments_lexer": "ipython3",
   "version": "3.8.3"
  }
 },
 "nbformat": 4,
 "nbformat_minor": 5
}
