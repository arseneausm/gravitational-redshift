{
 "cells": [
  {
   "cell_type": "code",
   "execution_count": 1,
   "metadata": {
    "tags": []
   },
   "outputs": [],
   "source": [
    "# Install a pip package in the current Jupyter kernel\n",
    "import sys\n",
    "import os\n",
    "sys.path.append('../')\n",
    "sys.path.append('../corv/src')\n",
    "\n",
    "\n",
    "### General\n",
    "import numpy as np\n",
    "import matplotlib.pyplot as plt\n",
    "import matplotlib.colors as colors\n",
    "\n",
    "import astropy\n",
    "from astropy.coordinates import SkyCoord\n",
    "from astropy.io import fits\n",
    "import astropy.units as u\n",
    "from astropy.table import Table, Column, MaskedColumn, join\n",
    "\n",
    "from tqdm import tqdm\n",
    "import pandas as pd\n",
    "from scipy.optimize import curve_fit\n",
    "import scipy.stats as stats\n",
    "\n",
    "### Tools\n",
    "import WD_models\n",
    "from bisect import bisect_left\n",
    "import lmfit\n",
    "import glob\n",
    "\n",
    "from astroquery.sdss import SDSS\n",
    "from astroquery.gaia import Gaia\n",
    "\n",
    "#corv.sdss.make_catalogs()"
   ]
  },
  {
   "cell_type": "code",
   "execution_count": 2,
   "metadata": {
    "tags": []
   },
   "outputs": [],
   "source": [
    "c = 2.998e10\n",
    "k = 1.38e-16\n",
    "h = 6.626e-27\n",
    "halpha = 6564.61\n",
    "hbeta = 4862.68\n",
    "hgamma = 4341.68\n",
    "hdelta = 4102.89\n",
    "speed_light = 299792458 #m/s\n",
    "radius_sun = 6.957e8\n",
    "mass_sun = 1.9884e30\n",
    "newton_G = 6.674e-11\n",
    "pc_to_m = 3.086775e16"
   ]
  },
  {
   "cell_type": "code",
   "execution_count": 3,
   "metadata": {
    "tags": []
   },
   "outputs": [],
   "source": [
    "from __future__ import print_function\n",
    "from astropy.coordinates import SkyCoord\n",
    "import astropy.units as u"
   ]
  },
  {
   "cell_type": "code",
   "execution_count": 4,
   "metadata": {
    "tags": []
   },
   "outputs": [
    {
     "name": "stderr",
     "output_type": "stream",
     "text": [
      "WARNING: UnitsWarning: 'log(cm.s**-2)' did not parse as fits unit: 'log' is not a recognized function If this is meant to be a custom unit, define it with 'u.def_unit'. To have it recognized inside a file reader or other code, enable it with 'u.add_enabled_units'. For details, see https://docs.astropy.org/en/latest/units/combining_and_defining.html [astropy.units.core]\n"
     ]
    }
   ],
   "source": [
    "from astropy.table import Table, vstack, unique\n",
    "\n",
    "ms_sdss4_wd_sdss4 = Table.read('data/ms_sdss4_wd_sdss4.fits')\n",
    "ms_gaia_wd_sdss4 = Table.read('data/ms_gaia_wd_sdss4.fits')\n",
    "ms_sdss5_wd_sdss4 = Table.read('sdss5/ms_sdss5_wd_sdss4.fits')\n",
    "\n",
    "ms_gaia_wd_sdss5 = Table.read('sdss5/ms_gaia_wd_sdss5.fits')\n",
    "ms_sdss4_wd_sdss5 = Table.read('sdss5/ms_sdss4_wd_sdss5.fits')\n",
    "ms_sdss5_wd_sdss5 = Table.read('sdss5/ms_sdss5_wd_sdss5.fits')\n",
    "\n",
    "ms_gaia_wd_falcon = Table.read('data/ms_gaia_wd_falcon.fits')\n",
    "gemini = Table.read('data/gemini.fits')\n",
    "\n",
    "\n",
    "def strip(catalog):  \n",
    "    drop_cols = []\n",
    "    keep_cols = ['wd_source_id', 'ms_source_id', 'wd_l', 'wd_b', 'ms_parallax', 'ms_parallax_over_error', 'wd_ra', 'wd_dec', \n",
    "                 'wd_bp_rp', 'uses_sdss5']\n",
    "        \n",
    "    for key in catalog.keys():\n",
    "        if key not in keep_cols:\n",
    "            drop_cols.append(key)\n",
    "            \n",
    "    catalog.remove_columns(drop_cols)\n",
    "    \n",
    "    return catalog\n",
    "\n",
    "ms_gaia_wd_sdss4  = strip(ms_gaia_wd_sdss4 )\n",
    "ms_sdss4_wd_sdss4 = strip(ms_sdss4_wd_sdss4)\n",
    "ms_sdss5_wd_sdss4 = strip(ms_sdss5_wd_sdss4)\n",
    "\n",
    "ms_gaia_wd_sdss5  = strip(ms_gaia_wd_sdss5 )\n",
    "ms_sdss4_wd_sdss5 = strip(ms_sdss4_wd_sdss5)\n",
    "ms_sdss5_wd_sdss5 = strip(ms_sdss5_wd_sdss5)\n",
    "\n",
    "gemini_1 = gemini.copy()\n",
    "\n",
    "ms_gaia_wd_falcon = strip(ms_gaia_wd_falcon)\n",
    "gemini = strip(gemini)\n",
    "\n",
    "catalog = unique(vstack([ms_sdss4_wd_sdss4, ms_gaia_wd_sdss4, ms_sdss4_wd_sdss5, ms_sdss5_wd_sdss4, ms_gaia_wd_sdss5, ms_sdss5_wd_sdss5, ms_gaia_wd_falcon, gemini]), keys = 'wd_source_id')"
   ]
  },
  {
   "cell_type": "code",
   "execution_count": 5,
   "metadata": {
    "tags": []
   },
   "outputs": [
    {
     "name": "stdout",
     "output_type": "stream",
     "text": [
      "    ms_source_id        wd_source_id    ...         wd_b        uses_sdss5\n",
      "------------------- ------------------- ... ------------------- ----------\n",
      "  78630547564037504   78630783787018624 ...  -43.94621045934461        0.0\n",
      "  90243761175084672   90244375354955392 ...  -44.60031645677885        0.0\n",
      "  91690164426524288   91690164426711040 ... -42.932042516885794        0.0\n",
      " 235840678609579904  235840781689958016 ... -15.142418794667933        0.0\n",
      " 290678443086494848  290678477446232960 ...  -37.92124428204657        0.0\n",
      " 299817274499164416  299817270203790464 ... -31.650726348757026        0.0\n",
      " 300721519733864192  300721515441972608 ... -31.261650914977317        1.0\n",
      " 361278462663417088  361278458368372992 ... -29.894258797869995        0.0\n",
      " 520790043347308416  520790043346964608 ...    7.43745748400846        1.0\n",
      " 545940409758573824  545940164944375296 ...  11.629824001353866        1.0\n",
      "                ...                 ... ...                 ...        ...\n",
      "6339275457204986496 6339275452909996544 ...   46.42986440309833        1.0\n",
      "6431084502029884672 6431084300169300224 ... -34.256776734072105        1.0\n",
      "6886973358987025280 6886973535081311872 ... -32.765218592475264        1.0\n",
      "6898255177217733504 6898255177217741952 ... -37.876674587102904        1.0\n",
      "6898705805186335488 6898705800892401280 ...  -35.29774896286738        1.0\n",
      "6899127089938464512 6899127085644261632 ...  -36.77209880350085        1.0\n",
      "6899213710839008256 6899212229075129344 ...  -36.68885192818693        1.0\n",
      "6908406487039810432 6908407066861225728 ... -25.951344093069274        0.0\n",
      "6910806102448648576 6910805342238827648 ... -33.975549287596245        0.0\n",
      "6915121788667377920 6915121784373453184 ... -26.839782349069086        1.0\n",
      "6915495141584244480 6915495141583341824 ... -30.437088091626418        1.0\n",
      "Length = 613 rows\n"
     ]
    }
   ],
   "source": [
    "print(catalog)"
   ]
  },
  {
   "cell_type": "code",
   "execution_count": 6,
   "metadata": {
    "tags": []
   },
   "outputs": [
    {
     "name": "stderr",
     "output_type": "stream",
     "text": [
      "100%|██████████| 7/7 [00:04<00:00,  1.71it/s]\n"
     ]
    }
   ],
   "source": [
    "from astropy.table import Table, vstack, hstack\n",
    "\n",
    "only_rvs = True\n",
    "\n",
    "stardats = []\n",
    "iters = (len(catalog)+100) // 100\n",
    "\n",
    "# MS Gaia Sources\n",
    "\n",
    "for i in tqdm(range(iters)):\n",
    "        ADQL_CODE1 = \"\"\"SELECT dist.source_id, dist.r_med_geo\n",
    "        FROM gaiadr3.gaia_source as gaia\n",
    "        JOIN external.gaiaedr3_distance as dist\n",
    "        ON gaia.source_id = dist.source_id      \n",
    "        WHERE gaia.source_id in {}\"\"\".format(tuple(catalog['ms_source_id'][100*i:100*i+100]))\n",
    "        stardats.append(Gaia.launch_job(ADQL_CODE1,dump_to_file=False).get_results())\n",
    "        \n",
    "gaia_d1 = vstack(stardats)\n",
    "gaia_d1.rename_column('source_id', 'ms_source_id')\n",
    "catalog = join(catalog, gaia_d1, keys = 'ms_source_id')"
   ]
  },
  {
   "cell_type": "code",
   "execution_count": 7,
   "metadata": {
    "tags": []
   },
   "outputs": [],
   "source": [
    "catalog.remove_column('ms_source_id')"
   ]
  },
  {
   "cell_type": "code",
   "execution_count": 8,
   "metadata": {
    "tags": []
   },
   "outputs": [
    {
     "name": "stderr",
     "output_type": "stream",
     "text": [
      "100%|██████████| 7/7 [00:03<00:00,  1.92it/s]\n"
     ]
    }
   ],
   "source": [
    "stardats = []\n",
    "iters = (len(catalog)+100) // 100\n",
    "\n",
    "# This query is for making sure the radii issue isn't a problem with the photometry from the El-Badry catalog (it's not)\n",
    "for i in tqdm(range(iters)):\n",
    "        ADQL_CODE1 = \"\"\"SELECT source_id, phot_g_mean_mag, phot_bp_mean_mag, phot_rp_mean_mag, phot_g_mean_flux, phot_bp_mean_flux, phot_rp_mean_flux,\n",
    "                 phot_g_mean_flux_error, phot_bp_mean_flux_error, phot_rp_mean_flux_error\n",
    "        FROM gaiadr3.gaia_source     \n",
    "        WHERE source_id in {}\"\"\".format(tuple(catalog['wd_source_id'][100*i:100*i+100]))\n",
    "        stardats.append(Gaia.launch_job(ADQL_CODE1,dump_to_file=False).get_results())\n",
    "        \n",
    "gaia_d1 = vstack(stardats)\n",
    "\n",
    "for key in gaia_d1.keys():\n",
    "    gaia_d1.rename_column(key, 'wd_' + key)\n",
    "    \n",
    "catalog = join(catalog, gaia_d1, keys = 'wd_source_id')"
   ]
  },
  {
   "cell_type": "code",
   "execution_count": null,
   "metadata": {},
   "outputs": [],
   "source": []
  },
  {
   "cell_type": "code",
   "execution_count": null,
   "metadata": {
    "tags": []
   },
   "outputs": [],
   "source": []
  },
  {
   "cell_type": "code",
   "execution_count": null,
   "metadata": {
    "tags": []
   },
   "outputs": [],
   "source": []
  },
  {
   "cell_type": "code",
   "execution_count": null,
   "metadata": {
    "tags": []
   },
   "outputs": [],
   "source": []
  },
  {
   "cell_type": "code",
   "execution_count": 9,
   "metadata": {
    "tags": []
   },
   "outputs": [
    {
     "name": "stdout",
     "output_type": "stream",
     "text": [
      "Configuration file not found:\n",
      "\n",
      "    /home/sarsene1/.dustmapsrc\n",
      "\n",
      "To create a new configuration file in the default location, run the following python code:\n",
      "\n",
      "    from dustmaps.config import config\n",
      "    config.reset()\n",
      "\n",
      "Note that this will delete your configuration! For example, if you have specified a data directory, then dustmaps will forget about its location.\n"
     ]
    }
   ],
   "source": [
    "from __future__ import print_function\n",
    "from astropy.coordinates import SkyCoord\n",
    "import astropy.units as u\n",
    "from dustmaps.bayestar import BayestarWebQuery\n",
    "\n",
    "import pyphot\n",
    "import extinction\n",
    "\n",
    "# Coordinates using Bailer-Jones distances\n",
    "coords = [SkyCoord(frame=\"galactic\", l=catalog['wd_l'][i]*u.deg, b=catalog['wd_b'][i]*u.deg, distance = catalog['r_med_geo'][i] * u.pc) for i in range(len(catalog))]\n",
    "catalog['wd_coords'] = coords\n",
    "\n",
    "\n",
    "# Query Bayestar2019 to get E(B-V) in arbitrary units\n",
    "bsq = BayestarWebQuery()\n",
    "bsq_res = bsq.query(catalog['wd_coords'], mode='samples').copy()\n",
    "bsq_res[np.isnan(bsq_res)] = 0\n",
    "\n",
    "# Convert to actual units\n",
    "Ebv = np.median(bsq_res, axis=1)*0.901*0.98\n",
    "Ebv_mean = np.mean(bsq_res, axis = 1)*0.901*0.98\n",
    "e_Ebv = Ebv*0.2\n",
    "\n",
    "catalog['E(B-V)'] = Ebv_mean\n",
    "catalog['e_E(B-V)'] = e_Ebv\n",
    "\n",
    "\n",
    "# Parameters for correcting using Gaia\n",
    "Rv = 3.1\n",
    "catalog['A_v0'] = catalog['E(B-V)']*Rv\n",
    "\n",
    "# Fetch Gaia photometric band wavelengths and store in `gaia_phot_wavl`\n",
    "lib = pyphot.get_library()\n",
    "gaia_phot = [lib['Gaia_BP'], lib['Gaia_RP']]\n",
    "gaia_phot_wavl = np.array([x.lpivot.to('angstrom').value for x in gaia_phot])\n",
    "\n",
    "\n",
    "# For each point, find extinction using the parameters we defined above\n",
    "ext_all = []\n",
    "for av0 in catalog['A_v0']:\n",
    "    ext_all.append( extinction.fitzpatrick99(gaia_phot_wavl, av0, Rv) )\n",
    "ext_all = np.array(ext_all)\n",
    "    \n",
    "# Save the extinction in each band\n",
    "catalog['BP_ext'] = ext_all.T[0]\n",
    "catalog['RP_ext'] = ext_all.T[1]\n",
    "\n",
    "# Subtract out the extinction to find de-reddened magnitude\n",
    "catalog['wd_phot_bp_mean_mag_ext'] = catalog['wd_phot_bp_mean_mag'] - catalog['BP_ext']\n",
    "catalog['wd_phot_rp_mean_mag_ext'] = catalog['wd_phot_rp_mean_mag'] - catalog['RP_ext']"
   ]
  },
  {
   "cell_type": "code",
   "execution_count": 10,
   "metadata": {},
   "outputs": [
    {
     "name": "stdout",
     "output_type": "stream",
     "text": [
      "19.850063278273968\n",
      "20.169289\n",
      "0.31922535697993776\n",
      "19.850063278273968\n"
     ]
    }
   ],
   "source": [
    "print(catalog['wd_phot_bp_mean_mag_ext'][0])\n",
    "print(catalog['wd_phot_bp_mean_mag'][0])\n",
    "print(catalog['BP_ext'][0])\n",
    "print(catalog['wd_phot_bp_mean_mag'][0] - catalog['BP_ext'][0])"
   ]
  },
  {
   "cell_type": "code",
   "execution_count": 11,
   "metadata": {},
   "outputs": [],
   "source": [
    "#sigmaG_0 = 0.0027553202\n",
    "#sigmaGBP_0 = 0.0027901700\n",
    "#sigmaGRP_0 = 0.0037793818\n",
    "#\n",
    "#catalog['e_wd_phot_g_mean_mag'] = np.sqrt((-2.5/np.log(10)*catalog['wd_phot_g_mean_flux_error']/catalog['wd_phot_g_mean_flux'])**2 + sigmaG_0**2)\n",
    "#catalog['e_wd_phot_bp_mean_mag'] = np.sqrt((-2.5/np.log(10)*catalog['wd_phot_bp_mean_flux_error']/catalog['wd_phot_bp_mean_flux'])**2 + sigmaGBP_0**2)\n",
    "#catalog['e_wd_phot_rp_mean_mag'] = np.sqrt((-2.5/np.log(10)*catalog['wd_phot_rp_mean_flux_error']/catalog['wd_phot_rp_mean_flux'])**2 + sigmaGRP_0**2)"
   ]
  },
  {
   "cell_type": "code",
   "execution_count": 12,
   "metadata": {
    "tags": []
   },
   "outputs": [
    {
     "name": "stdout",
     "output_type": "stream",
     "text": [
      "initialized with atm_type = H and bands = ['Su', 'Sg', 'Sr']\n",
      "initialized with atm_type = H and bands = ['bp', 'rp']\n"
     ]
    }
   ],
   "source": [
    "font_model = WD_models.load_model('f', 'f', 'f', 'H', HR_bands = ['Su-Sg', 'Su'])\n",
    "\n",
    "g_acc = (10**font_model['logg'])/100\n",
    "rsun = np.sqrt(font_model['mass_array'] * mass_sun * newton_G / g_acc) / radius_sun\n",
    "logg_teff_to_rsun = WD_models.interp_xy_z_func(x = font_model['logg'], y = 10**font_model['logteff'],\n",
    "                                            z = rsun, interp_type = 'linear')\n",
    "\n",
    "fitsed_sdss = WD_models.FitSED(to_flux = False, atm_type = 'H', bands = ['Su', 'Sg', 'Sr'])#, 'Si', 'Sz'])\n",
    "fitsed_gaia = WD_models.FitSED(to_flux = False, atm_type = 'H', bands = ['bp', 'rp'])#, 'Si', 'Sz'])"
   ]
  },
  {
   "cell_type": "code",
   "execution_count": 13,
   "metadata": {
    "tags": []
   },
   "outputs": [],
   "source": [
    "from scipy.interpolate import RegularGridInterpolator\n",
    "\n",
    "# Band selector: \n",
    "#    to fit with G, BP, RP, set `bands = ['g', 'bp', 'rp']`.\n",
    "#    to fit with only BP, RP, set `bands = ['bp', 'rp']`\n",
    "\n",
    "bands = ['bp', 'rp']\n",
    "\n",
    "#test = Table.read('../WD_models/Montreal_atm_grid_2021/Table_DA', format='ascii')\n",
    "#\n",
    "#if len(bands) == 3:\n",
    "#    test['mag'] = np.array([test['G3'], test['G3_BP'], test['G3_RP']]).T\n",
    "#elif len(bands) == 2:\n",
    "#    test['mag'] = np.array([test['G3_BP'], test['G3_RP']]).T\n",
    "#\n",
    "#for key in test.keys():\n",
    "#    if key not in ['Teff', 'logg', 'mag']:\n",
    "#        test.remove_column(key)\n",
    "#    \n",
    "#teffs = sorted(list(set(test['Teff'])))\n",
    "#loggs = sorted(list(set(test['logg'])))\n",
    "#\n",
    "#if len(bands) == 3:\n",
    "#    values = np.zeros((len(teffs), len(loggs), 3))\n",
    "#elif len(bands) == 2:\n",
    "#    values = np.zeros((len(teffs), len(loggs), 2))\n",
    "#\n",
    "#for i in tqdm(range(len(teffs))):\n",
    "#    for j in range(len(loggs)):\n",
    "#        try:\n",
    "#            values[i,j] = test[np.all([test['Teff'] == teffs[i], test['logg'] == loggs[j]], axis = 0)]['mag'][0]\n",
    "#        except:\n",
    "#            if len(bands) == 3:\n",
    "#                values[i,j] = np.array([0, 0, 0])\n",
    "#            elif len(bands) == 2:\n",
    "#                values[i,j] = np.array([0, 0])\n",
    "#            \n",
    "#model_sed = RegularGridInterpolator((teffs, loggs), values)"
   ]
  },
  {
   "cell_type": "code",
   "execution_count": 14,
   "metadata": {
    "tags": []
   },
   "outputs": [
    {
     "name": "stdout",
     "output_type": "stream",
     "text": [
      "building montreal da model\n",
      "could not find pickled WD models\n",
      "/Users/vedantchandra/0_research/01_sdss5/006_build_corv/data/comm_cat/\n",
      "star and exposure catalogs not found! check paths and run make_catalogs() if you want to use sdss functionality. otherwise ignore.\n",
      "2691\n",
      "2691\n"
     ]
    },
    {
     "data": {
      "text/plain": [
       "Text(0, 0.5, 'Flux $[erg/s/cm^2/\\\\AA]$')"
      ]
     },
     "execution_count": 14,
     "metadata": {},
     "output_type": "execute_result"
    },
    {
     "data": {
      "image/png": "[encoded data removed]",
      "text/plain": [
       "<Figure size 432x288 with 1 Axes>"
      ]
     },
     "metadata": {
      "needs_background": "light"
     },
     "output_type": "display_data"
    }
   ],
   "source": [
    "import pyphot\n",
    "from pyphot import unit\n",
    "\n",
    "import corv\n",
    "\n",
    "base_wavl, tremblay, table = corv.utils.build_montreal_da(path = '/home/sarsene1/corv/src/corv/models/montreal_da', flux_unit = 'flam')\n",
    "\n",
    "print(len(base_wavl))\n",
    "\n",
    "lib = pyphot.get_library()\n",
    "filters = [lib['Gaia_BP'], lib['Gaia_RP']]\n",
    "\n",
    "fl = tremblay((10000, 8))\n",
    "print(len(fl))\n",
    "\n",
    "wavl = [filters[i].lpivot.to('angstrom').value for i in range(len(filters))]\n",
    "phot_flux = [filters[i].get_flux(base_wavl * unit['AA'], fl * unit['erg/s/cm**2/AA'], axis = 1).value for i in range(len(filters))]\n",
    "phot_mag = np.array([-2.5*np.log10(filters[i].get_flux(base_wavl * unit['AA'], fl * unit['erg/s/cm**2/AA'], axis = 1).value) \\\n",
    "                     - filters[i].Vega_zero_mag for i in range(len(filters))])\n",
    "\n",
    "plt.plot(base_wavl, fl, c = 'k')\n",
    "plt.scatter(wavl, phot_flux, c = 'r')\n",
    "plt.xlim(2500,15000)\n",
    "plt.xlabel(r'Wavelength $[\\AA]$')\n",
    "plt.ylabel(r'Flux $[erg/s/cm^2/\\AA]$')\n"
   ]
  },
  {
   "cell_type": "code",
   "execution_count": 15,
   "metadata": {
    "tags": []
   },
   "outputs": [],
   "source": [
    "import pyphot\n",
    "from pyphot import unit\n",
    "\n",
    "base_wavl, tremblay, table = corv.utils.build_montreal_da(path = '/home/sarsene1/corv/src/corv/models/montreal_da', flux_unit = 'flam')\n",
    "\n",
    "lib = pyphot.get_library()\n",
    "filters = [#lib['Gaia_G'],\n",
    "           lib['Gaia_BP'], lib['Gaia_RP']]\n"
   ]
  },
  {
   "cell_type": "code",
   "execution_count": 16,
   "metadata": {
    "tags": []
   },
   "outputs": [
    {
     "data": {
      "text/plain": [
       "[<matplotlib.lines.Line2D at 0x1554be883250>]"
      ]
     },
     "execution_count": 16,
     "metadata": {},
     "output_type": "execute_result"
    },
    {
     "data": {
      "image/png": "[encoded data removed]",
      "text/plain": [
       "<Figure size 432x288 with 1 Axes>"
      ]
     },
     "metadata": {
      "needs_background": "light"
     },
     "output_type": "display_data"
    }
   ],
   "source": [
    "radius = 0.015*radius_sun\n",
    "distance = 200*pc_to_m\n",
    "\n",
    "fl = tremblay((10000, 8)) * 4 * np.pi * (radius / distance)**2\n",
    "\n",
    "mask = (3600 < base_wavl)*(base_wavl<9000)\n",
    "\n",
    "plt.plot(base_wavl[mask], fl[mask])"
   ]
  },
  {
   "cell_type": "code",
   "execution_count": 17,
   "metadata": {
    "tags": []
   },
   "outputs": [],
   "source": [
    "c = 2.998e10\n",
    "k = 1.38e-16\n",
    "h = 6.626e-27\n",
    "halpha = 6564.61\n",
    "hbeta = 4862.68\n",
    "hgamma = 4341.68\n",
    "hdelta = 4102.89\n",
    "speed_light = 299792458 #m/s\n",
    "mass_sun = 1.9884e30\n",
    "newton_G = 6.674e-11\n",
    "pc_to_m = 3.086775e16\n",
    "radius_sun = 6.957e8\n",
    "\n",
    "def mag_to_flux_spec(mag, filt, e_mag = None):\n",
    "    if e_mag is not None:\n",
    "        return (10**( (mag + filt.Vega_zero_mag) / -2.5 ), np.sqrt((-0.921034 * 10**(-0.4 * (mag + filt.Vega_zero_mag)) * e_mag)**2 ))\n",
    "    else:\n",
    "        return 10**( (mag + filt.Vega_zero_mag) / -2.5 )\n",
    "\n",
    "def template(teff, logg, radius, distance):\n",
    "    fl = tremblay((teff, logg))\n",
    "    \n",
    "    radius = radius * radius_sun # Rsun to meter\n",
    "    distance = distance * pc_to_m # Parsec to meter\n",
    "    \n",
    "    fl = 4*np.pi*(radius / distance)**2 * fl\n",
    "    return fl\n",
    "    \n",
    "\n",
    "def get_model_flux_gaia_spec(params):\n",
    "    teff, logg, radius, distance = params['teff'], params['logg'], params['radius'], params['distance']\n",
    "    \n",
    "    fl = template(teff, logg, radius, distance) \n",
    "            \n",
    "    flux = np.array([filters[i].get_flux(base_wavl * unit['angstrom'], fl * unit['erg/s/cm**2/angstrom'], axis = 1).to('erg/s/cm**2/angstrom').value for i in range(len(filters))])\n",
    "    #mag = np.array([-2.5*np.log10(filters[i].get_flux(base_wavl * unit['AA'], fl * unit['erg/s/cm**2/AA'], axis = 1).value) - filters[i].Vega_zero_mag for i in range(len(filters))])\n",
    "    return flux\n",
    "    \n",
    "\n",
    "def residual_gaia(params, obs_flux = None, e_obs_flux = None):\n",
    "    model_flux = get_model_flux_gaia_spec(params)\n",
    "\n",
    "    chisquare = ((model_flux - obs_flux) / e_obs_flux)**2\n",
    "    \n",
    "    #chisquare[np.isnan(chisquare)] = 1e8\n",
    "    return chisquare\n",
    "\n"
   ]
  },
  {
   "cell_type": "code",
   "execution_count": 18,
   "metadata": {
    "tags": []
   },
   "outputs": [
    {
     "data": {
      "text/plain": [
       "20.97231143214712"
      ]
     },
     "execution_count": 18,
     "metadata": {},
     "output_type": "execute_result"
    }
   ],
   "source": [
    "filters[0].Vega_zero_mag"
   ]
  },
  {
   "cell_type": "code",
   "execution_count": 19,
   "metadata": {
    "tags": []
   },
   "outputs": [
    {
     "name": "stdout",
     "output_type": "stream",
     "text": [
      "19.850063278273968\n",
      "20.169289\n",
      "0.31922535697993776\n",
      "19.850063278273968\n"
     ]
    }
   ],
   "source": [
    "print(catalog['wd_phot_bp_mean_mag_ext'][0])\n",
    "print(catalog['wd_phot_bp_mean_mag'][0])\n",
    "print(catalog['BP_ext'][0])\n",
    "print(catalog['wd_phot_bp_mean_mag'][0] - catalog['BP_ext'][0])"
   ]
  },
  {
   "cell_type": "code",
   "execution_count": 20,
   "metadata": {
    "tags": []
   },
   "outputs": [
    {
     "name": "stdout",
     "output_type": "stream",
     "text": [
      "3.494298268741833e-17\n",
      "4.688674844402267e-17\n",
      "3.516818675423334e-17\n"
     ]
    }
   ],
   "source": [
    "print(mag_to_flux_spec(catalog['wd_phot_bp_mean_mag'][0], filters[0]))\n",
    "print(mag_to_flux_spec(catalog['wd_phot_bp_mean_mag_ext'][0] , filters[0]))\n",
    "print(catalog['wd_phot_bp_mean_flux'][0] * 2.620707e-33 * 2.99792458e+21 / 5109.7**2)"
   ]
  },
  {
   "cell_type": "code",
   "execution_count": 21,
   "metadata": {
    "tags": []
   },
   "outputs": [],
   "source": [
    "def get_parameters_gaia(obs_flux, e_obs_flux, id_ = None, floor_error = 0.02, make_plot = False, vary_logg = False, p0 = [10000, 8, 0.01, 100]):         \n",
    "    #e_obs_mag = np.sqrt(e_obs_mag**2 + floor_error**2)    \n",
    "    params = lmfit.Parameters()\n",
    "\n",
    "    params.add('teff', value = p0[0], min = 4001, max = 35000, vary = True)\n",
    "    params.add('logg', value = p0[1], min=5, max=9, vary=False)\n",
    "    params.add('radius', value = p0[2], min = 0.000001, max = 0.05, vary = True)\n",
    "    params.add('distance', value = p0[3], min = 1, max = 2000, vary = False)\n",
    "            \n",
    "    #result = lmfit.minimize(residual_gaia, params, kws = dict(obs_flux = obs_mag, e_obs_flux = e_obs_mag), method = 'emcee', steps = 500, burn = 250, thin = 20, is_weighted = True, float_behavior = 'chi2', progress = False)\n",
    "    result = lmfit.minimize(residual_gaia, params, kws = dict(obs_flux = obs_flux, e_obs_flux = e_obs_flux), method = 'leastsq')\n",
    "    \n",
    "    #result.params.pretty_print()\n",
    "        \n",
    "    return result"
   ]
  },
  {
   "cell_type": "code",
   "execution_count": 22,
   "metadata": {
    "tags": []
   },
   "outputs": [
    {
     "name": "stderr",
     "output_type": "stream",
     "text": [
      "100%|██████████| 613/613 [32:16<00:00,  3.16s/it]"
     ]
    },
    {
     "name": "stdout",
     "output_type": "stream",
     "text": [
      "dropped 0 stars\n"
     ]
    },
    {
     "name": "stderr",
     "output_type": "stream",
     "text": [
      "\n"
     ]
    }
   ],
   "source": [
    "plt.style.use('stefan.mplstyle')\n",
    "\n",
    "gaia_results = []\n",
    "gaia_results7 = []\n",
    "gaia_results9 = []\n",
    "\n",
    "reference_results = []\n",
    "reference_results7 = []\n",
    "reference_results9 = []\n",
    "\n",
    "\n",
    "e_results = []\n",
    "\n",
    "drops = []\n",
    "\n",
    "logg_vary = []\n",
    "\n",
    "id_ = []\n",
    "\n",
    "bands = ['bp', 'rp']\n",
    "\n",
    "for i in tqdm(range(len(catalog))):\n",
    "    # Convert Gaia flux into f_lam using table 5.3 \n",
    "    # https://gea.esac.esa.int/archive/documentation/GEDR3/Data_processing/chap_cu5pho/cu5pho_sec_photProc/cu5pho_ssec_photCal.html    \n",
    "    \n",
    "    obs_flux_ext = np.array([mag_to_flux_spec(catalog['wd_phot_bp_mean_mag_ext'][i], filters[0]),\n",
    "                         mag_to_flux_spec(catalog['wd_phot_rp_mean_mag_ext'][i], filters[1])])\n",
    "    \n",
    "    obs_flux = np.array([mag_to_flux_spec(catalog['wd_phot_bp_mean_mag'][i], filters[0]),\n",
    "                         mag_to_flux_spec(catalog['wd_phot_rp_mean_mag'][i], filters[1])])\n",
    "    e_obs_flux = np.array([#catalog['wd_phot_g_mean_flux_error'][i] * 1.736011e-33 * 2.99792458e+21 / 6217.9**2 , \n",
    "                           catalog['wd_phot_bp_mean_flux_error'][i] * 2.620707e-33 * 2.99792458e+21 / 5109.7**2, \n",
    "                           catalog['wd_phot_rp_mean_flux_error'][i] * 3.2988153e-33 * 2.99792458e+21 / 7769.1**2])\n",
    "        \n",
    "    #try:    \n",
    "    gaia_logg7_ext = get_parameters_gaia( obs_flux_ext, e_obs_flux, vary_logg=False, p0 = [10000, 7, 0.003, catalog['r_med_geo'][i]] )\n",
    "    gaia_logg8_ext = get_parameters_gaia( obs_flux_ext, e_obs_flux, vary_logg=False, p0 = [10000, 8, 0.003, catalog['r_med_geo'][i]] )\n",
    "    gaia_logg9_ext = get_parameters_gaia( obs_flux_ext, e_obs_flux, vary_logg=False, p0 = [10000, 9, 0.003, catalog['r_med_geo'][i]] )\n",
    "    id_.append(i)\n",
    "    \n",
    "    gaia_results.append(gaia_logg8_ext)\n",
    "    gaia_results7.append(gaia_logg7_ext)\n",
    "    gaia_results9.append(gaia_logg9_ext)\n",
    "    #except:\n",
    "    #    drops.append(i)\n",
    "        \n",
    "    \n",
    "    reference_results.append(get_parameters_gaia(obs_flux, e_obs_flux, vary_logg=False, p0 = [10000, 8, 0.003, catalog['r_med_geo'][i]]))\n",
    "    reference_results7.append(get_parameters_gaia(obs_flux, e_obs_flux, vary_logg=False, p0 = [10000, 7, 0.003, catalog['r_med_geo'][i]]))\n",
    "    reference_results9.append(get_parameters_gaia(obs_flux, e_obs_flux, vary_logg=False, p0 = [10000, 9, 0.003, catalog['r_med_geo'][i]]))\n",
    "\n",
    "    \n",
    "    fig = plt.figure(figsize = (8,7))\n",
    "        \n",
    "    #plt.errorbar([filters[j].lpivot.to('angstrom').value for j in range(len(filters))], obs_flux, yerr = e_obs_flux, linestyle = 'none', marker = 'None', color = 'k', capsize = 5, label = 'Observed SED', zorder = 10)\n",
    "    #plt.plot([filters[j].lpivot.to('angstrom').value for j in range(len(filters))], get_model_flux_gaia(gaia_logg8.params), 'bo', markersize = 10, label = 'Model SED')\n",
    "    \n",
    "    plt.errorbar([filters[j].lpivot.to('angstrom').value for j in range(len(filters))], obs_flux_ext, yerr = e_obs_flux, linestyle = 'none', marker = 'None', color = 'k', capsize = 5, label = 'Observed SED', zorder = 10)\n",
    "    plt.plot([filters[j].lpivot.to('angstrom').value for j in range(len(filters))], get_model_flux_gaia_spec(gaia_logg8_ext.params), 'bo', markersize = 10, label = 'Model SED')\n",
    "    \n",
    "    model_fl = template(gaia_logg8_ext.params['teff'].value, gaia_logg8_ext.params['logg'].value, gaia_logg8_ext.params['radius'].value, gaia_logg8_ext.params['distance'].value)\n",
    "    mask = (3600 < base_wavl)*(base_wavl<9000)\n",
    "    plt.plot(base_wavl[mask], model_fl[mask], c = 'k', label = 'Model Spectrum')\n",
    "    \n",
    "    \n",
    "    #model_fl = template(gaia_logg8.params['teff'].value, gaia_logg8.params['logg'].value, gaia_logg8.params['radius'].value, gaia_logg8.params['distance'].value)\n",
    "    #mask = (3600 < base_wavl)*(base_wavl<9000)\n",
    "    #plt.plot(base_wavl[mask], model_fl[mask], c = 'k', label = 'Model Spectrum')\n",
    "    \n",
    "    #plt.ylim(0.1*min(model_fl[mask]), 1.1*max(model_fl[mask]))\n",
    "    \n",
    "    #plt.title('SED {}'.format(i))\n",
    "    \n",
    "    plt.text(0.05, 0.20, \"$T_{eff}$\" + \" = {:2.6} $K$\".format(gaia_logg8_ext.params['teff'].value), transform = plt.gca().transAxes, fontsize = 18)\n",
    "    plt.text(0.05, 0.15, \"$\\log g$\" + \" = {:2.5f}\".format(gaia_logg8_ext.params['logg'].value), transform = plt.gca().transAxes, fontsize = 18)\n",
    "    plt.text(0.05, 0.05, '$Distance = ${:2.1f} $pc$'.format(gaia_logg8_ext.params['distance'].value), transform = plt.gca().transAxes, fontsize=18)\n",
    "    plt.text(0.05, 0.10, r'$Radius = ${:2.5f} $R_\\odot$'.format(gaia_logg8_ext.params['radius'].value), transform = plt.gca().transAxes, fontsize = 18)\n",
    "    plt.text(0.80, 0.05, r'$\\chi_r^2 = ${:2.2f}'.format(gaia_logg8_ext.redchi), transform = plt.gca().transAxes, fontsize = 18)\n",
    "    \n",
    "    plt.xlim((3600, 9000))\n",
    "    plt.xlabel(r'Wavelength $[\\AA]$')\n",
    "    plt.ylabel('Flux $[erg/s/cm^2/\\AA]$')\n",
    "        \n",
    "    \n",
    "    #plt.gca().invert_yaxis()\n",
    "    plt.legend(framealpha = 0) \n",
    "    plt.savefig('spectra/leastsq/phot_fit/{}.png'.format(i))\n",
    "    plt.close()\n",
    "    \n",
    "    #print(gaia_logg8.params['radius'].stderr)\n",
    "    \n",
    "    #fig = plt.figure(figsize = (8,7))\n",
    "    \n",
    "    #plt.errorbar([filters[j].lpivot.to('angstrom').value for j in range(len(filters))], obs_flux, yerr = e_obs_flux, linestyle = 'none', marker = 'None', color = 'k', capsize = 5, label = 'Observed SED', zorder = 10)\n",
    "    #model_mag = get_model_flux_gaia(gaia_logg8.params)\n",
    "    #plt.plot([filters[j].lpivot.to('angstrom').value for j in range(len(filters))], [mag_to_flux_spec(model_mag[i], filters[i]) for i in range(len(filters))], 'bo', markersize = 10, label = 'Model SED (Color Tables)')\n",
    "    \n",
    "    \n",
    "    \n",
    "    #plt.xlim((3600, 9000))\n",
    "    #plt.xlabel(r'Wavelength $[\\AA]$')\n",
    "    #plt.ylabel('Flux $[erg/s/cm^2/\\AA]$')\n",
    "    \n",
    "    #plt.legend(framealpha = 0) \n",
    "    #plt.show()\n",
    "    \n",
    "print('dropped {} stars'.format(len(drops)))\n",
    "catalog.remove_rows(drops)\n",
    "catalog['wd_catalog_id_phot'] = id_\n",
    "results = gaia_results"
   ]
  },
  {
   "cell_type": "code",
   "execution_count": 23,
   "metadata": {
    "tags": []
   },
   "outputs": [
    {
     "data": {
      "text/plain": [
       "613"
      ]
     },
     "execution_count": 23,
     "metadata": {},
     "output_type": "execute_result"
    }
   ],
   "source": [
    "len(results)"
   ]
  },
  {
   "cell_type": "code",
   "execution_count": 24,
   "metadata": {
    "tags": []
   },
   "outputs": [
    {
     "data": {
      "text/plain": [
       "False"
      ]
     },
     "execution_count": 24,
     "metadata": {},
     "output_type": "execute_result"
    }
   ],
   "source": [
    "np.isnan(results[0].params['radius'].stderr)"
   ]
  },
  {
   "cell_type": "code",
   "execution_count": 25,
   "metadata": {
    "tags": []
   },
   "outputs": [],
   "source": [
    "n = []\n",
    "\n",
    "for result in results:\n",
    "    try:\n",
    "        np.isnan(result.params['radius'].stderr)\n",
    "        n.append(1)\n",
    "    except:\n",
    "        result.params['radius'].stderr = 0\n",
    "        n.append(0)"
   ]
  },
  {
   "cell_type": "code",
   "execution_count": 26,
   "metadata": {
    "tags": []
   },
   "outputs": [
    {
     "data": {
      "text/html": [
       "<h2>Fit Statistics</h2><table><tr><td>fitting method</td><td>leastsq</td><td></td></tr><tr><td># function evals</td><td>86</td><td></td></tr><tr><td># data points</td><td>2</td><td></td></tr><tr><td># variables</td><td>2</td><td></td></tr><tr><td>chi-square</td><td> 1.0746e-18</td><td></td></tr><tr><td>reduced chi-square</td><td> 1.0746e-18</td><td></td></tr><tr><td>Akaike info crit.</td><td>-80.1354066</td><td></td></tr><tr><td>Bayesian info crit.</td><td>-82.7491123</td><td></td></tr></table><h2>Variables</h2><table><tr><th> name </th><th> value </th><th> standard error </th><th> relative error </th><th> initial value </th><th> min </th><th> max </th><th> vary </th></tr><tr><td> teff </td><td>  7619.39000 </td><td>  1.6395e-04 </td><td> (0.00%) </td><td> 10000 </td><td>  4001.00000 </td><td>  35000.0000 </td><td> True </td></tr><tr><td> logg </td><td>  8.00000000 </td><td>  0.00000000 </td><td> (0.00%) </td><td> 8 </td><td>  5.00000000 </td><td>  9.00000000 </td><td> False </td></tr><tr><td> radius </td><td>  0.01816900 </td><td>  5.0337e-09 </td><td> (0.00%) </td><td> 0.003 </td><td>  1.0000e-06 </td><td>  0.05000000 </td><td> True </td></tr><tr><td> distance </td><td>  181.560364 </td><td>  0.00000000 </td><td> (0.00%) </td><td> 181.56036376953125 </td><td>  1.00000000 </td><td>  2000.00000 </td><td> False </td></tr></table><h2>Correlations (unreported correlations are < 0.100)</h2><table><tr><td>teff</td><td>radius</td><td>-0.9916</td></tr></table>"
      ],
      "text/plain": [
       "<lmfit.minimizer.MinimizerResult at 0x1554bdc5ff40>"
      ]
     },
     "execution_count": 26,
     "metadata": {},
     "output_type": "execute_result"
    }
   ],
   "source": [
    "results[6]"
   ]
  },
  {
   "cell_type": "code",
   "execution_count": 27,
   "metadata": {},
   "outputs": [],
   "source": [
    "catalog['raw_radius_result'] = [result for result in gaia_results]\n",
    "catalog['radius'] = [result.params['radius'].value for result in gaia_results]\n",
    "catalog['phot_teff'] = [result.params['teff'].value for result in gaia_results]\n",
    "catalog['e_phot_teff'] = [result.params['teff'].stderr for result in gaia_results]\n",
    "catalog['redchi'] = [result.redchi for result in gaia_results]\n",
    "catalog['e_radius'] = [np.sqrt(gaia_results[i].params['radius'].stderr**2 + np.abs(gaia_results7[i].params['radius'].value - gaia_results9[i].params['radius'].value)**2 ) for i in range(len(gaia_results))]\n",
    "catalog['error_from_model'] = [np.abs(gaia_results7[i].params['radius'].value - gaia_results9[i].params['radius'].value) for i in range(len(gaia_results))]\n",
    "\n",
    "catalog['undereddened_raw_radius_result'] = [result for result in reference_results]\n",
    "catalog['undereddened_radius'] = [result.params['radius'].value for result in reference_results]\n",
    "catalog['undereddened_phot_teff'] = [result.params['teff'].value for result in reference_results]\n",
    "catalog['undereddened_e_phot_teff'] = [result.params['teff'].stderr for result in reference_results]\n",
    "catalog['undereddened_redchi'] = [result.redchi for result in reference_results]\n",
    "catalog['undereddened_e_radius'] = [np.sqrt(reference_results[i].params['radius'].stderr**2 + np.abs(reference_results7[i].params['radius'].value - reference_results9[i].params['radius'].value)**2 ) for i in range(len(reference_results))]\n",
    "catalog['undereddened_error_from_model'] = [np.abs(reference_results7[i].params['radius'].value - reference_results9[i].params['radius'].value) for i in range(len(reference_results))]"
   ]
  },
  {
   "cell_type": "code",
   "execution_count": 28,
   "metadata": {},
   "outputs": [
    {
     "data": {
      "text/plain": [
       "<matplotlib.legend.Legend at 0x1554c0ad55b0>"
      ]
     },
     "execution_count": 28,
     "metadata": {},
     "output_type": "execute_result"
    },
    {
     "data": {
      "image/png": "[encoded data removed]",
      "text/plain": [
       "<Figure size 720x720 with 1 Axes>"
      ]
     },
     "metadata": {},
     "output_type": "display_data"
    }
   ],
   "source": [
    "plt.figure(figsize=(10,10))\n",
    "plt.hist(catalog['radius'], bins = 20, color='black', label = 'All Sample')\n",
    "plt.hist(catalog['radius'][catalog['uses_sdss5'] == 1], bins = 20, color='blue', label = 'SDSS-V')\n",
    "ymin, ymax = plt.ylim()\n",
    "#plt.vlines(np.mean(catalog['phot_teff']), ymin, ymax, linestyles='dashed')\n",
    "plt.xlabel(r'Photometric Radius $[R_0]$', fontsize=18)\n",
    "plt.legend()"
   ]
  },
  {
   "cell_type": "code",
   "execution_count": 29,
   "metadata": {
    "tags": []
   },
   "outputs": [
    {
     "data": {
      "text/plain": [
       "<matplotlib.legend.Legend at 0x155486693220>"
      ]
     },
     "execution_count": 29,
     "metadata": {},
     "output_type": "execute_result"
    },
    {
     "data": {
      "image/png": "[encoded data removed]",
      "text/plain": [
       "<Figure size 720x720 with 1 Axes>"
      ]
     },
     "metadata": {},
     "output_type": "display_data"
    }
   ],
   "source": [
    "plt.figure(figsize=(10,10))\n",
    "plt.hist(catalog['ms_parallax_over_error'], bins = 20, label = 'All Sample')\n",
    "ymin, ymax = plt.ylim()\n",
    "#plt.vlines(np.mean(catalog['phot_teff']), ymin, ymax, linestyles='dashed')\n",
    "plt.xlabel(r'Parallax Over Error', fontsize=18)\n",
    "plt.legend()"
   ]
  },
  {
   "cell_type": "code",
   "execution_count": 30,
   "metadata": {},
   "outputs": [
    {
     "data": {
      "image/png": "[encoded data removed]",
      "text/plain": [
       "<Figure size 504x504 with 1 Axes>"
      ]
     },
     "metadata": {},
     "output_type": "display_data"
    }
   ],
   "source": [
    "plt.scatter(catalog['wd_bp_rp'], catalog['wd_phot_g_mean_mag'] + 5 * np.log10(catalog['ms_parallax'] / 100), alpha = 0.3) \n",
    "plt.scatter(gemini_1['wd_bp_rp'], \n",
    "            gemini_1['wd_phot_g_mean_mag'] + 5 * np.log10(gemini_1['ms_parallax'] / 100), color = 'orange') \n",
    "plt.gca().invert_yaxis()\n"
   ]
  },
  {
   "cell_type": "code",
   "execution_count": 31,
   "metadata": {
    "tags": []
   },
   "outputs": [
    {
     "data": {
      "text/html": [
       "<div><i>Table length=1</i>\n",
       "<table id=\"table23452773265360\" class=\"table-striped table-bordered table-condensed\">\n",
       "<thead><tr><th>wd_source_id</th><th>ms_parallax</th><th>ms_parallax_over_error</th><th>wd_bp_rp</th><th>wd_ra</th><th>wd_dec</th><th>wd_l</th><th>wd_b</th><th>uses_sdss5</th><th>r_med_geo</th><th>wd_phot_g_mean_mag</th><th>wd_phot_bp_mean_mag</th><th>wd_phot_rp_mean_mag</th><th>wd_phot_g_mean_flux</th><th>wd_phot_bp_mean_flux</th><th>wd_phot_rp_mean_flux</th><th>wd_phot_g_mean_flux_error</th><th>wd_phot_bp_mean_flux_error</th><th>wd_phot_rp_mean_flux_error</th><th>wd_coords</th><th>E(B-V)</th><th>e_E(B-V)</th><th>A_v0</th><th>BP_ext</th><th>RP_ext</th><th>wd_phot_bp_mean_mag_ext</th><th>wd_phot_rp_mean_mag_ext</th><th>wd_catalog_id_phot</th><th>raw_radius_result</th><th>radius</th><th>phot_teff</th><th>e_phot_teff</th><th>redchi</th><th>e_radius</th><th>error_from_model</th><th>undereddened_raw_radius_result</th><th>undereddened_radius</th><th>undereddened_phot_teff</th><th>undereddened_e_phot_teff</th><th>undereddened_redchi</th><th>undereddened_e_radius</th><th>undereddened_error_from_model</th></tr></thead>\n",
       "<thead><tr><th></th><th></th><th></th><th></th><th></th><th></th><th></th><th></th><th></th><th>pc</th><th>mag</th><th>mag</th><th>mag</th><th>electron / s</th><th>electron / s</th><th>electron / s</th><th>electron / s</th><th>electron / s</th><th>electron / s</th><th>deg,deg,pc</th><th></th><th></th><th></th><th></th><th></th><th>mag</th><th>mag</th><th></th><th></th><th></th><th></th><th></th><th></th><th></th><th></th><th></th><th></th><th></th><th></th><th></th><th></th><th></th></tr></thead>\n",
       "<thead><tr><th>int64</th><th>float64</th><th>float32</th><th>float32</th><th>float64</th><th>float64</th><th>float64</th><th>float64</th><th>float64</th><th>float32</th><th>float32</th><th>float32</th><th>float32</th><th>float64</th><th>float64</th><th>float64</th><th>float32</th><th>float32</th><th>float32</th><th>SkyCoord</th><th>float32</th><th>float32</th><th>float32</th><th>float64</th><th>float64</th><th>float64</th><th>float64</th><th>int64</th><th>object</th><th>float64</th><th>float64</th><th>float64</th><th>float64</th><th>float64</th><th>float64</th><th>object</th><th>float64</th><th>float64</th><th>float64</th><th>float64</th><th>float64</th><th>float64</th></tr></thead>\n",
       "<tr><td>649472245695986816</td><td>3.6371048817093548</td><td>147.60089</td><td>-0.4258461</td><td>124.52862678921322</td><td>12.198718747803403</td><td>211.4506716608107</td><td>24.680348199619047</td><td>0.0</td><td>272.27396</td><td>17.443571</td><td>17.31139</td><td>17.737236</td><td>1983.8939820597616</td><td>1625.0269335261644</td><td>637.1825870140078</td><td>1.7266134</td><td>10.066547</td><td>7.6994715</td><td>211.4506716608107,24.680348199619047,272.2739562988281</td><td>0.0017659599</td><td>0.0</td><td>0.0054744757</td><td>0.0059115805544473175</td><td>0.003136042202608207</td><td>17.305478342541257</td><td>17.73409998074661</td><td>43</td><td>&lt;lmfit.minimizer.MinimizerResult object at 0x1554ba640bb0&gt;</td><td>0.011006733531863695</td><td>31386.428635434622</td><td>0.0050306492063779615</td><td>2.046453640235879e-17</td><td>0.00042946294486459935</td><td>0.0004294629448643502</td><td>&lt;lmfit.minimizer.MinimizerResult object at 0x1554ba718160&gt;</td><td>0.011092672325311852</td><td>31054.662167844763</td><td>0.08330438538716142</td><td>2.878373990418021e-15</td><td>0.0006944401979531021</td><td>0.0006944401978813564</td></tr>\n",
       "</table></div>"
      ],
      "text/plain": [
       "<Table length=1>\n",
       "   wd_source_id       ms_parallax     ... undereddened_error_from_model\n",
       "                                      ...                              \n",
       "      int64             float64       ...            float64           \n",
       "------------------ ------------------ ... -----------------------------\n",
       "649472245695986816 3.6371048817093548 ...         0.0006944401978813564"
      ]
     },
     "execution_count": 31,
     "metadata": {},
     "output_type": "execute_result"
    }
   ],
   "source": [
    "# Gemini object no.1\n",
    "catalog[catalog['wd_source_id'] == 649472245695986816]"
   ]
  },
  {
   "cell_type": "code",
   "execution_count": 32,
   "metadata": {
    "tags": []
   },
   "outputs": [
    {
     "data": {
      "text/html": [
       "<div><i>Table length=1</i>\n",
       "<table id=\"table23452773337648\" class=\"table-striped table-bordered table-condensed\">\n",
       "<thead><tr><th>wd_source_id</th><th>ms_parallax</th><th>ms_parallax_over_error</th><th>wd_bp_rp</th><th>wd_ra</th><th>wd_dec</th><th>wd_l</th><th>wd_b</th><th>uses_sdss5</th><th>r_med_geo</th><th>wd_phot_g_mean_mag</th><th>wd_phot_bp_mean_mag</th><th>wd_phot_rp_mean_mag</th><th>wd_phot_g_mean_flux</th><th>wd_phot_bp_mean_flux</th><th>wd_phot_rp_mean_flux</th><th>wd_phot_g_mean_flux_error</th><th>wd_phot_bp_mean_flux_error</th><th>wd_phot_rp_mean_flux_error</th><th>wd_coords</th><th>E(B-V)</th><th>e_E(B-V)</th><th>A_v0</th><th>BP_ext</th><th>RP_ext</th><th>wd_phot_bp_mean_mag_ext</th><th>wd_phot_rp_mean_mag_ext</th><th>wd_catalog_id_phot</th><th>raw_radius_result</th><th>radius</th><th>phot_teff</th><th>e_phot_teff</th><th>redchi</th><th>e_radius</th><th>error_from_model</th><th>undereddened_raw_radius_result</th><th>undereddened_radius</th><th>undereddened_phot_teff</th><th>undereddened_e_phot_teff</th><th>undereddened_redchi</th><th>undereddened_e_radius</th><th>undereddened_error_from_model</th></tr></thead>\n",
       "<thead><tr><th></th><th></th><th></th><th></th><th></th><th></th><th></th><th></th><th></th><th>pc</th><th>mag</th><th>mag</th><th>mag</th><th>electron / s</th><th>electron / s</th><th>electron / s</th><th>electron / s</th><th>electron / s</th><th>electron / s</th><th>deg,deg,pc</th><th></th><th></th><th></th><th></th><th></th><th>mag</th><th>mag</th><th></th><th></th><th></th><th></th><th></th><th></th><th></th><th></th><th></th><th></th><th></th><th></th><th></th><th></th><th></th></tr></thead>\n",
       "<thead><tr><th>int64</th><th>float64</th><th>float32</th><th>float32</th><th>float64</th><th>float64</th><th>float64</th><th>float64</th><th>float64</th><th>float32</th><th>float32</th><th>float32</th><th>float32</th><th>float64</th><th>float64</th><th>float64</th><th>float32</th><th>float32</th><th>float32</th><th>SkyCoord</th><th>float32</th><th>float32</th><th>float32</th><th>float64</th><th>float64</th><th>float64</th><th>float64</th><th>int64</th><th>object</th><th>float64</th><th>float64</th><th>float64</th><th>float64</th><th>float64</th><th>float64</th><th>object</th><th>float64</th><th>float64</th><th>float64</th><th>float64</th><th>float64</th><th>float64</th></tr></thead>\n",
       "<tr><td>2545590733671247744</td><td>23.199085497459805</td><td>1042.9606</td><td>1.061594</td><td>3.8088304758852845</td><td>0.36770672359199663</td><td>103.899598555634</td><td>-61.159151503568495</td><td>1.0</td><td>43.000797</td><td>17.684444</td><td>18.09276</td><td>17.031166</td><td>1589.1658278112227</td><td>791.2484629439028</td><td>1220.9325128460353</td><td>1.7557471</td><td>11.562339</td><td>19.258112</td><td>103.899598555634,-61.159151503568495,43.000797271728516</td><td>0.0</td><td>0.0</td><td>0.0</td><td>0.0</td><td>0.0</td><td>18.09276008605957</td><td>17.031166076660156</td><td>367</td><td>&lt;lmfit.minimizer.MinimizerResult object at 0x15549f4ad310&gt;</td><td>0.013968000315651138</td><td>5122.058484946618</td><td>0.0005837135481692272</td><td>2.3442987844469074e-14</td><td>0.0006361505930100089</td><td>0.0006361505927755026</td><td>&lt;lmfit.minimizer.MinimizerResult object at 0x15549f7f9100&gt;</td><td>0.013968000315651138</td><td>5122.058484946618</td><td>0.0005837135481692272</td><td>2.3442987844469074e-14</td><td>0.0006361505930100089</td><td>0.0006361505927755026</td></tr>\n",
       "</table></div>"
      ],
      "text/plain": [
       "<Table length=1>\n",
       "    wd_source_id       ms_parallax     ... undereddened_error_from_model\n",
       "                                       ...                              \n",
       "       int64             float64       ...            float64           \n",
       "------------------- ------------------ ... -----------------------------\n",
       "2545590733671247744 23.199085497459805 ...         0.0006361505927755026"
      ]
     },
     "execution_count": 32,
     "metadata": {},
     "output_type": "execute_result"
    }
   ],
   "source": [
    "# Gemini object no.2\n",
    "catalog[catalog['wd_source_id'] == 2545590733671247744]"
   ]
  },
  {
   "cell_type": "code",
   "execution_count": 33,
   "metadata": {},
   "outputs": [
    {
     "ename": "SyntaxError",
     "evalue": "unexpected EOF while parsing (<ipython-input-33-b657c909d007>, line 1)",
     "output_type": "error",
     "traceback": [
      "\u001b[0;36m  File \u001b[0;32m\"<ipython-input-33-b657c909d007>\"\u001b[0;36m, line \u001b[0;32m1\u001b[0m\n\u001b[0;31m    keivan_teff = [\u001b[0m\n\u001b[0m                   ^\u001b[0m\n\u001b[0;31mSyntaxError\u001b[0m\u001b[0;31m:\u001b[0m unexpected EOF while parsing\n"
     ]
    }
   ],
   "source": [
    "keivan_teff = ["
   ]
  },
  {
   "cell_type": "code",
   "execution_count": null,
   "metadata": {},
   "outputs": [],
   "source": [
    "catalog.remove_columns(['ms_parallax', 'wd_l', 'wd_b', 'raw_radius_result', 'wd_bp_rp', 'wd_phot_g_mean_mag', 'e_phot_teff',\n",
    "                        'wd_phot_bp_mean_mag', 'wd_phot_rp_mean_mag', 'wd_phot_g_mean_flux_error', 'wd_phot_bp_mean_flux_error', 'wd_phot_rp_mean_flux_error'])"
   ]
  },
  {
   "cell_type": "code",
   "execution_count": null,
   "metadata": {},
   "outputs": [],
   "source": [
    "catalog.write('data/02_photometry.fits', overwrite=True)"
   ]
  },
  {
   "cell_type": "code",
   "execution_count": null,
   "metadata": {
    "tags": []
   },
   "outputs": [],
   "source": [
    "nug = catalog[['wd_source_id', 'phot_teff']]\n",
    "nug.pprint()\n",
    "\n",
    "nug.write('data/nugget.fits', overwrite = True)"
   ]
  },
  {
   "cell_type": "code",
   "execution_count": null,
   "metadata": {},
   "outputs": [],
   "source": []
  },
  {
   "cell_type": "code",
   "execution_count": null,
   "metadata": {},
   "outputs": [],
   "source": []
  },
  {
   "cell_type": "code",
   "execution_count": null,
   "metadata": {},
   "outputs": [],
   "source": []
  },
  {
   "cell_type": "code",
   "execution_count": null,
   "metadata": {},
   "outputs": [],
   "source": []
  },
  {
   "cell_type": "code",
   "execution_count": null,
   "metadata": {},
   "outputs": [],
   "source": []
  },
  {
   "cell_type": "code",
   "execution_count": null,
   "metadata": {},
   "outputs": [],
   "source": []
  },
  {
   "cell_type": "code",
   "execution_count": null,
   "metadata": {},
   "outputs": [],
   "source": []
  }
 ],
 "metadata": {
  "kernelspec": {
   "display_name": "Python 3",
   "language": "python",
   "name": "python3"
  },
  "language_info": {
   "codemirror_mode": {
    "name": "ipython",
    "version": 3
   },
   "file_extension": ".py",
   "mimetype": "text/x-python",
   "name": "python",
   "nbconvert_exporter": "python",
   "pygments_lexer": "ipython3",
   "version": "3.8.3"
  }
 },
 "nbformat": 4,
 "nbformat_minor": 5
}
