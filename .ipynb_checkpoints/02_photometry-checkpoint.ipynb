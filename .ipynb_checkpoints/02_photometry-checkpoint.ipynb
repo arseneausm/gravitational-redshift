{
 "cells": [
  {
   "cell_type": "code",
   "execution_count": 1,
   "id": "9edaa3d3",
   "metadata": {
    "tags": []
   },
   "outputs": [
    {
     "name": "stdout",
     "output_type": "stream",
     "text": [
      "building montreal da model\n",
      "/Users/vedantchandra/0_research/01_sdss5/006_build_corv/data/comm_cat/\n",
      "star and exposure catalogs not found! check paths and run make_catalogs() if you want to use sdss functionality. otherwise ignore.\n"
     ]
    }
   ],
   "source": [
    "# Install a pip package in the current Jupyter kernel\n",
    "import sys\n",
    "import os\n",
    "sys.path.append('../')\n",
    "sys.path.append('../corv/src')\n",
    "\n",
    "\n",
    "### General\n",
    "import numpy as np\n",
    "import matplotlib.pyplot as plt\n",
    "import matplotlib.colors as colors\n",
    "\n",
    "import astropy\n",
    "from astropy.coordinates import SkyCoord\n",
    "from astropy.io import fits\n",
    "import astropy.units as u\n",
    "from astropy.table import Table, Column, MaskedColumn, join\n",
    "\n",
    "from tqdm import tqdm\n",
    "import pandas as pd\n",
    "from scipy.optimize import curve_fit\n",
    "import scipy.stats as stats\n",
    "\n",
    "### Tools\n",
    "import WD_models\n",
    "from bisect import bisect_left\n",
    "import lmfit\n",
    "import glob\n",
    "import corv\n",
    "\n",
    "from astroquery.sdss import SDSS\n",
    "from astroquery.gaia import Gaia\n",
    "\n",
    "#corv.sdss.make_catalogs()"
   ]
  },
  {
   "cell_type": "code",
   "execution_count": 2,
   "id": "2d06ce0b",
   "metadata": {
    "tags": []
   },
   "outputs": [],
   "source": [
    "c = 2.998e10\n",
    "k = 1.38e-16\n",
    "h = 6.626e-27\n",
    "halpha = 6564.61\n",
    "hbeta = 4862.68\n",
    "hgamma = 4341.68\n",
    "hdelta = 4102.89\n",
    "speed_light = 299792458 #m/s\n",
    "radius_sun = 6.957e8\n",
    "mass_sun = 1.9884e30\n",
    "newton_G = 6.674e-11\n",
    "pc_to_m = 3.086775e16"
   ]
  },
  {
   "cell_type": "code",
   "execution_count": 3,
   "id": "74955d4e",
   "metadata": {
    "tags": []
   },
   "outputs": [],
   "source": [
    "from __future__ import print_function\n",
    "from astropy.coordinates import SkyCoord\n",
    "import astropy.units as u"
   ]
  },
  {
   "cell_type": "code",
   "execution_count": 4,
   "id": "4214269f",
   "metadata": {
    "tags": []
   },
   "outputs": [
    {
     "name": "stderr",
     "output_type": "stream",
     "text": [
      "WARNING: UnitsWarning: 'log(cm.s**-2)' did not parse as fits unit: 'log' is not a recognized function If this is meant to be a custom unit, define it with 'u.def_unit'. To have it recognized inside a file reader or other code, enable it with 'u.add_enabled_units'. For details, see https://docs.astropy.org/en/latest/units/combining_and_defining.html [astropy.units.core]\n"
     ]
    }
   ],
   "source": [
    "from astropy.table import Table, vstack, unique\n",
    "\n",
    "ms_sdss4_wd_sdss4 = Table.read('data/ms_sdss4_wd_sdss4.fits')\n",
    "ms_gaia_wd_sdss4 = Table.read('data/ms_gaia_wd_sdss4.fits')\n",
    "ms_sdss5_wd_sdss4 = Table.read('sdss5/ms_sdss5_wd_sdss4.fits')\n",
    "\n",
    "ms_gaia_wd_sdss5 = Table.read('sdss5/ms_gaia_wd_sdss5.fits')\n",
    "ms_sdss4_wd_sdss5 = Table.read('sdss5/ms_sdss4_wd_sdss5.fits')\n",
    "ms_sdss5_wd_sdss5 = Table.read('sdss5/ms_sdss5_wd_sdss5.fits')\n",
    "\n",
    "ms_gaia_wd_falcon = Table.read('data/ms_gaia_wd_falcon.fits')\n",
    "gemini = Table.read('data/gemini.fits')\n",
    "\n",
    "\n",
    "def strip(catalog):  \n",
    "    drop_cols = []\n",
    "    keep_cols = ['wd_source_id', 'ms_source_id', 'wd_l', 'wd_b', 'ms_parallax', 'ms_parallax_over_error', 'wd_ra', 'wd_dec', \n",
    "                 'wd_bp_rp', 'uses_sdss5']\n",
    "        \n",
    "    for key in catalog.keys():\n",
    "        if key not in keep_cols:\n",
    "            drop_cols.append(key)\n",
    "            \n",
    "    catalog.remove_columns(drop_cols)\n",
    "    \n",
    "    return catalog\n",
    "\n",
    "ms_gaia_wd_sdss4  = strip(ms_gaia_wd_sdss4 )\n",
    "ms_sdss4_wd_sdss4 = strip(ms_sdss4_wd_sdss4)\n",
    "ms_sdss5_wd_sdss4 = strip(ms_sdss5_wd_sdss4)\n",
    "\n",
    "ms_gaia_wd_sdss5  = strip(ms_gaia_wd_sdss5 )\n",
    "ms_sdss4_wd_sdss5 = strip(ms_sdss4_wd_sdss5)\n",
    "ms_sdss5_wd_sdss5 = strip(ms_sdss5_wd_sdss5)\n",
    "\n",
    "gemini_1 = gemini.copy()\n",
    "\n",
    "ms_gaia_wd_falcon = strip(ms_gaia_wd_falcon)\n",
    "gemini = strip(gemini)\n",
    "\n",
    "catalog = unique(vstack([ms_sdss4_wd_sdss4, ms_gaia_wd_sdss4, ms_sdss4_wd_sdss5, ms_sdss5_wd_sdss4, ms_gaia_wd_sdss5, ms_sdss5_wd_sdss5, ms_gaia_wd_falcon, gemini]), keys = 'wd_source_id')"
   ]
  },
  {
   "cell_type": "code",
   "execution_count": 5,
   "id": "3c6153d6",
   "metadata": {
    "tags": []
   },
   "outputs": [
    {
     "name": "stdout",
     "output_type": "stream",
     "text": [
      "    ms_source_id        wd_source_id       ms_parallax     ...        wd_l                wd_b        uses_sdss5\n",
      "------------------- ------------------- ------------------ ... ------------------ ------------------- ----------\n",
      "  78630547564037504   78630783787018624  4.940878714239059 ... 146.06606747397458  -43.94621045934461        0.0\n",
      "  90243761175084672   90244375354955392   4.90088696273875 ... 144.70900584705583  -44.60031645677885        0.0\n",
      "  91690164426524288   91690164426711040 11.277563983542722 ... 141.56798220692895 -42.932042516885794        0.0\n",
      " 235840678609579904  235840781689958016  2.858879969576937 ... 150.81419433264188 -15.142418794667933        0.0\n",
      " 290678443086494848  290678477446232960 16.375135959740227 ...  138.6714454811497  -37.92124428204657        0.0\n",
      " 299817274499164416  299817270203790464 3.9530250489405656 ...  141.5262993511704 -31.650726348757026        0.0\n",
      " 300721519733864192  300721515441972608  5.465735127698064 ... 140.00211908900982 -31.261650914977317        1.0\n",
      " 361278462663417088  361278458368372992  4.958423402908964 ... 122.66992109532612 -29.894258797869995        0.0\n",
      " 520790043347308416  520790043346964608  16.25240295629171 ... 131.16019551519344    7.43745748400846        1.0\n",
      " 545940409758573824  545940164944375296  6.302034692865052 ...  131.0904049550553  11.629824001353866        1.0\n",
      "                ...                 ...                ... ...                ...                 ...        ...\n",
      "6431084502029884672 6431084300169300224 2.4154104909054177 ... 335.54163125992176 -34.256776734072105        1.0\n",
      "6886973358987025280 6886973535081311872  5.348613399261991 ...  33.05042341962845 -32.765218592475264        1.0\n",
      "6898255177217733504 6898255177217741952  4.301902667885009 ... 45.972877566568194 -37.876674587102904        1.0\n",
      "6898705805186335488 6898705800892401280  4.869293662259801 ...  43.56268215173452  -35.29774896286738        1.0\n",
      "6899127089938464512 6899127085644261632  2.165325727716067 ... 46.554948346429526  -36.77209880350085        1.0\n",
      "6899213710839008256 6899212229075129344 2.6821760125828775 ...  47.04721049139372  -36.68885192818693        1.0\n",
      "6908406487039810432 6908407066861225728  6.791952564820031 ... 40.276988973932006 -25.951344093069274        0.0\n",
      "6910806102448648576 6910805342238827648  6.372164759242437 ...  43.69908128476434 -33.975549287596245        0.0\n",
      "6915121788667377920 6915121784373453184  4.193339422878385 ... 43.701297802479075 -26.839782349069086        1.0\n",
      "6915495141584244480 6915495141583341824  3.564195528342669 ... 45.468701566064084 -30.437088091626418        1.0\n",
      "Length = 613 rows\n"
     ]
    }
   ],
   "source": [
    "print(catalog)"
   ]
  },
  {
   "cell_type": "code",
   "execution_count": 6,
   "id": "eb79894a",
   "metadata": {
    "tags": []
   },
   "outputs": [
    {
     "name": "stderr",
     "output_type": "stream",
     "text": [
      "100%|█████████████████████████████████████████████████████████████████████████████████████| 7/7 [00:06<00:00,  1.09it/s]\n"
     ]
    }
   ],
   "source": [
    "from astropy.table import Table, vstack, hstack\n",
    "\n",
    "only_rvs = True\n",
    "\n",
    "stardats = []\n",
    "iters = (len(catalog)+100) // 100\n",
    "\n",
    "# MS Gaia Sources\n",
    "\n",
    "for i in tqdm(range(iters)):\n",
    "        ADQL_CODE1 = \"\"\"SELECT dist.source_id, dist.r_med_geo\n",
    "        FROM gaiadr3.gaia_source as gaia\n",
    "        JOIN external.gaiaedr3_distance as dist\n",
    "        ON gaia.source_id = dist.source_id      \n",
    "        WHERE gaia.source_id in {}\"\"\".format(tuple(catalog['ms_source_id'][100*i:100*i+100]))\n",
    "        stardats.append(Gaia.launch_job(ADQL_CODE1,dump_to_file=False).get_results())\n",
    "        \n",
    "gaia_d1 = vstack(stardats)\n",
    "gaia_d1.rename_column('source_id', 'ms_source_id')\n",
    "catalog = join(catalog, gaia_d1, keys = 'ms_source_id')"
   ]
  },
  {
   "cell_type": "code",
   "execution_count": 7,
   "id": "9d91745f",
   "metadata": {
    "tags": []
   },
   "outputs": [],
   "source": [
    "catalog.remove_column('ms_source_id')"
   ]
  },
  {
   "cell_type": "code",
   "execution_count": 8,
   "id": "5eff46e1",
   "metadata": {
    "tags": []
   },
   "outputs": [
    {
     "name": "stderr",
     "output_type": "stream",
     "text": [
      "100%|█████████████████████████████████████████████████████████████████████████████████████| 7/7 [00:05<00:00,  1.32it/s]\n"
     ]
    }
   ],
   "source": [
    "stardats = []\n",
    "iters = (len(catalog)+100) // 100\n",
    "\n",
    "# This query is for making sure the radii issue isn't a problem with the photometry from the El-Badry catalog (it's not)\n",
    "for i in tqdm(range(iters)):\n",
    "        ADQL_CODE1 = \"\"\"SELECT source_id, phot_g_mean_mag, phot_bp_mean_mag, phot_rp_mean_mag, phot_g_mean_flux, phot_bp_mean_flux, phot_rp_mean_flux,\n",
    "                 phot_g_mean_flux_error, phot_bp_mean_flux_error, phot_rp_mean_flux_error\n",
    "        FROM gaiadr3.gaia_source     \n",
    "        WHERE source_id in {}\"\"\".format(tuple(catalog['wd_source_id'][100*i:100*i+100]))\n",
    "        stardats.append(Gaia.launch_job(ADQL_CODE1,dump_to_file=False).get_results())\n",
    "        \n",
    "gaia_d1 = vstack(stardats)\n",
    "\n",
    "for key in gaia_d1.keys():\n",
    "    gaia_d1.rename_column(key, 'wd_' + key)\n",
    "    \n",
    "catalog = join(catalog, gaia_d1, keys = 'wd_source_id')"
   ]
  },
  {
   "cell_type": "code",
   "execution_count": null,
   "id": "c7189d5d-77f6-4e15-bfb5-4559c9b9b7bb",
   "metadata": {},
   "outputs": [],
   "source": []
  },
  {
   "cell_type": "code",
   "execution_count": null,
   "id": "d8adcc5e-02c6-4f01-948d-a7ccfa15556e",
   "metadata": {
    "tags": []
   },
   "outputs": [],
   "source": []
  },
  {
   "cell_type": "code",
   "execution_count": null,
   "id": "8f6f07bc-1e70-4073-91b1-f684d9262f1a",
   "metadata": {
    "tags": []
   },
   "outputs": [],
   "source": []
  },
  {
   "cell_type": "code",
   "execution_count": null,
   "id": "77174462-2ecf-49fa-859b-1661ce8cf45c",
   "metadata": {
    "tags": []
   },
   "outputs": [],
   "source": []
  },
  {
   "cell_type": "code",
   "execution_count": 9,
   "id": "60f5a60b-af22-44b5-9f02-1f33e8ab7332",
   "metadata": {
    "tags": []
   },
   "outputs": [],
   "source": [
    "from __future__ import print_function\n",
    "from astropy.coordinates import SkyCoord\n",
    "import astropy.units as u\n",
    "from dustmaps.bayestar import BayestarWebQuery\n",
    "\n",
    "import pyphot\n",
    "import extinction\n",
    "\n",
    "# Coordinates using Bailer-Jones distances\n",
    "coords = [SkyCoord(frame=\"galactic\", l=catalog['wd_l'][i]*u.deg, b=catalog['wd_b'][i]*u.deg, distance = catalog['r_med_geo'][i] * u.pc) for i in range(len(catalog))]\n",
    "catalog['wd_coords'] = coords\n",
    "\n",
    "\n",
    "# Query Bayestar2019 to get E(B-V) in arbitrary units\n",
    "bsq = BayestarWebQuery()\n",
    "bsq_res = bsq.query(catalog['wd_coords'], mode='samples').copy()\n",
    "bsq_res[np.isnan(bsq_res)] = 0\n",
    "\n",
    "# Convert to actual units\n",
    "Ebv = np.median(bsq_res, axis=1)*0.901*0.98\n",
    "Ebv_mean = np.mean(bsq_res, axis = 1)*0.901*0.98\n",
    "e_Ebv = Ebv*0.2\n",
    "\n",
    "catalog['E(B-V)'] = Ebv_mean\n",
    "catalog['e_E(B-V)'] = e_Ebv\n",
    "\n",
    "\n",
    "# Parameters for correcting using Gaia\n",
    "Rv = 3.1\n",
    "catalog['A_v0'] = catalog['E(B-V)']*Rv\n",
    "\n",
    "# Fetch Gaia photometric band wavelengths and store in `gaia_phot_wavl`\n",
    "lib = pyphot.get_library()\n",
    "gaia_phot = [lib['Gaia_BP'], lib['Gaia_RP']]\n",
    "gaia_phot_wavl = np.array([x.lpivot.to('angstrom').value for x in gaia_phot])\n",
    "\n",
    "\n",
    "# For each point, find extinction using the parameters we defined above\n",
    "ext_all = []\n",
    "for av0 in catalog['A_v0']:\n",
    "    ext_all.append( extinction.fitzpatrick99(gaia_phot_wavl, av0, Rv) )\n",
    "ext_all = np.array(ext_all)\n",
    "    \n",
    "# Save the extinction in each band\n",
    "catalog['BP_ext'] = ext_all.T[0]\n",
    "catalog['RP_ext'] = ext_all.T[1]\n",
    "\n",
    "# Subtract out the extinction to find de-reddened magnitude\n",
    "catalog['wd_phot_bp_mean_mag'] = catalog['wd_phot_bp_mean_mag'] - catalog['BP_ext']\n",
    "catalog['wd_phot_bp_mean_mag'] = catalog['wd_phot_bp_mean_mag'] - catalog['RP_ext']"
   ]
  },
  {
   "cell_type": "code",
   "execution_count": null,
   "id": "02337da5-9729-4536-b2d6-b1dfbf9e0c68",
   "metadata": {},
   "outputs": [],
   "source": []
  },
  {
   "cell_type": "code",
   "execution_count": 10,
   "id": "8d67ba59",
   "metadata": {},
   "outputs": [],
   "source": [
    "sigmaG_0 = 0.0027553202\n",
    "sigmaGBP_0 = 0.0027901700\n",
    "sigmaGRP_0 = 0.0037793818\n",
    "\n",
    "catalog['e_wd_phot_g_mean_mag'] = np.sqrt((-2.5/np.log(10)*catalog['wd_phot_g_mean_flux_error']/catalog['wd_phot_g_mean_flux'])**2 + sigmaG_0**2)\n",
    "catalog['e_wd_phot_bp_mean_mag'] = np.sqrt((-2.5/np.log(10)*catalog['wd_phot_bp_mean_flux_error']/catalog['wd_phot_bp_mean_flux'])**2 + sigmaGBP_0**2)\n",
    "catalog['e_wd_phot_rp_mean_mag'] = np.sqrt((-2.5/np.log(10)*catalog['wd_phot_rp_mean_flux_error']/catalog['wd_phot_rp_mean_flux'])**2 + sigmaGRP_0**2)"
   ]
  },
  {
   "cell_type": "code",
   "execution_count": 11,
   "id": "dfe8bc23",
   "metadata": {
    "tags": []
   },
   "outputs": [
    {
     "name": "stdout",
     "output_type": "stream",
     "text": [
      "initialized with atm_type = H and bands = ['Su', 'Sg', 'Sr']\n",
      "initialized with atm_type = H and bands = ['bp', 'rp']\n"
     ]
    }
   ],
   "source": [
    "font_model = WD_models.load_model('f', 'f', 'f', 'H', HR_bands = ['Su-Sg', 'Su'])\n",
    "\n",
    "g_acc = (10**font_model['logg'])/100\n",
    "rsun = np.sqrt(font_model['mass_array'] * mass_sun * newton_G / g_acc) / radius_sun\n",
    "logg_teff_to_rsun = WD_models.interp_xy_z_func(x = font_model['logg'], y = 10**font_model['logteff'],\n",
    "                                            z = rsun, interp_type = 'linear')\n",
    "\n",
    "fitsed_sdss = WD_models.FitSED(to_flux = False, atm_type = 'H', bands = ['Su', 'Sg', 'Sr'])#, 'Si', 'Sz'])\n",
    "fitsed_gaia = WD_models.FitSED(to_flux = False, atm_type = 'H', bands = ['bp', 'rp'])#, 'Si', 'Sz'])"
   ]
  },
  {
   "cell_type": "code",
   "execution_count": 12,
   "id": "e92914c7",
   "metadata": {
    "tags": []
   },
   "outputs": [],
   "source": [
    "from scipy.interpolate import RegularGridInterpolator\n",
    "\n",
    "# Band selector: \n",
    "#    to fit with G, BP, RP, set `bands = ['g', 'bp', 'rp']`.\n",
    "#    to fit with only BP, RP, set `bands = ['bp', 'rp']`\n",
    "\n",
    "bands = ['bp', 'rp']\n",
    "\n",
    "#test = Table.read('../WD_models/Montreal_atm_grid_2021/Table_DA', format='ascii')\n",
    "#\n",
    "#if len(bands) == 3:\n",
    "#    test['mag'] = np.array([test['G3'], test['G3_BP'], test['G3_RP']]).T\n",
    "#elif len(bands) == 2:\n",
    "#    test['mag'] = np.array([test['G3_BP'], test['G3_RP']]).T\n",
    "#\n",
    "#for key in test.keys():\n",
    "#    if key not in ['Teff', 'logg', 'mag']:\n",
    "#        test.remove_column(key)\n",
    "#    \n",
    "#teffs = sorted(list(set(test['Teff'])))\n",
    "#loggs = sorted(list(set(test['logg'])))\n",
    "#\n",
    "#if len(bands) == 3:\n",
    "#    values = np.zeros((len(teffs), len(loggs), 3))\n",
    "#elif len(bands) == 2:\n",
    "#    values = np.zeros((len(teffs), len(loggs), 2))\n",
    "#\n",
    "#for i in tqdm(range(len(teffs))):\n",
    "#    for j in range(len(loggs)):\n",
    "#        try:\n",
    "#            values[i,j] = test[np.all([test['Teff'] == teffs[i], test['logg'] == loggs[j]], axis = 0)]['mag'][0]\n",
    "#        except:\n",
    "#            if len(bands) == 3:\n",
    "#                values[i,j] = np.array([0, 0, 0])\n",
    "#            elif len(bands) == 2:\n",
    "#                values[i,j] = np.array([0, 0])\n",
    "#            \n",
    "#model_sed = RegularGridInterpolator((teffs, loggs), values)"
   ]
  },
  {
   "cell_type": "code",
   "execution_count": 13,
   "id": "78d07c41-7243-4f70-98f0-ee0fb6ddb616",
   "metadata": {
    "tags": []
   },
   "outputs": [
    {
     "data": {
      "text/plain": [
       "Text(0, 0.5, 'Flux $[erg/s/cm^2/\\\\AA]$')"
      ]
     },
     "execution_count": 13,
     "metadata": {},
     "output_type": "execute_result"
    },
    {
     "data": {
      "image/png": "[encoded data removed]",
      "text/plain": [
       "<Figure size 640x480 with 1 Axes>"
      ]
     },
     "metadata": {},
     "output_type": "display_data"
    }
   ],
   "source": [
    "import pyphot\n",
    "from pyphot import unit\n",
    "\n",
    "base_wavl, tremblay, table = corv.utils.build_montreal_da(flux_unit = 'flam')\n",
    "\n",
    "\n",
    "lib = pyphot.get_library()\n",
    "filters = [lib['Gaia_BP'], lib['Gaia_RP']]\n",
    "\n",
    "fl = tremblay((10000, 8))\n",
    "\n",
    "wavl = [filters[i].lpivot.to('angstrom').value for i in range(len(filters))]\n",
    "phot_flux = [filters[i].get_flux(base_wavl * unit['AA'], fl * unit['erg/s/cm**2/AA'], axis = 1).value for i in range(len(filters))]\n",
    "phot_mag = np.array([-2.5*np.log10(filters[i].get_flux(base_wavl * unit['AA'], fl * unit['erg/s/cm**2/AA'], axis = 1).value) \\\n",
    "                     - filters[i].Vega_zero_mag for i in range(len(filters))])\n",
    "\n",
    "plt.plot(base_wavl, fl, c = 'k')\n",
    "plt.scatter(wavl, phot_flux, c = 'r')\n",
    "plt.xlim(2500,15000)\n",
    "plt.xlabel(r'Wavelength $[\\AA]$')\n",
    "plt.ylabel(r'Flux $[erg/s/cm^2/\\AA]$')\n"
   ]
  },
  {
   "cell_type": "code",
   "execution_count": 14,
   "id": "b988456d-9d99-45f7-ba70-da1bfd028736",
   "metadata": {
    "tags": []
   },
   "outputs": [],
   "source": [
    "import pyphot\n",
    "from pyphot import unit\n",
    "\n",
    "base_wavl, tremblay, table = corv.utils.build_montreal_da(flux_unit = 'flam')\n",
    "\n",
    "lib = pyphot.get_library()\n",
    "filters = [#lib['Gaia_G'],\n",
    "           lib['Gaia_BP'], lib['Gaia_RP']]\n"
   ]
  },
  {
   "cell_type": "code",
   "execution_count": 15,
   "id": "2a100c27-6af0-4da2-8727-e6c05cde0ff7",
   "metadata": {
    "tags": []
   },
   "outputs": [
    {
     "data": {
      "text/plain": [
       "[<matplotlib.lines.Line2D at 0x7f4210cf5d00>]"
      ]
     },
     "execution_count": 15,
     "metadata": {},
     "output_type": "execute_result"
    },
    {
     "data": {
      "image/png": "[encoded data removed]",
      "text/plain": [
       "<Figure size 640x480 with 1 Axes>"
      ]
     },
     "metadata": {},
     "output_type": "display_data"
    }
   ],
   "source": [
    "radius = 0.015*radius_sun\n",
    "distance = 200*pc_to_m\n",
    "\n",
    "fl = tremblay((10000, 8)) * 4 * np.pi * (radius / distance)**2\n",
    "\n",
    "mask = (3600 < base_wavl)*(base_wavl<9000)\n",
    "\n",
    "plt.plot(base_wavl[mask], fl[mask])"
   ]
  },
  {
   "cell_type": "code",
   "execution_count": 16,
   "id": "8a74e4f0",
   "metadata": {
    "tags": []
   },
   "outputs": [],
   "source": [
    "\n",
    "\n",
    "\n",
    "\n",
    "\n",
    "c = 2.998e10\n",
    "k = 1.38e-16\n",
    "h = 6.626e-27\n",
    "halpha = 6564.61\n",
    "hbeta = 4862.68\n",
    "hgamma = 4341.68\n",
    "hdelta = 4102.89\n",
    "speed_light = 299792458 #m/s\n",
    "mass_sun = 1.9884e30\n",
    "newton_G = 6.674e-11\n",
    "pc_to_m = 3.086775e16\n",
    "radius_sun = 6.957e8\n",
    "\n",
    "\n",
    "\n",
    "\n",
    "def mag_to_flux(mag):\n",
    "    return 10 ** ((mag + 48.6)/ -2.5) \n",
    "\n",
    "def flux_to_mag(flux):\n",
    "    return -2.5 * np.log10(flux) - 48.60\n",
    "    \n",
    "def get_model_flux_gaia(params):\n",
    "    \n",
    "    teff, logg, radius, distance = params['teff'], params['logg'], params['radius'], params['distance']\n",
    "    \n",
    "    model_mag = fitsed_gaia.model_sed(teff, logg, plx = 100)\n",
    "    model_flux = mag_to_flux(model_mag)\n",
    "    \n",
    "    rsun = logg_teff_to_rsun(logg, teff)\n",
    "    corr_radius = rsun * radius_sun\n",
    "    corr_distance = 10 * pc_to_m\n",
    "    \n",
    "    corr_model_flux = model_flux / (4 * np.pi * (corr_radius / corr_distance)**2)\n",
    "    \n",
    "    radius = radius * radius_sun # Rsun to meter\n",
    "    distance = distance * pc_to_m # Parsec to meter\n",
    "     \n",
    "    flux = corr_model_flux * ( 4 * np.pi * (radius / distance)**2 )\n",
    "    \n",
    "    return flux_to_mag(flux)\n",
    "\n",
    "\n",
    "\n",
    "\n",
    "\n",
    "\n",
    "\n",
    "\n",
    "\n",
    "\n",
    "\n",
    "\n",
    "\n",
    "\n",
    "\n",
    "def mag_to_flux_spec(mag, filt, e_mag = None):\n",
    "    if e_mag is not None:\n",
    "        return (10**( (mag + filt.Vega_zero_mag) / -2.5 ), np.sqrt((-0.921034 * 10**(-0.4 * (mag + filt.Vega_zero_mag)) * e_mag)**2 ))\n",
    "        #return (10**( (mag + 48.6) / -2.5 ), np.sqrt((-0.921034 * 10**(-0.4 * (mag + 48.6)) * e_mag)**2 ))\n",
    "    else:\n",
    "        return 10**( (mag + filt.Vega_zero_mag) / -2.5 )\n",
    "\n",
    "def template(teff, logg, radius, distance):\n",
    "    fl = tremblay((teff, logg))\n",
    "    \n",
    "    radius = radius * radius_sun # Rsun to meter\n",
    "    distance = distance * pc_to_m # Parsec to meter\n",
    "    \n",
    "    fl = 4*np.pi*(radius / distance)**2 * fl\n",
    "    return fl\n",
    "    \n",
    "\n",
    "def get_model_flux_gaia_spec(params):\n",
    "    teff, logg, radius, distance = params['teff'], params['logg'], params['radius'], params['distance']\n",
    "    \n",
    "    fl = template(teff, logg, radius, distance) \n",
    "            \n",
    "    flux = np.array([filters[i].get_flux(base_wavl * unit['angstrom'], fl * unit['erg/s/cm**2/angstrom'], axis = 1).to('erg/s/cm**2/angstrom').value for i in range(len(filters))])\n",
    "    #mag = np.array([-2.5*np.log10(filters[i].get_flux(base_wavl * unit['AA'], fl * unit['erg/s/cm**2/AA'], axis = 1).value) - filters[i].Vega_zero_mag for i in range(len(filters))])\n",
    "    return flux\n",
    "    \n",
    "\n",
    "def residual_gaia(params, obs_flux = None, e_obs_flux = None):\n",
    "    model_flux = get_model_flux_gaia_spec(params)\n",
    "\n",
    "    chisquare = ((model_flux - obs_flux) / e_obs_flux)**2\n",
    "    \n",
    "    #chisquare[np.isnan(chisquare)] = 1e8\n",
    "    return chisquare\n",
    "\n"
   ]
  },
  {
   "cell_type": "code",
   "execution_count": 17,
   "id": "28c46889",
   "metadata": {
    "tags": []
   },
   "outputs": [],
   "source": [
    "def get_parameters_gaia(obs_flux, e_obs_flux, id_ = None, floor_error = 0.02, make_plot = False, vary_logg = False, p0 = [10000, 8, 0.01, 100]):         \n",
    "    #e_obs_mag = np.sqrt(e_obs_mag**2 + floor_error**2)    \n",
    "    params = lmfit.Parameters()\n",
    "\n",
    "    params.add('teff', value = p0[0], min = 4001, max = 35000, vary = True)\n",
    "    params.add('logg', value = p0[1], min=5, max=9, vary=False)\n",
    "    params.add('radius', value = p0[2], min = 0.000001, max = 0.05, vary = True)\n",
    "    params.add('distance', value = p0[3], min = 1, max = 2000, vary = False)\n",
    "            \n",
    "    #result = lmfit.minimize(residual_gaia, params, kws = dict(obs_flux = obs_mag, e_obs_flux = e_obs_mag), method = 'emcee', steps = 500, burn = 250, thin = 20, is_weighted = True, float_behavior = 'chi2', progress = False)\n",
    "    result = lmfit.minimize(residual_gaia, params, kws = dict(obs_flux = obs_flux, e_obs_flux = e_obs_flux), method = 'leastsq')\n",
    "    \n",
    "    #result.params.pretty_print()\n",
    "        \n",
    "    return result"
   ]
  },
  {
   "cell_type": "code",
   "execution_count": null,
   "id": "dca2350b",
   "metadata": {
    "tags": []
   },
   "outputs": [
    {
     "name": "stderr",
     "output_type": "stream",
     "text": [
      "  0%|▏                                                                                  | 1/613 [00:02<22:05,  2.17s/it]"
     ]
    },
    {
     "name": "stdout",
     "output_type": "stream",
     "text": [
      "1.816757195993196e-10\n"
     ]
    },
    {
     "name": "stderr",
     "output_type": "stream",
     "text": [
      "  0%|▎                                                                                  | 2/613 [00:03<19:51,  1.95s/it]"
     ]
    },
    {
     "name": "stdout",
     "output_type": "stream",
     "text": [
      "1.555360068201398e-10\n"
     ]
    },
    {
     "name": "stderr",
     "output_type": "stream",
     "text": [
      "  0%|▍                                                                                  | 3/613 [00:06<20:39,  2.03s/it]"
     ]
    },
    {
     "name": "stdout",
     "output_type": "stream",
     "text": [
      "2.5654777298723707e-09\n"
     ]
    },
    {
     "name": "stderr",
     "output_type": "stream",
     "text": [
      "  1%|▌                                                                                  | 4/613 [00:07<19:37,  1.93s/it]"
     ]
    },
    {
     "name": "stdout",
     "output_type": "stream",
     "text": [
      "9.24664520793924e-09\n"
     ]
    },
    {
     "name": "stderr",
     "output_type": "stream",
     "text": [
      "  1%|▋                                                                                  | 5/613 [00:09<19:09,  1.89s/it]"
     ]
    },
    {
     "name": "stdout",
     "output_type": "stream",
     "text": [
      "2.6331825003201652e-11\n"
     ]
    },
    {
     "name": "stderr",
     "output_type": "stream",
     "text": [
      "  1%|▊                                                                                  | 6/613 [00:11<20:27,  2.02s/it]"
     ]
    },
    {
     "name": "stdout",
     "output_type": "stream",
     "text": [
      "6.070110816882861e-11\n"
     ]
    },
    {
     "name": "stderr",
     "output_type": "stream",
     "text": [
      "  1%|▉                                                                                  | 7/613 [00:14<21:30,  2.13s/it]"
     ]
    },
    {
     "name": "stdout",
     "output_type": "stream",
     "text": [
      "1.1723795231753795e-10\n"
     ]
    },
    {
     "name": "stderr",
     "output_type": "stream",
     "text": [
      "  1%|█                                                                                  | 8/613 [00:16<20:41,  2.05s/it]"
     ]
    },
    {
     "name": "stdout",
     "output_type": "stream",
     "text": [
      "8.878726962339024e-12\n"
     ]
    },
    {
     "name": "stderr",
     "output_type": "stream",
     "text": [
      "  1%|█▏                                                                                 | 9/613 [00:18<20:31,  2.04s/it]"
     ]
    },
    {
     "name": "stdout",
     "output_type": "stream",
     "text": [
      "3.120007146221346e-10\n"
     ]
    },
    {
     "name": "stderr",
     "output_type": "stream",
     "text": [
      "  2%|█▎                                                                                | 10/613 [00:20<21:03,  2.09s/it]"
     ]
    },
    {
     "name": "stdout",
     "output_type": "stream",
     "text": [
      "1.8037716877600576e-11\n"
     ]
    },
    {
     "name": "stderr",
     "output_type": "stream",
     "text": [
      "  2%|█▍                                                                                | 11/613 [00:22<20:13,  2.02s/it]"
     ]
    },
    {
     "name": "stdout",
     "output_type": "stream",
     "text": [
      "1.5794861030080471e-09\n"
     ]
    },
    {
     "name": "stderr",
     "output_type": "stream",
     "text": [
      "  2%|█▌                                                                                | 12/613 [00:24<20:42,  2.07s/it]"
     ]
    },
    {
     "name": "stdout",
     "output_type": "stream",
     "text": [
      "9.660506764382523e-08\n"
     ]
    },
    {
     "name": "stderr",
     "output_type": "stream",
     "text": [
      "  2%|█▋                                                                                | 13/613 [00:26<21:00,  2.10s/it]"
     ]
    },
    {
     "name": "stdout",
     "output_type": "stream",
     "text": [
      "1.9704350834157402e-12\n"
     ]
    },
    {
     "name": "stderr",
     "output_type": "stream",
     "text": [
      "  2%|█▊                                                                                | 14/613 [00:28<20:28,  2.05s/it]"
     ]
    },
    {
     "name": "stdout",
     "output_type": "stream",
     "text": [
      "1.9625087510498714e-09\n"
     ]
    },
    {
     "name": "stderr",
     "output_type": "stream",
     "text": [
      "  2%|██                                                                                | 15/613 [00:30<20:49,  2.09s/it]"
     ]
    },
    {
     "name": "stdout",
     "output_type": "stream",
     "text": [
      "1.7566350815985864e-11\n"
     ]
    },
    {
     "name": "stderr",
     "output_type": "stream",
     "text": [
      "  3%|██▏                                                                               | 16/613 [00:32<20:58,  2.11s/it]"
     ]
    },
    {
     "name": "stdout",
     "output_type": "stream",
     "text": [
      "2.6783876432177725e-11\n"
     ]
    },
    {
     "name": "stderr",
     "output_type": "stream",
     "text": [
      "  3%|██▎                                                                               | 17/613 [00:35<21:19,  2.15s/it]"
     ]
    },
    {
     "name": "stdout",
     "output_type": "stream",
     "text": [
      "1.2749260103197266e-12\n"
     ]
    },
    {
     "name": "stderr",
     "output_type": "stream",
     "text": [
      "  3%|██▍                                                                               | 18/613 [00:37<21:11,  2.14s/it]"
     ]
    },
    {
     "name": "stdout",
     "output_type": "stream",
     "text": [
      "1.219794632316722e-10\n"
     ]
    },
    {
     "name": "stderr",
     "output_type": "stream",
     "text": [
      "  3%|██▌                                                                               | 19/613 [00:39<20:57,  2.12s/it]"
     ]
    },
    {
     "name": "stdout",
     "output_type": "stream",
     "text": [
      "1.9545242084668418e-09\n"
     ]
    },
    {
     "name": "stderr",
     "output_type": "stream",
     "text": [
      "  3%|██▋                                                                               | 20/613 [00:41<20:09,  2.04s/it]"
     ]
    },
    {
     "name": "stdout",
     "output_type": "stream",
     "text": [
      "3.1452525287924383e-09\n"
     ]
    },
    {
     "name": "stderr",
     "output_type": "stream",
     "text": [
      "  3%|██▊                                                                               | 21/613 [00:43<20:31,  2.08s/it]"
     ]
    },
    {
     "name": "stdout",
     "output_type": "stream",
     "text": [
      "6.805656177521893e-09\n"
     ]
    },
    {
     "name": "stderr",
     "output_type": "stream",
     "text": [
      "  4%|██▉                                                                               | 22/613 [00:45<20:11,  2.05s/it]"
     ]
    },
    {
     "name": "stdout",
     "output_type": "stream",
     "text": [
      "1.6367480692684916e-11\n"
     ]
    },
    {
     "name": "stderr",
     "output_type": "stream",
     "text": [
      "  4%|███                                                                               | 23/613 [00:47<20:21,  2.07s/it]"
     ]
    },
    {
     "name": "stdout",
     "output_type": "stream",
     "text": [
      "5.887461118096355e-11\n"
     ]
    },
    {
     "name": "stderr",
     "output_type": "stream",
     "text": [
      "  4%|███▏                                                                              | 24/613 [00:49<20:14,  2.06s/it]"
     ]
    },
    {
     "name": "stdout",
     "output_type": "stream",
     "text": [
      "2.3947710587720344e-10\n"
     ]
    },
    {
     "name": "stderr",
     "output_type": "stream",
     "text": [
      "  4%|███▎                                                                              | 25/613 [00:51<20:15,  2.07s/it]"
     ]
    },
    {
     "name": "stdout",
     "output_type": "stream",
     "text": [
      "2.0082129539886374e-10\n"
     ]
    },
    {
     "name": "stderr",
     "output_type": "stream",
     "text": [
      "  4%|███▍                                                                              | 26/613 [00:53<21:05,  2.16s/it]"
     ]
    },
    {
     "name": "stdout",
     "output_type": "stream",
     "text": [
      "3.8272171639300166e-10\n"
     ]
    },
    {
     "name": "stderr",
     "output_type": "stream",
     "text": [
      "  4%|███▌                                                                              | 27/613 [00:55<20:25,  2.09s/it]"
     ]
    },
    {
     "name": "stdout",
     "output_type": "stream",
     "text": [
      "3.218970558573576e-11\n"
     ]
    },
    {
     "name": "stderr",
     "output_type": "stream",
     "text": [
      "  5%|███▋                                                                              | 28/613 [00:57<20:02,  2.05s/it]"
     ]
    },
    {
     "name": "stdout",
     "output_type": "stream",
     "text": [
      "3.239407736885369e-11\n"
     ]
    },
    {
     "name": "stderr",
     "output_type": "stream",
     "text": [
      "  5%|███▉                                                                              | 29/613 [00:59<20:08,  2.07s/it]"
     ]
    },
    {
     "name": "stdout",
     "output_type": "stream",
     "text": [
      "2.9455865197341634e-11\n"
     ]
    },
    {
     "name": "stderr",
     "output_type": "stream",
     "text": [
      "  5%|████                                                                              | 30/613 [01:01<19:01,  1.96s/it]"
     ]
    },
    {
     "name": "stdout",
     "output_type": "stream",
     "text": [
      "3.0954698199485447e-11\n"
     ]
    },
    {
     "name": "stderr",
     "output_type": "stream",
     "text": [
      "  5%|████▏                                                                             | 31/613 [01:03<19:05,  1.97s/it]"
     ]
    },
    {
     "name": "stdout",
     "output_type": "stream",
     "text": [
      "2.0088136827201186e-09\n"
     ]
    },
    {
     "name": "stderr",
     "output_type": "stream",
     "text": [
      "  5%|████▎                                                                             | 32/613 [01:05<18:19,  1.89s/it]"
     ]
    },
    {
     "name": "stdout",
     "output_type": "stream",
     "text": [
      "8.976610963080014e-10\n"
     ]
    },
    {
     "name": "stderr",
     "output_type": "stream",
     "text": [
      "  5%|████▍                                                                             | 33/613 [01:07<18:50,  1.95s/it]"
     ]
    },
    {
     "name": "stdout",
     "output_type": "stream",
     "text": [
      "1.7228896149027977e-09\n"
     ]
    },
    {
     "name": "stderr",
     "output_type": "stream",
     "text": [
      "  6%|████▌                                                                             | 34/613 [01:09<20:07,  2.08s/it]"
     ]
    },
    {
     "name": "stdout",
     "output_type": "stream",
     "text": [
      "1.859684926488317e-11\n"
     ]
    },
    {
     "name": "stderr",
     "output_type": "stream",
     "text": [
      "  6%|████▋                                                                             | 35/613 [01:11<19:42,  2.05s/it]"
     ]
    },
    {
     "name": "stdout",
     "output_type": "stream",
     "text": [
      "2.5803402226766044e-10\n"
     ]
    },
    {
     "name": "stderr",
     "output_type": "stream",
     "text": [
      "  6%|████▊                                                                             | 36/613 [01:13<19:45,  2.05s/it]"
     ]
    },
    {
     "name": "stdout",
     "output_type": "stream",
     "text": [
      "2.393219384322907e-11\n"
     ]
    },
    {
     "name": "stderr",
     "output_type": "stream",
     "text": [
      "  6%|████▉                                                                             | 37/613 [01:15<19:07,  1.99s/it]"
     ]
    },
    {
     "name": "stdout",
     "output_type": "stream",
     "text": [
      "2.677147742852753e-12\n"
     ]
    },
    {
     "name": "stderr",
     "output_type": "stream",
     "text": [
      "  6%|█████                                                                             | 38/613 [01:17<18:18,  1.91s/it]"
     ]
    },
    {
     "name": "stdout",
     "output_type": "stream",
     "text": [
      "1.681449792882414e-09\n"
     ]
    },
    {
     "name": "stderr",
     "output_type": "stream",
     "text": [
      "  6%|█████▏                                                                            | 39/613 [01:19<18:26,  1.93s/it]"
     ]
    },
    {
     "name": "stdout",
     "output_type": "stream",
     "text": [
      "3.594622757166492e-08\n"
     ]
    },
    {
     "name": "stderr",
     "output_type": "stream",
     "text": [
      "  7%|█████▎                                                                            | 40/613 [01:21<18:50,  1.97s/it]"
     ]
    },
    {
     "name": "stdout",
     "output_type": "stream",
     "text": [
      "4.2068527065859215e-10\n"
     ]
    },
    {
     "name": "stderr",
     "output_type": "stream",
     "text": [
      "  7%|█████▍                                                                            | 41/613 [01:23<18:24,  1.93s/it]"
     ]
    },
    {
     "name": "stdout",
     "output_type": "stream",
     "text": [
      "2.2093259712384435e-09\n"
     ]
    },
    {
     "name": "stderr",
     "output_type": "stream",
     "text": [
      "  7%|█████▌                                                                            | 42/613 [01:25<18:53,  1.99s/it]"
     ]
    },
    {
     "name": "stdout",
     "output_type": "stream",
     "text": [
      "4.5756534020653053e-11\n"
     ]
    },
    {
     "name": "stderr",
     "output_type": "stream",
     "text": [
      "  7%|█████▊                                                                            | 43/613 [01:27<19:36,  2.06s/it]"
     ]
    },
    {
     "name": "stdout",
     "output_type": "stream",
     "text": [
      "5.91716205286419e-11\n"
     ]
    }
   ],
   "source": [
    "plt.style.use('stefan.mplstyle')\n",
    "\n",
    "gaia_results = []\n",
    "gaia_results7 = []\n",
    "gaia_results9 = []\n",
    "\n",
    "e_results = []\n",
    "\n",
    "drops = []\n",
    "\n",
    "logg_vary = []\n",
    "\n",
    "id_ = []\n",
    "\n",
    "bands = ['bp', 'rp']\n",
    "\n",
    "for i in tqdm(range(len(catalog))):\n",
    "    obs_flux = np.array([#catalog['wd_phot_g_mean_flux'][i] * 1.736011e-33 * 2.99792458e+21 / 6217.9**2 , \n",
    "                         catalog['wd_phot_bp_mean_flux'][i] * 2.620707e-33 * 2.99792458e+21 / 5109.7**2, \n",
    "                         catalog['wd_phot_rp_mean_flux'][i] * 3.2988153e-33* 2.99792458e+21 / 7769.1**2])\n",
    "    e_obs_flux = np.array([#catalog['wd_phot_g_mean_flux_error'][i] * 1.736011e-33 * 2.99792458e+21 / 6217.9**2 , \n",
    "                           catalog['wd_phot_bp_mean_flux_error'][i] * 2.620707e-33 * 2.99792458e+21 / 5109.7**2, \n",
    "                           catalog['wd_phot_rp_mean_flux_error'][i] * 3.2988153e-33 * 2.99792458e+21 / 7769.1**2])\n",
    "    \n",
    "    obs_mag = np.array([catalog['wd_phot_bp_mean_mag'][i], catalog['wd_phot_rp_mean_mag'][i]])\n",
    "    e_obs_mag = np.array([catalog['e_wd_phot_bp_mean_mag'][i], catalog['e_wd_phot_rp_mean_mag'][i]])\n",
    "\n",
    "            \n",
    "    #temp = np.array([mag_to_flux(obs_mag[j], filters[j], e_mag = e_obs_mag[j]) for j in range(len(filters))])\n",
    "    #obs_flux = temp.T[0]\n",
    "    #e_obs_flux = temp.T[1]\n",
    "        \n",
    "    #try:    \n",
    "    gaia_logg7 = get_parameters_gaia( obs_flux, e_obs_flux, vary_logg=False, p0 = [10000, 7, 0.003, catalog['r_med_geo'][i]] )\n",
    "    gaia_logg8 = get_parameters_gaia( obs_flux, e_obs_flux, vary_logg=False, p0 = [10000, 8, 0.003, catalog['r_med_geo'][i]] )\n",
    "    gaia_logg9 = get_parameters_gaia( obs_flux, e_obs_flux, vary_logg=False, p0 = [10000, 9, 0.003, catalog['r_med_geo'][i]] )\n",
    "    id_.append(i)\n",
    "    \n",
    "    gaia_results.append(gaia_logg8)\n",
    "    gaia_results7.append(gaia_logg7)\n",
    "    gaia_results9.append(gaia_logg9)\n",
    "    #except:\n",
    "    #    drops.append(i)\n",
    "        \n",
    "    \n",
    "\n",
    "\n",
    "    \n",
    "    fig = plt.figure(figsize = (8,7))\n",
    "        \n",
    "    #plt.errorbar([filters[j].lpivot.to('angstrom').value for j in range(len(filters))], obs_flux, yerr = e_obs_flux, linestyle = 'none', marker = 'None', color = 'k', capsize = 5, label = 'Observed SED', zorder = 10)\n",
    "    #plt.plot([filters[j].lpivot.to('angstrom').value for j in range(len(filters))], get_model_flux_gaia(gaia_logg8.params), 'bo', markersize = 10, label = 'Model SED')\n",
    "    \n",
    "    plt.errorbar([filters[j].lpivot.to('angstrom').value for j in range(len(filters))], obs_flux, yerr = e_obs_flux, linestyle = 'none', marker = 'None', color = 'k', capsize = 5, label = 'Observed SED', zorder = 10)\n",
    "    plt.plot([filters[j].lpivot.to('angstrom').value for j in range(len(filters))], get_model_flux_gaia_spec(gaia_logg8.params), 'bo', markersize = 10, label = 'Model SED')\n",
    "    \n",
    "    model_fl = template(gaia_logg8.params['teff'].value, gaia_logg8.params['logg'].value, gaia_logg8.params['radius'].value, gaia_logg8.params['distance'].value)\n",
    "    mask = (3600 < base_wavl)*(base_wavl<9000)\n",
    "    plt.plot(base_wavl[mask], model_fl[mask], c = 'k', label = 'Model Spectrum')\n",
    "    \n",
    "    \n",
    "    #model_fl = template(gaia_logg8.params['teff'].value, gaia_logg8.params['logg'].value, gaia_logg8.params['radius'].value, gaia_logg8.params['distance'].value)\n",
    "    #mask = (3600 < base_wavl)*(base_wavl<9000)\n",
    "    #plt.plot(base_wavl[mask], model_fl[mask], c = 'k', label = 'Model Spectrum')\n",
    "    \n",
    "    #plt.ylim(0.1*min(model_fl[mask]), 1.1*max(model_fl[mask]))\n",
    "    \n",
    "    #plt.title('SED {}'.format(i))\n",
    "    \n",
    "    plt.text(0.05, 0.20, \"$T_{eff}$\" + \" = {:2.6} $K$\".format(gaia_logg8.params['teff'].value), transform = plt.gca().transAxes, fontsize = 18)\n",
    "    plt.text(0.05, 0.15, \"$\\log g$\" + \" = {:2.5f}\".format(gaia_logg8.params['logg'].value), transform = plt.gca().transAxes, fontsize = 18)\n",
    "    plt.text(0.05, 0.05, '$Distance = ${:2.1f} $pc$'.format(gaia_logg8.params['distance'].value), transform = plt.gca().transAxes, fontsize=18)\n",
    "    plt.text(0.05, 0.10, r'$Radius = ${:2.5f} $R_\\odot$'.format(gaia_logg8.params['radius'].value), transform = plt.gca().transAxes, fontsize = 18)\n",
    "    plt.text(0.80, 0.05, r'$\\chi_r^2 = ${:2.2f}'.format(gaia_logg8.redchi), transform = plt.gca().transAxes, fontsize = 18)\n",
    "    \n",
    "    plt.xlim((3600, 9000))\n",
    "    plt.xlabel(r'Wavelength $[\\AA]$')\n",
    "    plt.ylabel('Flux $[erg/s/cm^2/\\AA]$')\n",
    "        \n",
    "    \n",
    "    #plt.gca().invert_yaxis()\n",
    "    plt.legend(framealpha = 0) \n",
    "    plt.savefig('spectra/leastsq/phot_fit/{}.png'.format(i))\n",
    "    plt.close()\n",
    "    \n",
    "    print(gaia_logg8.params['radius'].stderr)\n",
    "    \n",
    "    #fig = plt.figure(figsize = (8,7))\n",
    "    \n",
    "    #plt.errorbar([filters[j].lpivot.to('angstrom').value for j in range(len(filters))], obs_flux, yerr = e_obs_flux, linestyle = 'none', marker = 'None', color = 'k', capsize = 5, label = 'Observed SED', zorder = 10)\n",
    "    #model_mag = get_model_flux_gaia(gaia_logg8.params)\n",
    "    #plt.plot([filters[j].lpivot.to('angstrom').value for j in range(len(filters))], [mag_to_flux_spec(model_mag[i], filters[i]) for i in range(len(filters))], 'bo', markersize = 10, label = 'Model SED (Color Tables)')\n",
    "    \n",
    "    \n",
    "    \n",
    "    #plt.xlim((3600, 9000))\n",
    "    #plt.xlabel(r'Wavelength $[\\AA]$')\n",
    "    #plt.ylabel('Flux $[erg/s/cm^2/\\AA]$')\n",
    "    \n",
    "    #plt.legend(framealpha = 0) \n",
    "    #plt.show()\n",
    "    \n",
    "print('dropped {} stars'.format(len(drops)))\n",
    "catalog.remove_rows(drops)\n",
    "catalog['wd_catalog_id_phot'] = id_\n",
    "results = gaia_results"
   ]
  },
  {
   "cell_type": "code",
   "execution_count": null,
   "id": "f730d5e7-7418-496a-9988-929f46a7ad29",
   "metadata": {
    "tags": []
   },
   "outputs": [],
   "source": [
    "len(results)"
   ]
  },
  {
   "cell_type": "code",
   "execution_count": null,
   "id": "10c70126-f571-45de-abbb-93053dc92341",
   "metadata": {
    "tags": []
   },
   "outputs": [],
   "source": [
    "np.isnan(results[0].params['radius'].stderr)"
   ]
  },
  {
   "cell_type": "code",
   "execution_count": null,
   "id": "4bb11919-0274-4d37-abca-93cf52b0c680",
   "metadata": {
    "tags": []
   },
   "outputs": [],
   "source": [
    "n = []\n",
    "\n",
    "for result in results:\n",
    "    try:\n",
    "        np.isnan(result.params['radius'].stderr)\n",
    "        n.append(1)\n",
    "    except:\n",
    "        result.params['radius'].stderr = 0\n",
    "        n.append(0)"
   ]
  },
  {
   "cell_type": "code",
   "execution_count": null,
   "id": "88f3654b-c300-44fb-b39d-292d6784099a",
   "metadata": {
    "tags": []
   },
   "outputs": [],
   "source": [
    "results[6]"
   ]
  },
  {
   "cell_type": "code",
   "execution_count": null,
   "id": "66f029f6",
   "metadata": {},
   "outputs": [],
   "source": [
    "catalog['raw_radius_result'] = [result for result in gaia_results]\n",
    "catalog['radius'] = [result.params['radius'].value for result in gaia_results]\n",
    "catalog['phot_teff'] = [result.params['teff'].value for result in gaia_results]\n",
    "catalog['e_phot_teff'] = [result.params['teff'].stderr for result in gaia_results]\n",
    "catalog['redchi'] = [result.redchi for result in gaia_results]\n",
    "catalog['e_radius'] = [np.sqrt(gaia_results[i].params['radius'].stderr**2 + np.abs(gaia_results7[i].params['radius'].value - gaia_results9[i].params['radius'].value)**2 ) for i in range(len(gaia_results))]\n",
    "catalog['error_from_model'] = [np.abs(gaia_results7[i].params['radius'].value - gaia_results9[i].params['radius'].value) for i in range(len(gaia_results))]"
   ]
  },
  {
   "cell_type": "code",
   "execution_count": null,
   "id": "39f9695e",
   "metadata": {},
   "outputs": [],
   "source": [
    "plt.figure(figsize=(10,10))\n",
    "plt.hist(catalog['radius'], bins = 20, color='black', label = 'All Sample')\n",
    "plt.hist(catalog['radius'][catalog['uses_sdss5'] == 1], bins = 20, color='blue', label = 'SDSS-V')\n",
    "ymin, ymax = plt.ylim()\n",
    "#plt.vlines(np.mean(catalog['phot_teff']), ymin, ymax, linestyles='dashed')\n",
    "plt.xlabel(r'Photometric Radius $[R_0]$', fontsize=18)\n",
    "plt.legend()"
   ]
  },
  {
   "cell_type": "code",
   "execution_count": null,
   "id": "e022fbe3",
   "metadata": {
    "tags": []
   },
   "outputs": [],
   "source": [
    "plt.figure(figsize=(10,10))\n",
    "plt.hist(catalog['ms_parallax_over_error'], bins = 20, label = 'All Sample')\n",
    "ymin, ymax = plt.ylim()\n",
    "#plt.vlines(np.mean(catalog['phot_teff']), ymin, ymax, linestyles='dashed')\n",
    "plt.xlabel(r'Parallax Over Error', fontsize=18)\n",
    "plt.legend()"
   ]
  },
  {
   "cell_type": "code",
   "execution_count": null,
   "id": "81f61fc5",
   "metadata": {},
   "outputs": [],
   "source": [
    "plt.scatter(catalog['wd_bp_rp'], catalog['wd_phot_g_mean_mag'] + 5 * np.log10(catalog['ms_parallax'] / 100), alpha = 0.3) \n",
    "plt.scatter(gemini_1['wd_bp_rp'], \n",
    "            gemini_1['wd_phot_g_mean_mag'] + 5 * np.log10(gemini_1['ms_parallax'] / 100), color = 'orange') \n",
    "plt.gca().invert_yaxis()\n"
   ]
  },
  {
   "cell_type": "code",
   "execution_count": null,
   "id": "c6c00a25",
   "metadata": {
    "tags": []
   },
   "outputs": [],
   "source": [
    "# Gemini object no.1\n",
    "catalog[catalog['wd_source_id'] == 649472245695986816]"
   ]
  },
  {
   "cell_type": "code",
   "execution_count": null,
   "id": "9d658bfc",
   "metadata": {
    "tags": []
   },
   "outputs": [],
   "source": [
    "# Gemini object no.2\n",
    "catalog[catalog['wd_source_id'] == 2545590733671247744]"
   ]
  },
  {
   "cell_type": "code",
   "execution_count": null,
   "id": "140e113b",
   "metadata": {},
   "outputs": [],
   "source": [
    "catalog.remove_columns(['ms_parallax', 'wd_l', 'wd_b', 'raw_radius_result', 'wd_bp_rp', 'wd_phot_g_mean_mag', 'e_phot_teff',\n",
    "                        'wd_phot_bp_mean_mag', 'wd_phot_rp_mean_mag', 'wd_phot_g_mean_flux_error', 'wd_phot_bp_mean_flux_error', 'wd_phot_rp_mean_flux_error'])"
   ]
  },
  {
   "cell_type": "code",
   "execution_count": null,
   "id": "90570098",
   "metadata": {},
   "outputs": [],
   "source": [
    "catalog.write('data/02_photometry.fits', overwrite=True)"
   ]
  },
  {
   "cell_type": "code",
   "execution_count": null,
   "id": "4d1dc3e1",
   "metadata": {
    "tags": []
   },
   "outputs": [],
   "source": [
    "nug = catalog[['wd_source_id', 'phot_teff']]\n",
    "nug.pprint()\n",
    "\n",
    "nug.write('data/nugget.fits', overwrite = True)"
   ]
  },
  {
   "cell_type": "code",
   "execution_count": null,
   "id": "49483e56",
   "metadata": {},
   "outputs": [],
   "source": []
  },
  {
   "cell_type": "code",
   "execution_count": null,
   "id": "67ab8519",
   "metadata": {},
   "outputs": [],
   "source": []
  },
  {
   "cell_type": "code",
   "execution_count": null,
   "id": "b9455bab",
   "metadata": {},
   "outputs": [],
   "source": []
  },
  {
   "cell_type": "code",
   "execution_count": null,
   "id": "8cd99c94",
   "metadata": {},
   "outputs": [],
   "source": []
  },
  {
   "cell_type": "code",
   "execution_count": null,
   "id": "f95ddb62",
   "metadata": {},
   "outputs": [],
   "source": []
  },
  {
   "cell_type": "code",
   "execution_count": null,
   "id": "3cadabb7",
   "metadata": {},
   "outputs": [],
   "source": []
  },
  {
   "cell_type": "code",
   "execution_count": null,
   "id": "65736d90",
   "metadata": {},
   "outputs": [],
   "source": []
  }
 ],
 "metadata": {
  "kernelspec": {
   "display_name": "Python 3 (ipykernel)",
   "language": "python",
   "name": "python3"
  },
  "language_info": {
   "codemirror_mode": {
    "name": "ipython",
    "version": 3
   },
   "file_extension": ".py",
   "mimetype": "text/x-python",
   "name": "python",
   "nbconvert_exporter": "python",
   "pygments_lexer": "ipython3",
   "version": "3.9.13"
  }
 },
 "nbformat": 4,
 "nbformat_minor": 5
}
