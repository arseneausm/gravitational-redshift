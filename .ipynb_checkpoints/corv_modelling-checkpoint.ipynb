{
 "cells": [
  {
   "cell_type": "code",
   "execution_count": null,
   "id": "40ead2c8-ddb5-4f25-8424-9f82c3abe89b",
   "metadata": {},
   "outputs": [],
   "source": [
    "from sklearn.cluster import KMeans\n",
    "import numpy as np\n",
    "import sys\n",
    "sys.path.append('../corv/src')\n",
    "\n",
    "import matplotlib.pyplot as plt\n",
    "import matplotlib.colors as colors\n",
    "from astropy.io import fits\n",
    "from tqdm import tqdm\n",
    "import pandas as pd\n",
    "import corv\n",
    "\n",
    "### Query\n",
    "from astroquery.sdss import SDSS\n",
    "from astroquery.gaia import Gaia\n",
    "from astropy import constants as c\n",
    "import data_selector as ds"
   ]
  },
  {
   "cell_type": "code",
   "execution_count": null,
   "id": "36425875-6e33-40fd-aca9-4109cdf498ea",
   "metadata": {},
   "outputs": [],
   "source": [
    "catalog = ds.get_catalog('data/catalog_sdss4.csv')"
   ]
  },
  {
   "cell_type": "code",
   "execution_count": null,
   "id": "67f4642d-f059-48dc-86c2-799b530c3f84",
   "metadata": {},
   "outputs": [],
   "source": [
    "i  = 11\n",
    "n = 1\n",
    "\n",
    "wl_new = np.linspace(4000, 8000, 8000)\n",
    "\n",
    "wd_pos = [1,2,1,1,2,1,2,2,2,2,2,2,2]\n",
    "ms_pos = [2,1,2,2,1,2,1,1,1,1,1,1,1]\n",
    "\n",
    "plt.figure(figsize = (7, 7))\n",
    "corvmodel = corv.models.make_tio_model(names = ['b'])\n",
    "params = corvmodel.make_params()\n",
    "nwl, nfl = corv.models.get_normalized_model(wl_new, corvmodel, params)\n",
    "plt.plot(nwl, nfl, 'k.')\n",
    "params['RV'].set(value = 1000)\n",
    "nwl, nfl = corv.models.get_normalized_model(wl_new, corvmodel, params)\n",
    "plt.plot(nwl, nfl, 'r.')\n",
    "plt.plot(catalog['wavelength{}'.format(n)][i], catalog['flux{}'.format(n)][i])\n",
    "plt.title('Voigt Balmer')\n",
    "plt.show()\n"
   ]
  },
  {
   "cell_type": "code",
   "execution_count": null,
   "id": "6c95e979-9cf5-44fd-9df5-a993a30d3774",
   "metadata": {},
   "outputs": [],
   "source": [
    "ms_pos = [2,1,2,2,1,2,1,1,1,1,1,1,1,1]\n",
    "\n",
    "for j in range(len(catalog['wavelength1'])):\n",
    "    wl_new = np.linspace(4000, 8000, 8000)\n",
    "    \n",
    "    wl = catalog['wavelength{}'.format(ms_pos[j])][j]\n",
    "    fl = catalog['flux{}'.format(ms_pos[j])][j]\n",
    "    ivar = catalog['ivar{}'.format(ms_pos[j])][j]\n",
    "    \n",
    "    corvmodel = corv.models.make_tio_model(names = ['a'])\n",
    "    params = corvmodel.make_params()\n",
    "    \n",
    "    #print(params)\n",
    "    \n",
    "    param_res, rv_res, rv_init = corv.fit.fit_corv(wl, fl, ivar, corvmodel)\n",
    "\n",
    "    print(rv_res.params['RV'])"
   ]
  },
  {
   "cell_type": "code",
   "execution_count": null,
   "id": "b6b2e567-37d8-4d67-8193-9f3dedd02989",
   "metadata": {},
   "outputs": [],
   "source": []
  },
  {
   "cell_type": "code",
   "execution_count": null,
   "id": "83573661-dd6f-4b4a-8562-59ac71ffd24d",
   "metadata": {},
   "outputs": [],
   "source": []
  },
  {
   "cell_type": "code",
   "execution_count": null,
   "id": "a1d31762-d1af-4a4d-8b2d-fa54f288c5ad",
   "metadata": {},
   "outputs": [],
   "source": []
  }
 ],
 "metadata": {
  "kernelspec": {
   "display_name": "Python 3 (ipykernel)",
   "language": "python",
   "name": "python3"
  },
  "language_info": {
   "codemirror_mode": {
    "name": "ipython",
    "version": 3
   },
   "file_extension": ".py",
   "mimetype": "text/x-python",
   "name": "python",
   "nbconvert_exporter": "python",
   "pygments_lexer": "ipython3",
   "version": "3.9.7"
  }
 },
 "nbformat": 4,
 "nbformat_minor": 5
}
