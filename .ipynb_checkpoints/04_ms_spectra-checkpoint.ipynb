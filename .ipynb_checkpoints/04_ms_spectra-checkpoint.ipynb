{
 "cells": [
  {
   "cell_type": "code",
   "execution_count": 1,
   "metadata": {
    "tags": []
   },
   "outputs": [
    {
     "name": "stderr",
     "output_type": "stream",
     "text": [
      "WARNING: AstropyDeprecationWarning: The matrix_product function is deprecated and may be removed in a future version.\n",
      "        Use @ instead. [dlnpyutils.coords]\n"
     ]
    }
   ],
   "source": [
    "#from sklearn.cluster import KMeans\n",
    "import numpy as np\n",
    "import scipy as sp\n",
    "import sys\n",
    "sys.path.append('../msrv-xc/')\n",
    "sys.path.append('../doppler/')\n",
    "\n",
    "import matplotlib.pyplot as plt\n",
    "import matplotlib.colors as colors\n",
    "from astropy.io import fits\n",
    "from astropy.table import Table\n",
    "from tqdm import tqdm\n",
    "\n",
    "### Query\n",
    "from astroquery.sdss import SDSS\n",
    "from astroquery.gaia import Gaia\n",
    "from astropy import constants as c\n",
    "\n",
    "import doppler\n",
    "\n",
    "#import wdtools\n",
    "#import msrvxc\n",
    "#import pickle"
   ]
  },
  {
   "cell_type": "code",
   "execution_count": 2,
   "metadata": {
    "tags": []
   },
   "outputs": [],
   "source": [
    "#with open('../msrv-xc/grids/interp_bosz.pkl', 'rb') as f:\n",
    "#    interp_bosz = pickle.load(f)\n",
    "#    \n",
    "#with open('../msrv-xc/grids/interp_bosz_norm.pkl', 'rb') as f:\n",
    "#    interp_bosz_norm = pickle.load(f)\n",
    "#    \n",
    "#wvl = np.load('../msrv-xc/grids/wavl.npy')"
   ]
  },
  {
   "cell_type": "code",
   "execution_count": 3,
   "metadata": {
    "tags": []
   },
   "outputs": [
    {
     "name": "stderr",
     "output_type": "stream",
     "text": [
      "WARNING: UnitsWarning: 'log(cm.s**-2)' did not parse as fits unit: 'log' is not a recognized function If this is meant to be a custom unit, define it with 'u.def_unit'. To have it recognized inside a file reader or other code, enable it with 'u.add_enabled_units'. For details, see https://docs.astropy.org/en/latest/units/combining_and_defining.html [astropy.units.core]\n"
     ]
    },
    {
     "name": "stdout",
     "output_type": "stream",
     "text": [
      "457\n",
      "409\n"
     ]
    }
   ],
   "source": [
    "from astropy.table import Table, vstack, unique\n",
    "\n",
    "ms_sdss4_wd_sdss4 = Table.read('data/ms_sdss4_wd_sdss4.fits')\n",
    "ms_gaia_wd_sdss4 = Table.read('data/ms_gaia_wd_sdss4.fits')\n",
    "ms_sdss5_wd_sdss4 = Table.read('sdss5/ms_sdss5_wd_sdss4.fits')\n",
    "\n",
    "ms_gaia_wd_sdss5 = Table.read('sdss5/ms_gaia_wd_sdss5.fits')\n",
    "ms_sdss4_wd_sdss5 = Table.read('sdss5/ms_sdss4_wd_sdss5.fits')\n",
    "ms_sdss5_wd_sdss5 = Table.read('sdss5/ms_sdss5_wd_sdss5.fits')\n",
    "\n",
    "def strip(catalog):  \n",
    "    drop_cols = []\n",
    "    keep_cols = ['ms_source_id', 'ms_ra', 'ms_dec', 'ms_plate', 'ms_mjd', 'ms_fiberid', 'ms_filepath', 'ms_rv_from', 'radial_velocity', 'radial_velocity_error']\n",
    "        \n",
    "    for key in catalog.keys():\n",
    "        if key not in keep_cols:\n",
    "            drop_cols.append(key)\n",
    "            \n",
    "    catalog.remove_columns(drop_cols)\n",
    "    \n",
    "    return catalog\n",
    "\n",
    "ms_gaia_wd_sdss4  = strip(ms_gaia_wd_sdss4 )\n",
    "ms_sdss4_wd_sdss4 = strip(ms_sdss4_wd_sdss4)\n",
    "ms_sdss5_wd_sdss4 = strip(ms_sdss5_wd_sdss4)\n",
    "\n",
    "ms_gaia_wd_sdss5  = strip(ms_gaia_wd_sdss5 )\n",
    "ms_sdss4_wd_sdss5 = strip(ms_sdss4_wd_sdss5)\n",
    "ms_sdss5_wd_sdss5 = strip(ms_sdss5_wd_sdss5)\n",
    "\n",
    "catalog = vstack([ms_sdss4_wd_sdss4, ms_gaia_wd_sdss4, ms_sdss4_wd_sdss5, ms_sdss5_wd_sdss4, ms_gaia_wd_sdss5, ms_sdss5_wd_sdss5])\n",
    "print(len(catalog))\n",
    "catalog = unique(catalog, keys = 'ms_source_id')\n",
    "print(len(catalog))"
   ]
  },
  {
   "cell_type": "code",
   "execution_count": 4,
   "metadata": {
    "tags": []
   },
   "outputs": [
    {
     "name": "stdout",
     "output_type": "stream",
     "text": [
      "154\n"
     ]
    }
   ],
   "source": [
    "print(len(catalog[catalog['radial_velocity'].mask]))"
   ]
  },
  {
   "cell_type": "code",
   "execution_count": 5,
   "metadata": {
    "tags": []
   },
   "outputs": [
    {
     "name": "stderr",
     "output_type": "stream",
     "text": [
      "100%|██████████| 409/409 [00:00<00:00, 23348.31it/s]\n"
     ]
    }
   ],
   "source": [
    "paths = []\n",
    "internetpaths = []\n",
    "\n",
    "for i in tqdm(range(len(catalog))):\n",
    "    if catalog['ms_rv_from'][i] == 'sdss5':\n",
    "        catalog['ms_filepath'][i] = catalog['ms_filepath'][i].replace('spec-','spSpec-')\n",
    "        paths.append('sdss5/ms_fits/' + catalog['ms_filepath'][i])\n",
    "        a, b = catalog['ms_filepath'][i].split('-')[1], catalog['ms_filepath'][i].split('-')[2]\n",
    "        \n",
    "        internetpaths.append('https://data.sdss5.org/sas/sdsswork/bhm/boss/spectro/redux/v6_1_0/' + a + '/coadd/' + b + '/' + catalog['ms_filepath'][i])\n",
    "    else:\n",
    "        paths.append('')\n",
    "        \n",
    "catalog['paths'] = paths"
   ]
  },
  {
   "cell_type": "code",
   "execution_count": 6,
   "metadata": {},
   "outputs": [
    {
     "data": {
      "text/html": [
       "<i>Row index=76</i>\n",
       "<table id=\"table23455469009552\">\n",
       "<thead><tr><th>ms_source_id</th><th>ms_ra</th><th>ms_dec</th><th>ms_plate</th><th>ms_mjd</th><th>ms_fiberid</th><th>radial_velocity</th><th>radial_velocity_error</th><th>ms_rv_from</th><th>ms_filepath</th><th>paths</th></tr></thead>\n",
       "<thead><tr><th></th><th></th><th></th><th></th><th></th><th></th><th>km / s</th><th>km / s</th><th></th><th></th><th></th></tr></thead>\n",
       "<thead><tr><th>int64</th><th>float64</th><th>float64</th><th>int64</th><th>int64</th><th>int64</th><th>float32</th><th>float32</th><th>bytes5</th><th>bytes42</th><th>str56</th></tr></thead>\n",
       "<tr><td>875615158730751488</td><td>118.58825557202022</td><td>28.728652963913966</td><td>4453</td><td>55535</td><td>610</td><td>--</td><td>--</td><td>sdss4</td><td>--</td><td></td></tr>\n",
       "</table>"
      ],
      "text/plain": [
       "<Row index=76>\n",
       "   ms_source_id          ms_ra              ms_dec       ms_plate ms_mjd ms_fiberid radial_velocity radial_velocity_error ms_rv_from ms_filepath paths\n",
       "                                                                                         km / s             km / s                                    \n",
       "      int64             float64            float64        int64   int64    int64        float32            float32          bytes5     bytes42   str56\n",
       "------------------ ------------------ ------------------ -------- ------ ---------- --------------- --------------------- ---------- ----------- -----\n",
       "875615158730751488 118.58825557202022 28.728652963913966     4453  55535        610              --                    --      sdss4          --      "
      ]
     },
     "execution_count": 6,
     "metadata": {},
     "output_type": "execute_result"
    }
   ],
   "source": [
    "catalog[76]"
   ]
  },
  {
   "cell_type": "code",
   "execution_count": 7,
   "metadata": {
    "tags": []
   },
   "outputs": [],
   "source": [
    "c_kms = 2.99792458e5 # speed of light in km/s\n",
    "\n",
    "\n",
    "def continuum_normalize(wl, fl, ivar = None, avg_size = 150, ret_cont = False):\n",
    "    \n",
    "    fl_norm = np.zeros(np.size(fl))\n",
    "    fl_cont = np.zeros(np.size(fl))\n",
    "    \n",
    "    ivar_yes = 0\n",
    "    if ivar is not None:\n",
    "        ivar_yes = 1\n",
    "        ivar_norm = np.zeros(np.size(fl))\n",
    "        \n",
    "    for i in range(np.size(wl)):\n",
    "        wl_clip = ((wl[i]-avg_size/2)<wl) * (wl<(wl[i]+avg_size/2))\n",
    "        fl_cont[i] = np.median(fl[wl_clip])\n",
    "        if ivar_yes:\n",
    "            ivar_norm[i] = ivar[i]*np.median(fl[wl_clip])**2\n",
    "    \n",
    "    fl_norm = fl/fl_cont\n",
    "    \n",
    "    if ret_cont:\n",
    "        if ivar_yes:\n",
    "            return wl, fl_norm, ivar_norm, fl_cont\n",
    "        else:\n",
    "            return wl, fl_norm, fl_cont\n",
    "    else:\n",
    "        if ivar_yes:\n",
    "            return wl, fl_norm, ivar_norm\n",
    "        else:\n",
    "            return wl, fl_norm\n",
    "        \n",
    "def simulate_spec(interpolator, interp_wvl, wl, params):\n",
    "    teff, logg, Z, rv = (params['teff'], params['logg'], params['z'], params['RV'])\n",
    "    \n",
    "    wl = wl * np.sqrt((1 - rv/c_kms)/(1 + rv/c_kms))\n",
    "    \n",
    "    return wl, np.interp(wl, interp_wvl, interpolator( (teff, logg, Z, 0) ))"
   ]
  },
  {
   "cell_type": "raw",
   "metadata": {},
   "source": [
    "doppler.utils.download_data()"
   ]
  },
  {
   "cell_type": "code",
   "execution_count": 8,
   "metadata": {},
   "outputs": [
    {
     "name": "stdout",
     "output_type": "stream",
     "text": [
      "[-1072.8352      97.56491    263.61133  ...    49.282707    49.282707\n",
      "    49.282707]\n"
     ]
    }
   ],
   "source": [
    "spec = fits.open(catalog['paths'][12])\n",
    "fl=(spec[1].data['flux'])\n",
    "\n",
    "print(fl)"
   ]
  },
  {
   "cell_type": "code",
   "execution_count": null,
   "metadata": {
    "tags": []
   },
   "outputs": [
    {
     "name": "stderr",
     "output_type": "stream",
     "text": [
      "  0%|          | 0/409 [00:00<?, ?it/s]"
     ]
    },
    {
     "name": "stdout",
     "output_type": "stream",
     "text": [
      "[-2.8920452e+07  2.3231774e+07 -1.4270795e+07 ...  2.8496179e+02\n",
      "  2.8496179e+02  2.8496179e+02]\n",
      "[ 3566.9744  3567.795   3568.6177 ... 10394.412  10396.809  10399.206 ]\n"
     ]
    }
   ],
   "source": [
    "from matplotlib.ticker import FuncFormatter, MaxNLocator\n",
    "\n",
    "%config InlineBackend.figure_format='retina'\n",
    "\n",
    "drops = []\n",
    "catalog['ms_redchi'] = np.zeros(len(catalog))\n",
    "catalog['ms_gaia'] = np.ones(len(catalog))\n",
    "catalog['ms_catalog_id'] = np.zeros(len(catalog))\n",
    "\n",
    "verbose = False\n",
    "\n",
    "for i in tqdm(range(len(catalog))):\n",
    "    catalog['ms_catalog_id'] = i\n",
    "    \n",
    "    spec = ''\n",
    "    \n",
    "    if (catalog['ms_rv_from'][i] == 'sdss4'):\n",
    "        spec = SDSS.get_spectra(plate=catalog['ms_plate'][i], fiberID=catalog['ms_fiberid'][i], mjd=catalog['ms_mjd'][i])[0]\n",
    "    elif catalog['ms_rv_from'][i] == 'sdss5':\n",
    "        spec = fits.open(catalog['paths'][i])\n",
    "        \n",
    "    if catalog['ms_rv_from'][i] != 'gaia':\n",
    "        wl=(10**spec[1].data['loglam'])\n",
    "        fl=(spec[1].data['flux'])\n",
    "        ivar=(spec[1].data['ivar'])\n",
    "        \n",
    "        mask = (wl < 5800) & (7200 < wl)\n",
    "        \n",
    "        print(fl)\n",
    "        print(wl)\n",
    "\n",
    "        dspec = doppler.spec1d.Spec1D(flux = fl,\n",
    "                                  wave = wl,\n",
    "                                  err = ivar**(-0.5),\n",
    "                                  lsftype = 'Gaussian', \n",
    "                                  lsfsigma = wl /1800,\n",
    "                                  lsfxtype = 'Wave',\n",
    "                                  wavevac = True,\n",
    "                                      mask = mask\n",
    "                                    )\n",
    "        try:                   \n",
    "            res, model, dspecm = doppler.rv.fit(dspec, payne = True, verbose = verbose,\n",
    "                                    fitparams = ['TEFF', 'LOGG', 'FE_H', 'ALPHA_H', 'RV',],\n",
    "                                                #'C_H', 'NA_H', 'CA_H', 'MG_H'],\n",
    "                                            estimates = {'LOGG': 5, 'RV': 0},\n",
    "                                    mcmc = False)\n",
    "        except:\n",
    "            print('Fitting failed with the following flux:')\n",
    "            print(fl)\n",
    "            continue\n",
    "        #print(list(res.dtype.names))\n",
    "                                      \n",
    "        catalog['radial_velocity'][i] = res['vrel']\n",
    "        catalog['radial_velocity_error'][i] = res['vrelerr']\n",
    "        catalog['ms_redchi'][i] = res['chisq']\n",
    "        catalog['ms_gaia'][i] = 0\n",
    "        \n",
    "        #\n",
    "        #  Plotting\n",
    "        #\n",
    "        \n",
    "        maxw = model.wave.max()\n",
    "        minw = model.wave.min()\n",
    "    \n",
    "        width = model.wave.max() - model.wave.min()\n",
    "        nwin = 4\n",
    "        winw = width / nwin\n",
    "        \n",
    "        afe = res['alpha_h'] - res['fe_h']\n",
    "    \n",
    "        tstr = (str(i) + \n",
    "                ', Teff = %i K' % res['teff'] + \n",
    "                ', logg = %.1f' % res['logg'] + \n",
    "                ', FeH = %.2f' % res['fe_h'] + \n",
    "                ', aFe = %.2f' % afe + \n",
    "                ', RV = %.1f km/s' % res['vrel']\n",
    "        )\n",
    "        \n",
    "        mosaic = \"\"\"\n",
    "            AAA\n",
    "            AAA\n",
    "            BBB\n",
    "            \"\"\"\n",
    "        \n",
    "        print(dspecm.wave[mask])\n",
    "        \n",
    "        fig = plt.figure(figsize = (14,7))#, layout = 'constrained')\n",
    "        ax_dict = fig.subplot_mosaic(mosaic)\n",
    "        plt.sca(ax_dict['A'])\n",
    "        plt.plot(dspecm.wave, dspecm.flux, 'k', lw =2)\n",
    "        plt.plot(model.wave, model.flux, 'r')\n",
    "        plt.ylabel('Normalized Flux')\n",
    "        plt.title(tstr, fontsize = 22)\n",
    "\n",
    "\n",
    "        plt.sca(ax_dict['B'])\n",
    "        plt.plot(dspecm.wave, (dspecm.flux - model.flux) / dspecm.err, 'k', lw =2)\n",
    "\n",
    "        plt.axhline(-1, color = 'r', ls = '--')\n",
    "        plt.axhline(1, color = 'r', ls = '--')\n",
    "\n",
    "        plt.axhline(-3, color = 'r', ls = '-')\n",
    "        plt.axhline(3, color = 'r', ls = '-')\n",
    "        plt.ylabel('$\\chi$')\n",
    "        \n",
    "        plt.text(0.975, 0.95, '$\\chi_r^2 = %.1f$' % res['chisq'][0],\n",
    "                transform = plt.gca().transAxes, ha = 'right', va = 'top')\n",
    "\n",
    "        plt.xlabel('Wavelength [$\\mathrm{\\AA}$]')\n",
    "\n",
    "        plt.savefig('spectra/doppler/%s_dopplerfit.png' % i)\n",
    "        \n",
    "        \n",
    "        plt.figure(figsize = (10,7))\n",
    "        plt.subplot(411)\n",
    "        plt.plot(dspecm.wave, dspecm.flux, 'k', lw =2)\n",
    "        plt.plot(model.wave, model.flux, 'r')\n",
    "        plt.xlim(minw, minw + winw)\n",
    "        plt.title(tstr, fontsize = 16)\n",
    "\n",
    "        plt.subplot(412)\n",
    "        plt.plot(dspecm.wave, dspecm.flux, 'k', lw =2)\n",
    "        plt.plot(model.wave, model.flux, 'r')\n",
    "        plt.xlim(minw + winw, minw + 2 * winw)\n",
    "\n",
    "        plt.subplot(413)\n",
    "        plt.plot(dspecm.wave, dspecm.flux, 'k', lw =2)\n",
    "        plt.plot(model.wave, model.flux, 'r')\n",
    "        plt.xlim(minw + 2 * winw, minw + 3 * winw)\n",
    "\n",
    "\n",
    "        plt.subplot(414)\n",
    "        plt.plot(dspecm.wave, dspecm.flux, 'k', lw =2)\n",
    "        plt.plot(model.wave, model.flux, 'r')\n",
    "        plt.xlim(minw + 3 * winw, minw + 4 * winw)\n",
    "\n",
    "        plt.tight_layout()\n",
    "        plt.subplots_adjust(hspace = 0.25)\n",
    "\n",
    "        plt.xlabel('Wavelength [$\\mathrm{\\AA}$]')\n",
    "\n",
    "        plt.savefig('spectra/doppler/%s_dopplerfit_zoom.png' % i)\n",
    "\n",
    "            \n",
    "catalog.remove_rows(drops)\n"
   ]
  },
  {
   "cell_type": "code",
   "execution_count": null,
   "metadata": {
    "tags": []
   },
   "outputs": [],
   "source": [
    "catalog[['radial_velocity', 'radial_velocity_error', 'ms_redchi']]"
   ]
  },
  {
   "cell_type": "code",
   "execution_count": null,
   "metadata": {
    "tags": []
   },
   "outputs": [],
   "source": [
    "catalog.write('data/04_ms_rv.fits', overwrite = True)"
   ]
  },
  {
   "cell_type": "code",
   "execution_count": null,
   "metadata": {},
   "outputs": [],
   "source": [
    "print(np.isnan(catalog['radial_velocity_error']))"
   ]
  },
  {
   "cell_type": "code",
   "execution_count": null,
   "metadata": {},
   "outputs": [],
   "source": []
  }
 ],
 "metadata": {
  "kernelspec": {
   "display_name": "Python 3",
   "language": "python",
   "name": "python3"
  },
  "language_info": {
   "codemirror_mode": {
    "name": "ipython",
    "version": 3
   },
   "file_extension": ".py",
   "mimetype": "text/x-python",
   "name": "python",
   "nbconvert_exporter": "python",
   "pygments_lexer": "ipython3",
   "version": "3.8.3"
  }
 },
 "nbformat": 4,
 "nbformat_minor": 5
}
