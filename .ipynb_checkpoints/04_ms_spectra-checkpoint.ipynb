{
 "cells": [
  {
   "cell_type": "code",
   "execution_count": 1,
   "id": "d17748d0",
   "metadata": {
    "tags": []
   },
   "outputs": [],
   "source": [
    "#from sklearn.cluster import KMeans\n",
    "import numpy as np\n",
    "import scipy as sp\n",
    "import sys\n",
    "sys.path.append('../msrv-xc/')\n",
    "sys.path.append('../doppler/')\n",
    "\n",
    "import matplotlib.pyplot as plt\n",
    "import matplotlib.colors as colors\n",
    "from astropy.io import fits\n",
    "from astropy.table import Table\n",
    "from tqdm import tqdm\n",
    "\n",
    "### Query\n",
    "from astroquery.sdss import SDSS\n",
    "from astroquery.gaia import Gaia\n",
    "from astropy import constants as c\n",
    "\n",
    "import doppler\n",
    "from tqdm import tqdm\n",
    "\n",
    "#import wdtools\n",
    "#import msrvxc\n",
    "#import pickle"
   ]
  },
  {
   "cell_type": "code",
   "execution_count": 2,
   "id": "76a06783",
   "metadata": {
    "tags": []
   },
   "outputs": [],
   "source": [
    "#with open('../msrv-xc/grids/interp_bosz.pkl', 'rb') as f:\n",
    "#    interp_bosz = pickle.load(f)\n",
    "#    \n",
    "#with open('../msrv-xc/grids/interp_bosz_norm.pkl', 'rb') as f:\n",
    "#    interp_bosz_norm = pickle.load(f)\n",
    "#    \n",
    "#wvl = np.load('../msrv-xc/grids/wavl.npy')"
   ]
  },
  {
   "cell_type": "code",
   "execution_count": 3,
   "id": "3d7e2de4",
   "metadata": {
    "tags": []
   },
   "outputs": [
    {
     "name": "stderr",
     "output_type": "stream",
     "text": [
      "WARNING: UnitsWarning: 'log(cm.s**-2)' did not parse as fits unit: 'log' is not a recognized function If this is meant to be a custom unit, define it with 'u.def_unit'. To have it recognized inside a file reader or other code, enable it with 'u.add_enabled_units'. For details, see https://docs.astropy.org/en/latest/units/combining_and_defining.html [astropy.units.core]\n"
     ]
    },
    {
     "name": "stdout",
     "output_type": "stream",
     "text": [
      "462\n",
      "413\n"
     ]
    }
   ],
   "source": [
    "from astropy.table import Table, vstack, unique\n",
    "\n",
    "ms_sdss4_wd_sdss4 = Table.read('data/ms_sdss4_wd_sdss4.fits')\n",
    "ms_gaia_wd_sdss4 = Table.read('data/ms_gaia_wd_sdss4.fits')\n",
    "ms_sdss5_wd_sdss4 = Table.read('sdss5/ms_sdss5_wd_sdss4.fits')\n",
    "\n",
    "ms_gaia_wd_sdss5 = Table.read('sdss5/ms_gaia_wd_sdss5.fits')\n",
    "ms_sdss4_wd_sdss5 = Table.read('sdss5/ms_sdss4_wd_sdss5.fits')\n",
    "ms_sdss5_wd_sdss5 = Table.read('sdss5/ms_sdss5_wd_sdss5.fits')\n",
    "\n",
    "ms_gaia_wd_falcon = Table.read('data/ms_gaia_wd_falcon.fits')\n",
    "\n",
    "def strip(catalog):  \n",
    "    drop_cols = []\n",
    "    keep_cols = ['ms_source_id', 'ms_ra', 'ms_dec', 'ms_plate', 'ms_mjd', 'ms_fiberid', 'ms_filepath', 'ms_rv_from', 'radial_velocity', 'radial_velocity_error']\n",
    "        \n",
    "    for key in catalog.keys():\n",
    "        if key not in keep_cols:\n",
    "            drop_cols.append(key)\n",
    "            \n",
    "    catalog.remove_columns(drop_cols)\n",
    "    \n",
    "    return catalog\n",
    "\n",
    "ms_gaia_wd_sdss4  = strip(ms_gaia_wd_sdss4 )\n",
    "ms_sdss4_wd_sdss4 = strip(ms_sdss4_wd_sdss4)\n",
    "ms_sdss5_wd_sdss4 = strip(ms_sdss5_wd_sdss4)\n",
    "\n",
    "ms_gaia_wd_falcon = strip(ms_gaia_wd_falcon)\n",
    "\n",
    "ms_gaia_wd_sdss5  = strip(ms_gaia_wd_sdss5 )\n",
    "ms_sdss4_wd_sdss5 = strip(ms_sdss4_wd_sdss5)\n",
    "ms_sdss5_wd_sdss5 = strip(ms_sdss5_wd_sdss5)\n",
    "\n",
    "catalog = vstack([ms_sdss4_wd_sdss4, ms_gaia_wd_sdss4, ms_sdss4_wd_sdss5, ms_sdss5_wd_sdss4, ms_gaia_wd_sdss5, ms_sdss5_wd_sdss5,ms_gaia_wd_falcon])\n",
    "print(len(catalog))\n",
    "catalog = unique(catalog, keys = 'ms_source_id')\n",
    "print(len(catalog))"
   ]
  },
  {
   "cell_type": "code",
   "execution_count": 4,
   "id": "01e919b8",
   "metadata": {},
   "outputs": [
    {
     "data": {
      "text/html": [
       "<div><i>Table length=5</i>\n",
       "<table id=\"table140377181704448\" class=\"table-striped table-bordered table-condensed\">\n",
       "<thead><tr><th>ms_source_id</th><th>ms_ra</th><th>ms_dec</th><th>radial_velocity</th><th>radial_velocity_error</th><th>ms_filepath</th><th>ms_rv_from</th></tr></thead>\n",
       "<thead><tr><th></th><th></th><th></th><th>km / s</th><th>km / s</th><th></th><th></th></tr></thead>\n",
       "<thead><tr><th>int64</th><th>float64</th><th>float64</th><th>float32</th><th>float32</th><th>bytes1</th><th>bytes4</th></tr></thead>\n",
       "<tr><td>91690164426524288</td><td>27.092014856023752</td><td>17.872389890836665</td><td>-4.9675393</td><td>0.48096088</td><td>--</td><td>gaia</td></tr>\n",
       "<tr><td>2442099854542901504</td><td>358.3699596845011</td><td>-8.071928641371093</td><td>34.33587</td><td>0.37617105</td><td>--</td><td>gaia</td></tr>\n",
       "<tr><td>2497893575661497856</td><td>43.380977350309585</td><td>-0.5690035432855579</td><td>23.852612</td><td>0.19542071</td><td>--</td><td>gaia</td></tr>\n",
       "<tr><td>4460085703084994944</td><td>245.52973966455633</td><td>12.214255192618888</td><td>-6.697543</td><td>0.14072137</td><td>--</td><td>gaia</td></tr>\n",
       "<tr><td>4568179481487113088</td><td>256.7847938019931</td><td>22.408243556997913</td><td>-67.04118</td><td>0.4380752</td><td>--</td><td>gaia</td></tr>\n",
       "</table></div>"
      ],
      "text/plain": [
       "<Table length=5>\n",
       "    ms_source_id          ms_ra               ms_dec       radial_velocity radial_velocity_error ms_filepath ms_rv_from\n",
       "                                                                km / s             km / s                              \n",
       "       int64             float64             float64           float32            float32           bytes1     bytes4  \n",
       "------------------- ------------------ ------------------- --------------- --------------------- ----------- ----------\n",
       "  91690164426524288 27.092014856023752  17.872389890836665      -4.9675393            0.48096088          --       gaia\n",
       "2442099854542901504  358.3699596845011  -8.071928641371093        34.33587            0.37617105          --       gaia\n",
       "2497893575661497856 43.380977350309585 -0.5690035432855579       23.852612            0.19542071          --       gaia\n",
       "4460085703084994944 245.52973966455633  12.214255192618888       -6.697543            0.14072137          --       gaia\n",
       "4568179481487113088  256.7847938019931  22.408243556997913       -67.04118             0.4380752          --       gaia"
      ]
     },
     "execution_count": 4,
     "metadata": {},
     "output_type": "execute_result"
    }
   ],
   "source": [
    "ms_gaia_wd_falcon"
   ]
  },
  {
   "cell_type": "code",
   "execution_count": 5,
   "id": "0de7b019",
   "metadata": {
    "tags": []
   },
   "outputs": [
    {
     "name": "stdout",
     "output_type": "stream",
     "text": [
      "154\n"
     ]
    }
   ],
   "source": [
    "print(len(catalog[catalog['radial_velocity'].mask]))"
   ]
  },
  {
   "cell_type": "code",
   "execution_count": 6,
   "id": "cc082cc7",
   "metadata": {
    "tags": []
   },
   "outputs": [
    {
     "name": "stderr",
     "output_type": "stream",
     "text": [
      "100%|██████████████████████████████████████████████████████████████████████████████| 413/413 [00:00<00:00, 15630.62it/s]\n"
     ]
    }
   ],
   "source": [
    "paths = []\n",
    "internetpaths = []\n",
    "\n",
    "for i in tqdm(range(len(catalog))):\n",
    "    if catalog['ms_rv_from'][i] == 'sdss5':\n",
    "        catalog['ms_filepath'][i] = catalog['ms_filepath'][i].replace('spec-','spSpec-')\n",
    "        paths.append('sdss5/ms_fits/' + catalog['ms_filepath'][i])\n",
    "        a, b = catalog['ms_filepath'][i].split('-')[1], catalog['ms_filepath'][i].split('-')[2]\n",
    "        \n",
    "        internetpaths.append('https://data.sdss5.org/sas/sdsswork/bhm/boss/spectro/redux/v6_1_0/' + a + '/coadd/' + b + '/' + catalog['ms_filepath'][i])\n",
    "    else:\n",
    "        paths.append('')\n",
    "        \n",
    "catalog['paths'] = paths"
   ]
  },
  {
   "cell_type": "code",
   "execution_count": 7,
   "id": "43ec5f52",
   "metadata": {},
   "outputs": [
    {
     "data": {
      "text/html": [
       "<div><i>Table length=413</i>\n",
       "<table id=\"table140377177827696\" class=\"table-striped table-bordered table-condensed\">\n",
       "<thead><tr><th>ms_source_id</th><th>ms_ra</th><th>ms_dec</th><th>ms_plate</th><th>ms_mjd</th><th>ms_fiberid</th><th>radial_velocity</th><th>radial_velocity_error</th><th>ms_filepath</th><th>ms_rv_from</th><th>paths</th></tr></thead>\n",
       "<thead><tr><th></th><th></th><th></th><th></th><th></th><th></th><th>km / s</th><th>km / s</th><th></th><th></th><th></th></tr></thead>\n",
       "<thead><tr><th>int64</th><th>float64</th><th>float64</th><th>int64</th><th>int64</th><th>int64</th><th>float32</th><th>float32</th><th>bytes42</th><th>bytes5</th><th>str56</th></tr></thead>\n",
       "<tr><td>78630547564037504</td><td>29.960527792921663</td><td>15.814296816028833</td><td>--</td><td>--</td><td>--</td><td>5.590984</td><td>0.4041922</td><td></td><td>gaia</td><td></td></tr>\n",
       "<tr><td>91690164426524288</td><td>27.092014856023752</td><td>17.872389890836665</td><td>--</td><td>--</td><td>--</td><td>-4.9675393</td><td>0.48096088</td><td></td><td>gaia</td><td></td></tr>\n",
       "<tr><td>290678443086494848</td><td>26.32565391605669</td><td>23.29520230300316</td><td>--</td><td>--</td><td>--</td><td>-10.1650305</td><td>0.4855198</td><td></td><td>gaia</td><td></td></tr>\n",
       "<tr><td>361278462663417088</td><td>12.587361637322822</td><td>32.98772800241798</td><td>--</td><td>--</td><td>--</td><td>-19.291466</td><td>1.1932418</td><td></td><td>gaia</td><td></td></tr>\n",
       "<tr><td>520790043347308416</td><td>35.99023910882211</td><td>68.81769067523102</td><td>--</td><td>--</td><td>--</td><td>-58.962772</td><td>0.7727323</td><td>--</td><td>gaia</td><td></td></tr>\n",
       "<tr><td>583948877461123584</td><td>137.212753297079</td><td>7.016658258627736</td><td>104407</td><td>59957</td><td>27021598149929579</td><td>--</td><td>--</td><td>spSpec-104407-59957-27021598149929579.fits</td><td>sdss5</td><td>sdss5/ms_fits/spSpec-104407-59957-27021598149929579.fits</td></tr>\n",
       "<tr><td>590479873450531584</td><td>137.61235938175483</td><td>9.029026675716073</td><td>102045</td><td>59949</td><td>27021598149968949</td><td>--</td><td>--</td><td>spSpec-102045-59949-27021598149968949.fits</td><td>sdss5</td><td>sdss5/ms_fits/spSpec-102045-59949-27021598149968949.fits</td></tr>\n",
       "<tr><td>590879369833672960</td><td>138.89762315010768</td><td>9.710002956109786</td><td>102045</td><td>59949</td><td>27021598150047455</td><td>--</td><td>--</td><td>spSpec-102045-59949-27021598150047455.fits</td><td>sdss5</td><td>sdss5/ms_fits/spSpec-102045-59949-27021598150047455.fits</td></tr>\n",
       "<tr><td>591729399696009856</td><td>138.18976651870054</td><td>10.413679815060483</td><td>--</td><td>--</td><td>--</td><td>-11.722152</td><td>1.7103438</td><td>--</td><td>gaia</td><td></td></tr>\n",
       "<tr><td>...</td><td>...</td><td>...</td><td>...</td><td>...</td><td>...</td><td>...</td><td>...</td><td>...</td><td>...</td><td>...</td></tr>\n",
       "<tr><td>5866867503219356416</td><td>212.29616225849927</td><td>-60.4130597322606</td><td>31428</td><td>60017</td><td>27021599187591116</td><td>--</td><td>--</td><td>spSpec-031428-60017-27021599187591038.fits</td><td>sdss5</td><td>sdss5/ms_fits/spSpec-031428-60017-27021599187591038.fits</td></tr>\n",
       "<tr><td>6335242104957392128</td><td>228.22200714264173</td><td>-4.791962517916439</td><td>25320</td><td>60062</td><td>27021598333172464</td><td>--</td><td>--</td><td>spSpec-025320-60062-27021598333172462.fits</td><td>sdss5</td><td>sdss5/ms_fits/spSpec-025320-60062-27021598333172462.fits</td></tr>\n",
       "<tr><td>6339275457204986496</td><td>225.30083056243373</td><td>-3.1963803646973004</td><td>25329</td><td>60059</td><td>27021598333147000</td><td>--</td><td>--</td><td>spSpec-025329-60059-27021598333146999.fits</td><td>sdss5</td><td>sdss5/ms_fits/spSpec-025329-60059-27021598333146999.fits</td></tr>\n",
       "<tr><td>6431084502029884672</td><td>305.24791581766857</td><td>-61.19826400934461</td><td>25511</td><td>60082</td><td>27021599446487033</td><td>--</td><td>--</td><td>spSpec-025511-60082-27021599446487032.fits</td><td>sdss5</td><td>sdss5/ms_fits/spSpec-025511-60082-27021599446487032.fits</td></tr>\n",
       "<tr><td>6886973358987025280</td><td>312.7035508877795</td><td>-14.20040416895675</td><td>--</td><td>--</td><td>--</td><td>-3.635752</td><td>0.12533769</td><td>--</td><td>gaia</td><td></td></tr>\n",
       "<tr><td>6898255177217733504</td><td>322.0798614212924</td><td>-6.975804336140064</td><td>--</td><td>--</td><td>--</td><td>0.926062</td><td>0.7886301</td><td>--</td><td>gaia</td><td></td></tr>\n",
       "<tr><td>6899127089938464512</td><td>321.3396404373385</td><td>-6.0293961878725915</td><td>103587</td><td>59881</td><td>27021597926040846</td><td>--</td><td>--</td><td>spSpec-103587-59881-27021597926040846.fits</td><td>sdss5</td><td>sdss5/ms_fits/spSpec-103587-59881-27021597926040846.fits</td></tr>\n",
       "<tr><td>6908406487039810432</td><td>309.16130613062046</td><td>-5.613271054765915</td><td>--</td><td>--</td><td>--</td><td>-3.1402183</td><td>0.2936383</td><td></td><td>gaia</td><td></td></tr>\n",
       "<tr><td>6915495141584244480</td><td>315.3632453760268</td><td>-3.695399544628475</td><td>--</td><td>--</td><td>--</td><td>-12.82868</td><td>1.2215892</td><td>--</td><td>gaia</td><td></td></tr>\n",
       "</table></div>"
      ],
      "text/plain": [
       "<Table length=413>\n",
       "    ms_source_id          ms_ra        ... ms_rv_from                          paths                          \n",
       "                                       ...                                                                    \n",
       "       int64             float64       ...   bytes5                            str56                          \n",
       "------------------- ------------------ ... ---------- --------------------------------------------------------\n",
       "  78630547564037504 29.960527792921663 ...       gaia                                                         \n",
       "  91690164426524288 27.092014856023752 ...       gaia                                                         \n",
       " 290678443086494848  26.32565391605669 ...       gaia                                                         \n",
       " 361278462663417088 12.587361637322822 ...       gaia                                                         \n",
       " 520790043347308416  35.99023910882211 ...       gaia                                                         \n",
       " 583948877461123584   137.212753297079 ...      sdss5 sdss5/ms_fits/spSpec-104407-59957-27021598149929579.fits\n",
       " 590479873450531584 137.61235938175483 ...      sdss5 sdss5/ms_fits/spSpec-102045-59949-27021598149968949.fits\n",
       " 590879369833672960 138.89762315010768 ...      sdss5 sdss5/ms_fits/spSpec-102045-59949-27021598150047455.fits\n",
       " 591729399696009856 138.18976651870054 ...       gaia                                                         \n",
       "                ...                ... ...        ...                                                      ...\n",
       "5866867503219356416 212.29616225849927 ...      sdss5 sdss5/ms_fits/spSpec-031428-60017-27021599187591038.fits\n",
       "6335242104957392128 228.22200714264173 ...      sdss5 sdss5/ms_fits/spSpec-025320-60062-27021598333172462.fits\n",
       "6339275457204986496 225.30083056243373 ...      sdss5 sdss5/ms_fits/spSpec-025329-60059-27021598333146999.fits\n",
       "6431084502029884672 305.24791581766857 ...      sdss5 sdss5/ms_fits/spSpec-025511-60082-27021599446487032.fits\n",
       "6886973358987025280  312.7035508877795 ...       gaia                                                         \n",
       "6898255177217733504  322.0798614212924 ...       gaia                                                         \n",
       "6899127089938464512  321.3396404373385 ...      sdss5 sdss5/ms_fits/spSpec-103587-59881-27021597926040846.fits\n",
       "6908406487039810432 309.16130613062046 ...       gaia                                                         \n",
       "6915495141584244480  315.3632453760268 ...       gaia                                                         "
      ]
     },
     "execution_count": 7,
     "metadata": {},
     "output_type": "execute_result"
    }
   ],
   "source": [
    "catalog"
   ]
  },
  {
   "cell_type": "code",
   "execution_count": 8,
   "id": "5f80d999",
   "metadata": {
    "tags": []
   },
   "outputs": [],
   "source": [
    "c_kms = 2.99792458e5 # speed of light in km/s\n",
    "\n",
    "\n",
    "def continuum_normalize(wl, fl, ivar = None, avg_size = 150, ret_cont = False):\n",
    "    \n",
    "    fl_norm = np.zeros(np.size(fl))\n",
    "    fl_cont = np.zeros(np.size(fl))\n",
    "    \n",
    "    ivar_yes = 0\n",
    "    if ivar is not None:\n",
    "        ivar_yes = 1\n",
    "        ivar_norm = np.zeros(np.size(fl))\n",
    "        \n",
    "    for i in range(np.size(wl)):\n",
    "        wl_clip = ((wl[i]-avg_size/2)<wl) * (wl<(wl[i]+avg_size/2))\n",
    "        fl_cont[i] = np.median(fl[wl_clip])\n",
    "        if ivar_yes:\n",
    "            ivar_norm[i] = ivar[i]*np.median(fl[wl_clip])**2\n",
    "    \n",
    "    fl_norm = fl/fl_cont\n",
    "    \n",
    "    if ret_cont:\n",
    "        if ivar_yes:\n",
    "            return wl, fl_norm, ivar_norm, fl_cont\n",
    "        else:\n",
    "            return wl, fl_norm, fl_cont\n",
    "    else:\n",
    "        if ivar_yes:\n",
    "            return wl, fl_norm, ivar_norm\n",
    "        else:\n",
    "            return wl, fl_norm\n",
    "        \n",
    "def simulate_spec(interpolator, interp_wvl, wl, params):\n",
    "    teff, logg, Z, rv = (params['teff'], params['logg'], params['z'], params['RV'])\n",
    "    \n",
    "    wl = wl * np.sqrt((1 - rv/c_kms)/(1 + rv/c_kms))\n",
    "    \n",
    "    return wl, np.interp(wl, interp_wvl, interpolator( (teff, logg, Z, 0) ))"
   ]
  },
  {
   "cell_type": "raw",
   "id": "46667808",
   "metadata": {},
   "source": [
    "doppler.utils.download_data()"
   ]
  },
  {
   "cell_type": "code",
   "execution_count": 9,
   "id": "c6000869",
   "metadata": {},
   "outputs": [
    {
     "data": {
      "text/plain": [
       "[<matplotlib.lines.Line2D at 0x7fac1bd08190>]"
      ]
     },
     "execution_count": 9,
     "metadata": {},
     "output_type": "execute_result"
    },
    {
     "data": {
      "image/png": "[encoded data removed]",
      "text/plain": [
       "<Figure size 1000x700 with 1 Axes>"
      ]
     },
     "metadata": {},
     "output_type": "display_data"
    }
   ],
   "source": [
    "spec = fits.open(catalog['paths'][5])\n",
    "wl=(10**spec[1].data['loglam'])\n",
    "fl=(spec[1].data['flux'])\n",
    "ivar=(spec[1].data['ivar'])\n",
    "\n",
    "mask1 = (wl < 5800)\n",
    "mask2 = (wl > 7200)\n",
    "mask = np.logical_or(mask1, mask2)\n",
    "\n",
    "mask = (4000 < wl) * (wl < 5500)\n",
    "\n",
    "plt.figure(figsize=(10,7))\n",
    "\n",
    "plt.plot(wl[mask], fl[mask])\n",
    "#plt.ylim((-100, 200))"
   ]
  },
  {
   "cell_type": "code",
   "execution_count": null,
   "id": "73d3aadd",
   "metadata": {
    "tags": []
   },
   "outputs": [
    {
     "name": "stderr",
     "output_type": "stream",
     "text": [
      "  0%|                                                                                           | 0/413 [00:00<?, ?it/s]"
     ]
    },
    {
     "name": "stdout",
     "output_type": "stream",
     "text": [
      "No observatory information.  Cannot calculate barycentric correction.\n"
     ]
    },
    {
     "name": "stderr",
     "output_type": "stream",
     "text": [
      "  1%|█▏                                                                                 | 6/413 [00:05<05:59,  1.13it/s]"
     ]
    },
    {
     "name": "stdout",
     "output_type": "stream",
     "text": [
      "No observatory information.  Cannot calculate barycentric correction.\n"
     ]
    },
    {
     "name": "stderr",
     "output_type": "stream",
     "text": [
      "  2%|█▍                                                                                 | 7/413 [00:09<10:23,  1.53s/it]"
     ]
    },
    {
     "name": "stdout",
     "output_type": "stream",
     "text": [
      "No observatory information.  Cannot calculate barycentric correction.\n"
     ]
    },
    {
     "name": "stderr",
     "output_type": "stream",
     "text": [
      "  2%|█▌                                                                                 | 8/413 [00:14<14:35,  2.16s/it]"
     ]
    },
    {
     "name": "stdout",
     "output_type": "stream",
     "text": [
      "Fitting failed with the following flux:\n",
      "[  5.0592556  30.72787   -12.367337  ...  17.46197    17.46197\n",
      "  17.46197  ]\n"
     ]
    },
    {
     "name": "stderr",
     "output_type": "stream",
     "text": [
      "  2%|█▉                                                                                | 10/413 [00:16<12:34,  1.87s/it]"
     ]
    },
    {
     "name": "stdout",
     "output_type": "stream",
     "text": [
      "No observatory information.  Cannot calculate barycentric correction.\n"
     ]
    },
    {
     "name": "stderr",
     "output_type": "stream",
     "text": [
      "  3%|██▊                                                                               | 14/413 [00:21<09:51,  1.48s/it]"
     ]
    },
    {
     "name": "stdout",
     "output_type": "stream",
     "text": [
      "No observatory information.  Cannot calculate barycentric correction.\n"
     ]
    },
    {
     "name": "stderr",
     "output_type": "stream",
     "text": [
      "  4%|███▌                                                                              | 18/413 [00:25<08:21,  1.27s/it]"
     ]
    },
    {
     "name": "stdout",
     "output_type": "stream",
     "text": [
      "No observatory information.  Cannot calculate barycentric correction.\n"
     ]
    },
    {
     "name": "stderr",
     "output_type": "stream",
     "text": [
      "  5%|███▉                                                                              | 20/413 [00:30<10:18,  1.57s/it]"
     ]
    },
    {
     "name": "stdout",
     "output_type": "stream",
     "text": [
      "No observatory information.  Cannot calculate barycentric correction.\n"
     ]
    },
    {
     "name": "stderr",
     "output_type": "stream",
     "text": [
      "  7%|█████▊                                                                            | 29/413 [00:34<05:51,  1.09it/s]"
     ]
    },
    {
     "name": "stdout",
     "output_type": "stream",
     "text": [
      "No observatory information.  Cannot calculate barycentric correction.\n"
     ]
    },
    {
     "name": "stderr",
     "output_type": "stream",
     "text": [
      "  8%|██████▏                                                                           | 31/413 [00:38<07:01,  1.10s/it]"
     ]
    },
    {
     "name": "stdout",
     "output_type": "stream",
     "text": [
      "No observatory information.  Cannot calculate barycentric correction.\n"
     ]
    }
   ],
   "source": [
    "from matplotlib.ticker import FuncFormatter, MaxNLocator\n",
    "\n",
    "%config InlineBackend.figure_format='retina'\n",
    "\n",
    "fitting = 0\n",
    "successes = 0\n",
    "drops = []\n",
    "catalog['ms_redchi'] = np.zeros(len(catalog))\n",
    "catalog['ms_gaia'] = np.ones(len(catalog))\n",
    "catalog['ms_catalog_id'] = np.zeros(len(catalog))\n",
    "\n",
    "verbose = False\n",
    "\n",
    "for i in tqdm(range(len(catalog))):\n",
    "    catalog['ms_catalog_id'] = i\n",
    "    \n",
    "    spec = ''\n",
    "    \n",
    "    if (catalog['ms_rv_from'][i] == 'sdss4'):\n",
    "        spec = SDSS.get_spectra(plate=catalog['ms_plate'][i], fiberID=catalog['ms_fiberid'][i], mjd=catalog['ms_mjd'][i])[0]\n",
    "    elif catalog['ms_rv_from'][i] == 'sdss5':\n",
    "        spec = fits.open(catalog['paths'][i])\n",
    "        \n",
    "    if catalog['ms_rv_from'][i] != 'gaia':\n",
    "        fitting += 1\n",
    "        wl=(10**spec[1].data['loglam'])\n",
    "        fl=(spec[1].data['flux'])\n",
    "        ivar=(spec[1].data['ivar'])\n",
    "        \n",
    "        mask1 = (wl < 5800)\n",
    "        mask2 = (wl > 7200)\n",
    "        mask = np.logical_or(mask1, mask2)\n",
    "        mask = (7400 < wl) * (wl < 8000)\n",
    "        \n",
    "        #lt.figure(figsize(10,10))\n",
    "        #plt.plot(wl[mask], fl[mask])\n",
    "\n",
    "        dspec = doppler.spec1d.Spec1D(flux = fl[mask],\n",
    "                                  wave = wl[mask],\n",
    "                                  err = ivar[mask]**(-0.5),\n",
    "                                  lsftype = 'Gaussian', \n",
    "                                  lsfsigma = wl[mask] /(1800 * 2.3548),\n",
    "                                  lsfxtype = 'Wave',\n",
    "                                  wavevac = True)\n",
    "                                     # mask = mask)\n",
    "        \n",
    "        try:                   \n",
    "            res, model, dspecm = doppler.rv.fit(dspec, payne = True, verbose = verbose,\n",
    "                                    fitparams = ['TEFF', 'LOGG', 'FE_H', 'RV',],\n",
    "                                                #'C_H', 'NA_H', 'CA_H', 'MG_H'],\n",
    "                                            estimates = {'TEFF':3500, 'LOGG': 5},\n",
    "                                    mcmc = False)\n",
    "        except:\n",
    "            print('Fitting failed with the following flux:')\n",
    "            print(fl)\n",
    "            fig = plt.figure(figsize=(10,10))\n",
    "            plt.plot(wl[mask], fl[mask])\n",
    "            plt.savefig('spectra/doppler_failed/{}'.format(i))\n",
    "            plt.close()\n",
    "            \n",
    "            drops.append(i)\n",
    "            continue\n",
    "        successes += 1\n",
    "        #print(list(res.dtype.names))\n",
    "                                      \n",
    "        catalog['radial_velocity'][i] = res['vrel']\n",
    "        catalog['radial_velocity_error'][i] = res['vrelerr']\n",
    "        catalog['ms_redchi'][i] = res['chisq']\n",
    "        catalog['ms_gaia'][i] = 0\n",
    "        catalog['ms_rv_id'] = i\n",
    "        \n",
    "        #\n",
    "        #  Plotting\n",
    "        #\n",
    "        \n",
    "        maxw = model.wave.max()\n",
    "        minw = model.wave.min()\n",
    "    \n",
    "        width = model.wave.max() - model.wave.min()\n",
    "        nwin = 4\n",
    "        winw = width / nwin\n",
    "        \n",
    "        #afe = res['alpha_h'] - res['fe_h']\n",
    "    \n",
    "        tstr = ('Teff = %i K' % res['teff'] + \n",
    "                ', logg = %.1f' % res['logg'] + \n",
    "           #     ', FeH = %.2f' % res['fe_h'] + \n",
    "          #      ', aFe = %.2f' % afe + \n",
    "                ', RV = %.1f km/s' % res['vrel']\n",
    "        )\n",
    "        \n",
    "        mosaic = \"\"\"\n",
    "            AAA\n",
    "            AAA\n",
    "            BBB\n",
    "            \"\"\"\n",
    "        \n",
    "        #print('wavelength: ' + res['vrel'])\n",
    "        \n",
    "        fig = plt.figure(figsize = (20,9))#, layout = 'constrained')\n",
    "        \n",
    "        ax_dict = fig.subplot_mosaic(mosaic)\n",
    "        plt.style.use('./stefan.mplstyle')\n",
    "        plt.sca(ax_dict['A'])\n",
    "        plt.plot(dspecm.wave, dspecm.flux, 'k', lw =2)\n",
    "        plt.plot(model.wave, model.flux, 'r')\n",
    "        plt.ylabel('Normalized Flux', fontsize=26)\n",
    "        #plt.title(tstr)\n",
    "\n",
    "        plt.sca(ax_dict['B'])\n",
    "        plt.style.use('./stefan.mplstyle')\n",
    "        plt.plot(dspecm.wave, (dspecm.flux - model.flux) / dspecm.err, 'k', lw =2)\n",
    "\n",
    "        plt.axhline(-1, color = 'r', ls = '--')\n",
    "        plt.axhline(1, color = 'r', ls = '--')\n",
    "\n",
    "        plt.axhline(-3, color = 'r', ls = '-')\n",
    "        plt.axhline(3, color = 'r', ls = '-')\n",
    "        plt.ylabel('$\\chi$', fontsize=26)\n",
    "        \n",
    "        plt.text(0.975, 0.95, '$\\chi_r^2 = %.1f$' % res['chisq'][0],\n",
    "                transform = plt.gca().transAxes, ha = 'right', va = 'top',fontsize = 18)\n",
    "\n",
    "        plt.xlabel('Wavelength [$\\mathrm{\\AA}$]', fontsize=26)\n",
    "        \n",
    "        #plt.xticks(fontsize=20)\n",
    "        #plt.yticks(fontsize=20)\n",
    "        \n",
    "        #plt.legend()\n",
    "        \n",
    "        plt.savefig('spectra/doppler/%s_dopplerfit.pdf' % i)\n",
    "        \n",
    "        plt.close()\n",
    "        \n",
    "        #plt.figure(figsize = (10,7))\n",
    "        #plt.subplot(411)\n",
    "        #plt.plot(dspecm.wave, dspecm.flux, 'k', lw =2)\n",
    "        #plt.plot(model.wave, model.flux, 'r')\n",
    "        #plt.xlim(minw, minw + winw)\n",
    "        #plt.title(tstr, fontsize = 16)\n",
    "\n",
    "        #plt.subplot(412)\n",
    "        #plt.plot(dspecm.wave, dspecm.flux, 'k', lw =2)\n",
    "        #plt.plot(model.wave, model.flux, 'r')\n",
    "        #plt.xlim(minw + winw, minw + 2 * winw)\n",
    "\n",
    "        #plt.subplot(413)\n",
    "        #plt.plot(dspecm.wave, dspecm.flux, 'k', lw =2)\n",
    "        #plt.plot(model.wave, model.flux, 'r')\n",
    "        #plt.xlim(minw + 2 * winw, minw + 3 * winw)\n",
    "\n",
    "\n",
    "        #plt.subplot(414)\n",
    "        #plt.plot(dspecm.wave, dspecm.flux, 'k', lw =2)\n",
    "        #plt.plot(model.wave, model.flux, 'r')\n",
    "        #plt.xlim(minw + 3 * winw, minw + 4 * winw)\n",
    "\n",
    "        #plt.tight_layout()\n",
    "        #plt.subplots_adjust(hspace = 0.25)\n",
    "\n",
    "        #plt.xlabel('Wavelength [$\\mathrm{\\AA}$]')\n",
    "\n",
    "        #plt.savefig('spectra/doppler/%s_dopplerfit_zoom.png' % i)\n",
    "\n",
    "print(len(drops))\n",
    "catalog.remove_rows(drops)\n"
   ]
  },
  {
   "cell_type": "code",
   "execution_count": null,
   "id": "7311c83b",
   "metadata": {
    "tags": []
   },
   "outputs": [],
   "source": [
    "catalog[['radial_velocity', 'radial_velocity_error', 'ms_redchi']]"
   ]
  },
  {
   "cell_type": "code",
   "execution_count": null,
   "id": "94ad40e2",
   "metadata": {},
   "outputs": [],
   "source": [
    "catalog[catalog['ms_source_id'] == 4568179481487113088]"
   ]
  },
  {
   "cell_type": "code",
   "execution_count": null,
   "id": "8b4455d5",
   "metadata": {
    "tags": []
   },
   "outputs": [],
   "source": [
    "catalog.write('data/04_ms_rv.fits', overwrite = True)"
   ]
  },
  {
   "cell_type": "code",
   "execution_count": null,
   "id": "8112b481",
   "metadata": {},
   "outputs": [],
   "source": [
    "print(np.isnan(catalog['radial_velocity_error']))"
   ]
  },
  {
   "cell_type": "code",
   "execution_count": null,
   "id": "c31c3ada",
   "metadata": {},
   "outputs": [],
   "source": [
    "print(fitting)\n",
    "print(successes)"
   ]
  },
  {
   "cell_type": "code",
   "execution_count": null,
   "id": "98e3c808",
   "metadata": {},
   "outputs": [],
   "source": []
  }
 ],
 "metadata": {
  "kernelspec": {
   "display_name": "Python 3 (ipykernel)",
   "language": "python",
   "name": "python3"
  },
  "language_info": {
   "codemirror_mode": {
    "name": "ipython",
    "version": 3
   },
   "file_extension": ".py",
   "mimetype": "text/x-python",
   "name": "python",
   "nbconvert_exporter": "python",
   "pygments_lexer": "ipython3",
   "version": "3.9.13"
  }
 },
 "nbformat": 4,
 "nbformat_minor": 5
}
