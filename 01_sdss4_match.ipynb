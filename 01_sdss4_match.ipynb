{
 "cells": [
  {
   "cell_type": "code",
   "execution_count": 1,
   "id": "0fc8c5b3",
   "metadata": {
    "tags": []
   },
   "outputs": [],
   "source": [
    "import numpy as np\n",
    "import sys\n",
    "sys.path.append('../corv/src')\n",
    "\n",
    "import matplotlib.pyplot as plt\n",
    "import matplotlib.colors as colors\n",
    "from astropy.io import fits\n",
    "from tqdm import tqdm\n",
    "import pandas as pd\n",
    "\n",
    "from astropy.table import Table, vstack, join\n",
    "from astropy import units as u\n",
    "from astropy.coordinates import SkyCoord\n",
    "\n",
    "### Query\n",
    "from astroquery.sdss import SDSS\n",
    "from astroquery.gaia import Gaia\n",
    "from astropy import constants as c\n"
   ]
  },
  {
   "cell_type": "code",
   "execution_count": 2,
   "id": "5dd2e166",
   "metadata": {
    "tags": []
   },
   "outputs": [
    {
     "ename": "FileNotFoundError",
     "evalue": "[Errno 2] No such file or directory: 'data/elbadry.fits.gz'",
     "output_type": "error",
     "traceback": [
      "\u001b[0;31m---------------------------------------------------------------------------\u001b[0m",
      "\u001b[0;31mFileNotFoundError\u001b[0m                         Traceback (most recent call last)",
      "Cell \u001b[0;32mIn[2], line 5\u001b[0m\n\u001b[1;32m      1\u001b[0m \u001b[38;5;124;03m\"\"\"\u001b[39;00m\n\u001b[1;32m      2\u001b[0m \u001b[38;5;124;03mLoad in the el-Badry dataset\u001b[39;00m\n\u001b[1;32m      3\u001b[0m \u001b[38;5;124;03m\"\"\"\u001b[39;00m\n\u001b[0;32m----> 5\u001b[0m catalog \u001b[38;5;241m=\u001b[39m \u001b[43mTable\u001b[49m\u001b[38;5;241;43m.\u001b[39;49m\u001b[43mread\u001b[49m\u001b[43m(\u001b[49m\u001b[38;5;124;43m'\u001b[39;49m\u001b[38;5;124;43mdata/elbadry.fits.gz\u001b[39;49m\u001b[38;5;124;43m'\u001b[39;49m\u001b[43m)\u001b[49m\n\u001b[1;32m      6\u001b[0m catalog \u001b[38;5;241m=\u001b[39m catalog[catalog[\u001b[38;5;124m'\u001b[39m\u001b[38;5;124mbinary_type\u001b[39m\u001b[38;5;124m'\u001b[39m] \u001b[38;5;241m==\u001b[39m \u001b[38;5;124mb\u001b[39m\u001b[38;5;124m'\u001b[39m\u001b[38;5;124mWDMS\u001b[39m\u001b[38;5;124m'\u001b[39m]\n\u001b[1;32m      8\u001b[0m \u001b[38;5;28mprint\u001b[39m(\u001b[38;5;28mlen\u001b[39m(catalog))\n",
      "File \u001b[0;32m~/anaconda3/envs/corv/lib/python3.9/site-packages/astropy/table/connect.py:62\u001b[0m, in \u001b[0;36mTableRead.__call__\u001b[0;34m(self, *args, **kwargs)\u001b[0m\n\u001b[1;32m     59\u001b[0m units \u001b[38;5;241m=\u001b[39m kwargs\u001b[38;5;241m.\u001b[39mpop(\u001b[38;5;124m'\u001b[39m\u001b[38;5;124munits\u001b[39m\u001b[38;5;124m'\u001b[39m, \u001b[38;5;28;01mNone\u001b[39;00m)\n\u001b[1;32m     60\u001b[0m descriptions \u001b[38;5;241m=\u001b[39m kwargs\u001b[38;5;241m.\u001b[39mpop(\u001b[38;5;124m'\u001b[39m\u001b[38;5;124mdescriptions\u001b[39m\u001b[38;5;124m'\u001b[39m, \u001b[38;5;28;01mNone\u001b[39;00m)\n\u001b[0;32m---> 62\u001b[0m out \u001b[38;5;241m=\u001b[39m \u001b[38;5;28;43mself\u001b[39;49m\u001b[38;5;241;43m.\u001b[39;49m\u001b[43mregistry\u001b[49m\u001b[38;5;241;43m.\u001b[39;49m\u001b[43mread\u001b[49m\u001b[43m(\u001b[49m\u001b[38;5;28;43mcls\u001b[39;49m\u001b[43m,\u001b[49m\u001b[43m \u001b[49m\u001b[38;5;241;43m*\u001b[39;49m\u001b[43margs\u001b[49m\u001b[43m,\u001b[49m\u001b[43m \u001b[49m\u001b[38;5;241;43m*\u001b[39;49m\u001b[38;5;241;43m*\u001b[39;49m\u001b[43mkwargs\u001b[49m\u001b[43m)\u001b[49m\n\u001b[1;32m     64\u001b[0m \u001b[38;5;66;03m# For some readers (e.g., ascii.ecsv), the returned `out` class is not\u001b[39;00m\n\u001b[1;32m     65\u001b[0m \u001b[38;5;66;03m# guaranteed to be the same as the desired output `cls`.  If so,\u001b[39;00m\n\u001b[1;32m     66\u001b[0m \u001b[38;5;66;03m# try coercing to desired class without copying (io.registry.read\u001b[39;00m\n\u001b[1;32m     67\u001b[0m \u001b[38;5;66;03m# would normally do a copy).  The normal case here is swapping\u001b[39;00m\n\u001b[1;32m     68\u001b[0m \u001b[38;5;66;03m# Table <=> QTable.\u001b[39;00m\n\u001b[1;32m     69\u001b[0m \u001b[38;5;28;01mif\u001b[39;00m \u001b[38;5;28mcls\u001b[39m \u001b[38;5;129;01mis\u001b[39;00m \u001b[38;5;129;01mnot\u001b[39;00m out\u001b[38;5;241m.\u001b[39m\u001b[38;5;18m__class__\u001b[39m:\n",
      "File \u001b[0;32m~/anaconda3/envs/corv/lib/python3.9/site-packages/astropy/io/registry/core.py:197\u001b[0m, in \u001b[0;36mUnifiedInputRegistry.read\u001b[0;34m(self, cls, format, cache, *args, **kwargs)\u001b[0m\n\u001b[1;32m    195\u001b[0m \u001b[38;5;28;01mtry\u001b[39;00m:\n\u001b[1;32m    196\u001b[0m     ctx \u001b[38;5;241m=\u001b[39m get_readable_fileobj(args[\u001b[38;5;241m0\u001b[39m], encoding\u001b[38;5;241m=\u001b[39m\u001b[38;5;124m'\u001b[39m\u001b[38;5;124mbinary\u001b[39m\u001b[38;5;124m'\u001b[39m, cache\u001b[38;5;241m=\u001b[39mcache)\n\u001b[0;32m--> 197\u001b[0m     fileobj \u001b[38;5;241m=\u001b[39m \u001b[43mctx\u001b[49m\u001b[38;5;241;43m.\u001b[39;49m\u001b[38;5;21;43m__enter__\u001b[39;49m\u001b[43m(\u001b[49m\u001b[43m)\u001b[49m\n\u001b[1;32m    198\u001b[0m \u001b[38;5;28;01mexcept\u001b[39;00m \u001b[38;5;167;01mOSError\u001b[39;00m:\n\u001b[1;32m    199\u001b[0m     \u001b[38;5;28;01mraise\u001b[39;00m\n",
      "File \u001b[0;32m~/anaconda3/envs/corv/lib/python3.9/contextlib.py:117\u001b[0m, in \u001b[0;36m_GeneratorContextManager.__enter__\u001b[0;34m(self)\u001b[0m\n\u001b[1;32m    115\u001b[0m \u001b[38;5;28;01mdel\u001b[39;00m \u001b[38;5;28mself\u001b[39m\u001b[38;5;241m.\u001b[39margs, \u001b[38;5;28mself\u001b[39m\u001b[38;5;241m.\u001b[39mkwds, \u001b[38;5;28mself\u001b[39m\u001b[38;5;241m.\u001b[39mfunc\n\u001b[1;32m    116\u001b[0m \u001b[38;5;28;01mtry\u001b[39;00m:\n\u001b[0;32m--> 117\u001b[0m     \u001b[38;5;28;01mreturn\u001b[39;00m \u001b[38;5;28;43mnext\u001b[39;49m\u001b[43m(\u001b[49m\u001b[38;5;28;43mself\u001b[39;49m\u001b[38;5;241;43m.\u001b[39;49m\u001b[43mgen\u001b[49m\u001b[43m)\u001b[49m\n\u001b[1;32m    118\u001b[0m \u001b[38;5;28;01mexcept\u001b[39;00m \u001b[38;5;167;01mStopIteration\u001b[39;00m:\n\u001b[1;32m    119\u001b[0m     \u001b[38;5;28;01mraise\u001b[39;00m \u001b[38;5;167;01mRuntimeError\u001b[39;00m(\u001b[38;5;124m\"\u001b[39m\u001b[38;5;124mgenerator didn\u001b[39m\u001b[38;5;124m'\u001b[39m\u001b[38;5;124mt yield\u001b[39m\u001b[38;5;124m\"\u001b[39m) \u001b[38;5;28;01mfrom\u001b[39;00m \u001b[38;5;28;01mNone\u001b[39;00m\n",
      "File \u001b[0;32m~/anaconda3/envs/corv/lib/python3.9/site-packages/astropy/utils/data.py:271\u001b[0m, in \u001b[0;36mget_readable_fileobj\u001b[0;34m(name_or_obj, encoding, cache, show_progress, remote_timeout, sources, http_headers)\u001b[0m\n\u001b[1;32m    266\u001b[0m \u001b[38;5;28;01mif\u001b[39;00m is_url:\n\u001b[1;32m    267\u001b[0m     name_or_obj \u001b[38;5;241m=\u001b[39m download_file(\n\u001b[1;32m    268\u001b[0m         name_or_obj, cache\u001b[38;5;241m=\u001b[39mcache, show_progress\u001b[38;5;241m=\u001b[39mshow_progress,\n\u001b[1;32m    269\u001b[0m         timeout\u001b[38;5;241m=\u001b[39mremote_timeout, sources\u001b[38;5;241m=\u001b[39msources,\n\u001b[1;32m    270\u001b[0m         http_headers\u001b[38;5;241m=\u001b[39mhttp_headers)\n\u001b[0;32m--> 271\u001b[0m fileobj \u001b[38;5;241m=\u001b[39m \u001b[43mio\u001b[49m\u001b[38;5;241;43m.\u001b[39;49m\u001b[43mFileIO\u001b[49m\u001b[43m(\u001b[49m\u001b[43mname_or_obj\u001b[49m\u001b[43m,\u001b[49m\u001b[43m \u001b[49m\u001b[38;5;124;43m'\u001b[39;49m\u001b[38;5;124;43mr\u001b[39;49m\u001b[38;5;124;43m'\u001b[39;49m\u001b[43m)\u001b[49m\n\u001b[1;32m    272\u001b[0m \u001b[38;5;28;01mif\u001b[39;00m is_url \u001b[38;5;129;01mand\u001b[39;00m \u001b[38;5;129;01mnot\u001b[39;00m cache:\n\u001b[1;32m    273\u001b[0m     delete_fds\u001b[38;5;241m.\u001b[39mappend(fileobj)\n",
      "\u001b[0;31mFileNotFoundError\u001b[0m: [Errno 2] No such file or directory: 'data/elbadry.fits.gz'"
     ]
    }
   ],
   "source": [
    "\"\"\"\n",
    "Load in the el-Badry dataset\n",
    "\"\"\"\n",
    "\n",
    "catalog = Table.read('data/elbadry.fits.gz')\n",
    "catalog = catalog[catalog['binary_type'] == b'WDMS']\n",
    "\n",
    "print(len(catalog))"
   ]
  },
  {
   "cell_type": "code",
   "execution_count": null,
   "id": "1e197825",
   "metadata": {
    "tags": []
   },
   "outputs": [],
   "source": [
    "def wd_sep(bp_rp):\n",
    "    return 3.25*bp_rp + 9.625\n",
    "\n",
    "wd_obj = []\n",
    "ms_obj = []\n",
    "drop = []\n",
    "\n",
    "for i in tqdm (range(len(catalog))):\n",
    "    mg1 = wd_sep(catalog['bp_rp1'][i])\n",
    "    mg2 = wd_sep(catalog['bp_rp2'][i])\n",
    "    \n",
    "    M1 = catalog['phot_g_mean_mag1'][i] + 5 * (np.log10(catalog['parallax1'][i] / 100))\n",
    "    M2 = catalog['phot_g_mean_mag2'][i] + 5 * (np.log10(catalog['parallax2'][i] / 100))\n",
    "    \n",
    "    if M1 > mg1 and M2 < mg2:\n",
    "        wd_obj.append(1)\n",
    "        ms_obj.append(2)\n",
    "    elif M2 > mg2 and M1 < mg1:\n",
    "        wd_obj.append(2)\n",
    "        ms_obj.append(1)\n",
    "    else:\n",
    "        drop.append(i)\n",
    "               \n",
    "catalog.remove_rows(drop)\n",
    "catalog['wd_obj'] = wd_obj\n",
    "catalog['ms_obj'] = ms_obj"
   ]
  },
  {
   "cell_type": "code",
   "execution_count": null,
   "id": "92922313",
   "metadata": {
    "tags": []
   },
   "outputs": [],
   "source": [
    "def separate(catalog, column, ms_obj, wd_obj, newname = ''):      \n",
    "    mstemp_arr = [ catalog[str(column) + str(ms_obj[i])][i] for i in range(len(ms_obj)) ]\n",
    "    wdtemp_arr = [ catalog[str(column) + str(wd_obj[i])][i] for i in range(len(wd_obj)) ]\n",
    "    \n",
    "    catalog['ms_' + str(column)] = mstemp_arr\n",
    "    catalog['wd_' + str(column)] = wdtemp_arr\n",
    "    return catalog\n",
    "\n",
    "### ---\n",
    "\n",
    "convert_cols = ['source_id', 'parallax', 'parallax_over_error', 'phot_g_mean_mag', 'phot_g_mean_flux',\n",
    "                'phot_g_mean_flux_error', 'phot_bp_mean_mag', 'phot_bp_mean_flux', 'phot_bp_mean_flux_error',\n",
    "                'phot_rp_mean_mag', 'phot_rp_mean_flux', 'phot_rp_mean_flux_error', 'bp_rp', 'ra', 'ra_error', 'dec', 'dec_error', 'l', 'b']\n",
    "\n",
    "for col in convert_cols:\n",
    "    catalog = separate(catalog, col, ms_obj, wd_obj)\n",
    "    \n",
    "catalog['wd_m_g'] = catalog['wd_phot_g_mean_mag'] + 5 * np.log10(catalog['wd_parallax'] / 100)\n",
    "catalog['ms_m_g'] = catalog['ms_phot_g_mean_mag'] + 5 * np.log10(catalog['ms_parallax'] / 100)"
   ]
  },
  {
   "cell_type": "code",
   "execution_count": null,
   "id": "cda9f6bb",
   "metadata": {
    "tags": []
   },
   "outputs": [],
   "source": [
    "plt.figure(figsize=(10,10))\n",
    "\n",
    "plt.scatter(catalog['ms_bp_rp'], catalog['ms_m_g'], label='Main Sequence', alpha = 0.5, s=5)\n",
    "plt.scatter(catalog['wd_bp_rp'], catalog['wd_m_g'], label='White Dwarf', alpha = 0.5, s=5)\n",
    "\n",
    "plt.ylabel(r'$M_G$')\n",
    "plt.xlabel(r'bp-rp')\n",
    "plt.title(r'CMD')\n",
    "plt.gca().invert_yaxis()\n",
    "xmin, xmax = plt.xlim()\n",
    "\n",
    "plt.plot(np.linspace(xmin, xmax, num=100), wd_sep(np.linspace(xmin, xmax, num=100)))\n",
    "\n",
    "#plt.savefig('plots/selection/wd_ms_cmd.png')\n",
    "\n",
    "plt.legend()\n",
    "plt.show()"
   ]
  },
  {
   "cell_type": "code",
   "execution_count": null,
   "id": "1b2b1c8c",
   "metadata": {
    "tags": []
   },
   "outputs": [],
   "source": [
    "catalog.write('data/00_base_catalog.fits', overwrite = True)"
   ]
  },
  {
   "cell_type": "code",
   "execution_count": null,
   "id": "bb77851d-859b-41e0-b3be-1463924a766d",
   "metadata": {
    "tags": []
   },
   "outputs": [],
   "source": [
    "print(catalog[catalog['wd_source_id'] == 3630648387747801088][['wd_source_id', 'wd_ra', 'wd_dec', 'ms_source_id', 'ms_ra', 'ms_dec']])\n",
    "print(catalog[catalog['wd_source_id'] == 3053811568108421504][['wd_source_id', 'wd_ra', 'wd_dec', 'ms_source_id', 'ms_ra', 'ms_dec']])\n",
    "\n",
    "print(np.where(catalog['wd_source_id'] == 3630648387747801088))\n",
    "print(np.where(catalog['wd_source_id'] == 3053811568108421504))\n",
    "\n",
    "gemini = catalog[[4484, 1554]]"
   ]
  },
  {
   "cell_type": "code",
   "execution_count": null,
   "id": "960e5c6e-9836-496c-8644-f26e09898de8",
   "metadata": {
    "tags": []
   },
   "outputs": [],
   "source": [
    "QUERY = \"\"\"select source_id, radial_velocity, radial_velocity_error\n",
    "    from gaiadr3.gaia_source\n",
    "    where source_id in {}\"\"\".format(tuple(gemini['ms_source_id']))\n",
    "rvs = Gaia.launch_job(QUERY,dump_to_file=False).get_results()\n",
    "rvs.rename_column('source_id', 'ms_source_id')\n",
    "\n",
    "gemini = join(gemini, rvs, keys='ms_source_id')"
   ]
  },
  {
   "cell_type": "code",
   "execution_count": null,
   "id": "86bdbda5-08f1-413f-9097-4708f82e8ca1",
   "metadata": {
    "tags": []
   },
   "outputs": [],
   "source": [
    "gemini.write('data/gemini.fits', overwrite=True)"
   ]
  },
  {
   "cell_type": "code",
   "execution_count": null,
   "id": "e97ed34b",
   "metadata": {
    "tags": []
   },
   "outputs": [],
   "source": [
    "from astropy.table import Table, vstack, hstack\n",
    "\n",
    "only_rvs = True\n",
    "\n",
    "stardats = []\n",
    "iters = len(catalog) // 100\n",
    "\n",
    "# MS Gaia Sources\n",
    "\n",
    "for i in tqdm(range(iters)):\n",
    "        ADQL_CODE1 = \"\"\"SELECT sdss.original_ext_source_id as ms_bestobjid, gaia.source_id as ms_source_id, gaia.radial_velocity, gaia.radial_velocity_error\n",
    "        FROM gaiadr3.gaia_source as gaia\n",
    "        JOIN gaiaedr3.sdssdr13_best_neighbour as sdss\n",
    "        ON gaia.source_id = sdss.source_id      \n",
    "        WHERE gaia.source_id in {} AND\n",
    "        radial_velocity IS NOT null AND\n",
    "        radial_velocity_error < 7\"\"\".format(tuple(catalog['ms_source_id'][100*i:100*i+100]))\n",
    "        stardats.append(Gaia.launch_job(ADQL_CODE1,dump_to_file=False).get_results())\n",
    "        \n",
    "gaia_d1 = vstack(stardats)\n",
    "\n",
    "# MS SDSS4 Sources\n",
    "\n",
    "for i in tqdm(range(iters)):\n",
    "    ADQL_CODE1 = \"\"\"SELECT sdss.original_ext_source_id as ms_bestobjid, gaia.source_id as ms_source_id, gaia.radial_velocity, gaia.radial_velocity_error\n",
    "    FROM gaiadr3.gaia_source as gaia\n",
    "    JOIN gaiaedr3.sdssdr13_best_neighbour as sdss\n",
    "    ON gaia.source_id = sdss.source_id      \n",
    "    WHERE gaia.source_id in {} AND\n",
    "    radial_velocity IS null\"\"\".format(tuple(catalog['ms_source_id'][100*i:100*i+100]))\n",
    "    stardats.append(Gaia.launch_job(ADQL_CODE1,dump_to_file=False).get_results())\n",
    "\n",
    "gd1 = vstack(stardats)\n",
    "\n",
    "stardats = []\n",
    "iters = len(gd1) // 100\n",
    "\n",
    "for i in tqdm(range(iters)):\n",
    "    SDSS_QUERY = \"\"\"select sp.bestObjID as ms_bestobjid, sp.plate as ms_plate, sp.mjd as ms_mjd, sp.fiberID as ms_fiberid, sp.instrument as ms_instrument\n",
    "        from dbo.SpecObjAll as sp\n",
    "        where sp.bestObjID in {}\"\"\".format(tuple(gd1['ms_bestobjid'][100*i:100*i+100]))\n",
    "    \n",
    "    f = SDSS.query_sql(SDSS_QUERY)\n",
    "    if f is not None:\n",
    "        stardats.append(SDSS.query_sql(SDSS_QUERY))\n",
    "\n",
    "sdss_d1 = vstack(stardats)\n",
    "try:\n",
    "    sdss_d1 = join(sdss_d1, gd1, keys = 'ms_bestobjid')\n",
    "except:\n",
    "    sdss_d1.rename_column('bestobjid', 'ms_bestobjid')\n",
    "    sdss_d1 = join(sdss_d1, gd1, keys = 'ms_bestobjid')"
   ]
  },
  {
   "cell_type": "code",
   "execution_count": null,
   "id": "a9c79814-4952-49f3-9b3e-56acc889e1f9",
   "metadata": {},
   "outputs": [],
   "source": [
    "gaia_d1['ms_instrument'] = ['gaia' for i in range(len(gaia_d1))]"
   ]
  },
  {
   "cell_type": "code",
   "execution_count": null,
   "id": "b39612df",
   "metadata": {},
   "outputs": [],
   "source": [
    "gaia_d1"
   ]
  },
  {
   "cell_type": "code",
   "execution_count": null,
   "id": "88b9f51b",
   "metadata": {
    "tags": []
   },
   "outputs": [],
   "source": [
    "sdss_d1"
   ]
  },
  {
   "cell_type": "code",
   "execution_count": null,
   "id": "757f5e4c",
   "metadata": {
    "tags": []
   },
   "outputs": [],
   "source": [
    "from astropy.table import Table, vstack, hstack, unique\n",
    "\n",
    "stardats = []\n",
    "iters = len(catalog) // 100\n",
    "\n",
    "for i in tqdm(range(iters)):\n",
    "    ADQL_CODE1 = \"\"\"SELECT sdss.original_ext_source_id as wd_bestobjid, gaia.source_id as wd_source_id\n",
    "    FROM gaiadr3.gaia_source as gaia\n",
    "    JOIN gaiaedr3.sdssdr13_best_neighbour as sdss\n",
    "    ON gaia.source_id = sdss.source_id      \n",
    "    WHERE gaia.source_id in {}\"\"\".format(tuple(catalog['wd_source_id'][100*i:100*i+100]))\n",
    "    stardats.append(Gaia.launch_job(ADQL_CODE1,dump_to_file=False).get_results())\n",
    "    \n",
    "gd2 = vstack(stardats)\n",
    "\n",
    "stardats = []\n",
    "iters = len(gd2) // 100\n",
    "\n",
    "for i in tqdm(range(iters)):\n",
    "    SDSS_QUERY = \"\"\"select sp.bestObjID as wd_bestobjid, sp.plate as wd_plate, sp.mjd as wd_mjd, sp.fiberID as wd_fiberid, sp.instrument as wd_instrument\n",
    "        from dbo.SpecObjAll as sp\n",
    "        where sp.bestObjID in {}\"\"\".format(tuple(gd2['wd_bestobjid'][100*i:100*i+100]))\n",
    "    try:\n",
    "        f = SDSS.query_sql(SDSS_QUERY)\n",
    "        if f is not None:\n",
    "            stardats.append(SDSS.query_sql(SDSS_QUERY))\n",
    "    except:\n",
    "        pass\n",
    "d2 = vstack(stardats)\n",
    "d2 = join(d2, gd2, keys = 'wd_bestobjid')\n",
    "d2 = unique(d2, keys = 'wd_bestobjid')"
   ]
  },
  {
   "cell_type": "code",
   "execution_count": null,
   "id": "8937620b",
   "metadata": {
    "tags": []
   },
   "outputs": [],
   "source": [
    "d2"
   ]
  },
  {
   "cell_type": "code",
   "execution_count": null,
   "id": "0064d114",
   "metadata": {
    "tags": []
   },
   "outputs": [],
   "source": [
    "try:\n",
    "    sdss_d1.rename_column('asplate', 'ms_plate')\n",
    "    sdss_d1.rename_column('asmjd', 'ms_mjd')\n",
    "    sdss_d1.rename_column('asfiberid', 'ms_fiberid')\n",
    "    sdss_d1.rename_column('asinstrument', 'ms_instrument')\n",
    "except:\n",
    "    pass"
   ]
  },
  {
   "cell_type": "code",
   "execution_count": null,
   "id": "e690eb84-4054-4cc4-be65-0ef1fb0f4a3c",
   "metadata": {
    "tags": []
   },
   "outputs": [],
   "source": [
    "sdss_d1"
   ]
  },
  {
   "cell_type": "code",
   "execution_count": null,
   "id": "2405c4d1",
   "metadata": {
    "tags": []
   },
   "outputs": [],
   "source": [
    "from astropy.table import Table, Column, MaskedColumn, join, unique\n"
   ]
  },
  {
   "cell_type": "code",
   "execution_count": null,
   "id": "890304d6",
   "metadata": {
    "tags": []
   },
   "outputs": [],
   "source": [
    "data = join(catalog, gaia_d1, keys = 'ms_source_id')\n",
    "ms_gaia_wd_sdss4 = join(data, d2, keys = 'wd_source_id', join_type = 'inner')\n",
    "\n",
    "data = join(catalog, sdss_d1, keys = 'ms_source_id')\n",
    "ms_sdss4_wd_sdss4 = join(data, d2, keys = 'wd_source_id', join_type = 'inner')\n",
    "\n",
    "ms_sdss5_wd_sdss4 = join(catalog, d2, keys = 'wd_source_id')"
   ]
  },
  {
   "cell_type": "code",
   "execution_count": null,
   "id": "c6b4cff6",
   "metadata": {},
   "outputs": [],
   "source": [
    "ms_gaia_wd_sdss4['wd_filepath'] = ['' for i in range(len(ms_gaia_wd_sdss4))]\n",
    "ms_gaia_wd_sdss4['ms_filepath'] = ['' for i in range(len(ms_gaia_wd_sdss4))]\n",
    "ms_gaia_wd_sdss4['uses_sdss5'] = np.zeros(len(ms_gaia_wd_sdss4))\n",
    "ms_gaia_wd_sdss4['wd_rv_from'] = ['sdss4' for i in range(len(ms_gaia_wd_sdss4))]\n",
    "ms_gaia_wd_sdss4['ms_rv_from'] = ['gaia' for i in range(len(ms_gaia_wd_sdss4))]\n",
    "ms_gaia_wd_sdss4['wd_rv'] = 999*np.ones(len(ms_gaia_wd_sdss4))\n",
    "ms_gaia_wd_sdss4['wd_e_rv'] = 999*np.ones(len(ms_gaia_wd_sdss4))\n",
    "\n",
    "ms_sdss4_wd_sdss4['wd_filepath'] = ['' for i in range(len(ms_sdss4_wd_sdss4))]\n",
    "ms_sdss4_wd_sdss4['ms_filepath'] = ['' for i in range(len(ms_sdss4_wd_sdss4))]\n",
    "ms_sdss4_wd_sdss4['uses_sdss5'] = np.zeros(len(ms_sdss4_wd_sdss4))\n",
    "ms_sdss4_wd_sdss4['wd_rv_from'] = ['sdss4' for i in range(len(ms_sdss4_wd_sdss4))]\n",
    "ms_sdss4_wd_sdss4['ms_rv_from'] = ['sdss4' for i in range(len(ms_sdss4_wd_sdss4))]\n",
    "ms_sdss4_wd_sdss4['wd_rv'] = 999*np.ones(len(ms_sdss4_wd_sdss4))\n",
    "ms_sdss4_wd_sdss4['wd_e_rv'] = 999*np.ones(len(ms_sdss4_wd_sdss4))\n",
    "\n",
    "ms_gaia_wd_sdss4 = unique(ms_gaia_wd_sdss4, keys = 'wd_source_id')\n",
    "ms_sdss4_wd_sdss4 = unique(ms_sdss4_wd_sdss4, keys = 'wd_source_id')\n",
    "\n",
    "ms_gaia_wd_sdss4.write('data/ms_gaia_wd_sdss4.fits', overwrite = True)\n",
    "ms_sdss4_wd_sdss4.write('data/ms_sdss4_wd_sdss4.fits', overwrite = True)"
   ]
  },
  {
   "cell_type": "code",
   "execution_count": null,
   "id": "31c06996",
   "metadata": {
    "tags": []
   },
   "outputs": [],
   "source": [
    "ms_sdss5_wd_sdss4.write('sdss5/temp_ms_sdss5_wd_sdss4.fits', overwrite = True)"
   ]
  },
  {
   "cell_type": "code",
   "execution_count": null,
   "id": "654a8361",
   "metadata": {
    "tags": []
   },
   "outputs": [],
   "source": [
    "ms_sdss4_wd_sdss4"
   ]
  },
  {
   "cell_type": "code",
   "execution_count": null,
   "id": "b51e84a0",
   "metadata": {},
   "outputs": [],
   "source": [
    "print(len(ms_gaia_wd_sdss4))\n",
    "print(len(unique(ms_gaia_wd_sdss4, keys = 'wd_source_id')))\n",
    "\n",
    "print(len(ms_sdss4_wd_sdss4))\n",
    "print(len(unique(ms_sdss4_wd_sdss4, keys = 'wd_source_id')))"
   ]
  },
  {
   "cell_type": "code",
   "execution_count": null,
   "id": "c09fa069",
   "metadata": {},
   "outputs": [],
   "source": [
    "print(np.median(ms_gaia_wd_sdss4['wd_m_g']))"
   ]
  },
  {
   "cell_type": "code",
   "execution_count": null,
   "id": "f860d963",
   "metadata": {},
   "outputs": [],
   "source": []
  }
 ],
 "metadata": {
  "kernelspec": {
   "display_name": "Python 3 (ipykernel)",
   "language": "python",
   "name": "python3"
  },
  "language_info": {
   "codemirror_mode": {
    "name": "ipython",
    "version": 3
   },
   "file_extension": ".py",
   "mimetype": "text/x-python",
   "name": "python",
   "nbconvert_exporter": "python",
   "pygments_lexer": "ipython3",
   "version": "3.9.13"
  }
 },
 "nbformat": 4,
 "nbformat_minor": 5
}
