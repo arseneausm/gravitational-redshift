{
 "cells": [
  {
   "cell_type": "code",
   "execution_count": 1,
   "id": "0fc8c5b3",
   "metadata": {
    "tags": []
   },
   "outputs": [],
   "source": [
    "import numpy as np\n",
    "import sys\n",
    "sys.path.append('../corv/src')\n",
    "\n",
    "import matplotlib.pyplot as plt\n",
    "import matplotlib.colors as colors\n",
    "from astropy.io import fits\n",
    "from tqdm import tqdm\n",
    "import pandas as pd\n",
    "\n",
    "from astropy.table import Table, vstack, join\n",
    "from astropy import units as u\n",
    "from astropy.coordinates import SkyCoord\n",
    "\n",
    "### Query\n",
    "from astroquery.sdss import SDSS\n",
    "from astroquery.gaia import Gaia\n",
    "from astropy import constants as c\n"
   ]
  },
  {
   "cell_type": "code",
   "execution_count": 2,
   "id": "5dd2e166",
   "metadata": {
    "tags": []
   },
   "outputs": [
    {
     "name": "stderr",
     "output_type": "stream",
     "text": [
      "WARNING: UnitsWarning: 'log(cm.s**-2)' did not parse as fits unit: 'log' is not a recognized function If this is meant to be a custom unit, define it with 'u.def_unit'. To have it recognized inside a file reader or other code, enable it with 'u.add_enabled_units'. For details, see https://docs.astropy.org/en/latest/units/combining_and_defining.html [astropy.units.core]\n"
     ]
    },
    {
     "name": "stdout",
     "output_type": "stream",
     "text": [
      "22563\n"
     ]
    }
   ],
   "source": [
    "\"\"\"\n",
    "Load in the el-Badry dataset\n",
    "\"\"\"\n",
    "\n",
    "catalog = Table.read('data/elbadry.fits.gz')\n",
    "catalog = catalog[catalog['binary_type'] == b'WDMS']\n",
    "\n",
    "print(len(catalog))"
   ]
  },
  {
   "cell_type": "code",
   "execution_count": 3,
   "id": "73ced4df-6705-49b9-9ac7-4d739d3d8ced",
   "metadata": {
    "tags": []
   },
   "outputs": [
    {
     "name": "stdout",
     "output_type": "stream",
     "text": [
      "14685\n"
     ]
    }
   ],
   "source": [
    "print(len(catalog[catalog['R_chance_align'] < 0.01]))"
   ]
  },
  {
   "cell_type": "code",
   "execution_count": null,
   "id": "1e197825",
   "metadata": {
    "tags": []
   },
   "outputs": [],
   "source": [
    "def wd_sep(bp_rp):\n",
    "    return 3.25*bp_rp + 9.625\n",
    "\n",
    "wd_obj = []\n",
    "ms_obj = []\n",
    "drop = []\n",
    "\n",
    "for i in tqdm (range(len(catalog))):\n",
    "    mg1 = wd_sep(catalog['bp_rp1'][i])\n",
    "    mg2 = wd_sep(catalog['bp_rp2'][i])\n",
    "    \n",
    "    M1 = catalog['phot_g_mean_mag1'][i] + 5 * (np.log10(catalog['parallax1'][i] / 100))\n",
    "    M2 = catalog['phot_g_mean_mag2'][i] + 5 * (np.log10(catalog['parallax2'][i] / 100))\n",
    "    \n",
    "    if M1 > mg1 and M2 < mg2:\n",
    "        wd_obj.append(1)\n",
    "        ms_obj.append(2)\n",
    "    elif M2 > mg2 and M1 < mg1:\n",
    "        wd_obj.append(2)\n",
    "        ms_obj.append(1)\n",
    "    else:\n",
    "        drop.append(i)\n",
    "               \n",
    "catalog.remove_rows(drop)\n",
    "catalog['wd_obj'] = wd_obj\n",
    "catalog['ms_obj'] = ms_obj"
   ]
  },
  {
   "cell_type": "code",
   "execution_count": null,
   "id": "92922313",
   "metadata": {
    "tags": []
   },
   "outputs": [],
   "source": [
    "def separate(catalog, column, ms_obj, wd_obj, newname = ''):      \n",
    "    mstemp_arr = [ catalog[str(column) + str(ms_obj[i])][i] for i in range(len(ms_obj)) ]\n",
    "    wdtemp_arr = [ catalog[str(column) + str(wd_obj[i])][i] for i in range(len(wd_obj)) ]\n",
    "    \n",
    "    catalog['ms_' + str(column)] = mstemp_arr\n",
    "    catalog['wd_' + str(column)] = wdtemp_arr\n",
    "    return catalog\n",
    "\n",
    "### ---\n",
    "\n",
    "convert_cols = ['source_id', 'parallax', 'parallax_over_error', 'phot_g_mean_mag', 'phot_g_mean_flux',\n",
    "                'phot_g_mean_flux_error', 'phot_bp_mean_mag', 'phot_bp_mean_flux', 'phot_bp_mean_flux_error',\n",
    "                'phot_rp_mean_mag', 'phot_rp_mean_flux', 'phot_rp_mean_flux_error', 'bp_rp', 'ra', 'ra_error', 'dec', 'dec_error', 'l', 'b']\n",
    "\n",
    "for col in convert_cols:\n",
    "    catalog = separate(catalog, col, ms_obj, wd_obj)\n",
    "    \n",
    "catalog['wd_m_g'] = catalog['wd_phot_g_mean_mag'] + 5 * np.log10(catalog['wd_parallax'] / 100)\n",
    "catalog['ms_m_g'] = catalog['ms_phot_g_mean_mag'] + 5 * np.log10(catalog['ms_parallax'] / 100)"
   ]
  },
  {
   "cell_type": "code",
   "execution_count": null,
   "id": "cda9f6bb",
   "metadata": {
    "tags": []
   },
   "outputs": [],
   "source": [
    "plt.figure(figsize=(10,10))\n",
    "\n",
    "plt.scatter(catalog['ms_bp_rp'], catalog['ms_m_g'], label='Main Sequence', alpha = 0.5, s=5)\n",
    "plt.scatter(catalog['wd_bp_rp'], catalog['wd_m_g'], label='White Dwarf', alpha = 0.5, s=5)\n",
    "\n",
    "plt.ylabel(r'$M_G$')\n",
    "plt.xlabel(r'bp-rp')\n",
    "plt.title(r'CMD')\n",
    "plt.gca().invert_yaxis()\n",
    "xmin, xmax = plt.xlim()\n",
    "\n",
    "plt.plot(np.linspace(xmin, xmax, num=100), wd_sep(np.linspace(xmin, xmax, num=100)))\n",
    "\n",
    "#plt.savefig('plots/selection/wd_ms_cmd.png')\n",
    "\n",
    "plt.legend()\n",
    "plt.show()"
   ]
  },
  {
   "cell_type": "code",
   "execution_count": null,
   "id": "1b2b1c8c",
   "metadata": {
    "tags": []
   },
   "outputs": [],
   "source": [
    "catalog.write('data/00_base_catalog.fits', overwrite = True)"
   ]
  },
  {
   "cell_type": "code",
   "execution_count": null,
   "id": "bb77851d-859b-41e0-b3be-1463924a766d",
   "metadata": {
    "tags": []
   },
   "outputs": [],
   "source": [
    "print(catalog[catalog['wd_source_id'] == 3630648387747801088][['wd_source_id', 'wd_ra', 'wd_dec', 'ms_source_id', 'ms_ra', 'ms_dec']])\n",
    "print(catalog[catalog['wd_source_id'] == 3053811568108421504][['wd_source_id', 'wd_ra', 'wd_dec', 'ms_source_id', 'ms_ra', 'ms_dec']])\n",
    "\n",
    "print(np.where(catalog['wd_source_id'] == 3630648387747801088))\n",
    "print(np.where(catalog['wd_source_id'] == 3053811568108421504))\n",
    "\n",
    "gemini = catalog[[4484, 1554]]"
   ]
  },
  {
   "cell_type": "code",
   "execution_count": null,
   "id": "960e5c6e-9836-496c-8644-f26e09898de8",
   "metadata": {
    "tags": []
   },
   "outputs": [],
   "source": [
    "QUERY = \"\"\"select source_id, radial_velocity, radial_velocity_error\n",
    "    from gaiadr3.gaia_source\n",
    "    where source_id in {}\"\"\".format(tuple(gemini['ms_source_id']))\n",
    "rvs = Gaia.launch_job(QUERY,dump_to_file=False).get_results()\n",
    "rvs.rename_column('source_id', 'ms_source_id')\n",
    "\n",
    "gemini = join(gemini, rvs, keys='ms_source_id')"
   ]
  },
  {
   "cell_type": "code",
   "execution_count": null,
   "id": "86bdbda5-08f1-413f-9097-4708f82e8ca1",
   "metadata": {
    "tags": []
   },
   "outputs": [],
   "source": [
    "gemini.write('data/gemini.fits', overwrite=True)"
   ]
  },
  {
   "cell_type": "code",
   "execution_count": null,
   "id": "e97ed34b",
   "metadata": {
    "tags": []
   },
   "outputs": [],
   "source": [
    "from astropy.table import Table, vstack, hstack\n",
    "\n",
    "only_rvs = True\n",
    "\n",
    "stardats = []\n",
    "iters = len(catalog) // 100\n",
    "\n",
    "# MS Gaia Sources\n",
    "\n",
    "for i in tqdm(range(iters)):\n",
    "        ADQL_CODE1 = \"\"\"SELECT sdss.original_ext_source_id as ms_bestobjid, gaia.source_id as ms_source_id, gaia.radial_velocity, gaia.radial_velocity_error\n",
    "        FROM gaiadr3.gaia_source as gaia\n",
    "        JOIN gaiaedr3.sdssdr13_best_neighbour as sdss\n",
    "        ON gaia.source_id = sdss.source_id      \n",
    "        WHERE gaia.source_id in {} AND\n",
    "        radial_velocity IS NOT null AND\n",
    "        radial_velocity_error < 7\"\"\".format(tuple(catalog['ms_source_id'][100*i:100*i+100]))\n",
    "        stardats.append(Gaia.launch_job(ADQL_CODE1,dump_to_file=False).get_results())\n",
    "        \n",
    "gaia_d1 = vstack(stardats)\n",
    "\n",
    "# MS SDSS4 Sources\n",
    "\n",
    "for i in tqdm(range(iters)):\n",
    "    ADQL_CODE1 = \"\"\"SELECT sdss.original_ext_source_id as ms_bestobjid, gaia.source_id as ms_source_id, gaia.radial_velocity, gaia.radial_velocity_error\n",
    "    FROM gaiadr3.gaia_source as gaia\n",
    "    JOIN gaiaedr3.sdssdr13_best_neighbour as sdss\n",
    "    ON gaia.source_id = sdss.source_id      \n",
    "    WHERE gaia.source_id in {} AND\n",
    "    radial_velocity IS null\"\"\".format(tuple(catalog['ms_source_id'][100*i:100*i+100]))\n",
    "    stardats.append(Gaia.launch_job(ADQL_CODE1,dump_to_file=False).get_results())\n",
    "\n",
    "gd1 = vstack(stardats)\n",
    "\n",
    "stardats = []\n",
    "iters = len(gd1) // 100\n",
    "\n",
    "for i in tqdm(range(iters)):\n",
    "    SDSS_QUERY = \"\"\"select sp.bestObjID as ms_bestobjid, sp.plate as ms_plate, sp.mjd as ms_mjd, sp.fiberID as ms_fiberid, sp.instrument as ms_instrument\n",
    "        from dbo.SpecObjAll as sp\n",
    "        where sp.bestObjID in {}\"\"\".format(tuple(gd1['ms_bestobjid'][100*i:100*i+100]))\n",
    "    \n",
    "    f = SDSS.query_sql(SDSS_QUERY)\n",
    "    if f is not None:\n",
    "        stardats.append(SDSS.query_sql(SDSS_QUERY))\n",
    "\n",
    "sdss_d1 = vstack(stardats)\n",
    "try:\n",
    "    sdss_d1 = join(sdss_d1, gd1, keys = 'ms_bestobjid')\n",
    "except:\n",
    "    sdss_d1.rename_column('bestobjid', 'ms_bestobjid')\n",
    "    sdss_d1 = join(sdss_d1, gd1, keys = 'ms_bestobjid')"
   ]
  },
  {
   "cell_type": "code",
   "execution_count": null,
   "id": "a9c79814-4952-49f3-9b3e-56acc889e1f9",
   "metadata": {},
   "outputs": [],
   "source": [
    "gaia_d1['ms_instrument'] = ['gaia' for i in range(len(gaia_d1))]"
   ]
  },
  {
   "cell_type": "code",
   "execution_count": null,
   "id": "b39612df",
   "metadata": {},
   "outputs": [],
   "source": [
    "gaia_d1"
   ]
  },
  {
   "cell_type": "code",
   "execution_count": null,
   "id": "88b9f51b",
   "metadata": {
    "tags": []
   },
   "outputs": [],
   "source": [
    "sdss_d1"
   ]
  },
  {
   "cell_type": "code",
   "execution_count": null,
   "id": "757f5e4c",
   "metadata": {
    "tags": []
   },
   "outputs": [],
   "source": [
    "from astropy.table import Table, vstack, hstack, unique\n",
    "\n",
    "stardats = []\n",
    "iters = len(catalog) // 100\n",
    "\n",
    "for i in tqdm(range(iters)):\n",
    "    ADQL_CODE1 = \"\"\"SELECT sdss.original_ext_source_id as wd_bestobjid, gaia.source_id as wd_source_id\n",
    "    FROM gaiadr3.gaia_source as gaia\n",
    "    JOIN gaiaedr3.sdssdr13_best_neighbour as sdss\n",
    "    ON gaia.source_id = sdss.source_id      \n",
    "    WHERE gaia.source_id in {}\"\"\".format(tuple(catalog['wd_source_id'][100*i:100*i+100]))\n",
    "    stardats.append(Gaia.launch_job(ADQL_CODE1,dump_to_file=False).get_results())\n",
    "    \n",
    "gd2 = vstack(stardats)\n",
    "\n",
    "stardats = []\n",
    "iters = len(gd2) // 100\n",
    "\n",
    "for i in tqdm(range(iters)):\n",
    "    SDSS_QUERY = \"\"\"select sp.bestObjID as wd_bestobjid, sp.plate as wd_plate, sp.mjd as wd_mjd, sp.fiberID as wd_fiberid, sp.instrument as wd_instrument\n",
    "        from dbo.SpecObjAll as sp\n",
    "        where sp.bestObjID in {}\"\"\".format(tuple(gd2['wd_bestobjid'][100*i:100*i+100]))\n",
    "    try:\n",
    "        f = SDSS.query_sql(SDSS_QUERY)\n",
    "        if f is not None:\n",
    "            stardats.append(SDSS.query_sql(SDSS_QUERY))\n",
    "    except:\n",
    "        pass\n",
    "d2 = vstack(stardats)\n",
    "d2 = join(d2, gd2, keys = 'wd_bestobjid')\n",
    "d2 = unique(d2, keys = 'wd_bestobjid')"
   ]
  },
  {
   "cell_type": "code",
   "execution_count": null,
   "id": "8937620b",
   "metadata": {
    "tags": []
   },
   "outputs": [],
   "source": [
    "d2"
   ]
  },
  {
   "cell_type": "code",
   "execution_count": null,
   "id": "0064d114",
   "metadata": {
    "tags": []
   },
   "outputs": [],
   "source": [
    "try:\n",
    "    sdss_d1.rename_column('asplate', 'ms_plate')\n",
    "    sdss_d1.rename_column('asmjd', 'ms_mjd')\n",
    "    sdss_d1.rename_column('asfiberid', 'ms_fiberid')\n",
    "    sdss_d1.rename_column('asinstrument', 'ms_instrument')\n",
    "except:\n",
    "    pass"
   ]
  },
  {
   "cell_type": "code",
   "execution_count": null,
   "id": "e690eb84-4054-4cc4-be65-0ef1fb0f4a3c",
   "metadata": {
    "tags": []
   },
   "outputs": [],
   "source": [
    "sdss_d1"
   ]
  },
  {
   "cell_type": "code",
   "execution_count": null,
   "id": "2405c4d1",
   "metadata": {
    "tags": []
   },
   "outputs": [],
   "source": [
    "from astropy.table import Table, Column, MaskedColumn, join, unique\n"
   ]
  },
  {
   "cell_type": "code",
   "execution_count": null,
   "id": "890304d6",
   "metadata": {
    "tags": []
   },
   "outputs": [],
   "source": [
    "data = join(catalog, gaia_d1, keys = 'ms_source_id')\n",
    "ms_gaia_wd_sdss4 = join(data, d2, keys = 'wd_source_id', join_type = 'inner')\n",
    "\n",
    "data = join(catalog, sdss_d1, keys = 'ms_source_id')\n",
    "ms_sdss4_wd_sdss4 = join(data, d2, keys = 'wd_source_id', join_type = 'inner')\n",
    "\n",
    "ms_sdss5_wd_sdss4 = join(catalog, d2, keys = 'wd_source_id')"
   ]
  },
  {
   "cell_type": "code",
   "execution_count": null,
   "id": "c6b4cff6",
   "metadata": {},
   "outputs": [],
   "source": [
    "ms_gaia_wd_sdss4['wd_filepath'] = ['' for i in range(len(ms_gaia_wd_sdss4))]\n",
    "ms_gaia_wd_sdss4['ms_filepath'] = ['' for i in range(len(ms_gaia_wd_sdss4))]\n",
    "ms_gaia_wd_sdss4['uses_sdss5'] = np.zeros(len(ms_gaia_wd_sdss4))\n",
    "ms_gaia_wd_sdss4['wd_rv_from'] = ['sdss4' for i in range(len(ms_gaia_wd_sdss4))]\n",
    "ms_gaia_wd_sdss4['ms_rv_from'] = ['gaia' for i in range(len(ms_gaia_wd_sdss4))]\n",
    "ms_gaia_wd_sdss4['wd_rv'] = 999*np.ones(len(ms_gaia_wd_sdss4))\n",
    "ms_gaia_wd_sdss4['wd_e_rv'] = 999*np.ones(len(ms_gaia_wd_sdss4))\n",
    "\n",
    "ms_sdss4_wd_sdss4['wd_filepath'] = ['' for i in range(len(ms_sdss4_wd_sdss4))]\n",
    "ms_sdss4_wd_sdss4['ms_filepath'] = ['' for i in range(len(ms_sdss4_wd_sdss4))]\n",
    "ms_sdss4_wd_sdss4['uses_sdss5'] = np.zeros(len(ms_sdss4_wd_sdss4))\n",
    "ms_sdss4_wd_sdss4['wd_rv_from'] = ['sdss4' for i in range(len(ms_sdss4_wd_sdss4))]\n",
    "ms_sdss4_wd_sdss4['ms_rv_from'] = ['sdss4' for i in range(len(ms_sdss4_wd_sdss4))]\n",
    "ms_sdss4_wd_sdss4['wd_rv'] = 999*np.ones(len(ms_sdss4_wd_sdss4))\n",
    "ms_sdss4_wd_sdss4['wd_e_rv'] = 999*np.ones(len(ms_sdss4_wd_sdss4))\n",
    "\n",
    "ms_gaia_wd_sdss4 = unique(ms_gaia_wd_sdss4, keys = 'wd_source_id')\n",
    "ms_sdss4_wd_sdss4 = unique(ms_sdss4_wd_sdss4, keys = 'wd_source_id')\n",
    "\n",
    "ms_gaia_wd_sdss4.write('data/ms_gaia_wd_sdss4.fits', overwrite = True)\n",
    "ms_sdss4_wd_sdss4.write('data/ms_sdss4_wd_sdss4.fits', overwrite = True)"
   ]
  },
  {
   "cell_type": "code",
   "execution_count": null,
   "id": "31c06996",
   "metadata": {
    "tags": []
   },
   "outputs": [],
   "source": [
    "ms_sdss5_wd_sdss4.write('sdss5/temp_ms_sdss5_wd_sdss4.fits', overwrite = True)"
   ]
  },
  {
   "cell_type": "code",
   "execution_count": null,
   "id": "654a8361",
   "metadata": {
    "tags": []
   },
   "outputs": [],
   "source": [
    "ms_sdss4_wd_sdss4"
   ]
  },
  {
   "cell_type": "code",
   "execution_count": null,
   "id": "b51e84a0",
   "metadata": {},
   "outputs": [],
   "source": [
    "print(len(ms_gaia_wd_sdss4))\n",
    "print(len(unique(ms_gaia_wd_sdss4, keys = 'wd_source_id')))\n",
    "\n",
    "print(len(ms_sdss4_wd_sdss4))\n",
    "print(len(unique(ms_sdss4_wd_sdss4, keys = 'wd_source_id')))"
   ]
  },
  {
   "cell_type": "code",
   "execution_count": null,
   "id": "c09fa069",
   "metadata": {},
   "outputs": [],
   "source": [
    "print(np.median(ms_gaia_wd_sdss4['wd_m_g']))"
   ]
  },
  {
   "cell_type": "code",
   "execution_count": null,
   "id": "f860d963",
   "metadata": {},
   "outputs": [],
   "source": []
  }
 ],
 "metadata": {
  "kernelspec": {
   "display_name": "Python 3 (ipykernel)",
   "language": "python",
   "name": "python3"
  },
  "language_info": {
   "codemirror_mode": {
    "name": "ipython",
    "version": 3
   },
   "file_extension": ".py",
   "mimetype": "text/x-python",
   "name": "python",
   "nbconvert_exporter": "python",
   "pygments_lexer": "ipython3",
   "version": "3.9.7"
  }
 },
 "nbformat": 4,
 "nbformat_minor": 5
}
