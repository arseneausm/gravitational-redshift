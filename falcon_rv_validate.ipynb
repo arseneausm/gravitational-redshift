{
 "cells": [
  {
   "cell_type": "markdown",
   "id": "2112c945-c058-4fc1-9ca9-3e7775446afb",
   "metadata": {},
   "source": [
    "## Validation Of RV's\n",
    "---\n",
    "`corv` radial velocities were validated on the high-resolution spectra from Falcon, et.al **talk about validation and all that jazz once you get it done.**"
   ]
  },
  {
   "cell_type": "code",
   "execution_count": 2,
   "id": "2f0ee451-e784-4e95-88d4-a99825b92cc9",
   "metadata": {
    "collapsed": true,
    "jupyter": {
     "outputs_hidden": true,
     "source_hidden": true
    },
    "tags": []
   },
   "outputs": [
    {
     "name": "stdout",
     "output_type": "stream",
     "text": [
      "using local paths\n",
      "star and exposure catalogs not found! check paths and run make_catalogs() if you want to use sdss functionality. otherwise ignore.\n"
     ]
    }
   ],
   "source": [
    "# Install a pip package in the current Jupyter kernel\n",
    "import sys\n",
    "import os\n",
    "sys.path.append('../../')\n",
    "sys.path.append('../../wdtools')\n",
    "sys.path.append('../../WD_models')\n",
    "sys.path.append('../../corv/src')\n",
    "\n",
    "\n",
    "### General\n",
    "import numpy as np\n",
    "import matplotlib.pyplot as plt\n",
    "import matplotlib.colors as colors\n",
    "\n",
    "import astropy\n",
    "from astropy.coordinates import SkyCoord\n",
    "from astropy.io import fits\n",
    "import astropy.units as u\n",
    "from astropy.table import Table, Column, MaskedColumn, join\n",
    "\n",
    "from tqdm import tqdm\n",
    "import pandas as pd\n",
    "from scipy.optimize import curve_fit\n",
    "import scipy.stats as stats\n",
    "\n",
    "### Tools\n",
    "import wdtools\n",
    "import WD_models\n",
    "import data_selector as ds\n",
    "import WD_models\n",
    "from bisect import bisect_left\n",
    "import lmfit\n",
    "import glob\n",
    "\n",
    "from astroquery.sdss import SDSS\n",
    "from astroquery.gaia import Gaia\n",
    "\n",
    "import corv\n",
    "\n",
    "#corv.sdss.make_catalogs()"
   ]
  },
  {
   "cell_type": "code",
   "execution_count": 6,
   "id": "cde49793-5ac4-44f9-a902-fcde91ad9bbe",
   "metadata": {},
   "outputs": [],
   "source": [
    "c = 2.998e10\n",
    "k = 1.38e-16\n",
    "h = 6.626e-27\n",
    "halpha = 6564.61\n",
    "hbeta = 4862.68\n",
    "hgamma = 4341.68\n",
    "hdelta = 4102.89\n",
    "speed_light = 299792458 #m/s\n",
    "radius_sun = 6.957e8\n",
    "mass_sun = 1.9884e30\n",
    "newton_G = 6.674e-11\n",
    "pc_to_m = 3.086775e16"
   ]
  },
  {
   "cell_type": "code",
   "execution_count": 4,
   "id": "c056f0ee-ad70-473d-baac-81025335b913",
   "metadata": {},
   "outputs": [],
   "source": [
    "from astropy.coordinates import SkyCoord\n",
    "import astropy.units as u\n",
    "from astropy.table import Table, join_skycoord\n",
    "from astropy import table\n",
    "\n",
    "catalog = Table.read('../data/vedanta/wd_catalog.fits')\n",
    "falcon = Table.read('../data/falcon2010.fit')\n",
    "\n",
    "falcon['loc'] = SkyCoord(ra=falcon['_RA'], dec=falcon['_DE'])\n",
    "catalog['loc'] = SkyCoord(ra=catalog['ra']*u.deg, dec=catalog['dec']*u.deg)\n",
    "\n",
    "join_func = table.join_skycoord(5 * u.arcsecond)\n",
    "catalog = table.join(catalog, falcon, join_funcs={'loc': join_skycoord(5 * u.arcsec)})\n",
    "\n",
    "from astropy.table import unique, Table\n",
    "\n",
    "catalog = unique(catalog, keys = ['loc_id'])"
   ]
  },
  {
   "cell_type": "code",
   "execution_count": 5,
   "id": "58e45d8f-164f-46c2-86ed-3d6d94a3dbde",
   "metadata": {},
   "outputs": [],
   "source": [
    "catalog['corv_rv'] = -9999 * np.ones(len(catalog))\n",
    "catalog['corv_erv'] = -9999 * np.ones(len(catalog))"
   ]
  },
  {
   "cell_type": "code",
   "execution_count": 8,
   "id": "fa069343-f54a-4bc1-9fda-f535aeb21f1a",
   "metadata": {},
   "outputs": [
    {
     "name": "stdout",
     "output_type": "stream",
     "text": [
      "['loc_id', 'dist', 'solution_id', 'designation', 'source_id', 'random_index', 'ref_epoch', 'ra', 'ra_error', 'dec', 'dec_error', 'parallax', 'parallax_error', 'parallax_over_error', 'pmra', 'pmra_error', 'pmdec', 'pmdec_error', 'ra_dec_corr', 'ra_parallax_corr', 'ra_pmra_corr', 'ra_pmdec_corr', 'dec_parallax_corr', 'dec_pmra_corr', 'dec_pmdec_corr', 'parallax_pmra_corr', 'parallax_pmdec_corr', 'pmra_pmdec_corr', 'astrometric_n_obs_al', 'astrometric_n_obs_ac', 'astrometric_n_good_obs_al', 'astrometric_n_bad_obs_al', 'astrometric_gof_al', 'astrometric_chi2_al', 'astrometric_excess_noise', 'astrometric_excess_noise_sig', 'astrometric_params_solved', 'astrometric_primary_flag', 'astrometric_weight_al', 'astrometric_pseudo_colour', 'astrometric_pseudo_colour_error', 'mean_varpi_factor_al', 'astrometric_matched_observations', 'visibility_periods_used', 'astrometric_sigma5d_max', 'frame_rotator_object_type', 'matched_observations', 'duplicated_source', 'phot_g_n_obs', 'phot_g_mean_flux', 'phot_g_mean_flux_error', 'phot_g_mean_flux_over_error', 'phot_g_mean_mag', 'phot_bp_n_obs', 'phot_bp_mean_flux', 'phot_bp_mean_flux_error', 'phot_bp_mean_flux_over_error', 'phot_bp_mean_mag', 'phot_rp_n_obs', 'phot_rp_mean_flux', 'phot_rp_mean_flux_error', 'phot_rp_mean_flux_over_error', 'phot_rp_mean_mag', 'phot_bp_rp_excess_factor', 'phot_proc_mode', 'bp_rp', 'bp_g', 'g_rp', 'radial_velocity', 'radial_velocity_error', 'rv_nb_transits', 'rv_template_teff', 'rv_template_logg', 'rv_template_fe_h', 'phot_variable_flag', 'l', 'b', 'ecl_lon', 'ecl_lat', 'priam_flags', 'col_p_m_f', 'ra_dec', 'sng', 'u', 'su', 'g', 'sg', 'r', 'sr', 'i', 'si', 'z', 'sz', 'ebv', 'ppm', 'tp', 'teff', 'dt', 'logg', 'dlogg', 'vr', 'dvr', 's_n', 'dt_sp_', 'd_pc_', 'z_pc_', 'mass', 'dmass', 't3d', 'logg3d', 'r_est', 'r_lo', 'r_hi', 'r_len', 'result_flag', 'modality_flag', 'loc_1', '_Glon', '_Glat', '_RAJ2000', '_DEJ2000', 'Name', 'DA', 'Adp-V', 'e_Adp-V', 'Obs', 'LSR-V', 'Ha-V', 'e_Ha-V', 'Hb-V', 'e_Hb-V', 'Obs-V', 'e_Obs-V', 'Simbad', '_RA', '_DE', 'loc_2', 'corv_rv', 'corv_erv']\n"
     ]
    }
   ],
   "source": [
    "print(catalog.keys())"
   ]
  },
  {
   "cell_type": "code",
   "execution_count": null,
   "id": "5de75054-b225-4167-8332-87ea2cb0d88f",
   "metadata": {},
   "outputs": [
    {
     "name": "stderr",
     "output_type": "stream",
     "text": [
      "  0%|                                                                                    | 0/53 [00:00<?, ?it/s]"
     ]
    },
    {
     "name": "stdout",
     "output_type": "stream",
     "text": [
      "starting...\n"
     ]
    },
    {
     "name": "stderr",
     "output_type": "stream",
     "text": [
      "  2%|█▍                                                                       | 1/53 [03:01<2:36:58, 181.13s/it]"
     ]
    },
    {
     "name": "stdout",
     "output_type": "stream",
     "text": [
      "The chain is shorter than 50 times the integrated autocorrelation time for 1 parameter(s). Use this estimate with caution and run a longer chain!\n",
      "N/50 = 20;\n",
      "tau: [28.50685843]\n",
      "final params:\n",
      "[[Fit Statistics]]\n",
      "    # fitting method   = emcee\n",
      "    # function evals   = 50000\n",
      "    # data points      = 629\n",
      "    # variables        = 1\n",
      "    chi-square         = 635.6865\n",
      "    reduced chi-square = 1.01223969\n",
      "    Akaike info crit   = 8.65123310\n",
      "    Bayesian info crit = 13.0953644\n",
      "[[Variables]]\n",
      "    teff:  15028 (fixed)\n",
      "    logg:  8.141378 (fixed)\n",
      "    RV:    49.2505762 +/- 4.41809810 (8.97%) (init = 35.76215)\n",
      "    res:   1 (fixed)\n",
      "rv init: 35.76214965099458\n",
      "52.0\n",
      "starting...\n"
     ]
    },
    {
     "name": "stderr",
     "output_type": "stream",
     "text": [
      "  4%|██▊                                                                      | 2/53 [06:18<2:41:50, 190.40s/it]"
     ]
    },
    {
     "name": "stdout",
     "output_type": "stream",
     "text": [
      "The chain is shorter than 50 times the integrated autocorrelation time for 1 parameter(s). Use this estimate with caution and run a longer chain!\n",
      "N/50 = 20;\n",
      "tau: [25.05103951]\n",
      "final params:\n",
      "[[Fit Statistics]]\n",
      "    # fitting method   = emcee\n",
      "    # function evals   = 50000\n",
      "    # data points      = 629\n",
      "    # variables        = 1\n",
      "    chi-square         = 446.22858\n",
      "    reduced chi-square = 0.71055506\n",
      "    Akaike info crit   = -213.935657\n",
      "    Bayesian info crit = -209.491526\n",
      "[[Variables]]\n",
      "    teff:  12374 (fixed)\n",
      "    logg:  7.948931 (fixed)\n",
      "    RV:    47.0451926 +/- 5.26668173 (11.19%) (init = 31.91642)\n",
      "    res:   1 (fixed)\n",
      "rv init: 31.916421711584547\n",
      "49.0\n",
      "starting...\n"
     ]
    },
    {
     "name": "stderr",
     "output_type": "stream",
     "text": [
      "  6%|████▏                                                                    | 3/53 [09:32<2:40:14, 192.30s/it]"
     ]
    },
    {
     "name": "stdout",
     "output_type": "stream",
     "text": [
      "The chain is shorter than 50 times the integrated autocorrelation time for 1 parameter(s). Use this estimate with caution and run a longer chain!\n",
      "N/50 = 20;\n",
      "tau: [24.75824146]\n",
      "final params:\n",
      "[[Fit Statistics]]\n",
      "    # fitting method   = emcee\n",
      "    # function evals   = 50000\n",
      "    # data points      = 629\n",
      "    # variables        = 1\n",
      "    chi-square         = 2989.1917\n",
      "    reduced chi-square = 4.75985932\n",
      "    Akaike info crit   = 982.376397\n",
      "    Bayesian info crit = 986.820528\n",
      "[[Variables]]\n",
      "    teff:  17567 (fixed)\n",
      "    logg:  8.585886 (fixed)\n",
      "    RV:   -0.28577355 +/- 2.75959274 (965.66%) (init = 3.084499)\n",
      "    res:   1 (fixed)\n",
      "rv init: 3.0844985461896846\n",
      "7.0\n",
      "starting...\n"
     ]
    },
    {
     "name": "stderr",
     "output_type": "stream",
     "text": [
      "  8%|█████▌                                                                   | 4/53 [12:38<2:34:53, 189.67s/it]"
     ]
    },
    {
     "name": "stdout",
     "output_type": "stream",
     "text": [
      "The chain is shorter than 50 times the integrated autocorrelation time for 1 parameter(s). Use this estimate with caution and run a longer chain!\n",
      "N/50 = 20;\n",
      "tau: [21.78582881]\n",
      "final params:\n",
      "[[Fit Statistics]]\n",
      "    # fitting method   = emcee\n",
      "    # function evals   = 50000\n",
      "    # data points      = 629\n",
      "    # variables        = 1\n",
      "    chi-square         = 517.3214\n",
      "    reduced chi-square = 0.82376021\n",
      "    Akaike info crit   = -120.948674\n",
      "    Bayesian info crit = -116.504543\n",
      "[[Variables]]\n",
      "    teff:  16823 (fixed)\n",
      "    logg:  8.667584 (fixed)\n",
      "    RV:    56.9219986 +/- 4.87996951 (8.57%) (init = 56.30615)\n",
      "    res:   1 (fixed)\n",
      "rv init: 56.30614899272348\n",
      "69.0\n",
      "starting...\n"
     ]
    },
    {
     "name": "stderr",
     "output_type": "stream",
     "text": [
      "  9%|██████▉                                                                  | 5/53 [15:36<2:28:28, 185.60s/it]"
     ]
    },
    {
     "name": "stdout",
     "output_type": "stream",
     "text": [
      "The chain is shorter than 50 times the integrated autocorrelation time for 1 parameter(s). Use this estimate with caution and run a longer chain!\n",
      "N/50 = 20;\n",
      "tau: [33.85903294]\n",
      "final params:\n",
      "[[Fit Statistics]]\n",
      "    # fitting method   = emcee\n",
      "    # function evals   = 50000\n",
      "    # data points      = 629\n",
      "    # variables        = 1\n",
      "    chi-square         = 354.16278\n",
      "    reduced chi-square = 0.56395347\n",
      "    Akaike info crit   = -359.281634\n",
      "    Bayesian info crit = -354.837503\n",
      "[[Variables]]\n",
      "    teff:  33443 (fixed)\n",
      "    logg:  7.751415 (fixed)\n",
      "    RV:    57.7253671 +/- 5.39966155 (9.35%) (init = 81.16269)\n",
      "    res:   1 (fixed)\n",
      "rv init: 81.16268575089379\n",
      "58.0\n",
      "starting...\n",
      "The chain is shorter than 50 times the integrated autocorrelation time for 1 parameter(s). Use this estimate with caution and run a longer chain!\n",
      "N/50 = 20;\n",
      "tau: [20.1576517]\n",
      "final params:\n",
      "[[Fit Statistics]]\n",
      "    # fitting method   = emcee\n",
      "    # function evals   = 50000\n",
      "    # data points      = 629\n",
      "    # variables        = 1\n",
      "    chi-square         = 1036.8347\n",
      "    reduced chi-square = 1.65101070\n",
      "    Akaike info crit   = 316.372032\n",
      "    Bayesian info crit = 320.816163\n",
      "[[Variables]]\n",
      "    teff:  18328 (fixed)\n",
      "    logg:  8.922923 (fixed)\n",
      "    RV:    45.8703296 +/- 5.49065346 (11.97%) (init = 48.59436)\n",
      "    res:   1 (fixed)\n",
      "rv init: 48.59436108248351\n",
      "59.0\n"
     ]
    },
    {
     "name": "stderr",
     "output_type": "stream",
     "text": [
      " 11%|████████▎                                                                | 6/53 [18:49<2:27:15, 187.99s/it]"
     ]
    },
    {
     "name": "stdout",
     "output_type": "stream",
     "text": [
      "starting...\n"
     ]
    }
   ],
   "source": [
    "for j in tqdm( range(len(catalog[:200]))):\n",
    "    p,m,f = np.array(catalog['col_p_m_f'][j].split('-')).astype(float)\n",
    "    \n",
    "    try:\n",
    "        xid = SDSS.query_specobj(plate = p, mjd = m, fiberID = f)\n",
    "    except ValueError:\n",
    "        print('unknown error')\n",
    "        \n",
    "    if xid == None:\n",
    "        print('object not found in SDSS... skipping...')\n",
    "        continue\n",
    "    try:\n",
    "        sp = SDSS.get_spectra(matches=xid)\n",
    "    except:\n",
    "        print('http error')\n",
    "        continue\n",
    "    for i in range(len(sp[0:1])):\n",
    "        wl = np.array(10**sp[i][1].data['loglam'])\n",
    "        fl = np.array(sp[i][1].data['flux'])\n",
    "        ivar = np.array(sp[i][1].data['ivar'])\n",
    "        \n",
    "        corvmodel = corv.models.make_koester_model(names = ['a','b','g','d'])\n",
    "        param_res, rv_res, rv_init = corv.fit.fit_corv(wl, fl, ivar, corvmodel, teff = catalog['teff'][j])\n",
    "        print(catalog['vr'][j])\n",
    "        \n",
    "    catalog['corv_rv'][j] = (rv_res.params['RV'].value)\n",
    "    catalog['corv_erv'][j] = (rv_res.params['RV'].stderr)"
   ]
  },
  {
   "cell_type": "code",
   "execution_count": null,
   "id": "8a3d6564-e6d4-4e2d-87e2-730075cde7ab",
   "metadata": {},
   "outputs": [],
   "source": []
  }
 ],
 "metadata": {
  "kernelspec": {
   "display_name": "Python 3 (ipykernel)",
   "language": "python",
   "name": "python3"
  },
  "language_info": {
   "codemirror_mode": {
    "name": "ipython",
    "version": 3
   },
   "file_extension": ".py",
   "mimetype": "text/x-python",
   "name": "python",
   "nbconvert_exporter": "python",
   "pygments_lexer": "ipython3",
   "version": "3.8.3"
  }
 },
 "nbformat": 4,
 "nbformat_minor": 5
}
