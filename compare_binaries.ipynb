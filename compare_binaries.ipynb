{
 "cells": [
  {
   "cell_type": "code",
   "execution_count": 31,
   "id": "8939927b-2f01-4283-ad37-ba5eb7273743",
   "metadata": {},
   "outputs": [],
   "source": [
    "# Install a pip package in the current Jupyter kernel\n",
    "import sys\n",
    "sys.path.append('../wdtools')\n",
    "\n",
    "### General\n",
    "import numpy as np\n",
    "import matplotlib.pyplot as plt\n",
    "import matplotlib.colors as colors\n",
    "from astropy.io import fits\n",
    "from tqdm import tqdm\n",
    "import pandas as pd\n",
    "\n",
    "### Query\n",
    "from astropy.io import fits\n",
    "import wdtools"
   ]
  },
  {
   "cell_type": "code",
   "execution_count": 32,
   "id": "989f2a04-7ad4-4641-982e-fe74740b44ef",
   "metadata": {},
   "outputs": [],
   "source": [
    "wide_binaries = pd.read_csv('data/wide_binaries.csv')"
   ]
  },
  {
   "cell_type": "code",
   "execution_count": 33,
   "id": "9d3bf77e-ddd4-41cb-afe3-a98aeac94f7e",
   "metadata": {},
   "outputs": [
    {
     "name": "stderr",
     "output_type": "stream",
     "text": [
      "100%|██████████████████████████████████████████████████████████████████████████████████| 33/33 [01:17<00:00,  2.35s/it]\n"
     ]
    }
   ],
   "source": [
    "import time\n",
    "\n",
    "wd_flux = []\n",
    "wd_wavelength = []\n",
    "wd_ivar = []\n",
    "\n",
    "ms_flux = []\n",
    "ms_wavelength = []\n",
    "ms_ivar = []\n",
    "\n",
    "for i in tqdm( range(len(wide_binaries))):\n",
    "    try:\n",
    "        wd_spec = fits.open(wide_binaries['url'][i], allow_insecure=True)\n",
    "        ms_spec = fits.open(wide_binaries['mainseq_url'][i], allow_insecure=True)\n",
    "        \n",
    "        wd_flux.append(wd_spec[1].data['flux'])\n",
    "        wd_wavelength.append(10**wd_spec[1].data['loglam'])\n",
    "        wd_ivar.append(wd_spec[1].data['ivar'])\n",
    "        \n",
    "        ms_flux.append(ms_spec[1].data['flux'])\n",
    "        ms_wavelength.append(10**ms_spec[1].data['loglam'])\n",
    "        ms_ivar.append(ms_spec[1].data['ivar'])\n",
    "        \n",
    "        time.sleep(2)\n",
    "    except:\n",
    "        pass"
   ]
  },
  {
   "cell_type": "code",
   "execution_count": null,
   "id": "55498ebb-a043-4d25-a199-26046ed3b68c",
   "metadata": {},
   "outputs": [],
   "source": []
  },
  {
   "cell_type": "code",
   "execution_count": 34,
   "id": "f5dd5178-0172-41f6-9fad-c43bbe8bc2c6",
   "metadata": {},
   "outputs": [
    {
     "name": "stderr",
     "output_type": "stream",
     "text": [
      "100%|██████████████████████████████████████████████████████████████████████████████████| 28/28 [08:53<00:00, 19.04s/it]\n"
     ]
    }
   ],
   "source": [
    "sp = wdtools.SpecTools()\n",
    "h_alpha = 6562.79\n",
    "\n",
    "wd_rv = []\n",
    "wd_e_rv = []\n",
    "\n",
    "ms_rv = []\n",
    "ms_e_rv = []\n",
    "\n",
    "for i in tqdm(range(len(wd_flux))):\n",
    "    wrv, e_rv = sp.get_line_rv(wd_wavelength[i], wd_flux[i], wd_ivar[i], centroid = h_alpha,\n",
    "                          distance = 100, edge = 15,\n",
    "                          nmodel = 2, plot = False)\n",
    "    mrv, e_rv = sp.get_line_rv(ms_wavelength[i], ms_flux[i], ms_ivar[i], centroid = h_alpha,\n",
    "                          distance = 100, edge = 15,\n",
    "                          nmodel = 2, plot = False)\n",
    "\n",
    "    wd_rv.append(wrv)\n",
    "    wd_e_rv.append(e_rv)\n",
    "    \n",
    "    ms_rv.append(mrv)\n",
    "    ms_e_rv.append(ms_e_rv)\n",
    "    "
   ]
  },
  {
   "cell_type": "code",
   "execution_count": 35,
   "id": "b70787eb-578a-4476-8d59-4fc2622ce2d0",
   "metadata": {},
   "outputs": [
    {
     "name": "stdout",
     "output_type": "stream",
     "text": [
      "[108.08080808080805, 120.20202020202018, 148.48484848484847, 714.1414141414141, 166.66666666666657, 182.82828282828285, 158.58585858585857, 120.20202020202018, 110.10101010101008, 144.44444444444446, 31.313131313131265, 51.51515151515136, 49.49494949494934, 134.3434343434342, 120.20202020202018, -1100.0, -31.31313131313138, 89.89898989898975, 130.30303030303017, 150.5050505050505, 102.020202020202, 166.66666666666657, 59.59595959595944, -59.595959595959656, 190.9090909090909, 108.08080808080805, 944.4444444444443, 162.62626262626253]\n",
      "[146.46464646464648, 168.68686868686856, 128.28282828282815, 156.56565656565655, 152.5252525252525, -25.252525252525317, -358.5858585858586, -449.49494949494954, 128.28282828282815, 196.96969696969697, 67.67676767676764, 53.53535353535338, 43.43434343434329, -605.0505050505051, 120.20202020202018, 108.08080808080805, 19.19191919191914, 106.06060606060605, -1100.0, -857.5757575757576, -1100.0, -1100.0, -207.07070707070704, 122.2222222222221, 247.4747474747474, -1.0101010101010672, 99.99999999999986, 944.4444444444443]\n",
      "[[  -38.38383838   -48.48484848    20.2020202    557.57575758\n",
      "     14.14141414   208.08080808   517.17171717   569.6969697\n",
      "    -18.18181818   -52.52525253   -36.36363636    -2.02020202\n",
      "      6.06060606   739.39393939     0.         -1208.08080808\n",
      "    -50.50505051   -16.16161616  1230.3030303   1008.08080808\n",
      "   1202.02020202  1266.66666667   266.66666667  -181.81818182\n",
      "    -56.56565657   109.09090909   844.44444444  -781.81818182]]\n"
     ]
    }
   ],
   "source": [
    "print(wd_rv)\n",
    "print(ms_rv)\n",
    "print(np.array([wd_rv]) - np.array([ms_rv]))"
   ]
  },
  {
   "cell_type": "code",
   "execution_count": 36,
   "id": "eb51cf9e-609e-4c78-b726-f03685088de0",
   "metadata": {},
   "outputs": [
    {
     "name": "stdout",
     "output_type": "stream",
     "text": [
      "[[  -38.38383838   -48.48484848    20.2020202    557.57575758\n",
      "     14.14141414   208.08080808   517.17171717   569.6969697\n",
      "    -18.18181818   -52.52525253   -36.36363636    -2.02020202\n",
      "      6.06060606   739.39393939     0.         -1208.08080808\n",
      "    -50.50505051   -16.16161616  1230.3030303   1008.08080808\n",
      "   1202.02020202  1266.66666667   266.66666667  -181.81818182\n",
      "    -56.56565657   109.09090909   844.44444444  -781.81818182]]\n"
     ]
    }
   ],
   "source": [
    "print(np.array([wd_rv]) - np.array([ms_rv]))"
   ]
  },
  {
   "cell_type": "code",
   "execution_count": null,
   "id": "5eeec8fd-f46f-4964-8a98-20e8bbfcac07",
   "metadata": {},
   "outputs": [],
   "source": []
  }
 ],
 "metadata": {
  "kernelspec": {
   "display_name": "Python 3 (ipykernel)",
   "language": "python",
   "name": "python3"
  },
  "language_info": {
   "codemirror_mode": {
    "name": "ipython",
    "version": 3
   },
   "file_extension": ".py",
   "mimetype": "text/x-python",
   "name": "python",
   "nbconvert_exporter": "python",
   "pygments_lexer": "ipython3",
   "version": "3.9.7"
  }
 },
 "nbformat": 4,
 "nbformat_minor": 5
}
